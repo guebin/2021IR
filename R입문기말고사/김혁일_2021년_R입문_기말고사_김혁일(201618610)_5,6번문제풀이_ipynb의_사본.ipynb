{
  "cells": [
    {
      "cell_type": "markdown",
      "id": "cd0b452a-d6b0-4bb5-945a-f88ef93a7f89",
      "metadata": {
        "tags": [],
        "id": "cd0b452a-d6b0-4bb5-945a-f88ef93a7f89"
      },
      "source": [
        "# 2021년 1학기 R입문 기말고사 김혁일(201618610) 5,6번문제풀이 (ver 1.00)\n",
        "\n",
        "- toc:false\n",
        "- branch: master\n",
        "- badges: true\n",
        "- comments: true\n",
        "- author: 최규빈"
      ]
    },
    {
      "cell_type": "code",
      "execution_count": 1,
      "id": "a27abf35-cdef-4797-a470-e479ecad2a93",
      "metadata": {
        "tags": [],
        "id": "a27abf35-cdef-4797-a470-e479ecad2a93"
      },
      "outputs": [],
      "source": [
        "#hide\n",
        "#options(jupyter.rich_display=FALSE)\n",
        "options(repr.plot.width=6,repr.plot.height=6,repr.plot.res=150)\n",
        "options(max.print=1000)"
      ]
    },
    {
      "cell_type": "markdown",
      "id": "0dacb1a1-85b1-4361-88e2-6877d9b8e87d",
      "metadata": {
        "id": "0dacb1a1-85b1-4361-88e2-6877d9b8e87d"
      },
      "source": [
        "**의미가 모호한 문제는 질문할것**\n",
        "\n",
        "**필요한 패키지는 스스로 로드하여 사용할 것** "
      ]
    },
    {
      "cell_type": "markdown",
      "id": "21a0f600-e9bc-4909-b9e8-ca4c2900b20f",
      "metadata": {
        "id": "21a0f600-e9bc-4909-b9e8-ca4c2900b20f"
      },
      "source": [
        "## `1`. 회귀분석 (35점) "
      ]
    },
    {
      "cell_type": "markdown",
      "id": "317e056c-4165-4222-a637-0c6ac78ee201",
      "metadata": {
        "id": "317e056c-4165-4222-a637-0c6ac78ee201"
      },
      "source": [
        "아래와 같은 수식을 고려하자. \n",
        "\n",
        "$$y_i= 1.5+ 5\\sin(t_i)+ 3 \\cos(4 t_i)+\\epsilon_i, \\quad i=1,2,\\dots, 1000$$\n",
        "\n",
        "여기에서 $t_i=\\frac{2\\pi i}{1000}$ 이다. 그리고 $\\epsilon_i \\sim i.i.d~ N(0,1)$, 즉 서로 독립인 표준정규분포에서 추출된 샘플이다. "
      ]
    },
    {
      "cell_type": "markdown",
      "id": "620fd982-09c7-49ee-8faf-926bd5a09dd2",
      "metadata": {
        "id": "620fd982-09c7-49ee-8faf-926bd5a09dd2"
      },
      "source": [
        "#### `(1)` `rnorm()`을 이용하여 $\\{\\epsilon_i \\}_{i=1}^{1000}$ 을 만들고 이를 벡터로 만들어라. 즉 아래와 같은 벡터를 생성하라. \n",
        "\n",
        "- $\\boldsymbol{\\epsilon}=(\\epsilon_1,\\dots,\\epsilon_{1000})$"
      ]
    },
    {
      "cell_type": "markdown",
      "id": "dd52f507-e2b6-4f65-a06c-2ee05620db5a",
      "metadata": {
        "id": "dd52f507-e2b6-4f65-a06c-2ee05620db5a"
      },
      "source": [
        "#### `(2)` $\\big\\{\\sin(t_i) \\big\\}_{i=1}^{1000}$와 $\\big\\{\\cos(4t_i) \\big\\}_{i=1}^{1000}$를 각각 생성하고 이를 ${\\bf x}_1$와 ${\\bf x}_2$에 저장하라. 즉 아래와 같은 2개의 벡터를 생성하라. \n",
        "- ${\\bf x}_1=\\big(\\sin(\\frac{2\\pi}{1000}),\\sin(\\frac{4\\pi}{1000}),\\dots,\\sin(2\\pi)\\big)$\n",
        "- ${\\bf x}_2=\\big(\\cos(\\frac{8\\pi}{1000}),\\cos(\\frac{16\\pi}{1000}),\\dots,\\cos(8\\pi)\\big)$"
      ]
    },
    {
      "cell_type": "markdown",
      "id": "a04cf768-c251-49b2-b75c-227703917abc",
      "metadata": {
        "id": "a04cf768-c251-49b2-b75c-227703917abc"
      },
      "source": [
        "#### `(3)` (1),(2)로 부터 $y_i$를 계산하고, $(t_i,y_i)$를 scatter plot으로 시각화 하라. 색은 'gray60'을 사용하라. 시각화 예시는 아래와 같다. "
      ]
    },
    {
      "cell_type": "markdown",
      "id": "fb516585-3317-43ac-80d2-867a5953e203",
      "metadata": {
        "id": "fb516585-3317-43ac-80d2-867a5953e203"
      },
      "source": [
        "![](https://github.com/guebin/2021IR/blob/master/_notebooks/final_fig1.png?raw=true)"
      ]
    },
    {
      "cell_type": "markdown",
      "id": "2aa97a6f-5be5-4dab-9ffd-cb05cafa1057",
      "metadata": {
        "id": "2aa97a6f-5be5-4dab-9ffd-cb05cafa1057"
      },
      "source": [
        "#### `(4)` 두 벡터 ${\\bf x}_1$, ${\\bf x}_2$와 `cbind()`를 이용하여 아래와 같은 $1000 \\times 3$ 매트릭스 ${\\bf X}$를 만들어라. "
      ]
    },
    {
      "cell_type": "markdown",
      "id": "1a7a9102-3f73-495b-9232-38d1a6a5d979",
      "metadata": {
        "id": "1a7a9102-3f73-495b-9232-38d1a6a5d979"
      },
      "source": [
        "$${\\bf X}=\\begin{bmatrix}\n",
        "1 & \\sin(\\frac{2\\pi}{1000}) & \\cos(\\frac{8\\pi}{1000})\\\\ \n",
        "1 & \\sin(\\frac{4\\pi}{1000}) & \\cos(\\frac{16\\pi}{1000})\\\\ \n",
        "\\dots & \\dots  & \\dots \\\\ \n",
        "1 & \\sin(2\\pi) & \\cos(8\\pi)\\\\ \n",
        "\\end{bmatrix} $$ "
      ]
    },
    {
      "cell_type": "markdown",
      "id": "d09a138b-47fe-479b-a04e-3043d2c3ba86",
      "metadata": {
        "id": "d09a138b-47fe-479b-a04e-3043d2c3ba86"
      },
      "source": [
        "#### `(5)` $3 \\times 1$ 매트릭스 $\\boldsymbol{\\beta}=\\begin{bmatrix} 1.5 \\\\ 5 \\\\ 3 \\end{bmatrix}$를 만들고 매트릭스 곱을 이용하여 ${\\bf X} {\\boldsymbol \\beta}$를 계산하라. 계산결과를 벡터화하고 (3)의 $y$축에 붉은선으로 시각화 하라. 시각화 예시는 아래와 같다. (필요하다면 적절하게 선의 굵기를 조정할 것) "
      ]
    },
    {
      "cell_type": "markdown",
      "id": "99111d0a-5dbc-42db-81f5-b216f9f907db",
      "metadata": {
        "id": "99111d0a-5dbc-42db-81f5-b216f9f907db"
      },
      "source": [
        "![](https://github.com/guebin/2021IR/blob/master/_notebooks/final_fig2.png?raw=true)"
      ]
    },
    {
      "cell_type": "markdown",
      "id": "bd53c3f9-ec49-413b-93fc-4b30c9cf6081",
      "metadata": {
        "tags": [],
        "id": "bd53c3f9-ec49-413b-93fc-4b30c9cf6081"
      },
      "source": [
        "#### `(6)` 아래의 수식을 이용하여 $\\boldsymbol{\\hat\\beta}$를 계산하고 계산결과를 $\\boldsymbol{\\beta}$와 비교하라. \n",
        "\n",
        "$$ \\boldsymbol{\\hat\\beta} = ({\\bf X}^\\top {\\bf X})^{-1}{\\bf X}^\\top {\\bf y}$$ "
      ]
    },
    {
      "cell_type": "markdown",
      "id": "eacf1fac-403a-49d0-961a-8275b1446a60",
      "metadata": {
        "id": "eacf1fac-403a-49d0-961a-8275b1446a60"
      },
      "source": [
        "여기에서 ${\\bf X}$와 ${\\bf y}$는 각각 아래와 같다. \n",
        "\n",
        "- ${\\bf X}=\\begin{bmatrix}\n",
        "1 & \\sin(\\frac{2\\pi}{1000}) & \\cos(\\frac{8\\pi}{1000})\\\\ \n",
        "1 & \\sin(\\frac{8\\pi}{1000}) & \\cos(\\frac{16\\pi}{1000})\\\\ \n",
        "\\dots & \\dots  & \\dots \\\\ \n",
        "1 & \\sin(2\\pi) & \\cos(8\\pi)\\\\ \n",
        "\\end{bmatrix}$,  $\\quad {\\bf y}=\\begin{bmatrix} y_1\\\\ y_2\\\\ \\dots \\\\ y_{1000}\\\\ \\end{bmatrix}$"
      ]
    },
    {
      "cell_type": "markdown",
      "id": "5c9c3816-5af7-46f2-9680-b0e97e729789",
      "metadata": {
        "id": "5c9c3816-5af7-46f2-9680-b0e97e729789"
      },
      "source": [
        "또한 ${\\bf X}^\\top$는 ${\\bf X}$의 전치행렬(transpose) 그리고 $({\\bf X}^\\top {\\bf X})^{-1}$은 ${\\bf X}^\\top {\\bf X}$의 역행렬을 의미한다. "
      ]
    },
    {
      "cell_type": "markdown",
      "id": "8f836f58-cb7d-4b0e-9e6c-612030446856",
      "metadata": {
        "id": "8f836f58-cb7d-4b0e-9e6c-612030446856"
      },
      "source": [
        "#### `(7)` ${\\bf X}\\boldsymbol{\\hat\\beta}$를 계산하라. 계산결과를 벡터화 하고 (5)의 시각화 결과에 푸른점선으로 시각화 하라. 시각화 예시는 아래와 같다. (필요하다면 적절하게 선의 굵기를 조정할 것) "
      ]
    },
    {
      "cell_type": "markdown",
      "id": "e2bdb6c4-fa29-4f07-8c50-5531fc325059",
      "metadata": {
        "id": "e2bdb6c4-fa29-4f07-8c50-5531fc325059"
      },
      "source": [
        "![](https://github.com/guebin/2021IR/blob/master/_notebooks/final_fig3.png?raw=true)"
      ]
    },
    {
      "cell_type": "markdown",
      "id": "743acaff-fba8-4bdd-83a0-9bff1bd4805c",
      "metadata": {
        "id": "743acaff-fba8-4bdd-83a0-9bff1bd4805c"
      },
      "source": [
        "## `2`. 몬테카를로 적분 (10점)\n",
        "\n",
        "#### `(1)` $\\int_{-1.96}^{1.96}\\frac{1}{\\sqrt{2\\pi}}e^{-\\frac{1}{2}x^2}dx$의 값을 `runif()`를 이용한 몬테카를로 적분으로 계산하라. "
      ]
    },
    {
      "cell_type": "markdown",
      "id": "feb55d2e-1824-4ada-b0fc-a2c5e934c5c1",
      "metadata": {
        "tags": [],
        "id": "feb55d2e-1824-4ada-b0fc-a2c5e934c5c1"
      },
      "source": [
        "#### `(2)` `rnorm()`을 이용하여 표준정규분포에서 1000개의 확률변수를 생성하고 생성된 확률변수들 중 구간 $(-1.96 , 1.96)$사이에 있는 확률변수를 count하라. "
      ]
    },
    {
      "cell_type": "markdown",
      "id": "b37287d2-025e-4aaa-bb88-435403610185",
      "metadata": {
        "id": "b37287d2-025e-4aaa-bb88-435403610185"
      },
      "source": [
        "## `3`. 징검다리 (10점)"
      ]
    },
    {
      "cell_type": "markdown",
      "id": "e0280e4f-623f-4e31-a524-fe8dd78b33b1",
      "metadata": {
        "id": "e0280e4f-623f-4e31-a524-fe8dd78b33b1"
      },
      "source": [
        "10명의 참가자가 (유리,강화유리)의 쌍으로 이루어진 징검다리를 건너는 게임을 시작한다. (유리,강화유리)의 쌍은 총 20개 있다. 따라서 유리는 총 40장이 있다. 참가자는 강화유리로 된 징검다리를 밟으면 살아남지만 유리로 된 징검다리를 밟으면 죽는다. 10명의 참가자의 특징은 아래와 같다. \n",
        "\n",
        "- 1번~8번 참가자, 10번 참가자: 50퍼센트의 확률로 강화유리를 고를 수 있다. \n",
        "- 9번 참가자: 95퍼센트의 확률로 강화유리를 고를 수 있다. \n",
        "\n",
        "다리를 건너는 순서는 아래와 같이 번호의 오름차순으로 건너는 방법과 번호의 내림차순으로 건너는 2가지 방법이 있다고 하자. \n",
        "\n",
        "- Type A: 10번 참가자부터 다리를 건너고 그 뒤로 9번, 8번, ... 1번 순으로 다리를 건넌다. \n",
        "- Type B: 1번 참가자부터 다리를 건너고 그 뒤로 2번, 3번, ... 10번 순으로 다리를 건넌다. \n",
        "\n",
        "8번 참가자는 Type A 와 Type B 중 어떠한 경우에 살아남을 확률이 높은가? "
      ]
    },
    {
      "cell_type": "markdown",
      "id": "73fcbaef-2059-453e-95f5-3b7084b07bc5",
      "metadata": {
        "id": "73fcbaef-2059-453e-95f5-3b7084b07bc5"
      },
      "source": [
        "## `4`. COVID19 (15점)"
      ]
    },
    {
      "cell_type": "markdown",
      "id": "dd6dcd9d-22f0-46cb-96ea-6f4f1705b749",
      "metadata": {
        "id": "dd6dcd9d-22f0-46cb-96ea-6f4f1705b749"
      },
      "source": [
        "아래는 한국의 코로나확진자 발생수를 tibble로 불러오는 코드와 그 결과이다. "
      ]
    },
    {
      "cell_type": "code",
      "execution_count": null,
      "id": "a9beee8e-2bbc-452d-919e-2d225c1f0777",
      "metadata": {
        "id": "a9beee8e-2bbc-452d-919e-2d225c1f0777",
        "outputId": "9deeb280-b36b-4830-8d68-0dd2dd421e24"
      },
      "outputs": [
        {
          "name": "stderr",
          "output_type": "stream",
          "text": [
            "\u001b[1mRows: \u001b[22m\u001b[34m12294\u001b[39m \u001b[1mColumns: \u001b[22m\u001b[34m5\u001b[39m\n",
            "\n",
            "\u001b[36m──\u001b[39m \u001b[1mColumn specification\u001b[22m \u001b[36m────────────────────────────────────────────────────────\u001b[39m\n",
            "\u001b[1mDelimiter:\u001b[22m \",\"\n",
            "\u001b[31mchr\u001b[39m (1): prov\n",
            "\u001b[32mdbl\u001b[39m (4): year, month, day, cases\n",
            "\n",
            "\n",
            "\u001b[36mℹ\u001b[39m Use \u001b[30m\u001b[47m\u001b[30m\u001b[47m`spec()`\u001b[47m\u001b[30m\u001b[49m\u001b[39m to retrieve the full column specification for this data.\n",
            "\u001b[36mℹ\u001b[39m Specify the column types or set \u001b[30m\u001b[47m\u001b[30m\u001b[47m`show_col_types = FALSE`\u001b[47m\u001b[30m\u001b[49m\u001b[39m to quiet this message.\n",
            "\n"
          ]
        },
        {
          "data": {
            "text/html": [
              "<table class=\"dataframe\">\n",
              "<caption>A tibble: 6 × 5</caption>\n",
              "<thead>\n",
              "\t<tr><th scope=col>year</th><th scope=col>month</th><th scope=col>day</th><th scope=col>prov</th><th scope=col>cases</th></tr>\n",
              "\t<tr><th scope=col>&lt;dbl&gt;</th><th scope=col>&lt;dbl&gt;</th><th scope=col>&lt;dbl&gt;</th><th scope=col>&lt;chr&gt;</th><th scope=col>&lt;dbl&gt;</th></tr>\n",
              "</thead>\n",
              "<tbody>\n",
              "\t<tr><td>2020</td><td>1</td><td>20</td><td>서울</td><td>0</td></tr>\n",
              "\t<tr><td>2020</td><td>1</td><td>20</td><td>부산</td><td>0</td></tr>\n",
              "\t<tr><td>2020</td><td>1</td><td>20</td><td>대구</td><td>0</td></tr>\n",
              "\t<tr><td>2020</td><td>1</td><td>20</td><td>인천</td><td>1</td></tr>\n",
              "\t<tr><td>2020</td><td>1</td><td>20</td><td>광주</td><td>0</td></tr>\n",
              "\t<tr><td>2020</td><td>1</td><td>20</td><td>대전</td><td>0</td></tr>\n",
              "</tbody>\n",
              "</table>\n"
            ],
            "text/latex": [
              "A tibble: 6 × 5\n",
              "\\begin{tabular}{lllll}\n",
              " year & month & day & prov & cases\\\\\n",
              " <dbl> & <dbl> & <dbl> & <chr> & <dbl>\\\\\n",
              "\\hline\n",
              "\t 2020 & 1 & 20 & 서울 & 0\\\\\n",
              "\t 2020 & 1 & 20 & 부산 & 0\\\\\n",
              "\t 2020 & 1 & 20 & 대구 & 0\\\\\n",
              "\t 2020 & 1 & 20 & 인천 & 1\\\\\n",
              "\t 2020 & 1 & 20 & 광주 & 0\\\\\n",
              "\t 2020 & 1 & 20 & 대전 & 0\\\\\n",
              "\\end{tabular}\n"
            ],
            "text/markdown": [
              "\n",
              "A tibble: 6 × 5\n",
              "\n",
              "| year &lt;dbl&gt; | month &lt;dbl&gt; | day &lt;dbl&gt; | prov &lt;chr&gt; | cases &lt;dbl&gt; |\n",
              "|---|---|---|---|---|\n",
              "| 2020 | 1 | 20 | 서울 | 0 |\n",
              "| 2020 | 1 | 20 | 부산 | 0 |\n",
              "| 2020 | 1 | 20 | 대구 | 0 |\n",
              "| 2020 | 1 | 20 | 인천 | 1 |\n",
              "| 2020 | 1 | 20 | 광주 | 0 |\n",
              "| 2020 | 1 | 20 | 대전 | 0 |\n",
              "\n"
            ],
            "text/plain": [
              "  year month day prov cases\n",
              "1 2020 1     20  서울 0    \n",
              "2 2020 1     20  부산 0    \n",
              "3 2020 1     20  대구 0    \n",
              "4 2020 1     20  인천 1    \n",
              "5 2020 1     20  광주 0    \n",
              "6 2020 1     20  대전 0    "
            ]
          },
          "metadata": {},
          "output_type": "display_data"
        }
      ],
      "source": [
        "df=read_csv('https://raw.githubusercontent.com/guebin/2021IR/master/_notebooks/covid19.csv')\n",
        "head(df)"
      ]
    },
    {
      "cell_type": "markdown",
      "id": "d0e96a57-a0a1-4be6-9743-78bb9007e0bf",
      "metadata": {
        "jp-MarkdownHeadingCollapsed": true,
        "tags": [],
        "id": "d0e96a57-a0a1-4be6-9743-78bb9007e0bf"
      },
      "source": [
        "#### `(1)` 2020년의 확진자(cases)총합과 2021년의 확진자(cases)총합을 구하라. "
      ]
    },
    {
      "cell_type": "markdown",
      "id": "709adf3e-9747-49ab-a28d-6bc014195e29",
      "metadata": {
        "tags": [],
        "id": "709adf3e-9747-49ab-a28d-6bc014195e29"
      },
      "source": [
        "#### `(2)` 2020년 2월1일 ~ 2020년 2월15일까지의 기간동안 확진자의 합을 지역별로 나누어 구하라 (아래예시 참고). 가장 많은 확진자가 발견된 지역은 어디인가? "
      ]
    },
    {
      "cell_type": "markdown",
      "id": "9eabba75-e486-439b-aa24-c7bc95e19112",
      "metadata": {
        "id": "9eabba75-e486-439b-aa24-c7bc95e19112"
      },
      "source": [
        "즉 아래를 각각 계산하고 2020년 2월1일 ~ 2020년 2월15일 기간동안 발생한 확진자의 합이 가장 큰 지역을 찾으면 된다. \n",
        "\n",
        "- 2020년2월1일 ~ 2020년2월15일 기간 서울에서 발생한 확진자의 합 = 2020년2월1일 서울에서 발생한 확진자수 + ... + 2020년2월15일 서울에서 발생한 확진자수\n",
        "- ...\n",
        "- 2020년2월1일 ~ 2020년2월15일 기간 제주에서 발생한 확진자의 합 = 2020년2월1일 제주에서 발생한 확진자수 + ... + 2020년2월15일 제주에서 발생한 확진자수"
      ]
    },
    {
      "cell_type": "markdown",
      "id": "ed5aa778-7796-4ae6-815e-dbbbe25a0dbe",
      "metadata": {
        "id": "ed5aa778-7796-4ae6-815e-dbbbe25a0dbe"
      },
      "source": [
        "#### `(3)` 2020년 2월16일 ~ 2020년 2월29일까지의 기간동안 확진자의 총합을 지역별로 나누어 구하라 (아래예시 참고). 가장 많은 확진자가 발견된 지역은 어디인가?"
      ]
    },
    {
      "cell_type": "markdown",
      "id": "f0598204-3b09-4b3f-a875-0679c29d74e7",
      "metadata": {
        "id": "f0598204-3b09-4b3f-a875-0679c29d74e7"
      },
      "source": [
        "즉 아래를 각각 계산하고 2020년 2월16일 ~ 2020년 2월29일 기간동안 발생한 확진자의 합이 가장 큰 지역을 찾으면 된다. \n",
        "\n",
        "- 2020년2월16일 ~ 2020년2월29일 기간 서울에서 발생한 확진자의 합 = 2020년2월16일 서울에서 발생한 확진자수 + ... + 2020년2월29일 서울에서 발생한 확진자수\n",
        "- ...\n",
        "- 2020년2월16일 ~ 2020년2월29일 기간 제주에서 발생한 확진자의 합 = 2020년2월16일 제주에서 발생한 확진자수 + ... + 2020년2월29일 제주에서 발생한 확진자수"
      ]
    },
    {
      "cell_type": "markdown",
      "id": "224b4143-8f5b-43aa-a723-84187e7cfa37",
      "metadata": {
        "id": "224b4143-8f5b-43aa-a723-84187e7cfa37"
      },
      "source": [
        "## `5`. 다음을 잘 읽고 물음에 답하라. (10점)"
      ]
    },
    {
      "cell_type": "code",
      "source": [
        "library(tidyverse)"
      ],
      "metadata": {
        "colab": {
          "base_uri": "https://localhost:8080/"
        },
        "id": "zdMrABvz3tPs",
        "outputId": "116ba0ee-0457-428c-c4eb-81e9b2de0531"
      },
      "id": "zdMrABvz3tPs",
      "execution_count": 2,
      "outputs": [
        {
          "output_type": "stream",
          "name": "stderr",
          "text": [
            "Warning message in system(\"timedatectl\", intern = TRUE):\n",
            "“running command 'timedatectl' had status 1”\n",
            "── \u001b[1mAttaching packages\u001b[22m ─────────────────────────────────────── tidyverse 1.3.1 ──\n",
            "\n",
            "\u001b[32m✔\u001b[39m \u001b[34mggplot2\u001b[39m 3.3.5     \u001b[32m✔\u001b[39m \u001b[34mpurrr  \u001b[39m 0.3.4\n",
            "\u001b[32m✔\u001b[39m \u001b[34mtibble \u001b[39m 3.1.6     \u001b[32m✔\u001b[39m \u001b[34mdplyr  \u001b[39m 1.0.7\n",
            "\u001b[32m✔\u001b[39m \u001b[34mtidyr  \u001b[39m 1.1.4     \u001b[32m✔\u001b[39m \u001b[34mstringr\u001b[39m 1.4.0\n",
            "\u001b[32m✔\u001b[39m \u001b[34mreadr  \u001b[39m 2.1.0     \u001b[32m✔\u001b[39m \u001b[34mforcats\u001b[39m 0.5.1\n",
            "\n",
            "── \u001b[1mConflicts\u001b[22m ────────────────────────────────────────── tidyverse_conflicts() ──\n",
            "\u001b[31m✖\u001b[39m \u001b[34mdplyr\u001b[39m::\u001b[32mfilter()\u001b[39m masks \u001b[34mstats\u001b[39m::filter()\n",
            "\u001b[31m✖\u001b[39m \u001b[34mdplyr\u001b[39m::\u001b[32mlag()\u001b[39m    masks \u001b[34mstats\u001b[39m::lag()\n",
            "\n"
          ]
        }
      ]
    },
    {
      "cell_type": "markdown",
      "id": "60833008-ae1c-4a00-b6bc-70cb3ee831f6",
      "metadata": {
        "jp-MarkdownHeadingCollapsed": true,
        "tags": [],
        "id": "60833008-ae1c-4a00-b6bc-70cb3ee831f6"
      },
      "source": [
        "#### `(1)` cumprod 함수를 이용하여 $7!=7\\times 6 \\times 5 \\times \\dots \\times 1$을 계산하라. "
      ]
    },
    {
      "cell_type": "code",
      "source": [
        ""
      ],
      "metadata": {
        "id": "qrxiC2hN4Xu3"
      },
      "id": "qrxiC2hN4Xu3",
      "execution_count": null,
      "outputs": []
    },
    {
      "cell_type": "markdown",
      "id": "c78c6221-b283-43c7-a126-5dec505c68ec",
      "metadata": {
        "id": "c78c6221-b283-43c7-a126-5dec505c68ec"
      },
      "source": [
        "#### `(2)` $\\sum_{n=0}^{\\infty}\\frac{n}{n!}$의 값을 근사적으로 계산하라. 계산결과를 exp(1)과 비교하라. "
      ]
    },
    {
      "cell_type": "code",
      "source": [
        "n = (0:1000)\n",
        "sum(n/factorial(n))\n",
        "exp(1) #거의 비슷하다."
      ],
      "metadata": {
        "colab": {
          "base_uri": "https://localhost:8080/",
          "height": 52
        },
        "id": "bE_tG86X4dY-",
        "outputId": "c6d4ec1d-e4b9-4bd8-ff23-38235337dbbd"
      },
      "id": "bE_tG86X4dY-",
      "execution_count": 15,
      "outputs": [
        {
          "output_type": "display_data",
          "data": {
            "text/plain": [
              "[1] 2.718282"
            ],
            "text/latex": "2.71828182845905",
            "text/markdown": "2.71828182845905",
            "text/html": [
              "2.71828182845905"
            ]
          },
          "metadata": {}
        },
        {
          "output_type": "display_data",
          "data": {
            "text/plain": [
              "[1] 2.718282"
            ],
            "text/latex": "2.71828182845905",
            "text/markdown": "2.71828182845905",
            "text/html": [
              "2.71828182845905"
            ]
          },
          "metadata": {}
        }
      ]
    },
    {
      "cell_type": "markdown",
      "id": "fb37132c-7ead-474c-8da8-6d27e33b0b0a",
      "metadata": {
        "tags": [],
        "id": "fb37132c-7ead-474c-8da8-6d27e33b0b0a"
      },
      "source": [
        "#### `(3)` 표준정규분포에서 1000개의 난수를 생성발생시킨 뒤 0보다 큰 수를 세어보라. "
      ]
    },
    {
      "cell_type": "code",
      "source": [
        "x_<- rnorm(1000)\n",
        "dim(x_) = c(1000,1)\n",
        "x_ = as.tibble(x_)\n",
        "x__ = x_ %>% filter(0<x_)\n",
        "dim(x__)#행의 개수가 0보다 큰 수의 개수다."
      ],
      "metadata": {
        "colab": {
          "base_uri": "https://localhost:8080/",
          "height": 34
        },
        "id": "npzYK1Ti3iBm",
        "outputId": "032abd3d-582b-4b5b-b3ac-759f12ba5caa"
      },
      "id": "npzYK1Ti3iBm",
      "execution_count": 8,
      "outputs": [
        {
          "output_type": "display_data",
          "data": {
            "text/plain": [
              "[1] 499   1"
            ],
            "text/latex": "\\begin{enumerate*}\n\\item 499\n\\item 1\n\\end{enumerate*}\n",
            "text/markdown": "1. 499\n2. 1\n\n\n",
            "text/html": [
              "<style>\n",
              ".list-inline {list-style: none; margin:0; padding: 0}\n",
              ".list-inline>li {display: inline-block}\n",
              ".list-inline>li:not(:last-child)::after {content: \"\\00b7\"; padding: 0 .5ex}\n",
              "</style>\n",
              "<ol class=list-inline><li>499</li><li>1</li></ol>\n"
            ]
          },
          "metadata": {}
        }
      ]
    },
    {
      "cell_type": "markdown",
      "id": "cb8ae7c8-4aec-4538-a305-67626417b60a",
      "metadata": {
        "id": "cb8ae7c8-4aec-4538-a305-67626417b60a"
      },
      "source": [
        "#### `(4)` $p=0.2$인 베르누이분포에서 1000개의 난수를 만들면 1이 몇개정도 포함되는가? 시뮬레이션을 통하여 검증하라."
      ]
    },
    {
      "cell_type": "code",
      "source": [
        "sum(rbinom(1000,size = 1,prob = 0.2))#약200개 정도 포함된다. "
      ],
      "metadata": {
        "colab": {
          "base_uri": "https://localhost:8080/",
          "height": 34
        },
        "id": "-LWqHDTF5zQH",
        "outputId": "46e164f3-477e-48dc-b741-5a3943644152"
      },
      "id": "-LWqHDTF5zQH",
      "execution_count": 19,
      "outputs": [
        {
          "output_type": "display_data",
          "data": {
            "text/plain": [
              "[1] 206"
            ],
            "text/latex": "206",
            "text/markdown": "206",
            "text/html": [
              "206"
            ]
          },
          "metadata": {}
        }
      ]
    },
    {
      "cell_type": "markdown",
      "id": "e416ebdb-1db2-44ae-8c06-ab2c9033fea7",
      "metadata": {
        "id": "e416ebdb-1db2-44ae-8c06-ab2c9033fea7"
      },
      "source": [
        "#### `(5)` 아래는 표준정규분포, 즉 평균이 0이고 표준편차가 1인 정규분포에서 1000개의 난수를 생성하여 $x$라는 변수에 저장한뒤 $x$의 히스토그램을 그린 예시이다. 아래의 예시를 이용하여 평균이 1이고 표준편차가 1인 정규분포에서 5000개의 난수를 생성한뒤 $y$에 저장하고 $y$의 히스토그램을 그려라. 시각화 예시는 아래와 같다. "
      ]
    },
    {
      "cell_type": "code",
      "execution_count": null,
      "id": "9b5dfb2d-3b2a-4769-bf1c-bdedc5536625",
      "metadata": {
        "id": "9b5dfb2d-3b2a-4769-bf1c-bdedc5536625"
      },
      "outputs": [],
      "source": [
        "x=rnorm(1000)\n",
        "hist(x)"
      ]
    },
    {
      "cell_type": "code",
      "source": [
        "y = rnorm(5000,1)\n",
        "hist(y)"
      ],
      "metadata": {
        "colab": {
          "base_uri": "https://localhost:8080/",
          "height": 467
        },
        "id": "8i-M7gsr6hy8",
        "outputId": "e6ef85d3-b979-4e71-8568-9fcd87910291"
      },
      "id": "8i-M7gsr6hy8",
      "execution_count": 23,
      "outputs": [
        {
          "output_type": "display_data",
          "data": {
            "image/png": "[encoded data removed]",
            "text/plain": [
              "Plot with title “Histogram of y”"
            ]
          },
          "metadata": {
            "image/png": {
              "width": 450,
              "height": 450
            }
          }
        }
      ]
    },
    {
      "cell_type": "markdown",
      "id": "2f3df486-8f37-42ed-b142-1371e265d0a4",
      "metadata": {
        "id": "2f3df486-8f37-42ed-b142-1371e265d0a4"
      },
      "source": [
        "#### `(6)` 아래와 같은 벡터 x에서 짝수번째 원소 (즉 x[2],x[4],$\\dots$,x[2000])의 합을 구하는 코드를 작성하라 "
      ]
    },
    {
      "cell_type": "code",
      "execution_count": 32,
      "id": "02dbd2f9-e678-4bbd-b6d2-5358e8a5d67c",
      "metadata": {
        "id": "02dbd2f9-e678-4bbd-b6d2-5358e8a5d67c",
        "colab": {
          "base_uri": "https://localhost:8080/",
          "height": 34
        },
        "outputId": "88c7400a-30a0-4821-ffa0-4422a3123abb"
      },
      "outputs": [
        {
          "output_type": "display_data",
          "data": {
            "text/plain": [
              "[1] 0"
            ],
            "text/latex": "0",
            "text/markdown": "0",
            "text/html": [
              "0"
            ]
          },
          "metadata": {}
        }
      ],
      "source": [
        "x=-1000:1000/1000\n",
        "i_ <- c()\n",
        "for (i in 1:1000){\n",
        "    i_[i] <- 2*i\n",
        "}\n",
        "sum(x[i_])"
      ]
    },
    {
      "cell_type": "markdown",
      "id": "1148aa17-27a7-458d-b4f7-e1af562351f7",
      "metadata": {
        "id": "1148aa17-27a7-458d-b4f7-e1af562351f7"
      },
      "source": [
        "#### `(7)` 2021년 A씨의 연봉은 5000이다. 매년 연봉은 3%씩 오른다고 하자. 2030년 A씨의 연봉은 얼마인가? "
      ]
    },
    {
      "cell_type": "code",
      "source": [
        "a <- 5000\n",
        "for (i in 1:9){\n",
        "  a <- 1.03*a\n",
        "}\n",
        "a #약 6523.8만원이다."
      ],
      "metadata": {
        "colab": {
          "base_uri": "https://localhost:8080/",
          "height": 34
        },
        "id": "nqGjSjJX8BZg",
        "outputId": "6a23accb-8db2-4057-b6ba-de6e339cf8bc"
      },
      "id": "nqGjSjJX8BZg",
      "execution_count": 33,
      "outputs": [
        {
          "output_type": "display_data",
          "data": {
            "text/plain": [
              "[1] 6523.866"
            ],
            "text/latex": "6523.86591914622",
            "text/markdown": "6523.86591914622",
            "text/html": [
              "6523.86591914622"
            ]
          },
          "metadata": {}
        }
      ]
    },
    {
      "cell_type": "markdown",
      "id": "ac8212d6-cf8b-4fe2-8c17-eae8bc015819",
      "metadata": {
        "id": "ac8212d6-cf8b-4fe2-8c17-eae8bc015819"
      },
      "source": [
        "#### `(8)` 임의의 입력 $x$에 대하여 아래를 만족하는 함수를 선언하라. "
      ]
    },
    {
      "cell_type": "markdown",
      "id": "328e404d-e10d-41ac-b453-a77edcf3eff6",
      "metadata": {
        "id": "328e404d-e10d-41ac-b453-a77edcf3eff6"
      },
      "source": [
        "- $x >0$: $\\log (x)$를 계산하여 출력 \n",
        "- $x =0$: print(\"음의 무한대\")\n",
        "- $x <0$: print(\"x는 양수이어야 합니다.\")"
      ]
    },
    {
      "cell_type": "code",
      "source": [
        "x =-1\n",
        "if (x>0){\n",
        "    print(log(x))\n",
        "}else{\n",
        "    if(x==0){\n",
        "        print('음의 무한대')\n",
        "        }else{ \n",
        "        print('x는 양수이어야 합니다.')\n",
        "    }\n",
        "} "
      ],
      "metadata": {
        "colab": {
          "base_uri": "https://localhost:8080/"
        },
        "id": "g7zs4KeJ8mpm",
        "outputId": "2fe69ecb-548f-4ccd-aab4-d5d845d14417"
      },
      "id": "g7zs4KeJ8mpm",
      "execution_count": 37,
      "outputs": [
        {
          "output_type": "stream",
          "name": "stdout",
          "text": [
            "[1] \"x는 양수이어야 합니다.\"\n"
          ]
        }
      ]
    },
    {
      "cell_type": "markdown",
      "id": "750e263a-5dcc-48c8-bd17-7ff67034f15b",
      "metadata": {
        "id": "750e263a-5dcc-48c8-bd17-7ff67034f15b"
      },
      "source": [
        "#### `(9)` 아래와 같은 데이터프레임이 있다고 하자. "
      ]
    },
    {
      "cell_type": "code",
      "execution_count": 38,
      "id": "a120373f-07df-4a12-9816-b2fddde62c74",
      "metadata": {
        "id": "a120373f-07df-4a12-9816-b2fddde62c74",
        "outputId": "0e7e3480-2772-4a3d-dd8d-ebce7bff2f1e",
        "colab": {
          "base_uri": "https://localhost:8080/",
          "height": 286
        }
      },
      "outputs": [
        {
          "output_type": "display_data",
          "data": {
            "text/plain": [
              "  X1         X2        \n",
              "1 -0.9986502 -0.3582975\n",
              "2 -0.0392059 -2.3060855\n",
              "3 -2.2423846  1.6129826\n",
              "4  2.0777238  2.3327612\n",
              "5 -1.2689295  1.2876990\n",
              "6 -0.3509253  0.2560549"
            ],
            "text/latex": "A tibble: 6 × 2\n\\begin{tabular}{ll}\n X1 & X2\\\\\n <dbl> & <dbl>\\\\\n\\hline\n\t -0.9986502 & -0.3582975\\\\\n\t -0.0392059 & -2.3060855\\\\\n\t -2.2423846 &  1.6129826\\\\\n\t  2.0777238 &  2.3327612\\\\\n\t -1.2689295 &  1.2876990\\\\\n\t -0.3509253 &  0.2560549\\\\\n\\end{tabular}\n",
            "text/markdown": "\nA tibble: 6 × 2\n\n| X1 &lt;dbl&gt; | X2 &lt;dbl&gt; |\n|---|---|\n| -0.9986502 | -0.3582975 |\n| -0.0392059 | -2.3060855 |\n| -2.2423846 |  1.6129826 |\n|  2.0777238 |  2.3327612 |\n| -1.2689295 |  1.2876990 |\n| -0.3509253 |  0.2560549 |\n\n",
            "text/html": [
              "<table class=\"dataframe\">\n",
              "<caption>A tibble: 6 × 2</caption>\n",
              "<thead>\n",
              "\t<tr><th scope=col>X1</th><th scope=col>X2</th></tr>\n",
              "\t<tr><th scope=col>&lt;dbl&gt;</th><th scope=col>&lt;dbl&gt;</th></tr>\n",
              "</thead>\n",
              "<tbody>\n",
              "\t<tr><td>-0.9986502</td><td>-0.3582975</td></tr>\n",
              "\t<tr><td>-0.0392059</td><td>-2.3060855</td></tr>\n",
              "\t<tr><td>-2.2423846</td><td> 1.6129826</td></tr>\n",
              "\t<tr><td> 2.0777238</td><td> 2.3327612</td></tr>\n",
              "\t<tr><td>-1.2689295</td><td> 1.2876990</td></tr>\n",
              "\t<tr><td>-0.3509253</td><td> 0.2560549</td></tr>\n",
              "</tbody>\n",
              "</table>\n"
            ]
          },
          "metadata": {}
        }
      ],
      "source": [
        "df=tibble(X1=rnorm(100),X2=rnorm(100))\n",
        "head(df)"
      ]
    },
    {
      "cell_type": "markdown",
      "id": "aa71709c-2459-493e-9cbf-f07e40933074",
      "metadata": {
        "id": "aa71709c-2459-493e-9cbf-f07e40933074"
      },
      "source": [
        "위의 데이터프레임 df에서 `mutate`를 이용하여 `Z=X1^2+X2^2`을 계산하여 새로운 열 Z를 만들어라. "
      ]
    },
    {
      "cell_type": "code",
      "source": [
        "df%>% mutate(Z=X1^2+X2^2)"
      ],
      "metadata": {
        "colab": {
          "base_uri": "https://localhost:8080/",
          "height": 1000
        },
        "id": "frYAdt5h9pdd",
        "outputId": "116d5855-fc25-4265-c49c-a7e0d6d25d28"
      },
      "id": "frYAdt5h9pdd",
      "execution_count": 39,
      "outputs": [
        {
          "output_type": "display_data",
          "data": {
            "text/plain": [
              "    X1           X2          Z          \n",
              "1   -0.998650212 -0.35829746  1.12567932\n",
              "2   -0.039205898 -2.30608548  5.31956733\n",
              "3   -2.242384634  1.61298262  7.63000178\n",
              "4    2.077723807  2.33276124  9.75871123\n",
              "5   -1.268929510  1.28769895  3.26835069\n",
              "6   -0.350925332  0.25605486  0.18871268\n",
              "7   -0.320972347  0.26713729  0.17438558\n",
              "8   -0.990149482 -1.60987865  3.57210525\n",
              "9    0.189374319  0.93197728  0.90444428\n",
              "10  -0.778093523  0.05406497  0.60835255\n",
              "11  -1.243356394  0.56184846  1.86160881\n",
              "12  -1.961903239 -2.63476765 10.79106491\n",
              "13   0.008480526  0.43569737  0.18990412\n",
              "14   1.376129505  0.05327362  1.89657049\n",
              "15  -1.198722824 -0.49467095  1.68163576\n",
              "16  -0.052549206  1.27911352  1.63889282\n",
              "17   0.057110444  0.52788959  0.28192902\n",
              "18  -0.467564692 -0.76471415  0.80340447\n",
              "19  -0.096614862  0.14312935  0.02982044\n",
              "20   0.218655195 -0.69499134  0.53082306\n",
              "21  -0.243000130  0.69564721  0.54297411\n",
              "22   0.259953800 -0.15152611  0.09053614\n",
              "23  -0.172762205 -0.17506848  0.06049575\n",
              "24  -1.086995508  0.56133759  1.49665913\n",
              "25   0.653394899  0.98545412  1.39804473\n",
              "26  -0.194515840  1.14428991  1.34723580\n",
              "27   0.704274716 -0.64956078  0.91793208\n",
              "28   0.556855303  0.31599263  0.40993917\n",
              "29   1.949403841 -0.94313887  4.68968627\n",
              "30  -0.168473770 -2.08631501  4.38109374\n",
              "⋮   ⋮            ⋮           ⋮          \n",
              "71   1.23924865  -2.5941134  8.26516158 \n",
              "72  -0.70699888  -0.8741869  1.26405014 \n",
              "73   2.03493049  -0.3764460  4.28265371 \n",
              "74  -1.54927516   0.6985896  2.88828094 \n",
              "75  -0.70985281  -0.4429464  0.70009252 \n",
              "76   0.11739797  -1.1585668  1.35605925 \n",
              "77  -1.05084874  -1.4588493  3.23252447 \n",
              "78  -1.29640858   1.1080006  2.90834042 \n",
              "79  -0.55435468   1.6283178  2.95872782 \n",
              "80  -0.02945405   1.2028768  1.44778011 \n",
              "81   0.74395141   1.6039130  3.12600047 \n",
              "82  -0.29623019  -1.4436152  2.17177722 \n",
              "83  -0.07930926   0.2426784  0.06518278 \n",
              "84   1.63721323  -1.6429556  5.37977029 \n",
              "85  -1.10549975  -1.8681975  4.71229155 \n",
              "86   0.13769786   0.8985940  0.82643188 \n",
              "87  -0.24571200  -0.1504070  0.08299665 \n",
              "88  -0.22521924  -0.8851176  0.83415692 \n",
              "89   1.15297502  -0.9980174  2.32539006 \n",
              "90   0.82164669   0.1607695  0.70095012 \n",
              "91  -1.68017073  -0.6976953  3.30975238 \n",
              "92  -0.57520301   0.9982363  1.32733426 \n",
              "93   0.44316151   0.5090632  0.45553745 \n",
              "94  -0.60013471   0.3261058  0.46650668 \n",
              "95  -1.09324374  -0.1303199  1.21216514 \n",
              "96  -2.40568967   0.7381269  6.33217416 \n",
              "97  -1.55898176  -0.7219577  2.95164708 \n",
              "98   0.31608959   1.4651056  2.24644707 \n",
              "99   0.84288871  -1.6788958  3.52915256 \n",
              "100 -1.04200350   1.7154515  4.02854499 "
            ],
            "text/latex": "A tibble: 100 × 3\n\\begin{tabular}{lll}\n X1 & X2 & Z\\\\\n <dbl> & <dbl> & <dbl>\\\\\n\\hline\n\t -0.998650212 & -0.35829746 &  1.12567932\\\\\n\t -0.039205898 & -2.30608548 &  5.31956733\\\\\n\t -2.242384634 &  1.61298262 &  7.63000178\\\\\n\t  2.077723807 &  2.33276124 &  9.75871123\\\\\n\t -1.268929510 &  1.28769895 &  3.26835069\\\\\n\t -0.350925332 &  0.25605486 &  0.18871268\\\\\n\t -0.320972347 &  0.26713729 &  0.17438558\\\\\n\t -0.990149482 & -1.60987865 &  3.57210525\\\\\n\t  0.189374319 &  0.93197728 &  0.90444428\\\\\n\t -0.778093523 &  0.05406497 &  0.60835255\\\\\n\t -1.243356394 &  0.56184846 &  1.86160881\\\\\n\t -1.961903239 & -2.63476765 & 10.79106491\\\\\n\t  0.008480526 &  0.43569737 &  0.18990412\\\\\n\t  1.376129505 &  0.05327362 &  1.89657049\\\\\n\t -1.198722824 & -0.49467095 &  1.68163576\\\\\n\t -0.052549206 &  1.27911352 &  1.63889282\\\\\n\t  0.057110444 &  0.52788959 &  0.28192902\\\\\n\t -0.467564692 & -0.76471415 &  0.80340447\\\\\n\t -0.096614862 &  0.14312935 &  0.02982044\\\\\n\t  0.218655195 & -0.69499134 &  0.53082306\\\\\n\t -0.243000130 &  0.69564721 &  0.54297411\\\\\n\t  0.259953800 & -0.15152611 &  0.09053614\\\\\n\t -0.172762205 & -0.17506848 &  0.06049575\\\\\n\t -1.086995508 &  0.56133759 &  1.49665913\\\\\n\t  0.653394899 &  0.98545412 &  1.39804473\\\\\n\t -0.194515840 &  1.14428991 &  1.34723580\\\\\n\t  0.704274716 & -0.64956078 &  0.91793208\\\\\n\t  0.556855303 &  0.31599263 &  0.40993917\\\\\n\t  1.949403841 & -0.94313887 &  4.68968627\\\\\n\t -0.168473770 & -2.08631501 &  4.38109374\\\\\n\t ⋮ & ⋮ & ⋮\\\\\n\t  1.23924865 & -2.5941134 & 8.26516158\\\\\n\t -0.70699888 & -0.8741869 & 1.26405014\\\\\n\t  2.03493049 & -0.3764460 & 4.28265371\\\\\n\t -1.54927516 &  0.6985896 & 2.88828094\\\\\n\t -0.70985281 & -0.4429464 & 0.70009252\\\\\n\t  0.11739797 & -1.1585668 & 1.35605925\\\\\n\t -1.05084874 & -1.4588493 & 3.23252447\\\\\n\t -1.29640858 &  1.1080006 & 2.90834042\\\\\n\t -0.55435468 &  1.6283178 & 2.95872782\\\\\n\t -0.02945405 &  1.2028768 & 1.44778011\\\\\n\t  0.74395141 &  1.6039130 & 3.12600047\\\\\n\t -0.29623019 & -1.4436152 & 2.17177722\\\\\n\t -0.07930926 &  0.2426784 & 0.06518278\\\\\n\t  1.63721323 & -1.6429556 & 5.37977029\\\\\n\t -1.10549975 & -1.8681975 & 4.71229155\\\\\n\t  0.13769786 &  0.8985940 & 0.82643188\\\\\n\t -0.24571200 & -0.1504070 & 0.08299665\\\\\n\t -0.22521924 & -0.8851176 & 0.83415692\\\\\n\t  1.15297502 & -0.9980174 & 2.32539006\\\\\n\t  0.82164669 &  0.1607695 & 0.70095012\\\\\n\t -1.68017073 & -0.6976953 & 3.30975238\\\\\n\t -0.57520301 &  0.9982363 & 1.32733426\\\\\n\t  0.44316151 &  0.5090632 & 0.45553745\\\\\n\t -0.60013471 &  0.3261058 & 0.46650668\\\\\n\t -1.09324374 & -0.1303199 & 1.21216514\\\\\n\t -2.40568967 &  0.7381269 & 6.33217416\\\\\n\t -1.55898176 & -0.7219577 & 2.95164708\\\\\n\t  0.31608959 &  1.4651056 & 2.24644707\\\\\n\t  0.84288871 & -1.6788958 & 3.52915256\\\\\n\t -1.04200350 &  1.7154515 & 4.02854499\\\\\n\\end{tabular}\n",
            "text/markdown": "\nA tibble: 100 × 3\n\n| X1 &lt;dbl&gt; | X2 &lt;dbl&gt; | Z &lt;dbl&gt; |\n|---|---|---|\n| -0.998650212 | -0.35829746 |  1.12567932 |\n| -0.039205898 | -2.30608548 |  5.31956733 |\n| -2.242384634 |  1.61298262 |  7.63000178 |\n|  2.077723807 |  2.33276124 |  9.75871123 |\n| -1.268929510 |  1.28769895 |  3.26835069 |\n| -0.350925332 |  0.25605486 |  0.18871268 |\n| -0.320972347 |  0.26713729 |  0.17438558 |\n| -0.990149482 | -1.60987865 |  3.57210525 |\n|  0.189374319 |  0.93197728 |  0.90444428 |\n| -0.778093523 |  0.05406497 |  0.60835255 |\n| -1.243356394 |  0.56184846 |  1.86160881 |\n| -1.961903239 | -2.63476765 | 10.79106491 |\n|  0.008480526 |  0.43569737 |  0.18990412 |\n|  1.376129505 |  0.05327362 |  1.89657049 |\n| -1.198722824 | -0.49467095 |  1.68163576 |\n| -0.052549206 |  1.27911352 |  1.63889282 |\n|  0.057110444 |  0.52788959 |  0.28192902 |\n| -0.467564692 | -0.76471415 |  0.80340447 |\n| -0.096614862 |  0.14312935 |  0.02982044 |\n|  0.218655195 | -0.69499134 |  0.53082306 |\n| -0.243000130 |  0.69564721 |  0.54297411 |\n|  0.259953800 | -0.15152611 |  0.09053614 |\n| -0.172762205 | -0.17506848 |  0.06049575 |\n| -1.086995508 |  0.56133759 |  1.49665913 |\n|  0.653394899 |  0.98545412 |  1.39804473 |\n| -0.194515840 |  1.14428991 |  1.34723580 |\n|  0.704274716 | -0.64956078 |  0.91793208 |\n|  0.556855303 |  0.31599263 |  0.40993917 |\n|  1.949403841 | -0.94313887 |  4.68968627 |\n| -0.168473770 | -2.08631501 |  4.38109374 |\n| ⋮ | ⋮ | ⋮ |\n|  1.23924865 | -2.5941134 | 8.26516158 |\n| -0.70699888 | -0.8741869 | 1.26405014 |\n|  2.03493049 | -0.3764460 | 4.28265371 |\n| -1.54927516 |  0.6985896 | 2.88828094 |\n| -0.70985281 | -0.4429464 | 0.70009252 |\n|  0.11739797 | -1.1585668 | 1.35605925 |\n| -1.05084874 | -1.4588493 | 3.23252447 |\n| -1.29640858 |  1.1080006 | 2.90834042 |\n| -0.55435468 |  1.6283178 | 2.95872782 |\n| -0.02945405 |  1.2028768 | 1.44778011 |\n|  0.74395141 |  1.6039130 | 3.12600047 |\n| -0.29623019 | -1.4436152 | 2.17177722 |\n| -0.07930926 |  0.2426784 | 0.06518278 |\n|  1.63721323 | -1.6429556 | 5.37977029 |\n| -1.10549975 | -1.8681975 | 4.71229155 |\n|  0.13769786 |  0.8985940 | 0.82643188 |\n| -0.24571200 | -0.1504070 | 0.08299665 |\n| -0.22521924 | -0.8851176 | 0.83415692 |\n|  1.15297502 | -0.9980174 | 2.32539006 |\n|  0.82164669 |  0.1607695 | 0.70095012 |\n| -1.68017073 | -0.6976953 | 3.30975238 |\n| -0.57520301 |  0.9982363 | 1.32733426 |\n|  0.44316151 |  0.5090632 | 0.45553745 |\n| -0.60013471 |  0.3261058 | 0.46650668 |\n| -1.09324374 | -0.1303199 | 1.21216514 |\n| -2.40568967 |  0.7381269 | 6.33217416 |\n| -1.55898176 | -0.7219577 | 2.95164708 |\n|  0.31608959 |  1.4651056 | 2.24644707 |\n|  0.84288871 | -1.6788958 | 3.52915256 |\n| -1.04200350 |  1.7154515 | 4.02854499 |\n\n",
            "text/html": [
              "<table class=\"dataframe\">\n",
              "<caption>A tibble: 100 × 3</caption>\n",
              "<thead>\n",
              "\t<tr><th scope=col>X1</th><th scope=col>X2</th><th scope=col>Z</th></tr>\n",
              "\t<tr><th scope=col>&lt;dbl&gt;</th><th scope=col>&lt;dbl&gt;</th><th scope=col>&lt;dbl&gt;</th></tr>\n",
              "</thead>\n",
              "<tbody>\n",
              "\t<tr><td>-0.998650212</td><td>-0.35829746</td><td> 1.12567932</td></tr>\n",
              "\t<tr><td>-0.039205898</td><td>-2.30608548</td><td> 5.31956733</td></tr>\n",
              "\t<tr><td>-2.242384634</td><td> 1.61298262</td><td> 7.63000178</td></tr>\n",
              "\t<tr><td> 2.077723807</td><td> 2.33276124</td><td> 9.75871123</td></tr>\n",
              "\t<tr><td>-1.268929510</td><td> 1.28769895</td><td> 3.26835069</td></tr>\n",
              "\t<tr><td>-0.350925332</td><td> 0.25605486</td><td> 0.18871268</td></tr>\n",
              "\t<tr><td>-0.320972347</td><td> 0.26713729</td><td> 0.17438558</td></tr>\n",
              "\t<tr><td>-0.990149482</td><td>-1.60987865</td><td> 3.57210525</td></tr>\n",
              "\t<tr><td> 0.189374319</td><td> 0.93197728</td><td> 0.90444428</td></tr>\n",
              "\t<tr><td>-0.778093523</td><td> 0.05406497</td><td> 0.60835255</td></tr>\n",
              "\t<tr><td>-1.243356394</td><td> 0.56184846</td><td> 1.86160881</td></tr>\n",
              "\t<tr><td>-1.961903239</td><td>-2.63476765</td><td>10.79106491</td></tr>\n",
              "\t<tr><td> 0.008480526</td><td> 0.43569737</td><td> 0.18990412</td></tr>\n",
              "\t<tr><td> 1.376129505</td><td> 0.05327362</td><td> 1.89657049</td></tr>\n",
              "\t<tr><td>-1.198722824</td><td>-0.49467095</td><td> 1.68163576</td></tr>\n",
              "\t<tr><td>-0.052549206</td><td> 1.27911352</td><td> 1.63889282</td></tr>\n",
              "\t<tr><td> 0.057110444</td><td> 0.52788959</td><td> 0.28192902</td></tr>\n",
              "\t<tr><td>-0.467564692</td><td>-0.76471415</td><td> 0.80340447</td></tr>\n",
              "\t<tr><td>-0.096614862</td><td> 0.14312935</td><td> 0.02982044</td></tr>\n",
              "\t<tr><td> 0.218655195</td><td>-0.69499134</td><td> 0.53082306</td></tr>\n",
              "\t<tr><td>-0.243000130</td><td> 0.69564721</td><td> 0.54297411</td></tr>\n",
              "\t<tr><td> 0.259953800</td><td>-0.15152611</td><td> 0.09053614</td></tr>\n",
              "\t<tr><td>-0.172762205</td><td>-0.17506848</td><td> 0.06049575</td></tr>\n",
              "\t<tr><td>-1.086995508</td><td> 0.56133759</td><td> 1.49665913</td></tr>\n",
              "\t<tr><td> 0.653394899</td><td> 0.98545412</td><td> 1.39804473</td></tr>\n",
              "\t<tr><td>-0.194515840</td><td> 1.14428991</td><td> 1.34723580</td></tr>\n",
              "\t<tr><td> 0.704274716</td><td>-0.64956078</td><td> 0.91793208</td></tr>\n",
              "\t<tr><td> 0.556855303</td><td> 0.31599263</td><td> 0.40993917</td></tr>\n",
              "\t<tr><td> 1.949403841</td><td>-0.94313887</td><td> 4.68968627</td></tr>\n",
              "\t<tr><td>-0.168473770</td><td>-2.08631501</td><td> 4.38109374</td></tr>\n",
              "\t<tr><td>⋮</td><td>⋮</td><td>⋮</td></tr>\n",
              "\t<tr><td> 1.23924865</td><td>-2.5941134</td><td>8.26516158</td></tr>\n",
              "\t<tr><td>-0.70699888</td><td>-0.8741869</td><td>1.26405014</td></tr>\n",
              "\t<tr><td> 2.03493049</td><td>-0.3764460</td><td>4.28265371</td></tr>\n",
              "\t<tr><td>-1.54927516</td><td> 0.6985896</td><td>2.88828094</td></tr>\n",
              "\t<tr><td>-0.70985281</td><td>-0.4429464</td><td>0.70009252</td></tr>\n",
              "\t<tr><td> 0.11739797</td><td>-1.1585668</td><td>1.35605925</td></tr>\n",
              "\t<tr><td>-1.05084874</td><td>-1.4588493</td><td>3.23252447</td></tr>\n",
              "\t<tr><td>-1.29640858</td><td> 1.1080006</td><td>2.90834042</td></tr>\n",
              "\t<tr><td>-0.55435468</td><td> 1.6283178</td><td>2.95872782</td></tr>\n",
              "\t<tr><td>-0.02945405</td><td> 1.2028768</td><td>1.44778011</td></tr>\n",
              "\t<tr><td> 0.74395141</td><td> 1.6039130</td><td>3.12600047</td></tr>\n",
              "\t<tr><td>-0.29623019</td><td>-1.4436152</td><td>2.17177722</td></tr>\n",
              "\t<tr><td>-0.07930926</td><td> 0.2426784</td><td>0.06518278</td></tr>\n",
              "\t<tr><td> 1.63721323</td><td>-1.6429556</td><td>5.37977029</td></tr>\n",
              "\t<tr><td>-1.10549975</td><td>-1.8681975</td><td>4.71229155</td></tr>\n",
              "\t<tr><td> 0.13769786</td><td> 0.8985940</td><td>0.82643188</td></tr>\n",
              "\t<tr><td>-0.24571200</td><td>-0.1504070</td><td>0.08299665</td></tr>\n",
              "\t<tr><td>-0.22521924</td><td>-0.8851176</td><td>0.83415692</td></tr>\n",
              "\t<tr><td> 1.15297502</td><td>-0.9980174</td><td>2.32539006</td></tr>\n",
              "\t<tr><td> 0.82164669</td><td> 0.1607695</td><td>0.70095012</td></tr>\n",
              "\t<tr><td>-1.68017073</td><td>-0.6976953</td><td>3.30975238</td></tr>\n",
              "\t<tr><td>-0.57520301</td><td> 0.9982363</td><td>1.32733426</td></tr>\n",
              "\t<tr><td> 0.44316151</td><td> 0.5090632</td><td>0.45553745</td></tr>\n",
              "\t<tr><td>-0.60013471</td><td> 0.3261058</td><td>0.46650668</td></tr>\n",
              "\t<tr><td>-1.09324374</td><td>-0.1303199</td><td>1.21216514</td></tr>\n",
              "\t<tr><td>-2.40568967</td><td> 0.7381269</td><td>6.33217416</td></tr>\n",
              "\t<tr><td>-1.55898176</td><td>-0.7219577</td><td>2.95164708</td></tr>\n",
              "\t<tr><td> 0.31608959</td><td> 1.4651056</td><td>2.24644707</td></tr>\n",
              "\t<tr><td> 0.84288871</td><td>-1.6788958</td><td>3.52915256</td></tr>\n",
              "\t<tr><td>-1.04200350</td><td> 1.7154515</td><td>4.02854499</td></tr>\n",
              "</tbody>\n",
              "</table>\n"
            ]
          },
          "metadata": {}
        }
      ]
    },
    {
      "cell_type": "markdown",
      "id": "fdd57b34-45c6-41e0-a9ec-0e3bcf096a39",
      "metadata": {
        "tags": [],
        "id": "fdd57b34-45c6-41e0-a9ec-0e3bcf096a39"
      },
      "source": [
        "#### `(10)` 아래와 같은 매트릭스에서 `apply`함수를 이용하여 각 행의 합과 각 열의 합을 구하라 "
      ]
    },
    {
      "cell_type": "code",
      "execution_count": 40,
      "id": "4dce282e-0765-47de-9fc4-2d55df4c4372",
      "metadata": {
        "id": "4dce282e-0765-47de-9fc4-2d55df4c4372",
        "outputId": "082afd04-69f0-4a78-f823-b3c2bcc1ad85",
        "colab": {
          "base_uri": "https://localhost:8080/"
        }
      },
      "outputs": [
        {
          "output_type": "stream",
          "name": "stdout",
          "text": [
            "      [,1] [,2] [,3] [,4] [,5] [,6] [,7] [,8] [,9] [,10]\n",
            " [1,]    2    3    3    2    2    3    1    3    3     3\n",
            " [2,]    1    3    3    4    2    2    4    2    2     1\n",
            " [3,]    2    2    2    2    4    4    2    3    3     3\n",
            " [4,]    3    2    4    5    2    5    1    4    2     2\n",
            " [5,]    2    2    2    2    1    4    2    2    3     4\n",
            " [6,]    5    1    3    1    1    3    4    2    4     3\n",
            " [7,]    4    3    4    3    2    3    2    3    0     1\n",
            " [8,]    4    4    2    3    2    3    3    0    4     2\n",
            " [9,]    5    5    4    3    2    4    4    4    1     4\n",
            "[10,]    2    4    4    3    1    3    3    2    1     2\n"
          ]
        }
      ],
      "source": [
        "set.seed(1221)\n",
        "mat = rbinom(n=100,size=5,prob=0.5)\n",
        "dim(mat)=c(10,10)\n",
        "print(mat)"
      ]
    },
    {
      "cell_type": "markdown",
      "id": "5412d8eb-a07a-4f74-92e0-754d1753f8ac",
      "metadata": {
        "id": "5412d8eb-a07a-4f74-92e0-754d1753f8ac"
      },
      "source": [
        "즉 아래를 구하라 "
      ]
    },
    {
      "cell_type": "markdown",
      "id": "8dded61e-e395-4bc4-a2a5-f936b30029eb",
      "metadata": {
        "id": "8dded61e-e395-4bc4-a2a5-f936b30029eb"
      },
      "source": [
        "`-` 각 행의 합\n",
        "- 1행의 합 = 2+3+3+ ... +3+3+3 \n",
        "- ...\n",
        "- 10행의 합 = 2+4+4+ ... +2+1+2"
      ]
    },
    {
      "cell_type": "markdown",
      "id": "1600d9a5-363e-4ffd-a756-90bb4dcbd4c3",
      "metadata": {
        "id": "1600d9a5-363e-4ffd-a756-90bb4dcbd4c3"
      },
      "source": [
        "`-` 각 열의 합\n",
        "- 1열의 합 = 2+1+2+ ... +4+5+2\n",
        "- ...\n",
        "- 10열의 합 = 3+1+3+ ... +2+4+2"
      ]
    },
    {
      "cell_type": "code",
      "source": [
        "#행의 합\n",
        "apply(mat,1,sum)\n",
        "#열의 합\n",
        "apply(mat,2,sum)"
      ],
      "metadata": {
        "colab": {
          "base_uri": "https://localhost:8080/",
          "height": 52
        },
        "id": "zDSRIiJi-bjv",
        "outputId": "30bbe1ee-2122-4039-a7c4-d37bdd49e508"
      },
      "id": "zDSRIiJi-bjv",
      "execution_count": 42,
      "outputs": [
        {
          "output_type": "display_data",
          "data": {
            "text/plain": [
              " [1] 25 24 27 30 24 27 25 27 36 25"
            ],
            "text/latex": "\\begin{enumerate*}\n\\item 25\n\\item 24\n\\item 27\n\\item 30\n\\item 24\n\\item 27\n\\item 25\n\\item 27\n\\item 36\n\\item 25\n\\end{enumerate*}\n",
            "text/markdown": "1. 25\n2. 24\n3. 27\n4. 30\n5. 24\n6. 27\n7. 25\n8. 27\n9. 36\n10. 25\n\n\n",
            "text/html": [
              "<style>\n",
              ".list-inline {list-style: none; margin:0; padding: 0}\n",
              ".list-inline>li {display: inline-block}\n",
              ".list-inline>li:not(:last-child)::after {content: \"\\00b7\"; padding: 0 .5ex}\n",
              "</style>\n",
              "<ol class=list-inline><li>25</li><li>24</li><li>27</li><li>30</li><li>24</li><li>27</li><li>25</li><li>27</li><li>36</li><li>25</li></ol>\n"
            ]
          },
          "metadata": {}
        },
        {
          "output_type": "display_data",
          "data": {
            "text/plain": [
              " [1] 30 29 31 28 19 34 26 25 23 25"
            ],
            "text/latex": "\\begin{enumerate*}\n\\item 30\n\\item 29\n\\item 31\n\\item 28\n\\item 19\n\\item 34\n\\item 26\n\\item 25\n\\item 23\n\\item 25\n\\end{enumerate*}\n",
            "text/markdown": "1. 30\n2. 29\n3. 31\n4. 28\n5. 19\n6. 34\n7. 26\n8. 25\n9. 23\n10. 25\n\n\n",
            "text/html": [
              "<style>\n",
              ".list-inline {list-style: none; margin:0; padding: 0}\n",
              ".list-inline>li {display: inline-block}\n",
              ".list-inline>li:not(:last-child)::after {content: \"\\00b7\"; padding: 0 .5ex}\n",
              "</style>\n",
              "<ol class=list-inline><li>30</li><li>29</li><li>31</li><li>28</li><li>19</li><li>34</li><li>26</li><li>25</li><li>23</li><li>25</li></ol>\n"
            ]
          },
          "metadata": {}
        }
      ]
    },
    {
      "cell_type": "markdown",
      "id": "9ce31908-cc7a-48e0-89b6-6117a143c13c",
      "metadata": {
        "tags": [],
        "id": "9ce31908-cc7a-48e0-89b6-6117a143c13c"
      },
      "source": [
        "## `6`. 다음을 잘 읽고 물음에 답하라. (20점)"
      ]
    },
    {
      "cell_type": "markdown",
      "id": "24d014aa-d2c5-417f-afcd-c4bbc35f6403",
      "metadata": {
        "id": "24d014aa-d2c5-417f-afcd-c4bbc35f6403"
      },
      "source": [
        "#### `(1)` 자료 $x_1,x_2,\\dots, x_{50}$에 대하여 다음 과정을 순서대로 시행하였다."
      ]
    },
    {
      "cell_type": "markdown",
      "id": "35ad820e-3421-4c0a-a40c-38c78942ed83",
      "metadata": {
        "id": "35ad820e-3421-4c0a-a40c-38c78942ed83"
      },
      "source": [
        "(가) 처음 두 수 $x_1$과 $x_2$의 평균을 구한다. \n",
        "\n",
        "(나) $x_3$을 추가하여 $x_1, x_2, x_3$의 평균을 구한다. \n",
        "\n",
        "(다) $x_4$을 추가하여 $x_1, x_2, x_3, x_4$의 평균을 구한다. \n",
        "\n",
        "...\n",
        "\n",
        "$x_{50}$을 추가하여 $x_1, x_2, x_3 ,\\dots , x_{50}$의 평균을 구한다. "
      ]
    },
    {
      "cell_type": "markdown",
      "id": "4a30daaa-66ce-4344-8ef5-722e8ffb0006",
      "metadata": {
        "id": "4a30daaa-66ce-4344-8ef5-722e8ffb0006"
      },
      "source": [
        "위의 과정을 시행할 결과, $x_1$과 $x_2$의 평균이 5이고, 자료 하나가 추가될때 마다 평균이 1씩 증가하였다. 이때 $x_{50}$의 값은? "
      ]
    },
    {
      "cell_type": "markdown",
      "id": "2e2653d1-f565-4900-ad35-4431ed1d074d",
      "metadata": {
        "tags": [],
        "id": "2e2653d1-f565-4900-ad35-4431ed1d074d"
      },
      "source": [
        "#### `(2)` 복도의 라커 \n",
        "\n",
        "복도에 100개의 라커가 있다. 복도를 어떤 남자가 **짝수번호**의 라커를 모두 연다. 그리고 나서 3의 배수의 라커를 전부 닫는다. 그 다음에는 번호가 4의 배수인 라커를 순서대로 찾아다니며 열려 있으면 닫고, 닫혀 있으면 연다. 그 다음에는 번호가 5의 배수인 라커를 순서대로 찾아다니며 열려있으면 닫고, 닫혀있으면 연다. 이후에 6의 배수, 7의 배수 .. 인 라커를 순서대로 찾아다니며 행동을 반복한다. 이런식으로 복도를 **50번** 지나가면 열린 라커의 문은 몇개가 되겠는가? (주의: 중간고사문제와 약간다릅니다, 다른부분은 볼드체 표시했습니다)"
      ]
    },
    {
      "cell_type": "markdown",
      "id": "e2f77aba-17d3-45c0-977b-ebc7ebc1b007",
      "metadata": {
        "id": "e2f77aba-17d3-45c0-977b-ebc7ebc1b007"
      },
      "source": [
        "#### `(3)` 몬테카를로 시뮬레이션을 이용하여 원주율 $\\pi$를 추론하는 코드를 작성하라. "
      ]
    },
    {
      "cell_type": "markdown",
      "id": "6d96b655-723b-4b88-be3a-179599fec430",
      "metadata": {
        "id": "6d96b655-723b-4b88-be3a-179599fec430"
      },
      "source": [
        "#### `(4)` 아래와 같은 연립일차방정식을 푸는 R코드를 작성하라. "
      ]
    },
    {
      "cell_type": "markdown",
      "id": "1242cd3f-41fe-4f41-870d-311c0ec85d69",
      "metadata": {
        "id": "1242cd3f-41fe-4f41-870d-311c0ec85d69"
      },
      "source": [
        "$\\begin{cases}\n",
        "w+2x+3y+4z=1 \\\\\n",
        "2w+2x+y=9 \\\\\n",
        "x-y=4 \\\\\n",
        "3w+x-y+3y=7\n",
        "\\end{cases}$\n"
      ]
    },
    {
      "cell_type": "code",
      "source": [
        "A=rbind(c(1,2,3,4),c(2,2,1,0),c(0,1,-1,0),c(3,1,-1,3))\n",
        "A\n",
        "b=c(1,9,4,7)\n",
        "dim(b)=c(4,1)\n",
        "b\n",
        "solve(A) %*% b"
      ],
      "metadata": {
        "colab": {
          "base_uri": "https://localhost:8080/",
          "height": 636
        },
        "id": "OW1o4PzC_mGq",
        "outputId": "d528ee75-9f33-47a9-c75f-d57a717c4a02"
      },
      "id": "OW1o4PzC_mGq",
      "execution_count": 43,
      "outputs": [
        {
          "output_type": "display_data",
          "data": {
            "text/plain": [
              "     [,1] [,2] [,3] [,4]\n",
              "[1,] 1    2     3   4   \n",
              "[2,] 2    2     1   0   \n",
              "[3,] 0    1    -1   0   \n",
              "[4,] 3    1    -1   3   "
            ],
            "text/latex": "A matrix: 4 × 4 of type dbl\n\\begin{tabular}{llll}\n\t 1 & 2 &  3 & 4\\\\\n\t 2 & 2 &  1 & 0\\\\\n\t 0 & 1 & -1 & 0\\\\\n\t 3 & 1 & -1 & 3\\\\\n\\end{tabular}\n",
            "text/markdown": "\nA matrix: 4 × 4 of type dbl\n\n| 1 | 2 |  3 | 4 |\n| 2 | 2 |  1 | 0 |\n| 0 | 1 | -1 | 0 |\n| 3 | 1 | -1 | 3 |\n\n",
            "text/html": [
              "<table class=\"dataframe\">\n",
              "<caption>A matrix: 4 × 4 of type dbl</caption>\n",
              "<tbody>\n",
              "\t<tr><td>1</td><td>2</td><td> 3</td><td>4</td></tr>\n",
              "\t<tr><td>2</td><td>2</td><td> 1</td><td>0</td></tr>\n",
              "\t<tr><td>0</td><td>1</td><td>-1</td><td>0</td></tr>\n",
              "\t<tr><td>3</td><td>1</td><td>-1</td><td>3</td></tr>\n",
              "</tbody>\n",
              "</table>\n"
            ]
          },
          "metadata": {}
        },
        {
          "output_type": "display_data",
          "data": {
            "text/plain": [
              "     [,1]\n",
              "[1,] 1   \n",
              "[2,] 9   \n",
              "[3,] 4   \n",
              "[4,] 7   "
            ],
            "text/latex": "A matrix: 4 × 1 of type dbl\n\\begin{tabular}{l}\n\t 1\\\\\n\t 9\\\\\n\t 4\\\\\n\t 7\\\\\n\\end{tabular}\n",
            "text/markdown": "\nA matrix: 4 × 1 of type dbl\n\n| 1 |\n| 9 |\n| 4 |\n| 7 |\n\n",
            "text/html": [
              "<table class=\"dataframe\">\n",
              "<caption>A matrix: 4 × 1 of type dbl</caption>\n",
              "<tbody>\n",
              "\t<tr><td>1</td></tr>\n",
              "\t<tr><td>9</td></tr>\n",
              "\t<tr><td>4</td></tr>\n",
              "\t<tr><td>7</td></tr>\n",
              "</tbody>\n",
              "</table>\n"
            ]
          },
          "metadata": {}
        },
        {
          "output_type": "display_data",
          "data": {
            "text/plain": [
              "     [,1]\n",
              "[1,]  2  \n",
              "[2,]  3  \n",
              "[3,] -1  \n",
              "[4,] -1  "
            ],
            "text/latex": "A matrix: 4 × 1 of type dbl\n\\begin{tabular}{l}\n\t  2\\\\\n\t  3\\\\\n\t -1\\\\\n\t -1\\\\\n\\end{tabular}\n",
            "text/markdown": "\nA matrix: 4 × 1 of type dbl\n\n|  2 |\n|  3 |\n| -1 |\n| -1 |\n\n",
            "text/html": [
              "<table class=\"dataframe\">\n",
              "<caption>A matrix: 4 × 1 of type dbl</caption>\n",
              "<tbody>\n",
              "\t<tr><td> 2</td></tr>\n",
              "\t<tr><td> 3</td></tr>\n",
              "\t<tr><td>-1</td></tr>\n",
              "\t<tr><td>-1</td></tr>\n",
              "</tbody>\n",
              "</table>\n"
            ]
          },
          "metadata": {}
        }
      ]
    },
    {
      "cell_type": "markdown",
      "id": "8c0bca0f-2b2b-483e-98bf-46f560db01f7",
      "metadata": {
        "id": "8c0bca0f-2b2b-483e-98bf-46f560db01f7"
      },
      "source": [
        "#### `(5)` 우산의 회전"
      ]
    },
    {
      "cell_type": "markdown",
      "id": "856adbd0-6cac-4de3-9a4e-5758c5b3c60a",
      "metadata": {
        "id": "856adbd0-6cac-4de3-9a4e-5758c5b3c60a"
      },
      "source": [
        "다음은 인터넷에서 어떠한 자료를 다운받아 매트릭스로 저장하는 코드이다. \n",
        "```R\n",
        "df=read.csv(\"https://raw.githubusercontent.com/guebin/2021IR/master/_notebooks/round2.csv\")\n",
        "X=as.matrix(df)\n",
        "```\n",
        "매트릭스는 `X`이라는 변수에 저장되어 있다. 저장된 모양은 아래와 같다. \n",
        "$${\\bf X}= \n",
        "\\begin{bmatrix}\n",
        "x_1 & y_1 \\\\ \n",
        "x_2 & y_2 \\\\ \n",
        "\\dots & \\dots \\\\ \n",
        "x_{5513} & y_{5513}\n",
        "\\end{bmatrix}\n",
        "$$\n",
        "아래를 계산하여 $\\tilde{\\bf X}$를 만들고 \n",
        "$$\n",
        "\\tilde{\\bf X}={\\bf X} \\begin{bmatrix}\n",
        "\\cos(\\frac{\\pi}{4}) & -\\sin (\\frac{\\pi}{4}) \\\\\n",
        "\\sin(\\frac{\\pi}{4}) & \\cos (\\frac{\\pi}{4})\n",
        "\\end{bmatrix} \n",
        "$$"
      ]
    },
    {
      "cell_type": "markdown",
      "id": "ed520940-df49-49ea-b613-704f98d7d0e3",
      "metadata": {
        "id": "ed520940-df49-49ea-b613-704f98d7d0e3"
      },
      "source": [
        "$\\tilde{\\bf X}$의 첫번째열을 $x$축으로, 두번째열을 $y$축으로 하여 시각화 하라. 시각화 예시는 아래와 같다. "
      ]
    },
    {
      "cell_type": "markdown",
      "id": "25975e05-2cf1-47b6-b126-b8caf43009af",
      "metadata": {
        "id": "25975e05-2cf1-47b6-b126-b8caf43009af"
      },
      "source": [
        "![](https://github.com/guebin/2021IR/blob/master/_notebooks/final_fig5.png?raw=true)"
      ]
    }
  ],
  "metadata": {
    "kernelspec": {
      "display_name": "R",
      "language": "R",
      "name": "ir"
    },
    "language_info": {
      "codemirror_mode": "r",
      "file_extension": ".r",
      "mimetype": "text/x-r-source",
      "name": "R",
      "pygments_lexer": "r",
      "version": "4.0.5"
    },
    "colab": {
      "name": "2021년  R입문 기말고사 김혁일(201618610) 5,6번문제풀이  .ipynb의 사본",
      "provenance": []
    }
  },
  "nbformat": 4,
  "nbformat_minor": 5
}