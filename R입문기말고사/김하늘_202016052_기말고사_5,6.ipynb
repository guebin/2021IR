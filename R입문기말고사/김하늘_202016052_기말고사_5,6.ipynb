{
 "cells": [
  {
   "cell_type": "markdown",
   "id": "c6c1773a-a76e-45be-a676-eed1f10df458",
   "metadata": {},
   "source": [
    "## 202016052 김하늘 R입문 기말고사 문제 5,6"
   ]
  },
  {
   "cell_type": "code",
   "execution_count": 2,
   "id": "73e728c6-e0c0-4485-882b-91295685debb",
   "metadata": {},
   "outputs": [
    {
     "name": "stderr",
     "output_type": "stream",
     "text": [
      "-- \u001b[1mAttaching packages\u001b[22m ------------------------------------------------------------------------------- tidyverse 1.3.1 --\n",
      "\n",
      "\u001b[32mv\u001b[39m \u001b[34mggplot2\u001b[39m 3.3.5     \u001b[32mv\u001b[39m \u001b[34mpurrr  \u001b[39m 0.3.4\n",
      "\u001b[32mv\u001b[39m \u001b[34mtibble \u001b[39m 3.1.4     \u001b[32mv\u001b[39m \u001b[34mdplyr  \u001b[39m 1.0.7\n",
      "\u001b[32mv\u001b[39m \u001b[34mtidyr  \u001b[39m 1.1.3     \u001b[32mv\u001b[39m \u001b[34mstringr\u001b[39m 1.4.0\n",
      "\u001b[32mv\u001b[39m \u001b[34mreadr  \u001b[39m 2.0.1     \u001b[32mv\u001b[39m \u001b[34mforcats\u001b[39m 0.5.1\n",
      "\n",
      "-- \u001b[1mConflicts\u001b[22m ---------------------------------------------------------------------------------- tidyverse_conflicts() --\n",
      "\u001b[31mx\u001b[39m \u001b[34mdplyr\u001b[39m::\u001b[32mfilter()\u001b[39m masks \u001b[34mstats\u001b[39m::filter()\n",
      "\u001b[31mx\u001b[39m \u001b[34mdplyr\u001b[39m::\u001b[32mlag()\u001b[39m    masks \u001b[34mstats\u001b[39m::lag()\n",
      "\n"
     ]
    }
   ],
   "source": [
    "library(tidyverse)"
   ]
  },
  {
   "cell_type": "markdown",
   "id": "b5d6fdfc-eae6-4eb3-a434-3835b793d6ca",
   "metadata": {},
   "source": [
    "## 5번"
   ]
  },
  {
   "cell_type": "markdown",
   "id": "4824b7b9-3362-4890-aca0-7d26a5db9b37",
   "metadata": {},
   "source": [
    "### (1)"
   ]
  },
  {
   "cell_type": "code",
   "execution_count": 7,
   "id": "d8f44c42-5fec-4870-8b10-24a94150e1ae",
   "metadata": {},
   "outputs": [
    {
     "data": {
      "text/html": [
       "5040"
      ],
      "text/latex": [
       "5040"
      ],
      "text/markdown": [
       "5040"
      ],
      "text/plain": [
       "[1] 5040"
      ]
     },
     "metadata": {},
     "output_type": "display_data"
    }
   ],
   "source": [
    "x=1:7\n",
    "cp= cumprod(x)\n",
    "cp[7]"
   ]
  },
  {
   "cell_type": "markdown",
   "id": "1dcaaaba-52a3-433e-9e13-f6c5c4b508de",
   "metadata": {},
   "source": [
    "### (2)"
   ]
  },
  {
   "cell_type": "code",
   "execution_count": 22,
   "id": "d30b6e16-ad97-4a60-b9e8-9af72a1e0301",
   "metadata": {},
   "outputs": [
    {
     "data": {
      "text/html": [
       "2.71828182845905"
      ],
      "text/latex": [
       "2.71828182845905"
      ],
      "text/markdown": [
       "2.71828182845905"
      ],
      "text/plain": [
       "[1] 2.718282"
      ]
     },
     "metadata": {},
     "output_type": "display_data"
    }
   ],
   "source": [
    "A <- c()\n",
    "for(i in 1:1000){\n",
    "    x = 1:i\n",
    "    nf = cumprod(x)\n",
    "    A[i] = i/nf[i]\n",
    "    }\n",
    "sum(A)"
   ]
  },
  {
   "cell_type": "code",
   "execution_count": 15,
   "id": "82548ed6-8732-4da0-9059-905635aac3a9",
   "metadata": {},
   "outputs": [
    {
     "data": {
      "text/html": [
       "2.71828182845905"
      ],
      "text/latex": [
       "2.71828182845905"
      ],
      "text/markdown": [
       "2.71828182845905"
      ],
      "text/plain": [
       "[1] 2.718282"
      ]
     },
     "metadata": {},
     "output_type": "display_data"
    }
   ],
   "source": [
    "exp(1)"
   ]
  },
  {
   "cell_type": "markdown",
   "id": "99ea1759-43af-4319-83f0-781e19200cc2",
   "metadata": {},
   "source": [
    "### (3)"
   ]
  },
  {
   "cell_type": "code",
   "execution_count": 21,
   "id": "73af773f-5529-4f67-b60f-998d2802ec92",
   "metadata": {},
   "outputs": [
    {
     "data": {
      "text/html": [
       "481"
      ],
      "text/latex": [
       "481"
      ],
      "text/markdown": [
       "481"
      ],
      "text/plain": [
       "[1] 481"
      ]
     },
     "metadata": {},
     "output_type": "display_data"
    }
   ],
   "source": [
    "A = rnorm(1000)\n",
    "sum(A>0)"
   ]
  },
  {
   "cell_type": "markdown",
   "id": "6cb50034-5909-47ca-9746-bd1d895fdc08",
   "metadata": {},
   "source": [
    "### (4)"
   ]
  },
  {
   "cell_type": "code",
   "execution_count": 42,
   "id": "3bb19633-4841-4dd2-bea9-84f0166a4d62",
   "metadata": {},
   "outputs": [
    {
     "data": {
      "text/html": [
       "<style>\n",
       ".list-inline {list-style: none; margin:0; padding: 0}\n",
       ".list-inline>li {display: inline-block}\n",
       ".list-inline>li:not(:last-child)::after {content: \"\\00b7\"; padding: 0 .5ex}\n",
       "</style>\n",
       "<ol class=list-inline><li>0</li><li>1</li><li>0</li><li>0</li><li>0</li><li>0</li><li>0</li><li>0</li><li>0</li><li>0</li><li>0</li><li>0</li><li>1</li><li>0</li><li>0</li><li>0</li><li>0</li><li>0</li><li>1</li><li>0</li><li>0</li><li>0</li><li>0</li><li>0</li><li>1</li><li>1</li><li>1</li><li>0</li><li>0</li><li>0</li><li>0</li><li>1</li><li>1</li><li>0</li><li>0</li><li>0</li><li>0</li><li>1</li><li>0</li><li>0</li><li>0</li><li>1</li><li>0</li><li>0</li><li>0</li><li>0</li><li>0</li><li>0</li><li>0</li><li>0</li><li>0</li><li>0</li><li>0</li><li>0</li><li>0</li><li>0</li><li>0</li><li>0</li><li>0</li><li>0</li><li>0</li><li>1</li><li>0</li><li>0</li><li>1</li><li>0</li><li>0</li><li>1</li><li>0</li><li>0</li><li>0</li><li>0</li><li>0</li><li>0</li><li>0</li><li>0</li><li>0</li><li>0</li><li>0</li><li>1</li><li>1</li><li>0</li><li>0</li><li>0</li><li>0</li><li>0</li><li>0</li><li>0</li><li>0</li><li>0</li><li>0</li><li>1</li><li>0</li><li>0</li><li>0</li><li>0</li><li>0</li><li>0</li><li>0</li><li>0</li><li>0</li><li>0</li><li>1</li><li>0</li><li>0</li><li>0</li><li>1</li><li>0</li><li>0</li><li>0</li><li>1</li><li>0</li><li>1</li><li>0</li><li>0</li><li>0</li><li>0</li><li>0</li><li>0</li><li>1</li><li>0</li><li>0</li><li>0</li><li>0</li><li>0</li><li>1</li><li>0</li><li>0</li><li>0</li><li>0</li><li>0</li><li>0</li><li>0</li><li>0</li><li>0</li><li>0</li><li>0</li><li>0</li><li>0</li><li>0</li><li>0</li><li>1</li><li>0</li><li>0</li><li>1</li><li>0</li><li>0</li><li>1</li><li>0</li><li>0</li><li>0</li><li>0</li><li>0</li><li>0</li><li>0</li><li>0</li><li>0</li><li>1</li><li>0</li><li>0</li><li>1</li><li>1</li><li>1</li><li>1</li><li>0</li><li>0</li><li>0</li><li>0</li><li>0</li><li>0</li><li>1</li><li>1</li><li>0</li><li>0</li><li>0</li><li>0</li><li>0</li><li>0</li><li>0</li><li>0</li><li>0</li><li>0</li><li>0</li><li>0</li><li>0</li><li>1</li><li>0</li><li>0</li><li>0</li><li>1</li><li>0</li><li>0</li><li>0</li><li>0</li><li>0</li><li>1</li><li>0</li><li>0</li><li>0</li><li>1</li><li>⋯</li><li>0</li><li>0</li><li>0</li><li>1</li><li>1</li><li>0</li><li>1</li><li>0</li><li>1</li><li>0</li><li>0</li><li>0</li><li>1</li><li>0</li><li>1</li><li>0</li><li>0</li><li>0</li><li>1</li><li>1</li><li>1</li><li>0</li><li>0</li><li>0</li><li>0</li><li>0</li><li>0</li><li>0</li><li>0</li><li>0</li><li>0</li><li>0</li><li>1</li><li>1</li><li>0</li><li>1</li><li>0</li><li>1</li><li>0</li><li>1</li><li>0</li><li>0</li><li>1</li><li>1</li><li>0</li><li>1</li><li>0</li><li>0</li><li>1</li><li>0</li><li>1</li><li>0</li><li>0</li><li>1</li><li>0</li><li>1</li><li>0</li><li>1</li><li>0</li><li>1</li><li>0</li><li>0</li><li>0</li><li>0</li><li>0</li><li>0</li><li>1</li><li>0</li><li>0</li><li>0</li><li>0</li><li>0</li><li>1</li><li>1</li><li>0</li><li>1</li><li>0</li><li>0</li><li>0</li><li>0</li><li>0</li><li>0</li><li>0</li><li>0</li><li>0</li><li>1</li><li>0</li><li>0</li><li>0</li><li>0</li><li>1</li><li>0</li><li>1</li><li>0</li><li>0</li><li>0</li><li>1</li><li>0</li><li>0</li><li>0</li><li>1</li><li>0</li><li>0</li><li>0</li><li>0</li><li>0</li><li>0</li><li>0</li><li>0</li><li>1</li><li>1</li><li>0</li><li>0</li><li>0</li><li>0</li><li>0</li><li>0</li><li>0</li><li>0</li><li>0</li><li>0</li><li>0</li><li>0</li><li>1</li><li>0</li><li>0</li><li>1</li><li>0</li><li>1</li><li>0</li><li>0</li><li>0</li><li>0</li><li>0</li><li>1</li><li>1</li><li>0</li><li>0</li><li>0</li><li>0</li><li>0</li><li>0</li><li>0</li><li>0</li><li>0</li><li>0</li><li>0</li><li>0</li><li>0</li><li>0</li><li>0</li><li>1</li><li>0</li><li>1</li><li>0</li><li>0</li><li>0</li><li>0</li><li>1</li><li>0</li><li>0</li><li>1</li><li>0</li><li>0</li><li>0</li><li>0</li><li>0</li><li>0</li><li>0</li><li>0</li><li>1</li><li>0</li><li>0</li><li>0</li><li>1</li><li>0</li><li>0</li><li>1</li><li>1</li><li>0</li><li>0</li><li>0</li><li>1</li><li>0</li><li>1</li><li>0</li><li>0</li><li>1</li><li>0</li><li>0</li><li>0</li><li>0</li><li>0</li><li>0</li><li>0</li><li>0</li><li>1</li><li>0</li><li>0</li><li>0</li></ol>\n"
      ],
      "text/latex": [
       "\\begin{enumerate*}\n",
       "\\item 0\n",
       "\\item 1\n",
       "\\item 0\n",
       "\\item 0\n",
       "\\item 0\n",
       "\\item 0\n",
       "\\item 0\n",
       "\\item 0\n",
       "\\item 0\n",
       "\\item 0\n",
       "\\item 0\n",
       "\\item 0\n",
       "\\item 1\n",
       "\\item 0\n",
       "\\item 0\n",
       "\\item 0\n",
       "\\item 0\n",
       "\\item 0\n",
       "\\item 1\n",
       "\\item 0\n",
       "\\item 0\n",
       "\\item 0\n",
       "\\item 0\n",
       "\\item 0\n",
       "\\item 1\n",
       "\\item 1\n",
       "\\item 1\n",
       "\\item 0\n",
       "\\item 0\n",
       "\\item 0\n",
       "\\item 0\n",
       "\\item 1\n",
       "\\item 1\n",
       "\\item 0\n",
       "\\item 0\n",
       "\\item 0\n",
       "\\item 0\n",
       "\\item 1\n",
       "\\item 0\n",
       "\\item 0\n",
       "\\item 0\n",
       "\\item 1\n",
       "\\item 0\n",
       "\\item 0\n",
       "\\item 0\n",
       "\\item 0\n",
       "\\item 0\n",
       "\\item 0\n",
       "\\item 0\n",
       "\\item 0\n",
       "\\item 0\n",
       "\\item 0\n",
       "\\item 0\n",
       "\\item 0\n",
       "\\item 0\n",
       "\\item 0\n",
       "\\item 0\n",
       "\\item 0\n",
       "\\item 0\n",
       "\\item 0\n",
       "\\item 0\n",
       "\\item 1\n",
       "\\item 0\n",
       "\\item 0\n",
       "\\item 1\n",
       "\\item 0\n",
       "\\item 0\n",
       "\\item 1\n",
       "\\item 0\n",
       "\\item 0\n",
       "\\item 0\n",
       "\\item 0\n",
       "\\item 0\n",
       "\\item 0\n",
       "\\item 0\n",
       "\\item 0\n",
       "\\item 0\n",
       "\\item 0\n",
       "\\item 0\n",
       "\\item 1\n",
       "\\item 1\n",
       "\\item 0\n",
       "\\item 0\n",
       "\\item 0\n",
       "\\item 0\n",
       "\\item 0\n",
       "\\item 0\n",
       "\\item 0\n",
       "\\item 0\n",
       "\\item 0\n",
       "\\item 0\n",
       "\\item 1\n",
       "\\item 0\n",
       "\\item 0\n",
       "\\item 0\n",
       "\\item 0\n",
       "\\item 0\n",
       "\\item 0\n",
       "\\item 0\n",
       "\\item 0\n",
       "\\item 0\n",
       "\\item 0\n",
       "\\item 1\n",
       "\\item 0\n",
       "\\item 0\n",
       "\\item 0\n",
       "\\item 1\n",
       "\\item 0\n",
       "\\item 0\n",
       "\\item 0\n",
       "\\item 1\n",
       "\\item 0\n",
       "\\item 1\n",
       "\\item 0\n",
       "\\item 0\n",
       "\\item 0\n",
       "\\item 0\n",
       "\\item 0\n",
       "\\item 0\n",
       "\\item 1\n",
       "\\item 0\n",
       "\\item 0\n",
       "\\item 0\n",
       "\\item 0\n",
       "\\item 0\n",
       "\\item 1\n",
       "\\item 0\n",
       "\\item 0\n",
       "\\item 0\n",
       "\\item 0\n",
       "\\item 0\n",
       "\\item 0\n",
       "\\item 0\n",
       "\\item 0\n",
       "\\item 0\n",
       "\\item 0\n",
       "\\item 0\n",
       "\\item 0\n",
       "\\item 0\n",
       "\\item 0\n",
       "\\item 0\n",
       "\\item 1\n",
       "\\item 0\n",
       "\\item 0\n",
       "\\item 1\n",
       "\\item 0\n",
       "\\item 0\n",
       "\\item 1\n",
       "\\item 0\n",
       "\\item 0\n",
       "\\item 0\n",
       "\\item 0\n",
       "\\item 0\n",
       "\\item 0\n",
       "\\item 0\n",
       "\\item 0\n",
       "\\item 0\n",
       "\\item 1\n",
       "\\item 0\n",
       "\\item 0\n",
       "\\item 1\n",
       "\\item 1\n",
       "\\item 1\n",
       "\\item 1\n",
       "\\item 0\n",
       "\\item 0\n",
       "\\item 0\n",
       "\\item 0\n",
       "\\item 0\n",
       "\\item 0\n",
       "\\item 1\n",
       "\\item 1\n",
       "\\item 0\n",
       "\\item 0\n",
       "\\item 0\n",
       "\\item 0\n",
       "\\item 0\n",
       "\\item 0\n",
       "\\item 0\n",
       "\\item 0\n",
       "\\item 0\n",
       "\\item 0\n",
       "\\item 0\n",
       "\\item 0\n",
       "\\item 0\n",
       "\\item 1\n",
       "\\item 0\n",
       "\\item 0\n",
       "\\item 0\n",
       "\\item 1\n",
       "\\item 0\n",
       "\\item 0\n",
       "\\item 0\n",
       "\\item 0\n",
       "\\item 0\n",
       "\\item 1\n",
       "\\item 0\n",
       "\\item 0\n",
       "\\item 0\n",
       "\\item 1\n",
       "\\item ⋯\n",
       "\\item 0\n",
       "\\item 0\n",
       "\\item 0\n",
       "\\item 1\n",
       "\\item 1\n",
       "\\item 0\n",
       "\\item 1\n",
       "\\item 0\n",
       "\\item 1\n",
       "\\item 0\n",
       "\\item 0\n",
       "\\item 0\n",
       "\\item 1\n",
       "\\item 0\n",
       "\\item 1\n",
       "\\item 0\n",
       "\\item 0\n",
       "\\item 0\n",
       "\\item 1\n",
       "\\item 1\n",
       "\\item 1\n",
       "\\item 0\n",
       "\\item 0\n",
       "\\item 0\n",
       "\\item 0\n",
       "\\item 0\n",
       "\\item 0\n",
       "\\item 0\n",
       "\\item 0\n",
       "\\item 0\n",
       "\\item 0\n",
       "\\item 0\n",
       "\\item 1\n",
       "\\item 1\n",
       "\\item 0\n",
       "\\item 1\n",
       "\\item 0\n",
       "\\item 1\n",
       "\\item 0\n",
       "\\item 1\n",
       "\\item 0\n",
       "\\item 0\n",
       "\\item 1\n",
       "\\item 1\n",
       "\\item 0\n",
       "\\item 1\n",
       "\\item 0\n",
       "\\item 0\n",
       "\\item 1\n",
       "\\item 0\n",
       "\\item 1\n",
       "\\item 0\n",
       "\\item 0\n",
       "\\item 1\n",
       "\\item 0\n",
       "\\item 1\n",
       "\\item 0\n",
       "\\item 1\n",
       "\\item 0\n",
       "\\item 1\n",
       "\\item 0\n",
       "\\item 0\n",
       "\\item 0\n",
       "\\item 0\n",
       "\\item 0\n",
       "\\item 0\n",
       "\\item 1\n",
       "\\item 0\n",
       "\\item 0\n",
       "\\item 0\n",
       "\\item 0\n",
       "\\item 0\n",
       "\\item 1\n",
       "\\item 1\n",
       "\\item 0\n",
       "\\item 1\n",
       "\\item 0\n",
       "\\item 0\n",
       "\\item 0\n",
       "\\item 0\n",
       "\\item 0\n",
       "\\item 0\n",
       "\\item 0\n",
       "\\item 0\n",
       "\\item 0\n",
       "\\item 1\n",
       "\\item 0\n",
       "\\item 0\n",
       "\\item 0\n",
       "\\item 0\n",
       "\\item 1\n",
       "\\item 0\n",
       "\\item 1\n",
       "\\item 0\n",
       "\\item 0\n",
       "\\item 0\n",
       "\\item 1\n",
       "\\item 0\n",
       "\\item 0\n",
       "\\item 0\n",
       "\\item 1\n",
       "\\item 0\n",
       "\\item 0\n",
       "\\item 0\n",
       "\\item 0\n",
       "\\item 0\n",
       "\\item 0\n",
       "\\item 0\n",
       "\\item 0\n",
       "\\item 1\n",
       "\\item 1\n",
       "\\item 0\n",
       "\\item 0\n",
       "\\item 0\n",
       "\\item 0\n",
       "\\item 0\n",
       "\\item 0\n",
       "\\item 0\n",
       "\\item 0\n",
       "\\item 0\n",
       "\\item 0\n",
       "\\item 0\n",
       "\\item 0\n",
       "\\item 1\n",
       "\\item 0\n",
       "\\item 0\n",
       "\\item 1\n",
       "\\item 0\n",
       "\\item 1\n",
       "\\item 0\n",
       "\\item 0\n",
       "\\item 0\n",
       "\\item 0\n",
       "\\item 0\n",
       "\\item 1\n",
       "\\item 1\n",
       "\\item 0\n",
       "\\item 0\n",
       "\\item 0\n",
       "\\item 0\n",
       "\\item 0\n",
       "\\item 0\n",
       "\\item 0\n",
       "\\item 0\n",
       "\\item 0\n",
       "\\item 0\n",
       "\\item 0\n",
       "\\item 0\n",
       "\\item 0\n",
       "\\item 0\n",
       "\\item 0\n",
       "\\item 1\n",
       "\\item 0\n",
       "\\item 1\n",
       "\\item 0\n",
       "\\item 0\n",
       "\\item 0\n",
       "\\item 0\n",
       "\\item 1\n",
       "\\item 0\n",
       "\\item 0\n",
       "\\item 1\n",
       "\\item 0\n",
       "\\item 0\n",
       "\\item 0\n",
       "\\item 0\n",
       "\\item 0\n",
       "\\item 0\n",
       "\\item 0\n",
       "\\item 0\n",
       "\\item 1\n",
       "\\item 0\n",
       "\\item 0\n",
       "\\item 0\n",
       "\\item 1\n",
       "\\item 0\n",
       "\\item 0\n",
       "\\item 1\n",
       "\\item 1\n",
       "\\item 0\n",
       "\\item 0\n",
       "\\item 0\n",
       "\\item 1\n",
       "\\item 0\n",
       "\\item 1\n",
       "\\item 0\n",
       "\\item 0\n",
       "\\item 1\n",
       "\\item 0\n",
       "\\item 0\n",
       "\\item 0\n",
       "\\item 0\n",
       "\\item 0\n",
       "\\item 0\n",
       "\\item 0\n",
       "\\item 0\n",
       "\\item 1\n",
       "\\item 0\n",
       "\\item 0\n",
       "\\item 0\n",
       "\\end{enumerate*}\n"
      ],
      "text/markdown": [
       "1. 0\n",
       "2. 1\n",
       "3. 0\n",
       "4. 0\n",
       "5. 0\n",
       "6. 0\n",
       "7. 0\n",
       "8. 0\n",
       "9. 0\n",
       "10. 0\n",
       "11. 0\n",
       "12. 0\n",
       "13. 1\n",
       "14. 0\n",
       "15. 0\n",
       "16. 0\n",
       "17. 0\n",
       "18. 0\n",
       "19. 1\n",
       "20. 0\n",
       "21. 0\n",
       "22. 0\n",
       "23. 0\n",
       "24. 0\n",
       "25. 1\n",
       "26. 1\n",
       "27. 1\n",
       "28. 0\n",
       "29. 0\n",
       "30. 0\n",
       "31. 0\n",
       "32. 1\n",
       "33. 1\n",
       "34. 0\n",
       "35. 0\n",
       "36. 0\n",
       "37. 0\n",
       "38. 1\n",
       "39. 0\n",
       "40. 0\n",
       "41. 0\n",
       "42. 1\n",
       "43. 0\n",
       "44. 0\n",
       "45. 0\n",
       "46. 0\n",
       "47. 0\n",
       "48. 0\n",
       "49. 0\n",
       "50. 0\n",
       "51. 0\n",
       "52. 0\n",
       "53. 0\n",
       "54. 0\n",
       "55. 0\n",
       "56. 0\n",
       "57. 0\n",
       "58. 0\n",
       "59. 0\n",
       "60. 0\n",
       "61. 0\n",
       "62. 1\n",
       "63. 0\n",
       "64. 0\n",
       "65. 1\n",
       "66. 0\n",
       "67. 0\n",
       "68. 1\n",
       "69. 0\n",
       "70. 0\n",
       "71. 0\n",
       "72. 0\n",
       "73. 0\n",
       "74. 0\n",
       "75. 0\n",
       "76. 0\n",
       "77. 0\n",
       "78. 0\n",
       "79. 0\n",
       "80. 1\n",
       "81. 1\n",
       "82. 0\n",
       "83. 0\n",
       "84. 0\n",
       "85. 0\n",
       "86. 0\n",
       "87. 0\n",
       "88. 0\n",
       "89. 0\n",
       "90. 0\n",
       "91. 0\n",
       "92. 1\n",
       "93. 0\n",
       "94. 0\n",
       "95. 0\n",
       "96. 0\n",
       "97. 0\n",
       "98. 0\n",
       "99. 0\n",
       "100. 0\n",
       "101. 0\n",
       "102. 0\n",
       "103. 1\n",
       "104. 0\n",
       "105. 0\n",
       "106. 0\n",
       "107. 1\n",
       "108. 0\n",
       "109. 0\n",
       "110. 0\n",
       "111. 1\n",
       "112. 0\n",
       "113. 1\n",
       "114. 0\n",
       "115. 0\n",
       "116. 0\n",
       "117. 0\n",
       "118. 0\n",
       "119. 0\n",
       "120. 1\n",
       "121. 0\n",
       "122. 0\n",
       "123. 0\n",
       "124. 0\n",
       "125. 0\n",
       "126. 1\n",
       "127. 0\n",
       "128. 0\n",
       "129. 0\n",
       "130. 0\n",
       "131. 0\n",
       "132. 0\n",
       "133. 0\n",
       "134. 0\n",
       "135. 0\n",
       "136. 0\n",
       "137. 0\n",
       "138. 0\n",
       "139. 0\n",
       "140. 0\n",
       "141. 0\n",
       "142. 1\n",
       "143. 0\n",
       "144. 0\n",
       "145. 1\n",
       "146. 0\n",
       "147. 0\n",
       "148. 1\n",
       "149. 0\n",
       "150. 0\n",
       "151. 0\n",
       "152. 0\n",
       "153. 0\n",
       "154. 0\n",
       "155. 0\n",
       "156. 0\n",
       "157. 0\n",
       "158. 1\n",
       "159. 0\n",
       "160. 0\n",
       "161. 1\n",
       "162. 1\n",
       "163. 1\n",
       "164. 1\n",
       "165. 0\n",
       "166. 0\n",
       "167. 0\n",
       "168. 0\n",
       "169. 0\n",
       "170. 0\n",
       "171. 1\n",
       "172. 1\n",
       "173. 0\n",
       "174. 0\n",
       "175. 0\n",
       "176. 0\n",
       "177. 0\n",
       "178. 0\n",
       "179. 0\n",
       "180. 0\n",
       "181. 0\n",
       "182. 0\n",
       "183. 0\n",
       "184. 0\n",
       "185. 0\n",
       "186. 1\n",
       "187. 0\n",
       "188. 0\n",
       "189. 0\n",
       "190. 1\n",
       "191. 0\n",
       "192. 0\n",
       "193. 0\n",
       "194. 0\n",
       "195. 0\n",
       "196. 1\n",
       "197. 0\n",
       "198. 0\n",
       "199. 0\n",
       "200. 1\n",
       "201. ⋯\n",
       "202. 0\n",
       "203. 0\n",
       "204. 0\n",
       "205. 1\n",
       "206. 1\n",
       "207. 0\n",
       "208. 1\n",
       "209. 0\n",
       "210. 1\n",
       "211. 0\n",
       "212. 0\n",
       "213. 0\n",
       "214. 1\n",
       "215. 0\n",
       "216. 1\n",
       "217. 0\n",
       "218. 0\n",
       "219. 0\n",
       "220. 1\n",
       "221. 1\n",
       "222. 1\n",
       "223. 0\n",
       "224. 0\n",
       "225. 0\n",
       "226. 0\n",
       "227. 0\n",
       "228. 0\n",
       "229. 0\n",
       "230. 0\n",
       "231. 0\n",
       "232. 0\n",
       "233. 0\n",
       "234. 1\n",
       "235. 1\n",
       "236. 0\n",
       "237. 1\n",
       "238. 0\n",
       "239. 1\n",
       "240. 0\n",
       "241. 1\n",
       "242. 0\n",
       "243. 0\n",
       "244. 1\n",
       "245. 1\n",
       "246. 0\n",
       "247. 1\n",
       "248. 0\n",
       "249. 0\n",
       "250. 1\n",
       "251. 0\n",
       "252. 1\n",
       "253. 0\n",
       "254. 0\n",
       "255. 1\n",
       "256. 0\n",
       "257. 1\n",
       "258. 0\n",
       "259. 1\n",
       "260. 0\n",
       "261. 1\n",
       "262. 0\n",
       "263. 0\n",
       "264. 0\n",
       "265. 0\n",
       "266. 0\n",
       "267. 0\n",
       "268. 1\n",
       "269. 0\n",
       "270. 0\n",
       "271. 0\n",
       "272. 0\n",
       "273. 0\n",
       "274. 1\n",
       "275. 1\n",
       "276. 0\n",
       "277. 1\n",
       "278. 0\n",
       "279. 0\n",
       "280. 0\n",
       "281. 0\n",
       "282. 0\n",
       "283. 0\n",
       "284. 0\n",
       "285. 0\n",
       "286. 0\n",
       "287. 1\n",
       "288. 0\n",
       "289. 0\n",
       "290. 0\n",
       "291. 0\n",
       "292. 1\n",
       "293. 0\n",
       "294. 1\n",
       "295. 0\n",
       "296. 0\n",
       "297. 0\n",
       "298. 1\n",
       "299. 0\n",
       "300. 0\n",
       "301. 0\n",
       "302. 1\n",
       "303. 0\n",
       "304. 0\n",
       "305. 0\n",
       "306. 0\n",
       "307. 0\n",
       "308. 0\n",
       "309. 0\n",
       "310. 0\n",
       "311. 1\n",
       "312. 1\n",
       "313. 0\n",
       "314. 0\n",
       "315. 0\n",
       "316. 0\n",
       "317. 0\n",
       "318. 0\n",
       "319. 0\n",
       "320. 0\n",
       "321. 0\n",
       "322. 0\n",
       "323. 0\n",
       "324. 0\n",
       "325. 1\n",
       "326. 0\n",
       "327. 0\n",
       "328. 1\n",
       "329. 0\n",
       "330. 1\n",
       "331. 0\n",
       "332. 0\n",
       "333. 0\n",
       "334. 0\n",
       "335. 0\n",
       "336. 1\n",
       "337. 1\n",
       "338. 0\n",
       "339. 0\n",
       "340. 0\n",
       "341. 0\n",
       "342. 0\n",
       "343. 0\n",
       "344. 0\n",
       "345. 0\n",
       "346. 0\n",
       "347. 0\n",
       "348. 0\n",
       "349. 0\n",
       "350. 0\n",
       "351. 0\n",
       "352. 0\n",
       "353. 1\n",
       "354. 0\n",
       "355. 1\n",
       "356. 0\n",
       "357. 0\n",
       "358. 0\n",
       "359. 0\n",
       "360. 1\n",
       "361. 0\n",
       "362. 0\n",
       "363. 1\n",
       "364. 0\n",
       "365. 0\n",
       "366. 0\n",
       "367. 0\n",
       "368. 0\n",
       "369. 0\n",
       "370. 0\n",
       "371. 0\n",
       "372. 1\n",
       "373. 0\n",
       "374. 0\n",
       "375. 0\n",
       "376. 1\n",
       "377. 0\n",
       "378. 0\n",
       "379. 1\n",
       "380. 1\n",
       "381. 0\n",
       "382. 0\n",
       "383. 0\n",
       "384. 1\n",
       "385. 0\n",
       "386. 1\n",
       "387. 0\n",
       "388. 0\n",
       "389. 1\n",
       "390. 0\n",
       "391. 0\n",
       "392. 0\n",
       "393. 0\n",
       "394. 0\n",
       "395. 0\n",
       "396. 0\n",
       "397. 0\n",
       "398. 1\n",
       "399. 0\n",
       "400. 0\n",
       "401. 0\n",
       "\n",
       "\n"
      ],
      "text/plain": [
       "   [1] 0 1 0 0 0 0 0 0 0 0 0 0 1 0 0 0 0 0 1 0 0 0 0 0 1 1 1 0 0 0 0 1 1 0 0 0 0\n",
       "  [38] 1 0 0 0 1 0 0 0 0 0 0 0 0 0 0 0 0 0 0 0 0 0 0 0 1 0 0 1 0 0 1 0 0 0 0 0 0\n",
       "  [75] 0 0 0 0 0 1 1 0 0 0 0 0 0 0 0 0 0 1 0 0 0 0 0 0 0 0 0 0 1 0 0 0 1 0 0 0 1\n",
       " [112] 0 1 0 0 0 0 0 0 1 0 0 0 0 0 1 0 0 0 0 0 0 0 0 0 0 0 0 0 0 0 1 0 0 1 0 0 1\n",
       " [149] 0 0 0 0 0 0 0 0 0 1 0 0 1 1 1 1 0 0 0 0 0 0 1 1 0 0 0 0 0 0 0 0 0 0 0 0 0\n",
       " [186] 1 0 0 0 1 0 0 0 0 0 1 0 0 0 1 0 1 0 0 1 0 0 0 0 1 0 0 1 0 0 0 0 0 0 0 1 1\n",
       " [223] 1 0 0 0 0 0 0 1 0 0 1 0 0 1 0 0 1 0 1 0 0 1 0 0 0 0 0 1 0 0 0 1 0 0 0 1 0\n",
       " [260] 1 0 0 0 0 0 0 0 1 0 0 0 1 0 0 0 1 0 0 0 0 0 0 1 0 1 0 0 0 0 0 0 0 0 0 1 1\n",
       " [297] 0 1 0 0 0 0 0 0 0 0 1 0 0 0 0 0 0 0 0 0 1 1 1 0 0 0 0 0 0 0 0 0 0 0 0 0 0\n",
       " [334] 0 0 0 0 0 0 0 0 0 0 1 0 0 0 0 0 0 0 0 0 0 0 1 0 0 0 0 0 1 1 0 0 1 0 0 0 0\n",
       " [371] 1 0 0 0 0 0 0 0 0 0 1 0 0 0 1 0 0 0 0 0 0 0 0 0 1 1 1 0 0 1 0 0 0 1 0 1 0\n",
       " [408] 0 0 0 0 0 0 0 0 0 1 0 0 1 0 0 0 0 0 0 0 0 1 0 0 0 0 1 0 0 0 0 0 1 0 0 0 0\n",
       " [445] 1 0 0 1 1 0 0 0 0 0 0 0 0 0 0 0 0 0 0 0 0 0 0 1 1 0 0 0 0 0 0 0 0 0 0 0 0\n",
       " [482] 1 0 0 0 0 0 1 0 0 0 0 0 0 0 0 0 0 1 0 0 0 0 1 0 1 0 0 0 0 0 1 0 0 0 0 0 0\n",
       " [519] 0 0 0 0 0 1 0 0 0 0 0 1 0 0 0 0 1 0 0 0 0 0 1 0 0 0 0 0 1 0 0 1 0 0 1 1 0\n",
       " [556] 0 0 0 0 0 0 1 0 0 0 1 0 0 0 0 0 0 0 0 0 1 0 0 0 0 0 0 0 0 0 0 0 0 0 0 0 0\n",
       " [593] 0 0 0 0 0 0 0 0 0 1 0 0 0 0 0 0 0 0 0 0 1 0 0 0 0 1 1 1 1 0 0 1 1 0 0 0 1\n",
       " [630] 1 0 0 0 1 1 0 0 0 0 0 0 0 0 0 0 0 0 1 0 1 0 1 0 0 0 0 0 0 0 0 0 0 0 1 1 0\n",
       " [667] 0 0 0 0 0 1 0 1 1 0 0 0 0 0 0 0 0 0 0 0 0 0 0 0 0 1 0 0 0 0 0 1 1 0 0 0 0\n",
       " [704] 0 0 0 1 0 0 0 1 0 1 0 0 0 0 0 0 0 0 0 0 0 0 0 0 0 0 0 0 0 1 0 0 0 0 0 0 0\n",
       " [741] 1 0 1 0 1 1 0 0 1 0 0 0 0 1 0 1 0 0 0 0 0 0 0 0 0 0 0 0 0 1 0 0 0 0 0 0 0\n",
       " [778] 0 0 0 0 0 0 0 0 0 0 1 0 1 0 0 0 0 0 0 0 0 0 1 0 0 0 1 1 0 1 0 1 0 0 0 1 0\n",
       " [815] 1 0 0 0 1 1 1 0 0 0 0 0 0 0 0 0 0 0 1 1 0 1 0 1 0 1 0 0 1 1 0 1 0 0 1 0 1\n",
       " [852] 0 0 1 0 1 0 1 0 1 0 0 0 0 0 0 1 0 0 0 0 0 1 1 0 1 0 0 0 0 0 0 0 0 0 1 0 0\n",
       " [889] 0 0 1 0 1 0 0 0 1 0 0 0 1 0 0 0 0 0 0 0 0 1 1 0 0 0 0 0 0 0 0 0 0 0 0 1 0\n",
       " [926] 0 1 0 1 0 0 0 0 0 1 1 0 0 0 0 0 0 0 0 0 0 0 0 0 0 0 1 0 1 0 0 0 0 1 0 0 1\n",
       " [963] 0 0 0 0 0 0 0 0 1 0 0 0 1 0 0 1 1 0 0 0 1 0 1 0 0 1 0 0 0 0 0 0 0 0 1 0 0\n",
       "[1000] 0"
      ]
     },
     "metadata": {},
     "output_type": "display_data"
    }
   ],
   "source": [
    "A = rbinom(1000, size=1, p=0.2)\n",
    "A"
   ]
  },
  {
   "cell_type": "code",
   "execution_count": 43,
   "id": "54f2f2dd-09e6-459f-a57c-422ad0779a19",
   "metadata": {},
   "outputs": [
    {
     "data": {
      "text/html": [
       "195"
      ],
      "text/latex": [
       "195"
      ],
      "text/markdown": [
       "195"
      ],
      "text/plain": [
       "[1] 195"
      ]
     },
     "metadata": {},
     "output_type": "display_data"
    }
   ],
   "source": [
    "sum(A)"
   ]
  },
  {
   "cell_type": "markdown",
   "id": "e12f66ca-bdef-423b-a599-c502a2c4c92e",
   "metadata": {},
   "source": [
    "### (5)"
   ]
  },
  {
   "cell_type": "code",
   "execution_count": 23,
   "id": "0ce87b10-e45b-43b8-a484-88d1482cb7f9",
   "metadata": {},
   "outputs": [
    {
     "data": {
      "image/png": "[encoded data removed]",
      "text/plain": [
       "Plot with title \"Histogram of y\""
      ]
     },
     "metadata": {
      "image/png": {
       "height": 420,
       "width": 420
      }
     },
     "output_type": "display_data"
    }
   ],
   "source": [
    "y = rnorm(5000, mean=1, sd=1)\n",
    "hist(y)"
   ]
  },
  {
   "cell_type": "markdown",
   "id": "a3543a42-173a-4c22-9be3-122e5f802097",
   "metadata": {},
   "source": [
    "### (6)"
   ]
  },
  {
   "cell_type": "code",
   "execution_count": 29,
   "id": "d2c5a1eb-e1d9-4b1e-9ca6-2ea357a03246",
   "metadata": {},
   "outputs": [
    {
     "data": {
      "text/html": [
       "-9.32587340685131e-15"
      ],
      "text/latex": [
       "-9.32587340685131e-15"
      ],
      "text/markdown": [
       "-9.32587340685131e-15"
      ],
      "text/plain": [
       "[1] -9.325873e-15"
      ]
     },
     "metadata": {},
     "output_type": "display_data"
    }
   ],
   "source": [
    "x=-1000:1000/1000\n",
    "A = 0\n",
    "for(i in 1:1000){\n",
    "    A = A+ x[2*i]\n",
    "    }\n",
    "A"
   ]
  },
  {
   "cell_type": "markdown",
   "id": "6d5743d1-8268-402e-8193-ec989eeba0ff",
   "metadata": {},
   "source": [
    "### (7)"
   ]
  },
  {
   "cell_type": "code",
   "execution_count": 30,
   "id": "7c516d9d-847a-4e01-86ac-66ef6c11ea09",
   "metadata": {},
   "outputs": [
    {
     "data": {
      "text/html": [
       "11782.8275300469"
      ],
      "text/latex": [
       "11782.8275300469"
      ],
      "text/markdown": [
       "11782.8275300469"
      ],
      "text/plain": [
       "[1] 11782.83"
      ]
     },
     "metadata": {},
     "output_type": "display_data"
    }
   ],
   "source": [
    "sal <- c()\n",
    "sal[1]=5000\n",
    "for(i in 2:30){\n",
    "    sal[i]=sal[i-1]*1.03\n",
    "    }\n",
    "sal[30]"
   ]
  },
  {
   "cell_type": "markdown",
   "id": "6f7a9ea8-9186-4f3d-8b90-47d667068828",
   "metadata": {},
   "source": [
    "### (8)"
   ]
  },
  {
   "cell_type": "code",
   "execution_count": 31,
   "id": "6a8296b6-207d-4ef2-a8bb-ed144692fe79",
   "metadata": {},
   "outputs": [],
   "source": [
    "f <- function(x){\n",
    "    if (x>0){\n",
    "    print(log(x))\n",
    "}else{\n",
    "    if(x==0){\n",
    "        print(\"음의 무한대\")\n",
    "    }else{\n",
    "        print(\"x는 양수이어야 합니다.\")\n",
    "        }\n",
    "   }\n",
    "}"
   ]
  },
  {
   "cell_type": "code",
   "execution_count": 32,
   "id": "9552ee25-4b34-4c58-898c-c9d08762cf63",
   "metadata": {},
   "outputs": [
    {
     "name": "stdout",
     "output_type": "stream",
     "text": [
      "[1] 0.6931472\n",
      "[1] \"음의 무한대\"\n",
      "[1] \"x는 양수이어야 합니다.\"\n"
     ]
    }
   ],
   "source": [
    "f(2)\n",
    "f(0)\n",
    "f(-2)"
   ]
  },
  {
   "cell_type": "markdown",
   "id": "03db25b7-7ac7-4442-9e10-67c529dc7c45",
   "metadata": {},
   "source": [
    "### (9)"
   ]
  },
  {
   "cell_type": "code",
   "execution_count": 33,
   "id": "bd8776f8-00b7-4bd0-b706-df4b67937f84",
   "metadata": {},
   "outputs": [
    {
     "data": {
      "text/html": [
       "<table class=\"dataframe\">\n",
       "<caption>A tibble: 6 × 2</caption>\n",
       "<thead>\n",
       "\t<tr><th scope=col>X1</th><th scope=col>X2</th></tr>\n",
       "\t<tr><th scope=col>&lt;dbl&gt;</th><th scope=col>&lt;dbl&gt;</th></tr>\n",
       "</thead>\n",
       "<tbody>\n",
       "\t<tr><td>-0.1122155</td><td> 0.2108486</td></tr>\n",
       "\t<tr><td> 1.6624378</td><td> 1.5147630</td></tr>\n",
       "\t<tr><td>-0.8109998</td><td>-2.1239591</td></tr>\n",
       "\t<tr><td>-2.3375955</td><td> 0.1359514</td></tr>\n",
       "\t<tr><td> 0.2748996</td><td>-0.9783280</td></tr>\n",
       "\t<tr><td>-1.5480077</td><td> 1.0057525</td></tr>\n",
       "</tbody>\n",
       "</table>\n"
      ],
      "text/latex": [
       "A tibble: 6 × 2\n",
       "\\begin{tabular}{ll}\n",
       " X1 & X2\\\\\n",
       " <dbl> & <dbl>\\\\\n",
       "\\hline\n",
       "\t -0.1122155 &  0.2108486\\\\\n",
       "\t  1.6624378 &  1.5147630\\\\\n",
       "\t -0.8109998 & -2.1239591\\\\\n",
       "\t -2.3375955 &  0.1359514\\\\\n",
       "\t  0.2748996 & -0.9783280\\\\\n",
       "\t -1.5480077 &  1.0057525\\\\\n",
       "\\end{tabular}\n"
      ],
      "text/markdown": [
       "\n",
       "A tibble: 6 × 2\n",
       "\n",
       "| X1 &lt;dbl&gt; | X2 &lt;dbl&gt; |\n",
       "|---|---|\n",
       "| -0.1122155 |  0.2108486 |\n",
       "|  1.6624378 |  1.5147630 |\n",
       "| -0.8109998 | -2.1239591 |\n",
       "| -2.3375955 |  0.1359514 |\n",
       "|  0.2748996 | -0.9783280 |\n",
       "| -1.5480077 |  1.0057525 |\n",
       "\n"
      ],
      "text/plain": [
       "  X1         X2        \n",
       "1 -0.1122155  0.2108486\n",
       "2  1.6624378  1.5147630\n",
       "3 -0.8109998 -2.1239591\n",
       "4 -2.3375955  0.1359514\n",
       "5  0.2748996 -0.9783280\n",
       "6 -1.5480077  1.0057525"
      ]
     },
     "metadata": {},
     "output_type": "display_data"
    }
   ],
   "source": [
    "df=tibble(X1=rnorm(100),X2=rnorm(100))\n",
    "head(df)"
   ]
  },
  {
   "cell_type": "code",
   "execution_count": 34,
   "id": "19a638d0-3e10-45e7-8843-591c840d3830",
   "metadata": {},
   "outputs": [
    {
     "data": {
      "text/html": [
       "<table class=\"dataframe\">\n",
       "<caption>A tibble: 100 × 3</caption>\n",
       "<thead>\n",
       "\t<tr><th scope=col>X1</th><th scope=col>X2</th><th scope=col>Z</th></tr>\n",
       "\t<tr><th scope=col>&lt;dbl&gt;</th><th scope=col>&lt;dbl&gt;</th><th scope=col>&lt;dbl&gt;</th></tr>\n",
       "</thead>\n",
       "<tbody>\n",
       "\t<tr><td>-0.11221550</td><td> 0.21084865</td><td>0.05704947</td></tr>\n",
       "\t<tr><td> 1.66243785</td><td> 1.51476301</td><td>5.05820656</td></tr>\n",
       "\t<tr><td>-0.81099980</td><td>-2.12395905</td><td>5.16892273</td></tr>\n",
       "\t<tr><td>-2.33759547</td><td> 0.13595140</td><td>5.48283535</td></tr>\n",
       "\t<tr><td> 0.27489957</td><td>-0.97832795</td><td>1.03269536</td></tr>\n",
       "\t<tr><td>-1.54800770</td><td> 1.00575249</td><td>3.40786591</td></tr>\n",
       "\t<tr><td> 0.32052027</td><td> 0.44419916</td><td>0.30004614</td></tr>\n",
       "\t<tr><td>-0.58792595</td><td> 0.26029602</td><td>0.41341094</td></tr>\n",
       "\t<tr><td>-0.17162043</td><td>-0.70301378</td><td>0.52368195</td></tr>\n",
       "\t<tr><td> 0.79902023</td><td>-0.05013652</td><td>0.64094700</td></tr>\n",
       "\t<tr><td>-1.45743080</td><td>-0.01708423</td><td>2.12439640</td></tr>\n",
       "\t<tr><td>-0.85881474</td><td> 0.85816952</td><td>1.47401769</td></tr>\n",
       "\t<tr><td> 0.31386622</td><td> 0.83119378</td><td>0.78939510</td></tr>\n",
       "\t<tr><td> 0.25081868</td><td> 0.02058789</td><td>0.06333387</td></tr>\n",
       "\t<tr><td> 2.15555395</td><td> 0.56246487</td><td>4.96277955</td></tr>\n",
       "\t<tr><td> 1.13030398</td><td>-0.75276070</td><td>1.84423575</td></tr>\n",
       "\t<tr><td> 1.09386781</td><td> 1.69187475</td><td>4.05898695</td></tr>\n",
       "\t<tr><td>-0.68222666</td><td>-0.26605641</td><td>0.53621923</td></tr>\n",
       "\t<tr><td>-0.66313081</td><td>-0.28368297</td><td>0.52021849</td></tr>\n",
       "\t<tr><td>-0.81082078</td><td>-0.36865223</td><td>0.79333481</td></tr>\n",
       "\t<tr><td>-1.06760933</td><td> 0.69942702</td><td>1.62898784</td></tr>\n",
       "\t<tr><td> 0.10923168</td><td> 0.02754774</td><td>0.01269044</td></tr>\n",
       "\t<tr><td> 0.40500161</td><td> 0.38415141</td><td>0.31159861</td></tr>\n",
       "\t<tr><td> 0.00552494</td><td>-1.50944292</td><td>2.27844847</td></tr>\n",
       "\t<tr><td> 0.38998468</td><td> 0.51226901</td><td>0.41450759</td></tr>\n",
       "\t<tr><td> 0.07584705</td><td> 1.06046252</td><td>1.13033353</td></tr>\n",
       "\t<tr><td>-0.07457782</td><td>-0.68797420</td><td>0.47887035</td></tr>\n",
       "\t<tr><td>-0.59632995</td><td>-0.07168662</td><td>0.36074838</td></tr>\n",
       "\t<tr><td> 1.58653518</td><td> 1.72717524</td><td>5.50022819</td></tr>\n",
       "\t<tr><td> 0.92078106</td><td> 1.84882420</td><td>4.26598869</td></tr>\n",
       "\t<tr><td>⋮</td><td>⋮</td><td>⋮</td></tr>\n",
       "\t<tr><td> 0.16248739</td><td>-0.082295348</td><td>0.033174677</td></tr>\n",
       "\t<tr><td> 0.20949984</td><td>-0.875657325</td><td>0.810665933</td></tr>\n",
       "\t<tr><td>-0.92157739</td><td> 2.255897821</td><td>5.938379856</td></tr>\n",
       "\t<tr><td>-0.45491289</td><td> 1.029828596</td><td>1.267492675</td></tr>\n",
       "\t<tr><td> 1.67656366</td><td> 0.477599967</td><td>3.038967445</td></tr>\n",
       "\t<tr><td>-0.39270699</td><td> 1.880020891</td><td>3.688697332</td></tr>\n",
       "\t<tr><td>-0.43924070</td><td>-0.839631592</td><td>0.897913606</td></tr>\n",
       "\t<tr><td>-0.29547698</td><td>-0.103913987</td><td>0.098104765</td></tr>\n",
       "\t<tr><td>-0.53838936</td><td> 0.113262995</td><td>0.302691609</td></tr>\n",
       "\t<tr><td>-0.05549308</td><td> 1.138000119</td><td>1.298123754</td></tr>\n",
       "\t<tr><td>-0.33385523</td><td>-0.460992417</td><td>0.323973325</td></tr>\n",
       "\t<tr><td> 0.17157439</td><td> 1.844730006</td><td>3.432466566</td></tr>\n",
       "\t<tr><td>-0.07214925</td><td> 0.003816908</td><td>0.005220083</td></tr>\n",
       "\t<tr><td>-0.46879110</td><td> 1.015483989</td><td>1.250972824</td></tr>\n",
       "\t<tr><td> 1.75778965</td><td>-1.033499362</td><td>4.157945377</td></tr>\n",
       "\t<tr><td> 0.65479499</td><td>-0.309636758</td><td>0.524631395</td></tr>\n",
       "\t<tr><td> 0.32195902</td><td> 1.391597686</td><td>2.040201729</td></tr>\n",
       "\t<tr><td>-0.19886727</td><td>-1.605044867</td><td>2.615717215</td></tr>\n",
       "\t<tr><td> 1.34127701</td><td> 0.078636131</td><td>1.805207661</td></tr>\n",
       "\t<tr><td> 0.20868606</td><td> 1.191856483</td><td>1.464071747</td></tr>\n",
       "\t<tr><td>-1.31987382</td><td>-0.034132115</td><td>1.743231907</td></tr>\n",
       "\t<tr><td>-0.30386871</td><td> 1.590576073</td><td>2.622268435</td></tr>\n",
       "\t<tr><td> 0.13380850</td><td>-0.314182225</td><td>0.116615186</td></tr>\n",
       "\t<tr><td> 0.77074104</td><td>-0.229577031</td><td>0.646747368</td></tr>\n",
       "\t<tr><td>-0.48253806</td><td>-0.380921258</td><td>0.377943983</td></tr>\n",
       "\t<tr><td> 0.73131215</td><td>-0.578921695</td><td>0.869967782</td></tr>\n",
       "\t<tr><td>-0.65883093</td><td> 1.164146206</td><td>1.789294585</td></tr>\n",
       "\t<tr><td> 0.65822164</td><td> 1.884169331</td><td>3.983349790</td></tr>\n",
       "\t<tr><td> 0.32801146</td><td> 1.264382771</td><td>1.706255309</td></tr>\n",
       "\t<tr><td> 2.87362619</td><td> 1.047365758</td><td>9.354702529</td></tr>\n",
       "</tbody>\n",
       "</table>\n"
      ],
      "text/latex": [
       "A tibble: 100 × 3\n",
       "\\begin{tabular}{lll}\n",
       " X1 & X2 & Z\\\\\n",
       " <dbl> & <dbl> & <dbl>\\\\\n",
       "\\hline\n",
       "\t -0.11221550 &  0.21084865 & 0.05704947\\\\\n",
       "\t  1.66243785 &  1.51476301 & 5.05820656\\\\\n",
       "\t -0.81099980 & -2.12395905 & 5.16892273\\\\\n",
       "\t -2.33759547 &  0.13595140 & 5.48283535\\\\\n",
       "\t  0.27489957 & -0.97832795 & 1.03269536\\\\\n",
       "\t -1.54800770 &  1.00575249 & 3.40786591\\\\\n",
       "\t  0.32052027 &  0.44419916 & 0.30004614\\\\\n",
       "\t -0.58792595 &  0.26029602 & 0.41341094\\\\\n",
       "\t -0.17162043 & -0.70301378 & 0.52368195\\\\\n",
       "\t  0.79902023 & -0.05013652 & 0.64094700\\\\\n",
       "\t -1.45743080 & -0.01708423 & 2.12439640\\\\\n",
       "\t -0.85881474 &  0.85816952 & 1.47401769\\\\\n",
       "\t  0.31386622 &  0.83119378 & 0.78939510\\\\\n",
       "\t  0.25081868 &  0.02058789 & 0.06333387\\\\\n",
       "\t  2.15555395 &  0.56246487 & 4.96277955\\\\\n",
       "\t  1.13030398 & -0.75276070 & 1.84423575\\\\\n",
       "\t  1.09386781 &  1.69187475 & 4.05898695\\\\\n",
       "\t -0.68222666 & -0.26605641 & 0.53621923\\\\\n",
       "\t -0.66313081 & -0.28368297 & 0.52021849\\\\\n",
       "\t -0.81082078 & -0.36865223 & 0.79333481\\\\\n",
       "\t -1.06760933 &  0.69942702 & 1.62898784\\\\\n",
       "\t  0.10923168 &  0.02754774 & 0.01269044\\\\\n",
       "\t  0.40500161 &  0.38415141 & 0.31159861\\\\\n",
       "\t  0.00552494 & -1.50944292 & 2.27844847\\\\\n",
       "\t  0.38998468 &  0.51226901 & 0.41450759\\\\\n",
       "\t  0.07584705 &  1.06046252 & 1.13033353\\\\\n",
       "\t -0.07457782 & -0.68797420 & 0.47887035\\\\\n",
       "\t -0.59632995 & -0.07168662 & 0.36074838\\\\\n",
       "\t  1.58653518 &  1.72717524 & 5.50022819\\\\\n",
       "\t  0.92078106 &  1.84882420 & 4.26598869\\\\\n",
       "\t ⋮ & ⋮ & ⋮\\\\\n",
       "\t  0.16248739 & -0.082295348 & 0.033174677\\\\\n",
       "\t  0.20949984 & -0.875657325 & 0.810665933\\\\\n",
       "\t -0.92157739 &  2.255897821 & 5.938379856\\\\\n",
       "\t -0.45491289 &  1.029828596 & 1.267492675\\\\\n",
       "\t  1.67656366 &  0.477599967 & 3.038967445\\\\\n",
       "\t -0.39270699 &  1.880020891 & 3.688697332\\\\\n",
       "\t -0.43924070 & -0.839631592 & 0.897913606\\\\\n",
       "\t -0.29547698 & -0.103913987 & 0.098104765\\\\\n",
       "\t -0.53838936 &  0.113262995 & 0.302691609\\\\\n",
       "\t -0.05549308 &  1.138000119 & 1.298123754\\\\\n",
       "\t -0.33385523 & -0.460992417 & 0.323973325\\\\\n",
       "\t  0.17157439 &  1.844730006 & 3.432466566\\\\\n",
       "\t -0.07214925 &  0.003816908 & 0.005220083\\\\\n",
       "\t -0.46879110 &  1.015483989 & 1.250972824\\\\\n",
       "\t  1.75778965 & -1.033499362 & 4.157945377\\\\\n",
       "\t  0.65479499 & -0.309636758 & 0.524631395\\\\\n",
       "\t  0.32195902 &  1.391597686 & 2.040201729\\\\\n",
       "\t -0.19886727 & -1.605044867 & 2.615717215\\\\\n",
       "\t  1.34127701 &  0.078636131 & 1.805207661\\\\\n",
       "\t  0.20868606 &  1.191856483 & 1.464071747\\\\\n",
       "\t -1.31987382 & -0.034132115 & 1.743231907\\\\\n",
       "\t -0.30386871 &  1.590576073 & 2.622268435\\\\\n",
       "\t  0.13380850 & -0.314182225 & 0.116615186\\\\\n",
       "\t  0.77074104 & -0.229577031 & 0.646747368\\\\\n",
       "\t -0.48253806 & -0.380921258 & 0.377943983\\\\\n",
       "\t  0.73131215 & -0.578921695 & 0.869967782\\\\\n",
       "\t -0.65883093 &  1.164146206 & 1.789294585\\\\\n",
       "\t  0.65822164 &  1.884169331 & 3.983349790\\\\\n",
       "\t  0.32801146 &  1.264382771 & 1.706255309\\\\\n",
       "\t  2.87362619 &  1.047365758 & 9.354702529\\\\\n",
       "\\end{tabular}\n"
      ],
      "text/markdown": [
       "\n",
       "A tibble: 100 × 3\n",
       "\n",
       "| X1 &lt;dbl&gt; | X2 &lt;dbl&gt; | Z &lt;dbl&gt; |\n",
       "|---|---|---|\n",
       "| -0.11221550 |  0.21084865 | 0.05704947 |\n",
       "|  1.66243785 |  1.51476301 | 5.05820656 |\n",
       "| -0.81099980 | -2.12395905 | 5.16892273 |\n",
       "| -2.33759547 |  0.13595140 | 5.48283535 |\n",
       "|  0.27489957 | -0.97832795 | 1.03269536 |\n",
       "| -1.54800770 |  1.00575249 | 3.40786591 |\n",
       "|  0.32052027 |  0.44419916 | 0.30004614 |\n",
       "| -0.58792595 |  0.26029602 | 0.41341094 |\n",
       "| -0.17162043 | -0.70301378 | 0.52368195 |\n",
       "|  0.79902023 | -0.05013652 | 0.64094700 |\n",
       "| -1.45743080 | -0.01708423 | 2.12439640 |\n",
       "| -0.85881474 |  0.85816952 | 1.47401769 |\n",
       "|  0.31386622 |  0.83119378 | 0.78939510 |\n",
       "|  0.25081868 |  0.02058789 | 0.06333387 |\n",
       "|  2.15555395 |  0.56246487 | 4.96277955 |\n",
       "|  1.13030398 | -0.75276070 | 1.84423575 |\n",
       "|  1.09386781 |  1.69187475 | 4.05898695 |\n",
       "| -0.68222666 | -0.26605641 | 0.53621923 |\n",
       "| -0.66313081 | -0.28368297 | 0.52021849 |\n",
       "| -0.81082078 | -0.36865223 | 0.79333481 |\n",
       "| -1.06760933 |  0.69942702 | 1.62898784 |\n",
       "|  0.10923168 |  0.02754774 | 0.01269044 |\n",
       "|  0.40500161 |  0.38415141 | 0.31159861 |\n",
       "|  0.00552494 | -1.50944292 | 2.27844847 |\n",
       "|  0.38998468 |  0.51226901 | 0.41450759 |\n",
       "|  0.07584705 |  1.06046252 | 1.13033353 |\n",
       "| -0.07457782 | -0.68797420 | 0.47887035 |\n",
       "| -0.59632995 | -0.07168662 | 0.36074838 |\n",
       "|  1.58653518 |  1.72717524 | 5.50022819 |\n",
       "|  0.92078106 |  1.84882420 | 4.26598869 |\n",
       "| ⋮ | ⋮ | ⋮ |\n",
       "|  0.16248739 | -0.082295348 | 0.033174677 |\n",
       "|  0.20949984 | -0.875657325 | 0.810665933 |\n",
       "| -0.92157739 |  2.255897821 | 5.938379856 |\n",
       "| -0.45491289 |  1.029828596 | 1.267492675 |\n",
       "|  1.67656366 |  0.477599967 | 3.038967445 |\n",
       "| -0.39270699 |  1.880020891 | 3.688697332 |\n",
       "| -0.43924070 | -0.839631592 | 0.897913606 |\n",
       "| -0.29547698 | -0.103913987 | 0.098104765 |\n",
       "| -0.53838936 |  0.113262995 | 0.302691609 |\n",
       "| -0.05549308 |  1.138000119 | 1.298123754 |\n",
       "| -0.33385523 | -0.460992417 | 0.323973325 |\n",
       "|  0.17157439 |  1.844730006 | 3.432466566 |\n",
       "| -0.07214925 |  0.003816908 | 0.005220083 |\n",
       "| -0.46879110 |  1.015483989 | 1.250972824 |\n",
       "|  1.75778965 | -1.033499362 | 4.157945377 |\n",
       "|  0.65479499 | -0.309636758 | 0.524631395 |\n",
       "|  0.32195902 |  1.391597686 | 2.040201729 |\n",
       "| -0.19886727 | -1.605044867 | 2.615717215 |\n",
       "|  1.34127701 |  0.078636131 | 1.805207661 |\n",
       "|  0.20868606 |  1.191856483 | 1.464071747 |\n",
       "| -1.31987382 | -0.034132115 | 1.743231907 |\n",
       "| -0.30386871 |  1.590576073 | 2.622268435 |\n",
       "|  0.13380850 | -0.314182225 | 0.116615186 |\n",
       "|  0.77074104 | -0.229577031 | 0.646747368 |\n",
       "| -0.48253806 | -0.380921258 | 0.377943983 |\n",
       "|  0.73131215 | -0.578921695 | 0.869967782 |\n",
       "| -0.65883093 |  1.164146206 | 1.789294585 |\n",
       "|  0.65822164 |  1.884169331 | 3.983349790 |\n",
       "|  0.32801146 |  1.264382771 | 1.706255309 |\n",
       "|  2.87362619 |  1.047365758 | 9.354702529 |\n",
       "\n"
      ],
      "text/plain": [
       "    X1          X2           Z          \n",
       "1   -0.11221550  0.21084865  0.05704947 \n",
       "2    1.66243785  1.51476301  5.05820656 \n",
       "3   -0.81099980 -2.12395905  5.16892273 \n",
       "4   -2.33759547  0.13595140  5.48283535 \n",
       "5    0.27489957 -0.97832795  1.03269536 \n",
       "6   -1.54800770  1.00575249  3.40786591 \n",
       "7    0.32052027  0.44419916  0.30004614 \n",
       "8   -0.58792595  0.26029602  0.41341094 \n",
       "9   -0.17162043 -0.70301378  0.52368195 \n",
       "10   0.79902023 -0.05013652  0.64094700 \n",
       "11  -1.45743080 -0.01708423  2.12439640 \n",
       "12  -0.85881474  0.85816952  1.47401769 \n",
       "13   0.31386622  0.83119378  0.78939510 \n",
       "14   0.25081868  0.02058789  0.06333387 \n",
       "15   2.15555395  0.56246487  4.96277955 \n",
       "16   1.13030398 -0.75276070  1.84423575 \n",
       "17   1.09386781  1.69187475  4.05898695 \n",
       "18  -0.68222666 -0.26605641  0.53621923 \n",
       "19  -0.66313081 -0.28368297  0.52021849 \n",
       "20  -0.81082078 -0.36865223  0.79333481 \n",
       "21  -1.06760933  0.69942702  1.62898784 \n",
       "22   0.10923168  0.02754774  0.01269044 \n",
       "23   0.40500161  0.38415141  0.31159861 \n",
       "24   0.00552494 -1.50944292  2.27844847 \n",
       "25   0.38998468  0.51226901  0.41450759 \n",
       "26   0.07584705  1.06046252  1.13033353 \n",
       "27  -0.07457782 -0.68797420  0.47887035 \n",
       "28  -0.59632995 -0.07168662  0.36074838 \n",
       "29   1.58653518  1.72717524  5.50022819 \n",
       "30   0.92078106  1.84882420  4.26598869 \n",
       "<U+22EE>   <U+22EE>    <U+22EE>     <U+22EE>   \n",
       "71   0.16248739 -0.082295348 0.033174677\n",
       "72   0.20949984 -0.875657325 0.810665933\n",
       "73  -0.92157739  2.255897821 5.938379856\n",
       "74  -0.45491289  1.029828596 1.267492675\n",
       "75   1.67656366  0.477599967 3.038967445\n",
       "76  -0.39270699  1.880020891 3.688697332\n",
       "77  -0.43924070 -0.839631592 0.897913606\n",
       "78  -0.29547698 -0.103913987 0.098104765\n",
       "79  -0.53838936  0.113262995 0.302691609\n",
       "80  -0.05549308  1.138000119 1.298123754\n",
       "81  -0.33385523 -0.460992417 0.323973325\n",
       "82   0.17157439  1.844730006 3.432466566\n",
       "83  -0.07214925  0.003816908 0.005220083\n",
       "84  -0.46879110  1.015483989 1.250972824\n",
       "85   1.75778965 -1.033499362 4.157945377\n",
       "86   0.65479499 -0.309636758 0.524631395\n",
       "87   0.32195902  1.391597686 2.040201729\n",
       "88  -0.19886727 -1.605044867 2.615717215\n",
       "89   1.34127701  0.078636131 1.805207661\n",
       "90   0.20868606  1.191856483 1.464071747\n",
       "91  -1.31987382 -0.034132115 1.743231907\n",
       "92  -0.30386871  1.590576073 2.622268435\n",
       "93   0.13380850 -0.314182225 0.116615186\n",
       "94   0.77074104 -0.229577031 0.646747368\n",
       "95  -0.48253806 -0.380921258 0.377943983\n",
       "96   0.73131215 -0.578921695 0.869967782\n",
       "97  -0.65883093  1.164146206 1.789294585\n",
       "98   0.65822164  1.884169331 3.983349790\n",
       "99   0.32801146  1.264382771 1.706255309\n",
       "100  2.87362619  1.047365758 9.354702529"
      ]
     },
     "metadata": {},
     "output_type": "display_data"
    }
   ],
   "source": [
    "df %>% mutate(Z=X1^2+X2^2)"
   ]
  },
  {
   "cell_type": "markdown",
   "id": "3d955392-d390-4602-8edd-09695379ded5",
   "metadata": {},
   "source": [
    "### (10)"
   ]
  },
  {
   "cell_type": "code",
   "execution_count": 35,
   "id": "db572075-8ac4-4f1b-add7-f0f0cec13145",
   "metadata": {},
   "outputs": [
    {
     "name": "stdout",
     "output_type": "stream",
     "text": [
      "      [,1] [,2] [,3] [,4] [,5] [,6] [,7] [,8] [,9] [,10]\n",
      " [1,]    2    3    3    2    2    3    1    3    3     3\n",
      " [2,]    1    3    3    4    2    2    4    2    2     1\n",
      " [3,]    2    2    2    2    4    4    2    3    3     3\n",
      " [4,]    3    2    4    5    2    5    1    4    2     2\n",
      " [5,]    2    2    2    2    1    4    2    2    3     4\n",
      " [6,]    5    1    3    1    1    3    4    2    4     3\n",
      " [7,]    4    3    4    3    2    3    2    3    0     1\n",
      " [8,]    4    4    2    3    2    3    3    0    4     2\n",
      " [9,]    5    5    4    3    2    4    4    4    1     4\n",
      "[10,]    2    4    4    3    1    3    3    2    1     2\n"
     ]
    }
   ],
   "source": [
    "set.seed(1221)\n",
    "mat = rbinom(n=100,size=5,prob=0.5)\n",
    "dim(mat)=c(10,10)\n",
    "print(mat)"
   ]
  },
  {
   "cell_type": "code",
   "execution_count": 37,
   "id": "1490cf46-8dc8-456c-a3c8-8755279826b3",
   "metadata": {},
   "outputs": [
    {
     "data": {
      "text/html": [
       "<style>\n",
       ".list-inline {list-style: none; margin:0; padding: 0}\n",
       ".list-inline>li {display: inline-block}\n",
       ".list-inline>li:not(:last-child)::after {content: \"\\00b7\"; padding: 0 .5ex}\n",
       "</style>\n",
       "<ol class=list-inline><li>25</li><li>24</li><li>27</li><li>30</li><li>24</li><li>27</li><li>25</li><li>27</li><li>36</li><li>25</li></ol>\n"
      ],
      "text/latex": [
       "\\begin{enumerate*}\n",
       "\\item 25\n",
       "\\item 24\n",
       "\\item 27\n",
       "\\item 30\n",
       "\\item 24\n",
       "\\item 27\n",
       "\\item 25\n",
       "\\item 27\n",
       "\\item 36\n",
       "\\item 25\n",
       "\\end{enumerate*}\n"
      ],
      "text/markdown": [
       "1. 25\n",
       "2. 24\n",
       "3. 27\n",
       "4. 30\n",
       "5. 24\n",
       "6. 27\n",
       "7. 25\n",
       "8. 27\n",
       "9. 36\n",
       "10. 25\n",
       "\n",
       "\n"
      ],
      "text/plain": [
       " [1] 25 24 27 30 24 27 25 27 36 25"
      ]
     },
     "metadata": {},
     "output_type": "display_data"
    }
   ],
   "source": [
    "apply(mat,1,sum) #각 행의 합"
   ]
  },
  {
   "cell_type": "code",
   "execution_count": 38,
   "id": "f08f1926-c677-441c-acb5-e5d5dcf25d27",
   "metadata": {},
   "outputs": [
    {
     "data": {
      "text/html": [
       "<style>\n",
       ".list-inline {list-style: none; margin:0; padding: 0}\n",
       ".list-inline>li {display: inline-block}\n",
       ".list-inline>li:not(:last-child)::after {content: \"\\00b7\"; padding: 0 .5ex}\n",
       "</style>\n",
       "<ol class=list-inline><li>30</li><li>29</li><li>31</li><li>28</li><li>19</li><li>34</li><li>26</li><li>25</li><li>23</li><li>25</li></ol>\n"
      ],
      "text/latex": [
       "\\begin{enumerate*}\n",
       "\\item 30\n",
       "\\item 29\n",
       "\\item 31\n",
       "\\item 28\n",
       "\\item 19\n",
       "\\item 34\n",
       "\\item 26\n",
       "\\item 25\n",
       "\\item 23\n",
       "\\item 25\n",
       "\\end{enumerate*}\n"
      ],
      "text/markdown": [
       "1. 30\n",
       "2. 29\n",
       "3. 31\n",
       "4. 28\n",
       "5. 19\n",
       "6. 34\n",
       "7. 26\n",
       "8. 25\n",
       "9. 23\n",
       "10. 25\n",
       "\n",
       "\n"
      ],
      "text/plain": [
       " [1] 30 29 31 28 19 34 26 25 23 25"
      ]
     },
     "metadata": {},
     "output_type": "display_data"
    }
   ],
   "source": [
    "apply(mat,2,sum) #각 열의 합"
   ]
  },
  {
   "cell_type": "markdown",
   "id": "045510ac-6ec6-432a-ab94-c1b2039a3c89",
   "metadata": {},
   "source": [
    "## 6번."
   ]
  },
  {
   "cell_type": "markdown",
   "id": "be3c3804-07d2-4a17-b679-64eb2acdb97f",
   "metadata": {},
   "source": [
    "### (1)"
   ]
  },
  {
   "cell_type": "code",
   "execution_count": 52,
   "id": "96256b13-727e-41fd-9762-c269407ebc1a",
   "metadata": {},
   "outputs": [],
   "source": [
    "x<- c()\n",
    "x[1]=5\n",
    "x[2]=5"
   ]
  },
  {
   "cell_type": "code",
   "execution_count": 53,
   "id": "e94bef8a-ecfc-445e-94c8-37bcc3a7e6f9",
   "metadata": {},
   "outputs": [],
   "source": [
    "for(n in 3:50){\n",
    "    temp_ = mean(x[1:(n-1)])+1 \n",
    "    sum_ = temp_ * n \n",
    "    x[n] = sum_ - sum(x[1:(n-1)])\n",
    "    }"
   ]
  },
  {
   "cell_type": "code",
   "execution_count": 54,
   "id": "427e2bbe-5754-4d5d-91da-6c5183e8bd17",
   "metadata": {},
   "outputs": [
    {
     "data": {
      "text/html": [
       "102"
      ],
      "text/latex": [
       "102"
      ],
      "text/markdown": [
       "102"
      ],
      "text/plain": [
       "[1] 102"
      ]
     },
     "metadata": {},
     "output_type": "display_data"
    }
   ],
   "source": [
    "x[50]"
   ]
  },
  {
   "cell_type": "markdown",
   "id": "60249786-b142-421a-a659-36b0ef7e0dbd",
   "metadata": {
    "tags": []
   },
   "source": [
    "### (2)"
   ]
  },
  {
   "cell_type": "code",
   "execution_count": 45,
   "id": "4ab2c17a-ac7d-48c2-b91c-e58ee2c782ee",
   "metadata": {},
   "outputs": [],
   "source": [
    "x= rep(FALSE, 100)"
   ]
  },
  {
   "cell_type": "code",
   "execution_count": 46,
   "id": "d6c485dc-57ea-45df-bb2f-cbe8a1e6949b",
   "metadata": {},
   "outputs": [],
   "source": [
    "f <- function(x)\n",
    "    !x"
   ]
  },
  {
   "cell_type": "code",
   "execution_count": 47,
   "id": "5f5281f6-981c-4a5e-a15b-83904a90c238",
   "metadata": {},
   "outputs": [],
   "source": [
    "g = function(x,a){\n",
    "    n=length(x)\n",
    "    x[(1:n) %% a==0] <- x[(1:n) %% a ==0] %>% f\n",
    "    x\n",
    "    }"
   ]
  },
  {
   "cell_type": "code",
   "execution_count": 48,
   "id": "97e5c1db-ba36-4d12-a7d8-e9cbde8d934a",
   "metadata": {},
   "outputs": [],
   "source": [
    "x= rep(FALSE, 50)\n",
    "x= f(x)\n",
    "for(i in 2:50){\n",
    "    x=g(x,i)\n",
    "    }"
   ]
  },
  {
   "cell_type": "code",
   "execution_count": 51,
   "id": "2a53dca6-9272-4e03-a77e-2f3ed9cd2dcb",
   "metadata": {},
   "outputs": [
    {
     "data": {
      "text/html": [
       "7"
      ],
      "text/latex": [
       "7"
      ],
      "text/markdown": [
       "7"
      ],
      "text/plain": [
       "[1] 7"
      ]
     },
     "metadata": {},
     "output_type": "display_data"
    }
   ],
   "source": [
    "sum(x)"
   ]
  },
  {
   "cell_type": "markdown",
   "id": "8afb6b54-d5fb-47b5-885b-8b4c14a584dc",
   "metadata": {},
   "source": [
    "### (3)"
   ]
  },
  {
   "cell_type": "code",
   "execution_count": null,
   "id": "7aa55dc9-b315-4299-8a45-5287d0025feb",
   "metadata": {},
   "outputs": [],
   "source": []
  },
  {
   "cell_type": "markdown",
   "id": "b2d8ffdb-662b-4938-b906-c3112344e681",
   "metadata": {},
   "source": [
    "### (4)"
   ]
  },
  {
   "cell_type": "code",
   "execution_count": null,
   "id": "e744a684-92be-49ee-ae34-78ec9565b158",
   "metadata": {},
   "outputs": [],
   "source": []
  },
  {
   "cell_type": "markdown",
   "id": "d326ae07-c843-4a60-8d99-b82e9f2ccb49",
   "metadata": {},
   "source": [
    "### (5)"
   ]
  },
  {
   "cell_type": "code",
   "execution_count": 55,
   "id": "a95e599e-70e1-43f7-9045-83b0d28d73d8",
   "metadata": {},
   "outputs": [],
   "source": [
    "df=read.csv(\"https://raw.githubusercontent.com/guebin/2021IR/master/_notebooks/round2.csv\")\n",
    "X=as.matrix(df)"
   ]
  },
  {
   "cell_type": "code",
   "execution_count": 68,
   "id": "e4351581-0c7f-4325-9dcb-bf947016aa39",
   "metadata": {},
   "outputs": [
    {
     "data": {
      "text/html": [
       "<table class=\"dataframe\">\n",
       "<caption>A matrix: 2 × 2 of type dbl</caption>\n",
       "<tbody>\n",
       "\t<tr><td>0.7071068</td><td>-0.7071068</td></tr>\n",
       "\t<tr><td>0.7071068</td><td> 0.7071068</td></tr>\n",
       "</tbody>\n",
       "</table>\n"
      ],
      "text/latex": [
       "A matrix: 2 × 2 of type dbl\n",
       "\\begin{tabular}{ll}\n",
       "\t 0.7071068 & -0.7071068\\\\\n",
       "\t 0.7071068 &  0.7071068\\\\\n",
       "\\end{tabular}\n"
      ],
      "text/markdown": [
       "\n",
       "A matrix: 2 × 2 of type dbl\n",
       "\n",
       "| 0.7071068 | -0.7071068 |\n",
       "| 0.7071068 |  0.7071068 |\n",
       "\n"
      ],
      "text/plain": [
       "     [,1]      [,2]      \n",
       "[1,] 0.7071068 -0.7071068\n",
       "[2,] 0.7071068  0.7071068"
      ]
     },
     "metadata": {},
     "output_type": "display_data"
    }
   ],
   "source": [
    "X_ = rbind(cos(pi/4), sin(pi/4), -sin(pi/4), cos(pi/4))\n",
    "dim(X_) = c(2,2)\n",
    "X_"
   ]
  },
  {
   "cell_type": "code",
   "execution_count": 74,
   "id": "39ec28fd-1454-4cf2-af6a-90fedc916fb8",
   "metadata": {},
   "outputs": [],
   "source": [
    "XX = X %*% X_"
   ]
  },
  {
   "cell_type": "code",
   "execution_count": 75,
   "id": "ef521187-c5cd-4a1c-94bc-1abe34b13604",
   "metadata": {},
   "outputs": [
    {
     "data": {
      "image/png": "[encoded data removed]",
      "text/plain": [
       "plot without title"
      ]
     },
     "metadata": {
      "image/png": {
       "height": 420,
       "width": 420
      }
     },
     "output_type": "display_data"
    }
   ],
   "source": [
    "plot(XX[,1], XX[,2])"
   ]
  },
  {
   "cell_type": "code",
   "execution_count": null,
   "id": "9f3cb23d-2ad5-4bad-bfac-51eb66d212ca",
   "metadata": {},
   "outputs": [],
   "source": []
  }
 ],
 "metadata": {
  "kernelspec": {
   "display_name": "R",
   "language": "R",
   "name": "ir"
  },
  "language_info": {
   "codemirror_mode": "r",
   "file_extension": ".r",
   "mimetype": "text/x-r-source",
   "name": "R",
   "pygments_lexer": "r",
   "version": "4.0.5"
  }
 },
 "nbformat": 4,
 "nbformat_minor": 5
}
