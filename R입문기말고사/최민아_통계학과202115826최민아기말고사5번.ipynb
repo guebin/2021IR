{
 "cells": [
  {
   "cell_type": "code",
   "execution_count": 1,
   "id": "79f72ef2",
   "metadata": {},
   "outputs": [
    {
     "name": "stderr",
     "output_type": "stream",
     "text": [
      "Registered S3 methods overwritten by 'ggplot2':\n",
      "  method         from \n",
      "  [.quosures     rlang\n",
      "  c.quosures     rlang\n",
      "  print.quosures rlang\n",
      "Registered S3 method overwritten by 'rvest':\n",
      "  method            from\n",
      "  read_xml.response xml2\n",
      "-- Attaching packages --------------------------------------- tidyverse 1.2.1 --\n",
      "√ ggplot2 3.1.1       √ purrr   0.3.2  \n",
      "√ tibble  2.1.1       √ dplyr   0.8.0.1\n",
      "√ tidyr   0.8.3       √ stringr 1.4.0  \n",
      "√ readr   1.3.1       √ forcats 0.4.0  \n",
      "-- Conflicts ------------------------------------------ tidyverse_conflicts() --\n",
      "x dplyr::filter() masks stats::filter()\n",
      "x dplyr::lag()    masks stats::lag()\n"
     ]
    }
   ],
   "source": [
    "library(tidyverse)"
   ]
  },
  {
   "cell_type": "markdown",
   "id": "fdab323f",
   "metadata": {},
   "source": [
    "## `5`. 다음을 잘 읽고 물음에 답하라. (10점)"
   ]
  },
  {
   "cell_type": "markdown",
   "id": "e0eec225",
   "metadata": {},
   "source": [
    "#### `(1)` cumprod 함수를 이용하여 $7!=7\\times 6 \\times 5 \\times \\dots \\times 1$을 계산하라. "
   ]
  },
  {
   "cell_type": "code",
   "execution_count": 3,
   "id": "8226386c",
   "metadata": {},
   "outputs": [
    {
     "data": {
      "text/html": [
       "5040"
      ],
      "text/latex": [
       "5040"
      ],
      "text/markdown": [
       "5040"
      ],
      "text/plain": [
       "[1] 5040"
      ]
     },
     "metadata": {},
     "output_type": "display_data"
    }
   ],
   "source": [
    "max(cumprod(c(7,6,5,4,3,2,1)))"
   ]
  },
  {
   "cell_type": "markdown",
   "id": "217d1c54",
   "metadata": {},
   "source": [
    "#### `(2)` $\\sum_{n=0}^{\\infty}\\frac{n}{n!}$의 값을 근사적으로 계산하라. 계산결과를 exp(1)과 비교하라. "
   ]
  },
  {
   "cell_type": "code",
   "execution_count": 6,
   "id": "1135fdb3",
   "metadata": {},
   "outputs": [
    {
     "data": {
      "text/html": [
       "2.71828182845905"
      ],
      "text/latex": [
       "2.71828182845905"
      ],
      "text/markdown": [
       "2.71828182845905"
      ],
      "text/plain": [
       "[1] 2.718282"
      ]
     },
     "metadata": {},
     "output_type": "display_data"
    }
   ],
   "source": [
    "f <- function(n){\n",
    "    f=n/factorial(n)\n",
    "}\n",
    "sum(f(1:1000))"
   ]
  },
  {
   "cell_type": "code",
   "execution_count": 7,
   "id": "1a9faf85",
   "metadata": {},
   "outputs": [
    {
     "data": {
      "text/html": [
       "2.71828182845905"
      ],
      "text/latex": [
       "2.71828182845905"
      ],
      "text/markdown": [
       "2.71828182845905"
      ],
      "text/plain": [
       "[1] 2.718282"
      ]
     },
     "metadata": {},
     "output_type": "display_data"
    }
   ],
   "source": [
    "exp(1)"
   ]
  },
  {
   "cell_type": "markdown",
   "id": "f3da78c8",
   "metadata": {},
   "source": [
    "#### `(3)` 표준정규분포에서 1000개의 난수를 생성발생시킨 뒤 0보다 큰 수를 세어보라. "
   ]
  },
  {
   "cell_type": "code",
   "execution_count": 5,
   "id": "e17ff3bd",
   "metadata": {},
   "outputs": [
    {
     "data": {
      "text/html": [
       "486"
      ],
      "text/latex": [
       "486"
      ],
      "text/markdown": [
       "486"
      ],
      "text/plain": [
       "[1] 486"
      ]
     },
     "metadata": {},
     "output_type": "display_data"
    }
   ],
   "source": [
    "vywns <- rnorm(1000, 0, 1)\n",
    "(vywns>0)%>% sum"
   ]
  },
  {
   "cell_type": "markdown",
   "id": "122a261c",
   "metadata": {},
   "source": [
    "#### `(4)` $p=0.2$인 베르누이분포에서 1000개의 난수를 만들면 1이 몇개정도 포함되는가? 시뮬레이션을 통하여 검증하라."
   ]
  },
  {
   "cell_type": "code",
   "execution_count": 9,
   "id": "a6869c6f",
   "metadata": {},
   "outputs": [],
   "source": [
    "brn <- rbinom(1000, 1, 0.2)"
   ]
  },
  {
   "cell_type": "code",
   "execution_count": 10,
   "id": "ab7d6432",
   "metadata": {},
   "outputs": [
    {
     "data": {
      "text/html": [
       "205"
      ],
      "text/latex": [
       "205"
      ],
      "text/markdown": [
       "205"
      ],
      "text/plain": [
       "[1] 205"
      ]
     },
     "metadata": {},
     "output_type": "display_data"
    }
   ],
   "source": [
    "sum(brn==1)"
   ]
  },
  {
   "cell_type": "markdown",
   "id": "a264dea8",
   "metadata": {},
   "source": [
    "#### `(5)` 아래는 표준정규분포, 즉 평균이 0이고 표준편차가 1인 정규분포에서 1000개의 난수를 생성하여 $x$라는 변수에 저장한뒤 $x$의 히스토그램을 그린 예시이다. 아래의 예시를 이용하여 평균이 1이고 표준편차가 1인 정규분포에서 5000개의 난수를 생성한뒤 $y$에 저장하고 $y$의 히스토그램을 그려라. 시각화 예시는 아래와 같다. "
   ]
  },
  {
   "cell_type": "code",
   "execution_count": 13,
   "id": "94ae9c5b",
   "metadata": {},
   "outputs": [
    {
     "data": {
      "image/png": "[encoded data removed]",
      "text/plain": [
       "Plot with title \"Histogram of y\""
      ]
     },
     "metadata": {},
     "output_type": "display_data"
    }
   ],
   "source": [
    "y <- rnorm(5000, 1, 1)\n",
    "hist(y)"
   ]
  },
  {
   "cell_type": "markdown",
   "id": "ed5acb9b",
   "metadata": {},
   "source": [
    "#### `(6)` 아래와 같은 벡터 x에서 짝수번째 원소 (즉 x[2],x[4],$\\dots$,x[2000])의 합을 구하는 코드를 작성하라 "
   ]
  },
  {
   "cell_type": "code",
   "execution_count": 14,
   "id": "4a0dbaa3",
   "metadata": {},
   "outputs": [],
   "source": [
    "x=-1000:1000/1000"
   ]
  },
  {
   "cell_type": "code",
   "execution_count": 16,
   "id": "d2916a3c",
   "metadata": {},
   "outputs": [
    {
     "name": "stdout",
     "output_type": "stream",
     "text": [
      "   [1] -1.000 -0.999 -0.998 -0.997 -0.996 -0.995 -0.994 -0.993 -0.992 -0.991\n",
      "  [11] -0.990 -0.989 -0.988 -0.987 -0.986 -0.985 -0.984 -0.983 -0.982 -0.981\n",
      "  [21] -0.980 -0.979 -0.978 -0.977 -0.976 -0.975 -0.974 -0.973 -0.972 -0.971\n",
      "  [31] -0.970 -0.969 -0.968 -0.967 -0.966 -0.965 -0.964 -0.963 -0.962 -0.961\n",
      "  [41] -0.960 -0.959 -0.958 -0.957 -0.956 -0.955 -0.954 -0.953 -0.952 -0.951\n",
      "  [51] -0.950 -0.949 -0.948 -0.947 -0.946 -0.945 -0.944 -0.943 -0.942 -0.941\n",
      "  [61] -0.940 -0.939 -0.938 -0.937 -0.936 -0.935 -0.934 -0.933 -0.932 -0.931\n",
      "  [71] -0.930 -0.929 -0.928 -0.927 -0.926 -0.925 -0.924 -0.923 -0.922 -0.921\n",
      "  [81] -0.920 -0.919 -0.918 -0.917 -0.916 -0.915 -0.914 -0.913 -0.912 -0.911\n",
      "  [91] -0.910 -0.909 -0.908 -0.907 -0.906 -0.905 -0.904 -0.903 -0.902 -0.901\n",
      " [101] -0.900 -0.899 -0.898 -0.897 -0.896 -0.895 -0.894 -0.893 -0.892 -0.891\n",
      " [111] -0.890 -0.889 -0.888 -0.887 -0.886 -0.885 -0.884 -0.883 -0.882 -0.881\n",
      " [121] -0.880 -0.879 -0.878 -0.877 -0.876 -0.875 -0.874 -0.873 -0.872 -0.871\n",
      " [131] -0.870 -0.869 -0.868 -0.867 -0.866 -0.865 -0.864 -0.863 -0.862 -0.861\n",
      " [141] -0.860 -0.859 -0.858 -0.857 -0.856 -0.855 -0.854 -0.853 -0.852 -0.851\n",
      " [151] -0.850 -0.849 -0.848 -0.847 -0.846 -0.845 -0.844 -0.843 -0.842 -0.841\n",
      " [161] -0.840 -0.839 -0.838 -0.837 -0.836 -0.835 -0.834 -0.833 -0.832 -0.831\n",
      " [171] -0.830 -0.829 -0.828 -0.827 -0.826 -0.825 -0.824 -0.823 -0.822 -0.821\n",
      " [181] -0.820 -0.819 -0.818 -0.817 -0.816 -0.815 -0.814 -0.813 -0.812 -0.811\n",
      " [191] -0.810 -0.809 -0.808 -0.807 -0.806 -0.805 -0.804 -0.803 -0.802 -0.801\n",
      " [201] -0.800 -0.799 -0.798 -0.797 -0.796 -0.795 -0.794 -0.793 -0.792 -0.791\n",
      " [211] -0.790 -0.789 -0.788 -0.787 -0.786 -0.785 -0.784 -0.783 -0.782 -0.781\n",
      " [221] -0.780 -0.779 -0.778 -0.777 -0.776 -0.775 -0.774 -0.773 -0.772 -0.771\n",
      " [231] -0.770 -0.769 -0.768 -0.767 -0.766 -0.765 -0.764 -0.763 -0.762 -0.761\n",
      " [241] -0.760 -0.759 -0.758 -0.757 -0.756 -0.755 -0.754 -0.753 -0.752 -0.751\n",
      " [251] -0.750 -0.749 -0.748 -0.747 -0.746 -0.745 -0.744 -0.743 -0.742 -0.741\n",
      " [261] -0.740 -0.739 -0.738 -0.737 -0.736 -0.735 -0.734 -0.733 -0.732 -0.731\n",
      " [271] -0.730 -0.729 -0.728 -0.727 -0.726 -0.725 -0.724 -0.723 -0.722 -0.721\n",
      " [281] -0.720 -0.719 -0.718 -0.717 -0.716 -0.715 -0.714 -0.713 -0.712 -0.711\n",
      " [291] -0.710 -0.709 -0.708 -0.707 -0.706 -0.705 -0.704 -0.703 -0.702 -0.701\n",
      " [301] -0.700 -0.699 -0.698 -0.697 -0.696 -0.695 -0.694 -0.693 -0.692 -0.691\n",
      " [311] -0.690 -0.689 -0.688 -0.687 -0.686 -0.685 -0.684 -0.683 -0.682 -0.681\n",
      " [321] -0.680 -0.679 -0.678 -0.677 -0.676 -0.675 -0.674 -0.673 -0.672 -0.671\n",
      " [331] -0.670 -0.669 -0.668 -0.667 -0.666 -0.665 -0.664 -0.663 -0.662 -0.661\n",
      " [341] -0.660 -0.659 -0.658 -0.657 -0.656 -0.655 -0.654 -0.653 -0.652 -0.651\n",
      " [351] -0.650 -0.649 -0.648 -0.647 -0.646 -0.645 -0.644 -0.643 -0.642 -0.641\n",
      " [361] -0.640 -0.639 -0.638 -0.637 -0.636 -0.635 -0.634 -0.633 -0.632 -0.631\n",
      " [371] -0.630 -0.629 -0.628 -0.627 -0.626 -0.625 -0.624 -0.623 -0.622 -0.621\n",
      " [381] -0.620 -0.619 -0.618 -0.617 -0.616 -0.615 -0.614 -0.613 -0.612 -0.611\n",
      " [391] -0.610 -0.609 -0.608 -0.607 -0.606 -0.605 -0.604 -0.603 -0.602 -0.601\n",
      " [401] -0.600 -0.599 -0.598 -0.597 -0.596 -0.595 -0.594 -0.593 -0.592 -0.591\n",
      " [411] -0.590 -0.589 -0.588 -0.587 -0.586 -0.585 -0.584 -0.583 -0.582 -0.581\n",
      " [421] -0.580 -0.579 -0.578 -0.577 -0.576 -0.575 -0.574 -0.573 -0.572 -0.571\n",
      " [431] -0.570 -0.569 -0.568 -0.567 -0.566 -0.565 -0.564 -0.563 -0.562 -0.561\n",
      " [441] -0.560 -0.559 -0.558 -0.557 -0.556 -0.555 -0.554 -0.553 -0.552 -0.551\n",
      " [451] -0.550 -0.549 -0.548 -0.547 -0.546 -0.545 -0.544 -0.543 -0.542 -0.541\n",
      " [461] -0.540 -0.539 -0.538 -0.537 -0.536 -0.535 -0.534 -0.533 -0.532 -0.531\n",
      " [471] -0.530 -0.529 -0.528 -0.527 -0.526 -0.525 -0.524 -0.523 -0.522 -0.521\n",
      " [481] -0.520 -0.519 -0.518 -0.517 -0.516 -0.515 -0.514 -0.513 -0.512 -0.511\n",
      " [491] -0.510 -0.509 -0.508 -0.507 -0.506 -0.505 -0.504 -0.503 -0.502 -0.501\n",
      " [501] -0.500 -0.499 -0.498 -0.497 -0.496 -0.495 -0.494 -0.493 -0.492 -0.491\n",
      " [511] -0.490 -0.489 -0.488 -0.487 -0.486 -0.485 -0.484 -0.483 -0.482 -0.481\n",
      " [521] -0.480 -0.479 -0.478 -0.477 -0.476 -0.475 -0.474 -0.473 -0.472 -0.471\n",
      " [531] -0.470 -0.469 -0.468 -0.467 -0.466 -0.465 -0.464 -0.463 -0.462 -0.461\n",
      " [541] -0.460 -0.459 -0.458 -0.457 -0.456 -0.455 -0.454 -0.453 -0.452 -0.451\n",
      " [551] -0.450 -0.449 -0.448 -0.447 -0.446 -0.445 -0.444 -0.443 -0.442 -0.441\n",
      " [561] -0.440 -0.439 -0.438 -0.437 -0.436 -0.435 -0.434 -0.433 -0.432 -0.431\n",
      " [571] -0.430 -0.429 -0.428 -0.427 -0.426 -0.425 -0.424 -0.423 -0.422 -0.421\n",
      " [581] -0.420 -0.419 -0.418 -0.417 -0.416 -0.415 -0.414 -0.413 -0.412 -0.411\n",
      " [591] -0.410 -0.409 -0.408 -0.407 -0.406 -0.405 -0.404 -0.403 -0.402 -0.401\n",
      " [601] -0.400 -0.399 -0.398 -0.397 -0.396 -0.395 -0.394 -0.393 -0.392 -0.391\n",
      " [611] -0.390 -0.389 -0.388 -0.387 -0.386 -0.385 -0.384 -0.383 -0.382 -0.381\n",
      " [621] -0.380 -0.379 -0.378 -0.377 -0.376 -0.375 -0.374 -0.373 -0.372 -0.371\n",
      " [631] -0.370 -0.369 -0.368 -0.367 -0.366 -0.365 -0.364 -0.363 -0.362 -0.361\n",
      " [641] -0.360 -0.359 -0.358 -0.357 -0.356 -0.355 -0.354 -0.353 -0.352 -0.351\n",
      " [651] -0.350 -0.349 -0.348 -0.347 -0.346 -0.345 -0.344 -0.343 -0.342 -0.341\n",
      " [661] -0.340 -0.339 -0.338 -0.337 -0.336 -0.335 -0.334 -0.333 -0.332 -0.331\n",
      " [671] -0.330 -0.329 -0.328 -0.327 -0.326 -0.325 -0.324 -0.323 -0.322 -0.321\n",
      " [681] -0.320 -0.319 -0.318 -0.317 -0.316 -0.315 -0.314 -0.313 -0.312 -0.311\n",
      " [691] -0.310 -0.309 -0.308 -0.307 -0.306 -0.305 -0.304 -0.303 -0.302 -0.301\n",
      " [701] -0.300 -0.299 -0.298 -0.297 -0.296 -0.295 -0.294 -0.293 -0.292 -0.291\n",
      " [711] -0.290 -0.289 -0.288 -0.287 -0.286 -0.285 -0.284 -0.283 -0.282 -0.281\n",
      " [721] -0.280 -0.279 -0.278 -0.277 -0.276 -0.275 -0.274 -0.273 -0.272 -0.271\n",
      " [731] -0.270 -0.269 -0.268 -0.267 -0.266 -0.265 -0.264 -0.263 -0.262 -0.261\n",
      " [741] -0.260 -0.259 -0.258 -0.257 -0.256 -0.255 -0.254 -0.253 -0.252 -0.251\n",
      " [751] -0.250 -0.249 -0.248 -0.247 -0.246 -0.245 -0.244 -0.243 -0.242 -0.241\n",
      " [761] -0.240 -0.239 -0.238 -0.237 -0.236 -0.235 -0.234 -0.233 -0.232 -0.231\n",
      " [771] -0.230 -0.229 -0.228 -0.227 -0.226 -0.225 -0.224 -0.223 -0.222 -0.221\n",
      " [781] -0.220 -0.219 -0.218 -0.217 -0.216 -0.215 -0.214 -0.213 -0.212 -0.211\n",
      " [791] -0.210 -0.209 -0.208 -0.207 -0.206 -0.205 -0.204 -0.203 -0.202 -0.201\n",
      " [801] -0.200 -0.199 -0.198 -0.197 -0.196 -0.195 -0.194 -0.193 -0.192 -0.191\n",
      " [811] -0.190 -0.189 -0.188 -0.187 -0.186 -0.185 -0.184 -0.183 -0.182 -0.181\n",
      " [821] -0.180 -0.179 -0.178 -0.177 -0.176 -0.175 -0.174 -0.173 -0.172 -0.171\n",
      " [831] -0.170 -0.169 -0.168 -0.167 -0.166 -0.165 -0.164 -0.163 -0.162 -0.161\n",
      " [841] -0.160 -0.159 -0.158 -0.157 -0.156 -0.155 -0.154 -0.153 -0.152 -0.151\n",
      " [851] -0.150 -0.149 -0.148 -0.147 -0.146 -0.145 -0.144 -0.143 -0.142 -0.141\n",
      " [861] -0.140 -0.139 -0.138 -0.137 -0.136 -0.135 -0.134 -0.133 -0.132 -0.131\n",
      " [871] -0.130 -0.129 -0.128 -0.127 -0.126 -0.125 -0.124 -0.123 -0.122 -0.121\n",
      " [881] -0.120 -0.119 -0.118 -0.117 -0.116 -0.115 -0.114 -0.113 -0.112 -0.111\n",
      " [891] -0.110 -0.109 -0.108 -0.107 -0.106 -0.105 -0.104 -0.103 -0.102 -0.101\n",
      " [901] -0.100 -0.099 -0.098 -0.097 -0.096 -0.095 -0.094 -0.093 -0.092 -0.091\n",
      " [911] -0.090 -0.089 -0.088 -0.087 -0.086 -0.085 -0.084 -0.083 -0.082 -0.081\n",
      " [921] -0.080 -0.079 -0.078 -0.077 -0.076 -0.075 -0.074 -0.073 -0.072 -0.071\n",
      " [931] -0.070 -0.069 -0.068 -0.067 -0.066 -0.065 -0.064 -0.063 -0.062 -0.061\n",
      " [941] -0.060 -0.059 -0.058 -0.057 -0.056 -0.055 -0.054 -0.053 -0.052 -0.051\n",
      " [951] -0.050 -0.049 -0.048 -0.047 -0.046 -0.045 -0.044 -0.043 -0.042 -0.041\n",
      " [961] -0.040 -0.039 -0.038 -0.037 -0.036 -0.035 -0.034 -0.033 -0.032 -0.031\n",
      " [971] -0.030 -0.029 -0.028 -0.027 -0.026 -0.025 -0.024 -0.023 -0.022 -0.021\n",
      " [981] -0.020 -0.019 -0.018 -0.017 -0.016 -0.015 -0.014 -0.013 -0.012 -0.011\n",
      " [991] -0.010 -0.009 -0.008 -0.007 -0.006 -0.005 -0.004 -0.003 -0.002 -0.001\n",
      "[1001]  0.000  0.001  0.002  0.003  0.004  0.005  0.006  0.007  0.008  0.009\n",
      "[1011]  0.010  0.011  0.012  0.013  0.014  0.015  0.016  0.017  0.018  0.019\n",
      "[1021]  0.020  0.021  0.022  0.023  0.024  0.025  0.026  0.027  0.028  0.029\n",
      "[1031]  0.030  0.031  0.032  0.033  0.034  0.035  0.036  0.037  0.038  0.039\n",
      "[1041]  0.040  0.041  0.042  0.043  0.044  0.045  0.046  0.047  0.048  0.049\n",
      "[1051]  0.050  0.051  0.052  0.053  0.054  0.055  0.056  0.057  0.058  0.059\n",
      "[1061]  0.060  0.061  0.062  0.063  0.064  0.065  0.066  0.067  0.068  0.069\n",
      "[1071]  0.070  0.071  0.072  0.073  0.074  0.075  0.076  0.077  0.078  0.079\n",
      "[1081]  0.080  0.081  0.082  0.083  0.084  0.085  0.086  0.087  0.088  0.089\n",
      "[1091]  0.090  0.091  0.092  0.093  0.094  0.095  0.096  0.097  0.098  0.099\n",
      "[1101]  0.100  0.101  0.102  0.103  0.104  0.105  0.106  0.107  0.108  0.109\n",
      "[1111]  0.110  0.111  0.112  0.113  0.114  0.115  0.116  0.117  0.118  0.119\n",
      "[1121]  0.120  0.121  0.122  0.123  0.124  0.125  0.126  0.127  0.128  0.129\n",
      "[1131]  0.130  0.131  0.132  0.133  0.134  0.135  0.136  0.137  0.138  0.139\n",
      "[1141]  0.140  0.141  0.142  0.143  0.144  0.145  0.146  0.147  0.148  0.149\n",
      "[1151]  0.150  0.151  0.152  0.153  0.154  0.155  0.156  0.157  0.158  0.159\n",
      "[1161]  0.160  0.161  0.162  0.163  0.164  0.165  0.166  0.167  0.168  0.169\n",
      "[1171]  0.170  0.171  0.172  0.173  0.174  0.175  0.176  0.177  0.178  0.179\n",
      "[1181]  0.180  0.181  0.182  0.183  0.184  0.185  0.186  0.187  0.188  0.189\n",
      "[1191]  0.190  0.191  0.192  0.193  0.194  0.195  0.196  0.197  0.198  0.199\n",
      "[1201]  0.200  0.201  0.202  0.203  0.204  0.205  0.206  0.207  0.208  0.209\n",
      "[1211]  0.210  0.211  0.212  0.213  0.214  0.215  0.216  0.217  0.218  0.219\n",
      "[1221]  0.220  0.221  0.222  0.223  0.224  0.225  0.226  0.227  0.228  0.229\n",
      "[1231]  0.230  0.231  0.232  0.233  0.234  0.235  0.236  0.237  0.238  0.239\n",
      "[1241]  0.240  0.241  0.242  0.243  0.244  0.245  0.246  0.247  0.248  0.249\n",
      "[1251]  0.250  0.251  0.252  0.253  0.254  0.255  0.256  0.257  0.258  0.259\n",
      "[1261]  0.260  0.261  0.262  0.263  0.264  0.265  0.266  0.267  0.268  0.269\n",
      "[1271]  0.270  0.271  0.272  0.273  0.274  0.275  0.276  0.277  0.278  0.279\n",
      "[1281]  0.280  0.281  0.282  0.283  0.284  0.285  0.286  0.287  0.288  0.289\n",
      "[1291]  0.290  0.291  0.292  0.293  0.294  0.295  0.296  0.297  0.298  0.299\n",
      "[1301]  0.300  0.301  0.302  0.303  0.304  0.305  0.306  0.307  0.308  0.309\n",
      "[1311]  0.310  0.311  0.312  0.313  0.314  0.315  0.316  0.317  0.318  0.319\n",
      "[1321]  0.320  0.321  0.322  0.323  0.324  0.325  0.326  0.327  0.328  0.329\n",
      "[1331]  0.330  0.331  0.332  0.333  0.334  0.335  0.336  0.337  0.338  0.339\n",
      "[1341]  0.340  0.341  0.342  0.343  0.344  0.345  0.346  0.347  0.348  0.349\n",
      "[1351]  0.350  0.351  0.352  0.353  0.354  0.355  0.356  0.357  0.358  0.359\n",
      "[1361]  0.360  0.361  0.362  0.363  0.364  0.365  0.366  0.367  0.368  0.369\n",
      "[1371]  0.370  0.371  0.372  0.373  0.374  0.375  0.376  0.377  0.378  0.379\n",
      "[1381]  0.380  0.381  0.382  0.383  0.384  0.385  0.386  0.387  0.388  0.389\n",
      "[1391]  0.390  0.391  0.392  0.393  0.394  0.395  0.396  0.397  0.398  0.399\n",
      "[1401]  0.400  0.401  0.402  0.403  0.404  0.405  0.406  0.407  0.408  0.409\n",
      "[1411]  0.410  0.411  0.412  0.413  0.414  0.415  0.416  0.417  0.418  0.419\n",
      "[1421]  0.420  0.421  0.422  0.423  0.424  0.425  0.426  0.427  0.428  0.429\n",
      "[1431]  0.430  0.431  0.432  0.433  0.434  0.435  0.436  0.437  0.438  0.439\n",
      "[1441]  0.440  0.441  0.442  0.443  0.444  0.445  0.446  0.447  0.448  0.449\n",
      "[1451]  0.450  0.451  0.452  0.453  0.454  0.455  0.456  0.457  0.458  0.459\n",
      "[1461]  0.460  0.461  0.462  0.463  0.464  0.465  0.466  0.467  0.468  0.469\n",
      "[1471]  0.470  0.471  0.472  0.473  0.474  0.475  0.476  0.477  0.478  0.479\n",
      "[1481]  0.480  0.481  0.482  0.483  0.484  0.485  0.486  0.487  0.488  0.489\n",
      "[1491]  0.490  0.491  0.492  0.493  0.494  0.495  0.496  0.497  0.498  0.499\n",
      "[1501]  0.500  0.501  0.502  0.503  0.504  0.505  0.506  0.507  0.508  0.509\n",
      "[1511]  0.510  0.511  0.512  0.513  0.514  0.515  0.516  0.517  0.518  0.519\n",
      "[1521]  0.520  0.521  0.522  0.523  0.524  0.525  0.526  0.527  0.528  0.529\n",
      "[1531]  0.530  0.531  0.532  0.533  0.534  0.535  0.536  0.537  0.538  0.539\n",
      "[1541]  0.540  0.541  0.542  0.543  0.544  0.545  0.546  0.547  0.548  0.549\n",
      "[1551]  0.550  0.551  0.552  0.553  0.554  0.555  0.556  0.557  0.558  0.559\n",
      "[1561]  0.560  0.561  0.562  0.563  0.564  0.565  0.566  0.567  0.568  0.569\n",
      "[1571]  0.570  0.571  0.572  0.573  0.574  0.575  0.576  0.577  0.578  0.579\n",
      "[1581]  0.580  0.581  0.582  0.583  0.584  0.585  0.586  0.587  0.588  0.589\n",
      "[1591]  0.590  0.591  0.592  0.593  0.594  0.595  0.596  0.597  0.598  0.599\n",
      "[1601]  0.600  0.601  0.602  0.603  0.604  0.605  0.606  0.607  0.608  0.609\n",
      "[1611]  0.610  0.611  0.612  0.613  0.614  0.615  0.616  0.617  0.618  0.619\n",
      "[1621]  0.620  0.621  0.622  0.623  0.624  0.625  0.626  0.627  0.628  0.629\n",
      "[1631]  0.630  0.631  0.632  0.633  0.634  0.635  0.636  0.637  0.638  0.639\n",
      "[1641]  0.640  0.641  0.642  0.643  0.644  0.645  0.646  0.647  0.648  0.649\n",
      "[1651]  0.650  0.651  0.652  0.653  0.654  0.655  0.656  0.657  0.658  0.659\n",
      "[1661]  0.660  0.661  0.662  0.663  0.664  0.665  0.666  0.667  0.668  0.669\n",
      "[1671]  0.670  0.671  0.672  0.673  0.674  0.675  0.676  0.677  0.678  0.679\n",
      "[1681]  0.680  0.681  0.682  0.683  0.684  0.685  0.686  0.687  0.688  0.689\n",
      "[1691]  0.690  0.691  0.692  0.693  0.694  0.695  0.696  0.697  0.698  0.699\n",
      "[1701]  0.700  0.701  0.702  0.703  0.704  0.705  0.706  0.707  0.708  0.709\n",
      "[1711]  0.710  0.711  0.712  0.713  0.714  0.715  0.716  0.717  0.718  0.719\n",
      "[1721]  0.720  0.721  0.722  0.723  0.724  0.725  0.726  0.727  0.728  0.729\n",
      "[1731]  0.730  0.731  0.732  0.733  0.734  0.735  0.736  0.737  0.738  0.739\n",
      "[1741]  0.740  0.741  0.742  0.743  0.744  0.745  0.746  0.747  0.748  0.749\n",
      "[1751]  0.750  0.751  0.752  0.753  0.754  0.755  0.756  0.757  0.758  0.759\n",
      "[1761]  0.760  0.761  0.762  0.763  0.764  0.765  0.766  0.767  0.768  0.769\n",
      "[1771]  0.770  0.771  0.772  0.773  0.774  0.775  0.776  0.777  0.778  0.779\n",
      "[1781]  0.780  0.781  0.782  0.783  0.784  0.785  0.786  0.787  0.788  0.789\n",
      "[1791]  0.790  0.791  0.792  0.793  0.794  0.795  0.796  0.797  0.798  0.799\n",
      "[1801]  0.800  0.801  0.802  0.803  0.804  0.805  0.806  0.807  0.808  0.809\n",
      "[1811]  0.810  0.811  0.812  0.813  0.814  0.815  0.816  0.817  0.818  0.819\n",
      "[1821]  0.820  0.821  0.822  0.823  0.824  0.825  0.826  0.827  0.828  0.829\n",
      "[1831]  0.830  0.831  0.832  0.833  0.834  0.835  0.836  0.837  0.838  0.839\n",
      "[1841]  0.840  0.841  0.842  0.843  0.844  0.845  0.846  0.847  0.848  0.849\n",
      "[1851]  0.850  0.851  0.852  0.853  0.854  0.855  0.856  0.857  0.858  0.859\n",
      "[1861]  0.860  0.861  0.862  0.863  0.864  0.865  0.866  0.867  0.868  0.869\n",
      "[1871]  0.870  0.871  0.872  0.873  0.874  0.875  0.876  0.877  0.878  0.879\n",
      "[1881]  0.880  0.881  0.882  0.883  0.884  0.885  0.886  0.887  0.888  0.889\n",
      "[1891]  0.890  0.891  0.892  0.893  0.894  0.895  0.896  0.897  0.898  0.899\n",
      "[1901]  0.900  0.901  0.902  0.903  0.904  0.905  0.906  0.907  0.908  0.909\n",
      "[1911]  0.910  0.911  0.912  0.913  0.914  0.915  0.916  0.917  0.918  0.919\n",
      "[1921]  0.920  0.921  0.922  0.923  0.924  0.925  0.926  0.927  0.928  0.929\n",
      "[1931]  0.930  0.931  0.932  0.933  0.934  0.935  0.936  0.937  0.938  0.939\n",
      "[1941]  0.940  0.941  0.942  0.943  0.944  0.945  0.946  0.947  0.948  0.949\n",
      "[1951]  0.950  0.951  0.952  0.953  0.954  0.955  0.956  0.957  0.958  0.959\n",
      "[1961]  0.960  0.961  0.962  0.963  0.964  0.965  0.966  0.967  0.968  0.969\n",
      "[1971]  0.970  0.971  0.972  0.973  0.974  0.975  0.976  0.977  0.978  0.979\n",
      "[1981]  0.980  0.981  0.982  0.983  0.984  0.985  0.986  0.987  0.988  0.989\n",
      "[1991]  0.990  0.991  0.992  0.993  0.994  0.995  0.996  0.997  0.998  0.999\n",
      "[2001]  1.000\n"
     ]
    }
   ],
   "source": [
    "for(i in 1:1000){\n",
    "    x[i]\n",
    "}"
   ]
  },
  {
   "cell_type": "markdown",
   "id": "214f79fc",
   "metadata": {},
   "source": [
    "#### `(7)` 2021년 A씨의 연봉은 5000이다. 매년 연봉은 3%씩 오른다고 하자. 2030년 A씨의 연봉은 얼마인가? "
   ]
  },
  {
   "cell_type": "code",
   "execution_count": 19,
   "id": "c02e0c69",
   "metadata": {},
   "outputs": [],
   "source": [
    "sal <- c()\n",
    "sal[2021] <- 5000"
   ]
  },
  {
   "cell_type": "code",
   "execution_count": 20,
   "id": "445459d0",
   "metadata": {},
   "outputs": [
    {
     "data": {
      "text/html": [
       "5000"
      ],
      "text/latex": [
       "5000"
      ],
      "text/markdown": [
       "5000"
      ],
      "text/plain": [
       "[1] 5000"
      ]
     },
     "metadata": {},
     "output_type": "display_data"
    }
   ],
   "source": [
    "sal[2021]"
   ]
  },
  {
   "cell_type": "code",
   "execution_count": 22,
   "id": "9baf063b",
   "metadata": {},
   "outputs": [
    {
     "data": {
      "text/html": [
       "6523.86591914622"
      ],
      "text/latex": [
       "6523.86591914622"
      ],
      "text/markdown": [
       "6523.86591914622"
      ],
      "text/plain": [
       "[1] 6523.866"
      ]
     },
     "metadata": {},
     "output_type": "display_data"
    }
   ],
   "source": [
    "for(i in 2022:2030){\n",
    "    sal[i]=sal[i-1]*1.03\n",
    "}\n",
    "sal[2030]"
   ]
  },
  {
   "cell_type": "markdown",
   "id": "a9d4fbe7",
   "metadata": {},
   "source": [
    "#### `(8)` 임의의 입력 $x$에 대하여 아래를 만족하는 함수를 선언하라. \n",
    "\n",
    "- $x >0$: $\\log (x)$를 계산하여 출력 \n",
    "- $x =0$: print(\"음의 무한대\")\n",
    "- $x <0$: print(\"x는 양수이어야 합니다.\")"
   ]
  },
  {
   "cell_type": "code",
   "execution_count": 27,
   "id": "009f822e",
   "metadata": {},
   "outputs": [],
   "source": [
    "y <- function(x){\n",
    "if(x>0){\n",
    "    print(log(x))\n",
    "}else{\n",
    "    if(x==0){\n",
    "        print(\"음의 무한대\")\n",
    "    }else{\n",
    "        print(\"x는 양수이어야 합니다.\")\n",
    "    }\n",
    "}\n",
    "    }"
   ]
  },
  {
   "cell_type": "markdown",
   "id": "ccc5111d",
   "metadata": {},
   "source": [
    "#### `(9)` 아래와 같은 데이터프레임이 있다고 하자. \n",
    "\n",
    "df=tibble(X1=rnorm(100),X2=rnorm(100))\n",
    "head(df)\n",
    "\n",
    "위의 데이터프레임 df에서 `mutate`를 이용하여 `Z=X1^2+X2^2`을 계산하여 새로운 열 Z를 만들어라. "
   ]
  },
  {
   "cell_type": "code",
   "execution_count": 29,
   "id": "ca1013db",
   "metadata": {},
   "outputs": [
    {
     "data": {
      "text/html": [
       "<table>\n",
       "<thead><tr><th scope=col>X1</th><th scope=col>X2</th></tr></thead>\n",
       "<tbody>\n",
       "\t<tr><td> 1.0233923 </td><td> 0.40888572</td></tr>\n",
       "\t<tr><td>-0.7124322 </td><td>-0.55774400</td></tr>\n",
       "\t<tr><td> 0.3056798 </td><td>-0.09354774</td></tr>\n",
       "\t<tr><td>-1.1382243 </td><td>-1.51126346</td></tr>\n",
       "\t<tr><td> 0.8790653 </td><td>-0.34887304</td></tr>\n",
       "\t<tr><td>-0.3919311 </td><td>-0.02078324</td></tr>\n",
       "</tbody>\n",
       "</table>\n"
      ],
      "text/latex": [
       "\\begin{tabular}{r|ll}\n",
       " X1 & X2\\\\\n",
       "\\hline\n",
       "\t  1.0233923  &  0.40888572\\\\\n",
       "\t -0.7124322  & -0.55774400\\\\\n",
       "\t  0.3056798  & -0.09354774\\\\\n",
       "\t -1.1382243  & -1.51126346\\\\\n",
       "\t  0.8790653  & -0.34887304\\\\\n",
       "\t -0.3919311  & -0.02078324\\\\\n",
       "\\end{tabular}\n"
      ],
      "text/markdown": [
       "\n",
       "| X1 | X2 |\n",
       "|---|---|\n",
       "|  1.0233923  |  0.40888572 |\n",
       "| -0.7124322  | -0.55774400 |\n",
       "|  0.3056798  | -0.09354774 |\n",
       "| -1.1382243  | -1.51126346 |\n",
       "|  0.8790653  | -0.34887304 |\n",
       "| -0.3919311  | -0.02078324 |\n",
       "\n"
      ],
      "text/plain": [
       "  X1         X2         \n",
       "1  1.0233923  0.40888572\n",
       "2 -0.7124322 -0.55774400\n",
       "3  0.3056798 -0.09354774\n",
       "4 -1.1382243 -1.51126346\n",
       "5  0.8790653 -0.34887304\n",
       "6 -0.3919311 -0.02078324"
      ]
     },
     "metadata": {},
     "output_type": "display_data"
    }
   ],
   "source": [
    "df=tibble(X1=rnorm(100),X2=rnorm(100))\n",
    "head(df)"
   ]
  },
  {
   "cell_type": "code",
   "execution_count": 41,
   "id": "c595ad3f",
   "metadata": {},
   "outputs": [],
   "source": [
    "DFF <- df %>% mutate(X1^2+X2^2)"
   ]
  },
  {
   "cell_type": "code",
   "execution_count": 42,
   "id": "d390868b",
   "metadata": {},
   "outputs": [],
   "source": [
    "colnames(DFF)[3] <- 'Z'"
   ]
  },
  {
   "cell_type": "code",
   "execution_count": 43,
   "id": "a1c6dd56",
   "metadata": {},
   "outputs": [
    {
     "data": {
      "text/html": [
       "<table>\n",
       "<thead><tr><th scope=col>X1</th><th scope=col>X2</th><th scope=col>Z</th></tr></thead>\n",
       "<tbody>\n",
       "\t<tr><td> 1.0233923 </td><td> 0.40888572</td><td>1.2145194  </td></tr>\n",
       "\t<tr><td>-0.7124322 </td><td>-0.55774400</td><td>0.8186380  </td></tr>\n",
       "\t<tr><td> 0.3056798 </td><td>-0.09354774</td><td>0.1021913  </td></tr>\n",
       "\t<tr><td>-1.1382243 </td><td>-1.51126346</td><td>3.5794717  </td></tr>\n",
       "\t<tr><td> 0.8790653 </td><td>-0.34887304</td><td>0.8944682  </td></tr>\n",
       "\t<tr><td>-0.3919311 </td><td>-0.02078324</td><td>0.1540420  </td></tr>\n",
       "\t<tr><td>-0.3052437 </td><td> 1.87660935</td><td>3.6148363  </td></tr>\n",
       "\t<tr><td>-1.1027514 </td><td> 0.21928554</td><td>1.2641467  </td></tr>\n",
       "\t<tr><td>-1.7803349 </td><td> 0.11260784</td><td>3.1822730  </td></tr>\n",
       "\t<tr><td>-0.3810704 </td><td>-0.55272307</td><td>0.4507175  </td></tr>\n",
       "\t<tr><td>-0.3111111 </td><td> 0.38396575</td><td>0.2442198  </td></tr>\n",
       "\t<tr><td>-0.5139151 </td><td> 1.43675573</td><td>2.3283758  </td></tr>\n",
       "\t<tr><td> 0.4699143 </td><td> 0.13377332</td><td>0.2387147  </td></tr>\n",
       "\t<tr><td>-0.4976991 </td><td>-0.28242410</td><td>0.3274678  </td></tr>\n",
       "\t<tr><td>-0.3092505 </td><td> 0.86373754</td><td>0.8416784  </td></tr>\n",
       "\t<tr><td> 0.9131712 </td><td>-2.27066563</td><td>5.9898041  </td></tr>\n",
       "\t<tr><td>-0.3806990 </td><td>-0.04129983</td><td>0.1466374  </td></tr>\n",
       "\t<tr><td> 0.0352559 </td><td>-1.02145965</td><td>1.0446228  </td></tr>\n",
       "\t<tr><td>-0.4755613 </td><td> 0.75199513</td><td>0.7916553  </td></tr>\n",
       "\t<tr><td>-2.0254533 </td><td> 0.48125350</td><td>4.3340658  </td></tr>\n",
       "\t<tr><td> 1.5255800 </td><td> 0.16392698</td><td>2.3542663  </td></tr>\n",
       "\t<tr><td>-0.3640491 </td><td> 0.57883055</td><td>0.4675766  </td></tr>\n",
       "\t<tr><td> 2.4837168 </td><td> 0.74218698</td><td>6.7196909  </td></tr>\n",
       "\t<tr><td>-0.2554622 </td><td> 1.27872149</td><td>1.7003896  </td></tr>\n",
       "\t<tr><td> 1.0319751 </td><td>-0.40103203</td><td>1.2257993  </td></tr>\n",
       "\t<tr><td> 1.2530050 </td><td>-0.02812055</td><td>1.5708123  </td></tr>\n",
       "\t<tr><td>-2.0994444 </td><td>-0.60812075</td><td>4.7774775  </td></tr>\n",
       "\t<tr><td> 0.6552571 </td><td> 0.81252546</td><td>1.0895595  </td></tr>\n",
       "\t<tr><td> 0.4156969 </td><td>-0.94407316</td><td>1.0640780  </td></tr>\n",
       "\t<tr><td>-1.2114052 </td><td> 1.06617510</td><td>2.6042320  </td></tr>\n",
       "\t<tr><td>...</td><td>...</td><td>...</td></tr>\n",
       "\t<tr><td>-0.87644759 </td><td>-0.285217464</td><td>0.84950937  </td></tr>\n",
       "\t<tr><td> 0.16106881 </td><td>-1.045064692</td><td>1.11810337  </td></tr>\n",
       "\t<tr><td>-0.17762341 </td><td> 1.306036217</td><td>1.73728068  </td></tr>\n",
       "\t<tr><td>-0.32236450 </td><td>-1.468678328</td><td>2.26093490  </td></tr>\n",
       "\t<tr><td> 1.06600959 </td><td> 0.519992439</td><td>1.40676858  </td></tr>\n",
       "\t<tr><td>-0.10544816 </td><td> 0.754083012</td><td>0.57976050  </td></tr>\n",
       "\t<tr><td> 0.18533076 </td><td>-0.237818076</td><td>0.09090493  </td></tr>\n",
       "\t<tr><td> 0.06199556 </td><td>-0.212907025</td><td>0.04917285  </td></tr>\n",
       "\t<tr><td>-0.50170110 </td><td>-2.623562544</td><td>7.13478442  </td></tr>\n",
       "\t<tr><td> 0.49562326 </td><td>-1.054271372</td><td>1.35713054  </td></tr>\n",
       "\t<tr><td> 0.97834272 </td><td>-1.322239799</td><td>2.70547257  </td></tr>\n",
       "\t<tr><td> 1.06315500 </td><td> 0.773171552</td><td>1.72809280  </td></tr>\n",
       "\t<tr><td>-0.71155342 </td><td>-1.035685666</td><td>1.57895307  </td></tr>\n",
       "\t<tr><td> 0.13774321 </td><td> 1.109344847</td><td>1.24961918  </td></tr>\n",
       "\t<tr><td> 0.77736202 </td><td>-0.009984997</td><td>0.60439141  </td></tr>\n",
       "\t<tr><td> 1.60127087 </td><td> 1.249390510</td><td>4.12504504  </td></tr>\n",
       "\t<tr><td> 1.36102385 </td><td>-0.108548207</td><td>1.86416862  </td></tr>\n",
       "\t<tr><td>-1.77779173 </td><td>-0.570558935</td><td>3.48608092  </td></tr>\n",
       "\t<tr><td> 0.53699614 </td><td>-1.767052617</td><td>3.41083980  </td></tr>\n",
       "\t<tr><td> 0.61808670 </td><td>-0.085510108</td><td>0.38934315  </td></tr>\n",
       "\t<tr><td> 1.96601691 </td><td>-0.493350507</td><td>4.10861722  </td></tr>\n",
       "\t<tr><td>-1.17157912 </td><td>-0.086528470</td><td>1.38008481  </td></tr>\n",
       "\t<tr><td>-0.68100076 </td><td>-1.090139483</td><td>1.65216612  </td></tr>\n",
       "\t<tr><td>-0.60829885 </td><td>-0.612967527</td><td>0.74575669  </td></tr>\n",
       "\t<tr><td>-1.38526712 </td><td>-0.142693529</td><td>1.93932644  </td></tr>\n",
       "\t<tr><td>-0.70083591 </td><td> 0.253710038</td><td>0.55553975  </td></tr>\n",
       "\t<tr><td>-0.43126007 </td><td> 0.913344561</td><td>1.02018353  </td></tr>\n",
       "\t<tr><td>-0.82412184 </td><td> 0.099467545</td><td>0.68907060  </td></tr>\n",
       "\t<tr><td>-0.98110556 </td><td> 0.486415550</td><td>1.19916820  </td></tr>\n",
       "\t<tr><td>-0.08832927 </td><td>-0.564751341</td><td>0.32674614  </td></tr>\n",
       "</tbody>\n",
       "</table>\n"
      ],
      "text/latex": [
       "\\begin{tabular}{r|lll}\n",
       " X1 & X2 & Z\\\\\n",
       "\\hline\n",
       "\t  1.0233923  &  0.40888572 & 1.2145194  \\\\\n",
       "\t -0.7124322  & -0.55774400 & 0.8186380  \\\\\n",
       "\t  0.3056798  & -0.09354774 & 0.1021913  \\\\\n",
       "\t -1.1382243  & -1.51126346 & 3.5794717  \\\\\n",
       "\t  0.8790653  & -0.34887304 & 0.8944682  \\\\\n",
       "\t -0.3919311  & -0.02078324 & 0.1540420  \\\\\n",
       "\t -0.3052437  &  1.87660935 & 3.6148363  \\\\\n",
       "\t -1.1027514  &  0.21928554 & 1.2641467  \\\\\n",
       "\t -1.7803349  &  0.11260784 & 3.1822730  \\\\\n",
       "\t -0.3810704  & -0.55272307 & 0.4507175  \\\\\n",
       "\t -0.3111111  &  0.38396575 & 0.2442198  \\\\\n",
       "\t -0.5139151  &  1.43675573 & 2.3283758  \\\\\n",
       "\t  0.4699143  &  0.13377332 & 0.2387147  \\\\\n",
       "\t -0.4976991  & -0.28242410 & 0.3274678  \\\\\n",
       "\t -0.3092505  &  0.86373754 & 0.8416784  \\\\\n",
       "\t  0.9131712  & -2.27066563 & 5.9898041  \\\\\n",
       "\t -0.3806990  & -0.04129983 & 0.1466374  \\\\\n",
       "\t  0.0352559  & -1.02145965 & 1.0446228  \\\\\n",
       "\t -0.4755613  &  0.75199513 & 0.7916553  \\\\\n",
       "\t -2.0254533  &  0.48125350 & 4.3340658  \\\\\n",
       "\t  1.5255800  &  0.16392698 & 2.3542663  \\\\\n",
       "\t -0.3640491  &  0.57883055 & 0.4675766  \\\\\n",
       "\t  2.4837168  &  0.74218698 & 6.7196909  \\\\\n",
       "\t -0.2554622  &  1.27872149 & 1.7003896  \\\\\n",
       "\t  1.0319751  & -0.40103203 & 1.2257993  \\\\\n",
       "\t  1.2530050  & -0.02812055 & 1.5708123  \\\\\n",
       "\t -2.0994444  & -0.60812075 & 4.7774775  \\\\\n",
       "\t  0.6552571  &  0.81252546 & 1.0895595  \\\\\n",
       "\t  0.4156969  & -0.94407316 & 1.0640780  \\\\\n",
       "\t -1.2114052  &  1.06617510 & 2.6042320  \\\\\n",
       "\t ... & ... & ...\\\\\n",
       "\t -0.87644759  & -0.285217464 & 0.84950937  \\\\\n",
       "\t  0.16106881  & -1.045064692 & 1.11810337  \\\\\n",
       "\t -0.17762341  &  1.306036217 & 1.73728068  \\\\\n",
       "\t -0.32236450  & -1.468678328 & 2.26093490  \\\\\n",
       "\t  1.06600959  &  0.519992439 & 1.40676858  \\\\\n",
       "\t -0.10544816  &  0.754083012 & 0.57976050  \\\\\n",
       "\t  0.18533076  & -0.237818076 & 0.09090493  \\\\\n",
       "\t  0.06199556  & -0.212907025 & 0.04917285  \\\\\n",
       "\t -0.50170110  & -2.623562544 & 7.13478442  \\\\\n",
       "\t  0.49562326  & -1.054271372 & 1.35713054  \\\\\n",
       "\t  0.97834272  & -1.322239799 & 2.70547257  \\\\\n",
       "\t  1.06315500  &  0.773171552 & 1.72809280  \\\\\n",
       "\t -0.71155342  & -1.035685666 & 1.57895307  \\\\\n",
       "\t  0.13774321  &  1.109344847 & 1.24961918  \\\\\n",
       "\t  0.77736202  & -0.009984997 & 0.60439141  \\\\\n",
       "\t  1.60127087  &  1.249390510 & 4.12504504  \\\\\n",
       "\t  1.36102385  & -0.108548207 & 1.86416862  \\\\\n",
       "\t -1.77779173  & -0.570558935 & 3.48608092  \\\\\n",
       "\t  0.53699614  & -1.767052617 & 3.41083980  \\\\\n",
       "\t  0.61808670  & -0.085510108 & 0.38934315  \\\\\n",
       "\t  1.96601691  & -0.493350507 & 4.10861722  \\\\\n",
       "\t -1.17157912  & -0.086528470 & 1.38008481  \\\\\n",
       "\t -0.68100076  & -1.090139483 & 1.65216612  \\\\\n",
       "\t -0.60829885  & -0.612967527 & 0.74575669  \\\\\n",
       "\t -1.38526712  & -0.142693529 & 1.93932644  \\\\\n",
       "\t -0.70083591  &  0.253710038 & 0.55553975  \\\\\n",
       "\t -0.43126007  &  0.913344561 & 1.02018353  \\\\\n",
       "\t -0.82412184  &  0.099467545 & 0.68907060  \\\\\n",
       "\t -0.98110556  &  0.486415550 & 1.19916820  \\\\\n",
       "\t -0.08832927  & -0.564751341 & 0.32674614  \\\\\n",
       "\\end{tabular}\n"
      ],
      "text/markdown": [
       "\n",
       "| X1 | X2 | Z |\n",
       "|---|---|---|\n",
       "|  1.0233923  |  0.40888572 | 1.2145194   |\n",
       "| -0.7124322  | -0.55774400 | 0.8186380   |\n",
       "|  0.3056798  | -0.09354774 | 0.1021913   |\n",
       "| -1.1382243  | -1.51126346 | 3.5794717   |\n",
       "|  0.8790653  | -0.34887304 | 0.8944682   |\n",
       "| -0.3919311  | -0.02078324 | 0.1540420   |\n",
       "| -0.3052437  |  1.87660935 | 3.6148363   |\n",
       "| -1.1027514  |  0.21928554 | 1.2641467   |\n",
       "| -1.7803349  |  0.11260784 | 3.1822730   |\n",
       "| -0.3810704  | -0.55272307 | 0.4507175   |\n",
       "| -0.3111111  |  0.38396575 | 0.2442198   |\n",
       "| -0.5139151  |  1.43675573 | 2.3283758   |\n",
       "|  0.4699143  |  0.13377332 | 0.2387147   |\n",
       "| -0.4976991  | -0.28242410 | 0.3274678   |\n",
       "| -0.3092505  |  0.86373754 | 0.8416784   |\n",
       "|  0.9131712  | -2.27066563 | 5.9898041   |\n",
       "| -0.3806990  | -0.04129983 | 0.1466374   |\n",
       "|  0.0352559  | -1.02145965 | 1.0446228   |\n",
       "| -0.4755613  |  0.75199513 | 0.7916553   |\n",
       "| -2.0254533  |  0.48125350 | 4.3340658   |\n",
       "|  1.5255800  |  0.16392698 | 2.3542663   |\n",
       "| -0.3640491  |  0.57883055 | 0.4675766   |\n",
       "|  2.4837168  |  0.74218698 | 6.7196909   |\n",
       "| -0.2554622  |  1.27872149 | 1.7003896   |\n",
       "|  1.0319751  | -0.40103203 | 1.2257993   |\n",
       "|  1.2530050  | -0.02812055 | 1.5708123   |\n",
       "| -2.0994444  | -0.60812075 | 4.7774775   |\n",
       "|  0.6552571  |  0.81252546 | 1.0895595   |\n",
       "|  0.4156969  | -0.94407316 | 1.0640780   |\n",
       "| -1.2114052  |  1.06617510 | 2.6042320   |\n",
       "| ... | ... | ... |\n",
       "| -0.87644759  | -0.285217464 | 0.84950937   |\n",
       "|  0.16106881  | -1.045064692 | 1.11810337   |\n",
       "| -0.17762341  |  1.306036217 | 1.73728068   |\n",
       "| -0.32236450  | -1.468678328 | 2.26093490   |\n",
       "|  1.06600959  |  0.519992439 | 1.40676858   |\n",
       "| -0.10544816  |  0.754083012 | 0.57976050   |\n",
       "|  0.18533076  | -0.237818076 | 0.09090493   |\n",
       "|  0.06199556  | -0.212907025 | 0.04917285   |\n",
       "| -0.50170110  | -2.623562544 | 7.13478442   |\n",
       "|  0.49562326  | -1.054271372 | 1.35713054   |\n",
       "|  0.97834272  | -1.322239799 | 2.70547257   |\n",
       "|  1.06315500  |  0.773171552 | 1.72809280   |\n",
       "| -0.71155342  | -1.035685666 | 1.57895307   |\n",
       "|  0.13774321  |  1.109344847 | 1.24961918   |\n",
       "|  0.77736202  | -0.009984997 | 0.60439141   |\n",
       "|  1.60127087  |  1.249390510 | 4.12504504   |\n",
       "|  1.36102385  | -0.108548207 | 1.86416862   |\n",
       "| -1.77779173  | -0.570558935 | 3.48608092   |\n",
       "|  0.53699614  | -1.767052617 | 3.41083980   |\n",
       "|  0.61808670  | -0.085510108 | 0.38934315   |\n",
       "|  1.96601691  | -0.493350507 | 4.10861722   |\n",
       "| -1.17157912  | -0.086528470 | 1.38008481   |\n",
       "| -0.68100076  | -1.090139483 | 1.65216612   |\n",
       "| -0.60829885  | -0.612967527 | 0.74575669   |\n",
       "| -1.38526712  | -0.142693529 | 1.93932644   |\n",
       "| -0.70083591  |  0.253710038 | 0.55553975   |\n",
       "| -0.43126007  |  0.913344561 | 1.02018353   |\n",
       "| -0.82412184  |  0.099467545 | 0.68907060   |\n",
       "| -0.98110556  |  0.486415550 | 1.19916820   |\n",
       "| -0.08832927  | -0.564751341 | 0.32674614   |\n",
       "\n"
      ],
      "text/plain": [
       "    X1          X2           Z         \n",
       "1    1.0233923   0.40888572  1.2145194 \n",
       "2   -0.7124322  -0.55774400  0.8186380 \n",
       "3    0.3056798  -0.09354774  0.1021913 \n",
       "4   -1.1382243  -1.51126346  3.5794717 \n",
       "5    0.8790653  -0.34887304  0.8944682 \n",
       "6   -0.3919311  -0.02078324  0.1540420 \n",
       "7   -0.3052437   1.87660935  3.6148363 \n",
       "8   -1.1027514   0.21928554  1.2641467 \n",
       "9   -1.7803349   0.11260784  3.1822730 \n",
       "10  -0.3810704  -0.55272307  0.4507175 \n",
       "11  -0.3111111   0.38396575  0.2442198 \n",
       "12  -0.5139151   1.43675573  2.3283758 \n",
       "13   0.4699143   0.13377332  0.2387147 \n",
       "14  -0.4976991  -0.28242410  0.3274678 \n",
       "15  -0.3092505   0.86373754  0.8416784 \n",
       "16   0.9131712  -2.27066563  5.9898041 \n",
       "17  -0.3806990  -0.04129983  0.1466374 \n",
       "18   0.0352559  -1.02145965  1.0446228 \n",
       "19  -0.4755613   0.75199513  0.7916553 \n",
       "20  -2.0254533   0.48125350  4.3340658 \n",
       "21   1.5255800   0.16392698  2.3542663 \n",
       "22  -0.3640491   0.57883055  0.4675766 \n",
       "23   2.4837168   0.74218698  6.7196909 \n",
       "24  -0.2554622   1.27872149  1.7003896 \n",
       "25   1.0319751  -0.40103203  1.2257993 \n",
       "26   1.2530050  -0.02812055  1.5708123 \n",
       "27  -2.0994444  -0.60812075  4.7774775 \n",
       "28   0.6552571   0.81252546  1.0895595 \n",
       "29   0.4156969  -0.94407316  1.0640780 \n",
       "30  -1.2114052   1.06617510  2.6042320 \n",
       "... ...         ...          ...       \n",
       "71  -0.87644759 -0.285217464 0.84950937\n",
       "72   0.16106881 -1.045064692 1.11810337\n",
       "73  -0.17762341  1.306036217 1.73728068\n",
       "74  -0.32236450 -1.468678328 2.26093490\n",
       "75   1.06600959  0.519992439 1.40676858\n",
       "76  -0.10544816  0.754083012 0.57976050\n",
       "77   0.18533076 -0.237818076 0.09090493\n",
       "78   0.06199556 -0.212907025 0.04917285\n",
       "79  -0.50170110 -2.623562544 7.13478442\n",
       "80   0.49562326 -1.054271372 1.35713054\n",
       "81   0.97834272 -1.322239799 2.70547257\n",
       "82   1.06315500  0.773171552 1.72809280\n",
       "83  -0.71155342 -1.035685666 1.57895307\n",
       "84   0.13774321  1.109344847 1.24961918\n",
       "85   0.77736202 -0.009984997 0.60439141\n",
       "86   1.60127087  1.249390510 4.12504504\n",
       "87   1.36102385 -0.108548207 1.86416862\n",
       "88  -1.77779173 -0.570558935 3.48608092\n",
       "89   0.53699614 -1.767052617 3.41083980\n",
       "90   0.61808670 -0.085510108 0.38934315\n",
       "91   1.96601691 -0.493350507 4.10861722\n",
       "92  -1.17157912 -0.086528470 1.38008481\n",
       "93  -0.68100076 -1.090139483 1.65216612\n",
       "94  -0.60829885 -0.612967527 0.74575669\n",
       "95  -1.38526712 -0.142693529 1.93932644\n",
       "96  -0.70083591  0.253710038 0.55553975\n",
       "97  -0.43126007  0.913344561 1.02018353\n",
       "98  -0.82412184  0.099467545 0.68907060\n",
       "99  -0.98110556  0.486415550 1.19916820\n",
       "100 -0.08832927 -0.564751341 0.32674614"
      ]
     },
     "metadata": {},
     "output_type": "display_data"
    }
   ],
   "source": [
    "DFF"
   ]
  },
  {
   "cell_type": "markdown",
   "id": "414ceeda",
   "metadata": {},
   "source": [
    "#### `(10)` 아래와 같은 매트릭스에서 `apply`함수를 이용하여 각 행의 합과 각 열의 합을 구하라 "
   ]
  },
  {
   "cell_type": "markdown",
   "id": "de08cdff",
   "metadata": {},
   "source": [
    "set.seed(1221)\n",
    "mat = rbinom(n=100,size=5,prob=0.5)\n",
    "dim(mat)=c(10,10)\n",
    "print(mat)\n",
    "\n",
    "즉 아래를 구하라 \n",
    "\n",
    "`-` 각 행의 합\n",
    "- 1행의 합 = 2+3+3+ ... +3+3+3 \n",
    "- ...\n",
    "- 10행의 합 = 2+4+4+ ... +2+1+2\n",
    "\n",
    "`-` 각 열의 합\n",
    "- 1열의 합 = 2+1+2+ ... +4+5+2\n",
    "- ...\n",
    "- 10열의 합 = 3+1+3+ ... +2+4+2"
   ]
  },
  {
   "cell_type": "code",
   "execution_count": null,
   "id": "7e400b17",
   "metadata": {},
   "outputs": [],
   "source": []
  }
 ],
 "metadata": {
  "kernelspec": {
   "display_name": "R",
   "language": "R",
   "name": "ir"
  },
  "language_info": {
   "codemirror_mode": "r",
   "file_extension": ".r",
   "mimetype": "text/x-r-source",
   "name": "R",
   "pygments_lexer": "r",
   "version": "3.6.1"
  }
 },
 "nbformat": 4,
 "nbformat_minor": 5
}
