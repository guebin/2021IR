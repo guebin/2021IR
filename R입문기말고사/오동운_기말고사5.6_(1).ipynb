{
 "cells": [
  {
   "cell_type": "code",
   "execution_count": 1,
   "id": "4c23b18e-91d9-4801-9d22-e52ff0afdf05",
   "metadata": {},
   "outputs": [
    {
     "name": "stderr",
     "output_type": "stream",
     "text": [
      "-- \u001b[1mAttaching packages\u001b[22m ------------------------------------------------------------------------------- tidyverse 1.3.1 --\n",
      "\n",
      "\u001b[32mv\u001b[39m \u001b[34mggplot2\u001b[39m 3.3.5     \u001b[32mv\u001b[39m \u001b[34mpurrr  \u001b[39m 0.3.4\n",
      "\u001b[32mv\u001b[39m \u001b[34mtibble \u001b[39m 3.1.4     \u001b[32mv\u001b[39m \u001b[34mdplyr  \u001b[39m 1.0.7\n",
      "\u001b[32mv\u001b[39m \u001b[34mtidyr  \u001b[39m 1.1.3     \u001b[32mv\u001b[39m \u001b[34mstringr\u001b[39m 1.4.0\n",
      "\u001b[32mv\u001b[39m \u001b[34mreadr  \u001b[39m 2.0.1     \u001b[32mv\u001b[39m \u001b[34mforcats\u001b[39m 0.5.1\n",
      "\n",
      "-- \u001b[1mConflicts\u001b[22m ---------------------------------------------------------------------------------- tidyverse_conflicts() --\n",
      "\u001b[31mx\u001b[39m \u001b[34mdplyr\u001b[39m::\u001b[32mfilter()\u001b[39m masks \u001b[34mstats\u001b[39m::filter()\n",
      "\u001b[31mx\u001b[39m \u001b[34mdplyr\u001b[39m::\u001b[32mlag()\u001b[39m    masks \u001b[34mstats\u001b[39m::lag()\n",
      "\n"
     ]
    }
   ],
   "source": [
    "library(tidyverse)"
   ]
  },
  {
   "cell_type": "markdown",
   "id": "9ed17118-1142-4a73-a1fa-44da5df1b076",
   "metadata": {
    "tags": []
   },
   "source": [
    "## 5"
   ]
  },
  {
   "cell_type": "markdown",
   "id": "04096b49-7c9f-4671-9a45-f8301dbe5eb7",
   "metadata": {},
   "source": [
    "**5-1**"
   ]
  },
  {
   "cell_type": "code",
   "execution_count": 5,
   "id": "6d54e7ca-9805-42fd-929f-2575cf37a58b",
   "metadata": {},
   "outputs": [
    {
     "data": {
      "text/html": [
       "5040"
      ],
      "text/latex": [
       "5040"
      ],
      "text/markdown": [
       "5040"
      ],
      "text/plain": [
       "[1] 5040"
      ]
     },
     "metadata": {},
     "output_type": "display_data"
    }
   ],
   "source": [
    "A <- c(1:7)\n",
    "max(cumprod(A))"
   ]
  },
  {
   "cell_type": "markdown",
   "id": "469353fb-6407-48c6-9ba8-0e9f5d0db44a",
   "metadata": {},
   "source": [
    "**5-2**"
   ]
  },
  {
   "cell_type": "code",
   "execution_count": null,
   "id": "0f9e1bfe-4c49-42c6-8f2e-f9b222ddeb6b",
   "metadata": {},
   "outputs": [],
   "source": []
  },
  {
   "cell_type": "markdown",
   "id": "8aaa9ff6-709e-41a9-b807-95792558df8b",
   "metadata": {},
   "source": [
    "**5-3**"
   ]
  },
  {
   "cell_type": "code",
   "execution_count": 7,
   "id": "d0ebe6fc-4979-421c-ab83-a603a553e4b2",
   "metadata": {},
   "outputs": [],
   "source": [
    "A = rnorm(1000)"
   ]
  },
  {
   "cell_type": "code",
   "execution_count": 13,
   "id": "260375ae-ec6c-42e5-b7cb-08343350d108",
   "metadata": {},
   "outputs": [
    {
     "data": {
      "text/html": [
       "481"
      ],
      "text/latex": [
       "481"
      ],
      "text/markdown": [
       "481"
      ],
      "text/plain": [
       "[1] 481"
      ]
     },
     "metadata": {},
     "output_type": "display_data"
    }
   ],
   "source": [
    "sum(A >0)"
   ]
  },
  {
   "cell_type": "markdown",
   "id": "1d5a17ad-fa09-4162-b945-d9593614120c",
   "metadata": {},
   "source": [
    "**5-4**"
   ]
  },
  {
   "cell_type": "code",
   "execution_count": 29,
   "id": "d25af880-69cb-41f7-9c06-d45334749b2c",
   "metadata": {},
   "outputs": [
    {
     "data": {
      "text/html": [
       "201"
      ],
      "text/latex": [
       "201"
      ],
      "text/markdown": [
       "201"
      ],
      "text/plain": [
       "[1] 201"
      ]
     },
     "metadata": {},
     "output_type": "display_data"
    }
   ],
   "source": [
    "rbinom(1, size = 1000,prob=0.2)"
   ]
  },
  {
   "cell_type": "markdown",
   "id": "17a1428d-0ff1-4821-8052-ad549f056586",
   "metadata": {},
   "source": [
    "**5-5**"
   ]
  },
  {
   "cell_type": "code",
   "execution_count": 30,
   "id": "4a26bcb8-cf56-4d30-be28-ff9dfd70ee62",
   "metadata": {},
   "outputs": [],
   "source": [
    "x = rnorm(1000,mean=1,sd=1)"
   ]
  },
  {
   "cell_type": "code",
   "execution_count": 31,
   "id": "889d32f3-f4d1-4031-91ea-093b7abb44c1",
   "metadata": {},
   "outputs": [
    {
     "data": {
      "image/png": "[encoded data removed]",
      "text/plain": [
       "Plot with title \"Histogram of x\""
      ]
     },
     "metadata": {
      "image/png": {
       "height": 420,
       "width": 420
      }
     },
     "output_type": "display_data"
    }
   ],
   "source": [
    "hist(x)"
   ]
  },
  {
   "cell_type": "markdown",
   "id": "26f93288-5776-4f78-93b2-4a4f65755ef4",
   "metadata": {},
   "source": [
    "**5-6**"
   ]
  },
  {
   "cell_type": "code",
   "execution_count": 39,
   "id": "40cde627-c11f-4c17-9d27-7104a061a952",
   "metadata": {},
   "outputs": [],
   "source": [
    "x = -1000:1000/1000"
   ]
  },
  {
   "cell_type": "code",
   "execution_count": 40,
   "id": "ffec8dc7-c809-4d30-88c6-f6397f57e3cb",
   "metadata": {},
   "outputs": [],
   "source": [
    "A <-c()\n",
    "for(i in 1:1000){\n",
    "    A[i] = x[2*i]\n",
    "}"
   ]
  },
  {
   "cell_type": "code",
   "execution_count": 44,
   "id": "94dd3b14-2749-4149-b7d5-ea761a939938",
   "metadata": {},
   "outputs": [
    {
     "data": {
      "text/html": [
       "0"
      ],
      "text/latex": [
       "0"
      ],
      "text/markdown": [
       "0"
      ],
      "text/plain": [
       "[1] 0"
      ]
     },
     "metadata": {},
     "output_type": "display_data"
    }
   ],
   "source": [
    "sum(A)"
   ]
  },
  {
   "cell_type": "markdown",
   "id": "295537ab-e535-416b-917d-505c16f255a2",
   "metadata": {},
   "source": [
    "**5-7**"
   ]
  },
  {
   "cell_type": "code",
   "execution_count": 46,
   "id": "4ba1b62d-1c6b-457a-b391-9df08e05be59",
   "metadata": {},
   "outputs": [],
   "source": [
    "s<-c()\n",
    "s[2021] = 5000\n",
    "for(i in 1:9){\n",
    "    s[2021+i] = s[2020+i]*1.03\n",
    "}"
   ]
  },
  {
   "cell_type": "code",
   "execution_count": 47,
   "id": "88c94a21-e1ac-46cc-8849-7f37137ab20a",
   "metadata": {},
   "outputs": [
    {
     "data": {
      "text/html": [
       "6523.86591914622"
      ],
      "text/latex": [
       "6523.86591914622"
      ],
      "text/markdown": [
       "6523.86591914622"
      ],
      "text/plain": [
       "[1] 6523.866"
      ]
     },
     "metadata": {},
     "output_type": "display_data"
    }
   ],
   "source": [
    "s[2030]"
   ]
  },
  {
   "cell_type": "markdown",
   "id": "d08c3bae-3ae2-4218-8f4b-39fec557ce30",
   "metadata": {},
   "source": [
    "**5-8**"
   ]
  },
  {
   "cell_type": "code",
   "execution_count": 66,
   "id": "7e71ab37-8484-44ed-9c42-8b5aa1d756ae",
   "metadata": {},
   "outputs": [
    {
     "data": {
      "text/html": [
       "0.693147180559945"
      ],
      "text/latex": [
       "0.693147180559945"
      ],
      "text/markdown": [
       "0.693147180559945"
      ],
      "text/plain": [
       "[1] 0.6931472"
      ]
     },
     "metadata": {},
     "output_type": "display_data"
    }
   ],
   "source": [
    "if(x>0){\n",
    "    log(x)\n",
    "}else{\n",
    "    if(x==0){\n",
    "        print(\"음의 무한대\")\n",
    "    }else{\n",
    "        (\"x는 양수이어야합니다.\")\n",
    "    }\n",
    "}"
   ]
  },
  {
   "cell_type": "markdown",
   "id": "1560a57d-e346-48d1-86a4-465834dddfb4",
   "metadata": {},
   "source": [
    "**5-9**"
   ]
  },
  {
   "cell_type": "code",
   "execution_count": 67,
   "id": "b8a709a3-71d1-4a70-9c6f-6867f797605a",
   "metadata": {},
   "outputs": [
    {
     "data": {
      "text/html": [
       "<table class=\"dataframe\">\n",
       "<caption>A tibble: 6 × 2</caption>\n",
       "<thead>\n",
       "\t<tr><th scope=col>X1</th><th scope=col>X2</th></tr>\n",
       "\t<tr><th scope=col>&lt;dbl&gt;</th><th scope=col>&lt;dbl&gt;</th></tr>\n",
       "</thead>\n",
       "<tbody>\n",
       "\t<tr><td> 1.6390869</td><td> 2.1397971</td></tr>\n",
       "\t<tr><td> 0.4746336</td><td>-1.7653179</td></tr>\n",
       "\t<tr><td>-0.2060368</td><td> 0.5666984</td></tr>\n",
       "\t<tr><td>-0.9198593</td><td> 2.1764409</td></tr>\n",
       "\t<tr><td>-0.2777012</td><td>-0.6654711</td></tr>\n",
       "\t<tr><td> 1.0726775</td><td> 1.0542416</td></tr>\n",
       "</tbody>\n",
       "</table>\n"
      ],
      "text/latex": [
       "A tibble: 6 × 2\n",
       "\\begin{tabular}{ll}\n",
       " X1 & X2\\\\\n",
       " <dbl> & <dbl>\\\\\n",
       "\\hline\n",
       "\t  1.6390869 &  2.1397971\\\\\n",
       "\t  0.4746336 & -1.7653179\\\\\n",
       "\t -0.2060368 &  0.5666984\\\\\n",
       "\t -0.9198593 &  2.1764409\\\\\n",
       "\t -0.2777012 & -0.6654711\\\\\n",
       "\t  1.0726775 &  1.0542416\\\\\n",
       "\\end{tabular}\n"
      ],
      "text/markdown": [
       "\n",
       "A tibble: 6 × 2\n",
       "\n",
       "| X1 &lt;dbl&gt; | X2 &lt;dbl&gt; |\n",
       "|---|---|\n",
       "|  1.6390869 |  2.1397971 |\n",
       "|  0.4746336 | -1.7653179 |\n",
       "| -0.2060368 |  0.5666984 |\n",
       "| -0.9198593 |  2.1764409 |\n",
       "| -0.2777012 | -0.6654711 |\n",
       "|  1.0726775 |  1.0542416 |\n",
       "\n"
      ],
      "text/plain": [
       "  X1         X2        \n",
       "1  1.6390869  2.1397971\n",
       "2  0.4746336 -1.7653179\n",
       "3 -0.2060368  0.5666984\n",
       "4 -0.9198593  2.1764409\n",
       "5 -0.2777012 -0.6654711\n",
       "6  1.0726775  1.0542416"
      ]
     },
     "metadata": {},
     "output_type": "display_data"
    }
   ],
   "source": [
    "df=tibble(X1=rnorm(100),X2=rnorm(100))\n",
    "head(df)"
   ]
  },
  {
   "cell_type": "code",
   "execution_count": 69,
   "id": "f99ea7a5-ee9a-4719-8dea-721aa448e127",
   "metadata": {},
   "outputs": [
    {
     "data": {
      "text/html": [
       "<table class=\"dataframe\">\n",
       "<caption>A tibble: 6 × 3</caption>\n",
       "<thead>\n",
       "\t<tr><th scope=col>X1</th><th scope=col>X2</th><th scope=col>Z</th></tr>\n",
       "\t<tr><th scope=col>&lt;dbl&gt;</th><th scope=col>&lt;dbl&gt;</th><th scope=col>&lt;dbl&gt;</th></tr>\n",
       "</thead>\n",
       "<tbody>\n",
       "\t<tr><td> 1.6390869</td><td> 2.1397971</td><td>7.2653374</td></tr>\n",
       "\t<tr><td> 0.4746336</td><td>-1.7653179</td><td>3.3416244</td></tr>\n",
       "\t<tr><td>-0.2060368</td><td> 0.5666984</td><td>0.3635982</td></tr>\n",
       "\t<tr><td>-0.9198593</td><td> 2.1764409</td><td>5.5830361</td></tr>\n",
       "\t<tr><td>-0.2777012</td><td>-0.6654711</td><td>0.5199697</td></tr>\n",
       "\t<tr><td> 1.0726775</td><td> 1.0542416</td><td>2.2620622</td></tr>\n",
       "</tbody>\n",
       "</table>\n"
      ],
      "text/latex": [
       "A tibble: 6 × 3\n",
       "\\begin{tabular}{lll}\n",
       " X1 & X2 & Z\\\\\n",
       " <dbl> & <dbl> & <dbl>\\\\\n",
       "\\hline\n",
       "\t  1.6390869 &  2.1397971 & 7.2653374\\\\\n",
       "\t  0.4746336 & -1.7653179 & 3.3416244\\\\\n",
       "\t -0.2060368 &  0.5666984 & 0.3635982\\\\\n",
       "\t -0.9198593 &  2.1764409 & 5.5830361\\\\\n",
       "\t -0.2777012 & -0.6654711 & 0.5199697\\\\\n",
       "\t  1.0726775 &  1.0542416 & 2.2620622\\\\\n",
       "\\end{tabular}\n"
      ],
      "text/markdown": [
       "\n",
       "A tibble: 6 × 3\n",
       "\n",
       "| X1 &lt;dbl&gt; | X2 &lt;dbl&gt; | Z &lt;dbl&gt; |\n",
       "|---|---|---|\n",
       "|  1.6390869 |  2.1397971 | 7.2653374 |\n",
       "|  0.4746336 | -1.7653179 | 3.3416244 |\n",
       "| -0.2060368 |  0.5666984 | 0.3635982 |\n",
       "| -0.9198593 |  2.1764409 | 5.5830361 |\n",
       "| -0.2777012 | -0.6654711 | 0.5199697 |\n",
       "|  1.0726775 |  1.0542416 | 2.2620622 |\n",
       "\n"
      ],
      "text/plain": [
       "  X1         X2         Z        \n",
       "1  1.6390869  2.1397971 7.2653374\n",
       "2  0.4746336 -1.7653179 3.3416244\n",
       "3 -0.2060368  0.5666984 0.3635982\n",
       "4 -0.9198593  2.1764409 5.5830361\n",
       "5 -0.2777012 -0.6654711 0.5199697\n",
       "6  1.0726775  1.0542416 2.2620622"
      ]
     },
     "metadata": {},
     "output_type": "display_data"
    }
   ],
   "source": [
    "head(df %>% mutate(Z = X1^2 +X2^2))"
   ]
  },
  {
   "cell_type": "markdown",
   "id": "8bc3bbb0-a233-4e91-9f62-4b73e9f4d403",
   "metadata": {},
   "source": [
    "**5-10**"
   ]
  },
  {
   "cell_type": "code",
   "execution_count": 70,
   "id": "c2d02eb7-a7fd-49b2-8964-d7ab24736b19",
   "metadata": {},
   "outputs": [
    {
     "name": "stdout",
     "output_type": "stream",
     "text": [
      "      [,1] [,2] [,3] [,4] [,5] [,6] [,7] [,8] [,9] [,10]\n",
      " [1,]    2    3    3    2    2    3    1    3    3     3\n",
      " [2,]    1    3    3    4    2    2    4    2    2     1\n",
      " [3,]    2    2    2    2    4    4    2    3    3     3\n",
      " [4,]    3    2    4    5    2    5    1    4    2     2\n",
      " [5,]    2    2    2    2    1    4    2    2    3     4\n",
      " [6,]    5    1    3    1    1    3    4    2    4     3\n",
      " [7,]    4    3    4    3    2    3    2    3    0     1\n",
      " [8,]    4    4    2    3    2    3    3    0    4     2\n",
      " [9,]    5    5    4    3    2    4    4    4    1     4\n",
      "[10,]    2    4    4    3    1    3    3    2    1     2\n"
     ]
    }
   ],
   "source": [
    "set.seed(1221)\n",
    "mat = rbinom(n=100,size=5,prob=0.5)\n",
    "dim(mat)=c(10,10)\n",
    "print(mat)"
   ]
  },
  {
   "cell_type": "markdown",
   "id": "0d4561d6-55cc-4739-a37b-5f60dad6e457",
   "metadata": {},
   "source": [
    "각 행의 합"
   ]
  },
  {
   "cell_type": "code",
   "execution_count": 75,
   "id": "7bb60871-55b5-4cc5-9ae0-3fc23c270ac4",
   "metadata": {},
   "outputs": [
    {
     "data": {
      "text/html": [
       "<style>\n",
       ".list-inline {list-style: none; margin:0; padding: 0}\n",
       ".list-inline>li {display: inline-block}\n",
       ".list-inline>li:not(:last-child)::after {content: \"\\00b7\"; padding: 0 .5ex}\n",
       "</style>\n",
       "<ol class=list-inline><li>25</li><li>24</li><li>27</li><li>30</li><li>24</li><li>27</li><li>25</li><li>27</li><li>36</li><li>25</li></ol>\n"
      ],
      "text/latex": [
       "\\begin{enumerate*}\n",
       "\\item 25\n",
       "\\item 24\n",
       "\\item 27\n",
       "\\item 30\n",
       "\\item 24\n",
       "\\item 27\n",
       "\\item 25\n",
       "\\item 27\n",
       "\\item 36\n",
       "\\item 25\n",
       "\\end{enumerate*}\n"
      ],
      "text/markdown": [
       "1. 25\n",
       "2. 24\n",
       "3. 27\n",
       "4. 30\n",
       "5. 24\n",
       "6. 27\n",
       "7. 25\n",
       "8. 27\n",
       "9. 36\n",
       "10. 25\n",
       "\n",
       "\n"
      ],
      "text/plain": [
       " [1] 25 24 27 30 24 27 25 27 36 25"
      ]
     },
     "metadata": {},
     "output_type": "display_data"
    }
   ],
   "source": [
    "mat %>% apply(1,sum)"
   ]
  },
  {
   "cell_type": "markdown",
   "id": "6d87df53-feb1-4591-b136-6d6eb003aaee",
   "metadata": {},
   "source": [
    "각 열의 합"
   ]
  },
  {
   "cell_type": "code",
   "execution_count": 76,
   "id": "112e6bc6-f206-4ca1-98df-73cec25489b2",
   "metadata": {},
   "outputs": [
    {
     "data": {
      "text/html": [
       "<style>\n",
       ".list-inline {list-style: none; margin:0; padding: 0}\n",
       ".list-inline>li {display: inline-block}\n",
       ".list-inline>li:not(:last-child)::after {content: \"\\00b7\"; padding: 0 .5ex}\n",
       "</style>\n",
       "<ol class=list-inline><li>30</li><li>29</li><li>31</li><li>28</li><li>19</li><li>34</li><li>26</li><li>25</li><li>23</li><li>25</li></ol>\n"
      ],
      "text/latex": [
       "\\begin{enumerate*}\n",
       "\\item 30\n",
       "\\item 29\n",
       "\\item 31\n",
       "\\item 28\n",
       "\\item 19\n",
       "\\item 34\n",
       "\\item 26\n",
       "\\item 25\n",
       "\\item 23\n",
       "\\item 25\n",
       "\\end{enumerate*}\n"
      ],
      "text/markdown": [
       "1. 30\n",
       "2. 29\n",
       "3. 31\n",
       "4. 28\n",
       "5. 19\n",
       "6. 34\n",
       "7. 26\n",
       "8. 25\n",
       "9. 23\n",
       "10. 25\n",
       "\n",
       "\n"
      ],
      "text/plain": [
       " [1] 30 29 31 28 19 34 26 25 23 25"
      ]
     },
     "metadata": {},
     "output_type": "display_data"
    }
   ],
   "source": [
    "mat %>% apply(2,sum)"
   ]
  },
  {
   "cell_type": "markdown",
   "id": "2d0efd30-f058-47c2-993a-963dfd8fe568",
   "metadata": {},
   "source": [
    "**6-5**"
   ]
  },
  {
   "cell_type": "code",
   "execution_count": 77,
   "id": "2b68b177-8184-4205-a658-8e6bf877a0e1",
   "metadata": {},
   "outputs": [],
   "source": [
    "df=read.csv(\"https://raw.githubusercontent.com/guebin/2021IR/master/_notebooks/round2.csv\")\n",
    "X=as.matrix(df)"
   ]
  },
  {
   "cell_type": "code",
   "execution_count": 79,
   "id": "9aa978ee-3b56-46c2-a9a4-4767de84a9bf",
   "metadata": {},
   "outputs": [
    {
     "data": {
      "text/html": [
       "<table class=\"dataframe\">\n",
       "<caption>A matrix: 6 × 2 of type int</caption>\n",
       "<thead>\n",
       "\t<tr><th scope=col>x</th><th scope=col>y</th></tr>\n",
       "</thead>\n",
       "<tbody>\n",
       "\t<tr><td>12</td><td>313</td></tr>\n",
       "\t<tr><td>12</td><td>314</td></tr>\n",
       "\t<tr><td>13</td><td>279</td></tr>\n",
       "\t<tr><td>13</td><td>311</td></tr>\n",
       "\t<tr><td>13</td><td>312</td></tr>\n",
       "\t<tr><td>13</td><td>313</td></tr>\n",
       "</tbody>\n",
       "</table>\n"
      ],
      "text/latex": [
       "A matrix: 6 × 2 of type int\n",
       "\\begin{tabular}{ll}\n",
       " x & y\\\\\n",
       "\\hline\n",
       "\t 12 & 313\\\\\n",
       "\t 12 & 314\\\\\n",
       "\t 13 & 279\\\\\n",
       "\t 13 & 311\\\\\n",
       "\t 13 & 312\\\\\n",
       "\t 13 & 313\\\\\n",
       "\\end{tabular}\n"
      ],
      "text/markdown": [
       "\n",
       "A matrix: 6 × 2 of type int\n",
       "\n",
       "| x | y |\n",
       "|---|---|\n",
       "| 12 | 313 |\n",
       "| 12 | 314 |\n",
       "| 13 | 279 |\n",
       "| 13 | 311 |\n",
       "| 13 | 312 |\n",
       "| 13 | 313 |\n",
       "\n"
      ],
      "text/plain": [
       "     x  y  \n",
       "[1,] 12 313\n",
       "[2,] 12 314\n",
       "[3,] 13 279\n",
       "[4,] 13 311\n",
       "[5,] 13 312\n",
       "[6,] 13 313"
      ]
     },
     "metadata": {},
     "output_type": "display_data"
    }
   ],
   "source": [
    "head(X)"
   ]
  },
  {
   "cell_type": "code",
   "execution_count": 87,
   "id": "a5a980dd-b12d-4dc5-aea2-a30bbe616764",
   "metadata": {},
   "outputs": [],
   "source": [
    "X2 = cbind(c(cos(pi/4),sin(pi/4)),c(-sin(pi/4),cos(pi/4)))"
   ]
  },
  {
   "cell_type": "code",
   "execution_count": 91,
   "id": "1a5ac272-611c-40d1-b08b-d3f8a2bfde91",
   "metadata": {},
   "outputs": [
    {
     "data": {
      "text/html": [
       "<table class=\"dataframe\">\n",
       "<caption>A matrix: 2 × 2 of type dbl</caption>\n",
       "<tbody>\n",
       "\t<tr><td>0.7071068</td><td>-0.7071068</td></tr>\n",
       "\t<tr><td>0.7071068</td><td> 0.7071068</td></tr>\n",
       "</tbody>\n",
       "</table>\n"
      ],
      "text/latex": [
       "A matrix: 2 × 2 of type dbl\n",
       "\\begin{tabular}{ll}\n",
       "\t 0.7071068 & -0.7071068\\\\\n",
       "\t 0.7071068 &  0.7071068\\\\\n",
       "\\end{tabular}\n"
      ],
      "text/markdown": [
       "\n",
       "A matrix: 2 × 2 of type dbl\n",
       "\n",
       "| 0.7071068 | -0.7071068 |\n",
       "| 0.7071068 |  0.7071068 |\n",
       "\n"
      ],
      "text/plain": [
       "     [,1]      [,2]      \n",
       "[1,] 0.7071068 -0.7071068\n",
       "[2,] 0.7071068  0.7071068"
      ]
     },
     "metadata": {},
     "output_type": "display_data"
    }
   ],
   "source": [
    "head(X2)"
   ]
  },
  {
   "cell_type": "code",
   "execution_count": null,
   "id": "dce64a60-fc4f-4dd2-9c8c-4426874180b9",
   "metadata": {},
   "outputs": [],
   "source": [
    "pl"
   ]
  }
 ],
 "metadata": {
  "kernelspec": {
   "display_name": "R",
   "language": "R",
   "name": "ir"
  },
  "language_info": {
   "codemirror_mode": "r",
   "file_extension": ".r",
   "mimetype": "text/x-r-source",
   "name": "R",
   "pygments_lexer": "r",
   "version": "4.0.5"
  }
 },
 "nbformat": 4,
 "nbformat_minor": 5
}
