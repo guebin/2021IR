{
 "cells": [
  {
   "cell_type": "markdown",
   "id": "9462d327-19fe-4145-842f-5123a89e9ec5",
   "metadata": {},
   "source": [
    "## 201816911 김지은 R입문 기말고사- 5,6번"
   ]
  },
  {
   "cell_type": "code",
   "execution_count": 1,
   "id": "77481310-61e7-4560-b055-4be40e4b521a",
   "metadata": {},
   "outputs": [],
   "source": [
    "options(jupyter.plot_scale=3)\n",
    "options(jupyter.display_mimetypes=c(\"text/html\"))\n",
    "options(jupyter.rich_display=FALSE)\n",
    "options(repr.plot.width=6,repr.plot.height=6,repr.plot.res=300)\n",
    "options(max.print=1000)"
   ]
  },
  {
   "cell_type": "code",
   "execution_count": 3,
   "id": "2e155ebd-198a-4253-b9c5-90dfd3700ea3",
   "metadata": {},
   "outputs": [],
   "source": [
    "library(tidyverse)"
   ]
  },
  {
   "cell_type": "markdown",
   "id": "a556e378-686a-44c9-a91e-fafd23a08154",
   "metadata": {},
   "source": [
    "`-` 5번"
   ]
  },
  {
   "cell_type": "markdown",
   "id": "062a47ec-b3e4-4e43-a8a9-aeced2b5d4ad",
   "metadata": {},
   "source": [
    "(1)"
   ]
  },
  {
   "cell_type": "code",
   "execution_count": 4,
   "id": "6d19ca02-f360-4dc4-bb4c-969858f1ad6e",
   "metadata": {},
   "outputs": [],
   "source": [
    "f <- function(x) max(cumprod(1:x))"
   ]
  },
  {
   "cell_type": "code",
   "execution_count": 5,
   "id": "e648ad62-1070-4b1c-bb67-5cf54a175ec2",
   "metadata": {},
   "outputs": [
    {
     "data": {
      "text/plain": [
       "[1] 5040"
      ]
     },
     "metadata": {},
     "output_type": "display_data"
    }
   ],
   "source": [
    "sapply( 7 , f)"
   ]
  },
  {
   "cell_type": "markdown",
   "id": "0e886317-ba7b-4b40-9ef0-45a8176e3088",
   "metadata": {},
   "source": [
    "=> 5040이다."
   ]
  },
  {
   "cell_type": "markdown",
   "id": "ff2d48da-6a77-4217-8982-cc75dfc48686",
   "metadata": {},
   "source": [
    "(2)"
   ]
  },
  {
   "cell_type": "code",
   "execution_count": 7,
   "id": "553e45b9-4e6f-4042-a238-517c7a02f77f",
   "metadata": {},
   "outputs": [
    {
     "data": {
      "text/plain": [
       "[1] 2.718282"
      ]
     },
     "metadata": {},
     "output_type": "display_data"
    }
   ],
   "source": [
    "exp(1)"
   ]
  },
  {
   "cell_type": "code",
   "execution_count": 25,
   "id": "715d4908-265f-4ba7-87b5-2e459665834a",
   "metadata": {},
   "outputs": [],
   "source": [
    "n=c()"
   ]
  },
  {
   "cell_type": "code",
   "execution_count": 26,
   "id": "071fe01f-b75a-495d-abdb-2183420e6465",
   "metadata": {},
   "outputs": [
    {
     "ename": "ERROR",
     "evalue": "Error in n[i]/sapply(n[i], f): 이항연산자에 수치가 아닌 인수입니다\n",
     "output_type": "error",
     "traceback": [
      "Error in n[i]/sapply(n[i], f): 이항연산자에 수치가 아닌 인수입니다\nTraceback:\n"
     ]
    }
   ],
   "source": [
    "for (i in 0:1000) n[i] / sapply( n[i] , f)"
   ]
  },
  {
   "cell_type": "markdown",
   "id": "1e6e6bea-f317-4edd-84dd-0440df98fa2e",
   "metadata": {},
   "source": [
    "(3)"
   ]
  },
  {
   "cell_type": "code",
   "execution_count": 27,
   "id": "9e4fc3a6-a17b-4413-bc89-f7b9f1886a58",
   "metadata": {},
   "outputs": [],
   "source": [
    "x=rnorm(1000)"
   ]
  },
  {
   "cell_type": "code",
   "execution_count": 28,
   "id": "9de4be30-70ba-4442-ac7b-06f7daec5631",
   "metadata": {},
   "outputs": [
    {
     "data": {
      "text/plain": [
       "[1] 498"
      ]
     },
     "metadata": {},
     "output_type": "display_data"
    }
   ],
   "source": [
    "sum(x >0 )"
   ]
  },
  {
   "cell_type": "markdown",
   "id": "534087b4-ee81-4eaa-a895-64cbf322a6bb",
   "metadata": {},
   "source": [
    "=> 498개이다"
   ]
  },
  {
   "cell_type": "markdown",
   "id": "dd46f0ac-455d-4036-97dc-202f4b9ac9e4",
   "metadata": {},
   "source": [
    "(4) "
   ]
  },
  {
   "cell_type": "code",
   "execution_count": 60,
   "id": "98ebdcf0-743d-4535-8ad1-22defcbb59c8",
   "metadata": {},
   "outputs": [],
   "source": [
    "y=rbinom(1000,size=1,prob=0.2)"
   ]
  },
  {
   "cell_type": "code",
   "execution_count": 61,
   "id": "621031c3-8cb7-4cde-ab12-84301ff9a195",
   "metadata": {},
   "outputs": [
    {
     "data": {
      "text/plain": [
       "[1] 204"
      ]
     },
     "metadata": {},
     "output_type": "display_data"
    }
   ],
   "source": [
    "sum(y==1)"
   ]
  },
  {
   "cell_type": "markdown",
   "id": "0e5603ac-bc9a-44ec-8dec-1d27b8c9bdcf",
   "metadata": {},
   "source": [
    "=> 약 200개 부근으로 나온다."
   ]
  },
  {
   "cell_type": "markdown",
   "id": "dfd02ac5-dece-4094-ac60-cf0bef89dbd2",
   "metadata": {},
   "source": [
    "(5)"
   ]
  },
  {
   "cell_type": "code",
   "execution_count": 67,
   "id": "f76caa18-10c3-4c88-8830-6cf8f503491d",
   "metadata": {},
   "outputs": [
    {
     "data": {
      "image/png": "[encoded data removed]",
      "text/plain": [
       "Plot with title \"Histogram of y\""
      ]
     },
     "metadata": {},
     "output_type": "display_data"
    }
   ],
   "source": [
    "y=rnorm(5000,mean=1,sd=1)\n",
    "hist(y)"
   ]
  },
  {
   "cell_type": "markdown",
   "id": "a5b881f9-d9cc-46e2-8c3e-b9a845368dc8",
   "metadata": {},
   "source": [
    "(6)"
   ]
  },
  {
   "cell_type": "code",
   "execution_count": 71,
   "id": "ea1331d7-7366-4880-a4fc-6d7bfe61bb67",
   "metadata": {},
   "outputs": [],
   "source": [
    "x=-1000:1000/1000"
   ]
  },
  {
   "cell_type": "code",
   "execution_count": 87,
   "id": "1a738472-fb5a-49e0-a8ad-2bb752fe37bc",
   "metadata": {},
   "outputs": [
    {
     "ename": "ERROR",
     "evalue": "Error in which(x[1:2001]): 'which'에 전달되는 인자가 논리형이 아닙니다\n",
     "output_type": "error",
     "traceback": [
      "Error in which(x[1:2001]): 'which'에 전달되는 인자가 논리형이 아닙니다\nTraceback:\n",
      "1. which(which(x[1:2001])%%2 == 0)",
      "2. which(x[1:2001])"
     ]
    }
   ],
   "source": [
    "which(x[1:2001] %%2 ==0)"
   ]
  },
  {
   "cell_type": "markdown",
   "id": "0d35f5d2-e39c-4436-9b4b-f0b6280e337f",
   "metadata": {},
   "source": [
    "(7)"
   ]
  },
  {
   "cell_type": "code",
   "execution_count": 96,
   "id": "120effa1-e968-46fd-8df7-b0020a5b40cc",
   "metadata": {},
   "outputs": [],
   "source": [
    "sal=c()\n",
    "sal[1]=5000  #2021년 =1 "
   ]
  },
  {
   "cell_type": "code",
   "execution_count": 97,
   "id": "13ed1de5-feeb-479c-92e9-399d8db8fcfd",
   "metadata": {},
   "outputs": [],
   "source": [
    "for (i in 2:10) {\n",
    "    sal[i]= sal[i-1]*1.03    \n",
    "}"
   ]
  },
  {
   "cell_type": "code",
   "execution_count": 98,
   "id": "3b1f1091-6822-4bdc-b414-c211e755e0ec",
   "metadata": {},
   "outputs": [
    {
     "data": {
      "text/plain": [
       "[1] 6523.866"
      ]
     },
     "metadata": {},
     "output_type": "display_data"
    }
   ],
   "source": [
    "sal[10]"
   ]
  },
  {
   "cell_type": "markdown",
   "id": "8b34e40f-92ed-4671-b69c-63cae67574e4",
   "metadata": {},
   "source": [
    "=> 대략 6523만원이다."
   ]
  },
  {
   "cell_type": "markdown",
   "id": "29cd1558-7fdc-481b-bba1-b9f88a1b5b98",
   "metadata": {},
   "source": [
    "(8)"
   ]
  },
  {
   "cell_type": "code",
   "execution_count": 112,
   "id": "88ed62e1-d69f-417b-8406-95d4df819793",
   "metadata": {},
   "outputs": [],
   "source": [
    "x = -10:10"
   ]
  },
  {
   "cell_type": "code",
   "execution_count": 113,
   "id": "7ea27917-852e-4709-b0b8-4985b7c6ec2b",
   "metadata": {},
   "outputs": [
    {
     "name": "stderr",
     "output_type": "stream",
     "text": [
      "Warning message in log(x):\n",
      "\"NaN이 생성되었습니다\""
     ]
    },
    {
     "name": "stdout",
     "output_type": "stream",
     "text": [
      "[1] \"x는 양수이어야 합니다\"\n",
      "[1] \"음의 무한대\"\n"
     ]
    },
    {
     "data": {
      "text/plain": [
       " [1] \"x는 양수이어야 합니다\" \"x는 양수이어야 합니다\" \"x는 양수이어야 합니다\"\n",
       " [4] \"x는 양수이어야 합니다\" \"x는 양수이어야 합니다\" \"x는 양수이어야 합니다\"\n",
       " [7] \"x는 양수이어야 합니다\" \"x는 양수이어야 합니다\" \"x는 양수이어야 합니다\"\n",
       "[10] \"x는 양수이어야 합니다\" \"음의 무한대\"           \"0\"                    \n",
       "[13] \"0.693147180559945\"     \"1.09861228866811\"      \"1.38629436111989\"     \n",
       "[16] \"1.6094379124341\"       \"1.79175946922805\"      \"1.94591014905531\"     \n",
       "[19] \"2.07944154167984\"      \"2.19722457733622\"      \"2.30258509299405\"     "
      ]
     },
     "metadata": {},
     "output_type": "display_data"
    }
   ],
   "source": [
    "ifelse(x>0, log(x), ifelse(x<0,print(\"x는 양수이어야 합니다\"),print(\"음의 무한대\")))"
   ]
  },
  {
   "cell_type": "markdown",
   "id": "600f74ef-5928-4575-b921-6d51a380bba3",
   "metadata": {},
   "source": [
    "(9)"
   ]
  },
  {
   "cell_type": "code",
   "execution_count": 114,
   "id": "e01a6caf-13e5-433f-8324-5c3f3b414a89",
   "metadata": {},
   "outputs": [
    {
     "data": {
      "text/plain": [
       "  X1           X2         \n",
       "1  0.002581442  0.08279069\n",
       "2  0.668450554 -0.77972746\n",
       "3  1.496330014  1.12667459\n",
       "4 -0.118268387 -0.28385545\n",
       "5  0.028501049  0.24116398\n",
       "6  0.333608301  0.68331544"
      ]
     },
     "metadata": {},
     "output_type": "display_data"
    }
   ],
   "source": [
    "df=tibble(X1=rnorm(100),X2=rnorm(100))\n",
    "head(df)"
   ]
  },
  {
   "cell_type": "code",
   "execution_count": 115,
   "id": "ad6e7de1-4ba2-4745-a094-55c039818bf4",
   "metadata": {},
   "outputs": [
    {
     "data": {
      "text/plain": [
       "    X1           X2          Z          \n",
       "1    0.002581442  0.08279069 0.006860962\n",
       "2    0.668450554 -0.77972746 1.054801053\n",
       "3    1.496330014  1.12667459 3.508399131\n",
       "4   -0.118268387 -0.28385545 0.094561326\n",
       "5    0.028501049  0.24116398 0.058972376\n",
       "6    0.333608301  0.68331544 0.578214491\n",
       "7   -0.907219701 -0.08468301 0.830218799\n",
       "8    1.060240121  1.45227000 3.233197268\n",
       "9   -2.360495174 -0.21923594 5.620001862\n",
       "10   1.033896502 -1.95433438 4.888364838\n",
       "11   0.276159500  0.03837604 0.077736790\n",
       "12   0.708495293  0.06517263 0.506213052\n",
       "13   0.793894039  0.86446165 1.377561693\n",
       "14   1.092207378  0.94151594 2.079369220\n",
       "15   1.046907598  0.01467466 1.096230864\n",
       "16   0.797038736  1.01898770 1.673606671\n",
       "17   0.843297263 -0.80136628 1.353338182\n",
       "18  -0.555288496  0.96935989 1.248003901\n",
       "19  -0.690697418 -0.47231673 0.700146016\n",
       "20  -0.510997691  1.26771508 1.868220168\n",
       "21  -0.260932340 -0.87219168 0.828804017\n",
       "22  -0.809225235 -0.77674627 1.258180246\n",
       "23   1.165534212 -0.59922959 1.717546105\n",
       "24  -0.409960180  0.51342394 0.431671495\n",
       "25   0.707685909 -1.49034855 2.721958137\n",
       "26  -0.123695756 -1.65150529 2.742770360\n",
       "27  -1.124651487  0.47121151 1.486881254\n",
       "28  -0.063160412 -0.30432308 0.096601776\n",
       "29  -2.261394573  0.12513040 5.129563031\n",
       "30  -0.248836454  0.63258232 0.462079970\n",
       "... ...          ...         ...        \n",
       "71   0.18994921  -0.78371753 0.650293869\n",
       "72   1.01228532   0.21713918 1.071870994\n",
       "73  -0.50861345   1.18852386 1.671276601\n",
       "74   0.54725420   0.67881075 0.760271191\n",
       "75   1.50218616   0.28183720 2.335995476\n",
       "76  -1.22304177  -0.79656440 2.130346011\n",
       "77   1.19481352   0.55602824 1.736746751\n",
       "78   1.07677737   0.42932198 1.343766861\n",
       "79  -0.46387165   1.11448011 1.457242820\n",
       "80   0.04812200  -0.03546512 0.003573502\n",
       "81  -0.28383350  -0.86601902 0.830550402\n",
       "82  -0.75487005   0.07318070 0.575184215\n",
       "83   0.11191064   1.30624408 1.718797588\n",
       "84  -1.04941771   0.35042216 1.224073218\n",
       "85   0.01978607  -0.56800234 0.323018150\n",
       "86  -0.69945378  -1.39119880 2.424669703\n",
       "87  -0.32117539  -0.15964321 0.128639583\n",
       "88  -0.35671087   0.85455424 0.857505596\n",
       "89  -0.45473126  -0.43208567 0.393478550\n",
       "90  -1.14494915  -2.53658524 7.745173237\n",
       "91   0.03147702  -0.65572586 0.430967212\n",
       "92   1.55550602   0.01372247 2.419787282\n",
       "93   1.44385319  -0.11930554 2.098945855\n",
       "94  -0.91914623   0.26748023 0.916375470\n",
       "95   1.09315941   1.17112470 2.566530547\n",
       "96   0.69826520  -0.58377034 0.828362098\n",
       "97   1.16454839   0.03624595 1.357486729\n",
       "98  -1.26937690   0.06098187 1.615036513\n",
       "99  -1.80389580  -0.57068888 3.579725854\n",
       "100 -0.03145422  -0.16373724 0.027799253"
      ]
     },
     "metadata": {},
     "output_type": "display_data"
    }
   ],
   "source": [
    "df %>% mutate(Z=(X1^2) + (X2^2))"
   ]
  },
  {
   "cell_type": "markdown",
   "id": "24105b06-cd51-4f23-a796-8a6764decc26",
   "metadata": {},
   "source": [
    "(10)"
   ]
  },
  {
   "cell_type": "code",
   "execution_count": 116,
   "id": "64fcf27a-e14d-4998-9f2d-5335d1e860c6",
   "metadata": {},
   "outputs": [
    {
     "name": "stdout",
     "output_type": "stream",
     "text": [
      "      [,1] [,2] [,3] [,4] [,5] [,6] [,7] [,8] [,9] [,10]\n",
      " [1,]    2    3    3    2    2    3    1    3    3     3\n",
      " [2,]    1    3    3    4    2    2    4    2    2     1\n",
      " [3,]    2    2    2    2    4    4    2    3    3     3\n",
      " [4,]    3    2    4    5    2    5    1    4    2     2\n",
      " [5,]    2    2    2    2    1    4    2    2    3     4\n",
      " [6,]    5    1    3    1    1    3    4    2    4     3\n",
      " [7,]    4    3    4    3    2    3    2    3    0     1\n",
      " [8,]    4    4    2    3    2    3    3    0    4     2\n",
      " [9,]    5    5    4    3    2    4    4    4    1     4\n",
      "[10,]    2    4    4    3    1    3    3    2    1     2\n"
     ]
    }
   ],
   "source": [
    "set.seed(1221)\n",
    "mat = rbinom(n=100,size=5,prob=0.5)\n",
    "dim(mat)=c(10,10)\n",
    "print(mat)"
   ]
  },
  {
   "cell_type": "code",
   "execution_count": 120,
   "id": "b138e7b1-f9a8-4ad4-95e7-dc0b6c3d3f20",
   "metadata": {},
   "outputs": [
    {
     "data": {
      "text/plain": [
       " [1] 25 24 27 30 24 27 25 27 36 25"
      ]
     },
     "metadata": {},
     "output_type": "display_data"
    }
   ],
   "source": [
    "apply(mat,1 ,sum)  #행의 합"
   ]
  },
  {
   "cell_type": "code",
   "execution_count": 121,
   "id": "d8cd0f95-148c-49aa-bb0f-2cc20de34f40",
   "metadata": {},
   "outputs": [
    {
     "data": {
      "text/plain": [
       " [1] 30 29 31 28 19 34 26 25 23 25"
      ]
     },
     "metadata": {},
     "output_type": "display_data"
    }
   ],
   "source": [
    "apply(mat,2 ,sum)  #열의 합"
   ]
  },
  {
   "cell_type": "markdown",
   "id": "bf43ac7e-956f-4054-9748-ff0f6fe4c49b",
   "metadata": {},
   "source": [
    "`-` 6번"
   ]
  },
  {
   "cell_type": "markdown",
   "id": "d7bd148f-e7a7-4414-80b5-74d34aafd0f0",
   "metadata": {},
   "source": [
    "(1)"
   ]
  },
  {
   "cell_type": "code",
   "execution_count": 149,
   "id": "3ce7162d-4555-401e-84b3-a6d2c1c9965d",
   "metadata": {},
   "outputs": [
    {
     "data": {
      "text/plain": [
       "[1] 50"
      ]
     },
     "metadata": {},
     "output_type": "display_data"
    }
   ],
   "source": [
    "a=seq( from = 5, to = 104, by=2 )\n",
    "length(a)"
   ]
  },
  {
   "cell_type": "code",
   "execution_count": 150,
   "id": "45af8cfb-44cf-400d-86ee-033b63a06485",
   "metadata": {},
   "outputs": [
    {
     "data": {
      "text/plain": [
       " [1]  5  6  7  8  9 10 11 12 13 14 15 16 17 18 19 20 21 22 23 24 25 26 27 28 29\n",
       "[26] 30 31 32 33 34 35 36 37 38 39 40 41 42 43 44 45 46 47 48 49 50 51 52 53 54"
      ]
     },
     "metadata": {},
     "output_type": "display_data"
    }
   ],
   "source": [
    "cummean(a)"
   ]
  },
  {
   "cell_type": "markdown",
   "id": "4549dcfa-d8f5-4193-bdcc-c98a39e1ccbe",
   "metadata": {},
   "source": [
    "=> 50번째 평균은 54이다."
   ]
  },
  {
   "cell_type": "code",
   "execution_count": null,
   "id": "3ca8cea9-603f-4f60-8ef8-11650180f3ad",
   "metadata": {},
   "outputs": [],
   "source": []
  }
 ],
 "metadata": {
  "kernelspec": {
   "display_name": "R",
   "language": "R",
   "name": "ir"
  },
  "language_info": {
   "codemirror_mode": "r",
   "file_extension": ".r",
   "mimetype": "text/x-r-source",
   "name": "R",
   "pygments_lexer": "r",
   "version": "3.6.1"
  }
 },
 "nbformat": 4,
 "nbformat_minor": 5
}
