{
 "cells": [
  {
   "cell_type": "code",
   "execution_count": 3,
   "id": "37ae6a3c",
   "metadata": {},
   "outputs": [
    {
     "name": "stderr",
     "output_type": "stream",
     "text": [
      "Registered S3 methods overwritten by 'ggplot2':\n",
      "  method         from \n",
      "  [.quosures     rlang\n",
      "  c.quosures     rlang\n",
      "  print.quosures rlang\n",
      "Registered S3 method overwritten by 'rvest':\n",
      "  method            from\n",
      "  read_xml.response xml2\n",
      "-- Attaching packages --------------------------------------- tidyverse 1.2.1 --\n",
      "√ ggplot2 3.1.1       √ purrr   0.3.2  \n",
      "√ tibble  2.1.1       √ dplyr   0.8.0.1\n",
      "√ tidyr   0.8.3       √ stringr 1.4.0  \n",
      "√ readr   1.3.1       √ forcats 0.4.0  \n",
      "-- Conflicts ------------------------------------------ tidyverse_conflicts() --\n",
      "x dplyr::filter() masks stats::filter()\n",
      "x dplyr::lag()    masks stats::lag()\n"
     ]
    }
   ],
   "source": [
    "library(tidyverse)"
   ]
  },
  {
   "cell_type": "markdown",
   "id": "3e88530f",
   "metadata": {},
   "source": [
    "## 6번 (4)"
   ]
  },
  {
   "cell_type": "code",
   "execution_count": 1,
   "id": "3500b1c3",
   "metadata": {},
   "outputs": [
    {
     "data": {
      "text/html": [
       "<table>\n",
       "<tbody>\n",
       "\t<tr><td>1 </td><td>2 </td><td> 3</td><td>4 </td></tr>\n",
       "\t<tr><td>2 </td><td>2 </td><td> 1</td><td>0 </td></tr>\n",
       "\t<tr><td>0 </td><td>1 </td><td>-1</td><td>0 </td></tr>\n",
       "\t<tr><td>3 </td><td>1 </td><td>-1</td><td>3 </td></tr>\n",
       "</tbody>\n",
       "</table>\n"
      ],
      "text/latex": [
       "\\begin{tabular}{llll}\n",
       "\t 1  & 2  &  3 & 4 \\\\\n",
       "\t 2  & 2  &  1 & 0 \\\\\n",
       "\t 0  & 1  & -1 & 0 \\\\\n",
       "\t 3  & 1  & -1 & 3 \\\\\n",
       "\\end{tabular}\n"
      ],
      "text/markdown": [
       "\n",
       "| 1  | 2  |  3 | 4  |\n",
       "| 2  | 2  |  1 | 0  |\n",
       "| 0  | 1  | -1 | 0  |\n",
       "| 3  | 1  | -1 | 3  |\n",
       "\n"
      ],
      "text/plain": [
       "     [,1] [,2] [,3] [,4]\n",
       "[1,] 1    2     3   4   \n",
       "[2,] 2    2     1   0   \n",
       "[3,] 0    1    -1   0   \n",
       "[4,] 3    1    -1   3   "
      ]
     },
     "metadata": {},
     "output_type": "display_data"
    }
   ],
   "source": [
    "A=rbind(c(1,2,3,4),c(2,2,1,0),c(0,1,-1,0),c(3,1,-1,3))\n",
    "A"
   ]
  },
  {
   "cell_type": "code",
   "execution_count": 2,
   "id": "082afcfc",
   "metadata": {},
   "outputs": [
    {
     "data": {
      "text/html": [
       "<table>\n",
       "<tbody>\n",
       "\t<tr><td>1</td></tr>\n",
       "\t<tr><td>9</td></tr>\n",
       "\t<tr><td>4</td></tr>\n",
       "\t<tr><td>7</td></tr>\n",
       "</tbody>\n",
       "</table>\n"
      ],
      "text/latex": [
       "\\begin{tabular}{l}\n",
       "\t 1\\\\\n",
       "\t 9\\\\\n",
       "\t 4\\\\\n",
       "\t 7\\\\\n",
       "\\end{tabular}\n"
      ],
      "text/markdown": [
       "\n",
       "| 1 |\n",
       "| 9 |\n",
       "| 4 |\n",
       "| 7 |\n",
       "\n"
      ],
      "text/plain": [
       "     [,1]\n",
       "[1,] 1   \n",
       "[2,] 9   \n",
       "[3,] 4   \n",
       "[4,] 7   "
      ]
     },
     "metadata": {},
     "output_type": "display_data"
    }
   ],
   "source": [
    "b=c(1,9,4,7)\n",
    "dim(b)=c(4,1)\n",
    "b"
   ]
  },
  {
   "cell_type": "code",
   "execution_count": 4,
   "id": "25b2c3e6",
   "metadata": {},
   "outputs": [
    {
     "data": {
      "text/html": [
       "<table>\n",
       "<tbody>\n",
       "\t<tr><td> 2</td></tr>\n",
       "\t<tr><td> 3</td></tr>\n",
       "\t<tr><td>-1</td></tr>\n",
       "\t<tr><td>-1</td></tr>\n",
       "</tbody>\n",
       "</table>\n"
      ],
      "text/latex": [
       "\\begin{tabular}{l}\n",
       "\t  2\\\\\n",
       "\t  3\\\\\n",
       "\t -1\\\\\n",
       "\t -1\\\\\n",
       "\\end{tabular}\n"
      ],
      "text/markdown": [
       "\n",
       "|  2 |\n",
       "|  3 |\n",
       "| -1 |\n",
       "| -1 |\n",
       "\n"
      ],
      "text/plain": [
       "     [,1]\n",
       "[1,]  2  \n",
       "[2,]  3  \n",
       "[3,] -1  \n",
       "[4,] -1  "
      ]
     },
     "metadata": {},
     "output_type": "display_data"
    }
   ],
   "source": [
    "solve(A) %*% b"
   ]
  },
  {
   "cell_type": "code",
   "execution_count": null,
   "id": "94b919eb",
   "metadata": {},
   "outputs": [],
   "source": []
  }
 ],
 "metadata": {
  "kernelspec": {
   "display_name": "R",
   "language": "R",
   "name": "ir"
  },
  "language_info": {
   "codemirror_mode": "r",
   "file_extension": ".r",
   "mimetype": "text/x-r-source",
   "name": "R",
   "pygments_lexer": "r",
   "version": "3.6.1"
  }
 },
 "nbformat": 4,
 "nbformat_minor": 5
}
