{
  "cells": [
    {
      "cell_type": "markdown",
      "id": "cd0b452a-d6b0-4bb5-945a-f88ef93a7f89",
      "metadata": {
        "tags": [],
        "id": "cd0b452a-d6b0-4bb5-945a-f88ef93a7f89"
      },
      "source": [
        "# 2021년 1학기 R입문 기말고사 (ver 1.00)\n",
        "\n",
        "- toc:false\n",
        "- branch: master\n",
        "- badges: true\n",
        "- comments: true\n",
        "- author: 최규빈"
      ]
    },
    {
      "cell_type": "code",
      "execution_count": 16,
      "id": "a27abf35-cdef-4797-a470-e479ecad2a93",
      "metadata": {
        "tags": [],
        "id": "a27abf35-cdef-4797-a470-e479ecad2a93",
        "outputId": "40ea4991-862f-4229-e5ae-3968f71f5aaa",
        "colab": {
          "base_uri": "https://localhost:8080/"
        }
      },
      "outputs": [
        {
          "output_type": "stream",
          "name": "stderr",
          "text": [
            "Warning message in system(\"timedatectl\", intern = TRUE):\n",
            "“running command 'timedatectl' had status 1”\n",
            "── \u001b[1mAttaching packages\u001b[22m ─────────────────────────────────────── tidyverse 1.3.1 ──\n",
            "\n",
            "\u001b[32m✔\u001b[39m \u001b[34mggplot2\u001b[39m 3.3.5     \u001b[32m✔\u001b[39m \u001b[34mpurrr  \u001b[39m 0.3.4\n",
            "\u001b[32m✔\u001b[39m \u001b[34mtibble \u001b[39m 3.1.6     \u001b[32m✔\u001b[39m \u001b[34mdplyr  \u001b[39m 1.0.7\n",
            "\u001b[32m✔\u001b[39m \u001b[34mtidyr  \u001b[39m 1.1.4     \u001b[32m✔\u001b[39m \u001b[34mstringr\u001b[39m 1.4.0\n",
            "\u001b[32m✔\u001b[39m \u001b[34mreadr  \u001b[39m 2.1.0     \u001b[32m✔\u001b[39m \u001b[34mforcats\u001b[39m 0.5.1\n",
            "\n",
            "── \u001b[1mConflicts\u001b[22m ────────────────────────────────────────── tidyverse_conflicts() ──\n",
            "\u001b[31m✖\u001b[39m \u001b[34mdplyr\u001b[39m::\u001b[32mfilter()\u001b[39m masks \u001b[34mstats\u001b[39m::filter()\n",
            "\u001b[31m✖\u001b[39m \u001b[34mdplyr\u001b[39m::\u001b[32mlag()\u001b[39m    masks \u001b[34mstats\u001b[39m::lag()\n",
            "\n"
          ]
        }
      ],
      "source": [
        "#hide\n",
        "#options(jupyter.rich_display=FALSE)\n",
        "options(repr.plot.width=6,repr.plot.height=6,repr.plot.res=150)\n",
        "options(max.print=1000)\n",
        "library(tidyverse)"
      ]
    },
    {
      "cell_type": "markdown",
      "id": "0dacb1a1-85b1-4361-88e2-6877d9b8e87d",
      "metadata": {
        "id": "0dacb1a1-85b1-4361-88e2-6877d9b8e87d"
      },
      "source": [
        "**의미가 모호한 문제는 질문할것**\n",
        "\n",
        "**필요한 패키지는 스스로 로드하여 사용할 것** "
      ]
    },
    {
      "cell_type": "markdown",
      "id": "21a0f600-e9bc-4909-b9e8-ca4c2900b20f",
      "metadata": {
        "id": "21a0f600-e9bc-4909-b9e8-ca4c2900b20f"
      },
      "source": [
        "## `1`. 회귀분석 (35점) "
      ]
    },
    {
      "cell_type": "markdown",
      "id": "317e056c-4165-4222-a637-0c6ac78ee201",
      "metadata": {
        "id": "317e056c-4165-4222-a637-0c6ac78ee201"
      },
      "source": [
        "아래와 같은 수식을 고려하자. \n",
        "\n",
        "$$y_i= 1.5+ 5\\sin(t_i)+ 3 \\cos(4 t_i)+\\epsilon_i, \\quad i=1,2,\\dots, 1000$$\n",
        "\n",
        "여기에서 $t_i=\\frac{2\\pi i}{1000}$ 이다. 그리고 $\\epsilon_i \\sim i.i.d~ N(0,1)$, 즉 서로 독립인 표준정규분포에서 추출된 샘플이다. "
      ]
    },
    {
      "cell_type": "markdown",
      "id": "620fd982-09c7-49ee-8faf-926bd5a09dd2",
      "metadata": {
        "id": "620fd982-09c7-49ee-8faf-926bd5a09dd2"
      },
      "source": [
        "#### `(1)` `rnorm()`을 이용하여 $\\{\\epsilon_i \\}_{i=1}^{1000}$ 을 만들고 이를 벡터로 만들어라. 즉 아래와 같은 벡터를 생성하라. \n",
        "\n",
        "- $\\boldsymbol{\\epsilon}=(\\epsilon_1,\\dots,\\epsilon_{1000})$"
      ]
    },
    {
      "cell_type": "markdown",
      "id": "dd52f507-e2b6-4f65-a06c-2ee05620db5a",
      "metadata": {
        "id": "dd52f507-e2b6-4f65-a06c-2ee05620db5a"
      },
      "source": [
        "#### `(2)` $\\big\\{\\sin(t_i) \\big\\}_{i=1}^{1000}$와 $\\big\\{\\cos(4t_i) \\big\\}_{i=1}^{1000}$를 각각 생성하고 이를 ${\\bf x}_1$와 ${\\bf x}_2$에 저장하라. 즉 아래와 같은 2개의 벡터를 생성하라. \n",
        "- ${\\bf x}_1=\\big(\\sin(\\frac{2\\pi}{1000}),\\sin(\\frac{4\\pi}{1000}),\\dots,\\sin(2\\pi)\\big)$\n",
        "- ${\\bf x}_2=\\big(\\cos(\\frac{8\\pi}{1000}),\\cos(\\frac{16\\pi}{1000}),\\dots,\\cos(8\\pi)\\big)$"
      ]
    },
    {
      "cell_type": "markdown",
      "id": "a04cf768-c251-49b2-b75c-227703917abc",
      "metadata": {
        "id": "a04cf768-c251-49b2-b75c-227703917abc"
      },
      "source": [
        "#### `(3)` (1),(2)로 부터 $y_i$를 계산하고, $(t_i,y_i)$를 scatter plot으로 시각화 하라. 색은 'gray60'을 사용하라. 시각화 예시는 아래와 같다. "
      ]
    },
    {
      "cell_type": "markdown",
      "id": "fb516585-3317-43ac-80d2-867a5953e203",
      "metadata": {
        "id": "fb516585-3317-43ac-80d2-867a5953e203"
      },
      "source": [
        "![](https://github.com/guebin/2021IR/blob/master/_notebooks/final_fig1.png?raw=true)"
      ]
    },
    {
      "cell_type": "markdown",
      "id": "2aa97a6f-5be5-4dab-9ffd-cb05cafa1057",
      "metadata": {
        "id": "2aa97a6f-5be5-4dab-9ffd-cb05cafa1057"
      },
      "source": [
        "#### `(4)` 두 벡터 ${\\bf x}_1$, ${\\bf x}_2$와 `cbind()`를 이용하여 아래와 같은 $1000 \\times 3$ 매트릭스 ${\\bf X}$를 만들어라. "
      ]
    },
    {
      "cell_type": "markdown",
      "id": "1a7a9102-3f73-495b-9232-38d1a6a5d979",
      "metadata": {
        "id": "1a7a9102-3f73-495b-9232-38d1a6a5d979"
      },
      "source": [
        "$${\\bf X}=\\begin{bmatrix}\n",
        "1 & \\sin(\\frac{2\\pi}{1000}) & \\cos(\\frac{8\\pi}{1000})\\\\ \n",
        "1 & \\sin(\\frac{4\\pi}{1000}) & \\cos(\\frac{16\\pi}{1000})\\\\ \n",
        "\\dots & \\dots  & \\dots \\\\ \n",
        "1 & \\sin(2\\pi) & \\cos(8\\pi)\\\\ \n",
        "\\end{bmatrix} $$ "
      ]
    },
    {
      "cell_type": "markdown",
      "id": "d09a138b-47fe-479b-a04e-3043d2c3ba86",
      "metadata": {
        "id": "d09a138b-47fe-479b-a04e-3043d2c3ba86"
      },
      "source": [
        "#### `(5)` $3 \\times 1$ 매트릭스 $\\boldsymbol{\\beta}=\\begin{bmatrix} 1.5 \\\\ 5 \\\\ 3 \\end{bmatrix}$를 만들고 매트릭스 곱을 이용하여 ${\\bf X} {\\boldsymbol \\beta}$를 계산하라. 계산결과를 벡터화하고 (3)의 $y$축에 붉은선으로 시각화 하라. 시각화 예시는 아래와 같다. (필요하다면 적절하게 선의 굵기를 조정할 것) "
      ]
    },
    {
      "cell_type": "markdown",
      "id": "99111d0a-5dbc-42db-81f5-b216f9f907db",
      "metadata": {
        "id": "99111d0a-5dbc-42db-81f5-b216f9f907db"
      },
      "source": [
        "![](https://github.com/guebin/2021IR/blob/master/_notebooks/final_fig2.png?raw=true)"
      ]
    },
    {
      "cell_type": "markdown",
      "id": "bd53c3f9-ec49-413b-93fc-4b30c9cf6081",
      "metadata": {
        "tags": [],
        "id": "bd53c3f9-ec49-413b-93fc-4b30c9cf6081"
      },
      "source": [
        "#### `(6)` 아래의 수식을 이용하여 $\\boldsymbol{\\hat\\beta}$를 계산하고 계산결과를 $\\boldsymbol{\\beta}$와 비교하라. \n",
        "\n",
        "$$ \\boldsymbol{\\hat\\beta} = ({\\bf X}^\\top {\\bf X})^{-1}{\\bf X}^\\top {\\bf y}$$ "
      ]
    },
    {
      "cell_type": "markdown",
      "id": "eacf1fac-403a-49d0-961a-8275b1446a60",
      "metadata": {
        "id": "eacf1fac-403a-49d0-961a-8275b1446a60"
      },
      "source": [
        "여기에서 ${\\bf X}$와 ${\\bf y}$는 각각 아래와 같다. \n",
        "\n",
        "- ${\\bf X}=\\begin{bmatrix}\n",
        "1 & \\sin(\\frac{2\\pi}{1000}) & \\cos(\\frac{8\\pi}{1000})\\\\ \n",
        "1 & \\sin(\\frac{8\\pi}{1000}) & \\cos(\\frac{16\\pi}{1000})\\\\ \n",
        "\\dots & \\dots  & \\dots \\\\ \n",
        "1 & \\sin(2\\pi) & \\cos(8\\pi)\\\\ \n",
        "\\end{bmatrix}$,  $\\quad {\\bf y}=\\begin{bmatrix} y_1\\\\ y_2\\\\ \\dots \\\\ y_{1000}\\\\ \\end{bmatrix}$"
      ]
    },
    {
      "cell_type": "markdown",
      "id": "5c9c3816-5af7-46f2-9680-b0e97e729789",
      "metadata": {
        "id": "5c9c3816-5af7-46f2-9680-b0e97e729789"
      },
      "source": [
        "또한 ${\\bf X}^\\top$는 ${\\bf X}$의 전치행렬(transpose) 그리고 $({\\bf X}^\\top {\\bf X})^{-1}$은 ${\\bf X}^\\top {\\bf X}$의 역행렬을 의미한다. "
      ]
    },
    {
      "cell_type": "markdown",
      "id": "8f836f58-cb7d-4b0e-9e6c-612030446856",
      "metadata": {
        "id": "8f836f58-cb7d-4b0e-9e6c-612030446856"
      },
      "source": [
        "#### `(7)` ${\\bf X}\\boldsymbol{\\hat\\beta}$를 계산하라. 계산결과를 벡터화 하고 (5)의 시각화 결과에 푸른점선으로 시각화 하라. 시각화 예시는 아래와 같다. (필요하다면 적절하게 선의 굵기를 조정할 것) "
      ]
    },
    {
      "cell_type": "markdown",
      "id": "e2bdb6c4-fa29-4f07-8c50-5531fc325059",
      "metadata": {
        "id": "e2bdb6c4-fa29-4f07-8c50-5531fc325059"
      },
      "source": [
        "![](https://github.com/guebin/2021IR/blob/master/_notebooks/final_fig3.png?raw=true)"
      ]
    },
    {
      "cell_type": "markdown",
      "id": "743acaff-fba8-4bdd-83a0-9bff1bd4805c",
      "metadata": {
        "id": "743acaff-fba8-4bdd-83a0-9bff1bd4805c"
      },
      "source": [
        "## `2`. 몬테카를로 적분 (10점)\n",
        "\n",
        "#### `(1)` $\\int_{-1.96}^{1.96}\\frac{1}{\\sqrt{2\\pi}}e^{-\\frac{1}{2}x^2}dx$의 값을 `runif()`를 이용한 몬테카를로 적분으로 계산하라. "
      ]
    },
    {
      "cell_type": "markdown",
      "id": "feb55d2e-1824-4ada-b0fc-a2c5e934c5c1",
      "metadata": {
        "tags": [],
        "id": "feb55d2e-1824-4ada-b0fc-a2c5e934c5c1"
      },
      "source": [
        "#### `(2)` `rnorm()`을 이용하여 표준정규분포에서 1000개의 확률변수를 생성하고 생성된 확률변수들 중 구간 $(-1.96 , 1.96)$사이에 있는 확률변수를 count하라. "
      ]
    },
    {
      "cell_type": "markdown",
      "id": "b37287d2-025e-4aaa-bb88-435403610185",
      "metadata": {
        "id": "b37287d2-025e-4aaa-bb88-435403610185"
      },
      "source": [
        "## `3`. 징검다리 (10점)"
      ]
    },
    {
      "cell_type": "markdown",
      "id": "e0280e4f-623f-4e31-a524-fe8dd78b33b1",
      "metadata": {
        "id": "e0280e4f-623f-4e31-a524-fe8dd78b33b1"
      },
      "source": [
        "10명의 참가자가 (유리,강화유리)의 쌍으로 이루어진 징검다리를 건너는 게임을 시작한다. (유리,강화유리)의 쌍은 총 20개 있다. 따라서 유리는 총 40장이 있다. 참가자는 강화유리로 된 징검다리를 밟으면 살아남지만 유리로 된 징검다리를 밟으면 죽는다. 10명의 참가자의 특징은 아래와 같다. \n",
        "\n",
        "- 1번~8번 참가자, 10번 참가자: 50퍼센트의 확률로 강화유리를 고를 수 있다. \n",
        "- 9번 참가자: 95퍼센트의 확률로 강화유리를 고를 수 있다. \n",
        "\n",
        "다리를 건너는 순서는 아래와 같이 번호의 오름차순으로 건너는 방법과 번호의 내림차순으로 건너는 2가지 방법이 있다고 하자. \n",
        "\n",
        "- Type A: 10번 참가자부터 다리를 건너고 그 뒤로 9번, 8번, ... 1번 순으로 다리를 건넌다. \n",
        "- Type B: 1번 참가자부터 다리를 건너고 그 뒤로 2번, 3번, ... 10번 순으로 다리를 건넌다. \n",
        "\n",
        "8번 참가자는 Type A 와 Type B 중 어떠한 경우에 살아남을 확률이 높은가? "
      ]
    },
    {
      "cell_type": "markdown",
      "id": "73fcbaef-2059-453e-95f5-3b7084b07bc5",
      "metadata": {
        "id": "73fcbaef-2059-453e-95f5-3b7084b07bc5"
      },
      "source": [
        "## `4`. COVID19 (15점)"
      ]
    },
    {
      "cell_type": "markdown",
      "id": "dd6dcd9d-22f0-46cb-96ea-6f4f1705b749",
      "metadata": {
        "id": "dd6dcd9d-22f0-46cb-96ea-6f4f1705b749"
      },
      "source": [
        "아래는 한국의 코로나확진자 발생수를 tibble로 불러오는 코드와 그 결과이다. "
      ]
    },
    {
      "cell_type": "code",
      "execution_count": null,
      "id": "a9beee8e-2bbc-452d-919e-2d225c1f0777",
      "metadata": {
        "id": "a9beee8e-2bbc-452d-919e-2d225c1f0777",
        "outputId": "0c5cf259-4e9c-4071-aebc-bccef8bacf3e"
      },
      "outputs": [
        {
          "name": "stderr",
          "output_type": "stream",
          "text": [
            "\u001b[1mRows: \u001b[22m\u001b[34m12294\u001b[39m \u001b[1mColumns: \u001b[22m\u001b[34m5\u001b[39m\n",
            "\n",
            "\u001b[36m──\u001b[39m \u001b[1mColumn specification\u001b[22m \u001b[36m────────────────────────────────────────────────────────\u001b[39m\n",
            "\u001b[1mDelimiter:\u001b[22m \",\"\n",
            "\u001b[31mchr\u001b[39m (1): prov\n",
            "\u001b[32mdbl\u001b[39m (4): year, month, day, cases\n",
            "\n",
            "\n",
            "\u001b[36mℹ\u001b[39m Use \u001b[30m\u001b[47m\u001b[30m\u001b[47m`spec()`\u001b[47m\u001b[30m\u001b[49m\u001b[39m to retrieve the full column specification for this data.\n",
            "\u001b[36mℹ\u001b[39m Specify the column types or set \u001b[30m\u001b[47m\u001b[30m\u001b[47m`show_col_types = FALSE`\u001b[47m\u001b[30m\u001b[49m\u001b[39m to quiet this message.\n",
            "\n"
          ]
        },
        {
          "data": {
            "text/html": [
              "<table class=\"dataframe\">\n",
              "<caption>A tibble: 6 × 5</caption>\n",
              "<thead>\n",
              "\t<tr><th scope=col>year</th><th scope=col>month</th><th scope=col>day</th><th scope=col>prov</th><th scope=col>cases</th></tr>\n",
              "\t<tr><th scope=col>&lt;dbl&gt;</th><th scope=col>&lt;dbl&gt;</th><th scope=col>&lt;dbl&gt;</th><th scope=col>&lt;chr&gt;</th><th scope=col>&lt;dbl&gt;</th></tr>\n",
              "</thead>\n",
              "<tbody>\n",
              "\t<tr><td>2020</td><td>1</td><td>20</td><td>서울</td><td>0</td></tr>\n",
              "\t<tr><td>2020</td><td>1</td><td>20</td><td>부산</td><td>0</td></tr>\n",
              "\t<tr><td>2020</td><td>1</td><td>20</td><td>대구</td><td>0</td></tr>\n",
              "\t<tr><td>2020</td><td>1</td><td>20</td><td>인천</td><td>1</td></tr>\n",
              "\t<tr><td>2020</td><td>1</td><td>20</td><td>광주</td><td>0</td></tr>\n",
              "\t<tr><td>2020</td><td>1</td><td>20</td><td>대전</td><td>0</td></tr>\n",
              "</tbody>\n",
              "</table>\n"
            ],
            "text/latex": [
              "A tibble: 6 × 5\n",
              "\\begin{tabular}{lllll}\n",
              " year & month & day & prov & cases\\\\\n",
              " <dbl> & <dbl> & <dbl> & <chr> & <dbl>\\\\\n",
              "\\hline\n",
              "\t 2020 & 1 & 20 & 서울 & 0\\\\\n",
              "\t 2020 & 1 & 20 & 부산 & 0\\\\\n",
              "\t 2020 & 1 & 20 & 대구 & 0\\\\\n",
              "\t 2020 & 1 & 20 & 인천 & 1\\\\\n",
              "\t 2020 & 1 & 20 & 광주 & 0\\\\\n",
              "\t 2020 & 1 & 20 & 대전 & 0\\\\\n",
              "\\end{tabular}\n"
            ],
            "text/markdown": [
              "\n",
              "A tibble: 6 × 5\n",
              "\n",
              "| year &lt;dbl&gt; | month &lt;dbl&gt; | day &lt;dbl&gt; | prov &lt;chr&gt; | cases &lt;dbl&gt; |\n",
              "|---|---|---|---|---|\n",
              "| 2020 | 1 | 20 | 서울 | 0 |\n",
              "| 2020 | 1 | 20 | 부산 | 0 |\n",
              "| 2020 | 1 | 20 | 대구 | 0 |\n",
              "| 2020 | 1 | 20 | 인천 | 1 |\n",
              "| 2020 | 1 | 20 | 광주 | 0 |\n",
              "| 2020 | 1 | 20 | 대전 | 0 |\n",
              "\n"
            ],
            "text/plain": [
              "  year month day prov cases\n",
              "1 2020 1     20  서울 0    \n",
              "2 2020 1     20  부산 0    \n",
              "3 2020 1     20  대구 0    \n",
              "4 2020 1     20  인천 1    \n",
              "5 2020 1     20  광주 0    \n",
              "6 2020 1     20  대전 0    "
            ]
          },
          "metadata": {},
          "output_type": "display_data"
        }
      ],
      "source": [
        "df=read_csv('https://raw.githubusercontent.com/guebin/2021IR/master/_notebooks/covid19.csv')\n",
        "head(df)"
      ]
    },
    {
      "cell_type": "markdown",
      "id": "d0e96a57-a0a1-4be6-9743-78bb9007e0bf",
      "metadata": {
        "jp-MarkdownHeadingCollapsed": true,
        "tags": [],
        "id": "d0e96a57-a0a1-4be6-9743-78bb9007e0bf"
      },
      "source": [
        "#### `(1)` 2020년의 확진자(cases)총합과 2021년의 확진자(cases)총합을 구하라. "
      ]
    },
    {
      "cell_type": "markdown",
      "id": "709adf3e-9747-49ab-a28d-6bc014195e29",
      "metadata": {
        "tags": [],
        "id": "709adf3e-9747-49ab-a28d-6bc014195e29"
      },
      "source": [
        "#### `(2)` 2020년 2월1일 ~ 2020년 2월15일까지의 기간동안 확진자의 합을 지역별로 나누어 구하라 (아래예시 참고). 가장 많은 확진자가 발견된 지역은 어디인가? "
      ]
    },
    {
      "cell_type": "markdown",
      "id": "9eabba75-e486-439b-aa24-c7bc95e19112",
      "metadata": {
        "id": "9eabba75-e486-439b-aa24-c7bc95e19112"
      },
      "source": [
        "즉 아래를 각각 계산하고 2020년 2월1일 ~ 2020년 2월15일 기간동안 발생한 확진자의 합이 가장 큰 지역을 찾으면 된다. \n",
        "\n",
        "- 2020년2월1일 ~ 2020년2월15일 기간 서울에서 발생한 확진자의 합 = 2020년2월1일 서울에서 발생한 확진자수 + ... + 2020년2월15일 서울에서 발생한 확진자수\n",
        "- ...\n",
        "- 2020년2월1일 ~ 2020년2월15일 기간 제주에서 발생한 확진자의 합 = 2020년2월1일 제주에서 발생한 확진자수 + ... + 2020년2월15일 제주에서 발생한 확진자수"
      ]
    },
    {
      "cell_type": "markdown",
      "id": "ed5aa778-7796-4ae6-815e-dbbbe25a0dbe",
      "metadata": {
        "id": "ed5aa778-7796-4ae6-815e-dbbbe25a0dbe"
      },
      "source": [
        "#### `(3)` 2020년 2월16일 ~ 2020년 2월29일까지의 기간동안 확진자의 총합을 지역별로 나누어 구하라 (아래예시 참고). 가장 많은 확진자가 발견된 지역은 어디인가?"
      ]
    },
    {
      "cell_type": "markdown",
      "id": "f0598204-3b09-4b3f-a875-0679c29d74e7",
      "metadata": {
        "id": "f0598204-3b09-4b3f-a875-0679c29d74e7"
      },
      "source": [
        "즉 아래를 각각 계산하고 2020년 2월16일 ~ 2020년 2월29일 기간동안 발생한 확진자의 합이 가장 큰 지역을 찾으면 된다. \n",
        "\n",
        "- 2020년2월16일 ~ 2020년2월29일 기간 서울에서 발생한 확진자의 합 = 2020년2월16일 서울에서 발생한 확진자수 + ... + 2020년2월29일 서울에서 발생한 확진자수\n",
        "- ...\n",
        "- 2020년2월16일 ~ 2020년2월29일 기간 제주에서 발생한 확진자의 합 = 2020년2월16일 제주에서 발생한 확진자수 + ... + 2020년2월29일 제주에서 발생한 확진자수"
      ]
    },
    {
      "cell_type": "markdown",
      "id": "224b4143-8f5b-43aa-a723-84187e7cfa37",
      "metadata": {
        "id": "224b4143-8f5b-43aa-a723-84187e7cfa37"
      },
      "source": [
        "## `5`. 다음을 잘 읽고 물음에 답하라. (10점)"
      ]
    },
    {
      "cell_type": "markdown",
      "id": "60833008-ae1c-4a00-b6bc-70cb3ee831f6",
      "metadata": {
        "jp-MarkdownHeadingCollapsed": true,
        "tags": [],
        "id": "60833008-ae1c-4a00-b6bc-70cb3ee831f6"
      },
      "source": [
        "#### `(1)` cumprod 함수를 이용하여 $7!=7\\times 6 \\times 5 \\times \\dots \\times 1$을 계산하라. "
      ]
    },
    {
      "cell_type": "code",
      "source": [
        "cumprod(c(1,2,3,4,5,6,7))"
      ],
      "metadata": {
        "id": "554dRz6q035M",
        "outputId": "58d2f764-aa89-4f67-8078-f1e6e85889fe",
        "colab": {
          "base_uri": "https://localhost:8080/",
          "height": 35
        }
      },
      "id": "554dRz6q035M",
      "execution_count": 17,
      "outputs": [
        {
          "output_type": "display_data",
          "data": {
            "text/plain": [
              "[1]    1    2    6   24  120  720 5040"
            ],
            "text/latex": "\\begin{enumerate*}\n\\item 1\n\\item 2\n\\item 6\n\\item 24\n\\item 120\n\\item 720\n\\item 5040\n\\end{enumerate*}\n",
            "text/markdown": "1. 1\n2. 2\n3. 6\n4. 24\n5. 120\n6. 720\n7. 5040\n\n\n",
            "text/html": [
              "<style>\n",
              ".list-inline {list-style: none; margin:0; padding: 0}\n",
              ".list-inline>li {display: inline-block}\n",
              ".list-inline>li:not(:last-child)::after {content: \"\\00b7\"; padding: 0 .5ex}\n",
              "</style>\n",
              "<ol class=list-inline><li>1</li><li>2</li><li>6</li><li>24</li><li>120</li><li>720</li><li>5040</li></ol>\n"
            ]
          },
          "metadata": {}
        }
      ]
    },
    {
      "cell_type": "markdown",
      "id": "c78c6221-b283-43c7-a126-5dec505c68ec",
      "metadata": {
        "id": "c78c6221-b283-43c7-a126-5dec505c68ec"
      },
      "source": [
        "#### `(2)` $\\sum_{n=0}^{\\infty}\\frac{n}{n!}$의 값을 근사적으로 계산하라. 계산결과를 exp(1)과 비교하라. "
      ]
    },
    {
      "cell_type": "code",
      "source": [
        "sum_= 0\n",
        "for (i in 0:10000) {\n",
        "  sum_[i+1]=sum_[i]+(i/cumprod(c(0:i)))\n",
        "}"
      ],
      "metadata": {
        "id": "Nb84xraL2pVx",
        "outputId": "1e9f590b-c31c-4754-80db-3630cfd9dc06",
        "colab": {
          "base_uri": "https://localhost:8080/",
          "height": 101
        }
      },
      "id": "Nb84xraL2pVx",
      "execution_count": 23,
      "outputs": [
        {
          "output_type": "error",
          "ename": "ERROR",
          "evalue": "ignored",
          "traceback": [
            "Error in sum_[i + 1] <- sum_[i] + (i/cumprod(c(0:i))): replacement has length zero\nTraceback:\n"
          ]
        }
      ]
    },
    {
      "cell_type": "markdown",
      "id": "fb37132c-7ead-474c-8da8-6d27e33b0b0a",
      "metadata": {
        "tags": [],
        "id": "fb37132c-7ead-474c-8da8-6d27e33b0b0a"
      },
      "source": [
        "#### `(3)` 표준정규분포에서 1000개의 난수를 생성발생시킨 뒤 0보다 큰 수를 세어보라. "
      ]
    },
    {
      "cell_type": "code",
      "source": [
        "A=rnorm(1000,0,1)"
      ],
      "metadata": {
        "id": "HC-cZsiV2SrN"
      },
      "id": "HC-cZsiV2SrN",
      "execution_count": 18,
      "outputs": []
    },
    {
      "cell_type": "code",
      "source": [
        "(A>0) %>% sum"
      ],
      "metadata": {
        "id": "xC90zCJH2VmQ",
        "outputId": "b59878a9-4d37-4806-9f72-120fc4f8015f",
        "colab": {
          "base_uri": "https://localhost:8080/",
          "height": 35
        }
      },
      "id": "xC90zCJH2VmQ",
      "execution_count": 19,
      "outputs": [
        {
          "output_type": "display_data",
          "data": {
            "text/plain": [
              "[1] 513"
            ],
            "text/latex": "513",
            "text/markdown": "513",
            "text/html": [
              "513"
            ]
          },
          "metadata": {}
        }
      ]
    },
    {
      "cell_type": "markdown",
      "id": "cb8ae7c8-4aec-4538-a305-67626417b60a",
      "metadata": {
        "id": "cb8ae7c8-4aec-4538-a305-67626417b60a"
      },
      "source": [
        "#### `(4)` $p=0.2$인 베르누이분포에서 1000개의 난수를 만들면 1이 몇개정도 포함되는가? 시뮬레이션을 통하여 검증하라."
      ]
    },
    {
      "cell_type": "code",
      "source": [
        "rbinom(1000,size=1,p=0.2)"
      ],
      "metadata": {
        "id": "FDWZW_Hq3I_r",
        "outputId": "b4eb7534-5e14-4773-8e9c-1c234a95bee5",
        "colab": {
          "base_uri": "https://localhost:8080/",
          "height": 139
        }
      },
      "id": "FDWZW_Hq3I_r",
      "execution_count": 24,
      "outputs": [
        {
          "output_type": "display_data",
          "data": {
            "text/plain": [
              "   [1] 0 0 0 0 0 0 0 0 1 0 0 0 0 0 0 0 0 0 0 0 0 0 0 0 0 0 0 0 0 0 0 0 0 0 0 0 0\n",
              "  [38] 1 0 0 0 0 0 0 1 1 0 0 1 0 0 0 0 0 0 0 1 1 0 0 0 0 1 0 1 0 0 0 1 0 0 1 0 0\n",
              "  [75] 0 0 0 0 0 0 0 1 0 0 0 1 0 0 1 0 0 0 0 0 0 0 0 0 0 0 0 0 0 0 1 0 0 0 0 0 0\n",
              " [112] 0 0 0 0 0 0 0 0 0 0 1 1 0 0 1 0 0 0 0 0 0 0 1 1 0 0 0 0 0 0 0 0 1 0 0 0 0\n",
              " [149] 1 0 0 0 0 0 0 1 0 0 0 0 0 0 0 0 0 1 0 0 1 0 0 0 1 1 1 0 0 0 0 0 0 0 1 0 0\n",
              " [186] 0 0 0 0 0 0 0 0 0 0 0 1 0 0 0 0 0 0 0 0 0 1 0 0 0 0 0 0 0 0 1 1 0 1 0 0 0\n",
              " [223] 0 0 0 0 1 1 0 0 1 0 0 0 0 0 0 0 1 1 0 1 0 1 0 0 0 0 0 1 0 0 0 0 0 0 0 0 0\n",
              " [260] 0 0 0 0 0 0 0 0 0 0 1 0 1 0 1 1 0 0 0 0 0 0 0 0 0 0 0 0 0 0 1 1 0 0 0 0 0\n",
              " [297] 0 0 0 1 0 0 0 0 0 0 0 0 0 0 0 0 0 0 0 0 0 0 0 0 0 0 0 0 0 1 1 0 0 0 0 0 1\n",
              " [334] 0 0 1 1 1 0 0 0 0 0 0 0 0 0 0 0 0 1 1 0 0 0 0 0 1 0 0 1 0 0 0 0 0 1 0 1 0\n",
              " [371] 0 0 1 1 0 0 0 0 0 0 0 0 0 0 0 0 1 1 1 0 1 0 1 1 0 1 0 1 0 0 0 0 1 0 0 0 0\n",
              " [408] 0 0 1 0 0 1 0 0 0 0 0 0 0 0 0 0 1 0 0 0 0 0 0 0 1 0 0 1 1 0 0 1 0 0 1 0 0\n",
              " [445] 1 0 1 0 1 0 1 0 0 0 1 0 0 0 0 0 1 0 0 0 0 1 0 1 1 1 0 0 0 0 0 0 0 0 0 0 0\n",
              " [482] 0 0 0 1 0 1 0 0 0 0 0 0 0 0 0 0 0 0 0 0 0 1 0 0 0 1 0 0 1 0 1 0 1 0 0 0 0\n",
              " [519] 0 0 0 0 0 0 0 0 0 1 0 0 0 0 0 0 1 0 0 0 0 1 0 0 0 0 0 0 0 1 0 0 1 0 0 0 0\n",
              " [556] 0 0 0 0 0 0 1 0 0 0 0 0 0 0 0 0 0 0 0 0 0 0 0 1 0 0 0 0 0 0 0 0 1 1 0 1 1\n",
              " [593] 1 0 0 0 1 1 0 1 0 0 0 1 0 0 0 0 0 0 1 1 0 1 0 0 0 0 0 0 0 0 0 0 1 0 0 0 0\n",
              " [630] 0 1 1 0 1 0 0 0 0 0 0 0 0 0 1 0 0 0 0 0 1 0 0 0 0 0 0 0 1 0 0 0 0 0 1 1 0\n",
              " [667] 1 0 0 1 0 0 0 1 0 0 1 1 0 1 0 0 0 0 1 0 0 0 0 0 0 1 0 1 0 1 1 1 0 1 0 1 0\n",
              " [704] 0 1 0 0 0 1 0 1 0 1 0 0 0 0 0 0 0 0 1 0 0 1 1 0 0 0 0 0 0 0 0 1 0 0 0 1 0\n",
              " [741] 0 0 0 0 1 0 1 0 0 0 0 0 0 0 0 1 0 1 0 0 0 1 0 0 0 0 0 0 1 1 0 1 0 0 0 1 1\n",
              " [778] 0 0 0 1 1 0 0 0 1 0 0 1 1 0 0 0 0 0 0 0 0 0 0 1 0 0 0 0 0 0 0 0 0 0 0 0 0\n",
              " [815] 0 0 0 0 1 0 0 0 0 0 0 0 1 0 0 0 1 1 0 0 0 0 0 0 0 1 0 0 0 1 0 1 0 0 0 0 0\n",
              " [852] 0 0 0 1 1 0 0 0 0 0 1 0 1 0 0 0 0 0 0 0 0 0 0 0 0 0 0 1 0 0 0 0 0 0 0 0 0\n",
              " [889] 0 1 0 0 0 0 1 0 1 1 0 0 1 0 1 1 0 1 1 0 0 0 0 0 0 0 0 0 0 0 1 0 0 1 1 1 0\n",
              " [926] 0 0 0 0 1 1 0 0 0 0 0 0 0 0 1 0 0 0 0 0 0 0 0 0 0 0 0 0 0 0 0 0 0 0 1 0 0\n",
              " [963] 1 0 0 0 0 0 0 0 0 0 0 0 1 0 1 0 0 0 0 1 0 1 1 0 0 0 0 0 1 0 0 0 0 0 0 0 0\n",
              "[1000] 0"
            ],
            "text/latex": "\\begin{enumerate*}\n\\item 0\n\\item 0\n\\item 0\n\\item 0\n\\item 0\n\\item 0\n\\item 0\n\\item 0\n\\item 1\n\\item 0\n\\item 0\n\\item 0\n\\item 0\n\\item 0\n\\item 0\n\\item 0\n\\item 0\n\\item 0\n\\item 0\n\\item 0\n\\item 0\n\\item 0\n\\item 0\n\\item 0\n\\item 0\n\\item 0\n\\item 0\n\\item 0\n\\item 0\n\\item 0\n\\item 0\n\\item 0\n\\item 0\n\\item 0\n\\item 0\n\\item 0\n\\item 0\n\\item 1\n\\item 0\n\\item 0\n\\item 0\n\\item 0\n\\item 0\n\\item 0\n\\item 1\n\\item 1\n\\item 0\n\\item 0\n\\item 1\n\\item 0\n\\item 0\n\\item 0\n\\item 0\n\\item 0\n\\item 0\n\\item 0\n\\item 1\n\\item 1\n\\item 0\n\\item 0\n\\item 0\n\\item 0\n\\item 1\n\\item 0\n\\item 1\n\\item 0\n\\item 0\n\\item 0\n\\item 1\n\\item 0\n\\item 0\n\\item 1\n\\item 0\n\\item 0\n\\item 0\n\\item 0\n\\item 0\n\\item 0\n\\item 0\n\\item 0\n\\item 0\n\\item 1\n\\item 0\n\\item 0\n\\item 0\n\\item 1\n\\item 0\n\\item 0\n\\item 1\n\\item 0\n\\item 0\n\\item 0\n\\item 0\n\\item 0\n\\item 0\n\\item 0\n\\item 0\n\\item 0\n\\item 0\n\\item 0\n\\item 0\n\\item 0\n\\item 0\n\\item 0\n\\item 1\n\\item 0\n\\item 0\n\\item 0\n\\item 0\n\\item 0\n\\item 0\n\\item 0\n\\item 0\n\\item 0\n\\item 0\n\\item 0\n\\item 0\n\\item 0\n\\item 0\n\\item 0\n\\item 0\n\\item 1\n\\item 1\n\\item 0\n\\item 0\n\\item 1\n\\item 0\n\\item 0\n\\item 0\n\\item 0\n\\item 0\n\\item 0\n\\item 0\n\\item 1\n\\item 1\n\\item 0\n\\item 0\n\\item 0\n\\item 0\n\\item 0\n\\item 0\n\\item 0\n\\item 0\n\\item 1\n\\item 0\n\\item 0\n\\item 0\n\\item 0\n\\item 1\n\\item 0\n\\item 0\n\\item 0\n\\item 0\n\\item 0\n\\item 0\n\\item 1\n\\item 0\n\\item 0\n\\item 0\n\\item 0\n\\item 0\n\\item 0\n\\item 0\n\\item 0\n\\item 0\n\\item 1\n\\item 0\n\\item 0\n\\item 1\n\\item 0\n\\item 0\n\\item 0\n\\item 1\n\\item 1\n\\item 1\n\\item 0\n\\item 0\n\\item 0\n\\item 0\n\\item 0\n\\item 0\n\\item 0\n\\item 1\n\\item 0\n\\item 0\n\\item 0\n\\item 0\n\\item 0\n\\item 0\n\\item 0\n\\item 0\n\\item 0\n\\item 0\n\\item 0\n\\item 0\n\\item 0\n\\item 1\n\\item 0\n\\item 0\n\\item 0\n\\item ⋯\n\\item 1\n\\item 0\n\\item 0\n\\item 0\n\\item 0\n\\item 0\n\\item 0\n\\item 0\n\\item 0\n\\item 0\n\\item 0\n\\item 0\n\\item 0\n\\item 0\n\\item 0\n\\item 0\n\\item 0\n\\item 0\n\\item 1\n\\item 0\n\\item 0\n\\item 0\n\\item 0\n\\item 0\n\\item 0\n\\item 0\n\\item 1\n\\item 0\n\\item 0\n\\item 0\n\\item 1\n\\item 1\n\\item 0\n\\item 0\n\\item 0\n\\item 0\n\\item 0\n\\item 0\n\\item 0\n\\item 1\n\\item 0\n\\item 0\n\\item 0\n\\item 1\n\\item 0\n\\item 1\n\\item 0\n\\item 0\n\\item 0\n\\item 0\n\\item 0\n\\item 0\n\\item 0\n\\item 0\n\\item 1\n\\item 1\n\\item 0\n\\item 0\n\\item 0\n\\item 0\n\\item 0\n\\item 1\n\\item 0\n\\item 1\n\\item 0\n\\item 0\n\\item 0\n\\item 0\n\\item 0\n\\item 0\n\\item 0\n\\item 0\n\\item 0\n\\item 0\n\\item 0\n\\item 0\n\\item 0\n\\item 0\n\\item 1\n\\item 0\n\\item 0\n\\item 0\n\\item 0\n\\item 0\n\\item 0\n\\item 0\n\\item 0\n\\item 0\n\\item 0\n\\item 1\n\\item 0\n\\item 0\n\\item 0\n\\item 0\n\\item 1\n\\item 0\n\\item 1\n\\item 1\n\\item 0\n\\item 0\n\\item 1\n\\item 0\n\\item 1\n\\item 1\n\\item 0\n\\item 1\n\\item 1\n\\item 0\n\\item 0\n\\item 0\n\\item 0\n\\item 0\n\\item 0\n\\item 0\n\\item 0\n\\item 0\n\\item 0\n\\item 0\n\\item 1\n\\item 0\n\\item 0\n\\item 1\n\\item 1\n\\item 1\n\\item 0\n\\item 0\n\\item 0\n\\item 0\n\\item 0\n\\item 1\n\\item 1\n\\item 0\n\\item 0\n\\item 0\n\\item 0\n\\item 0\n\\item 0\n\\item 0\n\\item 0\n\\item 1\n\\item 0\n\\item 0\n\\item 0\n\\item 0\n\\item 0\n\\item 0\n\\item 0\n\\item 0\n\\item 0\n\\item 0\n\\item 0\n\\item 0\n\\item 0\n\\item 0\n\\item 0\n\\item 0\n\\item 0\n\\item 0\n\\item 0\n\\item 1\n\\item 0\n\\item 0\n\\item 1\n\\item 0\n\\item 0\n\\item 0\n\\item 0\n\\item 0\n\\item 0\n\\item 0\n\\item 0\n\\item 0\n\\item 0\n\\item 0\n\\item 1\n\\item 0\n\\item 1\n\\item 0\n\\item 0\n\\item 0\n\\item 0\n\\item 1\n\\item 0\n\\item 1\n\\item 1\n\\item 0\n\\item 0\n\\item 0\n\\item 0\n\\item 0\n\\item 1\n\\item 0\n\\item 0\n\\item 0\n\\item 0\n\\item 0\n\\item 0\n\\item 0\n\\item 0\n\\item 0\n\\end{enumerate*}\n",
            "text/markdown": "1. 0\n2. 0\n3. 0\n4. 0\n5. 0\n6. 0\n7. 0\n8. 0\n9. 1\n10. 0\n11. 0\n12. 0\n13. 0\n14. 0\n15. 0\n16. 0\n17. 0\n18. 0\n19. 0\n20. 0\n21. 0\n22. 0\n23. 0\n24. 0\n25. 0\n26. 0\n27. 0\n28. 0\n29. 0\n30. 0\n31. 0\n32. 0\n33. 0\n34. 0\n35. 0\n36. 0\n37. 0\n38. 1\n39. 0\n40. 0\n41. 0\n42. 0\n43. 0\n44. 0\n45. 1\n46. 1\n47. 0\n48. 0\n49. 1\n50. 0\n51. 0\n52. 0\n53. 0\n54. 0\n55. 0\n56. 0\n57. 1\n58. 1\n59. 0\n60. 0\n61. 0\n62. 0\n63. 1\n64. 0\n65. 1\n66. 0\n67. 0\n68. 0\n69. 1\n70. 0\n71. 0\n72. 1\n73. 0\n74. 0\n75. 0\n76. 0\n77. 0\n78. 0\n79. 0\n80. 0\n81. 0\n82. 1\n83. 0\n84. 0\n85. 0\n86. 1\n87. 0\n88. 0\n89. 1\n90. 0\n91. 0\n92. 0\n93. 0\n94. 0\n95. 0\n96. 0\n97. 0\n98. 0\n99. 0\n100. 0\n101. 0\n102. 0\n103. 0\n104. 0\n105. 1\n106. 0\n107. 0\n108. 0\n109. 0\n110. 0\n111. 0\n112. 0\n113. 0\n114. 0\n115. 0\n116. 0\n117. 0\n118. 0\n119. 0\n120. 0\n121. 0\n122. 1\n123. 1\n124. 0\n125. 0\n126. 1\n127. 0\n128. 0\n129. 0\n130. 0\n131. 0\n132. 0\n133. 0\n134. 1\n135. 1\n136. 0\n137. 0\n138. 0\n139. 0\n140. 0\n141. 0\n142. 0\n143. 0\n144. 1\n145. 0\n146. 0\n147. 0\n148. 0\n149. 1\n150. 0\n151. 0\n152. 0\n153. 0\n154. 0\n155. 0\n156. 1\n157. 0\n158. 0\n159. 0\n160. 0\n161. 0\n162. 0\n163. 0\n164. 0\n165. 0\n166. 1\n167. 0\n168. 0\n169. 1\n170. 0\n171. 0\n172. 0\n173. 1\n174. 1\n175. 1\n176. 0\n177. 0\n178. 0\n179. 0\n180. 0\n181. 0\n182. 0\n183. 1\n184. 0\n185. 0\n186. 0\n187. 0\n188. 0\n189. 0\n190. 0\n191. 0\n192. 0\n193. 0\n194. 0\n195. 0\n196. 0\n197. 1\n198. 0\n199. 0\n200. 0\n201. ⋯\n202. 1\n203. 0\n204. 0\n205. 0\n206. 0\n207. 0\n208. 0\n209. 0\n210. 0\n211. 0\n212. 0\n213. 0\n214. 0\n215. 0\n216. 0\n217. 0\n218. 0\n219. 0\n220. 1\n221. 0\n222. 0\n223. 0\n224. 0\n225. 0\n226. 0\n227. 0\n228. 1\n229. 0\n230. 0\n231. 0\n232. 1\n233. 1\n234. 0\n235. 0\n236. 0\n237. 0\n238. 0\n239. 0\n240. 0\n241. 1\n242. 0\n243. 0\n244. 0\n245. 1\n246. 0\n247. 1\n248. 0\n249. 0\n250. 0\n251. 0\n252. 0\n253. 0\n254. 0\n255. 0\n256. 1\n257. 1\n258. 0\n259. 0\n260. 0\n261. 0\n262. 0\n263. 1\n264. 0\n265. 1\n266. 0\n267. 0\n268. 0\n269. 0\n270. 0\n271. 0\n272. 0\n273. 0\n274. 0\n275. 0\n276. 0\n277. 0\n278. 0\n279. 0\n280. 1\n281. 0\n282. 0\n283. 0\n284. 0\n285. 0\n286. 0\n287. 0\n288. 0\n289. 0\n290. 0\n291. 1\n292. 0\n293. 0\n294. 0\n295. 0\n296. 1\n297. 0\n298. 1\n299. 1\n300. 0\n301. 0\n302. 1\n303. 0\n304. 1\n305. 1\n306. 0\n307. 1\n308. 1\n309. 0\n310. 0\n311. 0\n312. 0\n313. 0\n314. 0\n315. 0\n316. 0\n317. 0\n318. 0\n319. 0\n320. 1\n321. 0\n322. 0\n323. 1\n324. 1\n325. 1\n326. 0\n327. 0\n328. 0\n329. 0\n330. 0\n331. 1\n332. 1\n333. 0\n334. 0\n335. 0\n336. 0\n337. 0\n338. 0\n339. 0\n340. 0\n341. 1\n342. 0\n343. 0\n344. 0\n345. 0\n346. 0\n347. 0\n348. 0\n349. 0\n350. 0\n351. 0\n352. 0\n353. 0\n354. 0\n355. 0\n356. 0\n357. 0\n358. 0\n359. 0\n360. 0\n361. 1\n362. 0\n363. 0\n364. 1\n365. 0\n366. 0\n367. 0\n368. 0\n369. 0\n370. 0\n371. 0\n372. 0\n373. 0\n374. 0\n375. 0\n376. 1\n377. 0\n378. 1\n379. 0\n380. 0\n381. 0\n382. 0\n383. 1\n384. 0\n385. 1\n386. 1\n387. 0\n388. 0\n389. 0\n390. 0\n391. 0\n392. 1\n393. 0\n394. 0\n395. 0\n396. 0\n397. 0\n398. 0\n399. 0\n400. 0\n401. 0\n\n\n",
            "text/html": [
              "<style>\n",
              ".list-inline {list-style: none; margin:0; padding: 0}\n",
              ".list-inline>li {display: inline-block}\n",
              ".list-inline>li:not(:last-child)::after {content: \"\\00b7\"; padding: 0 .5ex}\n",
              "</style>\n",
              "<ol class=list-inline><li>0</li><li>0</li><li>0</li><li>0</li><li>0</li><li>0</li><li>0</li><li>0</li><li>1</li><li>0</li><li>0</li><li>0</li><li>0</li><li>0</li><li>0</li><li>0</li><li>0</li><li>0</li><li>0</li><li>0</li><li>0</li><li>0</li><li>0</li><li>0</li><li>0</li><li>0</li><li>0</li><li>0</li><li>0</li><li>0</li><li>0</li><li>0</li><li>0</li><li>0</li><li>0</li><li>0</li><li>0</li><li>1</li><li>0</li><li>0</li><li>0</li><li>0</li><li>0</li><li>0</li><li>1</li><li>1</li><li>0</li><li>0</li><li>1</li><li>0</li><li>0</li><li>0</li><li>0</li><li>0</li><li>0</li><li>0</li><li>1</li><li>1</li><li>0</li><li>0</li><li>0</li><li>0</li><li>1</li><li>0</li><li>1</li><li>0</li><li>0</li><li>0</li><li>1</li><li>0</li><li>0</li><li>1</li><li>0</li><li>0</li><li>0</li><li>0</li><li>0</li><li>0</li><li>0</li><li>0</li><li>0</li><li>1</li><li>0</li><li>0</li><li>0</li><li>1</li><li>0</li><li>0</li><li>1</li><li>0</li><li>0</li><li>0</li><li>0</li><li>0</li><li>0</li><li>0</li><li>0</li><li>0</li><li>0</li><li>0</li><li>0</li><li>0</li><li>0</li><li>0</li><li>1</li><li>0</li><li>0</li><li>0</li><li>0</li><li>0</li><li>0</li><li>0</li><li>0</li><li>0</li><li>0</li><li>0</li><li>0</li><li>0</li><li>0</li><li>0</li><li>0</li><li>1</li><li>1</li><li>0</li><li>0</li><li>1</li><li>0</li><li>0</li><li>0</li><li>0</li><li>0</li><li>0</li><li>0</li><li>1</li><li>1</li><li>0</li><li>0</li><li>0</li><li>0</li><li>0</li><li>0</li><li>0</li><li>0</li><li>1</li><li>0</li><li>0</li><li>0</li><li>0</li><li>1</li><li>0</li><li>0</li><li>0</li><li>0</li><li>0</li><li>0</li><li>1</li><li>0</li><li>0</li><li>0</li><li>0</li><li>0</li><li>0</li><li>0</li><li>0</li><li>0</li><li>1</li><li>0</li><li>0</li><li>1</li><li>0</li><li>0</li><li>0</li><li>1</li><li>1</li><li>1</li><li>0</li><li>0</li><li>0</li><li>0</li><li>0</li><li>0</li><li>0</li><li>1</li><li>0</li><li>0</li><li>0</li><li>0</li><li>0</li><li>0</li><li>0</li><li>0</li><li>0</li><li>0</li><li>0</li><li>0</li><li>0</li><li>1</li><li>0</li><li>0</li><li>0</li><li>⋯</li><li>1</li><li>0</li><li>0</li><li>0</li><li>0</li><li>0</li><li>0</li><li>0</li><li>0</li><li>0</li><li>0</li><li>0</li><li>0</li><li>0</li><li>0</li><li>0</li><li>0</li><li>0</li><li>1</li><li>0</li><li>0</li><li>0</li><li>0</li><li>0</li><li>0</li><li>0</li><li>1</li><li>0</li><li>0</li><li>0</li><li>1</li><li>1</li><li>0</li><li>0</li><li>0</li><li>0</li><li>0</li><li>0</li><li>0</li><li>1</li><li>0</li><li>0</li><li>0</li><li>1</li><li>0</li><li>1</li><li>0</li><li>0</li><li>0</li><li>0</li><li>0</li><li>0</li><li>0</li><li>0</li><li>1</li><li>1</li><li>0</li><li>0</li><li>0</li><li>0</li><li>0</li><li>1</li><li>0</li><li>1</li><li>0</li><li>0</li><li>0</li><li>0</li><li>0</li><li>0</li><li>0</li><li>0</li><li>0</li><li>0</li><li>0</li><li>0</li><li>0</li><li>0</li><li>1</li><li>0</li><li>0</li><li>0</li><li>0</li><li>0</li><li>0</li><li>0</li><li>0</li><li>0</li><li>0</li><li>1</li><li>0</li><li>0</li><li>0</li><li>0</li><li>1</li><li>0</li><li>1</li><li>1</li><li>0</li><li>0</li><li>1</li><li>0</li><li>1</li><li>1</li><li>0</li><li>1</li><li>1</li><li>0</li><li>0</li><li>0</li><li>0</li><li>0</li><li>0</li><li>0</li><li>0</li><li>0</li><li>0</li><li>0</li><li>1</li><li>0</li><li>0</li><li>1</li><li>1</li><li>1</li><li>0</li><li>0</li><li>0</li><li>0</li><li>0</li><li>1</li><li>1</li><li>0</li><li>0</li><li>0</li><li>0</li><li>0</li><li>0</li><li>0</li><li>0</li><li>1</li><li>0</li><li>0</li><li>0</li><li>0</li><li>0</li><li>0</li><li>0</li><li>0</li><li>0</li><li>0</li><li>0</li><li>0</li><li>0</li><li>0</li><li>0</li><li>0</li><li>0</li><li>0</li><li>0</li><li>1</li><li>0</li><li>0</li><li>1</li><li>0</li><li>0</li><li>0</li><li>0</li><li>0</li><li>0</li><li>0</li><li>0</li><li>0</li><li>0</li><li>0</li><li>1</li><li>0</li><li>1</li><li>0</li><li>0</li><li>0</li><li>0</li><li>1</li><li>0</li><li>1</li><li>1</li><li>0</li><li>0</li><li>0</li><li>0</li><li>0</li><li>1</li><li>0</li><li>0</li><li>0</li><li>0</li><li>0</li><li>0</li><li>0</li><li>0</li><li>0</li></ol>\n"
            ]
          },
          "metadata": {}
        }
      ]
    },
    {
      "cell_type": "markdown",
      "id": "e416ebdb-1db2-44ae-8c06-ab2c9033fea7",
      "metadata": {
        "id": "e416ebdb-1db2-44ae-8c06-ab2c9033fea7"
      },
      "source": [
        "#### `(5)` 아래는 표준정규분포, 즉 평균이 0이고 표준편차가 1인 정규분포에서 1000개의 난수를 생성하여 $x$라는 변수에 저장한뒤 $x$의 히스토그램을 그린 예시이다. 아래의 예시를 이용하여 평균이 1이고 표준편차가 1인 정규분포에서 5000개의 난수를 생성한뒤 $y$에 저장하고 $y$의 히스토그램을 그려라. 시각화 예시는 아래와 같다. "
      ]
    },
    {
      "cell_type": "code",
      "execution_count": null,
      "id": "9b5dfb2d-3b2a-4769-bf1c-bdedc5536625",
      "metadata": {
        "id": "9b5dfb2d-3b2a-4769-bf1c-bdedc5536625",
        "outputId": "33268b8b-eea2-428e-c4fa-e4ca06c5db30"
      },
      "outputs": [
        {
          "data": {
            "image/png": "[encoded data removed]",
            "text/plain": [
              "Plot with title “Histogram of x”"
            ]
          },
          "metadata": {
            "image/png": {
              "height": 450,
              "width": 450
            }
          },
          "output_type": "display_data"
        }
      ],
      "source": [
        "x=rnorm(1000)\n",
        "hist(x)"
      ]
    },
    {
      "cell_type": "code",
      "source": [
        "y=rnorm(5000,1,1)\n",
        "hist(y)"
      ],
      "metadata": {
        "id": "baVv3mB24QZ7",
        "outputId": "355027e8-4480-4a58-ef01-bb79309dded6",
        "colab": {
          "base_uri": "https://localhost:8080/",
          "height": 467
        }
      },
      "id": "baVv3mB24QZ7",
      "execution_count": 25,
      "outputs": [
        {
          "output_type": "display_data",
          "data": {
            "image/png": "[encoded data removed]",
            "text/plain": [
              "Plot with title “Histogram of y”"
            ]
          },
          "metadata": {
            "image/png": {
              "width": 450,
              "height": 450
            }
          }
        }
      ]
    },
    {
      "cell_type": "markdown",
      "id": "2f3df486-8f37-42ed-b142-1371e265d0a4",
      "metadata": {
        "id": "2f3df486-8f37-42ed-b142-1371e265d0a4"
      },
      "source": [
        "#### `(6)` 아래와 같은 벡터 x에서 짝수번째 원소 (즉 x[2],x[4],$\\dots$,x[2000])의 합을 구하는 코드를 작성하라 "
      ]
    },
    {
      "cell_type": "code",
      "execution_count": null,
      "id": "02dbd2f9-e678-4bbd-b6d2-5358e8a5d67c",
      "metadata": {
        "id": "02dbd2f9-e678-4bbd-b6d2-5358e8a5d67c"
      },
      "outputs": [],
      "source": [
        "x=-1000:1000/1000\n"
      ]
    },
    {
      "cell_type": "markdown",
      "id": "1148aa17-27a7-458d-b4f7-e1af562351f7",
      "metadata": {
        "id": "1148aa17-27a7-458d-b4f7-e1af562351f7"
      },
      "source": [
        "#### `(7)` 2021년 A씨의 연봉은 5000이다. 매년 연봉은 3%씩 오른다고 하자. 2030년 A씨의 연봉은 얼마인가? "
      ]
    },
    {
      "cell_type": "code",
      "source": [
        "sal<-c()\n",
        "sal[1]=5000\n"
      ],
      "metadata": {
        "id": "cGmj-t805OVA"
      },
      "id": "cGmj-t805OVA",
      "execution_count": 26,
      "outputs": []
    },
    {
      "cell_type": "code",
      "source": [
        "for(i in 2:10){\n",
        "  sal[i] <- sal[i-1] * 1.03\n",
        "}\n",
        "sal[10]"
      ],
      "metadata": {
        "id": "Pnylv4Vc5UbG",
        "outputId": "b9f8510f-8306-4d2c-a2b1-ad1334572ff3",
        "colab": {
          "base_uri": "https://localhost:8080/",
          "height": 35
        }
      },
      "id": "Pnylv4Vc5UbG",
      "execution_count": 29,
      "outputs": [
        {
          "output_type": "display_data",
          "data": {
            "text/plain": [
              "[1] 1.304773"
            ],
            "text/latex": "1.30477318382924",
            "text/markdown": "1.30477318382924",
            "text/html": [
              "1.30477318382924"
            ]
          },
          "metadata": {}
        }
      ]
    },
    {
      "cell_type": "markdown",
      "id": "ac8212d6-cf8b-4fe2-8c17-eae8bc015819",
      "metadata": {
        "id": "ac8212d6-cf8b-4fe2-8c17-eae8bc015819"
      },
      "source": [
        "#### `(8)` 임의의 입력 $x$에 대하여 아래를 만족하는 함수를 선언하라. "
      ]
    },
    {
      "cell_type": "markdown",
      "id": "328e404d-e10d-41ac-b453-a77edcf3eff6",
      "metadata": {
        "id": "328e404d-e10d-41ac-b453-a77edcf3eff6"
      },
      "source": [
        "- $x >0$: $\\log (x)$를 계산하여 출력 \n",
        "- $x =0$: print(\"음의 무한대\")\n",
        "- $x <0$: print(\"x는 양수이어야 합니다.\")"
      ]
    },
    {
      "cell_type": "code",
      "source": [
        ""
      ],
      "metadata": {
        "id": "3NYYpwtB52Zr"
      },
      "id": "3NYYpwtB52Zr",
      "execution_count": null,
      "outputs": []
    },
    {
      "cell_type": "markdown",
      "id": "750e263a-5dcc-48c8-bd17-7ff67034f15b",
      "metadata": {
        "id": "750e263a-5dcc-48c8-bd17-7ff67034f15b"
      },
      "source": [
        "#### `(9)` 아래와 같은 데이터프레임이 있다고 하자. "
      ]
    },
    {
      "cell_type": "code",
      "execution_count": 32,
      "id": "a120373f-07df-4a12-9816-b2fddde62c74",
      "metadata": {
        "id": "a120373f-07df-4a12-9816-b2fddde62c74",
        "outputId": "25dde474-0442-4a1d-bbe9-7e75eee14521",
        "colab": {
          "base_uri": "https://localhost:8080/",
          "height": 286
        }
      },
      "outputs": [
        {
          "output_type": "display_data",
          "data": {
            "text/plain": [
              "  X1         X2       \n",
              "1 -1.7826085 2.6499536\n",
              "2  0.4706837 0.5137272\n",
              "3  0.5918595 0.4034580\n",
              "4 -1.3358021 0.8320940\n",
              "5  0.5155410 1.9940320\n",
              "6  0.5434143 1.2531629"
            ],
            "text/latex": "A tibble: 6 × 2\n\\begin{tabular}{ll}\n X1 & X2\\\\\n <dbl> & <dbl>\\\\\n\\hline\n\t -1.7826085 & 2.6499536\\\\\n\t  0.4706837 & 0.5137272\\\\\n\t  0.5918595 & 0.4034580\\\\\n\t -1.3358021 & 0.8320940\\\\\n\t  0.5155410 & 1.9940320\\\\\n\t  0.5434143 & 1.2531629\\\\\n\\end{tabular}\n",
            "text/markdown": "\nA tibble: 6 × 2\n\n| X1 &lt;dbl&gt; | X2 &lt;dbl&gt; |\n|---|---|\n| -1.7826085 | 2.6499536 |\n|  0.4706837 | 0.5137272 |\n|  0.5918595 | 0.4034580 |\n| -1.3358021 | 0.8320940 |\n|  0.5155410 | 1.9940320 |\n|  0.5434143 | 1.2531629 |\n\n",
            "text/html": [
              "<table class=\"dataframe\">\n",
              "<caption>A tibble: 6 × 2</caption>\n",
              "<thead>\n",
              "\t<tr><th scope=col>X1</th><th scope=col>X2</th></tr>\n",
              "\t<tr><th scope=col>&lt;dbl&gt;</th><th scope=col>&lt;dbl&gt;</th></tr>\n",
              "</thead>\n",
              "<tbody>\n",
              "\t<tr><td>-1.7826085</td><td>2.6499536</td></tr>\n",
              "\t<tr><td> 0.4706837</td><td>0.5137272</td></tr>\n",
              "\t<tr><td> 0.5918595</td><td>0.4034580</td></tr>\n",
              "\t<tr><td>-1.3358021</td><td>0.8320940</td></tr>\n",
              "\t<tr><td> 0.5155410</td><td>1.9940320</td></tr>\n",
              "\t<tr><td> 0.5434143</td><td>1.2531629</td></tr>\n",
              "</tbody>\n",
              "</table>\n"
            ]
          },
          "metadata": {}
        }
      ],
      "source": [
        "df=tibble(X1=rnorm(100),X2=rnorm(100))\n",
        "head(df)"
      ]
    },
    {
      "cell_type": "markdown",
      "id": "aa71709c-2459-493e-9cbf-f07e40933074",
      "metadata": {
        "id": "aa71709c-2459-493e-9cbf-f07e40933074"
      },
      "source": [
        "위의 데이터프레임 df에서 `mutate`를 이용하여 `Z=X1^2+X2^2`을 계산하여 새로운 열 Z를 만들어라. "
      ]
    },
    {
      "cell_type": "code",
      "source": [
        "df %>% mutate(Z=X1^2+X2^2)"
      ],
      "metadata": {
        "id": "7cIFJXhU59Z0",
        "outputId": "c4064334-5dcb-4c41-9a2b-7296adfe9c34",
        "colab": {
          "base_uri": "https://localhost:8080/",
          "height": 1000
        }
      },
      "id": "7cIFJXhU59Z0",
      "execution_count": 33,
      "outputs": [
        {
          "output_type": "display_data",
          "data": {
            "text/plain": [
              "    X1          X2          Z         \n",
              "1   -1.78260849  2.64995359 10.1999471\n",
              "2    0.47068371  0.51372720  0.4854588\n",
              "3    0.59185953  0.40345801  0.5130761\n",
              "4   -1.33580208  0.83209397  2.4767476\n",
              "5    0.51554103  1.99403197  4.2419461\n",
              "6    0.54341426  1.25316292  1.8657164\n",
              "7    0.45226376 -1.66334863  2.9712712\n",
              "8   -0.43213454  0.23784672  0.2433113\n",
              "9   -0.58980488  0.81418078  1.0107601\n",
              "10   0.42015798  0.21268737  0.2217686\n",
              "11  -0.62901474 -0.09553892  0.4047872\n",
              "12   0.56872938 -0.42093785  0.5006418\n",
              "13  -2.26319240  1.28464851  6.7723616\n",
              "14  -0.49291598 -0.81617646  0.9091102\n",
              "15  -0.67994403 -0.88663010  1.2484368\n",
              "16  -0.29012550  0.70493900  0.5811118\n",
              "17   1.27959889 -0.14892874  1.6595531\n",
              "18   2.14662271 -1.88822006  8.1733641\n",
              "19   0.62935492 -1.80975622  3.6713052\n",
              "20   0.40012565  0.55927796  0.4728924\n",
              "21  -0.87643442  2.72298641  8.1827923\n",
              "22   0.47175446  0.69339286  0.7033459\n",
              "23  -1.71727918 -0.26760925  3.0206625\n",
              "24   0.24695905  1.45407712  2.1753290\n",
              "25  -0.03037795 -0.89150734  0.7957082\n",
              "26   1.45847494  1.07282799  3.2781091\n",
              "27  -0.15270062  1.28285348  1.6690305\n",
              "28  -0.86092767 -1.08436730  1.9170489\n",
              "29   0.72019788  0.07141866  0.5237856\n",
              "30   0.33739561 -0.11784883  0.1277241\n",
              "⋮   ⋮           ⋮           ⋮         \n",
              "71  -0.27592773  1.42033406 2.09348494\n",
              "72  -0.71648829  0.67609878 0.97046504\n",
              "73   1.02037689 -0.53965216 1.33239345\n",
              "74  -1.01032112 -0.19680111 1.05947944\n",
              "75  -0.44827848  0.97642780 1.15436483\n",
              "76   0.85982012 -1.41226365 2.73377926\n",
              "77  -0.28020767  2.06531361 4.34403665\n",
              "78  -0.61357907 -0.46775184 0.59527106\n",
              "79  -0.42836214 -0.79548428 0.81628937\n",
              "80   0.97686073  0.15569472 0.97849773\n",
              "81  -1.16580455 -0.08778384 1.36680626\n",
              "82  -0.32615108  0.94708535 1.00334518\n",
              "83   0.14061993  0.54956788 0.32179882\n",
              "84   0.53845456 -0.41477525 0.46197182\n",
              "85  -0.46063287  0.01544207 0.21242110\n",
              "86  -0.02867605 -0.99413072 0.98911820\n",
              "87   2.24407135 -1.66951647 7.82314146\n",
              "88  -0.57515460  0.08752532 0.33846350\n",
              "89  -0.52111913  1.23210844 1.78965636\n",
              "90  -0.64765926  0.43512872 0.60879952\n",
              "91   0.96141065 -0.10322242 0.93496530\n",
              "92   0.84920223 -0.07556760 0.72685490\n",
              "93  -1.25315417  1.67068499 4.36158370\n",
              "94  -1.27783521 -0.75770343 2.20697730\n",
              "95   0.40323564 -0.82707117 0.84664570\n",
              "96  -0.09532900  1.78636319 3.20018106\n",
              "97   0.61621904 -1.18528950 1.78463710\n",
              "98  -0.14033605 -0.27444194 0.09501259\n",
              "99   0.77389823  1.16980999 1.96737388\n",
              "100 -0.28914504  0.17720522 0.11500654"
            ],
            "text/latex": "A tibble: 100 × 3\n\\begin{tabular}{lll}\n X1 & X2 & Z\\\\\n <dbl> & <dbl> & <dbl>\\\\\n\\hline\n\t -1.78260849 &  2.64995359 & 10.1999471\\\\\n\t  0.47068371 &  0.51372720 &  0.4854588\\\\\n\t  0.59185953 &  0.40345801 &  0.5130761\\\\\n\t -1.33580208 &  0.83209397 &  2.4767476\\\\\n\t  0.51554103 &  1.99403197 &  4.2419461\\\\\n\t  0.54341426 &  1.25316292 &  1.8657164\\\\\n\t  0.45226376 & -1.66334863 &  2.9712712\\\\\n\t -0.43213454 &  0.23784672 &  0.2433113\\\\\n\t -0.58980488 &  0.81418078 &  1.0107601\\\\\n\t  0.42015798 &  0.21268737 &  0.2217686\\\\\n\t -0.62901474 & -0.09553892 &  0.4047872\\\\\n\t  0.56872938 & -0.42093785 &  0.5006418\\\\\n\t -2.26319240 &  1.28464851 &  6.7723616\\\\\n\t -0.49291598 & -0.81617646 &  0.9091102\\\\\n\t -0.67994403 & -0.88663010 &  1.2484368\\\\\n\t -0.29012550 &  0.70493900 &  0.5811118\\\\\n\t  1.27959889 & -0.14892874 &  1.6595531\\\\\n\t  2.14662271 & -1.88822006 &  8.1733641\\\\\n\t  0.62935492 & -1.80975622 &  3.6713052\\\\\n\t  0.40012565 &  0.55927796 &  0.4728924\\\\\n\t -0.87643442 &  2.72298641 &  8.1827923\\\\\n\t  0.47175446 &  0.69339286 &  0.7033459\\\\\n\t -1.71727918 & -0.26760925 &  3.0206625\\\\\n\t  0.24695905 &  1.45407712 &  2.1753290\\\\\n\t -0.03037795 & -0.89150734 &  0.7957082\\\\\n\t  1.45847494 &  1.07282799 &  3.2781091\\\\\n\t -0.15270062 &  1.28285348 &  1.6690305\\\\\n\t -0.86092767 & -1.08436730 &  1.9170489\\\\\n\t  0.72019788 &  0.07141866 &  0.5237856\\\\\n\t  0.33739561 & -0.11784883 &  0.1277241\\\\\n\t ⋮ & ⋮ & ⋮\\\\\n\t -0.27592773 &  1.42033406 & 2.09348494\\\\\n\t -0.71648829 &  0.67609878 & 0.97046504\\\\\n\t  1.02037689 & -0.53965216 & 1.33239345\\\\\n\t -1.01032112 & -0.19680111 & 1.05947944\\\\\n\t -0.44827848 &  0.97642780 & 1.15436483\\\\\n\t  0.85982012 & -1.41226365 & 2.73377926\\\\\n\t -0.28020767 &  2.06531361 & 4.34403665\\\\\n\t -0.61357907 & -0.46775184 & 0.59527106\\\\\n\t -0.42836214 & -0.79548428 & 0.81628937\\\\\n\t  0.97686073 &  0.15569472 & 0.97849773\\\\\n\t -1.16580455 & -0.08778384 & 1.36680626\\\\\n\t -0.32615108 &  0.94708535 & 1.00334518\\\\\n\t  0.14061993 &  0.54956788 & 0.32179882\\\\\n\t  0.53845456 & -0.41477525 & 0.46197182\\\\\n\t -0.46063287 &  0.01544207 & 0.21242110\\\\\n\t -0.02867605 & -0.99413072 & 0.98911820\\\\\n\t  2.24407135 & -1.66951647 & 7.82314146\\\\\n\t -0.57515460 &  0.08752532 & 0.33846350\\\\\n\t -0.52111913 &  1.23210844 & 1.78965636\\\\\n\t -0.64765926 &  0.43512872 & 0.60879952\\\\\n\t  0.96141065 & -0.10322242 & 0.93496530\\\\\n\t  0.84920223 & -0.07556760 & 0.72685490\\\\\n\t -1.25315417 &  1.67068499 & 4.36158370\\\\\n\t -1.27783521 & -0.75770343 & 2.20697730\\\\\n\t  0.40323564 & -0.82707117 & 0.84664570\\\\\n\t -0.09532900 &  1.78636319 & 3.20018106\\\\\n\t  0.61621904 & -1.18528950 & 1.78463710\\\\\n\t -0.14033605 & -0.27444194 & 0.09501259\\\\\n\t  0.77389823 &  1.16980999 & 1.96737388\\\\\n\t -0.28914504 &  0.17720522 & 0.11500654\\\\\n\\end{tabular}\n",
            "text/markdown": "\nA tibble: 100 × 3\n\n| X1 &lt;dbl&gt; | X2 &lt;dbl&gt; | Z &lt;dbl&gt; |\n|---|---|---|\n| -1.78260849 |  2.64995359 | 10.1999471 |\n|  0.47068371 |  0.51372720 |  0.4854588 |\n|  0.59185953 |  0.40345801 |  0.5130761 |\n| -1.33580208 |  0.83209397 |  2.4767476 |\n|  0.51554103 |  1.99403197 |  4.2419461 |\n|  0.54341426 |  1.25316292 |  1.8657164 |\n|  0.45226376 | -1.66334863 |  2.9712712 |\n| -0.43213454 |  0.23784672 |  0.2433113 |\n| -0.58980488 |  0.81418078 |  1.0107601 |\n|  0.42015798 |  0.21268737 |  0.2217686 |\n| -0.62901474 | -0.09553892 |  0.4047872 |\n|  0.56872938 | -0.42093785 |  0.5006418 |\n| -2.26319240 |  1.28464851 |  6.7723616 |\n| -0.49291598 | -0.81617646 |  0.9091102 |\n| -0.67994403 | -0.88663010 |  1.2484368 |\n| -0.29012550 |  0.70493900 |  0.5811118 |\n|  1.27959889 | -0.14892874 |  1.6595531 |\n|  2.14662271 | -1.88822006 |  8.1733641 |\n|  0.62935492 | -1.80975622 |  3.6713052 |\n|  0.40012565 |  0.55927796 |  0.4728924 |\n| -0.87643442 |  2.72298641 |  8.1827923 |\n|  0.47175446 |  0.69339286 |  0.7033459 |\n| -1.71727918 | -0.26760925 |  3.0206625 |\n|  0.24695905 |  1.45407712 |  2.1753290 |\n| -0.03037795 | -0.89150734 |  0.7957082 |\n|  1.45847494 |  1.07282799 |  3.2781091 |\n| -0.15270062 |  1.28285348 |  1.6690305 |\n| -0.86092767 | -1.08436730 |  1.9170489 |\n|  0.72019788 |  0.07141866 |  0.5237856 |\n|  0.33739561 | -0.11784883 |  0.1277241 |\n| ⋮ | ⋮ | ⋮ |\n| -0.27592773 |  1.42033406 | 2.09348494 |\n| -0.71648829 |  0.67609878 | 0.97046504 |\n|  1.02037689 | -0.53965216 | 1.33239345 |\n| -1.01032112 | -0.19680111 | 1.05947944 |\n| -0.44827848 |  0.97642780 | 1.15436483 |\n|  0.85982012 | -1.41226365 | 2.73377926 |\n| -0.28020767 |  2.06531361 | 4.34403665 |\n| -0.61357907 | -0.46775184 | 0.59527106 |\n| -0.42836214 | -0.79548428 | 0.81628937 |\n|  0.97686073 |  0.15569472 | 0.97849773 |\n| -1.16580455 | -0.08778384 | 1.36680626 |\n| -0.32615108 |  0.94708535 | 1.00334518 |\n|  0.14061993 |  0.54956788 | 0.32179882 |\n|  0.53845456 | -0.41477525 | 0.46197182 |\n| -0.46063287 |  0.01544207 | 0.21242110 |\n| -0.02867605 | -0.99413072 | 0.98911820 |\n|  2.24407135 | -1.66951647 | 7.82314146 |\n| -0.57515460 |  0.08752532 | 0.33846350 |\n| -0.52111913 |  1.23210844 | 1.78965636 |\n| -0.64765926 |  0.43512872 | 0.60879952 |\n|  0.96141065 | -0.10322242 | 0.93496530 |\n|  0.84920223 | -0.07556760 | 0.72685490 |\n| -1.25315417 |  1.67068499 | 4.36158370 |\n| -1.27783521 | -0.75770343 | 2.20697730 |\n|  0.40323564 | -0.82707117 | 0.84664570 |\n| -0.09532900 |  1.78636319 | 3.20018106 |\n|  0.61621904 | -1.18528950 | 1.78463710 |\n| -0.14033605 | -0.27444194 | 0.09501259 |\n|  0.77389823 |  1.16980999 | 1.96737388 |\n| -0.28914504 |  0.17720522 | 0.11500654 |\n\n",
            "text/html": [
              "<table class=\"dataframe\">\n",
              "<caption>A tibble: 100 × 3</caption>\n",
              "<thead>\n",
              "\t<tr><th scope=col>X1</th><th scope=col>X2</th><th scope=col>Z</th></tr>\n",
              "\t<tr><th scope=col>&lt;dbl&gt;</th><th scope=col>&lt;dbl&gt;</th><th scope=col>&lt;dbl&gt;</th></tr>\n",
              "</thead>\n",
              "<tbody>\n",
              "\t<tr><td>-1.78260849</td><td> 2.64995359</td><td>10.1999471</td></tr>\n",
              "\t<tr><td> 0.47068371</td><td> 0.51372720</td><td> 0.4854588</td></tr>\n",
              "\t<tr><td> 0.59185953</td><td> 0.40345801</td><td> 0.5130761</td></tr>\n",
              "\t<tr><td>-1.33580208</td><td> 0.83209397</td><td> 2.4767476</td></tr>\n",
              "\t<tr><td> 0.51554103</td><td> 1.99403197</td><td> 4.2419461</td></tr>\n",
              "\t<tr><td> 0.54341426</td><td> 1.25316292</td><td> 1.8657164</td></tr>\n",
              "\t<tr><td> 0.45226376</td><td>-1.66334863</td><td> 2.9712712</td></tr>\n",
              "\t<tr><td>-0.43213454</td><td> 0.23784672</td><td> 0.2433113</td></tr>\n",
              "\t<tr><td>-0.58980488</td><td> 0.81418078</td><td> 1.0107601</td></tr>\n",
              "\t<tr><td> 0.42015798</td><td> 0.21268737</td><td> 0.2217686</td></tr>\n",
              "\t<tr><td>-0.62901474</td><td>-0.09553892</td><td> 0.4047872</td></tr>\n",
              "\t<tr><td> 0.56872938</td><td>-0.42093785</td><td> 0.5006418</td></tr>\n",
              "\t<tr><td>-2.26319240</td><td> 1.28464851</td><td> 6.7723616</td></tr>\n",
              "\t<tr><td>-0.49291598</td><td>-0.81617646</td><td> 0.9091102</td></tr>\n",
              "\t<tr><td>-0.67994403</td><td>-0.88663010</td><td> 1.2484368</td></tr>\n",
              "\t<tr><td>-0.29012550</td><td> 0.70493900</td><td> 0.5811118</td></tr>\n",
              "\t<tr><td> 1.27959889</td><td>-0.14892874</td><td> 1.6595531</td></tr>\n",
              "\t<tr><td> 2.14662271</td><td>-1.88822006</td><td> 8.1733641</td></tr>\n",
              "\t<tr><td> 0.62935492</td><td>-1.80975622</td><td> 3.6713052</td></tr>\n",
              "\t<tr><td> 0.40012565</td><td> 0.55927796</td><td> 0.4728924</td></tr>\n",
              "\t<tr><td>-0.87643442</td><td> 2.72298641</td><td> 8.1827923</td></tr>\n",
              "\t<tr><td> 0.47175446</td><td> 0.69339286</td><td> 0.7033459</td></tr>\n",
              "\t<tr><td>-1.71727918</td><td>-0.26760925</td><td> 3.0206625</td></tr>\n",
              "\t<tr><td> 0.24695905</td><td> 1.45407712</td><td> 2.1753290</td></tr>\n",
              "\t<tr><td>-0.03037795</td><td>-0.89150734</td><td> 0.7957082</td></tr>\n",
              "\t<tr><td> 1.45847494</td><td> 1.07282799</td><td> 3.2781091</td></tr>\n",
              "\t<tr><td>-0.15270062</td><td> 1.28285348</td><td> 1.6690305</td></tr>\n",
              "\t<tr><td>-0.86092767</td><td>-1.08436730</td><td> 1.9170489</td></tr>\n",
              "\t<tr><td> 0.72019788</td><td> 0.07141866</td><td> 0.5237856</td></tr>\n",
              "\t<tr><td> 0.33739561</td><td>-0.11784883</td><td> 0.1277241</td></tr>\n",
              "\t<tr><td>⋮</td><td>⋮</td><td>⋮</td></tr>\n",
              "\t<tr><td>-0.27592773</td><td> 1.42033406</td><td>2.09348494</td></tr>\n",
              "\t<tr><td>-0.71648829</td><td> 0.67609878</td><td>0.97046504</td></tr>\n",
              "\t<tr><td> 1.02037689</td><td>-0.53965216</td><td>1.33239345</td></tr>\n",
              "\t<tr><td>-1.01032112</td><td>-0.19680111</td><td>1.05947944</td></tr>\n",
              "\t<tr><td>-0.44827848</td><td> 0.97642780</td><td>1.15436483</td></tr>\n",
              "\t<tr><td> 0.85982012</td><td>-1.41226365</td><td>2.73377926</td></tr>\n",
              "\t<tr><td>-0.28020767</td><td> 2.06531361</td><td>4.34403665</td></tr>\n",
              "\t<tr><td>-0.61357907</td><td>-0.46775184</td><td>0.59527106</td></tr>\n",
              "\t<tr><td>-0.42836214</td><td>-0.79548428</td><td>0.81628937</td></tr>\n",
              "\t<tr><td> 0.97686073</td><td> 0.15569472</td><td>0.97849773</td></tr>\n",
              "\t<tr><td>-1.16580455</td><td>-0.08778384</td><td>1.36680626</td></tr>\n",
              "\t<tr><td>-0.32615108</td><td> 0.94708535</td><td>1.00334518</td></tr>\n",
              "\t<tr><td> 0.14061993</td><td> 0.54956788</td><td>0.32179882</td></tr>\n",
              "\t<tr><td> 0.53845456</td><td>-0.41477525</td><td>0.46197182</td></tr>\n",
              "\t<tr><td>-0.46063287</td><td> 0.01544207</td><td>0.21242110</td></tr>\n",
              "\t<tr><td>-0.02867605</td><td>-0.99413072</td><td>0.98911820</td></tr>\n",
              "\t<tr><td> 2.24407135</td><td>-1.66951647</td><td>7.82314146</td></tr>\n",
              "\t<tr><td>-0.57515460</td><td> 0.08752532</td><td>0.33846350</td></tr>\n",
              "\t<tr><td>-0.52111913</td><td> 1.23210844</td><td>1.78965636</td></tr>\n",
              "\t<tr><td>-0.64765926</td><td> 0.43512872</td><td>0.60879952</td></tr>\n",
              "\t<tr><td> 0.96141065</td><td>-0.10322242</td><td>0.93496530</td></tr>\n",
              "\t<tr><td> 0.84920223</td><td>-0.07556760</td><td>0.72685490</td></tr>\n",
              "\t<tr><td>-1.25315417</td><td> 1.67068499</td><td>4.36158370</td></tr>\n",
              "\t<tr><td>-1.27783521</td><td>-0.75770343</td><td>2.20697730</td></tr>\n",
              "\t<tr><td> 0.40323564</td><td>-0.82707117</td><td>0.84664570</td></tr>\n",
              "\t<tr><td>-0.09532900</td><td> 1.78636319</td><td>3.20018106</td></tr>\n",
              "\t<tr><td> 0.61621904</td><td>-1.18528950</td><td>1.78463710</td></tr>\n",
              "\t<tr><td>-0.14033605</td><td>-0.27444194</td><td>0.09501259</td></tr>\n",
              "\t<tr><td> 0.77389823</td><td> 1.16980999</td><td>1.96737388</td></tr>\n",
              "\t<tr><td>-0.28914504</td><td> 0.17720522</td><td>0.11500654</td></tr>\n",
              "</tbody>\n",
              "</table>\n"
            ]
          },
          "metadata": {}
        }
      ]
    },
    {
      "cell_type": "markdown",
      "id": "fdd57b34-45c6-41e0-a9ec-0e3bcf096a39",
      "metadata": {
        "tags": [],
        "id": "fdd57b34-45c6-41e0-a9ec-0e3bcf096a39"
      },
      "source": [
        "#### `(10)` 아래와 같은 매트릭스에서 `apply`함수를 이용하여 각 행의 합과 각 열의 합을 구하라 "
      ]
    },
    {
      "cell_type": "code",
      "execution_count": 34,
      "id": "4dce282e-0765-47de-9fc4-2d55df4c4372",
      "metadata": {
        "id": "4dce282e-0765-47de-9fc4-2d55df4c4372",
        "outputId": "6ac32a89-c8c6-4e18-ec1f-e812bb42107b",
        "colab": {
          "base_uri": "https://localhost:8080/"
        }
      },
      "outputs": [
        {
          "output_type": "stream",
          "name": "stdout",
          "text": [
            "      [,1] [,2] [,3] [,4] [,5] [,6] [,7] [,8] [,9] [,10]\n",
            " [1,]    2    3    3    2    2    3    1    3    3     3\n",
            " [2,]    1    3    3    4    2    2    4    2    2     1\n",
            " [3,]    2    2    2    2    4    4    2    3    3     3\n",
            " [4,]    3    2    4    5    2    5    1    4    2     2\n",
            " [5,]    2    2    2    2    1    4    2    2    3     4\n",
            " [6,]    5    1    3    1    1    3    4    2    4     3\n",
            " [7,]    4    3    4    3    2    3    2    3    0     1\n",
            " [8,]    4    4    2    3    2    3    3    0    4     2\n",
            " [9,]    5    5    4    3    2    4    4    4    1     4\n",
            "[10,]    2    4    4    3    1    3    3    2    1     2\n"
          ]
        }
      ],
      "source": [
        "set.seed(1221)\n",
        "mat = rbinom(n=100,size=5,prob=0.5)\n",
        "dim(mat)=c(10,10)\n",
        "print(mat)"
      ]
    },
    {
      "cell_type": "markdown",
      "id": "5412d8eb-a07a-4f74-92e0-754d1753f8ac",
      "metadata": {
        "id": "5412d8eb-a07a-4f74-92e0-754d1753f8ac"
      },
      "source": [
        "즉 아래를 구하라 "
      ]
    },
    {
      "cell_type": "markdown",
      "id": "8dded61e-e395-4bc4-a2a5-f936b30029eb",
      "metadata": {
        "id": "8dded61e-e395-4bc4-a2a5-f936b30029eb"
      },
      "source": [
        "`-` 각 행의 합\n",
        "- 1행의 합 = 2+3+3+ ... +3+3+3 \n",
        "- ...\n",
        "- 10행의 합 = 2+4+4+ ... +2+1+2"
      ]
    },
    {
      "cell_type": "code",
      "source": [
        "test=function(a) sum(a)\n",
        "sum(apply(mat,1,test))"
      ],
      "metadata": {
        "id": "G6tvoEi_6nrT",
        "outputId": "745211c1-4edc-4af0-945c-341fa06a3339",
        "colab": {
          "base_uri": "https://localhost:8080/",
          "height": 35
        }
      },
      "id": "G6tvoEi_6nrT",
      "execution_count": 42,
      "outputs": [
        {
          "output_type": "display_data",
          "data": {
            "text/plain": [
              "[1] 270"
            ],
            "text/latex": "270",
            "text/markdown": "270",
            "text/html": [
              "270"
            ]
          },
          "metadata": {}
        }
      ]
    },
    {
      "cell_type": "markdown",
      "id": "1600d9a5-363e-4ffd-a756-90bb4dcbd4c3",
      "metadata": {
        "id": "1600d9a5-363e-4ffd-a756-90bb4dcbd4c3"
      },
      "source": [
        "`-` 각 열의 합\n",
        "- 1열의 합 = 2+1+2+ ... +4+5+2\n",
        "- ...\n",
        "- 10열의 합 = 3+1+3+ ... +2+4+2"
      ]
    },
    {
      "cell_type": "code",
      "source": [
        "test=function(a) sum(a)\n",
        "sum(apply(mat,2,test))"
      ],
      "metadata": {
        "id": "ilE5nrxp8Afk",
        "outputId": "318aca49-f4a2-4577-da7c-b476fa89aeb2",
        "colab": {
          "base_uri": "https://localhost:8080/",
          "height": 35
        }
      },
      "id": "ilE5nrxp8Afk",
      "execution_count": 43,
      "outputs": [
        {
          "output_type": "display_data",
          "data": {
            "text/plain": [
              "[1] 270"
            ],
            "text/latex": "270",
            "text/markdown": "270",
            "text/html": [
              "270"
            ]
          },
          "metadata": {}
        }
      ]
    },
    {
      "cell_type": "markdown",
      "id": "9ce31908-cc7a-48e0-89b6-6117a143c13c",
      "metadata": {
        "tags": [],
        "id": "9ce31908-cc7a-48e0-89b6-6117a143c13c"
      },
      "source": [
        "## `6`. 다음을 잘 읽고 물음에 답하라. (20점)"
      ]
    },
    {
      "cell_type": "markdown",
      "id": "24d014aa-d2c5-417f-afcd-c4bbc35f6403",
      "metadata": {
        "id": "24d014aa-d2c5-417f-afcd-c4bbc35f6403"
      },
      "source": [
        "#### `(1)` 자료 $x_1,x_2,\\dots, x_{50}$에 대하여 다음 과정을 순서대로 시행하였다."
      ]
    },
    {
      "cell_type": "markdown",
      "id": "35ad820e-3421-4c0a-a40c-38c78942ed83",
      "metadata": {
        "id": "35ad820e-3421-4c0a-a40c-38c78942ed83"
      },
      "source": [
        "(가) 처음 두 수 $x_1$과 $x_2$의 평균을 구한다. \n",
        "\n",
        "(나) $x_3$을 추가하여 $x_1, x_2, x_3$의 평균을 구한다. \n",
        "\n",
        "(다) $x_4$을 추가하여 $x_1, x_2, x_3, x_4$의 평균을 구한다. \n",
        "\n",
        "...\n",
        "\n",
        "$x_{50}$을 추가하여 $x_1, x_2, x_3 ,\\dots , x_{50}$의 평균을 구한다. "
      ]
    },
    {
      "cell_type": "markdown",
      "id": "4a30daaa-66ce-4344-8ef5-722e8ffb0006",
      "metadata": {
        "id": "4a30daaa-66ce-4344-8ef5-722e8ffb0006"
      },
      "source": [
        "위의 과정을 시행할 결과, $x_1$과 $x_2$의 평균이 5이고, 자료 하나가 추가될때 마다 평균이 1씩 증가하였다. 이때 $x_{50}$의 값은? "
      ]
    },
    {
      "cell_type": "code",
      "source": [
        "x<-c()\n",
        "x[1]=5\n",
        "x[2]=5\n"
      ],
      "metadata": {
        "id": "atXNFBwd8fvj"
      },
      "id": "atXNFBwd8fvj",
      "execution_count": 45,
      "outputs": []
    },
    {
      "cell_type": "code",
      "source": [
        "for(n in 3:50){\n",
        "  temp_=mean(x[1:(n-1)])+1\n",
        "  sum_=temp_*n\n",
        "  x[n]=sum_ - sum(x[1:(n-1)])\n",
        "}\n",
        "x[50]"
      ],
      "metadata": {
        "id": "OKc9tbLu9mv1",
        "outputId": "b668fb61-8b6e-4e35-99ef-ad2e56fb3493",
        "colab": {
          "base_uri": "https://localhost:8080/",
          "height": 35
        }
      },
      "id": "OKc9tbLu9mv1",
      "execution_count": 51,
      "outputs": [
        {
          "output_type": "display_data",
          "data": {
            "text/plain": [
              "[1] 102"
            ],
            "text/latex": "102",
            "text/markdown": "102",
            "text/html": [
              "102"
            ]
          },
          "metadata": {}
        }
      ]
    },
    {
      "cell_type": "markdown",
      "id": "2e2653d1-f565-4900-ad35-4431ed1d074d",
      "metadata": {
        "tags": [],
        "id": "2e2653d1-f565-4900-ad35-4431ed1d074d"
      },
      "source": [
        "#### `(2)` 복도의 라커 \n",
        "\n",
        "복도에 100개의 라커가 있다. 복도를 어떤 남자가 **짝수번호**의 라커를 모두 연다. 그리고 나서 3의 배수의 라커를 전부 닫는다. 그 다음에는 번호가 4의 배수인 라커를 순서대로 찾아다니며 열려 있으면 닫고, 닫혀 있으면 연다. 그 다음에는 번호가 5의 배수인 라커를 순서대로 찾아다니며 열려있으면 닫고, 닫혀있으면 연다. 이후에 6의 배수, 7의 배수 .. 인 라커를 순서대로 찾아다니며 행동을 반복한다. 이런식으로 복도를 **50번** 지나가면 열린 라커의 문은 몇개가 되겠는가? (주의: 중간고사문제와 약간다릅니다, 다른부분은 볼드체 표시했습니다)"
      ]
    },
    {
      "cell_type": "code",
      "source": [
        ""
      ],
      "metadata": {
        "id": "ain17YQU1ZDX"
      },
      "id": "ain17YQU1ZDX",
      "execution_count": null,
      "outputs": []
    },
    {
      "cell_type": "markdown",
      "id": "e2f77aba-17d3-45c0-977b-ebc7ebc1b007",
      "metadata": {
        "id": "e2f77aba-17d3-45c0-977b-ebc7ebc1b007"
      },
      "source": [
        "#### `(3)` 몬테카를로 시뮬레이션을 이용하여 원주율 $\\pi$를 추론하는 코드를 작성하라. "
      ]
    },
    {
      "cell_type": "markdown",
      "id": "6d96b655-723b-4b88-be3a-179599fec430",
      "metadata": {
        "id": "6d96b655-723b-4b88-be3a-179599fec430"
      },
      "source": [
        "#### `(4)` 아래와 같은 연립일차방정식을 푸는 R코드를 작성하라. "
      ]
    },
    {
      "cell_type": "markdown",
      "id": "1242cd3f-41fe-4f41-870d-311c0ec85d69",
      "metadata": {
        "id": "1242cd3f-41fe-4f41-870d-311c0ec85d69"
      },
      "source": [
        "$\\begin{cases}\n",
        "w+2x+3y+4z=1 \\\\\n",
        "2w+2x+y=9 \\\\\n",
        "x-y=4 \\\\\n",
        "3w+x-y+3y=7\n",
        "\\end{cases}$\n"
      ]
    },
    {
      "cell_type": "markdown",
      "id": "8c0bca0f-2b2b-483e-98bf-46f560db01f7",
      "metadata": {
        "id": "8c0bca0f-2b2b-483e-98bf-46f560db01f7"
      },
      "source": [
        "#### `(5)` 우산의 회전"
      ]
    },
    {
      "cell_type": "markdown",
      "id": "856adbd0-6cac-4de3-9a4e-5758c5b3c60a",
      "metadata": {
        "id": "856adbd0-6cac-4de3-9a4e-5758c5b3c60a"
      },
      "source": [
        "다음은 인터넷에서 어떠한 자료를 다운받아 매트릭스로 저장하는 코드이다. \n",
        "```R\n",
        "df=read.csv(\"https://raw.githubusercontent.com/guebin/2021IR/master/_notebooks/round2.csv\")\n",
        "X=as.matrix(df)\n",
        "```\n",
        "매트릭스는 `X`이라는 변수에 저장되어 있다. 저장된 모양은 아래와 같다. \n",
        "$${\\bf X}= \n",
        "\\begin{bmatrix}\n",
        "x_1 & y_1 \\\\ \n",
        "x_2 & y_2 \\\\ \n",
        "\\dots & \\dots \\\\ \n",
        "x_{5513} & y_{5513}\n",
        "\\end{bmatrix}\n",
        "$$\n",
        "아래를 계산하여 $\\tilde{\\bf X}$를 만들고 \n",
        "$$\n",
        "\\tilde{\\bf X}={\\bf X} \\begin{bmatrix}\n",
        "\\cos(\\frac{\\pi}{4}) & -\\sin (\\frac{\\pi}{4}) \\\\\n",
        "\\sin(\\frac{\\pi}{4}) & \\cos (\\frac{\\pi}{4})\n",
        "\\end{bmatrix} \n",
        "$$"
      ]
    },
    {
      "cell_type": "code",
      "source": [
        "df=read.csv(\"https://raw.githubusercontent.com/guebin/2021IR/master/_notebooks/round2.csv\")\n",
        "X=as.matrix(df)"
      ],
      "metadata": {
        "id": "gtZcOOcI_LUf"
      },
      "id": "gtZcOOcI_LUf",
      "execution_count": 57,
      "outputs": []
    },
    {
      "cell_type": "code",
      "source": [
        "head(df)"
      ],
      "metadata": {
        "id": "KoyG07cH-Qkt",
        "outputId": "32b1a93f-d84e-4a9d-f591-2d197f130772",
        "colab": {
          "base_uri": "https://localhost:8080/",
          "height": 286
        }
      },
      "id": "KoyG07cH-Qkt",
      "execution_count": 58,
      "outputs": [
        {
          "output_type": "display_data",
          "data": {
            "text/plain": [
              "  x  y  \n",
              "1 12 313\n",
              "2 12 314\n",
              "3 13 279\n",
              "4 13 311\n",
              "5 13 312\n",
              "6 13 313"
            ],
            "text/latex": "A data.frame: 6 × 2\n\\begin{tabular}{r|ll}\n  & x & y\\\\\n  & <int> & <int>\\\\\n\\hline\n\t1 & 12 & 313\\\\\n\t2 & 12 & 314\\\\\n\t3 & 13 & 279\\\\\n\t4 & 13 & 311\\\\\n\t5 & 13 & 312\\\\\n\t6 & 13 & 313\\\\\n\\end{tabular}\n",
            "text/markdown": "\nA data.frame: 6 × 2\n\n| <!--/--> | x &lt;int&gt; | y &lt;int&gt; |\n|---|---|---|\n| 1 | 12 | 313 |\n| 2 | 12 | 314 |\n| 3 | 13 | 279 |\n| 4 | 13 | 311 |\n| 5 | 13 | 312 |\n| 6 | 13 | 313 |\n\n",
            "text/html": [
              "<table class=\"dataframe\">\n",
              "<caption>A data.frame: 6 × 2</caption>\n",
              "<thead>\n",
              "\t<tr><th></th><th scope=col>x</th><th scope=col>y</th></tr>\n",
              "\t<tr><th></th><th scope=col>&lt;int&gt;</th><th scope=col>&lt;int&gt;</th></tr>\n",
              "</thead>\n",
              "<tbody>\n",
              "\t<tr><th scope=row>1</th><td>12</td><td>313</td></tr>\n",
              "\t<tr><th scope=row>2</th><td>12</td><td>314</td></tr>\n",
              "\t<tr><th scope=row>3</th><td>13</td><td>279</td></tr>\n",
              "\t<tr><th scope=row>4</th><td>13</td><td>311</td></tr>\n",
              "\t<tr><th scope=row>5</th><td>13</td><td>312</td></tr>\n",
              "\t<tr><th scope=row>6</th><td>13</td><td>313</td></tr>\n",
              "</tbody>\n",
              "</table>\n"
            ]
          },
          "metadata": {}
        }
      ]
    },
    {
      "cell_type": "markdown",
      "id": "ed520940-df49-49ea-b613-704f98d7d0e3",
      "metadata": {
        "id": "ed520940-df49-49ea-b613-704f98d7d0e3"
      },
      "source": [
        "$\\tilde{\\bf X}$의 첫번째열을 $x$축으로, 두번째열을 $y$축으로 하여 시각화 하라. 시각화 예시는 아래와 같다. "
      ]
    },
    {
      "cell_type": "code",
      "source": [
        "X_ = cbind(x,y) %*% rbind(c(cos(pi/4),-sin(pi/4)),c(sin(pi/4),cos(pi/4)))\n"
      ],
      "metadata": {
        "id": "6BU7vZEV-UEk"
      },
      "id": "6BU7vZEV-UEk",
      "execution_count": 60,
      "outputs": []
    },
    {
      "cell_type": "code",
      "source": [
        "plot(matrix[,1],matrix[,2],col='black',lty=2)"
      ],
      "metadata": {
        "id": "mZj_EyUo_RYJ",
        "outputId": "8ce9f95c-d70b-4cbd-d680-cd4afb8b3101",
        "colab": {
          "base_uri": "https://localhost:8080/",
          "height": 139
        }
      },
      "id": "mZj_EyUo_RYJ",
      "execution_count": 61,
      "outputs": [
        {
          "output_type": "error",
          "ename": "ERROR",
          "evalue": "ignored",
          "traceback": [
            "Error in matrix[, 1]: object of type 'closure' is not subsettable\nTraceback:\n",
            "1. plot(matrix[, 1], matrix[, 2], col = \"black\", lty = 2)"
          ]
        }
      ]
    },
    {
      "cell_type": "markdown",
      "id": "25975e05-2cf1-47b6-b126-b8caf43009af",
      "metadata": {
        "id": "25975e05-2cf1-47b6-b126-b8caf43009af"
      },
      "source": [
        "![](https://github.com/guebin/2021IR/blob/master/_notebooks/final_fig5.png?raw=true)"
      ]
    }
  ],
  "metadata": {
    "kernelspec": {
      "display_name": "R",
      "language": "R",
      "name": "ir"
    },
    "language_info": {
      "codemirror_mode": "r",
      "file_extension": ".r",
      "mimetype": "text/x-r-source",
      "name": "R",
      "pygments_lexer": "r",
      "version": "4.0.5"
    },
    "colab": {
      "name": "2021-12-21-2021년 1학기 R입문기말고사.ipynb",
      "provenance": []
    }
  },
  "nbformat": 4,
  "nbformat_minor": 5
}