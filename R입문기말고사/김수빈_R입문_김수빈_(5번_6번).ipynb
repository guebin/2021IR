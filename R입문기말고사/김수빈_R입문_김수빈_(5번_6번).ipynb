{
  "cells": [
    {
      "cell_type": "markdown",
      "id": "cd0b452a-d6b0-4bb5-945a-f88ef93a7f89",
      "metadata": {
        "tags": [],
        "id": "cd0b452a-d6b0-4bb5-945a-f88ef93a7f89"
      },
      "source": [
        "# 2021년 1학기 R입문 기말고사 (ver 1.00)\n",
        "\n",
        "- toc:false\n",
        "- branch: master\n",
        "- badges: true\n",
        "- comments: true\n",
        "- author: 최규빈"
      ]
    },
    {
      "cell_type": "code",
      "execution_count": 5,
      "id": "a27abf35-cdef-4797-a470-e479ecad2a93",
      "metadata": {
        "tags": [],
        "id": "a27abf35-cdef-4797-a470-e479ecad2a93"
      },
      "outputs": [],
      "source": [
        "#hide\n",
        "#options(jupyter.rich_display=FALSE)\n",
        "options(repr.plot.width=6,repr.plot.height=6,repr.plot.res=150)\n",
        "options(max.print=1000)"
      ]
    },
    {
      "cell_type": "markdown",
      "id": "0dacb1a1-85b1-4361-88e2-6877d9b8e87d",
      "metadata": {
        "id": "0dacb1a1-85b1-4361-88e2-6877d9b8e87d"
      },
      "source": [
        "**의미가 모호한 문제는 질문할것**\n",
        "\n",
        "**필요한 패키지는 스스로 로드하여 사용할 것** "
      ]
    },
    {
      "cell_type": "markdown",
      "source": [
        "# 1번-4번 rmd/pdf 별도첨부하였음"
      ],
      "metadata": {
        "id": "TXu-D9Lf1MeH"
      },
      "id": "TXu-D9Lf1MeH"
    },
    {
      "cell_type": "markdown",
      "id": "21a0f600-e9bc-4909-b9e8-ca4c2900b20f",
      "metadata": {
        "id": "21a0f600-e9bc-4909-b9e8-ca4c2900b20f"
      },
      "source": [
        "## `1`. 회귀분석 (35점) "
      ]
    },
    {
      "cell_type": "markdown",
      "id": "317e056c-4165-4222-a637-0c6ac78ee201",
      "metadata": {
        "id": "317e056c-4165-4222-a637-0c6ac78ee201"
      },
      "source": [
        "아래와 같은 수식을 고려하자. \n",
        "\n",
        "$$y_i= 1.5+ 5\\sin(t_i)+ 3 \\cos(4 t_i)+\\epsilon_i, \\quad i=1,2,\\dots, 1000$$\n",
        "\n",
        "여기에서 $t_i=\\frac{2\\pi i}{1000}$ 이다. 그리고 $\\epsilon_i \\sim i.i.d~ N(0,1)$, 즉 서로 독립인 표준정규분포에서 추출된 샘플이다. "
      ]
    },
    {
      "cell_type": "markdown",
      "id": "620fd982-09c7-49ee-8faf-926bd5a09dd2",
      "metadata": {
        "id": "620fd982-09c7-49ee-8faf-926bd5a09dd2"
      },
      "source": [
        "#### `(1)` `rnorm()`을 이용하여 $\\{\\epsilon_i \\}_{i=1}^{1000}$ 을 만들고 이를 벡터로 만들어라. 즉 아래와 같은 벡터를 생성하라. \n",
        "\n",
        "- $\\boldsymbol{\\epsilon}=(\\epsilon_1,\\dots,\\epsilon_{1000})$"
      ]
    },
    {
      "cell_type": "markdown",
      "id": "dd52f507-e2b6-4f65-a06c-2ee05620db5a",
      "metadata": {
        "id": "dd52f507-e2b6-4f65-a06c-2ee05620db5a"
      },
      "source": [
        "#### `(2)` $\\big\\{\\sin(t_i) \\big\\}_{i=1}^{1000}$와 $\\big\\{\\cos(4t_i) \\big\\}_{i=1}^{1000}$를 각각 생성하고 이를 ${\\bf x}_1$와 ${\\bf x}_2$에 저장하라. 즉 아래와 같은 2개의 벡터를 생성하라. \n",
        "- ${\\bf x}_1=\\big(\\sin(\\frac{2\\pi}{1000}),\\sin(\\frac{4\\pi}{1000}),\\dots,\\sin(2\\pi)\\big)$\n",
        "- ${\\bf x}_2=\\big(\\cos(\\frac{8\\pi}{1000}),\\cos(\\frac{16\\pi}{1000}),\\dots,\\cos(8\\pi)\\big)$"
      ]
    },
    {
      "cell_type": "markdown",
      "id": "a04cf768-c251-49b2-b75c-227703917abc",
      "metadata": {
        "id": "a04cf768-c251-49b2-b75c-227703917abc"
      },
      "source": [
        "#### `(3)` (1),(2)로 부터 $y_i$를 계산하고, $(t_i,y_i)$를 scatter plot으로 시각화 하라. 색은 'gray60'을 사용하라. 시각화 예시는 아래와 같다. "
      ]
    },
    {
      "cell_type": "markdown",
      "id": "fb516585-3317-43ac-80d2-867a5953e203",
      "metadata": {
        "id": "fb516585-3317-43ac-80d2-867a5953e203"
      },
      "source": [
        "![](https://github.com/guebin/2021IR/blob/master/_notebooks/final_fig1.png?raw=true)"
      ]
    },
    {
      "cell_type": "markdown",
      "id": "2aa97a6f-5be5-4dab-9ffd-cb05cafa1057",
      "metadata": {
        "id": "2aa97a6f-5be5-4dab-9ffd-cb05cafa1057"
      },
      "source": [
        "#### `(4)` 두 벡터 ${\\bf x}_1$, ${\\bf x}_2$와 `cbind()`를 이용하여 아래와 같은 $1000 \\times 3$ 매트릭스 ${\\bf X}$를 만들어라. "
      ]
    },
    {
      "cell_type": "markdown",
      "id": "1a7a9102-3f73-495b-9232-38d1a6a5d979",
      "metadata": {
        "id": "1a7a9102-3f73-495b-9232-38d1a6a5d979"
      },
      "source": [
        "$${\\bf X}=\\begin{bmatrix}\n",
        "1 & \\sin(\\frac{2\\pi}{1000}) & \\cos(\\frac{8\\pi}{1000})\\\\ \n",
        "1 & \\sin(\\frac{4\\pi}{1000}) & \\cos(\\frac{16\\pi}{1000})\\\\ \n",
        "\\dots & \\dots  & \\dots \\\\ \n",
        "1 & \\sin(2\\pi) & \\cos(8\\pi)\\\\ \n",
        "\\end{bmatrix} $$ "
      ]
    },
    {
      "cell_type": "markdown",
      "id": "d09a138b-47fe-479b-a04e-3043d2c3ba86",
      "metadata": {
        "id": "d09a138b-47fe-479b-a04e-3043d2c3ba86"
      },
      "source": [
        "#### `(5)` $3 \\times 1$ 매트릭스 $\\boldsymbol{\\beta}=\\begin{bmatrix} 1.5 \\\\ 5 \\\\ 3 \\end{bmatrix}$를 만들고 매트릭스 곱을 이용하여 ${\\bf X} {\\boldsymbol \\beta}$를 계산하라. 계산결과를 벡터화하고 (3)의 $y$축에 붉은선으로 시각화 하라. 시각화 예시는 아래와 같다. (필요하다면 적절하게 선의 굵기를 조정할 것) "
      ]
    },
    {
      "cell_type": "markdown",
      "id": "99111d0a-5dbc-42db-81f5-b216f9f907db",
      "metadata": {
        "id": "99111d0a-5dbc-42db-81f5-b216f9f907db"
      },
      "source": [
        "![](https://github.com/guebin/2021IR/blob/master/_notebooks/final_fig2.png?raw=true)"
      ]
    },
    {
      "cell_type": "markdown",
      "id": "bd53c3f9-ec49-413b-93fc-4b30c9cf6081",
      "metadata": {
        "tags": [],
        "id": "bd53c3f9-ec49-413b-93fc-4b30c9cf6081"
      },
      "source": [
        "#### `(6)` 아래의 수식을 이용하여 $\\boldsymbol{\\hat\\beta}$를 계산하고 계산결과를 $\\boldsymbol{\\beta}$와 비교하라. \n",
        "\n",
        "$$ \\boldsymbol{\\hat\\beta} = ({\\bf X}^\\top {\\bf X})^{-1}{\\bf X}^\\top {\\bf y}$$ "
      ]
    },
    {
      "cell_type": "markdown",
      "id": "eacf1fac-403a-49d0-961a-8275b1446a60",
      "metadata": {
        "id": "eacf1fac-403a-49d0-961a-8275b1446a60"
      },
      "source": [
        "여기에서 ${\\bf X}$와 ${\\bf y}$는 각각 아래와 같다. \n",
        "\n",
        "- ${\\bf X}=\\begin{bmatrix}\n",
        "1 & \\sin(\\frac{2\\pi}{1000}) & \\cos(\\frac{8\\pi}{1000})\\\\ \n",
        "1 & \\sin(\\frac{8\\pi}{1000}) & \\cos(\\frac{16\\pi}{1000})\\\\ \n",
        "\\dots & \\dots  & \\dots \\\\ \n",
        "1 & \\sin(2\\pi) & \\cos(8\\pi)\\\\ \n",
        "\\end{bmatrix}$,  $\\quad {\\bf y}=\\begin{bmatrix} y_1\\\\ y_2\\\\ \\dots \\\\ y_{1000}\\\\ \\end{bmatrix}$"
      ]
    },
    {
      "cell_type": "markdown",
      "id": "5c9c3816-5af7-46f2-9680-b0e97e729789",
      "metadata": {
        "id": "5c9c3816-5af7-46f2-9680-b0e97e729789"
      },
      "source": [
        "또한 ${\\bf X}^\\top$는 ${\\bf X}$의 전치행렬(transpose) 그리고 $({\\bf X}^\\top {\\bf X})^{-1}$은 ${\\bf X}^\\top {\\bf X}$의 역행렬을 의미한다. "
      ]
    },
    {
      "cell_type": "markdown",
      "id": "8f836f58-cb7d-4b0e-9e6c-612030446856",
      "metadata": {
        "id": "8f836f58-cb7d-4b0e-9e6c-612030446856"
      },
      "source": [
        "#### `(7)` ${\\bf X}\\boldsymbol{\\hat\\beta}$를 계산하라. 계산결과를 벡터화 하고 (5)의 시각화 결과에 푸른점선으로 시각화 하라. 시각화 예시는 아래와 같다. (필요하다면 적절하게 선의 굵기를 조정할 것) "
      ]
    },
    {
      "cell_type": "markdown",
      "id": "e2bdb6c4-fa29-4f07-8c50-5531fc325059",
      "metadata": {
        "id": "e2bdb6c4-fa29-4f07-8c50-5531fc325059"
      },
      "source": [
        "![](https://github.com/guebin/2021IR/blob/master/_notebooks/final_fig3.png?raw=true)"
      ]
    },
    {
      "cell_type": "markdown",
      "id": "743acaff-fba8-4bdd-83a0-9bff1bd4805c",
      "metadata": {
        "id": "743acaff-fba8-4bdd-83a0-9bff1bd4805c"
      },
      "source": [
        "## `2`. 몬테카를로 적분 (10점)\n",
        "\n",
        "#### `(1)` $\\int_{-1.96}^{1.96}\\frac{1}{\\sqrt{2\\pi}}e^{-\\frac{1}{2}x^2}dx$의 값을 `runif()`를 이용한 몬테카를로 적분으로 계산하라. "
      ]
    },
    {
      "cell_type": "markdown",
      "id": "feb55d2e-1824-4ada-b0fc-a2c5e934c5c1",
      "metadata": {
        "tags": [],
        "id": "feb55d2e-1824-4ada-b0fc-a2c5e934c5c1"
      },
      "source": [
        "#### `(2)` `rnorm()`을 이용하여 표준정규분포에서 1000개의 확률변수를 생성하고 생성된 확률변수들 중 구간 $(-1.96 , 1.96)$사이에 있는 확률변수를 count하라. "
      ]
    },
    {
      "cell_type": "markdown",
      "id": "b37287d2-025e-4aaa-bb88-435403610185",
      "metadata": {
        "id": "b37287d2-025e-4aaa-bb88-435403610185"
      },
      "source": [
        "## `3`. 징검다리 (10점)"
      ]
    },
    {
      "cell_type": "markdown",
      "id": "e0280e4f-623f-4e31-a524-fe8dd78b33b1",
      "metadata": {
        "id": "e0280e4f-623f-4e31-a524-fe8dd78b33b1"
      },
      "source": [
        "10명의 참가자가 (유리,강화유리)의 쌍으로 이루어진 징검다리를 건너는 게임을 시작한다. (유리,강화유리)의 쌍은 총 20개 있다. 따라서 유리는 총 40장이 있다. 참가자는 강화유리로 된 징검다리를 밟으면 살아남지만 유리로 된 징검다리를 밟으면 죽는다. 10명의 참가자의 특징은 아래와 같다. \n",
        "\n",
        "- 1번~8번 참가자, 10번 참가자: 50퍼센트의 확률로 강화유리를 고를 수 있다. \n",
        "- 9번 참가자: 95퍼센트의 확률로 강화유리를 고를 수 있다. \n",
        "\n",
        "다리를 건너는 순서는 아래와 같이 번호의 오름차순으로 건너는 방법과 번호의 내림차순으로 건너는 2가지 방법이 있다고 하자. \n",
        "\n",
        "- Type A: 10번 참가자부터 다리를 건너고 그 뒤로 9번, 8번, ... 1번 순으로 다리를 건넌다. \n",
        "- Type B: 1번 참가자부터 다리를 건너고 그 뒤로 2번, 3번, ... 10번 순으로 다리를 건넌다. \n",
        "\n",
        "8번 참가자는 Type A 와 Type B 중 어떠한 경우에 살아남을 확률이 높은가? "
      ]
    },
    {
      "cell_type": "markdown",
      "id": "73fcbaef-2059-453e-95f5-3b7084b07bc5",
      "metadata": {
        "id": "73fcbaef-2059-453e-95f5-3b7084b07bc5"
      },
      "source": [
        "## `4`. COVID19 (15점)"
      ]
    },
    {
      "cell_type": "markdown",
      "id": "dd6dcd9d-22f0-46cb-96ea-6f4f1705b749",
      "metadata": {
        "id": "dd6dcd9d-22f0-46cb-96ea-6f4f1705b749"
      },
      "source": [
        "아래는 한국의 코로나확진자 발생수를 tibble로 불러오는 코드와 그 결과이다. "
      ]
    },
    {
      "cell_type": "code",
      "execution_count": 6,
      "id": "a9beee8e-2bbc-452d-919e-2d225c1f0777",
      "metadata": {
        "colab": {
          "base_uri": "https://localhost:8080/",
          "height": 286
        },
        "id": "a9beee8e-2bbc-452d-919e-2d225c1f0777",
        "outputId": "4966fb50-416a-41a0-a72f-57f4e6ff3868"
      },
      "outputs": [
        {
          "output_type": "display_data",
          "data": {
            "text/plain": [
              "  year month day prov cases\n",
              "1 2020 1     20  서울 0    \n",
              "2 2020 1     20  부산 0    \n",
              "3 2020 1     20  대구 0    \n",
              "4 2020 1     20  인천 1    \n",
              "5 2020 1     20  광주 0    \n",
              "6 2020 1     20  대전 0    "
            ],
            "text/latex": "A data.frame: 6 × 5\n\\begin{tabular}{r|lllll}\n  & year & month & day & prov & cases\\\\\n  & <int> & <int> & <int> & <chr> & <int>\\\\\n\\hline\n\t1 & 2020 & 1 & 20 & 서울 & 0\\\\\n\t2 & 2020 & 1 & 20 & 부산 & 0\\\\\n\t3 & 2020 & 1 & 20 & 대구 & 0\\\\\n\t4 & 2020 & 1 & 20 & 인천 & 1\\\\\n\t5 & 2020 & 1 & 20 & 광주 & 0\\\\\n\t6 & 2020 & 1 & 20 & 대전 & 0\\\\\n\\end{tabular}\n",
            "text/markdown": "\nA data.frame: 6 × 5\n\n| <!--/--> | year &lt;int&gt; | month &lt;int&gt; | day &lt;int&gt; | prov &lt;chr&gt; | cases &lt;int&gt; |\n|---|---|---|---|---|---|\n| 1 | 2020 | 1 | 20 | 서울 | 0 |\n| 2 | 2020 | 1 | 20 | 부산 | 0 |\n| 3 | 2020 | 1 | 20 | 대구 | 0 |\n| 4 | 2020 | 1 | 20 | 인천 | 1 |\n| 5 | 2020 | 1 | 20 | 광주 | 0 |\n| 6 | 2020 | 1 | 20 | 대전 | 0 |\n\n",
            "text/html": [
              "<table class=\"dataframe\">\n",
              "<caption>A data.frame: 6 × 5</caption>\n",
              "<thead>\n",
              "\t<tr><th></th><th scope=col>year</th><th scope=col>month</th><th scope=col>day</th><th scope=col>prov</th><th scope=col>cases</th></tr>\n",
              "\t<tr><th></th><th scope=col>&lt;int&gt;</th><th scope=col>&lt;int&gt;</th><th scope=col>&lt;int&gt;</th><th scope=col>&lt;chr&gt;</th><th scope=col>&lt;int&gt;</th></tr>\n",
              "</thead>\n",
              "<tbody>\n",
              "\t<tr><th scope=row>1</th><td>2020</td><td>1</td><td>20</td><td>서울</td><td>0</td></tr>\n",
              "\t<tr><th scope=row>2</th><td>2020</td><td>1</td><td>20</td><td>부산</td><td>0</td></tr>\n",
              "\t<tr><th scope=row>3</th><td>2020</td><td>1</td><td>20</td><td>대구</td><td>0</td></tr>\n",
              "\t<tr><th scope=row>4</th><td>2020</td><td>1</td><td>20</td><td>인천</td><td>1</td></tr>\n",
              "\t<tr><th scope=row>5</th><td>2020</td><td>1</td><td>20</td><td>광주</td><td>0</td></tr>\n",
              "\t<tr><th scope=row>6</th><td>2020</td><td>1</td><td>20</td><td>대전</td><td>0</td></tr>\n",
              "</tbody>\n",
              "</table>\n"
            ]
          },
          "metadata": {}
        }
      ],
      "source": [
        "df=read.csv('https://raw.githubusercontent.com/guebin/2021IR/master/_notebooks/covid19.csv')\n",
        "head(df)"
      ]
    },
    {
      "cell_type": "markdown",
      "id": "d0e96a57-a0a1-4be6-9743-78bb9007e0bf",
      "metadata": {
        "jp-MarkdownHeadingCollapsed": true,
        "tags": [],
        "id": "d0e96a57-a0a1-4be6-9743-78bb9007e0bf"
      },
      "source": [
        "#### `(1)` 2020년의 확진자(cases)총합과 2021년의 확진자(cases)총합을 구하라. "
      ]
    },
    {
      "cell_type": "markdown",
      "id": "709adf3e-9747-49ab-a28d-6bc014195e29",
      "metadata": {
        "tags": [],
        "id": "709adf3e-9747-49ab-a28d-6bc014195e29"
      },
      "source": [
        "#### `(2)` 2020년 2월1일 ~ 2020년 2월15일까지의 기간동안 확진자의 합을 지역별로 나누어 구하라 (아래예시 참고). 가장 많은 확진자가 발견된 지역은 어디인가? "
      ]
    },
    {
      "cell_type": "markdown",
      "id": "9eabba75-e486-439b-aa24-c7bc95e19112",
      "metadata": {
        "id": "9eabba75-e486-439b-aa24-c7bc95e19112"
      },
      "source": [
        "즉 아래를 각각 계산하고 2020년 2월1일 ~ 2020년 2월15일 기간동안 발생한 확진자의 합이 가장 큰 지역을 찾으면 된다. \n",
        "\n",
        "- 2020년2월1일 ~ 2020년2월15일 기간 서울에서 발생한 확진자의 합 = 2020년2월1일 서울에서 발생한 확진자수 + ... + 2020년2월15일 서울에서 발생한 확진자수\n",
        "- ...\n",
        "- 2020년2월1일 ~ 2020년2월15일 기간 제주에서 발생한 확진자의 합 = 2020년2월1일 제주에서 발생한 확진자수 + ... + 2020년2월15일 제주에서 발생한 확진자수"
      ]
    },
    {
      "cell_type": "markdown",
      "id": "ed5aa778-7796-4ae6-815e-dbbbe25a0dbe",
      "metadata": {
        "id": "ed5aa778-7796-4ae6-815e-dbbbe25a0dbe"
      },
      "source": [
        "#### `(3)` 2020년 2월16일 ~ 2020년 2월29일까지의 기간동안 확진자의 총합을 지역별로 나누어 구하라 (아래예시 참고). 가장 많은 확진자가 발견된 지역은 어디인가?"
      ]
    },
    {
      "cell_type": "markdown",
      "id": "f0598204-3b09-4b3f-a875-0679c29d74e7",
      "metadata": {
        "id": "f0598204-3b09-4b3f-a875-0679c29d74e7"
      },
      "source": [
        "즉 아래를 각각 계산하고 2020년 2월16일 ~ 2020년 2월29일 기간동안 발생한 확진자의 합이 가장 큰 지역을 찾으면 된다. \n",
        "\n",
        "- 2020년2월16일 ~ 2020년2월29일 기간 서울에서 발생한 확진자의 합 = 2020년2월16일 서울에서 발생한 확진자수 + ... + 2020년2월29일 서울에서 발생한 확진자수\n",
        "- ...\n",
        "- 2020년2월16일 ~ 2020년2월29일 기간 제주에서 발생한 확진자의 합 = 2020년2월16일 제주에서 발생한 확진자수 + ... + 2020년2월29일 제주에서 발생한 확진자수"
      ]
    },
    {
      "cell_type": "markdown",
      "source": [
        "# 5번-6번"
      ],
      "metadata": {
        "id": "Ij8thAOm1R2X"
      },
      "id": "Ij8thAOm1R2X"
    },
    {
      "cell_type": "markdown",
      "id": "224b4143-8f5b-43aa-a723-84187e7cfa37",
      "metadata": {
        "id": "224b4143-8f5b-43aa-a723-84187e7cfa37"
      },
      "source": [
        "## `5`. 다음을 잘 읽고 물음에 답하라. (10점)"
      ]
    },
    {
      "cell_type": "markdown",
      "id": "60833008-ae1c-4a00-b6bc-70cb3ee831f6",
      "metadata": {
        "jp-MarkdownHeadingCollapsed": true,
        "tags": [],
        "id": "60833008-ae1c-4a00-b6bc-70cb3ee831f6"
      },
      "source": [
        "#### `(1)` cumprod 함수를 이용하여 $7!=7\\times 6 \\times 5 \\times \\dots \\times 1$을 계산하라. "
      ]
    },
    {
      "cell_type": "code",
      "source": [
        "x=c(1:7)\n",
        "x"
      ],
      "metadata": {
        "colab": {
          "base_uri": "https://localhost:8080/",
          "height": 35
        },
        "id": "ScbxCVOb1aeA",
        "outputId": "a57ededb-9a41-4af4-9a12-96c76f13ce78"
      },
      "id": "ScbxCVOb1aeA",
      "execution_count": 11,
      "outputs": [
        {
          "output_type": "display_data",
          "data": {
            "text/plain": [
              "[1] 1 2 3 4 5 6 7"
            ],
            "text/latex": "\\begin{enumerate*}\n\\item 1\n\\item 2\n\\item 3\n\\item 4\n\\item 5\n\\item 6\n\\item 7\n\\end{enumerate*}\n",
            "text/markdown": "1. 1\n2. 2\n3. 3\n4. 4\n5. 5\n6. 6\n7. 7\n\n\n",
            "text/html": [
              "<style>\n",
              ".list-inline {list-style: none; margin:0; padding: 0}\n",
              ".list-inline>li {display: inline-block}\n",
              ".list-inline>li:not(:last-child)::after {content: \"\\00b7\"; padding: 0 .5ex}\n",
              "</style>\n",
              "<ol class=list-inline><li>1</li><li>2</li><li>3</li><li>4</li><li>5</li><li>6</li><li>7</li></ol>\n"
            ]
          },
          "metadata": {}
        }
      ]
    },
    {
      "cell_type": "code",
      "source": [
        "cumprod(x)"
      ],
      "metadata": {
        "colab": {
          "base_uri": "https://localhost:8080/",
          "height": 35
        },
        "id": "hVhv2h7c1yGS",
        "outputId": "13e989c3-20cf-435d-e84d-5ce491172d1c"
      },
      "id": "hVhv2h7c1yGS",
      "execution_count": 13,
      "outputs": [
        {
          "output_type": "display_data",
          "data": {
            "text/plain": [
              "[1]    1    2    6   24  120  720 5040"
            ],
            "text/latex": "\\begin{enumerate*}\n\\item 1\n\\item 2\n\\item 6\n\\item 24\n\\item 120\n\\item 720\n\\item 5040\n\\end{enumerate*}\n",
            "text/markdown": "1. 1\n2. 2\n3. 6\n4. 24\n5. 120\n6. 720\n7. 5040\n\n\n",
            "text/html": [
              "<style>\n",
              ".list-inline {list-style: none; margin:0; padding: 0}\n",
              ".list-inline>li {display: inline-block}\n",
              ".list-inline>li:not(:last-child)::after {content: \"\\00b7\"; padding: 0 .5ex}\n",
              "</style>\n",
              "<ol class=list-inline><li>1</li><li>2</li><li>6</li><li>24</li><li>120</li><li>720</li><li>5040</li></ol>\n"
            ]
          },
          "metadata": {}
        }
      ]
    },
    {
      "cell_type": "markdown",
      "id": "c78c6221-b283-43c7-a126-5dec505c68ec",
      "metadata": {
        "id": "c78c6221-b283-43c7-a126-5dec505c68ec"
      },
      "source": [
        "#### `(2)` $\\sum_{n=0}^{\\infty}\\frac{n}{n!}$의 값을 근사적으로 계산하라. 계산결과를 exp(1)과 비교하라. "
      ]
    },
    {
      "cell_type": "code",
      "source": [
        "exp(1)"
      ],
      "metadata": {
        "colab": {
          "base_uri": "https://localhost:8080/",
          "height": 35
        },
        "id": "EhCA8NXX2ExD",
        "outputId": "eb6bcbd3-acbd-4fef-c79b-2a3e20754120"
      },
      "id": "EhCA8NXX2ExD",
      "execution_count": 15,
      "outputs": [
        {
          "output_type": "display_data",
          "data": {
            "text/plain": [
              "[1] 2.718282"
            ],
            "text/latex": "2.71828182845905",
            "text/markdown": "2.71828182845905",
            "text/html": [
              "2.71828182845905"
            ]
          },
          "metadata": {}
        }
      ]
    },
    {
      "cell_type": "code",
      "source": [
        ""
      ],
      "metadata": {
        "colab": {
          "base_uri": "https://localhost:8080/",
          "height": 35
        },
        "id": "zYS8GNjs2Qct",
        "outputId": "056939e2-4a25-413d-8b2f-3686ae6ce165"
      },
      "id": "zYS8GNjs2Qct",
      "execution_count": 19,
      "outputs": [
        {
          "output_type": "display_data",
          "data": {
            "text/plain": [
              "[1] 1000"
            ],
            "text/latex": "1000",
            "text/markdown": "1000",
            "text/html": [
              "1000"
            ]
          },
          "metadata": {}
        }
      ]
    },
    {
      "cell_type": "markdown",
      "id": "fb37132c-7ead-474c-8da8-6d27e33b0b0a",
      "metadata": {
        "tags": [],
        "id": "fb37132c-7ead-474c-8da8-6d27e33b0b0a"
      },
      "source": [
        "#### `(3)` 표준정규분포에서 1000개의 난수를 생성발생시킨 뒤 0보다 큰 수를 세어보라. "
      ]
    },
    {
      "cell_type": "code",
      "source": [
        "x<-rnorm(n=1000,mean=0,sd=1)"
      ],
      "metadata": {
        "id": "OX83naxv27X1"
      },
      "id": "OX83naxv27X1",
      "execution_count": 23,
      "outputs": []
    },
    {
      "cell_type": "code",
      "source": [
        "sum(x>0)"
      ],
      "metadata": {
        "colab": {
          "base_uri": "https://localhost:8080/",
          "height": 35
        },
        "id": "sP9Vw5on29HS",
        "outputId": "e59f299e-3630-406c-fedb-a6ce9e8ef90b"
      },
      "id": "sP9Vw5on29HS",
      "execution_count": 24,
      "outputs": [
        {
          "output_type": "display_data",
          "data": {
            "text/plain": [
              "[1] 473"
            ],
            "text/latex": "473",
            "text/markdown": "473",
            "text/html": [
              "473"
            ]
          },
          "metadata": {}
        }
      ]
    },
    {
      "cell_type": "markdown",
      "id": "cb8ae7c8-4aec-4538-a305-67626417b60a",
      "metadata": {
        "id": "cb8ae7c8-4aec-4538-a305-67626417b60a"
      },
      "source": [
        "#### `(4)` $p=0.2$인 베르누이분포에서 1000개의 난수를 만들면 1이 몇개정도 포함되는가? 시뮬레이션을 통하여 검증하라."
      ]
    },
    {
      "cell_type": "code",
      "source": [
        "q<-rbinom(1000,size=1,prob=0.2)\n",
        "sum(q==1)"
      ],
      "metadata": {
        "colab": {
          "base_uri": "https://localhost:8080/",
          "height": 35
        },
        "id": "6C_NhOhr3nfa",
        "outputId": "838ffe30-a9c8-41c2-f59a-38d5becdbaee"
      },
      "id": "6C_NhOhr3nfa",
      "execution_count": 28,
      "outputs": [
        {
          "output_type": "display_data",
          "data": {
            "text/plain": [
              "[1] 192"
            ],
            "text/latex": "192",
            "text/markdown": "192",
            "text/html": [
              "192"
            ]
          },
          "metadata": {}
        }
      ]
    },
    {
      "cell_type": "markdown",
      "id": "e416ebdb-1db2-44ae-8c06-ab2c9033fea7",
      "metadata": {
        "id": "e416ebdb-1db2-44ae-8c06-ab2c9033fea7"
      },
      "source": [
        "#### `(5)` 아래는 표준정규분포, 즉 평균이 0이고 표준편차가 1인 정규분포에서 1000개의 난수를 생성하여 $x$라는 변수에 저장한뒤 $x$의 히스토그램을 그린 예시이다. 아래의 예시를 이용하여 평균이 1이고 표준편차가 1인 정규분포에서 5000개의 난수를 생성한뒤 $y$에 저장하고 $y$의 히스토그램을 그려라. 시각화 예시는 아래와 같다. "
      ]
    },
    {
      "cell_type": "code",
      "execution_count": 8,
      "id": "9b5dfb2d-3b2a-4769-bf1c-bdedc5536625",
      "metadata": {
        "colab": {
          "base_uri": "https://localhost:8080/",
          "height": 467
        },
        "id": "9b5dfb2d-3b2a-4769-bf1c-bdedc5536625",
        "outputId": "98a7a86c-db23-4a90-b373-28ea22c065e8"
      },
      "outputs": [
        {
          "output_type": "display_data",
          "data": {
            "image/png": "[encoded data removed]",
            "text/plain": [
              "Plot with title “Histogram of x”"
            ]
          },
          "metadata": {
            "image/png": {
              "width": 450,
              "height": 450
            }
          }
        }
      ],
      "source": [
        "x=rnorm(1000)\n",
        "hist(x)"
      ]
    },
    {
      "cell_type": "code",
      "source": [
        "y<-rnorm(n=5000,mean=1,sd=1)\n",
        "hist(y)"
      ],
      "metadata": {
        "colab": {
          "base_uri": "https://localhost:8080/",
          "height": 467
        },
        "id": "B8TAYCi-4EOi",
        "outputId": "70fa31fa-5ded-4835-db4e-8032c9c1149a"
      },
      "id": "B8TAYCi-4EOi",
      "execution_count": 29,
      "outputs": [
        {
          "output_type": "display_data",
          "data": {
            "image/png": "[encoded data removed]",
            "text/plain": [
              "Plot with title “Histogram of y”"
            ]
          },
          "metadata": {
            "image/png": {
              "width": 450,
              "height": 450
            }
          }
        }
      ]
    },
    {
      "cell_type": "markdown",
      "id": "2f3df486-8f37-42ed-b142-1371e265d0a4",
      "metadata": {
        "id": "2f3df486-8f37-42ed-b142-1371e265d0a4"
      },
      "source": [
        "#### `(6)` 아래와 같은 벡터 x에서 짝수번째 원소 (즉 x[2],x[4],$\\dots$,x[2000])의 합을 구하는 코드를 작성하라 "
      ]
    },
    {
      "cell_type": "code",
      "execution_count": 34,
      "id": "02dbd2f9-e678-4bbd-b6d2-5358e8a5d67c",
      "metadata": {
        "colab": {
          "base_uri": "https://localhost:8080/",
          "height": 312
        },
        "id": "02dbd2f9-e678-4bbd-b6d2-5358e8a5d67c",
        "outputId": "c75e8ca4-0d87-4daf-b014-f4681dfb9b4e"
      },
      "outputs": [
        {
          "output_type": "display_data",
          "data": {
            "text/plain": [
              "   [1] -1.000 -0.999 -0.998 -0.997 -0.996 -0.995 -0.994 -0.993 -0.992 -0.991\n",
              "  [11] -0.990 -0.989 -0.988 -0.987 -0.986 -0.985 -0.984 -0.983 -0.982 -0.981\n",
              "  [21] -0.980 -0.979 -0.978 -0.977 -0.976 -0.975 -0.974 -0.973 -0.972 -0.971\n",
              "  [31] -0.970 -0.969 -0.968 -0.967 -0.966 -0.965 -0.964 -0.963 -0.962 -0.961\n",
              "  [41] -0.960 -0.959 -0.958 -0.957 -0.956 -0.955 -0.954 -0.953 -0.952 -0.951\n",
              "  [51] -0.950 -0.949 -0.948 -0.947 -0.946 -0.945 -0.944 -0.943 -0.942 -0.941\n",
              "  [61] -0.940 -0.939 -0.938 -0.937 -0.936 -0.935 -0.934 -0.933 -0.932 -0.931\n",
              "  [71] -0.930 -0.929 -0.928 -0.927 -0.926 -0.925 -0.924 -0.923 -0.922 -0.921\n",
              "  [81] -0.920 -0.919 -0.918 -0.917 -0.916 -0.915 -0.914 -0.913 -0.912 -0.911\n",
              "  [91] -0.910 -0.909 -0.908 -0.907 -0.906 -0.905 -0.904 -0.903 -0.902 -0.901\n",
              " [101] -0.900 -0.899 -0.898 -0.897 -0.896 -0.895 -0.894 -0.893 -0.892 -0.891\n",
              " [111] -0.890 -0.889 -0.888 -0.887 -0.886 -0.885 -0.884 -0.883 -0.882 -0.881\n",
              " [121] -0.880 -0.879 -0.878 -0.877 -0.876 -0.875 -0.874 -0.873 -0.872 -0.871\n",
              " [131] -0.870 -0.869 -0.868 -0.867 -0.866 -0.865 -0.864 -0.863 -0.862 -0.861\n",
              " [141] -0.860 -0.859 -0.858 -0.857 -0.856 -0.855 -0.854 -0.853 -0.852 -0.851\n",
              " [151] -0.850 -0.849 -0.848 -0.847 -0.846 -0.845 -0.844 -0.843 -0.842 -0.841\n",
              " [161] -0.840 -0.839 -0.838 -0.837 -0.836 -0.835 -0.834 -0.833 -0.832 -0.831\n",
              " [171] -0.830 -0.829 -0.828 -0.827 -0.826 -0.825 -0.824 -0.823 -0.822 -0.821\n",
              " [181] -0.820 -0.819 -0.818 -0.817 -0.816 -0.815 -0.814 -0.813 -0.812 -0.811\n",
              " [191] -0.810 -0.809 -0.808 -0.807 -0.806 -0.805 -0.804 -0.803 -0.802 -0.801\n",
              " [201] -0.800 -0.799 -0.798 -0.797 -0.796 -0.795 -0.794 -0.793 -0.792 -0.791\n",
              " [211] -0.790 -0.789 -0.788 -0.787 -0.786 -0.785 -0.784 -0.783 -0.782 -0.781\n",
              " [221] -0.780 -0.779 -0.778 -0.777 -0.776 -0.775 -0.774 -0.773 -0.772 -0.771\n",
              " [231] -0.770 -0.769 -0.768 -0.767 -0.766 -0.765 -0.764 -0.763 -0.762 -0.761\n",
              " [241] -0.760 -0.759 -0.758 -0.757 -0.756 -0.755 -0.754 -0.753 -0.752 -0.751\n",
              " [251] -0.750 -0.749 -0.748 -0.747 -0.746 -0.745 -0.744 -0.743 -0.742 -0.741\n",
              " [261] -0.740 -0.739 -0.738 -0.737 -0.736 -0.735 -0.734 -0.733 -0.732 -0.731\n",
              " [271] -0.730 -0.729 -0.728 -0.727 -0.726 -0.725 -0.724 -0.723 -0.722 -0.721\n",
              " [281] -0.720 -0.719 -0.718 -0.717 -0.716 -0.715 -0.714 -0.713 -0.712 -0.711\n",
              " [291] -0.710 -0.709 -0.708 -0.707 -0.706 -0.705 -0.704 -0.703 -0.702 -0.701\n",
              " [301] -0.700 -0.699 -0.698 -0.697 -0.696 -0.695 -0.694 -0.693 -0.692 -0.691\n",
              " [311] -0.690 -0.689 -0.688 -0.687 -0.686 -0.685 -0.684 -0.683 -0.682 -0.681\n",
              " [321] -0.680 -0.679 -0.678 -0.677 -0.676 -0.675 -0.674 -0.673 -0.672 -0.671\n",
              " [331] -0.670 -0.669 -0.668 -0.667 -0.666 -0.665 -0.664 -0.663 -0.662 -0.661\n",
              " [341] -0.660 -0.659 -0.658 -0.657 -0.656 -0.655 -0.654 -0.653 -0.652 -0.651\n",
              " [351] -0.650 -0.649 -0.648 -0.647 -0.646 -0.645 -0.644 -0.643 -0.642 -0.641\n",
              " [361] -0.640 -0.639 -0.638 -0.637 -0.636 -0.635 -0.634 -0.633 -0.632 -0.631\n",
              " [371] -0.630 -0.629 -0.628 -0.627 -0.626 -0.625 -0.624 -0.623 -0.622 -0.621\n",
              " [381] -0.620 -0.619 -0.618 -0.617 -0.616 -0.615 -0.614 -0.613 -0.612 -0.611\n",
              " [391] -0.610 -0.609 -0.608 -0.607 -0.606 -0.605 -0.604 -0.603 -0.602 -0.601\n",
              " [401] -0.600 -0.599 -0.598 -0.597 -0.596 -0.595 -0.594 -0.593 -0.592 -0.591\n",
              " [411] -0.590 -0.589 -0.588 -0.587 -0.586 -0.585 -0.584 -0.583 -0.582 -0.581\n",
              " [421] -0.580 -0.579 -0.578 -0.577 -0.576 -0.575 -0.574 -0.573 -0.572 -0.571\n",
              " [431] -0.570 -0.569 -0.568 -0.567 -0.566 -0.565 -0.564 -0.563 -0.562 -0.561\n",
              " [441] -0.560 -0.559 -0.558 -0.557 -0.556 -0.555 -0.554 -0.553 -0.552 -0.551\n",
              " [451] -0.550 -0.549 -0.548 -0.547 -0.546 -0.545 -0.544 -0.543 -0.542 -0.541\n",
              " [461] -0.540 -0.539 -0.538 -0.537 -0.536 -0.535 -0.534 -0.533 -0.532 -0.531\n",
              " [471] -0.530 -0.529 -0.528 -0.527 -0.526 -0.525 -0.524 -0.523 -0.522 -0.521\n",
              " [481] -0.520 -0.519 -0.518 -0.517 -0.516 -0.515 -0.514 -0.513 -0.512 -0.511\n",
              " [491] -0.510 -0.509 -0.508 -0.507 -0.506 -0.505 -0.504 -0.503 -0.502 -0.501\n",
              " [501] -0.500 -0.499 -0.498 -0.497 -0.496 -0.495 -0.494 -0.493 -0.492 -0.491\n",
              " [511] -0.490 -0.489 -0.488 -0.487 -0.486 -0.485 -0.484 -0.483 -0.482 -0.481\n",
              " [521] -0.480 -0.479 -0.478 -0.477 -0.476 -0.475 -0.474 -0.473 -0.472 -0.471\n",
              " [531] -0.470 -0.469 -0.468 -0.467 -0.466 -0.465 -0.464 -0.463 -0.462 -0.461\n",
              " [541] -0.460 -0.459 -0.458 -0.457 -0.456 -0.455 -0.454 -0.453 -0.452 -0.451\n",
              " [551] -0.450 -0.449 -0.448 -0.447 -0.446 -0.445 -0.444 -0.443 -0.442 -0.441\n",
              " [561] -0.440 -0.439 -0.438 -0.437 -0.436 -0.435 -0.434 -0.433 -0.432 -0.431\n",
              " [571] -0.430 -0.429 -0.428 -0.427 -0.426 -0.425 -0.424 -0.423 -0.422 -0.421\n",
              " [581] -0.420 -0.419 -0.418 -0.417 -0.416 -0.415 -0.414 -0.413 -0.412 -0.411\n",
              " [591] -0.410 -0.409 -0.408 -0.407 -0.406 -0.405 -0.404 -0.403 -0.402 -0.401\n",
              " [601] -0.400 -0.399 -0.398 -0.397 -0.396 -0.395 -0.394 -0.393 -0.392 -0.391\n",
              " [611] -0.390 -0.389 -0.388 -0.387 -0.386 -0.385 -0.384 -0.383 -0.382 -0.381\n",
              " [621] -0.380 -0.379 -0.378 -0.377 -0.376 -0.375 -0.374 -0.373 -0.372 -0.371\n",
              " [631] -0.370 -0.369 -0.368 -0.367 -0.366 -0.365 -0.364 -0.363 -0.362 -0.361\n",
              " [641] -0.360 -0.359 -0.358 -0.357 -0.356 -0.355 -0.354 -0.353 -0.352 -0.351\n",
              " [651] -0.350 -0.349 -0.348 -0.347 -0.346 -0.345 -0.344 -0.343 -0.342 -0.341\n",
              " [661] -0.340 -0.339 -0.338 -0.337 -0.336 -0.335 -0.334 -0.333 -0.332 -0.331\n",
              " [671] -0.330 -0.329 -0.328 -0.327 -0.326 -0.325 -0.324 -0.323 -0.322 -0.321\n",
              " [681] -0.320 -0.319 -0.318 -0.317 -0.316 -0.315 -0.314 -0.313 -0.312 -0.311\n",
              " [691] -0.310 -0.309 -0.308 -0.307 -0.306 -0.305 -0.304 -0.303 -0.302 -0.301\n",
              " [701] -0.300 -0.299 -0.298 -0.297 -0.296 -0.295 -0.294 -0.293 -0.292 -0.291\n",
              " [711] -0.290 -0.289 -0.288 -0.287 -0.286 -0.285 -0.284 -0.283 -0.282 -0.281\n",
              " [721] -0.280 -0.279 -0.278 -0.277 -0.276 -0.275 -0.274 -0.273 -0.272 -0.271\n",
              " [731] -0.270 -0.269 -0.268 -0.267 -0.266 -0.265 -0.264 -0.263 -0.262 -0.261\n",
              " [741] -0.260 -0.259 -0.258 -0.257 -0.256 -0.255 -0.254 -0.253 -0.252 -0.251\n",
              " [751] -0.250 -0.249 -0.248 -0.247 -0.246 -0.245 -0.244 -0.243 -0.242 -0.241\n",
              " [761] -0.240 -0.239 -0.238 -0.237 -0.236 -0.235 -0.234 -0.233 -0.232 -0.231\n",
              " [771] -0.230 -0.229 -0.228 -0.227 -0.226 -0.225 -0.224 -0.223 -0.222 -0.221\n",
              " [781] -0.220 -0.219 -0.218 -0.217 -0.216 -0.215 -0.214 -0.213 -0.212 -0.211\n",
              " [791] -0.210 -0.209 -0.208 -0.207 -0.206 -0.205 -0.204 -0.203 -0.202 -0.201\n",
              " [801] -0.200 -0.199 -0.198 -0.197 -0.196 -0.195 -0.194 -0.193 -0.192 -0.191\n",
              " [811] -0.190 -0.189 -0.188 -0.187 -0.186 -0.185 -0.184 -0.183 -0.182 -0.181\n",
              " [821] -0.180 -0.179 -0.178 -0.177 -0.176 -0.175 -0.174 -0.173 -0.172 -0.171\n",
              " [831] -0.170 -0.169 -0.168 -0.167 -0.166 -0.165 -0.164 -0.163 -0.162 -0.161\n",
              " [841] -0.160 -0.159 -0.158 -0.157 -0.156 -0.155 -0.154 -0.153 -0.152 -0.151\n",
              " [851] -0.150 -0.149 -0.148 -0.147 -0.146 -0.145 -0.144 -0.143 -0.142 -0.141\n",
              " [861] -0.140 -0.139 -0.138 -0.137 -0.136 -0.135 -0.134 -0.133 -0.132 -0.131\n",
              " [871] -0.130 -0.129 -0.128 -0.127 -0.126 -0.125 -0.124 -0.123 -0.122 -0.121\n",
              " [881] -0.120 -0.119 -0.118 -0.117 -0.116 -0.115 -0.114 -0.113 -0.112 -0.111\n",
              " [891] -0.110 -0.109 -0.108 -0.107 -0.106 -0.105 -0.104 -0.103 -0.102 -0.101\n",
              " [901] -0.100 -0.099 -0.098 -0.097 -0.096 -0.095 -0.094 -0.093 -0.092 -0.091\n",
              " [911] -0.090 -0.089 -0.088 -0.087 -0.086 -0.085 -0.084 -0.083 -0.082 -0.081\n",
              " [921] -0.080 -0.079 -0.078 -0.077 -0.076 -0.075 -0.074 -0.073 -0.072 -0.071\n",
              " [931] -0.070 -0.069 -0.068 -0.067 -0.066 -0.065 -0.064 -0.063 -0.062 -0.061\n",
              " [941] -0.060 -0.059 -0.058 -0.057 -0.056 -0.055 -0.054 -0.053 -0.052 -0.051\n",
              " [951] -0.050 -0.049 -0.048 -0.047 -0.046 -0.045 -0.044 -0.043 -0.042 -0.041\n",
              " [961] -0.040 -0.039 -0.038 -0.037 -0.036 -0.035 -0.034 -0.033 -0.032 -0.031\n",
              " [971] -0.030 -0.029 -0.028 -0.027 -0.026 -0.025 -0.024 -0.023 -0.022 -0.021\n",
              " [981] -0.020 -0.019 -0.018 -0.017 -0.016 -0.015 -0.014 -0.013 -0.012 -0.011\n",
              " [991] -0.010 -0.009 -0.008 -0.007 -0.006 -0.005 -0.004 -0.003 -0.002 -0.001\n",
              " [ reached getOption(\"max.print\") -- omitted 1001 entries ]"
            ],
            "text/latex": "\\begin{enumerate*}\n\\item -1\n\\item -0.999\n\\item -0.998\n\\item -0.997\n\\item -0.996\n\\item -0.995\n\\item -0.994\n\\item -0.993\n\\item -0.992\n\\item -0.991\n\\item -0.99\n\\item -0.989\n\\item -0.988\n\\item -0.987\n\\item -0.986\n\\item -0.985\n\\item -0.984\n\\item -0.983\n\\item -0.982\n\\item -0.981\n\\item -0.98\n\\item -0.979\n\\item -0.978\n\\item -0.977\n\\item -0.976\n\\item -0.975\n\\item -0.974\n\\item -0.973\n\\item -0.972\n\\item -0.971\n\\item -0.97\n\\item -0.969\n\\item -0.968\n\\item -0.967\n\\item -0.966\n\\item -0.965\n\\item -0.964\n\\item -0.963\n\\item -0.962\n\\item -0.961\n\\item -0.96\n\\item -0.959\n\\item -0.958\n\\item -0.957\n\\item -0.956\n\\item -0.955\n\\item -0.954\n\\item -0.953\n\\item -0.952\n\\item -0.951\n\\item -0.95\n\\item -0.949\n\\item -0.948\n\\item -0.947\n\\item -0.946\n\\item -0.945\n\\item -0.944\n\\item -0.943\n\\item -0.942\n\\item -0.941\n\\item -0.94\n\\item -0.939\n\\item -0.938\n\\item -0.937\n\\item -0.936\n\\item -0.935\n\\item -0.934\n\\item -0.933\n\\item -0.932\n\\item -0.931\n\\item -0.93\n\\item -0.929\n\\item -0.928\n\\item -0.927\n\\item -0.926\n\\item -0.925\n\\item -0.924\n\\item -0.923\n\\item -0.922\n\\item -0.921\n\\item -0.92\n\\item -0.919\n\\item -0.918\n\\item -0.917\n\\item -0.916\n\\item -0.915\n\\item -0.914\n\\item -0.913\n\\item -0.912\n\\item -0.911\n\\item -0.91\n\\item -0.909\n\\item -0.908\n\\item -0.907\n\\item -0.906\n\\item -0.905\n\\item -0.904\n\\item -0.903\n\\item -0.902\n\\item -0.901\n\\item -0.9\n\\item -0.899\n\\item -0.898\n\\item -0.897\n\\item -0.896\n\\item -0.895\n\\item -0.894\n\\item -0.893\n\\item -0.892\n\\item -0.891\n\\item -0.89\n\\item -0.889\n\\item -0.888\n\\item -0.887\n\\item -0.886\n\\item -0.885\n\\item -0.884\n\\item -0.883\n\\item -0.882\n\\item -0.881\n\\item -0.88\n\\item -0.879\n\\item -0.878\n\\item -0.877\n\\item -0.876\n\\item -0.875\n\\item -0.874\n\\item -0.873\n\\item -0.872\n\\item -0.871\n\\item -0.87\n\\item -0.869\n\\item -0.868\n\\item -0.867\n\\item -0.866\n\\item -0.865\n\\item -0.864\n\\item -0.863\n\\item -0.862\n\\item -0.861\n\\item -0.86\n\\item -0.859\n\\item -0.858\n\\item -0.857\n\\item -0.856\n\\item -0.855\n\\item -0.854\n\\item -0.853\n\\item -0.852\n\\item -0.851\n\\item -0.85\n\\item -0.849\n\\item -0.848\n\\item -0.847\n\\item -0.846\n\\item -0.845\n\\item -0.844\n\\item -0.843\n\\item -0.842\n\\item -0.841\n\\item -0.84\n\\item -0.839\n\\item -0.838\n\\item -0.837\n\\item -0.836\n\\item -0.835\n\\item -0.834\n\\item -0.833\n\\item -0.832\n\\item -0.831\n\\item -0.83\n\\item -0.829\n\\item -0.828\n\\item -0.827\n\\item -0.826\n\\item -0.825\n\\item -0.824\n\\item -0.823\n\\item -0.822\n\\item -0.821\n\\item -0.82\n\\item -0.819\n\\item -0.818\n\\item -0.817\n\\item -0.816\n\\item -0.815\n\\item -0.814\n\\item -0.813\n\\item -0.812\n\\item -0.811\n\\item -0.81\n\\item -0.809\n\\item -0.808\n\\item -0.807\n\\item -0.806\n\\item -0.805\n\\item -0.804\n\\item -0.803\n\\item -0.802\n\\item -0.801\n\\item ⋯\n\\item 0.801\n\\item 0.802\n\\item 0.803\n\\item 0.804\n\\item 0.805\n\\item 0.806\n\\item 0.807\n\\item 0.808\n\\item 0.809\n\\item 0.81\n\\item 0.811\n\\item 0.812\n\\item 0.813\n\\item 0.814\n\\item 0.815\n\\item 0.816\n\\item 0.817\n\\item 0.818\n\\item 0.819\n\\item 0.82\n\\item 0.821\n\\item 0.822\n\\item 0.823\n\\item 0.824\n\\item 0.825\n\\item 0.826\n\\item 0.827\n\\item 0.828\n\\item 0.829\n\\item 0.83\n\\item 0.831\n\\item 0.832\n\\item 0.833\n\\item 0.834\n\\item 0.835\n\\item 0.836\n\\item 0.837\n\\item 0.838\n\\item 0.839\n\\item 0.84\n\\item 0.841\n\\item 0.842\n\\item 0.843\n\\item 0.844\n\\item 0.845\n\\item 0.846\n\\item 0.847\n\\item 0.848\n\\item 0.849\n\\item 0.85\n\\item 0.851\n\\item 0.852\n\\item 0.853\n\\item 0.854\n\\item 0.855\n\\item 0.856\n\\item 0.857\n\\item 0.858\n\\item 0.859\n\\item 0.86\n\\item 0.861\n\\item 0.862\n\\item 0.863\n\\item 0.864\n\\item 0.865\n\\item 0.866\n\\item 0.867\n\\item 0.868\n\\item 0.869\n\\item 0.87\n\\item 0.871\n\\item 0.872\n\\item 0.873\n\\item 0.874\n\\item 0.875\n\\item 0.876\n\\item 0.877\n\\item 0.878\n\\item 0.879\n\\item 0.88\n\\item 0.881\n\\item 0.882\n\\item 0.883\n\\item 0.884\n\\item 0.885\n\\item 0.886\n\\item 0.887\n\\item 0.888\n\\item 0.889\n\\item 0.89\n\\item 0.891\n\\item 0.892\n\\item 0.893\n\\item 0.894\n\\item 0.895\n\\item 0.896\n\\item 0.897\n\\item 0.898\n\\item 0.899\n\\item 0.9\n\\item 0.901\n\\item 0.902\n\\item 0.903\n\\item 0.904\n\\item 0.905\n\\item 0.906\n\\item 0.907\n\\item 0.908\n\\item 0.909\n\\item 0.91\n\\item 0.911\n\\item 0.912\n\\item 0.913\n\\item 0.914\n\\item 0.915\n\\item 0.916\n\\item 0.917\n\\item 0.918\n\\item 0.919\n\\item 0.92\n\\item 0.921\n\\item 0.922\n\\item 0.923\n\\item 0.924\n\\item 0.925\n\\item 0.926\n\\item 0.927\n\\item 0.928\n\\item 0.929\n\\item 0.93\n\\item 0.931\n\\item 0.932\n\\item 0.933\n\\item 0.934\n\\item 0.935\n\\item 0.936\n\\item 0.937\n\\item 0.938\n\\item 0.939\n\\item 0.94\n\\item 0.941\n\\item 0.942\n\\item 0.943\n\\item 0.944\n\\item 0.945\n\\item 0.946\n\\item 0.947\n\\item 0.948\n\\item 0.949\n\\item 0.95\n\\item 0.951\n\\item 0.952\n\\item 0.953\n\\item 0.954\n\\item 0.955\n\\item 0.956\n\\item 0.957\n\\item 0.958\n\\item 0.959\n\\item 0.96\n\\item 0.961\n\\item 0.962\n\\item 0.963\n\\item 0.964\n\\item 0.965\n\\item 0.966\n\\item 0.967\n\\item 0.968\n\\item 0.969\n\\item 0.97\n\\item 0.971\n\\item 0.972\n\\item 0.973\n\\item 0.974\n\\item 0.975\n\\item 0.976\n\\item 0.977\n\\item 0.978\n\\item 0.979\n\\item 0.98\n\\item 0.981\n\\item 0.982\n\\item 0.983\n\\item 0.984\n\\item 0.985\n\\item 0.986\n\\item 0.987\n\\item 0.988\n\\item 0.989\n\\item 0.99\n\\item 0.991\n\\item 0.992\n\\item 0.993\n\\item 0.994\n\\item 0.995\n\\item 0.996\n\\item 0.997\n\\item 0.998\n\\item 0.999\n\\item 1\n\\end{enumerate*}\n",
            "text/markdown": "1. -1\n2. -0.999\n3. -0.998\n4. -0.997\n5. -0.996\n6. -0.995\n7. -0.994\n8. -0.993\n9. -0.992\n10. -0.991\n11. -0.99\n12. -0.989\n13. -0.988\n14. -0.987\n15. -0.986\n16. -0.985\n17. -0.984\n18. -0.983\n19. -0.982\n20. -0.981\n21. -0.98\n22. -0.979\n23. -0.978\n24. -0.977\n25. -0.976\n26. -0.975\n27. -0.974\n28. -0.973\n29. -0.972\n30. -0.971\n31. -0.97\n32. -0.969\n33. -0.968\n34. -0.967\n35. -0.966\n36. -0.965\n37. -0.964\n38. -0.963\n39. -0.962\n40. -0.961\n41. -0.96\n42. -0.959\n43. -0.958\n44. -0.957\n45. -0.956\n46. -0.955\n47. -0.954\n48. -0.953\n49. -0.952\n50. -0.951\n51. -0.95\n52. -0.949\n53. -0.948\n54. -0.947\n55. -0.946\n56. -0.945\n57. -0.944\n58. -0.943\n59. -0.942\n60. -0.941\n61. -0.94\n62. -0.939\n63. -0.938\n64. -0.937\n65. -0.936\n66. -0.935\n67. -0.934\n68. -0.933\n69. -0.932\n70. -0.931\n71. -0.93\n72. -0.929\n73. -0.928\n74. -0.927\n75. -0.926\n76. -0.925\n77. -0.924\n78. -0.923\n79. -0.922\n80. -0.921\n81. -0.92\n82. -0.919\n83. -0.918\n84. -0.917\n85. -0.916\n86. -0.915\n87. -0.914\n88. -0.913\n89. -0.912\n90. -0.911\n91. -0.91\n92. -0.909\n93. -0.908\n94. -0.907\n95. -0.906\n96. -0.905\n97. -0.904\n98. -0.903\n99. -0.902\n100. -0.901\n101. -0.9\n102. -0.899\n103. -0.898\n104. -0.897\n105. -0.896\n106. -0.895\n107. -0.894\n108. -0.893\n109. -0.892\n110. -0.891\n111. -0.89\n112. -0.889\n113. -0.888\n114. -0.887\n115. -0.886\n116. -0.885\n117. -0.884\n118. -0.883\n119. -0.882\n120. -0.881\n121. -0.88\n122. -0.879\n123. -0.878\n124. -0.877\n125. -0.876\n126. -0.875\n127. -0.874\n128. -0.873\n129. -0.872\n130. -0.871\n131. -0.87\n132. -0.869\n133. -0.868\n134. -0.867\n135. -0.866\n136. -0.865\n137. -0.864\n138. -0.863\n139. -0.862\n140. -0.861\n141. -0.86\n142. -0.859\n143. -0.858\n144. -0.857\n145. -0.856\n146. -0.855\n147. -0.854\n148. -0.853\n149. -0.852\n150. -0.851\n151. -0.85\n152. -0.849\n153. -0.848\n154. -0.847\n155. -0.846\n156. -0.845\n157. -0.844\n158. -0.843\n159. -0.842\n160. -0.841\n161. -0.84\n162. -0.839\n163. -0.838\n164. -0.837\n165. -0.836\n166. -0.835\n167. -0.834\n168. -0.833\n169. -0.832\n170. -0.831\n171. -0.83\n172. -0.829\n173. -0.828\n174. -0.827\n175. -0.826\n176. -0.825\n177. -0.824\n178. -0.823\n179. -0.822\n180. -0.821\n181. -0.82\n182. -0.819\n183. -0.818\n184. -0.817\n185. -0.816\n186. -0.815\n187. -0.814\n188. -0.813\n189. -0.812\n190. -0.811\n191. -0.81\n192. -0.809\n193. -0.808\n194. -0.807\n195. -0.806\n196. -0.805\n197. -0.804\n198. -0.803\n199. -0.802\n200. -0.801\n201. ⋯\n202. 0.801\n203. 0.802\n204. 0.803\n205. 0.804\n206. 0.805\n207. 0.806\n208. 0.807\n209. 0.808\n210. 0.809\n211. 0.81\n212. 0.811\n213. 0.812\n214. 0.813\n215. 0.814\n216. 0.815\n217. 0.816\n218. 0.817\n219. 0.818\n220. 0.819\n221. 0.82\n222. 0.821\n223. 0.822\n224. 0.823\n225. 0.824\n226. 0.825\n227. 0.826\n228. 0.827\n229. 0.828\n230. 0.829\n231. 0.83\n232. 0.831\n233. 0.832\n234. 0.833\n235. 0.834\n236. 0.835\n237. 0.836\n238. 0.837\n239. 0.838\n240. 0.839\n241. 0.84\n242. 0.841\n243. 0.842\n244. 0.843\n245. 0.844\n246. 0.845\n247. 0.846\n248. 0.847\n249. 0.848\n250. 0.849\n251. 0.85\n252. 0.851\n253. 0.852\n254. 0.853\n255. 0.854\n256. 0.855\n257. 0.856\n258. 0.857\n259. 0.858\n260. 0.859\n261. 0.86\n262. 0.861\n263. 0.862\n264. 0.863\n265. 0.864\n266. 0.865\n267. 0.866\n268. 0.867\n269. 0.868\n270. 0.869\n271. 0.87\n272. 0.871\n273. 0.872\n274. 0.873\n275. 0.874\n276. 0.875\n277. 0.876\n278. 0.877\n279. 0.878\n280. 0.879\n281. 0.88\n282. 0.881\n283. 0.882\n284. 0.883\n285. 0.884\n286. 0.885\n287. 0.886\n288. 0.887\n289. 0.888\n290. 0.889\n291. 0.89\n292. 0.891\n293. 0.892\n294. 0.893\n295. 0.894\n296. 0.895\n297. 0.896\n298. 0.897\n299. 0.898\n300. 0.899\n301. 0.9\n302. 0.901\n303. 0.902\n304. 0.903\n305. 0.904\n306. 0.905\n307. 0.906\n308. 0.907\n309. 0.908\n310. 0.909\n311. 0.91\n312. 0.911\n313. 0.912\n314. 0.913\n315. 0.914\n316. 0.915\n317. 0.916\n318. 0.917\n319. 0.918\n320. 0.919\n321. 0.92\n322. 0.921\n323. 0.922\n324. 0.923\n325. 0.924\n326. 0.925\n327. 0.926\n328. 0.927\n329. 0.928\n330. 0.929\n331. 0.93\n332. 0.931\n333. 0.932\n334. 0.933\n335. 0.934\n336. 0.935\n337. 0.936\n338. 0.937\n339. 0.938\n340. 0.939\n341. 0.94\n342. 0.941\n343. 0.942\n344. 0.943\n345. 0.944\n346. 0.945\n347. 0.946\n348. 0.947\n349. 0.948\n350. 0.949\n351. 0.95\n352. 0.951\n353. 0.952\n354. 0.953\n355. 0.954\n356. 0.955\n357. 0.956\n358. 0.957\n359. 0.958\n360. 0.959\n361. 0.96\n362. 0.961\n363. 0.962\n364. 0.963\n365. 0.964\n366. 0.965\n367. 0.966\n368. 0.967\n369. 0.968\n370. 0.969\n371. 0.97\n372. 0.971\n373. 0.972\n374. 0.973\n375. 0.974\n376. 0.975\n377. 0.976\n378. 0.977\n379. 0.978\n380. 0.979\n381. 0.98\n382. 0.981\n383. 0.982\n384. 0.983\n385. 0.984\n386. 0.985\n387. 0.986\n388. 0.987\n389. 0.988\n390. 0.989\n391. 0.99\n392. 0.991\n393. 0.992\n394. 0.993\n395. 0.994\n396. 0.995\n397. 0.996\n398. 0.997\n399. 0.998\n400. 0.999\n401. 1\n\n\n",
            "text/html": [
              "<style>\n",
              ".list-inline {list-style: none; margin:0; padding: 0}\n",
              ".list-inline>li {display: inline-block}\n",
              ".list-inline>li:not(:last-child)::after {content: \"\\00b7\"; padding: 0 .5ex}\n",
              "</style>\n",
              "<ol class=list-inline><li>-1</li><li>-0.999</li><li>-0.998</li><li>-0.997</li><li>-0.996</li><li>-0.995</li><li>-0.994</li><li>-0.993</li><li>-0.992</li><li>-0.991</li><li>-0.99</li><li>-0.989</li><li>-0.988</li><li>-0.987</li><li>-0.986</li><li>-0.985</li><li>-0.984</li><li>-0.983</li><li>-0.982</li><li>-0.981</li><li>-0.98</li><li>-0.979</li><li>-0.978</li><li>-0.977</li><li>-0.976</li><li>-0.975</li><li>-0.974</li><li>-0.973</li><li>-0.972</li><li>-0.971</li><li>-0.97</li><li>-0.969</li><li>-0.968</li><li>-0.967</li><li>-0.966</li><li>-0.965</li><li>-0.964</li><li>-0.963</li><li>-0.962</li><li>-0.961</li><li>-0.96</li><li>-0.959</li><li>-0.958</li><li>-0.957</li><li>-0.956</li><li>-0.955</li><li>-0.954</li><li>-0.953</li><li>-0.952</li><li>-0.951</li><li>-0.95</li><li>-0.949</li><li>-0.948</li><li>-0.947</li><li>-0.946</li><li>-0.945</li><li>-0.944</li><li>-0.943</li><li>-0.942</li><li>-0.941</li><li>-0.94</li><li>-0.939</li><li>-0.938</li><li>-0.937</li><li>-0.936</li><li>-0.935</li><li>-0.934</li><li>-0.933</li><li>-0.932</li><li>-0.931</li><li>-0.93</li><li>-0.929</li><li>-0.928</li><li>-0.927</li><li>-0.926</li><li>-0.925</li><li>-0.924</li><li>-0.923</li><li>-0.922</li><li>-0.921</li><li>-0.92</li><li>-0.919</li><li>-0.918</li><li>-0.917</li><li>-0.916</li><li>-0.915</li><li>-0.914</li><li>-0.913</li><li>-0.912</li><li>-0.911</li><li>-0.91</li><li>-0.909</li><li>-0.908</li><li>-0.907</li><li>-0.906</li><li>-0.905</li><li>-0.904</li><li>-0.903</li><li>-0.902</li><li>-0.901</li><li>-0.9</li><li>-0.899</li><li>-0.898</li><li>-0.897</li><li>-0.896</li><li>-0.895</li><li>-0.894</li><li>-0.893</li><li>-0.892</li><li>-0.891</li><li>-0.89</li><li>-0.889</li><li>-0.888</li><li>-0.887</li><li>-0.886</li><li>-0.885</li><li>-0.884</li><li>-0.883</li><li>-0.882</li><li>-0.881</li><li>-0.88</li><li>-0.879</li><li>-0.878</li><li>-0.877</li><li>-0.876</li><li>-0.875</li><li>-0.874</li><li>-0.873</li><li>-0.872</li><li>-0.871</li><li>-0.87</li><li>-0.869</li><li>-0.868</li><li>-0.867</li><li>-0.866</li><li>-0.865</li><li>-0.864</li><li>-0.863</li><li>-0.862</li><li>-0.861</li><li>-0.86</li><li>-0.859</li><li>-0.858</li><li>-0.857</li><li>-0.856</li><li>-0.855</li><li>-0.854</li><li>-0.853</li><li>-0.852</li><li>-0.851</li><li>-0.85</li><li>-0.849</li><li>-0.848</li><li>-0.847</li><li>-0.846</li><li>-0.845</li><li>-0.844</li><li>-0.843</li><li>-0.842</li><li>-0.841</li><li>-0.84</li><li>-0.839</li><li>-0.838</li><li>-0.837</li><li>-0.836</li><li>-0.835</li><li>-0.834</li><li>-0.833</li><li>-0.832</li><li>-0.831</li><li>-0.83</li><li>-0.829</li><li>-0.828</li><li>-0.827</li><li>-0.826</li><li>-0.825</li><li>-0.824</li><li>-0.823</li><li>-0.822</li><li>-0.821</li><li>-0.82</li><li>-0.819</li><li>-0.818</li><li>-0.817</li><li>-0.816</li><li>-0.815</li><li>-0.814</li><li>-0.813</li><li>-0.812</li><li>-0.811</li><li>-0.81</li><li>-0.809</li><li>-0.808</li><li>-0.807</li><li>-0.806</li><li>-0.805</li><li>-0.804</li><li>-0.803</li><li>-0.802</li><li>-0.801</li><li>⋯</li><li>0.801</li><li>0.802</li><li>0.803</li><li>0.804</li><li>0.805</li><li>0.806</li><li>0.807</li><li>0.808</li><li>0.809</li><li>0.81</li><li>0.811</li><li>0.812</li><li>0.813</li><li>0.814</li><li>0.815</li><li>0.816</li><li>0.817</li><li>0.818</li><li>0.819</li><li>0.82</li><li>0.821</li><li>0.822</li><li>0.823</li><li>0.824</li><li>0.825</li><li>0.826</li><li>0.827</li><li>0.828</li><li>0.829</li><li>0.83</li><li>0.831</li><li>0.832</li><li>0.833</li><li>0.834</li><li>0.835</li><li>0.836</li><li>0.837</li><li>0.838</li><li>0.839</li><li>0.84</li><li>0.841</li><li>0.842</li><li>0.843</li><li>0.844</li><li>0.845</li><li>0.846</li><li>0.847</li><li>0.848</li><li>0.849</li><li>0.85</li><li>0.851</li><li>0.852</li><li>0.853</li><li>0.854</li><li>0.855</li><li>0.856</li><li>0.857</li><li>0.858</li><li>0.859</li><li>0.86</li><li>0.861</li><li>0.862</li><li>0.863</li><li>0.864</li><li>0.865</li><li>0.866</li><li>0.867</li><li>0.868</li><li>0.869</li><li>0.87</li><li>0.871</li><li>0.872</li><li>0.873</li><li>0.874</li><li>0.875</li><li>0.876</li><li>0.877</li><li>0.878</li><li>0.879</li><li>0.88</li><li>0.881</li><li>0.882</li><li>0.883</li><li>0.884</li><li>0.885</li><li>0.886</li><li>0.887</li><li>0.888</li><li>0.889</li><li>0.89</li><li>0.891</li><li>0.892</li><li>0.893</li><li>0.894</li><li>0.895</li><li>0.896</li><li>0.897</li><li>0.898</li><li>0.899</li><li>0.9</li><li>0.901</li><li>0.902</li><li>0.903</li><li>0.904</li><li>0.905</li><li>0.906</li><li>0.907</li><li>0.908</li><li>0.909</li><li>0.91</li><li>0.911</li><li>0.912</li><li>0.913</li><li>0.914</li><li>0.915</li><li>0.916</li><li>0.917</li><li>0.918</li><li>0.919</li><li>0.92</li><li>0.921</li><li>0.922</li><li>0.923</li><li>0.924</li><li>0.925</li><li>0.926</li><li>0.927</li><li>0.928</li><li>0.929</li><li>0.93</li><li>0.931</li><li>0.932</li><li>0.933</li><li>0.934</li><li>0.935</li><li>0.936</li><li>0.937</li><li>0.938</li><li>0.939</li><li>0.94</li><li>0.941</li><li>0.942</li><li>0.943</li><li>0.944</li><li>0.945</li><li>0.946</li><li>0.947</li><li>0.948</li><li>0.949</li><li>0.95</li><li>0.951</li><li>0.952</li><li>0.953</li><li>0.954</li><li>0.955</li><li>0.956</li><li>0.957</li><li>0.958</li><li>0.959</li><li>0.96</li><li>0.961</li><li>0.962</li><li>0.963</li><li>0.964</li><li>0.965</li><li>0.966</li><li>0.967</li><li>0.968</li><li>0.969</li><li>0.97</li><li>0.971</li><li>0.972</li><li>0.973</li><li>0.974</li><li>0.975</li><li>0.976</li><li>0.977</li><li>0.978</li><li>0.979</li><li>0.98</li><li>0.981</li><li>0.982</li><li>0.983</li><li>0.984</li><li>0.985</li><li>0.986</li><li>0.987</li><li>0.988</li><li>0.989</li><li>0.99</li><li>0.991</li><li>0.992</li><li>0.993</li><li>0.994</li><li>0.995</li><li>0.996</li><li>0.997</li><li>0.998</li><li>0.999</li><li>1</li></ol>\n"
            ]
          },
          "metadata": {}
        }
      ],
      "source": [
        "x=-1000:1000/1000\n",
        "x"
      ]
    },
    {
      "cell_type": "code",
      "source": [
        "v1<-seq(from=-1,to=1,by=0.002)\n",
        "sum(v1)"
      ],
      "metadata": {
        "colab": {
          "base_uri": "https://localhost:8080/",
          "height": 35
        },
        "id": "CKmMpXDv4Nl4",
        "outputId": "adb38a7a-ee2d-41c8-c614-27f1ff608974"
      },
      "id": "CKmMpXDv4Nl4",
      "execution_count": 42,
      "outputs": [
        {
          "output_type": "display_data",
          "data": {
            "text/plain": [
              "[1] 2.087219e-14"
            ],
            "text/latex": "2.08721928629529e-14",
            "text/markdown": "2.08721928629529e-14",
            "text/html": [
              "2.08721928629529e-14"
            ]
          },
          "metadata": {}
        }
      ]
    },
    {
      "cell_type": "markdown",
      "id": "1148aa17-27a7-458d-b4f7-e1af562351f7",
      "metadata": {
        "id": "1148aa17-27a7-458d-b4f7-e1af562351f7"
      },
      "source": [
        "#### `(7)` 2021년 A씨의 연봉은 5000이다. 매년 연봉은 3%씩 오른다고 하자. 2030년 A씨의 연봉은 얼마인가? "
      ]
    },
    {
      "cell_type": "code",
      "source": [
        "sal<-c()\n",
        "sal[1]=5000"
      ],
      "metadata": {
        "id": "00UpURk36TTy"
      },
      "id": "00UpURk36TTy",
      "execution_count": 43,
      "outputs": []
    },
    {
      "cell_type": "code",
      "source": [
        "for (i in 2:30){\n",
        "  sal[i] = sal[i-1]*1.03\n",
        "}"
      ],
      "metadata": {
        "id": "-Z-b-s6G6pen"
      },
      "id": "-Z-b-s6G6pen",
      "execution_count": 45,
      "outputs": []
    },
    {
      "cell_type": "code",
      "source": [
        "sal[30]"
      ],
      "metadata": {
        "colab": {
          "base_uri": "https://localhost:8080/",
          "height": 35
        },
        "id": "GrcnzD5760ce",
        "outputId": "ac11839d-5bbe-4e9a-8417-bbd947d88d96"
      },
      "id": "GrcnzD5760ce",
      "execution_count": 48,
      "outputs": [
        {
          "output_type": "display_data",
          "data": {
            "text/plain": [
              "[1] 11782.83"
            ],
            "text/latex": "11782.8275300469",
            "text/markdown": "11782.8275300469",
            "text/html": [
              "11782.8275300469"
            ]
          },
          "metadata": {}
        }
      ]
    },
    {
      "cell_type": "markdown",
      "id": "ac8212d6-cf8b-4fe2-8c17-eae8bc015819",
      "metadata": {
        "id": "ac8212d6-cf8b-4fe2-8c17-eae8bc015819"
      },
      "source": [
        "#### `(8)` 임의의 입력 $x$에 대하여 아래를 만족하는 함수를 선언하라. "
      ]
    },
    {
      "cell_type": "markdown",
      "id": "328e404d-e10d-41ac-b453-a77edcf3eff6",
      "metadata": {
        "id": "328e404d-e10d-41ac-b453-a77edcf3eff6"
      },
      "source": [
        "- $x >0$: $\\log (x)$를 계산하여 출력 \n",
        "- $x =0$: print(\"음의 무한대\")\n",
        "- $x <0$: print(\"x는 양수이어야 합니다.\")"
      ]
    },
    {
      "cell_type": "code",
      "source": [
        "if (x>0){\n",
        "  log(x)\n",
        "}else{\n",
        "  if (x==0){print(\"음의 무한대\")} else{\n",
        "    print(\"x는 양수이어야합니다\")  }\n",
        "}"
      ],
      "metadata": {
        "colab": {
          "base_uri": "https://localhost:8080/"
        },
        "id": "k-J8lUFB9xZO",
        "outputId": "460b98e3-f43d-4c23-8e43-baedbd83f1b8"
      },
      "id": "k-J8lUFB9xZO",
      "execution_count": 63,
      "outputs": [
        {
          "output_type": "stream",
          "name": "stderr",
          "text": [
            "Warning message in if (x > 0) {:\n",
            "“the condition has length > 1 and only the first element will be used”\n",
            "Warning message in if (x == 0) {:\n",
            "“the condition has length > 1 and only the first element will be used”\n"
          ]
        },
        {
          "output_type": "stream",
          "name": "stdout",
          "text": [
            "[1] \"x는 양수이어야합니다\"\n"
          ]
        }
      ]
    },
    {
      "cell_type": "markdown",
      "id": "750e263a-5dcc-48c8-bd17-7ff67034f15b",
      "metadata": {
        "id": "750e263a-5dcc-48c8-bd17-7ff67034f15b"
      },
      "source": [
        "#### `(9)` 아래와 같은 데이터프레임이 있다고 하자. "
      ]
    },
    {
      "cell_type": "code",
      "source": [
        "library(tidyverse)"
      ],
      "metadata": {
        "colab": {
          "base_uri": "https://localhost:8080/"
        },
        "id": "OAsaJ75t-qCD",
        "outputId": "fc07f209-e3ed-439e-a956-060bae6ed5e3"
      },
      "id": "OAsaJ75t-qCD",
      "execution_count": 65,
      "outputs": [
        {
          "output_type": "stream",
          "name": "stderr",
          "text": [
            "Warning message in system(\"timedatectl\", intern = TRUE):\n",
            "“running command 'timedatectl' had status 1”\n",
            "── \u001b[1mAttaching packages\u001b[22m ─────────────────────────────────────── tidyverse 1.3.1 ──\n",
            "\n",
            "\u001b[32m✔\u001b[39m \u001b[34mggplot2\u001b[39m 3.3.5     \u001b[32m✔\u001b[39m \u001b[34mpurrr  \u001b[39m 0.3.4\n",
            "\u001b[32m✔\u001b[39m \u001b[34mtibble \u001b[39m 3.1.6     \u001b[32m✔\u001b[39m \u001b[34mdplyr  \u001b[39m 1.0.7\n",
            "\u001b[32m✔\u001b[39m \u001b[34mtidyr  \u001b[39m 1.1.4     \u001b[32m✔\u001b[39m \u001b[34mstringr\u001b[39m 1.4.0\n",
            "\u001b[32m✔\u001b[39m \u001b[34mreadr  \u001b[39m 2.1.0     \u001b[32m✔\u001b[39m \u001b[34mforcats\u001b[39m 0.5.1\n",
            "\n",
            "── \u001b[1mConflicts\u001b[22m ────────────────────────────────────────── tidyverse_conflicts() ──\n",
            "\u001b[31m✖\u001b[39m \u001b[34mdplyr\u001b[39m::\u001b[32mfilter()\u001b[39m masks \u001b[34mstats\u001b[39m::filter()\n",
            "\u001b[31m✖\u001b[39m \u001b[34mdplyr\u001b[39m::\u001b[32mlag()\u001b[39m    masks \u001b[34mstats\u001b[39m::lag()\n",
            "\n"
          ]
        }
      ]
    },
    {
      "cell_type": "code",
      "execution_count": 66,
      "id": "a120373f-07df-4a12-9816-b2fddde62c74",
      "metadata": {
        "colab": {
          "base_uri": "https://localhost:8080/",
          "height": 286
        },
        "id": "a120373f-07df-4a12-9816-b2fddde62c74",
        "outputId": "af059485-55f8-487b-9577-b10122fcd190"
      },
      "outputs": [
        {
          "output_type": "display_data",
          "data": {
            "text/plain": [
              "  X1          X2         \n",
              "1 -0.53636964 -0.39468150\n",
              "2 -0.65547251 -1.75766672\n",
              "3 -0.03082952 -0.81760886\n",
              "4 -0.28004525  0.70058370\n",
              "5  1.21896927  0.14480296\n",
              "6 -1.74631104  0.04102382"
            ],
            "text/latex": "A tibble: 6 × 2\n\\begin{tabular}{ll}\n X1 & X2\\\\\n <dbl> & <dbl>\\\\\n\\hline\n\t -0.53636964 & -0.39468150\\\\\n\t -0.65547251 & -1.75766672\\\\\n\t -0.03082952 & -0.81760886\\\\\n\t -0.28004525 &  0.70058370\\\\\n\t  1.21896927 &  0.14480296\\\\\n\t -1.74631104 &  0.04102382\\\\\n\\end{tabular}\n",
            "text/markdown": "\nA tibble: 6 × 2\n\n| X1 &lt;dbl&gt; | X2 &lt;dbl&gt; |\n|---|---|\n| -0.53636964 | -0.39468150 |\n| -0.65547251 | -1.75766672 |\n| -0.03082952 | -0.81760886 |\n| -0.28004525 |  0.70058370 |\n|  1.21896927 |  0.14480296 |\n| -1.74631104 |  0.04102382 |\n\n",
            "text/html": [
              "<table class=\"dataframe\">\n",
              "<caption>A tibble: 6 × 2</caption>\n",
              "<thead>\n",
              "\t<tr><th scope=col>X1</th><th scope=col>X2</th></tr>\n",
              "\t<tr><th scope=col>&lt;dbl&gt;</th><th scope=col>&lt;dbl&gt;</th></tr>\n",
              "</thead>\n",
              "<tbody>\n",
              "\t<tr><td>-0.53636964</td><td>-0.39468150</td></tr>\n",
              "\t<tr><td>-0.65547251</td><td>-1.75766672</td></tr>\n",
              "\t<tr><td>-0.03082952</td><td>-0.81760886</td></tr>\n",
              "\t<tr><td>-0.28004525</td><td> 0.70058370</td></tr>\n",
              "\t<tr><td> 1.21896927</td><td> 0.14480296</td></tr>\n",
              "\t<tr><td>-1.74631104</td><td> 0.04102382</td></tr>\n",
              "</tbody>\n",
              "</table>\n"
            ]
          },
          "metadata": {}
        }
      ],
      "source": [
        "df=tibble(X1=rnorm(100),X2=rnorm(100))\n",
        "head(df)"
      ]
    },
    {
      "cell_type": "markdown",
      "id": "aa71709c-2459-493e-9cbf-f07e40933074",
      "metadata": {
        "id": "aa71709c-2459-493e-9cbf-f07e40933074"
      },
      "source": [
        "위의 데이터프레임 df에서 `mutate`를 이용하여 `Z=X1^2+X2^2`을 계산하여 새로운 열 Z를 만들어라. "
      ]
    },
    {
      "cell_type": "code",
      "source": [
        "df %>% mutate(Z=X1^2+X2^2)"
      ],
      "metadata": {
        "colab": {
          "base_uri": "https://localhost:8080/",
          "height": 1000
        },
        "id": "pENYLMoL-tko",
        "outputId": "1fe570df-89c1-49df-f653-bef09f869292"
      },
      "id": "pENYLMoL-tko",
      "execution_count": 70,
      "outputs": [
        {
          "output_type": "display_data",
          "data": {
            "text/plain": [
              "    X1          X2          Z        \n",
              "1   -0.53636964 -0.39468150 0.4434659\n",
              "2   -0.65547251 -1.75766672 3.5190365\n",
              "3   -0.03082952 -0.81760886 0.6694347\n",
              "4   -0.28004525  0.70058370 0.5692429\n",
              "5    1.21896927  0.14480296 1.5068540\n",
              "6   -1.74631104  0.04102382 3.0512852\n",
              "7   -0.51640044  1.03258890 1.3329093\n",
              "8    1.05140450 -0.65626924 1.5361407\n",
              "9   -0.07359185  1.14793993 1.3231819\n",
              "10   1.61553573 -1.10311599 3.8268206\n",
              "11  -0.71181554 -1.45761508 2.6313231\n",
              "12   1.58687891  1.19221252 3.9395554\n",
              "13  -1.86280854  0.08377071 3.4770732\n",
              "14  -1.07902570 -0.43568509 1.3541180\n",
              "15   0.31626609 -0.72254838 0.6221004\n",
              "16  -0.48956489 -1.49660955 2.4795139\n",
              "17  -0.95787730  0.60654350 1.2854239\n",
              "18   1.03381081  0.90281678 1.8838429\n",
              "19  -0.52220315  0.82117265 0.9470207\n",
              "20   0.39417119 -0.63739164 0.5616390\n",
              "21  -1.36769967 -0.09275591 1.8792060\n",
              "22   0.77958084  1.00810763 1.6240273\n",
              "23  -0.57815767 -0.13103763 0.3514372\n",
              "24   0.58573188  0.89687099 1.1474594\n",
              "25   1.09493484  0.04480140 1.2008895\n",
              "26   1.17349753 -0.88471194 2.1598117\n",
              "27   1.08815760 -0.97278035 2.1303886\n",
              "28  -0.83435577  0.77490858 1.2966329\n",
              "29   1.02478425 -0.82789080 1.7355859\n",
              "30  -1.41713012  0.07566035 2.0139823\n",
              "⋮   ⋮           ⋮           ⋮        \n",
              "71  -0.30139687  1.5777520  2.5801414\n",
              "72   1.01882750  0.3718565  1.1762868\n",
              "73   1.73002533  1.4016359  4.9575708\n",
              "74  -0.04796570 -0.2401755  0.0599850\n",
              "75   0.91099069 -0.5832535  1.1700887\n",
              "76  -0.49847357  0.2099504  0.2925551\n",
              "77  -0.09321553  0.4451263  0.2068266\n",
              "78  -0.55833576 -2.0120842  4.3602216\n",
              "79   1.43423751  0.4265050  2.2389438\n",
              "80   0.02556433 -1.7298848  2.9931549\n",
              "81  -0.75186300 -0.6968351  1.0508771\n",
              "82   1.10535062  0.2182539  1.2694348\n",
              "83  -0.34154790  1.0205081  1.1580917\n",
              "84   0.50525215 -0.1375755  0.2742068\n",
              "85  -0.23031297 -0.4322460  0.2398807\n",
              "86  -0.95888046  0.1017546  0.9298057\n",
              "87   2.73296758  0.7595160  8.0459764\n",
              "88  -0.72806404  0.5371873  0.8186474\n",
              "89  -0.46710311 -0.8164923  0.8848450\n",
              "90  -1.11102803 -1.2736455  2.8565561\n",
              "91  -1.07453020  0.6992517  1.6435681\n",
              "92   0.77523372 -0.2143805  0.6469463\n",
              "93  -1.52721270 -0.6853636  2.8021019\n",
              "94  -0.32337939  1.7885279  3.3034061\n",
              "95   1.71090851  0.4016171  3.0885042\n",
              "96  -0.74308455  0.6953292  1.0356573\n",
              "97   1.49117020 -0.6238465  2.6127730\n",
              "98   0.87764477  0.5785666  1.1049996\n",
              "99   0.08878720  0.9136760  0.8426870\n",
              "100 -2.36026410  0.2880273  5.6538063"
            ],
            "text/latex": "A tibble: 100 × 3\n\\begin{tabular}{lll}\n X1 & X2 & Z\\\\\n <dbl> & <dbl> & <dbl>\\\\\n\\hline\n\t -0.53636964 & -0.39468150 & 0.4434659\\\\\n\t -0.65547251 & -1.75766672 & 3.5190365\\\\\n\t -0.03082952 & -0.81760886 & 0.6694347\\\\\n\t -0.28004525 &  0.70058370 & 0.5692429\\\\\n\t  1.21896927 &  0.14480296 & 1.5068540\\\\\n\t -1.74631104 &  0.04102382 & 3.0512852\\\\\n\t -0.51640044 &  1.03258890 & 1.3329093\\\\\n\t  1.05140450 & -0.65626924 & 1.5361407\\\\\n\t -0.07359185 &  1.14793993 & 1.3231819\\\\\n\t  1.61553573 & -1.10311599 & 3.8268206\\\\\n\t -0.71181554 & -1.45761508 & 2.6313231\\\\\n\t  1.58687891 &  1.19221252 & 3.9395554\\\\\n\t -1.86280854 &  0.08377071 & 3.4770732\\\\\n\t -1.07902570 & -0.43568509 & 1.3541180\\\\\n\t  0.31626609 & -0.72254838 & 0.6221004\\\\\n\t -0.48956489 & -1.49660955 & 2.4795139\\\\\n\t -0.95787730 &  0.60654350 & 1.2854239\\\\\n\t  1.03381081 &  0.90281678 & 1.8838429\\\\\n\t -0.52220315 &  0.82117265 & 0.9470207\\\\\n\t  0.39417119 & -0.63739164 & 0.5616390\\\\\n\t -1.36769967 & -0.09275591 & 1.8792060\\\\\n\t  0.77958084 &  1.00810763 & 1.6240273\\\\\n\t -0.57815767 & -0.13103763 & 0.3514372\\\\\n\t  0.58573188 &  0.89687099 & 1.1474594\\\\\n\t  1.09493484 &  0.04480140 & 1.2008895\\\\\n\t  1.17349753 & -0.88471194 & 2.1598117\\\\\n\t  1.08815760 & -0.97278035 & 2.1303886\\\\\n\t -0.83435577 &  0.77490858 & 1.2966329\\\\\n\t  1.02478425 & -0.82789080 & 1.7355859\\\\\n\t -1.41713012 &  0.07566035 & 2.0139823\\\\\n\t ⋮ & ⋮ & ⋮\\\\\n\t -0.30139687 &  1.5777520 & 2.5801414\\\\\n\t  1.01882750 &  0.3718565 & 1.1762868\\\\\n\t  1.73002533 &  1.4016359 & 4.9575708\\\\\n\t -0.04796570 & -0.2401755 & 0.0599850\\\\\n\t  0.91099069 & -0.5832535 & 1.1700887\\\\\n\t -0.49847357 &  0.2099504 & 0.2925551\\\\\n\t -0.09321553 &  0.4451263 & 0.2068266\\\\\n\t -0.55833576 & -2.0120842 & 4.3602216\\\\\n\t  1.43423751 &  0.4265050 & 2.2389438\\\\\n\t  0.02556433 & -1.7298848 & 2.9931549\\\\\n\t -0.75186300 & -0.6968351 & 1.0508771\\\\\n\t  1.10535062 &  0.2182539 & 1.2694348\\\\\n\t -0.34154790 &  1.0205081 & 1.1580917\\\\\n\t  0.50525215 & -0.1375755 & 0.2742068\\\\\n\t -0.23031297 & -0.4322460 & 0.2398807\\\\\n\t -0.95888046 &  0.1017546 & 0.9298057\\\\\n\t  2.73296758 &  0.7595160 & 8.0459764\\\\\n\t -0.72806404 &  0.5371873 & 0.8186474\\\\\n\t -0.46710311 & -0.8164923 & 0.8848450\\\\\n\t -1.11102803 & -1.2736455 & 2.8565561\\\\\n\t -1.07453020 &  0.6992517 & 1.6435681\\\\\n\t  0.77523372 & -0.2143805 & 0.6469463\\\\\n\t -1.52721270 & -0.6853636 & 2.8021019\\\\\n\t -0.32337939 &  1.7885279 & 3.3034061\\\\\n\t  1.71090851 &  0.4016171 & 3.0885042\\\\\n\t -0.74308455 &  0.6953292 & 1.0356573\\\\\n\t  1.49117020 & -0.6238465 & 2.6127730\\\\\n\t  0.87764477 &  0.5785666 & 1.1049996\\\\\n\t  0.08878720 &  0.9136760 & 0.8426870\\\\\n\t -2.36026410 &  0.2880273 & 5.6538063\\\\\n\\end{tabular}\n",
            "text/markdown": "\nA tibble: 100 × 3\n\n| X1 &lt;dbl&gt; | X2 &lt;dbl&gt; | Z &lt;dbl&gt; |\n|---|---|---|\n| -0.53636964 | -0.39468150 | 0.4434659 |\n| -0.65547251 | -1.75766672 | 3.5190365 |\n| -0.03082952 | -0.81760886 | 0.6694347 |\n| -0.28004525 |  0.70058370 | 0.5692429 |\n|  1.21896927 |  0.14480296 | 1.5068540 |\n| -1.74631104 |  0.04102382 | 3.0512852 |\n| -0.51640044 |  1.03258890 | 1.3329093 |\n|  1.05140450 | -0.65626924 | 1.5361407 |\n| -0.07359185 |  1.14793993 | 1.3231819 |\n|  1.61553573 | -1.10311599 | 3.8268206 |\n| -0.71181554 | -1.45761508 | 2.6313231 |\n|  1.58687891 |  1.19221252 | 3.9395554 |\n| -1.86280854 |  0.08377071 | 3.4770732 |\n| -1.07902570 | -0.43568509 | 1.3541180 |\n|  0.31626609 | -0.72254838 | 0.6221004 |\n| -0.48956489 | -1.49660955 | 2.4795139 |\n| -0.95787730 |  0.60654350 | 1.2854239 |\n|  1.03381081 |  0.90281678 | 1.8838429 |\n| -0.52220315 |  0.82117265 | 0.9470207 |\n|  0.39417119 | -0.63739164 | 0.5616390 |\n| -1.36769967 | -0.09275591 | 1.8792060 |\n|  0.77958084 |  1.00810763 | 1.6240273 |\n| -0.57815767 | -0.13103763 | 0.3514372 |\n|  0.58573188 |  0.89687099 | 1.1474594 |\n|  1.09493484 |  0.04480140 | 1.2008895 |\n|  1.17349753 | -0.88471194 | 2.1598117 |\n|  1.08815760 | -0.97278035 | 2.1303886 |\n| -0.83435577 |  0.77490858 | 1.2966329 |\n|  1.02478425 | -0.82789080 | 1.7355859 |\n| -1.41713012 |  0.07566035 | 2.0139823 |\n| ⋮ | ⋮ | ⋮ |\n| -0.30139687 |  1.5777520 | 2.5801414 |\n|  1.01882750 |  0.3718565 | 1.1762868 |\n|  1.73002533 |  1.4016359 | 4.9575708 |\n| -0.04796570 | -0.2401755 | 0.0599850 |\n|  0.91099069 | -0.5832535 | 1.1700887 |\n| -0.49847357 |  0.2099504 | 0.2925551 |\n| -0.09321553 |  0.4451263 | 0.2068266 |\n| -0.55833576 | -2.0120842 | 4.3602216 |\n|  1.43423751 |  0.4265050 | 2.2389438 |\n|  0.02556433 | -1.7298848 | 2.9931549 |\n| -0.75186300 | -0.6968351 | 1.0508771 |\n|  1.10535062 |  0.2182539 | 1.2694348 |\n| -0.34154790 |  1.0205081 | 1.1580917 |\n|  0.50525215 | -0.1375755 | 0.2742068 |\n| -0.23031297 | -0.4322460 | 0.2398807 |\n| -0.95888046 |  0.1017546 | 0.9298057 |\n|  2.73296758 |  0.7595160 | 8.0459764 |\n| -0.72806404 |  0.5371873 | 0.8186474 |\n| -0.46710311 | -0.8164923 | 0.8848450 |\n| -1.11102803 | -1.2736455 | 2.8565561 |\n| -1.07453020 |  0.6992517 | 1.6435681 |\n|  0.77523372 | -0.2143805 | 0.6469463 |\n| -1.52721270 | -0.6853636 | 2.8021019 |\n| -0.32337939 |  1.7885279 | 3.3034061 |\n|  1.71090851 |  0.4016171 | 3.0885042 |\n| -0.74308455 |  0.6953292 | 1.0356573 |\n|  1.49117020 | -0.6238465 | 2.6127730 |\n|  0.87764477 |  0.5785666 | 1.1049996 |\n|  0.08878720 |  0.9136760 | 0.8426870 |\n| -2.36026410 |  0.2880273 | 5.6538063 |\n\n",
            "text/html": [
              "<table class=\"dataframe\">\n",
              "<caption>A tibble: 100 × 3</caption>\n",
              "<thead>\n",
              "\t<tr><th scope=col>X1</th><th scope=col>X2</th><th scope=col>Z</th></tr>\n",
              "\t<tr><th scope=col>&lt;dbl&gt;</th><th scope=col>&lt;dbl&gt;</th><th scope=col>&lt;dbl&gt;</th></tr>\n",
              "</thead>\n",
              "<tbody>\n",
              "\t<tr><td>-0.53636964</td><td>-0.39468150</td><td>0.4434659</td></tr>\n",
              "\t<tr><td>-0.65547251</td><td>-1.75766672</td><td>3.5190365</td></tr>\n",
              "\t<tr><td>-0.03082952</td><td>-0.81760886</td><td>0.6694347</td></tr>\n",
              "\t<tr><td>-0.28004525</td><td> 0.70058370</td><td>0.5692429</td></tr>\n",
              "\t<tr><td> 1.21896927</td><td> 0.14480296</td><td>1.5068540</td></tr>\n",
              "\t<tr><td>-1.74631104</td><td> 0.04102382</td><td>3.0512852</td></tr>\n",
              "\t<tr><td>-0.51640044</td><td> 1.03258890</td><td>1.3329093</td></tr>\n",
              "\t<tr><td> 1.05140450</td><td>-0.65626924</td><td>1.5361407</td></tr>\n",
              "\t<tr><td>-0.07359185</td><td> 1.14793993</td><td>1.3231819</td></tr>\n",
              "\t<tr><td> 1.61553573</td><td>-1.10311599</td><td>3.8268206</td></tr>\n",
              "\t<tr><td>-0.71181554</td><td>-1.45761508</td><td>2.6313231</td></tr>\n",
              "\t<tr><td> 1.58687891</td><td> 1.19221252</td><td>3.9395554</td></tr>\n",
              "\t<tr><td>-1.86280854</td><td> 0.08377071</td><td>3.4770732</td></tr>\n",
              "\t<tr><td>-1.07902570</td><td>-0.43568509</td><td>1.3541180</td></tr>\n",
              "\t<tr><td> 0.31626609</td><td>-0.72254838</td><td>0.6221004</td></tr>\n",
              "\t<tr><td>-0.48956489</td><td>-1.49660955</td><td>2.4795139</td></tr>\n",
              "\t<tr><td>-0.95787730</td><td> 0.60654350</td><td>1.2854239</td></tr>\n",
              "\t<tr><td> 1.03381081</td><td> 0.90281678</td><td>1.8838429</td></tr>\n",
              "\t<tr><td>-0.52220315</td><td> 0.82117265</td><td>0.9470207</td></tr>\n",
              "\t<tr><td> 0.39417119</td><td>-0.63739164</td><td>0.5616390</td></tr>\n",
              "\t<tr><td>-1.36769967</td><td>-0.09275591</td><td>1.8792060</td></tr>\n",
              "\t<tr><td> 0.77958084</td><td> 1.00810763</td><td>1.6240273</td></tr>\n",
              "\t<tr><td>-0.57815767</td><td>-0.13103763</td><td>0.3514372</td></tr>\n",
              "\t<tr><td> 0.58573188</td><td> 0.89687099</td><td>1.1474594</td></tr>\n",
              "\t<tr><td> 1.09493484</td><td> 0.04480140</td><td>1.2008895</td></tr>\n",
              "\t<tr><td> 1.17349753</td><td>-0.88471194</td><td>2.1598117</td></tr>\n",
              "\t<tr><td> 1.08815760</td><td>-0.97278035</td><td>2.1303886</td></tr>\n",
              "\t<tr><td>-0.83435577</td><td> 0.77490858</td><td>1.2966329</td></tr>\n",
              "\t<tr><td> 1.02478425</td><td>-0.82789080</td><td>1.7355859</td></tr>\n",
              "\t<tr><td>-1.41713012</td><td> 0.07566035</td><td>2.0139823</td></tr>\n",
              "\t<tr><td>⋮</td><td>⋮</td><td>⋮</td></tr>\n",
              "\t<tr><td>-0.30139687</td><td> 1.5777520</td><td>2.5801414</td></tr>\n",
              "\t<tr><td> 1.01882750</td><td> 0.3718565</td><td>1.1762868</td></tr>\n",
              "\t<tr><td> 1.73002533</td><td> 1.4016359</td><td>4.9575708</td></tr>\n",
              "\t<tr><td>-0.04796570</td><td>-0.2401755</td><td>0.0599850</td></tr>\n",
              "\t<tr><td> 0.91099069</td><td>-0.5832535</td><td>1.1700887</td></tr>\n",
              "\t<tr><td>-0.49847357</td><td> 0.2099504</td><td>0.2925551</td></tr>\n",
              "\t<tr><td>-0.09321553</td><td> 0.4451263</td><td>0.2068266</td></tr>\n",
              "\t<tr><td>-0.55833576</td><td>-2.0120842</td><td>4.3602216</td></tr>\n",
              "\t<tr><td> 1.43423751</td><td> 0.4265050</td><td>2.2389438</td></tr>\n",
              "\t<tr><td> 0.02556433</td><td>-1.7298848</td><td>2.9931549</td></tr>\n",
              "\t<tr><td>-0.75186300</td><td>-0.6968351</td><td>1.0508771</td></tr>\n",
              "\t<tr><td> 1.10535062</td><td> 0.2182539</td><td>1.2694348</td></tr>\n",
              "\t<tr><td>-0.34154790</td><td> 1.0205081</td><td>1.1580917</td></tr>\n",
              "\t<tr><td> 0.50525215</td><td>-0.1375755</td><td>0.2742068</td></tr>\n",
              "\t<tr><td>-0.23031297</td><td>-0.4322460</td><td>0.2398807</td></tr>\n",
              "\t<tr><td>-0.95888046</td><td> 0.1017546</td><td>0.9298057</td></tr>\n",
              "\t<tr><td> 2.73296758</td><td> 0.7595160</td><td>8.0459764</td></tr>\n",
              "\t<tr><td>-0.72806404</td><td> 0.5371873</td><td>0.8186474</td></tr>\n",
              "\t<tr><td>-0.46710311</td><td>-0.8164923</td><td>0.8848450</td></tr>\n",
              "\t<tr><td>-1.11102803</td><td>-1.2736455</td><td>2.8565561</td></tr>\n",
              "\t<tr><td>-1.07453020</td><td> 0.6992517</td><td>1.6435681</td></tr>\n",
              "\t<tr><td> 0.77523372</td><td>-0.2143805</td><td>0.6469463</td></tr>\n",
              "\t<tr><td>-1.52721270</td><td>-0.6853636</td><td>2.8021019</td></tr>\n",
              "\t<tr><td>-0.32337939</td><td> 1.7885279</td><td>3.3034061</td></tr>\n",
              "\t<tr><td> 1.71090851</td><td> 0.4016171</td><td>3.0885042</td></tr>\n",
              "\t<tr><td>-0.74308455</td><td> 0.6953292</td><td>1.0356573</td></tr>\n",
              "\t<tr><td> 1.49117020</td><td>-0.6238465</td><td>2.6127730</td></tr>\n",
              "\t<tr><td> 0.87764477</td><td> 0.5785666</td><td>1.1049996</td></tr>\n",
              "\t<tr><td> 0.08878720</td><td> 0.9136760</td><td>0.8426870</td></tr>\n",
              "\t<tr><td>-2.36026410</td><td> 0.2880273</td><td>5.6538063</td></tr>\n",
              "</tbody>\n",
              "</table>\n"
            ]
          },
          "metadata": {}
        }
      ]
    },
    {
      "cell_type": "markdown",
      "id": "fdd57b34-45c6-41e0-a9ec-0e3bcf096a39",
      "metadata": {
        "tags": [],
        "id": "fdd57b34-45c6-41e0-a9ec-0e3bcf096a39"
      },
      "source": [
        "#### `(10)` 아래와 같은 매트릭스에서 `apply`함수를 이용하여 각 행의 합과 각 열의 합을 구하라 "
      ]
    },
    {
      "cell_type": "code",
      "execution_count": 71,
      "id": "4dce282e-0765-47de-9fc4-2d55df4c4372",
      "metadata": {
        "colab": {
          "base_uri": "https://localhost:8080/"
        },
        "id": "4dce282e-0765-47de-9fc4-2d55df4c4372",
        "outputId": "920d73bb-1474-4e96-84aa-8a6103eb200d"
      },
      "outputs": [
        {
          "output_type": "stream",
          "name": "stdout",
          "text": [
            "      [,1] [,2] [,3] [,4] [,5] [,6] [,7] [,8] [,9] [,10]\n",
            " [1,]    2    3    3    2    2    3    1    3    3     3\n",
            " [2,]    1    3    3    4    2    2    4    2    2     1\n",
            " [3,]    2    2    2    2    4    4    2    3    3     3\n",
            " [4,]    3    2    4    5    2    5    1    4    2     2\n",
            " [5,]    2    2    2    2    1    4    2    2    3     4\n",
            " [6,]    5    1    3    1    1    3    4    2    4     3\n",
            " [7,]    4    3    4    3    2    3    2    3    0     1\n",
            " [8,]    4    4    2    3    2    3    3    0    4     2\n",
            " [9,]    5    5    4    3    2    4    4    4    1     4\n",
            "[10,]    2    4    4    3    1    3    3    2    1     2\n"
          ]
        }
      ],
      "source": [
        "set.seed(1221)\n",
        "mat = rbinom(n=100,size=5,prob=0.5)\n",
        "dim(mat)=c(10,10)\n",
        "print(mat)"
      ]
    },
    {
      "cell_type": "markdown",
      "id": "5412d8eb-a07a-4f74-92e0-754d1753f8ac",
      "metadata": {
        "id": "5412d8eb-a07a-4f74-92e0-754d1753f8ac"
      },
      "source": [
        "즉 아래를 구하라 "
      ]
    },
    {
      "cell_type": "markdown",
      "id": "8dded61e-e395-4bc4-a2a5-f936b30029eb",
      "metadata": {
        "id": "8dded61e-e395-4bc4-a2a5-f936b30029eb"
      },
      "source": [
        "`-` 각 행의 합\n",
        "- 1행의 합 = 2+3+3+ ... +3+3+3 \n",
        "- ...\n",
        "- 10행의 합 = 2+4+4+ ... +2+1+2"
      ]
    },
    {
      "cell_type": "code",
      "source": [
        "sum(mat[1,])\n",
        "sum(mat[2,])\n",
        "sum(mat[3,])\n",
        "sum(mat[4,])\n",
        "sum(mat[5,])\n",
        "sum(mat[6,])\n",
        "sum(mat[7,])\n",
        "sum(mat[8,])\n",
        "sum(mat[9,])\n",
        "sum(mat[10,])"
      ],
      "metadata": {
        "colab": {
          "base_uri": "https://localhost:8080/",
          "height": 191
        },
        "id": "p3VduCHm_Zqf",
        "outputId": "f8caa9f7-1ab5-4030-d51e-0df996260bbb"
      },
      "id": "p3VduCHm_Zqf",
      "execution_count": 76,
      "outputs": [
        {
          "output_type": "display_data",
          "data": {
            "text/plain": [
              "[1] 25"
            ],
            "text/latex": "25",
            "text/markdown": "25",
            "text/html": [
              "25"
            ]
          },
          "metadata": {}
        },
        {
          "output_type": "display_data",
          "data": {
            "text/plain": [
              "[1] 24"
            ],
            "text/latex": "24",
            "text/markdown": "24",
            "text/html": [
              "24"
            ]
          },
          "metadata": {}
        },
        {
          "output_type": "display_data",
          "data": {
            "text/plain": [
              "[1] 27"
            ],
            "text/latex": "27",
            "text/markdown": "27",
            "text/html": [
              "27"
            ]
          },
          "metadata": {}
        },
        {
          "output_type": "display_data",
          "data": {
            "text/plain": [
              "[1] 30"
            ],
            "text/latex": "30",
            "text/markdown": "30",
            "text/html": [
              "30"
            ]
          },
          "metadata": {}
        },
        {
          "output_type": "display_data",
          "data": {
            "text/plain": [
              "[1] 24"
            ],
            "text/latex": "24",
            "text/markdown": "24",
            "text/html": [
              "24"
            ]
          },
          "metadata": {}
        },
        {
          "output_type": "display_data",
          "data": {
            "text/plain": [
              "[1] 27"
            ],
            "text/latex": "27",
            "text/markdown": "27",
            "text/html": [
              "27"
            ]
          },
          "metadata": {}
        },
        {
          "output_type": "display_data",
          "data": {
            "text/plain": [
              "[1] 25"
            ],
            "text/latex": "25",
            "text/markdown": "25",
            "text/html": [
              "25"
            ]
          },
          "metadata": {}
        },
        {
          "output_type": "display_data",
          "data": {
            "text/plain": [
              "[1] 27"
            ],
            "text/latex": "27",
            "text/markdown": "27",
            "text/html": [
              "27"
            ]
          },
          "metadata": {}
        },
        {
          "output_type": "display_data",
          "data": {
            "text/plain": [
              "[1] 36"
            ],
            "text/latex": "36",
            "text/markdown": "36",
            "text/html": [
              "36"
            ]
          },
          "metadata": {}
        },
        {
          "output_type": "display_data",
          "data": {
            "text/plain": [
              "[1] 25"
            ],
            "text/latex": "25",
            "text/markdown": "25",
            "text/html": [
              "25"
            ]
          },
          "metadata": {}
        }
      ]
    },
    {
      "cell_type": "markdown",
      "id": "1600d9a5-363e-4ffd-a756-90bb4dcbd4c3",
      "metadata": {
        "id": "1600d9a5-363e-4ffd-a756-90bb4dcbd4c3"
      },
      "source": [
        "`-` 각 열의 합\n",
        "- 1열의 합 = 2+1+2+ ... +4+5+2\n",
        "- ...\n",
        "- 10열의 합 = 3+1+3+ ... +2+4+2"
      ]
    },
    {
      "cell_type": "code",
      "source": [
        "sum(mat[,1])\n",
        "sum(mat[,2])\n",
        "sum(mat[,3])\n",
        "sum(mat[,4])\n",
        "sum(mat[,5])\n",
        "sum(mat[,6])\n",
        "sum(mat[,7])\n",
        "sum(mat[,8])\n",
        "sum(mat[,9])\n",
        "sum(mat[,10])"
      ],
      "metadata": {
        "colab": {
          "base_uri": "https://localhost:8080/",
          "height": 191
        },
        "id": "Pqfw9vCN_pqD",
        "outputId": "8fe362cd-08d6-4e3c-ec97-13748406b140"
      },
      "id": "Pqfw9vCN_pqD",
      "execution_count": 78,
      "outputs": [
        {
          "output_type": "display_data",
          "data": {
            "text/plain": [
              "[1] 30"
            ],
            "text/latex": "30",
            "text/markdown": "30",
            "text/html": [
              "30"
            ]
          },
          "metadata": {}
        },
        {
          "output_type": "display_data",
          "data": {
            "text/plain": [
              "[1] 29"
            ],
            "text/latex": "29",
            "text/markdown": "29",
            "text/html": [
              "29"
            ]
          },
          "metadata": {}
        },
        {
          "output_type": "display_data",
          "data": {
            "text/plain": [
              "[1] 31"
            ],
            "text/latex": "31",
            "text/markdown": "31",
            "text/html": [
              "31"
            ]
          },
          "metadata": {}
        },
        {
          "output_type": "display_data",
          "data": {
            "text/plain": [
              "[1] 28"
            ],
            "text/latex": "28",
            "text/markdown": "28",
            "text/html": [
              "28"
            ]
          },
          "metadata": {}
        },
        {
          "output_type": "display_data",
          "data": {
            "text/plain": [
              "[1] 19"
            ],
            "text/latex": "19",
            "text/markdown": "19",
            "text/html": [
              "19"
            ]
          },
          "metadata": {}
        },
        {
          "output_type": "display_data",
          "data": {
            "text/plain": [
              "[1] 34"
            ],
            "text/latex": "34",
            "text/markdown": "34",
            "text/html": [
              "34"
            ]
          },
          "metadata": {}
        },
        {
          "output_type": "display_data",
          "data": {
            "text/plain": [
              "[1] 26"
            ],
            "text/latex": "26",
            "text/markdown": "26",
            "text/html": [
              "26"
            ]
          },
          "metadata": {}
        },
        {
          "output_type": "display_data",
          "data": {
            "text/plain": [
              "[1] 25"
            ],
            "text/latex": "25",
            "text/markdown": "25",
            "text/html": [
              "25"
            ]
          },
          "metadata": {}
        },
        {
          "output_type": "display_data",
          "data": {
            "text/plain": [
              "[1] 23"
            ],
            "text/latex": "23",
            "text/markdown": "23",
            "text/html": [
              "23"
            ]
          },
          "metadata": {}
        },
        {
          "output_type": "display_data",
          "data": {
            "text/plain": [
              "[1] 25"
            ],
            "text/latex": "25",
            "text/markdown": "25",
            "text/html": [
              "25"
            ]
          },
          "metadata": {}
        }
      ]
    },
    {
      "cell_type": "markdown",
      "id": "9ce31908-cc7a-48e0-89b6-6117a143c13c",
      "metadata": {
        "tags": [],
        "id": "9ce31908-cc7a-48e0-89b6-6117a143c13c"
      },
      "source": [
        "## `6`. 다음을 잘 읽고 물음에 답하라. (20점)"
      ]
    },
    {
      "cell_type": "markdown",
      "id": "24d014aa-d2c5-417f-afcd-c4bbc35f6403",
      "metadata": {
        "id": "24d014aa-d2c5-417f-afcd-c4bbc35f6403"
      },
      "source": [
        "#### `(1)` 자료 $x_1,x_2,\\dots, x_{50}$에 대하여 다음 과정을 순서대로 시행하였다."
      ]
    },
    {
      "cell_type": "markdown",
      "id": "35ad820e-3421-4c0a-a40c-38c78942ed83",
      "metadata": {
        "id": "35ad820e-3421-4c0a-a40c-38c78942ed83"
      },
      "source": [
        "(가) 처음 두 수 $x_1$과 $x_2$의 평균을 구한다. \n",
        "\n",
        "(나) $x_3$을 추가하여 $x_1, x_2, x_3$의 평균을 구한다. \n",
        "\n",
        "(다) $x_4$을 추가하여 $x_1, x_2, x_3, x_4$의 평균을 구한다. \n",
        "\n",
        "...\n",
        "\n",
        "$x_{50}$을 추가하여 $x_1, x_2, x_3 ,\\dots , x_{50}$의 평균을 구한다. "
      ]
    },
    {
      "cell_type": "markdown",
      "id": "4a30daaa-66ce-4344-8ef5-722e8ffb0006",
      "metadata": {
        "id": "4a30daaa-66ce-4344-8ef5-722e8ffb0006"
      },
      "source": [
        "위의 과정을 시행할 결과, $x_1$과 $x_2$의 평균이 5이고, 자료 하나가 추가될때 마다 평균이 1씩 증가하였다. 이때 $x_{50}$의 값은? "
      ]
    },
    {
      "cell_type": "markdown",
      "source": [
        "(가) 두 원소의 합 = 10 (2*5=10)\n",
        "\n",
        "(나) 세 원소의 합 = 18 (3*6=18) -> x_3 = 8\n",
        "\n",
        "(다) 네 원소의 합 = 28 (4*7=28) -> x_4 = 10\n",
        "\n",
        "$\\dots$"
      ],
      "metadata": {
        "id": "Uu_bnztR8CiA"
      },
      "id": "Uu_bnztR8CiA"
    },
    {
      "cell_type": "markdown",
      "source": [
        "원소 배열이 $ 4, 6, 8, 10 \\dots, x_{50} $ 임을 파악\n",
        "\n",
        "해당 항의 값은 $2*(n+1)$ 로 구하면 됨"
      ],
      "metadata": {
        "id": "itJPnIh489G-"
      },
      "id": "itJPnIh489G-"
    },
    {
      "cell_type": "code",
      "source": [
        "2*(50+1)"
      ],
      "metadata": {
        "colab": {
          "base_uri": "https://localhost:8080/",
          "height": 35
        },
        "id": "Yt0jhaYK9cIn",
        "outputId": "44a0f46b-afba-47b7-8a69-c7a03d818c94"
      },
      "id": "Yt0jhaYK9cIn",
      "execution_count": 61,
      "outputs": [
        {
          "output_type": "display_data",
          "data": {
            "text/plain": [
              "[1] 102"
            ],
            "text/latex": "102",
            "text/markdown": "102",
            "text/html": [
              "102"
            ]
          },
          "metadata": {}
        }
      ]
    },
    {
      "cell_type": "markdown",
      "source": [
        "따라서 $x_{50}=102$이다."
      ],
      "metadata": {
        "id": "ToejVgat9meY"
      },
      "id": "ToejVgat9meY"
    },
    {
      "cell_type": "markdown",
      "id": "2e2653d1-f565-4900-ad35-4431ed1d074d",
      "metadata": {
        "tags": [],
        "id": "2e2653d1-f565-4900-ad35-4431ed1d074d"
      },
      "source": [
        "#### `(2)` 복도의 라커 \n",
        "\n",
        "복도에 100개의 라커가 있다. 복도를 어떤 남자가 **짝수번호**의 라커를 모두 연다. 그리고 나서 3의 배수의 라커를 전부 닫는다. 그 다음에는 번호가 4의 배수인 라커를 순서대로 찾아다니며 열려 있으면 닫고, 닫혀 있으면 연다. 그 다음에는 번호가 5의 배수인 라커를 순서대로 찾아다니며 열려있으면 닫고, 닫혀있으면 연다. 이후에 6의 배수, 7의 배수 .. 인 라커를 순서대로 찾아다니며 행동을 반복한다. 이런식으로 복도를 **50번** 지나가면 열린 라커의 문은 몇개가 되겠는가? (주의: 중간고사문제와 약간다릅니다, 다른부분은 볼드체 표시했습니다)"
      ]
    },
    {
      "cell_type": "markdown",
      "id": "e2f77aba-17d3-45c0-977b-ebc7ebc1b007",
      "metadata": {
        "id": "e2f77aba-17d3-45c0-977b-ebc7ebc1b007"
      },
      "source": [
        "#### `(3)` 몬테카를로 시뮬레이션을 이용하여 원주율 $\\pi$를 추론하는 코드를 작성하라. "
      ]
    },
    {
      "cell_type": "markdown",
      "id": "6d96b655-723b-4b88-be3a-179599fec430",
      "metadata": {
        "id": "6d96b655-723b-4b88-be3a-179599fec430"
      },
      "source": [
        "#### `(4)` 아래와 같은 연립일차방정식을 푸는 R코드를 작성하라. "
      ]
    },
    {
      "cell_type": "markdown",
      "id": "1242cd3f-41fe-4f41-870d-311c0ec85d69",
      "metadata": {
        "id": "1242cd3f-41fe-4f41-870d-311c0ec85d69"
      },
      "source": [
        "$\\begin{cases}\n",
        "w+2x+3y+4z=1 \\\\\n",
        "2w+2x+y=9 \\\\\n",
        "x-y=4 \\\\\n",
        "3w+x-y+3y=7\n",
        "\\end{cases}$\n"
      ]
    },
    {
      "cell_type": "markdown",
      "id": "8c0bca0f-2b2b-483e-98bf-46f560db01f7",
      "metadata": {
        "id": "8c0bca0f-2b2b-483e-98bf-46f560db01f7"
      },
      "source": [
        "#### `(5)` 우산의 회전"
      ]
    },
    {
      "cell_type": "markdown",
      "id": "856adbd0-6cac-4de3-9a4e-5758c5b3c60a",
      "metadata": {
        "id": "856adbd0-6cac-4de3-9a4e-5758c5b3c60a"
      },
      "source": [
        "다음은 인터넷에서 어떠한 자료를 다운받아 매트릭스로 저장하는 코드이다. \n",
        "```R\n",
        "df=read.csv(\"https://raw.githubusercontent.com/guebin/2021IR/master/_notebooks/round2.csv\")\n",
        "X=as.matrix(df)\n",
        "```\n",
        "매트릭스는 `X`이라는 변수에 저장되어 있다. 저장된 모양은 아래와 같다. \n",
        "$${\\bf X}= \n",
        "\\begin{bmatrix}\n",
        "x_1 & y_1 \\\\ \n",
        "x_2 & y_2 \\\\ \n",
        "\\dots & \\dots \\\\ \n",
        "x_{5513} & y_{5513}\n",
        "\\end{bmatrix}\n",
        "$$\n",
        "아래를 계산하여 $\\tilde{\\bf X}$를 만들고 \n",
        "$$\n",
        "\\tilde{\\bf X}={\\bf X} \\begin{bmatrix}\n",
        "\\cos(\\frac{\\pi}{4}) & -\\sin (\\frac{\\pi}{4}) \\\\\n",
        "\\sin(\\frac{\\pi}{4}) & \\cos (\\frac{\\pi}{4})\n",
        "\\end{bmatrix} \n",
        "$$"
      ]
    },
    {
      "cell_type": "markdown",
      "id": "ed520940-df49-49ea-b613-704f98d7d0e3",
      "metadata": {
        "id": "ed520940-df49-49ea-b613-704f98d7d0e3"
      },
      "source": [
        "$\\tilde{\\bf X}$의 첫번째열을 $x$축으로, 두번째열을 $y$축으로 하여 시각화 하라. 시각화 예시는 아래와 같다. "
      ]
    },
    {
      "cell_type": "code",
      "source": [
        "df=read.csv(\"https://raw.githubusercontent.com/guebin/2021IR/master/_notebooks/round2.csv\")\n",
        "X=as.matrix(df)"
      ],
      "metadata": {
        "id": "tN9UxwVH7CoG"
      },
      "id": "tN9UxwVH7CoG",
      "execution_count": 49,
      "outputs": []
    },
    {
      "cell_type": "markdown",
      "id": "25975e05-2cf1-47b6-b126-b8caf43009af",
      "metadata": {
        "id": "25975e05-2cf1-47b6-b126-b8caf43009af"
      },
      "source": [
        "![](https://github.com/guebin/2021IR/blob/master/_notebooks/final_fig5.png?raw=true)"
      ]
    },
    {
      "cell_type": "code",
      "source": [
        "X"
      ],
      "metadata": {
        "colab": {
          "base_uri": "https://localhost:8080/",
          "height": 1000
        },
        "id": "tE0sFEme7G1K",
        "outputId": "14b12ac1-ce24-4eb7-fdf5-6471b8e05c5d"
      },
      "id": "tE0sFEme7G1K",
      "execution_count": 50,
      "outputs": [
        {
          "output_type": "display_data",
          "data": {
            "text/plain": [
              "      x   y  \n",
              " [1,] 12  313\n",
              " [2,] 12  314\n",
              " [3,] 13  279\n",
              " [4,] 13  311\n",
              " [5,] 13  312\n",
              " [6,] 13  313\n",
              " [7,] 13  314\n",
              " [8,] 13  315\n",
              " [9,] 14  308\n",
              "[10,] 14  309\n",
              "[11,] 14  310\n",
              "[12,] 14  311\n",
              "[13,] 14  312\n",
              "[14,] 14  313\n",
              "[15,] 14  314\n",
              "[16,] 14  315\n",
              "[17,] 14  316\n",
              "[18,] 14  317\n",
              "[19,] 14  318\n",
              "[20,] 14  319\n",
              "[21,] 14  320\n",
              "[22,] 14  321\n",
              "[23,] 14  322\n",
              "[24,] 15  306\n",
              "[25,] 15  307\n",
              "[26,] 15  308\n",
              "[27,] 15  309\n",
              "[28,] 15  310\n",
              "[29,] 15  311\n",
              "[30,] 15  313\n",
              "[31,] ⋮   ⋮  \n",
              "[32,] 636 375\n",
              "[33,] 636 376\n",
              "[34,] 636 377\n",
              "[35,] 636 378\n",
              "[36,] 636 379\n",
              "[37,] 636 380\n",
              "[38,] 636 381\n",
              "[39,] 636 382\n",
              "[40,] 636 383\n",
              "[41,] 636 384\n",
              "[42,] 636 385\n",
              "[43,] 636 386\n",
              "[44,] 636 391\n",
              "[45,] 636 392\n",
              "[46,] 636 393\n",
              "[47,] 636 394\n",
              "[48,] 636 395\n",
              "[49,] 636 406\n",
              "[50,] 636 407\n",
              "[51,] 636 408\n",
              "[52,] 636 409\n",
              "[53,] 636 410\n",
              "[54,] 636 411\n",
              "[55,] 636 412\n",
              "[56,] 636 413\n",
              "[57,] 636 414\n",
              "[58,] 636 415\n",
              "[59,] 636 416\n",
              "[60,] 636 417\n",
              "[61,] 637 409"
            ],
            "text/latex": "A matrix: 5513 × 2 of type int\n\\begin{tabular}{ll}\n x & y\\\\\n\\hline\n\t 12 & 313\\\\\n\t 12 & 314\\\\\n\t 13 & 279\\\\\n\t 13 & 311\\\\\n\t 13 & 312\\\\\n\t 13 & 313\\\\\n\t 13 & 314\\\\\n\t 13 & 315\\\\\n\t 14 & 308\\\\\n\t 14 & 309\\\\\n\t 14 & 310\\\\\n\t 14 & 311\\\\\n\t 14 & 312\\\\\n\t 14 & 313\\\\\n\t 14 & 314\\\\\n\t 14 & 315\\\\\n\t 14 & 316\\\\\n\t 14 & 317\\\\\n\t 14 & 318\\\\\n\t 14 & 319\\\\\n\t 14 & 320\\\\\n\t 14 & 321\\\\\n\t 14 & 322\\\\\n\t 15 & 306\\\\\n\t 15 & 307\\\\\n\t 15 & 308\\\\\n\t 15 & 309\\\\\n\t 15 & 310\\\\\n\t 15 & 311\\\\\n\t 15 & 313\\\\\n\t ⋮ & ⋮\\\\\n\t 636 & 375\\\\\n\t 636 & 376\\\\\n\t 636 & 377\\\\\n\t 636 & 378\\\\\n\t 636 & 379\\\\\n\t 636 & 380\\\\\n\t 636 & 381\\\\\n\t 636 & 382\\\\\n\t 636 & 383\\\\\n\t 636 & 384\\\\\n\t 636 & 385\\\\\n\t 636 & 386\\\\\n\t 636 & 391\\\\\n\t 636 & 392\\\\\n\t 636 & 393\\\\\n\t 636 & 394\\\\\n\t 636 & 395\\\\\n\t 636 & 406\\\\\n\t 636 & 407\\\\\n\t 636 & 408\\\\\n\t 636 & 409\\\\\n\t 636 & 410\\\\\n\t 636 & 411\\\\\n\t 636 & 412\\\\\n\t 636 & 413\\\\\n\t 636 & 414\\\\\n\t 636 & 415\\\\\n\t 636 & 416\\\\\n\t 636 & 417\\\\\n\t 637 & 409\\\\\n\\end{tabular}\n",
            "text/markdown": "\nA matrix: 5513 × 2 of type int\n\n| x | y |\n|---|---|\n| 12 | 313 |\n| 12 | 314 |\n| 13 | 279 |\n| 13 | 311 |\n| 13 | 312 |\n| 13 | 313 |\n| 13 | 314 |\n| 13 | 315 |\n| 14 | 308 |\n| 14 | 309 |\n| 14 | 310 |\n| 14 | 311 |\n| 14 | 312 |\n| 14 | 313 |\n| 14 | 314 |\n| 14 | 315 |\n| 14 | 316 |\n| 14 | 317 |\n| 14 | 318 |\n| 14 | 319 |\n| 14 | 320 |\n| 14 | 321 |\n| 14 | 322 |\n| 15 | 306 |\n| 15 | 307 |\n| 15 | 308 |\n| 15 | 309 |\n| 15 | 310 |\n| 15 | 311 |\n| 15 | 313 |\n| ⋮ | ⋮ |\n| 636 | 375 |\n| 636 | 376 |\n| 636 | 377 |\n| 636 | 378 |\n| 636 | 379 |\n| 636 | 380 |\n| 636 | 381 |\n| 636 | 382 |\n| 636 | 383 |\n| 636 | 384 |\n| 636 | 385 |\n| 636 | 386 |\n| 636 | 391 |\n| 636 | 392 |\n| 636 | 393 |\n| 636 | 394 |\n| 636 | 395 |\n| 636 | 406 |\n| 636 | 407 |\n| 636 | 408 |\n| 636 | 409 |\n| 636 | 410 |\n| 636 | 411 |\n| 636 | 412 |\n| 636 | 413 |\n| 636 | 414 |\n| 636 | 415 |\n| 636 | 416 |\n| 636 | 417 |\n| 637 | 409 |\n\n",
            "text/html": [
              "<table class=\"dataframe\">\n",
              "<caption>A matrix: 5513 × 2 of type int</caption>\n",
              "<thead>\n",
              "\t<tr><th scope=col>x</th><th scope=col>y</th></tr>\n",
              "</thead>\n",
              "<tbody>\n",
              "\t<tr><td>12</td><td>313</td></tr>\n",
              "\t<tr><td>12</td><td>314</td></tr>\n",
              "\t<tr><td>13</td><td>279</td></tr>\n",
              "\t<tr><td>13</td><td>311</td></tr>\n",
              "\t<tr><td>13</td><td>312</td></tr>\n",
              "\t<tr><td>13</td><td>313</td></tr>\n",
              "\t<tr><td>13</td><td>314</td></tr>\n",
              "\t<tr><td>13</td><td>315</td></tr>\n",
              "\t<tr><td>14</td><td>308</td></tr>\n",
              "\t<tr><td>14</td><td>309</td></tr>\n",
              "\t<tr><td>14</td><td>310</td></tr>\n",
              "\t<tr><td>14</td><td>311</td></tr>\n",
              "\t<tr><td>14</td><td>312</td></tr>\n",
              "\t<tr><td>14</td><td>313</td></tr>\n",
              "\t<tr><td>14</td><td>314</td></tr>\n",
              "\t<tr><td>14</td><td>315</td></tr>\n",
              "\t<tr><td>14</td><td>316</td></tr>\n",
              "\t<tr><td>14</td><td>317</td></tr>\n",
              "\t<tr><td>14</td><td>318</td></tr>\n",
              "\t<tr><td>14</td><td>319</td></tr>\n",
              "\t<tr><td>14</td><td>320</td></tr>\n",
              "\t<tr><td>14</td><td>321</td></tr>\n",
              "\t<tr><td>14</td><td>322</td></tr>\n",
              "\t<tr><td>15</td><td>306</td></tr>\n",
              "\t<tr><td>15</td><td>307</td></tr>\n",
              "\t<tr><td>15</td><td>308</td></tr>\n",
              "\t<tr><td>15</td><td>309</td></tr>\n",
              "\t<tr><td>15</td><td>310</td></tr>\n",
              "\t<tr><td>15</td><td>311</td></tr>\n",
              "\t<tr><td>15</td><td>313</td></tr>\n",
              "\t<tr><td>⋮</td><td>⋮</td></tr>\n",
              "\t<tr><td>636</td><td>375</td></tr>\n",
              "\t<tr><td>636</td><td>376</td></tr>\n",
              "\t<tr><td>636</td><td>377</td></tr>\n",
              "\t<tr><td>636</td><td>378</td></tr>\n",
              "\t<tr><td>636</td><td>379</td></tr>\n",
              "\t<tr><td>636</td><td>380</td></tr>\n",
              "\t<tr><td>636</td><td>381</td></tr>\n",
              "\t<tr><td>636</td><td>382</td></tr>\n",
              "\t<tr><td>636</td><td>383</td></tr>\n",
              "\t<tr><td>636</td><td>384</td></tr>\n",
              "\t<tr><td>636</td><td>385</td></tr>\n",
              "\t<tr><td>636</td><td>386</td></tr>\n",
              "\t<tr><td>636</td><td>391</td></tr>\n",
              "\t<tr><td>636</td><td>392</td></tr>\n",
              "\t<tr><td>636</td><td>393</td></tr>\n",
              "\t<tr><td>636</td><td>394</td></tr>\n",
              "\t<tr><td>636</td><td>395</td></tr>\n",
              "\t<tr><td>636</td><td>406</td></tr>\n",
              "\t<tr><td>636</td><td>407</td></tr>\n",
              "\t<tr><td>636</td><td>408</td></tr>\n",
              "\t<tr><td>636</td><td>409</td></tr>\n",
              "\t<tr><td>636</td><td>410</td></tr>\n",
              "\t<tr><td>636</td><td>411</td></tr>\n",
              "\t<tr><td>636</td><td>412</td></tr>\n",
              "\t<tr><td>636</td><td>413</td></tr>\n",
              "\t<tr><td>636</td><td>414</td></tr>\n",
              "\t<tr><td>636</td><td>415</td></tr>\n",
              "\t<tr><td>636</td><td>416</td></tr>\n",
              "\t<tr><td>636</td><td>417</td></tr>\n",
              "\t<tr><td>637</td><td>409</td></tr>\n",
              "</tbody>\n",
              "</table>\n"
            ]
          },
          "metadata": {}
        }
      ]
    },
    {
      "cell_type": "code",
      "source": [
        "x_=X %*% rbind(cbind(cos(pi/4),-sin(pi/4)),cbind(sin(pi/4),cos(pi/4)))\n",
        "x_"
      ],
      "metadata": {
        "colab": {
          "base_uri": "https://localhost:8080/",
          "height": 1000
        },
        "id": "IkdGGO997HIQ",
        "outputId": "5db2ebc6-10f4-45b9-999f-c1034e94af95"
      },
      "id": "IkdGGO997HIQ",
      "execution_count": 55,
      "outputs": [
        {
          "output_type": "display_data",
          "data": {
            "text/plain": [
              "      [,1]     [,2]     \n",
              " [1,] 229.8097 212.8391 \n",
              " [2,] 230.5168 213.5462 \n",
              " [3,] 206.4752 188.0904 \n",
              " [4,] 229.1026 210.7178 \n",
              " [5,] 229.8097 211.4249 \n",
              " [6,] 230.5168 212.1320 \n",
              " [7,] 231.2239 212.8391 \n",
              " [8,] 231.9310 213.5462 \n",
              " [9,] 227.6884 207.8894 \n",
              "[10,] 228.3955 208.5965 \n",
              "[11,] 229.1026 209.3036 \n",
              "[12,] 229.8097 210.0107 \n",
              "[13,] 230.5168 210.7178 \n",
              "[14,] 231.2239 211.4249 \n",
              "[15,] 231.9310 212.1320 \n",
              "[16,] 232.6381 212.8391 \n",
              "[17,] 233.3452 213.5462 \n",
              "[18,] 234.0523 214.2534 \n",
              "[19,] 234.7595 214.9605 \n",
              "[20,] 235.4666 215.6676 \n",
              "[21,] 236.1737 216.3747 \n",
              "[22,] 236.8808 217.0818 \n",
              "[23,] 237.5879 217.7889 \n",
              "[24,] 226.9813 205.7681 \n",
              "[25,] 227.6884 206.4752 \n",
              "[26,] 228.3955 207.1823 \n",
              "[27,] 229.1026 207.8894 \n",
              "[28,] 229.8097 208.5965 \n",
              "[29,] 230.5168 209.3036 \n",
              "[30,] 231.9310 210.7178 \n",
              "[31,] ⋮        ⋮        \n",
              "[32,] 714.8850 -184.5549\n",
              "[33,] 715.5921 -183.8478\n",
              "[34,] 716.2992 -183.1407\n",
              "[35,] 717.0063 -182.4335\n",
              "[36,] 717.7134 -181.7264\n",
              "[37,] 718.4205 -181.0193\n",
              "[38,] 719.1276 -180.3122\n",
              "[39,] 719.8347 -179.6051\n",
              "[40,] 720.5418 -178.8980\n",
              "[41,] 721.2489 -178.1909\n",
              "[42,] 721.9560 -177.4838\n",
              "[43,] 722.6631 -176.7767\n",
              "[44,] 726.1987 -173.2412\n",
              "[45,] 726.9058 -172.5341\n",
              "[46,] 727.6129 -171.8269\n",
              "[47,] 728.3200 -171.1198\n",
              "[48,] 729.0271 -170.4127\n",
              "[49,] 736.8053 -162.6346\n",
              "[50,] 737.5124 -161.9275\n",
              "[51,] 738.2195 -161.2203\n",
              "[52,] 738.9266 -160.5132\n",
              "[53,] 739.6337 -159.8061\n",
              "[54,] 740.3408 -159.0990\n",
              "[55,] 741.0479 -158.3919\n",
              "[56,] 741.7550 -157.6848\n",
              "[57,] 742.4621 -156.9777\n",
              "[58,] 743.1692 -156.2706\n",
              "[59,] 743.8763 -155.5635\n",
              "[60,] 744.5834 -154.8564\n",
              "[61,] 739.6337 -161.2203"
            ],
            "text/latex": "A matrix: 5513 × 2 of type dbl\n\\begin{tabular}{ll}\n\t 229.8097 & 212.8391\\\\\n\t 230.5168 & 213.5462\\\\\n\t 206.4752 & 188.0904\\\\\n\t 229.1026 & 210.7178\\\\\n\t 229.8097 & 211.4249\\\\\n\t 230.5168 & 212.1320\\\\\n\t 231.2239 & 212.8391\\\\\n\t 231.9310 & 213.5462\\\\\n\t 227.6884 & 207.8894\\\\\n\t 228.3955 & 208.5965\\\\\n\t 229.1026 & 209.3036\\\\\n\t 229.8097 & 210.0107\\\\\n\t 230.5168 & 210.7178\\\\\n\t 231.2239 & 211.4249\\\\\n\t 231.9310 & 212.1320\\\\\n\t 232.6381 & 212.8391\\\\\n\t 233.3452 & 213.5462\\\\\n\t 234.0523 & 214.2534\\\\\n\t 234.7595 & 214.9605\\\\\n\t 235.4666 & 215.6676\\\\\n\t 236.1737 & 216.3747\\\\\n\t 236.8808 & 217.0818\\\\\n\t 237.5879 & 217.7889\\\\\n\t 226.9813 & 205.7681\\\\\n\t 227.6884 & 206.4752\\\\\n\t 228.3955 & 207.1823\\\\\n\t 229.1026 & 207.8894\\\\\n\t 229.8097 & 208.5965\\\\\n\t 230.5168 & 209.3036\\\\\n\t 231.9310 & 210.7178\\\\\n\t ⋮ & ⋮\\\\\n\t 714.8850 & -184.5549\\\\\n\t 715.5921 & -183.8478\\\\\n\t 716.2992 & -183.1407\\\\\n\t 717.0063 & -182.4335\\\\\n\t 717.7134 & -181.7264\\\\\n\t 718.4205 & -181.0193\\\\\n\t 719.1276 & -180.3122\\\\\n\t 719.8347 & -179.6051\\\\\n\t 720.5418 & -178.8980\\\\\n\t 721.2489 & -178.1909\\\\\n\t 721.9560 & -177.4838\\\\\n\t 722.6631 & -176.7767\\\\\n\t 726.1987 & -173.2412\\\\\n\t 726.9058 & -172.5341\\\\\n\t 727.6129 & -171.8269\\\\\n\t 728.3200 & -171.1198\\\\\n\t 729.0271 & -170.4127\\\\\n\t 736.8053 & -162.6346\\\\\n\t 737.5124 & -161.9275\\\\\n\t 738.2195 & -161.2203\\\\\n\t 738.9266 & -160.5132\\\\\n\t 739.6337 & -159.8061\\\\\n\t 740.3408 & -159.0990\\\\\n\t 741.0479 & -158.3919\\\\\n\t 741.7550 & -157.6848\\\\\n\t 742.4621 & -156.9777\\\\\n\t 743.1692 & -156.2706\\\\\n\t 743.8763 & -155.5635\\\\\n\t 744.5834 & -154.8564\\\\\n\t 739.6337 & -161.2203\\\\\n\\end{tabular}\n",
            "text/markdown": "\nA matrix: 5513 × 2 of type dbl\n\n| 229.8097 | 212.8391 |\n| 230.5168 | 213.5462 |\n| 206.4752 | 188.0904 |\n| 229.1026 | 210.7178 |\n| 229.8097 | 211.4249 |\n| 230.5168 | 212.1320 |\n| 231.2239 | 212.8391 |\n| 231.9310 | 213.5462 |\n| 227.6884 | 207.8894 |\n| 228.3955 | 208.5965 |\n| 229.1026 | 209.3036 |\n| 229.8097 | 210.0107 |\n| 230.5168 | 210.7178 |\n| 231.2239 | 211.4249 |\n| 231.9310 | 212.1320 |\n| 232.6381 | 212.8391 |\n| 233.3452 | 213.5462 |\n| 234.0523 | 214.2534 |\n| 234.7595 | 214.9605 |\n| 235.4666 | 215.6676 |\n| 236.1737 | 216.3747 |\n| 236.8808 | 217.0818 |\n| 237.5879 | 217.7889 |\n| 226.9813 | 205.7681 |\n| 227.6884 | 206.4752 |\n| 228.3955 | 207.1823 |\n| 229.1026 | 207.8894 |\n| 229.8097 | 208.5965 |\n| 230.5168 | 209.3036 |\n| 231.9310 | 210.7178 |\n| ⋮ | ⋮ |\n| 714.8850 | -184.5549 |\n| 715.5921 | -183.8478 |\n| 716.2992 | -183.1407 |\n| 717.0063 | -182.4335 |\n| 717.7134 | -181.7264 |\n| 718.4205 | -181.0193 |\n| 719.1276 | -180.3122 |\n| 719.8347 | -179.6051 |\n| 720.5418 | -178.8980 |\n| 721.2489 | -178.1909 |\n| 721.9560 | -177.4838 |\n| 722.6631 | -176.7767 |\n| 726.1987 | -173.2412 |\n| 726.9058 | -172.5341 |\n| 727.6129 | -171.8269 |\n| 728.3200 | -171.1198 |\n| 729.0271 | -170.4127 |\n| 736.8053 | -162.6346 |\n| 737.5124 | -161.9275 |\n| 738.2195 | -161.2203 |\n| 738.9266 | -160.5132 |\n| 739.6337 | -159.8061 |\n| 740.3408 | -159.0990 |\n| 741.0479 | -158.3919 |\n| 741.7550 | -157.6848 |\n| 742.4621 | -156.9777 |\n| 743.1692 | -156.2706 |\n| 743.8763 | -155.5635 |\n| 744.5834 | -154.8564 |\n| 739.6337 | -161.2203 |\n\n",
            "text/html": [
              "<table class=\"dataframe\">\n",
              "<caption>A matrix: 5513 × 2 of type dbl</caption>\n",
              "<tbody>\n",
              "\t<tr><td>229.8097</td><td>212.8391</td></tr>\n",
              "\t<tr><td>230.5168</td><td>213.5462</td></tr>\n",
              "\t<tr><td>206.4752</td><td>188.0904</td></tr>\n",
              "\t<tr><td>229.1026</td><td>210.7178</td></tr>\n",
              "\t<tr><td>229.8097</td><td>211.4249</td></tr>\n",
              "\t<tr><td>230.5168</td><td>212.1320</td></tr>\n",
              "\t<tr><td>231.2239</td><td>212.8391</td></tr>\n",
              "\t<tr><td>231.9310</td><td>213.5462</td></tr>\n",
              "\t<tr><td>227.6884</td><td>207.8894</td></tr>\n",
              "\t<tr><td>228.3955</td><td>208.5965</td></tr>\n",
              "\t<tr><td>229.1026</td><td>209.3036</td></tr>\n",
              "\t<tr><td>229.8097</td><td>210.0107</td></tr>\n",
              "\t<tr><td>230.5168</td><td>210.7178</td></tr>\n",
              "\t<tr><td>231.2239</td><td>211.4249</td></tr>\n",
              "\t<tr><td>231.9310</td><td>212.1320</td></tr>\n",
              "\t<tr><td>232.6381</td><td>212.8391</td></tr>\n",
              "\t<tr><td>233.3452</td><td>213.5462</td></tr>\n",
              "\t<tr><td>234.0523</td><td>214.2534</td></tr>\n",
              "\t<tr><td>234.7595</td><td>214.9605</td></tr>\n",
              "\t<tr><td>235.4666</td><td>215.6676</td></tr>\n",
              "\t<tr><td>236.1737</td><td>216.3747</td></tr>\n",
              "\t<tr><td>236.8808</td><td>217.0818</td></tr>\n",
              "\t<tr><td>237.5879</td><td>217.7889</td></tr>\n",
              "\t<tr><td>226.9813</td><td>205.7681</td></tr>\n",
              "\t<tr><td>227.6884</td><td>206.4752</td></tr>\n",
              "\t<tr><td>228.3955</td><td>207.1823</td></tr>\n",
              "\t<tr><td>229.1026</td><td>207.8894</td></tr>\n",
              "\t<tr><td>229.8097</td><td>208.5965</td></tr>\n",
              "\t<tr><td>230.5168</td><td>209.3036</td></tr>\n",
              "\t<tr><td>231.9310</td><td>210.7178</td></tr>\n",
              "\t<tr><td>⋮</td><td>⋮</td></tr>\n",
              "\t<tr><td>714.8850</td><td>-184.5549</td></tr>\n",
              "\t<tr><td>715.5921</td><td>-183.8478</td></tr>\n",
              "\t<tr><td>716.2992</td><td>-183.1407</td></tr>\n",
              "\t<tr><td>717.0063</td><td>-182.4335</td></tr>\n",
              "\t<tr><td>717.7134</td><td>-181.7264</td></tr>\n",
              "\t<tr><td>718.4205</td><td>-181.0193</td></tr>\n",
              "\t<tr><td>719.1276</td><td>-180.3122</td></tr>\n",
              "\t<tr><td>719.8347</td><td>-179.6051</td></tr>\n",
              "\t<tr><td>720.5418</td><td>-178.8980</td></tr>\n",
              "\t<tr><td>721.2489</td><td>-178.1909</td></tr>\n",
              "\t<tr><td>721.9560</td><td>-177.4838</td></tr>\n",
              "\t<tr><td>722.6631</td><td>-176.7767</td></tr>\n",
              "\t<tr><td>726.1987</td><td>-173.2412</td></tr>\n",
              "\t<tr><td>726.9058</td><td>-172.5341</td></tr>\n",
              "\t<tr><td>727.6129</td><td>-171.8269</td></tr>\n",
              "\t<tr><td>728.3200</td><td>-171.1198</td></tr>\n",
              "\t<tr><td>729.0271</td><td>-170.4127</td></tr>\n",
              "\t<tr><td>736.8053</td><td>-162.6346</td></tr>\n",
              "\t<tr><td>737.5124</td><td>-161.9275</td></tr>\n",
              "\t<tr><td>738.2195</td><td>-161.2203</td></tr>\n",
              "\t<tr><td>738.9266</td><td>-160.5132</td></tr>\n",
              "\t<tr><td>739.6337</td><td>-159.8061</td></tr>\n",
              "\t<tr><td>740.3408</td><td>-159.0990</td></tr>\n",
              "\t<tr><td>741.0479</td><td>-158.3919</td></tr>\n",
              "\t<tr><td>741.7550</td><td>-157.6848</td></tr>\n",
              "\t<tr><td>742.4621</td><td>-156.9777</td></tr>\n",
              "\t<tr><td>743.1692</td><td>-156.2706</td></tr>\n",
              "\t<tr><td>743.8763</td><td>-155.5635</td></tr>\n",
              "\t<tr><td>744.5834</td><td>-154.8564</td></tr>\n",
              "\t<tr><td>739.6337</td><td>-161.2203</td></tr>\n",
              "</tbody>\n",
              "</table>\n"
            ]
          },
          "metadata": {}
        }
      ]
    },
    {
      "cell_type": "code",
      "source": [
        "a=x_[,1]\n",
        "b=x_[,2]"
      ],
      "metadata": {
        "id": "Wgz2c5oi7N-8"
      },
      "id": "Wgz2c5oi7N-8",
      "execution_count": 58,
      "outputs": []
    },
    {
      "cell_type": "code",
      "source": [
        "plot(a,b)"
      ],
      "metadata": {
        "colab": {
          "base_uri": "https://localhost:8080/",
          "height": 467
        },
        "id": "oQHVe8DR7yS-",
        "outputId": "82154128-dfb8-446e-8b18-e8055f87ff4d"
      },
      "id": "oQHVe8DR7yS-",
      "execution_count": 59,
      "outputs": [
        {
          "output_type": "display_data",
          "data": {
            "image/png": "[encoded data removed]",
            "text/plain": [
              "plot without title"
            ]
          },
          "metadata": {
            "image/png": {
              "width": 450,
              "height": 450
            }
          }
        }
      ]
    },
    {
      "cell_type": "code",
      "source": [
        ""
      ],
      "metadata": {
        "id": "uhS1rA7H77qF"
      },
      "id": "uhS1rA7H77qF",
      "execution_count": null,
      "outputs": []
    }
  ],
  "metadata": {
    "kernelspec": {
      "display_name": "R",
      "language": "R",
      "name": "ir"
    },
    "language_info": {
      "codemirror_mode": "r",
      "file_extension": ".r",
      "mimetype": "text/x-r-source",
      "name": "R",
      "pygments_lexer": "r",
      "version": "4.0.5"
    },
    "colab": {
      "name": "R입문_김수빈 (5번-6번)",
      "provenance": [],
      "collapsed_sections": [
        "8f836f58-cb7d-4b0e-9e6c-612030446856",
        "feb55d2e-1824-4ada-b0fc-a2c5e934c5c1",
        "d0e96a57-a0a1-4be6-9743-78bb9007e0bf",
        "709adf3e-9747-49ab-a28d-6bc014195e29",
        "cb8ae7c8-4aec-4538-a305-67626417b60a",
        "e416ebdb-1db2-44ae-8c06-ab2c9033fea7",
        "2f3df486-8f37-42ed-b142-1371e265d0a4",
        "24d014aa-d2c5-417f-afcd-c4bbc35f6403",
        "2e2653d1-f565-4900-ad35-4431ed1d074d",
        "e2f77aba-17d3-45c0-977b-ebc7ebc1b007",
        "8c0bca0f-2b2b-483e-98bf-46f560db01f7"
      ]
    }
  },
  "nbformat": 4,
  "nbformat_minor": 5
}