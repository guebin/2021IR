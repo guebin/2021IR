{
 "cells": [
  {
   "cell_type": "markdown",
   "id": "cd0b452a-d6b0-4bb5-945a-f88ef93a7f89",
   "metadata": {
    "tags": []
   },
   "source": [
    "# 2021년 1학기 R입문 기말고사 (ver 1.00)\n",
    "\n",
    "- toc:false\n",
    "- branch: master\n",
    "- badges: true\n",
    "- comments: true\n",
    "- author: 최규빈"
   ]
  },
  {
   "cell_type": "code",
   "execution_count": 49,
   "id": "a27abf35-cdef-4797-a470-e479ecad2a93",
   "metadata": {
    "tags": []
   },
   "outputs": [],
   "source": [
    "#hide\n",
    "#options(jupyter.rich_display=FALSE)\n",
    "options(repr.plot.width=6,repr.plot.height=6,repr.plot.res=150)\n",
    "options(max.print=1000)"
   ]
  },
  {
   "cell_type": "code",
   "execution_count": 82,
   "id": "0f0dd320-c912-4ef2-9d36-94e9bce5910e",
   "metadata": {},
   "outputs": [
    {
     "name": "stderr",
     "output_type": "stream",
     "text": [
      "-- \u001b[1mAttaching packages\u001b[22m ------------------------------------------------------------------------------- tidyverse 1.3.1 --\n",
      "\n",
      "\u001b[32mv\u001b[39m \u001b[34mggplot2\u001b[39m 3.3.5     \u001b[32mv\u001b[39m \u001b[34mpurrr  \u001b[39m 0.3.4\n",
      "\u001b[32mv\u001b[39m \u001b[34mtibble \u001b[39m 3.1.5     \u001b[32mv\u001b[39m \u001b[34mdplyr  \u001b[39m 1.0.7\n",
      "\u001b[32mv\u001b[39m \u001b[34mtidyr  \u001b[39m 1.1.4     \u001b[32mv\u001b[39m \u001b[34mstringr\u001b[39m 1.4.0\n",
      "\u001b[32mv\u001b[39m \u001b[34mreadr  \u001b[39m 2.0.2     \u001b[32mv\u001b[39m \u001b[34mforcats\u001b[39m 0.5.1\n",
      "\n",
      "-- \u001b[1mConflicts\u001b[22m ---------------------------------------------------------------------------------- tidyverse_conflicts() --\n",
      "\u001b[31mx\u001b[39m \u001b[34mdplyr\u001b[39m::\u001b[32mfilter()\u001b[39m masks \u001b[34mstats\u001b[39m::filter()\n",
      "\u001b[31mx\u001b[39m \u001b[34mdplyr\u001b[39m::\u001b[32mlag()\u001b[39m    masks \u001b[34mstats\u001b[39m::lag()\n",
      "\n"
     ]
    }
   ],
   "source": [
    "library(tidyverse)"
   ]
  },
  {
   "cell_type": "markdown",
   "id": "224b4143-8f5b-43aa-a723-84187e7cfa37",
   "metadata": {},
   "source": [
    "## `5`. 다음을 잘 읽고 물음에 답하라. (10점)"
   ]
  },
  {
   "cell_type": "markdown",
   "id": "60833008-ae1c-4a00-b6bc-70cb3ee831f6",
   "metadata": {
    "tags": []
   },
   "source": [
    "#### `(1)` cumprod 함수를 이용하여 $7!=7\\times 6 \\times 5 \\times \\dots \\times 1$을 계산하라. "
   ]
  },
  {
   "cell_type": "code",
   "execution_count": 11,
   "id": "87fa03e1-af74-4de5-85ed-15382053e6ba",
   "metadata": {},
   "outputs": [
    {
     "data": {
      "text/html": [
       "<style>\n",
       ".list-inline {list-style: none; margin:0; padding: 0}\n",
       ".list-inline>li {display: inline-block}\n",
       ".list-inline>li:not(:last-child)::after {content: \"\\00b7\"; padding: 0 .5ex}\n",
       "</style>\n",
       "<ol class=list-inline><li>1</li><li>2</li><li>6</li><li>24</li><li>120</li><li>720</li><li>5040</li></ol>\n"
      ],
      "text/latex": [
       "\\begin{enumerate*}\n",
       "\\item 1\n",
       "\\item 2\n",
       "\\item 6\n",
       "\\item 24\n",
       "\\item 120\n",
       "\\item 720\n",
       "\\item 5040\n",
       "\\end{enumerate*}\n"
      ],
      "text/markdown": [
       "1. 1\n",
       "2. 2\n",
       "3. 6\n",
       "4. 24\n",
       "5. 120\n",
       "6. 720\n",
       "7. 5040\n",
       "\n",
       "\n"
      ],
      "text/plain": [
       "[1]    1    2    6   24  120  720 5040"
      ]
     },
     "metadata": {},
     "output_type": "display_data"
    },
    {
     "data": {
      "text/html": [
       "5040"
      ],
      "text/latex": [
       "5040"
      ],
      "text/markdown": [
       "5040"
      ],
      "text/plain": [
       "[1] 5040"
      ]
     },
     "metadata": {},
     "output_type": "display_data"
    }
   ],
   "source": [
    "cumprod(1:7)\n",
    "7*6*5*4*3*2*1"
   ]
  },
  {
   "cell_type": "markdown",
   "id": "c78c6221-b283-43c7-a126-5dec505c68ec",
   "metadata": {},
   "source": [
    "#### `(2)` $\\sum_{n=0}^{\\infty}\\frac{n}{n!}$의 값을 근사적으로 계산하라. 계산결과를 exp(1)과 비교하라. "
   ]
  },
  {
   "cell_type": "code",
   "execution_count": 18,
   "id": "5c2681a1-37df-4efb-a211-79881d60ed2b",
   "metadata": {},
   "outputs": [
    {
     "data": {
      "text/html": [
       "17182.8182845905"
      ],
      "text/latex": [
       "17182.8182845905"
      ],
      "text/markdown": [
       "17182.8182845905"
      ],
      "text/plain": [
       "[1] 17182.82"
      ]
     },
     "metadata": {},
     "output_type": "display_data"
    },
    {
     "data": {
      "text/html": [
       "2.71828182845905"
      ],
      "text/latex": [
       "2.71828182845905"
      ],
      "text/markdown": [
       "2.71828182845905"
      ],
      "text/plain": [
       "[1] 2.718282"
      ]
     },
     "metadata": {},
     "output_type": "display_data"
    }
   ],
   "source": [
    "x=0\n",
    "for(n in 1:10000){\n",
    "    x=(n/cumprod(1:n))\n",
    "    \n",
    "}\n",
    "sum(x)\n",
    "exp(1)"
   ]
  },
  {
   "cell_type": "markdown",
   "id": "fb37132c-7ead-474c-8da8-6d27e33b0b0a",
   "metadata": {
    "tags": []
   },
   "source": [
    "#### `(3)` 표준정규분포에서 1000개의 난수를 생성발생시킨 뒤 0보다 큰 수를 세어보라. "
   ]
  },
  {
   "cell_type": "code",
   "execution_count": 21,
   "id": "5b589d5a-9168-47c1-a8d8-43a81395990b",
   "metadata": {},
   "outputs": [
    {
     "data": {
      "text/html": [
       "511"
      ],
      "text/latex": [
       "511"
      ],
      "text/markdown": [
       "511"
      ],
      "text/plain": [
       "[1] 511"
      ]
     },
     "metadata": {},
     "output_type": "display_data"
    }
   ],
   "source": [
    "sum(rnorm(1000)>0)"
   ]
  },
  {
   "cell_type": "markdown",
   "id": "cb8ae7c8-4aec-4538-a305-67626417b60a",
   "metadata": {},
   "source": [
    "#### `(4)` $p=0.2$인 베르누이분포에서 1000개의 난수를 만들면 1이 몇개정도 포함되는가? 시뮬레이션을 통하여 검증하라."
   ]
  },
  {
   "cell_type": "code",
   "execution_count": 30,
   "id": "cd3fb08e-292b-4c33-8cc3-f2d1575ccbfe",
   "metadata": {},
   "outputs": [
    {
     "data": {
      "text/html": [
       "<style>\n",
       ".list-inline {list-style: none; margin:0; padding: 0}\n",
       ".list-inline>li {display: inline-block}\n",
       ".list-inline>li:not(:last-child)::after {content: \"\\00b7\"; padding: 0 .5ex}\n",
       "</style>\n",
       "<ol class=list-inline><li>0</li><li>1</li><li>0</li><li>0</li><li>1</li><li>0</li></ol>\n"
      ],
      "text/latex": [
       "\\begin{enumerate*}\n",
       "\\item 0\n",
       "\\item 1\n",
       "\\item 0\n",
       "\\item 0\n",
       "\\item 1\n",
       "\\item 0\n",
       "\\end{enumerate*}\n"
      ],
      "text/markdown": [
       "1. 0\n",
       "2. 1\n",
       "3. 0\n",
       "4. 0\n",
       "5. 1\n",
       "6. 0\n",
       "\n",
       "\n"
      ],
      "text/plain": [
       "[1] 0 1 0 0 1 0"
      ]
     },
     "metadata": {},
     "output_type": "display_data"
    },
    {
     "data": {
      "text/html": [
       "202"
      ],
      "text/latex": [
       "202"
      ],
      "text/markdown": [
       "202"
      ],
      "text/plain": [
       "[1] 202"
      ]
     },
     "metadata": {},
     "output_type": "display_data"
    }
   ],
   "source": [
    "A=rbinom(1000,size=1,prob=0.2)\n",
    "head(A)\n",
    "sum(A==1)"
   ]
  },
  {
   "cell_type": "markdown",
   "id": "e416ebdb-1db2-44ae-8c06-ab2c9033fea7",
   "metadata": {},
   "source": [
    "#### `(5)` 아래는 표준정규분포, 즉 평균이 0이고 표준편차가 1인 정규분포에서 1000개의 난수를 생성하여 $x$라는 변수에 저장한뒤 $x$의 히스토그램을 그린 예시이다. 아래의 예시를 이용하여 평균이 1이고 표준편차가 1인 정규분포에서 5000개의 난수를 생성한뒤 $y$에 저장하고 $y$의 히스토그램을 그려라. 시각화 예시는 아래와 같다. "
   ]
  },
  {
   "cell_type": "code",
   "execution_count": 36,
   "id": "9b5dfb2d-3b2a-4769-bf1c-bdedc5536625",
   "metadata": {},
   "outputs": [
    {
     "data": {
      "image/png": "[encoded data removed]",
      "text/plain": [
       "Plot with title \"Histogram of x\""
      ]
     },
     "metadata": {
      "image/png": {
       "height": 450,
       "width": 450
      }
     },
     "output_type": "display_data"
    },
    {
     "data": {
      "image/png": "[encoded data removed]",
      "text/plain": [
       "Plot with title \"Histogram of y\""
      ]
     },
     "metadata": {
      "image/png": {
       "height": 450,
       "width": 450
      }
     },
     "output_type": "display_data"
    }
   ],
   "source": [
    "x=rnorm(1000)\n",
    "hist(x)\n",
    "\n",
    "y=rnorm(5000,mean=1,sd=1)\n",
    "hist(y)"
   ]
  },
  {
   "cell_type": "markdown",
   "id": "2f3df486-8f37-42ed-b142-1371e265d0a4",
   "metadata": {},
   "source": [
    "#### `(6)` 아래와 같은 벡터 x에서 짝수번째 원소 (즉 x[2],x[4],$\\dots$,x[2000])의 합을 구하는 코드를 작성하라 "
   ]
  },
  {
   "cell_type": "code",
   "execution_count": 80,
   "id": "02dbd2f9-e678-4bbd-b6d2-5358e8a5d67c",
   "metadata": {},
   "outputs": [
    {
     "data": {
      "text/html": [
       "0"
      ],
      "text/latex": [
       "0"
      ],
      "text/markdown": [
       "0"
      ],
      "text/plain": [
       "[1] 0"
      ]
     },
     "metadata": {},
     "output_type": "display_data"
    }
   ],
   "source": [
    "x=-1000:1000/1000\n",
    "i =c(1:2001)\n",
    "sum(x[i[i %% 2==0]])\n",
    "\n"
   ]
  },
  {
   "cell_type": "markdown",
   "id": "1148aa17-27a7-458d-b4f7-e1af562351f7",
   "metadata": {},
   "source": [
    "#### `(7)` 2021년 A씨의 연봉은 5000이다. 매년 연봉은 3%씩 오른다고 하자. 2030년 A씨의 연봉은 얼마인가? "
   ]
  },
  {
   "cell_type": "code",
   "execution_count": 52,
   "id": "5e36a49a-57ac-4d49-a6a2-24c0b5602d33",
   "metadata": {},
   "outputs": [
    {
     "name": "stdout",
     "output_type": "stream",
     "text": [
      " [1] 5000.000 5400.000 5832.000 6298.560 6802.445 7346.640 7934.372 8569.121\n",
      " [9] 9254.651 9995.023\n"
     ]
    }
   ],
   "source": [
    "sal=c()\n",
    "sal[1]=5000\n",
    "sal[2]=sal[1]*1.03\n",
    "for (i in 2:10){\n",
    "        sal[i]=sal[i-1]*1.08\n",
    "}\n",
    "print(sal)\n",
    "#9995.023만원"
   ]
  },
  {
   "cell_type": "markdown",
   "id": "ac8212d6-cf8b-4fe2-8c17-eae8bc015819",
   "metadata": {},
   "source": [
    "#### `(8)` 임의의 입력 $x$에 대하여 아래를 만족하는 함수를 선언하라. "
   ]
  },
  {
   "cell_type": "markdown",
   "id": "328e404d-e10d-41ac-b453-a77edcf3eff6",
   "metadata": {},
   "source": [
    "- $x >0$: $\\log (x)$를 계산하여 출력 \n",
    "- $x =0$: print(\"음의 무한대\")\n",
    "- $x <0$: print(\"x는 양수이어야 합니다.\")"
   ]
  },
  {
   "cell_type": "code",
   "execution_count": 107,
   "id": "ec5cb02f-06e8-45a8-9c88-d3153b183056",
   "metadata": {},
   "outputs": [
    {
     "data": {
      "text/html": [],
      "text/latex": [],
      "text/markdown": [],
      "text/plain": [
       "logical(0)"
      ]
     },
     "metadata": {},
     "output_type": "display_data"
    }
   ],
   "source": [
    "\n",
    "ifelse(x>0,log(x),ifelse(x=0,print(\"음의 무한대\"),print(\"x는양수이어야 합니다.\")))\n"
   ]
  },
  {
   "cell_type": "markdown",
   "id": "750e263a-5dcc-48c8-bd17-7ff67034f15b",
   "metadata": {},
   "source": [
    "#### `(9)` 아래와 같은 데이터프레임이 있다고 하자. "
   ]
  },
  {
   "cell_type": "code",
   "execution_count": 84,
   "id": "a120373f-07df-4a12-9816-b2fddde62c74",
   "metadata": {},
   "outputs": [
    {
     "data": {
      "text/html": [
       "<table class=\"dataframe\">\n",
       "<caption>A tibble: 6 × 2</caption>\n",
       "<thead>\n",
       "\t<tr><th scope=col>X1</th><th scope=col>X2</th></tr>\n",
       "\t<tr><th scope=col>&lt;dbl&gt;</th><th scope=col>&lt;dbl&gt;</th></tr>\n",
       "</thead>\n",
       "<tbody>\n",
       "\t<tr><td>-1.92846354</td><td> 0.02290331</td></tr>\n",
       "\t<tr><td> 1.53856294</td><td> 1.39867201</td></tr>\n",
       "\t<tr><td>-0.96846584</td><td> 2.51533453</td></tr>\n",
       "\t<tr><td>-0.05997728</td><td>-0.53182643</td></tr>\n",
       "\t<tr><td> 0.46897714</td><td>-0.60656922</td></tr>\n",
       "\t<tr><td> 0.30319421</td><td>-1.02611360</td></tr>\n",
       "</tbody>\n",
       "</table>\n"
      ],
      "text/latex": [
       "A tibble: 6 × 2\n",
       "\\begin{tabular}{ll}\n",
       " X1 & X2\\\\\n",
       " <dbl> & <dbl>\\\\\n",
       "\\hline\n",
       "\t -1.92846354 &  0.02290331\\\\\n",
       "\t  1.53856294 &  1.39867201\\\\\n",
       "\t -0.96846584 &  2.51533453\\\\\n",
       "\t -0.05997728 & -0.53182643\\\\\n",
       "\t  0.46897714 & -0.60656922\\\\\n",
       "\t  0.30319421 & -1.02611360\\\\\n",
       "\\end{tabular}\n"
      ],
      "text/markdown": [
       "\n",
       "A tibble: 6 × 2\n",
       "\n",
       "| X1 &lt;dbl&gt; | X2 &lt;dbl&gt; |\n",
       "|---|---|\n",
       "| -1.92846354 |  0.02290331 |\n",
       "|  1.53856294 |  1.39867201 |\n",
       "| -0.96846584 |  2.51533453 |\n",
       "| -0.05997728 | -0.53182643 |\n",
       "|  0.46897714 | -0.60656922 |\n",
       "|  0.30319421 | -1.02611360 |\n",
       "\n"
      ],
      "text/plain": [
       "  X1          X2         \n",
       "1 -1.92846354  0.02290331\n",
       "2  1.53856294  1.39867201\n",
       "3 -0.96846584  2.51533453\n",
       "4 -0.05997728 -0.53182643\n",
       "5  0.46897714 -0.60656922\n",
       "6  0.30319421 -1.02611360"
      ]
     },
     "metadata": {},
     "output_type": "display_data"
    }
   ],
   "source": [
    "df=tibble(X1=rnorm(100),X2=rnorm(100))\n",
    "head(df)"
   ]
  },
  {
   "cell_type": "markdown",
   "id": "aa71709c-2459-493e-9cbf-f07e40933074",
   "metadata": {},
   "source": [
    "위의 데이터프레임 df에서 `mutate`를 이용하여 `Z=X1^2+X2^2`을 계산하여 새로운 열 Z를 만들어라. "
   ]
  },
  {
   "cell_type": "code",
   "execution_count": 85,
   "id": "0d06832f-5209-4514-bc7a-577b4614cc82",
   "metadata": {},
   "outputs": [
    {
     "data": {
      "text/html": [
       "<table class=\"dataframe\">\n",
       "<caption>A tibble: 100 × 3</caption>\n",
       "<thead>\n",
       "\t<tr><th scope=col>X1</th><th scope=col>X2</th><th scope=col>Z</th></tr>\n",
       "\t<tr><th scope=col>&lt;dbl&gt;</th><th scope=col>&lt;dbl&gt;</th><th scope=col>&lt;dbl&gt;</th></tr>\n",
       "</thead>\n",
       "<tbody>\n",
       "\t<tr><td>-1.92846354</td><td> 0.02290331</td><td>3.71949618</td></tr>\n",
       "\t<tr><td> 1.53856294</td><td> 1.39867201</td><td>4.32345931</td></tr>\n",
       "\t<tr><td>-0.96846584</td><td> 2.51533453</td><td>7.26483390</td></tr>\n",
       "\t<tr><td>-0.05997728</td><td>-0.53182643</td><td>0.28643663</td></tr>\n",
       "\t<tr><td> 0.46897714</td><td>-0.60656922</td><td>0.58786578</td></tr>\n",
       "\t<tr><td> 0.30319421</td><td>-1.02611360</td><td>1.14483584</td></tr>\n",
       "\t<tr><td> 0.55242628</td><td>-0.39349241</td><td>0.46001108</td></tr>\n",
       "\t<tr><td> 0.81630881</td><td>-0.99671729</td><td>1.65980544</td></tr>\n",
       "\t<tr><td> 0.53745728</td><td> 1.21993222</td><td>1.77709495</td></tr>\n",
       "\t<tr><td> 0.87949145</td><td> 0.06780005</td><td>0.77810206</td></tr>\n",
       "\t<tr><td>-0.56883736</td><td>-0.72823835</td><td>0.85390704</td></tr>\n",
       "\t<tr><td>-1.33486405</td><td> 1.58041982</td><td>4.27958882</td></tr>\n",
       "\t<tr><td> 0.08419384</td><td> 0.13623380</td><td>0.02564825</td></tr>\n",
       "\t<tr><td> 1.12390674</td><td> 1.34594157</td><td>3.07472508</td></tr>\n",
       "\t<tr><td>-0.31667260</td><td>-0.86262998</td><td>0.84441201</td></tr>\n",
       "\t<tr><td> 0.17253858</td><td> 0.49110243</td><td>0.27095116</td></tr>\n",
       "\t<tr><td>-2.57256980</td><td>-1.35415884</td><td>8.45186156</td></tr>\n",
       "\t<tr><td>-0.73379337</td><td>-1.04800108</td><td>1.63675897</td></tr>\n",
       "\t<tr><td> 0.24943763</td><td> 1.11068402</td><td>1.29583813</td></tr>\n",
       "\t<tr><td>-0.23269850</td><td>-0.64393247</td><td>0.46879762</td></tr>\n",
       "\t<tr><td>-0.68893782</td><td> 1.07794352</td><td>1.63659756</td></tr>\n",
       "\t<tr><td> 0.55101290</td><td> 1.41793951</td><td>2.31416767</td></tr>\n",
       "\t<tr><td>-0.28004130</td><td> 0.91277168</td><td>0.91157527</td></tr>\n",
       "\t<tr><td>-0.53499488</td><td>-0.46973532</td><td>0.50687079</td></tr>\n",
       "\t<tr><td> 0.97075640</td><td>-0.14379320</td><td>0.96304447</td></tr>\n",
       "\t<tr><td> 0.52655205</td><td> 1.12295285</td><td>1.53828017</td></tr>\n",
       "\t<tr><td>-1.11585186</td><td>-1.67085792</td><td>4.03689157</td></tr>\n",
       "\t<tr><td> 1.19448360</td><td>-0.36185989</td><td>1.55773366</td></tr>\n",
       "\t<tr><td> 0.45386791</td><td> 1.32458433</td><td>1.96051973</td></tr>\n",
       "\t<tr><td> 0.19089448</td><td>-1.62187252</td><td>2.66691118</td></tr>\n",
       "\t<tr><td>⋮</td><td>⋮</td><td>⋮</td></tr>\n",
       "\t<tr><td>-1.44164112</td><td> 0.07488750</td><td> 2.08393727</td></tr>\n",
       "\t<tr><td> 0.32141984</td><td> 0.82802323</td><td> 0.78893318</td></tr>\n",
       "\t<tr><td> 0.20786727</td><td> 1.15615956</td><td> 1.37991374</td></tr>\n",
       "\t<tr><td>-0.43676096</td><td>-0.98509125</td><td> 1.16116490</td></tr>\n",
       "\t<tr><td> 1.43362861</td><td> 0.63992259</td><td> 2.46479191</td></tr>\n",
       "\t<tr><td>-0.44702111</td><td> 0.51405258</td><td> 0.46407792</td></tr>\n",
       "\t<tr><td> 0.74978617</td><td> 0.31436349</td><td> 0.66100370</td></tr>\n",
       "\t<tr><td> 0.18765260</td><td> 0.01771286</td><td> 0.03552724</td></tr>\n",
       "\t<tr><td> 0.23565265</td><td> 0.70587792</td><td> 0.55379581</td></tr>\n",
       "\t<tr><td> 0.29709365</td><td> 0.81209472</td><td> 0.74776248</td></tr>\n",
       "\t<tr><td>-2.43159754</td><td>-2.34141163</td><td>11.39487502</td></tr>\n",
       "\t<tr><td>-0.11419823</td><td> 0.57262143</td><td> 0.34093653</td></tr>\n",
       "\t<tr><td>-0.73625169</td><td> 0.75566096</td><td> 1.11309004</td></tr>\n",
       "\t<tr><td> 2.39079452</td><td> 0.36155536</td><td> 5.84662071</td></tr>\n",
       "\t<tr><td> 1.02487698</td><td>-0.94610831</td><td> 1.94549375</td></tr>\n",
       "\t<tr><td> 0.60448315</td><td> 0.15875918</td><td> 0.39060436</td></tr>\n",
       "\t<tr><td> 0.21137378</td><td> 0.88749417</td><td> 0.83232477</td></tr>\n",
       "\t<tr><td> 0.37733082</td><td>-1.01301286</td><td> 1.16857361</td></tr>\n",
       "\t<tr><td> 0.26390883</td><td>-0.56524930</td><td> 0.38915465</td></tr>\n",
       "\t<tr><td>-1.07105677</td><td>-0.11348530</td><td> 1.16004151</td></tr>\n",
       "\t<tr><td>-0.16631801</td><td>-0.35148071</td><td> 0.15120037</td></tr>\n",
       "\t<tr><td> 0.13972173</td><td> 0.15988552</td><td> 0.04508554</td></tr>\n",
       "\t<tr><td>-1.06838899</td><td> 1.43416840</td><td> 3.19829403</td></tr>\n",
       "\t<tr><td>-0.40009045</td><td> 0.04904888</td><td> 0.16247816</td></tr>\n",
       "\t<tr><td> 0.06962041</td><td>-2.20148673</td><td> 4.85139085</td></tr>\n",
       "\t<tr><td> 0.25955819</td><td> 1.27273507</td><td> 1.68722500</td></tr>\n",
       "\t<tr><td>-0.13372689</td><td>-0.63789102</td><td> 0.42478784</td></tr>\n",
       "\t<tr><td>-0.29230783</td><td>-1.02197190</td><td> 1.12987044</td></tr>\n",
       "\t<tr><td>-2.70433841</td><td>-0.75252267</td><td> 7.87973663</td></tr>\n",
       "\t<tr><td>-1.69850295</td><td> 0.04562868</td><td> 2.88699423</td></tr>\n",
       "</tbody>\n",
       "</table>\n"
      ],
      "text/latex": [
       "A tibble: 100 × 3\n",
       "\\begin{tabular}{lll}\n",
       " X1 & X2 & Z\\\\\n",
       " <dbl> & <dbl> & <dbl>\\\\\n",
       "\\hline\n",
       "\t -1.92846354 &  0.02290331 & 3.71949618\\\\\n",
       "\t  1.53856294 &  1.39867201 & 4.32345931\\\\\n",
       "\t -0.96846584 &  2.51533453 & 7.26483390\\\\\n",
       "\t -0.05997728 & -0.53182643 & 0.28643663\\\\\n",
       "\t  0.46897714 & -0.60656922 & 0.58786578\\\\\n",
       "\t  0.30319421 & -1.02611360 & 1.14483584\\\\\n",
       "\t  0.55242628 & -0.39349241 & 0.46001108\\\\\n",
       "\t  0.81630881 & -0.99671729 & 1.65980544\\\\\n",
       "\t  0.53745728 &  1.21993222 & 1.77709495\\\\\n",
       "\t  0.87949145 &  0.06780005 & 0.77810206\\\\\n",
       "\t -0.56883736 & -0.72823835 & 0.85390704\\\\\n",
       "\t -1.33486405 &  1.58041982 & 4.27958882\\\\\n",
       "\t  0.08419384 &  0.13623380 & 0.02564825\\\\\n",
       "\t  1.12390674 &  1.34594157 & 3.07472508\\\\\n",
       "\t -0.31667260 & -0.86262998 & 0.84441201\\\\\n",
       "\t  0.17253858 &  0.49110243 & 0.27095116\\\\\n",
       "\t -2.57256980 & -1.35415884 & 8.45186156\\\\\n",
       "\t -0.73379337 & -1.04800108 & 1.63675897\\\\\n",
       "\t  0.24943763 &  1.11068402 & 1.29583813\\\\\n",
       "\t -0.23269850 & -0.64393247 & 0.46879762\\\\\n",
       "\t -0.68893782 &  1.07794352 & 1.63659756\\\\\n",
       "\t  0.55101290 &  1.41793951 & 2.31416767\\\\\n",
       "\t -0.28004130 &  0.91277168 & 0.91157527\\\\\n",
       "\t -0.53499488 & -0.46973532 & 0.50687079\\\\\n",
       "\t  0.97075640 & -0.14379320 & 0.96304447\\\\\n",
       "\t  0.52655205 &  1.12295285 & 1.53828017\\\\\n",
       "\t -1.11585186 & -1.67085792 & 4.03689157\\\\\n",
       "\t  1.19448360 & -0.36185989 & 1.55773366\\\\\n",
       "\t  0.45386791 &  1.32458433 & 1.96051973\\\\\n",
       "\t  0.19089448 & -1.62187252 & 2.66691118\\\\\n",
       "\t ⋮ & ⋮ & ⋮\\\\\n",
       "\t -1.44164112 &  0.07488750 &  2.08393727\\\\\n",
       "\t  0.32141984 &  0.82802323 &  0.78893318\\\\\n",
       "\t  0.20786727 &  1.15615956 &  1.37991374\\\\\n",
       "\t -0.43676096 & -0.98509125 &  1.16116490\\\\\n",
       "\t  1.43362861 &  0.63992259 &  2.46479191\\\\\n",
       "\t -0.44702111 &  0.51405258 &  0.46407792\\\\\n",
       "\t  0.74978617 &  0.31436349 &  0.66100370\\\\\n",
       "\t  0.18765260 &  0.01771286 &  0.03552724\\\\\n",
       "\t  0.23565265 &  0.70587792 &  0.55379581\\\\\n",
       "\t  0.29709365 &  0.81209472 &  0.74776248\\\\\n",
       "\t -2.43159754 & -2.34141163 & 11.39487502\\\\\n",
       "\t -0.11419823 &  0.57262143 &  0.34093653\\\\\n",
       "\t -0.73625169 &  0.75566096 &  1.11309004\\\\\n",
       "\t  2.39079452 &  0.36155536 &  5.84662071\\\\\n",
       "\t  1.02487698 & -0.94610831 &  1.94549375\\\\\n",
       "\t  0.60448315 &  0.15875918 &  0.39060436\\\\\n",
       "\t  0.21137378 &  0.88749417 &  0.83232477\\\\\n",
       "\t  0.37733082 & -1.01301286 &  1.16857361\\\\\n",
       "\t  0.26390883 & -0.56524930 &  0.38915465\\\\\n",
       "\t -1.07105677 & -0.11348530 &  1.16004151\\\\\n",
       "\t -0.16631801 & -0.35148071 &  0.15120037\\\\\n",
       "\t  0.13972173 &  0.15988552 &  0.04508554\\\\\n",
       "\t -1.06838899 &  1.43416840 &  3.19829403\\\\\n",
       "\t -0.40009045 &  0.04904888 &  0.16247816\\\\\n",
       "\t  0.06962041 & -2.20148673 &  4.85139085\\\\\n",
       "\t  0.25955819 &  1.27273507 &  1.68722500\\\\\n",
       "\t -0.13372689 & -0.63789102 &  0.42478784\\\\\n",
       "\t -0.29230783 & -1.02197190 &  1.12987044\\\\\n",
       "\t -2.70433841 & -0.75252267 &  7.87973663\\\\\n",
       "\t -1.69850295 &  0.04562868 &  2.88699423\\\\\n",
       "\\end{tabular}\n"
      ],
      "text/markdown": [
       "\n",
       "A tibble: 100 × 3\n",
       "\n",
       "| X1 &lt;dbl&gt; | X2 &lt;dbl&gt; | Z &lt;dbl&gt; |\n",
       "|---|---|---|\n",
       "| -1.92846354 |  0.02290331 | 3.71949618 |\n",
       "|  1.53856294 |  1.39867201 | 4.32345931 |\n",
       "| -0.96846584 |  2.51533453 | 7.26483390 |\n",
       "| -0.05997728 | -0.53182643 | 0.28643663 |\n",
       "|  0.46897714 | -0.60656922 | 0.58786578 |\n",
       "|  0.30319421 | -1.02611360 | 1.14483584 |\n",
       "|  0.55242628 | -0.39349241 | 0.46001108 |\n",
       "|  0.81630881 | -0.99671729 | 1.65980544 |\n",
       "|  0.53745728 |  1.21993222 | 1.77709495 |\n",
       "|  0.87949145 |  0.06780005 | 0.77810206 |\n",
       "| -0.56883736 | -0.72823835 | 0.85390704 |\n",
       "| -1.33486405 |  1.58041982 | 4.27958882 |\n",
       "|  0.08419384 |  0.13623380 | 0.02564825 |\n",
       "|  1.12390674 |  1.34594157 | 3.07472508 |\n",
       "| -0.31667260 | -0.86262998 | 0.84441201 |\n",
       "|  0.17253858 |  0.49110243 | 0.27095116 |\n",
       "| -2.57256980 | -1.35415884 | 8.45186156 |\n",
       "| -0.73379337 | -1.04800108 | 1.63675897 |\n",
       "|  0.24943763 |  1.11068402 | 1.29583813 |\n",
       "| -0.23269850 | -0.64393247 | 0.46879762 |\n",
       "| -0.68893782 |  1.07794352 | 1.63659756 |\n",
       "|  0.55101290 |  1.41793951 | 2.31416767 |\n",
       "| -0.28004130 |  0.91277168 | 0.91157527 |\n",
       "| -0.53499488 | -0.46973532 | 0.50687079 |\n",
       "|  0.97075640 | -0.14379320 | 0.96304447 |\n",
       "|  0.52655205 |  1.12295285 | 1.53828017 |\n",
       "| -1.11585186 | -1.67085792 | 4.03689157 |\n",
       "|  1.19448360 | -0.36185989 | 1.55773366 |\n",
       "|  0.45386791 |  1.32458433 | 1.96051973 |\n",
       "|  0.19089448 | -1.62187252 | 2.66691118 |\n",
       "| ⋮ | ⋮ | ⋮ |\n",
       "| -1.44164112 |  0.07488750 |  2.08393727 |\n",
       "|  0.32141984 |  0.82802323 |  0.78893318 |\n",
       "|  0.20786727 |  1.15615956 |  1.37991374 |\n",
       "| -0.43676096 | -0.98509125 |  1.16116490 |\n",
       "|  1.43362861 |  0.63992259 |  2.46479191 |\n",
       "| -0.44702111 |  0.51405258 |  0.46407792 |\n",
       "|  0.74978617 |  0.31436349 |  0.66100370 |\n",
       "|  0.18765260 |  0.01771286 |  0.03552724 |\n",
       "|  0.23565265 |  0.70587792 |  0.55379581 |\n",
       "|  0.29709365 |  0.81209472 |  0.74776248 |\n",
       "| -2.43159754 | -2.34141163 | 11.39487502 |\n",
       "| -0.11419823 |  0.57262143 |  0.34093653 |\n",
       "| -0.73625169 |  0.75566096 |  1.11309004 |\n",
       "|  2.39079452 |  0.36155536 |  5.84662071 |\n",
       "|  1.02487698 | -0.94610831 |  1.94549375 |\n",
       "|  0.60448315 |  0.15875918 |  0.39060436 |\n",
       "|  0.21137378 |  0.88749417 |  0.83232477 |\n",
       "|  0.37733082 | -1.01301286 |  1.16857361 |\n",
       "|  0.26390883 | -0.56524930 |  0.38915465 |\n",
       "| -1.07105677 | -0.11348530 |  1.16004151 |\n",
       "| -0.16631801 | -0.35148071 |  0.15120037 |\n",
       "|  0.13972173 |  0.15988552 |  0.04508554 |\n",
       "| -1.06838899 |  1.43416840 |  3.19829403 |\n",
       "| -0.40009045 |  0.04904888 |  0.16247816 |\n",
       "|  0.06962041 | -2.20148673 |  4.85139085 |\n",
       "|  0.25955819 |  1.27273507 |  1.68722500 |\n",
       "| -0.13372689 | -0.63789102 |  0.42478784 |\n",
       "| -0.29230783 | -1.02197190 |  1.12987044 |\n",
       "| -2.70433841 | -0.75252267 |  7.87973663 |\n",
       "| -1.69850295 |  0.04562868 |  2.88699423 |\n",
       "\n"
      ],
      "text/plain": [
       "    X1          X2          Z          \n",
       "1   -1.92846354  0.02290331 3.71949618 \n",
       "2    1.53856294  1.39867201 4.32345931 \n",
       "3   -0.96846584  2.51533453 7.26483390 \n",
       "4   -0.05997728 -0.53182643 0.28643663 \n",
       "5    0.46897714 -0.60656922 0.58786578 \n",
       "6    0.30319421 -1.02611360 1.14483584 \n",
       "7    0.55242628 -0.39349241 0.46001108 \n",
       "8    0.81630881 -0.99671729 1.65980544 \n",
       "9    0.53745728  1.21993222 1.77709495 \n",
       "10   0.87949145  0.06780005 0.77810206 \n",
       "11  -0.56883736 -0.72823835 0.85390704 \n",
       "12  -1.33486405  1.58041982 4.27958882 \n",
       "13   0.08419384  0.13623380 0.02564825 \n",
       "14   1.12390674  1.34594157 3.07472508 \n",
       "15  -0.31667260 -0.86262998 0.84441201 \n",
       "16   0.17253858  0.49110243 0.27095116 \n",
       "17  -2.57256980 -1.35415884 8.45186156 \n",
       "18  -0.73379337 -1.04800108 1.63675897 \n",
       "19   0.24943763  1.11068402 1.29583813 \n",
       "20  -0.23269850 -0.64393247 0.46879762 \n",
       "21  -0.68893782  1.07794352 1.63659756 \n",
       "22   0.55101290  1.41793951 2.31416767 \n",
       "23  -0.28004130  0.91277168 0.91157527 \n",
       "24  -0.53499488 -0.46973532 0.50687079 \n",
       "25   0.97075640 -0.14379320 0.96304447 \n",
       "26   0.52655205  1.12295285 1.53828017 \n",
       "27  -1.11585186 -1.67085792 4.03689157 \n",
       "28   1.19448360 -0.36185989 1.55773366 \n",
       "29   0.45386791  1.32458433 1.96051973 \n",
       "30   0.19089448 -1.62187252 2.66691118 \n",
       "<U+22EE>   <U+22EE>    <U+22EE>    <U+22EE>   \n",
       "71  -1.44164112  0.07488750  2.08393727\n",
       "72   0.32141984  0.82802323  0.78893318\n",
       "73   0.20786727  1.15615956  1.37991374\n",
       "74  -0.43676096 -0.98509125  1.16116490\n",
       "75   1.43362861  0.63992259  2.46479191\n",
       "76  -0.44702111  0.51405258  0.46407792\n",
       "77   0.74978617  0.31436349  0.66100370\n",
       "78   0.18765260  0.01771286  0.03552724\n",
       "79   0.23565265  0.70587792  0.55379581\n",
       "80   0.29709365  0.81209472  0.74776248\n",
       "81  -2.43159754 -2.34141163 11.39487502\n",
       "82  -0.11419823  0.57262143  0.34093653\n",
       "83  -0.73625169  0.75566096  1.11309004\n",
       "84   2.39079452  0.36155536  5.84662071\n",
       "85   1.02487698 -0.94610831  1.94549375\n",
       "86   0.60448315  0.15875918  0.39060436\n",
       "87   0.21137378  0.88749417  0.83232477\n",
       "88   0.37733082 -1.01301286  1.16857361\n",
       "89   0.26390883 -0.56524930  0.38915465\n",
       "90  -1.07105677 -0.11348530  1.16004151\n",
       "91  -0.16631801 -0.35148071  0.15120037\n",
       "92   0.13972173  0.15988552  0.04508554\n",
       "93  -1.06838899  1.43416840  3.19829403\n",
       "94  -0.40009045  0.04904888  0.16247816\n",
       "95   0.06962041 -2.20148673  4.85139085\n",
       "96   0.25955819  1.27273507  1.68722500\n",
       "97  -0.13372689 -0.63789102  0.42478784\n",
       "98  -0.29230783 -1.02197190  1.12987044\n",
       "99  -2.70433841 -0.75252267  7.87973663\n",
       "100 -1.69850295  0.04562868  2.88699423"
      ]
     },
     "metadata": {},
     "output_type": "display_data"
    }
   ],
   "source": [
    "df %>% mutate(Z=X1^2+X2^2)"
   ]
  },
  {
   "cell_type": "markdown",
   "id": "fdd57b34-45c6-41e0-a9ec-0e3bcf096a39",
   "metadata": {
    "tags": []
   },
   "source": [
    "#### `(10)` 아래와 같은 매트릭스에서 `apply`함수를 이용하여 각 행의 합과 각 열의 합을 구하라 "
   ]
  },
  {
   "cell_type": "code",
   "execution_count": 93,
   "id": "4dce282e-0765-47de-9fc4-2d55df4c4372",
   "metadata": {},
   "outputs": [
    {
     "name": "stdout",
     "output_type": "stream",
     "text": [
      "      [,1] [,2] [,3] [,4] [,5] [,6] [,7] [,8] [,9] [,10]\n",
      " [1,]    2    3    3    2    2    3    1    3    3     3\n",
      " [2,]    1    3    3    4    2    2    4    2    2     1\n",
      " [3,]    2    2    2    2    4    4    2    3    3     3\n",
      " [4,]    3    2    4    5    2    5    1    4    2     2\n",
      " [5,]    2    2    2    2    1    4    2    2    3     4\n",
      " [6,]    5    1    3    1    1    3    4    2    4     3\n",
      " [7,]    4    3    4    3    2    3    2    3    0     1\n",
      " [8,]    4    4    2    3    2    3    3    0    4     2\n",
      " [9,]    5    5    4    3    2    4    4    4    1     4\n",
      "[10,]    2    4    4    3    1    3    3    2    1     2\n"
     ]
    }
   ],
   "source": [
    "set.seed(1221)\n",
    "mat = rbinom(n=100,size=5,prob=0.5)\n",
    "dim(mat)=c(10,10)\n",
    "print(mat) # 행1, 열2"
   ]
  },
  {
   "cell_type": "markdown",
   "id": "5412d8eb-a07a-4f74-92e0-754d1753f8ac",
   "metadata": {},
   "source": [
    "즉 아래를 구하라 "
   ]
  },
  {
   "cell_type": "markdown",
   "id": "8dded61e-e395-4bc4-a2a5-f936b30029eb",
   "metadata": {},
   "source": [
    "`-` 각 행의 합\n",
    "- 1행의 합 = 2+3+3+ ... +3+3+3 \n",
    "- ...\n",
    "- 10행의 합 = 2+4+4+ ... +2+1+2"
   ]
  },
  {
   "cell_type": "code",
   "execution_count": 96,
   "id": "f7198633-8c6d-469d-91cc-59e6384fe989",
   "metadata": {},
   "outputs": [
    {
     "data": {
      "text/html": [
       "270"
      ],
      "text/latex": [
       "270"
      ],
      "text/markdown": [
       "270"
      ],
      "text/plain": [
       "[1] 270"
      ]
     },
     "metadata": {},
     "output_type": "display_data"
    }
   ],
   "source": [
    "apply(mat, 1, sum) %>% sum"
   ]
  },
  {
   "cell_type": "markdown",
   "id": "1600d9a5-363e-4ffd-a756-90bb4dcbd4c3",
   "metadata": {},
   "source": [
    "`-` 각 열의 합\n",
    "- 1열의 합 = 2+1+2+ ... +4+5+2\n",
    "- ...\n",
    "- 10열의 합 = 3+1+3+ ... +2+4+2"
   ]
  },
  {
   "cell_type": "code",
   "execution_count": 97,
   "id": "ea860f76-00c8-417b-8a27-d4573bd0dcd3",
   "metadata": {},
   "outputs": [
    {
     "data": {
      "text/html": [
       "270"
      ],
      "text/latex": [
       "270"
      ],
      "text/markdown": [
       "270"
      ],
      "text/plain": [
       "[1] 270"
      ]
     },
     "metadata": {},
     "output_type": "display_data"
    }
   ],
   "source": [
    "apply(mat, 2, sum) %>% sum"
   ]
  },
  {
   "cell_type": "markdown",
   "id": "9ce31908-cc7a-48e0-89b6-6117a143c13c",
   "metadata": {
    "tags": []
   },
   "source": [
    "## `6`. 다음을 잘 읽고 물음에 답하라. (20점)"
   ]
  },
  {
   "cell_type": "markdown",
   "id": "24d014aa-d2c5-417f-afcd-c4bbc35f6403",
   "metadata": {},
   "source": [
    "#### `(1)` 자료 $x_1,x_2,\\dots, x_{50}$에 대하여 다음 과정을 순서대로 시행하였다."
   ]
  },
  {
   "cell_type": "markdown",
   "id": "35ad820e-3421-4c0a-a40c-38c78942ed83",
   "metadata": {},
   "source": [
    "(가) 처음 두 수 $x_1$과 $x_2$의 평균을 구한다. \n",
    "\n",
    "(나) $x_3$을 추가하여 $x_1, x_2, x_3$의 평균을 구한다. \n",
    "\n",
    "(다) $x_4$을 추가하여 $x_1, x_2, x_3, x_4$의 평균을 구한다. \n",
    "\n",
    "...\n",
    "\n",
    "$x_{50}$을 추가하여 $x_1, x_2, x_3 ,\\dots , x_{50}$의 평균을 구한다. "
   ]
  },
  {
   "cell_type": "markdown",
   "id": "4a30daaa-66ce-4344-8ef5-722e8ffb0006",
   "metadata": {},
   "source": [
    "위의 과정을 시행할 결과, $x_1$과 $x_2$의 평균이 5이고, 자료 하나가 추가될때 마다 평균이 1씩 증가하였다. 이때 $x_{50}$의 값은? "
   ]
  },
  {
   "cell_type": "markdown",
   "id": "2e2653d1-f565-4900-ad35-4431ed1d074d",
   "metadata": {
    "tags": []
   },
   "source": [
    "#### `(2)` 복도의 라커 \n",
    "\n",
    "복도에 100개의 라커가 있다. 복도를 어떤 남자가 **짝수번호**의 라커를 모두 연다. 그리고 나서 3의 배수의 라커를 전부 닫는다. 그 다음에는 번호가 4의 배수인 라커를 순서대로 찾아다니며 열려 있으면 닫고, 닫혀 있으면 연다. 그 다음에는 번호가 5의 배수인 라커를 순서대로 찾아다니며 열려있으면 닫고, 닫혀있으면 연다. 이후에 6의 배수, 7의 배수 .. 인 라커를 순서대로 찾아다니며 행동을 반복한다. 이런식으로 복도를 **50번** 지나가면 열린 라커의 문은 몇개가 되겠는가? (주의: 중간고사문제와 약간다릅니다, 다른부분은 볼드체 표시했습니다)"
   ]
  },
  {
   "cell_type": "code",
   "execution_count": 66,
   "id": "d4ea4e58-356b-4ed3-b107-befdf6cad9c0",
   "metadata": {},
   "outputs": [
    {
     "data": {
      "text/html": [
       "43"
      ],
      "text/latex": [
       "43"
      ],
      "text/markdown": [
       "43"
      ],
      "text/plain": [
       "[1] 43"
      ]
     },
     "metadata": {},
     "output_type": "display_data"
    }
   ],
   "source": [
    "x= rep(FALSE,50)\n",
    "for( i in 2: 50) x[(1:50) %% i==0] = !(x[(1:50)%% i==0])\n",
    "sum(x)"
   ]
  },
  {
   "cell_type": "markdown",
   "id": "e2f77aba-17d3-45c0-977b-ebc7ebc1b007",
   "metadata": {},
   "source": [
    "#### `(3)` 몬테카를로 시뮬레이션을 이용하여 원주율 $\\pi$를 추론하는 코드를 작성하라. "
   ]
  },
  {
   "cell_type": "markdown",
   "id": "6d96b655-723b-4b88-be3a-179599fec430",
   "metadata": {},
   "source": [
    "#### `(4)` 아래와 같은 연립일차방정식을 푸는 R코드를 작성하라. "
   ]
  },
  {
   "cell_type": "markdown",
   "id": "1242cd3f-41fe-4f41-870d-311c0ec85d69",
   "metadata": {},
   "source": [
    "$\\begin{cases}\n",
    "w+2x+3y+4z=1 \\\\\n",
    "2w+2x+y=9 \\\\\n",
    "x-y=4 \\\\\n",
    "3w+x-y+3y=7\n",
    "\\end{cases}$\n"
   ]
  },
  {
   "cell_type": "code",
   "execution_count": 50,
   "id": "b9e8a595-1a64-47ee-b073-2a49024d011d",
   "metadata": {},
   "outputs": [
    {
     "data": {
      "text/html": [
       "<table class=\"dataframe\">\n",
       "<caption>A matrix: 4 × 4 of type dbl</caption>\n",
       "<tbody>\n",
       "\t<tr><td>1</td><td>2</td><td> 3</td><td>4</td></tr>\n",
       "\t<tr><td>2</td><td>2</td><td> 1</td><td>0</td></tr>\n",
       "\t<tr><td>0</td><td>1</td><td>-1</td><td>0</td></tr>\n",
       "\t<tr><td>3</td><td>1</td><td>-1</td><td>3</td></tr>\n",
       "</tbody>\n",
       "</table>\n"
      ],
      "text/latex": [
       "A matrix: 4 × 4 of type dbl\n",
       "\\begin{tabular}{llll}\n",
       "\t 1 & 2 &  3 & 4\\\\\n",
       "\t 2 & 2 &  1 & 0\\\\\n",
       "\t 0 & 1 & -1 & 0\\\\\n",
       "\t 3 & 1 & -1 & 3\\\\\n",
       "\\end{tabular}\n"
      ],
      "text/markdown": [
       "\n",
       "A matrix: 4 × 4 of type dbl\n",
       "\n",
       "| 1 | 2 |  3 | 4 |\n",
       "| 2 | 2 |  1 | 0 |\n",
       "| 0 | 1 | -1 | 0 |\n",
       "| 3 | 1 | -1 | 3 |\n",
       "\n"
      ],
      "text/plain": [
       "     [,1] [,2] [,3] [,4]\n",
       "[1,] 1    2     3   4   \n",
       "[2,] 2    2     1   0   \n",
       "[3,] 0    1    -1   0   \n",
       "[4,] 3    1    -1   3   "
      ]
     },
     "metadata": {},
     "output_type": "display_data"
    },
    {
     "data": {
      "text/html": [
       "<table class=\"dataframe\">\n",
       "<caption>A matrix: 4 × 1 of type dbl</caption>\n",
       "<tbody>\n",
       "\t<tr><td>1</td></tr>\n",
       "\t<tr><td>9</td></tr>\n",
       "\t<tr><td>4</td></tr>\n",
       "\t<tr><td>7</td></tr>\n",
       "</tbody>\n",
       "</table>\n"
      ],
      "text/latex": [
       "A matrix: 4 × 1 of type dbl\n",
       "\\begin{tabular}{l}\n",
       "\t 1\\\\\n",
       "\t 9\\\\\n",
       "\t 4\\\\\n",
       "\t 7\\\\\n",
       "\\end{tabular}\n"
      ],
      "text/markdown": [
       "\n",
       "A matrix: 4 × 1 of type dbl\n",
       "\n",
       "| 1 |\n",
       "| 9 |\n",
       "| 4 |\n",
       "| 7 |\n",
       "\n"
      ],
      "text/plain": [
       "     [,1]\n",
       "[1,] 1   \n",
       "[2,] 9   \n",
       "[3,] 4   \n",
       "[4,] 7   "
      ]
     },
     "metadata": {},
     "output_type": "display_data"
    },
    {
     "data": {
      "text/html": [
       "<table class=\"dataframe\">\n",
       "<caption>A matrix: 4 × 1 of type dbl</caption>\n",
       "<tbody>\n",
       "\t<tr><td> 2</td></tr>\n",
       "\t<tr><td> 3</td></tr>\n",
       "\t<tr><td>-1</td></tr>\n",
       "\t<tr><td>-1</td></tr>\n",
       "</tbody>\n",
       "</table>\n"
      ],
      "text/latex": [
       "A matrix: 4 × 1 of type dbl\n",
       "\\begin{tabular}{l}\n",
       "\t  2\\\\\n",
       "\t  3\\\\\n",
       "\t -1\\\\\n",
       "\t -1\\\\\n",
       "\\end{tabular}\n"
      ],
      "text/markdown": [
       "\n",
       "A matrix: 4 × 1 of type dbl\n",
       "\n",
       "|  2 |\n",
       "|  3 |\n",
       "| -1 |\n",
       "| -1 |\n",
       "\n"
      ],
      "text/plain": [
       "     [,1]\n",
       "[1,]  2  \n",
       "[2,]  3  \n",
       "[3,] -1  \n",
       "[4,] -1  "
      ]
     },
     "metadata": {},
     "output_type": "display_data"
    }
   ],
   "source": [
    "X = matrix(c(1,2,0,3,2,2,1,1,3,1,-1,-1,4,0,0,3),4,4)\n",
    "X\n",
    "Y = matrix(c(1,9,4,7),4,1)\n",
    "Y\n",
    "XR = solve(X)\n",
    "XR %*% Y\n"
   ]
  },
  {
   "cell_type": "markdown",
   "id": "8c0bca0f-2b2b-483e-98bf-46f560db01f7",
   "metadata": {},
   "source": [
    "#### `(5)` 우산의 회전"
   ]
  },
  {
   "cell_type": "markdown",
   "id": "856adbd0-6cac-4de3-9a4e-5758c5b3c60a",
   "metadata": {},
   "source": [
    "다음은 인터넷에서 어떠한 자료를 다운받아 매트릭스로 저장하는 코드이다. \n",
    "```R\n",
    "df=read.csv(\"https://raw.githubusercontent.com/guebin/2021IR/master/_notebooks/round2.csv\")\n",
    "X=as.matrix(df)\n",
    "```\n",
    "매트릭스는 `X`이라는 변수에 저장되어 있다. 저장된 모양은 아래와 같다. \n",
    "$${\\bf X}= \n",
    "\\begin{bmatrix}\n",
    "x_1 & y_1 \\\\ \n",
    "x_2 & y_2 \\\\ \n",
    "\\dots & \\dots \\\\ \n",
    "x_{5513} & y_{5513}\n",
    "\\end{bmatrix}\n",
    "$$\n",
    "아래를 계산하여 $\\tilde{\\bf X}$를 만들고 \n",
    "$$\n",
    "\\tilde{\\bf X}={\\bf X} \\begin{bmatrix}\n",
    "\\cos(\\frac{\\pi}{4}) & -\\sin (\\frac{\\pi}{4}) \\\\\n",
    "\\sin(\\frac{\\pi}{4}) & \\cos (\\frac{\\pi}{4})\n",
    "\\end{bmatrix} \n",
    "$$"
   ]
  },
  {
   "cell_type": "markdown",
   "id": "ed520940-df49-49ea-b613-704f98d7d0e3",
   "metadata": {},
   "source": [
    "$\\tilde{\\bf X}$의 첫번째열을 $x$축으로, 두번째열을 $y$축으로 하여 시각화 하라. 시각화 예시는 아래와 같다. "
   ]
  },
  {
   "cell_type": "code",
   "execution_count": 44,
   "id": "dde0e67f-88ed-4325-9f37-58f268e208d6",
   "metadata": {},
   "outputs": [],
   "source": [
    "df=read.csv(\"https://raw.githubusercontent.com/guebin/2021IR/master/_notebooks/round2.csv\")\n",
    "X=as.matrix(df)"
   ]
  },
  {
   "cell_type": "code",
   "execution_count": 46,
   "id": "dcb2b72b-0a14-4002-947f-2dd0093f309a",
   "metadata": {},
   "outputs": [
    {
     "data": {
      "text/html": [
       "<table class=\"dataframe\">\n",
       "<caption>A matrix: 2 × 2 of type dbl</caption>\n",
       "<tbody>\n",
       "\t<tr><td>0.7071068</td><td>-0.7071068</td></tr>\n",
       "\t<tr><td>0.7071068</td><td> 0.7071068</td></tr>\n",
       "</tbody>\n",
       "</table>\n"
      ],
      "text/latex": [
       "A matrix: 2 × 2 of type dbl\n",
       "\\begin{tabular}{ll}\n",
       "\t 0.7071068 & -0.7071068\\\\\n",
       "\t 0.7071068 &  0.7071068\\\\\n",
       "\\end{tabular}\n"
      ],
      "text/markdown": [
       "\n",
       "A matrix: 2 × 2 of type dbl\n",
       "\n",
       "| 0.7071068 | -0.7071068 |\n",
       "| 0.7071068 |  0.7071068 |\n",
       "\n"
      ],
      "text/plain": [
       "     [,1]      [,2]      \n",
       "[1,] 0.7071068 -0.7071068\n",
       "[2,] 0.7071068  0.7071068"
      ]
     },
     "metadata": {},
     "output_type": "display_data"
    },
    {
     "data": {
      "image/png": "[encoded data removed]",
      "text/plain": [
       "plot without title"
      ]
     },
     "metadata": {
      "image/png": {
       "height": 450,
       "width": 450
      }
     },
     "output_type": "display_data"
    }
   ],
   "source": [
    "tri = matrix(c(cos(pi/4),sin(pi/4),-sin(pi/4),cos(pi/4)),2,2)\n",
    "tri\n",
    "\n",
    "umb = X%*%tri\n",
    "xumb = umb[,1]\n",
    "yumb = umb[,2]\n",
    "plot(xumb,yumb)"
   ]
  },
  {
   "cell_type": "markdown",
   "id": "25975e05-2cf1-47b6-b126-b8caf43009af",
   "metadata": {},
   "source": [
    "![](https://github.com/guebin/2021IR/blob/master/_notebooks/final_fig5.png?raw=true)"
   ]
  }
 ],
 "metadata": {
  "kernelspec": {
   "display_name": "R",
   "language": "R",
   "name": "ir"
  },
  "language_info": {
   "codemirror_mode": "r",
   "file_extension": ".r",
   "mimetype": "text/x-r-source",
   "name": "R",
   "pygments_lexer": "r",
   "version": "4.0.5"
  },
  "widgets": {
   "application/vnd.jupyter.widget-state+json": {
    "state": {},
    "version_major": 2,
    "version_minor": 0
   }
  }
 },
 "nbformat": 4,
 "nbformat_minor": 5
}
