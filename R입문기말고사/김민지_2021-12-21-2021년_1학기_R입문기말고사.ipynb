{
 "cells": [
  {
   "cell_type": "markdown",
   "id": "cd0b452a-d6b0-4bb5-945a-f88ef93a7f89",
   "metadata": {
    "tags": []
   },
   "source": [
    "# 2021년 1학기 R입문 기말고사 (ver 1.00)\n",
    "\n",
    "- toc:false\n",
    "- branch: master\n",
    "- badges: true\n",
    "- comments: true\n",
    "- author: 최규빈"
   ]
  },
  {
   "cell_type": "code",
   "execution_count": 2,
   "id": "a27abf35-cdef-4797-a470-e479ecad2a93",
   "metadata": {
    "tags": []
   },
   "outputs": [],
   "source": [
    "#hide\n",
    "options(jupyter.rich_display=FALSE)\n",
    "options(repr.plot.width=6,repr.plot.height=6,repr.plot.res=150)\n",
    "options(max.print=1000)"
   ]
  },
  {
   "cell_type": "code",
   "execution_count": 6,
   "id": "9e0e7e62-223f-4c30-83ac-fa809b130368",
   "metadata": {},
   "outputs": [
    {
     "name": "stderr",
     "output_type": "stream",
     "text": [
      "-- \u001b[1mAttaching packages\u001b[22m ------------------------------------------------------------------------------- tidyverse 1.3.1 --\n",
      "\n",
      "\u001b[32mv\u001b[39m \u001b[34mggplot2\u001b[39m 3.3.5     \u001b[32mv\u001b[39m \u001b[34mpurrr  \u001b[39m 0.3.4\n",
      "\u001b[32mv\u001b[39m \u001b[34mtibble \u001b[39m 3.1.4     \u001b[32mv\u001b[39m \u001b[34mdplyr  \u001b[39m 1.0.7\n",
      "\u001b[32mv\u001b[39m \u001b[34mtidyr  \u001b[39m 1.1.3     \u001b[32mv\u001b[39m \u001b[34mstringr\u001b[39m 1.4.0\n",
      "\u001b[32mv\u001b[39m \u001b[34mreadr  \u001b[39m 2.0.1     \u001b[32mv\u001b[39m \u001b[34mforcats\u001b[39m 0.5.1\n",
      "\n",
      "-- \u001b[1mConflicts\u001b[22m ---------------------------------------------------------------------------------- tidyverse_conflicts() --\n",
      "\u001b[31mx\u001b[39m \u001b[34mdplyr\u001b[39m::\u001b[32mfilter()\u001b[39m masks \u001b[34mstats\u001b[39m::filter()\n",
      "\u001b[31mx\u001b[39m \u001b[34mdplyr\u001b[39m::\u001b[32mlag()\u001b[39m    masks \u001b[34mstats\u001b[39m::lag()\n",
      "\n"
     ]
    }
   ],
   "source": [
    "library(tidyverse)"
   ]
  },
  {
   "cell_type": "markdown",
   "id": "0dacb1a1-85b1-4361-88e2-6877d9b8e87d",
   "metadata": {},
   "source": [
    "**의미가 모호한 문제는 질문할것**\n",
    "\n",
    "**필요한 패키지는 스스로 로드하여 사용할 것** "
   ]
  },
  {
   "cell_type": "markdown",
   "id": "21a0f600-e9bc-4909-b9e8-ca4c2900b20f",
   "metadata": {},
   "source": [
    "## `1`. 회귀분석 (35점) "
   ]
  },
  {
   "cell_type": "markdown",
   "id": "317e056c-4165-4222-a637-0c6ac78ee201",
   "metadata": {},
   "source": [
    "아래와 같은 수식을 고려하자. \n",
    "\n",
    "$$y_i= 1.5+ 5\\sin(t_i)+ 3 \\cos(4 t_i)+\\epsilon_i, \\quad i=1,2,\\dots, 1000$$\n",
    "\n",
    "여기에서 $t_i=\\frac{2\\pi i}{1000}$ 이다. 그리고 $\\epsilon_i \\sim i.i.d~ N(0,1)$, 즉 서로 독립인 표준정규분포에서 추출된 샘플이다. "
   ]
  },
  {
   "cell_type": "markdown",
   "id": "620fd982-09c7-49ee-8faf-926bd5a09dd2",
   "metadata": {},
   "source": [
    "#### `(1)` `rnorm()`을 이용하여 $\\{\\epsilon_i \\}_{i=1}^{1000}$ 을 만들고 이를 벡터로 만들어라. 즉 아래와 같은 벡터를 생성하라. \n",
    "\n",
    "- $\\boldsymbol{\\epsilon}=(\\epsilon_1,\\dots,\\epsilon_{1000})$"
   ]
  },
  {
   "cell_type": "markdown",
   "id": "dd52f507-e2b6-4f65-a06c-2ee05620db5a",
   "metadata": {},
   "source": [
    "#### `(2)` $\\big\\{\\sin(t_i) \\big\\}_{i=1}^{1000}$와 $\\big\\{\\cos(4t_i) \\big\\}_{i=1}^{1000}$를 각각 생성하고 이를 ${\\bf x}_1$와 ${\\bf x}_2$에 저장하라. 즉 아래와 같은 2개의 벡터를 생성하라. \n",
    "- ${\\bf x}_1=\\big(\\sin(\\frac{2\\pi}{1000}),\\sin(\\frac{4\\pi}{1000}),\\dots,\\sin(2\\pi)\\big)$\n",
    "- ${\\bf x}_2=\\big(\\cos(\\frac{8\\pi}{1000}),\\cos(\\frac{16\\pi}{1000}),\\dots,\\cos(8\\pi)\\big)$"
   ]
  },
  {
   "cell_type": "markdown",
   "id": "a04cf768-c251-49b2-b75c-227703917abc",
   "metadata": {},
   "source": [
    "#### `(3)` (1),(2)로 부터 $y_i$를 계산하고, $(t_i,y_i)$를 scatter plot으로 시각화 하라. 색은 'gray60'을 사용하라. 시각화 예시는 아래와 같다. "
   ]
  },
  {
   "cell_type": "markdown",
   "id": "fb516585-3317-43ac-80d2-867a5953e203",
   "metadata": {},
   "source": [
    "![](https://github.com/guebin/2021IR/blob/master/_notebooks/final_fig1.png?raw=true)"
   ]
  },
  {
   "cell_type": "markdown",
   "id": "2aa97a6f-5be5-4dab-9ffd-cb05cafa1057",
   "metadata": {},
   "source": [
    "#### `(4)` 두 벡터 ${\\bf x}_1$, ${\\bf x}_2$와 `cbind()`를 이용하여 아래와 같은 $1000 \\times 3$ 매트릭스 ${\\bf X}$를 만들어라. "
   ]
  },
  {
   "cell_type": "markdown",
   "id": "1a7a9102-3f73-495b-9232-38d1a6a5d979",
   "metadata": {},
   "source": [
    "$${\\bf X}=\\begin{bmatrix}\n",
    "1 & \\sin(\\frac{2\\pi}{1000}) & \\cos(\\frac{8\\pi}{1000})\\\\ \n",
    "1 & \\sin(\\frac{4\\pi}{1000}) & \\cos(\\frac{16\\pi}{1000})\\\\ \n",
    "\\dots & \\dots  & \\dots \\\\ \n",
    "1 & \\sin(2\\pi) & \\cos(8\\pi)\\\\ \n",
    "\\end{bmatrix} $$ "
   ]
  },
  {
   "cell_type": "markdown",
   "id": "d09a138b-47fe-479b-a04e-3043d2c3ba86",
   "metadata": {},
   "source": [
    "#### `(5)` $3 \\times 1$ 매트릭스 $\\boldsymbol{\\beta}=\\begin{bmatrix} 1.5 \\\\ 5 \\\\ 3 \\end{bmatrix}$를 만들고 매트릭스 곱을 이용하여 ${\\bf X} {\\boldsymbol \\beta}$를 계산하라. 계산결과를 벡터화하고 (3)의 $y$축에 붉은선으로 시각화 하라. 시각화 예시는 아래와 같다. (필요하다면 적절하게 선의 굵기를 조정할 것) "
   ]
  },
  {
   "cell_type": "markdown",
   "id": "99111d0a-5dbc-42db-81f5-b216f9f907db",
   "metadata": {},
   "source": [
    "![](https://github.com/guebin/2021IR/blob/master/_notebooks/final_fig2.png?raw=true)"
   ]
  },
  {
   "cell_type": "markdown",
   "id": "bd53c3f9-ec49-413b-93fc-4b30c9cf6081",
   "metadata": {
    "tags": []
   },
   "source": [
    "#### `(6)` 아래의 수식을 이용하여 $\\boldsymbol{\\hat\\beta}$를 계산하고 계산결과를 $\\boldsymbol{\\beta}$와 비교하라. \n",
    "\n",
    "$$ \\boldsymbol{\\hat\\beta} = ({\\bf X}^\\top {\\bf X})^{-1}{\\bf X}^\\top {\\bf y}$$ "
   ]
  },
  {
   "cell_type": "markdown",
   "id": "eacf1fac-403a-49d0-961a-8275b1446a60",
   "metadata": {},
   "source": [
    "여기에서 ${\\bf X}$와 ${\\bf y}$는 각각 아래와 같다. \n",
    "\n",
    "- ${\\bf X}=\\begin{bmatrix}\n",
    "1 & \\sin(\\frac{2\\pi}{1000}) & \\cos(\\frac{8\\pi}{1000})\\\\ \n",
    "1 & \\sin(\\frac{8\\pi}{1000}) & \\cos(\\frac{16\\pi}{1000})\\\\ \n",
    "\\dots & \\dots  & \\dots \\\\ \n",
    "1 & \\sin(2\\pi) & \\cos(8\\pi)\\\\ \n",
    "\\end{bmatrix}$,  $\\quad {\\bf y}=\\begin{bmatrix} y_1\\\\ y_2\\\\ \\dots \\\\ y_{1000}\\\\ \\end{bmatrix}$"
   ]
  },
  {
   "cell_type": "markdown",
   "id": "5c9c3816-5af7-46f2-9680-b0e97e729789",
   "metadata": {},
   "source": [
    "또한 ${\\bf X}^\\top$는 ${\\bf X}$의 전치행렬(transpose) 그리고 $({\\bf X}^\\top {\\bf X})^{-1}$은 ${\\bf X}^\\top {\\bf X}$의 역행렬을 의미한다. "
   ]
  },
  {
   "cell_type": "markdown",
   "id": "8f836f58-cb7d-4b0e-9e6c-612030446856",
   "metadata": {},
   "source": [
    "#### `(7)` ${\\bf X}\\boldsymbol{\\hat\\beta}$를 계산하라. 계산결과를 벡터화 하고 (5)의 시각화 결과에 푸른점선으로 시각화 하라. 시각화 예시는 아래와 같다. (필요하다면 적절하게 선의 굵기를 조정할 것) "
   ]
  },
  {
   "cell_type": "markdown",
   "id": "e2bdb6c4-fa29-4f07-8c50-5531fc325059",
   "metadata": {},
   "source": [
    "![](https://github.com/guebin/2021IR/blob/master/_notebooks/final_fig3.png?raw=true)"
   ]
  },
  {
   "cell_type": "markdown",
   "id": "743acaff-fba8-4bdd-83a0-9bff1bd4805c",
   "metadata": {},
   "source": [
    "## `2`. 몬테카를로 적분 (10점)\n",
    "\n",
    "#### `(1)` $\\int_{-1.96}^{1.96}\\frac{1}{\\sqrt{2\\pi}}e^{-\\frac{1}{2}x^2}dx$의 값을 `runif()`를 이용한 몬테카를로 적분으로 계산하라. "
   ]
  },
  {
   "cell_type": "markdown",
   "id": "feb55d2e-1824-4ada-b0fc-a2c5e934c5c1",
   "metadata": {
    "tags": []
   },
   "source": [
    "#### `(2)` `rnorm()`을 이용하여 표준정규분포에서 1000개의 확률변수를 생성하고 생성된 확률변수들 중 구간 $(-1.96 , 1.96)$사이에 있는 확률변수를 count하라. "
   ]
  },
  {
   "cell_type": "markdown",
   "id": "b37287d2-025e-4aaa-bb88-435403610185",
   "metadata": {},
   "source": [
    "## `3`. 징검다리 (10점)"
   ]
  },
  {
   "cell_type": "markdown",
   "id": "e0280e4f-623f-4e31-a524-fe8dd78b33b1",
   "metadata": {},
   "source": [
    "10명의 참가자가 (유리,강화유리)의 쌍으로 이루어진 징검다리를 건너는 게임을 시작한다. (유리,강화유리)의 쌍은 총 20개 있다. 따라서 유리는 총 40장이 있다. 참가자는 강화유리로 된 징검다리를 밟으면 살아남지만 유리로 된 징검다리를 밟으면 죽는다. 10명의 참가자의 특징은 아래와 같다. \n",
    "\n",
    "- 1번~8번 참가자, 10번 참가자: 50퍼센트의 확률로 강화유리를 고를 수 있다. \n",
    "- 9번 참가자: 95퍼센트의 확률로 강화유리를 고를 수 있다. \n",
    "\n",
    "다리를 건너는 순서는 아래와 같이 번호의 오름차순으로 건너는 방법과 번호의 내림차순으로 건너는 2가지 방법이 있다고 하자. \n",
    "\n",
    "- Type A: 10번 참가자부터 다리를 건너고 그 뒤로 9번, 8번, ... 1번 순으로 다리를 건넌다. \n",
    "- Type B: 1번 참가자부터 다리를 건너고 그 뒤로 2번, 3번, ... 10번 순으로 다리를 건넌다. \n",
    "\n",
    "8번 참가자는 Type A 와 Type B 중 어떠한 경우에 살아남을 확률이 높은가? "
   ]
  },
  {
   "cell_type": "markdown",
   "id": "73fcbaef-2059-453e-95f5-3b7084b07bc5",
   "metadata": {},
   "source": [
    "## `4`. COVID19 (15점)"
   ]
  },
  {
   "cell_type": "markdown",
   "id": "dd6dcd9d-22f0-46cb-96ea-6f4f1705b749",
   "metadata": {},
   "source": [
    "아래는 한국의 코로나확진자 발생수를 tibble로 불러오는 코드와 그 결과이다. "
   ]
  },
  {
   "cell_type": "code",
   "execution_count": 94,
   "id": "a9beee8e-2bbc-452d-919e-2d225c1f0777",
   "metadata": {},
   "outputs": [
    {
     "name": "stderr",
     "output_type": "stream",
     "text": [
      "\u001b[1mRows: \u001b[22m\u001b[34m12294\u001b[39m \u001b[1mColumns: \u001b[22m\u001b[34m5\u001b[39m\n",
      "\n",
      "\u001b[36m──\u001b[39m \u001b[1mColumn specification\u001b[22m \u001b[36m────────────────────────────────────────────────────────\u001b[39m\n",
      "\u001b[1mDelimiter:\u001b[22m \",\"\n",
      "\u001b[31mchr\u001b[39m (1): prov\n",
      "\u001b[32mdbl\u001b[39m (4): year, month, day, cases\n",
      "\n",
      "\n",
      "\u001b[36mℹ\u001b[39m Use \u001b[30m\u001b[47m\u001b[30m\u001b[47m`spec()`\u001b[47m\u001b[30m\u001b[49m\u001b[39m to retrieve the full column specification for this data.\n",
      "\u001b[36mℹ\u001b[39m Specify the column types or set \u001b[30m\u001b[47m\u001b[30m\u001b[47m`show_col_types = FALSE`\u001b[47m\u001b[30m\u001b[49m\u001b[39m to quiet this message.\n",
      "\n"
     ]
    },
    {
     "data": {
      "text/html": [
       "<table class=\"dataframe\">\n",
       "<caption>A tibble: 6 × 5</caption>\n",
       "<thead>\n",
       "\t<tr><th scope=col>year</th><th scope=col>month</th><th scope=col>day</th><th scope=col>prov</th><th scope=col>cases</th></tr>\n",
       "\t<tr><th scope=col>&lt;dbl&gt;</th><th scope=col>&lt;dbl&gt;</th><th scope=col>&lt;dbl&gt;</th><th scope=col>&lt;chr&gt;</th><th scope=col>&lt;dbl&gt;</th></tr>\n",
       "</thead>\n",
       "<tbody>\n",
       "\t<tr><td>2020</td><td>1</td><td>20</td><td>서울</td><td>0</td></tr>\n",
       "\t<tr><td>2020</td><td>1</td><td>20</td><td>부산</td><td>0</td></tr>\n",
       "\t<tr><td>2020</td><td>1</td><td>20</td><td>대구</td><td>0</td></tr>\n",
       "\t<tr><td>2020</td><td>1</td><td>20</td><td>인천</td><td>1</td></tr>\n",
       "\t<tr><td>2020</td><td>1</td><td>20</td><td>광주</td><td>0</td></tr>\n",
       "\t<tr><td>2020</td><td>1</td><td>20</td><td>대전</td><td>0</td></tr>\n",
       "</tbody>\n",
       "</table>\n"
      ],
      "text/latex": [
       "A tibble: 6 × 5\n",
       "\\begin{tabular}{lllll}\n",
       " year & month & day & prov & cases\\\\\n",
       " <dbl> & <dbl> & <dbl> & <chr> & <dbl>\\\\\n",
       "\\hline\n",
       "\t 2020 & 1 & 20 & 서울 & 0\\\\\n",
       "\t 2020 & 1 & 20 & 부산 & 0\\\\\n",
       "\t 2020 & 1 & 20 & 대구 & 0\\\\\n",
       "\t 2020 & 1 & 20 & 인천 & 1\\\\\n",
       "\t 2020 & 1 & 20 & 광주 & 0\\\\\n",
       "\t 2020 & 1 & 20 & 대전 & 0\\\\\n",
       "\\end{tabular}\n"
      ],
      "text/markdown": [
       "\n",
       "A tibble: 6 × 5\n",
       "\n",
       "| year &lt;dbl&gt; | month &lt;dbl&gt; | day &lt;dbl&gt; | prov &lt;chr&gt; | cases &lt;dbl&gt; |\n",
       "|---|---|---|---|---|\n",
       "| 2020 | 1 | 20 | 서울 | 0 |\n",
       "| 2020 | 1 | 20 | 부산 | 0 |\n",
       "| 2020 | 1 | 20 | 대구 | 0 |\n",
       "| 2020 | 1 | 20 | 인천 | 1 |\n",
       "| 2020 | 1 | 20 | 광주 | 0 |\n",
       "| 2020 | 1 | 20 | 대전 | 0 |\n",
       "\n"
      ],
      "text/plain": [
       "  year month day prov cases\n",
       "1 2020 1     20  서울 0    \n",
       "2 2020 1     20  부산 0    \n",
       "3 2020 1     20  대구 0    \n",
       "4 2020 1     20  인천 1    \n",
       "5 2020 1     20  광주 0    \n",
       "6 2020 1     20  대전 0    "
      ]
     },
     "metadata": {},
     "output_type": "display_data"
    }
   ],
   "source": [
    "df=read_csv('https://raw.githubusercontent.com/guebin/2021IR/master/_notebooks/covid19.csv')\n",
    "head(df)"
   ]
  },
  {
   "cell_type": "markdown",
   "id": "d0e96a57-a0a1-4be6-9743-78bb9007e0bf",
   "metadata": {
    "jp-MarkdownHeadingCollapsed": true,
    "tags": []
   },
   "source": [
    "#### `(1)` 2020년의 확진자(cases)총합과 2021년의 확진자(cases)총합을 구하라. "
   ]
  },
  {
   "cell_type": "markdown",
   "id": "709adf3e-9747-49ab-a28d-6bc014195e29",
   "metadata": {
    "tags": []
   },
   "source": [
    "#### `(2)` 2020년 2월1일 ~ 2020년 2월15일까지의 기간동안 확진자의 합을 지역별로 나누어 구하라 (아래예시 참고). 가장 많은 확진자가 발견된 지역은 어디인가? "
   ]
  },
  {
   "cell_type": "markdown",
   "id": "9eabba75-e486-439b-aa24-c7bc95e19112",
   "metadata": {},
   "source": [
    "즉 아래를 각각 계산하고 2020년 2월1일 ~ 2020년 2월15일 기간동안 발생한 확진자의 합이 가장 큰 지역을 찾으면 된다. \n",
    "\n",
    "- 2020년2월1일 ~ 2020년2월15일 기간 서울에서 발생한 확진자의 합 = 2020년2월1일 서울에서 발생한 확진자수 + ... + 2020년2월15일 서울에서 발생한 확진자수\n",
    "- ...\n",
    "- 2020년2월1일 ~ 2020년2월15일 기간 제주에서 발생한 확진자의 합 = 2020년2월1일 제주에서 발생한 확진자수 + ... + 2020년2월15일 제주에서 발생한 확진자수"
   ]
  },
  {
   "cell_type": "markdown",
   "id": "ed5aa778-7796-4ae6-815e-dbbbe25a0dbe",
   "metadata": {},
   "source": [
    "#### `(3)` 2020년 2월16일 ~ 2020년 2월29일까지의 기간동안 확진자의 총합을 지역별로 나누어 구하라 (아래예시 참고). 가장 많은 확진자가 발견된 지역은 어디인가?"
   ]
  },
  {
   "cell_type": "markdown",
   "id": "f0598204-3b09-4b3f-a875-0679c29d74e7",
   "metadata": {},
   "source": [
    "즉 아래를 각각 계산하고 2020년 2월16일 ~ 2020년 2월29일 기간동안 발생한 확진자의 합이 가장 큰 지역을 찾으면 된다. \n",
    "\n",
    "- 2020년2월16일 ~ 2020년2월29일 기간 서울에서 발생한 확진자의 합 = 2020년2월16일 서울에서 발생한 확진자수 + ... + 2020년2월29일 서울에서 발생한 확진자수\n",
    "- ...\n",
    "- 2020년2월16일 ~ 2020년2월29일 기간 제주에서 발생한 확진자의 합 = 2020년2월16일 제주에서 발생한 확진자수 + ... + 2020년2월29일 제주에서 발생한 확진자수"
   ]
  },
  {
   "cell_type": "markdown",
   "id": "224b4143-8f5b-43aa-a723-84187e7cfa37",
   "metadata": {},
   "source": [
    "## `5`. 다음을 잘 읽고 물음에 답하라. (10점)"
   ]
  },
  {
   "cell_type": "markdown",
   "id": "60833008-ae1c-4a00-b6bc-70cb3ee831f6",
   "metadata": {
    "tags": []
   },
   "source": [
    "#### `(1)` cumprod 함수를 이용하여 $7!=7\\times 6 \\times 5 \\times \\dots \\times 1$을 계산하라. "
   ]
  },
  {
   "cell_type": "code",
   "execution_count": 49,
   "id": "20d343f6-14f1-4648-9136-941512902638",
   "metadata": {},
   "outputs": [],
   "source": [
    "x=1:7"
   ]
  },
  {
   "cell_type": "code",
   "execution_count": 50,
   "id": "6c42edcd-7929-4e16-befe-a284d35d6055",
   "metadata": {},
   "outputs": [
    {
     "data": {
      "text/plain": [
       "[1]    1    2    6   24  120  720 5040"
      ]
     },
     "metadata": {},
     "output_type": "display_data"
    }
   ],
   "source": [
    "cumprod(x)"
   ]
  },
  {
   "cell_type": "markdown",
   "id": "5af14094-59c2-40f3-997d-19cc722f0a6f",
   "metadata": {},
   "source": [
    "#### 5040이다 "
   ]
  },
  {
   "cell_type": "markdown",
   "id": "c78c6221-b283-43c7-a126-5dec505c68ec",
   "metadata": {},
   "source": [
    "#### `(2)` $\\sum_{n=0}^{\\infty}\\frac{n}{n!}$의 값을 근사적으로 계산하라. 계산결과를 exp(1)과 비교하라. "
   ]
  },
  {
   "cell_type": "code",
   "execution_count": null,
   "id": "c1050aa2-f1f4-49ac-bf03-e56ae456cdf0",
   "metadata": {},
   "outputs": [],
   "source": [
    "for ("
   ]
  },
  {
   "cell_type": "markdown",
   "id": "fb37132c-7ead-474c-8da8-6d27e33b0b0a",
   "metadata": {
    "tags": []
   },
   "source": [
    "#### `(3)` 표준정규분포에서 1000개의 난수를 생성발생시킨 뒤 0보다 큰 수를 세어보라. "
   ]
  },
  {
   "cell_type": "code",
   "execution_count": 15,
   "id": "3abb601f-b95d-4827-b591-6d72d759b126",
   "metadata": {},
   "outputs": [
    {
     "data": {
      "text/plain": [
       "[1] 506"
      ]
     },
     "metadata": {},
     "output_type": "display_data"
    }
   ],
   "source": [
    "a=rnorm(1000)\n",
    "sum(a>0)"
   ]
  },
  {
   "cell_type": "markdown",
   "id": "cb8ae7c8-4aec-4538-a305-67626417b60a",
   "metadata": {},
   "source": [
    "#### `(4)` $p=0.2$인 베르누이분포에서 1000개의 난수를 만들면 1이 몇개정도 포함되는가? 시뮬레이션을 통하여 검증하라."
   ]
  },
  {
   "cell_type": "code",
   "execution_count": 54,
   "id": "78a804d6-5acd-4b7a-bb90-f0dec625e97f",
   "metadata": {},
   "outputs": [
    {
     "data": {
      "text/plain": [
       "[1] 203"
      ]
     },
     "metadata": {},
     "output_type": "display_data"
    }
   ],
   "source": [
    "rbinom(1000,1,0.2) %>%sum(1)"
   ]
  },
  {
   "cell_type": "markdown",
   "id": "4d813d73-c7d4-43ed-834b-dcb915e63c6d",
   "metadata": {},
   "source": [
    "#### 203개이다"
   ]
  },
  {
   "cell_type": "markdown",
   "id": "e416ebdb-1db2-44ae-8c06-ab2c9033fea7",
   "metadata": {},
   "source": [
    "#### `(5)` 아래는 표준정규분포, 즉 평균이 0이고 표준편차가 1인 정규분포에서 1000개의 난수를 생성하여 $x$라는 변수에 저장한뒤 $x$의 히스토그램을 그린 예시이다. 아래의 예시를 이용하여 평균이 1이고 표준편차가 1인 정규분포에서 5000개의 난수를 생성한뒤 $y$에 저장하고 $y$의 히스토그램을 그려라. 시각화 예시는 아래와 같다. "
   ]
  },
  {
   "cell_type": "code",
   "execution_count": 20,
   "id": "9b5dfb2d-3b2a-4769-bf1c-bdedc5536625",
   "metadata": {},
   "outputs": [
    {
     "data": {
      "image/png": "[encoded data removed]",
      "text/plain": [
       "Plot with title \"Histogram of y\""
      ]
     },
     "metadata": {
      "image/png": {
       "height": 450,
       "width": 450
      }
     },
     "output_type": "display_data"
    }
   ],
   "source": [
    "y=rnorm(5000,mean=1,sd=1)\n",
    "hist(y)"
   ]
  },
  {
   "cell_type": "markdown",
   "id": "2f3df486-8f37-42ed-b142-1371e265d0a4",
   "metadata": {},
   "source": [
    "#### `(6)` 아래와 같은 벡터 x에서 짝수번째 원소 (즉 x[2],x[4],$\\dots$,x[2000])의 합을 구하는 코드를 작성하라 "
   ]
  },
  {
   "cell_type": "code",
   "execution_count": 82,
   "id": "02dbd2f9-e678-4bbd-b6d2-5358e8a5d67c",
   "metadata": {},
   "outputs": [
    {
     "data": {
      "text/plain": [
       "   [1] -1.000 -0.999 -0.998 -0.997 -0.996 -0.995 -0.994 -0.993 -0.992 -0.991\n",
       "  [11] -0.990 -0.989 -0.988 -0.987 -0.986 -0.985 -0.984 -0.983 -0.982 -0.981\n",
       "  [21] -0.980 -0.979 -0.978 -0.977 -0.976 -0.975 -0.974 -0.973 -0.972 -0.971\n",
       "  [31] -0.970 -0.969 -0.968 -0.967 -0.966 -0.965 -0.964 -0.963 -0.962 -0.961\n",
       "  [41] -0.960 -0.959 -0.958 -0.957 -0.956 -0.955 -0.954 -0.953 -0.952 -0.951\n",
       "  [51] -0.950 -0.949 -0.948 -0.947 -0.946 -0.945 -0.944 -0.943 -0.942 -0.941\n",
       "  [61] -0.940 -0.939 -0.938 -0.937 -0.936 -0.935 -0.934 -0.933 -0.932 -0.931\n",
       "  [71] -0.930 -0.929 -0.928 -0.927 -0.926 -0.925 -0.924 -0.923 -0.922 -0.921\n",
       "  [81] -0.920 -0.919 -0.918 -0.917 -0.916 -0.915 -0.914 -0.913 -0.912 -0.911\n",
       "  [91] -0.910 -0.909 -0.908 -0.907 -0.906 -0.905 -0.904 -0.903 -0.902 -0.901\n",
       " [101] -0.900 -0.899 -0.898 -0.897 -0.896 -0.895 -0.894 -0.893 -0.892 -0.891\n",
       " [111] -0.890 -0.889 -0.888 -0.887 -0.886 -0.885 -0.884 -0.883 -0.882 -0.881\n",
       " [121] -0.880 -0.879 -0.878 -0.877 -0.876 -0.875 -0.874 -0.873 -0.872 -0.871\n",
       " [131] -0.870 -0.869 -0.868 -0.867 -0.866 -0.865 -0.864 -0.863 -0.862 -0.861\n",
       " [141] -0.860 -0.859 -0.858 -0.857 -0.856 -0.855 -0.854 -0.853 -0.852 -0.851\n",
       " [151] -0.850 -0.849 -0.848 -0.847 -0.846 -0.845 -0.844 -0.843 -0.842 -0.841\n",
       " [161] -0.840 -0.839 -0.838 -0.837 -0.836 -0.835 -0.834 -0.833 -0.832 -0.831\n",
       " [171] -0.830 -0.829 -0.828 -0.827 -0.826 -0.825 -0.824 -0.823 -0.822 -0.821\n",
       " [181] -0.820 -0.819 -0.818 -0.817 -0.816 -0.815 -0.814 -0.813 -0.812 -0.811\n",
       " [191] -0.810 -0.809 -0.808 -0.807 -0.806 -0.805 -0.804 -0.803 -0.802 -0.801\n",
       " [201] -0.800 -0.799 -0.798 -0.797 -0.796 -0.795 -0.794 -0.793 -0.792 -0.791\n",
       " [211] -0.790 -0.789 -0.788 -0.787 -0.786 -0.785 -0.784 -0.783 -0.782 -0.781\n",
       " [221] -0.780 -0.779 -0.778 -0.777 -0.776 -0.775 -0.774 -0.773 -0.772 -0.771\n",
       " [231] -0.770 -0.769 -0.768 -0.767 -0.766 -0.765 -0.764 -0.763 -0.762 -0.761\n",
       " [241] -0.760 -0.759 -0.758 -0.757 -0.756 -0.755 -0.754 -0.753 -0.752 -0.751\n",
       " [251] -0.750 -0.749 -0.748 -0.747 -0.746 -0.745 -0.744 -0.743 -0.742 -0.741\n",
       " [261] -0.740 -0.739 -0.738 -0.737 -0.736 -0.735 -0.734 -0.733 -0.732 -0.731\n",
       " [271] -0.730 -0.729 -0.728 -0.727 -0.726 -0.725 -0.724 -0.723 -0.722 -0.721\n",
       " [281] -0.720 -0.719 -0.718 -0.717 -0.716 -0.715 -0.714 -0.713 -0.712 -0.711\n",
       " [291] -0.710 -0.709 -0.708 -0.707 -0.706 -0.705 -0.704 -0.703 -0.702 -0.701\n",
       " [301] -0.700 -0.699 -0.698 -0.697 -0.696 -0.695 -0.694 -0.693 -0.692 -0.691\n",
       " [311] -0.690 -0.689 -0.688 -0.687 -0.686 -0.685 -0.684 -0.683 -0.682 -0.681\n",
       " [321] -0.680 -0.679 -0.678 -0.677 -0.676 -0.675 -0.674 -0.673 -0.672 -0.671\n",
       " [331] -0.670 -0.669 -0.668 -0.667 -0.666 -0.665 -0.664 -0.663 -0.662 -0.661\n",
       " [341] -0.660 -0.659 -0.658 -0.657 -0.656 -0.655 -0.654 -0.653 -0.652 -0.651\n",
       " [351] -0.650 -0.649 -0.648 -0.647 -0.646 -0.645 -0.644 -0.643 -0.642 -0.641\n",
       " [361] -0.640 -0.639 -0.638 -0.637 -0.636 -0.635 -0.634 -0.633 -0.632 -0.631\n",
       " [371] -0.630 -0.629 -0.628 -0.627 -0.626 -0.625 -0.624 -0.623 -0.622 -0.621\n",
       " [381] -0.620 -0.619 -0.618 -0.617 -0.616 -0.615 -0.614 -0.613 -0.612 -0.611\n",
       " [391] -0.610 -0.609 -0.608 -0.607 -0.606 -0.605 -0.604 -0.603 -0.602 -0.601\n",
       " [401] -0.600 -0.599 -0.598 -0.597 -0.596 -0.595 -0.594 -0.593 -0.592 -0.591\n",
       " [411] -0.590 -0.589 -0.588 -0.587 -0.586 -0.585 -0.584 -0.583 -0.582 -0.581\n",
       " [421] -0.580 -0.579 -0.578 -0.577 -0.576 -0.575 -0.574 -0.573 -0.572 -0.571\n",
       " [431] -0.570 -0.569 -0.568 -0.567 -0.566 -0.565 -0.564 -0.563 -0.562 -0.561\n",
       " [441] -0.560 -0.559 -0.558 -0.557 -0.556 -0.555 -0.554 -0.553 -0.552 -0.551\n",
       " [451] -0.550 -0.549 -0.548 -0.547 -0.546 -0.545 -0.544 -0.543 -0.542 -0.541\n",
       " [461] -0.540 -0.539 -0.538 -0.537 -0.536 -0.535 -0.534 -0.533 -0.532 -0.531\n",
       " [471] -0.530 -0.529 -0.528 -0.527 -0.526 -0.525 -0.524 -0.523 -0.522 -0.521\n",
       " [481] -0.520 -0.519 -0.518 -0.517 -0.516 -0.515 -0.514 -0.513 -0.512 -0.511\n",
       " [491] -0.510 -0.509 -0.508 -0.507 -0.506 -0.505 -0.504 -0.503 -0.502 -0.501\n",
       " [501] -0.500 -0.499 -0.498 -0.497 -0.496 -0.495 -0.494 -0.493 -0.492 -0.491\n",
       " [511] -0.490 -0.489 -0.488 -0.487 -0.486 -0.485 -0.484 -0.483 -0.482 -0.481\n",
       " [521] -0.480 -0.479 -0.478 -0.477 -0.476 -0.475 -0.474 -0.473 -0.472 -0.471\n",
       " [531] -0.470 -0.469 -0.468 -0.467 -0.466 -0.465 -0.464 -0.463 -0.462 -0.461\n",
       " [541] -0.460 -0.459 -0.458 -0.457 -0.456 -0.455 -0.454 -0.453 -0.452 -0.451\n",
       " [551] -0.450 -0.449 -0.448 -0.447 -0.446 -0.445 -0.444 -0.443 -0.442 -0.441\n",
       " [561] -0.440 -0.439 -0.438 -0.437 -0.436 -0.435 -0.434 -0.433 -0.432 -0.431\n",
       " [571] -0.430 -0.429 -0.428 -0.427 -0.426 -0.425 -0.424 -0.423 -0.422 -0.421\n",
       " [581] -0.420 -0.419 -0.418 -0.417 -0.416 -0.415 -0.414 -0.413 -0.412 -0.411\n",
       " [591] -0.410 -0.409 -0.408 -0.407 -0.406 -0.405 -0.404 -0.403 -0.402 -0.401\n",
       " [601] -0.400 -0.399 -0.398 -0.397 -0.396 -0.395 -0.394 -0.393 -0.392 -0.391\n",
       " [611] -0.390 -0.389 -0.388 -0.387 -0.386 -0.385 -0.384 -0.383 -0.382 -0.381\n",
       " [621] -0.380 -0.379 -0.378 -0.377 -0.376 -0.375 -0.374 -0.373 -0.372 -0.371\n",
       " [631] -0.370 -0.369 -0.368 -0.367 -0.366 -0.365 -0.364 -0.363 -0.362 -0.361\n",
       " [641] -0.360 -0.359 -0.358 -0.357 -0.356 -0.355 -0.354 -0.353 -0.352 -0.351\n",
       " [651] -0.350 -0.349 -0.348 -0.347 -0.346 -0.345 -0.344 -0.343 -0.342 -0.341\n",
       " [661] -0.340 -0.339 -0.338 -0.337 -0.336 -0.335 -0.334 -0.333 -0.332 -0.331\n",
       " [671] -0.330 -0.329 -0.328 -0.327 -0.326 -0.325 -0.324 -0.323 -0.322 -0.321\n",
       " [681] -0.320 -0.319 -0.318 -0.317 -0.316 -0.315 -0.314 -0.313 -0.312 -0.311\n",
       " [691] -0.310 -0.309 -0.308 -0.307 -0.306 -0.305 -0.304 -0.303 -0.302 -0.301\n",
       " [701] -0.300 -0.299 -0.298 -0.297 -0.296 -0.295 -0.294 -0.293 -0.292 -0.291\n",
       " [711] -0.290 -0.289 -0.288 -0.287 -0.286 -0.285 -0.284 -0.283 -0.282 -0.281\n",
       " [721] -0.280 -0.279 -0.278 -0.277 -0.276 -0.275 -0.274 -0.273 -0.272 -0.271\n",
       " [731] -0.270 -0.269 -0.268 -0.267 -0.266 -0.265 -0.264 -0.263 -0.262 -0.261\n",
       " [741] -0.260 -0.259 -0.258 -0.257 -0.256 -0.255 -0.254 -0.253 -0.252 -0.251\n",
       " [751] -0.250 -0.249 -0.248 -0.247 -0.246 -0.245 -0.244 -0.243 -0.242 -0.241\n",
       " [761] -0.240 -0.239 -0.238 -0.237 -0.236 -0.235 -0.234 -0.233 -0.232 -0.231\n",
       " [771] -0.230 -0.229 -0.228 -0.227 -0.226 -0.225 -0.224 -0.223 -0.222 -0.221\n",
       " [781] -0.220 -0.219 -0.218 -0.217 -0.216 -0.215 -0.214 -0.213 -0.212 -0.211\n",
       " [791] -0.210 -0.209 -0.208 -0.207 -0.206 -0.205 -0.204 -0.203 -0.202 -0.201\n",
       " [801] -0.200 -0.199 -0.198 -0.197 -0.196 -0.195 -0.194 -0.193 -0.192 -0.191\n",
       " [811] -0.190 -0.189 -0.188 -0.187 -0.186 -0.185 -0.184 -0.183 -0.182 -0.181\n",
       " [821] -0.180 -0.179 -0.178 -0.177 -0.176 -0.175 -0.174 -0.173 -0.172 -0.171\n",
       " [831] -0.170 -0.169 -0.168 -0.167 -0.166 -0.165 -0.164 -0.163 -0.162 -0.161\n",
       " [841] -0.160 -0.159 -0.158 -0.157 -0.156 -0.155 -0.154 -0.153 -0.152 -0.151\n",
       " [851] -0.150 -0.149 -0.148 -0.147 -0.146 -0.145 -0.144 -0.143 -0.142 -0.141\n",
       " [861] -0.140 -0.139 -0.138 -0.137 -0.136 -0.135 -0.134 -0.133 -0.132 -0.131\n",
       " [871] -0.130 -0.129 -0.128 -0.127 -0.126 -0.125 -0.124 -0.123 -0.122 -0.121\n",
       " [881] -0.120 -0.119 -0.118 -0.117 -0.116 -0.115 -0.114 -0.113 -0.112 -0.111\n",
       " [891] -0.110 -0.109 -0.108 -0.107 -0.106 -0.105 -0.104 -0.103 -0.102 -0.101\n",
       " [901] -0.100 -0.099 -0.098 -0.097 -0.096 -0.095 -0.094 -0.093 -0.092 -0.091\n",
       " [911] -0.090 -0.089 -0.088 -0.087 -0.086 -0.085 -0.084 -0.083 -0.082 -0.081\n",
       " [921] -0.080 -0.079 -0.078 -0.077 -0.076 -0.075 -0.074 -0.073 -0.072 -0.071\n",
       " [931] -0.070 -0.069 -0.068 -0.067 -0.066 -0.065 -0.064 -0.063 -0.062 -0.061\n",
       " [941] -0.060 -0.059 -0.058 -0.057 -0.056 -0.055 -0.054 -0.053 -0.052 -0.051\n",
       " [951] -0.050 -0.049 -0.048 -0.047 -0.046 -0.045 -0.044 -0.043 -0.042 -0.041\n",
       " [961] -0.040 -0.039 -0.038 -0.037 -0.036 -0.035 -0.034 -0.033 -0.032 -0.031\n",
       " [971] -0.030 -0.029 -0.028 -0.027 -0.026 -0.025 -0.024 -0.023 -0.022 -0.021\n",
       " [981] -0.020 -0.019 -0.018 -0.017 -0.016 -0.015 -0.014 -0.013 -0.012 -0.011\n",
       " [991] -0.010 -0.009 -0.008 -0.007 -0.006 -0.005 -0.004 -0.003 -0.002 -0.001\n",
       " [ reached getOption(\"max.print\") -- omitted 1001 entries ]"
      ]
     },
     "metadata": {},
     "output_type": "display_data"
    }
   ],
   "source": [
    "x=-1000:1000/1000\n",
    "x=as.vector(x)\n",
    "x"
   ]
  },
  {
   "cell_type": "code",
   "execution_count": 33,
   "id": "ef8dc188-6ee9-44d7-80d5-c782f6454acb",
   "metadata": {},
   "outputs": [
    {
     "ename": "ERROR",
     "evalue": "Error in x[0+2i]: 유효하지 않은 첨자의 타입 'complex'입니다\n",
     "output_type": "error",
     "traceback": [
      "Error in x[0+2i]: 유효하지 않은 첨자의 타입 'complex'입니다\nTraceback:\n"
     ]
    }
   ],
   "source": []
  },
  {
   "cell_type": "markdown",
   "id": "1148aa17-27a7-458d-b4f7-e1af562351f7",
   "metadata": {},
   "source": [
    "#### `(7)` 2021년 A씨의 연봉은 5000이다. 매년 연봉은 3%씩 오른다고 하자. 2030년 A씨의 연봉은 얼마인가? "
   ]
  },
  {
   "cell_type": "code",
   "execution_count": 35,
   "id": "486116c7-e337-43ac-9295-d4a04057bc13",
   "metadata": {},
   "outputs": [],
   "source": [
    "sal<-c()\n",
    "sal[1]<-5000\n",
    "for (i in 1:9){\n",
    "    sal[i] = sal[1]*1.03\n",
    "}"
   ]
  },
  {
   "cell_type": "code",
   "execution_count": 36,
   "id": "e52f989a-a87a-48af-be99-ad6ac52f2a5d",
   "metadata": {},
   "outputs": [
    {
     "name": "stdout",
     "output_type": "stream",
     "text": [
      "[1] 5150.0 5304.5 5304.5 5304.5 5304.5 5304.5 5304.5 5304.5 5304.5\n"
     ]
    }
   ],
   "source": [
    "print(sal)"
   ]
  },
  {
   "cell_type": "markdown",
   "id": "2f841fc1-dce8-4550-aa07-2242d3eb832c",
   "metadata": {},
   "source": [
    "#### 답은 5304.5이다"
   ]
  },
  {
   "cell_type": "markdown",
   "id": "ac8212d6-cf8b-4fe2-8c17-eae8bc015819",
   "metadata": {},
   "source": [
    "#### `(8)` 임의의 입력 $x$에 대하여 아래를 만족하는 함수를 선언하라. "
   ]
  },
  {
   "cell_type": "markdown",
   "id": "328e404d-e10d-41ac-b453-a77edcf3eff6",
   "metadata": {},
   "source": [
    "- $x >0$: $\\log (x)$를 계산하여 출력 \n",
    "- $x =0$: print(\"음의 무한대\")\n",
    "- $x <0$: print(\"x는 양수이어야 합니다.\")"
   ]
  },
  {
   "cell_type": "code",
   "execution_count": 83,
   "id": "b88f722d-9e9d-4a65-b4db-fc528c0941a4",
   "metadata": {},
   "outputs": [
    {
     "name": "stderr",
     "output_type": "stream",
     "text": [
      "Warning message in log(x):\n",
      "\"NaN이 생성되었습니다\"\n"
     ]
    },
    {
     "name": "stdout",
     "output_type": "stream",
     "text": [
      "[1] \"x는 양수이어야 합니다.\"\n",
      "[1] \"x는 양수이어야 합니다.\"\n"
     ]
    },
    {
     "data": {
      "text/plain": [
       "   [1] NA NA NA NA NA NA NA NA NA NA NA NA NA NA NA NA NA NA NA NA NA NA NA NA\n",
       "  [25] NA NA NA NA NA NA NA NA NA NA NA NA NA NA NA NA NA NA NA NA NA NA NA NA\n",
       "  [49] NA NA NA NA NA NA NA NA NA NA NA NA NA NA NA NA NA NA NA NA NA NA NA NA\n",
       "  [73] NA NA NA NA NA NA NA NA NA NA NA NA NA NA NA NA NA NA NA NA NA NA NA NA\n",
       "  [97] NA NA NA NA NA NA NA NA NA NA NA NA NA NA NA NA NA NA NA NA NA NA NA NA\n",
       " [121] NA NA NA NA NA NA NA NA NA NA NA NA NA NA NA NA NA NA NA NA NA NA NA NA\n",
       " [145] NA NA NA NA NA NA NA NA NA NA NA NA NA NA NA NA NA NA NA NA NA NA NA NA\n",
       " [169] NA NA NA NA NA NA NA NA NA NA NA NA NA NA NA NA NA NA NA NA NA NA NA NA\n",
       " [193] NA NA NA NA NA NA NA NA NA NA NA NA NA NA NA NA NA NA NA NA NA NA NA NA\n",
       " [217] NA NA NA NA NA NA NA NA NA NA NA NA NA NA NA NA NA NA NA NA NA NA NA NA\n",
       " [241] NA NA NA NA NA NA NA NA NA NA NA NA NA NA NA NA NA NA NA NA NA NA NA NA\n",
       " [265] NA NA NA NA NA NA NA NA NA NA NA NA NA NA NA NA NA NA NA NA NA NA NA NA\n",
       " [289] NA NA NA NA NA NA NA NA NA NA NA NA NA NA NA NA NA NA NA NA NA NA NA NA\n",
       " [313] NA NA NA NA NA NA NA NA NA NA NA NA NA NA NA NA NA NA NA NA NA NA NA NA\n",
       " [337] NA NA NA NA NA NA NA NA NA NA NA NA NA NA NA NA NA NA NA NA NA NA NA NA\n",
       " [361] NA NA NA NA NA NA NA NA NA NA NA NA NA NA NA NA NA NA NA NA NA NA NA NA\n",
       " [385] NA NA NA NA NA NA NA NA NA NA NA NA NA NA NA NA NA NA NA NA NA NA NA NA\n",
       " [409] NA NA NA NA NA NA NA NA NA NA NA NA NA NA NA NA NA NA NA NA NA NA NA NA\n",
       " [433] NA NA NA NA NA NA NA NA NA NA NA NA NA NA NA NA NA NA NA NA NA NA NA NA\n",
       " [457] NA NA NA NA NA NA NA NA NA NA NA NA NA NA NA NA NA NA NA NA NA NA NA NA\n",
       " [481] NA NA NA NA NA NA NA NA NA NA NA NA NA NA NA NA NA NA NA NA NA NA NA NA\n",
       " [505] NA NA NA NA NA NA NA NA NA NA NA NA NA NA NA NA NA NA NA NA NA NA NA NA\n",
       " [529] NA NA NA NA NA NA NA NA NA NA NA NA NA NA NA NA NA NA NA NA NA NA NA NA\n",
       " [553] NA NA NA NA NA NA NA NA NA NA NA NA NA NA NA NA NA NA NA NA NA NA NA NA\n",
       " [577] NA NA NA NA NA NA NA NA NA NA NA NA NA NA NA NA NA NA NA NA NA NA NA NA\n",
       " [601] NA NA NA NA NA NA NA NA NA NA NA NA NA NA NA NA NA NA NA NA NA NA NA NA\n",
       " [625] NA NA NA NA NA NA NA NA NA NA NA NA NA NA NA NA NA NA NA NA NA NA NA NA\n",
       " [649] NA NA NA NA NA NA NA NA NA NA NA NA NA NA NA NA NA NA NA NA NA NA NA NA\n",
       " [673] NA NA NA NA NA NA NA NA NA NA NA NA NA NA NA NA NA NA NA NA NA NA NA NA\n",
       " [697] NA NA NA NA NA NA NA NA NA NA NA NA NA NA NA NA NA NA NA NA NA NA NA NA\n",
       " [721] NA NA NA NA NA NA NA NA NA NA NA NA NA NA NA NA NA NA NA NA NA NA NA NA\n",
       " [745] NA NA NA NA NA NA NA NA NA NA NA NA NA NA NA NA NA NA NA NA NA NA NA NA\n",
       " [769] NA NA NA NA NA NA NA NA NA NA NA NA NA NA NA NA NA NA NA NA NA NA NA NA\n",
       " [793] NA NA NA NA NA NA NA NA NA NA NA NA NA NA NA NA NA NA NA NA NA NA NA NA\n",
       " [817] NA NA NA NA NA NA NA NA NA NA NA NA NA NA NA NA NA NA NA NA NA NA NA NA\n",
       " [841] NA NA NA NA NA NA NA NA NA NA NA NA NA NA NA NA NA NA NA NA NA NA NA NA\n",
       " [865] NA NA NA NA NA NA NA NA NA NA NA NA NA NA NA NA NA NA NA NA NA NA NA NA\n",
       " [889] NA NA NA NA NA NA NA NA NA NA NA NA NA NA NA NA NA NA NA NA NA NA NA NA\n",
       " [913] NA NA NA NA NA NA NA NA NA NA NA NA NA NA NA NA NA NA NA NA NA NA NA NA\n",
       " [937] NA NA NA NA NA NA NA NA NA NA NA NA NA NA NA NA NA NA NA NA NA NA NA NA\n",
       " [961] NA NA NA NA NA NA NA NA NA NA NA NA NA NA NA NA NA NA NA NA NA NA NA NA\n",
       " [985] NA NA NA NA NA NA NA NA NA NA NA NA NA NA NA NA\n",
       " [ reached getOption(\"max.print\") -- omitted 1001 entries ]"
      ]
     },
     "metadata": {},
     "output_type": "display_data"
    }
   ],
   "source": [
    "ifelse(x>0,logx),ifelse(x==0,print(\"x는 양수이어야 합니다.\"),print(\"x는 양수이어야 합니다.\")))"
   ]
  },
  {
   "cell_type": "markdown",
   "id": "750e263a-5dcc-48c8-bd17-7ff67034f15b",
   "metadata": {},
   "source": [
    "#### `(9)` 아래와 같은 데이터프레임이 있다고 하자. "
   ]
  },
  {
   "cell_type": "code",
   "execution_count": 7,
   "id": "a120373f-07df-4a12-9816-b2fddde62c74",
   "metadata": {},
   "outputs": [
    {
     "data": {
      "text/plain": [
       "  X1          X2        \n",
       "1 -0.05792695 -0.7470949\n",
       "2  0.94952844  0.9314774\n",
       "3  0.88564072 -1.5516932\n",
       "4 -1.68083448  0.8759095\n",
       "5  0.77194443 -0.7933739\n",
       "6  0.67490706  0.3455815"
      ]
     },
     "metadata": {},
     "output_type": "display_data"
    }
   ],
   "source": [
    "df=tibble(X1=rnorm(100),X2=rnorm(100))\n",
    "head(df)"
   ]
  },
  {
   "cell_type": "code",
   "execution_count": 8,
   "id": "44bebf10-7002-44b9-869f-e676a559d428",
   "metadata": {},
   "outputs": [
    {
     "data": {
      "text/plain": [
       "    X1          X2          Z           \n",
       "1   -0.05792695 -0.74709493  0.5615064  \n",
       "2    0.94952844  0.93147735  1.7692543  \n",
       "3    0.88564072 -1.55169322  3.1921113  \n",
       "4   -1.68083448  0.87590950  3.5924220  \n",
       "5    0.77194443 -0.79337394  1.2253404  \n",
       "6    0.67490706  0.34558155  0.5749261  \n",
       "7   -0.31436985  0.30520561  0.1919789  \n",
       "8   -1.15758355  0.06415741  1.3441159  \n",
       "9   -0.67593307  0.34161208  0.5735843  \n",
       "10  -0.66004849  0.73502974  0.9759327  \n",
       "11  -1.81261656 -0.09187596  3.2940200  \n",
       "12   0.80206260 -3.21829164 11.0007055  \n",
       "13   2.46784756  0.14933615  6.1125728  \n",
       "14   1.20896427 -0.80264371  2.1058315  \n",
       "15  -1.19159014  1.32912618  3.1864635  \n",
       "16  -1.15914215  1.75629224  4.4281730  \n",
       "17  -0.22506918 -2.35611401  5.6019294  \n",
       "18   0.11149973 -0.98244097  0.9776225  \n",
       "19  -0.76062546  1.57758562  3.0673275  \n",
       "20   1.58939411  1.27033909  4.1399350  \n",
       "21  -0.72366151  0.23611779  0.5794376  \n",
       "22  -0.40255856 -0.32470633  0.2674876  \n",
       "23  -0.15565485 -0.27640411  0.1006277  \n",
       "24   1.67610697  0.21172411  2.8541617  \n",
       "25   1.35905342  0.58782313  2.1925622  \n",
       "26   1.38390256 -0.14506969  1.9362315  \n",
       "27  -0.63965937  0.70101010  0.9005793  \n",
       "28   0.45289728  1.63834818  2.8893007  \n",
       "29  -1.05010780  0.73296602  1.6399656  \n",
       "30   1.09242724  0.46849490  1.4128847  \n",
       "<U+22EE>   <U+22EE>    <U+22EE>    <U+22EE>    \n",
       "71   0.96090270  1.31173691 2.6439877404\n",
       "72   2.41805439  0.11058479 5.8592160091\n",
       "73   0.51839934  2.51386967 6.5882786081\n",
       "74   0.09973989 -1.54630020 2.4009923523\n",
       "75   0.98134367 -0.31707516 1.0635720606\n",
       "76  -1.62447884 -0.27865152 2.7165781745\n",
       "77   0.34217965  0.42801950 0.3002876045\n",
       "78  -0.01009431  0.01977576 0.0004929758\n",
       "79   0.75880716 -0.28048286 0.6544589439\n",
       "80   0.65793480 -0.28559312 0.5144416278\n",
       "81  -0.65724648  1.12687946 1.7018302532\n",
       "82   1.75062475  0.30718479 3.1590495264\n",
       "83   1.12292412 -1.33852272 3.0526016549\n",
       "84   0.01051147  1.75203978 3.0697538661\n",
       "85  -0.59663083 -1.81606033 3.6540434770\n",
       "86   1.20890910 -1.64219000 4.1582491893\n",
       "87   0.89616343 -0.62773641 1.1971618910\n",
       "88  -2.02867158  0.54596702 4.4135883864\n",
       "89  -0.56219169  0.74513031 0.8712786790\n",
       "90   0.52147417  1.05511453 1.3852019852\n",
       "91  -0.43905533  0.57936272 0.5284307450\n",
       "92  -0.59061224  0.06325929 0.3528245571\n",
       "93   1.10862130  1.02067850 2.2708257908\n",
       "94   1.29466547 -1.24260722 3.2202313704\n",
       "95   1.26985431  1.65109696 4.3386511468\n",
       "96  -0.97250742  1.08009862 2.1123837052\n",
       "97  -0.82487234  0.54333277 0.9756248829\n",
       "98   0.57135927  0.34012648 0.4421374329\n",
       "99  -0.04087010  0.42870189 0.1854556792\n",
       "100  0.59997041  0.06548536 0.3642528202"
      ]
     },
     "metadata": {},
     "output_type": "display_data"
    }
   ],
   "source": [
    "df %>% mutate(Z=X1^2+X2^2)"
   ]
  },
  {
   "cell_type": "markdown",
   "id": "aa71709c-2459-493e-9cbf-f07e40933074",
   "metadata": {},
   "source": [
    "위의 데이터프레임 df에서 `mutate`를 이용하여 `Z=X1^2+X2^2`을 계산하여 새로운 열 Z를 만들어라. "
   ]
  },
  {
   "cell_type": "markdown",
   "id": "fdd57b34-45c6-41e0-a9ec-0e3bcf096a39",
   "metadata": {
    "tags": []
   },
   "source": [
    "#### `(10)` 아래와 같은 매트릭스에서 `apply`함수를 이용하여 각 행의 합과 각 열의 합을 구하라 "
   ]
  },
  {
   "cell_type": "code",
   "execution_count": 58,
   "id": "4dce282e-0765-47de-9fc4-2d55df4c4372",
   "metadata": {},
   "outputs": [
    {
     "name": "stdout",
     "output_type": "stream",
     "text": [
      "      [,1] [,2] [,3] [,4] [,5] [,6] [,7] [,8] [,9] [,10]\n",
      " [1,]    2    3    3    2    2    3    1    3    3     3\n",
      " [2,]    1    3    3    4    2    2    4    2    2     1\n",
      " [3,]    2    2    2    2    4    4    2    3    3     3\n",
      " [4,]    3    2    4    5    2    5    1    4    2     2\n",
      " [5,]    2    2    2    2    1    4    2    2    3     4\n",
      " [6,]    5    1    3    1    1    3    4    2    4     3\n",
      " [7,]    4    3    4    3    2    3    2    3    0     1\n",
      " [8,]    4    4    2    3    2    3    3    0    4     2\n",
      " [9,]    5    5    4    3    2    4    4    4    1     4\n",
      "[10,]    2    4    4    3    1    3    3    2    1     2\n"
     ]
    }
   ],
   "source": [
    "set.seed(1221)\n",
    "mat = rbinom(n=100,size=5,prob=0.5)\n",
    "dim(mat)=c(10,10)\n",
    "print(mat)"
   ]
  },
  {
   "cell_type": "code",
   "execution_count": 10,
   "id": "a8adc49d-9fb6-4c23-a34f-e60e0534382b",
   "metadata": {},
   "outputs": [
    {
     "data": {
      "text/plain": [
       " [1] 25 24 27 30 24 27 25 27 36 25"
      ]
     },
     "metadata": {},
     "output_type": "display_data"
    }
   ],
   "source": [
    "apply(mat,1,sum)  #row"
   ]
  },
  {
   "cell_type": "code",
   "execution_count": 12,
   "id": "4ba18176-8e1a-4249-8dde-b05f97fa7ee7",
   "metadata": {},
   "outputs": [
    {
     "data": {
      "text/plain": [
       " [1] 30 29 31 28 19 34 26 25 23 25"
      ]
     },
     "metadata": {},
     "output_type": "display_data"
    }
   ],
   "source": [
    "apply(mat,2,sum)  #col"
   ]
  },
  {
   "cell_type": "markdown",
   "id": "5412d8eb-a07a-4f74-92e0-754d1753f8ac",
   "metadata": {},
   "source": [
    "즉 아래를 구하라 "
   ]
  },
  {
   "cell_type": "markdown",
   "id": "8dded61e-e395-4bc4-a2a5-f936b30029eb",
   "metadata": {},
   "source": [
    "`-` 각 행의 합\n",
    "- 1행의 합 = 2+3+3+ ... +3+3+3 \n",
    "- ...\n",
    "- 10행의 합 = 2+4+4+ ... +2+1+2"
   ]
  },
  {
   "cell_type": "markdown",
   "id": "1600d9a5-363e-4ffd-a756-90bb4dcbd4c3",
   "metadata": {},
   "source": [
    "`-` 각 열의 합\n",
    "- 1열의 합 = 2+1+2+ ... +4+5+2\n",
    "- ...\n",
    "- 10열의 합 = 3+1+3+ ... +2+4+2"
   ]
  },
  {
   "cell_type": "markdown",
   "id": "9ce31908-cc7a-48e0-89b6-6117a143c13c",
   "metadata": {
    "tags": []
   },
   "source": [
    "## `6`. 다음을 잘 읽고 물음에 답하라. (20점)"
   ]
  },
  {
   "cell_type": "markdown",
   "id": "24d014aa-d2c5-417f-afcd-c4bbc35f6403",
   "metadata": {},
   "source": [
    "#### `(1)` 자료 $x_1,x_2,\\dots, x_{50}$에 대하여 다음 과정을 순서대로 시행하였다."
   ]
  },
  {
   "cell_type": "markdown",
   "id": "35ad820e-3421-4c0a-a40c-38c78942ed83",
   "metadata": {},
   "source": [
    "(가) 처음 두 수 $x_1$과 $x_2$의 평균을 구한다. \n",
    "\n",
    "(나) $x_3$을 추가하여 $x_1, x_2, x_3$의 평균을 구한다. \n",
    "\n",
    "(다) $x_4$을 추가하여 $x_1, x_2, x_3, x_4$의 평균을 구한다. \n",
    "\n",
    "...\n",
    "\n",
    "$x_{50}$을 추가하여 $x_1, x_2, x_3 ,\\dots , x_{50}$의 평균을 구한다. "
   ]
  },
  {
   "cell_type": "markdown",
   "id": "4a30daaa-66ce-4344-8ef5-722e8ffb0006",
   "metadata": {},
   "source": [
    "위의 과정을 시행할 결과, $x_1$과 $x_2$의 평균이 5이고, 자료 하나가 추가될때 마다 평균이 1씩 증가하였다. 이때 $x_{50}$의 값은? "
   ]
  },
  {
   "cell_type": "markdown",
   "id": "2e2653d1-f565-4900-ad35-4431ed1d074d",
   "metadata": {
    "tags": []
   },
   "source": [
    "#### `(2)` 복도의 라커 \n",
    "\n",
    "복도에 100개의 라커가 있다. 복도를 어떤 남자가 **짝수번호**의 라커를 모두 연다. 그리고 나서 3의 배수의 라커를 전부 닫는다. 그 다음에는 번호가 4의 배수인 라커를 순서대로 찾아다니며 열려 있으면 닫고, 닫혀 있으면 연다. 그 다음에는 번호가 5의 배수인 라커를 순서대로 찾아다니며 열려있으면 닫고, 닫혀있으면 연다. 이후에 6의 배수, 7의 배수 .. 인 라커를 순서대로 찾아다니며 행동을 반복한다. 이런식으로 복도를 **50번** 지나가면 열린 라커의 문은 몇개가 되겠는가? (주의: 중간고사문제와 약간다릅니다, 다른부분은 볼드체 표시했습니다)"
   ]
  },
  {
   "cell_type": "markdown",
   "id": "e2f77aba-17d3-45c0-977b-ebc7ebc1b007",
   "metadata": {},
   "source": [
    "#### `(3)` 몬테카를로 시뮬레이션을 이용하여 원주율 $\\pi$를 추론하는 코드를 작성하라. "
   ]
  },
  {
   "cell_type": "markdown",
   "id": "6d96b655-723b-4b88-be3a-179599fec430",
   "metadata": {},
   "source": [
    "#### `(4)` 아래와 같은 연립일차방정식을 푸는 R코드를 작성하라. "
   ]
  },
  {
   "cell_type": "markdown",
   "id": "1242cd3f-41fe-4f41-870d-311c0ec85d69",
   "metadata": {},
   "source": [
    "$\\begin{cases}\n",
    "w+2x+3y+4z=1 \\\\\n",
    "2w+2x+y=9 \\\\\n",
    "x-y=4 \\\\\n",
    "3w+x-y+3y=7\n",
    "\\end{cases}$\n"
   ]
  },
  {
   "cell_type": "code",
   "execution_count": 42,
   "id": "e28b03d5-9fea-47bc-b4f9-adb78edb481b",
   "metadata": {},
   "outputs": [
    {
     "data": {
      "text/plain": [
       "     [,1]\n",
       "[1,]  2  \n",
       "[2,]  3  \n",
       "[3,] -1  \n",
       "[4,] -1  "
      ]
     },
     "metadata": {},
     "output_type": "display_data"
    }
   ],
   "source": [
    "A=rbind(c(1,2,3,4),c(2,2,1,0),c(0,1,-1,0),c(3,1,-1,3))\n",
    "b=c(1,9,4,7)\n",
    "dim(b)=c(4,1)\n",
    "solve(A) %*% b"
   ]
  },
  {
   "cell_type": "markdown",
   "id": "8c0bca0f-2b2b-483e-98bf-46f560db01f7",
   "metadata": {},
   "source": [
    "#### `(5)` 우산의 회전"
   ]
  },
  {
   "cell_type": "markdown",
   "id": "856adbd0-6cac-4de3-9a4e-5758c5b3c60a",
   "metadata": {},
   "source": [
    "다음은 인터넷에서 어떠한 자료를 다운받아 매트릭스로 저장하는 코드이다. \n",
    "```R\n",
    "df=read.csv(\"https://raw.githubusercontent.com/guebin/2021IR/master/_notebooks/round2.csv\")\n",
    "X=as.matrix(df)\n",
    "```\n",
    "매트릭스는 `X`이라는 변수에 저장되어 있다. 저장된 모양은 아래와 같다. \n",
    "$${\\bf X}= \n",
    "\\begin{bmatrix}\n",
    "x_1 & y_1 \\\\ \n",
    "x_2 & y_2 \\\\ \n",
    "\\dots & \\dots \\\\ \n",
    "x_{5513} & y_{5513}\n",
    "\\end{bmatrix}\n",
    "$$\n",
    "아래를 계산하여 $\\tilde{\\bf X}$를 만들고 \n",
    "$$\n",
    "\\tilde{\\bf X}={\\bf X} \\begin{bmatrix}\n",
    "\\cos(\\frac{\\pi}{4}) & -\\sin (\\frac{\\pi}{4}) \\\\\n",
    "\\sin(\\frac{\\pi}{4}) & \\cos (\\frac{\\pi}{4})\n",
    "\\end{bmatrix} \n",
    "$$"
   ]
  },
  {
   "cell_type": "markdown",
   "id": "ed520940-df49-49ea-b613-704f98d7d0e3",
   "metadata": {},
   "source": [
    "$\\tilde{\\bf X}$의 첫번째열을 $x$축으로, 두번째열을 $y$축으로 하여 시각화 하라. 시각화 예시는 아래와 같다. "
   ]
  },
  {
   "cell_type": "markdown",
   "id": "25975e05-2cf1-47b6-b126-b8caf43009af",
   "metadata": {},
   "source": [
    "![](https://github.com/guebin/2021IR/blob/master/_notebooks/final_fig5.png?raw=true)"
   ]
  },
  {
   "cell_type": "code",
   "execution_count": 63,
   "id": "a42012c7-33a0-498e-b08d-516f452dbe38",
   "metadata": {},
   "outputs": [
    {
     "data": {
      "text/plain": [
       "      x   y  \n",
       " [1,] 12  313\n",
       " [2,] 12  314\n",
       " [3,] 13  279\n",
       " [4,] 13  311\n",
       " [5,] 13  312\n",
       " [6,] 13  313\n",
       " [7,] 13  314\n",
       " [8,] 13  315\n",
       " [9,] 14  308\n",
       "[10,] 14  309\n",
       "[11,] 14  310\n",
       "[12,] 14  311\n",
       "[13,] 14  312\n",
       "[14,] 14  313\n",
       "[15,] 14  314\n",
       "[16,] 14  315\n",
       "[17,] 14  316\n",
       "[18,] 14  317\n",
       "[19,] 14  318\n",
       "[20,] 14  319\n",
       "[21,] 14  320\n",
       "[22,] 14  321\n",
       "[23,] 14  322\n",
       "[24,] 15  306\n",
       "[25,] 15  307\n",
       "[26,] 15  308\n",
       "[27,] 15  309\n",
       "[28,] 15  310\n",
       "[29,] 15  311\n",
       "[30,] 15  313\n",
       "[31,] <U+22EE> <U+22EE>\n",
       "[32,] 636 375\n",
       "[33,] 636 376\n",
       "[34,] 636 377\n",
       "[35,] 636 378\n",
       "[36,] 636 379\n",
       "[37,] 636 380\n",
       "[38,] 636 381\n",
       "[39,] 636 382\n",
       "[40,] 636 383\n",
       "[41,] 636 384\n",
       "[42,] 636 385\n",
       "[43,] 636 386\n",
       "[44,] 636 391\n",
       "[45,] 636 392\n",
       "[46,] 636 393\n",
       "[47,] 636 394\n",
       "[48,] 636 395\n",
       "[49,] 636 406\n",
       "[50,] 636 407\n",
       "[51,] 636 408\n",
       "[52,] 636 409\n",
       "[53,] 636 410\n",
       "[54,] 636 411\n",
       "[55,] 636 412\n",
       "[56,] 636 413\n",
       "[57,] 636 414\n",
       "[58,] 636 415\n",
       "[59,] 636 416\n",
       "[60,] 636 417\n",
       "[61,] 637 409"
      ]
     },
     "metadata": {},
     "output_type": "display_data"
    }
   ],
   "source": [
    "df=read.csv(\"https://raw.githubusercontent.com/guebin/2021IR/master/_notebooks/round2.csv\")\n",
    "X=as.matrix(df)\n",
    "X"
   ]
  },
  {
   "cell_type": "code",
   "execution_count": 67,
   "id": "9fd8edc0-d63a-4bc3-9f78-ce49c1908bee",
   "metadata": {},
   "outputs": [],
   "source": [
    "a=c(cos(pi/4),sin(pi/4),-sin(pi/4),cos(pi/4))"
   ]
  },
  {
   "cell_type": "code",
   "execution_count": 68,
   "id": "5ea598a7-c0ff-4fe5-9790-04bea3ddfc6b",
   "metadata": {},
   "outputs": [
    {
     "data": {
      "text/plain": [
       "     [,1]      [,2]      \n",
       "[1,] 0.7071068 -0.7071068\n",
       "[2,] 0.7071068  0.7071068"
      ]
     },
     "metadata": {},
     "output_type": "display_data"
    }
   ],
   "source": [
    "dim(a)=c(2,2)\n",
    "a"
   ]
  },
  {
   "cell_type": "code",
   "execution_count": 72,
   "id": "10c2a4be-97df-4471-a918-38f8d2d7650b",
   "metadata": {},
   "outputs": [
    {
     "data": {
      "text/plain": [
       "      [,1]     [,2]     \n",
       " [1,] 229.8097 212.8391 \n",
       " [2,] 230.5168 213.5462 \n",
       " [3,] 206.4752 188.0904 \n",
       " [4,] 229.1026 210.7178 \n",
       " [5,] 229.8097 211.4249 \n",
       " [6,] 230.5168 212.1320 \n",
       " [7,] 231.2239 212.8391 \n",
       " [8,] 231.9310 213.5462 \n",
       " [9,] 227.6884 207.8894 \n",
       "[10,] 228.3955 208.5965 \n",
       "[11,] 229.1026 209.3036 \n",
       "[12,] 229.8097 210.0107 \n",
       "[13,] 230.5168 210.7178 \n",
       "[14,] 231.2239 211.4249 \n",
       "[15,] 231.9310 212.1320 \n",
       "[16,] 232.6381 212.8391 \n",
       "[17,] 233.3452 213.5462 \n",
       "[18,] 234.0523 214.2534 \n",
       "[19,] 234.7595 214.9605 \n",
       "[20,] 235.4666 215.6676 \n",
       "[21,] 236.1737 216.3747 \n",
       "[22,] 236.8808 217.0818 \n",
       "[23,] 237.5879 217.7889 \n",
       "[24,] 226.9813 205.7681 \n",
       "[25,] 227.6884 206.4752 \n",
       "[26,] 228.3955 207.1823 \n",
       "[27,] 229.1026 207.8894 \n",
       "[28,] 229.8097 208.5965 \n",
       "[29,] 230.5168 209.3036 \n",
       "[30,] 231.9310 210.7178 \n",
       "[31,] <U+22EE> <U+22EE> \n",
       "[32,] 714.8850 -184.5549\n",
       "[33,] 715.5921 -183.8478\n",
       "[34,] 716.2992 -183.1407\n",
       "[35,] 717.0063 -182.4335\n",
       "[36,] 717.7134 -181.7264\n",
       "[37,] 718.4205 -181.0193\n",
       "[38,] 719.1276 -180.3122\n",
       "[39,] 719.8347 -179.6051\n",
       "[40,] 720.5418 -178.8980\n",
       "[41,] 721.2489 -178.1909\n",
       "[42,] 721.9560 -177.4838\n",
       "[43,] 722.6631 -176.7767\n",
       "[44,] 726.1987 -173.2412\n",
       "[45,] 726.9058 -172.5341\n",
       "[46,] 727.6129 -171.8269\n",
       "[47,] 728.3200 -171.1198\n",
       "[48,] 729.0271 -170.4127\n",
       "[49,] 736.8053 -162.6346\n",
       "[50,] 737.5124 -161.9275\n",
       "[51,] 738.2195 -161.2203\n",
       "[52,] 738.9266 -160.5132\n",
       "[53,] 739.6337 -159.8061\n",
       "[54,] 740.3408 -159.0990\n",
       "[55,] 741.0479 -158.3919\n",
       "[56,] 741.7550 -157.6848\n",
       "[57,] 742.4621 -156.9777\n",
       "[58,] 743.1692 -156.2706\n",
       "[59,] 743.8763 -155.5635\n",
       "[60,] 744.5834 -154.8564\n",
       "[61,] 739.6337 -161.2203"
      ]
     },
     "metadata": {},
     "output_type": "display_data"
    }
   ],
   "source": [
    "d=X %*% a\n",
    "d"
   ]
  },
  {
   "cell_type": "code",
   "execution_count": 74,
   "id": "3f23300f-2533-4382-9fd5-3a33551d46b3",
   "metadata": {},
   "outputs": [],
   "source": [
    "x1=d[,1] "
   ]
  },
  {
   "cell_type": "code",
   "execution_count": 75,
   "id": "a666b243-2627-49eb-a059-c881f3f3cf6a",
   "metadata": {},
   "outputs": [],
   "source": [
    "y1=d [,2]"
   ]
  },
  {
   "cell_type": "code",
   "execution_count": 76,
   "id": "518fa4e1-2253-4e3a-9613-5cea68a11f50",
   "metadata": {},
   "outputs": [
    {
     "data": {
      "image/png": "[encoded data removed]",
      "text/plain": [
       "plot without title"
      ]
     },
     "metadata": {
      "image/png": {
       "height": 450,
       "width": 450
      }
     },
     "output_type": "display_data"
    }
   ],
   "source": [
    "plot(x1,y1)"
   ]
  },
  {
   "cell_type": "code",
   "execution_count": null,
   "id": "b7b6076f-a67d-427c-948f-1948b4e43628",
   "metadata": {},
   "outputs": [],
   "source": []
  }
 ],
 "metadata": {
  "kernelspec": {
   "display_name": "R",
   "language": "R",
   "name": "ir"
  },
  "language_info": {
   "codemirror_mode": "r",
   "file_extension": ".r",
   "mimetype": "text/x-r-source",
   "name": "R",
   "pygments_lexer": "r",
   "version": "4.0.5"
  },
  "widgets": {
   "application/vnd.jupyter.widget-state+json": {
    "state": {},
    "version_major": 2,
    "version_minor": 0
   }
  }
 },
 "nbformat": 4,
 "nbformat_minor": 5
}
