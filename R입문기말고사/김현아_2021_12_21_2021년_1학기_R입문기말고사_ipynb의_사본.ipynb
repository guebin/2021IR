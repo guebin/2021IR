{
  "cells": [
    {
      "cell_type": "markdown",
      "id": "cd0b452a-d6b0-4bb5-945a-f88ef93a7f89",
      "metadata": {
        "tags": [],
        "id": "cd0b452a-d6b0-4bb5-945a-f88ef93a7f89"
      },
      "source": [
        "# 2021년 1학기 R입문 기말고사 (ver 1.00)\n",
        "\n",
        "- toc:false\n",
        "- branch: master\n",
        "- badges: true\n",
        "- comments: true\n",
        "- author: 최규빈"
      ]
    },
    {
      "cell_type": "code",
      "execution_count": null,
      "id": "a27abf35-cdef-4797-a470-e479ecad2a93",
      "metadata": {
        "tags": [],
        "id": "a27abf35-cdef-4797-a470-e479ecad2a93"
      },
      "outputs": [],
      "source": [
        "#hide\n",
        "#options(jupyter.rich_display=FALSE)\n",
        "options(repr.plot.width=6,repr.plot.height=6,repr.plot.res=150)\n",
        "options(max.print=1000)"
      ]
    },
    {
      "cell_type": "markdown",
      "id": "0dacb1a1-85b1-4361-88e2-6877d9b8e87d",
      "metadata": {
        "id": "0dacb1a1-85b1-4361-88e2-6877d9b8e87d"
      },
      "source": [
        "**의미가 모호한 문제는 질문할것**\n",
        "\n",
        "**필요한 패키지는 스스로 로드하여 사용할 것** "
      ]
    },
    {
      "cell_type": "markdown",
      "id": "21a0f600-e9bc-4909-b9e8-ca4c2900b20f",
      "metadata": {
        "id": "21a0f600-e9bc-4909-b9e8-ca4c2900b20f"
      },
      "source": [
        "## `1`. 회귀분석 (35점) "
      ]
    },
    {
      "cell_type": "markdown",
      "id": "317e056c-4165-4222-a637-0c6ac78ee201",
      "metadata": {
        "id": "317e056c-4165-4222-a637-0c6ac78ee201"
      },
      "source": [
        "아래와 같은 수식을 고려하자. \n",
        "\n",
        "$$y_i= 1.5+ 5\\sin(t_i)+ 3 \\cos(4 t_i)+\\epsilon_i, \\quad i=1,2,\\dots, 1000$$\n",
        "\n",
        "여기에서 $t_i=\\frac{2\\pi i}{1000}$ 이다. 그리고 $\\epsilon_i \\sim i.i.d~ N(0,1)$, 즉 서로 독립인 표준정규분포에서 추출된 샘플이다. "
      ]
    },
    {
      "cell_type": "markdown",
      "id": "620fd982-09c7-49ee-8faf-926bd5a09dd2",
      "metadata": {
        "id": "620fd982-09c7-49ee-8faf-926bd5a09dd2"
      },
      "source": [
        "#### `(1)` `rnorm()`을 이용하여 $\\{\\epsilon_i \\}_{i=1}^{1000}$ 을 만들고 이를 벡터로 만들어라. 즉 아래와 같은 벡터를 생성하라. \n",
        "\n",
        "- $\\boldsymbol{\\epsilon}=(\\epsilon_1,\\dots,\\epsilon_{1000})$"
      ]
    },
    {
      "cell_type": "markdown",
      "id": "dd52f507-e2b6-4f65-a06c-2ee05620db5a",
      "metadata": {
        "id": "dd52f507-e2b6-4f65-a06c-2ee05620db5a"
      },
      "source": [
        "#### `(2)` $\\big\\{\\sin(t_i) \\big\\}_{i=1}^{1000}$와 $\\big\\{\\cos(4t_i) \\big\\}_{i=1}^{1000}$를 각각 생성하고 이를 ${\\bf x}_1$와 ${\\bf x}_2$에 저장하라. 즉 아래와 같은 2개의 벡터를 생성하라. \n",
        "- ${\\bf x}_1=\\big(\\sin(\\frac{2\\pi}{1000}),\\sin(\\frac{4\\pi}{1000}),\\dots,\\sin(2\\pi)\\big)$\n",
        "- ${\\bf x}_2=\\big(\\cos(\\frac{8\\pi}{1000}),\\cos(\\frac{16\\pi}{1000}),\\dots,\\cos(8\\pi)\\big)$"
      ]
    },
    {
      "cell_type": "markdown",
      "id": "a04cf768-c251-49b2-b75c-227703917abc",
      "metadata": {
        "id": "a04cf768-c251-49b2-b75c-227703917abc"
      },
      "source": [
        "#### `(3)` (1),(2)로 부터 $y_i$를 계산하고, $(t_i,y_i)$를 scatter plot으로 시각화 하라. 색은 'gray60'을 사용하라. 시각화 예시는 아래와 같다. "
      ]
    },
    {
      "cell_type": "markdown",
      "id": "fb516585-3317-43ac-80d2-867a5953e203",
      "metadata": {
        "id": "fb516585-3317-43ac-80d2-867a5953e203"
      },
      "source": [
        "![](https://github.com/guebin/2021IR/blob/master/_notebooks/final_fig1.png?raw=true)"
      ]
    },
    {
      "cell_type": "markdown",
      "id": "2aa97a6f-5be5-4dab-9ffd-cb05cafa1057",
      "metadata": {
        "id": "2aa97a6f-5be5-4dab-9ffd-cb05cafa1057"
      },
      "source": [
        "#### `(4)` 두 벡터 ${\\bf x}_1$, ${\\bf x}_2$와 `cbind()`를 이용하여 아래와 같은 $1000 \\times 3$ 매트릭스 ${\\bf X}$를 만들어라. "
      ]
    },
    {
      "cell_type": "markdown",
      "id": "1a7a9102-3f73-495b-9232-38d1a6a5d979",
      "metadata": {
        "id": "1a7a9102-3f73-495b-9232-38d1a6a5d979"
      },
      "source": [
        "$${\\bf X}=\\begin{bmatrix}\n",
        "1 & \\sin(\\frac{2\\pi}{1000}) & \\cos(\\frac{8\\pi}{1000})\\\\ \n",
        "1 & \\sin(\\frac{4\\pi}{1000}) & \\cos(\\frac{16\\pi}{1000})\\\\ \n",
        "\\dots & \\dots  & \\dots \\\\ \n",
        "1 & \\sin(2\\pi) & \\cos(8\\pi)\\\\ \n",
        "\\end{bmatrix} $$ "
      ]
    },
    {
      "cell_type": "markdown",
      "id": "d09a138b-47fe-479b-a04e-3043d2c3ba86",
      "metadata": {
        "id": "d09a138b-47fe-479b-a04e-3043d2c3ba86"
      },
      "source": [
        "#### `(5)` $3 \\times 1$ 매트릭스 $\\boldsymbol{\\beta}=\\begin{bmatrix} 1.5 \\\\ 5 \\\\ 3 \\end{bmatrix}$를 만들고 매트릭스 곱을 이용하여 ${\\bf X} {\\boldsymbol \\beta}$를 계산하라. 계산결과를 벡터화하고 (3)의 $y$축에 붉은선으로 시각화 하라. 시각화 예시는 아래와 같다. (필요하다면 적절하게 선의 굵기를 조정할 것) "
      ]
    },
    {
      "cell_type": "markdown",
      "id": "99111d0a-5dbc-42db-81f5-b216f9f907db",
      "metadata": {
        "id": "99111d0a-5dbc-42db-81f5-b216f9f907db"
      },
      "source": [
        "![](https://github.com/guebin/2021IR/blob/master/_notebooks/final_fig2.png?raw=true)"
      ]
    },
    {
      "cell_type": "markdown",
      "id": "bd53c3f9-ec49-413b-93fc-4b30c9cf6081",
      "metadata": {
        "tags": [],
        "id": "bd53c3f9-ec49-413b-93fc-4b30c9cf6081"
      },
      "source": [
        "#### `(6)` 아래의 수식을 이용하여 $\\boldsymbol{\\hat\\beta}$를 계산하고 계산결과를 $\\boldsymbol{\\beta}$와 비교하라. \n",
        "\n",
        "$$ \\boldsymbol{\\hat\\beta} = ({\\bf X}^\\top {\\bf X})^{-1}{\\bf X}^\\top {\\bf y}$$ "
      ]
    },
    {
      "cell_type": "markdown",
      "id": "eacf1fac-403a-49d0-961a-8275b1446a60",
      "metadata": {
        "id": "eacf1fac-403a-49d0-961a-8275b1446a60"
      },
      "source": [
        "여기에서 ${\\bf X}$와 ${\\bf y}$는 각각 아래와 같다. \n",
        "\n",
        "- ${\\bf X}=\\begin{bmatrix}\n",
        "1 & \\sin(\\frac{2\\pi}{1000}) & \\cos(\\frac{8\\pi}{1000})\\\\ \n",
        "1 & \\sin(\\frac{8\\pi}{1000}) & \\cos(\\frac{16\\pi}{1000})\\\\ \n",
        "\\dots & \\dots  & \\dots \\\\ \n",
        "1 & \\sin(2\\pi) & \\cos(8\\pi)\\\\ \n",
        "\\end{bmatrix}$,  $\\quad {\\bf y}=\\begin{bmatrix} y_1\\\\ y_2\\\\ \\dots \\\\ y_{1000}\\\\ \\end{bmatrix}$"
      ]
    },
    {
      "cell_type": "markdown",
      "id": "5c9c3816-5af7-46f2-9680-b0e97e729789",
      "metadata": {
        "id": "5c9c3816-5af7-46f2-9680-b0e97e729789"
      },
      "source": [
        "또한 ${\\bf X}^\\top$는 ${\\bf X}$의 전치행렬(transpose) 그리고 $({\\bf X}^\\top {\\bf X})^{-1}$은 ${\\bf X}^\\top {\\bf X}$의 역행렬을 의미한다. "
      ]
    },
    {
      "cell_type": "markdown",
      "id": "8f836f58-cb7d-4b0e-9e6c-612030446856",
      "metadata": {
        "id": "8f836f58-cb7d-4b0e-9e6c-612030446856"
      },
      "source": [
        "#### `(7)` ${\\bf X}\\boldsymbol{\\hat\\beta}$를 계산하라. 계산결과를 벡터화 하고 (5)의 시각화 결과에 푸른점선으로 시각화 하라. 시각화 예시는 아래와 같다. (필요하다면 적절하게 선의 굵기를 조정할 것) "
      ]
    },
    {
      "cell_type": "markdown",
      "id": "e2bdb6c4-fa29-4f07-8c50-5531fc325059",
      "metadata": {
        "id": "e2bdb6c4-fa29-4f07-8c50-5531fc325059"
      },
      "source": [
        "![](https://github.com/guebin/2021IR/blob/master/_notebooks/final_fig3.png?raw=true)"
      ]
    },
    {
      "cell_type": "markdown",
      "id": "743acaff-fba8-4bdd-83a0-9bff1bd4805c",
      "metadata": {
        "id": "743acaff-fba8-4bdd-83a0-9bff1bd4805c"
      },
      "source": [
        "## `2`. 몬테카를로 적분 (10점)\n",
        "\n",
        "#### `(1)` $\\int_{-1.96}^{1.96}\\frac{1}{\\sqrt{2\\pi}}e^{-\\frac{1}{2}x^2}dx$의 값을 `runif()`를 이용한 몬테카를로 적분으로 계산하라. "
      ]
    },
    {
      "cell_type": "markdown",
      "id": "feb55d2e-1824-4ada-b0fc-a2c5e934c5c1",
      "metadata": {
        "tags": [],
        "id": "feb55d2e-1824-4ada-b0fc-a2c5e934c5c1"
      },
      "source": [
        "#### `(2)` `rnorm()`을 이용하여 표준정규분포에서 1000개의 확률변수를 생성하고 생성된 확률변수들 중 구간 $(-1.96 , 1.96)$사이에 있는 확률변수를 count하라. "
      ]
    },
    {
      "cell_type": "markdown",
      "id": "b37287d2-025e-4aaa-bb88-435403610185",
      "metadata": {
        "id": "b37287d2-025e-4aaa-bb88-435403610185"
      },
      "source": [
        "## `3`. 징검다리 (10점)"
      ]
    },
    {
      "cell_type": "markdown",
      "id": "e0280e4f-623f-4e31-a524-fe8dd78b33b1",
      "metadata": {
        "id": "e0280e4f-623f-4e31-a524-fe8dd78b33b1"
      },
      "source": [
        "10명의 참가자가 (유리,강화유리)의 쌍으로 이루어진 징검다리를 건너는 게임을 시작한다. (유리,강화유리)의 쌍은 총 20개 있다. 따라서 유리는 총 40장이 있다. 참가자는 강화유리로 된 징검다리를 밟으면 살아남지만 유리로 된 징검다리를 밟으면 죽는다. 10명의 참가자의 특징은 아래와 같다. \n",
        "\n",
        "- 1번~8번 참가자, 10번 참가자: 50퍼센트의 확률로 강화유리를 고를 수 있다. \n",
        "- 9번 참가자: 95퍼센트의 확률로 강화유리를 고를 수 있다. \n",
        "\n",
        "다리를 건너는 순서는 아래와 같이 번호의 오름차순으로 건너는 방법과 번호의 내림차순으로 건너는 2가지 방법이 있다고 하자. \n",
        "\n",
        "- Type A: 10번 참가자부터 다리를 건너고 그 뒤로 9번, 8번, ... 1번 순으로 다리를 건넌다. \n",
        "- Type B: 1번 참가자부터 다리를 건너고 그 뒤로 2번, 3번, ... 10번 순으로 다리를 건넌다. \n",
        "\n",
        "8번 참가자는 Type A 와 Type B 중 어떠한 경우에 살아남을 확률이 높은가? "
      ]
    },
    {
      "cell_type": "markdown",
      "id": "73fcbaef-2059-453e-95f5-3b7084b07bc5",
      "metadata": {
        "id": "73fcbaef-2059-453e-95f5-3b7084b07bc5"
      },
      "source": [
        "## `4`. COVID19 (15점)"
      ]
    },
    {
      "cell_type": "markdown",
      "id": "dd6dcd9d-22f0-46cb-96ea-6f4f1705b749",
      "metadata": {
        "id": "dd6dcd9d-22f0-46cb-96ea-6f4f1705b749"
      },
      "source": [
        "아래는 한국의 코로나확진자 발생수를 tibble로 불러오는 코드와 그 결과이다. "
      ]
    },
    {
      "cell_type": "code",
      "execution_count": null,
      "id": "a9beee8e-2bbc-452d-919e-2d225c1f0777",
      "metadata": {
        "id": "a9beee8e-2bbc-452d-919e-2d225c1f0777",
        "outputId": "e004b575-e595-401c-bc82-9064635b96d8"
      },
      "outputs": [
        {
          "name": "stderr",
          "output_type": "stream",
          "text": [
            "\u001b[1mRows: \u001b[22m\u001b[34m12294\u001b[39m \u001b[1mColumns: \u001b[22m\u001b[34m5\u001b[39m\n",
            "\n",
            "\u001b[36m──\u001b[39m \u001b[1mColumn specification\u001b[22m \u001b[36m────────────────────────────────────────────────────────\u001b[39m\n",
            "\u001b[1mDelimiter:\u001b[22m \",\"\n",
            "\u001b[31mchr\u001b[39m (1): prov\n",
            "\u001b[32mdbl\u001b[39m (4): year, month, day, cases\n",
            "\n",
            "\n",
            "\u001b[36mℹ\u001b[39m Use \u001b[30m\u001b[47m\u001b[30m\u001b[47m`spec()`\u001b[47m\u001b[30m\u001b[49m\u001b[39m to retrieve the full column specification for this data.\n",
            "\u001b[36mℹ\u001b[39m Specify the column types or set \u001b[30m\u001b[47m\u001b[30m\u001b[47m`show_col_types = FALSE`\u001b[47m\u001b[30m\u001b[49m\u001b[39m to quiet this message.\n",
            "\n"
          ]
        },
        {
          "data": {
            "text/html": [
              "<table class=\"dataframe\">\n",
              "<caption>A tibble: 6 × 5</caption>\n",
              "<thead>\n",
              "\t<tr><th scope=col>year</th><th scope=col>month</th><th scope=col>day</th><th scope=col>prov</th><th scope=col>cases</th></tr>\n",
              "\t<tr><th scope=col>&lt;dbl&gt;</th><th scope=col>&lt;dbl&gt;</th><th scope=col>&lt;dbl&gt;</th><th scope=col>&lt;chr&gt;</th><th scope=col>&lt;dbl&gt;</th></tr>\n",
              "</thead>\n",
              "<tbody>\n",
              "\t<tr><td>2020</td><td>1</td><td>20</td><td>서울</td><td>0</td></tr>\n",
              "\t<tr><td>2020</td><td>1</td><td>20</td><td>부산</td><td>0</td></tr>\n",
              "\t<tr><td>2020</td><td>1</td><td>20</td><td>대구</td><td>0</td></tr>\n",
              "\t<tr><td>2020</td><td>1</td><td>20</td><td>인천</td><td>1</td></tr>\n",
              "\t<tr><td>2020</td><td>1</td><td>20</td><td>광주</td><td>0</td></tr>\n",
              "\t<tr><td>2020</td><td>1</td><td>20</td><td>대전</td><td>0</td></tr>\n",
              "</tbody>\n",
              "</table>\n"
            ],
            "text/latex": [
              "A tibble: 6 × 5\n",
              "\\begin{tabular}{lllll}\n",
              " year & month & day & prov & cases\\\\\n",
              " <dbl> & <dbl> & <dbl> & <chr> & <dbl>\\\\\n",
              "\\hline\n",
              "\t 2020 & 1 & 20 & 서울 & 0\\\\\n",
              "\t 2020 & 1 & 20 & 부산 & 0\\\\\n",
              "\t 2020 & 1 & 20 & 대구 & 0\\\\\n",
              "\t 2020 & 1 & 20 & 인천 & 1\\\\\n",
              "\t 2020 & 1 & 20 & 광주 & 0\\\\\n",
              "\t 2020 & 1 & 20 & 대전 & 0\\\\\n",
              "\\end{tabular}\n"
            ],
            "text/markdown": [
              "\n",
              "A tibble: 6 × 5\n",
              "\n",
              "| year &lt;dbl&gt; | month &lt;dbl&gt; | day &lt;dbl&gt; | prov &lt;chr&gt; | cases &lt;dbl&gt; |\n",
              "|---|---|---|---|---|\n",
              "| 2020 | 1 | 20 | 서울 | 0 |\n",
              "| 2020 | 1 | 20 | 부산 | 0 |\n",
              "| 2020 | 1 | 20 | 대구 | 0 |\n",
              "| 2020 | 1 | 20 | 인천 | 1 |\n",
              "| 2020 | 1 | 20 | 광주 | 0 |\n",
              "| 2020 | 1 | 20 | 대전 | 0 |\n",
              "\n"
            ],
            "text/plain": [
              "  year month day prov cases\n",
              "1 2020 1     20  서울 0    \n",
              "2 2020 1     20  부산 0    \n",
              "3 2020 1     20  대구 0    \n",
              "4 2020 1     20  인천 1    \n",
              "5 2020 1     20  광주 0    \n",
              "6 2020 1     20  대전 0    "
            ]
          },
          "metadata": {},
          "output_type": "display_data"
        }
      ],
      "source": [
        "df=read_csv('https://raw.githubusercontent.com/guebin/2021IR/master/_notebooks/covid19.csv')\n",
        "head(df)"
      ]
    },
    {
      "cell_type": "markdown",
      "id": "d0e96a57-a0a1-4be6-9743-78bb9007e0bf",
      "metadata": {
        "jp-MarkdownHeadingCollapsed": true,
        "tags": [],
        "id": "d0e96a57-a0a1-4be6-9743-78bb9007e0bf"
      },
      "source": [
        "#### `(1)` 2020년의 확진자(cases)총합과 2021년의 확진자(cases)총합을 구하라. "
      ]
    },
    {
      "cell_type": "markdown",
      "id": "709adf3e-9747-49ab-a28d-6bc014195e29",
      "metadata": {
        "tags": [],
        "id": "709adf3e-9747-49ab-a28d-6bc014195e29"
      },
      "source": [
        "#### `(2)` 2020년 2월1일 ~ 2020년 2월15일까지의 기간동안 확진자의 합을 지역별로 나누어 구하라 (아래예시 참고). 가장 많은 확진자가 발견된 지역은 어디인가? "
      ]
    },
    {
      "cell_type": "markdown",
      "id": "9eabba75-e486-439b-aa24-c7bc95e19112",
      "metadata": {
        "id": "9eabba75-e486-439b-aa24-c7bc95e19112"
      },
      "source": [
        "즉 아래를 각각 계산하고 2020년 2월1일 ~ 2020년 2월15일 기간동안 발생한 확진자의 합이 가장 큰 지역을 찾으면 된다. \n",
        "\n",
        "- 2020년2월1일 ~ 2020년2월15일 기간 서울에서 발생한 확진자의 합 = 2020년2월1일 서울에서 발생한 확진자수 + ... + 2020년2월15일 서울에서 발생한 확진자수\n",
        "- ...\n",
        "- 2020년2월1일 ~ 2020년2월15일 기간 제주에서 발생한 확진자의 합 = 2020년2월1일 제주에서 발생한 확진자수 + ... + 2020년2월15일 제주에서 발생한 확진자수"
      ]
    },
    {
      "cell_type": "markdown",
      "id": "ed5aa778-7796-4ae6-815e-dbbbe25a0dbe",
      "metadata": {
        "id": "ed5aa778-7796-4ae6-815e-dbbbe25a0dbe"
      },
      "source": [
        "#### `(3)` 2020년 2월16일 ~ 2020년 2월29일까지의 기간동안 확진자의 총합을 지역별로 나누어 구하라 (아래예시 참고). 가장 많은 확진자가 발견된 지역은 어디인가?"
      ]
    },
    {
      "cell_type": "markdown",
      "id": "f0598204-3b09-4b3f-a875-0679c29d74e7",
      "metadata": {
        "id": "f0598204-3b09-4b3f-a875-0679c29d74e7"
      },
      "source": [
        "즉 아래를 각각 계산하고 2020년 2월16일 ~ 2020년 2월29일 기간동안 발생한 확진자의 합이 가장 큰 지역을 찾으면 된다. \n",
        "\n",
        "- 2020년2월16일 ~ 2020년2월29일 기간 서울에서 발생한 확진자의 합 = 2020년2월16일 서울에서 발생한 확진자수 + ... + 2020년2월29일 서울에서 발생한 확진자수\n",
        "- ...\n",
        "- 2020년2월16일 ~ 2020년2월29일 기간 제주에서 발생한 확진자의 합 = 2020년2월16일 제주에서 발생한 확진자수 + ... + 2020년2월29일 제주에서 발생한 확진자수"
      ]
    },
    {
      "cell_type": "markdown",
      "id": "224b4143-8f5b-43aa-a723-84187e7cfa37",
      "metadata": {
        "id": "224b4143-8f5b-43aa-a723-84187e7cfa37"
      },
      "source": [
        "## `5`. 다음을 잘 읽고 물음에 답하라. (10점)"
      ]
    },
    {
      "cell_type": "code",
      "source": [
        "library(tidyverse)"
      ],
      "metadata": {
        "id": "biThzgCL5Avo",
        "outputId": "e0027aa2-32a9-48d5-e671-92c1554b4ae9",
        "colab": {
          "base_uri": "https://localhost:8080/"
        }
      },
      "id": "biThzgCL5Avo",
      "execution_count": null,
      "outputs": [
        {
          "output_type": "stream",
          "name": "stderr",
          "text": [
            "Warning message in system(\"timedatectl\", intern = TRUE):\n",
            "“running command 'timedatectl' had status 1”\n",
            "── \u001b[1mAttaching packages\u001b[22m ─────────────────────────────────────── tidyverse 1.3.1 ──\n",
            "\n",
            "\u001b[32m✔\u001b[39m \u001b[34mggplot2\u001b[39m 3.3.5     \u001b[32m✔\u001b[39m \u001b[34mpurrr  \u001b[39m 0.3.4\n",
            "\u001b[32m✔\u001b[39m \u001b[34mtibble \u001b[39m 3.1.6     \u001b[32m✔\u001b[39m \u001b[34mdplyr  \u001b[39m 1.0.7\n",
            "\u001b[32m✔\u001b[39m \u001b[34mtidyr  \u001b[39m 1.1.4     \u001b[32m✔\u001b[39m \u001b[34mstringr\u001b[39m 1.4.0\n",
            "\u001b[32m✔\u001b[39m \u001b[34mreadr  \u001b[39m 2.1.0     \u001b[32m✔\u001b[39m \u001b[34mforcats\u001b[39m 0.5.1\n",
            "\n",
            "── \u001b[1mConflicts\u001b[22m ────────────────────────────────────────── tidyverse_conflicts() ──\n",
            "\u001b[31m✖\u001b[39m \u001b[34mdplyr\u001b[39m::\u001b[32mfilter()\u001b[39m masks \u001b[34mstats\u001b[39m::filter()\n",
            "\u001b[31m✖\u001b[39m \u001b[34mdplyr\u001b[39m::\u001b[32mlag()\u001b[39m    masks \u001b[34mstats\u001b[39m::lag()\n",
            "\n"
          ]
        }
      ]
    },
    {
      "cell_type": "markdown",
      "id": "60833008-ae1c-4a00-b6bc-70cb3ee831f6",
      "metadata": {
        "jp-MarkdownHeadingCollapsed": true,
        "tags": [],
        "id": "60833008-ae1c-4a00-b6bc-70cb3ee831f6"
      },
      "source": [
        "#### `(1)` cumprod 함수를 이용하여 $7!=7\\times 6 \\times 5 \\times \\dots \\times 1$을 계산하라. "
      ]
    },
    {
      "cell_type": "code",
      "source": [
        "cumprod(7:1)"
      ],
      "metadata": {
        "id": "QtyHBYxD1Etf",
        "outputId": "7d166115-10ab-41f4-b10c-a75f9640f2ca",
        "colab": {
          "base_uri": "https://localhost:8080/",
          "height": 35
        }
      },
      "id": "QtyHBYxD1Etf",
      "execution_count": null,
      "outputs": [
        {
          "output_type": "display_data",
          "data": {
            "text/plain": [
              "[1]    7   42  210  840 2520 5040 5040"
            ],
            "text/latex": "\\begin{enumerate*}\n\\item 7\n\\item 42\n\\item 210\n\\item 840\n\\item 2520\n\\item 5040\n\\item 5040\n\\end{enumerate*}\n",
            "text/markdown": "1. 7\n2. 42\n3. 210\n4. 840\n5. 2520\n6. 5040\n7. 5040\n\n\n",
            "text/html": [
              "<style>\n",
              ".list-inline {list-style: none; margin:0; padding: 0}\n",
              ".list-inline>li {display: inline-block}\n",
              ".list-inline>li:not(:last-child)::after {content: \"\\00b7\"; padding: 0 .5ex}\n",
              "</style>\n",
              "<ol class=list-inline><li>7</li><li>42</li><li>210</li><li>840</li><li>2520</li><li>5040</li><li>5040</li></ol>\n"
            ]
          },
          "metadata": {}
        }
      ]
    },
    {
      "cell_type": "markdown",
      "id": "c78c6221-b283-43c7-a126-5dec505c68ec",
      "metadata": {
        "id": "c78c6221-b283-43c7-a126-5dec505c68ec"
      },
      "source": [
        "#### `(2)` $\\sum_{n=0}^{\\infty}\\frac{n}{n!}$의 값을 근사적으로 계산하라. 계산결과를 exp(1)과 비교하라. "
      ]
    },
    {
      "cell_type": "markdown",
      "id": "fb37132c-7ead-474c-8da8-6d27e33b0b0a",
      "metadata": {
        "tags": [],
        "id": "fb37132c-7ead-474c-8da8-6d27e33b0b0a"
      },
      "source": [
        "#### `(3)` 표준정규분포에서 1000개의 난수를 생성발생시킨 뒤 0보다 큰 수를 세어보라. "
      ]
    },
    {
      "cell_type": "code",
      "source": [
        "arr= rnorm(1000)"
      ],
      "metadata": {
        "id": "XeEmrxaw41CT"
      },
      "id": "XeEmrxaw41CT",
      "execution_count": null,
      "outputs": []
    },
    {
      "cell_type": "code",
      "source": [
        "count=0\n",
        "for(i in 1:1000){\n",
        "  if(arr[i]>0)\n",
        "  count= count+1\n",
        "}"
      ],
      "metadata": {
        "id": "VWNTsJm45FYw"
      },
      "id": "VWNTsJm45FYw",
      "execution_count": null,
      "outputs": []
    },
    {
      "cell_type": "code",
      "source": [
        "count"
      ],
      "metadata": {
        "id": "WwR2ufHA51v7",
        "outputId": "9c3240c4-63bd-4a56-bd2a-44ee11b56e1a",
        "colab": {
          "base_uri": "https://localhost:8080/",
          "height": 35
        }
      },
      "id": "WwR2ufHA51v7",
      "execution_count": null,
      "outputs": [
        {
          "output_type": "display_data",
          "data": {
            "text/plain": [
              "[1] 512"
            ],
            "text/latex": "512",
            "text/markdown": "512",
            "text/html": [
              "512"
            ]
          },
          "metadata": {}
        }
      ]
    },
    {
      "cell_type": "markdown",
      "id": "cb8ae7c8-4aec-4538-a305-67626417b60a",
      "metadata": {
        "id": "cb8ae7c8-4aec-4538-a305-67626417b60a"
      },
      "source": [
        "#### `(4)` $p=0.2$인 베르누이분포에서 1000개의 난수를 만들면 1이 몇개정도 포함되는가? 시뮬레이션을 통하여 검증하라."
      ]
    },
    {
      "cell_type": "code",
      "source": [
        "rbinom(1000,size=1,0.2) %>% sum"
      ],
      "metadata": {
        "id": "PNQc67qx57Qm",
        "outputId": "285eca25-5a75-4cc4-f599-fe997b3e5f4d",
        "colab": {
          "base_uri": "https://localhost:8080/",
          "height": 35
        }
      },
      "id": "PNQc67qx57Qm",
      "execution_count": null,
      "outputs": [
        {
          "output_type": "display_data",
          "data": {
            "text/plain": [
              "[1] 238"
            ],
            "text/latex": "238",
            "text/markdown": "238",
            "text/html": [
              "238"
            ]
          },
          "metadata": {}
        }
      ]
    },
    {
      "cell_type": "markdown",
      "id": "e416ebdb-1db2-44ae-8c06-ab2c9033fea7",
      "metadata": {
        "id": "e416ebdb-1db2-44ae-8c06-ab2c9033fea7"
      },
      "source": [
        "#### `(5)` 아래는 표준정규분포, 즉 평균이 0이고 표준편차가 1인 정규분포에서 1000개의 난수를 생성하여 $x$라는 변수에 저장한뒤 $x$의 히스토그램을 그린 예시이다. 아래의 예시를 이용하여 평균이 1이고 표준편차가 1인 정규분포에서 5000개의 난수를 생성한뒤 $y$에 저장하고 $y$의 히스토그램을 그려라. 시각화 예시는 아래와 같다. "
      ]
    },
    {
      "cell_type": "code",
      "execution_count": null,
      "id": "9b5dfb2d-3b2a-4769-bf1c-bdedc5536625",
      "metadata": {
        "id": "9b5dfb2d-3b2a-4769-bf1c-bdedc5536625"
      },
      "outputs": [],
      "source": [
        "x=rnorm(1000)\n",
        "hist(x)"
      ]
    },
    {
      "cell_type": "code",
      "source": [
        "y=rnorm(5000,1,1)\n",
        "hist(y)"
      ],
      "metadata": {
        "id": "fQ_8Aa537NQZ",
        "outputId": "f35ba2d0-12f7-4451-ba0f-7d28a1399b38",
        "colab": {
          "base_uri": "https://localhost:8080/",
          "height": 437
        }
      },
      "id": "fQ_8Aa537NQZ",
      "execution_count": null,
      "outputs": [
        {
          "output_type": "display_data",
          "data": {
            "image/png": "[encoded data removed]",
            "text/plain": [
              "Plot with title “Histogram of y”"
            ]
          },
          "metadata": {
            "image/png": {
              "width": 420,
              "height": 420
            }
          }
        }
      ]
    },
    {
      "cell_type": "markdown",
      "id": "2f3df486-8f37-42ed-b142-1371e265d0a4",
      "metadata": {
        "id": "2f3df486-8f37-42ed-b142-1371e265d0a4"
      },
      "source": [
        "#### `(6)` 아래와 같은 벡터 x에서 짝수번째 원소 (즉 x[2],x[4],$\\dots$,x[2000])의 합을 구하는 코드를 작성하라 "
      ]
    },
    {
      "cell_type": "code",
      "execution_count": null,
      "id": "02dbd2f9-e678-4bbd-b6d2-5358e8a5d67c",
      "metadata": {
        "id": "02dbd2f9-e678-4bbd-b6d2-5358e8a5d67c"
      },
      "outputs": [],
      "source": [
        "x=-1000:1000/1000"
      ]
    },
    {
      "cell_type": "code",
      "source": [
        "x[seq(2,2000,2)] %>% sum"
      ],
      "metadata": {
        "id": "2ykYtmJS7gUK",
        "outputId": "ede7c65f-4d19-4c3b-f465-f69a728fe7f7",
        "colab": {
          "base_uri": "https://localhost:8080/",
          "height": 35
        }
      },
      "id": "2ykYtmJS7gUK",
      "execution_count": null,
      "outputs": [
        {
          "output_type": "display_data",
          "data": {
            "text/plain": [
              "[1] 0"
            ],
            "text/latex": "0",
            "text/markdown": "0",
            "text/html": [
              "0"
            ]
          },
          "metadata": {}
        }
      ]
    },
    {
      "cell_type": "markdown",
      "id": "1148aa17-27a7-458d-b4f7-e1af562351f7",
      "metadata": {
        "id": "1148aa17-27a7-458d-b4f7-e1af562351f7"
      },
      "source": [
        "#### `(7)` 2021년 A씨의 연봉은 5000이다. 매년 연봉은 3%씩 오른다고 하자. 2030년 A씨의 연봉은 얼마인가? "
      ]
    },
    {
      "cell_type": "code",
      "source": [
        "sal<- c()\n",
        "sal[2021]=5000"
      ],
      "metadata": {
        "id": "NFqbkq_T8jsy"
      },
      "id": "NFqbkq_T8jsy",
      "execution_count": null,
      "outputs": []
    },
    {
      "cell_type": "code",
      "source": [
        "for(i in 2022:2030){\n",
        "  sal[i]= sal[i-1]* 1.03\n",
        "}"
      ],
      "metadata": {
        "id": "y4tGTf2c8gGO"
      },
      "id": "y4tGTf2c8gGO",
      "execution_count": null,
      "outputs": []
    },
    {
      "cell_type": "code",
      "source": [
        "print(sal[2030])"
      ],
      "metadata": {
        "id": "wtkoCZPg9AKq",
        "outputId": "b060117b-f623-426b-828c-13fb17de5512",
        "colab": {
          "base_uri": "https://localhost:8080/"
        }
      },
      "id": "wtkoCZPg9AKq",
      "execution_count": null,
      "outputs": [
        {
          "output_type": "stream",
          "name": "stdout",
          "text": [
            "[1] 6523.866\n"
          ]
        }
      ]
    },
    {
      "cell_type": "markdown",
      "id": "ac8212d6-cf8b-4fe2-8c17-eae8bc015819",
      "metadata": {
        "id": "ac8212d6-cf8b-4fe2-8c17-eae8bc015819"
      },
      "source": [
        "#### `(8)` 임의의 입력 $x$에 대하여 아래를 만족하는 함수를 선언하라. "
      ]
    },
    {
      "cell_type": "markdown",
      "id": "328e404d-e10d-41ac-b453-a77edcf3eff6",
      "metadata": {
        "id": "328e404d-e10d-41ac-b453-a77edcf3eff6"
      },
      "source": [
        "- $x >0$: $\\log (x)$를 계산하여 출력 \n",
        "- $x =0$: print(\"음의 무한대\")\n",
        "- $x <0$: print(\"x는 양수이어야 합니다.\")"
      ]
    },
    {
      "cell_type": "code",
      "source": [
        "mylogfun<-function(x){\n",
        "    if (x>0){\n",
        "        print(log(x))\n",
        "    }else{\n",
        "        if(x==0){\n",
        "            print(\"음의 무한대\")\n",
        "        }else{ \n",
        "            print('x는 양수이어야 합니다.')\n",
        "        }\n",
        "    }\n",
        "}"
      ],
      "metadata": {
        "id": "nxVf007Z9JsW"
      },
      "id": "nxVf007Z9JsW",
      "execution_count": null,
      "outputs": []
    },
    {
      "cell_type": "markdown",
      "id": "750e263a-5dcc-48c8-bd17-7ff67034f15b",
      "metadata": {
        "id": "750e263a-5dcc-48c8-bd17-7ff67034f15b"
      },
      "source": [
        "#### `(9)` 아래와 같은 데이터프레임이 있다고 하자. "
      ]
    },
    {
      "cell_type": "code",
      "execution_count": null,
      "id": "a120373f-07df-4a12-9816-b2fddde62c74",
      "metadata": {
        "id": "a120373f-07df-4a12-9816-b2fddde62c74",
        "outputId": "76a257a4-b184-4d89-fa99-483b33bb3d31",
        "colab": {
          "base_uri": "https://localhost:8080/",
          "height": 286
        }
      },
      "outputs": [
        {
          "output_type": "display_data",
          "data": {
            "text/plain": [
              "  X1          X2        \n",
              "1  0.78707336  0.1705194\n",
              "2 -0.03731271  1.5107000\n",
              "3 -0.92375962  1.5809025\n",
              "4 -0.37029174 -1.1504864\n",
              "5  1.14801069  0.5611190\n",
              "6 -1.41607042  0.3282712"
            ],
            "text/latex": "A tibble: 6 × 2\n\\begin{tabular}{ll}\n X1 & X2\\\\\n <dbl> & <dbl>\\\\\n\\hline\n\t  0.78707336 &  0.1705194\\\\\n\t -0.03731271 &  1.5107000\\\\\n\t -0.92375962 &  1.5809025\\\\\n\t -0.37029174 & -1.1504864\\\\\n\t  1.14801069 &  0.5611190\\\\\n\t -1.41607042 &  0.3282712\\\\\n\\end{tabular}\n",
            "text/markdown": "\nA tibble: 6 × 2\n\n| X1 &lt;dbl&gt; | X2 &lt;dbl&gt; |\n|---|---|\n|  0.78707336 |  0.1705194 |\n| -0.03731271 |  1.5107000 |\n| -0.92375962 |  1.5809025 |\n| -0.37029174 | -1.1504864 |\n|  1.14801069 |  0.5611190 |\n| -1.41607042 |  0.3282712 |\n\n",
            "text/html": [
              "<table class=\"dataframe\">\n",
              "<caption>A tibble: 6 × 2</caption>\n",
              "<thead>\n",
              "\t<tr><th scope=col>X1</th><th scope=col>X2</th></tr>\n",
              "\t<tr><th scope=col>&lt;dbl&gt;</th><th scope=col>&lt;dbl&gt;</th></tr>\n",
              "</thead>\n",
              "<tbody>\n",
              "\t<tr><td> 0.78707336</td><td> 0.1705194</td></tr>\n",
              "\t<tr><td>-0.03731271</td><td> 1.5107000</td></tr>\n",
              "\t<tr><td>-0.92375962</td><td> 1.5809025</td></tr>\n",
              "\t<tr><td>-0.37029174</td><td>-1.1504864</td></tr>\n",
              "\t<tr><td> 1.14801069</td><td> 0.5611190</td></tr>\n",
              "\t<tr><td>-1.41607042</td><td> 0.3282712</td></tr>\n",
              "</tbody>\n",
              "</table>\n"
            ]
          },
          "metadata": {}
        }
      ],
      "source": [
        "df=tibble(X1=rnorm(100),X2=rnorm(100))\n",
        "head(df)"
      ]
    },
    {
      "cell_type": "markdown",
      "id": "aa71709c-2459-493e-9cbf-f07e40933074",
      "metadata": {
        "id": "aa71709c-2459-493e-9cbf-f07e40933074"
      },
      "source": [
        "위의 데이터프레임 df에서 `mutate`를 이용하여 `Z=X1^2+X2^2`을 계산하여 새로운 열 Z를 만들어라. "
      ]
    },
    {
      "cell_type": "code",
      "source": [
        "library(tidyverse)"
      ],
      "metadata": {
        "id": "4Y4xC-Vr-D5i"
      },
      "id": "4Y4xC-Vr-D5i",
      "execution_count": null,
      "outputs": []
    },
    {
      "cell_type": "code",
      "source": [
        "df %>% mutate(Z=X1^2+X2^2)"
      ],
      "metadata": {
        "id": "Fy5qxRGV9v4g",
        "outputId": "5279f720-a937-4c34-a776-7ceaf7802ef2",
        "colab": {
          "base_uri": "https://localhost:8080/",
          "height": 1000
        }
      },
      "id": "Fy5qxRGV9v4g",
      "execution_count": null,
      "outputs": [
        {
          "output_type": "display_data",
          "data": {
            "text/plain": [
              "    X1           X2          Z          \n",
              "1    0.78707336   0.17051940 0.64856134 \n",
              "2   -0.03731271   1.51069999 2.28360669 \n",
              "3   -0.92375962   1.58090247 3.35258446 \n",
              "4   -0.37029174  -1.15048637 1.46073487 \n",
              "5    1.14801069   0.56111896 1.63278303 \n",
              "6   -1.41607042   0.32827116 2.11301740 \n",
              "7    0.96612201  -0.81057549 1.59042437 \n",
              "8    0.17373088   0.18411173 0.06407955 \n",
              "9   -1.05583234  -0.15961810 1.14025987 \n",
              "10  -1.14337762  -0.92951930 2.17131850 \n",
              "11   0.05037878  -0.79059544 0.62757918 \n",
              "12  -0.45083428   1.48489090 2.40815254 \n",
              "13  -0.37986434  -0.22568569 0.19523094 \n",
              "14  -1.39413247  -0.13603971 1.96211216 \n",
              "15  -0.92186593   1.21828442 2.33405373 \n",
              "16   0.65503816   0.60824260 0.79903405 \n",
              "17  -1.68288608  -1.31027864 4.54893568 \n",
              "18   1.48947652   0.85802902 2.95475409 \n",
              "19  -0.44868370  -1.98714869 4.15007699 \n",
              "20  -1.56697106   1.54881611 4.85422964 \n",
              "21   1.59418527   1.03752045 3.61787536 \n",
              "22   0.91345415  -1.66746394 3.61483449 \n",
              "23   0.89504230  -0.35898298 0.92996949 \n",
              "24  -0.42489599  -1.06105481 1.30637392 \n",
              "25  -0.18763748  -0.12096635 0.04984068 \n",
              "26   0.94555520   0.68958467 1.36960166 \n",
              "27   2.23503910   0.01271461 4.99556143 \n",
              "28   0.65010736   0.98971579 1.40217694 \n",
              "29   0.70861205  -0.48605665 0.73838211 \n",
              "30   0.65154720   0.31356421 0.52283626 \n",
              "⋮   ⋮            ⋮           ⋮          \n",
              "71  -1.755698318  0.52966266 3.363019115\n",
              "72   0.555317127 -1.42137205 2.328675602\n",
              "73   0.046195571  0.03323688 0.003238721\n",
              "74  -1.158108787  2.05652052 5.570492614\n",
              "75   0.810979575 -0.02201745 0.658172639\n",
              "76   0.451018761  0.57583695 0.535006120\n",
              "77   1.154655005  0.51870257 1.602280537\n",
              "78   0.791433853  0.21264586 0.671585806\n",
              "79   0.939574518 -2.28298134 6.094804068\n",
              "80   1.315948081 -0.31230570 1.829254205\n",
              "81   0.443331789  0.60264329 0.559722005\n",
              "82   0.895949857 -1.09187008 1.994906421\n",
              "83  -0.878752350  0.30111431 0.862875522\n",
              "84   0.120276075 -1.75750660 3.103295801\n",
              "85   1.061057248 -1.48374498 3.327341637\n",
              "86  -0.970576649 -0.49316135 1.185227150\n",
              "87  -1.394610295 -0.57895770 2.280129893\n",
              "88   0.656771276 -0.49658169 0.677941883\n",
              "89   1.250608968 -1.03992686 2.645470671\n",
              "90  -1.175484635 -0.25805325 1.448355604\n",
              "91   0.200813635 -0.99952976 1.039385864\n",
              "92  -1.598353496 -0.65540175 2.984285350\n",
              "93   0.292256183 -1.43942767 2.157365707\n",
              "94   1.331126782  0.50379723 2.025710161\n",
              "95   0.654834210 -0.10048263 0.438904602\n",
              "96  -0.682888917  1.75189555 3.535475283\n",
              "97   1.423188917 -0.06416984 2.029584462\n",
              "98   0.717937959  0.09975834 0.525386641\n",
              "99  -0.006306543 -2.05137365 4.208173616\n",
              "100  1.399801582 -1.18995070 3.375427136"
            ],
            "text/latex": "A tibble: 100 × 3\n\\begin{tabular}{lll}\n X1 & X2 & Z\\\\\n <dbl> & <dbl> & <dbl>\\\\\n\\hline\n\t  0.78707336 &  0.17051940 & 0.64856134\\\\\n\t -0.03731271 &  1.51069999 & 2.28360669\\\\\n\t -0.92375962 &  1.58090247 & 3.35258446\\\\\n\t -0.37029174 & -1.15048637 & 1.46073487\\\\\n\t  1.14801069 &  0.56111896 & 1.63278303\\\\\n\t -1.41607042 &  0.32827116 & 2.11301740\\\\\n\t  0.96612201 & -0.81057549 & 1.59042437\\\\\n\t  0.17373088 &  0.18411173 & 0.06407955\\\\\n\t -1.05583234 & -0.15961810 & 1.14025987\\\\\n\t -1.14337762 & -0.92951930 & 2.17131850\\\\\n\t  0.05037878 & -0.79059544 & 0.62757918\\\\\n\t -0.45083428 &  1.48489090 & 2.40815254\\\\\n\t -0.37986434 & -0.22568569 & 0.19523094\\\\\n\t -1.39413247 & -0.13603971 & 1.96211216\\\\\n\t -0.92186593 &  1.21828442 & 2.33405373\\\\\n\t  0.65503816 &  0.60824260 & 0.79903405\\\\\n\t -1.68288608 & -1.31027864 & 4.54893568\\\\\n\t  1.48947652 &  0.85802902 & 2.95475409\\\\\n\t -0.44868370 & -1.98714869 & 4.15007699\\\\\n\t -1.56697106 &  1.54881611 & 4.85422964\\\\\n\t  1.59418527 &  1.03752045 & 3.61787536\\\\\n\t  0.91345415 & -1.66746394 & 3.61483449\\\\\n\t  0.89504230 & -0.35898298 & 0.92996949\\\\\n\t -0.42489599 & -1.06105481 & 1.30637392\\\\\n\t -0.18763748 & -0.12096635 & 0.04984068\\\\\n\t  0.94555520 &  0.68958467 & 1.36960166\\\\\n\t  2.23503910 &  0.01271461 & 4.99556143\\\\\n\t  0.65010736 &  0.98971579 & 1.40217694\\\\\n\t  0.70861205 & -0.48605665 & 0.73838211\\\\\n\t  0.65154720 &  0.31356421 & 0.52283626\\\\\n\t ⋮ & ⋮ & ⋮\\\\\n\t -1.755698318 &  0.52966266 & 3.363019115\\\\\n\t  0.555317127 & -1.42137205 & 2.328675602\\\\\n\t  0.046195571 &  0.03323688 & 0.003238721\\\\\n\t -1.158108787 &  2.05652052 & 5.570492614\\\\\n\t  0.810979575 & -0.02201745 & 0.658172639\\\\\n\t  0.451018761 &  0.57583695 & 0.535006120\\\\\n\t  1.154655005 &  0.51870257 & 1.602280537\\\\\n\t  0.791433853 &  0.21264586 & 0.671585806\\\\\n\t  0.939574518 & -2.28298134 & 6.094804068\\\\\n\t  1.315948081 & -0.31230570 & 1.829254205\\\\\n\t  0.443331789 &  0.60264329 & 0.559722005\\\\\n\t  0.895949857 & -1.09187008 & 1.994906421\\\\\n\t -0.878752350 &  0.30111431 & 0.862875522\\\\\n\t  0.120276075 & -1.75750660 & 3.103295801\\\\\n\t  1.061057248 & -1.48374498 & 3.327341637\\\\\n\t -0.970576649 & -0.49316135 & 1.185227150\\\\\n\t -1.394610295 & -0.57895770 & 2.280129893\\\\\n\t  0.656771276 & -0.49658169 & 0.677941883\\\\\n\t  1.250608968 & -1.03992686 & 2.645470671\\\\\n\t -1.175484635 & -0.25805325 & 1.448355604\\\\\n\t  0.200813635 & -0.99952976 & 1.039385864\\\\\n\t -1.598353496 & -0.65540175 & 2.984285350\\\\\n\t  0.292256183 & -1.43942767 & 2.157365707\\\\\n\t  1.331126782 &  0.50379723 & 2.025710161\\\\\n\t  0.654834210 & -0.10048263 & 0.438904602\\\\\n\t -0.682888917 &  1.75189555 & 3.535475283\\\\\n\t  1.423188917 & -0.06416984 & 2.029584462\\\\\n\t  0.717937959 &  0.09975834 & 0.525386641\\\\\n\t -0.006306543 & -2.05137365 & 4.208173616\\\\\n\t  1.399801582 & -1.18995070 & 3.375427136\\\\\n\\end{tabular}\n",
            "text/markdown": "\nA tibble: 100 × 3\n\n| X1 &lt;dbl&gt; | X2 &lt;dbl&gt; | Z &lt;dbl&gt; |\n|---|---|---|\n|  0.78707336 |  0.17051940 | 0.64856134 |\n| -0.03731271 |  1.51069999 | 2.28360669 |\n| -0.92375962 |  1.58090247 | 3.35258446 |\n| -0.37029174 | -1.15048637 | 1.46073487 |\n|  1.14801069 |  0.56111896 | 1.63278303 |\n| -1.41607042 |  0.32827116 | 2.11301740 |\n|  0.96612201 | -0.81057549 | 1.59042437 |\n|  0.17373088 |  0.18411173 | 0.06407955 |\n| -1.05583234 | -0.15961810 | 1.14025987 |\n| -1.14337762 | -0.92951930 | 2.17131850 |\n|  0.05037878 | -0.79059544 | 0.62757918 |\n| -0.45083428 |  1.48489090 | 2.40815254 |\n| -0.37986434 | -0.22568569 | 0.19523094 |\n| -1.39413247 | -0.13603971 | 1.96211216 |\n| -0.92186593 |  1.21828442 | 2.33405373 |\n|  0.65503816 |  0.60824260 | 0.79903405 |\n| -1.68288608 | -1.31027864 | 4.54893568 |\n|  1.48947652 |  0.85802902 | 2.95475409 |\n| -0.44868370 | -1.98714869 | 4.15007699 |\n| -1.56697106 |  1.54881611 | 4.85422964 |\n|  1.59418527 |  1.03752045 | 3.61787536 |\n|  0.91345415 | -1.66746394 | 3.61483449 |\n|  0.89504230 | -0.35898298 | 0.92996949 |\n| -0.42489599 | -1.06105481 | 1.30637392 |\n| -0.18763748 | -0.12096635 | 0.04984068 |\n|  0.94555520 |  0.68958467 | 1.36960166 |\n|  2.23503910 |  0.01271461 | 4.99556143 |\n|  0.65010736 |  0.98971579 | 1.40217694 |\n|  0.70861205 | -0.48605665 | 0.73838211 |\n|  0.65154720 |  0.31356421 | 0.52283626 |\n| ⋮ | ⋮ | ⋮ |\n| -1.755698318 |  0.52966266 | 3.363019115 |\n|  0.555317127 | -1.42137205 | 2.328675602 |\n|  0.046195571 |  0.03323688 | 0.003238721 |\n| -1.158108787 |  2.05652052 | 5.570492614 |\n|  0.810979575 | -0.02201745 | 0.658172639 |\n|  0.451018761 |  0.57583695 | 0.535006120 |\n|  1.154655005 |  0.51870257 | 1.602280537 |\n|  0.791433853 |  0.21264586 | 0.671585806 |\n|  0.939574518 | -2.28298134 | 6.094804068 |\n|  1.315948081 | -0.31230570 | 1.829254205 |\n|  0.443331789 |  0.60264329 | 0.559722005 |\n|  0.895949857 | -1.09187008 | 1.994906421 |\n| -0.878752350 |  0.30111431 | 0.862875522 |\n|  0.120276075 | -1.75750660 | 3.103295801 |\n|  1.061057248 | -1.48374498 | 3.327341637 |\n| -0.970576649 | -0.49316135 | 1.185227150 |\n| -1.394610295 | -0.57895770 | 2.280129893 |\n|  0.656771276 | -0.49658169 | 0.677941883 |\n|  1.250608968 | -1.03992686 | 2.645470671 |\n| -1.175484635 | -0.25805325 | 1.448355604 |\n|  0.200813635 | -0.99952976 | 1.039385864 |\n| -1.598353496 | -0.65540175 | 2.984285350 |\n|  0.292256183 | -1.43942767 | 2.157365707 |\n|  1.331126782 |  0.50379723 | 2.025710161 |\n|  0.654834210 | -0.10048263 | 0.438904602 |\n| -0.682888917 |  1.75189555 | 3.535475283 |\n|  1.423188917 | -0.06416984 | 2.029584462 |\n|  0.717937959 |  0.09975834 | 0.525386641 |\n| -0.006306543 | -2.05137365 | 4.208173616 |\n|  1.399801582 | -1.18995070 | 3.375427136 |\n\n",
            "text/html": [
              "<table class=\"dataframe\">\n",
              "<caption>A tibble: 100 × 3</caption>\n",
              "<thead>\n",
              "\t<tr><th scope=col>X1</th><th scope=col>X2</th><th scope=col>Z</th></tr>\n",
              "\t<tr><th scope=col>&lt;dbl&gt;</th><th scope=col>&lt;dbl&gt;</th><th scope=col>&lt;dbl&gt;</th></tr>\n",
              "</thead>\n",
              "<tbody>\n",
              "\t<tr><td> 0.78707336</td><td> 0.17051940</td><td>0.64856134</td></tr>\n",
              "\t<tr><td>-0.03731271</td><td> 1.51069999</td><td>2.28360669</td></tr>\n",
              "\t<tr><td>-0.92375962</td><td> 1.58090247</td><td>3.35258446</td></tr>\n",
              "\t<tr><td>-0.37029174</td><td>-1.15048637</td><td>1.46073487</td></tr>\n",
              "\t<tr><td> 1.14801069</td><td> 0.56111896</td><td>1.63278303</td></tr>\n",
              "\t<tr><td>-1.41607042</td><td> 0.32827116</td><td>2.11301740</td></tr>\n",
              "\t<tr><td> 0.96612201</td><td>-0.81057549</td><td>1.59042437</td></tr>\n",
              "\t<tr><td> 0.17373088</td><td> 0.18411173</td><td>0.06407955</td></tr>\n",
              "\t<tr><td>-1.05583234</td><td>-0.15961810</td><td>1.14025987</td></tr>\n",
              "\t<tr><td>-1.14337762</td><td>-0.92951930</td><td>2.17131850</td></tr>\n",
              "\t<tr><td> 0.05037878</td><td>-0.79059544</td><td>0.62757918</td></tr>\n",
              "\t<tr><td>-0.45083428</td><td> 1.48489090</td><td>2.40815254</td></tr>\n",
              "\t<tr><td>-0.37986434</td><td>-0.22568569</td><td>0.19523094</td></tr>\n",
              "\t<tr><td>-1.39413247</td><td>-0.13603971</td><td>1.96211216</td></tr>\n",
              "\t<tr><td>-0.92186593</td><td> 1.21828442</td><td>2.33405373</td></tr>\n",
              "\t<tr><td> 0.65503816</td><td> 0.60824260</td><td>0.79903405</td></tr>\n",
              "\t<tr><td>-1.68288608</td><td>-1.31027864</td><td>4.54893568</td></tr>\n",
              "\t<tr><td> 1.48947652</td><td> 0.85802902</td><td>2.95475409</td></tr>\n",
              "\t<tr><td>-0.44868370</td><td>-1.98714869</td><td>4.15007699</td></tr>\n",
              "\t<tr><td>-1.56697106</td><td> 1.54881611</td><td>4.85422964</td></tr>\n",
              "\t<tr><td> 1.59418527</td><td> 1.03752045</td><td>3.61787536</td></tr>\n",
              "\t<tr><td> 0.91345415</td><td>-1.66746394</td><td>3.61483449</td></tr>\n",
              "\t<tr><td> 0.89504230</td><td>-0.35898298</td><td>0.92996949</td></tr>\n",
              "\t<tr><td>-0.42489599</td><td>-1.06105481</td><td>1.30637392</td></tr>\n",
              "\t<tr><td>-0.18763748</td><td>-0.12096635</td><td>0.04984068</td></tr>\n",
              "\t<tr><td> 0.94555520</td><td> 0.68958467</td><td>1.36960166</td></tr>\n",
              "\t<tr><td> 2.23503910</td><td> 0.01271461</td><td>4.99556143</td></tr>\n",
              "\t<tr><td> 0.65010736</td><td> 0.98971579</td><td>1.40217694</td></tr>\n",
              "\t<tr><td> 0.70861205</td><td>-0.48605665</td><td>0.73838211</td></tr>\n",
              "\t<tr><td> 0.65154720</td><td> 0.31356421</td><td>0.52283626</td></tr>\n",
              "\t<tr><td>⋮</td><td>⋮</td><td>⋮</td></tr>\n",
              "\t<tr><td>-1.755698318</td><td> 0.52966266</td><td>3.363019115</td></tr>\n",
              "\t<tr><td> 0.555317127</td><td>-1.42137205</td><td>2.328675602</td></tr>\n",
              "\t<tr><td> 0.046195571</td><td> 0.03323688</td><td>0.003238721</td></tr>\n",
              "\t<tr><td>-1.158108787</td><td> 2.05652052</td><td>5.570492614</td></tr>\n",
              "\t<tr><td> 0.810979575</td><td>-0.02201745</td><td>0.658172639</td></tr>\n",
              "\t<tr><td> 0.451018761</td><td> 0.57583695</td><td>0.535006120</td></tr>\n",
              "\t<tr><td> 1.154655005</td><td> 0.51870257</td><td>1.602280537</td></tr>\n",
              "\t<tr><td> 0.791433853</td><td> 0.21264586</td><td>0.671585806</td></tr>\n",
              "\t<tr><td> 0.939574518</td><td>-2.28298134</td><td>6.094804068</td></tr>\n",
              "\t<tr><td> 1.315948081</td><td>-0.31230570</td><td>1.829254205</td></tr>\n",
              "\t<tr><td> 0.443331789</td><td> 0.60264329</td><td>0.559722005</td></tr>\n",
              "\t<tr><td> 0.895949857</td><td>-1.09187008</td><td>1.994906421</td></tr>\n",
              "\t<tr><td>-0.878752350</td><td> 0.30111431</td><td>0.862875522</td></tr>\n",
              "\t<tr><td> 0.120276075</td><td>-1.75750660</td><td>3.103295801</td></tr>\n",
              "\t<tr><td> 1.061057248</td><td>-1.48374498</td><td>3.327341637</td></tr>\n",
              "\t<tr><td>-0.970576649</td><td>-0.49316135</td><td>1.185227150</td></tr>\n",
              "\t<tr><td>-1.394610295</td><td>-0.57895770</td><td>2.280129893</td></tr>\n",
              "\t<tr><td> 0.656771276</td><td>-0.49658169</td><td>0.677941883</td></tr>\n",
              "\t<tr><td> 1.250608968</td><td>-1.03992686</td><td>2.645470671</td></tr>\n",
              "\t<tr><td>-1.175484635</td><td>-0.25805325</td><td>1.448355604</td></tr>\n",
              "\t<tr><td> 0.200813635</td><td>-0.99952976</td><td>1.039385864</td></tr>\n",
              "\t<tr><td>-1.598353496</td><td>-0.65540175</td><td>2.984285350</td></tr>\n",
              "\t<tr><td> 0.292256183</td><td>-1.43942767</td><td>2.157365707</td></tr>\n",
              "\t<tr><td> 1.331126782</td><td> 0.50379723</td><td>2.025710161</td></tr>\n",
              "\t<tr><td> 0.654834210</td><td>-0.10048263</td><td>0.438904602</td></tr>\n",
              "\t<tr><td>-0.682888917</td><td> 1.75189555</td><td>3.535475283</td></tr>\n",
              "\t<tr><td> 1.423188917</td><td>-0.06416984</td><td>2.029584462</td></tr>\n",
              "\t<tr><td> 0.717937959</td><td> 0.09975834</td><td>0.525386641</td></tr>\n",
              "\t<tr><td>-0.006306543</td><td>-2.05137365</td><td>4.208173616</td></tr>\n",
              "\t<tr><td> 1.399801582</td><td>-1.18995070</td><td>3.375427136</td></tr>\n",
              "</tbody>\n",
              "</table>\n"
            ]
          },
          "metadata": {}
        }
      ]
    },
    {
      "cell_type": "markdown",
      "id": "fdd57b34-45c6-41e0-a9ec-0e3bcf096a39",
      "metadata": {
        "tags": [],
        "id": "fdd57b34-45c6-41e0-a9ec-0e3bcf096a39"
      },
      "source": [
        "#### `(10)` 아래와 같은 매트릭스에서 `apply`함수를 이용하여 각 행의 합과 각 열의 합을 구하라 "
      ]
    },
    {
      "cell_type": "code",
      "execution_count": null,
      "id": "4dce282e-0765-47de-9fc4-2d55df4c4372",
      "metadata": {
        "id": "4dce282e-0765-47de-9fc4-2d55df4c4372",
        "outputId": "3e4a3bac-33ec-402a-f949-8a1d58596e31",
        "colab": {
          "base_uri": "https://localhost:8080/"
        }
      },
      "outputs": [
        {
          "output_type": "stream",
          "name": "stdout",
          "text": [
            "      [,1] [,2] [,3] [,4] [,5] [,6] [,7] [,8] [,9] [,10]\n",
            " [1,]    2    3    3    2    2    3    1    3    3     3\n",
            " [2,]    1    3    3    4    2    2    4    2    2     1\n",
            " [3,]    2    2    2    2    4    4    2    3    3     3\n",
            " [4,]    3    2    4    5    2    5    1    4    2     2\n",
            " [5,]    2    2    2    2    1    4    2    2    3     4\n",
            " [6,]    5    1    3    1    1    3    4    2    4     3\n",
            " [7,]    4    3    4    3    2    3    2    3    0     1\n",
            " [8,]    4    4    2    3    2    3    3    0    4     2\n",
            " [9,]    5    5    4    3    2    4    4    4    1     4\n",
            "[10,]    2    4    4    3    1    3    3    2    1     2\n"
          ]
        }
      ],
      "source": [
        "set.seed(1221)\n",
        "mat = rbinom(n=100,size=5,prob=0.5)\n",
        "dim(mat)=c(10,10)\n",
        "print(mat)"
      ]
    },
    {
      "cell_type": "markdown",
      "id": "5412d8eb-a07a-4f74-92e0-754d1753f8ac",
      "metadata": {
        "id": "5412d8eb-a07a-4f74-92e0-754d1753f8ac"
      },
      "source": [
        "즉 아래를 구하라 "
      ]
    },
    {
      "cell_type": "markdown",
      "id": "8dded61e-e395-4bc4-a2a5-f936b30029eb",
      "metadata": {
        "id": "8dded61e-e395-4bc4-a2a5-f936b30029eb"
      },
      "source": [
        "`-` 각 행의 합\n",
        "- 1행의 합 = 2+3+3+ ... +3+3+3 \n",
        "- ...\n",
        "- 10행의 합 = 2+4+4+ ... +2+1+2"
      ]
    },
    {
      "cell_type": "markdown",
      "id": "1600d9a5-363e-4ffd-a756-90bb4dcbd4c3",
      "metadata": {
        "id": "1600d9a5-363e-4ffd-a756-90bb4dcbd4c3"
      },
      "source": [
        "`-` 각 열의 합\n",
        "- 1열의 합 = 2+1+2+ ... +4+5+2\n",
        "- ...\n",
        "- 10열의 합 = 3+1+3+ ... +2+4+2"
      ]
    },
    {
      "cell_type": "code",
      "source": [
        "apply(mat,1,sum) %>% sum"
      ],
      "metadata": {
        "id": "w0d2CIBp-6kn",
        "outputId": "d495f577-ab96-4a86-cb88-02f12d4371d6",
        "colab": {
          "base_uri": "https://localhost:8080/",
          "height": 35
        }
      },
      "id": "w0d2CIBp-6kn",
      "execution_count": null,
      "outputs": [
        {
          "output_type": "display_data",
          "data": {
            "text/plain": [
              "[1] 270"
            ],
            "text/latex": "270",
            "text/markdown": "270",
            "text/html": [
              "270"
            ]
          },
          "metadata": {}
        }
      ]
    },
    {
      "cell_type": "code",
      "source": [
        "apply(mat,2,sum) %>% sum"
      ],
      "metadata": {
        "id": "7Wxjo2V--6h-",
        "outputId": "c4e3c95b-1a39-4354-eedf-1a723814f81d",
        "colab": {
          "base_uri": "https://localhost:8080/",
          "height": 35
        }
      },
      "id": "7Wxjo2V--6h-",
      "execution_count": null,
      "outputs": [
        {
          "output_type": "display_data",
          "data": {
            "text/plain": [
              "[1] 270"
            ],
            "text/latex": "270",
            "text/markdown": "270",
            "text/html": [
              "270"
            ]
          },
          "metadata": {}
        }
      ]
    },
    {
      "cell_type": "code",
      "source": [
        ""
      ],
      "metadata": {
        "id": "qiwgtB1_-6Z2"
      },
      "id": "qiwgtB1_-6Z2",
      "execution_count": null,
      "outputs": []
    },
    {
      "cell_type": "markdown",
      "id": "9ce31908-cc7a-48e0-89b6-6117a143c13c",
      "metadata": {
        "tags": [],
        "id": "9ce31908-cc7a-48e0-89b6-6117a143c13c"
      },
      "source": [
        "## `6`. 다음을 잘 읽고 물음에 답하라. (20점)"
      ]
    },
    {
      "cell_type": "markdown",
      "id": "24d014aa-d2c5-417f-afcd-c4bbc35f6403",
      "metadata": {
        "id": "24d014aa-d2c5-417f-afcd-c4bbc35f6403"
      },
      "source": [
        "#### `(1)` 자료 $x_1,x_2,\\dots, x_{50}$에 대하여 다음 과정을 순서대로 시행하였다."
      ]
    },
    {
      "cell_type": "markdown",
      "id": "35ad820e-3421-4c0a-a40c-38c78942ed83",
      "metadata": {
        "id": "35ad820e-3421-4c0a-a40c-38c78942ed83"
      },
      "source": [
        "(가) 처음 두 수 $x_1$과 $x_2$의 평균을 구한다. \n",
        "\n",
        "(나) $x_3$을 추가하여 $x_1, x_2, x_3$의 평균을 구한다. \n",
        "\n",
        "(다) $x_4$을 추가하여 $x_1, x_2, x_3, x_4$의 평균을 구한다. \n",
        "\n",
        "...\n",
        "\n",
        "$x_{50}$을 추가하여 $x_1, x_2, x_3 ,\\dots , x_{50}$의 평균을 구한다. "
      ]
    },
    {
      "cell_type": "markdown",
      "id": "4a30daaa-66ce-4344-8ef5-722e8ffb0006",
      "metadata": {
        "id": "4a30daaa-66ce-4344-8ef5-722e8ffb0006"
      },
      "source": [
        "위의 과정을 시행할 결과, $x_1$과 $x_2$의 평균이 5이고, 자료 하나가 추가될때 마다 평균이 1씩 증가하였다. 이때 $x_{50}$의 값은? "
      ]
    },
    {
      "cell_type": "markdown",
      "id": "2e2653d1-f565-4900-ad35-4431ed1d074d",
      "metadata": {
        "tags": [],
        "id": "2e2653d1-f565-4900-ad35-4431ed1d074d"
      },
      "source": [
        "#### `(2)` 복도의 라커 \n",
        "\n",
        "복도에 100개의 라커가 있다. 복도를 어떤 남자가 **짝수번호**의 라커를 모두 연다. 그리고 나서 3의 배수의 라커를 전부 닫는다. 그 다음에는 번호가 4의 배수인 라커를 순서대로 찾아다니며 열려 있으면 닫고, 닫혀 있으면 연다. 그 다음에는 번호가 5의 배수인 라커를 순서대로 찾아다니며 열려있으면 닫고, 닫혀있으면 연다. 이후에 6의 배수, 7의 배수 .. 인 라커를 순서대로 찾아다니며 행동을 반복한다. 이런식으로 복도를 **50번** 지나가면 열린 라커의 문은 몇개가 되겠는가? (주의: 중간고사문제와 약간다릅니다, 다른부분은 볼드체 표시했습니다)"
      ]
    },
    {
      "cell_type": "markdown",
      "id": "e2f77aba-17d3-45c0-977b-ebc7ebc1b007",
      "metadata": {
        "id": "e2f77aba-17d3-45c0-977b-ebc7ebc1b007"
      },
      "source": [
        "#### `(3)` 몬테카를로 시뮬레이션을 이용하여 원주율 $\\pi$를 추론하는 코드를 작성하라. "
      ]
    },
    {
      "cell_type": "markdown",
      "id": "6d96b655-723b-4b88-be3a-179599fec430",
      "metadata": {
        "id": "6d96b655-723b-4b88-be3a-179599fec430"
      },
      "source": [
        "#### `(4)` 아래와 같은 연립일차방정식을 푸는 R코드를 작성하라. "
      ]
    },
    {
      "cell_type": "markdown",
      "id": "1242cd3f-41fe-4f41-870d-311c0ec85d69",
      "metadata": {
        "id": "1242cd3f-41fe-4f41-870d-311c0ec85d69"
      },
      "source": [
        "$\\begin{cases}\n",
        "w+2x+3y+4z=1 \\\\\n",
        "2w+2x+y=9 \\\\\n",
        "x-y=4 \\\\\n",
        "3w+x-y+3y=7\n",
        "\\end{cases}$\n"
      ]
    },
    {
      "cell_type": "code",
      "source": [
        "A=rbind(c(1,2,3,4),c(2,2,1,0),c(0,1,-1,0),c(3,1,-1,3))\n",
        "A"
      ],
      "metadata": {
        "id": "2jNZ4NQv_yzt"
      },
      "id": "2jNZ4NQv_yzt",
      "execution_count": null,
      "outputs": []
    },
    {
      "cell_type": "code",
      "source": [
        "b=c(1,9,4,7)\n",
        "dim(b)=c(4,1)\n",
        "b"
      ],
      "metadata": {
        "id": "0haR82zv_-Iw"
      },
      "id": "0haR82zv_-Iw",
      "execution_count": null,
      "outputs": []
    },
    {
      "cell_type": "code",
      "source": [
        "solve(A) %*% b"
      ],
      "metadata": {
        "id": "wSn7CcDd_-FE"
      },
      "id": "wSn7CcDd_-FE",
      "execution_count": null,
      "outputs": []
    },
    {
      "cell_type": "markdown",
      "id": "8c0bca0f-2b2b-483e-98bf-46f560db01f7",
      "metadata": {
        "id": "8c0bca0f-2b2b-483e-98bf-46f560db01f7"
      },
      "source": [
        "#### `(5)` 우산의 회전"
      ]
    },
    {
      "cell_type": "markdown",
      "id": "856adbd0-6cac-4de3-9a4e-5758c5b3c60a",
      "metadata": {
        "id": "856adbd0-6cac-4de3-9a4e-5758c5b3c60a"
      },
      "source": [
        "다음은 인터넷에서 어떠한 자료를 다운받아 매트릭스로 저장하는 코드이다. \n",
        "```R\n",
        "df=read.csv(\"https://raw.githubusercontent.com/guebin/2021IR/master/_notebooks/round2.csv\")\n",
        "X=as.matrix(df)\n",
        "```\n",
        "매트릭스는 `X`이라는 변수에 저장되어 있다. 저장된 모양은 아래와 같다. \n",
        "$${\\bf X}= \n",
        "\\begin{bmatrix}\n",
        "x_1 & y_1 \\\\ \n",
        "x_2 & y_2 \\\\ \n",
        "\\dots & \\dots \\\\ \n",
        "x_{5513} & y_{5513}\n",
        "\\end{bmatrix}\n",
        "$$\n",
        "아래를 계산하여 $\\tilde{\\bf X}$를 만들고 \n",
        "$$\n",
        "\\tilde{\\bf X}={\\bf X} \\begin{bmatrix}\n",
        "\\cos(\\frac{\\pi}{4}) & -\\sin (\\frac{\\pi}{4}) \\\\\n",
        "\\sin(\\frac{\\pi}{4}) & \\cos (\\frac{\\pi}{4})\n",
        "\\end{bmatrix} \n",
        "$$"
      ]
    },
    {
      "cell_type": "markdown",
      "id": "ed520940-df49-49ea-b613-704f98d7d0e3",
      "metadata": {
        "id": "ed520940-df49-49ea-b613-704f98d7d0e3"
      },
      "source": [
        "$\\tilde{\\bf X}$의 첫번째열을 $x$축으로, 두번째열을 $y$축으로 하여 시각화 하라. 시각화 예시는 아래와 같다. "
      ]
    },
    {
      "cell_type": "markdown",
      "id": "25975e05-2cf1-47b6-b126-b8caf43009af",
      "metadata": {
        "id": "25975e05-2cf1-47b6-b126-b8caf43009af"
      },
      "source": [
        "![](https://github.com/guebin/2021IR/blob/master/_notebooks/final_fig5.png?raw=true)"
      ]
    }
  ],
  "metadata": {
    "kernelspec": {
      "display_name": "R",
      "language": "R",
      "name": "ir"
    },
    "language_info": {
      "codemirror_mode": "r",
      "file_extension": ".r",
      "mimetype": "text/x-r-source",
      "name": "R",
      "pygments_lexer": "r",
      "version": "4.0.5"
    },
    "colab": {
      "name": "2021-12-21-2021년 1학기 R입문기말고사.ipynb의 사본",
      "provenance": []
    }
  },
  "nbformat": 4,
  "nbformat_minor": 5
}