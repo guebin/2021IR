{
 "cells": [
  {
   "cell_type": "markdown",
   "id": "cd0b452a-d6b0-4bb5-945a-f88ef93a7f89",
   "metadata": {
    "tags": []
   },
   "source": [
    "# 2021년 1학기 R입문 기말고사 (ver 1.00)\n",
    "\n",
    "- toc:false\n",
    "- branch: master\n",
    "- badges: true\n",
    "- comments: true\n",
    "- author: 최규빈"
   ]
  },
  {
   "cell_type": "code",
   "execution_count": 96,
   "id": "a27abf35-cdef-4797-a470-e479ecad2a93",
   "metadata": {
    "tags": []
   },
   "outputs": [],
   "source": [
    "#hide\n",
    "#options(jupyter.rich_display=FALSE)\n",
    "options(repr.plot.width=6,repr.plot.height=6,repr.plot.res=150)\n",
    "options(max.print=1000)"
   ]
  },
  {
   "cell_type": "markdown",
   "id": "0dacb1a1-85b1-4361-88e2-6877d9b8e87d",
   "metadata": {},
   "source": [
    "**의미가 모호한 문제는 질문할것**\n",
    "\n",
    "**필요한 패키지는 스스로 로드하여 사용할 것** "
   ]
  },
  {
   "cell_type": "markdown",
   "id": "21a0f600-e9bc-4909-b9e8-ca4c2900b20f",
   "metadata": {},
   "source": [
    "## `1`. 회귀분석 (35점) "
   ]
  },
  {
   "cell_type": "markdown",
   "id": "317e056c-4165-4222-a637-0c6ac78ee201",
   "metadata": {},
   "source": [
    "아래와 같은 수식을 고려하자. \n",
    "\n",
    "$$y_i= 1.5+ 5\\sin(t_i)+ 3 \\cos(4 t_i)+\\epsilon_i, \\quad i=1,2,\\dots, 1000$$\n",
    "\n",
    "여기에서 $t_i=\\frac{2\\pi i}{1000}$ 이다. 그리고 $\\epsilon_i \\sim i.i.d~ N(0,1)$, 즉 서로 독립인 표준정규분포에서 추출된 샘플이다. "
   ]
  },
  {
   "cell_type": "markdown",
   "id": "620fd982-09c7-49ee-8faf-926bd5a09dd2",
   "metadata": {},
   "source": [
    "#### `(1)` `rnorm()`을 이용하여 $\\{\\epsilon_i \\}_{i=1}^{1000}$ 을 만들고 이를 벡터로 만들어라. 즉 아래와 같은 벡터를 생성하라. \n",
    "\n",
    "- $\\boldsymbol{\\epsilon}=(\\epsilon_1,\\dots,\\epsilon_{1000})$"
   ]
  },
  {
   "cell_type": "markdown",
   "id": "dd52f507-e2b6-4f65-a06c-2ee05620db5a",
   "metadata": {},
   "source": [
    "#### `(2)` $\\big\\{\\sin(t_i) \\big\\}_{i=1}^{1000}$와 $\\big\\{\\cos(4t_i) \\big\\}_{i=1}^{1000}$를 각각 생성하고 이를 ${\\bf x}_1$와 ${\\bf x}_2$에 저장하라. 즉 아래와 같은 2개의 벡터를 생성하라. \n",
    "- ${\\bf x}_1=\\big(\\sin(\\frac{2\\pi}{1000}),\\sin(\\frac{4\\pi}{1000}),\\dots,\\sin(2\\pi)\\big)$\n",
    "- ${\\bf x}_2=\\big(\\cos(\\frac{8\\pi}{1000}),\\cos(\\frac{16\\pi}{1000}),\\dots,\\cos(8\\pi)\\big)$"
   ]
  },
  {
   "cell_type": "markdown",
   "id": "a04cf768-c251-49b2-b75c-227703917abc",
   "metadata": {},
   "source": [
    "#### `(3)` (1),(2)로 부터 $y_i$를 계산하고, $(t_i,y_i)$를 scatter plot으로 시각화 하라. 색은 'gray60'을 사용하라. 시각화 예시는 아래와 같다. "
   ]
  },
  {
   "cell_type": "markdown",
   "id": "fb516585-3317-43ac-80d2-867a5953e203",
   "metadata": {},
   "source": [
    "![](https://github.com/guebin/2021IR/blob/master/_notebooks/final_fig1.png?raw=true)"
   ]
  },
  {
   "cell_type": "markdown",
   "id": "2aa97a6f-5be5-4dab-9ffd-cb05cafa1057",
   "metadata": {},
   "source": [
    "#### `(4)` 두 벡터 ${\\bf x}_1$, ${\\bf x}_2$와 `cbind()`를 이용하여 아래와 같은 $1000 \\times 3$ 매트릭스 ${\\bf X}$를 만들어라. "
   ]
  },
  {
   "cell_type": "markdown",
   "id": "1a7a9102-3f73-495b-9232-38d1a6a5d979",
   "metadata": {},
   "source": [
    "$${\\bf X}=\\begin{bmatrix}\n",
    "1 & \\sin(\\frac{2\\pi}{1000}) & \\cos(\\frac{8\\pi}{1000})\\\\ \n",
    "1 & \\sin(\\frac{4\\pi}{1000}) & \\cos(\\frac{16\\pi}{1000})\\\\ \n",
    "\\dots & \\dots  & \\dots \\\\ \n",
    "1 & \\sin(2\\pi) & \\cos(8\\pi)\\\\ \n",
    "\\end{bmatrix} $$ "
   ]
  },
  {
   "cell_type": "markdown",
   "id": "d09a138b-47fe-479b-a04e-3043d2c3ba86",
   "metadata": {},
   "source": [
    "#### `(5)` $3 \\times 1$ 매트릭스 $\\boldsymbol{\\beta}=\\begin{bmatrix} 1.5 \\\\ 5 \\\\ 3 \\end{bmatrix}$를 만들고 매트릭스 곱을 이용하여 ${\\bf X} {\\boldsymbol \\beta}$를 계산하라. 계산결과를 벡터화하고 (3)의 $y$축에 붉은선으로 시각화 하라. 시각화 예시는 아래와 같다. (필요하다면 적절하게 선의 굵기를 조정할 것) "
   ]
  },
  {
   "cell_type": "markdown",
   "id": "99111d0a-5dbc-42db-81f5-b216f9f907db",
   "metadata": {},
   "source": [
    "![](https://github.com/guebin/2021IR/blob/master/_notebooks/final_fig2.png?raw=true)"
   ]
  },
  {
   "cell_type": "markdown",
   "id": "bd53c3f9-ec49-413b-93fc-4b30c9cf6081",
   "metadata": {
    "tags": []
   },
   "source": [
    "#### `(6)` 아래의 수식을 이용하여 $\\boldsymbol{\\hat\\beta}$를 계산하고 계산결과를 $\\boldsymbol{\\beta}$와 비교하라. \n",
    "\n",
    "$$ \\boldsymbol{\\hat\\beta} = ({\\bf X}^\\top {\\bf X})^{-1}{\\bf X}^\\top {\\bf y}$$ "
   ]
  },
  {
   "cell_type": "markdown",
   "id": "eacf1fac-403a-49d0-961a-8275b1446a60",
   "metadata": {},
   "source": [
    "여기에서 ${\\bf X}$와 ${\\bf y}$는 각각 아래와 같다. \n",
    "\n",
    "- ${\\bf X}=\\begin{bmatrix}\n",
    "1 & \\sin(\\frac{2\\pi}{1000}) & \\cos(\\frac{8\\pi}{1000})\\\\ \n",
    "1 & \\sin(\\frac{8\\pi}{1000}) & \\cos(\\frac{16\\pi}{1000})\\\\ \n",
    "\\dots & \\dots  & \\dots \\\\ \n",
    "1 & \\sin(2\\pi) & \\cos(8\\pi)\\\\ \n",
    "\\end{bmatrix}$,  $\\quad {\\bf y}=\\begin{bmatrix} y_1\\\\ y_2\\\\ \\dots \\\\ y_{1000}\\\\ \\end{bmatrix}$"
   ]
  },
  {
   "cell_type": "markdown",
   "id": "5c9c3816-5af7-46f2-9680-b0e97e729789",
   "metadata": {},
   "source": [
    "또한 ${\\bf X}^\\top$는 ${\\bf X}$의 전치행렬(transpose) 그리고 $({\\bf X}^\\top {\\bf X})^{-1}$은 ${\\bf X}^\\top {\\bf X}$의 역행렬을 의미한다. "
   ]
  },
  {
   "cell_type": "markdown",
   "id": "8f836f58-cb7d-4b0e-9e6c-612030446856",
   "metadata": {},
   "source": [
    "#### `(7)` ${\\bf X}\\boldsymbol{\\hat\\beta}$를 계산하라. 계산결과를 벡터화 하고 (5)의 시각화 결과에 푸른점선으로 시각화 하라. 시각화 예시는 아래와 같다. (필요하다면 적절하게 선의 굵기를 조정할 것) "
   ]
  },
  {
   "cell_type": "markdown",
   "id": "e2bdb6c4-fa29-4f07-8c50-5531fc325059",
   "metadata": {},
   "source": [
    "![](https://github.com/guebin/2021IR/blob/master/_notebooks/final_fig3.png?raw=true)"
   ]
  },
  {
   "cell_type": "markdown",
   "id": "743acaff-fba8-4bdd-83a0-9bff1bd4805c",
   "metadata": {},
   "source": [
    "## `2`. 몬테카를로 적분 (10점)\n",
    "\n",
    "#### `(1)` $\\int_{-1.96}^{1.96}\\frac{1}{\\sqrt{2\\pi}}e^{-\\frac{1}{2}x^2}dx$의 값을 `runif()`를 이용한 몬테카를로 적분으로 계산하라. "
   ]
  },
  {
   "cell_type": "markdown",
   "id": "feb55d2e-1824-4ada-b0fc-a2c5e934c5c1",
   "metadata": {
    "tags": []
   },
   "source": [
    "#### `(2)` `rnorm()`을 이용하여 표준정규분포에서 1000개의 확률변수를 생성하고 생성된 확률변수들 중 구간 $(-1.96 , 1.96)$사이에 있는 확률변수를 count하라. "
   ]
  },
  {
   "cell_type": "markdown",
   "id": "b37287d2-025e-4aaa-bb88-435403610185",
   "metadata": {},
   "source": [
    "## `3`. 징검다리 (10점)"
   ]
  },
  {
   "cell_type": "markdown",
   "id": "e0280e4f-623f-4e31-a524-fe8dd78b33b1",
   "metadata": {},
   "source": [
    "10명의 참가자가 (유리,강화유리)의 쌍으로 이루어진 징검다리를 건너는 게임을 시작한다. (유리,강화유리)의 쌍은 총 20개 있다. 따라서 유리는 총 40장이 있다. 참가자는 강화유리로 된 징검다리를 밟으면 살아남지만 유리로 된 징검다리를 밟으면 죽는다. 10명의 참가자의 특징은 아래와 같다. \n",
    "\n",
    "- 1번~8번 참가자, 10번 참가자: 50퍼센트의 확률로 강화유리를 고를 수 있다. \n",
    "- 9번 참가자: 95퍼센트의 확률로 강화유리를 고를 수 있다. \n",
    "\n",
    "다리를 건너는 순서는 아래와 같이 번호의 오름차순으로 건너는 방법과 번호의 내림차순으로 건너는 2가지 방법이 있다고 하자. \n",
    "\n",
    "- Type A: 10번 참가자부터 다리를 건너고 그 뒤로 9번, 8번, ... 1번 순으로 다리를 건넌다. \n",
    "- Type B: 1번 참가자부터 다리를 건너고 그 뒤로 2번, 3번, ... 10번 순으로 다리를 건넌다. \n",
    "\n",
    "8번 참가자는 Type A 와 Type B 중 어떠한 경우에 살아남을 확률이 높은가? "
   ]
  },
  {
   "cell_type": "markdown",
   "id": "73fcbaef-2059-453e-95f5-3b7084b07bc5",
   "metadata": {},
   "source": [
    "## `4`. COVID19 (15점)"
   ]
  },
  {
   "cell_type": "markdown",
   "id": "dd6dcd9d-22f0-46cb-96ea-6f4f1705b749",
   "metadata": {},
   "source": [
    "아래는 한국의 코로나확진자 발생수를 tibble로 불러오는 코드와 그 결과이다. "
   ]
  },
  {
   "cell_type": "code",
   "execution_count": 94,
   "id": "a9beee8e-2bbc-452d-919e-2d225c1f0777",
   "metadata": {},
   "outputs": [
    {
     "name": "stderr",
     "output_type": "stream",
     "text": [
      "\u001b[1mRows: \u001b[22m\u001b[34m12294\u001b[39m \u001b[1mColumns: \u001b[22m\u001b[34m5\u001b[39m\n",
      "\n",
      "\u001b[36m──\u001b[39m \u001b[1mColumn specification\u001b[22m \u001b[36m────────────────────────────────────────────────────────\u001b[39m\n",
      "\u001b[1mDelimiter:\u001b[22m \",\"\n",
      "\u001b[31mchr\u001b[39m (1): prov\n",
      "\u001b[32mdbl\u001b[39m (4): year, month, day, cases\n",
      "\n",
      "\n",
      "\u001b[36mℹ\u001b[39m Use \u001b[30m\u001b[47m\u001b[30m\u001b[47m`spec()`\u001b[47m\u001b[30m\u001b[49m\u001b[39m to retrieve the full column specification for this data.\n",
      "\u001b[36mℹ\u001b[39m Specify the column types or set \u001b[30m\u001b[47m\u001b[30m\u001b[47m`show_col_types = FALSE`\u001b[47m\u001b[30m\u001b[49m\u001b[39m to quiet this message.\n",
      "\n"
     ]
    },
    {
     "data": {
      "text/html": [
       "<table class=\"dataframe\">\n",
       "<caption>A tibble: 6 × 5</caption>\n",
       "<thead>\n",
       "\t<tr><th scope=col>year</th><th scope=col>month</th><th scope=col>day</th><th scope=col>prov</th><th scope=col>cases</th></tr>\n",
       "\t<tr><th scope=col>&lt;dbl&gt;</th><th scope=col>&lt;dbl&gt;</th><th scope=col>&lt;dbl&gt;</th><th scope=col>&lt;chr&gt;</th><th scope=col>&lt;dbl&gt;</th></tr>\n",
       "</thead>\n",
       "<tbody>\n",
       "\t<tr><td>2020</td><td>1</td><td>20</td><td>서울</td><td>0</td></tr>\n",
       "\t<tr><td>2020</td><td>1</td><td>20</td><td>부산</td><td>0</td></tr>\n",
       "\t<tr><td>2020</td><td>1</td><td>20</td><td>대구</td><td>0</td></tr>\n",
       "\t<tr><td>2020</td><td>1</td><td>20</td><td>인천</td><td>1</td></tr>\n",
       "\t<tr><td>2020</td><td>1</td><td>20</td><td>광주</td><td>0</td></tr>\n",
       "\t<tr><td>2020</td><td>1</td><td>20</td><td>대전</td><td>0</td></tr>\n",
       "</tbody>\n",
       "</table>\n"
      ],
      "text/latex": [
       "A tibble: 6 × 5\n",
       "\\begin{tabular}{lllll}\n",
       " year & month & day & prov & cases\\\\\n",
       " <dbl> & <dbl> & <dbl> & <chr> & <dbl>\\\\\n",
       "\\hline\n",
       "\t 2020 & 1 & 20 & 서울 & 0\\\\\n",
       "\t 2020 & 1 & 20 & 부산 & 0\\\\\n",
       "\t 2020 & 1 & 20 & 대구 & 0\\\\\n",
       "\t 2020 & 1 & 20 & 인천 & 1\\\\\n",
       "\t 2020 & 1 & 20 & 광주 & 0\\\\\n",
       "\t 2020 & 1 & 20 & 대전 & 0\\\\\n",
       "\\end{tabular}\n"
      ],
      "text/markdown": [
       "\n",
       "A tibble: 6 × 5\n",
       "\n",
       "| year &lt;dbl&gt; | month &lt;dbl&gt; | day &lt;dbl&gt; | prov &lt;chr&gt; | cases &lt;dbl&gt; |\n",
       "|---|---|---|---|---|\n",
       "| 2020 | 1 | 20 | 서울 | 0 |\n",
       "| 2020 | 1 | 20 | 부산 | 0 |\n",
       "| 2020 | 1 | 20 | 대구 | 0 |\n",
       "| 2020 | 1 | 20 | 인천 | 1 |\n",
       "| 2020 | 1 | 20 | 광주 | 0 |\n",
       "| 2020 | 1 | 20 | 대전 | 0 |\n",
       "\n"
      ],
      "text/plain": [
       "  year month day prov cases\n",
       "1 2020 1     20  서울 0    \n",
       "2 2020 1     20  부산 0    \n",
       "3 2020 1     20  대구 0    \n",
       "4 2020 1     20  인천 1    \n",
       "5 2020 1     20  광주 0    \n",
       "6 2020 1     20  대전 0    "
      ]
     },
     "metadata": {},
     "output_type": "display_data"
    }
   ],
   "source": [
    "df=read_csv('https://raw.githubusercontent.com/guebin/2021IR/master/_notebooks/covid19.csv')\n",
    "head(df)"
   ]
  },
  {
   "cell_type": "markdown",
   "id": "d0e96a57-a0a1-4be6-9743-78bb9007e0bf",
   "metadata": {
    "jp-MarkdownHeadingCollapsed": true,
    "tags": []
   },
   "source": [
    "#### `(1)` 2020년의 확진자(cases)총합과 2021년의 확진자(cases)총합을 구하라. "
   ]
  },
  {
   "cell_type": "markdown",
   "id": "709adf3e-9747-49ab-a28d-6bc014195e29",
   "metadata": {
    "tags": []
   },
   "source": [
    "#### `(2)` 2020년 2월1일 ~ 2020년 2월15일까지의 기간동안 확진자의 합을 지역별로 나누어 구하라 (아래예시 참고). 가장 많은 확진자가 발견된 지역은 어디인가? "
   ]
  },
  {
   "cell_type": "markdown",
   "id": "9eabba75-e486-439b-aa24-c7bc95e19112",
   "metadata": {},
   "source": [
    "즉 아래를 각각 계산하고 2020년 2월1일 ~ 2020년 2월15일 기간동안 발생한 확진자의 합이 가장 큰 지역을 찾으면 된다. \n",
    "\n",
    "- 2020년2월1일 ~ 2020년2월15일 기간 서울에서 발생한 확진자의 합 = 2020년2월1일 서울에서 발생한 확진자수 + ... + 2020년2월15일 서울에서 발생한 확진자수\n",
    "- ...\n",
    "- 2020년2월1일 ~ 2020년2월15일 기간 제주에서 발생한 확진자의 합 = 2020년2월1일 제주에서 발생한 확진자수 + ... + 2020년2월15일 제주에서 발생한 확진자수"
   ]
  },
  {
   "cell_type": "markdown",
   "id": "ed5aa778-7796-4ae6-815e-dbbbe25a0dbe",
   "metadata": {},
   "source": [
    "#### `(3)` 2020년 2월16일 ~ 2020년 2월29일까지의 기간동안 확진자의 총합을 지역별로 나누어 구하라 (아래예시 참고). 가장 많은 확진자가 발견된 지역은 어디인가?"
   ]
  },
  {
   "cell_type": "markdown",
   "id": "f0598204-3b09-4b3f-a875-0679c29d74e7",
   "metadata": {},
   "source": [
    "즉 아래를 각각 계산하고 2020년 2월16일 ~ 2020년 2월29일 기간동안 발생한 확진자의 합이 가장 큰 지역을 찾으면 된다. \n",
    "\n",
    "- 2020년2월16일 ~ 2020년2월29일 기간 서울에서 발생한 확진자의 합 = 2020년2월16일 서울에서 발생한 확진자수 + ... + 2020년2월29일 서울에서 발생한 확진자수\n",
    "- ...\n",
    "- 2020년2월16일 ~ 2020년2월29일 기간 제주에서 발생한 확진자의 합 = 2020년2월16일 제주에서 발생한 확진자수 + ... + 2020년2월29일 제주에서 발생한 확진자수"
   ]
  },
  {
   "cell_type": "markdown",
   "id": "224b4143-8f5b-43aa-a723-84187e7cfa37",
   "metadata": {},
   "source": [
    "## `5`. 다음을 잘 읽고 물음에 답하라. (10점)"
   ]
  },
  {
   "cell_type": "markdown",
   "id": "60833008-ae1c-4a00-b6bc-70cb3ee831f6",
   "metadata": {
    "tags": []
   },
   "source": [
    "#### `(1)` cumprod 함수를 이용하여 $7!=7\\times 6 \\times 5 \\times \\dots \\times 1$을 계산하라. "
   ]
  },
  {
   "cell_type": "code",
   "execution_count": 70,
   "id": "e4a73d70-7ee7-4031-9e25-49e3f4dc1ace",
   "metadata": {},
   "outputs": [
    {
     "data": {
      "text/html": [
       "<style>\n",
       ".list-inline {list-style: none; margin:0; padding: 0}\n",
       ".list-inline>li {display: inline-block}\n",
       ".list-inline>li:not(:last-child)::after {content: \"\\00b7\"; padding: 0 .5ex}\n",
       "</style>\n",
       "<ol class=list-inline><li>1</li><li>2</li><li>6</li><li>24</li><li>120</li><li>720</li><li>5040</li></ol>\n"
      ],
      "text/latex": [
       "\\begin{enumerate*}\n",
       "\\item 1\n",
       "\\item 2\n",
       "\\item 6\n",
       "\\item 24\n",
       "\\item 120\n",
       "\\item 720\n",
       "\\item 5040\n",
       "\\end{enumerate*}\n"
      ],
      "text/markdown": [
       "1. 1\n",
       "2. 2\n",
       "3. 6\n",
       "4. 24\n",
       "5. 120\n",
       "6. 720\n",
       "7. 5040\n",
       "\n",
       "\n"
      ],
      "text/plain": [
       "[1]    1    2    6   24  120  720 5040"
      ]
     },
     "metadata": {},
     "output_type": "display_data"
    }
   ],
   "source": [
    "x_ = c(1,2,3,4,5,6,7)\n",
    "cumprod(x_)"
   ]
  },
  {
   "cell_type": "markdown",
   "id": "c78c6221-b283-43c7-a126-5dec505c68ec",
   "metadata": {},
   "source": [
    "#### `(2)` $\\sum_{n=0}^{\\infty}\\frac{n}{n!}$의 값을 근사적으로 계산하라. 계산결과를 exp(1)과 비교하라. "
   ]
  },
  {
   "cell_type": "code",
   "execution_count": 66,
   "id": "c9d758df-1485-4ad2-8ef8-df77ff32f367",
   "metadata": {},
   "outputs": [
    {
     "data": {
      "text/html": [
       "1"
      ],
      "text/latex": [
       "1"
      ],
      "text/markdown": [
       "1"
      ],
      "text/plain": [
       "[1] 1"
      ]
     },
     "metadata": {},
     "output_type": "display_data"
    }
   ],
   "source": [
    "n/cumprod(n)"
   ]
  },
  {
   "cell_type": "code",
   "execution_count": 7,
   "id": "62635e46-e632-424d-8f47-84b01a49a7c7",
   "metadata": {},
   "outputs": [
    {
     "data": {
      "text/html": [
       "10000"
      ],
      "text/latex": [
       "10000"
      ],
      "text/markdown": [
       "10000"
      ],
      "text/plain": [
       "[1] 10000"
      ]
     },
     "metadata": {},
     "output_type": "display_data"
    }
   ],
   "source": [
    "rslt<-c()\n",
    "for (n in 1:10000) rslt[n]=n/cumprod(n)\n",
    "sum(rslt)"
   ]
  },
  {
   "cell_type": "markdown",
   "id": "fb37132c-7ead-474c-8da8-6d27e33b0b0a",
   "metadata": {
    "tags": []
   },
   "source": [
    "#### `(3)` 표준정규분포에서 1000개의 난수를 생성발생시킨 뒤 0보다 큰 수를 세어보라. "
   ]
  },
  {
   "cell_type": "code",
   "execution_count": 8,
   "id": "dee45899-72fd-4a15-860a-3a41b088bf38",
   "metadata": {},
   "outputs": [],
   "source": [
    "v_=rnorm(1000)"
   ]
  },
  {
   "cell_type": "code",
   "execution_count": 10,
   "id": "ec4e3d92-dc27-4a9c-8ed5-b94971f1b78d",
   "metadata": {},
   "outputs": [
    {
     "name": "stderr",
     "output_type": "stream",
     "text": [
      "-- \u001b[1mAttaching packages\u001b[22m ------------------------------------------------------------------------------- tidyverse 1.3.1 --\n",
      "\n",
      "\u001b[32mv\u001b[39m \u001b[34mggplot2\u001b[39m 3.3.3     \u001b[32mv\u001b[39m \u001b[34mpurrr  \u001b[39m 0.3.4\n",
      "\u001b[32mv\u001b[39m \u001b[34mtibble \u001b[39m 3.1.2     \u001b[32mv\u001b[39m \u001b[34mdplyr  \u001b[39m 1.0.6\n",
      "\u001b[32mv\u001b[39m \u001b[34mtidyr  \u001b[39m 1.1.3     \u001b[32mv\u001b[39m \u001b[34mstringr\u001b[39m 1.4.0\n",
      "\u001b[32mv\u001b[39m \u001b[34mreadr  \u001b[39m 1.4.0     \u001b[32mv\u001b[39m \u001b[34mforcats\u001b[39m 0.5.1\n",
      "\n",
      "-- \u001b[1mConflicts\u001b[22m ---------------------------------------------------------------------------------- tidyverse_conflicts() --\n",
      "\u001b[31mx\u001b[39m \u001b[34mdplyr\u001b[39m::\u001b[32mfilter()\u001b[39m masks \u001b[34mstats\u001b[39m::filter()\n",
      "\u001b[31mx\u001b[39m \u001b[34mdplyr\u001b[39m::\u001b[32mlag()\u001b[39m    masks \u001b[34mstats\u001b[39m::lag()\n",
      "\n"
     ]
    }
   ],
   "source": [
    "library(tidyverse)"
   ]
  },
  {
   "cell_type": "code",
   "execution_count": 15,
   "id": "70b58c08-515a-4c47-97e4-33c32e758602",
   "metadata": {},
   "outputs": [
    {
     "data": {
      "text/html": [
       "471"
      ],
      "text/latex": [
       "471"
      ],
      "text/markdown": [
       "471"
      ],
      "text/plain": [
       "[1] 471"
      ]
     },
     "metadata": {},
     "output_type": "display_data"
    }
   ],
   "source": [
    "t_=tibble(v_) %>% filter(v_ >0)\n",
    "nrow(t_)"
   ]
  },
  {
   "cell_type": "markdown",
   "id": "cb8ae7c8-4aec-4538-a305-67626417b60a",
   "metadata": {},
   "source": [
    "#### `(4)` $p=0.2$인 베르누이분포에서 1000개의 난수를 만들면 1이 몇개정도 포함되는가? 시뮬레이션을 통하여 검증하라."
   ]
  },
  {
   "cell_type": "code",
   "execution_count": 23,
   "id": "2f278975-3958-4670-b51e-a624f1ce1a14",
   "metadata": {},
   "outputs": [
    {
     "data": {
      "text/html": [
       "198"
      ],
      "text/latex": [
       "198"
      ],
      "text/markdown": [
       "198"
      ],
      "text/plain": [
       "[1] 198"
      ]
     },
     "metadata": {},
     "output_type": "display_data"
    }
   ],
   "source": [
    "rbinom(1000, size=1, 0.2) %>% sum()"
   ]
  },
  {
   "cell_type": "markdown",
   "id": "e416ebdb-1db2-44ae-8c06-ab2c9033fea7",
   "metadata": {},
   "source": [
    "#### `(5)` 아래는 표준정규분포, 즉 평균이 0이고 표준편차가 1인 정규분포에서 1000개의 난수를 생성하여 $x$라는 변수에 저장한뒤 $x$의 히스토그램을 그린 예시이다. 아래의 예시를 이용하여 평균이 1이고 표준편차가 1인 정규분포에서 5000개의 난수를 생성한뒤 $y$에 저장하고 $y$의 히스토그램을 그려라. 시각화 예시는 아래와 같다. "
   ]
  },
  {
   "cell_type": "code",
   "execution_count": 95,
   "id": "9b5dfb2d-3b2a-4769-bf1c-bdedc5536625",
   "metadata": {},
   "outputs": [
    {
     "data": {
      "image/png": "[encoded data removed]",
      "text/plain": [
       "Plot with title “Histogram of x”"
      ]
     },
     "metadata": {
      "image/png": {
       "height": 450,
       "width": 450
      }
     },
     "output_type": "display_data"
    }
   ],
   "source": [
    "x=rnorm(1000)\n",
    "hist(x)"
   ]
  },
  {
   "cell_type": "code",
   "execution_count": 26,
   "id": "e971dbd5-fd6a-43a7-9224-9496330651be",
   "metadata": {},
   "outputs": [
    {
     "data": {
      "image/png": "[encoded data removed]",
      "text/plain": [
       "Plot with title \"Histogram of y\""
      ]
     },
     "metadata": {
      "image/png": {
       "height": 420,
       "width": 420
      }
     },
     "output_type": "display_data"
    }
   ],
   "source": [
    "y=rnorm(5000, 1, 1)\n",
    "hist(y)"
   ]
  },
  {
   "cell_type": "markdown",
   "id": "2f3df486-8f37-42ed-b142-1371e265d0a4",
   "metadata": {},
   "source": [
    "#### `(6)` 아래와 같은 벡터 x에서 짝수번째 원소 (즉 x[2],x[4],$\\dots$,x[2000])의 합을 구하는 코드를 작성하라 "
   ]
  },
  {
   "cell_type": "code",
   "execution_count": 80,
   "id": "02dbd2f9-e678-4bbd-b6d2-5358e8a5d67c",
   "metadata": {},
   "outputs": [],
   "source": [
    "x=-1000:1000/1000"
   ]
  },
  {
   "cell_type": "code",
   "execution_count": 81,
   "id": "9704fb10-ee87-4b9e-bd9f-f94a3a4f1642",
   "metadata": {},
   "outputs": [],
   "source": [
    "rslt<-c()\n",
    "for (i in range(x)) rslt[i]=sum(x[(1:100) %% 2 == 0 ])"
   ]
  },
  {
   "cell_type": "code",
   "execution_count": 82,
   "id": "40f1f080-be8c-4e3b-a500-328ae7aa638a",
   "metadata": {},
   "outputs": [
    {
     "data": {
      "text/html": [
       "0"
      ],
      "text/latex": [
       "0"
      ],
      "text/markdown": [
       "0"
      ],
      "text/plain": [
       "[1] 0"
      ]
     },
     "metadata": {},
     "output_type": "display_data"
    }
   ],
   "source": [
    "rslt"
   ]
  },
  {
   "cell_type": "markdown",
   "id": "1148aa17-27a7-458d-b4f7-e1af562351f7",
   "metadata": {},
   "source": [
    "#### `(7)` 2021년 A씨의 연봉은 5000이다. 매년 연봉은 3%씩 오른다고 하자. 2030년 A씨의 연봉은 얼마인가? "
   ]
  },
  {
   "cell_type": "code",
   "execution_count": 95,
   "id": "1454721d-e953-4ae6-b114-21e83e7e5a5b",
   "metadata": {},
   "outputs": [
    {
     "data": {
      "text/html": [
       "5154.63917525773"
      ],
      "text/latex": [
       "5154.63917525773"
      ],
      "text/markdown": [
       "5154.63917525773"
      ],
      "text/plain": [
       "[1] 5154.639"
      ]
     },
     "metadata": {},
     "output_type": "display_data"
    }
   ],
   "source": [
    "sal<-c()\n",
    "sal[1]<-5000\n",
    "for (i in 2:30){\n",
    "    sal[i] = sal[i-1] * 0.03\n",
    "}\n",
    "sum(sal)"
   ]
  },
  {
   "cell_type": "markdown",
   "id": "ac8212d6-cf8b-4fe2-8c17-eae8bc015819",
   "metadata": {},
   "source": [
    "#### `(8)` 임의의 입력 $x$에 대하여 아래를 만족하는 함수를 선언하라. "
   ]
  },
  {
   "cell_type": "markdown",
   "id": "328e404d-e10d-41ac-b453-a77edcf3eff6",
   "metadata": {},
   "source": [
    "- $x >0$: $\\log (x)$를 계산하여 출력 \n",
    "- $x =0$: print(\"음의 무한대\")\n",
    "- $x <0$: print(\"x는 양수이어야 합니다.\")"
   ]
  },
  {
   "cell_type": "markdown",
   "id": "750e263a-5dcc-48c8-bd17-7ff67034f15b",
   "metadata": {},
   "source": [
    "#### `(9)` 아래와 같은 데이터프레임이 있다고 하자. "
   ]
  },
  {
   "cell_type": "code",
   "execution_count": 27,
   "id": "a120373f-07df-4a12-9816-b2fddde62c74",
   "metadata": {},
   "outputs": [
    {
     "data": {
      "text/html": [
       "<table class=\"dataframe\">\n",
       "<caption>A tibble: 6 × 2</caption>\n",
       "<thead>\n",
       "\t<tr><th scope=col>X1</th><th scope=col>X2</th></tr>\n",
       "\t<tr><th scope=col>&lt;dbl&gt;</th><th scope=col>&lt;dbl&gt;</th></tr>\n",
       "</thead>\n",
       "<tbody>\n",
       "\t<tr><td> 0.6938151</td><td>-0.75725089</td></tr>\n",
       "\t<tr><td>-0.2084562</td><td> 0.84985207</td></tr>\n",
       "\t<tr><td>-1.4739766</td><td> 0.86302012</td></tr>\n",
       "\t<tr><td> 1.7921239</td><td> 1.48869440</td></tr>\n",
       "\t<tr><td> 0.9970703</td><td>-0.06433907</td></tr>\n",
       "\t<tr><td>-0.7845779</td><td> 0.18918077</td></tr>\n",
       "</tbody>\n",
       "</table>\n"
      ],
      "text/latex": [
       "A tibble: 6 × 2\n",
       "\\begin{tabular}{ll}\n",
       " X1 & X2\\\\\n",
       " <dbl> & <dbl>\\\\\n",
       "\\hline\n",
       "\t  0.6938151 & -0.75725089\\\\\n",
       "\t -0.2084562 &  0.84985207\\\\\n",
       "\t -1.4739766 &  0.86302012\\\\\n",
       "\t  1.7921239 &  1.48869440\\\\\n",
       "\t  0.9970703 & -0.06433907\\\\\n",
       "\t -0.7845779 &  0.18918077\\\\\n",
       "\\end{tabular}\n"
      ],
      "text/markdown": [
       "\n",
       "A tibble: 6 × 2\n",
       "\n",
       "| X1 &lt;dbl&gt; | X2 &lt;dbl&gt; |\n",
       "|---|---|\n",
       "|  0.6938151 | -0.75725089 |\n",
       "| -0.2084562 |  0.84985207 |\n",
       "| -1.4739766 |  0.86302012 |\n",
       "|  1.7921239 |  1.48869440 |\n",
       "|  0.9970703 | -0.06433907 |\n",
       "| -0.7845779 |  0.18918077 |\n",
       "\n"
      ],
      "text/plain": [
       "  X1         X2         \n",
       "1  0.6938151 -0.75725089\n",
       "2 -0.2084562  0.84985207\n",
       "3 -1.4739766  0.86302012\n",
       "4  1.7921239  1.48869440\n",
       "5  0.9970703 -0.06433907\n",
       "6 -0.7845779  0.18918077"
      ]
     },
     "metadata": {},
     "output_type": "display_data"
    }
   ],
   "source": [
    "df=tibble(X1=rnorm(100),X2=rnorm(100))\n",
    "head(df)"
   ]
  },
  {
   "cell_type": "markdown",
   "id": "aa71709c-2459-493e-9cbf-f07e40933074",
   "metadata": {},
   "source": [
    "위의 데이터프레임 df에서 `mutate`를 이용하여 `Z=X1^2+X2^2`을 계산하여 새로운 열 Z를 만들어라. "
   ]
  },
  {
   "cell_type": "code",
   "execution_count": 28,
   "id": "c9dc502f-b2e0-43ba-b1e5-03ee1943ca10",
   "metadata": {},
   "outputs": [
    {
     "data": {
      "text/html": [
       "<table class=\"dataframe\">\n",
       "<caption>A tibble: 100 × 3</caption>\n",
       "<thead>\n",
       "\t<tr><th scope=col>X1</th><th scope=col>X2</th><th scope=col>Z</th></tr>\n",
       "\t<tr><th scope=col>&lt;dbl&gt;</th><th scope=col>&lt;dbl&gt;</th><th scope=col>&lt;dbl&gt;</th></tr>\n",
       "</thead>\n",
       "<tbody>\n",
       "\t<tr><td> 0.69381509</td><td>-0.75725089</td><td>1.05480829</td></tr>\n",
       "\t<tr><td>-0.20845616</td><td> 0.84985207</td><td>0.76570252</td></tr>\n",
       "\t<tr><td>-1.47397662</td><td> 0.86302012</td><td>2.91741080</td></tr>\n",
       "\t<tr><td> 1.79212388</td><td> 1.48869440</td><td>5.42791901</td></tr>\n",
       "\t<tr><td> 0.99707033</td><td>-0.06433907</td><td>0.99828876</td></tr>\n",
       "\t<tr><td>-0.78457785</td><td> 0.18918077</td><td>0.65135177</td></tr>\n",
       "\t<tr><td>-1.63981252</td><td> 0.94166826</td><td>3.57572420</td></tr>\n",
       "\t<tr><td> 0.75881556</td><td> 0.43244355</td><td>0.76280847</td></tr>\n",
       "\t<tr><td> 0.74178003</td><td> 0.50386450</td><td>0.80411705</td></tr>\n",
       "\t<tr><td>-0.05658424</td><td> 0.64127547</td><td>0.41443600</td></tr>\n",
       "\t<tr><td> 0.29846493</td><td>-0.43117809</td><td>0.27499586</td></tr>\n",
       "\t<tr><td> 0.25495365</td><td>-0.63124244</td><td>0.46346838</td></tr>\n",
       "\t<tr><td> 1.03188792</td><td> 0.48136354</td><td>1.29650355</td></tr>\n",
       "\t<tr><td> 0.62759937</td><td> 1.89932288</td><td>4.00130837</td></tr>\n",
       "\t<tr><td>-0.65853748</td><td> 0.12500693</td><td>0.44929834</td></tr>\n",
       "\t<tr><td> 1.23615933</td><td>-0.44407572</td><td>1.72529314</td></tr>\n",
       "\t<tr><td> 0.56577765</td><td>-1.05635875</td><td>1.43599815</td></tr>\n",
       "\t<tr><td> 1.90594747</td><td> 0.86653169</td><td>4.38351292</td></tr>\n",
       "\t<tr><td>-0.52245756</td><td> 2.03108347</td><td>4.39826197</td></tr>\n",
       "\t<tr><td> 1.28439826</td><td> 0.74367301</td><td>2.20272844</td></tr>\n",
       "\t<tr><td> 0.65742209</td><td> 0.58717645</td><td>0.77697999</td></tr>\n",
       "\t<tr><td> 0.13688950</td><td> 1.24641537</td><td>1.57229000</td></tr>\n",
       "\t<tr><td>-1.50945138</td><td>-1.62896760</td><td>4.93197891</td></tr>\n",
       "\t<tr><td>-0.79990219</td><td> 1.40482348</td><td>2.61337254</td></tr>\n",
       "\t<tr><td> 0.24678103</td><td> 1.62815674</td><td>2.71179525</td></tr>\n",
       "\t<tr><td>-1.53794401</td><td>-2.30326894</td><td>7.67031960</td></tr>\n",
       "\t<tr><td> 0.06984895</td><td> 0.13750456</td><td>0.02378638</td></tr>\n",
       "\t<tr><td> 1.28046927</td><td>-1.45642996</td><td>3.76078976</td></tr>\n",
       "\t<tr><td>-0.74043134</td><td>-0.48515674</td><td>0.78361562</td></tr>\n",
       "\t<tr><td>-1.14853213</td><td>-0.70720327</td><td>1.81926252</td></tr>\n",
       "\t<tr><td>⋮</td><td>⋮</td><td>⋮</td></tr>\n",
       "\t<tr><td> 1.18814466</td><td>-0.3380585109</td><td>1.525971292</td></tr>\n",
       "\t<tr><td> 0.86055965</td><td> 1.5468136793</td><td>3.133195463</td></tr>\n",
       "\t<tr><td> 1.12649161</td><td>-0.4415866535</td><td>1.463982111</td></tr>\n",
       "\t<tr><td> 0.56017799</td><td>-0.1297743673</td><td>0.330640772</td></tr>\n",
       "\t<tr><td>-0.89169348</td><td>-0.1352453710</td><td>0.813408581</td></tr>\n",
       "\t<tr><td>-0.19287092</td><td>-0.2017547278</td><td>0.077904160</td></tr>\n",
       "\t<tr><td> 0.60936256</td><td>-0.6499509464</td><td>0.793758962</td></tr>\n",
       "\t<tr><td>-1.65993075</td><td>-0.0001198612</td><td>2.755370106</td></tr>\n",
       "\t<tr><td>-0.21962491</td><td>-1.3924990655</td><td>1.987288749</td></tr>\n",
       "\t<tr><td>-0.36990208</td><td> 0.5854429986</td><td>0.479571051</td></tr>\n",
       "\t<tr><td>-0.47681171</td><td>-0.1754098354</td><td>0.258118019</td></tr>\n",
       "\t<tr><td>-0.73400359</td><td> 1.5894172636</td><td>3.065008502</td></tr>\n",
       "\t<tr><td>-0.55857210</td><td>-0.0360065857</td><td>0.313299267</td></tr>\n",
       "\t<tr><td>-0.61957760</td><td> 1.5976517437</td><td>2.936367501</td></tr>\n",
       "\t<tr><td> 1.16240249</td><td> 0.9560968025</td><td>2.265300643</td></tr>\n",
       "\t<tr><td> 0.60158061</td><td>-0.6576678840</td><td>0.794426274</td></tr>\n",
       "\t<tr><td>-0.07089901</td><td>-0.5004253033</td><td>0.255452154</td></tr>\n",
       "\t<tr><td>-0.05697150</td><td> 0.0714185165</td><td>0.008346357</td></tr>\n",
       "\t<tr><td> 0.40073258</td><td>-1.3335161377</td><td>1.938851891</td></tr>\n",
       "\t<tr><td> 1.72311020</td><td> 0.5837151857</td><td>3.309832181</td></tr>\n",
       "\t<tr><td>-1.09262654</td><td> 1.6525394354</td><td>3.924719340</td></tr>\n",
       "\t<tr><td> 0.24322412</td><td> 0.3406473551</td><td>0.175198592</td></tr>\n",
       "\t<tr><td> 0.91836424</td><td>-0.2825415137</td><td>0.923222583</td></tr>\n",
       "\t<tr><td>-0.47871085</td><td>-0.5070748407</td><td>0.486288971</td></tr>\n",
       "\t<tr><td> 1.53170685</td><td> 0.0761450157</td><td>2.351923926</td></tr>\n",
       "\t<tr><td>-0.04691524</td><td> 0.1414010313</td><td>0.022195292</td></tr>\n",
       "\t<tr><td> 1.10268423</td><td>-1.0542472521</td><td>2.327349788</td></tr>\n",
       "\t<tr><td> 0.77497405</td><td>-0.5428670466</td><td>0.895289412</td></tr>\n",
       "\t<tr><td>-1.12885500</td><td> 1.0790205187</td><td>2.438598891</td></tr>\n",
       "\t<tr><td> 0.05793866</td><td>-0.9363096900</td><td>0.880032724</td></tr>\n",
       "</tbody>\n",
       "</table>\n"
      ],
      "text/latex": [
       "A tibble: 100 × 3\n",
       "\\begin{tabular}{lll}\n",
       " X1 & X2 & Z\\\\\n",
       " <dbl> & <dbl> & <dbl>\\\\\n",
       "\\hline\n",
       "\t  0.69381509 & -0.75725089 & 1.05480829\\\\\n",
       "\t -0.20845616 &  0.84985207 & 0.76570252\\\\\n",
       "\t -1.47397662 &  0.86302012 & 2.91741080\\\\\n",
       "\t  1.79212388 &  1.48869440 & 5.42791901\\\\\n",
       "\t  0.99707033 & -0.06433907 & 0.99828876\\\\\n",
       "\t -0.78457785 &  0.18918077 & 0.65135177\\\\\n",
       "\t -1.63981252 &  0.94166826 & 3.57572420\\\\\n",
       "\t  0.75881556 &  0.43244355 & 0.76280847\\\\\n",
       "\t  0.74178003 &  0.50386450 & 0.80411705\\\\\n",
       "\t -0.05658424 &  0.64127547 & 0.41443600\\\\\n",
       "\t  0.29846493 & -0.43117809 & 0.27499586\\\\\n",
       "\t  0.25495365 & -0.63124244 & 0.46346838\\\\\n",
       "\t  1.03188792 &  0.48136354 & 1.29650355\\\\\n",
       "\t  0.62759937 &  1.89932288 & 4.00130837\\\\\n",
       "\t -0.65853748 &  0.12500693 & 0.44929834\\\\\n",
       "\t  1.23615933 & -0.44407572 & 1.72529314\\\\\n",
       "\t  0.56577765 & -1.05635875 & 1.43599815\\\\\n",
       "\t  1.90594747 &  0.86653169 & 4.38351292\\\\\n",
       "\t -0.52245756 &  2.03108347 & 4.39826197\\\\\n",
       "\t  1.28439826 &  0.74367301 & 2.20272844\\\\\n",
       "\t  0.65742209 &  0.58717645 & 0.77697999\\\\\n",
       "\t  0.13688950 &  1.24641537 & 1.57229000\\\\\n",
       "\t -1.50945138 & -1.62896760 & 4.93197891\\\\\n",
       "\t -0.79990219 &  1.40482348 & 2.61337254\\\\\n",
       "\t  0.24678103 &  1.62815674 & 2.71179525\\\\\n",
       "\t -1.53794401 & -2.30326894 & 7.67031960\\\\\n",
       "\t  0.06984895 &  0.13750456 & 0.02378638\\\\\n",
       "\t  1.28046927 & -1.45642996 & 3.76078976\\\\\n",
       "\t -0.74043134 & -0.48515674 & 0.78361562\\\\\n",
       "\t -1.14853213 & -0.70720327 & 1.81926252\\\\\n",
       "\t ⋮ & ⋮ & ⋮\\\\\n",
       "\t  1.18814466 & -0.3380585109 & 1.525971292\\\\\n",
       "\t  0.86055965 &  1.5468136793 & 3.133195463\\\\\n",
       "\t  1.12649161 & -0.4415866535 & 1.463982111\\\\\n",
       "\t  0.56017799 & -0.1297743673 & 0.330640772\\\\\n",
       "\t -0.89169348 & -0.1352453710 & 0.813408581\\\\\n",
       "\t -0.19287092 & -0.2017547278 & 0.077904160\\\\\n",
       "\t  0.60936256 & -0.6499509464 & 0.793758962\\\\\n",
       "\t -1.65993075 & -0.0001198612 & 2.755370106\\\\\n",
       "\t -0.21962491 & -1.3924990655 & 1.987288749\\\\\n",
       "\t -0.36990208 &  0.5854429986 & 0.479571051\\\\\n",
       "\t -0.47681171 & -0.1754098354 & 0.258118019\\\\\n",
       "\t -0.73400359 &  1.5894172636 & 3.065008502\\\\\n",
       "\t -0.55857210 & -0.0360065857 & 0.313299267\\\\\n",
       "\t -0.61957760 &  1.5976517437 & 2.936367501\\\\\n",
       "\t  1.16240249 &  0.9560968025 & 2.265300643\\\\\n",
       "\t  0.60158061 & -0.6576678840 & 0.794426274\\\\\n",
       "\t -0.07089901 & -0.5004253033 & 0.255452154\\\\\n",
       "\t -0.05697150 &  0.0714185165 & 0.008346357\\\\\n",
       "\t  0.40073258 & -1.3335161377 & 1.938851891\\\\\n",
       "\t  1.72311020 &  0.5837151857 & 3.309832181\\\\\n",
       "\t -1.09262654 &  1.6525394354 & 3.924719340\\\\\n",
       "\t  0.24322412 &  0.3406473551 & 0.175198592\\\\\n",
       "\t  0.91836424 & -0.2825415137 & 0.923222583\\\\\n",
       "\t -0.47871085 & -0.5070748407 & 0.486288971\\\\\n",
       "\t  1.53170685 &  0.0761450157 & 2.351923926\\\\\n",
       "\t -0.04691524 &  0.1414010313 & 0.022195292\\\\\n",
       "\t  1.10268423 & -1.0542472521 & 2.327349788\\\\\n",
       "\t  0.77497405 & -0.5428670466 & 0.895289412\\\\\n",
       "\t -1.12885500 &  1.0790205187 & 2.438598891\\\\\n",
       "\t  0.05793866 & -0.9363096900 & 0.880032724\\\\\n",
       "\\end{tabular}\n"
      ],
      "text/markdown": [
       "\n",
       "A tibble: 100 × 3\n",
       "\n",
       "| X1 &lt;dbl&gt; | X2 &lt;dbl&gt; | Z &lt;dbl&gt; |\n",
       "|---|---|---|\n",
       "|  0.69381509 | -0.75725089 | 1.05480829 |\n",
       "| -0.20845616 |  0.84985207 | 0.76570252 |\n",
       "| -1.47397662 |  0.86302012 | 2.91741080 |\n",
       "|  1.79212388 |  1.48869440 | 5.42791901 |\n",
       "|  0.99707033 | -0.06433907 | 0.99828876 |\n",
       "| -0.78457785 |  0.18918077 | 0.65135177 |\n",
       "| -1.63981252 |  0.94166826 | 3.57572420 |\n",
       "|  0.75881556 |  0.43244355 | 0.76280847 |\n",
       "|  0.74178003 |  0.50386450 | 0.80411705 |\n",
       "| -0.05658424 |  0.64127547 | 0.41443600 |\n",
       "|  0.29846493 | -0.43117809 | 0.27499586 |\n",
       "|  0.25495365 | -0.63124244 | 0.46346838 |\n",
       "|  1.03188792 |  0.48136354 | 1.29650355 |\n",
       "|  0.62759937 |  1.89932288 | 4.00130837 |\n",
       "| -0.65853748 |  0.12500693 | 0.44929834 |\n",
       "|  1.23615933 | -0.44407572 | 1.72529314 |\n",
       "|  0.56577765 | -1.05635875 | 1.43599815 |\n",
       "|  1.90594747 |  0.86653169 | 4.38351292 |\n",
       "| -0.52245756 |  2.03108347 | 4.39826197 |\n",
       "|  1.28439826 |  0.74367301 | 2.20272844 |\n",
       "|  0.65742209 |  0.58717645 | 0.77697999 |\n",
       "|  0.13688950 |  1.24641537 | 1.57229000 |\n",
       "| -1.50945138 | -1.62896760 | 4.93197891 |\n",
       "| -0.79990219 |  1.40482348 | 2.61337254 |\n",
       "|  0.24678103 |  1.62815674 | 2.71179525 |\n",
       "| -1.53794401 | -2.30326894 | 7.67031960 |\n",
       "|  0.06984895 |  0.13750456 | 0.02378638 |\n",
       "|  1.28046927 | -1.45642996 | 3.76078976 |\n",
       "| -0.74043134 | -0.48515674 | 0.78361562 |\n",
       "| -1.14853213 | -0.70720327 | 1.81926252 |\n",
       "| ⋮ | ⋮ | ⋮ |\n",
       "|  1.18814466 | -0.3380585109 | 1.525971292 |\n",
       "|  0.86055965 |  1.5468136793 | 3.133195463 |\n",
       "|  1.12649161 | -0.4415866535 | 1.463982111 |\n",
       "|  0.56017799 | -0.1297743673 | 0.330640772 |\n",
       "| -0.89169348 | -0.1352453710 | 0.813408581 |\n",
       "| -0.19287092 | -0.2017547278 | 0.077904160 |\n",
       "|  0.60936256 | -0.6499509464 | 0.793758962 |\n",
       "| -1.65993075 | -0.0001198612 | 2.755370106 |\n",
       "| -0.21962491 | -1.3924990655 | 1.987288749 |\n",
       "| -0.36990208 |  0.5854429986 | 0.479571051 |\n",
       "| -0.47681171 | -0.1754098354 | 0.258118019 |\n",
       "| -0.73400359 |  1.5894172636 | 3.065008502 |\n",
       "| -0.55857210 | -0.0360065857 | 0.313299267 |\n",
       "| -0.61957760 |  1.5976517437 | 2.936367501 |\n",
       "|  1.16240249 |  0.9560968025 | 2.265300643 |\n",
       "|  0.60158061 | -0.6576678840 | 0.794426274 |\n",
       "| -0.07089901 | -0.5004253033 | 0.255452154 |\n",
       "| -0.05697150 |  0.0714185165 | 0.008346357 |\n",
       "|  0.40073258 | -1.3335161377 | 1.938851891 |\n",
       "|  1.72311020 |  0.5837151857 | 3.309832181 |\n",
       "| -1.09262654 |  1.6525394354 | 3.924719340 |\n",
       "|  0.24322412 |  0.3406473551 | 0.175198592 |\n",
       "|  0.91836424 | -0.2825415137 | 0.923222583 |\n",
       "| -0.47871085 | -0.5070748407 | 0.486288971 |\n",
       "|  1.53170685 |  0.0761450157 | 2.351923926 |\n",
       "| -0.04691524 |  0.1414010313 | 0.022195292 |\n",
       "|  1.10268423 | -1.0542472521 | 2.327349788 |\n",
       "|  0.77497405 | -0.5428670466 | 0.895289412 |\n",
       "| -1.12885500 |  1.0790205187 | 2.438598891 |\n",
       "|  0.05793866 | -0.9363096900 | 0.880032724 |\n",
       "\n"
      ],
      "text/plain": [
       "    X1          X2            Z          \n",
       "1    0.69381509 -0.75725089   1.05480829 \n",
       "2   -0.20845616  0.84985207   0.76570252 \n",
       "3   -1.47397662  0.86302012   2.91741080 \n",
       "4    1.79212388  1.48869440   5.42791901 \n",
       "5    0.99707033 -0.06433907   0.99828876 \n",
       "6   -0.78457785  0.18918077   0.65135177 \n",
       "7   -1.63981252  0.94166826   3.57572420 \n",
       "8    0.75881556  0.43244355   0.76280847 \n",
       "9    0.74178003  0.50386450   0.80411705 \n",
       "10  -0.05658424  0.64127547   0.41443600 \n",
       "11   0.29846493 -0.43117809   0.27499586 \n",
       "12   0.25495365 -0.63124244   0.46346838 \n",
       "13   1.03188792  0.48136354   1.29650355 \n",
       "14   0.62759937  1.89932288   4.00130837 \n",
       "15  -0.65853748  0.12500693   0.44929834 \n",
       "16   1.23615933 -0.44407572   1.72529314 \n",
       "17   0.56577765 -1.05635875   1.43599815 \n",
       "18   1.90594747  0.86653169   4.38351292 \n",
       "19  -0.52245756  2.03108347   4.39826197 \n",
       "20   1.28439826  0.74367301   2.20272844 \n",
       "21   0.65742209  0.58717645   0.77697999 \n",
       "22   0.13688950  1.24641537   1.57229000 \n",
       "23  -1.50945138 -1.62896760   4.93197891 \n",
       "24  -0.79990219  1.40482348   2.61337254 \n",
       "25   0.24678103  1.62815674   2.71179525 \n",
       "26  -1.53794401 -2.30326894   7.67031960 \n",
       "27   0.06984895  0.13750456   0.02378638 \n",
       "28   1.28046927 -1.45642996   3.76078976 \n",
       "29  -0.74043134 -0.48515674   0.78361562 \n",
       "30  -1.14853213 -0.70720327   1.81926252 \n",
       "<U+22EE>   <U+22EE>    <U+22EE>      <U+22EE>   \n",
       "71   1.18814466 -0.3380585109 1.525971292\n",
       "72   0.86055965  1.5468136793 3.133195463\n",
       "73   1.12649161 -0.4415866535 1.463982111\n",
       "74   0.56017799 -0.1297743673 0.330640772\n",
       "75  -0.89169348 -0.1352453710 0.813408581\n",
       "76  -0.19287092 -0.2017547278 0.077904160\n",
       "77   0.60936256 -0.6499509464 0.793758962\n",
       "78  -1.65993075 -0.0001198612 2.755370106\n",
       "79  -0.21962491 -1.3924990655 1.987288749\n",
       "80  -0.36990208  0.5854429986 0.479571051\n",
       "81  -0.47681171 -0.1754098354 0.258118019\n",
       "82  -0.73400359  1.5894172636 3.065008502\n",
       "83  -0.55857210 -0.0360065857 0.313299267\n",
       "84  -0.61957760  1.5976517437 2.936367501\n",
       "85   1.16240249  0.9560968025 2.265300643\n",
       "86   0.60158061 -0.6576678840 0.794426274\n",
       "87  -0.07089901 -0.5004253033 0.255452154\n",
       "88  -0.05697150  0.0714185165 0.008346357\n",
       "89   0.40073258 -1.3335161377 1.938851891\n",
       "90   1.72311020  0.5837151857 3.309832181\n",
       "91  -1.09262654  1.6525394354 3.924719340\n",
       "92   0.24322412  0.3406473551 0.175198592\n",
       "93   0.91836424 -0.2825415137 0.923222583\n",
       "94  -0.47871085 -0.5070748407 0.486288971\n",
       "95   1.53170685  0.0761450157 2.351923926\n",
       "96  -0.04691524  0.1414010313 0.022195292\n",
       "97   1.10268423 -1.0542472521 2.327349788\n",
       "98   0.77497405 -0.5428670466 0.895289412\n",
       "99  -1.12885500  1.0790205187 2.438598891\n",
       "100  0.05793866 -0.9363096900 0.880032724"
      ]
     },
     "metadata": {},
     "output_type": "display_data"
    }
   ],
   "source": [
    "df %>% mutate(Z=X1^2 + X2^2)"
   ]
  },
  {
   "cell_type": "markdown",
   "id": "fdd57b34-45c6-41e0-a9ec-0e3bcf096a39",
   "metadata": {
    "tags": []
   },
   "source": [
    "#### `(10)` 아래와 같은 매트릭스에서 `apply`함수를 이용하여 각 행의 합과 각 열의 합을 구하라 "
   ]
  },
  {
   "cell_type": "code",
   "execution_count": 78,
   "id": "4dce282e-0765-47de-9fc4-2d55df4c4372",
   "metadata": {},
   "outputs": [
    {
     "name": "stdout",
     "output_type": "stream",
     "text": [
      "      [,1] [,2] [,3] [,4] [,5] [,6] [,7] [,8] [,9] [,10]\n",
      " [1,]    2    3    3    2    2    3    1    3    3     3\n",
      " [2,]    1    3    3    4    2    2    4    2    2     1\n",
      " [3,]    2    2    2    2    4    4    2    3    3     3\n",
      " [4,]    3    2    4    5    2    5    1    4    2     2\n",
      " [5,]    2    2    2    2    1    4    2    2    3     4\n",
      " [6,]    5    1    3    1    1    3    4    2    4     3\n",
      " [7,]    4    3    4    3    2    3    2    3    0     1\n",
      " [8,]    4    4    2    3    2    3    3    0    4     2\n",
      " [9,]    5    5    4    3    2    4    4    4    1     4\n",
      "[10,]    2    4    4    3    1    3    3    2    1     2\n"
     ]
    }
   ],
   "source": [
    "set.seed(1221)\n",
    "mat = rbinom(n=100,size=5,prob=0.5)\n",
    "dim(mat)=c(10,10)\n",
    "print(mat)"
   ]
  },
  {
   "cell_type": "markdown",
   "id": "5412d8eb-a07a-4f74-92e0-754d1753f8ac",
   "metadata": {},
   "source": [
    "즉 아래를 구하라 "
   ]
  },
  {
   "cell_type": "markdown",
   "id": "8dded61e-e395-4bc4-a2a5-f936b30029eb",
   "metadata": {},
   "source": [
    "`-` 각 행의 합\n",
    "- 1행의 합 = 2+3+3+ ... +3+3+3 \n",
    "- ...\n",
    "- 10행의 합 = 2+4+4+ ... +2+1+2"
   ]
  },
  {
   "cell_type": "markdown",
   "id": "1600d9a5-363e-4ffd-a756-90bb4dcbd4c3",
   "metadata": {},
   "source": [
    "`-` 각 열의 합\n",
    "- 1열의 합 = 2+1+2+ ... +4+5+2\n",
    "- ...\n",
    "- 10열의 합 = 3+1+3+ ... +2+4+2"
   ]
  },
  {
   "cell_type": "markdown",
   "id": "9ce31908-cc7a-48e0-89b6-6117a143c13c",
   "metadata": {
    "tags": []
   },
   "source": [
    "## `6`. 다음을 잘 읽고 물음에 답하라. (20점)"
   ]
  },
  {
   "cell_type": "markdown",
   "id": "24d014aa-d2c5-417f-afcd-c4bbc35f6403",
   "metadata": {},
   "source": [
    "#### `(1)` 자료 $x_1,x_2,\\dots, x_{50}$에 대하여 다음 과정을 순서대로 시행하였다."
   ]
  },
  {
   "cell_type": "markdown",
   "id": "35ad820e-3421-4c0a-a40c-38c78942ed83",
   "metadata": {},
   "source": [
    "(가) 처음 두 수 $x_1$과 $x_2$의 평균을 구한다. \n",
    "\n",
    "(나) $x_3$을 추가하여 $x_1, x_2, x_3$의 평균을 구한다. \n",
    "\n",
    "(다) $x_4$을 추가하여 $x_1, x_2, x_3, x_4$의 평균을 구한다. \n",
    "\n",
    "...\n",
    "\n",
    "$x_{50}$을 추가하여 $x_1, x_2, x_3 ,\\dots , x_{50}$의 평균을 구한다. "
   ]
  },
  {
   "cell_type": "markdown",
   "id": "4a30daaa-66ce-4344-8ef5-722e8ffb0006",
   "metadata": {},
   "source": [
    "위의 과정을 시행할 결과, $x_1$과 $x_2$의 평균이 5이고, 자료 하나가 추가될때 마다 평균이 1씩 증가하였다. 이때 $x_{50}$의 값은? "
   ]
  },
  {
   "cell_type": "markdown",
   "id": "2e2653d1-f565-4900-ad35-4431ed1d074d",
   "metadata": {
    "tags": []
   },
   "source": [
    "#### `(2)` 복도의 라커 \n",
    "\n",
    "복도에 100개의 라커가 있다. 복도를 어떤 남자가 **짝수번호**의 라커를 모두 연다. 그리고 나서 3의 배수의 라커를 전부 닫는다. 그 다음에는 번호가 4의 배수인 라커를 순서대로 찾아다니며 열려 있으면 닫고, 닫혀 있으면 연다. 그 다음에는 번호가 5의 배수인 라커를 순서대로 찾아다니며 열려있으면 닫고, 닫혀있으면 연다. 이후에 6의 배수, 7의 배수 .. 인 라커를 순서대로 찾아다니며 행동을 반복한다. 이런식으로 복도를 **50번** 지나가면 열린 라커의 문은 몇개가 되겠는가? (주의: 중간고사문제와 약간다릅니다, 다른부분은 볼드체 표시했습니다)"
   ]
  },
  {
   "cell_type": "code",
   "execution_count": 58,
   "id": "e9b99fa5-05db-46ce-a417-1eb0856fbea1",
   "metadata": {},
   "outputs": [
    {
     "data": {
      "text/html": [
       "<style>\n",
       ".list-inline {list-style: none; margin:0; padding: 0}\n",
       ".list-inline>li {display: inline-block}\n",
       ".list-inline>li:not(:last-child)::after {content: \"\\00b7\"; padding: 0 .5ex}\n",
       "</style>\n",
       "<ol class=list-inline><li>FALSE</li><li>FALSE</li><li>FALSE</li><li>FALSE</li><li>FALSE</li><li>FALSE</li><li>FALSE</li><li>FALSE</li><li>FALSE</li><li>FALSE</li><li>FALSE</li><li>FALSE</li><li>FALSE</li><li>FALSE</li><li>FALSE</li><li>FALSE</li><li>FALSE</li><li>FALSE</li><li>FALSE</li><li>FALSE</li><li>FALSE</li><li>FALSE</li><li>FALSE</li><li>FALSE</li><li>FALSE</li><li>FALSE</li><li>FALSE</li><li>FALSE</li><li>FALSE</li><li>FALSE</li><li>FALSE</li><li>FALSE</li><li>FALSE</li><li>FALSE</li><li>FALSE</li><li>FALSE</li><li>FALSE</li><li>FALSE</li><li>FALSE</li><li>FALSE</li><li>FALSE</li><li>FALSE</li><li>FALSE</li><li>FALSE</li><li>FALSE</li><li>FALSE</li><li>FALSE</li><li>FALSE</li><li>FALSE</li><li>FALSE</li><li>FALSE</li><li>FALSE</li><li>FALSE</li><li>FALSE</li><li>FALSE</li><li>FALSE</li><li>FALSE</li><li>FALSE</li><li>FALSE</li><li>FALSE</li><li>FALSE</li><li>FALSE</li><li>FALSE</li><li>FALSE</li><li>FALSE</li><li>FALSE</li><li>FALSE</li><li>FALSE</li><li>FALSE</li><li>FALSE</li><li>FALSE</li><li>FALSE</li><li>FALSE</li><li>FALSE</li><li>FALSE</li><li>FALSE</li><li>FALSE</li><li>FALSE</li><li>FALSE</li><li>FALSE</li><li>FALSE</li><li>FALSE</li><li>FALSE</li><li>FALSE</li><li>FALSE</li><li>FALSE</li><li>FALSE</li><li>FALSE</li><li>FALSE</li><li>FALSE</li><li>FALSE</li><li>FALSE</li><li>FALSE</li><li>FALSE</li><li>FALSE</li><li>FALSE</li><li>FALSE</li><li>FALSE</li><li>FALSE</li><li>FALSE</li></ol>\n"
      ],
      "text/latex": [
       "\\begin{enumerate*}\n",
       "\\item FALSE\n",
       "\\item FALSE\n",
       "\\item FALSE\n",
       "\\item FALSE\n",
       "\\item FALSE\n",
       "\\item FALSE\n",
       "\\item FALSE\n",
       "\\item FALSE\n",
       "\\item FALSE\n",
       "\\item FALSE\n",
       "\\item FALSE\n",
       "\\item FALSE\n",
       "\\item FALSE\n",
       "\\item FALSE\n",
       "\\item FALSE\n",
       "\\item FALSE\n",
       "\\item FALSE\n",
       "\\item FALSE\n",
       "\\item FALSE\n",
       "\\item FALSE\n",
       "\\item FALSE\n",
       "\\item FALSE\n",
       "\\item FALSE\n",
       "\\item FALSE\n",
       "\\item FALSE\n",
       "\\item FALSE\n",
       "\\item FALSE\n",
       "\\item FALSE\n",
       "\\item FALSE\n",
       "\\item FALSE\n",
       "\\item FALSE\n",
       "\\item FALSE\n",
       "\\item FALSE\n",
       "\\item FALSE\n",
       "\\item FALSE\n",
       "\\item FALSE\n",
       "\\item FALSE\n",
       "\\item FALSE\n",
       "\\item FALSE\n",
       "\\item FALSE\n",
       "\\item FALSE\n",
       "\\item FALSE\n",
       "\\item FALSE\n",
       "\\item FALSE\n",
       "\\item FALSE\n",
       "\\item FALSE\n",
       "\\item FALSE\n",
       "\\item FALSE\n",
       "\\item FALSE\n",
       "\\item FALSE\n",
       "\\item FALSE\n",
       "\\item FALSE\n",
       "\\item FALSE\n",
       "\\item FALSE\n",
       "\\item FALSE\n",
       "\\item FALSE\n",
       "\\item FALSE\n",
       "\\item FALSE\n",
       "\\item FALSE\n",
       "\\item FALSE\n",
       "\\item FALSE\n",
       "\\item FALSE\n",
       "\\item FALSE\n",
       "\\item FALSE\n",
       "\\item FALSE\n",
       "\\item FALSE\n",
       "\\item FALSE\n",
       "\\item FALSE\n",
       "\\item FALSE\n",
       "\\item FALSE\n",
       "\\item FALSE\n",
       "\\item FALSE\n",
       "\\item FALSE\n",
       "\\item FALSE\n",
       "\\item FALSE\n",
       "\\item FALSE\n",
       "\\item FALSE\n",
       "\\item FALSE\n",
       "\\item FALSE\n",
       "\\item FALSE\n",
       "\\item FALSE\n",
       "\\item FALSE\n",
       "\\item FALSE\n",
       "\\item FALSE\n",
       "\\item FALSE\n",
       "\\item FALSE\n",
       "\\item FALSE\n",
       "\\item FALSE\n",
       "\\item FALSE\n",
       "\\item FALSE\n",
       "\\item FALSE\n",
       "\\item FALSE\n",
       "\\item FALSE\n",
       "\\item FALSE\n",
       "\\item FALSE\n",
       "\\item FALSE\n",
       "\\item FALSE\n",
       "\\item FALSE\n",
       "\\item FALSE\n",
       "\\item FALSE\n",
       "\\end{enumerate*}\n"
      ],
      "text/markdown": [
       "1. FALSE\n",
       "2. FALSE\n",
       "3. FALSE\n",
       "4. FALSE\n",
       "5. FALSE\n",
       "6. FALSE\n",
       "7. FALSE\n",
       "8. FALSE\n",
       "9. FALSE\n",
       "10. FALSE\n",
       "11. FALSE\n",
       "12. FALSE\n",
       "13. FALSE\n",
       "14. FALSE\n",
       "15. FALSE\n",
       "16. FALSE\n",
       "17. FALSE\n",
       "18. FALSE\n",
       "19. FALSE\n",
       "20. FALSE\n",
       "21. FALSE\n",
       "22. FALSE\n",
       "23. FALSE\n",
       "24. FALSE\n",
       "25. FALSE\n",
       "26. FALSE\n",
       "27. FALSE\n",
       "28. FALSE\n",
       "29. FALSE\n",
       "30. FALSE\n",
       "31. FALSE\n",
       "32. FALSE\n",
       "33. FALSE\n",
       "34. FALSE\n",
       "35. FALSE\n",
       "36. FALSE\n",
       "37. FALSE\n",
       "38. FALSE\n",
       "39. FALSE\n",
       "40. FALSE\n",
       "41. FALSE\n",
       "42. FALSE\n",
       "43. FALSE\n",
       "44. FALSE\n",
       "45. FALSE\n",
       "46. FALSE\n",
       "47. FALSE\n",
       "48. FALSE\n",
       "49. FALSE\n",
       "50. FALSE\n",
       "51. FALSE\n",
       "52. FALSE\n",
       "53. FALSE\n",
       "54. FALSE\n",
       "55. FALSE\n",
       "56. FALSE\n",
       "57. FALSE\n",
       "58. FALSE\n",
       "59. FALSE\n",
       "60. FALSE\n",
       "61. FALSE\n",
       "62. FALSE\n",
       "63. FALSE\n",
       "64. FALSE\n",
       "65. FALSE\n",
       "66. FALSE\n",
       "67. FALSE\n",
       "68. FALSE\n",
       "69. FALSE\n",
       "70. FALSE\n",
       "71. FALSE\n",
       "72. FALSE\n",
       "73. FALSE\n",
       "74. FALSE\n",
       "75. FALSE\n",
       "76. FALSE\n",
       "77. FALSE\n",
       "78. FALSE\n",
       "79. FALSE\n",
       "80. FALSE\n",
       "81. FALSE\n",
       "82. FALSE\n",
       "83. FALSE\n",
       "84. FALSE\n",
       "85. FALSE\n",
       "86. FALSE\n",
       "87. FALSE\n",
       "88. FALSE\n",
       "89. FALSE\n",
       "90. FALSE\n",
       "91. FALSE\n",
       "92. FALSE\n",
       "93. FALSE\n",
       "94. FALSE\n",
       "95. FALSE\n",
       "96. FALSE\n",
       "97. FALSE\n",
       "98. FALSE\n",
       "99. FALSE\n",
       "100. FALSE\n",
       "\n",
       "\n"
      ],
      "text/plain": [
       "  [1] FALSE FALSE FALSE FALSE FALSE FALSE FALSE FALSE FALSE FALSE FALSE FALSE\n",
       " [13] FALSE FALSE FALSE FALSE FALSE FALSE FALSE FALSE FALSE FALSE FALSE FALSE\n",
       " [25] FALSE FALSE FALSE FALSE FALSE FALSE FALSE FALSE FALSE FALSE FALSE FALSE\n",
       " [37] FALSE FALSE FALSE FALSE FALSE FALSE FALSE FALSE FALSE FALSE FALSE FALSE\n",
       " [49] FALSE FALSE FALSE FALSE FALSE FALSE FALSE FALSE FALSE FALSE FALSE FALSE\n",
       " [61] FALSE FALSE FALSE FALSE FALSE FALSE FALSE FALSE FALSE FALSE FALSE FALSE\n",
       " [73] FALSE FALSE FALSE FALSE FALSE FALSE FALSE FALSE FALSE FALSE FALSE FALSE\n",
       " [85] FALSE FALSE FALSE FALSE FALSE FALSE FALSE FALSE FALSE FALSE FALSE FALSE\n",
       " [97] FALSE FALSE FALSE FALSE"
      ]
     },
     "metadata": {},
     "output_type": "display_data"
    }
   ],
   "source": [
    "x=rep(FALSE, 100)\n",
    "x"
   ]
  },
  {
   "cell_type": "code",
   "execution_count": 59,
   "id": "ff092959-61eb-4bc6-b8e7-0a5e9aac98f4",
   "metadata": {},
   "outputs": [],
   "source": [
    "f <- function(x) !x"
   ]
  },
  {
   "cell_type": "code",
   "execution_count": 60,
   "id": "24bc97cc-1c9c-43da-96f5-331c3f07bdf5",
   "metadata": {},
   "outputs": [
    {
     "data": {
      "text/html": [
       "<style>\n",
       ".list-inline {list-style: none; margin:0; padding: 0}\n",
       ".list-inline>li {display: inline-block}\n",
       ".list-inline>li:not(:last-child)::after {content: \"\\00b7\"; padding: 0 .5ex}\n",
       "</style>\n",
       "<ol class=list-inline><li>FALSE</li><li>TRUE</li><li>FALSE</li><li>TRUE</li><li>FALSE</li><li>TRUE</li><li>FALSE</li><li>TRUE</li><li>FALSE</li><li>TRUE</li><li>FALSE</li><li>TRUE</li><li>FALSE</li><li>TRUE</li><li>FALSE</li><li>TRUE</li><li>FALSE</li><li>TRUE</li><li>FALSE</li><li>TRUE</li><li>FALSE</li><li>TRUE</li><li>FALSE</li><li>TRUE</li><li>FALSE</li><li>TRUE</li><li>FALSE</li><li>TRUE</li><li>FALSE</li><li>TRUE</li><li>FALSE</li><li>TRUE</li><li>FALSE</li><li>TRUE</li><li>FALSE</li><li>TRUE</li><li>FALSE</li><li>TRUE</li><li>FALSE</li><li>TRUE</li><li>FALSE</li><li>TRUE</li><li>FALSE</li><li>TRUE</li><li>FALSE</li><li>TRUE</li><li>FALSE</li><li>TRUE</li><li>FALSE</li><li>TRUE</li><li>FALSE</li><li>TRUE</li><li>FALSE</li><li>TRUE</li><li>FALSE</li><li>TRUE</li><li>FALSE</li><li>TRUE</li><li>FALSE</li><li>TRUE</li><li>FALSE</li><li>TRUE</li><li>FALSE</li><li>TRUE</li><li>FALSE</li><li>TRUE</li><li>FALSE</li><li>TRUE</li><li>FALSE</li><li>TRUE</li><li>FALSE</li><li>TRUE</li><li>FALSE</li><li>TRUE</li><li>FALSE</li><li>TRUE</li><li>FALSE</li><li>TRUE</li><li>FALSE</li><li>TRUE</li><li>FALSE</li><li>TRUE</li><li>FALSE</li><li>TRUE</li><li>FALSE</li><li>TRUE</li><li>FALSE</li><li>TRUE</li><li>FALSE</li><li>TRUE</li><li>FALSE</li><li>TRUE</li><li>FALSE</li><li>TRUE</li><li>FALSE</li><li>TRUE</li><li>FALSE</li><li>TRUE</li><li>FALSE</li><li>TRUE</li></ol>\n"
      ],
      "text/latex": [
       "\\begin{enumerate*}\n",
       "\\item FALSE\n",
       "\\item TRUE\n",
       "\\item FALSE\n",
       "\\item TRUE\n",
       "\\item FALSE\n",
       "\\item TRUE\n",
       "\\item FALSE\n",
       "\\item TRUE\n",
       "\\item FALSE\n",
       "\\item TRUE\n",
       "\\item FALSE\n",
       "\\item TRUE\n",
       "\\item FALSE\n",
       "\\item TRUE\n",
       "\\item FALSE\n",
       "\\item TRUE\n",
       "\\item FALSE\n",
       "\\item TRUE\n",
       "\\item FALSE\n",
       "\\item TRUE\n",
       "\\item FALSE\n",
       "\\item TRUE\n",
       "\\item FALSE\n",
       "\\item TRUE\n",
       "\\item FALSE\n",
       "\\item TRUE\n",
       "\\item FALSE\n",
       "\\item TRUE\n",
       "\\item FALSE\n",
       "\\item TRUE\n",
       "\\item FALSE\n",
       "\\item TRUE\n",
       "\\item FALSE\n",
       "\\item TRUE\n",
       "\\item FALSE\n",
       "\\item TRUE\n",
       "\\item FALSE\n",
       "\\item TRUE\n",
       "\\item FALSE\n",
       "\\item TRUE\n",
       "\\item FALSE\n",
       "\\item TRUE\n",
       "\\item FALSE\n",
       "\\item TRUE\n",
       "\\item FALSE\n",
       "\\item TRUE\n",
       "\\item FALSE\n",
       "\\item TRUE\n",
       "\\item FALSE\n",
       "\\item TRUE\n",
       "\\item FALSE\n",
       "\\item TRUE\n",
       "\\item FALSE\n",
       "\\item TRUE\n",
       "\\item FALSE\n",
       "\\item TRUE\n",
       "\\item FALSE\n",
       "\\item TRUE\n",
       "\\item FALSE\n",
       "\\item TRUE\n",
       "\\item FALSE\n",
       "\\item TRUE\n",
       "\\item FALSE\n",
       "\\item TRUE\n",
       "\\item FALSE\n",
       "\\item TRUE\n",
       "\\item FALSE\n",
       "\\item TRUE\n",
       "\\item FALSE\n",
       "\\item TRUE\n",
       "\\item FALSE\n",
       "\\item TRUE\n",
       "\\item FALSE\n",
       "\\item TRUE\n",
       "\\item FALSE\n",
       "\\item TRUE\n",
       "\\item FALSE\n",
       "\\item TRUE\n",
       "\\item FALSE\n",
       "\\item TRUE\n",
       "\\item FALSE\n",
       "\\item TRUE\n",
       "\\item FALSE\n",
       "\\item TRUE\n",
       "\\item FALSE\n",
       "\\item TRUE\n",
       "\\item FALSE\n",
       "\\item TRUE\n",
       "\\item FALSE\n",
       "\\item TRUE\n",
       "\\item FALSE\n",
       "\\item TRUE\n",
       "\\item FALSE\n",
       "\\item TRUE\n",
       "\\item FALSE\n",
       "\\item TRUE\n",
       "\\item FALSE\n",
       "\\item TRUE\n",
       "\\item FALSE\n",
       "\\item TRUE\n",
       "\\end{enumerate*}\n"
      ],
      "text/markdown": [
       "1. FALSE\n",
       "2. TRUE\n",
       "3. FALSE\n",
       "4. TRUE\n",
       "5. FALSE\n",
       "6. TRUE\n",
       "7. FALSE\n",
       "8. TRUE\n",
       "9. FALSE\n",
       "10. TRUE\n",
       "11. FALSE\n",
       "12. TRUE\n",
       "13. FALSE\n",
       "14. TRUE\n",
       "15. FALSE\n",
       "16. TRUE\n",
       "17. FALSE\n",
       "18. TRUE\n",
       "19. FALSE\n",
       "20. TRUE\n",
       "21. FALSE\n",
       "22. TRUE\n",
       "23. FALSE\n",
       "24. TRUE\n",
       "25. FALSE\n",
       "26. TRUE\n",
       "27. FALSE\n",
       "28. TRUE\n",
       "29. FALSE\n",
       "30. TRUE\n",
       "31. FALSE\n",
       "32. TRUE\n",
       "33. FALSE\n",
       "34. TRUE\n",
       "35. FALSE\n",
       "36. TRUE\n",
       "37. FALSE\n",
       "38. TRUE\n",
       "39. FALSE\n",
       "40. TRUE\n",
       "41. FALSE\n",
       "42. TRUE\n",
       "43. FALSE\n",
       "44. TRUE\n",
       "45. FALSE\n",
       "46. TRUE\n",
       "47. FALSE\n",
       "48. TRUE\n",
       "49. FALSE\n",
       "50. TRUE\n",
       "51. FALSE\n",
       "52. TRUE\n",
       "53. FALSE\n",
       "54. TRUE\n",
       "55. FALSE\n",
       "56. TRUE\n",
       "57. FALSE\n",
       "58. TRUE\n",
       "59. FALSE\n",
       "60. TRUE\n",
       "61. FALSE\n",
       "62. TRUE\n",
       "63. FALSE\n",
       "64. TRUE\n",
       "65. FALSE\n",
       "66. TRUE\n",
       "67. FALSE\n",
       "68. TRUE\n",
       "69. FALSE\n",
       "70. TRUE\n",
       "71. FALSE\n",
       "72. TRUE\n",
       "73. FALSE\n",
       "74. TRUE\n",
       "75. FALSE\n",
       "76. TRUE\n",
       "77. FALSE\n",
       "78. TRUE\n",
       "79. FALSE\n",
       "80. TRUE\n",
       "81. FALSE\n",
       "82. TRUE\n",
       "83. FALSE\n",
       "84. TRUE\n",
       "85. FALSE\n",
       "86. TRUE\n",
       "87. FALSE\n",
       "88. TRUE\n",
       "89. FALSE\n",
       "90. TRUE\n",
       "91. FALSE\n",
       "92. TRUE\n",
       "93. FALSE\n",
       "94. TRUE\n",
       "95. FALSE\n",
       "96. TRUE\n",
       "97. FALSE\n",
       "98. TRUE\n",
       "99. FALSE\n",
       "100. TRUE\n",
       "\n",
       "\n"
      ],
      "text/plain": [
       "  [1] FALSE  TRUE FALSE  TRUE FALSE  TRUE FALSE  TRUE FALSE  TRUE FALSE  TRUE\n",
       " [13] FALSE  TRUE FALSE  TRUE FALSE  TRUE FALSE  TRUE FALSE  TRUE FALSE  TRUE\n",
       " [25] FALSE  TRUE FALSE  TRUE FALSE  TRUE FALSE  TRUE FALSE  TRUE FALSE  TRUE\n",
       " [37] FALSE  TRUE FALSE  TRUE FALSE  TRUE FALSE  TRUE FALSE  TRUE FALSE  TRUE\n",
       " [49] FALSE  TRUE FALSE  TRUE FALSE  TRUE FALSE  TRUE FALSE  TRUE FALSE  TRUE\n",
       " [61] FALSE  TRUE FALSE  TRUE FALSE  TRUE FALSE  TRUE FALSE  TRUE FALSE  TRUE\n",
       " [73] FALSE  TRUE FALSE  TRUE FALSE  TRUE FALSE  TRUE FALSE  TRUE FALSE  TRUE\n",
       " [85] FALSE  TRUE FALSE  TRUE FALSE  TRUE FALSE  TRUE FALSE  TRUE FALSE  TRUE\n",
       " [97] FALSE  TRUE FALSE  TRUE"
      ]
     },
     "metadata": {},
     "output_type": "display_data"
    }
   ],
   "source": [
    "x[(1:100) %% 2 == 0 ] <- x[(1:100) %% 2 == 0 ] %>% f \n",
    "x"
   ]
  },
  {
   "cell_type": "code",
   "execution_count": 62,
   "id": "71f0eb17-08af-43b2-b183-0d8d2b6ed650",
   "metadata": {},
   "outputs": [
    {
     "data": {
      "text/html": [
       "<style>\n",
       ".list-inline {list-style: none; margin:0; padding: 0}\n",
       ".list-inline>li {display: inline-block}\n",
       ".list-inline>li:not(:last-child)::after {content: \"\\00b7\"; padding: 0 .5ex}\n",
       "</style>\n",
       "<ol class=list-inline><li>FALSE</li><li>TRUE</li><li>FALSE</li><li>TRUE</li><li>FALSE</li><li>FALSE</li><li>FALSE</li><li>TRUE</li><li>FALSE</li><li>TRUE</li><li>FALSE</li><li>FALSE</li><li>FALSE</li><li>TRUE</li><li>FALSE</li><li>TRUE</li><li>FALSE</li><li>FALSE</li><li>FALSE</li><li>TRUE</li><li>FALSE</li><li>TRUE</li><li>FALSE</li><li>FALSE</li><li>FALSE</li><li>TRUE</li><li>FALSE</li><li>TRUE</li><li>FALSE</li><li>FALSE</li><li>FALSE</li><li>TRUE</li><li>FALSE</li><li>TRUE</li><li>FALSE</li><li>FALSE</li><li>FALSE</li><li>TRUE</li><li>FALSE</li><li>TRUE</li><li>FALSE</li><li>FALSE</li><li>FALSE</li><li>TRUE</li><li>FALSE</li><li>TRUE</li><li>FALSE</li><li>FALSE</li><li>FALSE</li><li>TRUE</li><li>FALSE</li><li>TRUE</li><li>FALSE</li><li>FALSE</li><li>FALSE</li><li>TRUE</li><li>FALSE</li><li>TRUE</li><li>FALSE</li><li>FALSE</li><li>FALSE</li><li>TRUE</li><li>FALSE</li><li>TRUE</li><li>FALSE</li><li>FALSE</li><li>FALSE</li><li>TRUE</li><li>FALSE</li><li>TRUE</li><li>FALSE</li><li>FALSE</li><li>FALSE</li><li>TRUE</li><li>FALSE</li><li>TRUE</li><li>FALSE</li><li>FALSE</li><li>FALSE</li><li>TRUE</li><li>FALSE</li><li>TRUE</li><li>FALSE</li><li>FALSE</li><li>FALSE</li><li>TRUE</li><li>FALSE</li><li>TRUE</li><li>FALSE</li><li>FALSE</li><li>FALSE</li><li>TRUE</li><li>FALSE</li><li>TRUE</li><li>FALSE</li><li>FALSE</li><li>FALSE</li><li>TRUE</li><li>FALSE</li><li>TRUE</li></ol>\n"
      ],
      "text/latex": [
       "\\begin{enumerate*}\n",
       "\\item FALSE\n",
       "\\item TRUE\n",
       "\\item FALSE\n",
       "\\item TRUE\n",
       "\\item FALSE\n",
       "\\item FALSE\n",
       "\\item FALSE\n",
       "\\item TRUE\n",
       "\\item FALSE\n",
       "\\item TRUE\n",
       "\\item FALSE\n",
       "\\item FALSE\n",
       "\\item FALSE\n",
       "\\item TRUE\n",
       "\\item FALSE\n",
       "\\item TRUE\n",
       "\\item FALSE\n",
       "\\item FALSE\n",
       "\\item FALSE\n",
       "\\item TRUE\n",
       "\\item FALSE\n",
       "\\item TRUE\n",
       "\\item FALSE\n",
       "\\item FALSE\n",
       "\\item FALSE\n",
       "\\item TRUE\n",
       "\\item FALSE\n",
       "\\item TRUE\n",
       "\\item FALSE\n",
       "\\item FALSE\n",
       "\\item FALSE\n",
       "\\item TRUE\n",
       "\\item FALSE\n",
       "\\item TRUE\n",
       "\\item FALSE\n",
       "\\item FALSE\n",
       "\\item FALSE\n",
       "\\item TRUE\n",
       "\\item FALSE\n",
       "\\item TRUE\n",
       "\\item FALSE\n",
       "\\item FALSE\n",
       "\\item FALSE\n",
       "\\item TRUE\n",
       "\\item FALSE\n",
       "\\item TRUE\n",
       "\\item FALSE\n",
       "\\item FALSE\n",
       "\\item FALSE\n",
       "\\item TRUE\n",
       "\\item FALSE\n",
       "\\item TRUE\n",
       "\\item FALSE\n",
       "\\item FALSE\n",
       "\\item FALSE\n",
       "\\item TRUE\n",
       "\\item FALSE\n",
       "\\item TRUE\n",
       "\\item FALSE\n",
       "\\item FALSE\n",
       "\\item FALSE\n",
       "\\item TRUE\n",
       "\\item FALSE\n",
       "\\item TRUE\n",
       "\\item FALSE\n",
       "\\item FALSE\n",
       "\\item FALSE\n",
       "\\item TRUE\n",
       "\\item FALSE\n",
       "\\item TRUE\n",
       "\\item FALSE\n",
       "\\item FALSE\n",
       "\\item FALSE\n",
       "\\item TRUE\n",
       "\\item FALSE\n",
       "\\item TRUE\n",
       "\\item FALSE\n",
       "\\item FALSE\n",
       "\\item FALSE\n",
       "\\item TRUE\n",
       "\\item FALSE\n",
       "\\item TRUE\n",
       "\\item FALSE\n",
       "\\item FALSE\n",
       "\\item FALSE\n",
       "\\item TRUE\n",
       "\\item FALSE\n",
       "\\item TRUE\n",
       "\\item FALSE\n",
       "\\item FALSE\n",
       "\\item FALSE\n",
       "\\item TRUE\n",
       "\\item FALSE\n",
       "\\item TRUE\n",
       "\\item FALSE\n",
       "\\item FALSE\n",
       "\\item FALSE\n",
       "\\item TRUE\n",
       "\\item FALSE\n",
       "\\item TRUE\n",
       "\\end{enumerate*}\n"
      ],
      "text/markdown": [
       "1. FALSE\n",
       "2. TRUE\n",
       "3. FALSE\n",
       "4. TRUE\n",
       "5. FALSE\n",
       "6. FALSE\n",
       "7. FALSE\n",
       "8. TRUE\n",
       "9. FALSE\n",
       "10. TRUE\n",
       "11. FALSE\n",
       "12. FALSE\n",
       "13. FALSE\n",
       "14. TRUE\n",
       "15. FALSE\n",
       "16. TRUE\n",
       "17. FALSE\n",
       "18. FALSE\n",
       "19. FALSE\n",
       "20. TRUE\n",
       "21. FALSE\n",
       "22. TRUE\n",
       "23. FALSE\n",
       "24. FALSE\n",
       "25. FALSE\n",
       "26. TRUE\n",
       "27. FALSE\n",
       "28. TRUE\n",
       "29. FALSE\n",
       "30. FALSE\n",
       "31. FALSE\n",
       "32. TRUE\n",
       "33. FALSE\n",
       "34. TRUE\n",
       "35. FALSE\n",
       "36. FALSE\n",
       "37. FALSE\n",
       "38. TRUE\n",
       "39. FALSE\n",
       "40. TRUE\n",
       "41. FALSE\n",
       "42. FALSE\n",
       "43. FALSE\n",
       "44. TRUE\n",
       "45. FALSE\n",
       "46. TRUE\n",
       "47. FALSE\n",
       "48. FALSE\n",
       "49. FALSE\n",
       "50. TRUE\n",
       "51. FALSE\n",
       "52. TRUE\n",
       "53. FALSE\n",
       "54. FALSE\n",
       "55. FALSE\n",
       "56. TRUE\n",
       "57. FALSE\n",
       "58. TRUE\n",
       "59. FALSE\n",
       "60. FALSE\n",
       "61. FALSE\n",
       "62. TRUE\n",
       "63. FALSE\n",
       "64. TRUE\n",
       "65. FALSE\n",
       "66. FALSE\n",
       "67. FALSE\n",
       "68. TRUE\n",
       "69. FALSE\n",
       "70. TRUE\n",
       "71. FALSE\n",
       "72. FALSE\n",
       "73. FALSE\n",
       "74. TRUE\n",
       "75. FALSE\n",
       "76. TRUE\n",
       "77. FALSE\n",
       "78. FALSE\n",
       "79. FALSE\n",
       "80. TRUE\n",
       "81. FALSE\n",
       "82. TRUE\n",
       "83. FALSE\n",
       "84. FALSE\n",
       "85. FALSE\n",
       "86. TRUE\n",
       "87. FALSE\n",
       "88. TRUE\n",
       "89. FALSE\n",
       "90. FALSE\n",
       "91. FALSE\n",
       "92. TRUE\n",
       "93. FALSE\n",
       "94. TRUE\n",
       "95. FALSE\n",
       "96. FALSE\n",
       "97. FALSE\n",
       "98. TRUE\n",
       "99. FALSE\n",
       "100. TRUE\n",
       "\n",
       "\n"
      ],
      "text/plain": [
       "  [1] FALSE  TRUE FALSE  TRUE FALSE FALSE FALSE  TRUE FALSE  TRUE FALSE FALSE\n",
       " [13] FALSE  TRUE FALSE  TRUE FALSE FALSE FALSE  TRUE FALSE  TRUE FALSE FALSE\n",
       " [25] FALSE  TRUE FALSE  TRUE FALSE FALSE FALSE  TRUE FALSE  TRUE FALSE FALSE\n",
       " [37] FALSE  TRUE FALSE  TRUE FALSE FALSE FALSE  TRUE FALSE  TRUE FALSE FALSE\n",
       " [49] FALSE  TRUE FALSE  TRUE FALSE FALSE FALSE  TRUE FALSE  TRUE FALSE FALSE\n",
       " [61] FALSE  TRUE FALSE  TRUE FALSE FALSE FALSE  TRUE FALSE  TRUE FALSE FALSE\n",
       " [73] FALSE  TRUE FALSE  TRUE FALSE FALSE FALSE  TRUE FALSE  TRUE FALSE FALSE\n",
       " [85] FALSE  TRUE FALSE  TRUE FALSE FALSE FALSE  TRUE FALSE  TRUE FALSE FALSE\n",
       " [97] FALSE  TRUE FALSE  TRUE"
      ]
     },
     "metadata": {},
     "output_type": "display_data"
    }
   ],
   "source": [
    "x[(1:100) %% 3 == 0 ] <- FALSE\n",
    "x"
   ]
  },
  {
   "cell_type": "code",
   "execution_count": 63,
   "id": "cc0665b5-1af1-4d63-b0cb-aa1302ae0016",
   "metadata": {},
   "outputs": [],
   "source": [
    "g=function(x,a){\n",
    "    n=length(x) \n",
    "    x[(1:n) %% a == 0 ] <- x[(1:n) %% a == 0 ] %>% f\n",
    "    x\n",
    "}"
   ]
  },
  {
   "cell_type": "code",
   "execution_count": 64,
   "id": "9f6daa0a-4956-46b6-8f89-3cf921f0ed2d",
   "metadata": {},
   "outputs": [],
   "source": [
    "x=rep(FALSE, 100) \n",
    "x[(1:100) %% 2 == 0 ] <- x[(1:100) %% 2 == 0 ] %>% f \n",
    "x[(1:100) %% 3 == 0 ] <- FALSE\n",
    "for (i in 4:50){\n",
    "    x=g(x,i) \n",
    "}"
   ]
  },
  {
   "cell_type": "code",
   "execution_count": 65,
   "id": "1e7aaa71-424f-4140-9fa1-151c3e03dc58",
   "metadata": {},
   "outputs": [
    {
     "data": {
      "text/html": [
       "<style>\n",
       ".list-inline {list-style: none; margin:0; padding: 0}\n",
       ".list-inline>li {display: inline-block}\n",
       ".list-inline>li:not(:last-child)::after {content: \"\\00b7\"; padding: 0 .5ex}\n",
       "</style>\n",
       "<ol class=list-inline><li>FALSE</li><li>TRUE</li><li>FALSE</li><li>FALSE</li><li>TRUE</li><li>TRUE</li><li>TRUE</li><li>TRUE</li><li>TRUE</li><li>TRUE</li><li>TRUE</li><li>TRUE</li><li>TRUE</li><li>TRUE</li><li>FALSE</li><li>FALSE</li><li>TRUE</li><li>TRUE</li><li>TRUE</li><li>TRUE</li><li>FALSE</li><li>TRUE</li><li>TRUE</li><li>TRUE</li><li>FALSE</li><li>TRUE</li><li>FALSE</li><li>TRUE</li><li>TRUE</li><li>TRUE</li><li>TRUE</li><li>TRUE</li><li>FALSE</li><li>TRUE</li><li>TRUE</li><li>FALSE</li><li>TRUE</li><li>TRUE</li><li>FALSE</li><li>TRUE</li><li>TRUE</li><li>TRUE</li><li>TRUE</li><li>TRUE</li><li>FALSE</li><li>TRUE</li><li>TRUE</li><li>TRUE</li><li>FALSE</li><li>TRUE</li><li>TRUE</li><li>FALSE</li><li>FALSE</li><li>FALSE</li><li>FALSE</li><li>FALSE</li><li>TRUE</li><li>FALSE</li><li>FALSE</li><li>FALSE</li><li>FALSE</li><li>FALSE</li><li>TRUE</li><li>TRUE</li><li>FALSE</li><li>FALSE</li><li>FALSE</li><li>FALSE</li><li>TRUE</li><li>FALSE</li><li>FALSE</li><li>FALSE</li><li>FALSE</li><li>FALSE</li><li>TRUE</li><li>FALSE</li><li>FALSE</li><li>FALSE</li><li>FALSE</li><li>FALSE</li><li>FALSE</li><li>FALSE</li><li>FALSE</li><li>FALSE</li><li>FALSE</li><li>FALSE</li><li>TRUE</li><li>FALSE</li><li>FALSE</li><li>FALSE</li><li>FALSE</li><li>FALSE</li><li>TRUE</li><li>FALSE</li><li>FALSE</li><li>FALSE</li><li>FALSE</li><li>FALSE</li><li>TRUE</li><li>TRUE</li></ol>\n"
      ],
      "text/latex": [
       "\\begin{enumerate*}\n",
       "\\item FALSE\n",
       "\\item TRUE\n",
       "\\item FALSE\n",
       "\\item FALSE\n",
       "\\item TRUE\n",
       "\\item TRUE\n",
       "\\item TRUE\n",
       "\\item TRUE\n",
       "\\item TRUE\n",
       "\\item TRUE\n",
       "\\item TRUE\n",
       "\\item TRUE\n",
       "\\item TRUE\n",
       "\\item TRUE\n",
       "\\item FALSE\n",
       "\\item FALSE\n",
       "\\item TRUE\n",
       "\\item TRUE\n",
       "\\item TRUE\n",
       "\\item TRUE\n",
       "\\item FALSE\n",
       "\\item TRUE\n",
       "\\item TRUE\n",
       "\\item TRUE\n",
       "\\item FALSE\n",
       "\\item TRUE\n",
       "\\item FALSE\n",
       "\\item TRUE\n",
       "\\item TRUE\n",
       "\\item TRUE\n",
       "\\item TRUE\n",
       "\\item TRUE\n",
       "\\item FALSE\n",
       "\\item TRUE\n",
       "\\item TRUE\n",
       "\\item FALSE\n",
       "\\item TRUE\n",
       "\\item TRUE\n",
       "\\item FALSE\n",
       "\\item TRUE\n",
       "\\item TRUE\n",
       "\\item TRUE\n",
       "\\item TRUE\n",
       "\\item TRUE\n",
       "\\item FALSE\n",
       "\\item TRUE\n",
       "\\item TRUE\n",
       "\\item TRUE\n",
       "\\item FALSE\n",
       "\\item TRUE\n",
       "\\item TRUE\n",
       "\\item FALSE\n",
       "\\item FALSE\n",
       "\\item FALSE\n",
       "\\item FALSE\n",
       "\\item FALSE\n",
       "\\item TRUE\n",
       "\\item FALSE\n",
       "\\item FALSE\n",
       "\\item FALSE\n",
       "\\item FALSE\n",
       "\\item FALSE\n",
       "\\item TRUE\n",
       "\\item TRUE\n",
       "\\item FALSE\n",
       "\\item FALSE\n",
       "\\item FALSE\n",
       "\\item FALSE\n",
       "\\item TRUE\n",
       "\\item FALSE\n",
       "\\item FALSE\n",
       "\\item FALSE\n",
       "\\item FALSE\n",
       "\\item FALSE\n",
       "\\item TRUE\n",
       "\\item FALSE\n",
       "\\item FALSE\n",
       "\\item FALSE\n",
       "\\item FALSE\n",
       "\\item FALSE\n",
       "\\item FALSE\n",
       "\\item FALSE\n",
       "\\item FALSE\n",
       "\\item FALSE\n",
       "\\item FALSE\n",
       "\\item FALSE\n",
       "\\item TRUE\n",
       "\\item FALSE\n",
       "\\item FALSE\n",
       "\\item FALSE\n",
       "\\item FALSE\n",
       "\\item FALSE\n",
       "\\item TRUE\n",
       "\\item FALSE\n",
       "\\item FALSE\n",
       "\\item FALSE\n",
       "\\item FALSE\n",
       "\\item FALSE\n",
       "\\item TRUE\n",
       "\\item TRUE\n",
       "\\end{enumerate*}\n"
      ],
      "text/markdown": [
       "1. FALSE\n",
       "2. TRUE\n",
       "3. FALSE\n",
       "4. FALSE\n",
       "5. TRUE\n",
       "6. TRUE\n",
       "7. TRUE\n",
       "8. TRUE\n",
       "9. TRUE\n",
       "10. TRUE\n",
       "11. TRUE\n",
       "12. TRUE\n",
       "13. TRUE\n",
       "14. TRUE\n",
       "15. FALSE\n",
       "16. FALSE\n",
       "17. TRUE\n",
       "18. TRUE\n",
       "19. TRUE\n",
       "20. TRUE\n",
       "21. FALSE\n",
       "22. TRUE\n",
       "23. TRUE\n",
       "24. TRUE\n",
       "25. FALSE\n",
       "26. TRUE\n",
       "27. FALSE\n",
       "28. TRUE\n",
       "29. TRUE\n",
       "30. TRUE\n",
       "31. TRUE\n",
       "32. TRUE\n",
       "33. FALSE\n",
       "34. TRUE\n",
       "35. TRUE\n",
       "36. FALSE\n",
       "37. TRUE\n",
       "38. TRUE\n",
       "39. FALSE\n",
       "40. TRUE\n",
       "41. TRUE\n",
       "42. TRUE\n",
       "43. TRUE\n",
       "44. TRUE\n",
       "45. FALSE\n",
       "46. TRUE\n",
       "47. TRUE\n",
       "48. TRUE\n",
       "49. FALSE\n",
       "50. TRUE\n",
       "51. TRUE\n",
       "52. FALSE\n",
       "53. FALSE\n",
       "54. FALSE\n",
       "55. FALSE\n",
       "56. FALSE\n",
       "57. TRUE\n",
       "58. FALSE\n",
       "59. FALSE\n",
       "60. FALSE\n",
       "61. FALSE\n",
       "62. FALSE\n",
       "63. TRUE\n",
       "64. TRUE\n",
       "65. FALSE\n",
       "66. FALSE\n",
       "67. FALSE\n",
       "68. FALSE\n",
       "69. TRUE\n",
       "70. FALSE\n",
       "71. FALSE\n",
       "72. FALSE\n",
       "73. FALSE\n",
       "74. FALSE\n",
       "75. TRUE\n",
       "76. FALSE\n",
       "77. FALSE\n",
       "78. FALSE\n",
       "79. FALSE\n",
       "80. FALSE\n",
       "81. FALSE\n",
       "82. FALSE\n",
       "83. FALSE\n",
       "84. FALSE\n",
       "85. FALSE\n",
       "86. FALSE\n",
       "87. TRUE\n",
       "88. FALSE\n",
       "89. FALSE\n",
       "90. FALSE\n",
       "91. FALSE\n",
       "92. FALSE\n",
       "93. TRUE\n",
       "94. FALSE\n",
       "95. FALSE\n",
       "96. FALSE\n",
       "97. FALSE\n",
       "98. FALSE\n",
       "99. TRUE\n",
       "100. TRUE\n",
       "\n",
       "\n"
      ],
      "text/plain": [
       "  [1] FALSE  TRUE FALSE FALSE  TRUE  TRUE  TRUE  TRUE  TRUE  TRUE  TRUE  TRUE\n",
       " [13]  TRUE  TRUE FALSE FALSE  TRUE  TRUE  TRUE  TRUE FALSE  TRUE  TRUE  TRUE\n",
       " [25] FALSE  TRUE FALSE  TRUE  TRUE  TRUE  TRUE  TRUE FALSE  TRUE  TRUE FALSE\n",
       " [37]  TRUE  TRUE FALSE  TRUE  TRUE  TRUE  TRUE  TRUE FALSE  TRUE  TRUE  TRUE\n",
       " [49] FALSE  TRUE  TRUE FALSE FALSE FALSE FALSE FALSE  TRUE FALSE FALSE FALSE\n",
       " [61] FALSE FALSE  TRUE  TRUE FALSE FALSE FALSE FALSE  TRUE FALSE FALSE FALSE\n",
       " [73] FALSE FALSE  TRUE FALSE FALSE FALSE FALSE FALSE FALSE FALSE FALSE FALSE\n",
       " [85] FALSE FALSE  TRUE FALSE FALSE FALSE FALSE FALSE  TRUE FALSE FALSE FALSE\n",
       " [97] FALSE FALSE  TRUE  TRUE"
      ]
     },
     "metadata": {},
     "output_type": "display_data"
    }
   ],
   "source": [
    "x"
   ]
  },
  {
   "cell_type": "markdown",
   "id": "e2f77aba-17d3-45c0-977b-ebc7ebc1b007",
   "metadata": {},
   "source": [
    "#### `(3)` 몬테카를로 시뮬레이션을 이용하여 원주율 $\\pi$를 추론하는 코드를 작성하라. "
   ]
  },
  {
   "cell_type": "code",
   "execution_count": null,
   "id": "f10fc2a2-b17f-497e-829d-2149ae776cbc",
   "metadata": {},
   "outputs": [],
   "source": []
  },
  {
   "cell_type": "markdown",
   "id": "6d96b655-723b-4b88-be3a-179599fec430",
   "metadata": {},
   "source": [
    "#### `(4)` 아래와 같은 연립일차방정식을 푸는 R코드를 작성하라. "
   ]
  },
  {
   "cell_type": "markdown",
   "id": "1242cd3f-41fe-4f41-870d-311c0ec85d69",
   "metadata": {},
   "source": [
    "$\\begin{cases}\n",
    "w+2x+3y+4z=1 \\\\\n",
    "2w+2x+y=9 \\\\\n",
    "x-y=4 \\\\\n",
    "3w+x-y+3y=7\n",
    "\\end{cases}$\n"
   ]
  },
  {
   "cell_type": "code",
   "execution_count": 34,
   "id": "6f772ffc-ac5e-479e-b038-b3950ad87748",
   "metadata": {},
   "outputs": [],
   "source": [
    "A = rbind(c(1,2,3,4), c(2,2,1,0), c(0,1,-1,0), c(3,1,-1,3))"
   ]
  },
  {
   "cell_type": "code",
   "execution_count": 35,
   "id": "eadd5010-18cc-4c56-a9bc-cec51c5fb411",
   "metadata": {},
   "outputs": [],
   "source": [
    "b = c(1,9,4,7)\n",
    "dim(b) = c(4,1)"
   ]
  },
  {
   "cell_type": "code",
   "execution_count": 37,
   "id": "547c69a8-d884-42df-8d6e-863176bba735",
   "metadata": {},
   "outputs": [
    {
     "data": {
      "text/html": [
       "<table class=\"dataframe\">\n",
       "<caption>A matrix: 4 × 1 of type dbl</caption>\n",
       "<tbody>\n",
       "\t<tr><td> 2</td></tr>\n",
       "\t<tr><td> 3</td></tr>\n",
       "\t<tr><td>-1</td></tr>\n",
       "\t<tr><td>-1</td></tr>\n",
       "</tbody>\n",
       "</table>\n"
      ],
      "text/latex": [
       "A matrix: 4 × 1 of type dbl\n",
       "\\begin{tabular}{l}\n",
       "\t  2\\\\\n",
       "\t  3\\\\\n",
       "\t -1\\\\\n",
       "\t -1\\\\\n",
       "\\end{tabular}\n"
      ],
      "text/markdown": [
       "\n",
       "A matrix: 4 × 1 of type dbl\n",
       "\n",
       "|  2 |\n",
       "|  3 |\n",
       "| -1 |\n",
       "| -1 |\n",
       "\n"
      ],
      "text/plain": [
       "     [,1]\n",
       "[1,]  2  \n",
       "[2,]  3  \n",
       "[3,] -1  \n",
       "[4,] -1  "
      ]
     },
     "metadata": {},
     "output_type": "display_data"
    }
   ],
   "source": [
    "solve(A) %*% b"
   ]
  },
  {
   "cell_type": "markdown",
   "id": "8c0bca0f-2b2b-483e-98bf-46f560db01f7",
   "metadata": {},
   "source": [
    "#### `(5)` 우산의 회전"
   ]
  },
  {
   "cell_type": "markdown",
   "id": "856adbd0-6cac-4de3-9a4e-5758c5b3c60a",
   "metadata": {},
   "source": [
    "다음은 인터넷에서 어떠한 자료를 다운받아 매트릭스로 저장하는 코드이다. \n",
    "```R\n",
    "df=read.csv(\"https://raw.githubusercontent.com/guebin/2021IR/master/_notebooks/round2.csv\")\n",
    "X=as.matrix(df)\n",
    "```\n",
    "매트릭스는 `X`이라는 변수에 저장되어 있다. 저장된 모양은 아래와 같다. \n",
    "$${\\bf X}= \n",
    "\\begin{bmatrix}\n",
    "x_1 & y_1 \\\\ \n",
    "x_2 & y_2 \\\\ \n",
    "\\dots & \\dots \\\\ \n",
    "x_{5513} & y_{5513}\n",
    "\\end{bmatrix}\n",
    "$$\n",
    "아래를 계산하여 $\\tilde{\\bf X}$를 만들고 \n",
    "$$\n",
    "\\tilde{\\bf X}={\\bf X} \\begin{bmatrix}\n",
    "\\cos(\\frac{\\pi}{4}) & -\\sin (\\frac{\\pi}{4}) \\\\\n",
    "\\sin(\\frac{\\pi}{4}) & \\cos (\\frac{\\pi}{4})\n",
    "\\end{bmatrix} \n",
    "$$"
   ]
  },
  {
   "cell_type": "code",
   "execution_count": 106,
   "id": "3a802f14-6261-4578-9120-8207f0bb10a7",
   "metadata": {},
   "outputs": [],
   "source": [
    "df=read.csv(\"https://raw.githubusercontent.com/guebin/2021IR/master/_notebooks/round2.csv\")\n",
    "X=as.matrix(df)"
   ]
  },
  {
   "cell_type": "markdown",
   "id": "ed520940-df49-49ea-b613-704f98d7d0e3",
   "metadata": {},
   "source": [
    "$\\tilde{\\bf X}$의 첫번째열을 $x$축으로, 두번째열을 $y$축으로 하여 시각화 하라. 시각화 예시는 아래와 같다. "
   ]
  },
  {
   "cell_type": "code",
   "execution_count": 108,
   "id": "a7f6c0e1-4cce-4916-8cdd-0b68707335ed",
   "metadata": {},
   "outputs": [
    {
     "data": {
      "text/html": [
       "<table class=\"dataframe\">\n",
       "<caption>A matrix: 1 × 2 of type dbl</caption>\n",
       "<tbody>\n",
       "\t<tr><td>0.7071068</td><td>-1</td></tr>\n",
       "</tbody>\n",
       "</table>\n"
      ],
      "text/latex": [
       "A matrix: 1 × 2 of type dbl\n",
       "\\begin{tabular}{ll}\n",
       "\t 0.7071068 & -1\\\\\n",
       "\\end{tabular}\n"
      ],
      "text/markdown": [
       "\n",
       "A matrix: 1 × 2 of type dbl\n",
       "\n",
       "| 0.7071068 | -1 |\n",
       "\n"
      ],
      "text/plain": [
       "     [,1]      [,2]\n",
       "[1,] 0.7071068 -1  "
      ]
     },
     "metadata": {},
     "output_type": "display_data"
    }
   ],
   "source": [
    "x_=rbind(c(cos(pi/4), -sin(pi/))\n",
    "x_"
   ]
  },
  {
   "cell_type": "code",
   "execution_count": null,
   "id": "8279aecb-3ada-470d-b655-7c0c9d686311",
   "metadata": {},
   "outputs": [],
   "source": []
  },
  {
   "cell_type": "markdown",
   "id": "25975e05-2cf1-47b6-b126-b8caf43009af",
   "metadata": {},
   "source": [
    "![](https://github.com/guebin/2021IR/blob/master/_notebooks/final_fig5.png?raw=true)"
   ]
  }
 ],
 "metadata": {
  "kernelspec": {
   "display_name": "R",
   "language": "R",
   "name": "ir"
  },
  "language_info": {
   "codemirror_mode": "r",
   "file_extension": ".r",
   "mimetype": "text/x-r-source",
   "name": "R",
   "pygments_lexer": "r",
   "version": "4.0.5"
  },
  "widgets": {
   "application/vnd.jupyter.widget-state+json": {
    "state": {},
    "version_major": 2,
    "version_minor": 0
   }
  }
 },
 "nbformat": 4,
 "nbformat_minor": 5
}
