{
 "cells": [
  {
   "cell_type": "markdown",
   "id": "3b00c515-1837-4162-80a9-2a6e82edddbb",
   "metadata": {
    "tags": []
   },
   "source": [
    "# (6주차) 10월14일 -- 특강\n",
    "> 기타연산자 \n",
    "\n",
    "- toc:true\n",
    "- branch: master\n",
    "- badges: true\n",
    "- comments: true\n",
    "- author: 최규빈"
   ]
  },
  {
   "cell_type": "markdown",
   "id": "be8c1ddb-8996-4494-a974-7594aa205a5f",
   "metadata": {},
   "source": [
    "### 강의영상 "
   ]
  },
  {
   "cell_type": "markdown",
   "id": "c49c8cdf-9c15-4a23-a73c-56b16721ebd9",
   "metadata": {},
   "source": [
    "> youtube: https://youtube.com/playlist?list=PLQqh36zP38-wcq3h4sYHyVXrFLhxOApeX"
   ]
  },
  {
   "cell_type": "markdown",
   "id": "b3003e0e-2abb-4a2b-814c-e65758304425",
   "metadata": {},
   "source": [
    "`-` (1/3) 아나콘다와 가상환경 (1) \n",
    "\n",
    "`-` (2/3) 아나콘다와 가상환경 (2) \n",
    "\n",
    "`-` (3/3) 아나콘다와 가상환경 (3) "
   ]
  }
 ],
 "metadata": {
  "kernelspec": {
   "display_name": "Python 3 (ipykernel)",
   "language": "python",
   "name": "python3"
  },
  "language_info": {
   "codemirror_mode": {
    "name": "ipython",
    "version": 3
   },
   "file_extension": ".py",
   "mimetype": "text/x-python",
   "name": "python",
   "nbconvert_exporter": "python",
   "pygments_lexer": "ipython3",
   "version": "3.8.11"
  }
 },
 "nbformat": 4,
 "nbformat_minor": 5
}
