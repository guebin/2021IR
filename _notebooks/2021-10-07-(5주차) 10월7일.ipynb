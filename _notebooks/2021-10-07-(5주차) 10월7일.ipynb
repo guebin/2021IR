{
 "cells": [
  {
   "cell_type": "code",
   "execution_count": 17,
   "id": "f6b5f51d-89b8-4128-8e81-0677a0ed9147",
   "metadata": {},
   "outputs": [],
   "source": [
    "#hide\n",
    "options(jupyter.plot_scale=3)\n",
    "options(jupyter.display_mimetypes=c(\"text/html\"))\n",
    "options(jupyter.rich_display=FALSE)\n",
    "options(repr.plot.width=6,repr.plot.height=6,repr.plot.res=300)\n",
    "options(max.print=1000)"
   ]
  },
  {
   "cell_type": "markdown",
   "id": "c8fc585f-097c-49c9-b803-fd443b39e7de",
   "metadata": {
    "tags": []
   },
   "source": [
    "# (5주차) 10월7일\n",
    "> while, break, ifelse, repeat, next, switch, 산술연산자, 논리연산자, 비교연산자 \n",
    "\n",
    "- toc:true\n",
    "- branch: master\n",
    "- badges: true\n",
    "- comments: true\n",
    "- author: 최규빈"
   ]
  },
  {
   "cell_type": "markdown",
   "id": "3679ee59-9907-4dc5-afc0-2a982ec8135c",
   "metadata": {},
   "source": [
    "## 강의영상 "
   ]
  },
  {
   "cell_type": "markdown",
   "id": "a761adcd-ad0e-40e0-88d5-68dfb97ad12e",
   "metadata": {},
   "source": [
    "> youtube: https://youtube.com/playlist?list=PLQqh36zP38-zjB4mPetSBtU-dhJOYbLuS"
   ]
  },
  {
   "cell_type": "markdown",
   "id": "d518b3f4-3440-4129-b4ef-5cba1f1037db",
   "metadata": {},
   "source": [
    "`-` (1/4) while, break, ifelse \n",
    "\n",
    "`-` (2/4) switch, reapeat, next \n",
    "\n",
    "`-` (3/4) 산술연산자, 논리연산자 \n",
    "\n",
    "`-` (4/4) 비교연산자, 과제설명 "
   ]
  },
  {
   "cell_type": "markdown",
   "id": "6806a9fe-eead-4e37-acf1-48b6e1023592",
   "metadata": {
    "tags": []
   },
   "source": [
    "## 조건, 반복, 루프탈출 "
   ]
  },
  {
   "cell_type": "markdown",
   "id": "a928c4be-0c9c-4e95-9217-c3bba795d7f7",
   "metadata": {
    "tags": []
   },
   "source": [
    "### while "
   ]
  },
  {
   "cell_type": "markdown",
   "id": "d1f61170-e339-40e2-92c0-bb6ac1d6d833",
   "metadata": {},
   "source": [
    "`-` 예제1"
   ]
  },
  {
   "cell_type": "code",
   "execution_count": 18,
   "id": "24a0e266-e0be-424b-83a5-41014459276d",
   "metadata": {},
   "outputs": [],
   "source": [
    "tot = 0 \n",
    "i = 1 \n",
    "while(i<=100){\n",
    "    tot=tot+i \n",
    "    i = i+1 \n",
    "}"
   ]
  },
  {
   "cell_type": "code",
   "execution_count": 19,
   "id": "0f861300-110f-40f7-88df-8c3a2bdedb67",
   "metadata": {},
   "outputs": [
    {
     "data": {
      "text/plain": [
       "[1] 5050"
      ]
     },
     "metadata": {},
     "output_type": "display_data"
    }
   ],
   "source": [
    "tot"
   ]
  },
  {
   "cell_type": "markdown",
   "id": "fb6d6378-98fc-4c49-88e5-bc60c439601b",
   "metadata": {},
   "source": [
    "`-` 예제1의 다른구현(1) "
   ]
  },
  {
   "cell_type": "code",
   "execution_count": 20,
   "id": "d9fd11ce-9a71-40ff-8103-d355bbfdff81",
   "metadata": {},
   "outputs": [],
   "source": [
    "tot=0\n",
    "for (i in 1:100) tot = tot +i "
   ]
  },
  {
   "cell_type": "code",
   "execution_count": 21,
   "id": "ec5519d7-e868-421c-9b20-cd9ae1ed8b26",
   "metadata": {},
   "outputs": [
    {
     "data": {
      "text/plain": [
       "[1] 5050"
      ]
     },
     "metadata": {},
     "output_type": "display_data"
    }
   ],
   "source": [
    "tot"
   ]
  },
  {
   "cell_type": "markdown",
   "id": "8b166cc0-8346-439a-b0f9-d1b41d4775e8",
   "metadata": {},
   "source": [
    "`-` 예제1의 다른구현(2) "
   ]
  },
  {
   "cell_type": "code",
   "execution_count": 22,
   "id": "7d9db5ef-0797-4c2a-a15a-57a8ddbe38ed",
   "metadata": {},
   "outputs": [],
   "source": [
    "tot = 0 \n",
    "i = 1 \n",
    "while(TRUE){\n",
    "    tot = tot+i \n",
    "    i=i+1 \n",
    "    if (i>100) break \n",
    "}"
   ]
  },
  {
   "cell_type": "code",
   "execution_count": 23,
   "id": "c1c00108-0106-4df4-be77-35b6d302773f",
   "metadata": {},
   "outputs": [
    {
     "data": {
      "text/plain": [
       "[1] 5050"
      ]
     },
     "metadata": {},
     "output_type": "display_data"
    }
   ],
   "source": [
    "tot "
   ]
  },
  {
   "cell_type": "markdown",
   "id": "d955efdf-74b7-4ade-ad4b-324d21d703c7",
   "metadata": {},
   "source": [
    "`-` 예제1의 다른구현(3) "
   ]
  },
  {
   "cell_type": "code",
   "execution_count": 24,
   "id": "92a7c315-e4f3-415e-a8a3-032ad5d84a6e",
   "metadata": {},
   "outputs": [],
   "source": [
    "tot = 0 \n",
    "i = 1 \n",
    "while(TRUE){\n",
    "    tot = tot+i \n",
    "    if (i>=100) break \n",
    "    i=i+1 \n",
    "}"
   ]
  },
  {
   "cell_type": "code",
   "execution_count": 25,
   "id": "2ee21d10-0c55-4b81-8473-0825a043a9e6",
   "metadata": {},
   "outputs": [
    {
     "data": {
      "text/plain": [
       "[1] 5050"
      ]
     },
     "metadata": {},
     "output_type": "display_data"
    }
   ],
   "source": [
    "tot "
   ]
  },
  {
   "cell_type": "markdown",
   "id": "ac76b816-0053-40e6-94f3-3d4f6fff27a0",
   "metadata": {},
   "source": [
    "`-` 저는 while을 싫어합니다. "
   ]
  },
  {
   "cell_type": "markdown",
   "id": "0ddff492-9f1e-4723-b523-122d553d3b8b",
   "metadata": {},
   "source": [
    "`-` 어쩔수 없이 써야할때가 있어서 알고있는 것입니다. "
   ]
  },
  {
   "cell_type": "markdown",
   "id": "f6f41de5-e1bd-4c60-aa48-4ed0278e6554",
   "metadata": {
    "tags": []
   },
   "source": [
    "### break "
   ]
  },
  {
   "cell_type": "markdown",
   "id": "2d67fcf5-ef23-43fb-933d-57ab3901d264",
   "metadata": {},
   "source": [
    "`-` 예제1"
   ]
  },
  {
   "cell_type": "code",
   "execution_count": 26,
   "id": "944cb30d-6fff-4cbe-aee6-1441c435e874",
   "metadata": {},
   "outputs": [
    {
     "name": "stdout",
     "output_type": "stream",
     "text": [
      "[1] 1\n",
      "[1] 2\n",
      "[1] 3\n"
     ]
    }
   ],
   "source": [
    "for (i in 1:10){\n",
    "    print(i)\n",
    "    if(i==3) break \n",
    "}"
   ]
  },
  {
   "cell_type": "markdown",
   "id": "ec6cb651-2654-46b7-a2ab-948dcc72d989",
   "metadata": {},
   "source": [
    "`-` 예제2"
   ]
  },
  {
   "cell_type": "code",
   "execution_count": 27,
   "id": "2bfbafa5-c8e7-4ab6-a040-daa48a330705",
   "metadata": {},
   "outputs": [
    {
     "name": "stdout",
     "output_type": "stream",
     "text": [
      "[1] 1 1\n",
      "[1] 1 2\n",
      "[1] 1 3\n",
      "[1] 2 1\n",
      "[1] 2 2\n",
      "[1] 2 3\n",
      "[1] 3 1\n",
      "[1] 3 2\n",
      "[1] 3 3\n",
      "[1] 4 1\n",
      "[1] 4 2\n",
      "[1] 4 3\n",
      "[1] 5 1\n",
      "[1] 5 2\n",
      "[1] 5 3\n"
     ]
    }
   ],
   "source": [
    "for (i in 1:10){\n",
    "    for (j in 1:10){\n",
    "        print(c(i,j))\n",
    "        if(j==3) break \n",
    "    }\n",
    "    if(i==5) break \n",
    "}"
   ]
  },
  {
   "cell_type": "markdown",
   "id": "0df534a4-1a7c-4e6a-8d60-123ba180e07c",
   "metadata": {},
   "source": [
    "### ifelse "
   ]
  },
  {
   "cell_type": "markdown",
   "id": "570858f7-58ca-4eb4-a523-621d36060e3f",
   "metadata": {},
   "source": [
    "`-` 예제1"
   ]
  },
  {
   "cell_type": "code",
   "execution_count": 28,
   "id": "9f9db8bf-9301-4ca1-999f-a3030e207676",
   "metadata": {},
   "outputs": [
    {
     "data": {
      "text/plain": [
       "[1] -2 -1  0  1  2"
      ]
     },
     "metadata": {},
     "output_type": "display_data"
    }
   ],
   "source": [
    "x= -2:2 \n",
    "x"
   ]
  },
  {
   "cell_type": "code",
   "execution_count": 29,
   "id": "347668a2-9877-466e-81c2-32c7c53719c5",
   "metadata": {},
   "outputs": [
    {
     "data": {
      "text/plain": [
       "[1] 2 1 0 1 2"
      ]
     },
     "metadata": {},
     "output_type": "display_data"
    }
   ],
   "source": [
    "ifelse(x>0,x,-x) "
   ]
  },
  {
   "cell_type": "markdown",
   "id": "e6bd76cc-8d95-4c04-a2b3-8e74a80af2b3",
   "metadata": {},
   "source": [
    "`-` 예제1의 다른구현 "
   ]
  },
  {
   "cell_type": "code",
   "execution_count": 30,
   "id": "95cfeec6-2c12-4309-9b0e-818d231d96f0",
   "metadata": {},
   "outputs": [
    {
     "data": {
      "text/plain": [
       "[1] 5"
      ]
     },
     "metadata": {},
     "output_type": "display_data"
    }
   ],
   "source": [
    "length(x)"
   ]
  },
  {
   "cell_type": "code",
   "execution_count": 31,
   "id": "ebec0c92-90c4-43e4-b098-837460d5a0d8",
   "metadata": {},
   "outputs": [
    {
     "data": {
      "text/plain": [
       "[1] 0 0 0 0 0"
      ]
     },
     "metadata": {},
     "output_type": "display_data"
    }
   ],
   "source": [
    "y_ = x*0\n",
    "y_"
   ]
  },
  {
   "cell_type": "code",
   "execution_count": 33,
   "id": "bb43dac1-f7d7-429e-b39a-2b7a159b8d3f",
   "metadata": {},
   "outputs": [],
   "source": [
    "for (i in 1:length(x)){\n",
    "    if (x[i]>0) y_[i] = x[i] else \n",
    "        y_[i] = -x[i] \n",
    "}"
   ]
  },
  {
   "cell_type": "code",
   "execution_count": 34,
   "id": "9d2aabfd-ce78-4249-9316-f326c5cf21bc",
   "metadata": {},
   "outputs": [
    {
     "data": {
      "text/plain": [
       "[1] 2 1 0 1 2"
      ]
     },
     "metadata": {},
     "output_type": "display_data"
    }
   ],
   "source": [
    "y_"
   ]
  },
  {
   "cell_type": "markdown",
   "id": "54952e79-f11d-4577-97fb-ee96e21ad844",
   "metadata": {},
   "source": [
    "`-` 예제2"
   ]
  },
  {
   "cell_type": "code",
   "execution_count": 37,
   "id": "8fd2930b-31d3-437d-b409-e00aeee5ade4",
   "metadata": {},
   "outputs": [
    {
     "data": {
      "text/plain": [
       " [1] -5 -4 -3 -2 -1  0  1  2  3  4  5"
      ]
     },
     "metadata": {},
     "output_type": "display_data"
    }
   ],
   "source": [
    "x= -5:5 \n",
    "x"
   ]
  },
  {
   "cell_type": "code",
   "execution_count": 38,
   "id": "e9821b1a-a365-4efe-96ca-9bd2d75225d9",
   "metadata": {},
   "outputs": [],
   "source": [
    "y=ifelse(x<0, 0, ifelse(x>2,x,1))"
   ]
  },
  {
   "cell_type": "code",
   "execution_count": 39,
   "id": "d354a0f8-b1fc-4d0c-8a8f-93135a80fcec",
   "metadata": {},
   "outputs": [
    {
     "data": {
      "text/plain": [
       " [1] 0 0 0 0 0 1 1 1 3 4 5"
      ]
     },
     "metadata": {},
     "output_type": "display_data"
    }
   ],
   "source": [
    "y"
   ]
  },
  {
   "cell_type": "code",
   "execution_count": 46,
   "id": "ae9fcc32-cf06-4b5d-9c8b-54c516d9bc92",
   "metadata": {},
   "outputs": [
    {
     "data": {
      "image/png": "[encoded data removed]",
      "text/plain": [
       "plot without title"
      ]
     },
     "metadata": {
      "image/png": {
       "height": 600,
       "width": 600
      }
     },
     "output_type": "display_data"
    }
   ],
   "source": [
    "plot(x,x)\n",
    "points(x,y,col=2,pch=16)"
   ]
  },
  {
   "cell_type": "markdown",
   "id": "161a14ab-7814-4b0d-b6c3-3cc28924b16a",
   "metadata": {},
   "source": [
    "`-` 예제2의 다른구현 "
   ]
  },
  {
   "cell_type": "code",
   "execution_count": 47,
   "id": "0cfa2366-1bdc-4e69-914e-1fe2415340a9",
   "metadata": {},
   "outputs": [
    {
     "data": {
      "text/plain": [
       " [1] -5 -4 -3 -2 -1  0  1  2  3  4  5"
      ]
     },
     "metadata": {},
     "output_type": "display_data"
    }
   ],
   "source": [
    "x= -5:5 \n",
    "x "
   ]
  },
  {
   "cell_type": "code",
   "execution_count": 48,
   "id": "dc312b74-6ab4-4448-9aed-d1f88d221771",
   "metadata": {},
   "outputs": [
    {
     "data": {
      "text/plain": [
       " [1] 0 0 0 0 0 0 0 0 0 0 0"
      ]
     },
     "metadata": {},
     "output_type": "display_data"
    }
   ],
   "source": [
    "y=x*0\n",
    "y"
   ]
  },
  {
   "cell_type": "code",
   "execution_count": 51,
   "id": "a0286bae-5439-4d32-a4e0-ce873fc5fc47",
   "metadata": {},
   "outputs": [
    {
     "data": {
      "text/plain": [
       "[1] 11"
      ]
     },
     "metadata": {},
     "output_type": "display_data"
    }
   ],
   "source": [
    "n=length(x)\n",
    "n"
   ]
  },
  {
   "cell_type": "code",
   "execution_count": 52,
   "id": "1dcdeaae-942e-4d20-aaa8-6c04525e8c14",
   "metadata": {},
   "outputs": [],
   "source": [
    "for(i in 1:n){\n",
    "    if(x[i]<0) y[i]=0 else \n",
    "        if (x[i]>2) y[i]=x[i] else \n",
    "            y[i]=1 \n",
    "}"
   ]
  },
  {
   "cell_type": "code",
   "execution_count": 54,
   "id": "d812936a-3f01-4287-9517-4985086cf11f",
   "metadata": {},
   "outputs": [
    {
     "data": {
      "text/plain": [
       " [1] 0 0 0 0 0 1 1 1 3 4 5"
      ]
     },
     "metadata": {},
     "output_type": "display_data"
    }
   ],
   "source": [
    "y"
   ]
  },
  {
   "cell_type": "markdown",
   "id": "5efa56ae-3448-4d24-882a-9bcc2daae0ba",
   "metadata": {},
   "source": [
    "`-` ifelse와 if~else는 성격이 조금 다름 \n",
    "- ifelse: 조건에 부합하는 새로운 벡터를 생성하는데 특화되어있음 \n",
    "- if~else: 조건에 따라 코드의 실행흐름을 제어하는 성격의 문법 "
   ]
  },
  {
   "cell_type": "markdown",
   "id": "455817c8-4fbe-4a05-b909-11f67d0a7418",
   "metadata": {},
   "source": [
    "### switch "
   ]
  },
  {
   "cell_type": "markdown",
   "id": "d15e3424-a9cb-4894-a5ba-c175bef04aee",
   "metadata": {},
   "source": [
    "`-` 예제1"
   ]
  },
  {
   "cell_type": "code",
   "execution_count": 55,
   "id": "5c8f6f85-a31c-4380-a12f-f7ffca5d84c3",
   "metadata": {},
   "outputs": [
    {
     "data": {
      "text/plain": [
       "[1] 10"
      ]
     },
     "metadata": {},
     "output_type": "display_data"
    }
   ],
   "source": [
    "switch(1, 10,20,30) "
   ]
  },
  {
   "cell_type": "code",
   "execution_count": 56,
   "id": "20938a73-b0f8-44ad-bd9c-935ef4a4a56a",
   "metadata": {},
   "outputs": [
    {
     "data": {
      "text/plain": [
       "[1] 20"
      ]
     },
     "metadata": {},
     "output_type": "display_data"
    }
   ],
   "source": [
    "switch(2, 10,20,30) "
   ]
  },
  {
   "cell_type": "code",
   "execution_count": 57,
   "id": "67ff92fa-77ae-46c6-92c9-1c56bfc210f5",
   "metadata": {},
   "outputs": [
    {
     "data": {
      "text/plain": [
       "[1] 30"
      ]
     },
     "metadata": {},
     "output_type": "display_data"
    }
   ],
   "source": [
    "switch(3, 10,20,30) "
   ]
  },
  {
   "cell_type": "markdown",
   "id": "aa623500-a39c-4761-a5ff-a06f9bafb615",
   "metadata": {},
   "source": [
    "`-` 예제2"
   ]
  },
  {
   "cell_type": "code",
   "execution_count": 58,
   "id": "b6024768-121a-4ef0-aa81-700397f426cf",
   "metadata": {},
   "outputs": [
    {
     "data": {
      "text/plain": [
       "[1] 1 2 3"
      ]
     },
     "metadata": {},
     "output_type": "display_data"
    }
   ],
   "source": [
    "switch(1, c(1,2,3),20,c(30,40)) "
   ]
  },
  {
   "cell_type": "code",
   "execution_count": 59,
   "id": "5b8223c4-3376-4b75-baac-19a8a7634f65",
   "metadata": {},
   "outputs": [
    {
     "data": {
      "text/plain": [
       "[1] 20"
      ]
     },
     "metadata": {},
     "output_type": "display_data"
    }
   ],
   "source": [
    "switch(2, c(1,2,3),20,c(30,40)) "
   ]
  },
  {
   "cell_type": "code",
   "execution_count": 60,
   "id": "fa602a9c-b48d-465f-81fe-39d9b880cee5",
   "metadata": {},
   "outputs": [
    {
     "data": {
      "text/plain": [
       "[1] 30 40"
      ]
     },
     "metadata": {},
     "output_type": "display_data"
    }
   ],
   "source": [
    "switch(3, c(1,2,3),20,c(30,40)) "
   ]
  },
  {
   "cell_type": "markdown",
   "id": "c03fb405-844d-42c5-a840-a5122a59b000",
   "metadata": {},
   "source": [
    "`-` 예제3"
   ]
  },
  {
   "cell_type": "code",
   "execution_count": 61,
   "id": "500c317a-0c83-432c-a2bb-8746c725b701",
   "metadata": {},
   "outputs": [
    {
     "data": {
      "text/plain": [
       "[1] 1 2 3"
      ]
     },
     "metadata": {},
     "output_type": "display_data"
    }
   ],
   "source": [
    "switch('a1', a1=c(1,2,3),a2=20,a3=c(30,40)) "
   ]
  },
  {
   "cell_type": "code",
   "execution_count": 62,
   "id": "19d25c28-9e6d-4563-81e6-4db6a4fbebab",
   "metadata": {},
   "outputs": [
    {
     "data": {
      "text/plain": [
       "[1] 20"
      ]
     },
     "metadata": {},
     "output_type": "display_data"
    }
   ],
   "source": [
    "switch('a2', a1=c(1,2,3),a2=20,a3=c(30,40)) "
   ]
  },
  {
   "cell_type": "code",
   "execution_count": 63,
   "id": "8c4f3415-cf59-423f-8ef7-b5eafae3331c",
   "metadata": {},
   "outputs": [
    {
     "data": {
      "text/plain": [
       "[1] 30 40"
      ]
     },
     "metadata": {},
     "output_type": "display_data"
    }
   ],
   "source": [
    "switch('a3', a1=c(1,2,3),a2=20,a3=c(30,40)) "
   ]
  },
  {
   "cell_type": "markdown",
   "id": "43985e75-b396-4b7a-aa4e-3b9ef0d9e992",
   "metadata": {},
   "source": [
    "`-` 예제4"
   ]
  },
  {
   "cell_type": "markdown",
   "id": "dba9199d-f6ad-46bc-86d7-60717bd47057",
   "metadata": {},
   "source": [
    "(예비학습)"
   ]
  },
  {
   "cell_type": "code",
   "execution_count": 65,
   "id": "e69b94ac-2ff0-49ed-9fc8-ee2ee3ce9bac",
   "metadata": {},
   "outputs": [
    {
     "data": {
      "text/plain": [
       " [1]  1  2  3  4  5  6  7  8  9 10"
      ]
     },
     "metadata": {},
     "output_type": "display_data"
    }
   ],
   "source": [
    "x=1:10 \n",
    "x "
   ]
  },
  {
   "cell_type": "code",
   "execution_count": 67,
   "id": "8172a946-aaaf-42d3-a9d5-f13f978ca6df",
   "metadata": {},
   "outputs": [
    {
     "data": {
      "text/plain": [
       "[1]  5.50 38.50  8.25"
      ]
     },
     "metadata": {},
     "output_type": "display_data"
    }
   ],
   "source": [
    "c(\n",
    "    mean(x),\n",
    "    mean(x**2),\n",
    "    mean((x-mean(x))**2)\n",
    ")"
   ]
  },
  {
   "cell_type": "code",
   "execution_count": 69,
   "id": "cb329f20-6164-4cca-9286-382621bf0918",
   "metadata": {},
   "outputs": [
    {
     "data": {
      "text/plain": [
       "[1] 8.25"
      ]
     },
     "metadata": {},
     "output_type": "display_data"
    }
   ],
   "source": [
    "38.50 - 5.50**2 "
   ]
  },
  {
   "cell_type": "markdown",
   "id": "fabb163a-7d88-4a9d-84a3-f9513dab58a2",
   "metadata": {},
   "source": [
    "(예제시작)"
   ]
  },
  {
   "cell_type": "code",
   "execution_count": 70,
   "id": "e30b8d0e-7b8a-4384-824a-26b4ba8a0842",
   "metadata": {},
   "outputs": [
    {
     "data": {
      "text/plain": [
       "[1] 5.5"
      ]
     },
     "metadata": {},
     "output_type": "display_data"
    }
   ],
   "source": [
    "switch(\"f1\", \n",
    "       f1=mean(x),\n",
    "       f2=mean(x**2),\n",
    "       f3=mean((x-mean(x))**2)\n",
    ")"
   ]
  },
  {
   "cell_type": "code",
   "execution_count": 71,
   "id": "e8185b84-44f1-4932-92e0-fe759693624b",
   "metadata": {},
   "outputs": [
    {
     "data": {
      "text/plain": [
       "[1] 38.5"
      ]
     },
     "metadata": {},
     "output_type": "display_data"
    }
   ],
   "source": [
    "switch(\"f2\", \n",
    "       f1=mean(x),\n",
    "       f2=mean(x**2),\n",
    "       f3=mean((x-mean(x))**2)\n",
    ")"
   ]
  },
  {
   "cell_type": "code",
   "execution_count": 72,
   "id": "62c4d4fd-dcca-482f-b039-6ee000686706",
   "metadata": {},
   "outputs": [
    {
     "data": {
      "text/plain": [
       "[1] 8.25"
      ]
     },
     "metadata": {},
     "output_type": "display_data"
    }
   ],
   "source": [
    "switch(\"f3\", \n",
    "       f1=mean(x),\n",
    "       f2=mean(x**2),\n",
    "       f3=mean((x-mean(x))**2)\n",
    ")"
   ]
  },
  {
   "cell_type": "markdown",
   "id": "ee1997ec-0b72-468a-8e06-561d6fd4986c",
   "metadata": {},
   "source": [
    "`-` 예제5"
   ]
  },
  {
   "cell_type": "code",
   "execution_count": 80,
   "id": "b3eb0a35-b1bb-4bbf-abe1-0792ef6fad61",
   "metadata": {},
   "outputs": [],
   "source": [
    "myfun<-function(x,f){\n",
    "    switch(f, \n",
    "       meann=mean(x),\n",
    "       sqmeann=mean(x**2),\n",
    "       varr=mean((x-mean(x))**2)\n",
    "    )\n",
    "}"
   ]
  },
  {
   "cell_type": "code",
   "execution_count": 82,
   "id": "c5fadce3-a0c1-4130-927b-45ce4e9d34dc",
   "metadata": {},
   "outputs": [
    {
     "data": {
      "text/plain": [
       "[1] 3"
      ]
     },
     "metadata": {},
     "output_type": "display_data"
    },
    {
     "data": {
      "text/plain": [
       "[1] 11"
      ]
     },
     "metadata": {},
     "output_type": "display_data"
    },
    {
     "data": {
      "text/plain": [
       "[1] 2"
      ]
     },
     "metadata": {},
     "output_type": "display_data"
    }
   ],
   "source": [
    "x=1:5\n",
    "myfun(x,\"meann\")\n",
    "myfun(x,\"sqmeann\")\n",
    "myfun(x,\"varr\")"
   ]
  },
  {
   "cell_type": "markdown",
   "id": "554ee910-b355-4483-9fe9-5d17c16eb286",
   "metadata": {},
   "source": [
    "### repeat "
   ]
  },
  {
   "cell_type": "markdown",
   "id": "d2bd05b1-12a7-4f43-83a9-17311335dde7",
   "metadata": {},
   "source": [
    "`-` 예제1"
   ]
  },
  {
   "cell_type": "code",
   "execution_count": 83,
   "id": "97313284-ff72-4959-93b0-4ee4f297cb90",
   "metadata": {},
   "outputs": [],
   "source": [
    "tot=0 \n",
    "i=1 \n",
    "repeat{\n",
    "    tot=tot+i \n",
    "    i=i+1\n",
    "    if (i>100) break \n",
    "} "
   ]
  },
  {
   "cell_type": "code",
   "execution_count": 84,
   "id": "62385f99-af92-4aed-a553-79d6b53cb7c1",
   "metadata": {},
   "outputs": [
    {
     "data": {
      "text/plain": [
       "[1] 5050"
      ]
     },
     "metadata": {},
     "output_type": "display_data"
    }
   ],
   "source": [
    "tot"
   ]
  },
  {
   "cell_type": "markdown",
   "id": "025e776d-aee5-4f92-9289-1e2eb1b9a3b2",
   "metadata": {},
   "source": [
    "`-` 잘못된 예제1"
   ]
  },
  {
   "cell_type": "code",
   "execution_count": 89,
   "id": "7f0be044-3303-4c72-8786-672fa86af1ad",
   "metadata": {},
   "outputs": [],
   "source": [
    "tot=0 \n",
    "i=1 \n",
    "repeat{\n",
    "    tot=tot+i \n",
    "    i=i+1\n",
    "} "
   ]
  },
  {
   "cell_type": "markdown",
   "id": "b2ac8103-6161-4f17-a778-8d1154533afc",
   "metadata": {},
   "source": [
    "### next "
   ]
  },
  {
   "cell_type": "markdown",
   "id": "3e2295ab-990a-4c2c-85bf-e4c5091dc248",
   "metadata": {},
   "source": [
    "`-` 예제1"
   ]
  },
  {
   "cell_type": "code",
   "execution_count": 91,
   "id": "8affa949-7a88-4623-bbd6-4739419c80d3",
   "metadata": {},
   "outputs": [
    {
     "name": "stdout",
     "output_type": "stream",
     "text": [
      "[1] 1\n",
      "[1] 2\n",
      "[1] 4\n",
      "[1] 5\n"
     ]
    }
   ],
   "source": [
    "for(i in 1:5){\n",
    "    if(i==3) next else \n",
    "        print(i) \n",
    "}"
   ]
  },
  {
   "cell_type": "markdown",
   "id": "8340b451-c2d0-4608-918b-48b008cd6e9b",
   "metadata": {},
   "source": [
    "break와 비교"
   ]
  },
  {
   "cell_type": "code",
   "execution_count": 92,
   "id": "de34bba4-8984-40f8-80a3-d0a52afecbb4",
   "metadata": {},
   "outputs": [
    {
     "name": "stdout",
     "output_type": "stream",
     "text": [
      "[1] 1\n",
      "[1] 2\n"
     ]
    }
   ],
   "source": [
    "for(i in 1:5){\n",
    "    if(i==3) break else \n",
    "        print(i) \n",
    "}"
   ]
  },
  {
   "cell_type": "markdown",
   "id": "3cdf30ab-b5b1-4cf3-a7bd-f927c583583e",
   "metadata": {},
   "source": [
    "`-` 예제2"
   ]
  },
  {
   "cell_type": "code",
   "execution_count": 93,
   "id": "6a71dadf-7edb-45d7-b0b5-5601d534d11e",
   "metadata": {},
   "outputs": [
    {
     "name": "stdout",
     "output_type": "stream",
     "text": [
      "[1] 1\n",
      "[1] 2\n",
      "[1] 4\n",
      "[1] 5\n"
     ]
    }
   ],
   "source": [
    "i=0\n",
    "repeat{\n",
    "    i=i+1\n",
    "    if (i>5) break \n",
    "    if (i==3) next \n",
    "    print(i) \n",
    "}"
   ]
  },
  {
   "cell_type": "markdown",
   "id": "063f72a4-c80a-4394-bd1f-d0b4bd87d936",
   "metadata": {},
   "source": [
    "### 요약 "
   ]
  },
  {
   "cell_type": "markdown",
   "id": "a790faf5-e057-42ad-94b7-09213f16be8e",
   "metadata": {},
   "source": [
    "`-` 조건: **if**, **if~else** / **ifelse**, switch \n",
    "\n",
    "`-` 반복: **for**, while, repeat \n",
    "    \n",
    "`-` 루프탈출: break, next     "
   ]
  },
  {
   "cell_type": "markdown",
   "id": "e0c59658-d948-4003-a8d8-7a1c6279ab35",
   "metadata": {
    "tags": []
   },
   "source": [
    "## 연산자 "
   ]
  },
  {
   "cell_type": "markdown",
   "id": "ab37b288-2369-4648-a9f0-75f6e073f4df",
   "metadata": {},
   "source": [
    "### 산술연산자 "
   ]
  },
  {
   "cell_type": "markdown",
   "id": "cb273214-b2e0-472b-92f4-846300edd76d",
   "metadata": {},
   "source": [
    "`-` 예제1"
   ]
  },
  {
   "cell_type": "code",
   "execution_count": 102,
   "id": "3e8a42b5-023f-4843-8735-f3c1835796ff",
   "metadata": {},
   "outputs": [
    {
     "data": {
      "text/plain": [
       "[1] 7"
      ]
     },
     "metadata": {},
     "output_type": "display_data"
    }
   ],
   "source": [
    "5+2 "
   ]
  },
  {
   "cell_type": "code",
   "execution_count": 103,
   "id": "7703f1b2-4b12-4038-baae-be66ac6f5bf9",
   "metadata": {},
   "outputs": [
    {
     "data": {
      "text/plain": [
       "[1] 4"
      ]
     },
     "metadata": {},
     "output_type": "display_data"
    }
   ],
   "source": [
    "6-2"
   ]
  },
  {
   "cell_type": "code",
   "execution_count": 104,
   "id": "79d6cffb-76ee-4ae8-b9af-2123c2fb9227",
   "metadata": {},
   "outputs": [
    {
     "data": {
      "text/plain": [
       "[1] 12"
      ]
     },
     "metadata": {},
     "output_type": "display_data"
    }
   ],
   "source": [
    "3*4"
   ]
  },
  {
   "cell_type": "code",
   "execution_count": 105,
   "id": "45931c3f-c05d-4de7-a731-a32212b90082",
   "metadata": {},
   "outputs": [
    {
     "data": {
      "text/plain": [
       "[1] 1.2"
      ]
     },
     "metadata": {},
     "output_type": "display_data"
    }
   ],
   "source": [
    "6/5"
   ]
  },
  {
   "cell_type": "markdown",
   "id": "57d8386f-471c-41c9-b1bd-b384cc27ca58",
   "metadata": {},
   "source": [
    "`-` 예제2"
   ]
  },
  {
   "cell_type": "code",
   "execution_count": 106,
   "id": "f8d7f437-5696-4b63-bae0-8798a2fd7eb1",
   "metadata": {},
   "outputs": [
    {
     "data": {
      "text/plain": [
       "[1] 8"
      ]
     },
     "metadata": {},
     "output_type": "display_data"
    }
   ],
   "source": [
    "2^3"
   ]
  },
  {
   "cell_type": "code",
   "execution_count": 108,
   "id": "e19e2d3d-a89b-429c-b95b-cba2ab3e5722",
   "metadata": {},
   "outputs": [
    {
     "data": {
      "text/plain": [
       "[1] 8"
      ]
     },
     "metadata": {},
     "output_type": "display_data"
    }
   ],
   "source": [
    "2**3"
   ]
  },
  {
   "cell_type": "markdown",
   "id": "1c6bbf9d-486f-4648-8982-d168b616b186",
   "metadata": {},
   "source": [
    "`-` 예제3"
   ]
  },
  {
   "cell_type": "code",
   "execution_count": 109,
   "id": "52aab5f2-9460-4159-8109-b499aa9e981d",
   "metadata": {},
   "outputs": [
    {
     "data": {
      "text/plain": [
       "[1] 1"
      ]
     },
     "metadata": {},
     "output_type": "display_data"
    }
   ],
   "source": [
    "31%%3 "
   ]
  },
  {
   "cell_type": "code",
   "execution_count": 110,
   "id": "3e6ef8f1-7748-4c75-b3ed-6ff73cbffe8d",
   "metadata": {},
   "outputs": [
    {
     "data": {
      "text/plain": [
       "[1] 10"
      ]
     },
     "metadata": {},
     "output_type": "display_data"
    }
   ],
   "source": [
    "31%/%3"
   ]
  },
  {
   "cell_type": "markdown",
   "id": "15ae39d8-b4b7-44fb-8f45-532969b033c7",
   "metadata": {},
   "source": [
    "### 논리연산자 "
   ]
  },
  {
   "cell_type": "markdown",
   "id": "344f9674-96a5-466c-8c77-28b3d770cba3",
   "metadata": {},
   "source": [
    "`-` 예제1"
   ]
  },
  {
   "cell_type": "code",
   "execution_count": 117,
   "id": "e161f28c-bb10-4f60-8ed9-f98f6169ff45",
   "metadata": {},
   "outputs": [],
   "source": [
    "x=c(T,T,F,F,T) \n",
    "y=c(TRUE,FALSE,TRUE,FALSE,TRUE) "
   ]
  },
  {
   "cell_type": "code",
   "execution_count": 119,
   "id": "902570f1-d90b-424d-8f21-36846e351127",
   "metadata": {},
   "outputs": [
    {
     "data": {
      "text/plain": [
       "[1]  TRUE  TRUE FALSE FALSE  TRUE"
      ]
     },
     "metadata": {},
     "output_type": "display_data"
    }
   ],
   "source": [
    "x"
   ]
  },
  {
   "cell_type": "code",
   "execution_count": 118,
   "id": "c6a488a1-969e-49c2-81f0-8a90862f76ae",
   "metadata": {},
   "outputs": [
    {
     "data": {
      "text/plain": [
       "[1]  TRUE FALSE  TRUE FALSE  TRUE"
      ]
     },
     "metadata": {},
     "output_type": "display_data"
    }
   ],
   "source": [
    "y"
   ]
  },
  {
   "cell_type": "code",
   "execution_count": 121,
   "id": "a44dd220-58ed-44fa-b203-b4a2eb261747",
   "metadata": {},
   "outputs": [
    {
     "name": "stdout",
     "output_type": "stream",
     "text": [
      "[1]  TRUE  TRUE FALSE FALSE  TRUE\n",
      "[1] FALSE FALSE  TRUE  TRUE FALSE\n"
     ]
    }
   ],
   "source": [
    "print(x)\n",
    "print(!x)"
   ]
  },
  {
   "cell_type": "code",
   "execution_count": 122,
   "id": "cb384e78-f2d8-4c6d-8f1d-f866e40a9e6f",
   "metadata": {},
   "outputs": [
    {
     "name": "stdout",
     "output_type": "stream",
     "text": [
      "[1]  TRUE FALSE  TRUE FALSE  TRUE\n",
      "[1] FALSE  TRUE FALSE  TRUE FALSE\n"
     ]
    }
   ],
   "source": [
    "print(y)\n",
    "print(!y)"
   ]
  },
  {
   "cell_type": "markdown",
   "id": "1d2a414b-c7b5-42fc-b3eb-84103bfbbeb2",
   "metadata": {},
   "source": [
    "> Note: TRUE, FALSE 로 구성된 열을 잘 다루면 인덱싱에 유리하다. "
   ]
  },
  {
   "cell_type": "markdown",
   "id": "a9db564f-d8a5-458e-9223-1565cfaab7a8",
   "metadata": {},
   "source": [
    "`-` 예제2: 예제1의 응용 "
   ]
  },
  {
   "cell_type": "code",
   "execution_count": 124,
   "id": "34683bb6-b3bb-45b9-8ff0-52dda8232f6d",
   "metadata": {},
   "outputs": [
    {
     "data": {
      "text/plain": [
       " [1]  1  2  3  4  5  6  7  8  9 10 11 12 13 14 15 16 17 18 19 20 21 22 23 24 25\n",
       "[26] 26 27 28 29 30"
      ]
     },
     "metadata": {},
     "output_type": "display_data"
    }
   ],
   "source": [
    "x=1:30\n",
    "x"
   ]
  },
  {
   "cell_type": "code",
   "execution_count": 125,
   "id": "1a79f3cb-8c82-4dff-aca4-4453d61d82fb",
   "metadata": {},
   "outputs": [
    {
     "data": {
      "text/plain": [
       " [1] 1 2 0 1 2 0 1 2 0 1 2 0 1 2 0 1 2 0 1 2 0 1 2 0 1 2 0 1 2 0"
      ]
     },
     "metadata": {},
     "output_type": "display_data"
    }
   ],
   "source": [
    "x%%3 "
   ]
  },
  {
   "cell_type": "code",
   "execution_count": 127,
   "id": "ecc40bc7-fa72-48af-8e8a-f9244a2b7343",
   "metadata": {},
   "outputs": [
    {
     "data": {
      "text/plain": [
       " [1]  3  6  9 12 15 18 21 24 27 30"
      ]
     },
     "metadata": {},
     "output_type": "display_data"
    }
   ],
   "source": [
    "x[x%%3==0] # 3의 배수인것만 출력 "
   ]
  },
  {
   "cell_type": "code",
   "execution_count": 128,
   "id": "db7db7ab-3db5-466b-9f08-7772e2df4f60",
   "metadata": {},
   "outputs": [
    {
     "data": {
      "text/plain": [
       " [1]  1  2  4  5  7  8 10 11 13 14 16 17 19 20 22 23 25 26 28 29"
      ]
     },
     "metadata": {},
     "output_type": "display_data"
    }
   ],
   "source": [
    "x[!(x%%3==0)] # 3의 배수가 아닌것만 출력 "
   ]
  },
  {
   "cell_type": "markdown",
   "id": "6ca11ef5-2833-4c00-a3e9-e43d606a5ecc",
   "metadata": {},
   "source": [
    "`-` 예제2의 다른구현 (논리연산자와 TRUE/FALSE 로 이루어진 열을 다루는데 익숙하지 않다면 고생스러울 때가 있음) "
   ]
  },
  {
   "cell_type": "code",
   "execution_count": 135,
   "id": "df16a5fe-aba2-41ce-b242-9c6ecc4f6c19",
   "metadata": {},
   "outputs": [],
   "source": [
    "x<-c() \n",
    "j=1 \n",
    "for (i in 1:30){\n",
    "    if (i%%3 == 0) {\n",
    "        x[j]= i \n",
    "        j=j+1 \n",
    "    }\n",
    "}"
   ]
  },
  {
   "cell_type": "code",
   "execution_count": 136,
   "id": "95cf94d9-9f02-4c80-a10f-ad3c06da6f53",
   "metadata": {},
   "outputs": [
    {
     "data": {
      "text/plain": [
       " [1]  3  6  9 12 15 18 21 24 27 30"
      ]
     },
     "metadata": {},
     "output_type": "display_data"
    }
   ],
   "source": [
    "x"
   ]
  },
  {
   "cell_type": "code",
   "execution_count": 137,
   "id": "6256b93c-abf3-44f8-b90d-5dd900097384",
   "metadata": {},
   "outputs": [],
   "source": [
    "x<-c() \n",
    "j=1 \n",
    "for (i in 1:30){\n",
    "    if (i%%3 != 0) {\n",
    "        x[j]= i \n",
    "        j=j+1 \n",
    "    }\n",
    "}"
   ]
  },
  {
   "cell_type": "code",
   "execution_count": 138,
   "id": "0f51177a-3490-4485-8535-0be684c06466",
   "metadata": {},
   "outputs": [
    {
     "data": {
      "text/plain": [
       " [1]  1  2  4  5  7  8 10 11 13 14 16 17 19 20 22 23 25 26 28 29"
      ]
     },
     "metadata": {},
     "output_type": "display_data"
    }
   ],
   "source": [
    "x"
   ]
  },
  {
   "cell_type": "markdown",
   "id": "8ffaf25c-4c96-48d9-9df9-a95d0dbfebe0",
   "metadata": {},
   "source": [
    "`-` 예제3"
   ]
  },
  {
   "cell_type": "code",
   "execution_count": 146,
   "id": "004b2705-9176-4bf7-9fe2-175cc208718d",
   "metadata": {},
   "outputs": [],
   "source": [
    "x=c(T,T,F,F,T)\n",
    "y=c(T,F,T,F,T)"
   ]
  },
  {
   "cell_type": "code",
   "execution_count": 148,
   "id": "3b449645-af35-4e8c-8144-4ec183552a1d",
   "metadata": {},
   "outputs": [
    {
     "name": "stdout",
     "output_type": "stream",
     "text": [
      "[1]  TRUE  TRUE FALSE FALSE  TRUE\n",
      "[1]  TRUE FALSE  TRUE FALSE  TRUE\n",
      "[1]  TRUE FALSE FALSE FALSE  TRUE\n"
     ]
    }
   ],
   "source": [
    "print(x)\n",
    "print(y)\n",
    "print(x&y) ## and 연산자, 하나라도 FALSE이면 FALSE "
   ]
  },
  {
   "cell_type": "markdown",
   "id": "2f3d3b62-bae6-47e2-8bbf-208cebd7ba5b",
   "metadata": {},
   "source": [
    "`-` 예제4: 예제3의 응용 "
   ]
  },
  {
   "cell_type": "code",
   "execution_count": 149,
   "id": "d265600a-7db8-498f-ab36-7ba912e088de",
   "metadata": {},
   "outputs": [],
   "source": [
    "x=1:50"
   ]
  },
  {
   "cell_type": "code",
   "execution_count": 150,
   "id": "0f93c1b4-ee77-427f-8404-5bec92977bc4",
   "metadata": {},
   "outputs": [
    {
     "data": {
      "text/plain": [
       "[1] 33 36 39 42 45 48"
      ]
     },
     "metadata": {},
     "output_type": "display_data"
    }
   ],
   "source": [
    "x[(x>30) & (x%%3==0)] # 30보다크고, 3의 배수인것들 "
   ]
  },
  {
   "cell_type": "code",
   "execution_count": 151,
   "id": "46329341-a464-4ad0-a56f-b903ee1681b9",
   "metadata": {},
   "outputs": [
    {
     "data": {
      "text/plain": [
       " [1] 31 32 34 35 37 38 40 41 43 44 46 47 49 50"
      ]
     },
     "metadata": {},
     "output_type": "display_data"
    }
   ],
   "source": [
    "x[(x>30) & !(x%%3==0)] "
   ]
  },
  {
   "cell_type": "markdown",
   "id": "bc81f66a-7f88-46d3-919f-189c82169449",
   "metadata": {},
   "source": [
    "`-` 예제5"
   ]
  },
  {
   "cell_type": "code",
   "execution_count": 153,
   "id": "eecc7ecd-0e03-42b2-867a-346b89bed75f",
   "metadata": {},
   "outputs": [],
   "source": [
    "x=c(T,T,F,F,T)\n",
    "y=c(T,F,T,F,T)"
   ]
  },
  {
   "cell_type": "code",
   "execution_count": 154,
   "id": "8a810f95-0717-4d23-b2b2-1a84d431f80b",
   "metadata": {},
   "outputs": [
    {
     "name": "stdout",
     "output_type": "stream",
     "text": [
      "[1]  TRUE  TRUE FALSE FALSE  TRUE\n",
      "[1]  TRUE FALSE  TRUE FALSE  TRUE\n",
      "[1]  TRUE  TRUE  TRUE FALSE  TRUE\n"
     ]
    }
   ],
   "source": [
    "print(x)\n",
    "print(y)\n",
    "print(x|y) ## or 연산자, 하나라도 TRUE이면 TRUE"
   ]
  },
  {
   "cell_type": "markdown",
   "id": "9358e14b-da5a-4499-9735-cabc020cc586",
   "metadata": {},
   "source": [
    "`-` 예제6: 예제5를 응용 "
   ]
  },
  {
   "cell_type": "code",
   "execution_count": 156,
   "id": "21f8049f-cb9e-4aa1-bc08-4b74af08eeef",
   "metadata": {},
   "outputs": [
    {
     "data": {
      "text/plain": [
       " [1]  1  2  3  4  5  6  7  8  9 10 11 12 13 14 15 16 17 18 19 20 21 22 23 24 25\n",
       "[26] 26 27 28 29 30 31 32 33 34 35 36 37 38 39 40 41 42 43 44 45 46 47 48 49 50"
      ]
     },
     "metadata": {},
     "output_type": "display_data"
    }
   ],
   "source": [
    "x=1:50 \n",
    "x"
   ]
  },
  {
   "cell_type": "code",
   "execution_count": 157,
   "id": "4a52b235-1305-4218-9ca8-f79ceec2eaaa",
   "metadata": {},
   "outputs": [
    {
     "data": {
      "text/plain": [
       " [1]  TRUE  TRUE  TRUE  TRUE  TRUE  TRUE  TRUE  TRUE  TRUE FALSE FALSE FALSE\n",
       "[13] FALSE FALSE FALSE FALSE FALSE FALSE FALSE FALSE FALSE FALSE FALSE FALSE\n",
       "[25] FALSE FALSE FALSE FALSE FALSE FALSE  TRUE  TRUE  TRUE  TRUE  TRUE  TRUE\n",
       "[37]  TRUE  TRUE  TRUE  TRUE  TRUE  TRUE  TRUE  TRUE  TRUE  TRUE  TRUE  TRUE\n",
       "[49]  TRUE  TRUE"
      ]
     },
     "metadata": {},
     "output_type": "display_data"
    }
   ],
   "source": [
    "x>30 | x<10 "
   ]
  },
  {
   "cell_type": "code",
   "execution_count": 158,
   "id": "bf082f09-9d39-477d-a1f2-8ea066fdb664",
   "metadata": {},
   "outputs": [
    {
     "data": {
      "text/plain": [
       " [1]  1  2  3  4  5  6  7  8  9 31 32 33 34 35 36 37 38 39 40 41 42 43 44 45 46\n",
       "[26] 47 48 49 50"
      ]
     },
     "metadata": {},
     "output_type": "display_data"
    }
   ],
   "source": [
    "x[x>30 | x<10] "
   ]
  },
  {
   "cell_type": "markdown",
   "id": "3e5aa85c-3e46-470e-9847-03b112f40a2d",
   "metadata": {},
   "source": [
    "`-` 예제7 "
   ]
  },
  {
   "cell_type": "code",
   "execution_count": 196,
   "id": "28d8aae2-fecb-4536-b16c-cf6f56f698f4",
   "metadata": {},
   "outputs": [],
   "source": [
    "x=c(T,F,T,T,F)\n",
    "y=c(F,T,F,F,T)"
   ]
  },
  {
   "cell_type": "code",
   "execution_count": 197,
   "id": "b4eed59d-7796-45ea-860c-f0ea81bcaf8f",
   "metadata": {},
   "outputs": [
    {
     "name": "stdout",
     "output_type": "stream",
     "text": [
      "[1]  TRUE FALSE  TRUE  TRUE FALSE\n",
      "[1] FALSE  TRUE FALSE FALSE  TRUE\n",
      "[1] FALSE\n"
     ]
    }
   ],
   "source": [
    "print(x)\n",
    "print(y)\n",
    "print(x&&y) "
   ]
  },
  {
   "cell_type": "markdown",
   "id": "cbe6e36e-b467-4519-91d8-3cb43541c879",
   "metadata": {},
   "source": [
    "- x&&y 와 (x&y)[1]는 거의 같음 "
   ]
  },
  {
   "cell_type": "markdown",
   "id": "924a4460-a3b0-4916-951e-7141a8d2f348",
   "metadata": {},
   "source": [
    "`-` 예제8 "
   ]
  },
  {
   "cell_type": "code",
   "execution_count": 187,
   "id": "a053a768-2ce6-45fe-925c-f54f14f1dae7",
   "metadata": {},
   "outputs": [],
   "source": [
    "x=c(T,F,T,T,F)\n",
    "y=c(F,T,F,F,T)"
   ]
  },
  {
   "cell_type": "code",
   "execution_count": 190,
   "id": "fb8bdc89-bbe6-45c6-bd8b-4bfa7869c92b",
   "metadata": {},
   "outputs": [
    {
     "name": "stdout",
     "output_type": "stream",
     "text": [
      "[1]  TRUE FALSE  TRUE  TRUE FALSE\n",
      "[1] FALSE  TRUE FALSE FALSE  TRUE\n",
      "[1] TRUE\n"
     ]
    }
   ],
   "source": [
    "print(x)\n",
    "print(y)\n",
    "print(x||y) "
   ]
  },
  {
   "cell_type": "markdown",
   "id": "605187db-1f24-4350-8849-d0ebd921e89a",
   "metadata": {},
   "source": [
    "- x||y 와 (x|y)[1]는 거의 같음 "
   ]
  },
  {
   "cell_type": "markdown",
   "id": "9beeedd6-7426-4776-ad0c-b4061a941dec",
   "metadata": {},
   "source": [
    "### 비교연산자 "
   ]
  },
  {
   "cell_type": "markdown",
   "id": "bccdcd34-22d7-48a6-925c-29a4c164a866",
   "metadata": {},
   "source": [
    "`-` 예제1"
   ]
  },
  {
   "cell_type": "code",
   "execution_count": 200,
   "id": "86f4a150-b749-48f2-ac0f-91dff89d364e",
   "metadata": {},
   "outputs": [],
   "source": [
    "x=c(1,2,3,4,5)\n",
    "y=c(2,2,3,2,1) "
   ]
  },
  {
   "cell_type": "code",
   "execution_count": 203,
   "id": "b5f383ed-6c25-4b5f-b58a-59001070c270",
   "metadata": {},
   "outputs": [
    {
     "data": {
      "text/plain": [
       "[1] FALSE  TRUE  TRUE FALSE FALSE"
      ]
     },
     "metadata": {},
     "output_type": "display_data"
    }
   ],
   "source": [
    "x==y"
   ]
  },
  {
   "cell_type": "code",
   "execution_count": 206,
   "id": "6fa2914d-d62e-4d8f-a9ba-057d012db5e6",
   "metadata": {},
   "outputs": [
    {
     "data": {
      "text/plain": [
       "[1]  TRUE FALSE FALSE  TRUE  TRUE"
      ]
     },
     "metadata": {},
     "output_type": "display_data"
    }
   ],
   "source": [
    "x!=y"
   ]
  },
  {
   "cell_type": "code",
   "execution_count": 207,
   "id": "5e1baa23-a7ad-4f47-b090-4c0903101ad2",
   "metadata": {},
   "outputs": [
    {
     "data": {
      "text/plain": [
       "[1]  TRUE FALSE FALSE  TRUE  TRUE"
      ]
     },
     "metadata": {},
     "output_type": "display_data"
    }
   ],
   "source": [
    "!(x==y)"
   ]
  },
  {
   "cell_type": "markdown",
   "id": "0dbaa3af-6a1b-4264-8cea-29951d4899f9",
   "metadata": {},
   "source": [
    "`-` 예제1의 잘못된 적용 (1) "
   ]
  },
  {
   "cell_type": "code",
   "execution_count": 210,
   "id": "e4f03d98-0ff1-4355-8c56-ee50deefd824",
   "metadata": {},
   "outputs": [],
   "source": [
    "x=c(1,2,3,4,5)\n",
    "y=c(2,2,3,2,1) "
   ]
  },
  {
   "cell_type": "code",
   "execution_count": 211,
   "id": "3601b9dd-69c8-4868-a027-c8083a193842",
   "metadata": {},
   "outputs": [],
   "source": [
    "x=y "
   ]
  },
  {
   "cell_type": "code",
   "execution_count": 212,
   "id": "46fe8848-beda-4dc2-a10f-a8addcfa1c65",
   "metadata": {},
   "outputs": [
    {
     "data": {
      "text/plain": [
       "[1] 2 2 3 2 1"
      ]
     },
     "metadata": {},
     "output_type": "display_data"
    }
   ],
   "source": [
    "x"
   ]
  },
  {
   "cell_type": "markdown",
   "id": "f89905ea-f7c0-474d-95fc-377bd66bcf97",
   "metadata": {},
   "source": [
    "`-` 예제1의 잘못된 적용 (2) "
   ]
  },
  {
   "cell_type": "code",
   "execution_count": 213,
   "id": "9c08148b-24c1-4417-8e15-5fda3794879b",
   "metadata": {},
   "outputs": [],
   "source": [
    "x=c(1,2,3,4,5)\n",
    "y=c(2,2,3,2,1) "
   ]
  },
  {
   "cell_type": "code",
   "execution_count": 214,
   "id": "5d8dd2f1-f8c1-4823-a2e3-b1762ac5c3ae",
   "metadata": {},
   "outputs": [],
   "source": [
    "x=!y "
   ]
  },
  {
   "cell_type": "code",
   "execution_count": 215,
   "id": "bc96e99b-7598-41c1-b253-4d04eb0231b9",
   "metadata": {},
   "outputs": [
    {
     "data": {
      "text/plain": [
       "[1] FALSE FALSE FALSE FALSE FALSE"
      ]
     },
     "metadata": {},
     "output_type": "display_data"
    }
   ],
   "source": [
    "x"
   ]
  },
  {
   "cell_type": "markdown",
   "id": "16792ef8-9cae-42ef-952b-e38bb4edabb3",
   "metadata": {},
   "source": [
    "- ???? 왜 이런결과가? "
   ]
  },
  {
   "cell_type": "markdown",
   "id": "33489ca9-2b37-4f97-85d4-6c46b962fec8",
   "metadata": {},
   "source": [
    "(잘못된 결과의 분석)"
   ]
  },
  {
   "cell_type": "code",
   "execution_count": 217,
   "id": "41a034be-1691-4c52-8d8c-b3ea8fc01730",
   "metadata": {},
   "outputs": [
    {
     "data": {
      "text/plain": [
       "[1] FALSE FALSE FALSE FALSE FALSE"
      ]
     },
     "metadata": {},
     "output_type": "display_data"
    }
   ],
   "source": [
    "!y"
   ]
  },
  {
   "cell_type": "code",
   "execution_count": 219,
   "id": "a2974e18-cc25-4234-a3b2-91ca1c2cfd21",
   "metadata": {},
   "outputs": [
    {
     "data": {
      "text/plain": [
       "[1] FALSE FALSE  TRUE  TRUE"
      ]
     },
     "metadata": {},
     "output_type": "display_data"
    }
   ],
   "source": [
    "!c(1,1,0,0) "
   ]
  },
  {
   "cell_type": "code",
   "execution_count": 220,
   "id": "88013204-f7d8-4e8d-941f-501a11d78632",
   "metadata": {},
   "outputs": [
    {
     "data": {
      "text/plain": [
       "[1] FALSE FALSE  TRUE  TRUE"
      ]
     },
     "metadata": {},
     "output_type": "display_data"
    }
   ],
   "source": [
    "!c(2,2,0,0) "
   ]
  },
  {
   "cell_type": "markdown",
   "id": "8a81c3dd-3d1b-4e09-b388-cee3aeed1d3f",
   "metadata": {},
   "source": [
    "`-` 예제2"
   ]
  },
  {
   "cell_type": "code",
   "execution_count": 224,
   "id": "c6d22bf6-cd38-4068-88b0-65f0ad97192e",
   "metadata": {},
   "outputs": [],
   "source": [
    "x=c(1,2,3,4,5)\n",
    "y=c(2,2,3,2,1)  "
   ]
  },
  {
   "cell_type": "code",
   "execution_count": 225,
   "id": "4bdb0128-abaf-458c-88ef-09a1d90bb0fc",
   "metadata": {},
   "outputs": [
    {
     "data": {
      "text/plain": [
       "[1] FALSE FALSE FALSE  TRUE  TRUE"
      ]
     },
     "metadata": {},
     "output_type": "display_data"
    }
   ],
   "source": [
    "x>y"
   ]
  },
  {
   "cell_type": "code",
   "execution_count": 223,
   "id": "399ef46d-7a6f-4c7e-a9e9-0705509fc09d",
   "metadata": {},
   "outputs": [
    {
     "data": {
      "text/plain": [
       "[1]  TRUE FALSE FALSE FALSE FALSE"
      ]
     },
     "metadata": {},
     "output_type": "display_data"
    }
   ],
   "source": [
    "x<y"
   ]
  },
  {
   "cell_type": "code",
   "execution_count": 226,
   "id": "d6978c5e-4839-424f-a88b-5a80761b49a3",
   "metadata": {},
   "outputs": [
    {
     "data": {
      "text/plain": [
       "[1] FALSE  TRUE  TRUE  TRUE  TRUE"
      ]
     },
     "metadata": {},
     "output_type": "display_data"
    }
   ],
   "source": [
    "x>=y "
   ]
  },
  {
   "cell_type": "code",
   "execution_count": 227,
   "id": "286c67ff-1a9b-4737-a912-1ebd8728e80a",
   "metadata": {},
   "outputs": [
    {
     "data": {
      "text/plain": [
       "[1]  TRUE  TRUE  TRUE FALSE FALSE"
      ]
     },
     "metadata": {},
     "output_type": "display_data"
    }
   ],
   "source": [
    "x<=y "
   ]
  },
  {
   "cell_type": "markdown",
   "id": "afe6c223-bec0-419e-bc42-5de7c57703c2",
   "metadata": {},
   "source": [
    "`-` 예제2의 잘못된 사용 "
   ]
  },
  {
   "cell_type": "code",
   "execution_count": 228,
   "id": "1bb2a15a-e68d-4fbe-9b07-930fa7e05d42",
   "metadata": {},
   "outputs": [
    {
     "ename": "ERROR",
     "evalue": "Error in parse(text = x, srcfile = src): <text>:1:3: unexpected '>'\n1: x=>\n      ^\n",
     "output_type": "error",
     "traceback": [
      "Error in parse(text = x, srcfile = src): <text>:1:3: unexpected '>'\n1: x=>\n      ^\nTraceback:\n"
     ]
    }
   ],
   "source": [
    "x=>y "
   ]
  },
  {
   "cell_type": "code",
   "execution_count": 229,
   "id": "9beb05e5-fea0-4836-a813-4fa7fcbaed2d",
   "metadata": {},
   "outputs": [
    {
     "ename": "ERROR",
     "evalue": "Error in parse(text = x, srcfile = src): <text>:1:3: unexpected '<'\n1: x=<\n      ^\n",
     "output_type": "error",
     "traceback": [
      "Error in parse(text = x, srcfile = src): <text>:1:3: unexpected '<'\n1: x=<\n      ^\nTraceback:\n"
     ]
    }
   ],
   "source": [
    "x=<y"
   ]
  },
  {
   "cell_type": "markdown",
   "id": "f57c2153-5e87-4c19-ad20-286e8b21925d",
   "metadata": {},
   "source": [
    "### 숙제 "
   ]
  },
  {
   "cell_type": "code",
   "execution_count": 235,
   "id": "8bdf2179-5fe5-406a-bc3a-fcbbbcd73270",
   "metadata": {},
   "outputs": [],
   "source": [
    "x= -100:100/10 "
   ]
  },
  {
   "cell_type": "code",
   "execution_count": 236,
   "id": "0c9c084b-8692-48de-b05e-47be62dae147",
   "metadata": {},
   "outputs": [
    {
     "data": {
      "text/plain": [
       "  [1] -10.0  -9.9  -9.8  -9.7  -9.6  -9.5  -9.4  -9.3  -9.2  -9.1  -9.0  -8.9\n",
       " [13]  -8.8  -8.7  -8.6  -8.5  -8.4  -8.3  -8.2  -8.1  -8.0  -7.9  -7.8  -7.7\n",
       " [25]  -7.6  -7.5  -7.4  -7.3  -7.2  -7.1  -7.0  -6.9  -6.8  -6.7  -6.6  -6.5\n",
       " [37]  -6.4  -6.3  -6.2  -6.1  -6.0  -5.9  -5.8  -5.7  -5.6  -5.5  -5.4  -5.3\n",
       " [49]  -5.2  -5.1  -5.0  -4.9  -4.8  -4.7  -4.6  -4.5  -4.4  -4.3  -4.2  -4.1\n",
       " [61]  -4.0  -3.9  -3.8  -3.7  -3.6  -3.5  -3.4  -3.3  -3.2  -3.1  -3.0  -2.9\n",
       " [73]  -2.8  -2.7  -2.6  -2.5  -2.4  -2.3  -2.2  -2.1  -2.0  -1.9  -1.8  -1.7\n",
       " [85]  -1.6  -1.5  -1.4  -1.3  -1.2  -1.1  -1.0  -0.9  -0.8  -0.7  -0.6  -0.5\n",
       " [97]  -0.4  -0.3  -0.2  -0.1   0.0   0.1   0.2   0.3   0.4   0.5   0.6   0.7\n",
       "[109]   0.8   0.9   1.0   1.1   1.2   1.3   1.4   1.5   1.6   1.7   1.8   1.9\n",
       "[121]   2.0   2.1   2.2   2.3   2.4   2.5   2.6   2.7   2.8   2.9   3.0   3.1\n",
       "[133]   3.2   3.3   3.4   3.5   3.6   3.7   3.8   3.9   4.0   4.1   4.2   4.3\n",
       "[145]   4.4   4.5   4.6   4.7   4.8   4.9   5.0   5.1   5.2   5.3   5.4   5.5\n",
       "[157]   5.6   5.7   5.8   5.9   6.0   6.1   6.2   6.3   6.4   6.5   6.6   6.7\n",
       "[169]   6.8   6.9   7.0   7.1   7.2   7.3   7.4   7.5   7.6   7.7   7.8   7.9\n",
       "[181]   8.0   8.1   8.2   8.3   8.4   8.5   8.6   8.7   8.8   8.9   9.0   9.1\n",
       "[193]   9.2   9.3   9.4   9.5   9.6   9.7   9.8   9.9  10.0"
      ]
     },
     "metadata": {},
     "output_type": "display_data"
    }
   ],
   "source": [
    "x"
   ]
  },
  {
   "cell_type": "markdown",
   "id": "a5917c13-2ec2-4aa2-8b71-95b3677a6d24",
   "metadata": {},
   "source": [
    "아래와 같은 $y$를 생성하라. "
   ]
  },
  {
   "cell_type": "markdown",
   "id": "b8c604a6-218a-4609-847e-920d7fcb28a9",
   "metadata": {},
   "source": [
    "$y=\\begin{cases} \n",
    "x & |x|>5 \\\\ \n",
    "0 & |x| \\leq 2  \\\\\n",
    "5 & o.w.\n",
    "\\end{cases}$ "
   ]
  },
  {
   "cell_type": "markdown",
   "id": "8bf1670d-db21-49ad-b283-dff7bd81e956",
   "metadata": {},
   "source": [
    "힌트: ifelse를 중첩, abs()함수를 이용 "
   ]
  },
  {
   "cell_type": "code",
   "execution_count": 240,
   "id": "d7970e7a-ec92-4545-aaaf-cbd4e1eb2a60",
   "metadata": {},
   "outputs": [
    {
     "data": {
      "text/plain": [
       "  [1] -10.0  -9.9  -9.8  -9.7  -9.6  -9.5  -9.4  -9.3  -9.2  -9.1  -9.0  -8.9\n",
       " [13]  -8.8  -8.7  -8.6  -8.5  -8.4  -8.3  -8.2  -8.1  -8.0  -7.9  -7.8  -7.7\n",
       " [25]  -7.6  -7.5  -7.4  -7.3  -7.2  -7.1  -7.0  -6.9  -6.8  -6.7  -6.6  -6.5\n",
       " [37]  -6.4  -6.3  -6.2  -6.1  -6.0  -5.9  -5.8  -5.7  -5.6  -5.5  -5.4  -5.3\n",
       " [49]  -5.2  -5.1   5.0   5.0   5.0   5.0   5.0   5.0   5.0   5.0   5.0   5.0\n",
       " [61]   5.0   5.0   5.0   5.0   5.0   5.0   5.0   5.0   5.0   5.0   5.0   5.0\n",
       " [73]   5.0   5.0   5.0   5.0   5.0   5.0   5.0   5.0   0.0   0.0   0.0   0.0\n",
       " [85]   0.0   0.0   0.0   0.0   0.0   0.0   0.0   0.0   0.0   0.0   0.0   0.0\n",
       " [97]   0.0   0.0   0.0   0.0   0.0   0.0   0.0   0.0   0.0   0.0   0.0   0.0\n",
       "[109]   0.0   0.0   0.0   0.0   0.0   0.0   0.0   0.0   0.0   0.0   0.0   0.0\n",
       "[121]   0.0   5.0   5.0   5.0   5.0   5.0   5.0   5.0   5.0   5.0   5.0   5.0\n",
       "[133]   5.0   5.0   5.0   5.0   5.0   5.0   5.0   5.0   5.0   5.0   5.0   5.0\n",
       "[145]   5.0   5.0   5.0   5.0   5.0   5.0   5.0   5.1   5.2   5.3   5.4   5.5\n",
       "[157]   5.6   5.7   5.8   5.9   6.0   6.1   6.2   6.3   6.4   6.5   6.6   6.7\n",
       "[169]   6.8   6.9   7.0   7.1   7.2   7.3   7.4   7.5   7.6   7.7   7.8   7.9\n",
       "[181]   8.0   8.1   8.2   8.3   8.4   8.5   8.6   8.7   8.8   8.9   9.0   9.1\n",
       "[193]   9.2   9.3   9.4   9.5   9.6   9.7   9.8   9.9  10.0"
      ]
     },
     "metadata": {},
     "output_type": "display_data"
    }
   ],
   "source": [
    "ifelse(abs(x)>5,x,ifelse(abs(x)<=2,0,5))"
   ]
  },
  {
   "cell_type": "code",
   "execution_count": null,
   "id": "17ac91ff-9b85-430f-865e-7c4763b39223",
   "metadata": {},
   "outputs": [],
   "source": []
  }
 ],
 "metadata": {
  "kernelspec": {
   "display_name": "R",
   "language": "R",
   "name": "ir"
  },
  "language_info": {
   "codemirror_mode": "r",
   "file_extension": ".r",
   "mimetype": "text/x-r-source",
   "name": "R",
   "pygments_lexer": "r",
   "version": "4.0.5"
  }
 },
 "nbformat": 4,
 "nbformat_minor": 5
}
