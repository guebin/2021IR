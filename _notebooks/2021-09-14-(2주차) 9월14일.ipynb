{
 "cells": [
  {
   "cell_type": "markdown",
   "id": "8c29c5d3-a0b3-4826-af4f-d05149fcb475",
   "metadata": {
    "tags": []
   },
   "source": [
    "# (2주차) 9월14일 \n",
    "> 벡터인덱싱, 메인플랏과 서브플랏, 주석이용법\n",
    "\n",
    "- toc:true\n",
    "- branch: master\n",
    "- badges: true\n",
    "- comments: true\n",
    "- author: 최규빈"
   ]
  },
  {
   "cell_type": "code",
   "execution_count": 118,
   "id": "6fd8e6c6-d142-4a9c-9972-ad49b4662c48",
   "metadata": {},
   "outputs": [],
   "source": [
    "#hide\n",
    "options(jupyter.plot_mimetypes=c(\"image/svg+xml\"))\n",
    "options(jupyter.display_mimetypes=c(\"text/html\"))\n",
    "options(jupyter.rich_display=FALSE)\n",
    "options(max.print=1000)"
   ]
  },
  {
   "cell_type": "markdown",
   "id": "e314d7e8-bf92-4445-8fd6-ee9a753ebb89",
   "metadata": {},
   "source": [
    "### [강의영상](https://youtube.com/playlist?list=PLQqh36zP38-y7EeAhH_4Y2mGrOuFtVYeI)"
   ]
  },
  {
   "cell_type": "markdown",
   "id": "d97e96c9-7a32-4818-9351-e15f415f0fd7",
   "metadata": {},
   "source": [
    "`-` (1/1) 벡터의 원소를 뽑는법, 메인플랏과 서브플랏, 주석이용법"
   ]
  },
  {
   "cell_type": "markdown",
   "id": "952581d2-35d9-434a-b541-ca225f38ae23",
   "metadata": {},
   "source": [
    "### 벡터의 원소를 뽑는 방법 "
   ]
  },
  {
   "cell_type": "code",
   "execution_count": 121,
   "id": "27730311-baef-42ed-96c5-11f8326b2cda",
   "metadata": {},
   "outputs": [
    {
     "data": {
      "text/plain": [
       "[1]  1  2 -2  4  5 -5  6"
      ]
     },
     "metadata": {},
     "output_type": "display_data"
    }
   ],
   "source": [
    "x<-c(1,2,-2,4,5,-5,6)\n",
    "x"
   ]
  },
  {
   "cell_type": "markdown",
   "id": "78c631b2-5e00-48d8-ac92-8db9e0cca6c1",
   "metadata": {},
   "source": [
    "#### 원소들의 번호를 불러서 뽑아낸다. "
   ]
  },
  {
   "cell_type": "markdown",
   "id": "b09dadd6-e8d9-4c6a-8e8d-6aae64ce6e24",
   "metadata": {},
   "source": [
    "`-` 첫 원소를 뽑고싶다. "
   ]
  },
  {
   "cell_type": "code",
   "execution_count": 122,
   "id": "63f682f1-543b-4bb7-806a-f132462f76ae",
   "metadata": {},
   "outputs": [
    {
     "data": {
      "text/plain": [
       "[1] 1"
      ]
     },
     "metadata": {},
     "output_type": "display_data"
    }
   ],
   "source": [
    "x[1]"
   ]
  },
  {
   "cell_type": "markdown",
   "id": "46e14bc4-9642-4df0-aaf3-59c58729e3f2",
   "metadata": {},
   "source": [
    "`-` 세번째 원소를 뽑고싶다. "
   ]
  },
  {
   "cell_type": "code",
   "execution_count": 123,
   "id": "821058b6-e210-4d15-936e-6a8d48767138",
   "metadata": {},
   "outputs": [
    {
     "data": {
      "text/plain": [
       "[1] -2"
      ]
     },
     "metadata": {},
     "output_type": "display_data"
    }
   ],
   "source": [
    "x[3]"
   ]
  },
  {
   "cell_type": "markdown",
   "id": "063dfd80-b851-46a4-941d-0aece4e2af56",
   "metadata": {},
   "source": [
    "`-` 첫번째부터 세번째까지의 원소를 뽑고싶다. "
   ]
  },
  {
   "cell_type": "code",
   "execution_count": 124,
   "id": "8b20d399-c889-4138-918c-6237c3c0febb",
   "metadata": {},
   "outputs": [
    {
     "data": {
      "text/plain": [
       "[1]  1  2 -2"
      ]
     },
     "metadata": {},
     "output_type": "display_data"
    }
   ],
   "source": [
    "x[1:3]"
   ]
  },
  {
   "cell_type": "code",
   "execution_count": 125,
   "id": "5bf5f5f6-88b1-4c19-a125-c8a7f2dbd218",
   "metadata": {},
   "outputs": [
    {
     "data": {
      "text/plain": [
       "[1]  1  2 -2"
      ]
     },
     "metadata": {},
     "output_type": "display_data"
    }
   ],
   "source": [
    "x[c(1,2,3)]"
   ]
  },
  {
   "cell_type": "markdown",
   "id": "56c2164a-7b5a-4768-9185-b8dd05e7bafb",
   "metadata": {},
   "source": [
    "`-` 2,5,6 번째의 원소를 뽑고싶다면? "
   ]
  },
  {
   "cell_type": "code",
   "execution_count": 126,
   "id": "9c96d071-9ac8-4bb9-99b7-d49c7aabee83",
   "metadata": {},
   "outputs": [
    {
     "data": {
      "text/plain": [
       "[1]  2  5 -5"
      ]
     },
     "metadata": {},
     "output_type": "display_data"
    }
   ],
   "source": [
    "x[c(2,5,6)]"
   ]
  },
  {
   "cell_type": "markdown",
   "id": "a98f9289-2d4c-44f0-829f-de3c102bad72",
   "metadata": {},
   "source": [
    "`-` 3번째 원소를 제외하고 호출 "
   ]
  },
  {
   "cell_type": "code",
   "execution_count": 127,
   "id": "990ae321-8a13-458a-9c90-2820419dd3a3",
   "metadata": {},
   "outputs": [
    {
     "data": {
      "text/plain": [
       "[1]  1  2  4  5 -5  6"
      ]
     },
     "metadata": {},
     "output_type": "display_data"
    }
   ],
   "source": [
    "x[-3]"
   ]
  },
  {
   "cell_type": "markdown",
   "id": "bfa76af0-d55f-41bb-bb08-3af7ef612f22",
   "metadata": {},
   "source": [
    "`-` 3,4번째의 원소를 제외하고 호출 "
   ]
  },
  {
   "cell_type": "code",
   "execution_count": 128,
   "id": "fb516a0e-e5fa-4f09-b76e-11845a42c356",
   "metadata": {},
   "outputs": [
    {
     "data": {
      "text/plain": [
       "[1]  1  2  5 -5  6"
      ]
     },
     "metadata": {},
     "output_type": "display_data"
    }
   ],
   "source": [
    "x[c(-3,-4)]"
   ]
  },
  {
   "cell_type": "code",
   "execution_count": 129,
   "id": "3d171de4-d07f-4641-b309-28ce1a43f5dc",
   "metadata": {},
   "outputs": [
    {
     "data": {
      "text/plain": [
       "[1]  1  2  5 -5  6"
      ]
     },
     "metadata": {},
     "output_type": "display_data"
    }
   ],
   "source": [
    "x[-(3:4)]"
   ]
  },
  {
   "cell_type": "markdown",
   "id": "55ac5226-296b-4f93-aa1a-385ad5a96769",
   "metadata": {},
   "source": [
    "#### 어떠한 조건을 주고, 그 조건에 만족하는 원소 (혹은 만족하지 않는 원소)를 뽑는법 "
   ]
  },
  {
   "cell_type": "code",
   "execution_count": 130,
   "id": "ad8dfa71-08b1-432d-a7f6-393a21c78dcb",
   "metadata": {},
   "outputs": [
    {
     "data": {
      "text/plain": [
       "[1]  1  2 -2  4  5 -5  6"
      ]
     },
     "metadata": {},
     "output_type": "display_data"
    }
   ],
   "source": [
    "x<-c(1,2,-2,4,5,-5,6)\n",
    "x"
   ]
  },
  {
   "cell_type": "markdown",
   "id": "42d1634e-fee4-4277-8e53-47289a1b67c2",
   "metadata": {},
   "source": [
    "`-` 양수인 원소를 뽑는법 "
   ]
  },
  {
   "cell_type": "markdown",
   "id": "33857dd0-9b06-4032-920e-d7d60e457a98",
   "metadata": {},
   "source": [
    "(1) 양수인지 스스로 판단 \n",
    "\n",
    "(2) 양수라면 나간다. "
   ]
  },
  {
   "cell_type": "code",
   "execution_count": 131,
   "id": "f2ae0ee3-6265-4b7a-ae42-72e04e3c5676",
   "metadata": {},
   "outputs": [
    {
     "data": {
      "text/plain": [
       "[1]  TRUE  TRUE FALSE  TRUE  TRUE FALSE  TRUE"
      ]
     },
     "metadata": {},
     "output_type": "display_data"
    }
   ],
   "source": [
    "x>0"
   ]
  },
  {
   "cell_type": "markdown",
   "id": "a2822f90-586b-4460-b267-f518ea7d8193",
   "metadata": {},
   "source": [
    "`-` `x>0`이 결과는 TRUE, FALSE가 포함된 벡터 "
   ]
  },
  {
   "cell_type": "code",
   "execution_count": 132,
   "id": "de476a9f-2e6e-4d39-9c10-3c1782b34628",
   "metadata": {},
   "outputs": [
    {
     "data": {
      "text/plain": [
       "[1] 1 2 4 5 6"
      ]
     },
     "metadata": {},
     "output_type": "display_data"
    }
   ],
   "source": [
    "x[x>0]"
   ]
  },
  {
   "cell_type": "markdown",
   "id": "3a4fd17d-7e4b-4c43-8c87-98d4eb9d6bf0",
   "metadata": {},
   "source": [
    "`-` 3보다 큰 원소를 뽑는 방법 "
   ]
  },
  {
   "cell_type": "code",
   "execution_count": 133,
   "id": "b162e41b-d0e7-4d3e-bacb-2cf3be802e2e",
   "metadata": {},
   "outputs": [
    {
     "data": {
      "text/plain": [
       "[1] 4 5 6"
      ]
     },
     "metadata": {},
     "output_type": "display_data"
    }
   ],
   "source": [
    "x[x>3]"
   ]
  },
  {
   "cell_type": "markdown",
   "id": "5ff53843-1d4c-4655-975a-6fe4c15b6654",
   "metadata": {},
   "source": [
    "`-` 3번째 원소를 뽑아라. "
   ]
  },
  {
   "cell_type": "code",
   "execution_count": 136,
   "id": "3711de98-60a0-41b7-aa87-138495ae948a",
   "metadata": {},
   "outputs": [
    {
     "data": {
      "text/plain": [
       "[1] FALSE FALSE  TRUE FALSE FALSE FALSE FALSE"
      ]
     },
     "metadata": {},
     "output_type": "display_data"
    }
   ],
   "source": [
    "array_ = c(FALSE, FALSE, TRUE, FALSE, FALSE, FALSE, FALSE)\n",
    "array_"
   ]
  },
  {
   "cell_type": "code",
   "execution_count": 137,
   "id": "ba66b7a6-9501-487f-bce3-b491ca5bc969",
   "metadata": {},
   "outputs": [
    {
     "data": {
      "text/plain": [
       "[1] -2"
      ]
     },
     "metadata": {},
     "output_type": "display_data"
    }
   ],
   "source": [
    "x[array_]"
   ]
  },
  {
   "cell_type": "markdown",
   "id": "be71b74a-7abe-4bbd-9d62-2aa98afe19b3",
   "metadata": {},
   "source": [
    "`-` 값이 -2인 원소를 뽑아라. "
   ]
  },
  {
   "cell_type": "code",
   "execution_count": 138,
   "id": "2df61716-790a-46e3-8771-4a0ed42a59b7",
   "metadata": {},
   "outputs": [
    {
     "data": {
      "text/plain": [
       "[1] -2"
      ]
     },
     "metadata": {},
     "output_type": "display_data"
    }
   ],
   "source": [
    "x[x == -2]"
   ]
  },
  {
   "cell_type": "markdown",
   "id": "2b94965a-f162-4475-898b-b402e48f30e1",
   "metadata": {},
   "source": [
    "`-` 응용예제"
   ]
  },
  {
   "cell_type": "code",
   "execution_count": 141,
   "id": "89731947-f72f-4964-bc6e-540930b07923",
   "metadata": {},
   "outputs": [],
   "source": [
    "x<- c(1,2,3,4,5)\n",
    "y<- x^2 "
   ]
  },
  {
   "cell_type": "code",
   "execution_count": 142,
   "id": "27963d9b-4455-4b5b-8fb9-d436b860c175",
   "metadata": {},
   "outputs": [
    {
     "data": {
      "text/plain": [
       "[1] 1 2 3 4 5"
      ]
     },
     "metadata": {},
     "output_type": "display_data"
    }
   ],
   "source": [
    "x"
   ]
  },
  {
   "cell_type": "code",
   "execution_count": 143,
   "id": "3fdaea0f-8fa2-47c2-b9bd-45335aec7433",
   "metadata": {},
   "outputs": [
    {
     "data": {
      "text/plain": [
       "[1]  1  4  9 16 25"
      ]
     },
     "metadata": {},
     "output_type": "display_data"
    }
   ],
   "source": [
    "y"
   ]
  },
  {
   "cell_type": "markdown",
   "id": "11a41ccb-4e3e-464e-92fd-76b86651d8c6",
   "metadata": {},
   "source": [
    "$y=x^2=9$가 되도록 만드는 $x$를 알려줘!"
   ]
  },
  {
   "cell_type": "code",
   "execution_count": 144,
   "id": "8c57164f-017f-4dd2-8d76-d48212f9d515",
   "metadata": {},
   "outputs": [
    {
     "data": {
      "text/plain": [
       "[1] 3"
      ]
     },
     "metadata": {},
     "output_type": "display_data"
    }
   ],
   "source": [
    "x[y==9]"
   ]
  },
  {
   "cell_type": "markdown",
   "id": "7d73f104-ba8a-4de4-b8f0-2e9c69ea73a7",
   "metadata": {},
   "source": [
    "### 그림을 그릴 때 기억할 것\n",
    "\n",
    "`-` 그림자체를 생성해주는 plot과 같은 명령이 있고, 생성된 그림에 덧붙여서만 그릴 수 있는 lines, points, abline 과 같은 함수가 있다. "
   ]
  },
  {
   "cell_type": "markdown",
   "id": "416e8f23-7a2f-4ed4-8dbf-36f170f1f33e",
   "metadata": {},
   "source": [
    "`-` 생성된 그림에 덧붙여서 그릴 수 있는 함수들은 단독으로 쓸 수 없다. "
   ]
  },
  {
   "cell_type": "code",
   "execution_count": 145,
   "id": "447d1265-7bc6-4ead-a15d-d48a1933095f",
   "metadata": {},
   "outputs": [
    {
     "data": {
      "text/plain": [
       " [1] 0.1 0.2 0.3 0.4 0.5 0.6 0.7 0.8 0.9 1.0 1.1 1.2 1.3 1.4 1.5 1.6 1.7 1.8 1.9\n",
       "[20] 2.0 2.1 2.2 2.3 2.4 2.5 2.6 2.7 2.8 2.9 3.0 3.1 3.2 3.3 3.4 3.5 3.6 3.7 3.8\n",
       "[39] 3.9 4.0 4.1 4.2 4.3 4.4 4.5 4.6 4.7 4.8 4.9 5.0 5.1 5.2 5.3 5.4 5.5 5.6 5.7\n",
       "[58] 5.8 5.9 6.0"
      ]
     },
     "metadata": {},
     "output_type": "display_data"
    }
   ],
   "source": [
    "x<-1:60/10 \n",
    "x"
   ]
  },
  {
   "cell_type": "code",
   "execution_count": 146,
   "id": "e61f1319-c225-4072-b292-8964d92163c9",
   "metadata": {},
   "outputs": [
    {
     "data": {
      "text/plain": [
       " [1]  0.09983342  0.19866933  0.29552021  0.38941834  0.47942554  0.56464247\n",
       " [7]  0.64421769  0.71735609  0.78332691  0.84147098  0.89120736  0.93203909\n",
       "[13]  0.96355819  0.98544973  0.99749499  0.99957360  0.99166481  0.97384763\n",
       "[19]  0.94630009  0.90929743  0.86320937  0.80849640  0.74570521  0.67546318\n",
       "[25]  0.59847214  0.51550137  0.42737988  0.33498815  0.23924933  0.14112001\n",
       "[31]  0.04158066 -0.05837414 -0.15774569 -0.25554110 -0.35078323 -0.44252044\n",
       "[37] -0.52983614 -0.61185789 -0.68776616 -0.75680250 -0.81827711 -0.87157577\n",
       "[43] -0.91616594 -0.95160207 -0.97753012 -0.99369100 -0.99992326 -0.99616461\n",
       "[49] -0.98245261 -0.95892427 -0.92581468 -0.88345466 -0.83226744 -0.77276449\n",
       "[55] -0.70554033 -0.63126664 -0.55068554 -0.46460218 -0.37387666 -0.27941550"
      ]
     },
     "metadata": {},
     "output_type": "display_data"
    }
   ],
   "source": [
    "y<-sin(x)\n",
    "y"
   ]
  },
  {
   "cell_type": "markdown",
   "id": "31fdb5a1-b0eb-4559-aaf2-d45fb4fdb3b2",
   "metadata": {},
   "source": [
    "`-` plot은 단독으로 그림을 만드는 함수, lines는 만들어진 그림에 덧붙이는 함수 "
   ]
  },
  {
   "cell_type": "code",
   "execution_count": 147,
   "id": "3f594e70-227b-4cf8-96aa-ab9969071327",
   "metadata": {},
   "outputs": [
    {
     "data": {
      "image/svg+xml": [
       "<?xml version=\"1.0\" encoding=\"UTF-8\"?>\n",
       "<svg xmlns=\"http://www.w3.org/2000/svg\" xmlns:xlink=\"http://www.w3.org/1999/xlink\" width=\"504pt\" height=\"504pt\" viewBox=\"0 0 504 504\" version=\"1.1\">\n",
       "<defs>\n",
       "<g>\n",
       "<symbol overflow=\"visible\" id=\"glyph0-0\">\n",
       "<path style=\"stroke:none;\" d=\"M 1.203125 -8.25 L 7.796875 -8.25 L 7.796875 0 L 1.203125 0 Z M 1.640625 -7.8125 L 1.640625 -0.453125 L 7.34375 -0.453125 L 7.34375 -7.8125 Z M 1.640625 -7.8125 \"/>\n",
       "</symbol>\n",
       "<symbol overflow=\"visible\" id=\"glyph0-1\">\n",
       "<path style=\"stroke:none;\" d=\"M 6.203125 -4.125 C 6.203125 -2.75 5.957031 -1.695312 5.46875 -0.96875 C 4.988281 -0.238281 4.273438 0.125 3.328125 0.125 C 2.378906 0.125 1.664062 -0.234375 1.1875 -0.953125 C 0.707031 -1.679688 0.46875 -2.738281 0.46875 -4.125 C 0.46875 -5.550781 0.695312 -6.613281 1.15625 -7.3125 C 1.625 -8.019531 2.359375 -8.375 3.359375 -8.375 C 4.328125 -8.375 5.039062 -8.015625 5.5 -7.296875 C 5.96875 -6.585938 6.203125 -5.53125 6.203125 -4.125 Z M 5.140625 -4.125 C 5.140625 -5.320312 5 -6.1875 4.71875 -6.71875 C 4.445312 -7.257812 3.992188 -7.53125 3.359375 -7.53125 C 2.710938 -7.53125 2.242188 -7.265625 1.953125 -6.734375 C 1.671875 -6.203125 1.53125 -5.332031 1.53125 -4.125 C 1.53125 -2.957031 1.671875 -2.101562 1.953125 -1.5625 C 2.242188 -1.019531 2.703125 -0.75 3.328125 -0.75 C 3.953125 -0.75 4.410156 -1.023438 4.703125 -1.578125 C 4.992188 -2.128906 5.140625 -2.976562 5.140625 -4.125 Z M 5.140625 -4.125 \"/>\n",
       "</symbol>\n",
       "<symbol overflow=\"visible\" id=\"glyph0-2\">\n",
       "<path style=\"stroke:none;\" d=\"M 0.921875 0 L 0.921875 -0.890625 L 3.015625 -0.890625 L 3.015625 -7.25 L 1.15625 -5.921875 L 1.15625 -6.921875 L 3.109375 -8.25 L 4.078125 -8.25 L 4.078125 -0.890625 L 6.09375 -0.890625 L 6.09375 0 Z M 0.921875 0 \"/>\n",
       "</symbol>\n",
       "<symbol overflow=\"visible\" id=\"glyph0-3\">\n",
       "<path style=\"stroke:none;\" d=\"M 0.609375 0 L 0.609375 -0.75 C 0.804688 -1.207031 1.046875 -1.609375 1.328125 -1.953125 C 1.617188 -2.304688 1.921875 -2.625 2.234375 -2.90625 C 2.554688 -3.1875 2.867188 -3.445312 3.171875 -3.6875 C 3.484375 -3.9375 3.765625 -4.179688 4.015625 -4.421875 C 4.265625 -4.660156 4.46875 -4.910156 4.625 -5.171875 C 4.78125 -5.441406 4.859375 -5.742188 4.859375 -6.078125 C 4.859375 -6.535156 4.722656 -6.890625 4.453125 -7.140625 C 4.191406 -7.390625 3.828125 -7.515625 3.359375 -7.515625 C 2.898438 -7.515625 2.523438 -7.390625 2.234375 -7.140625 C 1.953125 -6.898438 1.785156 -6.5625 1.734375 -6.125 L 0.65625 -6.21875 C 0.726562 -6.875 1.003906 -7.394531 1.484375 -7.78125 C 1.972656 -8.175781 2.597656 -8.375 3.359375 -8.375 C 4.179688 -8.375 4.816406 -8.175781 5.265625 -7.78125 C 5.710938 -7.394531 5.9375 -6.84375 5.9375 -6.125 C 5.9375 -5.800781 5.863281 -5.476562 5.71875 -5.15625 C 5.570312 -4.84375 5.351562 -4.523438 5.0625 -4.203125 C 4.78125 -3.890625 4.226562 -3.40625 3.40625 -2.75 C 2.957031 -2.375 2.597656 -2.039062 2.328125 -1.75 C 2.066406 -1.457031 1.878906 -1.171875 1.765625 -0.890625 L 6.078125 -0.890625 L 6.078125 0 Z M 0.609375 0 \"/>\n",
       "</symbol>\n",
       "<symbol overflow=\"visible\" id=\"glyph0-4\">\n",
       "<path style=\"stroke:none;\" d=\"M 6.140625 -2.28125 C 6.140625 -1.519531 5.894531 -0.925781 5.40625 -0.5 C 4.925781 -0.0820312 4.238281 0.125 3.34375 0.125 C 2.507812 0.125 1.84375 -0.0625 1.34375 -0.4375 C 0.84375 -0.820312 0.546875 -1.382812 0.453125 -2.125 L 1.546875 -2.21875 C 1.691406 -1.238281 2.289062 -0.75 3.34375 -0.75 C 3.875 -0.75 4.289062 -0.878906 4.59375 -1.140625 C 4.894531 -1.410156 5.046875 -1.800781 5.046875 -2.3125 C 5.046875 -2.757812 4.875 -3.109375 4.53125 -3.359375 C 4.1875 -3.617188 3.6875 -3.75 3.03125 -3.75 L 2.4375 -3.75 L 2.4375 -4.65625 L 3.015625 -4.65625 C 3.585938 -4.65625 4.03125 -4.78125 4.34375 -5.03125 C 4.664062 -5.289062 4.828125 -5.640625 4.828125 -6.078125 C 4.828125 -6.523438 4.695312 -6.875 4.4375 -7.125 C 4.1875 -7.382812 3.800781 -7.515625 3.28125 -7.515625 C 2.820312 -7.515625 2.445312 -7.394531 2.15625 -7.15625 C 1.875 -6.914062 1.707031 -6.578125 1.65625 -6.140625 L 0.59375 -6.234375 C 0.675781 -6.910156 0.957031 -7.4375 1.4375 -7.8125 C 1.914062 -8.1875 2.535156 -8.375 3.296875 -8.375 C 4.128906 -8.375 4.773438 -8.179688 5.234375 -7.796875 C 5.691406 -7.410156 5.921875 -6.875 5.921875 -6.1875 C 5.921875 -5.664062 5.769531 -5.238281 5.46875 -4.90625 C 5.175781 -4.570312 4.75 -4.347656 4.1875 -4.234375 L 4.1875 -4.21875 C 4.800781 -4.144531 5.28125 -3.9375 5.625 -3.59375 C 5.96875 -3.25 6.140625 -2.8125 6.140625 -2.28125 Z M 6.140625 -2.28125 \"/>\n",
       "</symbol>\n",
       "<symbol overflow=\"visible\" id=\"glyph0-5\">\n",
       "<path style=\"stroke:none;\" d=\"M 5.15625 -1.875 L 5.15625 0 L 4.171875 0 L 4.171875 -1.875 L 0.28125 -1.875 L 0.28125 -2.6875 L 4.0625 -8.25 L 5.15625 -8.25 L 5.15625 -2.703125 L 6.328125 -2.703125 L 6.328125 -1.875 Z M 4.171875 -7.0625 C 4.160156 -7.039062 4.101562 -6.9375 4 -6.75 C 3.894531 -6.570312 3.820312 -6.445312 3.78125 -6.375 L 1.65625 -3.25 L 1.34375 -2.8125 L 1.25 -2.703125 L 4.171875 -2.703125 Z M 4.171875 -7.0625 \"/>\n",
       "</symbol>\n",
       "<symbol overflow=\"visible\" id=\"glyph0-6\">\n",
       "<path style=\"stroke:none;\" d=\"M 6.171875 -2.6875 C 6.171875 -1.820312 5.910156 -1.132812 5.390625 -0.625 C 4.878906 -0.125 4.160156 0.125 3.234375 0.125 C 2.472656 0.125 1.851562 -0.0390625 1.375 -0.375 C 0.90625 -0.71875 0.609375 -1.207031 0.484375 -1.84375 L 1.546875 -1.96875 C 1.765625 -1.15625 2.335938 -0.75 3.265625 -0.75 C 3.828125 -0.75 4.269531 -0.914062 4.59375 -1.25 C 4.914062 -1.59375 5.078125 -2.066406 5.078125 -2.671875 C 5.078125 -3.191406 4.914062 -3.609375 4.59375 -3.921875 C 4.269531 -4.242188 3.832031 -4.40625 3.28125 -4.40625 C 3 -4.40625 2.734375 -4.359375 2.484375 -4.265625 C 2.242188 -4.179688 2 -4.03125 1.75 -3.8125 L 0.71875 -3.8125 L 1 -8.25 L 5.6875 -8.25 L 5.6875 -7.359375 L 1.953125 -7.359375 L 1.796875 -4.734375 C 2.253906 -5.085938 2.820312 -5.265625 3.5 -5.265625 C 4.3125 -5.265625 4.957031 -5.023438 5.4375 -4.546875 C 5.925781 -4.078125 6.171875 -3.457031 6.171875 -2.6875 Z M 6.171875 -2.6875 \"/>\n",
       "</symbol>\n",
       "<symbol overflow=\"visible\" id=\"glyph0-7\">\n",
       "<path style=\"stroke:none;\" d=\"M 6.140625 -2.703125 C 6.140625 -1.828125 5.90625 -1.132812 5.4375 -0.625 C 4.96875 -0.125 4.316406 0.125 3.484375 0.125 C 2.554688 0.125 1.84375 -0.21875 1.34375 -0.90625 C 0.851562 -1.601562 0.609375 -2.613281 0.609375 -3.9375 C 0.609375 -5.363281 0.863281 -6.457031 1.375 -7.21875 C 1.882812 -7.988281 2.613281 -8.375 3.5625 -8.375 C 4.8125 -8.375 5.597656 -7.816406 5.921875 -6.703125 L 4.90625 -6.515625 C 4.695312 -7.191406 4.242188 -7.53125 3.546875 -7.53125 C 2.953125 -7.53125 2.488281 -7.25 2.15625 -6.6875 C 1.820312 -6.125 1.65625 -5.3125 1.65625 -4.25 C 1.851562 -4.601562 2.125 -4.875 2.46875 -5.0625 C 2.8125 -5.25 3.207031 -5.34375 3.65625 -5.34375 C 4.425781 -5.34375 5.03125 -5.101562 5.46875 -4.625 C 5.914062 -4.144531 6.140625 -3.503906 6.140625 -2.703125 Z M 5.078125 -2.65625 C 5.078125 -3.25 4.929688 -3.707031 4.640625 -4.03125 C 4.347656 -4.363281 3.9375 -4.53125 3.40625 -4.53125 C 2.914062 -4.53125 2.519531 -4.382812 2.21875 -4.09375 C 1.914062 -3.800781 1.765625 -3.40625 1.765625 -2.90625 C 1.765625 -2.269531 1.921875 -1.75 2.234375 -1.34375 C 2.546875 -0.9375 2.953125 -0.734375 3.453125 -0.734375 C 3.953125 -0.734375 4.347656 -0.90625 4.640625 -1.25 C 4.929688 -1.59375 5.078125 -2.0625 5.078125 -2.65625 Z M 5.078125 -2.65625 \"/>\n",
       "</symbol>\n",
       "<symbol overflow=\"visible\" id=\"glyph0-8\">\n",
       "<path style=\"stroke:none;\" d=\"M 4.6875 0 L 2.984375 -2.609375 L 1.265625 0 L 0.140625 0 L 2.390625 -3.265625 L 0.234375 -6.34375 L 1.40625 -6.34375 L 2.984375 -3.875 L 4.5625 -6.34375 L 5.734375 -6.34375 L 3.59375 -3.265625 L 5.875 0 Z M 4.6875 0 \"/>\n",
       "</symbol>\n",
       "<symbol overflow=\"visible\" id=\"glyph1-0\">\n",
       "<path style=\"stroke:none;\" d=\"M -8.25 -1.203125 L -8.25 -7.796875 L 0 -7.796875 L 0 -1.203125 Z M -7.8125 -1.640625 L -0.453125 -1.640625 L -0.453125 -7.34375 L -7.8125 -7.34375 Z M -7.8125 -1.640625 \"/>\n",
       "</symbol>\n",
       "<symbol overflow=\"visible\" id=\"glyph1-1\">\n",
       "<path style=\"stroke:none;\" d=\"M -2.71875 -0.53125 L -3.65625 -0.53125 L -3.65625 -3.46875 L -2.71875 -3.46875 Z M -2.71875 -0.53125 \"/>\n",
       "</symbol>\n",
       "<symbol overflow=\"visible\" id=\"glyph1-2\">\n",
       "<path style=\"stroke:none;\" d=\"M 0 -0.921875 L -0.890625 -0.921875 L -0.890625 -3.015625 L -7.25 -3.015625 L -5.921875 -1.15625 L -6.921875 -1.15625 L -8.25 -3.109375 L -8.25 -4.078125 L -0.890625 -4.078125 L -0.890625 -6.09375 L 0 -6.09375 Z M 0 -0.921875 \"/>\n",
       "</symbol>\n",
       "<symbol overflow=\"visible\" id=\"glyph1-3\">\n",
       "<path style=\"stroke:none;\" d=\"M 0 -1.09375 L -1.28125 -1.09375 L -1.28125 -2.234375 L 0 -2.234375 Z M 0 -1.09375 \"/>\n",
       "</symbol>\n",
       "<symbol overflow=\"visible\" id=\"glyph1-4\">\n",
       "<path style=\"stroke:none;\" d=\"M -4.125 -6.203125 C -2.75 -6.203125 -1.695312 -5.957031 -0.96875 -5.46875 C -0.238281 -4.988281 0.125 -4.273438 0.125 -3.328125 C 0.125 -2.378906 -0.234375 -1.664062 -0.953125 -1.1875 C -1.679688 -0.707031 -2.738281 -0.46875 -4.125 -0.46875 C -5.550781 -0.46875 -6.613281 -0.695312 -7.3125 -1.15625 C -8.019531 -1.625 -8.375 -2.359375 -8.375 -3.359375 C -8.375 -4.328125 -8.015625 -5.039062 -7.296875 -5.5 C -6.585938 -5.96875 -5.53125 -6.203125 -4.125 -6.203125 Z M -4.125 -5.140625 C -5.320312 -5.140625 -6.1875 -5 -6.71875 -4.71875 C -7.257812 -4.445312 -7.53125 -3.992188 -7.53125 -3.359375 C -7.53125 -2.710938 -7.265625 -2.242188 -6.734375 -1.953125 C -6.203125 -1.671875 -5.332031 -1.53125 -4.125 -1.53125 C -2.957031 -1.53125 -2.101562 -1.671875 -1.5625 -1.953125 C -1.019531 -2.242188 -0.75 -2.703125 -0.75 -3.328125 C -0.75 -3.953125 -1.023438 -4.410156 -1.578125 -4.703125 C -2.128906 -4.992188 -2.976562 -5.140625 -4.125 -5.140625 Z M -4.125 -5.140625 \"/>\n",
       "</symbol>\n",
       "<symbol overflow=\"visible\" id=\"glyph1-5\">\n",
       "<path style=\"stroke:none;\" d=\"M -2.6875 -6.171875 C -1.820312 -6.171875 -1.132812 -5.910156 -0.625 -5.390625 C -0.125 -4.878906 0.125 -4.160156 0.125 -3.234375 C 0.125 -2.472656 -0.0390625 -1.851562 -0.375 -1.375 C -0.71875 -0.90625 -1.207031 -0.609375 -1.84375 -0.484375 L -1.96875 -1.546875 C -1.15625 -1.765625 -0.75 -2.335938 -0.75 -3.265625 C -0.75 -3.828125 -0.914062 -4.269531 -1.25 -4.59375 C -1.59375 -4.914062 -2.066406 -5.078125 -2.671875 -5.078125 C -3.191406 -5.078125 -3.609375 -4.914062 -3.921875 -4.59375 C -4.242188 -4.269531 -4.40625 -3.832031 -4.40625 -3.28125 C -4.40625 -3 -4.359375 -2.734375 -4.265625 -2.484375 C -4.179688 -2.242188 -4.03125 -2 -3.8125 -1.75 L -3.8125 -0.71875 L -8.25 -1 L -8.25 -5.6875 L -7.359375 -5.6875 L -7.359375 -1.953125 L -4.734375 -1.796875 C -5.085938 -2.253906 -5.265625 -2.820312 -5.265625 -3.5 C -5.265625 -4.3125 -5.023438 -4.957031 -4.546875 -5.4375 C -4.078125 -5.925781 -3.457031 -6.171875 -2.6875 -6.171875 Z M -2.6875 -6.171875 \"/>\n",
       "</symbol>\n",
       "<symbol overflow=\"visible\" id=\"glyph1-6\">\n",
       "<path style=\"stroke:none;\" d=\"M 2.484375 -1.125 C 2.484375 -0.832031 2.460938 -0.585938 2.421875 -0.390625 L 1.640625 -0.390625 C 1.660156 -0.535156 1.671875 -0.703125 1.671875 -0.890625 C 1.671875 -1.546875 1.1875 -2.0625 0.21875 -2.4375 L -0.03125 -2.546875 L -6.34375 -0.03125 L -6.34375 -1.15625 L -2.84375 -2.484375 C -2.78125 -2.503906 -2.710938 -2.53125 -2.640625 -2.5625 C -2.566406 -2.59375 -2.3125 -2.679688 -1.875 -2.828125 C -1.4375 -2.972656 -1.195312 -3.050781 -1.15625 -3.0625 L -2.296875 -3.46875 L -6.34375 -4.859375 L -6.34375 -5.984375 L 0 -3.546875 C 0.675781 -3.273438 1.175781 -3.023438 1.5 -2.796875 C 1.832031 -2.578125 2.078125 -2.328125 2.234375 -2.046875 C 2.398438 -1.773438 2.484375 -1.46875 2.484375 -1.125 Z M 2.484375 -1.125 \"/>\n",
       "</symbol>\n",
       "</g>\n",
       "</defs>\n",
       "<g id=\"surface930\">\n",
       "<rect x=\"0\" y=\"0\" width=\"504\" height=\"504\" style=\"fill:rgb(100%,100%,100%);fill-opacity:1;stroke:none;\"/>\n",
       "<path style=\"fill:none;stroke-width:0.75;stroke-linecap:round;stroke-linejoin:round;stroke:rgb(100%,0%,0%);stroke-opacity:1;stroke-miterlimit:10;\" d=\"M 74.398438 227.59375 L 80.910156 210.589844 L 87.417969 193.925781 L 93.925781 177.773438 L 100.433594 162.289062 L 106.941406 147.628906 L 113.449219 133.9375 L 119.960938 121.355469 L 126.46875 110.003906 L 132.976562 100 L 139.484375 91.445312 L 145.992188 84.417969 L 152.5 78.996094 L 159.011719 75.230469 L 165.519531 73.15625 L 172.027344 72.800781 L 178.535156 74.160156 L 185.042969 77.226562 L 191.550781 81.964844 L 198.0625 88.332031 L 204.570312 96.261719 L 211.078125 105.671875 L 217.585938 116.476562 L 224.09375 128.5625 L 230.601562 141.808594 L 237.113281 156.082031 L 243.621094 171.242188 L 250.128906 187.136719 L 256.636719 203.609375 L 263.144531 220.492188 L 269.652344 237.617188 L 276.164062 254.8125 L 282.671875 271.910156 L 289.179688 288.734375 L 295.6875 305.121094 L 302.195312 320.902344 L 308.707031 335.925781 L 315.214844 350.035156 L 321.722656 363.09375 L 328.230469 374.972656 L 334.738281 385.550781 L 341.246094 394.71875 L 347.757812 402.390625 L 354.265625 408.488281 L 360.773438 412.949219 L 367.28125 415.726562 L 373.789062 416.800781 L 380.296875 416.152344 L 386.808594 413.792969 L 393.316406 409.746094 L 399.824219 404.050781 L 406.332031 396.761719 L 412.839844 387.957031 L 419.347656 377.71875 L 425.859375 366.152344 L 432.367188 353.375 L 438.875 339.511719 L 445.382812 324.703125 L 451.890625 309.09375 L 458.398438 292.839844 \"/>\n",
       "<path style=\"fill:none;stroke-width:0.75;stroke-linecap:round;stroke-linejoin:round;stroke:rgb(0%,0%,0%);stroke-opacity:1;stroke-miterlimit:10;\" d=\"M 67.890625 430.558594 L 458.398438 430.558594 \"/>\n",
       "<path style=\"fill:none;stroke-width:0.75;stroke-linecap:round;stroke-linejoin:round;stroke:rgb(0%,0%,0%);stroke-opacity:1;stroke-miterlimit:10;\" d=\"M 67.890625 430.558594 L 67.890625 437.761719 \"/>\n",
       "<path style=\"fill:none;stroke-width:0.75;stroke-linecap:round;stroke-linejoin:round;stroke:rgb(0%,0%,0%);stroke-opacity:1;stroke-miterlimit:10;\" d=\"M 132.976562 430.558594 L 132.976562 437.761719 \"/>\n",
       "<path style=\"fill:none;stroke-width:0.75;stroke-linecap:round;stroke-linejoin:round;stroke:rgb(0%,0%,0%);stroke-opacity:1;stroke-miterlimit:10;\" d=\"M 198.0625 430.558594 L 198.0625 437.761719 \"/>\n",
       "<path style=\"fill:none;stroke-width:0.75;stroke-linecap:round;stroke-linejoin:round;stroke:rgb(0%,0%,0%);stroke-opacity:1;stroke-miterlimit:10;\" d=\"M 263.144531 430.558594 L 263.144531 437.761719 \"/>\n",
       "<path style=\"fill:none;stroke-width:0.75;stroke-linecap:round;stroke-linejoin:round;stroke:rgb(0%,0%,0%);stroke-opacity:1;stroke-miterlimit:10;\" d=\"M 328.230469 430.558594 L 328.230469 437.761719 \"/>\n",
       "<path style=\"fill:none;stroke-width:0.75;stroke-linecap:round;stroke-linejoin:round;stroke:rgb(0%,0%,0%);stroke-opacity:1;stroke-miterlimit:10;\" d=\"M 393.316406 430.558594 L 393.316406 437.761719 \"/>\n",
       "<path style=\"fill:none;stroke-width:0.75;stroke-linecap:round;stroke-linejoin:round;stroke:rgb(0%,0%,0%);stroke-opacity:1;stroke-miterlimit:10;\" d=\"M 458.398438 430.558594 L 458.398438 437.761719 \"/>\n",
       "<g style=\"fill:rgb(0%,0%,0%);fill-opacity:1;\">\n",
       "  <use xlink:href=\"#glyph0-1\" x=\"64.390625\" y=\"456.34375\"/>\n",
       "</g>\n",
       "<g style=\"fill:rgb(0%,0%,0%);fill-opacity:1;\">\n",
       "  <use xlink:href=\"#glyph0-2\" x=\"129.476562\" y=\"456.34375\"/>\n",
       "</g>\n",
       "<g style=\"fill:rgb(0%,0%,0%);fill-opacity:1;\">\n",
       "  <use xlink:href=\"#glyph0-3\" x=\"194.5625\" y=\"456.34375\"/>\n",
       "</g>\n",
       "<g style=\"fill:rgb(0%,0%,0%);fill-opacity:1;\">\n",
       "  <use xlink:href=\"#glyph0-4\" x=\"259.644531\" y=\"456.34375\"/>\n",
       "</g>\n",
       "<g style=\"fill:rgb(0%,0%,0%);fill-opacity:1;\">\n",
       "  <use xlink:href=\"#glyph0-5\" x=\"324.730469\" y=\"456.34375\"/>\n",
       "</g>\n",
       "<g style=\"fill:rgb(0%,0%,0%);fill-opacity:1;\">\n",
       "  <use xlink:href=\"#glyph0-6\" x=\"389.816406\" y=\"456.34375\"/>\n",
       "</g>\n",
       "<g style=\"fill:rgb(0%,0%,0%);fill-opacity:1;\">\n",
       "  <use xlink:href=\"#glyph0-7\" x=\"454.898438\" y=\"456.34375\"/>\n",
       "</g>\n",
       "<path style=\"fill:none;stroke-width:0.75;stroke-linecap:round;stroke-linejoin:round;stroke:rgb(0%,0%,0%);stroke-opacity:1;stroke-miterlimit:10;\" d=\"M 59.039062 416.8125 L 59.039062 72.726562 \"/>\n",
       "<path style=\"fill:none;stroke-width:0.75;stroke-linecap:round;stroke-linejoin:round;stroke:rgb(0%,0%,0%);stroke-opacity:1;stroke-miterlimit:10;\" d=\"M 59.039062 416.8125 L 51.839844 416.8125 \"/>\n",
       "<path style=\"fill:none;stroke-width:0.75;stroke-linecap:round;stroke-linejoin:round;stroke:rgb(0%,0%,0%);stroke-opacity:1;stroke-miterlimit:10;\" d=\"M 59.039062 330.792969 L 51.839844 330.792969 \"/>\n",
       "<path style=\"fill:none;stroke-width:0.75;stroke-linecap:round;stroke-linejoin:round;stroke:rgb(0%,0%,0%);stroke-opacity:1;stroke-miterlimit:10;\" d=\"M 59.039062 244.769531 L 51.839844 244.769531 \"/>\n",
       "<path style=\"fill:none;stroke-width:0.75;stroke-linecap:round;stroke-linejoin:round;stroke:rgb(0%,0%,0%);stroke-opacity:1;stroke-miterlimit:10;\" d=\"M 59.039062 158.75 L 51.839844 158.75 \"/>\n",
       "<path style=\"fill:none;stroke-width:0.75;stroke-linecap:round;stroke-linejoin:round;stroke:rgb(0%,0%,0%);stroke-opacity:1;stroke-miterlimit:10;\" d=\"M 59.039062 72.726562 L 51.839844 72.726562 \"/>\n",
       "<g style=\"fill:rgb(0%,0%,0%);fill-opacity:1;\">\n",
       "  <use xlink:href=\"#glyph1-1\" x=\"41.625\" y=\"427.3125\"/>\n",
       "  <use xlink:href=\"#glyph1-2\" x=\"41.625\" y=\"423.316406\"/>\n",
       "  <use xlink:href=\"#glyph1-3\" x=\"41.625\" y=\"416.642578\"/>\n",
       "  <use xlink:href=\"#glyph1-4\" x=\"41.625\" y=\"413.308594\"/>\n",
       "</g>\n",
       "<g style=\"fill:rgb(0%,0%,0%);fill-opacity:1;\">\n",
       "  <use xlink:href=\"#glyph1-1\" x=\"41.625\" y=\"341.292969\"/>\n",
       "  <use xlink:href=\"#glyph1-4\" x=\"41.625\" y=\"337.296875\"/>\n",
       "  <use xlink:href=\"#glyph1-3\" x=\"41.625\" y=\"330.623047\"/>\n",
       "  <use xlink:href=\"#glyph1-5\" x=\"41.625\" y=\"327.289062\"/>\n",
       "</g>\n",
       "<g style=\"fill:rgb(0%,0%,0%);fill-opacity:1;\">\n",
       "  <use xlink:href=\"#glyph1-4\" x=\"41.625\" y=\"253.269531\"/>\n",
       "  <use xlink:href=\"#glyph1-3\" x=\"41.625\" y=\"246.595703\"/>\n",
       "  <use xlink:href=\"#glyph1-4\" x=\"41.625\" y=\"243.261719\"/>\n",
       "</g>\n",
       "<g style=\"fill:rgb(0%,0%,0%);fill-opacity:1;\">\n",
       "  <use xlink:href=\"#glyph1-4\" x=\"41.625\" y=\"167.25\"/>\n",
       "  <use xlink:href=\"#glyph1-3\" x=\"41.625\" y=\"160.576172\"/>\n",
       "  <use xlink:href=\"#glyph1-5\" x=\"41.625\" y=\"157.242188\"/>\n",
       "</g>\n",
       "<g style=\"fill:rgb(0%,0%,0%);fill-opacity:1;\">\n",
       "  <use xlink:href=\"#glyph1-2\" x=\"41.625\" y=\"81.226562\"/>\n",
       "  <use xlink:href=\"#glyph1-3\" x=\"41.625\" y=\"74.552734\"/>\n",
       "  <use xlink:href=\"#glyph1-4\" x=\"41.625\" y=\"71.21875\"/>\n",
       "</g>\n",
       "<path style=\"fill:none;stroke-width:0.75;stroke-linecap:round;stroke-linejoin:round;stroke:rgb(0%,0%,0%);stroke-opacity:1;stroke-miterlimit:10;\" d=\"M 59.039062 430.558594 L 473.761719 430.558594 L 473.761719 59.039062 L 59.039062 59.039062 L 59.039062 430.558594 \"/>\n",
       "<g style=\"fill:rgb(0%,0%,0%);fill-opacity:1;\">\n",
       "  <use xlink:href=\"#glyph0-8\" x=\"263.398438\" y=\"485.144531\"/>\n",
       "</g>\n",
       "<g style=\"fill:rgb(0%,0%,0%);fill-opacity:1;\">\n",
       "  <use xlink:href=\"#glyph1-6\" x=\"12.824219\" y=\"247.800781\"/>\n",
       "</g>\n",
       "<path style=\"fill:none;stroke-width:0.75;stroke-linecap:round;stroke-linejoin:round;stroke:rgb(0%,0%,100%);stroke-opacity:1;stroke-miterlimit:10;\" d=\"M 74.398438 243.054688 L 80.910156 237.980469 L 87.417969 229.746094 L 93.925781 218.679688 L 100.433594 205.226562 L 106.941406 189.917969 L 113.449219 173.367188 L 119.960938 156.238281 L 126.46875 139.203125 L 132.976562 122.949219 L 139.484375 108.125 L 145.992188 95.316406 L 152.5 85.039062 L 159.011719 77.695312 L 165.519531 73.585938 L 172.027344 72.875 L 178.535156 75.582031 L 185.042969 81.609375 L 191.550781 90.707031 L 198.0625 102.519531 L 204.570312 116.574219 L 211.078125 132.3125 L 217.585938 149.101562 L 224.09375 166.273438 L 230.601562 183.148438 L 237.113281 199.050781 L 243.621094 213.34375 L 250.128906 225.464844 L 256.636719 234.921875 L 263.144531 241.34375 L 269.652344 244.472656 L 276.164062 244.183594 L 282.671875 240.488281 L 289.179688 233.535156 L 295.6875 223.601562 L 302.195312 211.078125 L 308.707031 196.472656 L 315.214844 180.363281 L 321.722656 163.390625 L 328.230469 146.230469 L 334.738281 129.574219 L 341.246094 114.078125 L 347.757812 100.363281 L 354.265625 88.976562 L 360.773438 80.371094 L 367.28125 74.890625 L 373.789062 72.753906 L 380.296875 74.042969 L 386.808594 78.710938 L 393.316406 86.570312 L 399.824219 97.304688 L 406.332031 110.492188 L 412.839844 125.601562 L 419.347656 142.03125 L 425.859375 159.128906 L 432.367188 176.210938 L 438.875 192.597656 L 445.382812 207.632812 L 451.890625 220.722656 L 458.398438 231.339844 \"/>\n",
       "</g>\n",
       "</svg>\n"
      ]
     },
     "metadata": {
      "image/svg+xml": {
       "height": 420,
       "isolated": true,
       "width": 420
      }
     },
     "output_type": "display_data"
    }
   ],
   "source": [
    "plot(x,y,type='l',col='red')\n",
    "lines(x,y^2,col='blue')"
   ]
  },
  {
   "cell_type": "markdown",
   "id": "798008a2-d3a8-4e1c-a743-9b94f633f5bf",
   "metadata": {},
   "source": [
    "`-` lines를 먼저 사용하면 이미 만들어진 그림이 없는 상태이므로 error가 발생"
   ]
  },
  {
   "cell_type": "code",
   "execution_count": 148,
   "id": "a1b5796d-01c2-4a2b-a166-7d3a970d1769",
   "metadata": {},
   "outputs": [
    {
     "ename": "ERROR",
     "evalue": "Error in plot.xy(xy.coords(x, y), type = type, ...): plot.new has not been called yet\n",
     "output_type": "error",
     "traceback": [
      "Error in plot.xy(xy.coords(x, y), type = type, ...): plot.new has not been called yet\nTraceback:\n",
      "1. lines(x, y^2, type = \"l\", col = \"red\")",
      "2. lines.default(x, y^2, type = \"l\", col = \"red\")",
      "3. plot.xy(xy.coords(x, y), type = type, ...)"
     ]
    }
   ],
   "source": [
    "lines(x,y^2,type='l',col='red')\n",
    "plot(x,y,type='l',col='blue')"
   ]
  },
  {
   "cell_type": "markdown",
   "id": "fbe844c8-b017-4967-9db2-485bca1ce93e",
   "metadata": {},
   "source": [
    "`-` 다양한 명령어들 비교 "
   ]
  },
  {
   "cell_type": "markdown",
   "id": "1fb109f1-e8fa-42a0-a948-59656484ee5c",
   "metadata": {},
   "source": [
    "- plot(x,y)와 plot(x,y,type='l')을 비교해보기\n",
    "- plot(x,y)와 plot(x,y,col='red')를 비교해보기 \n",
    "- plot(x,y)와 lines(x,y**2)를 같이 그려보기\n",
    "- plot(x,y)와 points(x,y**2)를 같이 그려보기"
   ]
  },
  {
   "cell_type": "markdown",
   "id": "561276e0-4b4e-4f48-9ef9-d1aba4c9d845",
   "metadata": {},
   "source": [
    "### 주석이용방법 "
   ]
  },
  {
   "cell_type": "markdown",
   "id": "fc18f092-32b7-4541-9805-85c7ce28ed2d",
   "metadata": {},
   "source": [
    "`-` 사용법"
   ]
  },
  {
   "cell_type": "code",
   "execution_count": 149,
   "id": "3a937a0d-eae9-47e9-ad26-91999bfaac14",
   "metadata": {},
   "outputs": [
    {
     "name": "stdout",
     "output_type": "stream",
     "text": [
      "[1] 3\n"
     ]
    }
   ],
   "source": [
    "a<- 1\n",
    "a<- a+1\n",
    "a<- a+1\n",
    "print(a)"
   ]
  },
  {
   "cell_type": "code",
   "execution_count": 150,
   "id": "68d4cc92-378b-469e-ba6a-90a82cd4f851",
   "metadata": {},
   "outputs": [
    {
     "name": "stdout",
     "output_type": "stream",
     "text": [
      "[1] 2\n"
     ]
    }
   ],
   "source": [
    "a<- 1 \n",
    "#a<- a+1\n",
    "a<- a+1 \n",
    "print(a)"
   ]
  },
  {
   "cell_type": "markdown",
   "id": "0cab875d-6f4c-455e-a3b5-b4200896f839",
   "metadata": {},
   "source": [
    "`-` 왜 쓰는지? (1) 코드 test (2) 설명을 쓰고싶을때 "
   ]
  },
  {
   "cell_type": "code",
   "execution_count": 151,
   "id": "1d502516-33bd-47c0-b78a-2656a1bd7810",
   "metadata": {},
   "outputs": [
    {
     "name": "stdout",
     "output_type": "stream",
     "text": [
      "[1] 2\n"
     ]
    }
   ],
   "source": [
    "a<- 1 # a에 1을 대입하라. \n",
    "#a<- a+1\n",
    "a<- a+1 # a의 값을 1증가하라. \n",
    "print(a)"
   ]
  },
  {
   "cell_type": "markdown",
   "id": "4e8154fc-5e10-41e0-b846-627045ddf86c",
   "metadata": {
    "tags": []
   },
   "source": [
    "### [숙제](https://ieilms.jbnu.ac.kr/)\n",
    "\n",
    "아래의 4개중 하나를 골라 비교해보고 결과를 캡쳐하여 LMS에 제출"
   ]
  },
  {
   "cell_type": "markdown",
   "id": "f454d00b-7aed-477f-96ff-ad1742f755ca",
   "metadata": {},
   "source": [
    "- plot(x,y)와 plot(x,y,type='l')을 비교해보기\n",
    "- plot(x,y)와 plot(x,y,col='red')를 비교해보기 \n",
    "- plot(x,y)와 lines(x,y**2)를 같이 그려보기\n",
    "- plot(x,y)와 points(x,y**2)를 같이 그려보기"
   ]
  }
 ],
 "metadata": {
  "kernelspec": {
   "display_name": "R",
   "language": "R",
   "name": "ir"
  },
  "language_info": {
   "codemirror_mode": "r",
   "file_extension": ".r",
   "mimetype": "text/x-r-source",
   "name": "R",
   "pygments_lexer": "r",
   "version": "4.0.3"
  }
 },
 "nbformat": 4,
 "nbformat_minor": 5
}
