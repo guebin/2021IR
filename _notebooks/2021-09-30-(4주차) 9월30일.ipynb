{
 "cells": [
  {
   "cell_type": "code",
   "execution_count": 37,
   "id": "49fe8846-b8bd-4631-9fb3-c24bfa78e970",
   "metadata": {},
   "outputs": [],
   "source": [
    "#hide\n",
    "options(jupyter.plot_scale=3)\n",
    "options(jupyter.display_mimetypes=c(\"text/html\"))\n",
    "options(jupyter.rich_display=FALSE)\n",
    "options(repr.plot.width=6,repr.plot.height=6,repr.plot.res=300)\n",
    "options(max.print=1000)"
   ]
  },
  {
   "cell_type": "markdown",
   "id": "2668f285-cff6-417b-8c13-d973a6c2fcd5",
   "metadata": {
    "tags": []
   },
   "source": [
    "# (4주차) 9월30일 \n",
    "> if, if ~ else, 중첩 if ~ else\n",
    "\n",
    "- toc:true\n",
    "- branch: master\n",
    "- badges: true\n",
    "- comments: true\n",
    "- author: 최규빈"
   ]
  },
  {
   "cell_type": "markdown",
   "id": "8cd77680-7259-4507-8a3d-45b88ec23b35",
   "metadata": {},
   "source": [
    "### 강의영상 "
   ]
  },
  {
   "cell_type": "markdown",
   "id": "e821d515-5904-445b-88e3-7cdc3c04f0a9",
   "metadata": {},
   "source": [
    "> youtube: https://youtube.com/playlist?list=PLQqh36zP38-wwZNIgPZBnyF8SgggkNNmL"
   ]
  },
  {
   "cell_type": "markdown",
   "id": "b8493246-977c-4701-b614-c3a24c6a52e1",
   "metadata": {},
   "source": [
    "`-` (1/1) if문 \n",
    "\n",
    "`-` (2/4) if - else 문 \n",
    "\n",
    "`-` (3/4) 중첩 (1) \n",
    "\n",
    "`-` (4/4) 중첩 (2), 과제설명 "
   ]
  },
  {
   "cell_type": "markdown",
   "id": "ca8b3374-e89b-4861-ada0-465c8d23a4b5",
   "metadata": {},
   "source": [
    "### if "
   ]
  },
  {
   "cell_type": "markdown",
   "id": "75a36fcd-852d-4349-924b-748b6dedb24f",
   "metadata": {},
   "source": [
    "`-` 아래와 같이 `if (조건문) 표현식`의 형태로 사용한다. (표현식은 컴퓨터에게 내가 내리는 명령어이다) "
   ]
  },
  {
   "cell_type": "code",
   "execution_count": 7,
   "id": "3212353a-3e8e-44d8-8c82-898178c066b4",
   "metadata": {},
   "outputs": [
    {
     "name": "stdout",
     "output_type": "stream",
     "text": [
      "[1] \"a는 양수\"\n"
     ]
    }
   ],
   "source": [
    "a= 2\n",
    "if (a>0) print('a는 양수') "
   ]
  },
  {
   "cell_type": "markdown",
   "id": "6e02f715-be13-4ad0-80ef-d384eaf94860",
   "metadata": {},
   "source": [
    "`-` space를 임의로 넣어도 상관없다. "
   ]
  },
  {
   "cell_type": "code",
   "execution_count": 8,
   "id": "b9131c7b-592f-46fb-bb3f-054ec02ac035",
   "metadata": {},
   "outputs": [
    {
     "name": "stdout",
     "output_type": "stream",
     "text": [
      "[1] \"a는 양수\"\n"
     ]
    }
   ],
   "source": [
    "a=10\n",
    "if    (a>0)    print('a는 양수') "
   ]
  },
  {
   "cell_type": "code",
   "execution_count": 9,
   "id": "82bee784-cb14-45fd-9966-bb701d438003",
   "metadata": {},
   "outputs": [
    {
     "name": "stdout",
     "output_type": "stream",
     "text": [
      "[1] \"a는 양수\"\n"
     ]
    }
   ],
   "source": [
    "a=10\n",
    "if  (a>0)    print('a는 양수') "
   ]
  },
  {
   "cell_type": "markdown",
   "id": "04f3840b-cde6-400e-8f44-c9c36e063cc6",
   "metadata": {},
   "source": [
    "`-` enter를 넣어도 상관없긴하다. "
   ]
  },
  {
   "cell_type": "code",
   "execution_count": 13,
   "id": "bb1023f4-59cb-4e6c-9a51-a83475f5e3c0",
   "metadata": {},
   "outputs": [
    {
     "name": "stdout",
     "output_type": "stream",
     "text": [
      "[1] \"a는양수\"\n"
     ]
    }
   ],
   "source": [
    "a=10\n",
    "if (a>0)\n",
    "    print('a는양수')"
   ]
  },
  {
   "cell_type": "code",
   "execution_count": 18,
   "id": "a76335b7-5d1f-4091-9d2e-e0b3847b89b5",
   "metadata": {},
   "outputs": [
    {
     "name": "stdout",
     "output_type": "stream",
     "text": [
      "[1] \"a는양수\"\n"
     ]
    }
   ],
   "source": [
    "a=10\n",
    "if (a>0) \n",
    "    \n",
    "    \n",
    "    print('a는양수')"
   ]
  },
  {
   "cell_type": "code",
   "execution_count": 19,
   "id": "016417b8-c0f5-4455-8ac8-dfafa94019d8",
   "metadata": {},
   "outputs": [
    {
     "name": "stdout",
     "output_type": "stream",
     "text": [
      "[1] \"a는양수\"\n"
     ]
    }
   ],
   "source": [
    "a=10\n",
    "if \n",
    "    \n",
    "    \n",
    "    (a>0) \n",
    "    \n",
    "    \n",
    "    print('a는양수')"
   ]
  },
  {
   "cell_type": "markdown",
   "id": "62ddd1c7-57e8-4f32-b431-5c882cb0c5b3",
   "metadata": {},
   "source": [
    "`-` 컴퓨터에게 내릴 명령이 2개이상일 경우? $\\to$ `{}`을 이용한다. "
   ]
  },
  {
   "cell_type": "markdown",
   "id": "be729456-6756-44c1-af2d-0c134bcf6af7",
   "metadata": {},
   "source": [
    "#### 잘못된예제"
   ]
  },
  {
   "cell_type": "code",
   "execution_count": 20,
   "id": "c1735d01-7b19-43e7-8567-2fe88c9f234e",
   "metadata": {},
   "outputs": [
    {
     "name": "stdout",
     "output_type": "stream",
     "text": [
      "[1] \"a는양수\"\n",
      "[1] \"양수인 a의 값은 아래와 같다.\"\n",
      "[1] 10\n"
     ]
    }
   ],
   "source": [
    "a=10 \n",
    "if (a>0)\n",
    "    print('a는양수')\n",
    "    print('양수인 a의 값은 아래와 같다.') \n",
    "    print(a) "
   ]
  },
  {
   "cell_type": "code",
   "execution_count": 21,
   "id": "4e5e6fd5-f817-42dc-90ae-4f96213b2128",
   "metadata": {},
   "outputs": [
    {
     "name": "stdout",
     "output_type": "stream",
     "text": [
      "[1] \"양수인 a의 값은 아래와 같다.\"\n",
      "[1] -10\n"
     ]
    }
   ],
   "source": [
    "a=-10 \n",
    "if (a>0)\n",
    "    print('a는양수') ## \n",
    "    print('양수인 a의 값은 아래와 같다.') \n",
    "    print(a) "
   ]
  },
  {
   "cell_type": "markdown",
   "id": "bd8ba7f8-92a8-494b-bfcd-e3dcde734acf",
   "metadata": {},
   "source": [
    "- 에러메시지가 뜨지는 않았지만 잘못된 코드이다. "
   ]
  },
  {
   "cell_type": "markdown",
   "id": "16abaca6-9591-4fb7-b1d8-9541de487d7d",
   "metadata": {},
   "source": [
    "#### 올바른 사용법: `{}`를 이용하여 명령들을 묶는다. "
   ]
  },
  {
   "cell_type": "code",
   "execution_count": 23,
   "id": "dc76428f-fece-48d7-bd84-6b1d8e364971",
   "metadata": {},
   "outputs": [
    {
     "name": "stdout",
     "output_type": "stream",
     "text": [
      "[1] \"a는양수\"\n",
      "[1] \"양수인 a의 값은 아래와 같다.\"\n",
      "[1] 10\n"
     ]
    }
   ],
   "source": [
    "a=10 \n",
    "if (a>0){\n",
    "    print('a는양수')\n",
    "    print('양수인 a의 값은 아래와 같다.') \n",
    "    print(a) \n",
    "}"
   ]
  },
  {
   "cell_type": "code",
   "execution_count": 24,
   "id": "a122f65e-5244-4e1a-890b-342ee0f3eaff",
   "metadata": {},
   "outputs": [],
   "source": [
    "a=-10 \n",
    "if (a>0){\n",
    "    print('a는양수') ## \n",
    "    print('양수인 a의 값은 아래와 같다.') \n",
    "    print(a)\n",
    "}"
   ]
  },
  {
   "cell_type": "markdown",
   "id": "a42afca0-772a-41ac-bb97-e534ba69cc51",
   "metadata": {},
   "source": [
    "`-` 아래와 같이 중괄호를 묶어도 상관없다. "
   ]
  },
  {
   "cell_type": "code",
   "execution_count": 29,
   "id": "8e654c36-f4bc-474e-9164-0a65278d5695",
   "metadata": {},
   "outputs": [
    {
     "name": "stdout",
     "output_type": "stream",
     "text": [
      "[1] \"a는양수\"\n",
      "[1] \"양수인 a의 값은 아래와 같다.\"\n",
      "[1] 10\n"
     ]
    }
   ],
   "source": [
    "a=10\n",
    "if (a>0)\n",
    "{\n",
    "    print('a는양수')\n",
    "    print('양수인 a의 값은 아래와 같다.') \n",
    "    print(a) \n",
    "}"
   ]
  },
  {
   "cell_type": "code",
   "execution_count": 30,
   "id": "762dee16-fc73-4c13-b43d-d26b4b11f9a0",
   "metadata": {},
   "outputs": [
    {
     "name": "stdout",
     "output_type": "stream",
     "text": [
      "[1] \"a는양수\"\n",
      "[1] \"양수인 a의 값은 아래와 같다.\"\n",
      "[1] 10\n"
     ]
    }
   ],
   "source": [
    "a=10\n",
    "if (a>0)\n",
    "{\n",
    "    print('a는양수')\n",
    "    \n",
    "    print('양수인 a의 값은 아래와 같다.') \n",
    "    \n",
    "    \n",
    "    print(a)}"
   ]
  },
  {
   "cell_type": "code",
   "execution_count": 34,
   "id": "f9643ae3-ee4d-48ba-8fba-c72c758b6ee5",
   "metadata": {},
   "outputs": [
    {
     "name": "stdout",
     "output_type": "stream",
     "text": [
      "[1] \"a는양수\"\n",
      "[1] \"양수인 a의 값은 아래와 같다.\"\n",
      "[1] 10\n"
     ]
    }
   ],
   "source": [
    "a=10\n",
    "if (a>0){\n",
    "    print('a는양수')\n",
    "    \n",
    "            print('양수인 a의 값은 아래와 같다.') \n",
    "       \n",
    "print(a)\n",
    "                }"
   ]
  },
  {
   "cell_type": "markdown",
   "id": "d0f3f460-331b-44fd-a1b0-19953e7bba7c",
   "metadata": {},
   "source": [
    "- 위와같이 코드를 작성하면 안된다. "
   ]
  },
  {
   "cell_type": "markdown",
   "id": "10be6125-eb09-4b1a-aff2-0d36bece2673",
   "metadata": {},
   "source": [
    "`-` `if (조건문) 표현식`"
   ]
  },
  {
   "cell_type": "code",
   "execution_count": 41,
   "id": "76b3c81a-98f7-40ab-b31d-2a991c468af1",
   "metadata": {},
   "outputs": [
    {
     "data": {
      "text/plain": [
       "[1]  10 -10"
      ]
     },
     "metadata": {},
     "output_type": "display_data"
    }
   ],
   "source": [
    "a=c(10,-10)\n",
    "a"
   ]
  },
  {
   "cell_type": "code",
   "execution_count": 42,
   "id": "18ac0866-f4dd-46e0-ab35-8432e37c55de",
   "metadata": {},
   "outputs": [
    {
     "data": {
      "text/plain": [
       "[1]  TRUE FALSE"
      ]
     },
     "metadata": {},
     "output_type": "display_data"
    }
   ],
   "source": [
    "a>0"
   ]
  },
  {
   "cell_type": "markdown",
   "id": "eb709e7e-0f29-4164-8ace-61b72bbad6f2",
   "metadata": {},
   "source": [
    "- 이 문장이 참일까 거짓일까? $\\to$ R은 첫번째 원소가 참이면 참이라고 판단한다. "
   ]
  },
  {
   "cell_type": "code",
   "execution_count": 53,
   "id": "63e8dff3-a30a-436b-b0be-20da55a81815",
   "metadata": {},
   "outputs": [
    {
     "name": "stderr",
     "output_type": "stream",
     "text": [
      "Warning message in if (a > 0) {:\n",
      "“the condition has length > 1 and only the first element will be used”\n"
     ]
    },
    {
     "name": "stdout",
     "output_type": "stream",
     "text": [
      "[1] \"a는 양수이다\"\n",
      "[1] \"양수인 a의 값은 아래와 같다.\"\n",
      "[1]  10 -10\n"
     ]
    }
   ],
   "source": [
    "a=c(10,-10)\n",
    "if (a>0){\n",
    "    print('a는 양수이다')\n",
    "    print('양수인 a의 값은 아래와 같다.')\n",
    "    print(a)\n",
    "}"
   ]
  },
  {
   "cell_type": "markdown",
   "id": "987b9225-e18e-4ac1-8ff9-6cf00fd19a95",
   "metadata": {},
   "source": [
    "- 이러한 코드를 작성하지 말자. "
   ]
  },
  {
   "cell_type": "markdown",
   "id": "f8cfd113-4004-4117-b393-cb11f68e22a9",
   "metadata": {},
   "source": [
    "### if~else"
   ]
  },
  {
   "cell_type": "markdown",
   "id": "2ba74d28-68a4-4960-8cc7-413749fb2428",
   "metadata": {},
   "source": [
    "`-` 아래와 같이 `if (조건문) 표현식1 else 표현식2`의 형태로 실행한다. "
   ]
  },
  {
   "cell_type": "code",
   "execution_count": 63,
   "id": "6d4e763d-73be-4f96-98ee-b0e39a9d784e",
   "metadata": {},
   "outputs": [
    {
     "data": {
      "text/plain": [
       "[1] 0.6931472"
      ]
     },
     "metadata": {},
     "output_type": "display_data"
    }
   ],
   "source": [
    "x=2\n",
    "if (x>0) log(x) else print('x는양수이어야함')"
   ]
  },
  {
   "cell_type": "code",
   "execution_count": 64,
   "id": "77a0e465-cc8b-4594-b0b1-a4c7d0229467",
   "metadata": {},
   "outputs": [
    {
     "data": {
      "text/plain": [
       "[1] 0"
      ]
     },
     "metadata": {},
     "output_type": "display_data"
    }
   ],
   "source": [
    "x=1\n",
    "if (x>0) log(x) else print('x는양수이어야함')"
   ]
  },
  {
   "cell_type": "code",
   "execution_count": 65,
   "id": "9895be12-90a2-4402-b9f5-cde38baea286",
   "metadata": {},
   "outputs": [
    {
     "name": "stdout",
     "output_type": "stream",
     "text": [
      "[1] \"x는양수이어야함\"\n"
     ]
    }
   ],
   "source": [
    "x=0\n",
    "if (x>0) log(x) else print('x는양수이어야함')"
   ]
  },
  {
   "cell_type": "code",
   "execution_count": 66,
   "id": "e2c54930-6713-40bb-8af4-7a3fdb928875",
   "metadata": {},
   "outputs": [
    {
     "name": "stdout",
     "output_type": "stream",
     "text": [
      "[1] \"x는양수이어야함\"\n"
     ]
    }
   ],
   "source": [
    "x=-1\n",
    "if (x>0) log(x) else print('x는양수이어야함')"
   ]
  },
  {
   "cell_type": "markdown",
   "id": "07adac5c-61c7-4bb8-a782-39fbc5c2869e",
   "metadata": {},
   "source": [
    "`-` `if` 문과 `if~else` 문은 다른기능이다. "
   ]
  },
  {
   "cell_type": "code",
   "execution_count": 72,
   "id": "313f4f51-7a4a-4f99-bd9b-3d7daa1f78fa",
   "metadata": {},
   "outputs": [
    {
     "ename": "ERROR",
     "evalue": "Error in parse(text = x, srcfile = src): <text>:4:1: unexpected 'else'\n3:     log(x) \n4: else\n   ^\n",
     "output_type": "error",
     "traceback": [
      "Error in parse(text = x, srcfile = src): <text>:4:1: unexpected 'else'\n3:     log(x) \n4: else\n   ^\nTraceback:\n"
     ]
    }
   ],
   "source": [
    "x=10\n",
    "if (x>0)\n",
    "    log(x) \n",
    "else \n",
    "    print('x는 양수이어야함')"
   ]
  },
  {
   "cell_type": "markdown",
   "id": "f20a5eab-cdcd-43e6-982e-8d397cd075ca",
   "metadata": {},
   "source": [
    "- ?? 왜 에러가 나는가? "
   ]
  },
  {
   "cell_type": "markdown",
   "id": "6a279502-d54a-442f-ae81-3f026773f9a4",
   "metadata": {},
   "source": [
    "`-` 아래는 잘 실행된다. "
   ]
  },
  {
   "cell_type": "code",
   "execution_count": 70,
   "id": "1160f742-526e-4a9b-b45b-a5ed17ded1e3",
   "metadata": {},
   "outputs": [
    {
     "name": "stdout",
     "output_type": "stream",
     "text": [
      "[1] \"x는양수이어야함\"\n"
     ]
    }
   ],
   "source": [
    "if (x>0)    log(x)     else           print('x는양수이어야함')"
   ]
  },
  {
   "cell_type": "code",
   "execution_count": 71,
   "id": "897090e2-49a9-443c-a1ad-d456945bca38",
   "metadata": {},
   "outputs": [
    {
     "name": "stdout",
     "output_type": "stream",
     "text": [
      "[1] \"x는양수이어야함\"\n"
     ]
    }
   ],
   "source": [
    "if (x>0)    log(x)     else\n",
    "    print('x는양수이어야함')"
   ]
  },
  {
   "cell_type": "markdown",
   "id": "b543242c-1359-46ee-8564-6a0b24d92b51",
   "metadata": {},
   "source": [
    "`-` 보통은 아래와 같이 사용한다. "
   ]
  },
  {
   "cell_type": "code",
   "execution_count": 76,
   "id": "703c8ce2-80be-428d-8a86-862d503f03d1",
   "metadata": {},
   "outputs": [
    {
     "name": "stdout",
     "output_type": "stream",
     "text": [
      "[1] \"x는 양수이어야함\"\n"
     ]
    }
   ],
   "source": [
    "x=0\n",
    "if(x>0){\n",
    "    log(x) \n",
    "}else{\n",
    "    print('x는 양수이어야함')\n",
    "}"
   ]
  },
  {
   "cell_type": "markdown",
   "id": "29198ba4-1ef0-4737-922a-89aafa7a06cd",
   "metadata": {},
   "source": [
    "`-` 결국 한줄에 다 말하거나, `{}`를 적절하게 활용하면 된다. "
   ]
  },
  {
   "cell_type": "markdown",
   "id": "da0b1dce-ffe7-48ff-9373-ab0dcb5ca31b",
   "metadata": {},
   "source": [
    "`-` 아래와 같은것들도 가능 "
   ]
  },
  {
   "cell_type": "code",
   "execution_count": 77,
   "id": "45c9759f-0617-4b1f-9311-f160f84b8a35",
   "metadata": {},
   "outputs": [
    {
     "name": "stdout",
     "output_type": "stream",
     "text": [
      "[1] \"x는 양수이어야함\"\n"
     ]
    }
   ],
   "source": [
    "x=0\n",
    "if (x>0){\n",
    "    \n",
    "log(x) \n",
    "    }else{\n",
    "print('x는 양수이어야함')\n",
    "        }"
   ]
  },
  {
   "cell_type": "markdown",
   "id": "f83a73a1-76a8-41de-aa61-af687d87ffc0",
   "metadata": {},
   "source": [
    "`-` 아래는 불가능 (무조건 중괄호를 친다고 해결되는것이 아님)"
   ]
  },
  {
   "cell_type": "code",
   "execution_count": 78,
   "id": "7749b316-424d-42dd-b363-b9e5e2fa641e",
   "metadata": {},
   "outputs": [
    {
     "ename": "ERROR",
     "evalue": "Error in parse(text = x, srcfile = src): <text>:5:1: unexpected 'else'\n4: }\n5: else\n   ^\n",
     "output_type": "error",
     "traceback": [
      "Error in parse(text = x, srcfile = src): <text>:5:1: unexpected 'else'\n4: }\n5: else\n   ^\nTraceback:\n"
     ]
    }
   ],
   "source": [
    "x=0\n",
    "if (x>0){\n",
    "    log(x) \n",
    "}\n",
    "else{\n",
    "    print('x는 양수이어야함')\n",
    "}"
   ]
  },
  {
   "cell_type": "markdown",
   "id": "ab914389-0c8d-4a63-aaea-cc300d9500c4",
   "metadata": {},
   "source": [
    "`-` 결국 아래와 같은 코드를 권장함. (주피터보다 Rstudio가 더 쓰기편하다)"
   ]
  },
  {
   "cell_type": "code",
   "execution_count": 80,
   "id": "09c75830-ddb5-410a-baa2-accadd211cf0",
   "metadata": {},
   "outputs": [
    {
     "name": "stdout",
     "output_type": "stream",
     "text": [
      "[1] \"x는 양수이어야함\"\n"
     ]
    }
   ],
   "source": [
    "x=0\n",
    "if(x>0){\n",
    "    log(x) \n",
    "}else{\n",
    "    print('x는 양수이어야함')\n",
    "}"
   ]
  },
  {
   "cell_type": "markdown",
   "id": "4eb9bd1e-41f3-4d87-b3a4-9c41bf4e5cf6",
   "metadata": {},
   "source": [
    "### 중첩"
   ]
  },
  {
   "cell_type": "markdown",
   "id": "7e67726c-9c68-43c3-8b24-a69e4390d633",
   "metadata": {},
   "source": [
    "`-` 예제시작 "
   ]
  },
  {
   "cell_type": "code",
   "execution_count": 84,
   "id": "c4dd23d3-4ad4-4908-965d-c7eebadd5b31",
   "metadata": {},
   "outputs": [
    {
     "name": "stdout",
     "output_type": "stream",
     "text": [
      "[1] 2.302585\n"
     ]
    }
   ],
   "source": [
    "x=10 \n",
    "if (x>0){\n",
    "    print(log(x))\n",
    "}else{\n",
    "    if(x==0){\n",
    "        x=1e-100\n",
    "        print('x=0에서는 log(x)가 정의되지 않으므로 x=1e-100의 값으로 바꾸어 계산하겠습니다.')\n",
    "        log(x)\n",
    "    }else{ \n",
    "        print('x가음수입니다.')\n",
    "    }\n",
    "}"
   ]
  },
  {
   "cell_type": "code",
   "execution_count": 85,
   "id": "14be7ddb-5008-49cc-84be-aa16c90de2c3",
   "metadata": {},
   "outputs": [
    {
     "name": "stdout",
     "output_type": "stream",
     "text": [
      "[1] \"x=0에서는 log(x)가 정의되지 않으므로 x=1e-100의 값으로 바꾸어 계산하겠습니다.\"\n"
     ]
    },
    {
     "data": {
      "text/plain": [
       "[1] -230.2585"
      ]
     },
     "metadata": {},
     "output_type": "display_data"
    }
   ],
   "source": [
    "x=0\n",
    "if (x>0){\n",
    "    print(log(x))\n",
    "}else{\n",
    "    if(x==0){\n",
    "        x=1e-100\n",
    "        print('x=0에서는 log(x)가 정의되지 않으므로 x=1e-100의 값으로 바꾸어 계산하겠습니다.')\n",
    "        log(x)\n",
    "    }else{ \n",
    "        print('x가음수입니다.')\n",
    "    }\n",
    "}"
   ]
  },
  {
   "cell_type": "code",
   "execution_count": 93,
   "id": "66c69725-d8fd-4f84-a0f7-9711959d5c2e",
   "metadata": {},
   "outputs": [
    {
     "name": "stdout",
     "output_type": "stream",
     "text": [
      "[1] \"x가음수입니다.\"\n"
     ]
    }
   ],
   "source": [
    "x=-1\n",
    "if (x>0){\n",
    "    print(log(x))\n",
    "}else{\n",
    "    if(x==0){\n",
    "        x=1e-100\n",
    "        print('x=0에서는 log(x)가 정의되지 않으므로 x=1e-100의 값으로 바꾸어 계산하겠습니다.')\n",
    "        log(x)\n",
    "    }else{ \n",
    "        print('x가음수입니다.')\n",
    "    }\n",
    "}"
   ]
  },
  {
   "cell_type": "markdown",
   "id": "957baf09-fa73-47cf-9548-926caad8662f",
   "metadata": {},
   "source": [
    "`-` 보통은 아래와 같이 함수 형태로 사용한다. (중괄호지옥 $\\to$ Rstudio가 좀더 편리함)"
   ]
  },
  {
   "cell_type": "code",
   "execution_count": 95,
   "id": "4cee2595-1e36-4103-abe4-398e208fbcb4",
   "metadata": {},
   "outputs": [],
   "source": [
    "mylogfun<-function(x){\n",
    "    if (x>0){\n",
    "        print(log(x))\n",
    "    }else{\n",
    "        if(x==0){\n",
    "            x=1e-100\n",
    "            print('x=0에서는 log(x)가 정의되지 않으므로 x=1e-100의 값으로 바꾸어 계산하겠습니다.')\n",
    "            log(x)\n",
    "        }else{ \n",
    "            print('x가음수입니다.')\n",
    "        }\n",
    "    }\n",
    "}"
   ]
  },
  {
   "cell_type": "code",
   "execution_count": 98,
   "id": "b1f30ff7-4269-480b-a549-f393ac5d9120",
   "metadata": {},
   "outputs": [
    {
     "name": "stdout",
     "output_type": "stream",
     "text": [
      "[1] \"x=0에서는 log(x)가 정의되지 않으므로 x=1e-100의 값으로 바꾸어 계산하겠습니다.\"\n"
     ]
    },
    {
     "data": {
      "text/plain": [
       "[1] -230.2585"
      ]
     },
     "metadata": {},
     "output_type": "display_data"
    }
   ],
   "source": [
    "mylogfun(0)"
   ]
  },
  {
   "cell_type": "markdown",
   "id": "7f3c4a56-bcb4-44fd-bded-bb985d3bfa4a",
   "metadata": {},
   "source": [
    "### 숙제 "
   ]
  },
  {
   "cell_type": "markdown",
   "id": "c5aef46a-4b62-45de-993b-1e807db5192b",
   "metadata": {},
   "source": [
    "mysqrtfun()를 만들고 \n",
    "\n",
    "(1) x>=0 --> sqrt(x) \n",
    "\n",
    "(2) x<0 --> 'x는 양수이어야합니다' "
   ]
  },
  {
   "cell_type": "markdown",
   "id": "08890fac-82c2-40a6-95b7-26f6e1aea2a9",
   "metadata": {},
   "source": [
    "mysqrtfun(-2), mysqrtfun(2) 의 출력결과를 스크린샷으로 제출 "
   ]
  }
 ],
 "metadata": {
  "kernelspec": {
   "display_name": "R",
   "language": "R",
   "name": "ir"
  },
  "language_info": {
   "codemirror_mode": "r",
   "file_extension": ".r",
   "mimetype": "text/x-r-source",
   "name": "R",
   "pygments_lexer": "r",
   "version": "4.0.5"
  }
 },
 "nbformat": 4,
 "nbformat_minor": 5
}
