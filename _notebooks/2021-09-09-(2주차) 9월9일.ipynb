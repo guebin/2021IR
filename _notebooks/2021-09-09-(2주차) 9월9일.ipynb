{
 "cells": [
  {
   "cell_type": "markdown",
   "id": "6844bb8b-e60d-48f9-b6d1-856602d6283d",
   "metadata": {
    "tags": []
   },
   "source": [
    "# (2주차) 9월9일 \n",
    "> 아나콘다설치, 주피터랩에서R사용하기, 변수이름 선언, 벡터선언, 함수정의 \n",
    "\n",
    "- toc:true\n",
    "- branch: master\n",
    "- badges: true\n",
    "- comments: true\n",
    "- author: 최규빈"
   ]
  },
  {
   "cell_type": "code",
   "execution_count": 1,
   "id": "76681d17-0064-4109-bbd5-867a0023d5b8",
   "metadata": {},
   "outputs": [],
   "source": [
    "#hide\n",
    "options(jupyter.plot_mimetypes=c(\"image/svg+xml\"))\n",
    "options(jupyter.display_mimetypes=c(\"text/html\"))\n",
    "options(jupyter.rich_display=FALSE)\n",
    "options(max.print=1000)"
   ]
  },
  {
   "cell_type": "markdown",
   "id": "c88cf8ba-e9fd-4dd8-aa04-ab49a69fd509",
   "metadata": {
    "tags": []
   },
   "source": [
    "### [강의영상](https://youtube.com/playlist?list=PLQqh36zP38-w2lqSCBK7ou2znjmOCdIWY)"
   ]
  },
  {
   "cell_type": "markdown",
   "id": "09eecf55-9d8d-4b46-8d3e-060a6b4e5b89",
   "metadata": {},
   "source": [
    "`-` (1/8): 과제제출 연장안내\n",
    "\n",
    "`-` (2/8): 아나콘다 설치 1\n",
    "\n",
    "`-` (3/8): 아나콘다 설치 2, 주피터랩을 사용하여 R실습해보기\n",
    "\n",
    "`-` (4/8): 변수이름 선언하기 \n",
    "\n",
    "`-` (5/8): 변수이름 선언하는 팁\n",
    "\n",
    "`-` (6/8): 벡터선언하기 1\n",
    "\n",
    "`-` (7/8): 벡터선언하기 2, 함수선언 \n",
    "\n",
    "`-` (8/8): 과제설명 "
   ]
  },
  {
   "cell_type": "markdown",
   "id": "4f91e247-8261-42ff-8f2a-b9eefe31002f",
   "metadata": {
    "tags": []
   },
   "source": [
    "### 변수이름에 어떠한 값을 넣는 방법"
   ]
  },
  {
   "cell_type": "markdown",
   "id": "60fa2663-6aef-4ac5-8bfb-7736a7b9c19e",
   "metadata": {},
   "source": [
    "`-` 방법1"
   ]
  },
  {
   "cell_type": "code",
   "execution_count": 2,
   "id": "b24d3d72-ab15-4208-9311-c6df2da26136",
   "metadata": {},
   "outputs": [],
   "source": [
    "d=1"
   ]
  },
  {
   "cell_type": "markdown",
   "id": "e44c0d46-cdd5-4e8b-bd75-816687fbc72b",
   "metadata": {},
   "source": [
    "`-` 방법2"
   ]
  },
  {
   "cell_type": "code",
   "execution_count": 3,
   "id": "176ef9c0-4602-4354-8492-bbea64ed5332",
   "metadata": {},
   "outputs": [],
   "source": [
    "e <- 3"
   ]
  },
  {
   "cell_type": "markdown",
   "id": "19ca6a29-db87-47ae-b107-c1eea252dfc1",
   "metadata": {},
   "source": [
    "#### 주의할점: 쓸 수 없는 변수명이 있다. "
   ]
  },
  {
   "cell_type": "markdown",
   "id": "862c34f1-cf2f-42ac-a1b7-422d9677855e",
   "metadata": {},
   "source": [
    "(1) 특수문자 불가능 "
   ]
  },
  {
   "cell_type": "code",
   "execution_count": 4,
   "id": "06cf0531-4d36-4f1a-92f4-ec3262b875c3",
   "metadata": {},
   "outputs": [
    {
     "ename": "ERROR",
     "evalue": "Error in parse(text = x, srcfile = src): <text>:1:2: unexpected '!'\n1: a!\n     ^\n",
     "output_type": "error",
     "traceback": [
      "Error in parse(text = x, srcfile = src): <text>:1:2: unexpected '!'\n1: a!\n     ^\nTraceback:\n"
     ]
    }
   ],
   "source": [
    "a! <- 3"
   ]
  },
  {
   "cell_type": "markdown",
   "id": "810c67f5-f523-4c8f-96da-a05d227eb42a",
   "metadata": {},
   "source": [
    "(2) 숫자로 시작하는 변수이름 불가능"
   ]
  },
  {
   "cell_type": "code",
   "execution_count": 5,
   "id": "0cf252e4-1ac7-4ead-be78-69249706a108",
   "metadata": {},
   "outputs": [
    {
     "ename": "ERROR",
     "evalue": "Error in parse(text = x, srcfile = src): <text>:1:2: unexpected symbol\n1: 2a\n     ^\n",
     "output_type": "error",
     "traceback": [
      "Error in parse(text = x, srcfile = src): <text>:1:2: unexpected symbol\n1: 2a\n     ^\nTraceback:\n"
     ]
    }
   ],
   "source": [
    "2a <- 3 "
   ]
  },
  {
   "cell_type": "code",
   "execution_count": 6,
   "id": "9016d1c4-bdaf-497e-8c4d-7e0ff67a3403",
   "metadata": {},
   "outputs": [],
   "source": [
    "a2 <- 3 "
   ]
  },
  {
   "cell_type": "markdown",
   "id": "558a8e29-6a0c-4899-8860-5652a17ae388",
   "metadata": {},
   "source": [
    "- 이것은 가능 (숫자로 시작되면 안되는 것이지 숫자를 포함하지 말라는 의미는 아님)"
   ]
  },
  {
   "cell_type": "markdown",
   "id": "ea0a8d3f-0508-4ae9-8727-09c8f2f070d8",
   "metadata": {},
   "source": [
    "(3) 띄어쓰기 불가능 "
   ]
  },
  {
   "cell_type": "code",
   "execution_count": 7,
   "id": "ed4c98d2-33ed-43d0-8af4-fa6b4c8b3f4f",
   "metadata": {},
   "outputs": [
    {
     "ename": "ERROR",
     "evalue": "Error in parse(text = x, srcfile = src): <text>:1:8: unexpected symbol\n1: Guebin Choi\n           ^\n",
     "output_type": "error",
     "traceback": [
      "Error in parse(text = x, srcfile = src): <text>:1:8: unexpected symbol\n1: Guebin Choi\n           ^\nTraceback:\n"
     ]
    }
   ],
   "source": [
    "Guebin Choi <- 33 "
   ]
  },
  {
   "cell_type": "code",
   "execution_count": 8,
   "id": "ee93a7e1-dfb7-4501-9652-6327350e4dbf",
   "metadata": {},
   "outputs": [],
   "source": [
    "this_is_333 <- 333"
   ]
  },
  {
   "cell_type": "markdown",
   "id": "651f35d7-c18e-45dc-9aaf-384370e5425e",
   "metadata": {},
   "source": [
    "- 띄어쓰기 대신 언더바(_)를 활용한다. "
   ]
  },
  {
   "cell_type": "code",
   "execution_count": 9,
   "id": "7e67c748-5e36-4b83-90ea-7af33878312b",
   "metadata": {},
   "outputs": [],
   "source": [
    "this.is.777 <- 777 "
   ]
  },
  {
   "cell_type": "markdown",
   "id": "8fd6af99-fb24-406a-a4fb-19f64ec064fa",
   "metadata": {},
   "source": [
    "- 언더바 말고 닷(.)을 선호하는 사람도 있다. "
   ]
  },
  {
   "cell_type": "markdown",
   "id": "14d5a536-db6e-4ec3-a1ca-daa3307ef141",
   "metadata": {},
   "source": [
    "(4) 언더바를 포함하는 것은 가능하지만, 언더바로 시작하는 변수명은 사용할 수 없다. `"
   ]
  },
  {
   "cell_type": "code",
   "execution_count": 10,
   "id": "4d46fe7e-025f-4aa4-b16c-0180a9a00570",
   "metadata": {},
   "outputs": [
    {
     "ename": "ERROR",
     "evalue": "Error in parse(text = x, srcfile = src): <text>:1:1: unexpected input\n1: _\n    ^\n",
     "output_type": "error",
     "traceback": [
      "Error in parse(text = x, srcfile = src): <text>:1:1: unexpected input\n1: _\n    ^\nTraceback:\n"
     ]
    }
   ],
   "source": [
    "_x <- 33"
   ]
  },
  {
   "cell_type": "markdown",
   "id": "ff1f6d14-e9e8-49e8-ac10-dc5ea3c9f1a1",
   "metadata": {},
   "source": [
    "(5) 사용할 수는 있지만 권장하지 않는 변수이름 "
   ]
  },
  {
   "cell_type": "code",
   "execution_count": 11,
   "id": "001b7c97-16b6-4c01-a90b-3e110b02854e",
   "metadata": {},
   "outputs": [
    {
     "data": {
      "text/plain": [
       "[1] 3.141593"
      ]
     },
     "metadata": {},
     "output_type": "display_data"
    }
   ],
   "source": [
    "pi"
   ]
  },
  {
   "cell_type": "code",
   "execution_count": 12,
   "id": "c908259b-0e35-4026-be8f-7c075fbc4ba3",
   "metadata": {},
   "outputs": [],
   "source": [
    "pi<-333"
   ]
  },
  {
   "cell_type": "code",
   "execution_count": 13,
   "id": "8d4b4b27-2005-4796-8f2c-0323552920dd",
   "metadata": {},
   "outputs": [
    {
     "data": {
      "text/plain": [
       "[1] 333"
      ]
     },
     "metadata": {},
     "output_type": "display_data"
    }
   ],
   "source": [
    "pi"
   ]
  },
  {
   "cell_type": "markdown",
   "id": "2704fc00-7d13-420f-ad09-e28d829839f1",
   "metadata": {},
   "source": [
    "(6) 팁.. "
   ]
  },
  {
   "cell_type": "markdown",
   "id": "94be6549-1480-41fa-bf43-a5e577bc800d",
   "metadata": {},
   "source": [
    "`-` 변수를 축약할때 모음을 제외하면 좋다. \n",
    "- result -> rslt \n",
    "- residual -> rsdl "
   ]
  },
  {
   "cell_type": "markdown",
   "id": "5a0d8841-470e-48aa-b8b9-b82a73b85849",
   "metadata": {},
   "source": [
    "`-` 임시로 변수명을 사용해야 할 경우: 변수이름 끝에 언더바를 붙인다. \n",
    "- x_ , y_, rslt_, ... "
   ]
  },
  {
   "cell_type": "markdown",
   "id": "3a81b97a-bf3f-497b-99e4-cd18427ca280",
   "metadata": {},
   "source": [
    "### 벡터를 선언하는 방법 "
   ]
  },
  {
   "cell_type": "markdown",
   "id": "f198f235-0d6f-4ff3-9385-3a1bb39fd1bd",
   "metadata": {},
   "source": [
    "`-` 방법1: 직접 입력"
   ]
  },
  {
   "cell_type": "code",
   "execution_count": 30,
   "id": "393f4854-96d7-46f1-b7ab-e744339b619d",
   "metadata": {},
   "outputs": [
    {
     "data": {
      "text/plain": [
       "[1] 1 2 3 3 4 5 2"
      ]
     },
     "metadata": {},
     "output_type": "display_data"
    }
   ],
   "source": [
    "c(1,2,3,3,4,5,2)"
   ]
  },
  {
   "cell_type": "markdown",
   "id": "32bfdb3c-05db-4972-bea8-5f74822682aa",
   "metadata": {},
   "source": [
    "`-` 방법2: seq 를 이용"
   ]
  },
  {
   "cell_type": "code",
   "execution_count": 29,
   "id": "fec1f17b-62bf-4284-a627-5f937b10d52a",
   "metadata": {},
   "outputs": [
    {
     "data": {
      "text/plain": [
       "  [1]  0.0  0.1  0.2  0.3  0.4  0.5  0.6  0.7  0.8  0.9  1.0  1.1  1.2  1.3  1.4\n",
       " [16]  1.5  1.6  1.7  1.8  1.9  2.0  2.1  2.2  2.3  2.4  2.5  2.6  2.7  2.8  2.9\n",
       " [31]  3.0  3.1  3.2  3.3  3.4  3.5  3.6  3.7  3.8  3.9  4.0  4.1  4.2  4.3  4.4\n",
       " [46]  4.5  4.6  4.7  4.8  4.9  5.0  5.1  5.2  5.3  5.4  5.5  5.6  5.7  5.8  5.9\n",
       " [61]  6.0  6.1  6.2  6.3  6.4  6.5  6.6  6.7  6.8  6.9  7.0  7.1  7.2  7.3  7.4\n",
       " [76]  7.5  7.6  7.7  7.8  7.9  8.0  8.1  8.2  8.3  8.4  8.5  8.6  8.7  8.8  8.9\n",
       " [91]  9.0  9.1  9.2  9.3  9.4  9.5  9.6  9.7  9.8  9.9 10.0"
      ]
     },
     "metadata": {},
     "output_type": "display_data"
    }
   ],
   "source": [
    "seq(from=0,to=10,by=0.1) # 0~10 까지 0.1의 간격으로 수열만들기 "
   ]
  },
  {
   "cell_type": "code",
   "execution_count": 28,
   "id": "a2374f4f-7687-4765-9028-61f9988f2685",
   "metadata": {},
   "outputs": [
    {
     "data": {
      "text/plain": [
       " [1] 0.00000000 0.03846154 0.07692308 0.11538462 0.15384615 0.19230769\n",
       " [7] 0.23076923 0.26923077 0.30769231 0.34615385 0.38461538 0.42307692\n",
       "[13] 0.46153846 0.50000000 0.53846154 0.57692308 0.61538462 0.65384615\n",
       "[19] 0.69230769 0.73076923 0.76923077 0.80769231 0.84615385 0.88461538\n",
       "[25] 0.92307692 0.96153846 1.00000000"
      ]
     },
     "metadata": {},
     "output_type": "display_data"
    }
   ],
   "source": [
    "seq(from=0, to=1, length.out = 27) # 0~1 까지 등간격으로 총 27개의 수열만들기 "
   ]
  },
  {
   "cell_type": "markdown",
   "id": "d0eb8138-ce79-44ef-aace-f2fa14f9a3d8",
   "metadata": {},
   "source": [
    "`-` 방법3: `:` 를 이용 "
   ]
  },
  {
   "cell_type": "code",
   "execution_count": 27,
   "id": "74f127d4-997d-432c-b774-802d298e96fe",
   "metadata": {},
   "outputs": [
    {
     "data": {
      "text/plain": [
       " [1]  1  2  3  4  5  6  7  8  9 10 11 12 13 14 15 16 17 18 19 20 21 22"
      ]
     },
     "metadata": {},
     "output_type": "display_data"
    }
   ],
   "source": [
    "1:22"
   ]
  },
  {
   "cell_type": "markdown",
   "id": "e29b4fd5-5c81-4f65-ab38-a8ffddc95cab",
   "metadata": {},
   "source": [
    "이 방법을 살짝 응용하면 0~1까지 57개의 변수를 넣는 방법을 아래와 같이 할 수 있다. "
   ]
  },
  {
   "cell_type": "code",
   "execution_count": 23,
   "id": "305542cb-99b8-4fc3-8a4f-05859801edb8",
   "metadata": {},
   "outputs": [
    {
     "name": "stdout",
     "output_type": "stream",
     "text": [
      " [1] 0.00000000 0.01785714 0.03571429 0.05357143 0.07142857 0.08928571\n",
      " [7] 0.10714286 0.12500000 0.14285714 0.16071429 0.17857143 0.19642857\n",
      "[13] 0.21428571 0.23214286 0.25000000 0.26785714 0.28571429 0.30357143\n",
      "[19] 0.32142857 0.33928571 0.35714286 0.37500000 0.39285714 0.41071429\n",
      "[25] 0.42857143 0.44642857 0.46428571 0.48214286 0.50000000 0.51785714\n",
      "[31] 0.53571429 0.55357143 0.57142857 0.58928571 0.60714286 0.62500000\n",
      "[37] 0.64285714 0.66071429 0.67857143 0.69642857 0.71428571 0.73214286\n",
      "[43] 0.75000000 0.76785714 0.78571429 0.80357143 0.82142857 0.83928571\n",
      "[49] 0.85714286 0.87500000 0.89285714 0.91071429 0.92857143 0.94642857\n",
      "[55] 0.96428571 0.98214286 1.00000000\n"
     ]
    }
   ],
   "source": [
    "print(0:56 / 56)"
   ]
  },
  {
   "cell_type": "markdown",
   "id": "f04b7ecb-1d62-484a-8361-e177146af745",
   "metadata": {},
   "source": [
    "물론 아래와 같이하는것이 더 가독성이 좋다. "
   ]
  },
  {
   "cell_type": "code",
   "execution_count": 24,
   "id": "4e3e30e9-0f09-4289-a615-8d0932fab6d1",
   "metadata": {},
   "outputs": [
    {
     "name": "stdout",
     "output_type": "stream",
     "text": [
      " [1] 0.00000000 0.01785714 0.03571429 0.05357143 0.07142857 0.08928571\n",
      " [7] 0.10714286 0.12500000 0.14285714 0.16071429 0.17857143 0.19642857\n",
      "[13] 0.21428571 0.23214286 0.25000000 0.26785714 0.28571429 0.30357143\n",
      "[19] 0.32142857 0.33928571 0.35714286 0.37500000 0.39285714 0.41071429\n",
      "[25] 0.42857143 0.44642857 0.46428571 0.48214286 0.50000000 0.51785714\n",
      "[31] 0.53571429 0.55357143 0.57142857 0.58928571 0.60714286 0.62500000\n",
      "[37] 0.64285714 0.66071429 0.67857143 0.69642857 0.71428571 0.73214286\n",
      "[43] 0.75000000 0.76785714 0.78571429 0.80357143 0.82142857 0.83928571\n",
      "[49] 0.85714286 0.87500000 0.89285714 0.91071429 0.92857143 0.94642857\n",
      "[55] 0.96428571 0.98214286 1.00000000\n"
     ]
    }
   ],
   "source": [
    "print(seq(from=0,to=1,length.out =57))"
   ]
  },
  {
   "cell_type": "markdown",
   "id": "4fd5a168-b36b-4e23-9f65-8b7b43b61600",
   "metadata": {},
   "source": [
    "`-` 방법4: rep를 이용 "
   ]
  },
  {
   "cell_type": "code",
   "execution_count": 26,
   "id": "94543f38-0ef9-4af9-91c5-3e6086161450",
   "metadata": {},
   "outputs": [
    {
     "data": {
      "text/plain": [
       "  [1] 0 0 0 0 0 0 0 0 0 0 0 0 0 0 0 0 0 0 0 0 0 0 0 0 0 0 0 0 0 0 0 0 0 0 0 0 0\n",
       " [38] 0 0 0 0 0 0 0 0 0 0 0 0 0 0 0 0 0 0 0 0 0 0 0 0 0 0 0 0 0 0 0 0 0 0 0 0 0\n",
       " [75] 0 0 0 0 0 0 0 0 0 0 0 0 0 0 0 0 0 0 0 0 0 0 0 0 0 0"
      ]
     },
     "metadata": {},
     "output_type": "display_data"
    }
   ],
   "source": [
    "rep(0,100)"
   ]
  },
  {
   "cell_type": "markdown",
   "id": "476fba19-4ebd-4846-9c43-cd18cfcdc9bb",
   "metadata": {},
   "source": [
    "### 함수사용하는 방법"
   ]
  },
  {
   "cell_type": "markdown",
   "id": "aea07ade-da1f-47b6-9a89-1aa5dd16252c",
   "metadata": {},
   "source": [
    "`-` 기본 구조"
   ]
  },
  {
   "cell_type": "markdown",
   "id": "1ab0e6a8-dd57-419d-a580-83db96c7472f",
   "metadata": {},
   "source": [
    "```r\n",
    "함수이름 <- function(입력){\n",
    "    함수의 기능 \n",
    "    return(출력)\n",
    "    }\n",
    "```"
   ]
  },
  {
   "cell_type": "code",
   "execution_count": 31,
   "id": "45180fe5-dc95-4fcd-936d-5655ac1664c2",
   "metadata": {},
   "outputs": [],
   "source": [
    "f<-function(d){\n",
    "    I0=1\n",
    "    Id=I0*0.25 \n",
    "    y=I0*2^(-0.25*d)/Id\n",
    "    return(y)\n",
    "}"
   ]
  },
  {
   "cell_type": "code",
   "execution_count": 32,
   "id": "5602ef71-c4d3-4509-bc0f-1e880002e548",
   "metadata": {},
   "outputs": [
    {
     "data": {
      "text/plain": [
       "[1] 1"
      ]
     },
     "metadata": {},
     "output_type": "display_data"
    }
   ],
   "source": [
    "f(8)"
   ]
  },
  {
   "cell_type": "markdown",
   "id": "40d592de-e355-4ec4-9685-d38c6c0aeb1f",
   "metadata": {},
   "source": [
    "`-` 아래의 2개의 코드는 `거의` 같다. "
   ]
  },
  {
   "cell_type": "code",
   "execution_count": 33,
   "id": "88ecf77d-6835-4839-b97b-dfc16900a3b2",
   "metadata": {},
   "outputs": [
    {
     "data": {
      "text/plain": [
       "[1] 1"
      ]
     },
     "metadata": {},
     "output_type": "display_data"
    }
   ],
   "source": [
    "###\n",
    "### 1 \n",
    "f<-function(d){\n",
    "    I0=1\n",
    "    Id=I0*0.25 \n",
    "    y=I0*2^(-0.25*d)/Id\n",
    "    return(y)\n",
    "}\n",
    "f(8)\n",
    "\n",
    "### 2\n",
    "d=8\n",
    "I0=1\n",
    "Id=I0*0.25\n",
    "y=I0*2^(-0.25*d)/Id"
   ]
  },
  {
   "cell_type": "markdown",
   "id": "8734305a-5ea1-484b-8ad5-a98fde9195f4",
   "metadata": {},
   "source": [
    "`-` return을 생략해도 괜찮다. "
   ]
  },
  {
   "cell_type": "code",
   "execution_count": 34,
   "id": "2e1cb1a0-3e89-4753-a12c-d8d4d878c8ea",
   "metadata": {},
   "outputs": [
    {
     "data": {
      "text/plain": [
       "[1] 1"
      ]
     },
     "metadata": {},
     "output_type": "display_data"
    }
   ],
   "source": [
    "f<-function(d){\n",
    "    I0=1\n",
    "    Id=I0*0.25 \n",
    "    y=I0*2^(-0.25*d)/Id\n",
    "    y\n",
    "}\n",
    "f(8)"
   ]
  },
  {
   "cell_type": "markdown",
   "id": "2216ab19-074e-4643-9706-fecf3c2a3bbd",
   "metadata": {},
   "source": [
    "### [숙제](https://ieilms.jbnu.ac.kr/)\n",
    "\n",
    "`-` 주피터랩으로 R실습할 수 있는 환경을 설정"
   ]
  }
 ],
 "metadata": {
  "kernelspec": {
   "display_name": "R",
   "language": "R",
   "name": "ir"
  },
  "language_info": {
   "codemirror_mode": "r",
   "file_extension": ".r",
   "mimetype": "text/x-r-source",
   "name": "R",
   "pygments_lexer": "r",
   "version": "4.0.3"
  }
 },
 "nbformat": 4,
 "nbformat_minor": 5
}
