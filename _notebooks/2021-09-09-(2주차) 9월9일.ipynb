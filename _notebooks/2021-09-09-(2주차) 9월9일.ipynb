{
 "cells": [
  {
   "cell_type": "markdown",
   "id": "6844bb8b-e60d-48f9-b6d1-856602d6283d",
   "metadata": {
    "tags": []
   },
   "source": [
    "# (2주차) 9월9일 \n",
    "> 아나콘다설치, 주피터랩에서R사용하기, 변수이름 선언, 벡터선언, 함수정의 \n",
    "\n",
    "- toc:true\n",
    "- branch: master\n",
    "- badges: true\n",
    "- comments: true\n",
    "- author: 최규빈"
   ]
  },
  {
   "cell_type": "markdown",
   "id": "c88cf8ba-e9fd-4dd8-aa04-ab49a69fd509",
   "metadata": {
    "tags": []
   },
   "source": [
    "### 강의영상\n",
    "> youtube: https://youtube.com/playlist?list=PLQqh36zP38-w2lqSCBK7ou2znjmOCdIWY"
   ]
  },
  {
   "cell_type": "markdown",
   "id": "09eecf55-9d8d-4b46-8d3e-060a6b4e5b89",
   "metadata": {},
   "source": [
    "`-` (1/8): 과제제출 연장안내\n",
    "\n",
    "`-` (2/8): 아나콘다 설치 1\n",
    "\n",
    "`-` (3/8): 아나콘다 설치 2, 주피터랩을 사용하여 R실습해보기\n",
    "\n",
    "`-` (4/8): 변수이름 선언하기 \n",
    "\n",
    "`-` (5/8): 변수이름 선언하는 팁\n",
    "\n",
    "`-` (6/8): 벡터선언하기 1\n",
    "\n",
    "`-` (7/8): 벡터선언하기 2, 함수선언 \n",
    "\n",
    "`-` (8/8): 과제설명 "
   ]
  },
  {
   "cell_type": "markdown",
   "id": "4f91e247-8261-42ff-8f2a-b9eefe31002f",
   "metadata": {
    "tags": []
   },
   "source": [
    "### 변수이름에 어떠한 값을 넣는 방법"
   ]
  },
  {
   "cell_type": "markdown",
   "id": "60fa2663-6aef-4ac5-8bfb-7736a7b9c19e",
   "metadata": {},
   "source": [
    "`-` 방법1"
   ]
  },
  {
   "cell_type": "code",
   "execution_count": 1,
   "id": "b24d3d72-ab15-4208-9311-c6df2da26136",
   "metadata": {},
   "outputs": [],
   "source": [
    "d=1"
   ]
  },
  {
   "cell_type": "markdown",
   "id": "e44c0d46-cdd5-4e8b-bd75-816687fbc72b",
   "metadata": {},
   "source": [
    "`-` 방법2"
   ]
  },
  {
   "cell_type": "code",
   "execution_count": 2,
   "id": "176ef9c0-4602-4354-8492-bbea64ed5332",
   "metadata": {},
   "outputs": [],
   "source": [
    "e <- 3"
   ]
  },
  {
   "cell_type": "markdown",
   "id": "19ca6a29-db87-47ae-b107-c1eea252dfc1",
   "metadata": {},
   "source": [
    "#### 주의할점: 쓸 수 없는 변수명이 있다. "
   ]
  },
  {
   "cell_type": "markdown",
   "id": "862c34f1-cf2f-42ac-a1b7-422d9677855e",
   "metadata": {},
   "source": [
    "(1) 특수문자 불가능 "
   ]
  },
  {
   "cell_type": "code",
   "execution_count": 3,
   "id": "06cf0531-4d36-4f1a-92f4-ec3262b875c3",
   "metadata": {},
   "outputs": [
    {
     "ename": "ERROR",
     "evalue": "Error in parse(text = x, srcfile = src): <text>:1:2: unexpected '!'\n1: a!\n     ^\n",
     "output_type": "error",
     "traceback": [
      "Error in parse(text = x, srcfile = src): <text>:1:2: unexpected '!'\n1: a!\n     ^\nTraceback:\n"
     ]
    }
   ],
   "source": [
    "a! <- 3"
   ]
  },
  {
   "cell_type": "markdown",
   "id": "810c67f5-f523-4c8f-96da-a05d227eb42a",
   "metadata": {},
   "source": [
    "(2) 숫자로 시작하는 변수이름 불가능"
   ]
  },
  {
   "cell_type": "code",
   "execution_count": 4,
   "id": "0cf252e4-1ac7-4ead-be78-69249706a108",
   "metadata": {},
   "outputs": [
    {
     "ename": "ERROR",
     "evalue": "Error in parse(text = x, srcfile = src): <text>:1:2: unexpected symbol\n1: 2a\n     ^\n",
     "output_type": "error",
     "traceback": [
      "Error in parse(text = x, srcfile = src): <text>:1:2: unexpected symbol\n1: 2a\n     ^\nTraceback:\n"
     ]
    }
   ],
   "source": [
    "2a <- 3 "
   ]
  },
  {
   "cell_type": "code",
   "execution_count": 5,
   "id": "9016d1c4-bdaf-497e-8c4d-7e0ff67a3403",
   "metadata": {},
   "outputs": [],
   "source": [
    "a2 <- 3 "
   ]
  },
  {
   "cell_type": "markdown",
   "id": "558a8e29-6a0c-4899-8860-5652a17ae388",
   "metadata": {},
   "source": [
    "- 이것은 가능 (숫자로 시작되면 안되는 것이지 숫자를 포함하지 말라는 의미는 아님)"
   ]
  },
  {
   "cell_type": "markdown",
   "id": "ea0a8d3f-0508-4ae9-8727-09c8f2f070d8",
   "metadata": {},
   "source": [
    "(3) 띄어쓰기 불가능 "
   ]
  },
  {
   "cell_type": "code",
   "execution_count": 6,
   "id": "ed4c98d2-33ed-43d0-8af4-fa6b4c8b3f4f",
   "metadata": {},
   "outputs": [
    {
     "ename": "ERROR",
     "evalue": "Error in parse(text = x, srcfile = src): <text>:1:8: unexpected symbol\n1: Guebin Choi\n           ^\n",
     "output_type": "error",
     "traceback": [
      "Error in parse(text = x, srcfile = src): <text>:1:8: unexpected symbol\n1: Guebin Choi\n           ^\nTraceback:\n"
     ]
    }
   ],
   "source": [
    "Guebin Choi <- 33 "
   ]
  },
  {
   "cell_type": "code",
   "execution_count": 7,
   "id": "ee93a7e1-dfb7-4501-9652-6327350e4dbf",
   "metadata": {},
   "outputs": [],
   "source": [
    "this_is_333 <- 333"
   ]
  },
  {
   "cell_type": "markdown",
   "id": "651f35d7-c18e-45dc-9aaf-384370e5425e",
   "metadata": {},
   "source": [
    "- 띄어쓰기 대신 언더바(_)를 활용한다. "
   ]
  },
  {
   "cell_type": "code",
   "execution_count": 8,
   "id": "7e67c748-5e36-4b83-90ea-7af33878312b",
   "metadata": {},
   "outputs": [],
   "source": [
    "this.is.777 <- 777 "
   ]
  },
  {
   "cell_type": "markdown",
   "id": "8fd6af99-fb24-406a-a4fb-19f64ec064fa",
   "metadata": {},
   "source": [
    "- 언더바 말고 닷(.)을 선호하는 사람도 있다. "
   ]
  },
  {
   "cell_type": "markdown",
   "id": "14d5a536-db6e-4ec3-a1ca-daa3307ef141",
   "metadata": {},
   "source": [
    "(4) 언더바를 포함하는 것은 가능하지만, 언더바로 시작하는 변수명은 사용할 수 없다. `"
   ]
  },
  {
   "cell_type": "code",
   "execution_count": 9,
   "id": "4d46fe7e-025f-4aa4-b16c-0180a9a00570",
   "metadata": {},
   "outputs": [
    {
     "ename": "ERROR",
     "evalue": "Error in parse(text = x, srcfile = src): <text>:1:1: unexpected input\n1: _\n    ^\n",
     "output_type": "error",
     "traceback": [
      "Error in parse(text = x, srcfile = src): <text>:1:1: unexpected input\n1: _\n    ^\nTraceback:\n"
     ]
    }
   ],
   "source": [
    "_x <- 33"
   ]
  },
  {
   "cell_type": "markdown",
   "id": "ff1f6d14-e9e8-49e8-ac10-dc5ea3c9f1a1",
   "metadata": {},
   "source": [
    "(5) 사용할 수는 있지만 권장하지 않는 변수이름 "
   ]
  },
  {
   "cell_type": "code",
   "execution_count": 10,
   "id": "001b7c97-16b6-4c01-a90b-3e110b02854e",
   "metadata": {},
   "outputs": [
    {
     "data": {
      "text/html": [
       "3.14159265358979"
      ],
      "text/latex": [
       "3.14159265358979"
      ],
      "text/markdown": [
       "3.14159265358979"
      ],
      "text/plain": [
       "[1] 3.141593"
      ]
     },
     "metadata": {},
     "output_type": "display_data"
    }
   ],
   "source": [
    "pi"
   ]
  },
  {
   "cell_type": "code",
   "execution_count": 11,
   "id": "c908259b-0e35-4026-be8f-7c075fbc4ba3",
   "metadata": {},
   "outputs": [],
   "source": [
    "pi<-333"
   ]
  },
  {
   "cell_type": "code",
   "execution_count": 12,
   "id": "8d4b4b27-2005-4796-8f2c-0323552920dd",
   "metadata": {},
   "outputs": [
    {
     "data": {
      "text/html": [
       "333"
      ],
      "text/latex": [
       "333"
      ],
      "text/markdown": [
       "333"
      ],
      "text/plain": [
       "[1] 333"
      ]
     },
     "metadata": {},
     "output_type": "display_data"
    }
   ],
   "source": [
    "pi"
   ]
  },
  {
   "cell_type": "markdown",
   "id": "2704fc00-7d13-420f-ad09-e28d829839f1",
   "metadata": {},
   "source": [
    "(6) 팁.. "
   ]
  },
  {
   "cell_type": "markdown",
   "id": "94be6549-1480-41fa-bf43-a5e577bc800d",
   "metadata": {},
   "source": [
    "`-` 변수를 축약할때 모음을 제외하면 좋다. \n",
    "- result -> rslt \n",
    "- residual -> rsdl "
   ]
  },
  {
   "cell_type": "markdown",
   "id": "5a0d8841-470e-48aa-b8b9-b82a73b85849",
   "metadata": {},
   "source": [
    "`-` 임시로 변수명을 사용해야 할 경우: 변수이름 끝에 언더바를 붙인다. \n",
    "- x_ , y_, rslt_, ... "
   ]
  },
  {
   "cell_type": "markdown",
   "id": "3a81b97a-bf3f-497b-99e4-cd18427ca280",
   "metadata": {},
   "source": [
    "### 벡터를 선언하는 방법 "
   ]
  },
  {
   "cell_type": "markdown",
   "id": "f198f235-0d6f-4ff3-9385-3a1bb39fd1bd",
   "metadata": {},
   "source": [
    "`-` 방법1: 직접 입력"
   ]
  },
  {
   "cell_type": "code",
   "execution_count": 13,
   "id": "393f4854-96d7-46f1-b7ab-e744339b619d",
   "metadata": {},
   "outputs": [],
   "source": [
    "v1<-c(1,2,3,3,4,5,2)"
   ]
  },
  {
   "cell_type": "code",
   "execution_count": 14,
   "id": "80e0e04c-af8d-40da-b289-8445711a0cf8",
   "metadata": {},
   "outputs": [
    {
     "name": "stdout",
     "output_type": "stream",
     "text": [
      "[1] 1 2 3 3 4 5 2\n"
     ]
    }
   ],
   "source": [
    "print(v1)"
   ]
  },
  {
   "cell_type": "markdown",
   "id": "32bfdb3c-05db-4972-bea8-5f74822682aa",
   "metadata": {},
   "source": [
    "`-` 방법2: seq 를 이용"
   ]
  },
  {
   "cell_type": "code",
   "execution_count": 15,
   "id": "fec1f17b-62bf-4284-a627-5f937b10d52a",
   "metadata": {},
   "outputs": [],
   "source": [
    "v2<-seq(from=0,to=10,by=0.1)"
   ]
  },
  {
   "cell_type": "code",
   "execution_count": 16,
   "id": "2fd78d41-c05b-4902-af19-afc06ded30e6",
   "metadata": {},
   "outputs": [
    {
     "name": "stdout",
     "output_type": "stream",
     "text": [
      "  [1]  0.0  0.1  0.2  0.3  0.4  0.5  0.6  0.7  0.8  0.9  1.0  1.1  1.2  1.3  1.4\n",
      " [16]  1.5  1.6  1.7  1.8  1.9  2.0  2.1  2.2  2.3  2.4  2.5  2.6  2.7  2.8  2.9\n",
      " [31]  3.0  3.1  3.2  3.3  3.4  3.5  3.6  3.7  3.8  3.9  4.0  4.1  4.2  4.3  4.4\n",
      " [46]  4.5  4.6  4.7  4.8  4.9  5.0  5.1  5.2  5.3  5.4  5.5  5.6  5.7  5.8  5.9\n",
      " [61]  6.0  6.1  6.2  6.3  6.4  6.5  6.6  6.7  6.8  6.9  7.0  7.1  7.2  7.3  7.4\n",
      " [76]  7.5  7.6  7.7  7.8  7.9  8.0  8.1  8.2  8.3  8.4  8.5  8.6  8.7  8.8  8.9\n",
      " [91]  9.0  9.1  9.2  9.3  9.4  9.5  9.6  9.7  9.8  9.9 10.0\n"
     ]
    }
   ],
   "source": [
    "print(v2)"
   ]
  },
  {
   "cell_type": "code",
   "execution_count": 17,
   "id": "4f3b25c5-afc6-47da-a4e5-8decec01b627",
   "metadata": {},
   "outputs": [
    {
     "data": {
      "text/html": [
       "\n",
       "<table width=\"100%\" summary=\"page for seq {base}\"><tr><td>seq {base}</td><td style=\"text-align: right;\">R Documentation</td></tr></table>\n",
       "\n",
       "<h2>Sequence Generation</h2>\n",
       "\n",
       "<h3>Description</h3>\n",
       "\n",
       "<p>Generate regular sequences.  <code>seq</code> is a standard generic with a\n",
       "default method.  <code>seq.int</code> is a primitive which can be\n",
       "much faster but has a few restrictions.  <code>seq_along</code> and\n",
       "<code>seq_len</code> are very fast primitives for two common cases.\n",
       "</p>\n",
       "\n",
       "\n",
       "<h3>Usage</h3>\n",
       "\n",
       "<pre>\n",
       "seq(...)\n",
       "\n",
       "## Default S3 method:\n",
       "seq(from = 1, to = 1, by = ((to - from)/(length.out - 1)),\n",
       "    length.out = NULL, along.with = NULL, ...)\n",
       "\n",
       "seq.int(from, to, by, length.out, along.with, ...)\n",
       "\n",
       "seq_along(along.with)\n",
       "seq_len(length.out)\n",
       "</pre>\n",
       "\n",
       "\n",
       "<h3>Arguments</h3>\n",
       "\n",
       "<table summary=\"R argblock\">\n",
       "<tr valign=\"top\"><td><code>...</code></td>\n",
       "<td>\n",
       "<p>arguments passed to or from methods.</p>\n",
       "</td></tr>\n",
       "<tr valign=\"top\"><td><code>from, to</code></td>\n",
       "<td>\n",
       "<p>the starting and (maximal) end values of the\n",
       "sequence.  Of length <code>1</code> unless just <code>from</code> is supplied as\n",
       "an unnamed argument.</p>\n",
       "</td></tr>\n",
       "<tr valign=\"top\"><td><code>by</code></td>\n",
       "<td>\n",
       "<p>number: increment of the sequence.</p>\n",
       "</td></tr>\n",
       "<tr valign=\"top\"><td><code>length.out</code></td>\n",
       "<td>\n",
       "<p>desired length of the sequence.  A\n",
       "non-negative number, which for <code>seq</code> and <code>seq.int</code> will be\n",
       "rounded up if fractional.</p>\n",
       "</td></tr>\n",
       "<tr valign=\"top\"><td><code>along.with</code></td>\n",
       "<td>\n",
       "<p>take the length from the length of this argument.</p>\n",
       "</td></tr>\n",
       "</table>\n",
       "\n",
       "\n",
       "<h3>Details</h3>\n",
       "\n",
       "<p>Numerical inputs should all be finite (that is, not infinite,\n",
       "<code>NaN</code> or <code>NA</code>).\n",
       "</p>\n",
       "<p>The interpretation of the unnamed arguments of <code>seq</code> and\n",
       "<code>seq.int</code> is <em>not</em> standard, and it is recommended always to\n",
       "name the arguments when programming.\n",
       "</p>\n",
       "<p><code>seq</code> is  generic, and only the default method is described here.\n",
       "Note that it dispatches on the class of the <strong>first</strong> argument\n",
       "irrespective of argument names.  This can have unintended consequences\n",
       "if it is called with just one argument intending this to be taken as\n",
       "<code>along.with</code>: it is much better to use <code>seq_along</code> in that\n",
       "case.\n",
       "</p>\n",
       "<p><code>seq.int</code> is an internal generic which dispatches on\n",
       "methods for <code>\"seq\"</code> based on the class of the first supplied\n",
       "argument (before argument matching).\n",
       "</p>\n",
       "<p>Typical usages are\n",
       "</p>\n",
       "<pre>seq(from, to)\n",
       "seq(from, to, by= )\n",
       "seq(from, to, length.out= )\n",
       "seq(along.with= )\n",
       "seq(from)\n",
       "seq(length.out= )\n",
       "</pre>\n",
       "<p>The first form generates the sequence <code>from, from+/-1, ..., to</code>\n",
       "(identical to <code>from:to</code>).\n",
       "</p>\n",
       "<p>The second form generates <code>from, from+by</code>, ..., up to the\n",
       "sequence value less than or equal to <code>to</code>.  Specifying <code>to -\n",
       "  from</code> and <code>by</code> of opposite signs is an error.  Note that the\n",
       "computed final value can go just beyond <code>to</code> to allow for\n",
       "rounding error, but is truncated to <code>to</code>.  (&lsquo;Just beyond&rsquo;\n",
       "is by up to <i>1e-10</i> times <code>abs(from - to)</code>.)\n",
       "</p>\n",
       "<p>The third generates a sequence of <code>length.out</code> equally spaced\n",
       "values from <code>from</code> to <code>to</code>.  (<code>length.out</code> is usually\n",
       "abbreviated to <code>length</code> or <code>len</code>, and <code>seq_len</code> is much\n",
       "faster.)\n",
       "</p>\n",
       "<p>The fourth form generates the integer sequence <code>1, 2, ...,\n",
       "    length(along.with)</code>.  (<code>along.with</code> is usually abbreviated to\n",
       "<code>along</code>, and <code>seq_along</code> is much faster.)\n",
       "</p>\n",
       "<p>The fifth form generates the sequence <code>1, 2, ..., length(from)</code>\n",
       "(as if argument <code>along.with</code> had been specified), <em>unless</em>\n",
       "the argument is numeric of length 1 when it is interpreted as\n",
       "<code>1:from</code> (even for <code>seq(0)</code> for compatibility with S).\n",
       "Using either <code>seq_along</code> or <code>seq_len</code> is much preferred\n",
       "(unless strict S compatibility is essential).\n",
       "</p>\n",
       "<p>The final form generates the integer sequence <code>1, 2, ...,\n",
       "  length.out</code> unless <code>length.out = 0</code>, when it generates\n",
       "<code>integer(0)</code>.\n",
       "</p>\n",
       "<p>Very small sequences (with <code>from - to</code> of the order of <i>10^{-14}</i>\n",
       "times the larger of the ends) will return <code>from</code>.\n",
       "</p>\n",
       "<p>For <code>seq</code> (only), up to two of <code>from</code>, <code>to</code> and\n",
       "<code>by</code> can be supplied as complex values provided <code>length.out</code>\n",
       "or <code>along.with</code> is specified.  More generally, the default method\n",
       "of <code>seq</code> will handle classed objects with methods for\n",
       "the <code>Math</code>, <code>Ops</code> and <code>Summary</code> group generics.\n",
       "</p>\n",
       "<p><code>seq.int</code>, <code>seq_along</code> and <code>seq_len</code> are\n",
       "primitive.\n",
       "</p>\n",
       "\n",
       "\n",
       "<h3>Value</h3>\n",
       "\n",
       "<p><code>seq.int</code> and the default method of <code>seq</code> for numeric\n",
       "arguments return a vector of type <code>\"integer\"</code> or <code>\"double\"</code>:\n",
       "programmers should not rely on which.\n",
       "</p>\n",
       "<p><code>seq_along</code> and <code>seq_len</code> return an integer vector, unless\n",
       "it is a <em>long vector</em> when it will be double.\n",
       "</p>\n",
       "\n",
       "\n",
       "<h3>References</h3>\n",
       "\n",
       "<p>Becker, R. A., Chambers, J. M. and Wilks, A. R. (1988)\n",
       "<em>The New S Language</em>.\n",
       "Wadsworth &amp; Brooks/Cole.\n",
       "</p>\n",
       "\n",
       "\n",
       "<h3>See Also</h3>\n",
       "\n",
       "<p>The methods <code>seq.Date</code> and <code>seq.POSIXt</code>.\n",
       "</p>\n",
       "<p><code>:</code>,\n",
       "<code>rep</code>,\n",
       "<code>sequence</code>,\n",
       "<code>row</code>,\n",
       "<code>col</code>.\n",
       "</p>\n",
       "\n",
       "\n",
       "<h3>Examples</h3>\n",
       "\n",
       "<pre>\n",
       "seq(0, 1, length.out = 11)\n",
       "seq(stats::rnorm(20)) # effectively 'along'\n",
       "seq(1, 9, by = 2)     # matches 'end'\n",
       "seq(1, 9, by = pi)    # stays below 'end'\n",
       "seq(1, 6, by = 3)\n",
       "seq(1.575, 5.125, by = 0.05)\n",
       "seq(17) # same as 1:17, or even better seq_len(17)\n",
       "</pre>\n",
       "\n",
       "<hr /><div style=\"text-align: center;\">[Package <em>base</em> version 4.0.5 ]</div>"
      ],
      "text/latex": [
       "\\inputencoding{utf8}\n",
       "\\HeaderA{seq}{Sequence Generation}{seq}\n",
       "\\aliasA{seq\\_along}{seq}{seq.Rul.along}\n",
       "\\aliasA{seq\\_len}{seq}{seq.Rul.len}\n",
       "\\aliasA{seq.default}{seq}{seq.default}\n",
       "\\aliasA{seq.int}{seq}{seq.int}\n",
       "\\keyword{manip}{seq}\n",
       "%\n",
       "\\begin{Description}\\relax\n",
       "Generate regular sequences.  \\code{seq} is a standard generic with a\n",
       "default method.  \\code{seq.int} is a primitive which can be\n",
       "much faster but has a few restrictions.  \\code{seq\\_along} and\n",
       "\\code{seq\\_len} are very fast primitives for two common cases.\n",
       "\\end{Description}\n",
       "%\n",
       "\\begin{Usage}\n",
       "\\begin{verbatim}\n",
       "seq(...)\n",
       "\n",
       "## Default S3 method:\n",
       "seq(from = 1, to = 1, by = ((to - from)/(length.out - 1)),\n",
       "    length.out = NULL, along.with = NULL, ...)\n",
       "\n",
       "seq.int(from, to, by, length.out, along.with, ...)\n",
       "\n",
       "seq_along(along.with)\n",
       "seq_len(length.out)\n",
       "\\end{verbatim}\n",
       "\\end{Usage}\n",
       "%\n",
       "\\begin{Arguments}\n",
       "\\begin{ldescription}\n",
       "\\item[\\code{...}] arguments passed to or from methods.\n",
       "\\item[\\code{from, to}] the starting and (maximal) end values of the\n",
       "sequence.  Of length \\code{1} unless just \\code{from} is supplied as\n",
       "an unnamed argument.\n",
       "\\item[\\code{by}] number: increment of the sequence.\n",
       "\\item[\\code{length.out}] desired length of the sequence.  A\n",
       "non-negative number, which for \\code{seq} and \\code{seq.int} will be\n",
       "rounded up if fractional.\n",
       "\\item[\\code{along.with}] take the length from the length of this argument.\n",
       "\\end{ldescription}\n",
       "\\end{Arguments}\n",
       "%\n",
       "\\begin{Details}\\relax\n",
       "Numerical inputs should all be \\LinkA{finite}{finite} (that is, not infinite,\n",
       "\\code{\\LinkA{NaN}{NaN}} or \\code{NA}).\n",
       "\n",
       "The interpretation of the unnamed arguments of \\code{seq} and\n",
       "\\code{seq.int} is \\emph{not} standard, and it is recommended always to\n",
       "name the arguments when programming.\n",
       "\n",
       "\\code{seq} is  generic, and only the default method is described here.\n",
       "Note that it dispatches on the class of the \\strong{first} argument\n",
       "irrespective of argument names.  This can have unintended consequences\n",
       "if it is called with just one argument intending this to be taken as\n",
       "\\code{along.with}: it is much better to use \\code{seq\\_along} in that\n",
       "case.\n",
       "\n",
       "\\code{seq.int} is an \\LinkA{internal generic}{internal generic} which dispatches on\n",
       "methods for \\code{\"seq\"} based on the class of the first supplied\n",
       "argument (before argument matching).\n",
       "\n",
       "Typical usages are\n",
       "\\begin{alltt}seq(from, to)\n",
       "seq(from, to, by= )\n",
       "seq(from, to, length.out= )\n",
       "seq(along.with= )\n",
       "seq(from)\n",
       "seq(length.out= )\n",
       "\\end{alltt}\n",
       "\n",
       "The first form generates the sequence \\code{from, from+/-1, ..., to}\n",
       "(identical to \\code{from:to}).\n",
       "\n",
       "The second form generates \\code{from, from+by}, \\ldots, up to the\n",
       "sequence value less than or equal to \\code{to}.  Specifying \\code{to -\n",
       "  from} and \\code{by} of opposite signs is an error.  Note that the\n",
       "computed final value can go just beyond \\code{to} to allow for\n",
       "rounding error, but is truncated to \\code{to}.  (`Just beyond'\n",
       "is by up to \\eqn{10^{-10}}{} times \\code{abs(from - to)}.)\n",
       "\n",
       "The third generates a sequence of \\code{length.out} equally spaced\n",
       "values from \\code{from} to \\code{to}.  (\\code{length.out} is usually\n",
       "abbreviated to \\code{length} or \\code{len}, and \\code{seq\\_len} is much\n",
       "faster.)\n",
       "\n",
       "The fourth form generates the integer sequence \\code{1, 2, ...,\n",
       "    length(along.with)}.  (\\code{along.with} is usually abbreviated to\n",
       "\\code{along}, and \\code{seq\\_along} is much faster.)\n",
       "\n",
       "The fifth form generates the sequence \\code{1, 2, ..., length(from)}\n",
       "(as if argument \\code{along.with} had been specified), \\emph{unless}\n",
       "the argument is numeric of length 1 when it is interpreted as\n",
       "\\code{1:from} (even for \\code{seq(0)} for compatibility with S).\n",
       "Using either \\code{seq\\_along} or \\code{seq\\_len} is much preferred\n",
       "(unless strict S compatibility is essential).\n",
       "\n",
       "The final form generates the integer sequence \\code{1, 2, ...,\n",
       "  length.out} unless \\code{length.out = 0}, when it generates\n",
       "\\code{integer(0)}.\n",
       "\n",
       "Very small sequences (with \\code{from - to} of the order of \\eqn{10^{-14}}{}\n",
       "times the larger of the ends) will return \\code{from}.\n",
       "\n",
       "For \\code{seq} (only), up to two of \\code{from}, \\code{to} and\n",
       "\\code{by} can be supplied as complex values provided \\code{length.out}\n",
       "or \\code{along.with} is specified.  More generally, the default method\n",
       "of \\code{seq} will handle classed objects with methods for\n",
       "the \\code{Math}, \\code{Ops} and \\code{Summary} group generics.\n",
       "\n",
       "\\code{seq.int}, \\code{seq\\_along} and \\code{seq\\_len} are\n",
       "\\LinkA{primitive}{primitive}.\n",
       "\\end{Details}\n",
       "%\n",
       "\\begin{Value}\n",
       "\\code{seq.int} and the default method of \\code{seq} for numeric\n",
       "arguments return a vector of type \\code{\"integer\"} or \\code{\"double\"}:\n",
       "programmers should not rely on which.\n",
       "\n",
       "\\code{seq\\_along} and \\code{seq\\_len} return an integer vector, unless\n",
       "it is a \\emph{\\LinkA{long vector}{long vector}} when it will be double.\n",
       "\\end{Value}\n",
       "%\n",
       "\\begin{References}\\relax\n",
       "Becker, R. A., Chambers, J. M. and Wilks, A. R. (1988)\n",
       "\\emph{The New S Language}.\n",
       "Wadsworth \\& Brooks/Cole.\n",
       "\\end{References}\n",
       "%\n",
       "\\begin{SeeAlso}\\relax\n",
       "The methods \\code{\\LinkA{seq.Date}{seq.Date}} and \\code{\\LinkA{seq.POSIXt}{seq.POSIXt}}.\n",
       "\n",
       "\\code{\\LinkA{:}{:}},\n",
       "\\code{\\LinkA{rep}{rep}},\n",
       "\\code{\\LinkA{sequence}{sequence}},\n",
       "\\code{\\LinkA{row}{row}},\n",
       "\\code{\\LinkA{col}{col}}.\n",
       "\\end{SeeAlso}\n",
       "%\n",
       "\\begin{Examples}\n",
       "\\begin{ExampleCode}\n",
       "seq(0, 1, length.out = 11)\n",
       "seq(stats::rnorm(20)) # effectively 'along'\n",
       "seq(1, 9, by = 2)     # matches 'end'\n",
       "seq(1, 9, by = pi)    # stays below 'end'\n",
       "seq(1, 6, by = 3)\n",
       "seq(1.575, 5.125, by = 0.05)\n",
       "seq(17) # same as 1:17, or even better seq_len(17)\n",
       "\\end{ExampleCode}\n",
       "\\end{Examples}"
      ],
      "text/plain": [
       "seq                    package:base                    R Documentation\n",
       "\n",
       "_\bS_\be_\bq_\bu_\be_\bn_\bc_\be _\bG_\be_\bn_\be_\br_\ba_\bt_\bi_\bo_\bn\n",
       "\n",
       "_\bD_\be_\bs_\bc_\br_\bi_\bp_\bt_\bi_\bo_\bn:\n",
       "\n",
       "     Generate regular sequences.  ‘seq’ is a standard generic with a\n",
       "     default method.  ‘seq.int’ is a primitive which can be much faster\n",
       "     but has a few restrictions.  ‘seq_along’ and ‘seq_len’ are very\n",
       "     fast primitives for two common cases.\n",
       "\n",
       "_\bU_\bs_\ba_\bg_\be:\n",
       "\n",
       "     seq(...)\n",
       "     \n",
       "     ## Default S3 method:\n",
       "     seq(from = 1, to = 1, by = ((to - from)/(length.out - 1)),\n",
       "         length.out = NULL, along.with = NULL, ...)\n",
       "     \n",
       "     seq.int(from, to, by, length.out, along.with, ...)\n",
       "     \n",
       "     seq_along(along.with)\n",
       "     seq_len(length.out)\n",
       "     \n",
       "_\bA_\br_\bg_\bu_\bm_\be_\bn_\bt_\bs:\n",
       "\n",
       "     ...: arguments passed to or from methods.\n",
       "\n",
       "from, to: the starting and (maximal) end values of the sequence.  Of\n",
       "          length ‘1’ unless just ‘from’ is supplied as an unnamed\n",
       "          argument.\n",
       "\n",
       "      by: number: increment of the sequence.\n",
       "\n",
       "length.out: desired length of the sequence.  A non-negative number,\n",
       "          which for ‘seq’ and ‘seq.int’ will be rounded up if\n",
       "          fractional.\n",
       "\n",
       "along.with: take the length from the length of this argument.\n",
       "\n",
       "_\bD_\be_\bt_\ba_\bi_\bl_\bs:\n",
       "\n",
       "     Numerical inputs should all be finite (that is, not infinite,\n",
       "     ‘NaN’ or ‘NA’).\n",
       "\n",
       "     The interpretation of the unnamed arguments of ‘seq’ and ‘seq.int’\n",
       "     is _not_ standard, and it is recommended always to name the\n",
       "     arguments when programming.\n",
       "\n",
       "     ‘seq’ is generic, and only the default method is described here.\n",
       "     Note that it dispatches on the class of the *first* argument\n",
       "     irrespective of argument names.  This can have unintended\n",
       "     consequences if it is called with just one argument intending this\n",
       "     to be taken as ‘along.with’: it is much better to use ‘seq_along’\n",
       "     in that case.\n",
       "\n",
       "     ‘seq.int’ is an internal generic which dispatches on methods for\n",
       "     ‘\"seq\"’ based on the class of the first supplied argument (before\n",
       "     argument matching).\n",
       "\n",
       "     Typical usages are\n",
       "\n",
       "     seq(from, to)\n",
       "     seq(from, to, by= )\n",
       "     seq(from, to, length.out= )\n",
       "     seq(along.with= )\n",
       "     seq(from)\n",
       "     seq(length.out= )\n",
       "     \n",
       "     The first form generates the sequence ‘from, from+/-1, ..., to’\n",
       "     (identical to ‘from:to’).\n",
       "\n",
       "     The second form generates ‘from, from+by’, ..., up to the sequence\n",
       "     value less than or equal to ‘to’.  Specifying ‘to - from’ and ‘by’\n",
       "     of opposite signs is an error.  Note that the computed final value\n",
       "     can go just beyond ‘to’ to allow for rounding error, but is\n",
       "     truncated to ‘to’.  (‘Just beyond’ is by up to 1e-10 times\n",
       "     ‘abs(from - to)’.)\n",
       "\n",
       "     The third generates a sequence of ‘length.out’ equally spaced\n",
       "     values from ‘from’ to ‘to’.  (‘length.out’ is usually abbreviated\n",
       "     to ‘length’ or ‘len’, and ‘seq_len’ is much faster.)\n",
       "\n",
       "     The fourth form generates the integer sequence ‘1, 2, ...,\n",
       "     length(along.with)’.  (‘along.with’ is usually abbreviated to\n",
       "     ‘along’, and ‘seq_along’ is much faster.)\n",
       "\n",
       "     The fifth form generates the sequence ‘1, 2, ..., length(from)’\n",
       "     (as if argument ‘along.with’ had been specified), _unless_ the\n",
       "     argument is numeric of length 1 when it is interpreted as ‘1:from’\n",
       "     (even for ‘seq(0)’ for compatibility with S).  Using either\n",
       "     ‘seq_along’ or ‘seq_len’ is much preferred (unless strict S\n",
       "     compatibility is essential).\n",
       "\n",
       "     The final form generates the integer sequence ‘1, 2, ...,\n",
       "     length.out’ unless ‘length.out = 0’, when it generates\n",
       "     ‘integer(0)’.\n",
       "\n",
       "     Very small sequences (with ‘from - to’ of the order of 10^{-14}\n",
       "     times the larger of the ends) will return ‘from’.\n",
       "\n",
       "     For ‘seq’ (only), up to two of ‘from’, ‘to’ and ‘by’ can be\n",
       "     supplied as complex values provided ‘length.out’ or ‘along.with’\n",
       "     is specified.  More generally, the default method of ‘seq’ will\n",
       "     handle classed objects with methods for the ‘Math’, ‘Ops’ and\n",
       "     ‘Summary’ group generics.\n",
       "\n",
       "     ‘seq.int’, ‘seq_along’ and ‘seq_len’ are primitive.\n",
       "\n",
       "_\bV_\ba_\bl_\bu_\be:\n",
       "\n",
       "     ‘seq.int’ and the default method of ‘seq’ for numeric arguments\n",
       "     return a vector of type ‘\"integer\"’ or ‘\"double\"’: programmers\n",
       "     should not rely on which.\n",
       "\n",
       "     ‘seq_along’ and ‘seq_len’ return an integer vector, unless it is a\n",
       "     _long vector_ when it will be double.\n",
       "\n",
       "_\bR_\be_\bf_\be_\br_\be_\bn_\bc_\be_\bs:\n",
       "\n",
       "     Becker, R. A., Chambers, J. M. and Wilks, A. R. (1988) _The New S\n",
       "     Language_.  Wadsworth & Brooks/Cole.\n",
       "\n",
       "_\bS_\be_\be _\bA_\bl_\bs_\bo:\n",
       "\n",
       "     The methods ‘seq.Date’ and ‘seq.POSIXt’.\n",
       "\n",
       "     ‘:’, ‘rep’, ‘sequence’, ‘row’, ‘col’.\n",
       "\n",
       "_\bE_\bx_\ba_\bm_\bp_\bl_\be_\bs:\n",
       "\n",
       "     seq(0, 1, length.out = 11)\n",
       "     seq(stats::rnorm(20)) # effectively 'along'\n",
       "     seq(1, 9, by = 2)     # matches 'end'\n",
       "     seq(1, 9, by = pi)    # stays below 'end'\n",
       "     seq(1, 6, by = 3)\n",
       "     seq(1.575, 5.125, by = 0.05)\n",
       "     seq(17) # same as 1:17, or even better seq_len(17)\n",
       "     "
      ]
     },
     "metadata": {},
     "output_type": "display_data"
    }
   ],
   "source": [
    "?seq"
   ]
  },
  {
   "cell_type": "code",
   "execution_count": 18,
   "id": "a2374f4f-7687-4765-9028-61f9988f2685",
   "metadata": {},
   "outputs": [
    {
     "name": "stdout",
     "output_type": "stream",
     "text": [
      " [1] 0.00000000 0.03846154 0.07692308 0.11538462 0.15384615 0.19230769\n",
      " [7] 0.23076923 0.26923077 0.30769231 0.34615385 0.38461538 0.42307692\n",
      "[13] 0.46153846 0.50000000 0.53846154 0.57692308 0.61538462 0.65384615\n",
      "[19] 0.69230769 0.73076923 0.76923077 0.80769231 0.84615385 0.88461538\n",
      "[25] 0.92307692 0.96153846 1.00000000\n"
     ]
    }
   ],
   "source": [
    "print(seq(from=0, to=1, length.out = 27))"
   ]
  },
  {
   "cell_type": "markdown",
   "id": "d0eb8138-ce79-44ef-aace-f2fa14f9a3d8",
   "metadata": {},
   "source": [
    "`-` 방법3: `:` 를 이용 "
   ]
  },
  {
   "cell_type": "code",
   "execution_count": 19,
   "id": "74f127d4-997d-432c-b774-802d298e96fe",
   "metadata": {},
   "outputs": [],
   "source": [
    "v3 <- 1:22"
   ]
  },
  {
   "cell_type": "code",
   "execution_count": 20,
   "id": "4c163994-d35b-4aa6-a5da-74dd59e2975b",
   "metadata": {},
   "outputs": [
    {
     "name": "stdout",
     "output_type": "stream",
     "text": [
      " [1]  1  2  3  4  5  6  7  8  9 10 11 12 13 14 15 16 17 18 19 20 21 22\n"
     ]
    }
   ],
   "source": [
    "print(v3)"
   ]
  },
  {
   "cell_type": "markdown",
   "id": "e29b4fd5-5c81-4f65-ab38-a8ffddc95cab",
   "metadata": {},
   "source": [
    "이 방법을 살짝 응용하면 0~1까지 57개의 변수를 넣는 방법을 아래와 같이 할 수 있다. "
   ]
  },
  {
   "cell_type": "code",
   "execution_count": 21,
   "id": "305542cb-99b8-4fc3-8a4f-05859801edb8",
   "metadata": {},
   "outputs": [
    {
     "name": "stdout",
     "output_type": "stream",
     "text": [
      " [1] 0.00000000 0.01785714 0.03571429 0.05357143 0.07142857 0.08928571\n",
      " [7] 0.10714286 0.12500000 0.14285714 0.16071429 0.17857143 0.19642857\n",
      "[13] 0.21428571 0.23214286 0.25000000 0.26785714 0.28571429 0.30357143\n",
      "[19] 0.32142857 0.33928571 0.35714286 0.37500000 0.39285714 0.41071429\n",
      "[25] 0.42857143 0.44642857 0.46428571 0.48214286 0.50000000 0.51785714\n",
      "[31] 0.53571429 0.55357143 0.57142857 0.58928571 0.60714286 0.62500000\n",
      "[37] 0.64285714 0.66071429 0.67857143 0.69642857 0.71428571 0.73214286\n",
      "[43] 0.75000000 0.76785714 0.78571429 0.80357143 0.82142857 0.83928571\n",
      "[49] 0.85714286 0.87500000 0.89285714 0.91071429 0.92857143 0.94642857\n",
      "[55] 0.96428571 0.98214286 1.00000000\n"
     ]
    }
   ],
   "source": [
    "print(0:56 / 56)"
   ]
  },
  {
   "cell_type": "markdown",
   "id": "f04b7ecb-1d62-484a-8361-e177146af745",
   "metadata": {},
   "source": [
    "물론 아래와 같이하는것이 더 가독성이 좋다. "
   ]
  },
  {
   "cell_type": "code",
   "execution_count": 22,
   "id": "4e3e30e9-0f09-4289-a615-8d0932fab6d1",
   "metadata": {},
   "outputs": [
    {
     "name": "stdout",
     "output_type": "stream",
     "text": [
      " [1] 0.00000000 0.01785714 0.03571429 0.05357143 0.07142857 0.08928571\n",
      " [7] 0.10714286 0.12500000 0.14285714 0.16071429 0.17857143 0.19642857\n",
      "[13] 0.21428571 0.23214286 0.25000000 0.26785714 0.28571429 0.30357143\n",
      "[19] 0.32142857 0.33928571 0.35714286 0.37500000 0.39285714 0.41071429\n",
      "[25] 0.42857143 0.44642857 0.46428571 0.48214286 0.50000000 0.51785714\n",
      "[31] 0.53571429 0.55357143 0.57142857 0.58928571 0.60714286 0.62500000\n",
      "[37] 0.64285714 0.66071429 0.67857143 0.69642857 0.71428571 0.73214286\n",
      "[43] 0.75000000 0.76785714 0.78571429 0.80357143 0.82142857 0.83928571\n",
      "[49] 0.85714286 0.87500000 0.89285714 0.91071429 0.92857143 0.94642857\n",
      "[55] 0.96428571 0.98214286 1.00000000\n"
     ]
    }
   ],
   "source": [
    "print(seq(from=0,to=1,length.out =57))"
   ]
  },
  {
   "cell_type": "markdown",
   "id": "4fd5a168-b36b-4e23-9f65-8b7b43b61600",
   "metadata": {},
   "source": [
    "`-` 방법4: rep를 이용 "
   ]
  },
  {
   "cell_type": "code",
   "execution_count": 23,
   "id": "94543f38-0ef9-4af9-91c5-3e6086161450",
   "metadata": {},
   "outputs": [
    {
     "name": "stdout",
     "output_type": "stream",
     "text": [
      "  [1] 0 0 0 0 0 0 0 0 0 0 0 0 0 0 0 0 0 0 0 0 0 0 0 0 0 0 0 0 0 0 0 0 0 0 0 0 0\n",
      " [38] 0 0 0 0 0 0 0 0 0 0 0 0 0 0 0 0 0 0 0 0 0 0 0 0 0 0 0 0 0 0 0 0 0 0 0 0 0\n",
      " [75] 0 0 0 0 0 0 0 0 0 0 0 0 0 0 0 0 0 0 0 0 0 0 0 0 0 0\n"
     ]
    }
   ],
   "source": [
    "print(rep(0,100))"
   ]
  },
  {
   "cell_type": "markdown",
   "id": "476fba19-4ebd-4846-9c43-cd18cfcdc9bb",
   "metadata": {},
   "source": [
    "### 함수사용하는 방법"
   ]
  },
  {
   "cell_type": "markdown",
   "id": "aea07ade-da1f-47b6-9a89-1aa5dd16252c",
   "metadata": {},
   "source": [
    "`-` 기본 구조"
   ]
  },
  {
   "cell_type": "markdown",
   "id": "1ab0e6a8-dd57-419d-a580-83db96c7472f",
   "metadata": {},
   "source": [
    "```r\n",
    "함수이름 <- function(입력){\n",
    "    함수의 기능 \n",
    "    return(출력)\n",
    "    }\n",
    "```"
   ]
  },
  {
   "cell_type": "code",
   "execution_count": 24,
   "id": "45180fe5-dc95-4fcd-936d-5655ac1664c2",
   "metadata": {},
   "outputs": [],
   "source": [
    "f<-function(d){\n",
    "    I0=1\n",
    "    Id=I0*0.25 \n",
    "    y=I0*2^(-0.25*d)/Id\n",
    "    return(y)\n",
    "}"
   ]
  },
  {
   "cell_type": "code",
   "execution_count": 25,
   "id": "5602ef71-c4d3-4509-bc0f-1e880002e548",
   "metadata": {},
   "outputs": [
    {
     "data": {
      "text/html": [
       "1"
      ],
      "text/latex": [
       "1"
      ],
      "text/markdown": [
       "1"
      ],
      "text/plain": [
       "[1] 1"
      ]
     },
     "metadata": {},
     "output_type": "display_data"
    }
   ],
   "source": [
    "f(8)"
   ]
  },
  {
   "cell_type": "markdown",
   "id": "40d592de-e355-4ec4-9685-d38c6c0aeb1f",
   "metadata": {},
   "source": [
    "`-` 아래의 2개의 코드는 `거의` 같다. "
   ]
  },
  {
   "cell_type": "code",
   "execution_count": 26,
   "id": "88ecf77d-6835-4839-b97b-dfc16900a3b2",
   "metadata": {},
   "outputs": [
    {
     "data": {
      "text/html": [
       "1"
      ],
      "text/latex": [
       "1"
      ],
      "text/markdown": [
       "1"
      ],
      "text/plain": [
       "[1] 1"
      ]
     },
     "metadata": {},
     "output_type": "display_data"
    }
   ],
   "source": [
    "###\n",
    "### 1 \n",
    "f<-function(d){\n",
    "    I0=1\n",
    "    Id=I0*0.25 \n",
    "    y=I0*2^(-0.25*d)/Id\n",
    "    return(y)\n",
    "}\n",
    "f(8)\n",
    "\n",
    "### 2\n",
    "d=8\n",
    "I0=1\n",
    "Id=I0*0.25\n",
    "y=I0*2^(-0.25*d)/Id"
   ]
  },
  {
   "cell_type": "markdown",
   "id": "8734305a-5ea1-484b-8ad5-a98fde9195f4",
   "metadata": {},
   "source": [
    "`-` return을 생략해도 괜찮다. "
   ]
  },
  {
   "cell_type": "code",
   "execution_count": 27,
   "id": "2e1cb1a0-3e89-4753-a12c-d8d4d878c8ea",
   "metadata": {},
   "outputs": [
    {
     "data": {
      "text/html": [
       "1"
      ],
      "text/latex": [
       "1"
      ],
      "text/markdown": [
       "1"
      ],
      "text/plain": [
       "[1] 1"
      ]
     },
     "metadata": {},
     "output_type": "display_data"
    }
   ],
   "source": [
    "f<-function(d){\n",
    "    I0=1\n",
    "    Id=I0*0.25 \n",
    "    y=I0*2^(-0.25*d)/Id\n",
    "    y\n",
    "}\n",
    "f(8)"
   ]
  },
  {
   "cell_type": "markdown",
   "id": "2216ab19-074e-4643-9706-fecf3c2a3bbd",
   "metadata": {},
   "source": [
    "### [숙제](https://ieilms.jbnu.ac.kr/)\n",
    "\n",
    "`-` 주피터랩으로 R실습할 수 있는 환경을 설정"
   ]
  }
 ],
 "metadata": {
  "kernelspec": {
   "display_name": "R",
   "language": "R",
   "name": "ir"
  },
  "language_info": {
   "codemirror_mode": "r",
   "file_extension": ".r",
   "mimetype": "text/x-r-source",
   "name": "R",
   "pygments_lexer": "r",
   "version": "4.0.5"
  }
 },
 "nbformat": 4,
 "nbformat_minor": 5
}
