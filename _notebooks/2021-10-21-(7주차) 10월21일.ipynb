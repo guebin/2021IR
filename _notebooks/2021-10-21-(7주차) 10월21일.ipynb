{
 "cells": [
  {
   "cell_type": "code",
   "execution_count": 1,
   "id": "89b55592-ab5c-41f2-ab35-6575059f48f8",
   "metadata": {},
   "outputs": [],
   "source": [
    "#hide\n",
    "options(jupyter.plot_scale=3)\n",
    "options(jupyter.display_mimetypes=c(\"text/html\"))\n",
    "options(jupyter.rich_display=FALSE)\n",
    "options(repr.plot.width=6,repr.plot.height=6,repr.plot.res=300)\n",
    "options(max.print=1000)"
   ]
  },
  {
   "cell_type": "markdown",
   "id": "a8969ec4-1954-48a8-9c5c-c0879a5b74f4",
   "metadata": {
    "tags": []
   },
   "source": [
    "# (7주차) 10월22일\n",
    "> 프로그래밍의 중요성, 숫자카드게임 apply함수를 이용한 풀이, 매트릭스 선언방법, 매트릭스에서 원소를 추출하는 방법, 매트릭스를 사용할시 얻는 이점, apply함수 사용법, for와 apply코드시간비교 \n",
    "\n",
    "- toc:true\n",
    "- branch: master\n",
    "- badges: true\n",
    "- comments: true\n",
    "- author: 최규빈"
   ]
  },
  {
   "cell_type": "markdown",
   "id": "2eb18a56-d310-4337-ad6b-10f8ebec87ea",
   "metadata": {},
   "source": [
    "### 강의영상 "
   ]
  },
  {
   "cell_type": "markdown",
   "id": "f8bcc6f9-8680-4848-9d3c-5fda8d5783dc",
   "metadata": {},
   "source": [
    "> youtube: https://youtube.com/playlist?list=PLQqh36zP38-w1WHw8S6GDjMc8D-POUth0"
   ]
  },
  {
   "cell_type": "markdown",
   "id": "24c0824b-dfa0-45b8-8b62-6d791c37f41d",
   "metadata": {},
   "source": [
    "`-` (1/4) 프로그래밍의 중요성\n",
    "\n",
    "`-` (2/4) 숫자 카드 게임 apply함수를 이용한 풀이, 매트릭스 선언방법, 매트릭스에서 원소를 추출하는 방법\n",
    "\n",
    "`-` (3/4) 매트릭스를 사용할시 얻는 이점, apply함수 사용법 (1) \n",
    "\n",
    "`-` (4/4) apply함수 사용법 (2), for와 apply코드시간비교, 과제설명 "
   ]
  },
  {
   "cell_type": "markdown",
   "id": "960cc482-9d3d-4a0a-9f78-049249218913",
   "metadata": {
    "tags": []
   },
   "source": [
    "### 숫자 카드 게임 (2019 국가 교육기관 코딩테스트) "
   ]
  },
  {
   "cell_type": "markdown",
   "id": "7d5ac8a8-6263-48fe-8def-7534c84777cf",
   "metadata": {},
   "source": [
    "숫자 카드 게임은 여러개의 숫자중에서 가장 높은 숫자가 쓰인 카드를 한장 뽑는 게임이다. \n",
    "\n",
    "단, 게임의 룰을 지키며 카드를 뽑아야 하고 룰은 다음과 같다. \n",
    "\n",
    "- 숫자가 쓰인 카드들이 N$\\times$M 형태로 놓여 있다. \n",
    "- 먼저 뽑고자 하는 카드가 포함되어 있는 행을 선택한다. \n",
    "- 그 다음 선택된 행에 포함된 카드들 중에서 가장 숫자가 낮은 카드를 뽑아야 한다. \n",
    "- 따라서 처음에 카드를 골라낼 행을 선택할때, 이후에 해당 행에서 가장 숫자가 낮은 카드를 뽑을 것을 고려하여 최종적으로 가장 높은 숫자의 카드를 뽑을 수 있도록 전략을 세워야 한다. "
   ]
  },
  {
   "cell_type": "markdown",
   "id": "49553b2f-0154-4dc8-bc60-cb1a661a8e60",
   "metadata": {},
   "source": [
    "`-` 예시1\n",
    "```\n",
    "입력\n",
    "3 1 2 \n",
    "4 1 4 \n",
    "2 2 2 \n",
    "출력 \n",
    "2\n",
    "```\n",
    "\n",
    "\n"
   ]
  },
  {
   "cell_type": "markdown",
   "id": "053ee27f-a500-45c4-b257-bdd9107ffc2e",
   "metadata": {},
   "source": [
    "`-` 예시2\n",
    "```\n",
    "입력\n",
    "7 3 1 8 \n",
    "3 3 3 4 \n",
    "출력\n",
    "3\n",
    "```"
   ]
  },
  {
   "cell_type": "markdown",
   "id": "a87efaa6-5555-4acb-9ad9-5430f399b0b4",
   "metadata": {},
   "source": [
    "### 숙제  "
   ]
  },
  {
   "cell_type": "markdown",
   "id": "7928721b-9527-4467-bce7-1504eb48f46c",
   "metadata": {},
   "source": [
    "입력구조가 \n",
    "```\n",
    "3 4 5 1 \n",
    "7 7 7 2 \n",
    "8 1 8 2\n",
    "3 3 4 5 \n",
    "```\n",
    "와 같을 때 출력을 구하는 코드를 작성하시오. "
   ]
  },
  {
   "cell_type": "markdown",
   "id": "edc13c89-46fb-4341-91ea-262618ffe130",
   "metadata": {},
   "source": [
    "(숙제풀이)"
   ]
  },
  {
   "cell_type": "code",
   "execution_count": 2,
   "id": "03771cdd-258b-4156-9b52-592f43ea3980",
   "metadata": {},
   "outputs": [
    {
     "name": "stderr",
     "output_type": "stream",
     "text": [
      "── \u001b[1mAttaching packages\u001b[22m ───────────────────────────────────────────────────────────────────────────────────────────────────────────────────────────────────────────────────────────────────────────── tidyverse 1.3.1 ──\n",
      "\n",
      "\u001b[32m✔\u001b[39m \u001b[34mggplot2\u001b[39m 3.3.5     \u001b[32m✔\u001b[39m \u001b[34mpurrr  \u001b[39m 0.3.4\n",
      "\u001b[32m✔\u001b[39m \u001b[34mtibble \u001b[39m 3.1.3     \u001b[32m✔\u001b[39m \u001b[34mdplyr  \u001b[39m 1.0.7\n",
      "\u001b[32m✔\u001b[39m \u001b[34mtidyr  \u001b[39m 1.1.3     \u001b[32m✔\u001b[39m \u001b[34mstringr\u001b[39m 1.4.0\n",
      "\u001b[32m✔\u001b[39m \u001b[34mreadr  \u001b[39m 1.4.0     \u001b[32m✔\u001b[39m \u001b[34mforcats\u001b[39m 0.5.1\n",
      "\n",
      "── \u001b[1mConflicts\u001b[22m ──────────────────────────────────────────────────────────────────────────────────────────────────────────────────────────────────────────────────────────────────────────────── tidyverse_conflicts() ──\n",
      "\u001b[31m✖\u001b[39m \u001b[34mdplyr\u001b[39m::\u001b[32mfilter()\u001b[39m masks \u001b[34mstats\u001b[39m::filter()\n",
      "\u001b[31m✖\u001b[39m \u001b[34mdplyr\u001b[39m::\u001b[32mlag()\u001b[39m    masks \u001b[34mstats\u001b[39m::lag()\n",
      "\n"
     ]
    }
   ],
   "source": [
    "library(tidyverse) "
   ]
  },
  {
   "cell_type": "code",
   "execution_count": 3,
   "id": "ee457d1a-3398-4801-9533-ae022576348c",
   "metadata": {},
   "outputs": [
    {
     "data": {
      "text/plain": [
       "     [,1] [,2] [,3] [,4]\n",
       "[1,] 3    4    5    1   \n",
       "[2,] 7    7    7    2   \n",
       "[3,] 8    1    8    2   \n",
       "[4,] 3    3    4    5   "
      ]
     },
     "metadata": {},
     "output_type": "display_data"
    }
   ],
   "source": [
    "A=rbind(c(3,4,5,1),c(7,7,7,2),c(8,1,8,2),c(3,3,4,5))\n",
    "A"
   ]
  },
  {
   "cell_type": "markdown",
   "id": "e8655d3a-1a77-431a-afd2-eb5a20aeef3e",
   "metadata": {},
   "source": [
    "**step1** apply 함수를 사용하여 각 row의 min을 구한다. "
   ]
  },
  {
   "cell_type": "code",
   "execution_count": 5,
   "id": "ba51310a-1956-40e6-a1e9-783d0b15a341",
   "metadata": {},
   "outputs": [
    {
     "data": {
      "text/plain": [
       "[1] 1 2 1 3"
      ]
     },
     "metadata": {},
     "output_type": "display_data"
    }
   ],
   "source": [
    "apply(A,1,min) # A=입력매트릭스, 1=입력매트릭스의 각 row에 어떠한 함수를 적용 "
   ]
  },
  {
   "cell_type": "code",
   "execution_count": 6,
   "id": "c1fbe077-661f-4103-8eaa-4bf90f9e5ca1",
   "metadata": {},
   "outputs": [
    {
     "data": {
      "text/plain": [
       "[1] 1 2 1 3"
      ]
     },
     "metadata": {},
     "output_type": "display_data"
    }
   ],
   "source": [
    "A %>% apply(1,min)"
   ]
  },
  {
   "cell_type": "markdown",
   "id": "b64fcac8-6cff-4843-aa54-ce8802e59851",
   "metadata": {},
   "source": [
    "**step2.** step1의 결과에 max를 취한다. "
   ]
  },
  {
   "cell_type": "code",
   "execution_count": 9,
   "id": "abcee8e3-9103-430f-afb4-5ef19eb6fdf5",
   "metadata": {},
   "outputs": [
    {
     "data": {
      "text/plain": [
       "[1] 3"
      ]
     },
     "metadata": {},
     "output_type": "display_data"
    }
   ],
   "source": [
    "max(apply(A,1,min))"
   ]
  },
  {
   "cell_type": "code",
   "execution_count": 11,
   "id": "80eaafda-0cfe-4640-8b61-4e9572efb16b",
   "metadata": {},
   "outputs": [
    {
     "data": {
      "text/plain": [
       "[1] 3"
      ]
     },
     "metadata": {},
     "output_type": "display_data"
    }
   ],
   "source": [
    "A %>% apply(1,min) %>% max"
   ]
  },
  {
   "cell_type": "markdown",
   "id": "2a00aa35-ad88-4c0b-ac94-a53e97269d17",
   "metadata": {},
   "source": [
    "### 카드뽑기 풀이에서 우리가 얻을만한 프로그래밍 문법들 "
   ]
  },
  {
   "cell_type": "markdown",
   "id": "9cf5e4a8-56de-4689-89d6-14f6a53ff7d1",
   "metadata": {},
   "source": [
    "#### 매트릭스를 선언하는 방법 "
   ]
  },
  {
   "cell_type": "markdown",
   "id": "4f22d4e5-26be-4cf0-abfe-283baf7394b7",
   "metadata": {},
   "source": [
    "`-` 방법1: 벡터를 만들고, 그것을 row-vector로 해석한뒤 $\\to$ bind "
   ]
  },
  {
   "cell_type": "code",
   "execution_count": 13,
   "id": "d7d83e01-2b1a-488b-9458-cb1e60f573a3",
   "metadata": {},
   "outputs": [
    {
     "data": {
      "text/plain": [
       "     [,1] [,2] [,3] [,4]\n",
       "[1,] 1    2    3    4   \n",
       "[2,] 2    3    4    5   "
      ]
     },
     "metadata": {},
     "output_type": "display_data"
    }
   ],
   "source": [
    "rbind(c(1,2,3,4),c(2,3,4,5))"
   ]
  },
  {
   "cell_type": "markdown",
   "id": "13124cf4-a0b5-45c8-84e5-5dd47a774064",
   "metadata": {},
   "source": [
    "`-` 방법2: 벡터를 만들고, 그것을 col-vector로 해석한뒤 $\\to$ bind "
   ]
  },
  {
   "cell_type": "code",
   "execution_count": 14,
   "id": "f5add379-e99e-4da6-8d8f-35b60563e3da",
   "metadata": {},
   "outputs": [
    {
     "data": {
      "text/plain": [
       "     [,1] [,2]\n",
       "[1,] 1    2   \n",
       "[2,] 2    2   \n",
       "[3,] 3    3   \n",
       "[4,] 4    4   "
      ]
     },
     "metadata": {},
     "output_type": "display_data"
    }
   ],
   "source": [
    "cbind(c(1,2,3,4),c(2,2,3,4))"
   ]
  },
  {
   "cell_type": "markdown",
   "id": "848b0ac8-a812-4741-88cc-b0f15f3ad361",
   "metadata": {},
   "source": [
    "***참고: 만들어진 매트릭스의 차원을 살펴보는 방법***"
   ]
  },
  {
   "cell_type": "code",
   "execution_count": 19,
   "id": "a57f7d2d-fab8-4ef8-bd2b-ad80cb216720",
   "metadata": {},
   "outputs": [],
   "source": [
    "A=rbind(c(1,2,3,4),c(2,3,4,5))"
   ]
  },
  {
   "cell_type": "code",
   "execution_count": 20,
   "id": "e5aadeca-4a96-4cdf-9382-ba95f3979b35",
   "metadata": {},
   "outputs": [
    {
     "data": {
      "text/plain": [
       "[1] 2 4"
      ]
     },
     "metadata": {},
     "output_type": "display_data"
    }
   ],
   "source": [
    "dim(A)"
   ]
  },
  {
   "cell_type": "code",
   "execution_count": 21,
   "id": "83b6874f-e634-4b54-ad59-ac8e02e6097e",
   "metadata": {},
   "outputs": [],
   "source": [
    "A=cbind(c(1,2,3,4),c(2,2,3,4))"
   ]
  },
  {
   "cell_type": "code",
   "execution_count": 22,
   "id": "60e8720a-8672-414e-9b69-25eb71735c73",
   "metadata": {},
   "outputs": [
    {
     "data": {
      "text/plain": [
       "[1] 4 2"
      ]
     },
     "metadata": {},
     "output_type": "display_data"
    }
   ],
   "source": [
    "dim(A)"
   ]
  },
  {
   "cell_type": "markdown",
   "id": "24600d3d-1e0d-4996-93f7-bf0f04067218",
   "metadata": {},
   "source": [
    "`-` 방법3: 벡터를 선언하고 dim()을 이용하여 차원을 강제셋팅 "
   ]
  },
  {
   "cell_type": "code",
   "execution_count": 23,
   "id": "62277758-0dd3-4079-a926-cfd72f2f7771",
   "metadata": {},
   "outputs": [],
   "source": [
    "A = 1:8"
   ]
  },
  {
   "cell_type": "code",
   "execution_count": 24,
   "id": "a3f03285-0c44-44fc-8a7d-0239ced21cd3",
   "metadata": {},
   "outputs": [
    {
     "data": {
      "text/plain": [
       "[1] 1 2 3 4 5 6 7 8"
      ]
     },
     "metadata": {},
     "output_type": "display_data"
    }
   ],
   "source": [
    "A"
   ]
  },
  {
   "cell_type": "code",
   "execution_count": 25,
   "id": "d32d96e4-179a-4ecf-b918-99db4ecfaba6",
   "metadata": {},
   "outputs": [
    {
     "data": {
      "text/plain": [
       "NULL"
      ]
     },
     "metadata": {},
     "output_type": "display_data"
    }
   ],
   "source": [
    "dim(A)"
   ]
  },
  {
   "cell_type": "code",
   "execution_count": 26,
   "id": "22745fdf-ad3d-4284-acb2-bcbc5f7f624b",
   "metadata": {},
   "outputs": [],
   "source": [
    "dim(A) <- c(2,4) "
   ]
  },
  {
   "cell_type": "code",
   "execution_count": 27,
   "id": "e45350da-8c1a-4051-8018-5a0e6104a2ee",
   "metadata": {},
   "outputs": [
    {
     "data": {
      "text/plain": [
       "[1] 2 4"
      ]
     },
     "metadata": {},
     "output_type": "display_data"
    }
   ],
   "source": [
    "dim(A)"
   ]
  },
  {
   "cell_type": "code",
   "execution_count": 28,
   "id": "ed895b40-4c15-4dfe-a7b5-0597eea245c3",
   "metadata": {},
   "outputs": [
    {
     "data": {
      "text/plain": [
       "     [,1] [,2] [,3] [,4]\n",
       "[1,] 1    3    5    7   \n",
       "[2,] 2    4    6    8   "
      ]
     },
     "metadata": {},
     "output_type": "display_data"
    }
   ],
   "source": [
    "A"
   ]
  },
  {
   "cell_type": "code",
   "execution_count": 30,
   "id": "17148cf0-d03b-46a6-9707-65961b32e222",
   "metadata": {},
   "outputs": [],
   "source": [
    "dim(A) <- c(4,2)"
   ]
  },
  {
   "cell_type": "code",
   "execution_count": 31,
   "id": "96ac5566-b001-43fa-b2c5-b75dea125c7d",
   "metadata": {},
   "outputs": [
    {
     "data": {
      "text/plain": [
       "     [,1] [,2]\n",
       "[1,] 1    5   \n",
       "[2,] 2    6   \n",
       "[3,] 3    7   \n",
       "[4,] 4    8   "
      ]
     },
     "metadata": {},
     "output_type": "display_data"
    }
   ],
   "source": [
    "A"
   ]
  },
  {
   "cell_type": "code",
   "execution_count": 32,
   "id": "78b217f0-0bac-4d14-9815-935ef4b3f236",
   "metadata": {},
   "outputs": [
    {
     "ename": "ERROR",
     "evalue": "Error in dim(A) <- c(3, 3): dims [product 9] do not match the length of object [8]\n",
     "output_type": "error",
     "traceback": [
      "Error in dim(A) <- c(3, 3): dims [product 9] do not match the length of object [8]\nTraceback:\n"
     ]
    }
   ],
   "source": [
    "dim(A) <- c(3,3)"
   ]
  },
  {
   "cell_type": "markdown",
   "id": "13b159e9-f409-4421-80dd-a708d3541220",
   "metadata": {},
   "source": [
    "`-` 일단 이정도 까지만.. "
   ]
  },
  {
   "cell_type": "markdown",
   "id": "cbd345a4-790f-418f-bb19-6f731c5995ad",
   "metadata": {},
   "source": [
    "#### 매트릭스의 원소를 뽑는 방법 "
   ]
  },
  {
   "cell_type": "markdown",
   "id": "286b2116-889f-42b5-83b7-5c6c04fa0e79",
   "metadata": {},
   "source": [
    "`-` 아래와 같은 매트릭스가 있다고 하자. "
   ]
  },
  {
   "cell_type": "code",
   "execution_count": 33,
   "id": "ac87d94b-4aa1-4111-856c-1e68076cbcb3",
   "metadata": {},
   "outputs": [
    {
     "data": {
      "text/plain": [
       "     [,1] [,2] [,3] [,4]\n",
       "[1,] 1     2    3    4  \n",
       "[2,] 5     6    7    8  \n",
       "[3,] 9    10   11   12  "
      ]
     },
     "metadata": {},
     "output_type": "display_data"
    }
   ],
   "source": [
    "A=rbind(c(1,2,3,4),c(5,6,7,8),c(9,10,11,12))\n",
    "A"
   ]
  },
  {
   "cell_type": "markdown",
   "id": "6bb05d46-de79-41cc-9a89-59681698421f",
   "metadata": {},
   "source": [
    "`-` 1열을 뽑고싶다. "
   ]
  },
  {
   "cell_type": "code",
   "execution_count": 34,
   "id": "753251f3-bfc1-44c9-a93b-4dc667fbc2a4",
   "metadata": {},
   "outputs": [
    {
     "data": {
      "text/plain": [
       "[1] 1 5 9"
      ]
     },
     "metadata": {},
     "output_type": "display_data"
    }
   ],
   "source": [
    "A[,1] "
   ]
  },
  {
   "cell_type": "markdown",
   "id": "262cfb30-493a-4524-b2ad-434e2834cec1",
   "metadata": {},
   "source": [
    "`-` 1열,4열을 뽑고싶다. "
   ]
  },
  {
   "cell_type": "code",
   "execution_count": 35,
   "id": "70f7634d-97e5-4eca-84b9-a43761a02396",
   "metadata": {},
   "outputs": [
    {
     "data": {
      "text/plain": [
       "     [,1] [,2]\n",
       "[1,] 1     4  \n",
       "[2,] 5     8  \n",
       "[3,] 9    12  "
      ]
     },
     "metadata": {},
     "output_type": "display_data"
    }
   ],
   "source": [
    "A[,c(1,4)]"
   ]
  },
  {
   "cell_type": "markdown",
   "id": "6799ebc0-460b-4311-90fe-2e6fadcef128",
   "metadata": {},
   "source": [
    "`-` 2행을 뽑고싶다. "
   ]
  },
  {
   "cell_type": "code",
   "execution_count": 36,
   "id": "86b6a476-9165-4f02-b9d8-9db582f60678",
   "metadata": {},
   "outputs": [
    {
     "data": {
      "text/plain": [
       "[1] 5 6 7 8"
      ]
     },
     "metadata": {},
     "output_type": "display_data"
    }
   ],
   "source": [
    "A[2,]"
   ]
  },
  {
   "cell_type": "markdown",
   "id": "2bc8a5ac-6bcf-4f94-b009-e145df80982c",
   "metadata": {},
   "source": [
    "`-` 1행과 2행을 뽑고싶다. "
   ]
  },
  {
   "cell_type": "code",
   "execution_count": 37,
   "id": "cdafb44c-c081-4e40-b362-6ae485fd8bb0",
   "metadata": {},
   "outputs": [
    {
     "data": {
      "text/plain": [
       "     [,1] [,2] [,3] [,4]\n",
       "[1,] 1    2    3    4   \n",
       "[2,] 5    6    7    8   "
      ]
     },
     "metadata": {},
     "output_type": "display_data"
    }
   ],
   "source": [
    "A[c(1,2),]"
   ]
  },
  {
   "cell_type": "markdown",
   "id": "23ac0d15-d2c8-46b2-a598-dd5a48537a34",
   "metadata": {},
   "source": [
    "`-` 2행3열의 원소를 뽑고싶다. 즉 (2,3)의 위치에 있는 원소를 뽑고싶다. "
   ]
  },
  {
   "cell_type": "code",
   "execution_count": 39,
   "id": "6a38de6a-0ec7-4b5a-bee1-148bcdc55a34",
   "metadata": {},
   "outputs": [
    {
     "data": {
      "text/plain": [
       "[1] 7"
      ]
     },
     "metadata": {},
     "output_type": "display_data"
    }
   ],
   "source": [
    "A[2,3]"
   ]
  },
  {
   "cell_type": "markdown",
   "id": "37378621-e338-4604-b6dd-2db66caed48d",
   "metadata": {},
   "source": [
    "`-` 일단 이정도만.. "
   ]
  },
  {
   "cell_type": "markdown",
   "id": "619534cf-12e1-48c1-b9b7-5fe0a82a01c5",
   "metadata": {},
   "source": [
    "#### 매트릭스를 왜 써야하는가? "
   ]
  },
  {
   "cell_type": "markdown",
   "id": "ae3ad16b-3a2a-4d2c-a9bc-06b5276a004e",
   "metadata": {},
   "source": [
    "`-` 바둑판구조의 자료형을 표현하기 위해서 = 자료를 바둑판 구조로 저장하기 위해서 "
   ]
  },
  {
   "cell_type": "markdown",
   "id": "0daa28f3-e1f8-4683-aa64-eef38ca74536",
   "metadata": {},
   "source": [
    "`-` 자료를 바둑판(2d-array), 나아가 큐브형태(3d-array)로 저장하면 어떠한 이점이 있는가? "
   ]
  },
  {
   "cell_type": "markdown",
   "id": "c04ed1fd-babc-4c4a-8cad-558606eb049f",
   "metadata": {},
   "source": [
    "`-` 자료를 벡터(1d-array)로 저장하면 어떠한 이점이 있는가? 와 같은 질문 \n",
    "- 프로그래밍 구조상의 이점 \n",
    "- 계산상의 이점 "
   ]
  },
  {
   "cell_type": "markdown",
   "id": "fdf38d9b-1372-454d-bcde-85ef759c8f94",
   "metadata": {},
   "source": [
    "(예시) 초항이 1이고 공차가 2인 등차수열을 100개 만들어라. "
   ]
  },
  {
   "cell_type": "markdown",
   "id": "f0a6ca3b-8f01-4dc6-b07f-440c1c8130b5",
   "metadata": {},
   "source": [
    "(풀이1)"
   ]
  },
  {
   "cell_type": "code",
   "execution_count": 40,
   "id": "8385b16a-2672-44f7-b980-cc7af6a215ff",
   "metadata": {},
   "outputs": [
    {
     "data": {
      "text/plain": [
       "  [1]   1   3   5   7   9  11  13  15  17  19  21  23  25  27  29  31  33  35\n",
       " [19]  37  39  41  43  45  47  49  51  53  55  57  59  61  63  65  67  69  71\n",
       " [37]  73  75  77  79  81  83  85  87  89  91  93  95  97  99 101 103 105 107\n",
       " [55] 109 111 113 115 117 119 121 123 125 127 129 131 133 135 137 139 141 143\n",
       " [73] 145 147 149 151 153 155 157 159 161 163 165 167 169 171 173 175 177 179\n",
       " [91] 181 183 185 187 189 191 193 195 197 199"
      ]
     },
     "metadata": {},
     "output_type": "display_data"
    }
   ],
   "source": [
    "a<-c()\n",
    "for (n in 1:100) a[n] = 2*n-1 \n",
    "a"
   ]
  },
  {
   "cell_type": "markdown",
   "id": "bddc7333-d5b2-442d-95ec-56a8622e6e19",
   "metadata": {},
   "source": [
    "위와 같은 간단한 코드도 결국 벡터형태로 자료를 저장하고 관리하기 때문에 for를 쓸 수 있는것임 "
   ]
  },
  {
   "cell_type": "markdown",
   "id": "2f14534d-b47b-4114-9e17-2e45bff8c618",
   "metadata": {},
   "source": [
    "(풀이2)"
   ]
  },
  {
   "cell_type": "code",
   "execution_count": 42,
   "id": "f4972966-4263-4fb2-b29f-fa0c8cc2fef6",
   "metadata": {},
   "outputs": [
    {
     "data": {
      "text/plain": [
       "  [1]   1   3   5   7   9  11  13  15  17  19  21  23  25  27  29  31  33  35\n",
       " [19]  37  39  41  43  45  47  49  51  53  55  57  59  61  63  65  67  69  71\n",
       " [37]  73  75  77  79  81  83  85  87  89  91  93  95  97  99 101 103 105 107\n",
       " [55] 109 111 113 115 117 119 121 123 125 127 129 131 133 135 137 139 141 143\n",
       " [73] 145 147 149 151 153 155 157 159 161 163 165 167 169 171 173 175 177 179\n",
       " [91] 181 183 185 187 189 191 193 195 197 199"
      ]
     },
     "metadata": {},
     "output_type": "display_data"
    }
   ],
   "source": [
    "n=1:100\n",
    "2*n-1"
   ]
  },
  {
   "cell_type": "markdown",
   "id": "57b87f17-f8ce-43f1-a9b9-e2139b89d08c",
   "metadata": {},
   "source": [
    "이것역시 벡터의 개념이 있기 때문에 가능함 "
   ]
  },
  {
   "cell_type": "markdown",
   "id": "7efeb82b-0e7c-43f4-9c5c-0946aecb10a9",
   "metadata": {},
   "source": [
    "`-` 자료를 벡터로 관리하면 어떠한 이점이 생기듯이 자료를 매트릭스로 관리해도 이점이 생긴다. "
   ]
  },
  {
   "cell_type": "markdown",
   "id": "2f6f7c7a-43ac-453a-ba43-af557f57639b",
   "metadata": {},
   "source": [
    "#### apply 함수"
   ]
  },
  {
   "cell_type": "markdown",
   "id": "f2cbddde-3dc5-486e-897a-71132d5a252d",
   "metadata": {},
   "source": [
    "`-` 우선 아래를 기억하자. "
   ]
  },
  {
   "cell_type": "markdown",
   "id": "b16d5d0d-0ae6-44f2-8c09-4c9e6715b7ba",
   "metadata": {},
   "source": [
    "```\n",
    "apply(매트릭스,1,특정함수) \n",
    "```"
   ]
  },
  {
   "cell_type": "markdown",
   "id": "6df1ceaa-3e45-434d-b330-48f80883e3b5",
   "metadata": {},
   "source": [
    "를 쓰면 어떠한 특정함수가 각각의 row에 적용되어서 결과가 array로 저장된다. "
   ]
  },
  {
   "cell_type": "markdown",
   "id": "67cf7976-84bb-4a49-a636-df5511fb3372",
   "metadata": {},
   "source": [
    "`-` 여기에서 특정함수는 \"벡터입력-스칼라출력\" 이라 생각하자. 즉 벡터입력-스칼라출력인 함수만 apply가 가능하다고 생각하자. (사실 그렇지는 않음) 예를들면 아래와 같다. "
   ]
  },
  {
   "cell_type": "code",
   "execution_count": 43,
   "id": "a970138a-0b1f-48d5-8f79-31585788a8bd",
   "metadata": {},
   "outputs": [
    {
     "data": {
      "text/plain": [
       "[1] 10"
      ]
     },
     "metadata": {},
     "output_type": "display_data"
    }
   ],
   "source": [
    "sum(c(1,2,3,4))"
   ]
  },
  {
   "cell_type": "code",
   "execution_count": 44,
   "id": "5c9cd033-ea99-40bb-aa29-0a9e86cf2299",
   "metadata": {},
   "outputs": [
    {
     "data": {
      "text/plain": [
       "[1] 2.5"
      ]
     },
     "metadata": {},
     "output_type": "display_data"
    }
   ],
   "source": [
    "mean(c(1,2,3,4))"
   ]
  },
  {
   "cell_type": "markdown",
   "id": "1ac6d6d5-d3fe-413a-9063-4a3fe5bcd9ea",
   "metadata": {},
   "source": [
    "`-` 아래와 같은 함수는 벡터입력-벡터출력 이므로 조건에 해당하지 않는다. "
   ]
  },
  {
   "cell_type": "code",
   "execution_count": 46,
   "id": "fb1da425-d6eb-4e64-98c4-95a829378dd3",
   "metadata": {},
   "outputs": [
    {
     "data": {
      "text/plain": [
       "[1] 1.000000 1.414214 1.732051 2.000000"
      ]
     },
     "metadata": {},
     "output_type": "display_data"
    }
   ],
   "source": [
    "sqrt(c(1,2,3,4))"
   ]
  },
  {
   "cell_type": "markdown",
   "id": "cabeeed7-c461-431a-90d8-4a0fba8f9a43",
   "metadata": {},
   "source": [
    "`-` 이제 매트릭스 A에 다양한 함수를 적용해보자. "
   ]
  },
  {
   "cell_type": "code",
   "execution_count": 47,
   "id": "241df40b-6b64-4a4e-ba47-bf1431c186a2",
   "metadata": {},
   "outputs": [
    {
     "data": {
      "text/plain": [
       "     [,1] [,2] [,3] [,4]\n",
       "[1,] 1     2    3    4  \n",
       "[2,] 5     6    7    8  \n",
       "[3,] 9    10   11   12  "
      ]
     },
     "metadata": {},
     "output_type": "display_data"
    }
   ],
   "source": [
    "A"
   ]
  },
  {
   "cell_type": "code",
   "execution_count": 48,
   "id": "95ae4c10-6a50-466b-ba17-a18100339b53",
   "metadata": {},
   "outputs": [
    {
     "data": {
      "text/plain": [
       "[1] 10 26 42"
      ]
     },
     "metadata": {},
     "output_type": "display_data"
    }
   ],
   "source": [
    "apply(A,1,sum)"
   ]
  },
  {
   "cell_type": "code",
   "execution_count": 49,
   "id": "ef2f51d2-7d39-4dc0-bd88-55a50f01f958",
   "metadata": {},
   "outputs": [
    {
     "data": {
      "text/plain": [
       "[1]  2.5  6.5 10.5"
      ]
     },
     "metadata": {},
     "output_type": "display_data"
    }
   ],
   "source": [
    "apply(A,1,mean)"
   ]
  },
  {
   "cell_type": "code",
   "execution_count": 50,
   "id": "e1e2ed0c-45a7-4f02-9f31-c0424fa4fbdf",
   "metadata": {},
   "outputs": [
    {
     "data": {
      "text/plain": [
       "[1] 1 5 9"
      ]
     },
     "metadata": {},
     "output_type": "display_data"
    }
   ],
   "source": [
    "apply(A,1,min) "
   ]
  },
  {
   "cell_type": "code",
   "execution_count": 51,
   "id": "d0559772-e503-40f4-94ec-ba3c01beb9bd",
   "metadata": {},
   "outputs": [
    {
     "data": {
      "text/plain": [
       "[1]  4  8 12"
      ]
     },
     "metadata": {},
     "output_type": "display_data"
    }
   ],
   "source": [
    "apply(A,1,max) "
   ]
  },
  {
   "cell_type": "markdown",
   "id": "f8412481-662a-4cbb-b8d5-84eeeab307de",
   "metadata": {},
   "source": [
    "사용자가 임의로 정의한 함수도 가능하다. "
   ]
  },
  {
   "cell_type": "code",
   "execution_count": 53,
   "id": "2f39583a-745e-4082-925d-c70e0a4b659c",
   "metadata": {},
   "outputs": [],
   "source": [
    "f = function(a) (min(a)+1)**2-3 "
   ]
  },
  {
   "cell_type": "code",
   "execution_count": 54,
   "id": "55ce72f7-4d40-4e39-8f8e-347ddbdad410",
   "metadata": {},
   "outputs": [
    {
     "data": {
      "text/plain": [
       "[1]  1 33 97"
      ]
     },
     "metadata": {},
     "output_type": "display_data"
    }
   ],
   "source": [
    "apply(A,1,f)"
   ]
  },
  {
   "cell_type": "markdown",
   "id": "adb9ce49-578e-4f38-833f-e4b25a7a3755",
   "metadata": {},
   "source": [
    "`-` 숫자1을 2로 바꾸면 특정함수가 각각의 col에 적용되어서 결과가 array로 저장된다. "
   ]
  },
  {
   "cell_type": "code",
   "execution_count": 57,
   "id": "7063e4ed-9778-4f99-8144-59ea834b1912",
   "metadata": {},
   "outputs": [
    {
     "data": {
      "text/plain": [
       "     [,1] [,2] [,3] [,4]\n",
       "[1,] 1     2    3    4  \n",
       "[2,] 5     6    7    8  \n",
       "[3,] 9    10   11   12  "
      ]
     },
     "metadata": {},
     "output_type": "display_data"
    }
   ],
   "source": [
    "A"
   ]
  },
  {
   "cell_type": "code",
   "execution_count": 58,
   "id": "acf608a7-7b4f-457b-9c53-ef02802437b8",
   "metadata": {},
   "outputs": [
    {
     "data": {
      "text/plain": [
       "[1] 15 18 21 24"
      ]
     },
     "metadata": {},
     "output_type": "display_data"
    }
   ],
   "source": [
    "apply(A,2,sum)"
   ]
  },
  {
   "cell_type": "code",
   "execution_count": 59,
   "id": "3a15f23d-066e-4d5c-b8f1-22613ce9e57c",
   "metadata": {},
   "outputs": [
    {
     "data": {
      "text/plain": [
       "[1] 5 6 7 8"
      ]
     },
     "metadata": {},
     "output_type": "display_data"
    }
   ],
   "source": [
    "apply(A,2,mean)"
   ]
  },
  {
   "cell_type": "code",
   "execution_count": 60,
   "id": "af53d1c4-c74b-43cd-ad03-6c4f463105a9",
   "metadata": {},
   "outputs": [
    {
     "data": {
      "text/plain": [
       "[1] 1 2 3 4"
      ]
     },
     "metadata": {},
     "output_type": "display_data"
    }
   ],
   "source": [
    "apply(A,2,min)"
   ]
  },
  {
   "cell_type": "code",
   "execution_count": 61,
   "id": "d0a9b04c-1c47-4ad2-885e-c7692a2f9341",
   "metadata": {},
   "outputs": [
    {
     "data": {
      "text/plain": [
       "[1]  9 10 11 12"
      ]
     },
     "metadata": {},
     "output_type": "display_data"
    }
   ],
   "source": [
    "apply(A,2,max)"
   ]
  },
  {
   "cell_type": "code",
   "execution_count": 62,
   "id": "cdf77cf1-f0d3-4b81-9e32-2ca1c532ba5e",
   "metadata": {},
   "outputs": [
    {
     "data": {
      "text/plain": [
       "[1]  1  6 13 22"
      ]
     },
     "metadata": {},
     "output_type": "display_data"
    }
   ],
   "source": [
    "apply(A,2,f)"
   ]
  },
  {
   "cell_type": "markdown",
   "id": "329974e6-1d31-4c0f-80bf-0a8d96dfd216",
   "metadata": {},
   "source": [
    "#### %>% 연산자 ($\\star\\star\\star$)"
   ]
  },
  {
   "cell_type": "markdown",
   "id": "e183014d-050e-44af-8c16-9ac8b4e893ce",
   "metadata": {},
   "source": [
    "> note: 진짜 중요한 문법입니다. 너무편해요. "
   ]
  },
  {
   "cell_type": "markdown",
   "id": "2a194408-d08e-401a-ac9b-37d6101cbd24",
   "metadata": {},
   "source": [
    "`-` 아래는 같은코드이다. "
   ]
  },
  {
   "cell_type": "code",
   "execution_count": 64,
   "id": "f8ae0c36-cdf5-41f9-b624-77963cb7b5bb",
   "metadata": {},
   "outputs": [
    {
     "data": {
      "text/plain": [
       "[1] 55"
      ]
     },
     "metadata": {},
     "output_type": "display_data"
    }
   ],
   "source": [
    "sum(1:10)"
   ]
  },
  {
   "cell_type": "code",
   "execution_count": 65,
   "id": "42592fb6-7201-4765-8ca9-6de5992cc136",
   "metadata": {},
   "outputs": [
    {
     "data": {
      "text/plain": [
       "[1] 55"
      ]
     },
     "metadata": {},
     "output_type": "display_data"
    }
   ],
   "source": [
    "1:10 %>% sum()"
   ]
  },
  {
   "cell_type": "code",
   "execution_count": 66,
   "id": "cad6ec65-8e95-4e1f-90c5-f79401aa3fde",
   "metadata": {},
   "outputs": [
    {
     "data": {
      "text/plain": [
       "[1] 55"
      ]
     },
     "metadata": {},
     "output_type": "display_data"
    }
   ],
   "source": [
    "1:10 %>% sum"
   ]
  },
  {
   "cell_type": "markdown",
   "id": "c33ed4a5-bb61-4fde-9e41-2beee3ed00b2",
   "metadata": {},
   "source": [
    "`-` 아래와 같이 2개의 입력을 받는 함수를 생각하자. "
   ]
  },
  {
   "cell_type": "code",
   "execution_count": 67,
   "id": "7a965256-4a48-4c43-99cf-b286a14a2805",
   "metadata": {},
   "outputs": [],
   "source": [
    "myfun = function(x,y) x**2+y "
   ]
  },
  {
   "cell_type": "code",
   "execution_count": 68,
   "id": "157c8126-3eb1-40f6-a2d3-9e34b0bbb612",
   "metadata": {},
   "outputs": [
    {
     "data": {
      "text/plain": [
       "[1] 7"
      ]
     },
     "metadata": {},
     "output_type": "display_data"
    }
   ],
   "source": [
    "myfun(2,3)"
   ]
  },
  {
   "cell_type": "markdown",
   "id": "2fc7627a-c69e-47cb-84ec-0b4b8b64bfe6",
   "metadata": {},
   "source": [
    "`-` 아래는 같은코드이다. "
   ]
  },
  {
   "cell_type": "code",
   "execution_count": 69,
   "id": "0bcb38e5-65b9-4573-8e90-5853bd75119b",
   "metadata": {},
   "outputs": [
    {
     "data": {
      "text/plain": [
       "[1] 7"
      ]
     },
     "metadata": {},
     "output_type": "display_data"
    }
   ],
   "source": [
    "myfun(2,3)"
   ]
  },
  {
   "cell_type": "code",
   "execution_count": 70,
   "id": "7796ac48-39e2-4392-9402-b2a498832736",
   "metadata": {},
   "outputs": [
    {
     "data": {
      "text/plain": [
       "[1] 7"
      ]
     },
     "metadata": {},
     "output_type": "display_data"
    }
   ],
   "source": [
    "2 %>% myfun(3)"
   ]
  },
  {
   "cell_type": "markdown",
   "id": "d5eb3e5a-adde-4c45-9f63-0ef0a08f92e0",
   "metadata": {},
   "source": [
    "`-` 동일한 논리로 아래도 같은코드이다. "
   ]
  },
  {
   "cell_type": "code",
   "execution_count": 71,
   "id": "e8b1cf20-0993-444e-a566-7b3d6cdde60a",
   "metadata": {},
   "outputs": [
    {
     "data": {
      "text/plain": [
       "[1] 11"
      ]
     },
     "metadata": {},
     "output_type": "display_data"
    }
   ],
   "source": [
    "myfun(3,2) "
   ]
  },
  {
   "cell_type": "code",
   "execution_count": 72,
   "id": "1e5d2d8f-6cce-4fa4-b434-a5136adc82cb",
   "metadata": {},
   "outputs": [
    {
     "data": {
      "text/plain": [
       "[1] 11"
      ]
     },
     "metadata": {},
     "output_type": "display_data"
    }
   ],
   "source": [
    "3 %>% myfun(2)"
   ]
  },
  {
   "cell_type": "markdown",
   "id": "9358be49-3292-4780-9425-e43f3fa28a6e",
   "metadata": {},
   "source": [
    "`-` 입력이 3개인 함수를 만들자. "
   ]
  },
  {
   "cell_type": "code",
   "execution_count": 73,
   "id": "7662c1d7-b8ee-4ac9-b966-911baf4a54d7",
   "metadata": {},
   "outputs": [],
   "source": [
    "myfun2= function(x,y,z) x**2 + y*z "
   ]
  },
  {
   "cell_type": "markdown",
   "id": "f03ddd61-c6f6-4c0c-bbf9-700ed2fc0141",
   "metadata": {},
   "source": [
    "`-` 아래는 같은코드이다. "
   ]
  },
  {
   "cell_type": "code",
   "execution_count": 77,
   "id": "9c0f3372-edd2-47da-beb6-13930de8f09d",
   "metadata": {},
   "outputs": [
    {
     "data": {
      "text/plain": [
       "[1] 5"
      ]
     },
     "metadata": {},
     "output_type": "display_data"
    }
   ],
   "source": [
    "myfun2(2,1,1)"
   ]
  },
  {
   "cell_type": "code",
   "execution_count": 78,
   "id": "59fd9673-170d-4f11-bfc3-ebeb2280b225",
   "metadata": {},
   "outputs": [
    {
     "data": {
      "text/plain": [
       "[1] 5"
      ]
     },
     "metadata": {},
     "output_type": "display_data"
    }
   ],
   "source": [
    "2 %>% myfun2(1,1)"
   ]
  },
  {
   "cell_type": "markdown",
   "id": "579cd9bb-0d51-4cef-be77-a4c60dfac1c5",
   "metadata": {},
   "source": [
    "`-` 왜 이러한 일을 해야하는가? (합성함수 처리에 유리)"
   ]
  },
  {
   "cell_type": "code",
   "execution_count": 92,
   "id": "92582365-8708-4ea4-a96a-4d2e6fbf33df",
   "metadata": {},
   "outputs": [
    {
     "data": {
      "text/plain": [
       "[1] 4.440805"
      ]
     },
     "metadata": {},
     "output_type": "display_data"
    }
   ],
   "source": [
    "2:5 %>% log %>% sqrt %>% sum %>% myfun2(1,1) %>% sqrt"
   ]
  },
  {
   "cell_type": "code",
   "execution_count": 91,
   "id": "ebebe21c-a881-40af-a189-f68e68fc89c6",
   "metadata": {},
   "outputs": [
    {
     "data": {
      "text/plain": [
       "[1] 4.440805"
      ]
     },
     "metadata": {},
     "output_type": "display_data"
    }
   ],
   "source": [
    "sqrt(myfun2(sum(sqrt(log(2:5))),1,1))"
   ]
  },
  {
   "cell_type": "code",
   "execution_count": 96,
   "id": "690521b6-bbc3-4d0a-889e-cdf632df81cd",
   "metadata": {},
   "outputs": [
    {
     "data": {
      "text/plain": [
       "[1] 8.558202"
      ]
     },
     "metadata": {},
     "output_type": "display_data"
    }
   ],
   "source": [
    "2:5 %>% log %>% myfun(3) %>% sqrt %>% sum %>% myfun2(1,1) %>% sqrt "
   ]
  },
  {
   "cell_type": "code",
   "execution_count": 97,
   "id": "a9ae4c5a-db4f-41aa-b4bf-5954f500194b",
   "metadata": {},
   "outputs": [
    {
     "data": {
      "text/plain": [
       "[1] 8.558202"
      ]
     },
     "metadata": {},
     "output_type": "display_data"
    }
   ],
   "source": [
    "sqrt(myfun2(sum(sqrt(myfun(log(2:5),3))),1,1))"
   ]
  },
  {
   "cell_type": "markdown",
   "id": "81dd3c55-7f67-46c3-aab6-5fbd9c2a5543",
   "metadata": {},
   "source": [
    "`-` 아래의 개념차이 \n",
    "- $g(h(f(x)))$ \n",
    "- $x \\to f \\to h \\to g$"
   ]
  },
  {
   "cell_type": "markdown",
   "id": "c76ac014-ed4c-4162-9539-05ac4aee44ea",
   "metadata": {},
   "source": [
    "### 시간비교 "
   ]
  },
  {
   "cell_type": "markdown",
   "id": "5acdcc7c-0c1c-4101-a8c4-f4a3ccce0345",
   "metadata": {},
   "source": [
    "`-` 시간비교하는 방법 "
   ]
  },
  {
   "cell_type": "code",
   "execution_count": 106,
   "id": "1e1a1d50-f2ce-4ce4-a78a-316694c8a73b",
   "metadata": {},
   "outputs": [],
   "source": [
    "t1=Sys.time()"
   ]
  },
  {
   "cell_type": "code",
   "execution_count": 107,
   "id": "9b535279-8a44-4f1d-9893-bcbb7f94d39d",
   "metadata": {},
   "outputs": [],
   "source": [
    "t2=Sys.time()"
   ]
  },
  {
   "cell_type": "code",
   "execution_count": 108,
   "id": "5989db02-3412-4f49-9fb9-93c5381511b5",
   "metadata": {},
   "outputs": [
    {
     "data": {
      "text/plain": [
       "Time difference of 4.949846 secs"
      ]
     },
     "metadata": {},
     "output_type": "display_data"
    }
   ],
   "source": [
    "t2-t1"
   ]
  },
  {
   "cell_type": "markdown",
   "id": "983f06f9-a4c8-4a31-a80f-79e24055e2c5",
   "metadata": {},
   "source": [
    "`-` 큰 매트릭스 만듬 "
   ]
  },
  {
   "cell_type": "code",
   "execution_count": 139,
   "id": "acca03cb-4625-4261-ba4a-454d92548522",
   "metadata": {},
   "outputs": [],
   "source": [
    "A=sample(1:9,size=100*2000000,replace=TRUE)"
   ]
  },
  {
   "cell_type": "code",
   "execution_count": 141,
   "id": "adae1b83-5339-4229-aa6c-0e00661edde0",
   "metadata": {},
   "outputs": [
    {
     "data": {
      "text/plain": [
       "      [,1] [,2] [,3] [,4] [,5] [,6] [,7] [,8] [,9] [,10] [,11] [,12] [,13]\n",
       " [1,] 4    5    1    3    4    3    7    9    2    3     ⋯     2     7    \n",
       " [2,] 8    2    6    9    9    9    7    2    5    5     ⋯     7     4    \n",
       " [3,] 6    9    2    6    5    8    2    3    6    7     ⋯     7     4    \n",
       " [4,] 5    8    2    4    6    3    6    8    1    8     ⋯     3     7    \n",
       " [5,] 5    2    6    2    1    6    5    8    9    5     ⋯     1     7    \n",
       " [6,] 1    8    8    3    5    2    8    4    9    6     ⋯     5     8    \n",
       " [7,] 2    9    2    9    8    4    5    2    9    4     ⋯     6     1    \n",
       " [8,] 4    5    4    4    9    8    1    3    6    2     ⋯     2     8    \n",
       " [9,] 2    6    3    9    7    1    6    7    1    4     ⋯     7     1    \n",
       "[10,] 2    1    4    3    3    1    9    8    2    8     ⋯     7     4    \n",
       "[11,] 7    7    3    1    1    3    7    9    6    2     ⋯     5     6    \n",
       "[12,] 4    5    2    3    8    3    5    7    9    1     ⋯     2     3    \n",
       "[13,] 3    9    5    9    2    5    2    7    2    8     ⋯     9     3    \n",
       "[14,] 1    5    9    2    9    9    4    3    1    2     ⋯     8     6    \n",
       "[15,] 8    5    1    9    9    2    1    1    2    7     ⋯     8     5    \n",
       "[16,] 9    4    1    8    9    4    7    7    6    1     ⋯     8     4    \n",
       "[17,] 1    4    1    1    2    7    6    4    2    1     ⋯     7     9    \n",
       "[18,] 3    1    9    5    7    5    4    2    3    9     ⋯     7     7    \n",
       "[19,] 7    3    4    1    2    9    8    1    6    6     ⋯     1     2    \n",
       "[20,] 4    8    7    7    3    4    3    7    3    6     ⋯     7     7    \n",
       "[21,] 9    5    6    2    8    4    7    8    7    1     ⋯     4     4    \n",
       "[22,] 7    5    1    5    3    7    8    3    9    5     ⋯     6     1    \n",
       "[23,] 4    8    7    7    4    3    1    5    9    4     ⋯     9     5    \n",
       "[24,] 2    1    9    1    4    7    2    9    2    8     ⋯     7     2    \n",
       "[25,] 5    2    9    8    5    3    5    7    2    7     ⋯     7     7    \n",
       "[26,] 5    2    3    6    3    5    4    3    7    2     ⋯     5     3    \n",
       "[27,] 1    9    5    2    6    3    8    3    2    6     ⋯     6     6    \n",
       "[28,] 6    3    5    5    2    5    7    7    9    8     ⋯     3     1    \n",
       "[29,] 8    8    7    5    2    2    7    3    1    7     ⋯     5     5    \n",
       "[30,] 7    3    8    6    4    4    6    4    4    5     ⋯     5     8    \n",
       "[31,] ⋮    ⋮    ⋮    ⋮    ⋮    ⋮    ⋮    ⋮    ⋮    ⋮     ⋱     ⋮     ⋮    \n",
       "[32,] 8    4    7    5    5    4    9    4    6    7     ⋯     3     8    \n",
       "[33,] 5    5    5    1    9    7    9    1    2    4     ⋯     7     1    \n",
       "[34,] 3    8    1    9    8    8    6    1    5    1     ⋯     9     6    \n",
       "[35,] 3    8    2    6    6    6    4    5    1    2     ⋯     9     7    \n",
       "[36,] 8    3    7    5    3    9    9    5    5    8     ⋯     9     1    \n",
       "[37,] 3    3    8    3    4    9    1    4    8    9     ⋯     3     1    \n",
       "[38,] 6    6    2    6    7    1    7    9    5    3     ⋯     9     1    \n",
       "[39,] 8    6    2    2    7    6    3    1    9    2     ⋯     2     9    \n",
       "[40,] 7    3    7    7    2    2    6    6    4    8     ⋯     4     2    \n",
       "[41,] 9    1    1    9    7    1    5    3    5    2     ⋯     9     1    \n",
       "[42,] 8    4    2    1    3    3    7    9    5    9     ⋯     3     1    \n",
       "[43,] 9    6    7    1    4    8    5    4    9    8     ⋯     5     6    \n",
       "[44,] 8    7    8    1    9    5    1    8    6    7     ⋯     7     8    \n",
       "[45,] 3    3    4    8    6    1    6    9    3    1     ⋯     5     3    \n",
       "[46,] 2    1    6    7    1    2    8    1    1    6     ⋯     3     4    \n",
       "[47,] 5    2    1    7    7    1    7    6    3    1     ⋯     6     8    \n",
       "      [,14] [,15] [,16] [,17] [,18] [,19] [,20] [,21]\n",
       " [1,] 1     1     3     2     4     7     3     5    \n",
       " [2,] 4     8     7     7     8     1     2     5    \n",
       " [3,] 8     8     2     3     9     4     9     4    \n",
       " [4,] 1     7     9     3     9     9     6     8    \n",
       " [5,] 9     6     3     6     2     8     8     5    \n",
       " [6,] 9     2     9     7     7     9     2     2    \n",
       " [7,] 2     4     3     8     3     3     6     5    \n",
       " [8,] 7     3     8     6     8     4     4     1    \n",
       " [9,] 4     4     6     6     8     8     1     8    \n",
       "[10,] 3     7     6     9     2     2     8     3    \n",
       "[11,] 4     3     4     3     5     5     4     3    \n",
       "[12,] 2     1     4     5     1     3     2     4    \n",
       "[13,] 5     7     7     7     8     9     3     9    \n",
       "[14,] 8     9     6     2     3     2     6     2    \n",
       "[15,] 4     1     2     4     8     7     5     3    \n",
       "[16,] 4     1     9     4     1     1     3     5    \n",
       "[17,] 9     9     4     2     5     3     3     5    \n",
       "[18,] 7     8     5     5     4     1     6     4    \n",
       "[19,] 5     2     4     6     3     6     9     6    \n",
       "[20,] 2     8     1     2     5     7     6     8    \n",
       "[21,] 2     6     5     3     3     7     4     3    \n",
       "[22,] 9     9     8     1     6     2     2     6    \n",
       "[23,] 3     8     1     6     1     1     9     9    \n",
       "[24,] 1     2     1     3     9     9     3     8    \n",
       "[25,] 6     9     5     4     7     6     3     3    \n",
       "[26,] 6     3     9     9     8     4     3     5    \n",
       "[27,] 1     8     4     8     4     3     2     7    \n",
       "[28,] 9     7     2     2     7     2     9     6    \n",
       "[29,] 8     1     7     5     2     5     5     2    \n",
       "[30,] 1     3     8     2     5     9     4     7    \n",
       "[31,] ⋮     ⋮     ⋮     ⋮     ⋮     ⋮     ⋮     ⋮    \n",
       "[32,] 8     9     6     2     6     8     4     3    \n",
       "[33,] 8     1     6     2     7     6     7     4    \n",
       "[34,] 4     8     9     8     9     8     8     1    \n",
       "[35,] 5     1     2     6     3     6     2     7    \n",
       "[36,] 1     9     4     6     1     6     5     6    \n",
       "[37,] 8     4     1     9     6     8     5     5    \n",
       "[38,] 1     3     8     6     8     9     1     9    \n",
       "[39,] 2     8     5     3     6     6     7     1    \n",
       "[40,] 7     1     6     2     3     1     6     8    \n",
       "[41,] 9     9     8     9     1     2     1     3    \n",
       "[42,] 6     3     5     3     8     3     6     7    \n",
       "[43,] 2     4     3     9     9     4     1     6    \n",
       "[44,] 7     9     9     2     6     2     2     9    \n",
       "[45,] 9     2     7     3     3     3     8     7    \n",
       "[46,] 5     2     4     7     6     4     2     3    \n",
       "[47,] 2     7     7     8     5     6     3     4    \n",
       " [ reached getOption(\"max.print\") -- omitted 14 rows ]"
      ]
     },
     "metadata": {},
     "output_type": "display_data"
    }
   ],
   "source": [
    "dim(A)<-c(2000000,100)\n",
    "A"
   ]
  },
  {
   "cell_type": "code",
   "execution_count": 142,
   "id": "840bf615-4c3d-4d6e-8578-6083d41816cb",
   "metadata": {},
   "outputs": [
    {
     "data": {
      "text/plain": [
       "[1] 2"
      ]
     },
     "metadata": {},
     "output_type": "display_data"
    },
    {
     "data": {
      "text/plain": [
       "Time difference of 4.850609 secs"
      ]
     },
     "metadata": {},
     "output_type": "display_data"
    }
   ],
   "source": [
    "t1=Sys.time() \n",
    "A %>% apply(1,min) %>% max \n",
    "t2=Sys.time() \n",
    "t2-t1"
   ]
  },
  {
   "cell_type": "code",
   "execution_count": 147,
   "id": "72e9b513-4550-4fff-98a6-9d8edaf0c3f0",
   "metadata": {},
   "outputs": [
    {
     "data": {
      "text/plain": [
       "[1] 2"
      ]
     },
     "metadata": {},
     "output_type": "display_data"
    },
    {
     "data": {
      "text/plain": [
       "Time difference of 3.032909 secs"
      ]
     },
     "metadata": {},
     "output_type": "display_data"
    }
   ],
   "source": [
    "t1=Sys.time() \n",
    "vec<-c()\n",
    "for(i in 1:(dim(A)[1])) vec[i]<-min(A[i,]) \n",
    "max(vec)\n",
    "t2=Sys.time() \n",
    "t2-t1"
   ]
  },
  {
   "cell_type": "markdown",
   "id": "07fabd0a-13c8-41f0-ba15-78995db3ba35",
   "metadata": {},
   "source": [
    "`-` for문이 좀더 빠르지만 코드는 apply가 더 간결해보인다. "
   ]
  },
  {
   "cell_type": "markdown",
   "id": "237e2bba-043a-4082-b7aa-22c34c738e0a",
   "metadata": {
    "tags": []
   },
   "source": [
    "### 숙제 "
   ]
  },
  {
   "cell_type": "markdown",
   "id": "a2edc1ac-8e6b-4c2e-a387-06122b8a5121",
   "metadata": {},
   "source": [
    "`-` 아래의 코드를 실행하고 실행결과를 제출 "
   ]
  },
  {
   "cell_type": "code",
   "execution_count": 142,
   "id": "00efcc56-5d45-4cae-9dfc-24d1525cc3f6",
   "metadata": {},
   "outputs": [
    {
     "data": {
      "text/plain": [
       "[1] 2"
      ]
     },
     "metadata": {},
     "output_type": "display_data"
    },
    {
     "data": {
      "text/plain": [
       "Time difference of 4.850609 secs"
      ]
     },
     "metadata": {},
     "output_type": "display_data"
    }
   ],
   "source": [
    "t1=Sys.time() \n",
    "A %>% apply(1,min) %>% max \n",
    "t2=Sys.time() \n",
    "t2-t1"
   ]
  },
  {
   "cell_type": "code",
   "execution_count": 147,
   "id": "e95a5c34-0588-4d90-b11c-c5dd20cb8dfa",
   "metadata": {},
   "outputs": [
    {
     "data": {
      "text/plain": [
       "[1] 2"
      ]
     },
     "metadata": {},
     "output_type": "display_data"
    },
    {
     "data": {
      "text/plain": [
       "Time difference of 3.032909 secs"
      ]
     },
     "metadata": {},
     "output_type": "display_data"
    }
   ],
   "source": [
    "t1=Sys.time() \n",
    "vec<-c()\n",
    "for(i in 1:(dim(A)[1])) vec[i]<-min(A[i,]) \n",
    "max(vec)\n",
    "t2=Sys.time() \n",
    "t2-t1"
   ]
  }
 ],
 "metadata": {
  "kernelspec": {
   "display_name": "R",
   "language": "R",
   "name": "ir"
  },
  "language_info": {
   "codemirror_mode": "r",
   "file_extension": ".r",
   "mimetype": "text/x-r-source",
   "name": "R",
   "pygments_lexer": "r",
   "version": "4.0.5"
  }
 },
 "nbformat": 4,
 "nbformat_minor": 5
}
