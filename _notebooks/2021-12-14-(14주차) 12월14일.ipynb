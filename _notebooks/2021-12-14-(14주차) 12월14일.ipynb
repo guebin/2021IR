{
 "cells": [
  {
   "cell_type": "markdown",
   "id": "411d9134-d854-4ad6-9e6d-1a840d7bbc59",
   "metadata": {
    "tags": []
   },
   "source": [
    "# (14주차) 12월14일 \n",
    "> Rmarkdown으로 기술문서 만들기 (pdf)\n",
    "\n",
    "- toc:true\n",
    "- branch: master\n",
    "- badges: true\n",
    "- comments: true\n",
    "- author: 최규빈"
   ]
  },
  {
   "cell_type": "markdown",
   "id": "cd4a3bd6-b9c9-4a7d-b3ee-5d22cdac2a33",
   "metadata": {},
   "source": [
    "### 강의영상 "
   ]
  },
  {
   "cell_type": "markdown",
   "id": "06caa0ed-e4ee-4938-bdfe-9ff2357da5c3",
   "metadata": {},
   "source": [
    "> youtube: https://youtube.com/playlist?list=PLQqh36zP38-yJZYyT_y4Tf2Rd5y-SAkGY"
   ]
  },
  {
   "cell_type": "markdown",
   "id": "ca5b84d5-8b11-46b6-825d-074349baba02",
   "metadata": {},
   "source": [
    "`-` 강의노트는 LMS참고하세요 "
   ]
  }
 ],
 "metadata": {
  "kernelspec": {
   "display_name": "Python 3",
   "language": "python",
   "name": "python3"
  },
  "language_info": {
   "codemirror_mode": {
    "name": "ipython",
    "version": 3
   },
   "file_extension": ".py",
   "mimetype": "text/x-python",
   "name": "python",
   "nbconvert_exporter": "python",
   "pygments_lexer": "ipython3",
   "version": "3.9.7"
  },
  "widgets": {
   "application/vnd.jupyter.widget-state+json": {
    "state": {},
    "version_major": 2,
    "version_minor": 0
   }
  }
 },
 "nbformat": 4,
 "nbformat_minor": 5
}
