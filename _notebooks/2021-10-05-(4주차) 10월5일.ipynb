{
 "cells": [
  {
   "cell_type": "code",
   "execution_count": 45,
   "id": "4f821447-c95d-43f8-a936-81bd1904abdd",
   "metadata": {},
   "outputs": [],
   "source": [
    "#hide\n",
    "options(jupyter.plot_scale=3)\n",
    "options(jupyter.display_mimetypes=c(\"text/html\"))\n",
    "options(jupyter.rich_display=FALSE)\n",
    "options(repr.plot.width=6,repr.plot.height=6,repr.plot.res=300)\n",
    "options(max.print=1000)"
   ]
  },
  {
   "cell_type": "markdown",
   "id": "6f4ad8f6-262e-47dd-8182-c76fe9d2f236",
   "metadata": {
    "tags": []
   },
   "source": [
    "# (4주차) 10월5일 \n",
    "> 2007(나) 9월/평가원 16(고3), for+break, while\n",
    "\n",
    "- toc:true\n",
    "- branch: master\n",
    "- badges: true\n",
    "- comments: true\n",
    "- author: 최규빈"
   ]
  },
  {
   "cell_type": "markdown",
   "id": "14b6ba65-61fc-4bd5-9d13-bad76a654bb4",
   "metadata": {},
   "source": [
    "### 강의영상 "
   ]
  },
  {
   "cell_type": "markdown",
   "id": "14d63ad8-532a-416c-bb72-f010a617d84b",
   "metadata": {},
   "source": [
    "> youtube: https://youtube.com/playlist?list=PLQqh36zP38-wzLDINfSAcqFn7mRDhicB3"
   ]
  },
  {
   "cell_type": "markdown",
   "id": "78486583-b2dc-43bd-b25d-895f6395e76f",
   "metadata": {},
   "source": [
    "`-` (1/3) 2007년(나) 9월/평가원 16(고3) 풀이 (1) \n",
    "\n",
    "`-` (2/3) 2007년(나) 9월/평가원 16(고3) 풀이 (2) \n",
    "\n",
    "`-` (3/3) 2007년(나) 9월/평가원 16(고3) 풀이 (3), for+break, while, 과제설명 "
   ]
  },
  {
   "cell_type": "markdown",
   "id": "968cbd59-d492-4029-9ee1-011c65cd06f0",
   "metadata": {
    "tags": []
   },
   "source": [
    "### 2007(나) 9월/평가원 16(고3)"
   ]
  },
  {
   "cell_type": "markdown",
   "id": "b1a17a88-62ad-49c9-b3e6-18774315056b",
   "metadata": {},
   "source": [
    "자연수 $n$에 대하여 점 $P_n$을 다음 규칙에 따라 정한다. "
   ]
  },
  {
   "cell_type": "markdown",
   "id": "ce527a4f-0a05-4476-9762-f5a77563c065",
   "metadata": {},
   "source": [
    "(가) 점 $P_1$의 좌표는 $(1,1)$이다. "
   ]
  },
  {
   "cell_type": "markdown",
   "id": "184b81f5-5844-484a-9964-94e90c0daac4",
   "metadata": {},
   "source": [
    "(나) 점 $P_n$의 좌표가 $(a,b)$일때, \n",
    "- $b<2^a$이면 점 $P_{n+1}$의 좌표는 $(a,b+1)$이고 \n",
    "- $b=2^a$이면 점 $P_{n+1}$의 좌표는 $(a+1,1)$이다. "
   ]
  },
  {
   "cell_type": "markdown",
   "id": "508bd2fb-4816-48d2-b192-6a6dcfa98da8",
   "metadata": {},
   "source": [
    "점 $P_n$의 좌표가 $(10,2^{10})$일 때, $n$의 값은? "
   ]
  },
  {
   "cell_type": "markdown",
   "id": "287d6d7f-b999-4aa5-a17a-7e1ff5a9d43b",
   "metadata": {},
   "source": [
    "(1) $2^{10}-2$\n",
    "\n",
    "(2) $2^{10}+2$\n",
    "\n",
    "(3) $2^{11}-2$\n",
    "\n",
    "(4) $2^{11}$\n",
    "\n",
    "(5) $2^{11}+2$"
   ]
  },
  {
   "cell_type": "markdown",
   "id": "673c7c8a-9f6d-47e1-9e8f-1134409c99b1",
   "metadata": {},
   "source": [
    "(풀이전략) "
   ]
  },
  {
   "cell_type": "markdown",
   "id": "7956bf6d-4c35-4e5f-8173-51416391c8eb",
   "metadata": {},
   "source": [
    "`-` $P_1$로부터 $P_2$를 구한다. \n",
    "\n",
    "`-` $P_2=(10,2^{10})$인지 체크 \n",
    "- 맞다면 $n=2$\n",
    "- 아니라면 아래를 진행 \n"
   ]
  },
  {
   "cell_type": "markdown",
   "id": "a81d6706-7065-4b53-9213-40fa47126a6c",
   "metadata": {},
   "source": [
    "`-` $P_2$에서 $P_3$을 구한다. "
   ]
  },
  {
   "cell_type": "markdown",
   "id": "8368d3b8-e572-4069-bd60-d1525674f15f",
   "metadata": {},
   "source": [
    "`-` $P_3=(10,2^{10})$인지 체크\n",
    "- 맞다면 n=3\n",
    "- 아니라면 아래를 진행"
   ]
  },
  {
   "cell_type": "markdown",
   "id": "37f356fb-ba43-4ad5-8f75-bce070ff7fa0",
   "metadata": {},
   "source": [
    "`-` ... "
   ]
  },
  {
   "cell_type": "markdown",
   "id": "01da70ed-26df-4222-8579-9b08b6bc662e",
   "metadata": {},
   "source": [
    "그래서 아래와 같은 로직이면 좋겠다. "
   ]
  },
  {
   "cell_type": "markdown",
   "id": "0d5eb21d-f1a9-405f-a5dc-dc2870bffd85",
   "metadata": {},
   "source": [
    "`-` for $n=1,2,\\dots, 2^{11}+2$까지 아래를 반복함 (단, $P_n=(10,2^{10})$인 경우에는 반복중지)\n",
    "```\n",
    "if Pn==(10,2^(10)) 인 경우: \n",
    "    반복문 탈출 \n",
    "else \n",
    "    반복할내용 \n",
    "```"
   ]
  },
  {
   "cell_type": "markdown",
   "id": "4e21728b-dc2a-4015-99fd-d0643df70ca1",
   "metadata": {},
   "source": [
    "(풀이) "
   ]
  },
  {
   "cell_type": "code",
   "execution_count": 27,
   "id": "b25c26c0-f1dd-4495-a045-6f1dc348c397",
   "metadata": {},
   "outputs": [
    {
     "name": "stdout",
     "output_type": "stream",
     "text": [
      "[1] 2046\n"
     ]
    }
   ],
   "source": [
    "a=c()\n",
    "b=c()\n",
    "a[1]=1\n",
    "b[1]=1\n",
    "for(n in 1:2^12){\n",
    "    if ((a[n]==10)&(b[n]==2^10)){\n",
    "        print(n)\n",
    "        break\n",
    "    }else{\n",
    "        ## 탈출못했을때 실행되는 코드 (실질적인 문제풀이\n",
    "        if(b[n]<2^(a[n])){\n",
    "            a[n+1]=a[n]\n",
    "            b[n+1]=b[n]+1\n",
    "        }else{\n",
    "            if(b[n]==2^(a[n])){\n",
    "                a[n+1]=a[n]+1\n",
    "                b[n+1]=1\n",
    "            }\n",
    "        }    \n",
    "    }\n",
    "}"
   ]
  },
  {
   "cell_type": "code",
   "execution_count": 30,
   "id": "ee0523c3-cf9f-43ee-bf3a-ccbd24abd095",
   "metadata": {},
   "outputs": [
    {
     "data": {
      "text/plain": [
       "[1] 1022 1026 2046 2048 2050"
      ]
     },
     "metadata": {},
     "output_type": "display_data"
    }
   ],
   "source": [
    "c(2^10-2 , 2^10+2 , 2^11-2 , 2^11 , 2^11+2)"
   ]
  },
  {
   "cell_type": "markdown",
   "id": "c6a355a2-d782-402e-911b-c52303ddef49",
   "metadata": {},
   "source": [
    "답은 3번"
   ]
  },
  {
   "cell_type": "markdown",
   "id": "6833b7a1-2b81-4885-926e-8520725810fd",
   "metadata": {},
   "source": [
    "### 반복문을 적당한 조건하에만 수행하는 방법"
   ]
  },
  {
   "cell_type": "markdown",
   "id": "3029a0a7-8109-47b8-b0d9-23262ffba8b2",
   "metadata": {},
   "source": [
    "(1) 방법1: for + break 를 적절하게 활용"
   ]
  },
  {
   "cell_type": "markdown",
   "id": "859bc52b-6d47-4485-b2b5-8d97c1adacfe",
   "metadata": {},
   "source": [
    "(2) 방법2: while 을 이용 "
   ]
  },
  {
   "cell_type": "code",
   "execution_count": 31,
   "id": "fbaa5cdb-530d-40fb-9a93-45f37ae14301",
   "metadata": {},
   "outputs": [
    {
     "name": "stdout",
     "output_type": "stream",
     "text": [
      "[1] \"x는음수\"\n",
      "[1] \"x는음수\"\n",
      "[1] \"x는음수\"\n",
      "[1] \"x는음수\"\n",
      "[1] \"x는음수\"\n"
     ]
    }
   ],
   "source": [
    "x= -5 \n",
    "while(x<0){\n",
    "    print('x는음수') \n",
    "    x= x+1 \n",
    "}"
   ]
  },
  {
   "cell_type": "markdown",
   "id": "c5882825-41d8-4a2f-b186-c2a79dd6df1b",
   "metadata": {},
   "source": [
    "### 숙제 "
   ]
  },
  {
   "cell_type": "markdown",
   "id": "f7063835-14e5-402e-9d83-7eaefdc6e1ab",
   "metadata": {},
   "source": [
    "`-` for + break를 활용하여 위와 같은 결과가 나오도록 코드를 작성하라. "
   ]
  },
  {
   "cell_type": "code",
   "execution_count": 1,
   "id": "d4936546-615b-4394-873d-b99f8da74a5c",
   "metadata": {},
   "outputs": [
    {
     "name": "stdout",
     "output_type": "stream",
     "text": [
      "[1] \"x는음수\"\n",
      "[1] \"x는음수\"\n",
      "[1] \"x는음수\"\n",
      "[1] \"x는음수\"\n",
      "[1] \"x는음수\"\n"
     ]
    }
   ],
   "source": [
    "for (x in -5:10){\n",
    "    if (????){\n",
    "        break\n",
    "    }else{\n",
    "        print('x는음수')\n",
    "        #x=x+1\n",
    "    }        \n",
    "}"
   ]
  },
  {
   "cell_type": "code",
   "execution_count": null,
   "id": "d4fced7d-eb71-49fc-9f03-d0fac1d351b9",
   "metadata": {},
   "outputs": [],
   "source": []
  }
 ],
 "metadata": {
  "kernelspec": {
   "display_name": "R",
   "language": "R",
   "name": "ir"
  },
  "language_info": {
   "codemirror_mode": "r",
   "file_extension": ".r",
   "mimetype": "text/x-r-source",
   "name": "R",
   "pygments_lexer": "r",
   "version": "4.0.5"
  }
 },
 "nbformat": 4,
 "nbformat_minor": 5
}
