{
 "cells": [
  {
   "cell_type": "markdown",
   "id": "e42a7601-bace-4fdf-ac38-a6cf3e90e12d",
   "metadata": {
    "tags": []
   },
   "source": [
    "# 시험관련 안내사항\n",
    "> 시험유형, 시험시간, 시험실 입장, 시험문제 공개방식, 제출방식, 준비물, 준비사항, 유의사항\n",
    "\n",
    "- toc:true\n",
    "- branch: master\n",
    "- badges: true\n",
    "- comments: true\n",
    "- author: 최규빈"
   ]
  }
 ],
 "metadata": {
  "kernelspec": {
   "display_name": "Python 3 (ipykernel)",
   "language": "python",
   "name": "python3"
  },
  "language_info": {
   "codemirror_mode": {
    "name": "ipython",
    "version": 3
   },
   "file_extension": ".py",
   "mimetype": "text/x-python",
   "name": "python",
   "nbconvert_exporter": "python",
   "pygments_lexer": "ipython3",
   "version": "3.8.12"
  }
 },
 "nbformat": 4,
 "nbformat_minor": 5
}
