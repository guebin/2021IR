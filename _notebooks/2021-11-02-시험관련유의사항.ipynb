{
 "cells": [
  {
   "cell_type": "markdown",
   "id": "e42a7601-bace-4fdf-ac38-a6cf3e90e12d",
   "metadata": {
    "tags": []
   },
   "source": [
    "# 시험관련 안내사항\n",
    "> 시험유형, 시험시간, 시험실 입장, 시험문제 공개방식, 제출방식, 준비물, 준비사항, 유의사항\n",
    "\n",
    "- toc:true\n",
    "- branch: master\n",
    "- badges: true\n",
    "- comments: true\n",
    "- author: 최규빈"
   ]
  },
  {
   "cell_type": "markdown",
   "id": "b6adab54-72f7-4de7-9a83-2a6e18f2a537",
   "metadata": {},
   "source": [
    "### 시험유형 \n",
    "\n",
    "`-` 오픈북: 강의노트, 본인이 정리한 노트, 인터넷 검색 가능\n",
    "\n",
    "`-` 비대면: Zoom을 활용하여 응시"
   ]
  },
  {
   "cell_type": "markdown",
   "id": "52e2ff92-469a-485c-89d1-5dcc730cd136",
   "metadata": {},
   "source": [
    "### 시험시간 \n",
    "\n",
    "`-` 일시: LMS를 통해 공지한 날의 수업시간\n",
    "\n",
    "`-` 시험시간 중 처음 30분은 장비점검시간으로 활용함 (단, 모든 사람이 준비될 경우 30분을 기다리지 않고 시작) "
   ]
  },
  {
   "cell_type": "markdown",
   "id": "e8fbc89a-4877-4596-8f72-492e577e122f",
   "metadata": {},
   "source": [
    "> Note: 따라서 2시간 수업일 경우 실질적으로 문제를 풀고 답안을 제출할때 까지 쓸 수 있는 시간은 1시간30분입니다."
   ]
  },
  {
   "cell_type": "markdown",
   "id": "15ae8a2f-8601-44dc-b013-59d9da9089c4",
   "metadata": {},
   "source": [
    "### 시험실 입장 "
   ]
  },
  {
   "cell_type": "markdown",
   "id": "bd144351-e80e-41c5-be98-91488da99f4f",
   "metadata": {},
   "source": [
    "`-` LMS $\\to$ 강의대화 $\\to$ Zoom 화상강의 바로 가기로 입장"
   ]
  },
  {
   "cell_type": "markdown",
   "id": "769b9f25-fd06-4580-97bc-c372010f487a",
   "metadata": {},
   "source": [
    "> Note: 입장시 본인의 실명을 사용하셔야 합니다. "
   ]
  },
  {
   "cell_type": "markdown",
   "id": "7fce749e-2487-45aa-990e-271f1e047baa",
   "metadata": {},
   "source": [
    "### 시험문제 공개방식 \n",
    "\n"
   ]
  },
  {
   "cell_type": "markdown",
   "id": "26b31909-6d12-4433-9522-5ddf0b333129",
   "metadata": {},
   "source": [
    "`-` Zoom의 채팅기능을 통하여 시험문제의 URL을 공개"
   ]
  },
  {
   "cell_type": "markdown",
   "id": "2e925afd-940d-4db7-82e7-b1e872a96260",
   "metadata": {},
   "source": [
    "### 제출방식 "
   ]
  },
  {
   "cell_type": "markdown",
   "id": "ea5a7c26-55e4-4911-8aa7-c991e47ebfcc",
   "metadata": {},
   "source": [
    "`-` LMS의 레포트 메뉴를 활용하여 답안지를 제출 (종료시간 이전에 미리 제출가능) "
   ]
  },
  {
   "cell_type": "markdown",
   "id": "68d55078-a299-400e-afcc-aa1db706e69f",
   "metadata": {},
   "source": [
    "### 준비물 "
   ]
  },
  {
   "cell_type": "markdown",
   "id": "9c28b782-3403-447e-96c9-195b46d071a4",
   "metadata": {},
   "source": [
    "`-` 컴퓨터 및 노트북: 시험지 확인 및 문제풀이 용도 "
   ]
  },
  {
   "cell_type": "markdown",
   "id": "2fbf7731-1b4e-446a-9016-0ae0a0dc128d",
   "metadata": {},
   "source": [
    "`-` 핸드폰: 주변상황을 촬영하고 Zoom을 연결하는 용도 "
   ]
  },
  {
   "cell_type": "markdown",
   "id": "53b51671-cd7a-444c-81a9-9310ab9a65fd",
   "metadata": {},
   "source": [
    "> Note: 중간에 핸드폰 및 노트북이 꺼지지 않도록 배터리 충전기를 준비한다. "
   ]
  },
  {
   "cell_type": "markdown",
   "id": "a838726c-5c4d-4785-85dd-8ceb614b7418",
   "metadata": {},
   "source": [
    "### 시험전 준비사항"
   ]
  },
  {
   "cell_type": "markdown",
   "id": "3d927e19-ff0a-4674-8639-ab885fe1f5a2",
   "metadata": {},
   "source": [
    "`-` 시험준비시간 동안 핸드폰을 아래와 같이 배치하여 학생의 컴퓨터 화면 및 주변상황이 보이도록 함 \n",
    "\n",
    "![](img.png)\n",
    "\n",
    "> Note: 적절한 각도를 설정하기 어려운 경우 주변환경보다 컴퓨터의 화면이 잘 보이도록 설정할 것 "
   ]
  },
  {
   "cell_type": "markdown",
   "id": "3f0be69d-1145-4da0-a033-f206b44ae158",
   "metadata": {},
   "source": [
    "`-` 학생증을 준비하여 시험 시작 직전에 본인의 얼굴과 학생증을 함께 촬영한다. (5초간) "
   ]
  },
  {
   "cell_type": "markdown",
   "id": "f139b43f-44e9-4bd7-976c-4f9804f6b580",
   "metadata": {},
   "source": [
    "### 유의사항"
   ]
  },
  {
   "cell_type": "markdown",
   "id": "1b7c84d4-6172-4091-8e49-d1956328c605",
   "metadata": {},
   "source": [
    "`-` 질문은 카카오톡 채널을 활용한다. "
   ]
  },
  {
   "cell_type": "markdown",
   "id": "4c86a54b-af99-4955-ad51-664faf276228",
   "metadata": {},
   "source": [
    "`-` Zoom에서 스피커 음소거를 하지 않는다. (전체 공지사항등이 있을때 음성으로 공지할 수 있음) "
   ]
  },
  {
   "cell_type": "markdown",
   "id": "8d12a10f-cd88-4b32-b8e1-613b5ca6e295",
   "metadata": {},
   "source": [
    "`-` 핸드폰으로 Zoom참가 중 전화가 오면 거절하고 받지 않는다. (전화통화시 Zoom연결이 종료되므로 부정행위로 의심할 수 있음) "
   ]
  }
 ],
 "metadata": {
  "kernelspec": {
   "display_name": "Python 3 (ipykernel)",
   "language": "python",
   "name": "python3"
  },
  "language_info": {
   "codemirror_mode": {
    "name": "ipython",
    "version": 3
   },
   "file_extension": ".py",
   "mimetype": "text/x-python",
   "name": "python",
   "nbconvert_exporter": "python",
   "pygments_lexer": "ipython3",
   "version": "3.8.12"
  }
 },
 "nbformat": 4,
 "nbformat_minor": 5
}
