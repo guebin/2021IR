{
 "cells": [
  {
   "cell_type": "code",
   "execution_count": 4,
   "id": "fb59c207-f358-4b3b-850a-273ddf7fe709",
   "metadata": {},
   "outputs": [],
   "source": [
    "#hide\n",
    "options(jupyter.plot_scale=3)\n",
    "options(jupyter.display_mimetypes=c(\"text/html\"))\n",
    "options(jupyter.rich_display=FALSE)\n",
    "options(repr.plot.width=6,repr.plot.height=6,repr.plot.res=300)\n",
    "options(max.print=200)"
   ]
  },
  {
   "cell_type": "code",
   "execution_count": 5,
   "id": "b2cc5115-6995-4884-9ec7-48cd9bd6632c",
   "metadata": {},
   "outputs": [],
   "source": [
    "library(tidyverse)"
   ]
  },
  {
   "cell_type": "markdown",
   "id": "0546262b-d3cd-4b1d-a8e3-8ec06546933e",
   "metadata": {
    "tags": []
   },
   "source": [
    "# (11주차) 11월23일\n",
    "> 징검다리 문제풀이 \n",
    "\n",
    "- toc:true\n",
    "- branch: master\n",
    "- badges: true\n",
    "- comments: true\n",
    "- author: 최규빈"
   ]
  },
  {
   "cell_type": "markdown",
   "id": "bae21e94-22ff-454b-ab6c-35bbb1a1b2ba",
   "metadata": {},
   "source": [
    "### 강의영상 \n",
    "\n",
    "> youtube: https://youtube.com/playlist?list=PLQqh36zP38-z7k3ibhZqzuqUl5QSEQrrr"
   ]
  },
  {
   "cell_type": "markdown",
   "id": "687e2cb6-af58-45ac-bf84-df7cfefe9e3a",
   "metadata": {},
   "source": [
    "`-` (1/3) 징검다리 문제풀이\n",
    "\n",
    "`-` (2/3) 징검다리 문제풀이\n",
    "\n",
    "`-` (3/3) 징검다리 문제풀이 "
   ]
  },
  {
   "cell_type": "markdown",
   "id": "ce5bf3c7-11a8-4e28-8aab-edc6448ce7e8",
   "metadata": {},
   "source": [
    "### 징검다리문제풀이 "
   ]
  },
  {
   "cell_type": "markdown",
   "id": "a94924f0-8d21-4718-8aa1-fb107fc37bc8",
   "metadata": {},
   "source": [
    "#### (풀이1) "
   ]
  },
  {
   "cell_type": "markdown",
   "id": "0dbeddb9-b25d-4347-96ec-b7251cb558bc",
   "metadata": {},
   "source": [
    "`-` (유리, 강화유리) "
   ]
  },
  {
   "cell_type": "code",
   "execution_count": 7,
   "id": "bd91fe9c-d4ba-4430-a625-94fb8d83bdef",
   "metadata": {},
   "outputs": [
    {
     "data": {
      "text/plain": [
       "[1] \"tempered glass\" \"glass\"         "
      ]
     },
     "metadata": {},
     "output_type": "display_data"
    }
   ],
   "source": [
    "set = c('tempered glass','glass')\n",
    "set"
   ]
  },
  {
   "cell_type": "markdown",
   "id": "16adf7e9-ab4c-4244-b44e-58815d1dcbf8",
   "metadata": {},
   "source": [
    "`-` `sample`을 이용하여 0.8의 확률로 강화유리를 뽑음 "
   ]
  },
  {
   "cell_type": "code",
   "execution_count": 11,
   "id": "362886ec-57a1-47b3-ba20-2473cebdfd86",
   "metadata": {},
   "outputs": [
    {
     "data": {
      "text/plain": [
       "[1] \"tempered glass\" \"tempered glass\" \"tempered glass\" \"glass\"         \n",
       "[5] \"tempered glass\""
      ]
     },
     "metadata": {},
     "output_type": "display_data"
    }
   ],
   "source": [
    "sample(size=5, set, prob=c(0.8,0.2),replace=T)"
   ]
  },
  {
   "cell_type": "markdown",
   "id": "1afaf918-921d-494e-af54-7eb3ddafc17b",
   "metadata": {},
   "source": [
    "`-` 함수로 보기좋게 만들자. "
   ]
  },
  {
   "cell_type": "code",
   "execution_count": 29,
   "id": "b2881fed-053f-4350-899a-b9016ce582f8",
   "metadata": {},
   "outputs": [],
   "source": [
    "simulate_once = function() sample(size=5, set, prob=c(0.8,0.2),replace=T) #입력이 없는 함수"
   ]
  },
  {
   "cell_type": "code",
   "execution_count": 38,
   "id": "2cfaa7e0-d5ee-4d8a-98d3-1d3e5dc73de7",
   "metadata": {},
   "outputs": [
    {
     "data": {
      "text/plain": [
       "[1] \"glass\"          \"tempered glass\" \"tempered glass\" \"tempered glass\"\n",
       "[5] \"tempered glass\""
      ]
     },
     "metadata": {},
     "output_type": "display_data"
    }
   ],
   "source": [
    "simulate_once()"
   ]
  },
  {
   "cell_type": "markdown",
   "id": "271015d6-7a1f-4e4b-8117-a51c84c36e39",
   "metadata": {},
   "source": [
    "`-` 뽑은결과를 바탕으로 사망유무를 판단"
   ]
  },
  {
   "cell_type": "code",
   "execution_count": 55,
   "id": "0f6d5ccb-be43-4272-985e-94d980be0781",
   "metadata": {},
   "outputs": [
    {
     "data": {
      "text/plain": [
       "[1] \"tempered glass\" \"tempered glass\" \"tempered glass\" \"glass\"         \n",
       "[5] \"tempered glass\""
      ]
     },
     "metadata": {},
     "output_type": "display_data"
    }
   ],
   "source": [
    "a = simulate_once()\n",
    "a"
   ]
  },
  {
   "cell_type": "code",
   "execution_count": 56,
   "id": "98d0ba38-e741-4202-b1a3-6b48305c645b",
   "metadata": {},
   "outputs": [
    {
     "data": {
      "text/plain": [
       "[1] FALSE"
      ]
     },
     "metadata": {},
     "output_type": "display_data"
    }
   ],
   "source": [
    "a[1] == \"tempered glass\" & \n",
    "a[2] == \"tempered glass\" & \n",
    "a[3] == \"tempered glass\" & \n",
    "a[4] == \"tempered glass\" & \n",
    "a[5] == \"tempered glass\" "
   ]
  },
  {
   "cell_type": "markdown",
   "id": "3f4b801e-3c6d-4ac1-9191-e3a77c4e6484",
   "metadata": {},
   "source": [
    "- 조건"
   ]
  },
  {
   "cell_type": "markdown",
   "id": "24122221-11cb-43d3-b1a5-cbec91a96321",
   "metadata": {},
   "source": [
    "`-` 위의 조건이 참이면 b=1, 참이 아니라면 b=0 "
   ]
  },
  {
   "cell_type": "code",
   "execution_count": 57,
   "id": "8d8a12e8-b943-4b8d-8dba-284d47ac052e",
   "metadata": {},
   "outputs": [],
   "source": [
    "if (a[1] == \"tempered glass\" &\n",
    "    a[2] == \"tempered glass\" & \n",
    "    a[3] == \"tempered glass\" & \n",
    "    a[4] == \"tempered glass\" & \n",
    "    a[5] == \"tempered glass\"){\n",
    "    b=1\n",
    "    }else{\n",
    "    b=0}    "
   ]
  },
  {
   "cell_type": "code",
   "execution_count": 58,
   "id": "ed224212-c94b-4831-b903-307e8c1d0dde",
   "metadata": {},
   "outputs": [
    {
     "data": {
      "text/plain": [
       "[1] 0"
      ]
     },
     "metadata": {},
     "output_type": "display_data"
    }
   ],
   "source": [
    "b"
   ]
  },
  {
   "cell_type": "markdown",
   "id": "e068a50c-3fcb-4c87-9124-556376321caa",
   "metadata": {},
   "source": [
    "`-` 함수로 정리하자. "
   ]
  },
  {
   "cell_type": "code",
   "execution_count": 59,
   "id": "11d6a061-4c26-4f35-9488-8f261a542b8d",
   "metadata": {},
   "outputs": [],
   "source": [
    "test = function(a){\n",
    "    if (a[1] == \"tempered glass\" &\n",
    "        a[2] == \"tempered glass\" & \n",
    "        a[3] == \"tempered glass\" & \n",
    "        a[4] == \"tempered glass\" & \n",
    "        a[5] == \"tempered glass\") b=1 else b=0 \n",
    "    b\n",
    "}"
   ]
  },
  {
   "cell_type": "code",
   "execution_count": 65,
   "id": "40a0eba6-2ef1-406f-abef-b2e08d35de6c",
   "metadata": {},
   "outputs": [
    {
     "name": "stdout",
     "output_type": "stream",
     "text": [
      "[1] \"tempered glass\" \"tempered glass\" \"tempered glass\" \"tempered glass\"\n",
      "[5] \"tempered glass\"\n"
     ]
    },
    {
     "data": {
      "text/plain": [
       "[1] 1"
      ]
     },
     "metadata": {},
     "output_type": "display_data"
    }
   ],
   "source": [
    "a=simulate_once()\n",
    "print(a)\n",
    "test(a)"
   ]
  },
  {
   "cell_type": "markdown",
   "id": "2e560369-cd5f-40a9-b5be-905091a54774",
   "metadata": {},
   "source": [
    "`-` 답을 구해보자 "
   ]
  },
  {
   "cell_type": "code",
   "execution_count": 77,
   "id": "c8fad8a7-727e-4843-b10c-cba0e507a178",
   "metadata": {},
   "outputs": [],
   "source": [
    "sum_ = 0 \n",
    "for (i in 1:1000) sum_ = sum_ + test(simulate_once()) "
   ]
  },
  {
   "cell_type": "code",
   "execution_count": 78,
   "id": "499ef7aa-6b79-4654-93ed-85c7225a50dd",
   "metadata": {},
   "outputs": [
    {
     "data": {
      "text/plain": [
       "[1] 322"
      ]
     },
     "metadata": {},
     "output_type": "display_data"
    }
   ],
   "source": [
    "sum_"
   ]
  },
  {
   "cell_type": "markdown",
   "id": "63f7028f-4e22-4134-ba51-4334aed00425",
   "metadata": {},
   "source": [
    "#### (풀이2) "
   ]
  },
  {
   "cell_type": "markdown",
   "id": "6bcb962b-ea78-4005-a7a1-4ba2a2792feb",
   "metadata": {},
   "source": [
    "`-` 시행결과를 벡터로하는 편이 좋겠다. "
   ]
  },
  {
   "cell_type": "code",
   "execution_count": 88,
   "id": "92ecd0c3-b0e2-4af9-8600-fbd21a321db4",
   "metadata": {},
   "outputs": [],
   "source": [
    "set = c('tempered glass','glass')\n",
    "simulate_once = function() sample(size=5, set, prob=c(0.8,0.2),replace=T) #입력이 없는 함수\n",
    "test = function(a){\n",
    "    if (a[1] == \"tempered glass\" &\n",
    "        a[2] == \"tempered glass\" & \n",
    "        a[3] == \"tempered glass\" & \n",
    "        a[4] == \"tempered glass\" & \n",
    "        a[5] == \"tempered glass\") b=1 else b=0 \n",
    "    b\n",
    "}\n",
    "# sum_ = 0 \n",
    "# for (i in 1:1000) sum_ = sum_ + test(simulate_once())  컨트롤+/ (Rstudio: 컨트롤+쉬프트+c) \n",
    "rslt = c()\n",
    "for (i in 1:1000) rslt[i] = test(simulate_once())"
   ]
  },
  {
   "cell_type": "code",
   "execution_count": 89,
   "id": "86db2e21-26b0-4eed-878e-a74bf5ebace1",
   "metadata": {},
   "outputs": [
    {
     "data": {
      "text/plain": [
       "  [1] 0 0 0 0 0 0 0 0 0 0 1 1 0 0 1 0 1 0 1 0 0 0 0 1 0 0 0 0 0 0 0 0 0 0 0 1 0\n",
       " [38] 0 0 0 1 0 0 0 1 1 0 0 1 0 1 0 0 1 0 1 0 1 0 0 0 0 1 0 0 1 0 0 0 0 0 0 1 1\n",
       " [75] 0 1 1 1 1 0 1 1 1 0 1 0 0 1 0 1 1 0 1 0 0 1 0 0 0 0 0 0 1 0 0 0 0 0 1 1 0\n",
       "[112] 0 0 1 0 1 0 1 0 1 0 0 0 0 1 0 0 0 1 1 1 0 1 0 0 0 0 0 1 0 0 0 1 0 0 0 1 1\n",
       "[149] 1 0 0 0 0 1 0 0 1 1 1 0 0 1 1 1 0 1 0 1 0 0 1 0 1 1 0 1 0 1 0 0 1 1 1 0 0\n",
       "[186] 0 1 0 0 1 0 0 1 0 0 0 0 0 1 0\n",
       " [ reached getOption(\"max.print\") -- omitted 800 entries ]"
      ]
     },
     "metadata": {},
     "output_type": "display_data"
    }
   ],
   "source": [
    "rslt"
   ]
  },
  {
   "cell_type": "code",
   "execution_count": 90,
   "id": "dcb85682-4d3a-44b7-9292-a51fffbe460b",
   "metadata": {},
   "outputs": [
    {
     "data": {
      "text/plain": [
       "[1] 317"
      ]
     },
     "metadata": {},
     "output_type": "display_data"
    }
   ],
   "source": [
    "sum(rslt)"
   ]
  },
  {
   "cell_type": "markdown",
   "id": "8f0e5ffe-3bef-4e26-ba21-c7c3a1056ebf",
   "metadata": {},
   "source": [
    "#### (풀이3) "
   ]
  },
  {
   "cell_type": "markdown",
   "id": "67b99586-310c-42d4-b74b-4ab42b96cd63",
   "metadata": {},
   "source": [
    "`-` 시뮬레이션 결과를 매트릭스에 저장하면 더 디버깅이 용이하다. "
   ]
  },
  {
   "cell_type": "code",
   "execution_count": 92,
   "id": "7ad7c359-aeb8-4731-bd0d-e0213c93deaf",
   "metadata": {},
   "outputs": [
    {
     "data": {
      "text/plain": [
       "     [,1] [,2] [,3] [,4] [,5]\n",
       "[1,] 0    0    0    0    0   \n",
       "[2,] 0    0    0    0    0   \n",
       "[3,] 0    0    0    0    0   \n",
       "[4,] 0    0    0    0    0   \n",
       "[5,] 0    0    0    0    0   \n",
       "[6,] 0    0    0    0    0   "
      ]
     },
     "metadata": {},
     "output_type": "display_data"
    }
   ],
   "source": [
    "mat = rep(0,1000*5) \n",
    "dim(mat) = c(1000,5) \n",
    "head(mat)"
   ]
  },
  {
   "cell_type": "code",
   "execution_count": 93,
   "id": "b5d5f03f-9962-422d-ac11-2ce67ef10471",
   "metadata": {},
   "outputs": [
    {
     "data": {
      "text/plain": [
       "[1] 0 0 0 0 0"
      ]
     },
     "metadata": {},
     "output_type": "display_data"
    }
   ],
   "source": [
    "mat[1,] "
   ]
  },
  {
   "cell_type": "code",
   "execution_count": 94,
   "id": "430d6cd3-d0f4-4114-81b0-b627f322f194",
   "metadata": {},
   "outputs": [],
   "source": [
    "mat[1,] = simulate_once() "
   ]
  },
  {
   "cell_type": "code",
   "execution_count": 95,
   "id": "ac8929a2-4a6c-47af-a7dc-b43c5b6c2dbf",
   "metadata": {},
   "outputs": [
    {
     "data": {
      "text/plain": [
       "     [,1]  [,2]           [,3]           [,4]           [,5] \n",
       "[1,] glass tempered glass tempered glass tempered glass glass\n",
       "[2,] 0     0              0              0              0    \n",
       "[3,] 0     0              0              0              0    \n",
       "[4,] 0     0              0              0              0    \n",
       "[5,] 0     0              0              0              0    \n",
       "[6,] 0     0              0              0              0    "
      ]
     },
     "metadata": {},
     "output_type": "display_data"
    }
   ],
   "source": [
    "head(mat)"
   ]
  },
  {
   "cell_type": "code",
   "execution_count": 110,
   "id": "0f6440ef-ea66-4f17-82b0-8cb4a63863d4",
   "metadata": {},
   "outputs": [],
   "source": [
    "for (i in 1:1000) mat[i,] = simulate_once() "
   ]
  },
  {
   "cell_type": "code",
   "execution_count": 111,
   "id": "c207f16c-487d-438b-829e-83c66dbf9715",
   "metadata": {},
   "outputs": [
    {
     "data": {
      "text/plain": [
       "     [,1]           [,2]           [,3]           [,4]           [,5]          \n",
       "[1,] tempered glass tempered glass tempered glass tempered glass tempered glass\n",
       "[2,] glass          tempered glass tempered glass tempered glass glass         \n",
       "[3,] tempered glass tempered glass tempered glass tempered glass tempered glass\n",
       "[4,] tempered glass tempered glass tempered glass tempered glass tempered glass\n",
       "[5,] tempered glass tempered glass glass          glass          tempered glass\n",
       "[6,] tempered glass tempered glass tempered glass glass          tempered glass"
      ]
     },
     "metadata": {},
     "output_type": "display_data"
    }
   ],
   "source": [
    "head(mat)"
   ]
  },
  {
   "cell_type": "code",
   "execution_count": 112,
   "id": "d1f73891-5d7b-490c-80dd-dc8a30f669ff",
   "metadata": {},
   "outputs": [],
   "source": [
    "rslt=c() \n",
    "for (i in 1:1000) rslt[i] = test(mat[i,])"
   ]
  },
  {
   "cell_type": "code",
   "execution_count": 113,
   "id": "aa187895-6c74-4b54-886a-c952de4a8689",
   "metadata": {},
   "outputs": [
    {
     "data": {
      "text/plain": [
       "[1] 1 0 1 1 0"
      ]
     },
     "metadata": {},
     "output_type": "display_data"
    }
   ],
   "source": [
    "rslt[1:5]"
   ]
  },
  {
   "cell_type": "code",
   "execution_count": 114,
   "id": "73c59b2d-88eb-4284-bcba-c60a39647fc0",
   "metadata": {},
   "outputs": [
    {
     "data": {
      "text/plain": [
       "     [,1]           [,2]           [,3]           [,4]           [,5]          \n",
       "[1,] tempered glass tempered glass tempered glass tempered glass tempered glass\n",
       "[2,] glass          tempered glass tempered glass tempered glass glass         \n",
       "[3,] tempered glass tempered glass tempered glass tempered glass tempered glass\n",
       "[4,] tempered glass tempered glass tempered glass tempered glass tempered glass\n",
       "[5,] tempered glass tempered glass glass          glass          tempered glass"
      ]
     },
     "metadata": {},
     "output_type": "display_data"
    }
   ],
   "source": [
    "mat[1:5,]"
   ]
  },
  {
   "cell_type": "markdown",
   "id": "bc4a77f8-539f-4d44-9e65-7855c8ef68d6",
   "metadata": {},
   "source": [
    "`-` 정리하면 "
   ]
  },
  {
   "cell_type": "code",
   "execution_count": 115,
   "id": "d18711fb-37c8-40e8-982b-b42b365ae167",
   "metadata": {},
   "outputs": [
    {
     "data": {
      "text/plain": [
       "[1] 329"
      ]
     },
     "metadata": {},
     "output_type": "display_data"
    }
   ],
   "source": [
    "set = c('tempered glass','glass')\n",
    "simulate_once = function() sample(size=5, set, prob=c(0.8,0.2),replace=T) #입력이 없는 함수\n",
    "test = function(a){\n",
    "    if (a[1] == \"tempered glass\" &\n",
    "        a[2] == \"tempered glass\" & \n",
    "        a[3] == \"tempered glass\" & \n",
    "        a[4] == \"tempered glass\" & \n",
    "        a[5] == \"tempered glass\") b=1 else b=0 \n",
    "    b\n",
    "}\n",
    "mat = rep(0,1000*5) \n",
    "dim(mat) = c(1000,5) \n",
    "rslt = c()\n",
    "# for (i in 1:1000) rslt[i] = test(simulate_once())\n",
    "for (i in 1:1000){\n",
    "    mat[i,] = simulate_once() \n",
    "    rslt[i] = test(mat[i,])\n",
    "}\n",
    "sum(rslt)"
   ]
  },
  {
   "cell_type": "markdown",
   "id": "669d00e6-4011-4eb7-8d77-b455cdf438eb",
   "metadata": {},
   "source": [
    "#### (풀이4) "
   ]
  },
  {
   "cell_type": "markdown",
   "id": "bf78d477-b52c-4b05-b304-0bd54c695c64",
   "metadata": {},
   "source": [
    "`-` 어차피 mat 매트릭스만 만들면 되니까"
   ]
  },
  {
   "cell_type": "code",
   "execution_count": 120,
   "id": "282f5111-b006-46a1-8997-821d510e0d6a",
   "metadata": {},
   "outputs": [],
   "source": [
    "set = c('tempered glass','glass')\n",
    "mat= sample(size=1000*5, set, prob=c(0.8,0.2),replace=T) #입력이 없는 함수\n",
    "dim(mat)=c(1000,5) "
   ]
  },
  {
   "cell_type": "code",
   "execution_count": 121,
   "id": "80ae85db-b060-455f-8856-ea07834a4cf7",
   "metadata": {},
   "outputs": [
    {
     "data": {
      "text/plain": [
       "     [,1]           [,2]           [,3]           [,4]           [,5]          \n",
       "[1,] glass          tempered glass glass          tempered glass tempered glass\n",
       "[2,] tempered glass tempered glass glass          tempered glass glass         \n",
       "[3,] tempered glass tempered glass tempered glass glass          glass         \n",
       "[4,] tempered glass tempered glass tempered glass glass          tempered glass\n",
       "[5,] tempered glass tempered glass tempered glass tempered glass tempered glass\n",
       "[6,] tempered glass tempered glass tempered glass tempered glass tempered glass"
      ]
     },
     "metadata": {},
     "output_type": "display_data"
    }
   ],
   "source": [
    "head(mat)"
   ]
  },
  {
   "cell_type": "code",
   "execution_count": 122,
   "id": "802c7eec-e421-462b-ac3d-5b19e4c1502f",
   "metadata": {},
   "outputs": [
    {
     "data": {
      "text/plain": [
       "[1] 326"
      ]
     },
     "metadata": {},
     "output_type": "display_data"
    }
   ],
   "source": [
    "test = function(a){\n",
    "    if (a[1] == \"tempered glass\" &\n",
    "        a[2] == \"tempered glass\" & \n",
    "        a[3] == \"tempered glass\" & \n",
    "        a[4] == \"tempered glass\" & \n",
    "        a[5] == \"tempered glass\") b=1 else b=0 \n",
    "    b\n",
    "}\n",
    "rslt = c()\n",
    "for (i in 1:1000){\n",
    "    rslt[i] = test(mat[i,])\n",
    "}\n",
    "sum(rslt)"
   ]
  },
  {
   "cell_type": "markdown",
   "id": "b3727b68-f3fc-4043-9338-84efce265e48",
   "metadata": {},
   "source": [
    "#### (풀이5)"
   ]
  },
  {
   "cell_type": "markdown",
   "id": "bc0f44c6-52ee-4fb6-b2a0-82280dd51abc",
   "metadata": {},
   "source": [
    "`-` 매트릭스의 원소가 꼭 문자열일 필요는 없는것 같음 "
   ]
  },
  {
   "cell_type": "code",
   "execution_count": 123,
   "id": "fa163437-ae54-4f2a-b16a-af93a0e46567",
   "metadata": {},
   "outputs": [],
   "source": [
    "set = c(1,0)\n",
    "mat= sample(size=1000*5, set, prob=c(0.8,0.2),replace=T) #입력이 없는 함수\n",
    "dim(mat)=c(1000,5) "
   ]
  },
  {
   "cell_type": "code",
   "execution_count": 124,
   "id": "eab544ad-e558-4d62-a56e-54b855622638",
   "metadata": {},
   "outputs": [
    {
     "data": {
      "text/plain": [
       "     [,1] [,2] [,3] [,4] [,5]\n",
       "[1,] 1    1    1    1    1   \n",
       "[2,] 1    0    1    1    1   \n",
       "[3,] 1    1    1    1    1   \n",
       "[4,] 0    1    1    0    1   \n",
       "[5,] 1    1    1    1    1   \n",
       "[6,] 0    1    1    1    1   "
      ]
     },
     "metadata": {},
     "output_type": "display_data"
    }
   ],
   "source": [
    "head(mat)"
   ]
  },
  {
   "cell_type": "code",
   "execution_count": 125,
   "id": "db30a83f-8347-4b08-a9e9-810117e33004",
   "metadata": {},
   "outputs": [
    {
     "data": {
      "text/plain": [
       "[1] 355"
      ]
     },
     "metadata": {},
     "output_type": "display_data"
    }
   ],
   "source": [
    "test = function(a){\n",
    "    if (a[1] == 1 &\n",
    "        a[2] == 1 & \n",
    "        a[3] == 1 & \n",
    "        a[4] == 1 & \n",
    "        a[5] == 1) b=1 else b=0 \n",
    "    b\n",
    "}\n",
    "rslt = c()\n",
    "for (i in 1:1000){\n",
    "    rslt[i] = test(mat[i,])\n",
    "}\n",
    "sum(rslt)"
   ]
  },
  {
   "cell_type": "markdown",
   "id": "e671f97f-17b9-476b-964b-7610b6a1bc6c",
   "metadata": {},
   "source": [
    "`-` 조건도 아래와 같이 간소화할 수있다. "
   ]
  },
  {
   "cell_type": "code",
   "execution_count": 126,
   "id": "512a0ab0-cd3d-428a-9726-86a161065277",
   "metadata": {},
   "outputs": [
    {
     "data": {
      "text/plain": [
       "[1] 355"
      ]
     },
     "metadata": {},
     "output_type": "display_data"
    }
   ],
   "source": [
    "test = function(a){\n",
    "    if (sum(a)==5) b=1 else b=0 \n",
    "    b\n",
    "}\n",
    "rslt = c()\n",
    "for (i in 1:1000){\n",
    "    rslt[i] = test(mat[i,])\n",
    "}\n",
    "sum(rslt)"
   ]
  },
  {
   "cell_type": "markdown",
   "id": "5ad88c79-7e47-43ea-b6b8-b317220f9d3c",
   "metadata": {},
   "source": [
    "`-` 아래와 같이 바꿔도 가능 "
   ]
  },
  {
   "cell_type": "code",
   "execution_count": 134,
   "id": "ec1886e1-7bc1-483e-a509-2ba4284fa789",
   "metadata": {},
   "outputs": [
    {
     "data": {
      "text/plain": [
       "[1] 355"
      ]
     },
     "metadata": {},
     "output_type": "display_data"
    }
   ],
   "source": [
    "test = function(a){\n",
    "    if (prod(a)==1) b=1 else b=0 \n",
    "    b\n",
    "}\n",
    "rslt = c()\n",
    "for (i in 1:1000){\n",
    "    rslt[i] = test(mat[i,])\n",
    "}\n",
    "sum(rslt)"
   ]
  },
  {
   "cell_type": "markdown",
   "id": "8fcdeb75-3a89-4994-b94a-7ff8232f2a30",
   "metadata": {},
   "source": [
    "`-` test함수 자체도 아래와 같이 간소화 가능 "
   ]
  },
  {
   "cell_type": "code",
   "execution_count": 139,
   "id": "6b872b07-ca31-4034-b6ef-983fbb3f6888",
   "metadata": {},
   "outputs": [],
   "source": [
    "test = function(a){\n",
    "    prod(c(1,0,1,1,1))==1\n",
    "}"
   ]
  },
  {
   "cell_type": "markdown",
   "id": "bf5968d7-7439-4e5e-a659-7782e7a151ca",
   "metadata": {},
   "source": [
    "`-` 정리하면 "
   ]
  },
  {
   "cell_type": "code",
   "execution_count": 140,
   "id": "5b2e7e10-f1b9-4ec4-8961-caea80940781",
   "metadata": {},
   "outputs": [
    {
     "data": {
      "text/plain": [
       "     [,1] [,2] [,3] [,4] [,5]\n",
       "[1,] 1    1    1    1    1   \n",
       "[2,] 1    1    1    0    1   \n",
       "[3,] 0    0    1    1    1   \n",
       "[4,] 1    1    1    1    1   \n",
       "[5,] 1    0    1    0    1   \n",
       "[6,] 0    1    0    1    1   "
      ]
     },
     "metadata": {},
     "output_type": "display_data"
    }
   ],
   "source": [
    "set = c(1,0)\n",
    "mat= sample(size=1000*5, set, prob=c(0.8,0.2),replace=T) #입력이 없는 함수\n",
    "dim(mat)=c(1000,5) \n",
    "head(mat)"
   ]
  },
  {
   "cell_type": "code",
   "execution_count": 142,
   "id": "c28bfd85-c3be-4831-b6bb-c0c65a8ca11d",
   "metadata": {},
   "outputs": [
    {
     "data": {
      "text/plain": [
       "[1] 334"
      ]
     },
     "metadata": {},
     "output_type": "display_data"
    }
   ],
   "source": [
    "test = function(a) prod(a)==1\n",
    "rslt = c()\n",
    "for (i in 1:1000){\n",
    "    rslt[i] = test(mat[i,])\n",
    "}\n",
    "sum(rslt)"
   ]
  },
  {
   "cell_type": "markdown",
   "id": "7330a881-69f1-4f3f-9f25-86b3d45f6c14",
   "metadata": {},
   "source": [
    "#### (풀이6) "
   ]
  },
  {
   "cell_type": "markdown",
   "id": "7c41b31e-1596-49b7-b6af-52156bd7e087",
   "metadata": {},
   "source": [
    "`-` 숫자로 만들고 보니까 베르누이로 뽑아도 괜찮을 것 같다. "
   ]
  },
  {
   "cell_type": "code",
   "execution_count": 155,
   "id": "5bd63dd0-4911-45dc-a9d9-aa5445cda9a3",
   "metadata": {},
   "outputs": [
    {
     "data": {
      "text/plain": [
       "[1] 1 1 1 1 1"
      ]
     },
     "metadata": {},
     "output_type": "display_data"
    }
   ],
   "source": [
    "rbinom(5,size=1,prob=0.8) # 하나의행 "
   ]
  },
  {
   "cell_type": "markdown",
   "id": "69982564-ad79-4424-864d-577a5e894074",
   "metadata": {},
   "source": [
    "- set을 만들 필요가 없음 "
   ]
  },
  {
   "cell_type": "code",
   "execution_count": 157,
   "id": "5961f00f-37d6-4e9a-877d-e82ff9803133",
   "metadata": {},
   "outputs": [
    {
     "data": {
      "text/plain": [
       "     [,1] [,2] [,3] [,4] [,5]\n",
       "[1,] 1    1    1    1    0   \n",
       "[2,] 1    1    1    1    1   \n",
       "[3,] 1    1    1    1    1   \n",
       "[4,] 1    1    0    1    1   \n",
       "[5,] 1    1    1    1    0   \n",
       "[6,] 1    1    1    1    1   "
      ]
     },
     "metadata": {},
     "output_type": "display_data"
    }
   ],
   "source": [
    "mat = rbinom(1000*5,size=1,prob=0.8) \n",
    "dim(mat)=c(1000,5) \n",
    "head(mat)"
   ]
  },
  {
   "cell_type": "code",
   "execution_count": 158,
   "id": "76e66fdb-6aee-41c8-abcf-2f5df877c47e",
   "metadata": {},
   "outputs": [
    {
     "data": {
      "text/plain": [
       "[1] 341"
      ]
     },
     "metadata": {},
     "output_type": "display_data"
    }
   ],
   "source": [
    "test = function(a) prod(a)==1\n",
    "rslt = c()\n",
    "for (i in 1:1000){\n",
    "    rslt[i] = test(mat[i,])\n",
    "}\n",
    "sum(rslt)"
   ]
  },
  {
   "cell_type": "markdown",
   "id": "4bf90802-64ab-49bf-a314-28e32be92235",
   "metadata": {},
   "source": [
    "#### (풀이7)"
   ]
  },
  {
   "cell_type": "markdown",
   "id": "54f3685f-8cd1-4d47-9415-dd9698cad789",
   "metadata": {},
   "source": [
    "`-` 매트릭스 옆에 결과를 붙여보자. "
   ]
  },
  {
   "cell_type": "code",
   "execution_count": 160,
   "id": "49cf0c3d-72b3-4124-b1d6-ba204e5e1c6b",
   "metadata": {},
   "outputs": [
    {
     "data": {
      "text/plain": [
       "     [,1] [,2] [,3] [,4] [,5]\n",
       "[1,] 1    1    1    1    1   \n",
       "[2,] 1    0    1    1    1   \n",
       "[3,] 1    1    1    0    1   \n",
       "[4,] 1    1    0    0    1   \n",
       "[5,] 1    0    0    1    0   \n",
       "[6,] 0    1    1    0    1   "
      ]
     },
     "metadata": {},
     "output_type": "display_data"
    }
   ],
   "source": [
    "mat = rbinom(1000*5,size=1,prob=0.8) \n",
    "dim(mat)=c(1000,5) \n",
    "head(mat)"
   ]
  },
  {
   "cell_type": "code",
   "execution_count": 162,
   "id": "4975ed0f-f112-4d15-87b7-808b9ba05baf",
   "metadata": {},
   "outputs": [],
   "source": [
    "test = function(a) prod(a)==1\n",
    "rslt = c()\n",
    "for (i in 1:1000){\n",
    "    rslt[i] = test(mat[i,])\n",
    "}"
   ]
  },
  {
   "cell_type": "code",
   "execution_count": 169,
   "id": "e6f7f7ae-74e5-477d-89e8-94f7697d6b9b",
   "metadata": {},
   "outputs": [
    {
     "data": {
      "text/plain": [
       "                rslt\n",
       " [1,] 1 1 1 1 1 1   \n",
       " [2,] 1 0 1 1 1 0   \n",
       " [3,] 1 1 1 0 1 0   \n",
       " [4,] 1 1 0 0 1 0   \n",
       " [5,] 1 0 0 1 0 0   \n",
       " [6,] 0 1 1 0 1 0   \n",
       " [7,] 1 1 0 0 1 0   \n",
       " [8,] 0 1 1 1 1 0   \n",
       " [9,] 1 1 1 1 1 1   \n",
       "[10,] 0 1 1 0 1 0   \n",
       "[11,] 1 1 1 0 1 0   \n",
       "[12,] 0 1 1 1 0 0   \n",
       "[13,] 1 1 1 1 1 1   \n",
       "[14,] 1 1 1 0 0 0   \n",
       "[15,] 1 1 1 1 1 1   \n",
       "[16,] 1 1 1 1 1 1   \n",
       "[17,] 1 1 1 1 1 1   \n",
       "[18,] 1 1 1 1 1 1   \n",
       "[19,] 0 1 1 1 1 0   \n",
       "[20,] 0 1 1 1 0 0   "
      ]
     },
     "metadata": {},
     "output_type": "display_data"
    }
   ],
   "source": [
    "cbind(mat,rslt)[1:20,]"
   ]
  },
  {
   "cell_type": "markdown",
   "id": "5c2ac328-2add-4f9b-b1eb-f3f982ae28ff",
   "metadata": {},
   "source": [
    "#### (풀이8) for문을 하나도 사용하지 않은 풀이"
   ]
  },
  {
   "cell_type": "markdown",
   "id": "b343e440-42c0-46ef-8514-e36a726d6b91",
   "metadata": {},
   "source": [
    "`-` 매트릭스의 각 row에 어떠한 함수를 반복적으로 적용하는 형태임 $\\to$ apply "
   ]
  },
  {
   "cell_type": "code",
   "execution_count": 172,
   "id": "28dec1ba-cae5-4623-88f3-cff71741923f",
   "metadata": {},
   "outputs": [
    {
     "data": {
      "text/plain": [
       "     [,1] [,2] [,3] [,4] [,5]\n",
       "[1,] 0    1    1    1    1   \n",
       "[2,] 0    1    0    1    1   \n",
       "[3,] 1    1    0    1    1   \n",
       "[4,] 1    1    1    1    1   \n",
       "[5,] 0    1    1    0    0   \n",
       "[6,] 1    1    0    1    1   "
      ]
     },
     "metadata": {},
     "output_type": "display_data"
    }
   ],
   "source": [
    "mat = rbinom(1000*5,size=1,prob=0.8) \n",
    "dim(mat)=c(1000,5) \n",
    "head(mat)"
   ]
  },
  {
   "cell_type": "code",
   "execution_count": 181,
   "id": "0449691c-b938-4b40-a2c5-6da43a9bd659",
   "metadata": {},
   "outputs": [
    {
     "data": {
      "text/plain": [
       "[1] 331"
      ]
     },
     "metadata": {},
     "output_type": "display_data"
    }
   ],
   "source": [
    "sum(apply(mat,1,test))"
   ]
  },
  {
   "cell_type": "code",
   "execution_count": 182,
   "id": "d757b98b-e70f-45bd-ad70-50a60b63c03b",
   "metadata": {},
   "outputs": [
    {
     "data": {
      "text/plain": [
       "[1] 331"
      ]
     },
     "metadata": {},
     "output_type": "display_data"
    }
   ],
   "source": [
    "apply(mat,1,test) %>% sum"
   ]
  },
  {
   "cell_type": "code",
   "execution_count": 183,
   "id": "67aa59d8-c3e5-4a4a-8a81-fdb883adcb5c",
   "metadata": {},
   "outputs": [
    {
     "data": {
      "text/plain": [
       "[1] 331"
      ]
     },
     "metadata": {},
     "output_type": "display_data"
    }
   ],
   "source": [
    "mat %>% apply(1,test) %>% sum"
   ]
  },
  {
   "cell_type": "markdown",
   "id": "940f010d-01eb-46a3-bad0-37fc16ab30d5",
   "metadata": {},
   "source": [
    "#### (풀이9) "
   ]
  },
  {
   "cell_type": "markdown",
   "id": "ee777967-93d9-4412-8313-6d4a54fde43b",
   "metadata": {},
   "source": [
    "`-` 바이노미알 이용: 어차피 베르누이의 합은 바이노미알이라고 했음 "
   ]
  },
  {
   "cell_type": "code",
   "execution_count": 187,
   "id": "6ab09cfe-9b64-4580-b82d-e57fd4302c6c",
   "metadata": {},
   "outputs": [
    {
     "data": {
      "text/plain": [
       "[1] 344"
      ]
     },
     "metadata": {},
     "output_type": "display_data"
    }
   ],
   "source": [
    "sum(rbinom(1000,size=5,p=0.8)==5)"
   ]
  },
  {
   "cell_type": "markdown",
   "id": "7a5e7f3a-7689-4d90-b409-f8467adb395d",
   "metadata": {},
   "source": [
    "### 숙제 "
   ]
  },
  {
   "cell_type": "markdown",
   "id": "f28f55c6-e697-4e61-a103-0e70ecb356c7",
   "metadata": {},
   "source": [
    "**징검다리 문제**"
   ]
  },
  {
   "cell_type": "markdown",
   "id": "eaa99649-a4b5-4f87-b505-6c72178e1aeb",
   "metadata": {},
   "source": [
    "강화유리와 유리를 랜덤으로 찍는 참가자가 2명 있다고 하자. (따라서 강화유리를 고를 확률이 50%이다.) "
   ]
  },
  {
   "cell_type": "markdown",
   "id": "8ffbf9bc-3dde-4ce0-be53-359de361c198",
   "metadata": {},
   "source": [
    "(강화유리, 유리)의 징검다리가 3개 있다고 하자. (따라서 총 6개의 유리가 있고, 3번연속으로 강화유리를 고르면 2명 모두 살아남는다) "
   ]
  },
  {
   "cell_type": "markdown",
   "id": "e80ec47c-96b3-4508-a35b-044bbec3e5c0",
   "metadata": {},
   "source": [
    "8000번의 시뮬레이션을 하였을 경우 아래의 질문에 답하라. "
   ]
  },
  {
   "cell_type": "markdown",
   "id": "543804f1-fda5-4ef1-a89b-a597f35bad64",
   "metadata": {},
   "source": [
    "(질문1) 2명 모두 살아남는 경우는 몇번인가? 약 1000번 \n",
    "\n",
    "(질문2) 1명만 살아남는 경우는 몇번정도인가? 약 3000번 정도.. "
   ]
  },
  {
   "cell_type": "markdown",
   "id": "da192661-a6e9-4b83-8e9c-e90eec1d1f3b",
   "metadata": {},
   "source": [
    "***(풀이)***"
   ]
  },
  {
   "cell_type": "markdown",
   "id": "7d243d4a-0e8a-4652-b619-432e7d5d111d",
   "metadata": {},
   "source": [
    "질문1: 확률이 0.5인 시행을 3번하여 3번 모두 성공하는 경우 "
   ]
  },
  {
   "cell_type": "code",
   "execution_count": 1,
   "id": "bbea3e4a-2c73-4085-9331-2e9ae50f5662",
   "metadata": {},
   "outputs": [
    {
     "data": {
      "text/html": [
       "1034"
      ],
      "text/latex": [
       "1034"
      ],
      "text/markdown": [
       "1034"
      ],
      "text/plain": [
       "[1] 1034"
      ]
     },
     "metadata": {},
     "output_type": "display_data"
    }
   ],
   "source": [
    "sum(rbinom(8000,size=3,p=0.5)==3) "
   ]
  },
  {
   "cell_type": "markdown",
   "id": "e33bb201-8124-4566-907c-030a7f756e77",
   "metadata": {},
   "source": [
    "질문2: 확률이 0.5인 시행을 3번하여 2번 성공하는 경우 "
   ]
  },
  {
   "cell_type": "code",
   "execution_count": 2,
   "id": "8a310f07-7f0c-4a6c-9610-a7bce9bc32b6",
   "metadata": {},
   "outputs": [
    {
     "data": {
      "text/html": [
       "3044"
      ],
      "text/latex": [
       "3044"
      ],
      "text/markdown": [
       "3044"
      ],
      "text/plain": [
       "[1] 3044"
      ]
     },
     "metadata": {},
     "output_type": "display_data"
    }
   ],
   "source": [
    "sum(rbinom(8000,size=3,p=0.5)==2) "
   ]
  }
 ],
 "metadata": {
  "kernelspec": {
   "display_name": "R",
   "language": "R",
   "name": "ir"
  },
  "language_info": {
   "codemirror_mode": "r",
   "file_extension": ".r",
   "mimetype": "text/x-r-source",
   "name": "R",
   "pygments_lexer": "r",
   "version": "4.0.5"
  }
 },
 "nbformat": 4,
 "nbformat_minor": 5
}
