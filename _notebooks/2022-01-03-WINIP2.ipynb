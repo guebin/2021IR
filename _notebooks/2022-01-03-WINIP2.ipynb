{
 "cells": [
  {
   "cell_type": "markdown",
   "id": "60bc6179-e186-424f-9a82-cbbb609d08ce",
   "metadata": {},
   "source": [
    "# 파이썬입문 겨울방학 특강 (2)"
   ]
  },
  {
   "cell_type": "markdown",
   "id": "dc5ef602-a42e-4472-9386-2d49963a4784",
   "metadata": {},
   "source": [
    "`-` 오늘오전: 자료형, 오브젝트 .. \n",
    "\n",
    "`-` 오늘오후: 참조, 얕은복사, 깊은복사 \n",
    "\n",
    "`-` 내일오전: 뷰와 카피 \n",
    "\n",
    "`-` 내일오후: 개발환경 비교 "
   ]
  },
  {
   "cell_type": "markdown",
   "id": "6f61d1b7-1292-40d0-a285-482316fe508d",
   "metadata": {},
   "source": [
    "### 참조와 에일리어싱 "
   ]
  },
  {
   "cell_type": "markdown",
   "id": "56760684-c0c3-4d5b-af0d-684eadae9eda",
   "metadata": {},
   "source": [
    "`-` 아래의 코드를 관찰하자. "
   ]
  },
  {
   "cell_type": "code",
   "execution_count": 1,
   "id": "e945f043-6d51-47db-bf32-6426a7d8a276",
   "metadata": {},
   "outputs": [],
   "source": [
    "a=[1,2,3]\n",
    "b=a\n",
    "a=a+[4]"
   ]
  },
  {
   "cell_type": "markdown",
   "id": "3647fa62-c7f8-4ee6-bb3a-26268cc91b9a",
   "metadata": {},
   "source": [
    "현재 a,b의 출력결과는? "
   ]
  },
  {
   "cell_type": "code",
   "execution_count": 6,
   "id": "4ef6dfe6-46b9-4a6f-b177-416b137cc9e0",
   "metadata": {},
   "outputs": [
    {
     "data": {
      "text/plain": [
       "([1, 2, 3, 4], [1, 2, 3])"
      ]
     },
     "execution_count": 6,
     "metadata": {},
     "output_type": "execute_result"
    }
   ],
   "source": [
    "a,b"
   ]
  },
  {
   "cell_type": "markdown",
   "id": "e88d4ad8-e334-4e00-83e1-b4889103d05a",
   "metadata": {},
   "source": [
    "`-` 이제 다시 아래의 코드를 관찰하자. "
   ]
  },
  {
   "cell_type": "code",
   "execution_count": 7,
   "id": "a2153fde-f567-40a9-8ae8-c0aa05246f4f",
   "metadata": {},
   "outputs": [],
   "source": [
    "a=[1,2,3]\n",
    "b=a\n",
    "a.append(4) "
   ]
  },
  {
   "cell_type": "code",
   "execution_count": 8,
   "id": "b8c45b46-e35f-4666-891b-00d621c24dce",
   "metadata": {},
   "outputs": [
    {
     "data": {
      "text/plain": [
       "([1, 2, 3, 4], [1, 2, 3, 4])"
      ]
     },
     "execution_count": 8,
     "metadata": {},
     "output_type": "execute_result"
    }
   ],
   "source": [
    "a,b"
   ]
  },
  {
   "cell_type": "markdown",
   "id": "958dda78-6789-439b-acce-6dcc047fe01f",
   "metadata": {},
   "source": [
    "`-` 아래의 코드를 다시 살펴보자. "
   ]
  },
  {
   "cell_type": "markdown",
   "id": "41535763-aee8-4163-821e-dd11bf4fca78",
   "metadata": {},
   "source": [
    "```python\n",
    "a=[1,2,3]\n",
    "b=a\n",
    "a.append(4)\n",
    "```"
   ]
  },
  {
   "cell_type": "markdown",
   "id": "b66077ff-7dbb-4737-a970-59f4694e27b3",
   "metadata": {},
   "source": [
    "a,b라는 변수들은 메모리에 어떻게 저장이 되어있을까? "
   ]
  },
  {
   "cell_type": "markdown",
   "id": "feb1e8dd-67c6-4ef2-ba24-b174a40e6b7c",
   "metadata": {},
   "source": [
    "상상력을 조금 발휘하면 아래와 같이 여길 수 있다. "
   ]
  },
  {
   "cell_type": "markdown",
   "id": "679390f7-6159-41e7-b006-e124e7d09fd2",
   "metadata": {},
   "source": [
    "(1) 메모리는 변수를 담을 방이 여러개 있는 호텔이라고 생각하자. "
   ]
  },
  {
   "cell_type": "markdown",
   "id": "9293ece3-a342-42aa-a512-de665b378354",
   "metadata": {},
   "source": [
    "(2) 아래를 실행하였을 경우 \n",
    "```python\n",
    "a=[1,2,3]\n",
    "```\n",
    "- 메모리주소1에 존재하는 방을 a라고 하고, 그 방에 [1,2,3]을 넣는다. "
   ]
  },
  {
   "cell_type": "markdown",
   "id": "d9f50727-c348-4a8d-93b4-41021894ef38",
   "metadata": {},
   "source": [
    "(3) 아래를 실행하였을 경우 \n",
    "```python\n",
    "b=a\n",
    "```\n",
    "- 메모리주소38에 존재하는 방을 b라고 하고, 그 방에 a를 넣어야하는데, a는 [1,2,3]이니까 [1,2,3]을 넣는다. "
   ]
  },
  {
   "cell_type": "markdown",
   "id": "f62fab30-a28a-48d8-9760-536d09667c08",
   "metadata": {},
   "source": [
    "(4) 아래를 실행하면 \n",
    "```python\n",
    "a.append(4)\n",
    "```\n",
    "- 방 a로가서 [1,2,3]을 [1,2,3,4]로 바꾼다. \n",
    "- 그리고 방 b에는 아무것도 하지 않는다. "
   ]
  },
  {
   "cell_type": "markdown",
   "id": "110d9c14-4a7b-45df-9323-f6d99edee05f",
   "metadata": {},
   "source": [
    "`-` R에서는 맞는 비유인데, 파이썬은 적절하지 않은 비유이다. "
   ]
  },
  {
   "cell_type": "code",
   "execution_count": 11,
   "id": "d42ec846-365e-4ed3-a313-1e6e5a652e18",
   "metadata": {},
   "outputs": [
    {
     "data": {
      "text/plain": [
       "139851743661952"
      ]
     },
     "execution_count": 11,
     "metadata": {},
     "output_type": "execute_result"
    }
   ],
   "source": [
    "id(a)"
   ]
  },
  {
   "cell_type": "code",
   "execution_count": 12,
   "id": "d65f4d2e-5480-46c7-97d7-d1d059d474c3",
   "metadata": {},
   "outputs": [
    {
     "data": {
      "text/plain": [
       "139851743661952"
      ]
     },
     "execution_count": 12,
     "metadata": {},
     "output_type": "execute_result"
    }
   ],
   "source": [
    "id(b)"
   ]
  },
  {
   "cell_type": "markdown",
   "id": "91bd4f4b-8e90-4ca3-9fb7-debdb18ca7c8",
   "metadata": {},
   "source": [
    "실제로는 a,b가 저장된 메모리 주소가 동일함 "
   ]
  },
  {
   "cell_type": "markdown",
   "id": "1c2d03e8-9b24-4899-a388-1e870ee25c1a",
   "metadata": {},
   "source": [
    "`-` 파이썬에서는 아래가 더 적절한 비유이다. "
   ]
  },
  {
   "cell_type": "markdown",
   "id": "07543542-3c4b-44bf-84c3-efb7a01079ac",
   "metadata": {},
   "source": [
    "(1) 메모리는 변수를 담을 방이 여러개 있는 호텔이라고 생각하자. "
   ]
  },
  {
   "cell_type": "markdown",
   "id": "4b1ec1d8-f867-4a04-8edd-af9c31f0a232",
   "metadata": {},
   "source": [
    "(2) 아래를 실행하였을 경우 \n",
    "```python\n",
    "a=[1,2,3]\n",
    "```\n",
    "- 메모리주소139851743661952에서 [1,2,3]을 생성해요 \n",
    "- 방 139851743661952의 방문에 a라는 포스트잇을 붙인다. \n",
    "- 앞으로 [1,2,3]에 접근하기 위해서는 여러 메모리방중에서 a라는 포스트잇이 붙은 방을 찾아가면 된다. "
   ]
  },
  {
   "cell_type": "markdown",
   "id": "f31f5368-c852-44a9-8d00-3fd94e11aa58",
   "metadata": {},
   "source": [
    "(3) 아래를 실행하였을 경우 \n",
    "```python\n",
    "b=a\n",
    "```\n",
    "- a라는 포스트잇이 있는데, a라는 포스트잇이랑 b라는 포스트잇과 같은 효과를 주도록 한다. \n",
    "- 쉽게말하면 b라는 포스트잇을 방 139851743661952의 방문에 붙인다는 이야기. \n",
    "- 앞으로 [1,2,3]에 접근하기 위해서는 여러 메모리방중에서 a라는 포스트잇이 붙어 있거나 b라는 포스트잇이 붙어있는 방을 찾아가면 된다. "
   ]
  },
  {
   "cell_type": "markdown",
   "id": "2cf744b1-6627-4268-973e-38044d868e8f",
   "metadata": {},
   "source": [
    "(4) 아래를 실행하면 \n",
    "```python\n",
    "a.append(4)\n",
    "```\n",
    "- a라는 포스트잇이 붙어있는 방으로 가서, 그 내용물 append함수를 써서 4를 추가하라. 즉 내용물 [1,2,3]을 [1,2,3,4]로 바꾸라. \n",
    "- 같은방에 a,b라는 포스트잇이 모두 붙어있음. 따라서 b라는 포스트잇이 붙은 방을 찾아가서 내용물을 열어보면 [1,2,3,4]가 나온다. "
   ]
  },
  {
   "cell_type": "markdown",
   "id": "b34e9953-4d7d-44d7-95f0-2f80d0fa78cb",
   "metadata": {},
   "source": [
    "### 할당문(=)의 이해 "
   ]
  },
  {
   "cell_type": "markdown",
   "id": "7e4cbd8f-78b6-4588-93ee-e38c4fdb5380",
   "metadata": {},
   "source": [
    "`-` 파이썬에서 할당문을 이해하기 위해서는 언제나 오른쪽을 먼저 읽어야 한다. \n",
    "- 할당문의 오른쪽에서는 객체를 생성하거나 가져옴\n",
    "- 그 후에 라벨을 붙이듯이 할당문 왼쪽의 변수가 할당문 오른쪽의 객체에 바인딩 된다. (참조)"
   ]
  },
  {
   "cell_type": "markdown",
   "id": "32db7d78-86de-44fc-9eeb-2d768638bb7c",
   "metadata": {},
   "source": [
    "`-` `b=a`는 \n",
    "\n",
    "> 나는 이미 a가 의미하는게 무엇인지 알고있어. 그런데 그 실체를 b라고도 부르고 싶어. \n",
    "\n",
    "라는 것과 같다. 즉 이미 a라고 부르고 있는것을 내가 b라고도 부르고싶다는 의미인데 이는 마치 별명과 같다. (b는 a의 별명, alias) 그리고 이처럼 하나의 오브젝트에 여러개의 이름을 붙이는 것을 에일리어싱이라고 부른다. "
   ]
  },
  {
   "cell_type": "markdown",
   "id": "0686cbbe-1d76-4403-8753-f68440035844",
   "metadata": {},
   "source": [
    "`-` 참조: 하나의 메모리 주소에 변수의 이름을 바인딩하는 것을 참조라고 한다. "
   ]
  },
  {
   "cell_type": "markdown",
   "id": "01837f51-2c27-4ad4-b4fd-7ddd5fe0d2b3",
   "metadata": {},
   "source": [
    "`-` 에일리어싱: 하나의 메모리 주소에 여러개의 변수이름을 바인딩 하는 것을 에일리어싱이라고 한다. "
   ]
  },
  {
   "cell_type": "markdown",
   "id": "0cc34293-b662-4eeb-9efb-44b1579d9d38",
   "metadata": {},
   "source": [
    "### id, value "
   ]
  },
  {
   "cell_type": "markdown",
   "id": "daa4c14a-a596-4ba4-8dc1-98d82fb938a5",
   "metadata": {},
   "source": [
    "`-` 아래의 예제를 살펴보자. "
   ]
  },
  {
   "cell_type": "code",
   "execution_count": 16,
   "id": "dbd2931d-9d86-4a18-ace9-af84281e8cab",
   "metadata": {},
   "outputs": [],
   "source": [
    "a=[1,2,3]\n",
    "b=a\n",
    "a.append(4)\n",
    "c=[1,2,3,4]"
   ]
  },
  {
   "cell_type": "markdown",
   "id": "d0b10539-30a8-4a60-ae70-f007d6198b23",
   "metadata": {},
   "source": [
    "여기에서 a,b,c는 모두 같은 value를 가진다. "
   ]
  },
  {
   "cell_type": "code",
   "execution_count": 17,
   "id": "5a59a0c2-a803-4832-98b0-6726d073ff4e",
   "metadata": {},
   "outputs": [
    {
     "data": {
      "text/plain": [
       "[1, 2, 3, 4]"
      ]
     },
     "execution_count": 17,
     "metadata": {},
     "output_type": "execute_result"
    }
   ],
   "source": [
    "a"
   ]
  },
  {
   "cell_type": "code",
   "execution_count": 18,
   "id": "251f2456-cd1a-4ac4-bfb1-ccf3eeee9863",
   "metadata": {},
   "outputs": [
    {
     "data": {
      "text/plain": [
       "[1, 2, 3, 4]"
      ]
     },
     "execution_count": 18,
     "metadata": {},
     "output_type": "execute_result"
    }
   ],
   "source": [
    "b"
   ]
  },
  {
   "cell_type": "code",
   "execution_count": 19,
   "id": "cf187744-4f09-433c-a3d9-3891e87b5334",
   "metadata": {},
   "outputs": [
    {
     "data": {
      "text/plain": [
       "[1, 2, 3, 4]"
      ]
     },
     "execution_count": 19,
     "metadata": {},
     "output_type": "execute_result"
    }
   ],
   "source": [
    "c"
   ]
  },
  {
   "cell_type": "markdown",
   "id": "bbe49350-760e-450e-b5fc-cc0ad55a0cae",
   "metadata": {},
   "source": [
    "하지만 그 id까지 같은 것은 아니다. "
   ]
  },
  {
   "cell_type": "code",
   "execution_count": 20,
   "id": "dddd3673-e689-483f-9174-8f13a79fd270",
   "metadata": {},
   "outputs": [
    {
     "data": {
      "text/plain": [
       "(139851739924096, 139851739924096, 139851742724800)"
      ]
     },
     "execution_count": 20,
     "metadata": {},
     "output_type": "execute_result"
    }
   ],
   "source": [
    "id(a), id(b), id(c)"
   ]
  },
  {
   "cell_type": "markdown",
   "id": "a1776be9-445c-4504-9fa1-7464cf880490",
   "metadata": {},
   "source": [
    "`-` 이제 다시 아래의 코드를 살펴보자. "
   ]
  },
  {
   "cell_type": "code",
   "execution_count": 31,
   "id": "648cb555-6aa4-459a-a81e-b38533a69a7c",
   "metadata": {},
   "outputs": [],
   "source": [
    "a=[1,2,3] \n",
    "b=a \n",
    "a=[1,2,3]+[4] "
   ]
  },
  {
   "cell_type": "code",
   "execution_count": 32,
   "id": "0a2352b6-3e9e-4b7d-adc8-b694a4873b86",
   "metadata": {},
   "outputs": [
    {
     "data": {
      "text/plain": [
       "([1, 2, 3, 4], [1, 2, 3])"
      ]
     },
     "execution_count": 32,
     "metadata": {},
     "output_type": "execute_result"
    }
   ],
   "source": [
    "a,b"
   ]
  },
  {
   "cell_type": "code",
   "execution_count": 33,
   "id": "d58e7d47-db56-4072-9d43-8488e9a62811",
   "metadata": {},
   "outputs": [
    {
     "data": {
      "text/plain": [
       "(139851742145536, 139851743152000)"
      ]
     },
     "execution_count": 33,
     "metadata": {},
     "output_type": "execute_result"
    }
   ],
   "source": [
    "id(a),id(b)"
   ]
  },
  {
   "cell_type": "markdown",
   "id": "93259a82-def2-47fb-a532-0c98755a071c",
   "metadata": {},
   "source": [
    "### 이터닝 "
   ]
  },
  {
   "cell_type": "markdown",
   "id": "16c5191b-8073-4bfc-b268-faa2fe3634f7",
   "metadata": {},
   "source": [
    "`-` 참조의 개념은 확실하게 알겠음. 이제 아래의 예제를 살펴보자. "
   ]
  },
  {
   "cell_type": "code",
   "execution_count": 34,
   "id": "b9e33d9e-1142-4547-bb8a-02fb072adab2",
   "metadata": {},
   "outputs": [
    {
     "data": {
      "text/plain": [
       "139852067748208"
      ]
     },
     "execution_count": 34,
     "metadata": {},
     "output_type": "execute_result"
    }
   ],
   "source": [
    "a=1+2 \n",
    "id(a)"
   ]
  },
  {
   "cell_type": "code",
   "execution_count": 35,
   "id": "4f9c91ac-c3be-4d57-a3e5-0e6fd7717f85",
   "metadata": {},
   "outputs": [
    {
     "data": {
      "text/plain": [
       "139852067748208"
      ]
     },
     "execution_count": 35,
     "metadata": {},
     "output_type": "execute_result"
    }
   ],
   "source": [
    "b=4-1\n",
    "id(b)"
   ]
  },
  {
   "cell_type": "markdown",
   "id": "c86f9e08-163c-4be8-9ad3-702806c82c62",
   "metadata": {},
   "source": [
    "이게 왜 똑같지..? "
   ]
  },
  {
   "cell_type": "markdown",
   "id": "fa6f25b2-b9ff-475c-8add-b6653cba1ebc",
   "metadata": {},
   "source": [
    "(해설) 파이썬의 경우 효율성을 위해서 -5~256까지의 정수를 미리 저장해둠. "
   ]
  },
  {
   "cell_type": "code",
   "execution_count": 42,
   "id": "161ac0b4-b6cd-4508-9772-48cadafd1eac",
   "metadata": {},
   "outputs": [
    {
     "data": {
      "text/plain": [
       "139852067748816"
      ]
     },
     "execution_count": 42,
     "metadata": {},
     "output_type": "execute_result"
    }
   ],
   "source": [
    "id(22)"
   ]
  },
  {
   "cell_type": "markdown",
   "id": "2a15a6b2-6e62-4048-b1c3-ded579da5e30",
   "metadata": {},
   "source": [
    "`-` 이제 아래의 예제를 살펴보자. "
   ]
  },
  {
   "cell_type": "code",
   "execution_count": 43,
   "id": "9de735da-bf2b-43eb-b86f-b4ce6273cc17",
   "metadata": {},
   "outputs": [
    {
     "data": {
      "text/plain": [
       "139851741177168"
      ]
     },
     "execution_count": 43,
     "metadata": {},
     "output_type": "execute_result"
    }
   ],
   "source": [
    "a=1+2021\n",
    "id(a)"
   ]
  },
  {
   "cell_type": "code",
   "execution_count": 69,
   "id": "cc586f95-ce6d-4792-a004-1003c8f0fc52",
   "metadata": {},
   "outputs": [
    {
     "data": {
      "text/plain": [
       "139851741254000"
      ]
     },
     "execution_count": 69,
     "metadata": {},
     "output_type": "execute_result"
    }
   ],
   "source": [
    "b=2023-1\n",
    "id(b)"
   ]
  },
  {
   "cell_type": "code",
   "execution_count": 72,
   "id": "22973fcd-4ca4-463e-ab08-8a9e99014d91",
   "metadata": {},
   "outputs": [
    {
     "data": {
      "text/plain": [
       "139851741254256"
      ]
     },
     "execution_count": 72,
     "metadata": {},
     "output_type": "execute_result"
    }
   ],
   "source": [
    "id(2021)"
   ]
  },
  {
   "cell_type": "code",
   "execution_count": null,
   "id": "cfa97bb2-c955-4067-9c21-9e9eb19ef03e",
   "metadata": {},
   "outputs": [],
   "source": []
  },
  {
   "cell_type": "code",
   "execution_count": null,
   "id": "60cb1e1e-93f2-4b6e-8d13-10615c84ac11",
   "metadata": {},
   "outputs": [],
   "source": []
  }
 ],
 "metadata": {
  "kernelspec": {
   "display_name": "Python 3",
   "language": "python",
   "name": "python3"
  },
  "language_info": {
   "codemirror_mode": {
    "name": "ipython",
    "version": 3
   },
   "file_extension": ".py",
   "mimetype": "text/x-python",
   "name": "python",
   "nbconvert_exporter": "python",
   "pygments_lexer": "ipython3",
   "version": "3.9.7"
  },
  "widgets": {
   "application/vnd.jupyter.widget-state+json": {
    "state": {},
    "version_major": 2,
    "version_minor": 0
   }
  }
 },
 "nbformat": 4,
 "nbformat_minor": 5
}
