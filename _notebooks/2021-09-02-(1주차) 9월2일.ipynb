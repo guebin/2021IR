{
 "cells": [
  {
   "cell_type": "markdown",
   "id": "08ea9bba-8860-4966-84ef-aa24325f3858",
   "metadata": {},
   "source": [
    "# (1주차) 9월2일 \n",
    "> R 입문 소개, R을 활용한 간단한 계산\n",
    "\n",
    "- toc:true\n",
    "- branch: master\n",
    "- badges: true\n",
    "- comments: true\n",
    "- author: 최규빈"
   ]
  },
  {
   "cell_type": "markdown",
   "id": "8e932eaf-b14f-4a53-bbc1-d4c0dda17d1b",
   "metadata": {
    "tags": []
   },
   "source": [
    "### 강의영상"
   ]
  },
  {
   "cell_type": "markdown",
   "id": "f8328d60-bca2-4462-a85e-59fc6c9e4cc8",
   "metadata": {},
   "source": [
    "> youtube: https://youtube.com/playlist?list=PLQqh36zP38-xMprBRWFn5rpr-WqXW_cPr"
   ]
  },
  {
   "cell_type": "markdown",
   "id": "1b2e1a58-8c73-412f-b318-2fc43fd6dbf7",
   "metadata": {},
   "source": [
    "`-` (1/3): R소개 , R을 활용한 간단한 계산\n",
    "\n",
    "`-` (2/3): 통계학과 진로, 통계학과의 장점, 강의계획안내 \n",
    "\n",
    "`-` (3/3): R설치방법, **과제안내** "
   ]
  },
  {
   "cell_type": "markdown",
   "id": "bd20e8d9-aa36-411a-9ffb-1b477960cb93",
   "metadata": {
    "tags": []
   },
   "source": [
    "### 레포트\n",
    "\n",
    "`-` [카카오톡 스샷제출](https://ieilms.jbnu.ac.kr/)"
   ]
  }
 ],
 "metadata": {
  "kernelspec": {
   "display_name": "Python 3",
   "language": "python",
   "name": "python3"
  },
  "language_info": {
   "codemirror_mode": {
    "name": "ipython",
    "version": 3
   },
   "file_extension": ".py",
   "mimetype": "text/x-python",
   "name": "python",
   "nbconvert_exporter": "python",
   "pygments_lexer": "ipython3",
   "version": "3.8.8"
  }
 },
 "nbformat": 4,
 "nbformat_minor": 5
}
