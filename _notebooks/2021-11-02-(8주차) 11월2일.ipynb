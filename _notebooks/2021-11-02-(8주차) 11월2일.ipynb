{
 "cells": [
  {
   "cell_type": "code",
   "execution_count": 7,
   "id": "2f914549-4baa-4898-8fe4-6b90f2a1d040",
   "metadata": {},
   "outputs": [],
   "source": [
    "#hide\n",
    "options(jupyter.plot_scale=3)\n",
    "options(jupyter.display_mimetypes=c(\"text/html\"))\n",
    "options(jupyter.rich_display=FALSE)\n",
    "options(repr.plot.width=6,repr.plot.height=6,repr.plot.res=300)\n",
    "options(max.print=1000)"
   ]
  },
  {
   "cell_type": "markdown",
   "id": "fbce518b-ebf0-4e66-98fd-a278a5f34fe2",
   "metadata": {
    "tags": []
   },
   "source": [
    "# (8주차) 11월2일\n",
    "> 벡터, 매트릭스, 데이터프레임(티블) \n",
    "\n",
    "- toc:true\n",
    "- branch: master\n",
    "- badges: true\n",
    "- comments: true\n",
    "- author: 최규빈"
   ]
  },
  {
   "cell_type": "markdown",
   "id": "b402176c-72ec-4245-af24-82dfc5b84089",
   "metadata": {},
   "source": [
    "### 강의영상 "
   ]
  },
  {
   "cell_type": "markdown",
   "id": "e2bc6c79-8321-406d-ba31-ce502d93eefc",
   "metadata": {},
   "source": [
    ">youtube: https://youtube.com/playlist?list=PLQqh36zP38-yFBqu5BmNT_6Q6ZuArkSNS"
   ]
  },
  {
   "cell_type": "markdown",
   "id": "9dbf5fba-e3d2-4696-af2c-e7bb9677ce9e",
   "metadata": {},
   "source": [
    "`-` (1/4) 중간고사 대비 설명 (1)\n",
    "\n",
    "`-` (2/4) 중간고사 대비 설명 (2) \n",
    "\n",
    "`-` (3/4) 백터/매트릭스의 결합\n",
    "\n",
    "`-` (4/4) 매트릭스 원소선택, 벡터관련 연산, 매트릭스 관련연산, 티블(데이터프레임) \n",
    "\n"
   ]
  },
  {
   "cell_type": "markdown",
   "id": "a105373f-3bd6-4b75-9e3d-babdb32881b9",
   "metadata": {
    "tags": []
   },
   "source": [
    "### %>% "
   ]
  },
  {
   "cell_type": "markdown",
   "id": "0d46e9f8-e5c8-4b78-b6c2-9fa314382903",
   "metadata": {},
   "source": [
    "`-` tidyverse중 하나의 dplyr의 기능 "
   ]
  },
  {
   "cell_type": "code",
   "execution_count": 19,
   "id": "d25d186d-b3d6-4302-bfc7-7272447d3fd6",
   "metadata": {},
   "outputs": [],
   "source": [
    "library(dplyr)"
   ]
  },
  {
   "cell_type": "markdown",
   "id": "799e2c07-b8dd-45e4-bb75-940de3b2e9a8",
   "metadata": {},
   "source": [
    "`-` 예시1"
   ]
  },
  {
   "cell_type": "code",
   "execution_count": 20,
   "id": "cc8453d7-0526-4931-ac48-d71f4bf750ab",
   "metadata": {},
   "outputs": [],
   "source": [
    "f<-function(x) x+2 "
   ]
  },
  {
   "cell_type": "code",
   "execution_count": 21,
   "id": "9ce08648-d20d-410e-9566-6205ce0b8692",
   "metadata": {},
   "outputs": [
    {
     "data": {
      "text/plain": [
       "[1] 4"
      ]
     },
     "metadata": {},
     "output_type": "display_data"
    }
   ],
   "source": [
    "f(2)"
   ]
  },
  {
   "cell_type": "code",
   "execution_count": 22,
   "id": "06f983b5-08fb-47ca-bc87-2b95d922fa72",
   "metadata": {},
   "outputs": [
    {
     "data": {
      "text/plain": [
       "[1] 4"
      ]
     },
     "metadata": {},
     "output_type": "display_data"
    }
   ],
   "source": [
    "2 %>% f "
   ]
  },
  {
   "cell_type": "markdown",
   "id": "31836d76-8b1d-4b22-8725-e8696a824617",
   "metadata": {},
   "source": [
    "`-` 예시2"
   ]
  },
  {
   "cell_type": "code",
   "execution_count": 23,
   "id": "5aae687c-57d2-4a5b-ae56-08c8e6310209",
   "metadata": {},
   "outputs": [],
   "source": [
    "f<-function(x,y) x**2+y "
   ]
  },
  {
   "cell_type": "code",
   "execution_count": 24,
   "id": "4f56f7bd-c407-4aa4-b197-328eb1d7dd66",
   "metadata": {},
   "outputs": [
    {
     "data": {
      "text/plain": [
       "[1] 7"
      ]
     },
     "metadata": {},
     "output_type": "display_data"
    }
   ],
   "source": [
    "f(2,3)"
   ]
  },
  {
   "cell_type": "code",
   "execution_count": 25,
   "id": "38676371-9beb-43ed-82c9-896016700145",
   "metadata": {},
   "outputs": [
    {
     "data": {
      "text/plain": [
       "[1] 7"
      ]
     },
     "metadata": {},
     "output_type": "display_data"
    }
   ],
   "source": [
    "2 %>% f(3) "
   ]
  },
  {
   "cell_type": "code",
   "execution_count": 26,
   "id": "e59f9c5a-8a84-4cd3-b407-d2654048acfc",
   "metadata": {},
   "outputs": [
    {
     "data": {
      "text/plain": [
       "[1] 11"
      ]
     },
     "metadata": {},
     "output_type": "display_data"
    }
   ],
   "source": [
    "3 %>% f(2)"
   ]
  },
  {
   "cell_type": "markdown",
   "id": "5669adec-c429-4d3a-9c81-5e3ad59bb4c8",
   "metadata": {},
   "source": [
    "`-` 포인트: 함수의 첫번째 입력이 %>% 의 왼쪽의 결과로 생각한다. \n",
    "- 하나의 입력만 받는 함수라면 함수이름만 쓸 수 있다!\n",
    "- 첫입력을 생략한다는 것이 포인트!"
   ]
  },
  {
   "cell_type": "markdown",
   "id": "dcada254-68ab-403f-b6d6-7ae74a76f75c",
   "metadata": {},
   "source": [
    "### 두 개 이상의 벡터, 행렬을 결합"
   ]
  },
  {
   "cell_type": "markdown",
   "id": "0ecf4dfd-c710-43f9-ad26-fd645ecf9d67",
   "metadata": {},
   "source": [
    "#### 벡터의 결합"
   ]
  },
  {
   "cell_type": "markdown",
   "id": "1e470a4d-46de-49fc-b859-b787a75d5418",
   "metadata": {},
   "source": [
    "`-` 예제1"
   ]
  },
  {
   "cell_type": "code",
   "execution_count": 28,
   "id": "a70dae42-613d-482b-87f3-e428249ea391",
   "metadata": {},
   "outputs": [],
   "source": [
    "x<-c(1,2,3)\n",
    "y<-c(1,2,3,4)"
   ]
  },
  {
   "cell_type": "code",
   "execution_count": 29,
   "id": "70e8fa20-007c-4fc4-8191-567d4bcdeb13",
   "metadata": {},
   "outputs": [
    {
     "data": {
      "text/plain": [
       "[1] 1 2 3"
      ]
     },
     "metadata": {},
     "output_type": "display_data"
    }
   ],
   "source": [
    "x"
   ]
  },
  {
   "cell_type": "code",
   "execution_count": 30,
   "id": "efc0ae63-44b1-4dbb-b046-20edc5c47884",
   "metadata": {},
   "outputs": [
    {
     "data": {
      "text/plain": [
       "[1] 1 2 3 4"
      ]
     },
     "metadata": {},
     "output_type": "display_data"
    }
   ],
   "source": [
    "y"
   ]
  },
  {
   "cell_type": "code",
   "execution_count": 31,
   "id": "8c71fd82-880d-4ce1-8bc7-a73d292c2a3a",
   "metadata": {},
   "outputs": [
    {
     "data": {
      "text/plain": [
       "[1] 1 2 3 1 2 3 4"
      ]
     },
     "metadata": {},
     "output_type": "display_data"
    }
   ],
   "source": [
    "c(x,y)"
   ]
  },
  {
   "cell_type": "code",
   "execution_count": 32,
   "id": "b3d338c4-52fb-4db2-a394-d39e953b7f9c",
   "metadata": {},
   "outputs": [
    {
     "data": {
      "text/plain": [
       "[1] 1 2 3 4 1 2 3"
      ]
     },
     "metadata": {},
     "output_type": "display_data"
    }
   ],
   "source": [
    "c(y,x)"
   ]
  },
  {
   "cell_type": "code",
   "execution_count": 34,
   "id": "73a0cffa-8368-4332-b0d8-2e025c10772a",
   "metadata": {},
   "outputs": [
    {
     "data": {
      "text/plain": [
       " [1] 1 2 3 2 2 2 1 2 3 4"
      ]
     },
     "metadata": {},
     "output_type": "display_data"
    }
   ],
   "source": [
    "c(x,2,2,2,y)"
   ]
  },
  {
   "cell_type": "markdown",
   "id": "e0c8bd91-1c5b-4b16-8213-bf87d03f6e56",
   "metadata": {},
   "source": [
    "- c는 사실 `결합하라`라는 의미를 가짐 "
   ]
  },
  {
   "cell_type": "markdown",
   "id": "4d5352c2-b1dc-4c13-8f78-bb63833029a6",
   "metadata": {},
   "source": [
    "`-` 예제2"
   ]
  },
  {
   "cell_type": "code",
   "execution_count": 35,
   "id": "9256282a-ac5d-4534-a742-d4570c31aff9",
   "metadata": {},
   "outputs": [],
   "source": [
    "x<-c(1,2,3) \n",
    "y<-c(4,4,4)"
   ]
  },
  {
   "cell_type": "code",
   "execution_count": 36,
   "id": "6600849d-2752-4022-923d-d9c4b73ac560",
   "metadata": {},
   "outputs": [
    {
     "data": {
      "text/plain": [
       "     x y\n",
       "[1,] 1 4\n",
       "[2,] 2 4\n",
       "[3,] 3 4"
      ]
     },
     "metadata": {},
     "output_type": "display_data"
    }
   ],
   "source": [
    "cbind(x,y)"
   ]
  },
  {
   "cell_type": "markdown",
   "id": "e87b6153-7999-4d68-9ecc-874d23c6cfd3",
   "metadata": {},
   "source": [
    "`-` 예제2-1"
   ]
  },
  {
   "cell_type": "code",
   "execution_count": 37,
   "id": "80622f47-10d3-4164-b8d3-20a80e0bf9b9",
   "metadata": {},
   "outputs": [
    {
     "data": {
      "text/plain": [
       "     x y\n",
       "[1,] 1 1\n",
       "[2,] 2 2\n",
       "[3,] 3 1\n",
       "[4,] 4 2"
      ]
     },
     "metadata": {},
     "output_type": "display_data"
    }
   ],
   "source": [
    "x<-c(1,2,3,4)\n",
    "y<-c(1,2)\n",
    "cbind(x,y)"
   ]
  },
  {
   "cell_type": "markdown",
   "id": "17bc1942-6de7-4920-951e-d49f6ee41771",
   "metadata": {},
   "source": [
    "`-` 예제2-2 "
   ]
  },
  {
   "cell_type": "code",
   "execution_count": 38,
   "id": "e46fb81e-2e5b-408c-8d1b-59ccf6dbf1a1",
   "metadata": {},
   "outputs": [
    {
     "data": {
      "text/plain": [
       "       x\n",
       "[1,] 1 1\n",
       "[2,] 1 2\n",
       "[3,] 1 3\n",
       "[4,] 1 4"
      ]
     },
     "metadata": {},
     "output_type": "display_data"
    }
   ],
   "source": [
    "x<-c(1,2,3,4)\n",
    "cbind(1,x)"
   ]
  },
  {
   "cell_type": "markdown",
   "id": "b95bc574-6470-4c51-b3cb-eeb606c6c770",
   "metadata": {},
   "source": [
    "`-` 예제3"
   ]
  },
  {
   "cell_type": "code",
   "execution_count": 39,
   "id": "25f4aa63-6301-462a-8ca2-fb697d2fc43e",
   "metadata": {},
   "outputs": [
    {
     "data": {
      "text/plain": [
       "  [,1] [,2] [,3] [,4]\n",
       "x 1    2    3    4   \n",
       "y 1    2    1    2   "
      ]
     },
     "metadata": {},
     "output_type": "display_data"
    }
   ],
   "source": [
    "x<-c(1,2,3,4)\n",
    "y<-c(1,2)\n",
    "rbind(x,y)"
   ]
  },
  {
   "cell_type": "markdown",
   "id": "31efe7a4-3b71-4791-b09b-e2027ad4d0e3",
   "metadata": {},
   "source": [
    "`-` 예제4"
   ]
  },
  {
   "cell_type": "code",
   "execution_count": 40,
   "id": "d043df54-f886-410a-a256-8d83b23b1e9a",
   "metadata": {},
   "outputs": [],
   "source": [
    "x<-c(1,2,3)\n",
    "y<-c(4,5)"
   ]
  },
  {
   "cell_type": "code",
   "execution_count": 41,
   "id": "021bfdaa-2ee4-4ae1-a54d-f8ac51eb7c69",
   "metadata": {},
   "outputs": [
    {
     "data": {
      "text/plain": [
       "     [,1] [,2]\n",
       "[1,] 1    1   \n",
       "[2,] 1    2   \n",
       "[3,] 1    3   \n",
       "[4,] 1    4   \n",
       "[5,] 1    5   "
      ]
     },
     "metadata": {},
     "output_type": "display_data"
    }
   ],
   "source": [
    "cbind(1,c(x,y))"
   ]
  },
  {
   "cell_type": "markdown",
   "id": "876740de-34f9-4726-b2ba-d04b203aab49",
   "metadata": {},
   "source": [
    "#### 매트릭스의 결합"
   ]
  },
  {
   "cell_type": "markdown",
   "id": "c1c64462-9ccc-4d4b-87be-8a6201dba59d",
   "metadata": {},
   "source": [
    "`-` 예제1"
   ]
  },
  {
   "cell_type": "code",
   "execution_count": 42,
   "id": "8efb1062-b0f9-4b18-ba0d-24f80a139a34",
   "metadata": {},
   "outputs": [],
   "source": [
    "X<-rbind(1:5,6:10)\n",
    "y<-c(1,2)"
   ]
  },
  {
   "cell_type": "code",
   "execution_count": 43,
   "id": "fa5c12d5-706e-4209-ae85-99a815f73479",
   "metadata": {},
   "outputs": [
    {
     "data": {
      "text/plain": [
       "     [,1] [,2] [,3] [,4] [,5]\n",
       "[1,] 1    2    3    4     5  \n",
       "[2,] 6    7    8    9    10  "
      ]
     },
     "metadata": {},
     "output_type": "display_data"
    }
   ],
   "source": [
    "X"
   ]
  },
  {
   "cell_type": "code",
   "execution_count": 44,
   "id": "9d8eb17c-9c7b-4968-a8c0-18c19e5d7163",
   "metadata": {},
   "outputs": [
    {
     "data": {
      "text/plain": [
       "[1] 1 2"
      ]
     },
     "metadata": {},
     "output_type": "display_data"
    }
   ],
   "source": [
    "y"
   ]
  },
  {
   "cell_type": "code",
   "execution_count": 47,
   "id": "fe80fffa-4895-4d6f-b347-b42c090bae36",
   "metadata": {},
   "outputs": [
    {
     "data": {
      "text/plain": [
       "                y y           \n",
       "[1,] 1 2 3 4  5 1 1 1 2 3 4  5\n",
       "[2,] 6 7 8 9 10 2 2 6 7 8 9 10"
      ]
     },
     "metadata": {},
     "output_type": "display_data"
    }
   ],
   "source": [
    "cbind(X,y,y,X)"
   ]
  },
  {
   "cell_type": "markdown",
   "id": "24ecbc5a-0a64-4d7f-b8b5-8c9e745182b7",
   "metadata": {},
   "source": [
    "`*` 이름을 지우기 위해서는 아래와 같이 하면 된다."
   ]
  },
  {
   "cell_type": "code",
   "execution_count": 51,
   "id": "cc48aa6a-7ae2-4887-b841-156c4c64f55e",
   "metadata": {},
   "outputs": [
    {
     "data": {
      "text/plain": [
       "     [,1] [,2] [,3] [,4] [,5] [,6] [,7] [,8] [,9] [,10] [,11] [,12]\n",
       "[1,] 1    2    3    4     5   1    1    1    2    3     4      5   \n",
       "[2,] 6    7    8    9    10   2    2    6    7    8     9     10   "
      ]
     },
     "metadata": {},
     "output_type": "display_data"
    }
   ],
   "source": [
    "XyyX= cbind(X,y,y,X)\n",
    "colnames(XyyX)= NULL \n",
    "XyyX"
   ]
  },
  {
   "cell_type": "markdown",
   "id": "fbf1c2be-f499-4568-b75a-0fb8fd1dde01",
   "metadata": {},
   "source": [
    "`-` 예제2"
   ]
  },
  {
   "cell_type": "code",
   "execution_count": 52,
   "id": "d72a04a6-5b8a-49f6-aaa0-61270679aa2d",
   "metadata": {},
   "outputs": [
    {
     "data": {
      "text/plain": [
       "     [,1] [,2] [,3] [,4] [,5]\n",
       "[1,] 1    2    3    4     5  \n",
       "[2,] 6    7    8    9    10  \n",
       "[3,] 1    1    1    1     1  "
      ]
     },
     "metadata": {},
     "output_type": "display_data"
    }
   ],
   "source": [
    "X<-rbind(1:5,6:10)\n",
    "rbind(X,1)"
   ]
  },
  {
   "cell_type": "markdown",
   "id": "eb830a77-712f-4fad-be5a-1e0f0cc8835b",
   "metadata": {},
   "source": [
    "`-` 예제3"
   ]
  },
  {
   "cell_type": "code",
   "execution_count": 53,
   "id": "40c73eb2-87c6-4155-886c-31f6ecce948d",
   "metadata": {},
   "outputs": [],
   "source": [
    "X <- rbind(1:5,6:10,1:5)\n",
    "Y <- cbind(1:3,4:6,7:9)"
   ]
  },
  {
   "cell_type": "code",
   "execution_count": 54,
   "id": "26448451-9319-4118-a6af-424544026876",
   "metadata": {},
   "outputs": [
    {
     "data": {
      "text/plain": [
       "     [,1] [,2] [,3] [,4] [,5]\n",
       "[1,] 1    2    3    4     5  \n",
       "[2,] 6    7    8    9    10  \n",
       "[3,] 1    2    3    4     5  "
      ]
     },
     "metadata": {},
     "output_type": "display_data"
    }
   ],
   "source": [
    "X"
   ]
  },
  {
   "cell_type": "code",
   "execution_count": 55,
   "id": "5fc0afe1-4fd2-4caf-bd5c-1927a3e9eab0",
   "metadata": {},
   "outputs": [
    {
     "data": {
      "text/plain": [
       "     [,1] [,2] [,3]\n",
       "[1,] 1    4    7   \n",
       "[2,] 2    5    8   \n",
       "[3,] 3    6    9   "
      ]
     },
     "metadata": {},
     "output_type": "display_data"
    }
   ],
   "source": [
    "Y"
   ]
  },
  {
   "cell_type": "code",
   "execution_count": 56,
   "id": "f35ad225-a88e-4b0c-8326-abde2a75360e",
   "metadata": {},
   "outputs": [
    {
     "data": {
      "text/plain": [
       "     [,1] [,2] [,3] [,4] [,5] [,6] [,7] [,8]\n",
       "[1,] 1    2    3    4     5   1    4    7   \n",
       "[2,] 6    7    8    9    10   2    5    8   \n",
       "[3,] 1    2    3    4     5   3    6    9   "
      ]
     },
     "metadata": {},
     "output_type": "display_data"
    }
   ],
   "source": [
    "cbind(X,Y)"
   ]
  },
  {
   "cell_type": "code",
   "execution_count": 57,
   "id": "edb0de30-7347-48bb-9b65-5fc34d9c14a5",
   "metadata": {},
   "outputs": [
    {
     "ename": "ERROR",
     "evalue": "Error in rbind(X, Y): number of columns of matrices must match (see arg 2)\n",
     "output_type": "error",
     "traceback": [
      "Error in rbind(X, Y): number of columns of matrices must match (see arg 2)\nTraceback:\n",
      "1. rbind(X, Y)"
     ]
    }
   ],
   "source": [
    "rbind(X,Y)"
   ]
  },
  {
   "cell_type": "markdown",
   "id": "0c81c553-53a7-4acb-8dc3-a324382b6741",
   "metadata": {},
   "source": [
    "- 드디어 에러!!"
   ]
  },
  {
   "cell_type": "markdown",
   "id": "f382b9d2-0403-42f5-ad0b-30b76372516d",
   "metadata": {},
   "source": [
    "### 매트릭스 원소 선택 "
   ]
  },
  {
   "cell_type": "code",
   "execution_count": 59,
   "id": "98617bba-cd0f-40c8-9e95-01889f00001c",
   "metadata": {},
   "outputs": [
    {
     "data": {
      "text/plain": [
       "     [,1] [,2] [,3] [,4] [,5]\n",
       "[1,] 1    2    3    4     5  \n",
       "[2,] 6    7    8    9    10  \n",
       "[3,] 1    2    3    4     5  "
      ]
     },
     "metadata": {},
     "output_type": "display_data"
    }
   ],
   "source": [
    "X<-rbind(1:5,6:10,1:5)\n",
    "X"
   ]
  },
  {
   "cell_type": "markdown",
   "id": "e7414304-88ef-486c-ac69-ee49edbf8b50",
   "metadata": {},
   "source": [
    "`-` 예제1"
   ]
  },
  {
   "cell_type": "code",
   "execution_count": 67,
   "id": "4f283eba-5611-4ca8-b64d-04bd70d3a6ab",
   "metadata": {},
   "outputs": [
    {
     "data": {
      "text/plain": [
       "[1] 1 6 1"
      ]
     },
     "metadata": {},
     "output_type": "display_data"
    }
   ],
   "source": [
    "X[,1]"
   ]
  },
  {
   "cell_type": "markdown",
   "id": "3fde9e57-c062-431c-a398-80251b350bc2",
   "metadata": {},
   "source": [
    "- 선택된 것은 자동으로 벡터화 된다. "
   ]
  },
  {
   "cell_type": "code",
   "execution_count": 61,
   "id": "be4c63ee-f03e-4e46-b377-86fa6fdec420",
   "metadata": {},
   "outputs": [],
   "source": [
    "x=X[,1]"
   ]
  },
  {
   "cell_type": "code",
   "execution_count": 62,
   "id": "5bbd73ce-b766-49d3-a60b-4043d7303736",
   "metadata": {},
   "outputs": [
    {
     "data": {
      "text/plain": [
       "[1] 1 6 1"
      ]
     },
     "metadata": {},
     "output_type": "display_data"
    }
   ],
   "source": [
    "x"
   ]
  },
  {
   "cell_type": "code",
   "execution_count": 63,
   "id": "d32f2ad8-f3a2-44d8-9798-7c01382afc2d",
   "metadata": {},
   "outputs": [
    {
     "data": {
      "text/plain": [
       "NULL"
      ]
     },
     "metadata": {},
     "output_type": "display_data"
    }
   ],
   "source": [
    "dim(x)"
   ]
  },
  {
   "cell_type": "code",
   "execution_count": 65,
   "id": "0ecd1ab1-899c-475b-b0c1-4d85897e3a45",
   "metadata": {},
   "outputs": [],
   "source": [
    "dim(x)<-c(3,1)"
   ]
  },
  {
   "cell_type": "code",
   "execution_count": 66,
   "id": "726b69e1-fa04-4b82-9114-64255d4599f1",
   "metadata": {},
   "outputs": [
    {
     "data": {
      "text/plain": [
       "     [,1]\n",
       "[1,] 1   \n",
       "[2,] 6   \n",
       "[3,] 1   "
      ]
     },
     "metadata": {},
     "output_type": "display_data"
    }
   ],
   "source": [
    "x"
   ]
  },
  {
   "cell_type": "markdown",
   "id": "5067ed14-6ae7-4abc-b9ef-d48e8752947b",
   "metadata": {},
   "source": [
    "`-` 예제2"
   ]
  },
  {
   "cell_type": "code",
   "execution_count": 68,
   "id": "85dff924-bcbb-4a20-9536-6aff205a8bd3",
   "metadata": {},
   "outputs": [
    {
     "data": {
      "text/plain": [
       "     [,1] [,2]\n",
       "[1,] 1    2   \n",
       "[2,] 6    7   \n",
       "[3,] 1    2   "
      ]
     },
     "metadata": {},
     "output_type": "display_data"
    }
   ],
   "source": [
    "X[,1:2] "
   ]
  },
  {
   "cell_type": "markdown",
   "id": "ad3f55cc-ff9b-4976-847c-3b9420576a81",
   "metadata": {},
   "source": [
    "`-` 예제3"
   ]
  },
  {
   "cell_type": "code",
   "execution_count": 69,
   "id": "d437444b-31d3-4d8e-b9bd-23dd93bf9953",
   "metadata": {},
   "outputs": [
    {
     "data": {
      "text/plain": [
       "     [,1] [,2] [,3] [,4]\n",
       "[1,] 2    3    4     5  \n",
       "[2,] 7    8    9    10  \n",
       "[3,] 2    3    4     5  "
      ]
     },
     "metadata": {},
     "output_type": "display_data"
    }
   ],
   "source": [
    "X[,-1]"
   ]
  },
  {
   "cell_type": "markdown",
   "id": "132e38e3-34e8-4b6a-86e8-357e8dc0f37e",
   "metadata": {},
   "source": [
    "`-` 예제4"
   ]
  },
  {
   "cell_type": "code",
   "execution_count": 71,
   "id": "a5382121-20d7-4248-b922-942aab51cf4c",
   "metadata": {},
   "outputs": [
    {
     "data": {
      "text/plain": [
       "     [,1] [,2] [,3]\n",
       "[1,] 3    4     5  \n",
       "[2,] 8    9    10  \n",
       "[3,] 3    4     5  "
      ]
     },
     "metadata": {},
     "output_type": "display_data"
    }
   ],
   "source": [
    "X[,-(1:2)]"
   ]
  },
  {
   "cell_type": "markdown",
   "id": "b22ca6ce-6d20-4bd8-9433-b38c4bf0d23b",
   "metadata": {},
   "source": [
    "`-` 예제5"
   ]
  },
  {
   "cell_type": "code",
   "execution_count": 72,
   "id": "c94ac764-256e-465c-ad01-c50f2a3acceb",
   "metadata": {},
   "outputs": [
    {
     "data": {
      "text/plain": [
       "     [,1] [,2] [,3] [,4] [,5]\n",
       "[1,] 1    2    3    4     5  \n",
       "[2,] 6    7    8    9    10  "
      ]
     },
     "metadata": {},
     "output_type": "display_data"
    }
   ],
   "source": [
    "X[1:2,]"
   ]
  },
  {
   "cell_type": "markdown",
   "id": "b42401ab-87d1-4c0f-a67b-8877b66d8a3a",
   "metadata": {},
   "source": [
    "`-` 예제6"
   ]
  },
  {
   "cell_type": "code",
   "execution_count": 73,
   "id": "6d34ca5b-9c1b-4477-b5f6-f34dcfa63fc5",
   "metadata": {},
   "outputs": [
    {
     "data": {
      "text/plain": [
       "     [,1] [,2] [,3]\n",
       "[1,] 1    2    3   \n",
       "[2,] 6    7    8   "
      ]
     },
     "metadata": {},
     "output_type": "display_data"
    }
   ],
   "source": [
    "X[1:2,1:3]"
   ]
  },
  {
   "cell_type": "markdown",
   "id": "b8d9eea3-6aef-4aac-acb3-79a5c4b2919a",
   "metadata": {},
   "source": [
    "`-` 예제7 "
   ]
  },
  {
   "cell_type": "code",
   "execution_count": 74,
   "id": "4b9112ce-c596-419f-8747-a3b9f18d58b4",
   "metadata": {},
   "outputs": [
    {
     "data": {
      "text/plain": [
       "     [,1] [,2] [,3] [,4]\n",
       "[1,] 2    3    4     5  \n",
       "[2,] 7    8    9    10  "
      ]
     },
     "metadata": {},
     "output_type": "display_data"
    }
   ],
   "source": [
    "X[1:2, -1]"
   ]
  },
  {
   "cell_type": "markdown",
   "id": "aca52d43-8237-442e-a1c3-b876c54639ad",
   "metadata": {},
   "source": [
    "### 벡터관련 연산 "
   ]
  },
  {
   "cell_type": "markdown",
   "id": "c09dd8f7-548c-4e97-a75e-c5511afd80e8",
   "metadata": {},
   "source": [
    "`-` 예제1"
   ]
  },
  {
   "cell_type": "code",
   "execution_count": 76,
   "id": "6796934c-4bb7-4c17-a845-13989a3b01fa",
   "metadata": {},
   "outputs": [
    {
     "data": {
      "text/plain": [
       "[1]  TRUE  TRUE FALSE"
      ]
     },
     "metadata": {},
     "output_type": "display_data"
    }
   ],
   "source": [
    "c(1,2,5) %in% c(1,2,3,4)"
   ]
  },
  {
   "cell_type": "markdown",
   "id": "44071039-1dc5-4ba4-9fe1-dbe74dc3095c",
   "metadata": {},
   "source": [
    "`-` 예제2"
   ]
  },
  {
   "cell_type": "code",
   "execution_count": 77,
   "id": "b303f233-6f72-4bcd-a9ae-1fd4e2e35e59",
   "metadata": {},
   "outputs": [
    {
     "data": {
      "text/plain": [
       "[1] 1 2 3 4"
      ]
     },
     "metadata": {},
     "output_type": "display_data"
    }
   ],
   "source": [
    "union(c(1,1,2,2),c(2,3,4))"
   ]
  },
  {
   "cell_type": "markdown",
   "id": "6eb92df4-93f2-4803-98c7-f2eed3c4bea0",
   "metadata": {},
   "source": [
    "`-` 예제3"
   ]
  },
  {
   "cell_type": "code",
   "execution_count": 82,
   "id": "469a25b4-a54d-4705-83fb-23860fdbd6b1",
   "metadata": {},
   "outputs": [
    {
     "data": {
      "text/plain": [
       "[1] 2 3 4 5"
      ]
     },
     "metadata": {},
     "output_type": "display_data"
    }
   ],
   "source": [
    "intersect(1:5,2:6)"
   ]
  },
  {
   "cell_type": "markdown",
   "id": "6a7459ae-02e9-4e1e-b3b8-d550b2980bf9",
   "metadata": {},
   "source": [
    "`-` 예제4"
   ]
  },
  {
   "cell_type": "code",
   "execution_count": 83,
   "id": "c43666f0-71f9-489c-9880-29b1412c8669",
   "metadata": {},
   "outputs": [],
   "source": [
    "x=1:5"
   ]
  },
  {
   "cell_type": "code",
   "execution_count": 84,
   "id": "5b1e5f95-9fed-43f3-8013-441655a80947",
   "metadata": {},
   "outputs": [
    {
     "data": {
      "text/plain": [
       "     [,1]\n",
       "[1,] 55  "
      ]
     },
     "metadata": {},
     "output_type": "display_data"
    }
   ],
   "source": [
    "x %*% x "
   ]
  },
  {
   "cell_type": "markdown",
   "id": "13221e00-530c-4071-a4b3-32af499d3d8c",
   "metadata": {},
   "source": [
    "`-` 예제5"
   ]
  },
  {
   "cell_type": "code",
   "execution_count": 88,
   "id": "9665c88a-3bc2-48af-bbce-c4b90f4da712",
   "metadata": {},
   "outputs": [],
   "source": [
    "x=1:5"
   ]
  },
  {
   "cell_type": "code",
   "execution_count": 89,
   "id": "8c9270fc-5139-424e-beec-77fe6f6943bf",
   "metadata": {},
   "outputs": [
    {
     "data": {
      "text/plain": [
       "     [,1] [,2] [,3] [,4] [,5]\n",
       "[1,] 1     2    3    4    5  \n",
       "[2,] 2     4    6    8   10  \n",
       "[3,] 3     6    9   12   15  \n",
       "[4,] 4     8   12   16   20  \n",
       "[5,] 5    10   15   20   25  "
      ]
     },
     "metadata": {},
     "output_type": "display_data"
    }
   ],
   "source": [
    "x %o% x "
   ]
  },
  {
   "cell_type": "markdown",
   "id": "8312d47b-f9c3-4d4e-8f74-ac13f02392f1",
   "metadata": {},
   "source": [
    "### 매트릭스 관련연산 "
   ]
  },
  {
   "cell_type": "markdown",
   "id": "1af70fca-d9a4-4f90-8704-2b66125a30c6",
   "metadata": {},
   "source": [
    "`-` 예제1: 트랜스포즈 "
   ]
  },
  {
   "cell_type": "code",
   "execution_count": 90,
   "id": "e3a1d34a-fed7-4bbc-b2ba-725ab5a4b8a0",
   "metadata": {},
   "outputs": [],
   "source": [
    "A=cbind(c(1,2,3),c(4,5,6),c(7,8,9))"
   ]
  },
  {
   "cell_type": "code",
   "execution_count": 91,
   "id": "76f1a538-3510-4bf6-9282-18acd975081e",
   "metadata": {},
   "outputs": [
    {
     "data": {
      "text/plain": [
       "     [,1] [,2] [,3]\n",
       "[1,] 1    4    7   \n",
       "[2,] 2    5    8   \n",
       "[3,] 3    6    9   "
      ]
     },
     "metadata": {},
     "output_type": "display_data"
    }
   ],
   "source": [
    "A"
   ]
  },
  {
   "cell_type": "code",
   "execution_count": 92,
   "id": "27783db7-f15f-439e-936e-0aa46fa048be",
   "metadata": {},
   "outputs": [
    {
     "data": {
      "text/plain": [
       "     [,1] [,2] [,3]\n",
       "[1,] 1    2    3   \n",
       "[2,] 4    5    6   \n",
       "[3,] 7    8    9   "
      ]
     },
     "metadata": {},
     "output_type": "display_data"
    }
   ],
   "source": [
    "t(A)"
   ]
  },
  {
   "cell_type": "markdown",
   "id": "b878374a-78b5-493e-8c88-ee9b227c7cee",
   "metadata": {},
   "source": [
    "`-` 예제2: 상수 곱하기"
   ]
  },
  {
   "cell_type": "code",
   "execution_count": 94,
   "id": "9604181b-4692-422a-bc58-7cdf725feb60",
   "metadata": {},
   "outputs": [
    {
     "data": {
      "text/plain": [
       "     [,1] [,2] [,3]\n",
       "[1,] 1    4    7   \n",
       "[2,] 2    5    8   \n",
       "[3,] 3    6    9   "
      ]
     },
     "metadata": {},
     "output_type": "display_data"
    }
   ],
   "source": [
    "A=cbind(c(1,2,3),c(4,5,6),c(7,8,9))\n",
    "A"
   ]
  },
  {
   "cell_type": "code",
   "execution_count": 95,
   "id": "75c68a39-c1c0-4ed8-840d-e1995f1e046b",
   "metadata": {},
   "outputs": [
    {
     "data": {
      "text/plain": [
       "     [,1] [,2] [,3]\n",
       "[1,] -1   -4   -7  \n",
       "[2,] -2   -5   -8  \n",
       "[3,] -3   -6   -9  "
      ]
     },
     "metadata": {},
     "output_type": "display_data"
    }
   ],
   "source": [
    "-A"
   ]
  },
  {
   "cell_type": "code",
   "execution_count": 96,
   "id": "806dff9c-ff0c-4591-9a63-780e0b5d5282",
   "metadata": {},
   "outputs": [
    {
     "data": {
      "text/plain": [
       "     [,1] [,2] [,3]\n",
       "[1,] 2     8   14  \n",
       "[2,] 4    10   16  \n",
       "[3,] 6    12   18  "
      ]
     },
     "metadata": {},
     "output_type": "display_data"
    }
   ],
   "source": [
    "A*2"
   ]
  },
  {
   "cell_type": "markdown",
   "id": "4bed9486-73ee-4a35-9868-6874912251b0",
   "metadata": {},
   "source": [
    "`-` 예제3: 덧셈, 뺄셈 "
   ]
  },
  {
   "cell_type": "code",
   "execution_count": 97,
   "id": "c824cad4-7a1f-494d-9c5a-40ab81d1356a",
   "metadata": {},
   "outputs": [],
   "source": [
    "A=cbind(c(1,2,3),c(4,5,6),c(7,8,9))\n",
    "B=cbind(1:3,1:3,2:4)"
   ]
  },
  {
   "cell_type": "code",
   "execution_count": 99,
   "id": "e550dee2-2bb4-4253-ba98-d276f5e2fd8e",
   "metadata": {},
   "outputs": [
    {
     "data": {
      "text/plain": [
       "     [,1] [,2] [,3]\n",
       "[1,] 1    4    7   \n",
       "[2,] 2    5    8   \n",
       "[3,] 3    6    9   "
      ]
     },
     "metadata": {},
     "output_type": "display_data"
    }
   ],
   "source": [
    "A"
   ]
  },
  {
   "cell_type": "code",
   "execution_count": 100,
   "id": "5383b71a-a266-4962-b4a4-869cd8cab87d",
   "metadata": {},
   "outputs": [
    {
     "data": {
      "text/plain": [
       "     [,1] [,2] [,3]\n",
       "[1,] 1    1    2   \n",
       "[2,] 2    2    3   \n",
       "[3,] 3    3    4   "
      ]
     },
     "metadata": {},
     "output_type": "display_data"
    }
   ],
   "source": [
    "B"
   ]
  },
  {
   "cell_type": "code",
   "execution_count": 101,
   "id": "63c09f80-cc1c-401d-82a9-cc19e26c1987",
   "metadata": {},
   "outputs": [
    {
     "data": {
      "text/plain": [
       "     [,1] [,2] [,3]\n",
       "[1,] 2    5     9  \n",
       "[2,] 4    7    11  \n",
       "[3,] 6    9    13  "
      ]
     },
     "metadata": {},
     "output_type": "display_data"
    }
   ],
   "source": [
    "A+B"
   ]
  },
  {
   "cell_type": "markdown",
   "id": "a26167ce-49cb-4820-a9ca-d8f49b8a55ea",
   "metadata": {},
   "source": [
    "`-` 예제4: 행렬곱셈"
   ]
  },
  {
   "cell_type": "code",
   "execution_count": 103,
   "id": "cf1f4537-f0cd-43f9-8a1e-1948b3b646b7",
   "metadata": {},
   "outputs": [
    {
     "data": {
      "text/plain": [
       "     [,1] [,2]\n",
       "[1,] 1    2   \n",
       "[2,] 2    3   "
      ]
     },
     "metadata": {},
     "output_type": "display_data"
    }
   ],
   "source": [
    "A=cbind(1:2,2:3)\n",
    "A"
   ]
  },
  {
   "cell_type": "code",
   "execution_count": 104,
   "id": "59b8f6f6-4531-4408-b66a-bbe7a0f07643",
   "metadata": {},
   "outputs": [
    {
     "data": {
      "text/plain": [
       "     [,1] [,2]\n",
       "[1,] 5     8  \n",
       "[2,] 8    13  "
      ]
     },
     "metadata": {},
     "output_type": "display_data"
    }
   ],
   "source": [
    "A %*% A "
   ]
  },
  {
   "cell_type": "markdown",
   "id": "90cdb369-07bd-4c0f-9921-77306f960a56",
   "metadata": {},
   "source": [
    "`-` 예제5: 역행렬 "
   ]
  },
  {
   "cell_type": "code",
   "execution_count": 106,
   "id": "86a50150-a447-4306-a24b-d47fe670063d",
   "metadata": {},
   "outputs": [
    {
     "data": {
      "text/plain": [
       "     [,1] [,2]\n",
       "[1,] 0    1   \n",
       "[2,] 2    0   "
      ]
     },
     "metadata": {},
     "output_type": "display_data"
    }
   ],
   "source": [
    "A=rbind(c(0,1),c(2,0))\n",
    "A"
   ]
  },
  {
   "cell_type": "code",
   "execution_count": 107,
   "id": "723d59e6-b077-41b7-9013-472ab5ac5e77",
   "metadata": {},
   "outputs": [
    {
     "data": {
      "text/plain": [
       "     [,1] [,2]\n",
       "[1,] 0    0.5 \n",
       "[2,] 1    0.0 "
      ]
     },
     "metadata": {},
     "output_type": "display_data"
    }
   ],
   "source": [
    "solve(A)"
   ]
  },
  {
   "cell_type": "code",
   "execution_count": 108,
   "id": "6e563175-56e5-4139-b094-f6dbbefb6c0d",
   "metadata": {},
   "outputs": [
    {
     "data": {
      "text/plain": [
       "     [,1] [,2]\n",
       "[1,] 1    0   \n",
       "[2,] 0    1   "
      ]
     },
     "metadata": {},
     "output_type": "display_data"
    }
   ],
   "source": [
    "A %*% solve(A) "
   ]
  },
  {
   "cell_type": "markdown",
   "id": "77eb985f-c23a-4c56-bd4b-5c293a5a695b",
   "metadata": {},
   "source": [
    "### 티블 만드는 방법 "
   ]
  },
  {
   "cell_type": "markdown",
   "id": "81c54eff-4f52-4481-8b4c-7d1f3a1b7883",
   "metadata": {},
   "source": [
    "`-` 보통 초보단계에서는 일부러 만들기보다 만들어져 있는 경우가 많아요 "
   ]
  },
  {
   "cell_type": "markdown",
   "id": "d8a3b9d9-e6da-4e48-98b2-663fb64de7b4",
   "metadata": {},
   "source": [
    "`-` 벡터로 만들기"
   ]
  },
  {
   "cell_type": "code",
   "execution_count": 109,
   "id": "15ad0b0d-ef56-490b-a803-6cf6e4b7062c",
   "metadata": {},
   "outputs": [],
   "source": [
    "x<-c(1,2,3)\n",
    "y<-c('a','b','c')"
   ]
  },
  {
   "cell_type": "code",
   "execution_count": 110,
   "id": "380a92b7-d19c-4cab-860a-3a3fc572373f",
   "metadata": {},
   "outputs": [],
   "source": [
    "tb=tibble(x=x,y=y)"
   ]
  },
  {
   "cell_type": "code",
   "execution_count": 111,
   "id": "ff899cb5-de98-4530-b248-caacc335923d",
   "metadata": {},
   "outputs": [
    {
     "data": {
      "text/plain": [
       "  x y\n",
       "1 1 a\n",
       "2 2 b\n",
       "3 3 c"
      ]
     },
     "metadata": {},
     "output_type": "display_data"
    }
   ],
   "source": [
    "tb"
   ]
  },
  {
   "cell_type": "code",
   "execution_count": 112,
   "id": "d747aa61-bfc3-4185-8648-d0ad0aeb09ff",
   "metadata": {},
   "outputs": [
    {
     "data": {
      "text/plain": [
       "[1] 1 2 3"
      ]
     },
     "metadata": {},
     "output_type": "display_data"
    }
   ],
   "source": [
    "tb$x"
   ]
  },
  {
   "cell_type": "code",
   "execution_count": 113,
   "id": "4282151f-4a93-47ff-b801-f8f658e2e36c",
   "metadata": {},
   "outputs": [
    {
     "data": {
      "text/plain": [
       "[1] \"a\" \"b\" \"c\""
      ]
     },
     "metadata": {},
     "output_type": "display_data"
    }
   ],
   "source": [
    "tb$y"
   ]
  },
  {
   "cell_type": "markdown",
   "id": "1005db2e-eb0b-483e-86a7-fa448624a09c",
   "metadata": {},
   "source": [
    "`-` 매트릭스로 만들기 "
   ]
  },
  {
   "cell_type": "code",
   "execution_count": 115,
   "id": "cf9eb8ed-dcea-48c3-a1a6-755796b5a375",
   "metadata": {},
   "outputs": [
    {
     "data": {
      "text/plain": [
       "      [,1] [,2]\n",
       " [1,]  1   31  \n",
       " [2,]  2   32  \n",
       " [3,]  3   33  \n",
       " [4,]  4   34  \n",
       " [5,]  5   35  \n",
       " [6,]  6   36  \n",
       " [7,]  7   37  \n",
       " [8,]  8   38  \n",
       " [9,]  9   39  \n",
       "[10,] 10   40  "
      ]
     },
     "metadata": {},
     "output_type": "display_data"
    }
   ],
   "source": [
    "X=cbind(1:10,31:40)\n",
    "X"
   ]
  },
  {
   "cell_type": "code",
   "execution_count": 117,
   "id": "22db5bf5-c000-4256-9ea3-74942d23244c",
   "metadata": {},
   "outputs": [],
   "source": [
    "tb=as_tibble(X)"
   ]
  },
  {
   "cell_type": "code",
   "execution_count": 121,
   "id": "9f594a96-4966-49d5-a408-496d9b61a3e6",
   "metadata": {},
   "outputs": [
    {
     "data": {
      "text/plain": [
       "   V1 V2\n",
       "1   1 31\n",
       "2   2 32\n",
       "3   3 33\n",
       "4   4 34\n",
       "5   5 35\n",
       "6   6 36\n",
       "7   7 37\n",
       "8   8 38\n",
       "9   9 39\n",
       "10 10 40"
      ]
     },
     "metadata": {},
     "output_type": "display_data"
    }
   ],
   "source": [
    "tb"
   ]
  },
  {
   "cell_type": "markdown",
   "id": "327d4110-27fc-4eb9-baf3-8984cc9a1b0a",
   "metadata": {},
   "source": [
    "### 티블을 쓰는 이유? "
   ]
  },
  {
   "cell_type": "markdown",
   "id": "ff9792ab-cac9-410c-87e3-28d59506b281",
   "metadata": {},
   "source": [
    "#### mutate "
   ]
  },
  {
   "cell_type": "code",
   "execution_count": 125,
   "id": "bbe5f2b5-76ed-4264-ab0c-1cf4a50d6cc6",
   "metadata": {},
   "outputs": [
    {
     "data": {
      "text/plain": [
       "   V1 V2 V3  V4   V5  \n",
       "1   1 31  32  -32  -33\n",
       "2   2 32  36  -36  -37\n",
       "3   3 33  42  -42  -43\n",
       "4   4 34  50  -50  -51\n",
       "5   5 35  60  -60  -61\n",
       "6   6 36  72  -72  -73\n",
       "7   7 37  86  -86  -87\n",
       "8   8 38 102 -102 -103\n",
       "9   9 39 120 -120 -121\n",
       "10 10 40 140 -140 -141"
      ]
     },
     "metadata": {},
     "output_type": "display_data"
    }
   ],
   "source": [
    "tb %>% mutate(V3=V1**2+V2,V4=-V3, V5=V4-1)"
   ]
  },
  {
   "cell_type": "markdown",
   "id": "7eda41c2-5110-4d5b-a131-7f42be2ae058",
   "metadata": {},
   "source": [
    "- 열간의 결합으로 새로운 열을 만들기 편리함 "
   ]
  },
  {
   "cell_type": "code",
   "execution_count": 126,
   "id": "975109db-cf62-4fae-a21e-615c3df2ee68",
   "metadata": {},
   "outputs": [
    {
     "data": {
      "text/plain": [
       "   V1 V2\n",
       "1   1 31\n",
       "2   2 32\n",
       "3   3 33\n",
       "4   4 34\n",
       "5   5 35\n",
       "6   6 36\n",
       "7   7 37\n",
       "8   8 38\n",
       "9   9 39\n",
       "10 10 40"
      ]
     },
     "metadata": {},
     "output_type": "display_data"
    }
   ],
   "source": [
    "tb "
   ]
  },
  {
   "cell_type": "markdown",
   "id": "32eff8a0-08fc-4c29-a39c-afd7fb7430f6",
   "metadata": {},
   "source": [
    "- 연산을 해도 원래 데이터 프레임은 변화하지 않음. 변화를 위해서는 아래를 해야함. \n",
    "\n",
    "```R\n",
    "tb <- tb %>% mutate(V3=V1**2+V2,V4=-V3, V5=V4-1)\n",
    "```"
   ]
  },
  {
   "cell_type": "markdown",
   "id": "880ab937-0e2c-4784-9858-f69a104b590c",
   "metadata": {},
   "source": [
    "`-` 아래와 같은코드임 "
   ]
  },
  {
   "cell_type": "code",
   "execution_count": 129,
   "id": "ec5976ae-21b0-4a89-ba57-7769c6dd9da8",
   "metadata": {},
   "outputs": [
    {
     "data": {
      "text/plain": [
       "   V1 V2 V3  V4   V5  \n",
       "1   1 31  32  -32  -33\n",
       "2   2 32  36  -36  -37\n",
       "3   3 33  42  -42  -43\n",
       "4   4 34  50  -50  -51\n",
       "5   5 35  60  -60  -61\n",
       "6   6 36  72  -72  -73\n",
       "7   7 37  86  -86  -87\n",
       "8   8 38 102 -102 -103\n",
       "9   9 39 120 -120 -121\n",
       "10 10 40 140 -140 -141"
      ]
     },
     "metadata": {},
     "output_type": "display_data"
    }
   ],
   "source": [
    "mutate(tb, V3=V1**2+V2,V4=-V3, V5=V4-1)"
   ]
  },
  {
   "cell_type": "markdown",
   "id": "3d804b1e-24a9-4673-bf50-73e53a4baef0",
   "metadata": {},
   "source": [
    "#### filter"
   ]
  },
  {
   "cell_type": "code",
   "execution_count": 130,
   "id": "e1f24752-163b-490e-b8fa-0d42f7b304a4",
   "metadata": {},
   "outputs": [],
   "source": [
    "tb2 <- tb %>% mutate(V3=V1**2+V2,V4=-V3, V5=V4-1)"
   ]
  },
  {
   "cell_type": "code",
   "execution_count": 131,
   "id": "3d5d7246-98f6-49b5-8ebc-4a3b16e8cc33",
   "metadata": {},
   "outputs": [
    {
     "data": {
      "text/plain": [
       "   V1 V2 V3  V4   V5  \n",
       "1   1 31  32  -32  -33\n",
       "2   2 32  36  -36  -37\n",
       "3   3 33  42  -42  -43\n",
       "4   4 34  50  -50  -51\n",
       "5   5 35  60  -60  -61\n",
       "6   6 36  72  -72  -73\n",
       "7   7 37  86  -86  -87\n",
       "8   8 38 102 -102 -103\n",
       "9   9 39 120 -120 -121\n",
       "10 10 40 140 -140 -141"
      ]
     },
     "metadata": {},
     "output_type": "display_data"
    }
   ],
   "source": [
    "tb2"
   ]
  },
  {
   "cell_type": "code",
   "execution_count": 132,
   "id": "ee7f2a9d-d616-47c2-90cd-c4f9cd7e9ddd",
   "metadata": {},
   "outputs": [
    {
     "data": {
      "text/plain": [
       "  V1 V2 V3 V4  V5 \n",
       "1 6  36 72 -72 -73\n",
       "2 7  37 86 -86 -87"
      ]
     },
     "metadata": {},
     "output_type": "display_data"
    }
   ],
   "source": [
    "tb2 %>% filter(V1>5, V3<100)"
   ]
  },
  {
   "cell_type": "markdown",
   "id": "ce0818f0-622e-4f87-a6ce-1d61f72aefed",
   "metadata": {},
   "source": [
    "#### mutate + filter 가능 "
   ]
  },
  {
   "cell_type": "code",
   "execution_count": 133,
   "id": "38e2b49f-fbd0-4f36-891e-9dd79bc9f3b9",
   "metadata": {},
   "outputs": [
    {
     "data": {
      "text/plain": [
       "   V1 V2\n",
       "1   1 31\n",
       "2   2 32\n",
       "3   3 33\n",
       "4   4 34\n",
       "5   5 35\n",
       "6   6 36\n",
       "7   7 37\n",
       "8   8 38\n",
       "9   9 39\n",
       "10 10 40"
      ]
     },
     "metadata": {},
     "output_type": "display_data"
    }
   ],
   "source": [
    "tb"
   ]
  },
  {
   "cell_type": "code",
   "execution_count": 134,
   "id": "4b2aa399-4d06-44eb-8497-65a310b21aac",
   "metadata": {},
   "outputs": [
    {
     "data": {
      "text/plain": [
       "   V1 V2 V3        \n",
       "1   1 31 -1.4863011\n",
       "2   2 32 -1.1560120\n",
       "3   3 33 -0.8257228\n",
       "4   4 34 -0.4954337\n",
       "5   5 35 -0.1651446\n",
       "6   6 36  0.1651446\n",
       "7   7 37  0.4954337\n",
       "8   8 38  0.8257228\n",
       "9   9 39  1.1560120\n",
       "10 10 40  1.4863011"
      ]
     },
     "metadata": {},
     "output_type": "display_data"
    }
   ],
   "source": [
    "tb %>% mutate(V3=(V1-mean(V1))/sd(V1)) "
   ]
  },
  {
   "cell_type": "code",
   "execution_count": 135,
   "id": "773cfd24-99c4-46e0-9b3c-6837c9a48477",
   "metadata": {},
   "outputs": [
    {
     "data": {
      "text/plain": [
       "  V1 V2 V3       \n",
       "1  8 38 0.8257228\n",
       "2  9 39 1.1560120\n",
       "3 10 40 1.4863011"
      ]
     },
     "metadata": {},
     "output_type": "display_data"
    }
   ],
   "source": [
    "tb %>% mutate(V3=(V1-mean(V1))/sd(V1)) %>% filter(V3>0.5) "
   ]
  }
 ],
 "metadata": {
  "kernelspec": {
   "display_name": "R",
   "language": "R",
   "name": "ir"
  },
  "language_info": {
   "codemirror_mode": "r",
   "file_extension": ".r",
   "mimetype": "text/x-r-source",
   "name": "R",
   "pygments_lexer": "r",
   "version": "4.0.5"
  }
 },
 "nbformat": 4,
 "nbformat_minor": 5
}
