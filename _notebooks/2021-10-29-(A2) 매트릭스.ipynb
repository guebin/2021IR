{
 "cells": [
  {
   "cell_type": "code",
   "execution_count": 1,
   "id": "b68f5d2d-1bac-4f43-bdf9-ffdff60faaf5",
   "metadata": {},
   "outputs": [],
   "source": [
    "#hide\n",
    "options(jupyter.rich_display=FALSE)"
   ]
  },
  {
   "cell_type": "markdown",
   "id": "60cb1bf8-a28b-46d1-a737-0f0b55805f72",
   "metadata": {
    "tags": []
   },
   "source": [
    "# (A2) 매트릭스 \n",
    "> 매트릭스 \n",
    "\n",
    "- toc:true\n",
    "- branch: master\n",
    "- badges: true\n",
    "- comments: true\n",
    "- author: 최규빈"
   ]
  },
  {
   "cell_type": "markdown",
   "id": "10ae04dc-071c-4f2e-8c9b-67b3d1deae2f",
   "metadata": {},
   "source": [
    "### 강의영상 \n",
    "\n",
    "> youtube: https://youtube.com/playlist?list=PLQqh36zP38-w8m0jn02fgZQCxGqkVrrdY"
   ]
  },
  {
   "cell_type": "markdown",
   "id": "eba539c9-46b1-4d9c-b71c-d0f887182b8f",
   "metadata": {},
   "source": [
    "### 행렬과 연립일차방정식"
   ]
  },
  {
   "cell_type": "markdown",
   "id": "4a3614d7-0fe5-4d7e-a540-860540bc9280",
   "metadata": {},
   "source": [
    "`-` 예를들어 아래와 같은 문제가 있다고 하자. \n",
    "\n",
    "$\\begin{cases}\n",
    "w+2x+3y+4z=1 \\\\\n",
    "2w+2x+y=9 \\\\\n",
    "x-y=4 \\\\\n",
    "3w+x-y+3y=7\n",
    "\\end{cases}$\n"
   ]
  },
  {
   "cell_type": "markdown",
   "id": "62a9c373-ff68-4875-a98f-6d9b9f3e963d",
   "metadata": {},
   "source": [
    "\n",
    "`-` 매트릭스 형태로 위의 식을 표현하면 아래와 같다. \n",
    "\n",
    "$\\begin{bmatrix}\n",
    "1 & 2 & 3 & 4 \\\\ \n",
    "2 & 2 & 1 & 0 \\\\\n",
    "0 & 1 &-1 & 0 \\\\\n",
    "3 & 1 &-1 & 3 \n",
    "\\end{bmatrix}\n",
    "\\begin{bmatrix}\n",
    "w \\\\ x \\\\ y \\\\z \n",
    "\\end{bmatrix}=\\begin{bmatrix}\n",
    "1 \\\\ 9 \\\\ 4 \\\\7 \n",
    "\\end{bmatrix}$\n"
   ]
  },
  {
   "cell_type": "markdown",
   "id": "d6725d97-2263-4c92-8247-b8b7b4c56078",
   "metadata": {},
   "source": [
    "\n",
    "`-` 양변에 \n",
    "\n",
    "$\\begin{bmatrix}\n",
    "1 & 2 & 3 & 4 \\\\ \n",
    "2 & 2 & 1 & 0 \\\\\n",
    "0 & 1 &-1 & 0 \\\\\n",
    "3 & 1 &-1 & 3 \n",
    "\\end{bmatrix}$\n",
    "\n",
    "의 역행렬을 취하면 \n",
    "\n",
    "\n",
    "$\\begin{bmatrix}\n",
    "w \\\\ x \\\\ y \\\\z \n",
    "\\end{bmatrix}=\\begin{bmatrix}\n",
    "1 & 2 & 3 & 4 \\\\ \n",
    "2 & 2 & 1 & 0 \\\\\n",
    "0 & 1 &-1 & 0 \\\\\n",
    "3 & 1 &-1 & 3 \n",
    "\\end{bmatrix}^{-1}\\begin{bmatrix}\n",
    "1 \\\\ 9 \\\\ 4 \\\\7 \n",
    "\\end{bmatrix}$"
   ]
  },
  {
   "cell_type": "markdown",
   "id": "5ccf1f4f-ebbd-48bb-9d09-e4ac9f81bd83",
   "metadata": {},
   "source": [
    "### R로 구현"
   ]
  },
  {
   "cell_type": "markdown",
   "id": "6a7487d7-bddc-4d65-b36c-49dfea73354c",
   "metadata": {},
   "source": [
    "`-` 방법1"
   ]
  },
  {
   "cell_type": "code",
   "execution_count": 12,
   "id": "73e7cd46-e89d-4a4d-a1f3-e66b5f2b7a1b",
   "metadata": {},
   "outputs": [
    {
     "data": {
      "text/plain": [
       "     [,1] [,2] [,3] [,4]\n",
       "[1,] 1    2     3   4   \n",
       "[2,] 2    2     1   0   \n",
       "[3,] 0    1    -1   0   \n",
       "[4,] 3    1    -1   3   "
      ]
     },
     "metadata": {},
     "output_type": "display_data"
    }
   ],
   "source": [
    "A=rbind(c(1,2,3,4),c(2,2,1,0),c(0,1,-1,0),c(3,1,-1,3))\n",
    "A"
   ]
  },
  {
   "cell_type": "code",
   "execution_count": 13,
   "id": "035bbca9-462e-44c7-9308-77766876534a",
   "metadata": {},
   "outputs": [
    {
     "data": {
      "text/plain": [
       "     [,1]\n",
       "[1,] 1   \n",
       "[2,] 9   \n",
       "[3,] 4   \n",
       "[4,] 7   "
      ]
     },
     "metadata": {},
     "output_type": "display_data"
    }
   ],
   "source": [
    "b=c(1,9,4,7)\n",
    "dim(b)=c(4,1)\n",
    "b"
   ]
  },
  {
   "cell_type": "code",
   "execution_count": 15,
   "id": "3af5cb77-50d0-491e-94af-c497dcdc4b74",
   "metadata": {},
   "outputs": [
    {
     "data": {
      "text/plain": [
       "     [,1]\n",
       "[1,]  2  \n",
       "[2,]  3  \n",
       "[3,] -1  \n",
       "[4,] -1  "
      ]
     },
     "metadata": {},
     "output_type": "display_data"
    }
   ],
   "source": [
    "solve(A) %*% b "
   ]
  },
  {
   "cell_type": "markdown",
   "id": "fdb83c9b-5a19-40e8-b481-c0e4420963bf",
   "metadata": {},
   "source": [
    "- solve(A): $A^{-1}$\n",
    "- `%*%` : 매트릭스의 곱셈을 해주는 연산자. "
   ]
  },
  {
   "cell_type": "markdown",
   "id": "65432cb7-5630-480a-b593-3960f328d164",
   "metadata": {},
   "source": [
    "따라서 $(w,x,y,z)=(2,3,-1,-1)$ 이다. "
   ]
  },
  {
   "cell_type": "markdown",
   "id": "7a6e2f21-912a-463b-bd9d-c81b0bb95bb9",
   "metadata": {},
   "source": [
    "`-` 방법2"
   ]
  },
  {
   "cell_type": "code",
   "execution_count": 16,
   "id": "9cb146e6-7943-4d22-b0b1-0e6a560543fc",
   "metadata": {},
   "outputs": [
    {
     "data": {
      "text/plain": [
       "     [,1] [,2] [,3] [,4]\n",
       "[1,] 1    2     3   4   \n",
       "[2,] 2    2     1   0   \n",
       "[3,] 0    1    -1   0   \n",
       "[4,] 3    1    -1   3   "
      ]
     },
     "metadata": {},
     "output_type": "display_data"
    }
   ],
   "source": [
    "A=rbind(c(1,2,3,4),c(2,2,1,0),c(0,1,-1,0),c(3,1,-1,3))\n",
    "A"
   ]
  },
  {
   "cell_type": "code",
   "execution_count": 17,
   "id": "27a4aef0-eedf-4156-962a-db82345676cd",
   "metadata": {},
   "outputs": [
    {
     "data": {
      "text/plain": [
       "[1] 1 9 4 7"
      ]
     },
     "metadata": {},
     "output_type": "display_data"
    }
   ],
   "source": [
    "b=c(1,9,4,7)\n",
    "b"
   ]
  },
  {
   "cell_type": "code",
   "execution_count": 19,
   "id": "e7cc6bb2-0559-4849-9a20-b1042749442d",
   "metadata": {},
   "outputs": [
    {
     "data": {
      "text/plain": [
       "     [,1]\n",
       "[1,]  2  \n",
       "[2,]  3  \n",
       "[3,] -1  \n",
       "[4,] -1  "
      ]
     },
     "metadata": {},
     "output_type": "display_data"
    }
   ],
   "source": [
    "solve(A)%*%b"
   ]
  }
 ],
 "metadata": {
  "kernelspec": {
   "display_name": "R",
   "language": "R",
   "name": "ir"
  },
  "language_info": {
   "codemirror_mode": "r",
   "file_extension": ".r",
   "mimetype": "text/x-r-source",
   "name": "R",
   "pygments_lexer": "r",
   "version": "4.0.5"
  }
 },
 "nbformat": 4,
 "nbformat_minor": 5
}
