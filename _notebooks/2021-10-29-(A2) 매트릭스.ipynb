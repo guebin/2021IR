{
 "cells": [
  {
   "cell_type": "code",
   "execution_count": 1,
   "id": "b68f5d2d-1bac-4f43-bdf9-ffdff60faaf5",
   "metadata": {},
   "outputs": [],
   "source": [
    "#hide\n",
    "options(jupyter.rich_display=FALSE)"
   ]
  },
  {
   "cell_type": "markdown",
   "id": "60cb1bf8-a28b-46d1-a737-0f0b55805f72",
   "metadata": {
    "tags": []
   },
   "source": [
    "# (A2) 매트릭스 \n",
    "> 매트릭스 \n",
    "\n",
    "- toc:true\n",
    "- branch: master\n",
    "- badges: true\n",
    "- comments: true\n",
    "- author: 최규빈"
   ]
  },
  {
   "cell_type": "markdown",
   "id": "10ae04dc-071c-4f2e-8c9b-67b3d1deae2f",
   "metadata": {},
   "source": [
    "### 강의영상 "
   ]
  },
  {
   "cell_type": "markdown",
   "id": "eba539c9-46b1-4d9c-b71c-d0f887182b8f",
   "metadata": {},
   "source": [
    "### 행렬과 연립일차방정식"
   ]
  },
  {
   "cell_type": "markdown",
   "id": "4a3614d7-0fe5-4d7e-a540-860540bc9280",
   "metadata": {},
   "source": [
    "`-` 예를들어 아래와 같은 문제가 있다고 하자. \n",
    "\n",
    "$\\begin{cases}\n",
    "w+2x+3y+4z=1 \\\\\n",
    "2w+2x+y=9 \\\\\n",
    "x-y=4 \\\\\n",
    "3w+x-y+3y=7\n",
    "\\end{cases}$\n"
   ]
  },
  {
   "cell_type": "markdown",
   "id": "62a9c373-ff68-4875-a98f-6d9b9f3e963d",
   "metadata": {},
   "source": [
    "\n",
    "`-` 매트릭스 형태로 위의 식을 표현하면 아래와 같다. \n",
    "\n",
    "$\\begin{bmatrix}\n",
    "1 & 2 & 3 & 4 \\\\ \n",
    "2 & 2 & 1 & 0 \\\\\n",
    "0 & 1 &-1 & 0 \\\\\n",
    "3 & 1 &-1 & 3 \n",
    "\\end{bmatrix}\n",
    "\\begin{bmatrix}\n",
    "w \\\\ x \\\\ y \\\\z \n",
    "\\end{bmatrix}=\\begin{bmatrix}\n",
    "1 \\\\ 9 \\\\ 4 \\\\7 \n",
    "\\end{bmatrix}$\n"
   ]
  },
  {
   "cell_type": "markdown",
   "id": "d6725d97-2263-4c92-8247-b8b7b4c56078",
   "metadata": {},
   "source": [
    "\n",
    "`-` 양변에 \n",
    "\n",
    "$\\begin{bmatrix}\n",
    "1 & 2 & 3 & 4 \\\\ \n",
    "2 & 2 & 1 & 0 \\\\\n",
    "0 & 1 &-1 & 0 \\\\\n",
    "3 & 1 &-1 & 3 \n",
    "\\end{bmatrix}$\n",
    "\n",
    "의 역행렬을 취하면 \n",
    "\n",
    "\n",
    "$\\begin{bmatrix}\n",
    "w \\\\ x \\\\ y \\\\z \n",
    "\\end{bmatrix}=\\begin{bmatrix}\n",
    "1 & 2 & 3 & 4 \\\\ \n",
    "2 & 2 & 1 & 0 \\\\\n",
    "0 & 1 &-1 & 0 \\\\\n",
    "3 & 1 &-1 & 3 \n",
    "\\end{bmatrix}^{-1}\\begin{bmatrix}\n",
    "1 \\\\ 9 \\\\ 4 \\\\7 \n",
    "\\end{bmatrix}$"
   ]
  },
  {
   "cell_type": "markdown",
   "id": "5ccf1f4f-ebbd-48bb-9d09-e4ac9f81bd83",
   "metadata": {},
   "source": [
    "### R로 구현"
   ]
  },
  {
   "cell_type": "markdown",
   "id": "e2fa54cd-a7df-4283-b812-cf30140dc792",
   "metadata": {},
   "source": [
    "`-` 아래와 같이 정의하자. "
   ]
  },
  {
   "cell_type": "markdown",
   "id": "26b34eac-0c0a-43b8-b587-7467a633a3ed",
   "metadata": {},
   "source": [
    "$A=\\begin{bmatrix}\n",
    "1 & 2 & 3 & 4 \\\\ \n",
    "2 & 2 & 1 & 0 \\\\\n",
    "0 & 1 &-1 & 0 \\\\\n",
    "3 & 1 &-1 & 3 \n",
    "\\end{bmatrix}$\n",
    "\n",
    "$b=\\begin{bmatrix}\n",
    "1 \\\\ 9 \\\\ 4 \\\\7 \n",
    "\\end{bmatrix}$"
   ]
  },
  {
   "cell_type": "markdown",
   "id": "275150a3-47b4-4af5-b2ea-8e7f96768804",
   "metadata": {},
   "source": [
    "`-` 결국 $A^{-1}b$를 구하면 된다. "
   ]
  },
  {
   "cell_type": "code",
   "execution_count": 12,
   "id": "94175733-5d1a-4ec3-90c6-458014b8af6b",
   "metadata": {},
   "outputs": [
    {
     "data": {
      "text/plain": [
       "     [,1] [,2] [,3] [,4]\n",
       "[1,] 1    2     3   4   \n",
       "[2,] 2    2     1   0   \n",
       "[3,] 0    1    -1   0   \n",
       "[4,] 3    1    -1   3   "
      ]
     },
     "metadata": {},
     "output_type": "display_data"
    }
   ],
   "source": [
    "A=rbind(c(1,2,3,4),c(2,2,1,0),c(0,1,-1,0),c(3,1,-1,3))\n",
    "A"
   ]
  },
  {
   "cell_type": "code",
   "execution_count": 13,
   "id": "5d4826fb-d895-41f6-8277-0f5b70c12250",
   "metadata": {},
   "outputs": [
    {
     "data": {
      "text/plain": [
       "[1] 1 9 4 7"
      ]
     },
     "metadata": {},
     "output_type": "display_data"
    }
   ],
   "source": [
    "b=c(1,9,4,7)\n",
    "b"
   ]
  },
  {
   "cell_type": "code",
   "execution_count": 14,
   "id": "5e545a5c-915c-4714-9f39-376b8265bf19",
   "metadata": {},
   "outputs": [
    {
     "data": {
      "text/plain": [
       "     [,1]\n",
       "[1,]  2  \n",
       "[2,]  3  \n",
       "[3,] -1  \n",
       "[4,] -1  "
      ]
     },
     "metadata": {},
     "output_type": "display_data"
    }
   ],
   "source": [
    "solve(A)%*% b "
   ]
  },
  {
   "cell_type": "markdown",
   "id": "1339df28-bbd2-4f8a-916c-b521c3a1fa8d",
   "metadata": {},
   "source": [
    "`-` 따라서 $w=2, x=3, y=-1, z=-1$"
   ]
  },
  {
   "cell_type": "markdown",
   "id": "383125d0-11f6-4aae-a64c-9916dd58c495",
   "metadata": {},
   "source": [
    "`-` 원래문제에 해를 대입하여 맞는지 확인해보자. \n",
    "\n",
    "$\\begin{cases}\n",
    "w+2x+3y+4z=1 \\\\\n",
    "2w+2x+y=9 \\\\\n",
    "x-y=4 \\\\\n",
    "3w+x-y+3z=7\n",
    "\\end{cases}$\n"
   ]
  }
 ],
 "metadata": {
  "kernelspec": {
   "display_name": "R",
   "language": "R",
   "name": "ir"
  },
  "language_info": {
   "codemirror_mode": "r",
   "file_extension": ".r",
   "mimetype": "text/x-r-source",
   "name": "R",
   "pygments_lexer": "r",
   "version": "4.0.5"
  }
 },
 "nbformat": 4,
 "nbformat_minor": 5
}
