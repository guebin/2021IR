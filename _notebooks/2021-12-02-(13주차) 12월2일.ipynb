{
 "cells": [
  {
   "cell_type": "markdown",
   "id": "fad98b65-3b11-4180-b306-03948ec8b51d",
   "metadata": {
    "tags": []
   },
   "source": [
    "# (13주차) 12월2일 \n",
    "> Rmarkdown으로 기술문서 만들기 \n",
    "\n",
    "- toc:true\n",
    "- branch: master\n",
    "- badges: true\n",
    "- comments: true\n",
    "- author: 최규빈"
   ]
  },
  {
   "cell_type": "markdown",
   "id": "d0034b59-6548-48ce-a404-d6858110809d",
   "metadata": {},
   "source": [
    "### 강의영상 "
   ]
  },
  {
   "cell_type": "markdown",
   "id": "11f2f175-aaed-4054-b222-ff01969e1203",
   "metadata": {},
   "source": [
    "> youtube: https://youtube.com/playlist?list=PLQqh36zP38-wXpjk-UFCOBv661xeiuJa8"
   ]
  },
  {
   "cell_type": "markdown",
   "id": "a83a640b-7b04-4f59-a112-65723d324f52",
   "metadata": {},
   "source": [
    "`-` 강의노트는 LMS참고하세요 "
   ]
  }
 ],
 "metadata": {
  "kernelspec": {
   "display_name": "R",
   "language": "R",
   "name": "ir"
  },
  "language_info": {
   "codemirror_mode": "r",
   "file_extension": ".r",
   "mimetype": "text/x-r-source",
   "name": "R",
   "pygments_lexer": "r",
   "version": "4.0.5"
  },
  "widgets": {
   "application/vnd.jupyter.widget-state+json": {
    "state": {},
    "version_major": 2,
    "version_minor": 0
   }
  }
 },
 "nbformat": 4,
 "nbformat_minor": 5
}
