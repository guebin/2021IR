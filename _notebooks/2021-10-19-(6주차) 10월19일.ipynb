{
 "cells": [
  {
   "cell_type": "code",
   "execution_count": 6,
   "id": "9c5de56d-c230-4cb5-a403-e2caaba09225",
   "metadata": {},
   "outputs": [],
   "source": [
    "#hide\n",
    "options(jupyter.plot_scale=3)\n",
    "options(jupyter.display_mimetypes=c(\"text/html\"))\n",
    "options(jupyter.rich_display=FALSE)\n",
    "options(repr.plot.width=6,repr.plot.height=6,repr.plot.res=300)\n",
    "options(max.print=1000)"
   ]
  },
  {
   "cell_type": "markdown",
   "id": "fa4fb2cd-a281-46e3-aa91-c630fdfd2a4e",
   "metadata": {
    "tags": []
   },
   "source": [
    "# (6주차) 10월19일\n",
    "> 숫자 카드 게임  \n",
    "\n",
    "- toc:true\n",
    "- branch: master\n",
    "- badges: true\n",
    "- comments: true\n",
    "- author: 최규빈"
   ]
  },
  {
   "cell_type": "markdown",
   "id": "925c51ef-2f37-46d4-b161-990aac973f02",
   "metadata": {},
   "source": [
    "### 숫자 카드 게임 (2019 국가 교육기관 코딩테스트) "
   ]
  },
  {
   "cell_type": "markdown",
   "id": "c2b62b11-02a3-48df-9933-70582e8bb35d",
   "metadata": {},
   "source": [
    "숫자 카드 게임은 여러개의 숫자중에서 가장 높은 숫자가 쓰인 카드를 한장 뽑는 게임이다. \n",
    "\n",
    "단, 게임의 룰을 지키며 카드를 뽑아야 하고 룰은 다음과 같다. \n",
    "\n",
    "- 숫자가 쓰인 카드들이 N $\\times $M 형태로 놓여 있다. \n",
    "- 먼저 뽑고자 하는 카드가 포함되어 있는 행을 선택한다. \n",
    "- 그 다음 선택된 행에 포함된 카드들 중에서 가장 숫자가 낮은 카드를 뽑아야 한다. \n",
    "- 따라서 처음에 카드를 골라낼 행을 선택할때, 이후에 해당 행에서 가장 숫자가 낮은 카드를 뽑을 것을 고려하여 최종적으로 가장 높은 숫자의 카드를 뽑을 수 있도록 전략을 세워야 한다. "
   ]
  },
  {
   "cell_type": "markdown",
   "id": "a3f4f7c3-2ea5-48ac-97b6-df6888050ba8",
   "metadata": {},
   "source": [
    "`-` 예시1\n",
    "\n",
    "```\n",
    "입력\n",
    "3 1 2 \n",
    "4 1 4 \n",
    "2 2 2 \n",
    "```\n",
    "\n",
    "```\n",
    "출력 \n",
    "2\n",
    "```"
   ]
  },
  {
   "cell_type": "markdown",
   "id": "10176e52-e98b-4fe3-99d7-ec65ec48c4d0",
   "metadata": {},
   "source": [
    "`-` 예시2\n",
    "\n",
    "```\n",
    "입력\n",
    "7 3 1 8 \n",
    "3 3 3 4 \n",
    "```\n",
    "\n",
    "```\n",
    "출력\n",
    "3\n",
    "```"
   ]
  },
  {
   "cell_type": "markdown",
   "id": "3788f779-9be1-44bd-b216-352dd82d6120",
   "metadata": {},
   "source": [
    "(풀이) "
   ]
  },
  {
   "cell_type": "markdown",
   "id": "61eff831-449d-490e-a680-e3247bbc4c76",
   "metadata": {},
   "source": [
    "(전략회의)"
   ]
  },
  {
   "cell_type": "code",
   "execution_count": 7,
   "id": "0a0f081a-8104-4dd6-968b-aec8101d7d3a",
   "metadata": {},
   "outputs": [],
   "source": [
    "a1=c(3,1,2) \n",
    "a2=c(4,1,4)\n",
    "a3=c(2,2,2)"
   ]
  },
  {
   "cell_type": "markdown",
   "id": "314d320e-fbda-48a6-83b8-c8c1a2e29321",
   "metadata": {},
   "source": [
    "우리는 일단 아래와 같은 모양을 만들어야함 "
   ]
  },
  {
   "cell_type": "markdown",
   "id": "cf0762af-b004-417c-9094-98e5802de59e",
   "metadata": {},
   "source": [
    "```\n",
    "3 1 2\n",
    "4 1 4 \n",
    "2 2 2 \n",
    "```"
   ]
  },
  {
   "cell_type": "markdown",
   "id": "818f2bc9-91e4-4dcd-9ace-5b46a349750c",
   "metadata": {},
   "source": [
    "a1,a2,a3을 각각 row-vector 로 해석하고 bind 하면된다. "
   ]
  },
  {
   "cell_type": "code",
   "execution_count": 15,
   "id": "ece354d1-4e66-4ab3-8bfc-172916e0d6e4",
   "metadata": {},
   "outputs": [],
   "source": [
    "A = rbind(a1,a2,a3)"
   ]
  },
  {
   "cell_type": "code",
   "execution_count": 16,
   "id": "63df19a8-11a5-4229-bcf1-f0ca04a51440",
   "metadata": {},
   "outputs": [
    {
     "data": {
      "text/plain": [
       "   [,1] [,2] [,3]\n",
       "a1 3    1    2   \n",
       "a2 4    1    4   \n",
       "a3 2    2    2   "
      ]
     },
     "metadata": {},
     "output_type": "display_data"
    }
   ],
   "source": [
    "A"
   ]
  },
  {
   "cell_type": "code",
   "execution_count": 17,
   "id": "ff64a485-f60c-405b-8307-3914be535693",
   "metadata": {},
   "outputs": [],
   "source": [
    "A= rbind(c(3,1,2),c(4,1,4),c(2,2,2))"
   ]
  },
  {
   "cell_type": "markdown",
   "id": "c7487596-61c3-4209-9d14-037010d04acb",
   "metadata": {},
   "source": [
    "입력이 A일경우 출력이 2가 나와야한다. "
   ]
  },
  {
   "cell_type": "markdown",
   "id": "ee5ba1b1-8e20-4b8f-9a03-c900ea5764f2",
   "metadata": {},
   "source": [
    "전략: \n",
    "1. A의 각 행(row)을 돌아가면서 가장 작은 숫자를 찾아 기록한다. \n",
    "2. 기록한 숫자들을 모아서 벡터로 만든다. \n",
    "3. 벡터의 최대값을 구한다. "
   ]
  },
  {
   "cell_type": "markdown",
   "id": "89086046-ebe6-4f64-9bd9-9b824cf534f5",
   "metadata": {},
   "source": [
    "할수있어야 하는것 \n",
    "\n",
    "- A의 1번째 행, 2번째행, 3번째행을 순서대로 뽑을수 잇어야 한다. "
   ]
  },
  {
   "cell_type": "markdown",
   "id": "a5e52305-58b8-447d-a5de-a0cd30b88201",
   "metadata": {},
   "source": [
    "(실질적풀이)"
   ]
  },
  {
   "cell_type": "code",
   "execution_count": 59,
   "id": "a58ddbec-882e-46ca-b3c5-66073ecacebf",
   "metadata": {},
   "outputs": [],
   "source": [
    "A= rbind(c(3,1,2),c(4,1,4),c(2,2,2))"
   ]
  },
  {
   "cell_type": "code",
   "execution_count": 60,
   "id": "2c352f75-ed90-48ad-ad97-e34cd0e94760",
   "metadata": {},
   "outputs": [],
   "source": [
    "vec<-c()\n",
    "for (i in 1:3) vec[i]<- min(A[i,])"
   ]
  },
  {
   "cell_type": "code",
   "execution_count": 61,
   "id": "772cfb40-83c3-4824-b0b1-3c799a42055b",
   "metadata": {},
   "outputs": [
    {
     "data": {
      "text/plain": [
       "[1] 2"
      ]
     },
     "metadata": {},
     "output_type": "display_data"
    }
   ],
   "source": [
    "max(vec)"
   ]
  },
  {
   "cell_type": "markdown",
   "id": "2092ab16-5c21-465e-a95b-57e86c0c9b8b",
   "metadata": {},
   "source": [
    "`-` 입력이 아래와 같은 경우 "
   ]
  },
  {
   "cell_type": "markdown",
   "id": "401212d3-5588-4e31-970e-31a19bb771d3",
   "metadata": {},
   "source": [
    "```\n",
    "7 3 1 8 \n",
    "3 3 3 4 \n",
    "```"
   ]
  },
  {
   "cell_type": "code",
   "execution_count": 62,
   "id": "08455818-d476-4a2b-a365-b96840663a28",
   "metadata": {},
   "outputs": [],
   "source": [
    "A=rbind(c(7,3,1,8),c(3,3,3,4)) "
   ]
  },
  {
   "cell_type": "code",
   "execution_count": 64,
   "id": "911b5770-0bad-4a38-b947-503a0e7dac32",
   "metadata": {},
   "outputs": [],
   "source": [
    "vec<-c()\n",
    "for (i in 1:2) vec[i]<- min(A[i,])"
   ]
  },
  {
   "cell_type": "code",
   "execution_count": 65,
   "id": "95241a14-d6b6-433e-a1da-0d6e9c586734",
   "metadata": {},
   "outputs": [
    {
     "data": {
      "text/plain": [
       "[1] 3"
      ]
     },
     "metadata": {},
     "output_type": "display_data"
    }
   ],
   "source": [
    "max(vec)"
   ]
  },
  {
   "cell_type": "markdown",
   "id": "a9821b3e-6b05-4525-82d3-99d526abdd74",
   "metadata": {},
   "source": [
    "### 숙제"
   ]
  },
  {
   "cell_type": "markdown",
   "id": "f886fb3b-c123-4926-8b61-599f690bc353",
   "metadata": {},
   "source": [
    "입력구조가 \n",
    "```\n",
    "3 4 5 1 \n",
    "7 7 7 2 \n",
    "8 1 8 2\n",
    "3 3 4 5 \n",
    "```"
   ]
  },
  {
   "cell_type": "markdown",
   "id": "39357d24-f9d1-4882-bd4a-f2ce495a07cb",
   "metadata": {},
   "source": [
    "출력을 구하는 코드를 작성하시오. "
   ]
  },
  {
   "cell_type": "code",
   "execution_count": null,
   "id": "940f11f0-4eb0-4da3-9e2e-951f9fcc1e40",
   "metadata": {},
   "outputs": [],
   "source": []
  }
 ],
 "metadata": {
  "kernelspec": {
   "display_name": "R",
   "language": "R",
   "name": "ir"
  },
  "language_info": {
   "codemirror_mode": "r",
   "file_extension": ".r",
   "mimetype": "text/x-r-source",
   "name": "R",
   "pygments_lexer": "r",
   "version": "4.0.5"
  }
 },
 "nbformat": 4,
 "nbformat_minor": 5
}
