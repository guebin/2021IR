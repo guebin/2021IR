{
 "cells": [
  {
   "cell_type": "markdown",
   "id": "cd0b452a-d6b0-4bb5-945a-f88ef93a7f89",
   "metadata": {
    "tags": []
   },
   "source": [
    "# 2021년 1학기 R입문 기말고사 예상문제 (ver 0.3)\n",
    "\n",
    "- toc:false\n",
    "- branch: master\n",
    "- badges: true\n",
    "- comments: true\n",
    "- author: 최규빈"
   ]
  },
  {
   "cell_type": "code",
   "execution_count": 3,
   "id": "a27abf35-cdef-4797-a470-e479ecad2a93",
   "metadata": {
    "tags": []
   },
   "outputs": [],
   "source": [
    "#hide\n",
    "options(jupyter.rich_display=FALSE)\n",
    "options(repr.plot.width=6,repr.plot.height=6,repr.plot.res=300)\n",
    "options(max.print=1000)"
   ]
  },
  {
   "cell_type": "markdown",
   "id": "21a0f600-e9bc-4909-b9e8-ca4c2900b20f",
   "metadata": {},
   "source": [
    "## `1`. 다음을 잘 읽고 물음에 답하라. "
   ]
  },
  {
   "cell_type": "markdown",
   "id": "317e056c-4165-4222-a637-0c6ac78ee201",
   "metadata": {},
   "source": [
    "아래와 같은 수식을 고려하자. \n",
    "\n",
    "$$y_i= 1.5+ 5\\sin(t_i)+ 3 \\cos(4 t_i)+\\epsilon_i, \\quad i=1,2,\\dots, 1000$$\n",
    "\n",
    "여기에서 $t_i=\\frac{2\\pi i}{1000}$ 이다. 그리고 $\\epsilon_i \\sim i.i.d~ N(0,1)$, 즉 서로 독립인 표준정규분포에서 추출된 샘플이다. "
   ]
  },
  {
   "cell_type": "markdown",
   "id": "620fd982-09c7-49ee-8faf-926bd5a09dd2",
   "metadata": {},
   "source": [
    "#### `(1)` `rnorm()`을 이용하여 $\\{\\epsilon_i \\}_{i=1}^{1000}$ 을 만들고 이를 벡터로 만들어라. 즉 아래와 같은 벡터를 생성하라. \n",
    "\n",
    "- $\\boldsymbol{\\epsilon}=(\\epsilon_1,\\dots,\\epsilon_{1000})$"
   ]
  },
  {
   "cell_type": "markdown",
   "id": "dd52f507-e2b6-4f65-a06c-2ee05620db5a",
   "metadata": {},
   "source": [
    "#### `(2)` $\\big\\{\\sin(t_i) \\big\\}_{i=1}^{1000}$와 $\\big\\{\\cos(4t_i) \\big\\}_{i=1}^{1000}$를 각각 생성하고 이를 ${\\bf x}_1$와 ${\\bf x}_2$에 저장하라. 즉 아래와 같은 2개의 벡터를 생성하라. \n",
    "- ${\\bf x}_1=\\big(\\sin(\\frac{2\\pi}{1000}),\\sin(\\frac{4\\pi}{1000}),\\dots,\\sin(2\\pi)\\big)$\n",
    "- ${\\bf x}_2=\\big(\\cos(\\frac{4\\pi}{1000}),\\cos(\\frac{8\\pi}{1000}),\\dots,\\cos(8\\pi)\\big)$"
   ]
  },
  {
   "cell_type": "markdown",
   "id": "a04cf768-c251-49b2-b75c-227703917abc",
   "metadata": {},
   "source": [
    "#### `(3)` (1),(2)로 부터 $y_i$를 계산하고, $(t_i,y_i)$를 scatter plot으로 시각화 하라. 색은 'gray60'을 사용하라. 시각화 예시는 아래와 같다. "
   ]
  },
  {
   "cell_type": "markdown",
   "id": "fb516585-3317-43ac-80d2-867a5953e203",
   "metadata": {},
   "source": [
    "![](https://github.com/guebin/2021IR/blob/master/_notebooks/final_fig1.png?raw=true)"
   ]
  },
  {
   "cell_type": "markdown",
   "id": "2aa97a6f-5be5-4dab-9ffd-cb05cafa1057",
   "metadata": {},
   "source": [
    "#### `(4)` 두 벡터 ${\\bf x}_1$, ${\\bf x}_2$와 `cbind()`를 이용하여 아래와 같은 $1000 \\times 3$ 매트릭스 ${\\bf X}$를 만들어라. "
   ]
  },
  {
   "cell_type": "markdown",
   "id": "1a7a9102-3f73-495b-9232-38d1a6a5d979",
   "metadata": {},
   "source": [
    "$${\\bf X}=\\begin{bmatrix}\n",
    "1 & \\sin(\\frac{2\\pi}{1000}) & \\cos(\\frac{4\\pi}{1000})\\\\ \n",
    "1 & \\sin(\\frac{4\\pi}{1000}) & \\cos(\\frac{8\\pi}{1000})\\\\ \n",
    "\\dots & \\dots  & \\dots \\\\ \n",
    "1 & \\sin(2\\pi) & \\cos(8\\pi)\\\\ \n",
    "\\end{bmatrix} $$ "
   ]
  },
  {
   "cell_type": "markdown",
   "id": "d09a138b-47fe-479b-a04e-3043d2c3ba86",
   "metadata": {},
   "source": [
    "#### `(5)` $3 \\times 1$ 매트릭스 $\\boldsymbol{\\beta}=\\begin{bmatrix} 1.5 \\\\ 5 \\\\ 3 \\end{bmatrix}$를 만들고 매트릭스 곱을 이용하여 ${\\bf X} {\\boldsymbol \\beta}$를 계산하라. 계산결과를 벡터화하고 (3)의 $y$축에 붉은선으로 시각화 하라. 시각화 예시는 아래와 같다. (필요하다면 적절하게 선의 굵기를 조정할 것) "
   ]
  },
  {
   "cell_type": "markdown",
   "id": "99111d0a-5dbc-42db-81f5-b216f9f907db",
   "metadata": {},
   "source": [
    "![](https://github.com/guebin/2021IR/blob/master/_notebooks/final_fig2.png?raw=true)"
   ]
  },
  {
   "cell_type": "markdown",
   "id": "bd53c3f9-ec49-413b-93fc-4b30c9cf6081",
   "metadata": {
    "tags": []
   },
   "source": [
    "#### `(6)` 아래의 수식을 이용하여 $\\boldsymbol{\\hat\\beta}$를 계산하고 계산결과를 $\\boldsymbol{\\beta}$와 비교하라. \n",
    "\n",
    "$$ \\boldsymbol{\\hat\\beta} = ({\\bf X}^\\top {\\bf X})^{-1}{\\bf X}^\\top {\\bf y}$$ "
   ]
  },
  {
   "cell_type": "markdown",
   "id": "eacf1fac-403a-49d0-961a-8275b1446a60",
   "metadata": {},
   "source": [
    "여기에서 ${\\bf X}$와 ${\\bf y}$는 각각 아래와 같다. \n",
    "\n",
    "- ${\\bf X}=\\begin{bmatrix}\n",
    "1 & \\sin(\\frac{2\\pi}{1000}) & \\cos(\\frac{4\\pi}{1000})\\\\ \n",
    "1 & \\sin(\\frac{4\\pi}{1000}) & \\cos(\\frac{8\\pi}{1000})\\\\ \n",
    "\\dots & \\dots  & \\dots \\\\ \n",
    "1 & \\sin(2\\pi) & \\cos(8\\pi)\\\\ \n",
    "\\end{bmatrix}$,  $\\quad {\\bf y}=\\begin{bmatrix} y_1\\\\ y_2\\\\ \\dots \\\\ y_{1000}\\\\ \\end{bmatrix}$"
   ]
  },
  {
   "cell_type": "markdown",
   "id": "5c9c3816-5af7-46f2-9680-b0e97e729789",
   "metadata": {},
   "source": [
    "또한 ${\\bf X}^\\top$는 ${\\bf X}$의 전치행렬(transpose) 그리고 $({\\bf X}^\\top {\\bf X})^{-1}$은 ${\\bf X}^\\top {\\bf X}$의 역행렬을 의미한다. "
   ]
  },
  {
   "cell_type": "markdown",
   "id": "8f836f58-cb7d-4b0e-9e6c-612030446856",
   "metadata": {},
   "source": [
    "#### `(7)` ${\\bf X}\\boldsymbol{\\hat\\beta}$를 계산하라. 계산결과를 벡터화 하고 (5)의 시각화 결과에 푸른점선으로 시각화 하라. 시각화 예시는 아래와 같다. (필요하다면 적절하게 선의 굵기를 조정할 것) "
   ]
  },
  {
   "cell_type": "markdown",
   "id": "e2bdb6c4-fa29-4f07-8c50-5531fc325059",
   "metadata": {},
   "source": [
    "![](https://github.com/guebin/2021IR/blob/master/_notebooks/final_fig3.png?raw=true)"
   ]
  },
  {
   "cell_type": "markdown",
   "id": "743acaff-fba8-4bdd-83a0-9bff1bd4805c",
   "metadata": {},
   "source": [
    "## `2`. 다음을 잘 읽고 물음에 답하라. \n",
    "\n",
    "#### `(1)` 함수 $f(x)=\\frac{1}{2\\pi}e^{-\\frac{1}{2}x^2}$에 대하여 $\\int_{-1.96}^{1.96}f(x)dx$의 값을 `runif()`를 이용한 몬테카를로 적분으로 계산하라. "
   ]
  },
  {
   "cell_type": "markdown",
   "id": "feb55d2e-1824-4ada-b0fc-a2c5e934c5c1",
   "metadata": {
    "tags": []
   },
   "source": [
    "#### `(2)` `rnorm()`을 이용하여 표준정규분포에서 1000개의 확률변수를 생성하고 생성된 확률변수들 중 구간 $(-1.96 , 1.96)$사이에 있는 확률변수를 count하라. "
   ]
  },
  {
   "cell_type": "markdown",
   "id": "b37287d2-025e-4aaa-bb88-435403610185",
   "metadata": {},
   "source": [
    "## `3`."
   ]
  },
  {
   "cell_type": "code",
   "execution_count": null,
   "id": "895d8adb-a6ac-49a6-bd31-33f2c27f062a",
   "metadata": {},
   "outputs": [],
   "source": []
  }
 ],
 "metadata": {
  "kernelspec": {
   "display_name": "R",
   "language": "R",
   "name": "ir"
  },
  "language_info": {
   "codemirror_mode": "r",
   "file_extension": ".r",
   "mimetype": "text/x-r-source",
   "name": "R",
   "pygments_lexer": "r",
   "version": "4.1.1"
  },
  "widgets": {
   "application/vnd.jupyter.widget-state+json": {
    "state": {},
    "version_major": 2,
    "version_minor": 0
   }
  }
 },
 "nbformat": 4,
 "nbformat_minor": 5
}
