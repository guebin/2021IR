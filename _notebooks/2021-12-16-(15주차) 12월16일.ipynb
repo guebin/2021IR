{
 "cells": [
  {
   "cell_type": "markdown",
   "id": "f8ed8275-7874-41db-ab86-b1398236dd60",
   "metadata": {
    "tags": []
   },
   "source": [
    "# (15주차) 12월14일 \n",
    "> 데이터프레임, 티블 \n",
    "\n",
    "- toc:true\n",
    "- branch: master\n",
    "- badges: true\n",
    "- comments: true\n",
    "- author: 최규빈"
   ]
  },
  {
   "cell_type": "markdown",
   "id": "52a8a0cf-aa02-40cc-aa0c-f60022d85f15",
   "metadata": {},
   "source": [
    "### 강의영상 "
   ]
  },
  {
   "cell_type": "markdown",
   "id": "b19e8a3e-96ea-4378-8d48-aadb0b1e8b77",
   "metadata": {},
   "source": [
    "> youtube: https://youtube.com/playlist?list=PLQqh36zP38-wtSwEWZxO-4n5pYTJuCF6I"
   ]
  },
  {
   "cell_type": "markdown",
   "id": "e8062f41-fc11-40cb-9a8c-428a31e539c4",
   "metadata": {},
   "source": [
    "`-` (1/3) 데이터프레임, 티블 (1)\n",
    "\n",
    "`-` (2/3) 데이터프레임, 티블 (2)\n",
    "\n",
    "`-` (3/3) 기말고사관련 설명 "
   ]
  },
  {
   "cell_type": "code",
   "execution_count": 1,
   "id": "5793e90b-4096-4cb0-ab4d-3a198884522e",
   "metadata": {},
   "outputs": [
    {
     "name": "stderr",
     "output_type": "stream",
     "text": [
      "── \u001b[1mAttaching packages\u001b[22m ─────────────────────────────────────── tidyverse 1.3.1 ──\n",
      "\n",
      "\u001b[32m✔\u001b[39m \u001b[34mggplot2\u001b[39m 3.3.5     \u001b[32m✔\u001b[39m \u001b[34mpurrr  \u001b[39m 0.3.4\n",
      "\u001b[32m✔\u001b[39m \u001b[34mtibble \u001b[39m 3.1.6     \u001b[32m✔\u001b[39m \u001b[34mdplyr  \u001b[39m 1.0.7\n",
      "\u001b[32m✔\u001b[39m \u001b[34mtidyr  \u001b[39m 1.1.4     \u001b[32m✔\u001b[39m \u001b[34mstringr\u001b[39m 1.4.0\n",
      "\u001b[32m✔\u001b[39m \u001b[34mreadr  \u001b[39m 2.1.1     \u001b[32m✔\u001b[39m \u001b[34mforcats\u001b[39m 0.5.1\n",
      "\n",
      "── \u001b[1mConflicts\u001b[22m ────────────────────────────────────────── tidyverse_conflicts() ──\n",
      "\u001b[31m✖\u001b[39m \u001b[34mdplyr\u001b[39m::\u001b[32mfilter()\u001b[39m masks \u001b[34mstats\u001b[39m::filter()\n",
      "\u001b[31m✖\u001b[39m \u001b[34mdplyr\u001b[39m::\u001b[32mlag()\u001b[39m    masks \u001b[34mstats\u001b[39m::lag()\n",
      "\n"
     ]
    }
   ],
   "source": [
    "library(tidyverse) "
   ]
  },
  {
   "cell_type": "markdown",
   "id": "6101fcd2-e244-4940-bea1-e27e6e01c075",
   "metadata": {},
   "source": [
    "### 데이터프레임, 티블을 만드는 방법 "
   ]
  },
  {
   "cell_type": "markdown",
   "id": "55bf13a9-4252-4efc-966a-4b2d6dd9df10",
   "metadata": {},
   "source": [
    "`-` 방법1: 선언하여 만들기 (새롭게 정의) "
   ]
  },
  {
   "cell_type": "code",
   "execution_count": 2,
   "id": "b3830c48-a866-4f68-a2ec-b02bb962f99e",
   "metadata": {},
   "outputs": [
    {
     "data": {
      "text/html": [
       "<table class=\"dataframe\">\n",
       "<caption>A tibble: 3 × 3</caption>\n",
       "<thead>\n",
       "\t<tr><th scope=col>v1</th><th scope=col>v2</th><th scope=col>v3</th></tr>\n",
       "\t<tr><th scope=col>&lt;int&gt;</th><th scope=col>&lt;lgl&gt;</th><th scope=col>&lt;chr&gt;</th></tr>\n",
       "</thead>\n",
       "<tbody>\n",
       "\t<tr><td>1</td><td> TRUE</td><td>a</td></tr>\n",
       "\t<tr><td>2</td><td>FALSE</td><td>b</td></tr>\n",
       "\t<tr><td>3</td><td> TRUE</td><td>c</td></tr>\n",
       "</tbody>\n",
       "</table>\n"
      ],
      "text/latex": [
       "A tibble: 3 × 3\n",
       "\\begin{tabular}{lll}\n",
       " v1 & v2 & v3\\\\\n",
       " <int> & <lgl> & <chr>\\\\\n",
       "\\hline\n",
       "\t 1 &  TRUE & a\\\\\n",
       "\t 2 & FALSE & b\\\\\n",
       "\t 3 &  TRUE & c\\\\\n",
       "\\end{tabular}\n"
      ],
      "text/markdown": [
       "\n",
       "A tibble: 3 × 3\n",
       "\n",
       "| v1 &lt;int&gt; | v2 &lt;lgl&gt; | v3 &lt;chr&gt; |\n",
       "|---|---|---|\n",
       "| 1 |  TRUE | a |\n",
       "| 2 | FALSE | b |\n",
       "| 3 |  TRUE | c |\n",
       "\n"
      ],
      "text/plain": [
       "  v1 v2    v3\n",
       "1 1   TRUE a \n",
       "2 2  FALSE b \n",
       "3 3   TRUE c "
      ]
     },
     "metadata": {},
     "output_type": "display_data"
    }
   ],
   "source": [
    "tibble(v1=1:3, v2=c(T,F,T), v3=c('a','b','c'))"
   ]
  },
  {
   "cell_type": "markdown",
   "id": "385ac66b-1841-44ab-8d7d-e35fd8c2fa6a",
   "metadata": {},
   "source": [
    "- 각 열들의 자료형이 모두 달라도 가능 (티블의 매력) \n",
    "- 티블의 형태는 매트릭스 같지만 이처럼 다른 자료형이 들어가는 것은 리스트를 연상시킴 "
   ]
  },
  {
   "cell_type": "markdown",
   "id": "2a8828fa-443a-4218-a2ff-1e5783edfff7",
   "metadata": {},
   "source": [
    "`-` 방법2: 선언하여 만들기2 (기존에 정의된 벡터들을 활용) "
   ]
  },
  {
   "cell_type": "code",
   "execution_count": 3,
   "id": "82b0348d-2c91-46ce-a861-cdab51c7e5be",
   "metadata": {},
   "outputs": [
    {
     "data": {
      "text/html": [
       "<table class=\"dataframe\">\n",
       "<caption>A tibble: 5 × 2</caption>\n",
       "<thead>\n",
       "\t<tr><th scope=col>x</th><th scope=col>y</th></tr>\n",
       "\t<tr><th scope=col>&lt;int&gt;</th><th scope=col>&lt;chr&gt;</th></tr>\n",
       "</thead>\n",
       "<tbody>\n",
       "\t<tr><td>1</td><td>a</td></tr>\n",
       "\t<tr><td>2</td><td>b</td></tr>\n",
       "\t<tr><td>3</td><td>c</td></tr>\n",
       "\t<tr><td>4</td><td>d</td></tr>\n",
       "\t<tr><td>5</td><td>e</td></tr>\n",
       "</tbody>\n",
       "</table>\n"
      ],
      "text/latex": [
       "A tibble: 5 × 2\n",
       "\\begin{tabular}{ll}\n",
       " x & y\\\\\n",
       " <int> & <chr>\\\\\n",
       "\\hline\n",
       "\t 1 & a\\\\\n",
       "\t 2 & b\\\\\n",
       "\t 3 & c\\\\\n",
       "\t 4 & d\\\\\n",
       "\t 5 & e\\\\\n",
       "\\end{tabular}\n"
      ],
      "text/markdown": [
       "\n",
       "A tibble: 5 × 2\n",
       "\n",
       "| x &lt;int&gt; | y &lt;chr&gt; |\n",
       "|---|---|\n",
       "| 1 | a |\n",
       "| 2 | b |\n",
       "| 3 | c |\n",
       "| 4 | d |\n",
       "| 5 | e |\n",
       "\n"
      ],
      "text/plain": [
       "  x y\n",
       "1 1 a\n",
       "2 2 b\n",
       "3 3 c\n",
       "4 4 d\n",
       "5 5 e"
      ]
     },
     "metadata": {},
     "output_type": "display_data"
    }
   ],
   "source": [
    "x=1:5\n",
    "y=c('a','b','c','d','e')\n",
    "tibble(x,y)"
   ]
  },
  {
   "cell_type": "code",
   "execution_count": 4,
   "id": "a360147a-a8e3-40d7-806f-f325062a2c13",
   "metadata": {},
   "outputs": [
    {
     "data": {
      "text/html": [
       "<table class=\"dataframe\">\n",
       "<caption>A tibble: 5 × 2</caption>\n",
       "<thead>\n",
       "\t<tr><th scope=col>v1</th><th scope=col>v2</th></tr>\n",
       "\t<tr><th scope=col>&lt;int&gt;</th><th scope=col>&lt;chr&gt;</th></tr>\n",
       "</thead>\n",
       "<tbody>\n",
       "\t<tr><td>1</td><td>a</td></tr>\n",
       "\t<tr><td>2</td><td>b</td></tr>\n",
       "\t<tr><td>3</td><td>c</td></tr>\n",
       "\t<tr><td>4</td><td>d</td></tr>\n",
       "\t<tr><td>5</td><td>e</td></tr>\n",
       "</tbody>\n",
       "</table>\n"
      ],
      "text/latex": [
       "A tibble: 5 × 2\n",
       "\\begin{tabular}{ll}\n",
       " v1 & v2\\\\\n",
       " <int> & <chr>\\\\\n",
       "\\hline\n",
       "\t 1 & a\\\\\n",
       "\t 2 & b\\\\\n",
       "\t 3 & c\\\\\n",
       "\t 4 & d\\\\\n",
       "\t 5 & e\\\\\n",
       "\\end{tabular}\n"
      ],
      "text/markdown": [
       "\n",
       "A tibble: 5 × 2\n",
       "\n",
       "| v1 &lt;int&gt; | v2 &lt;chr&gt; |\n",
       "|---|---|\n",
       "| 1 | a |\n",
       "| 2 | b |\n",
       "| 3 | c |\n",
       "| 4 | d |\n",
       "| 5 | e |\n",
       "\n"
      ],
      "text/plain": [
       "  v1 v2\n",
       "1 1  a \n",
       "2 2  b \n",
       "3 3  c \n",
       "4 4  d \n",
       "5 5  e "
      ]
     },
     "metadata": {},
     "output_type": "display_data"
    }
   ],
   "source": [
    "tibble(v1=x,v2=y)"
   ]
  },
  {
   "cell_type": "markdown",
   "id": "74d160d6-4995-4628-918b-01cac0414c0d",
   "metadata": {},
   "source": [
    "`-` 방법3: 벡터나 매트릭스를 만들고 그것을 티블로 변형 "
   ]
  },
  {
   "cell_type": "code",
   "execution_count": 6,
   "id": "18db1cd3-4192-4c33-8b2d-2d797926da80",
   "metadata": {},
   "outputs": [
    {
     "data": {
      "text/html": [
       "<table class=\"dataframe\">\n",
       "<caption>A tibble: 5 × 1</caption>\n",
       "<thead>\n",
       "\t<tr><th scope=col>value</th></tr>\n",
       "\t<tr><th scope=col>&lt;int&gt;</th></tr>\n",
       "</thead>\n",
       "<tbody>\n",
       "\t<tr><td>1</td></tr>\n",
       "\t<tr><td>2</td></tr>\n",
       "\t<tr><td>3</td></tr>\n",
       "\t<tr><td>4</td></tr>\n",
       "\t<tr><td>5</td></tr>\n",
       "</tbody>\n",
       "</table>\n"
      ],
      "text/latex": [
       "A tibble: 5 × 1\n",
       "\\begin{tabular}{l}\n",
       " value\\\\\n",
       " <int>\\\\\n",
       "\\hline\n",
       "\t 1\\\\\n",
       "\t 2\\\\\n",
       "\t 3\\\\\n",
       "\t 4\\\\\n",
       "\t 5\\\\\n",
       "\\end{tabular}\n"
      ],
      "text/markdown": [
       "\n",
       "A tibble: 5 × 1\n",
       "\n",
       "| value &lt;int&gt; |\n",
       "|---|\n",
       "| 1 |\n",
       "| 2 |\n",
       "| 3 |\n",
       "| 4 |\n",
       "| 5 |\n",
       "\n"
      ],
      "text/plain": [
       "  value\n",
       "1 1    \n",
       "2 2    \n",
       "3 3    \n",
       "4 4    \n",
       "5 5    "
      ]
     },
     "metadata": {},
     "output_type": "display_data"
    }
   ],
   "source": [
    "as_tibble(x)"
   ]
  },
  {
   "cell_type": "code",
   "execution_count": 10,
   "id": "476abbef-3f3d-4863-9e04-bde09cea0bcf",
   "metadata": {},
   "outputs": [
    {
     "data": {
      "text/html": [
       "<table class=\"dataframe\">\n",
       "<caption>A tibble: 5 × 2</caption>\n",
       "<thead>\n",
       "\t<tr><th scope=col>x</th><th scope=col>y</th></tr>\n",
       "\t<tr><th scope=col>&lt;chr&gt;</th><th scope=col>&lt;chr&gt;</th></tr>\n",
       "</thead>\n",
       "<tbody>\n",
       "\t<tr><td>1</td><td>a</td></tr>\n",
       "\t<tr><td>2</td><td>b</td></tr>\n",
       "\t<tr><td>3</td><td>c</td></tr>\n",
       "\t<tr><td>4</td><td>d</td></tr>\n",
       "\t<tr><td>5</td><td>e</td></tr>\n",
       "</tbody>\n",
       "</table>\n"
      ],
      "text/latex": [
       "A tibble: 5 × 2\n",
       "\\begin{tabular}{ll}\n",
       " x & y\\\\\n",
       " <chr> & <chr>\\\\\n",
       "\\hline\n",
       "\t 1 & a\\\\\n",
       "\t 2 & b\\\\\n",
       "\t 3 & c\\\\\n",
       "\t 4 & d\\\\\n",
       "\t 5 & e\\\\\n",
       "\\end{tabular}\n"
      ],
      "text/markdown": [
       "\n",
       "A tibble: 5 × 2\n",
       "\n",
       "| x &lt;chr&gt; | y &lt;chr&gt; |\n",
       "|---|---|\n",
       "| 1 | a |\n",
       "| 2 | b |\n",
       "| 3 | c |\n",
       "| 4 | d |\n",
       "| 5 | e |\n",
       "\n"
      ],
      "text/plain": [
       "  x y\n",
       "1 1 a\n",
       "2 2 b\n",
       "3 3 c\n",
       "4 4 d\n",
       "5 5 e"
      ]
     },
     "metadata": {},
     "output_type": "display_data"
    }
   ],
   "source": [
    "as_tibble(cbind(x,y))"
   ]
  },
  {
   "cell_type": "markdown",
   "id": "bc3e713b-c4a9-41c4-be54-8fa349f9019b",
   "metadata": {},
   "source": [
    "- 모든 컬럼이 chr로 저장되는 단점이 있음 "
   ]
  },
  {
   "cell_type": "markdown",
   "id": "a29da9d5-1e8d-47f0-a868-4fae1878dca7",
   "metadata": {},
   "source": [
    "`-` 방법4: 리스트를 만들고 그것을 티블로 변형 "
   ]
  },
  {
   "cell_type": "code",
   "execution_count": 13,
   "id": "ef03a9fd-a888-4161-8157-852e4cec955b",
   "metadata": {},
   "outputs": [
    {
     "data": {
      "text/html": [
       "<table class=\"dataframe\">\n",
       "<caption>A tibble: 5 × 2</caption>\n",
       "<thead>\n",
       "\t<tr><th scope=col>x</th><th scope=col>y</th></tr>\n",
       "\t<tr><th scope=col>&lt;int&gt;</th><th scope=col>&lt;chr&gt;</th></tr>\n",
       "</thead>\n",
       "<tbody>\n",
       "\t<tr><td>1</td><td>a</td></tr>\n",
       "\t<tr><td>2</td><td>b</td></tr>\n",
       "\t<tr><td>3</td><td>c</td></tr>\n",
       "\t<tr><td>4</td><td>d</td></tr>\n",
       "\t<tr><td>5</td><td>e</td></tr>\n",
       "</tbody>\n",
       "</table>\n"
      ],
      "text/latex": [
       "A tibble: 5 × 2\n",
       "\\begin{tabular}{ll}\n",
       " x & y\\\\\n",
       " <int> & <chr>\\\\\n",
       "\\hline\n",
       "\t 1 & a\\\\\n",
       "\t 2 & b\\\\\n",
       "\t 3 & c\\\\\n",
       "\t 4 & d\\\\\n",
       "\t 5 & e\\\\\n",
       "\\end{tabular}\n"
      ],
      "text/markdown": [
       "\n",
       "A tibble: 5 × 2\n",
       "\n",
       "| x &lt;int&gt; | y &lt;chr&gt; |\n",
       "|---|---|\n",
       "| 1 | a |\n",
       "| 2 | b |\n",
       "| 3 | c |\n",
       "| 4 | d |\n",
       "| 5 | e |\n",
       "\n"
      ],
      "text/plain": [
       "  x y\n",
       "1 1 a\n",
       "2 2 b\n",
       "3 3 c\n",
       "4 4 d\n",
       "5 5 e"
      ]
     },
     "metadata": {},
     "output_type": "display_data"
    }
   ],
   "source": [
    "as_tibble(list(x=x,y=y))"
   ]
  },
  {
   "cell_type": "code",
   "execution_count": 14,
   "id": "61aee194-abd4-4165-a947-8dfc1ce820fc",
   "metadata": {},
   "outputs": [
    {
     "data": {
      "text/html": [
       "<table class=\"dataframe\">\n",
       "<caption>A tibble: 5 × 2</caption>\n",
       "<thead>\n",
       "\t<tr><th scope=col>v1</th><th scope=col>v2</th></tr>\n",
       "\t<tr><th scope=col>&lt;int&gt;</th><th scope=col>&lt;chr&gt;</th></tr>\n",
       "</thead>\n",
       "<tbody>\n",
       "\t<tr><td>1</td><td>a</td></tr>\n",
       "\t<tr><td>2</td><td>b</td></tr>\n",
       "\t<tr><td>3</td><td>c</td></tr>\n",
       "\t<tr><td>4</td><td>d</td></tr>\n",
       "\t<tr><td>5</td><td>e</td></tr>\n",
       "</tbody>\n",
       "</table>\n"
      ],
      "text/latex": [
       "A tibble: 5 × 2\n",
       "\\begin{tabular}{ll}\n",
       " v1 & v2\\\\\n",
       " <int> & <chr>\\\\\n",
       "\\hline\n",
       "\t 1 & a\\\\\n",
       "\t 2 & b\\\\\n",
       "\t 3 & c\\\\\n",
       "\t 4 & d\\\\\n",
       "\t 5 & e\\\\\n",
       "\\end{tabular}\n"
      ],
      "text/markdown": [
       "\n",
       "A tibble: 5 × 2\n",
       "\n",
       "| v1 &lt;int&gt; | v2 &lt;chr&gt; |\n",
       "|---|---|\n",
       "| 1 | a |\n",
       "| 2 | b |\n",
       "| 3 | c |\n",
       "| 4 | d |\n",
       "| 5 | e |\n",
       "\n"
      ],
      "text/plain": [
       "  v1 v2\n",
       "1 1  a \n",
       "2 2  b \n",
       "3 3  c \n",
       "4 4  d \n",
       "5 5  e "
      ]
     },
     "metadata": {},
     "output_type": "display_data"
    }
   ],
   "source": [
    "as_tibble(list(v1=x,v2=y))"
   ]
  },
  {
   "cell_type": "markdown",
   "id": "cd1026d2-1391-4bc3-b04e-1c8750805921",
   "metadata": {},
   "source": [
    "`-` 데이터프레임의 경우도 티블과 비슷하게 만들 수 있다. \n",
    "\n",
    "- as_tibble 대신 data.frame\n",
    "- tibble 대신 data.frame"
   ]
  },
  {
   "cell_type": "code",
   "execution_count": 22,
   "id": "0df9b9f9-9220-43ff-a555-74c4861c072e",
   "metadata": {},
   "outputs": [
    {
     "data": {
      "text/html": [
       "<table class=\"dataframe\">\n",
       "<caption>A data.frame: 3 × 3</caption>\n",
       "<thead>\n",
       "\t<tr><th scope=col>v1</th><th scope=col>v2</th><th scope=col>v3</th></tr>\n",
       "\t<tr><th scope=col>&lt;int&gt;</th><th scope=col>&lt;lgl&gt;</th><th scope=col>&lt;chr&gt;</th></tr>\n",
       "</thead>\n",
       "<tbody>\n",
       "\t<tr><td>1</td><td> TRUE</td><td>a</td></tr>\n",
       "\t<tr><td>2</td><td>FALSE</td><td>b</td></tr>\n",
       "\t<tr><td>3</td><td> TRUE</td><td>c</td></tr>\n",
       "</tbody>\n",
       "</table>\n"
      ],
      "text/latex": [
       "A data.frame: 3 × 3\n",
       "\\begin{tabular}{lll}\n",
       " v1 & v2 & v3\\\\\n",
       " <int> & <lgl> & <chr>\\\\\n",
       "\\hline\n",
       "\t 1 &  TRUE & a\\\\\n",
       "\t 2 & FALSE & b\\\\\n",
       "\t 3 &  TRUE & c\\\\\n",
       "\\end{tabular}\n"
      ],
      "text/markdown": [
       "\n",
       "A data.frame: 3 × 3\n",
       "\n",
       "| v1 &lt;int&gt; | v2 &lt;lgl&gt; | v3 &lt;chr&gt; |\n",
       "|---|---|---|\n",
       "| 1 |  TRUE | a |\n",
       "| 2 | FALSE | b |\n",
       "| 3 |  TRUE | c |\n",
       "\n"
      ],
      "text/plain": [
       "  v1 v2    v3\n",
       "1 1   TRUE a \n",
       "2 2  FALSE b \n",
       "3 3   TRUE c "
      ]
     },
     "metadata": {},
     "output_type": "display_data"
    }
   ],
   "source": [
    "data.frame(v1=1:3, v2=c(T,F,T), v3=c('a','b','c'))"
   ]
  },
  {
   "cell_type": "code",
   "execution_count": 23,
   "id": "4383e2ae-1df8-4d15-9840-c65777cc1e5a",
   "metadata": {},
   "outputs": [
    {
     "data": {
      "text/html": [
       "<table class=\"dataframe\">\n",
       "<caption>A data.frame: 5 × 2</caption>\n",
       "<thead>\n",
       "\t<tr><th scope=col>x</th><th scope=col>y</th></tr>\n",
       "\t<tr><th scope=col>&lt;int&gt;</th><th scope=col>&lt;chr&gt;</th></tr>\n",
       "</thead>\n",
       "<tbody>\n",
       "\t<tr><td>1</td><td>a</td></tr>\n",
       "\t<tr><td>2</td><td>b</td></tr>\n",
       "\t<tr><td>3</td><td>c</td></tr>\n",
       "\t<tr><td>4</td><td>d</td></tr>\n",
       "\t<tr><td>5</td><td>e</td></tr>\n",
       "</tbody>\n",
       "</table>\n"
      ],
      "text/latex": [
       "A data.frame: 5 × 2\n",
       "\\begin{tabular}{ll}\n",
       " x & y\\\\\n",
       " <int> & <chr>\\\\\n",
       "\\hline\n",
       "\t 1 & a\\\\\n",
       "\t 2 & b\\\\\n",
       "\t 3 & c\\\\\n",
       "\t 4 & d\\\\\n",
       "\t 5 & e\\\\\n",
       "\\end{tabular}\n"
      ],
      "text/markdown": [
       "\n",
       "A data.frame: 5 × 2\n",
       "\n",
       "| x &lt;int&gt; | y &lt;chr&gt; |\n",
       "|---|---|\n",
       "| 1 | a |\n",
       "| 2 | b |\n",
       "| 3 | c |\n",
       "| 4 | d |\n",
       "| 5 | e |\n",
       "\n"
      ],
      "text/plain": [
       "  x y\n",
       "1 1 a\n",
       "2 2 b\n",
       "3 3 c\n",
       "4 4 d\n",
       "5 5 e"
      ]
     },
     "metadata": {},
     "output_type": "display_data"
    }
   ],
   "source": [
    "data.frame(x,y)"
   ]
  },
  {
   "cell_type": "code",
   "execution_count": 24,
   "id": "607cae13-a58d-4c2d-92bd-18eda2da53a4",
   "metadata": {},
   "outputs": [
    {
     "data": {
      "text/html": [
       "<table class=\"dataframe\">\n",
       "<caption>A data.frame: 5 × 2</caption>\n",
       "<thead>\n",
       "\t<tr><th scope=col>v1</th><th scope=col>v2</th></tr>\n",
       "\t<tr><th scope=col>&lt;int&gt;</th><th scope=col>&lt;chr&gt;</th></tr>\n",
       "</thead>\n",
       "<tbody>\n",
       "\t<tr><td>1</td><td>a</td></tr>\n",
       "\t<tr><td>2</td><td>b</td></tr>\n",
       "\t<tr><td>3</td><td>c</td></tr>\n",
       "\t<tr><td>4</td><td>d</td></tr>\n",
       "\t<tr><td>5</td><td>e</td></tr>\n",
       "</tbody>\n",
       "</table>\n"
      ],
      "text/latex": [
       "A data.frame: 5 × 2\n",
       "\\begin{tabular}{ll}\n",
       " v1 & v2\\\\\n",
       " <int> & <chr>\\\\\n",
       "\\hline\n",
       "\t 1 & a\\\\\n",
       "\t 2 & b\\\\\n",
       "\t 3 & c\\\\\n",
       "\t 4 & d\\\\\n",
       "\t 5 & e\\\\\n",
       "\\end{tabular}\n"
      ],
      "text/markdown": [
       "\n",
       "A data.frame: 5 × 2\n",
       "\n",
       "| v1 &lt;int&gt; | v2 &lt;chr&gt; |\n",
       "|---|---|\n",
       "| 1 | a |\n",
       "| 2 | b |\n",
       "| 3 | c |\n",
       "| 4 | d |\n",
       "| 5 | e |\n",
       "\n"
      ],
      "text/plain": [
       "  v1 v2\n",
       "1 1  a \n",
       "2 2  b \n",
       "3 3  c \n",
       "4 4  d \n",
       "5 5  e "
      ]
     },
     "metadata": {},
     "output_type": "display_data"
    }
   ],
   "source": [
    "data.frame(v1=x,v2=y)"
   ]
  },
  {
   "cell_type": "code",
   "execution_count": 25,
   "id": "7c963684-85fa-4e66-94f2-3592811a8788",
   "metadata": {},
   "outputs": [
    {
     "data": {
      "text/html": [
       "<table class=\"dataframe\">\n",
       "<caption>A data.frame: 5 × 1</caption>\n",
       "<thead>\n",
       "\t<tr><th scope=col>x</th></tr>\n",
       "\t<tr><th scope=col>&lt;int&gt;</th></tr>\n",
       "</thead>\n",
       "<tbody>\n",
       "\t<tr><td>1</td></tr>\n",
       "\t<tr><td>2</td></tr>\n",
       "\t<tr><td>3</td></tr>\n",
       "\t<tr><td>4</td></tr>\n",
       "\t<tr><td>5</td></tr>\n",
       "</tbody>\n",
       "</table>\n"
      ],
      "text/latex": [
       "A data.frame: 5 × 1\n",
       "\\begin{tabular}{l}\n",
       " x\\\\\n",
       " <int>\\\\\n",
       "\\hline\n",
       "\t 1\\\\\n",
       "\t 2\\\\\n",
       "\t 3\\\\\n",
       "\t 4\\\\\n",
       "\t 5\\\\\n",
       "\\end{tabular}\n"
      ],
      "text/markdown": [
       "\n",
       "A data.frame: 5 × 1\n",
       "\n",
       "| x &lt;int&gt; |\n",
       "|---|\n",
       "| 1 |\n",
       "| 2 |\n",
       "| 3 |\n",
       "| 4 |\n",
       "| 5 |\n",
       "\n"
      ],
      "text/plain": [
       "  x\n",
       "1 1\n",
       "2 2\n",
       "3 3\n",
       "4 4\n",
       "5 5"
      ]
     },
     "metadata": {},
     "output_type": "display_data"
    }
   ],
   "source": [
    "data.frame(x)"
   ]
  },
  {
   "cell_type": "code",
   "execution_count": 26,
   "id": "e7126aff-ccb1-47de-b151-abf603779b93",
   "metadata": {},
   "outputs": [
    {
     "data": {
      "text/html": [
       "<table class=\"dataframe\">\n",
       "<caption>A data.frame: 5 × 2</caption>\n",
       "<thead>\n",
       "\t<tr><th scope=col>x</th><th scope=col>y</th></tr>\n",
       "\t<tr><th scope=col>&lt;chr&gt;</th><th scope=col>&lt;chr&gt;</th></tr>\n",
       "</thead>\n",
       "<tbody>\n",
       "\t<tr><td>1</td><td>a</td></tr>\n",
       "\t<tr><td>2</td><td>b</td></tr>\n",
       "\t<tr><td>3</td><td>c</td></tr>\n",
       "\t<tr><td>4</td><td>d</td></tr>\n",
       "\t<tr><td>5</td><td>e</td></tr>\n",
       "</tbody>\n",
       "</table>\n"
      ],
      "text/latex": [
       "A data.frame: 5 × 2\n",
       "\\begin{tabular}{ll}\n",
       " x & y\\\\\n",
       " <chr> & <chr>\\\\\n",
       "\\hline\n",
       "\t 1 & a\\\\\n",
       "\t 2 & b\\\\\n",
       "\t 3 & c\\\\\n",
       "\t 4 & d\\\\\n",
       "\t 5 & e\\\\\n",
       "\\end{tabular}\n"
      ],
      "text/markdown": [
       "\n",
       "A data.frame: 5 × 2\n",
       "\n",
       "| x &lt;chr&gt; | y &lt;chr&gt; |\n",
       "|---|---|\n",
       "| 1 | a |\n",
       "| 2 | b |\n",
       "| 3 | c |\n",
       "| 4 | d |\n",
       "| 5 | e |\n",
       "\n"
      ],
      "text/plain": [
       "  x y\n",
       "1 1 a\n",
       "2 2 b\n",
       "3 3 c\n",
       "4 4 d\n",
       "5 5 e"
      ]
     },
     "metadata": {},
     "output_type": "display_data"
    }
   ],
   "source": [
    "data.frame(cbind(x,y))"
   ]
  },
  {
   "cell_type": "code",
   "execution_count": 27,
   "id": "62f7bd19-539d-4583-8867-0504511c1d53",
   "metadata": {},
   "outputs": [
    {
     "data": {
      "text/html": [
       "<table class=\"dataframe\">\n",
       "<caption>A data.frame: 5 × 2</caption>\n",
       "<thead>\n",
       "\t<tr><th scope=col>x</th><th scope=col>y</th></tr>\n",
       "\t<tr><th scope=col>&lt;int&gt;</th><th scope=col>&lt;chr&gt;</th></tr>\n",
       "</thead>\n",
       "<tbody>\n",
       "\t<tr><td>1</td><td>a</td></tr>\n",
       "\t<tr><td>2</td><td>b</td></tr>\n",
       "\t<tr><td>3</td><td>c</td></tr>\n",
       "\t<tr><td>4</td><td>d</td></tr>\n",
       "\t<tr><td>5</td><td>e</td></tr>\n",
       "</tbody>\n",
       "</table>\n"
      ],
      "text/latex": [
       "A data.frame: 5 × 2\n",
       "\\begin{tabular}{ll}\n",
       " x & y\\\\\n",
       " <int> & <chr>\\\\\n",
       "\\hline\n",
       "\t 1 & a\\\\\n",
       "\t 2 & b\\\\\n",
       "\t 3 & c\\\\\n",
       "\t 4 & d\\\\\n",
       "\t 5 & e\\\\\n",
       "\\end{tabular}\n"
      ],
      "text/markdown": [
       "\n",
       "A data.frame: 5 × 2\n",
       "\n",
       "| x &lt;int&gt; | y &lt;chr&gt; |\n",
       "|---|---|\n",
       "| 1 | a |\n",
       "| 2 | b |\n",
       "| 3 | c |\n",
       "| 4 | d |\n",
       "| 5 | e |\n",
       "\n"
      ],
      "text/plain": [
       "  x y\n",
       "1 1 a\n",
       "2 2 b\n",
       "3 3 c\n",
       "4 4 d\n",
       "5 5 e"
      ]
     },
     "metadata": {},
     "output_type": "display_data"
    }
   ],
   "source": [
    "data.frame(list(x=x,y=y))"
   ]
  },
  {
   "cell_type": "code",
   "execution_count": 28,
   "id": "234bc97d-60b3-4aef-b1c5-370d42e20d5c",
   "metadata": {},
   "outputs": [
    {
     "data": {
      "text/html": [
       "<table class=\"dataframe\">\n",
       "<caption>A data.frame: 5 × 2</caption>\n",
       "<thead>\n",
       "\t<tr><th scope=col>v1</th><th scope=col>v2</th></tr>\n",
       "\t<tr><th scope=col>&lt;int&gt;</th><th scope=col>&lt;chr&gt;</th></tr>\n",
       "</thead>\n",
       "<tbody>\n",
       "\t<tr><td>1</td><td>a</td></tr>\n",
       "\t<tr><td>2</td><td>b</td></tr>\n",
       "\t<tr><td>3</td><td>c</td></tr>\n",
       "\t<tr><td>4</td><td>d</td></tr>\n",
       "\t<tr><td>5</td><td>e</td></tr>\n",
       "</tbody>\n",
       "</table>\n"
      ],
      "text/latex": [
       "A data.frame: 5 × 2\n",
       "\\begin{tabular}{ll}\n",
       " v1 & v2\\\\\n",
       " <int> & <chr>\\\\\n",
       "\\hline\n",
       "\t 1 & a\\\\\n",
       "\t 2 & b\\\\\n",
       "\t 3 & c\\\\\n",
       "\t 4 & d\\\\\n",
       "\t 5 & e\\\\\n",
       "\\end{tabular}\n"
      ],
      "text/markdown": [
       "\n",
       "A data.frame: 5 × 2\n",
       "\n",
       "| v1 &lt;int&gt; | v2 &lt;chr&gt; |\n",
       "|---|---|\n",
       "| 1 | a |\n",
       "| 2 | b |\n",
       "| 3 | c |\n",
       "| 4 | d |\n",
       "| 5 | e |\n",
       "\n"
      ],
      "text/plain": [
       "  v1 v2\n",
       "1 1  a \n",
       "2 2  b \n",
       "3 3  c \n",
       "4 4  d \n",
       "5 5  e "
      ]
     },
     "metadata": {},
     "output_type": "display_data"
    }
   ],
   "source": [
    "data.frame(list(v1=x,v2=y))"
   ]
  },
  {
   "cell_type": "markdown",
   "id": "8ea35549-df6f-4a32-8eb2-b6fd4cb0aa1a",
   "metadata": {},
   "source": [
    "`-` tibble()과 data.frame()의 결과가 다를수도 있음 "
   ]
  },
  {
   "cell_type": "code",
   "execution_count": 32,
   "id": "3c692f13-cddf-4393-bcab-4c81c510914b",
   "metadata": {},
   "outputs": [
    {
     "data": {
      "text/html": [
       "<dl>\n",
       "\t<dt>$x</dt>\n",
       "\t\t<dd><style>\n",
       ".list-inline {list-style: none; margin:0; padding: 0}\n",
       ".list-inline>li {display: inline-block}\n",
       ".list-inline>li:not(:last-child)::after {content: \"\\00b7\"; padding: 0 .5ex}\n",
       "</style>\n",
       "<ol class=list-inline><li>1</li><li>2</li><li>3</li><li>4</li><li>5</li></ol>\n",
       "</dd>\n",
       "\t<dt>$y</dt>\n",
       "\t\t<dd><style>\n",
       ".list-inline {list-style: none; margin:0; padding: 0}\n",
       ".list-inline>li {display: inline-block}\n",
       ".list-inline>li:not(:last-child)::after {content: \"\\00b7\"; padding: 0 .5ex}\n",
       "</style>\n",
       "<ol class=list-inline><li>'a'</li><li>'b'</li><li>'c'</li><li>'d'</li><li>'e'</li></ol>\n",
       "</dd>\n",
       "\t<dt>$z</dt>\n",
       "\t\t<dd><table class=\"dataframe\">\n",
       "<caption>A matrix: 5 × 2 of type chr</caption>\n",
       "<thead>\n",
       "\t<tr><th scope=col>x</th><th scope=col>y</th></tr>\n",
       "</thead>\n",
       "<tbody>\n",
       "\t<tr><td>1</td><td>a</td></tr>\n",
       "\t<tr><td>2</td><td>b</td></tr>\n",
       "\t<tr><td>3</td><td>c</td></tr>\n",
       "\t<tr><td>4</td><td>d</td></tr>\n",
       "\t<tr><td>5</td><td>e</td></tr>\n",
       "</tbody>\n",
       "</table>\n",
       "</dd>\n",
       "</dl>\n"
      ],
      "text/latex": [
       "\\begin{description}\n",
       "\\item[\\$x] \\begin{enumerate*}\n",
       "\\item 1\n",
       "\\item 2\n",
       "\\item 3\n",
       "\\item 4\n",
       "\\item 5\n",
       "\\end{enumerate*}\n",
       "\n",
       "\\item[\\$y] \\begin{enumerate*}\n",
       "\\item 'a'\n",
       "\\item 'b'\n",
       "\\item 'c'\n",
       "\\item 'd'\n",
       "\\item 'e'\n",
       "\\end{enumerate*}\n",
       "\n",
       "\\item[\\$z] A matrix: 5 × 2 of type chr\n",
       "\\begin{tabular}{ll}\n",
       " x & y\\\\\n",
       "\\hline\n",
       "\t 1 & a\\\\\n",
       "\t 2 & b\\\\\n",
       "\t 3 & c\\\\\n",
       "\t 4 & d\\\\\n",
       "\t 5 & e\\\\\n",
       "\\end{tabular}\n",
       "\n",
       "\\end{description}\n"
      ],
      "text/markdown": [
       "$x\n",
       ":   1. 1\n",
       "2. 2\n",
       "3. 3\n",
       "4. 4\n",
       "5. 5\n",
       "\n",
       "\n",
       "\n",
       "$y\n",
       ":   1. 'a'\n",
       "2. 'b'\n",
       "3. 'c'\n",
       "4. 'd'\n",
       "5. 'e'\n",
       "\n",
       "\n",
       "\n",
       "$z\n",
       ":   \n",
       "A matrix: 5 × 2 of type chr\n",
       "\n",
       "| x | y |\n",
       "|---|---|\n",
       "| 1 | a |\n",
       "| 2 | b |\n",
       "| 3 | c |\n",
       "| 4 | d |\n",
       "| 5 | e |\n",
       "\n",
       "\n",
       "\n",
       "\n"
      ],
      "text/plain": [
       "$x\n",
       "[1] 1 2 3 4 5\n",
       "\n",
       "$y\n",
       "[1] \"a\" \"b\" \"c\" \"d\" \"e\"\n",
       "\n",
       "$z\n",
       "     x   y  \n",
       "[1,] \"1\" \"a\"\n",
       "[2,] \"2\" \"b\"\n",
       "[3,] \"3\" \"c\"\n",
       "[4,] \"4\" \"d\"\n",
       "[5,] \"5\" \"e\"\n"
      ]
     },
     "metadata": {},
     "output_type": "display_data"
    }
   ],
   "source": [
    "lst = list(x=x,y=y,z=cbind(x,y))\n",
    "lst"
   ]
  },
  {
   "cell_type": "code",
   "execution_count": 33,
   "id": "caaa668e-c88e-406e-a330-b3a5f48e6bb0",
   "metadata": {},
   "outputs": [
    {
     "data": {
      "text/html": [
       "<table class=\"dataframe\">\n",
       "<caption>A data.frame: 5 × 4</caption>\n",
       "<thead>\n",
       "\t<tr><th scope=col>x</th><th scope=col>y</th><th scope=col>z.x</th><th scope=col>z.y</th></tr>\n",
       "\t<tr><th scope=col>&lt;int&gt;</th><th scope=col>&lt;chr&gt;</th><th scope=col>&lt;chr&gt;</th><th scope=col>&lt;chr&gt;</th></tr>\n",
       "</thead>\n",
       "<tbody>\n",
       "\t<tr><td>1</td><td>a</td><td>1</td><td>a</td></tr>\n",
       "\t<tr><td>2</td><td>b</td><td>2</td><td>b</td></tr>\n",
       "\t<tr><td>3</td><td>c</td><td>3</td><td>c</td></tr>\n",
       "\t<tr><td>4</td><td>d</td><td>4</td><td>d</td></tr>\n",
       "\t<tr><td>5</td><td>e</td><td>5</td><td>e</td></tr>\n",
       "</tbody>\n",
       "</table>\n"
      ],
      "text/latex": [
       "A data.frame: 5 × 4\n",
       "\\begin{tabular}{llll}\n",
       " x & y & z.x & z.y\\\\\n",
       " <int> & <chr> & <chr> & <chr>\\\\\n",
       "\\hline\n",
       "\t 1 & a & 1 & a\\\\\n",
       "\t 2 & b & 2 & b\\\\\n",
       "\t 3 & c & 3 & c\\\\\n",
       "\t 4 & d & 4 & d\\\\\n",
       "\t 5 & e & 5 & e\\\\\n",
       "\\end{tabular}\n"
      ],
      "text/markdown": [
       "\n",
       "A data.frame: 5 × 4\n",
       "\n",
       "| x &lt;int&gt; | y &lt;chr&gt; | z.x &lt;chr&gt; | z.y &lt;chr&gt; |\n",
       "|---|---|---|---|\n",
       "| 1 | a | 1 | a |\n",
       "| 2 | b | 2 | b |\n",
       "| 3 | c | 3 | c |\n",
       "| 4 | d | 4 | d |\n",
       "| 5 | e | 5 | e |\n",
       "\n"
      ],
      "text/plain": [
       "  x y z.x z.y\n",
       "1 1 a 1   a  \n",
       "2 2 b 2   b  \n",
       "3 3 c 3   c  \n",
       "4 4 d 4   d  \n",
       "5 5 e 5   e  "
      ]
     },
     "metadata": {},
     "output_type": "display_data"
    }
   ],
   "source": [
    "data.frame(lst)"
   ]
  },
  {
   "cell_type": "code",
   "execution_count": 34,
   "id": "be14188d-6103-452a-b369-ad6351d42a90",
   "metadata": {},
   "outputs": [
    {
     "data": {
      "text/html": [
       "<table class=\"dataframe\">\n",
       "<caption>A tibble: 5 × 3</caption>\n",
       "<thead>\n",
       "\t<tr><th scope=col>x</th><th scope=col>y</th><th scope=col>z</th></tr>\n",
       "\t<tr><th scope=col>&lt;int&gt;</th><th scope=col>&lt;chr&gt;</th><th scope=col>&lt;chr[,2]&gt;</th></tr>\n",
       "</thead>\n",
       "<tbody>\n",
       "\t<tr><td>1</td><td>a</td><td>1, a</td></tr>\n",
       "\t<tr><td>2</td><td>b</td><td>2, b</td></tr>\n",
       "\t<tr><td>3</td><td>c</td><td>3, c</td></tr>\n",
       "\t<tr><td>4</td><td>d</td><td>4, d</td></tr>\n",
       "\t<tr><td>5</td><td>e</td><td>5, e</td></tr>\n",
       "</tbody>\n",
       "</table>\n"
      ],
      "text/latex": [
       "A tibble: 5 × 3\n",
       "\\begin{tabular}{lll}\n",
       " x & y & z\\\\\n",
       " <int> & <chr> & <chr{[},2{]}>\\\\\n",
       "\\hline\n",
       "\t 1 & a & 1, a\\\\\n",
       "\t 2 & b & 2, b\\\\\n",
       "\t 3 & c & 3, c\\\\\n",
       "\t 4 & d & 4, d\\\\\n",
       "\t 5 & e & 5, e\\\\\n",
       "\\end{tabular}\n"
      ],
      "text/markdown": [
       "\n",
       "A tibble: 5 × 3\n",
       "\n",
       "| x &lt;int&gt; | y &lt;chr&gt; | z &lt;chr[,2]&gt; |\n",
       "|---|---|---|\n",
       "| 1 | a | 1, a |\n",
       "| 2 | b | 2, b |\n",
       "| 3 | c | 3, c |\n",
       "| 4 | d | 4, d |\n",
       "| 5 | e | 5, e |\n",
       "\n"
      ],
      "text/plain": [
       "  x y z   \n",
       "1 1 a 1, a\n",
       "2 2 b 2, b\n",
       "3 3 c 3, c\n",
       "4 4 d 4, d\n",
       "5 5 e 5, e"
      ]
     },
     "metadata": {},
     "output_type": "display_data"
    }
   ],
   "source": [
    "as_tibble(lst)"
   ]
  },
  {
   "cell_type": "markdown",
   "id": "b555cb38-cc04-4197-8138-e5de93c99332",
   "metadata": {},
   "source": [
    "`-` 데이터프레임과 티블은 as_tibble()과 data.frame()을 이용하여 서로의 형태로 변환가능하다. "
   ]
  },
  {
   "cell_type": "code",
   "execution_count": 35,
   "id": "ed9b63f8-2b4e-42c7-8ade-3b59f3ef000a",
   "metadata": {},
   "outputs": [
    {
     "data": {
      "text/html": [
       "<table class=\"dataframe\">\n",
       "<caption>A data.frame: 3 × 3</caption>\n",
       "<thead>\n",
       "\t<tr><th scope=col>v1</th><th scope=col>v2</th><th scope=col>v3</th></tr>\n",
       "\t<tr><th scope=col>&lt;int&gt;</th><th scope=col>&lt;lgl&gt;</th><th scope=col>&lt;chr&gt;</th></tr>\n",
       "</thead>\n",
       "<tbody>\n",
       "\t<tr><td>1</td><td> TRUE</td><td>a</td></tr>\n",
       "\t<tr><td>2</td><td>FALSE</td><td>b</td></tr>\n",
       "\t<tr><td>3</td><td> TRUE</td><td>c</td></tr>\n",
       "</tbody>\n",
       "</table>\n"
      ],
      "text/latex": [
       "A data.frame: 3 × 3\n",
       "\\begin{tabular}{lll}\n",
       " v1 & v2 & v3\\\\\n",
       " <int> & <lgl> & <chr>\\\\\n",
       "\\hline\n",
       "\t 1 &  TRUE & a\\\\\n",
       "\t 2 & FALSE & b\\\\\n",
       "\t 3 &  TRUE & c\\\\\n",
       "\\end{tabular}\n"
      ],
      "text/markdown": [
       "\n",
       "A data.frame: 3 × 3\n",
       "\n",
       "| v1 &lt;int&gt; | v2 &lt;lgl&gt; | v3 &lt;chr&gt; |\n",
       "|---|---|---|\n",
       "| 1 |  TRUE | a |\n",
       "| 2 | FALSE | b |\n",
       "| 3 |  TRUE | c |\n",
       "\n"
      ],
      "text/plain": [
       "  v1 v2    v3\n",
       "1 1   TRUE a \n",
       "2 2  FALSE b \n",
       "3 3   TRUE c "
      ]
     },
     "metadata": {},
     "output_type": "display_data"
    }
   ],
   "source": [
    "data.frame(v1=1:3, v2=c(T,F,T), v3=c(\"a\",\"b\",\"c\"))"
   ]
  },
  {
   "cell_type": "code",
   "execution_count": 36,
   "id": "12b68a4f-c844-47e4-bef1-bc8430f8b956",
   "metadata": {},
   "outputs": [
    {
     "data": {
      "text/html": [
       "<table class=\"dataframe\">\n",
       "<caption>A tibble: 3 × 3</caption>\n",
       "<thead>\n",
       "\t<tr><th scope=col>v1</th><th scope=col>v2</th><th scope=col>v3</th></tr>\n",
       "\t<tr><th scope=col>&lt;int&gt;</th><th scope=col>&lt;lgl&gt;</th><th scope=col>&lt;chr&gt;</th></tr>\n",
       "</thead>\n",
       "<tbody>\n",
       "\t<tr><td>1</td><td> TRUE</td><td>a</td></tr>\n",
       "\t<tr><td>2</td><td>FALSE</td><td>b</td></tr>\n",
       "\t<tr><td>3</td><td> TRUE</td><td>c</td></tr>\n",
       "</tbody>\n",
       "</table>\n"
      ],
      "text/latex": [
       "A tibble: 3 × 3\n",
       "\\begin{tabular}{lll}\n",
       " v1 & v2 & v3\\\\\n",
       " <int> & <lgl> & <chr>\\\\\n",
       "\\hline\n",
       "\t 1 &  TRUE & a\\\\\n",
       "\t 2 & FALSE & b\\\\\n",
       "\t 3 &  TRUE & c\\\\\n",
       "\\end{tabular}\n"
      ],
      "text/markdown": [
       "\n",
       "A tibble: 3 × 3\n",
       "\n",
       "| v1 &lt;int&gt; | v2 &lt;lgl&gt; | v3 &lt;chr&gt; |\n",
       "|---|---|---|\n",
       "| 1 |  TRUE | a |\n",
       "| 2 | FALSE | b |\n",
       "| 3 |  TRUE | c |\n",
       "\n"
      ],
      "text/plain": [
       "  v1 v2    v3\n",
       "1 1   TRUE a \n",
       "2 2  FALSE b \n",
       "3 3   TRUE c "
      ]
     },
     "metadata": {},
     "output_type": "display_data"
    }
   ],
   "source": [
    "data.frame(v1=1:3, v2=c(T,F,T), v3=c(\"a\",\"b\",\"c\")) %>% as_tibble "
   ]
  },
  {
   "cell_type": "code",
   "execution_count": 37,
   "id": "25468a5c-201d-480d-a2ed-95d060489771",
   "metadata": {},
   "outputs": [
    {
     "data": {
      "text/html": [
       "<table class=\"dataframe\">\n",
       "<caption>A data.frame: 3 × 3</caption>\n",
       "<thead>\n",
       "\t<tr><th scope=col>v1</th><th scope=col>v2</th><th scope=col>v3</th></tr>\n",
       "\t<tr><th scope=col>&lt;int&gt;</th><th scope=col>&lt;lgl&gt;</th><th scope=col>&lt;chr&gt;</th></tr>\n",
       "</thead>\n",
       "<tbody>\n",
       "\t<tr><td>1</td><td> TRUE</td><td>a</td></tr>\n",
       "\t<tr><td>2</td><td>FALSE</td><td>b</td></tr>\n",
       "\t<tr><td>3</td><td> TRUE</td><td>c</td></tr>\n",
       "</tbody>\n",
       "</table>\n"
      ],
      "text/latex": [
       "A data.frame: 3 × 3\n",
       "\\begin{tabular}{lll}\n",
       " v1 & v2 & v3\\\\\n",
       " <int> & <lgl> & <chr>\\\\\n",
       "\\hline\n",
       "\t 1 &  TRUE & a\\\\\n",
       "\t 2 & FALSE & b\\\\\n",
       "\t 3 &  TRUE & c\\\\\n",
       "\\end{tabular}\n"
      ],
      "text/markdown": [
       "\n",
       "A data.frame: 3 × 3\n",
       "\n",
       "| v1 &lt;int&gt; | v2 &lt;lgl&gt; | v3 &lt;chr&gt; |\n",
       "|---|---|---|\n",
       "| 1 |  TRUE | a |\n",
       "| 2 | FALSE | b |\n",
       "| 3 |  TRUE | c |\n",
       "\n"
      ],
      "text/plain": [
       "  v1 v2    v3\n",
       "1 1   TRUE a \n",
       "2 2  FALSE b \n",
       "3 3   TRUE c "
      ]
     },
     "metadata": {},
     "output_type": "display_data"
    }
   ],
   "source": [
    "data.frame(v1=1:3, v2=c(T,F,T), v3=c(\"a\",\"b\",\"c\")) %>% as_tibble %>% data.frame"
   ]
  },
  {
   "cell_type": "markdown",
   "id": "57ede525-208c-496b-92e0-34729baeca25",
   "metadata": {},
   "source": [
    "즉 아래가 가능함 "
   ]
  },
  {
   "cell_type": "code",
   "execution_count": 38,
   "id": "fdfd8260-4406-400d-8c57-81a8a95972b7",
   "metadata": {},
   "outputs": [
    {
     "data": {
      "text/html": [
       "<table class=\"dataframe\">\n",
       "<caption>A data.frame: 3 × 3</caption>\n",
       "<thead>\n",
       "\t<tr><th scope=col>v1</th><th scope=col>v2</th><th scope=col>v3</th></tr>\n",
       "\t<tr><th scope=col>&lt;int&gt;</th><th scope=col>&lt;lgl&gt;</th><th scope=col>&lt;chr&gt;</th></tr>\n",
       "</thead>\n",
       "<tbody>\n",
       "\t<tr><td>1</td><td> TRUE</td><td>a</td></tr>\n",
       "\t<tr><td>2</td><td>FALSE</td><td>b</td></tr>\n",
       "\t<tr><td>3</td><td> TRUE</td><td>c</td></tr>\n",
       "</tbody>\n",
       "</table>\n"
      ],
      "text/latex": [
       "A data.frame: 3 × 3\n",
       "\\begin{tabular}{lll}\n",
       " v1 & v2 & v3\\\\\n",
       " <int> & <lgl> & <chr>\\\\\n",
       "\\hline\n",
       "\t 1 &  TRUE & a\\\\\n",
       "\t 2 & FALSE & b\\\\\n",
       "\t 3 &  TRUE & c\\\\\n",
       "\\end{tabular}\n"
      ],
      "text/markdown": [
       "\n",
       "A data.frame: 3 × 3\n",
       "\n",
       "| v1 &lt;int&gt; | v2 &lt;lgl&gt; | v3 &lt;chr&gt; |\n",
       "|---|---|---|\n",
       "| 1 |  TRUE | a |\n",
       "| 2 | FALSE | b |\n",
       "| 3 |  TRUE | c |\n",
       "\n"
      ],
      "text/plain": [
       "  v1 v2    v3\n",
       "1 1   TRUE a \n",
       "2 2  FALSE b \n",
       "3 3   TRUE c "
      ]
     },
     "metadata": {},
     "output_type": "display_data"
    }
   ],
   "source": [
    "df= data.frame(v1=1:3, v2=c(T,F,T), v3=c(\"a\",\"b\",\"c\"))\n",
    "df"
   ]
  },
  {
   "cell_type": "code",
   "execution_count": 40,
   "id": "645b25cd-ae13-46dc-b4e1-4589013a56a9",
   "metadata": {},
   "outputs": [
    {
     "data": {
      "text/html": [
       "<table class=\"dataframe\">\n",
       "<caption>A tibble: 3 × 3</caption>\n",
       "<thead>\n",
       "\t<tr><th scope=col>v1</th><th scope=col>v2</th><th scope=col>v3</th></tr>\n",
       "\t<tr><th scope=col>&lt;int&gt;</th><th scope=col>&lt;lgl&gt;</th><th scope=col>&lt;chr&gt;</th></tr>\n",
       "</thead>\n",
       "<tbody>\n",
       "\t<tr><td>1</td><td> TRUE</td><td>a</td></tr>\n",
       "\t<tr><td>2</td><td>FALSE</td><td>b</td></tr>\n",
       "\t<tr><td>3</td><td> TRUE</td><td>c</td></tr>\n",
       "</tbody>\n",
       "</table>\n"
      ],
      "text/latex": [
       "A tibble: 3 × 3\n",
       "\\begin{tabular}{lll}\n",
       " v1 & v2 & v3\\\\\n",
       " <int> & <lgl> & <chr>\\\\\n",
       "\\hline\n",
       "\t 1 &  TRUE & a\\\\\n",
       "\t 2 & FALSE & b\\\\\n",
       "\t 3 &  TRUE & c\\\\\n",
       "\\end{tabular}\n"
      ],
      "text/markdown": [
       "\n",
       "A tibble: 3 × 3\n",
       "\n",
       "| v1 &lt;int&gt; | v2 &lt;lgl&gt; | v3 &lt;chr&gt; |\n",
       "|---|---|---|\n",
       "| 1 |  TRUE | a |\n",
       "| 2 | FALSE | b |\n",
       "| 3 |  TRUE | c |\n",
       "\n"
      ],
      "text/plain": [
       "  v1 v2    v3\n",
       "1 1   TRUE a \n",
       "2 2  FALSE b \n",
       "3 3   TRUE c "
      ]
     },
     "metadata": {},
     "output_type": "display_data"
    }
   ],
   "source": [
    "df=as_tibble(df)\n",
    "df"
   ]
  },
  {
   "cell_type": "code",
   "execution_count": 43,
   "id": "aa7a4fab-a4fd-4a49-97b8-ce9a02c13c0b",
   "metadata": {},
   "outputs": [
    {
     "data": {
      "text/html": [
       "<table class=\"dataframe\">\n",
       "<caption>A data.frame: 3 × 3</caption>\n",
       "<thead>\n",
       "\t<tr><th scope=col>v1</th><th scope=col>v2</th><th scope=col>v3</th></tr>\n",
       "\t<tr><th scope=col>&lt;int&gt;</th><th scope=col>&lt;lgl&gt;</th><th scope=col>&lt;chr&gt;</th></tr>\n",
       "</thead>\n",
       "<tbody>\n",
       "\t<tr><td>1</td><td> TRUE</td><td>a</td></tr>\n",
       "\t<tr><td>2</td><td>FALSE</td><td>b</td></tr>\n",
       "\t<tr><td>3</td><td> TRUE</td><td>c</td></tr>\n",
       "</tbody>\n",
       "</table>\n"
      ],
      "text/latex": [
       "A data.frame: 3 × 3\n",
       "\\begin{tabular}{lll}\n",
       " v1 & v2 & v3\\\\\n",
       " <int> & <lgl> & <chr>\\\\\n",
       "\\hline\n",
       "\t 1 &  TRUE & a\\\\\n",
       "\t 2 & FALSE & b\\\\\n",
       "\t 3 &  TRUE & c\\\\\n",
       "\\end{tabular}\n"
      ],
      "text/markdown": [
       "\n",
       "A data.frame: 3 × 3\n",
       "\n",
       "| v1 &lt;int&gt; | v2 &lt;lgl&gt; | v3 &lt;chr&gt; |\n",
       "|---|---|---|\n",
       "| 1 |  TRUE | a |\n",
       "| 2 | FALSE | b |\n",
       "| 3 |  TRUE | c |\n",
       "\n"
      ],
      "text/plain": [
       "  v1 v2    v3\n",
       "1 1   TRUE a \n",
       "2 2  FALSE b \n",
       "3 3   TRUE c "
      ]
     },
     "metadata": {},
     "output_type": "display_data"
    }
   ],
   "source": [
    "df=data.frame(df)\n",
    "df"
   ]
  },
  {
   "cell_type": "markdown",
   "id": "fc1d7683-4333-46ff-8f16-ee9a83edfd2e",
   "metadata": {},
   "source": [
    "### 데이터프레임, 티블의 해석 "
   ]
  },
  {
   "cell_type": "markdown",
   "id": "973e62a3-a15a-4c44-886e-75109d87847c",
   "metadata": {},
   "source": [
    "`-` 매트릭스: (1) 모든 열은 동일한 숫자의 row를 가져야하며 (2) 행렬의 모든 원소는 동일한 자료형을 가져야 함 "
   ]
  },
  {
   "cell_type": "markdown",
   "id": "46a3129a-34fd-4340-b63c-ad44d71b6ce0",
   "metadata": {},
   "source": [
    "`-` 리스트: (1) 모든 원소가 동일한 길이의 오브젝트로 구성될 필요가 없다. (2) 그리고 리스트의 각 원소가 동일한 자료형을 가질 필요도 없다. "
   ]
  },
  {
   "cell_type": "markdown",
   "id": "70e3c383-0345-4231-9376-75a162e17456",
   "metadata": {},
   "source": [
    "`-` 티블 혹은 데이터프레임은 \n",
    "\n",
    "- 자료형이 자유로운 매트릭스로 해석할 수 있고 \n",
    "- 모든 원소가 동일한 길이의 오브젝트로 구성된 리스트\n",
    "\n",
    "로 생각할 수 있다."
   ]
  },
  {
   "cell_type": "markdown",
   "id": "cc3d5d90-f323-413e-b7b2-149fd8d00446",
   "metadata": {},
   "source": [
    "### 데이터프레임과 티블의 사용법 "
   ]
  },
  {
   "cell_type": "markdown",
   "id": "904b39be-4935-44be-9693-a5fbbbf21161",
   "metadata": {},
   "source": [
    "`-` 데이터셋팅 "
   ]
  },
  {
   "cell_type": "code",
   "execution_count": 44,
   "id": "0042d759-8151-407c-bb99-7244eacc41f8",
   "metadata": {},
   "outputs": [],
   "source": [
    "x = 1:3 \n",
    "y = c(T,F,T)\n",
    "z = c('a','b','c')\n",
    "\n",
    "lst = list(x=x,y=y,z=z)\n",
    "mat = cbind(x,y,z) \n",
    "df = tibble(x=x,y=y,z=z) "
   ]
  },
  {
   "cell_type": "code",
   "execution_count": 45,
   "id": "23d8f9df-bd08-4be8-aba4-b075da64a3a8",
   "metadata": {},
   "outputs": [
    {
     "name": "stdout",
     "output_type": "stream",
     "text": [
      "$x\n",
      "[1] 1 2 3\n",
      "\n",
      "$y\n",
      "[1]  TRUE FALSE  TRUE\n",
      "\n",
      "$z\n",
      "[1] \"a\" \"b\" \"c\"\n",
      "\n",
      "     x   y       z  \n",
      "[1,] \"1\" \"TRUE\"  \"a\"\n",
      "[2,] \"2\" \"FALSE\" \"b\"\n",
      "[3,] \"3\" \"TRUE\"  \"c\"\n",
      "\u001b[90m# A tibble: 3 × 3\u001b[39m\n",
      "      x y     z    \n",
      "  \u001b[3m\u001b[90m<int>\u001b[39m\u001b[23m \u001b[3m\u001b[90m<lgl>\u001b[39m\u001b[23m \u001b[3m\u001b[90m<chr>\u001b[39m\u001b[23m\n",
      "\u001b[90m1\u001b[39m     1 TRUE  a    \n",
      "\u001b[90m2\u001b[39m     2 FALSE b    \n",
      "\u001b[90m3\u001b[39m     3 TRUE  c    \n"
     ]
    }
   ],
   "source": [
    "print(lst)\n",
    "print(mat)\n",
    "print(df)"
   ]
  },
  {
   "cell_type": "markdown",
   "id": "db0eb09c-c268-4b9b-841e-0e45c49754e9",
   "metadata": {},
   "source": [
    "`-` df에서 열들의 이름을 알고 싶다. "
   ]
  },
  {
   "cell_type": "code",
   "execution_count": 48,
   "id": "5a763dde-0048-4e0e-bddf-62336cb8aec5",
   "metadata": {},
   "outputs": [
    {
     "name": "stdout",
     "output_type": "stream",
     "text": [
      "NULL\n",
      "[1] \"x\" \"y\" \"z\"\n",
      "[1] \"x\" \"y\" \"z\"\n"
     ]
    }
   ],
   "source": [
    "print(colnames(lst))\n",
    "print(colnames(mat))\n",
    "print(colnames(df))"
   ]
  },
  {
   "cell_type": "code",
   "execution_count": 49,
   "id": "0b6f5088-58c5-4899-bb68-1536dc75fb01",
   "metadata": {},
   "outputs": [
    {
     "name": "stdout",
     "output_type": "stream",
     "text": [
      "[1] \"x\" \"y\" \"z\"\n",
      "NULL\n",
      "[1] \"x\" \"y\" \"z\"\n"
     ]
    }
   ],
   "source": [
    "print(names(lst))\n",
    "print(names(mat))\n",
    "print(names(df))"
   ]
  },
  {
   "cell_type": "markdown",
   "id": "9f4628b1-d2d9-4f35-a15e-48697b18c110",
   "metadata": {},
   "source": [
    "`-` df에서 첫번째 열을 추출하고 싶다? "
   ]
  },
  {
   "cell_type": "code",
   "execution_count": 60,
   "id": "38af9c0e-9bd7-4950-a33a-d5d6b491e002",
   "metadata": {},
   "outputs": [
    {
     "data": {
      "text/html": [
       "<style>\n",
       ".list-inline {list-style: none; margin:0; padding: 0}\n",
       ".list-inline>li {display: inline-block}\n",
       ".list-inline>li:not(:last-child)::after {content: \"\\00b7\"; padding: 0 .5ex}\n",
       "</style>\n",
       "<ol class=list-inline><li>'1'</li><li>'2'</li><li>'3'</li></ol>\n"
      ],
      "text/latex": [
       "\\begin{enumerate*}\n",
       "\\item '1'\n",
       "\\item '2'\n",
       "\\item '3'\n",
       "\\end{enumerate*}\n"
      ],
      "text/markdown": [
       "1. '1'\n",
       "2. '2'\n",
       "3. '3'\n",
       "\n",
       "\n"
      ],
      "text/plain": [
       "[1] \"1\" \"2\" \"3\""
      ]
     },
     "metadata": {},
     "output_type": "display_data"
    },
    {
     "data": {
      "text/html": [
       "<table class=\"dataframe\">\n",
       "<caption>A tibble: 3 × 1</caption>\n",
       "<thead>\n",
       "\t<tr><th scope=col>x</th></tr>\n",
       "\t<tr><th scope=col>&lt;int&gt;</th></tr>\n",
       "</thead>\n",
       "<tbody>\n",
       "\t<tr><td>1</td></tr>\n",
       "\t<tr><td>2</td></tr>\n",
       "\t<tr><td>3</td></tr>\n",
       "</tbody>\n",
       "</table>\n"
      ],
      "text/latex": [
       "A tibble: 3 × 1\n",
       "\\begin{tabular}{l}\n",
       " x\\\\\n",
       " <int>\\\\\n",
       "\\hline\n",
       "\t 1\\\\\n",
       "\t 2\\\\\n",
       "\t 3\\\\\n",
       "\\end{tabular}\n"
      ],
      "text/markdown": [
       "\n",
       "A tibble: 3 × 1\n",
       "\n",
       "| x &lt;int&gt; |\n",
       "|---|\n",
       "| 1 |\n",
       "| 2 |\n",
       "| 3 |\n",
       "\n"
      ],
      "text/plain": [
       "  x\n",
       "1 1\n",
       "2 2\n",
       "3 3"
      ]
     },
     "metadata": {},
     "output_type": "display_data"
    }
   ],
   "source": [
    "mat[,1]\n",
    "#lst[,1]\n",
    "df[,1]"
   ]
  },
  {
   "cell_type": "code",
   "execution_count": 63,
   "id": "ec70f91f-c52f-4962-99a3-e7613ce9198d",
   "metadata": {},
   "outputs": [
    {
     "data": {
      "text/html": [
       "<style>\n",
       ".list-inline {list-style: none; margin:0; padding: 0}\n",
       ".list-inline>li {display: inline-block}\n",
       ".list-inline>li:not(:last-child)::after {content: \"\\00b7\"; padding: 0 .5ex}\n",
       "</style>\n",
       "<ol class=list-inline><li>1</li><li>2</li><li>3</li></ol>\n"
      ],
      "text/latex": [
       "\\begin{enumerate*}\n",
       "\\item 1\n",
       "\\item 2\n",
       "\\item 3\n",
       "\\end{enumerate*}\n"
      ],
      "text/markdown": [
       "1. 1\n",
       "2. 2\n",
       "3. 3\n",
       "\n",
       "\n"
      ],
      "text/plain": [
       "[1] 1 2 3"
      ]
     },
     "metadata": {},
     "output_type": "display_data"
    },
    {
     "data": {
      "text/html": [
       "<style>\n",
       ".list-inline {list-style: none; margin:0; padding: 0}\n",
       ".list-inline>li {display: inline-block}\n",
       ".list-inline>li:not(:last-child)::after {content: \"\\00b7\"; padding: 0 .5ex}\n",
       "</style>\n",
       "<ol class=list-inline><li>1</li><li>2</li><li>3</li></ol>\n"
      ],
      "text/latex": [
       "\\begin{enumerate*}\n",
       "\\item 1\n",
       "\\item 2\n",
       "\\item 3\n",
       "\\end{enumerate*}\n"
      ],
      "text/markdown": [
       "1. 1\n",
       "2. 2\n",
       "3. 3\n",
       "\n",
       "\n"
      ],
      "text/plain": [
       "[1] 1 2 3"
      ]
     },
     "metadata": {},
     "output_type": "display_data"
    }
   ],
   "source": [
    "lst[[1]]\n",
    "df[[1]]"
   ]
  },
  {
   "cell_type": "markdown",
   "id": "3c5a2b1a-deb4-47fa-89e1-8fcd283c9ee1",
   "metadata": {},
   "source": [
    "`-` df를 매트릭스처럼 생각하는건 사실 직관적이지만 리스트라고는 생각하기 어렵다. df를 리스트라고 해석하면 아래와 같은 문법들도 쉽게 이해가능하다. "
   ]
  },
  {
   "cell_type": "code",
   "execution_count": 68,
   "id": "66df8c0a-ccc9-4eed-bb27-ab31d0c23707",
   "metadata": {},
   "outputs": [
    {
     "data": {
      "text/html": [
       "<strong>$x</strong> = <style>\n",
       ".list-inline {list-style: none; margin:0; padding: 0}\n",
       ".list-inline>li {display: inline-block}\n",
       ".list-inline>li:not(:last-child)::after {content: \"\\00b7\"; padding: 0 .5ex}\n",
       "</style>\n",
       "<ol class=list-inline><li>1</li><li>2</li><li>3</li></ol>\n"
      ],
      "text/latex": [
       "\\textbf{\\$x} = \\begin{enumerate*}\n",
       "\\item 1\n",
       "\\item 2\n",
       "\\item 3\n",
       "\\end{enumerate*}\n"
      ],
      "text/markdown": [
       "**$x** = 1. 1\n",
       "2. 2\n",
       "3. 3\n",
       "\n",
       "\n"
      ],
      "text/plain": [
       "$x\n",
       "[1] 1 2 3\n"
      ]
     },
     "metadata": {},
     "output_type": "display_data"
    },
    {
     "data": {
      "text/html": [
       "<table class=\"dataframe\">\n",
       "<caption>A tibble: 3 × 1</caption>\n",
       "<thead>\n",
       "\t<tr><th scope=col>x</th></tr>\n",
       "\t<tr><th scope=col>&lt;int&gt;</th></tr>\n",
       "</thead>\n",
       "<tbody>\n",
       "\t<tr><td>1</td></tr>\n",
       "\t<tr><td>2</td></tr>\n",
       "\t<tr><td>3</td></tr>\n",
       "</tbody>\n",
       "</table>\n"
      ],
      "text/latex": [
       "A tibble: 3 × 1\n",
       "\\begin{tabular}{l}\n",
       " x\\\\\n",
       " <int>\\\\\n",
       "\\hline\n",
       "\t 1\\\\\n",
       "\t 2\\\\\n",
       "\t 3\\\\\n",
       "\\end{tabular}\n"
      ],
      "text/markdown": [
       "\n",
       "A tibble: 3 × 1\n",
       "\n",
       "| x &lt;int&gt; |\n",
       "|---|\n",
       "| 1 |\n",
       "| 2 |\n",
       "| 3 |\n",
       "\n"
      ],
      "text/plain": [
       "  x\n",
       "1 1\n",
       "2 2\n",
       "3 3"
      ]
     },
     "metadata": {},
     "output_type": "display_data"
    }
   ],
   "source": [
    "lst[1]\n",
    "df[1]"
   ]
  },
  {
   "cell_type": "code",
   "execution_count": 70,
   "id": "9a0d8f02-371c-45ef-9c15-ba5a5a1a20bd",
   "metadata": {},
   "outputs": [
    {
     "data": {
      "text/html": [
       "<style>\n",
       ".list-inline {list-style: none; margin:0; padding: 0}\n",
       ".list-inline>li {display: inline-block}\n",
       ".list-inline>li:not(:last-child)::after {content: \"\\00b7\"; padding: 0 .5ex}\n",
       "</style>\n",
       "<ol class=list-inline><li>1</li><li>2</li><li>3</li></ol>\n"
      ],
      "text/latex": [
       "\\begin{enumerate*}\n",
       "\\item 1\n",
       "\\item 2\n",
       "\\item 3\n",
       "\\end{enumerate*}\n"
      ],
      "text/markdown": [
       "1. 1\n",
       "2. 2\n",
       "3. 3\n",
       "\n",
       "\n"
      ],
      "text/plain": [
       "[1] 1 2 3"
      ]
     },
     "metadata": {},
     "output_type": "display_data"
    },
    {
     "data": {
      "text/html": [
       "<style>\n",
       ".list-inline {list-style: none; margin:0; padding: 0}\n",
       ".list-inline>li {display: inline-block}\n",
       ".list-inline>li:not(:last-child)::after {content: \"\\00b7\"; padding: 0 .5ex}\n",
       "</style>\n",
       "<ol class=list-inline><li>1</li><li>2</li><li>3</li></ol>\n"
      ],
      "text/latex": [
       "\\begin{enumerate*}\n",
       "\\item 1\n",
       "\\item 2\n",
       "\\item 3\n",
       "\\end{enumerate*}\n"
      ],
      "text/markdown": [
       "1. 1\n",
       "2. 2\n",
       "3. 3\n",
       "\n",
       "\n"
      ],
      "text/plain": [
       "[1] 1 2 3"
      ]
     },
     "metadata": {},
     "output_type": "display_data"
    }
   ],
   "source": [
    "lst$x\n",
    "df$x"
   ]
  },
  {
   "cell_type": "code",
   "execution_count": 73,
   "id": "2771a178-213e-4f9e-a518-709615616654",
   "metadata": {},
   "outputs": [
    {
     "data": {
      "text/html": [
       "<strong>$x</strong> = <style>\n",
       ".list-inline {list-style: none; margin:0; padding: 0}\n",
       ".list-inline>li {display: inline-block}\n",
       ".list-inline>li:not(:last-child)::after {content: \"\\00b7\"; padding: 0 .5ex}\n",
       "</style>\n",
       "<ol class=list-inline><li>1</li><li>2</li><li>3</li></ol>\n"
      ],
      "text/latex": [
       "\\textbf{\\$x} = \\begin{enumerate*}\n",
       "\\item 1\n",
       "\\item 2\n",
       "\\item 3\n",
       "\\end{enumerate*}\n"
      ],
      "text/markdown": [
       "**$x** = 1. 1\n",
       "2. 2\n",
       "3. 3\n",
       "\n",
       "\n"
      ],
      "text/plain": [
       "$x\n",
       "[1] 1 2 3\n"
      ]
     },
     "metadata": {},
     "output_type": "display_data"
    },
    {
     "data": {
      "text/html": [
       "<table class=\"dataframe\">\n",
       "<caption>A tibble: 3 × 1</caption>\n",
       "<thead>\n",
       "\t<tr><th scope=col>x</th></tr>\n",
       "\t<tr><th scope=col>&lt;int&gt;</th></tr>\n",
       "</thead>\n",
       "<tbody>\n",
       "\t<tr><td>1</td></tr>\n",
       "\t<tr><td>2</td></tr>\n",
       "\t<tr><td>3</td></tr>\n",
       "</tbody>\n",
       "</table>\n"
      ],
      "text/latex": [
       "A tibble: 3 × 1\n",
       "\\begin{tabular}{l}\n",
       " x\\\\\n",
       " <int>\\\\\n",
       "\\hline\n",
       "\t 1\\\\\n",
       "\t 2\\\\\n",
       "\t 3\\\\\n",
       "\\end{tabular}\n"
      ],
      "text/markdown": [
       "\n",
       "A tibble: 3 × 1\n",
       "\n",
       "| x &lt;int&gt; |\n",
       "|---|\n",
       "| 1 |\n",
       "| 2 |\n",
       "| 3 |\n",
       "\n"
      ],
      "text/plain": [
       "  x\n",
       "1 1\n",
       "2 2\n",
       "3 3"
      ]
     },
     "metadata": {},
     "output_type": "display_data"
    }
   ],
   "source": [
    "lst['x']\n",
    "df['x']"
   ]
  },
  {
   "cell_type": "code",
   "execution_count": 77,
   "id": "80a04f87-bf6c-4488-92e8-d88b1d766a80",
   "metadata": {},
   "outputs": [
    {
     "data": {
      "text/html": [
       "<dl>\n",
       "\t<dt>$x</dt>\n",
       "\t\t<dd><style>\n",
       ".list-inline {list-style: none; margin:0; padding: 0}\n",
       ".list-inline>li {display: inline-block}\n",
       ".list-inline>li:not(:last-child)::after {content: \"\\00b7\"; padding: 0 .5ex}\n",
       "</style>\n",
       "<ol class=list-inline><li>1</li><li>2</li><li>3</li></ol>\n",
       "</dd>\n",
       "\t<dt>$y</dt>\n",
       "\t\t<dd><style>\n",
       ".list-inline {list-style: none; margin:0; padding: 0}\n",
       ".list-inline>li {display: inline-block}\n",
       ".list-inline>li:not(:last-child)::after {content: \"\\00b7\"; padding: 0 .5ex}\n",
       "</style>\n",
       "<ol class=list-inline><li>TRUE</li><li>FALSE</li><li>TRUE</li></ol>\n",
       "</dd>\n",
       "</dl>\n"
      ],
      "text/latex": [
       "\\begin{description}\n",
       "\\item[\\$x] \\begin{enumerate*}\n",
       "\\item 1\n",
       "\\item 2\n",
       "\\item 3\n",
       "\\end{enumerate*}\n",
       "\n",
       "\\item[\\$y] \\begin{enumerate*}\n",
       "\\item TRUE\n",
       "\\item FALSE\n",
       "\\item TRUE\n",
       "\\end{enumerate*}\n",
       "\n",
       "\\end{description}\n"
      ],
      "text/markdown": [
       "$x\n",
       ":   1. 1\n",
       "2. 2\n",
       "3. 3\n",
       "\n",
       "\n",
       "\n",
       "$y\n",
       ":   1. TRUE\n",
       "2. FALSE\n",
       "3. TRUE\n",
       "\n",
       "\n",
       "\n",
       "\n",
       "\n"
      ],
      "text/plain": [
       "$x\n",
       "[1] 1 2 3\n",
       "\n",
       "$y\n",
       "[1]  TRUE FALSE  TRUE\n"
      ]
     },
     "metadata": {},
     "output_type": "display_data"
    },
    {
     "data": {
      "text/html": [
       "<table class=\"dataframe\">\n",
       "<caption>A tibble: 3 × 2</caption>\n",
       "<thead>\n",
       "\t<tr><th scope=col>x</th><th scope=col>y</th></tr>\n",
       "\t<tr><th scope=col>&lt;int&gt;</th><th scope=col>&lt;lgl&gt;</th></tr>\n",
       "</thead>\n",
       "<tbody>\n",
       "\t<tr><td>1</td><td> TRUE</td></tr>\n",
       "\t<tr><td>2</td><td>FALSE</td></tr>\n",
       "\t<tr><td>3</td><td> TRUE</td></tr>\n",
       "</tbody>\n",
       "</table>\n"
      ],
      "text/latex": [
       "A tibble: 3 × 2\n",
       "\\begin{tabular}{ll}\n",
       " x & y\\\\\n",
       " <int> & <lgl>\\\\\n",
       "\\hline\n",
       "\t 1 &  TRUE\\\\\n",
       "\t 2 & FALSE\\\\\n",
       "\t 3 &  TRUE\\\\\n",
       "\\end{tabular}\n"
      ],
      "text/markdown": [
       "\n",
       "A tibble: 3 × 2\n",
       "\n",
       "| x &lt;int&gt; | y &lt;lgl&gt; |\n",
       "|---|---|\n",
       "| 1 |  TRUE |\n",
       "| 2 | FALSE |\n",
       "| 3 |  TRUE |\n",
       "\n"
      ],
      "text/plain": [
       "  x y    \n",
       "1 1  TRUE\n",
       "2 2 FALSE\n",
       "3 3  TRUE"
      ]
     },
     "metadata": {},
     "output_type": "display_data"
    }
   ],
   "source": [
    "lst[1:2]\n",
    "df[1:2]"
   ]
  },
  {
   "cell_type": "markdown",
   "id": "42dbc9e5-2810-405d-846b-d59d905942ac",
   "metadata": {},
   "source": [
    "`-` 매트릭스처럼 생각한다면 아래와 같은 형태도 가능하다. "
   ]
  },
  {
   "cell_type": "code",
   "execution_count": 79,
   "id": "d1a93687-3701-40cc-9135-f4ffd9029deb",
   "metadata": {},
   "outputs": [
    {
     "data": {
      "text/html": [
       "<table class=\"dataframe\">\n",
       "<caption>A matrix: 2 × 3 of type chr</caption>\n",
       "<thead>\n",
       "\t<tr><th scope=col>x</th><th scope=col>y</th><th scope=col>z</th></tr>\n",
       "</thead>\n",
       "<tbody>\n",
       "\t<tr><td>2</td><td>FALSE</td><td>b</td></tr>\n",
       "\t<tr><td>3</td><td>TRUE </td><td>c</td></tr>\n",
       "</tbody>\n",
       "</table>\n"
      ],
      "text/latex": [
       "A matrix: 2 × 3 of type chr\n",
       "\\begin{tabular}{lll}\n",
       " x & y & z\\\\\n",
       "\\hline\n",
       "\t 2 & FALSE & b\\\\\n",
       "\t 3 & TRUE  & c\\\\\n",
       "\\end{tabular}\n"
      ],
      "text/markdown": [
       "\n",
       "A matrix: 2 × 3 of type chr\n",
       "\n",
       "| x | y | z |\n",
       "|---|---|---|\n",
       "| 2 | FALSE | b |\n",
       "| 3 | TRUE  | c |\n",
       "\n"
      ],
      "text/plain": [
       "     x y     z\n",
       "[1,] 2 FALSE b\n",
       "[2,] 3 TRUE  c"
      ]
     },
     "metadata": {},
     "output_type": "display_data"
    },
    {
     "data": {
      "text/html": [
       "<table class=\"dataframe\">\n",
       "<caption>A tibble: 2 × 3</caption>\n",
       "<thead>\n",
       "\t<tr><th scope=col>x</th><th scope=col>y</th><th scope=col>z</th></tr>\n",
       "\t<tr><th scope=col>&lt;int&gt;</th><th scope=col>&lt;lgl&gt;</th><th scope=col>&lt;chr&gt;</th></tr>\n",
       "</thead>\n",
       "<tbody>\n",
       "\t<tr><td>2</td><td>FALSE</td><td>b</td></tr>\n",
       "\t<tr><td>3</td><td> TRUE</td><td>c</td></tr>\n",
       "</tbody>\n",
       "</table>\n"
      ],
      "text/latex": [
       "A tibble: 2 × 3\n",
       "\\begin{tabular}{lll}\n",
       " x & y & z\\\\\n",
       " <int> & <lgl> & <chr>\\\\\n",
       "\\hline\n",
       "\t 2 & FALSE & b\\\\\n",
       "\t 3 &  TRUE & c\\\\\n",
       "\\end{tabular}\n"
      ],
      "text/markdown": [
       "\n",
       "A tibble: 2 × 3\n",
       "\n",
       "| x &lt;int&gt; | y &lt;lgl&gt; | z &lt;chr&gt; |\n",
       "|---|---|---|\n",
       "| 2 | FALSE | b |\n",
       "| 3 |  TRUE | c |\n",
       "\n"
      ],
      "text/plain": [
       "  x y     z\n",
       "1 2 FALSE b\n",
       "2 3  TRUE c"
      ]
     },
     "metadata": {},
     "output_type": "display_data"
    }
   ],
   "source": [
    "mat[2:3,]\n",
    "df[2:3,]"
   ]
  },
  {
   "cell_type": "code",
   "execution_count": 81,
   "id": "980b4328-62b2-492d-9d12-182b0663ec51",
   "metadata": {},
   "outputs": [
    {
     "data": {
      "text/html": [
       "<table class=\"dataframe\">\n",
       "<caption>A matrix: 3 × 2 of type chr</caption>\n",
       "<thead>\n",
       "\t<tr><th scope=col>x</th><th scope=col>y</th></tr>\n",
       "</thead>\n",
       "<tbody>\n",
       "\t<tr><td>1</td><td>TRUE </td></tr>\n",
       "\t<tr><td>2</td><td>FALSE</td></tr>\n",
       "\t<tr><td>3</td><td>TRUE </td></tr>\n",
       "</tbody>\n",
       "</table>\n"
      ],
      "text/latex": [
       "A matrix: 3 × 2 of type chr\n",
       "\\begin{tabular}{ll}\n",
       " x & y\\\\\n",
       "\\hline\n",
       "\t 1 & TRUE \\\\\n",
       "\t 2 & FALSE\\\\\n",
       "\t 3 & TRUE \\\\\n",
       "\\end{tabular}\n"
      ],
      "text/markdown": [
       "\n",
       "A matrix: 3 × 2 of type chr\n",
       "\n",
       "| x | y |\n",
       "|---|---|\n",
       "| 1 | TRUE  |\n",
       "| 2 | FALSE |\n",
       "| 3 | TRUE  |\n",
       "\n"
      ],
      "text/plain": [
       "     x y    \n",
       "[1,] 1 TRUE \n",
       "[2,] 2 FALSE\n",
       "[3,] 3 TRUE "
      ]
     },
     "metadata": {},
     "output_type": "display_data"
    },
    {
     "data": {
      "text/html": [
       "<table class=\"dataframe\">\n",
       "<caption>A tibble: 3 × 2</caption>\n",
       "<thead>\n",
       "\t<tr><th scope=col>x</th><th scope=col>y</th></tr>\n",
       "\t<tr><th scope=col>&lt;int&gt;</th><th scope=col>&lt;lgl&gt;</th></tr>\n",
       "</thead>\n",
       "<tbody>\n",
       "\t<tr><td>1</td><td> TRUE</td></tr>\n",
       "\t<tr><td>2</td><td>FALSE</td></tr>\n",
       "\t<tr><td>3</td><td> TRUE</td></tr>\n",
       "</tbody>\n",
       "</table>\n"
      ],
      "text/latex": [
       "A tibble: 3 × 2\n",
       "\\begin{tabular}{ll}\n",
       " x & y\\\\\n",
       " <int> & <lgl>\\\\\n",
       "\\hline\n",
       "\t 1 &  TRUE\\\\\n",
       "\t 2 & FALSE\\\\\n",
       "\t 3 &  TRUE\\\\\n",
       "\\end{tabular}\n"
      ],
      "text/markdown": [
       "\n",
       "A tibble: 3 × 2\n",
       "\n",
       "| x &lt;int&gt; | y &lt;lgl&gt; |\n",
       "|---|---|\n",
       "| 1 |  TRUE |\n",
       "| 2 | FALSE |\n",
       "| 3 |  TRUE |\n",
       "\n"
      ],
      "text/plain": [
       "  x y    \n",
       "1 1  TRUE\n",
       "2 2 FALSE\n",
       "3 3  TRUE"
      ]
     },
     "metadata": {},
     "output_type": "display_data"
    }
   ],
   "source": [
    "mat[,1:2]\n",
    "df[,1:2]"
   ]
  },
  {
   "cell_type": "code",
   "execution_count": 83,
   "id": "65d6eacd-4ec7-4d61-9267-22390af275c7",
   "metadata": {},
   "outputs": [
    {
     "data": {
      "text/html": [
       "<style>\n",
       ".list-inline {list-style: none; margin:0; padding: 0}\n",
       ".list-inline>li {display: inline-block}\n",
       ".list-inline>li:not(:last-child)::after {content: \"\\00b7\"; padding: 0 .5ex}\n",
       "</style>\n",
       "<ol class=list-inline><li>'1'</li><li>'2'</li><li>'3'</li></ol>\n"
      ],
      "text/latex": [
       "\\begin{enumerate*}\n",
       "\\item '1'\n",
       "\\item '2'\n",
       "\\item '3'\n",
       "\\end{enumerate*}\n"
      ],
      "text/markdown": [
       "1. '1'\n",
       "2. '2'\n",
       "3. '3'\n",
       "\n",
       "\n"
      ],
      "text/plain": [
       "[1] \"1\" \"2\" \"3\""
      ]
     },
     "metadata": {},
     "output_type": "display_data"
    },
    {
     "data": {
      "text/html": [
       "<table class=\"dataframe\">\n",
       "<caption>A tibble: 3 × 1</caption>\n",
       "<thead>\n",
       "\t<tr><th scope=col>x</th></tr>\n",
       "\t<tr><th scope=col>&lt;int&gt;</th></tr>\n",
       "</thead>\n",
       "<tbody>\n",
       "\t<tr><td>1</td></tr>\n",
       "\t<tr><td>2</td></tr>\n",
       "\t<tr><td>3</td></tr>\n",
       "</tbody>\n",
       "</table>\n"
      ],
      "text/latex": [
       "A tibble: 3 × 1\n",
       "\\begin{tabular}{l}\n",
       " x\\\\\n",
       " <int>\\\\\n",
       "\\hline\n",
       "\t 1\\\\\n",
       "\t 2\\\\\n",
       "\t 3\\\\\n",
       "\\end{tabular}\n"
      ],
      "text/markdown": [
       "\n",
       "A tibble: 3 × 1\n",
       "\n",
       "| x &lt;int&gt; |\n",
       "|---|\n",
       "| 1 |\n",
       "| 2 |\n",
       "| 3 |\n",
       "\n"
      ],
      "text/plain": [
       "  x\n",
       "1 1\n",
       "2 2\n",
       "3 3"
      ]
     },
     "metadata": {},
     "output_type": "display_data"
    }
   ],
   "source": [
    "mat[,'x']\n",
    "df[,'x']"
   ]
  },
  {
   "cell_type": "code",
   "execution_count": 85,
   "id": "190d0c3f-626d-4492-9d5c-980e90a9c188",
   "metadata": {},
   "outputs": [
    {
     "data": {
      "text/html": [
       "<table class=\"dataframe\">\n",
       "<caption>A matrix: 3 × 2 of type chr</caption>\n",
       "<thead>\n",
       "\t<tr><th scope=col>x</th><th scope=col>y</th></tr>\n",
       "</thead>\n",
       "<tbody>\n",
       "\t<tr><td>1</td><td>TRUE </td></tr>\n",
       "\t<tr><td>2</td><td>FALSE</td></tr>\n",
       "\t<tr><td>3</td><td>TRUE </td></tr>\n",
       "</tbody>\n",
       "</table>\n"
      ],
      "text/latex": [
       "A matrix: 3 × 2 of type chr\n",
       "\\begin{tabular}{ll}\n",
       " x & y\\\\\n",
       "\\hline\n",
       "\t 1 & TRUE \\\\\n",
       "\t 2 & FALSE\\\\\n",
       "\t 3 & TRUE \\\\\n",
       "\\end{tabular}\n"
      ],
      "text/markdown": [
       "\n",
       "A matrix: 3 × 2 of type chr\n",
       "\n",
       "| x | y |\n",
       "|---|---|\n",
       "| 1 | TRUE  |\n",
       "| 2 | FALSE |\n",
       "| 3 | TRUE  |\n",
       "\n"
      ],
      "text/plain": [
       "     x y    \n",
       "[1,] 1 TRUE \n",
       "[2,] 2 FALSE\n",
       "[3,] 3 TRUE "
      ]
     },
     "metadata": {},
     "output_type": "display_data"
    },
    {
     "data": {
      "text/html": [
       "<table class=\"dataframe\">\n",
       "<caption>A tibble: 3 × 2</caption>\n",
       "<thead>\n",
       "\t<tr><th scope=col>x</th><th scope=col>y</th></tr>\n",
       "\t<tr><th scope=col>&lt;int&gt;</th><th scope=col>&lt;lgl&gt;</th></tr>\n",
       "</thead>\n",
       "<tbody>\n",
       "\t<tr><td>1</td><td> TRUE</td></tr>\n",
       "\t<tr><td>2</td><td>FALSE</td></tr>\n",
       "\t<tr><td>3</td><td> TRUE</td></tr>\n",
       "</tbody>\n",
       "</table>\n"
      ],
      "text/latex": [
       "A tibble: 3 × 2\n",
       "\\begin{tabular}{ll}\n",
       " x & y\\\\\n",
       " <int> & <lgl>\\\\\n",
       "\\hline\n",
       "\t 1 &  TRUE\\\\\n",
       "\t 2 & FALSE\\\\\n",
       "\t 3 &  TRUE\\\\\n",
       "\\end{tabular}\n"
      ],
      "text/markdown": [
       "\n",
       "A tibble: 3 × 2\n",
       "\n",
       "| x &lt;int&gt; | y &lt;lgl&gt; |\n",
       "|---|---|\n",
       "| 1 |  TRUE |\n",
       "| 2 | FALSE |\n",
       "| 3 |  TRUE |\n",
       "\n"
      ],
      "text/plain": [
       "  x y    \n",
       "1 1  TRUE\n",
       "2 2 FALSE\n",
       "3 3  TRUE"
      ]
     },
     "metadata": {},
     "output_type": "display_data"
    }
   ],
   "source": [
    "mat[,c('x','y')]\n",
    "df[,c('x','y')]"
   ]
  },
  {
   "cell_type": "code",
   "execution_count": 87,
   "id": "9c9ce35d-4439-483f-bc9e-7d362d5bcf35",
   "metadata": {},
   "outputs": [
    {
     "data": {
      "text/html": [
       "<table class=\"dataframe\">\n",
       "<caption>A matrix: 2 × 2 of type chr</caption>\n",
       "<thead>\n",
       "\t<tr><th scope=col>x</th><th scope=col>y</th></tr>\n",
       "</thead>\n",
       "<tbody>\n",
       "\t<tr><td>2</td><td>FALSE</td></tr>\n",
       "\t<tr><td>3</td><td>TRUE </td></tr>\n",
       "</tbody>\n",
       "</table>\n"
      ],
      "text/latex": [
       "A matrix: 2 × 2 of type chr\n",
       "\\begin{tabular}{ll}\n",
       " x & y\\\\\n",
       "\\hline\n",
       "\t 2 & FALSE\\\\\n",
       "\t 3 & TRUE \\\\\n",
       "\\end{tabular}\n"
      ],
      "text/markdown": [
       "\n",
       "A matrix: 2 × 2 of type chr\n",
       "\n",
       "| x | y |\n",
       "|---|---|\n",
       "| 2 | FALSE |\n",
       "| 3 | TRUE  |\n",
       "\n"
      ],
      "text/plain": [
       "     x y    \n",
       "[1,] 2 FALSE\n",
       "[2,] 3 TRUE "
      ]
     },
     "metadata": {},
     "output_type": "display_data"
    },
    {
     "data": {
      "text/html": [
       "<table class=\"dataframe\">\n",
       "<caption>A tibble: 2 × 2</caption>\n",
       "<thead>\n",
       "\t<tr><th scope=col>x</th><th scope=col>y</th></tr>\n",
       "\t<tr><th scope=col>&lt;int&gt;</th><th scope=col>&lt;lgl&gt;</th></tr>\n",
       "</thead>\n",
       "<tbody>\n",
       "\t<tr><td>2</td><td>FALSE</td></tr>\n",
       "\t<tr><td>3</td><td> TRUE</td></tr>\n",
       "</tbody>\n",
       "</table>\n"
      ],
      "text/latex": [
       "A tibble: 2 × 2\n",
       "\\begin{tabular}{ll}\n",
       " x & y\\\\\n",
       " <int> & <lgl>\\\\\n",
       "\\hline\n",
       "\t 2 & FALSE\\\\\n",
       "\t 3 &  TRUE\\\\\n",
       "\\end{tabular}\n"
      ],
      "text/markdown": [
       "\n",
       "A tibble: 2 × 2\n",
       "\n",
       "| x &lt;int&gt; | y &lt;lgl&gt; |\n",
       "|---|---|\n",
       "| 2 | FALSE |\n",
       "| 3 |  TRUE |\n",
       "\n"
      ],
      "text/plain": [
       "  x y    \n",
       "1 2 FALSE\n",
       "2 3  TRUE"
      ]
     },
     "metadata": {},
     "output_type": "display_data"
    }
   ],
   "source": [
    "mat[2:3,c('x','y')]\n",
    "df[2:3,c('x','y')]"
   ]
  }
 ],
 "metadata": {
  "kernelspec": {
   "display_name": "R",
   "language": "R",
   "name": "ir"
  },
  "language_info": {
   "codemirror_mode": "r",
   "file_extension": ".r",
   "mimetype": "text/x-r-source",
   "name": "R",
   "pygments_lexer": "r",
   "version": "4.0.5"
  },
  "widgets": {
   "application/vnd.jupyter.widget-state+json": {
    "state": {},
    "version_major": 2,
    "version_minor": 0
   }
  }
 },
 "nbformat": 4,
 "nbformat_minor": 5
}
