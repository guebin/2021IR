{
 "cells": [
  {
   "cell_type": "code",
   "execution_count": 2,
   "id": "7b8a6425-8e2b-4534-b66c-be085518c544",
   "metadata": {},
   "outputs": [],
   "source": [
    "#hide\n",
    "options(jupyter.plot_scale=3)\n",
    "options(jupyter.display_mimetypes=c(\"text/html\"))\n",
    "options(jupyter.rich_display=FALSE)\n",
    "options(repr.plot.width=6,repr.plot.height=6,repr.plot.res=300)\n",
    "options(max.print=1000)"
   ]
  },
  {
   "cell_type": "markdown",
   "id": "48816013-be84-4882-93ca-838f8f1827d8",
   "metadata": {
    "tags": []
   },
   "source": [
    "# 2021년 1학기 R입문 중간고사 풀이\n",
    "\n",
    "- toc:true\n",
    "- branch: master\n",
    "- badges: true\n",
    "- comments: true\n",
    "- author: 최규빈"
   ]
  },
  {
   "cell_type": "markdown",
   "id": "585845c2-75f0-44cb-a6ee-068b6ee04aeb",
   "metadata": {},
   "source": [
    "### `1`. R을 이용하여 다음을 계산하여라. (3점)"
   ]
  },
  {
   "cell_type": "markdown",
   "id": "4a36de37-c4c4-437d-937f-7136544cbbb1",
   "metadata": {},
   "source": [
    "#### (a) $2^{-5}+2^{3}$"
   ]
  },
  {
   "cell_type": "markdown",
   "id": "82e74af3-870c-4344-b4f5-a5b6f1257a32",
   "metadata": {},
   "source": [
    "#### (b) $\\sqrt{33}$"
   ]
  },
  {
   "cell_type": "markdown",
   "id": "566005bd-8605-4187-94c2-2a2c097a969c",
   "metadata": {},
   "source": [
    "#### (c) $\\sum_{k=1}^{100} \\frac{1}{k^2+2k+1}=\\sum_{k=1}^{100}(k+1)^{-2}$"
   ]
  },
  {
   "cell_type": "markdown",
   "id": "4210b668-8ded-4590-ace3-5307446afa4d",
   "metadata": {},
   "source": [
    "(풀이) "
   ]
  },
  {
   "cell_type": "markdown",
   "id": "085251e5-c9d2-4134-979f-fed7ebef8222",
   "metadata": {},
   "source": [
    "`-` (c)만 풀겠습니다. "
   ]
  },
  {
   "cell_type": "markdown",
   "id": "18e4722b-9dfe-494f-9440-7748947a9b8b",
   "metadata": {},
   "source": [
    "`-` 방법1: for문을 이용 "
   ]
  },
  {
   "cell_type": "code",
   "execution_count": 3,
   "id": "0d0fdb0e-72f3-48d1-8c80-fa7274157871",
   "metadata": {},
   "outputs": [
    {
     "data": {
      "text/plain": [
       "[1] 0.6350819"
      ]
     },
     "metadata": {},
     "output_type": "display_data"
    }
   ],
   "source": [
    "ak <-c() \n",
    "for (k in 1:100) ak[k] <- 1/(k**2 + 2*k + 1) \n",
    "sum(ak)"
   ]
  },
  {
   "cell_type": "markdown",
   "id": "cf13a3b8-096a-44df-85fb-12b57bd4a9c8",
   "metadata": {},
   "source": [
    "`-` 방법2: 벡터의 연산을 이용한다. "
   ]
  },
  {
   "cell_type": "code",
   "execution_count": 4,
   "id": "c012c6d8-d43c-4d22-97ea-1d349d75a980",
   "metadata": {},
   "outputs": [
    {
     "data": {
      "text/plain": [
       "[1] 0.6350819"
      ]
     },
     "metadata": {},
     "output_type": "display_data"
    }
   ],
   "source": [
    "k=1:100 \n",
    "sum(1/(k**2 + 2*k + 1) )"
   ]
  },
  {
   "cell_type": "markdown",
   "id": "c6b9b5ef-4f87-440a-98b2-9067178d24ba",
   "metadata": {},
   "source": [
    "`-` 수학을 좋아하는 사람? "
   ]
  },
  {
   "cell_type": "code",
   "execution_count": 6,
   "id": "ba1dfbc8-6d61-4822-848a-b56abebaf639",
   "metadata": {},
   "outputs": [
    {
     "data": {
      "text/plain": [
       "[1] 0.6350819"
      ]
     },
     "metadata": {},
     "output_type": "display_data"
    }
   ],
   "source": [
    "k=1:100\n",
    "sum((k+1)^(-2))"
   ]
  },
  {
   "cell_type": "markdown",
   "id": "7fb1dd25-2597-4b26-a6fc-e2824fe535a5",
   "metadata": {},
   "source": [
    "`-` 제 생각에는 방법2가 좋은것 같아요. (계산효율면에서 좋고 디버깅이 편해요) "
   ]
  },
  {
   "cell_type": "code",
   "execution_count": 7,
   "id": "fa7849d6-0961-4f7f-93cc-987845398e40",
   "metadata": {},
   "outputs": [
    {
     "data": {
      "text/plain": [
       "  [1]   1   2   3   4   5   6   7   8   9  10  11  12  13  14  15  16  17  18\n",
       " [19]  19  20  21  22  23  24  25  26  27  28  29  30  31  32  33  34  35  36\n",
       " [37]  37  38  39  40  41  42  43  44  45  46  47  48  49  50  51  52  53  54\n",
       " [55]  55  56  57  58  59  60  61  62  63  64  65  66  67  68  69  70  71  72\n",
       " [73]  73  74  75  76  77  78  79  80  81  82  83  84  85  86  87  88  89  90\n",
       " [91]  91  92  93  94  95  96  97  98  99 100"
      ]
     },
     "metadata": {},
     "output_type": "display_data"
    }
   ],
   "source": [
    "1:100 "
   ]
  },
  {
   "cell_type": "code",
   "execution_count": 8,
   "id": "8ec1888c-012a-4640-99cf-03ddce648463",
   "metadata": {},
   "outputs": [
    {
     "data": {
      "text/plain": [
       "  [1]     1     4     9    16    25    36    49    64    81   100   121   144\n",
       " [13]   169   196   225   256   289   324   361   400   441   484   529   576\n",
       " [25]   625   676   729   784   841   900   961  1024  1089  1156  1225  1296\n",
       " [37]  1369  1444  1521  1600  1681  1764  1849  1936  2025  2116  2209  2304\n",
       " [49]  2401  2500  2601  2704  2809  2916  3025  3136  3249  3364  3481  3600\n",
       " [61]  3721  3844  3969  4096  4225  4356  4489  4624  4761  4900  5041  5184\n",
       " [73]  5329  5476  5625  5776  5929  6084  6241  6400  6561  6724  6889  7056\n",
       " [85]  7225  7396  7569  7744  7921  8100  8281  8464  8649  8836  9025  9216\n",
       " [97]  9409  9604  9801 10000"
      ]
     },
     "metadata": {},
     "output_type": "display_data"
    }
   ],
   "source": [
    "(1:100)**2"
   ]
  },
  {
   "cell_type": "code",
   "execution_count": 9,
   "id": "7f877f10-0464-4abb-87fd-0f4e3e438e1a",
   "metadata": {},
   "outputs": [
    {
     "data": {
      "text/plain": [
       "  [1]     3     8    15    24    35    48    63    80    99   120   143   168\n",
       " [13]   195   224   255   288   323   360   399   440   483   528   575   624\n",
       " [25]   675   728   783   840   899   960  1023  1088  1155  1224  1295  1368\n",
       " [37]  1443  1520  1599  1680  1763  1848  1935  2024  2115  2208  2303  2400\n",
       " [49]  2499  2600  2703  2808  2915  3024  3135  3248  3363  3480  3599  3720\n",
       " [61]  3843  3968  4095  4224  4355  4488  4623  4760  4899  5040  5183  5328\n",
       " [73]  5475  5624  5775  5928  6083  6240  6399  6560  6723  6888  7055  7224\n",
       " [85]  7395  7568  7743  7920  8099  8280  8463  8648  8835  9024  9215  9408\n",
       " [97]  9603  9800  9999 10200"
      ]
     },
     "metadata": {},
     "output_type": "display_data"
    }
   ],
   "source": [
    "(1:100)**2 + 2*(1:100)"
   ]
  },
  {
   "cell_type": "code",
   "execution_count": 10,
   "id": "fce40c76-fa1b-4045-9683-d10b5a31ca1e",
   "metadata": {},
   "outputs": [
    {
     "data": {
      "text/plain": [
       "  [1]     4     9    16    25    36    49    64    81   100   121   144   169\n",
       " [13]   196   225   256   289   324   361   400   441   484   529   576   625\n",
       " [25]   676   729   784   841   900   961  1024  1089  1156  1225  1296  1369\n",
       " [37]  1444  1521  1600  1681  1764  1849  1936  2025  2116  2209  2304  2401\n",
       " [49]  2500  2601  2704  2809  2916  3025  3136  3249  3364  3481  3600  3721\n",
       " [61]  3844  3969  4096  4225  4356  4489  4624  4761  4900  5041  5184  5329\n",
       " [73]  5476  5625  5776  5929  6084  6241  6400  6561  6724  6889  7056  7225\n",
       " [85]  7396  7569  7744  7921  8100  8281  8464  8649  8836  9025  9216  9409\n",
       " [97]  9604  9801 10000 10201"
      ]
     },
     "metadata": {},
     "output_type": "display_data"
    }
   ],
   "source": [
    "(1:100)**2 + 2*(1:100) +1 "
   ]
  },
  {
   "cell_type": "code",
   "execution_count": 13,
   "id": "8fe547de-15c1-4abf-8f6a-421613902f67",
   "metadata": {},
   "outputs": [
    {
     "data": {
      "text/plain": [
       "  [1] 0.2500000000 0.1111111111 0.0625000000 0.0400000000 0.0277777778\n",
       "  [6] 0.0204081633 0.0156250000 0.0123456790 0.0100000000 0.0082644628\n",
       " [11] 0.0069444444 0.0059171598 0.0051020408 0.0044444444 0.0039062500\n",
       " [16] 0.0034602076 0.0030864198 0.0027700831 0.0025000000 0.0022675737\n",
       " [21] 0.0020661157 0.0018903592 0.0017361111 0.0016000000 0.0014792899\n",
       " [26] 0.0013717421 0.0012755102 0.0011890606 0.0011111111 0.0010405827\n",
       " [31] 0.0009765625 0.0009182736 0.0008650519 0.0008163265 0.0007716049\n",
       " [36] 0.0007304602 0.0006925208 0.0006574622 0.0006250000 0.0005948840\n",
       " [41] 0.0005668934 0.0005408329 0.0005165289 0.0004938272 0.0004725898\n",
       " [46] 0.0004526935 0.0004340278 0.0004164931 0.0004000000 0.0003844675\n",
       " [51] 0.0003698225 0.0003559986 0.0003429355 0.0003305785 0.0003188776\n",
       " [56] 0.0003077870 0.0002972652 0.0002872738 0.0002777778 0.0002687450\n",
       " [61] 0.0002601457 0.0002519526 0.0002441406 0.0002366864 0.0002295684\n",
       " [66] 0.0002227668 0.0002162630 0.0002100399 0.0002040816 0.0001983733\n",
       " [71] 0.0001929012 0.0001876525 0.0001826150 0.0001777778 0.0001731302\n",
       " [76] 0.0001686625 0.0001643655 0.0001602307 0.0001562500 0.0001524158\n",
       " [81] 0.0001487210 0.0001451589 0.0001417234 0.0001384083 0.0001352082\n",
       " [86] 0.0001321178 0.0001291322 0.0001262467 0.0001234568 0.0001207584\n",
       " [91] 0.0001181474 0.0001156203 0.0001131734 0.0001108033 0.0001085069\n",
       " [96] 0.0001062812 0.0001041233 0.0001020304 0.0001000000 0.0000980296"
      ]
     },
     "metadata": {},
     "output_type": "display_data"
    }
   ],
   "source": [
    "1 / ((1:100)**2 + 2*(1:100) +1)"
   ]
  },
  {
   "cell_type": "code",
   "execution_count": 14,
   "id": "6bd7527c-2e57-46a3-9622-34fde6e85d01",
   "metadata": {},
   "outputs": [
    {
     "data": {
      "text/plain": [
       "[1] 0.6350819"
      ]
     },
     "metadata": {},
     "output_type": "display_data"
    }
   ],
   "source": [
    "sum(1 / ((1:100)**2 + 2*(1:100) +1))"
   ]
  },
  {
   "cell_type": "markdown",
   "id": "ad51a2c9-b520-45cd-9591-b6da037d2f5c",
   "metadata": {},
   "source": [
    "### `2`. 다음을 잘 읽고 물음에 답하라. (2점)"
   ]
  },
  {
   "cell_type": "markdown",
   "id": "9da839fb-8318-49d8-91bd-cda9e382e96f",
   "metadata": {},
   "source": [
    "#### (a) 아래와 같은 수열을 생성하라. \n",
    "$$x=(-10,-9.5,-9.0,...,9.0,9.5,10)$$\n",
    "\n",
    "#### (b) 생성된 수열에 대하여 아래를 만족하는 $y$를 계산하라. \n",
    "$$y=\\begin{cases} \n",
    "x & |x|>5 \\\\ \n",
    "0 & |x| \\leq 2  \\\\\n",
    "5 & o.w.\n",
    "\\end{cases}$$\n",
    "\n"
   ]
  },
  {
   "cell_type": "markdown",
   "id": "23dbb5ff-ad03-40a4-a02f-42cb968dffb0",
   "metadata": {},
   "source": [
    "(풀이) "
   ]
  },
  {
   "cell_type": "markdown",
   "id": "fe75530e-4438-4e17-bd91-07b8c5cd6faf",
   "metadata": {},
   "source": [
    "`-` 그냥 예제문제 "
   ]
  },
  {
   "cell_type": "code",
   "execution_count": 20,
   "id": "400a61e2-6505-4590-8e07-d0502776870d",
   "metadata": {},
   "outputs": [
    {
     "data": {
      "text/plain": [
       " [1] -10.0  -9.5  -9.0  -8.5  -8.0  -7.5  -7.0  -6.5  -6.0  -5.5  -5.0  -4.5\n",
       "[13]  -4.0  -3.5  -3.0  -2.5  -2.0  -1.5  -1.0  -0.5   0.0   0.5   1.0   1.5\n",
       "[25]   2.0   2.5   3.0   3.5   4.0   4.5   5.0   5.5   6.0   6.5   7.0   7.5\n",
       "[37]   8.0   8.5   9.0   9.5  10.0"
      ]
     },
     "metadata": {},
     "output_type": "display_data"
    }
   ],
   "source": [
    "seq(-10,10,0.5)"
   ]
  },
  {
   "cell_type": "code",
   "execution_count": 23,
   "id": "6c73b4b6-8760-43af-af87-3c1401205647",
   "metadata": {},
   "outputs": [],
   "source": [
    "x=seq(-10,10,0.5)"
   ]
  },
  {
   "cell_type": "code",
   "execution_count": 24,
   "id": "2c359ecf-3c67-4fbe-b869-d07c67d061f4",
   "metadata": {},
   "outputs": [
    {
     "data": {
      "text/plain": [
       " [1] -10.0  -9.5  -9.0  -8.5  -8.0  -7.5  -7.0  -6.5  -6.0  -5.5   5.0   5.0\n",
       "[13]   5.0   5.0   5.0   5.0   0.0   0.0   0.0   0.0   0.0   0.0   0.0   0.0\n",
       "[25]   0.0   5.0   5.0   5.0   5.0   5.0   5.0   5.5   6.0   6.5   7.0   7.5\n",
       "[37]   8.0   8.5   9.0   9.5  10.0"
      ]
     },
     "metadata": {},
     "output_type": "display_data"
    }
   ],
   "source": [
    "ifelse(abs(x)>5,x, ifelse(abs(x)<=2,0,5))"
   ]
  },
  {
   "cell_type": "markdown",
   "id": "7ad30f4b-b95d-4b90-85c2-7d2ffe9657f8",
   "metadata": {},
   "source": [
    "`-` 검산 "
   ]
  },
  {
   "cell_type": "code",
   "execution_count": 25,
   "id": "ac2b3cce-721f-4f03-9a9d-b6e90130afeb",
   "metadata": {},
   "outputs": [
    {
     "data": {
      "text/plain": [
       "      x          \n",
       " [1,] -10.0 -10.0\n",
       " [2,]  -9.5  -9.5\n",
       " [3,]  -9.0  -9.0\n",
       " [4,]  -8.5  -8.5\n",
       " [5,]  -8.0  -8.0\n",
       " [6,]  -7.5  -7.5\n",
       " [7,]  -7.0  -7.0\n",
       " [8,]  -6.5  -6.5\n",
       " [9,]  -6.0  -6.0\n",
       "[10,]  -5.5  -5.5\n",
       "[11,]  -5.0   5.0\n",
       "[12,]  -4.5   5.0\n",
       "[13,]  -4.0   5.0\n",
       "[14,]  -3.5   5.0\n",
       "[15,]  -3.0   5.0\n",
       "[16,]  -2.5   5.0\n",
       "[17,]  -2.0   0.0\n",
       "[18,]  -1.5   0.0\n",
       "[19,]  -1.0   0.0\n",
       "[20,]  -0.5   0.0\n",
       "[21,]   0.0   0.0\n",
       "[22,]   0.5   0.0\n",
       "[23,]   1.0   0.0\n",
       "[24,]   1.5   0.0\n",
       "[25,]   2.0   0.0\n",
       "[26,]   2.5   5.0\n",
       "[27,]   3.0   5.0\n",
       "[28,]   3.5   5.0\n",
       "[29,]   4.0   5.0\n",
       "[30,]   4.5   5.0\n",
       "[31,]   5.0   5.0\n",
       "[32,]   5.5   5.5\n",
       "[33,]   6.0   6.0\n",
       "[34,]   6.5   6.5\n",
       "[35,]   7.0   7.0\n",
       "[36,]   7.5   7.5\n",
       "[37,]   8.0   8.0\n",
       "[38,]   8.5   8.5\n",
       "[39,]   9.0   9.0\n",
       "[40,]   9.5   9.5\n",
       "[41,]  10.0  10.0"
      ]
     },
     "metadata": {},
     "output_type": "display_data"
    }
   ],
   "source": [
    "cbind(x,ifelse(abs(x)>5,x, ifelse(abs(x)<=2,0,5)))"
   ]
  },
  {
   "cell_type": "markdown",
   "id": "4876411e-3764-451f-b370-90171f4c9086",
   "metadata": {},
   "source": [
    "### `3`. $x=(-10,-9,-8,\\dots,8,9,10)$의 각 원소에 대하여 $h(g(f(x)))$의 계산결과를 구하는 코드를 작성하라. (10점)"
   ]
  },
  {
   "cell_type": "markdown",
   "id": "d0940719-77a7-45d1-bd24-6e7be7880335",
   "metadata": {},
   "source": [
    "단, $f(x)$,$g(x)$, $h(x)$의 정의는 각각 아래와 같다. \n",
    "- $f(x)=2x+3 $\n",
    "- $g(x)=\\frac{e^x}{1+e^x}$\n",
    "- $h(x)=max(x,0)$\n"
   ]
  },
  {
   "cell_type": "markdown",
   "id": "1b7be0d8-7c21-411b-8662-2c8e835392f1",
   "metadata": {},
   "source": [
    "(풀이) "
   ]
  },
  {
   "cell_type": "markdown",
   "id": "c75969a6-cee1-4d33-90d2-fa9611e6f829",
   "metadata": {},
   "source": [
    "`-` 문제 의도가 좀 왜곡되었어요.. $x=(-10,-9,-8, \\dots, 8,9,10)$의 각 원소에 대하여! 로 바꿔야합니다. "
   ]
  },
  {
   "cell_type": "code",
   "execution_count": 37,
   "id": "97ae1439-a50c-4b48-a3da-6409e49444dc",
   "metadata": {},
   "outputs": [],
   "source": [
    "library(tidyverse)"
   ]
  },
  {
   "cell_type": "code",
   "execution_count": 38,
   "id": "36a6dc9d-09fa-4789-baeb-5f49c01ddea9",
   "metadata": {},
   "outputs": [
    {
     "data": {
      "text/plain": [
       "[1] 1"
      ]
     },
     "metadata": {},
     "output_type": "display_data"
    }
   ],
   "source": [
    "f = function(x) 2*x +3 \n",
    "g = function(x) exp(x) / (1+exp(x)) \n",
    "h = function(x) max(x,0) \n",
    "-10:10 %>% f %>% g %>% h "
   ]
  },
  {
   "cell_type": "markdown",
   "id": "f2aaca90-6d6e-4ad6-9515-b031f5897e2a",
   "metadata": {},
   "source": [
    "`-` 원래 의도는 이거였습니다. "
   ]
  },
  {
   "cell_type": "code",
   "execution_count": 39,
   "id": "3c5647c5-1310-4d2e-ac7a-6bb5890c2b3c",
   "metadata": {},
   "outputs": [
    {
     "data": {
      "text/plain": [
       " [1] 4.139938e-08 3.059022e-07 2.260324e-06 1.670142e-05 1.233946e-04\n",
       " [6] 9.110512e-04 6.692851e-03 4.742587e-02 2.689414e-01 7.310586e-01\n",
       "[11] 9.525741e-01 9.933071e-01 9.990889e-01 9.998766e-01 9.999833e-01\n",
       "[16] 9.999977e-01 9.999997e-01 1.000000e+00 1.000000e+00 1.000000e+00\n",
       "[21] 1.000000e+00"
      ]
     },
     "metadata": {},
     "output_type": "display_data"
    }
   ],
   "source": [
    "f = function(x) 2*x +3 \n",
    "g = function(x) exp(x) / (1+exp(x)) \n",
    "h = function(x) ifelse(y>0,y,0)  \n",
    "-10:10 %>% f %>% g %>% h"
   ]
  },
  {
   "cell_type": "markdown",
   "id": "e66204e0-7dc6-4d72-a49a-bec0c5ada4b1",
   "metadata": {},
   "source": [
    "### `4`. 아래중 옳은것은? (O / X 로 답안지를 쓰고 답의 근거가 되는 코드를 작성할것) (10점)"
   ]
  },
  {
   "cell_type": "markdown",
   "id": "cf350534-0d6e-4c29-9bf6-6fadd4687ff0",
   "metadata": {},
   "source": [
    "#### (a) $1= \\frac{1}{2}+\\frac{1}{4} +\\frac{1}{8} \\dots $\n",
    "\n"
   ]
  },
  {
   "cell_type": "markdown",
   "id": "d84e1a60-3a09-4b72-be69-0b5bda42c4e7",
   "metadata": {},
   "source": [
    "#### (b) $e^x= 1+x+x^2+x^3+\\dots $"
   ]
  },
  {
   "cell_type": "markdown",
   "id": "cd293318-3165-486a-afc7-cdc909de9243",
   "metadata": {},
   "source": [
    "(풀이)"
   ]
  },
  {
   "cell_type": "code",
   "execution_count": 40,
   "id": "e4d3adf6-c661-4a06-a415-3fae0d657c48",
   "metadata": {},
   "outputs": [
    {
     "name": "stdout",
     "output_type": "stream",
     "text": [
      "[1] 0.5\n",
      "[1] 0.75\n",
      "[1] 0.875\n",
      "[1] 0.9375\n",
      "[1] 0.96875\n",
      "[1] 0.984375\n",
      "[1] 0.9921875\n",
      "[1] 0.9960938\n",
      "[1] 0.9980469\n",
      "[1] 0.9990234\n"
     ]
    }
   ],
   "source": [
    "sum=0 \n",
    "for (i in 1:10){\n",
    "    sum=sum+(1/2)**i \n",
    "    print(sum)\n",
    "}"
   ]
  },
  {
   "cell_type": "markdown",
   "id": "623b8d44-ed5c-4167-a80b-4b8e1f83b4d5",
   "metadata": {},
   "source": [
    "- 1에 점점 가까워짐 "
   ]
  },
  {
   "cell_type": "markdown",
   "id": "26ffda99-c8dd-43bb-be30-4e5ff7171cab",
   "metadata": {
    "tags": []
   },
   "source": [
    "### `5`. 다음을 읽고 물음에 답하라. (10점)"
   ]
  },
  {
   "cell_type": "markdown",
   "id": "1b928b77-f725-4c5e-b6b3-fb94362aecde",
   "metadata": {},
   "source": [
    "다음은 어느 회사의 연봉에 대한 규정이다. "
   ]
  },
  {
   "cell_type": "markdown",
   "id": "464ebe8c-9685-4109-ad3e-ef97c1af2b96",
   "metadata": {},
   "source": [
    "(가) 입사 첫째 해 연봉은 $a$원이고, 입사 19년째 해까지의 연봉은 해마다 직전 연봉에서 8%씩 인상된다. "
   ]
  },
  {
   "cell_type": "markdown",
   "id": "4d2dcc5e-a40c-4b5a-8f97-a819a7fda388",
   "metadata": {},
   "source": [
    "(나) 입사 20년째 해부터의 연봉은 입사 19년째 해 연봉의 75%로 한다. "
   ]
  },
  {
   "cell_type": "markdown",
   "id": "e843838c-2175-4a83-bbaf-1add822cf13a",
   "metadata": {},
   "source": [
    "이 회사에 입사한 사람이 28년동안 근무하여 받는 연봉의 총합은? "
   ]
  },
  {
   "cell_type": "markdown",
   "id": "be09d190-9f1b-47ea-b0c7-b150a866d926",
   "metadata": {},
   "source": [
    "### `6`. 다음 문장을 읽고 참거짓을 판단하시오. (10점)"
   ]
  },
  {
   "cell_type": "markdown",
   "id": "58fbe583-f36f-4c17-9d17-984202cbcf6e",
   "metadata": {},
   "source": [
    "#### (a) `_a`는 변수이름으로 가능하다. "
   ]
  },
  {
   "cell_type": "markdown",
   "id": "41a6bc7a-3267-402c-870b-cc0f36cbd64e",
   "metadata": {},
   "source": [
    "#### (b) 벡터의 원소는 수치형(numeric)만 가능하다. "
   ]
  },
  {
   "cell_type": "markdown",
   "id": "f097e1ed-4466-4cde-aacf-505ece2f5d9d",
   "metadata": {},
   "source": [
    "#### (c) 논리형(logical)변수는 수치형 변수로 변환할 수 없다. "
   ]
  },
  {
   "cell_type": "markdown",
   "id": "5870e7b5-c722-4856-91b0-413f85a2b7ee",
   "metadata": {},
   "source": [
    "#### (d) R에서 {}는 ()로 바꿀 수 있다. "
   ]
  },
  {
   "cell_type": "markdown",
   "id": "a29a05e6-b85e-4d71-92e7-1f4848e9dc5a",
   "metadata": {},
   "source": [
    "### `7.` 100개의 라커 (15점) "
   ]
  },
  {
   "cell_type": "markdown",
   "id": "76ba2b1f-7e14-463d-a175-740d274dbeec",
   "metadata": {},
   "source": [
    "\n",
    "복도에 100개의 라커가 있다. 복도를 어떤 남자가 100개의 라커 문을 전부 연다. 그리고 나서 짝수 번호의 라커를 전부 닫는다. 그 다음에는 번호가 3의 배수인 라커를 순서대로 찾아다니며 열려 있으면 닫고, 닫혀 있으면 연다. 그 다음에는 번호가 4의 배수인 라커를 순서대로 찾아다니며 열려있으면 닫고, 닫혀있으면 연다. 이후에 5의 배수, 6의 배수 .. 인 라커를 순서대로 찾아다니며 행동을 반복한다. 이런식으로 복도를 100번 지나가면 열린 라커의 문은 몇개가 되겠는가? "
   ]
  },
  {
   "cell_type": "markdown",
   "id": "c5eb5006-fa20-4fac-8590-120cdd0b0517",
   "metadata": {},
   "source": [
    "(풀이1)"
   ]
  },
  {
   "cell_type": "markdown",
   "id": "8fa013fd-bf05-4c76-8af4-dd35f2676356",
   "metadata": {},
   "source": [
    "`-` 문을 모두 닫은 상태로 둔다. "
   ]
  },
  {
   "cell_type": "code",
   "execution_count": 42,
   "id": "da07d26b-ab9b-4f9c-aa30-7f0594f218ab",
   "metadata": {},
   "outputs": [],
   "source": [
    "x= rep(FALSE, 100) "
   ]
  },
  {
   "cell_type": "code",
   "execution_count": 43,
   "id": "e4b05531-dfbb-41d1-93e2-fcb97f865b70",
   "metadata": {},
   "outputs": [
    {
     "data": {
      "text/plain": [
       "  [1] FALSE FALSE FALSE FALSE FALSE FALSE FALSE FALSE FALSE FALSE FALSE FALSE\n",
       " [13] FALSE FALSE FALSE FALSE FALSE FALSE FALSE FALSE FALSE FALSE FALSE FALSE\n",
       " [25] FALSE FALSE FALSE FALSE FALSE FALSE FALSE FALSE FALSE FALSE FALSE FALSE\n",
       " [37] FALSE FALSE FALSE FALSE FALSE FALSE FALSE FALSE FALSE FALSE FALSE FALSE\n",
       " [49] FALSE FALSE FALSE FALSE FALSE FALSE FALSE FALSE FALSE FALSE FALSE FALSE\n",
       " [61] FALSE FALSE FALSE FALSE FALSE FALSE FALSE FALSE FALSE FALSE FALSE FALSE\n",
       " [73] FALSE FALSE FALSE FALSE FALSE FALSE FALSE FALSE FALSE FALSE FALSE FALSE\n",
       " [85] FALSE FALSE FALSE FALSE FALSE FALSE FALSE FALSE FALSE FALSE FALSE FALSE\n",
       " [97] FALSE FALSE FALSE FALSE"
      ]
     },
     "metadata": {},
     "output_type": "display_data"
    }
   ],
   "source": [
    "x"
   ]
  },
  {
   "cell_type": "markdown",
   "id": "ab2cc5e1-8371-48da-94d7-3d5e8660fd23",
   "metadata": {},
   "source": [
    "`-` 문을 여는 함수를 만든다. (닫혀있으면 열고, 열려있으면 닫는함수) "
   ]
  },
  {
   "cell_type": "code",
   "execution_count": 45,
   "id": "92317e35-7c5d-4e75-9c7b-0a9f2d3f2bf6",
   "metadata": {},
   "outputs": [],
   "source": [
    "f<- function(x) !x "
   ]
  },
  {
   "cell_type": "markdown",
   "id": "5022c5dc-c963-491b-b2e0-e1efa5d97310",
   "metadata": {},
   "source": [
    "- 10월7일강의 논리연산자 예제1"
   ]
  },
  {
   "cell_type": "code",
   "execution_count": 49,
   "id": "1705fef2-34d7-4770-93d3-efe03a220763",
   "metadata": {},
   "outputs": [
    {
     "data": {
      "text/plain": [
       "  [1] TRUE TRUE TRUE TRUE TRUE TRUE TRUE TRUE TRUE TRUE TRUE TRUE TRUE TRUE TRUE\n",
       " [16] TRUE TRUE TRUE TRUE TRUE TRUE TRUE TRUE TRUE TRUE TRUE TRUE TRUE TRUE TRUE\n",
       " [31] TRUE TRUE TRUE TRUE TRUE TRUE TRUE TRUE TRUE TRUE TRUE TRUE TRUE TRUE TRUE\n",
       " [46] TRUE TRUE TRUE TRUE TRUE TRUE TRUE TRUE TRUE TRUE TRUE TRUE TRUE TRUE TRUE\n",
       " [61] TRUE TRUE TRUE TRUE TRUE TRUE TRUE TRUE TRUE TRUE TRUE TRUE TRUE TRUE TRUE\n",
       " [76] TRUE TRUE TRUE TRUE TRUE TRUE TRUE TRUE TRUE TRUE TRUE TRUE TRUE TRUE TRUE\n",
       " [91] TRUE TRUE TRUE TRUE TRUE TRUE TRUE TRUE TRUE TRUE"
      ]
     },
     "metadata": {},
     "output_type": "display_data"
    }
   ],
   "source": [
    "x %>% f "
   ]
  },
  {
   "cell_type": "markdown",
   "id": "65f8a9f6-b72f-4812-b5ce-bf8e1678118d",
   "metadata": {},
   "source": [
    "- 문이 잘 열린다. "
   ]
  },
  {
   "cell_type": "markdown",
   "id": "a355e605-0221-448c-b9b7-fc49861478cb",
   "metadata": {},
   "source": [
    "`-` 2,3,4,5 ... 의 배수를 찾아서 문을 열자. \n",
    "- Step1: 2,3,4,5의 배수에 해당하는 원소를 뽑는 코드를 작성한다. \n",
    "- Step2: Step1에서 나온 원소에 한정하여 문을 열거나 닫는다. "
   ]
  },
  {
   "cell_type": "markdown",
   "id": "672b3152-0a85-4671-b3f8-ae208e438cf7",
   "metadata": {},
   "source": [
    "`-` 2의 배수 구현예시"
   ]
  },
  {
   "cell_type": "code",
   "execution_count": 53,
   "id": "680d1b7e-722b-45dc-b03b-f18c099dfe2a",
   "metadata": {},
   "outputs": [
    {
     "data": {
      "text/plain": [
       "  [1] FALSE  TRUE FALSE  TRUE FALSE  TRUE FALSE  TRUE FALSE  TRUE FALSE  TRUE\n",
       " [13] FALSE  TRUE FALSE  TRUE FALSE  TRUE FALSE  TRUE FALSE  TRUE FALSE  TRUE\n",
       " [25] FALSE  TRUE FALSE  TRUE FALSE  TRUE FALSE  TRUE FALSE  TRUE FALSE  TRUE\n",
       " [37] FALSE  TRUE FALSE  TRUE FALSE  TRUE FALSE  TRUE FALSE  TRUE FALSE  TRUE\n",
       " [49] FALSE  TRUE FALSE  TRUE FALSE  TRUE FALSE  TRUE FALSE  TRUE FALSE  TRUE\n",
       " [61] FALSE  TRUE FALSE  TRUE FALSE  TRUE FALSE  TRUE FALSE  TRUE FALSE  TRUE\n",
       " [73] FALSE  TRUE FALSE  TRUE FALSE  TRUE FALSE  TRUE FALSE  TRUE FALSE  TRUE\n",
       " [85] FALSE  TRUE FALSE  TRUE FALSE  TRUE FALSE  TRUE FALSE  TRUE FALSE  TRUE\n",
       " [97] FALSE  TRUE FALSE  TRUE"
      ]
     },
     "metadata": {},
     "output_type": "display_data"
    }
   ],
   "source": [
    "(1:100) %% 2 == 0 "
   ]
  },
  {
   "cell_type": "markdown",
   "id": "01d96566-ada7-4c68-8c19-f6f202e85658",
   "metadata": {},
   "source": [
    "- 짝이면 TRUE, 홀이면 FALSE 인 벡터"
   ]
  },
  {
   "cell_type": "code",
   "execution_count": 54,
   "id": "05d29e60-355f-4c3d-92d1-88724b72089c",
   "metadata": {},
   "outputs": [
    {
     "data": {
      "text/plain": [
       " [1] FALSE FALSE FALSE FALSE FALSE FALSE FALSE FALSE FALSE FALSE FALSE FALSE\n",
       "[13] FALSE FALSE FALSE FALSE FALSE FALSE FALSE FALSE FALSE FALSE FALSE FALSE\n",
       "[25] FALSE FALSE FALSE FALSE FALSE FALSE FALSE FALSE FALSE FALSE FALSE FALSE\n",
       "[37] FALSE FALSE FALSE FALSE FALSE FALSE FALSE FALSE FALSE FALSE FALSE FALSE\n",
       "[49] FALSE FALSE"
      ]
     },
     "metadata": {},
     "output_type": "display_data"
    }
   ],
   "source": [
    "x[(1:100) %% 2 == 0 ]"
   ]
  },
  {
   "cell_type": "markdown",
   "id": "b095f44a-fdb1-4f95-89d4-3b1733221a99",
   "metadata": {},
   "source": [
    "- 1~100까지의 라커중 짝수에 해당하는 라커만 추출"
   ]
  },
  {
   "cell_type": "code",
   "execution_count": 56,
   "id": "95934fe2-96d5-45d0-9952-f0ea9a0ab4b2",
   "metadata": {},
   "outputs": [
    {
     "data": {
      "text/plain": [
       " [1] TRUE TRUE TRUE TRUE TRUE TRUE TRUE TRUE TRUE TRUE TRUE TRUE TRUE TRUE TRUE\n",
       "[16] TRUE TRUE TRUE TRUE TRUE TRUE TRUE TRUE TRUE TRUE TRUE TRUE TRUE TRUE TRUE\n",
       "[31] TRUE TRUE TRUE TRUE TRUE TRUE TRUE TRUE TRUE TRUE TRUE TRUE TRUE TRUE TRUE\n",
       "[46] TRUE TRUE TRUE TRUE TRUE"
      ]
     },
     "metadata": {},
     "output_type": "display_data"
    }
   ],
   "source": [
    "x[(1:100) %% 2 == 0 ] %>% f "
   ]
  },
  {
   "cell_type": "markdown",
   "id": "adfe2ab1-ab5a-422b-86b0-6f99e31b2abd",
   "metadata": {},
   "source": [
    "- 1~100까지의 라커중 짝수에 해당하는 라커만 추출 $\\to$ 그 라커들은 문을 열었음 "
   ]
  },
  {
   "cell_type": "code",
   "execution_count": 58,
   "id": "9da532fd-3276-4075-8532-94c4578eee31",
   "metadata": {},
   "outputs": [
    {
     "data": {
      "text/plain": [
       "  [1] FALSE  TRUE FALSE  TRUE FALSE  TRUE FALSE  TRUE FALSE  TRUE FALSE  TRUE\n",
       " [13] FALSE  TRUE FALSE  TRUE FALSE  TRUE FALSE  TRUE FALSE  TRUE FALSE  TRUE\n",
       " [25] FALSE  TRUE FALSE  TRUE FALSE  TRUE FALSE  TRUE FALSE  TRUE FALSE  TRUE\n",
       " [37] FALSE  TRUE FALSE  TRUE FALSE  TRUE FALSE  TRUE FALSE  TRUE FALSE  TRUE\n",
       " [49] FALSE  TRUE FALSE  TRUE FALSE  TRUE FALSE  TRUE FALSE  TRUE FALSE  TRUE\n",
       " [61] FALSE  TRUE FALSE  TRUE FALSE  TRUE FALSE  TRUE FALSE  TRUE FALSE  TRUE\n",
       " [73] FALSE  TRUE FALSE  TRUE FALSE  TRUE FALSE  TRUE FALSE  TRUE FALSE  TRUE\n",
       " [85] FALSE  TRUE FALSE  TRUE FALSE  TRUE FALSE  TRUE FALSE  TRUE FALSE  TRUE\n",
       " [97] FALSE  TRUE FALSE  TRUE"
      ]
     },
     "metadata": {},
     "output_type": "display_data"
    }
   ],
   "source": [
    "x[(1:100) %% 2 == 0 ] <- x[(1:100) %% 2 == 0 ] %>% f \n",
    "x"
   ]
  },
  {
   "cell_type": "markdown",
   "id": "8bcf0953-2a15-4c30-b826-bd77572c78c5",
   "metadata": {},
   "source": [
    "- 결과를 저장 "
   ]
  },
  {
   "cell_type": "markdown",
   "id": "a4fbb765-97df-4fb4-82d9-52059b98b103",
   "metadata": {},
   "source": [
    "`-` 3의 배수 구현예시 "
   ]
  },
  {
   "cell_type": "code",
   "execution_count": 59,
   "id": "b8e9bba8-6927-40ff-95de-050ef3e2c380",
   "metadata": {},
   "outputs": [],
   "source": [
    "x[(1:100) %% 3 == 0 ] <- x[(1:100) %% 3 == 0 ] %>% f "
   ]
  },
  {
   "cell_type": "markdown",
   "id": "7635a019-b119-4d33-b7c5-3b407153dffc",
   "metadata": {},
   "source": [
    "`-` 4의 배수.. 5의 배수.. $\\to$ 함수를 만들자. "
   ]
  },
  {
   "cell_type": "code",
   "execution_count": 62,
   "id": "eebc6f3e-352a-4ed6-9c0a-178025b2d73a",
   "metadata": {},
   "outputs": [],
   "source": [
    "g=function(x,a){\n",
    "    n=length(x) \n",
    "    x[(1:n) %% a == 0 ] <- x[(1:n) %% a == 0 ] %>% f ## 연산 \n",
    "    x ## 결과를 리턴\n",
    "}"
   ]
  },
  {
   "cell_type": "markdown",
   "id": "84b9b0d9-ce1c-4808-af66-ec00c8b927ff",
   "metadata": {},
   "source": [
    "`-` 검산을 해보자. (검산을 쉽게하기 위해서 10개정도의 라커만 고려하자.) "
   ]
  },
  {
   "cell_type": "code",
   "execution_count": 65,
   "id": "8dbccdfd-808d-4b81-a335-d442ae6a964c",
   "metadata": {},
   "outputs": [
    {
     "data": {
      "text/plain": [
       " [1] FALSE FALSE FALSE FALSE FALSE FALSE FALSE FALSE FALSE FALSE"
      ]
     },
     "metadata": {},
     "output_type": "display_data"
    }
   ],
   "source": [
    "x=rep(FALSE, 10) \n",
    "x"
   ]
  },
  {
   "cell_type": "code",
   "execution_count": 66,
   "id": "2a5d8822-a172-4432-9e2b-4d848b8a8111",
   "metadata": {},
   "outputs": [
    {
     "data": {
      "text/plain": [
       " [1] TRUE TRUE TRUE TRUE TRUE TRUE TRUE TRUE TRUE TRUE"
      ]
     },
     "metadata": {},
     "output_type": "display_data"
    }
   ],
   "source": [
    "x %>% f "
   ]
  },
  {
   "cell_type": "code",
   "execution_count": 67,
   "id": "d6ade405-577f-438e-ae17-cf09f1d4ebb3",
   "metadata": {},
   "outputs": [
    {
     "data": {
      "text/plain": [
       " [1]  TRUE FALSE  TRUE FALSE  TRUE FALSE  TRUE FALSE  TRUE FALSE"
      ]
     },
     "metadata": {},
     "output_type": "display_data"
    }
   ],
   "source": [
    "x %>% f %>% g(2) "
   ]
  },
  {
   "cell_type": "code",
   "execution_count": 68,
   "id": "61eb2de6-0cf8-47f8-bcf0-ce77f109733a",
   "metadata": {},
   "outputs": [
    {
     "data": {
      "text/plain": [
       " [1]  TRUE FALSE FALSE FALSE  TRUE  TRUE  TRUE FALSE FALSE FALSE"
      ]
     },
     "metadata": {},
     "output_type": "display_data"
    }
   ],
   "source": [
    "x %>% f %>% g(2) %>% g(3) "
   ]
  },
  {
   "cell_type": "markdown",
   "id": "5f89b5f0-f16d-476c-bf11-8f5df238dbfd",
   "metadata": {},
   "source": [
    "`-` 잘 되는것 같습니다. 이제 일반화해서 답을 구해보면"
   ]
  },
  {
   "cell_type": "code",
   "execution_count": 69,
   "id": "b3ea28ea-3caa-402a-a638-5815a70e835a",
   "metadata": {},
   "outputs": [],
   "source": [
    "x=rep(FALSE, 100) # x를 선언, FALSE의 의미는 문이 닫혀있다. \n",
    "x=f(x) # 1회 복도를 지나가면서 모든 문을 열어요 \n",
    "for (i in 2:100){ # 2회부터 100회까지 지나가면서 \n",
    "    x=g(x,i) # (1) 2,3,4,5 ... , 100의 배수에 해당하는 문을 선택 (2) 문이 열려있으면 닫고, 닫혀있으면 열어요 \n",
    "}\n"
   ]
  },
  {
   "cell_type": "markdown",
   "id": "d3e0dceb-d06f-424c-a3fa-8cd2c639ad67",
   "metadata": {},
   "source": [
    "`-` 결과는 아래와 같다."
   ]
  },
  {
   "cell_type": "code",
   "execution_count": 70,
   "id": "ec090ae7-04ff-4177-9015-f5e633106837",
   "metadata": {},
   "outputs": [
    {
     "data": {
      "text/plain": [
       "  [1]  TRUE FALSE FALSE  TRUE FALSE FALSE FALSE FALSE  TRUE FALSE FALSE FALSE\n",
       " [13] FALSE FALSE FALSE  TRUE FALSE FALSE FALSE FALSE FALSE FALSE FALSE FALSE\n",
       " [25]  TRUE FALSE FALSE FALSE FALSE FALSE FALSE FALSE FALSE FALSE FALSE  TRUE\n",
       " [37] FALSE FALSE FALSE FALSE FALSE FALSE FALSE FALSE FALSE FALSE FALSE FALSE\n",
       " [49]  TRUE FALSE FALSE FALSE FALSE FALSE FALSE FALSE FALSE FALSE FALSE FALSE\n",
       " [61] FALSE FALSE FALSE  TRUE FALSE FALSE FALSE FALSE FALSE FALSE FALSE FALSE\n",
       " [73] FALSE FALSE FALSE FALSE FALSE FALSE FALSE FALSE  TRUE FALSE FALSE FALSE\n",
       " [85] FALSE FALSE FALSE FALSE FALSE FALSE FALSE FALSE FALSE FALSE FALSE FALSE\n",
       " [97] FALSE FALSE FALSE  TRUE"
      ]
     },
     "metadata": {},
     "output_type": "display_data"
    }
   ],
   "source": [
    "x"
   ]
  },
  {
   "cell_type": "code",
   "execution_count": 71,
   "id": "c3980bca-0e32-4cc3-99d0-b6f48c52ea4c",
   "metadata": {},
   "outputs": [
    {
     "data": {
      "text/plain": [
       "[1] 10"
      ]
     },
     "metadata": {},
     "output_type": "display_data"
    }
   ],
   "source": [
    "sum(x)"
   ]
  },
  {
   "cell_type": "markdown",
   "id": "6520ae24-3719-4efc-a292-7720348a1609",
   "metadata": {},
   "source": [
    "(풀이2)"
   ]
  },
  {
   "cell_type": "code",
   "execution_count": 73,
   "id": "bc45714f-8a64-4b30-80e3-14498e64072d",
   "metadata": {},
   "outputs": [
    {
     "data": {
      "text/plain": [
       "[1] 10"
      ]
     },
     "metadata": {},
     "output_type": "display_data"
    }
   ],
   "source": [
    "x=rep(TRUE,100) \n",
    "for (i in 2:100) x[(1:100) %% i ==0] = !( x[(1:100) %% i ==0] ) \n",
    "sum(x)"
   ]
  },
  {
   "cell_type": "markdown",
   "id": "5b4bef0f-3d7f-43ce-bb82-66203ef7125e",
   "metadata": {},
   "source": [
    "- 시험제출용 코드입니다. 공부용은 아니에요 \n",
    "- 차근차근 디버깅을 하고 코드를 확인해가면서 혹시 모를 실수를 방지할 수 있는 풀이 1이 좋아요. \n",
    "- 코드 중간결과를 시각화해서 내가 잘 구현하고 있는지 끊임없이 확인해야 합니다. \n",
    "- 그 다음에 코드를 효율적으로 정리합니다. "
   ]
  },
  {
   "cell_type": "markdown",
   "id": "34fe8974-ccd5-4622-b248-a5c8d4a8f43a",
   "metadata": {},
   "source": [
    "### `8.` 무궁화 꽃이 피었습니다. (25점)"
   ]
  },
  {
   "cell_type": "markdown",
   "id": "940f74f9-5943-4027-81da-ebfa3179f08a",
   "metadata": {},
   "source": [
    "총 456명의 참가자가 '무궁화 꽃이 피었습니다' 게임에 참가한다. 기본적인 게임의 규칙은 아래와 같다. \n",
    "\n",
    "- 술래는 총 10회간 벽을 보고 '무궁화 꽃이 피었습니다' 를 외친다. \n",
    "\n",
    "- 참가자는 술래가 있는 곳 까지 이동해야 살 수 있다. \n",
    "\n",
    "- 술래는 벽을 보고 '무궁화 꽃이 피었습니다'를 외치다가 구호가 끝남과 동시에 뒤를 돌아본다. 이때 움직이는 사람은 **죽는다**\n",
    "\n",
    "따라서 참가자는 술래가 벽을 보고 '무궁화 꽃이 피었습니다'를 외치는 동안만 이동할 수 있다. 욕심을 부려 더 이동하고자 하면 죽을 수 있다. 반대로 죽는 것을 지나치게 두려워한 나머지 매턴마다 조금씩만 이동한다면 10회의 제한횟수 내에 술래에게 도달하지 못하여 죽는다. \n",
    "\n",
    "게임환경과 관련된 세부적인 설정은 아래와 같다. \n",
    "\n",
    "- 술래와 참가자의 거리는 35이다. \n",
    "\n",
    "- 술래는 처음 벽을 보고 $x$초간 무궁화 꽃이 피었습니다를 외친다. \n",
    "\n",
    "- 모든 참가자는 1초에 거리1이상 움직일 수 없다고 가정한다. (예를들어 2.4초 동안은 최대 2.4의 거리를 이동할 수 있다. 반면 이동을 원치않으면 0의 거리만큼 움직이므로 0~2.4사이의 거리를 움직일 수 있다) \n",
    "\n",
    "술래와 참가자에 대한 설정값은 아래와 같다. \n",
    "\n",
    "***술래에 대한 설정값***\n",
    "\n",
    "- 처음에는 술래가 10초간 무궁화 꽃이 피었습니다를 외친다. \n",
    "\n",
    "- 그 다음에는 술래가 9.5초간 무궁화 꽃이 피었습니다를 외친다. \n",
    "\n",
    "- 그 다음에도 0.5초씩 구호를 외치는 시간을 줄인다. 이것을 10회 반복한다. \n",
    "\n",
    "***참가자에 대한 설정값*** \n",
    "\n",
    "- 처음에는 참가자가 \"본인의번호/100\"을 계산하여 나온 숫자만큼 움직인다. 즉 10번 참가자는 0.1의 거리를 움직이고 456번 참가자는 4.56의 거리를 움직인다. \n",
    "\n",
    "- 그 다음은 처음에 본인이 이동했던 거리에 1씩 더하여 움직인다. 즉 10번 참가자는 1.1의 거리를 움직이고 456번 참가자는 5.56의 거리를 움직인다. \n"
   ]
  },
  {
   "cell_type": "markdown",
   "id": "669b9135-c107-4c82-b89a-cffb29cf868a",
   "metadata": {},
   "source": [
    "`-` 예시2"
   ]
  },
  {
   "cell_type": "markdown",
   "id": "4a7f1fc4-fc6c-4fc1-b03f-1c595c965739",
   "metadata": {},
   "source": [
    "300번 참가자의 경우 아래와 같이 이동하므로 \n",
    "\n",
    "| |1회 |2회 |3회 | 4회 | 5회 | 6회 |\n",
    "|:-:|:-:|:-:|:-:| :-:|:-:|:-:|\n",
    "|술래의 외침시간  | 10  | 9.5 | 9.0 | 8.5 | 8.0 | 7.5 |\n",
    "|참가자의 이동폭  | 3 | 4 | 5 | 6 | 7 | 7.5 |\n",
    "|참가자의 총 이동거리 | 3 | 7 | 12 | 18 | 25 | 32.5  |\n",
    "\n",
    "생존할 수 없다. (6회에서 32.5까지 이동후 사망)"
   ]
  },
  {
   "cell_type": "markdown",
   "id": "d8985c65-59db-4845-8364-77443cd524c9",
   "metadata": {},
   "source": [
    "`-` 예시2"
   ]
  },
  {
   "cell_type": "markdown",
   "id": "08f200aa-1f42-4d0d-8a52-de448e1617d9",
   "metadata": {},
   "source": [
    "350번 참가자의 경우 아래와 같이 이동하므로 \n",
    "\n",
    "| |1회 |2회 |3회 | 4회 | 5회 | 6회 |\n",
    "|:-:|:-:|:-:|:-:| :-:|:-:|:-:|\n",
    "|술래의 외침시간  | 10  | 9.5 | 9.0 | 8.5 | 8.0 | 7.5 |\n",
    "|참가자의 이동폭  | 3.5 | 4.5 | 5.5 | 6.5 | 7.5 | 7.5 |\n",
    "|참가자의 총 이동거리 | 3.5 | 8 | 13.5 | 20 | 27.5 | 35  |"
   ]
  },
  {
   "cell_type": "markdown",
   "id": "416db196-6b97-49d2-9bce-1b323252a0a3",
   "metadata": {},
   "source": [
    "생존 할 수 있다. (6회에서 정확하게 7.5초간 이동하고 살아남는다)"
   ]
  },
  {
   "cell_type": "markdown",
   "id": "cad3d72e-d1c4-4094-9a5d-3439d6e76bf2",
   "metadata": {},
   "source": [
    "`-` 예시3"
   ]
  },
  {
   "cell_type": "markdown",
   "id": "06f054c1-e0a9-4f38-a5a9-ca127e9ff75f",
   "metadata": {},
   "source": [
    "400번 참가자의 경우 아래와 같이 이동하므로 \n",
    "\n",
    "| |1회 |2회 |3회 | 4회 | 5회 | 6회 |\n",
    "|:-:|:-:|:-:|:-:| :-:|:-:|:-:|\n",
    "|술래의 외침시간  | 10  | 9.5 | 9.0 | 8.5 | 8.0 | 7.5 |\n",
    "|참가자의 이동폭  | 4 | 5 | 6 | 7 | 8 | 5 |\n",
    "|참가자의 총 이동거리 | 4 | 9 | 15 | 22 | 30 | 35|"
   ]
  },
  {
   "cell_type": "markdown",
   "id": "812cbab8-52bf-4375-838b-f04b2cfae1f2",
   "metadata": {},
   "source": [
    "생존 할 수 있다. (6회에서 5초간만 이동하면 35만큼 이동하므로 살아남는다)"
   ]
  },
  {
   "cell_type": "markdown",
   "id": "b5b5f612-dc23-4a7c-be8d-b971fac403ca",
   "metadata": {
    "tags": []
   },
   "source": [
    "#### (a) 1번, 67번, 218번, 456번 참가자의 생존여부를 확인하는 함수를 작성하라. "
   ]
  },
  {
   "cell_type": "markdown",
   "id": "bf3f324d-7d86-4508-9491-f45bf72828d5",
   "metadata": {},
   "source": [
    "#### (b) 전체 생존자중 몇명이 살아남는지 계산하라. "
   ]
  },
  {
   "cell_type": "markdown",
   "id": "66d44080-37f9-4f85-850f-ac1a2e299475",
   "metadata": {},
   "source": [
    "### `9.` 다음을 잘 읽고 시각화 하라. (15점)"
   ]
  },
  {
   "cell_type": "markdown",
   "id": "d5ad8bf3-1e74-47bd-8c51-1364d8b4c3c5",
   "metadata": {},
   "source": [
    "다음은 인터넷에서 어떠한 자료를 다운받아 매트릭스로 저장하는 코드이다. \n",
    "```R\n",
    "df=read.csv(\"https://raw.githubusercontent.com/miruetoto/yechan/master/_notebooks/round2.csv\")\n",
    "mat=as.matrix(df)\n",
    "```\n",
    "매트릭스는 `mat`이라는 변수에 저장되어 있다. "
   ]
  },
  {
   "cell_type": "markdown",
   "id": "999da42a-94e6-422b-91e0-d67fb711dfb9",
   "metadata": {},
   "source": [
    "#### (a) mat의 첫번째 열을 $x$, 두번째열을 $y$로 생각하고 plot함수를 통하여 아래와 같은 산점도를 그려라. "
   ]
  },
  {
   "cell_type": "markdown",
   "id": "86844ffa-aaa7-4844-8e68-17ec288634df",
   "metadata": {},
   "source": [
    "![](https://github.com/miruetoto/yechan/blob/master/_notebooks/fig1.png?raw=true)"
   ]
  },
  {
   "cell_type": "markdown",
   "id": "151e7140-4578-415a-8998-7e356e91aa6e",
   "metadata": {},
   "source": [
    "#### (b) 매트릭스의 첫번째 행(first row)를 출력하는 코드를 작성하라.\n",
    "\n",
    "`-` 힌트: 출력결과는 (12,313)이 나와야 한다. "
   ]
  },
  {
   "cell_type": "markdown",
   "id": "5826c5df-69d7-4223-8a12-170cd5785afb",
   "metadata": {
    "tags": []
   },
   "source": [
    "#### (c) (b)의 결과에 아래의 연산을 수행하는 코드를 작성하라. "
   ]
  },
  {
   "cell_type": "markdown",
   "id": "b533a8e5-9eb4-4a80-b1a8-a0a403f67d4d",
   "metadata": {},
   "source": [
    "$$\n",
    "\\begin{bmatrix}\n",
    "0 & -1 \\\\\n",
    "-1 & 0 \n",
    "\\end{bmatrix} \\begin{bmatrix}\n",
    "12 \\\\\n",
    "313\n",
    "\\end{bmatrix} \n",
    "$$"
   ]
  },
  {
   "cell_type": "markdown",
   "id": "9de011d6-ec00-4e3f-b337-f3b1bab0b12b",
   "metadata": {
    "tags": []
   },
   "source": [
    "#### (d) (b)-(c) 과정을 mat의 모등행에 반복하여 새로운 매트릭스를 만들어라. \n",
    "\n",
    "`-` 힌트: 아래의 과정을 따른다.  \n",
    "- (i) mat와 동일한 dim을 가진 mat2를 만든다. \n",
    "- (ii) mat의 첫번째 행에 (b)-(c)의 과정을 적용하여 길이가 2인 벡터를 얻는다. \n",
    "- (iii) (ii)의 과정에서 얻은 벡터를 새로운 매트릭스의 첫번째 행에 넣는다. \n",
    "- (iv) mat의 두번째 행에 대하여 (ii)-(iii)의 과정을 반복한다. 이후 세번째, 네번째 행에 대하여 (ii)-(iii)의 과정을 반복한다. "
   ]
  },
  {
   "cell_type": "markdown",
   "id": "798d8edc-fc3c-478f-a9bd-ac3295e0ab1c",
   "metadata": {},
   "source": [
    "#### (e) (d)의 결과로 생성되 매트릭스의 첫번째 열을 x, 두번째 열을 y로 하고 산점도를 그려라. (점의 색은 붉은색으로 하라)\n",
    "\n",
    "`-` 힌트: 아래와 같은 그림이 나와야 한다. "
   ]
  },
  {
   "cell_type": "markdown",
   "id": "dae29d88-b2ac-4ec2-9c47-0a49e2745ae6",
   "metadata": {},
   "source": [
    "![](https://github.com/miruetoto/yechan/blob/master/_notebooks/fig2.png?raw=true)"
   ]
  }
 ],
 "metadata": {
  "kernelspec": {
   "display_name": "R",
   "language": "R",
   "name": "ir"
  },
  "language_info": {
   "codemirror_mode": "r",
   "file_extension": ".r",
   "mimetype": "text/x-r-source",
   "name": "R",
   "pygments_lexer": "r",
   "version": "4.0.5"
  }
 },
 "nbformat": 4,
 "nbformat_minor": 5
}
