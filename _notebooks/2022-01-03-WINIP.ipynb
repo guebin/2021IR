{
 "cells": [
  {
   "cell_type": "markdown",
   "id": "de9ee1eb-1bc0-472a-bbf8-6a9dd54946b6",
   "metadata": {},
   "source": [
    "# 파이썬입문 겨울방학 특강 "
   ]
  },
  {
   "cell_type": "markdown",
   "id": "a9e72a5b-e275-4b84-9b60-eccddeebbe08",
   "metadata": {},
   "source": [
    "`-` 오늘오전: 자료형, 오브젝트 .. \n",
    "\n",
    "`-` 오늘오후: 참조, 얕은복사, 깊은복사 \n",
    "\n",
    "`-` 내일오전: 뷰와 카피 \n",
    "\n",
    "`-` 내일오후: 개발환경 비교 "
   ]
  },
  {
   "cell_type": "code",
   "execution_count": 8,
   "id": "2be37688-e663-4451-b53c-fcc87421e19f",
   "metadata": {},
   "outputs": [],
   "source": [
    "a=[1,2,3]"
   ]
  },
  {
   "cell_type": "code",
   "execution_count": 9,
   "id": "9f4e9bdc-d1e5-4d5e-94ff-5341b971d96f",
   "metadata": {},
   "outputs": [
    {
     "data": {
      "text/plain": [
       "[1, 2, 3]"
      ]
     },
     "execution_count": 9,
     "metadata": {},
     "output_type": "execute_result"
    }
   ],
   "source": [
    "a"
   ]
  },
  {
   "cell_type": "code",
   "execution_count": 10,
   "id": "0ed4e88b-a0e6-4dae-be60-c97772bb76db",
   "metadata": {},
   "outputs": [],
   "source": [
    "b=a"
   ]
  },
  {
   "cell_type": "code",
   "execution_count": 11,
   "id": "97fb648b-7a9a-4f26-bcf5-c95deac145b4",
   "metadata": {},
   "outputs": [
    {
     "data": {
      "text/plain": [
       "[1, 2, 3]"
      ]
     },
     "execution_count": 11,
     "metadata": {},
     "output_type": "execute_result"
    }
   ],
   "source": [
    "b"
   ]
  },
  {
   "cell_type": "code",
   "execution_count": 12,
   "id": "e19f6866-68a7-4418-9915-5fbe96eafa30",
   "metadata": {},
   "outputs": [],
   "source": [
    "a.append(4) "
   ]
  },
  {
   "cell_type": "code",
   "execution_count": 13,
   "id": "5b7f4917-a6c4-4e13-978c-fdd8233c0558",
   "metadata": {},
   "outputs": [
    {
     "data": {
      "text/plain": [
       "[1, 2, 3, 4]"
      ]
     },
     "execution_count": 13,
     "metadata": {},
     "output_type": "execute_result"
    }
   ],
   "source": [
    "a"
   ]
  },
  {
   "cell_type": "code",
   "execution_count": 14,
   "id": "f54bad07-50d2-4530-ad0f-06d9c22bcc68",
   "metadata": {},
   "outputs": [
    {
     "data": {
      "text/plain": [
       "[1, 2, 3, 4]"
      ]
     },
     "execution_count": 14,
     "metadata": {},
     "output_type": "execute_result"
    }
   ],
   "source": [
    "b"
   ]
  },
  {
   "cell_type": "markdown",
   "id": "ce9b8eef-94a3-4d25-86a1-c0bf564e89db",
   "metadata": {},
   "source": [
    "### 0차원 자료형의 소개 "
   ]
  },
  {
   "cell_type": "markdown",
   "id": "e4be4053-33d5-42de-9ed5-7b861ecc4627",
   "metadata": {},
   "source": [
    "`-` 0차원 자료형: 하나의 값을 저장할 수 있는 자료형 "
   ]
  },
  {
   "cell_type": "markdown",
   "id": "ff633104-19bc-440e-843c-9ca730b479fd",
   "metadata": {},
   "source": [
    "`-` int, bool, float "
   ]
  },
  {
   "cell_type": "code",
   "execution_count": 15,
   "id": "2697c12d-f206-46c1-93d3-0b1ac1246506",
   "metadata": {},
   "outputs": [],
   "source": [
    "a=100"
   ]
  },
  {
   "cell_type": "code",
   "execution_count": 17,
   "id": "c62164ba-7900-4795-abb4-118fa9040eac",
   "metadata": {},
   "outputs": [
    {
     "data": {
      "text/plain": [
       "int"
      ]
     },
     "execution_count": 17,
     "metadata": {},
     "output_type": "execute_result"
    }
   ],
   "source": [
    "type(a)"
   ]
  },
  {
   "cell_type": "code",
   "execution_count": 18,
   "id": "458081ed-4469-4c80-9370-6c258bd44610",
   "metadata": {},
   "outputs": [
    {
     "data": {
      "text/plain": [
       "3.5999999999999996"
      ]
     },
     "execution_count": 18,
     "metadata": {},
     "output_type": "execute_result"
    }
   ],
   "source": [
    "a=1.2*3 \n",
    "a"
   ]
  },
  {
   "cell_type": "code",
   "execution_count": 19,
   "id": "787fc09e-5e63-4ec0-a2b6-f1a3e861ed19",
   "metadata": {},
   "outputs": [
    {
     "data": {
      "text/plain": [
       "float"
      ]
     },
     "execution_count": 19,
     "metadata": {},
     "output_type": "execute_result"
    }
   ],
   "source": [
    "type(a)"
   ]
  },
  {
   "cell_type": "code",
   "execution_count": 20,
   "id": "d4918e88-3b61-4b01-9e9c-a934dec4a562",
   "metadata": {},
   "outputs": [],
   "source": [
    "a=True \n",
    "b=False "
   ]
  },
  {
   "cell_type": "code",
   "execution_count": 23,
   "id": "43032e6e-a46c-4799-8ad0-58e3e531afaa",
   "metadata": {},
   "outputs": [
    {
     "data": {
      "text/plain": [
       "bool"
      ]
     },
     "execution_count": 23,
     "metadata": {},
     "output_type": "execute_result"
    }
   ],
   "source": [
    "type(a)"
   ]
  },
  {
   "cell_type": "markdown",
   "id": "a7cbee77-e332-4551-901b-858724fb6e1c",
   "metadata": {},
   "source": [
    "`-` 0차원 자료형이 int, bool, float 3개만 있는 것은 아니다. "
   ]
  },
  {
   "cell_type": "code",
   "execution_count": 24,
   "id": "7ac21b54-7099-492c-9348-93e5da2dc2c7",
   "metadata": {},
   "outputs": [],
   "source": [
    "a=1+1j\n",
    "b=2-2j"
   ]
  },
  {
   "cell_type": "code",
   "execution_count": 26,
   "id": "71db3ff2-42d8-4bd2-bed0-d2fb96fefc6e",
   "metadata": {},
   "outputs": [
    {
     "data": {
      "text/plain": [
       "complex"
      ]
     },
     "execution_count": 26,
     "metadata": {},
     "output_type": "execute_result"
    }
   ],
   "source": [
    "type(a)"
   ]
  },
  {
   "cell_type": "code",
   "execution_count": 28,
   "id": "fea9c9d8-cd43-44c5-9e1b-a531c42e4aae",
   "metadata": {},
   "outputs": [
    {
     "data": {
      "text/plain": [
       "(3-1j)"
      ]
     },
     "execution_count": 28,
     "metadata": {},
     "output_type": "execute_result"
    }
   ],
   "source": [
    "c=a+b\n",
    "c"
   ]
  },
  {
   "cell_type": "code",
   "execution_count": 29,
   "id": "d2d88f31-d524-48f4-8cb0-eca7e34a0671",
   "metadata": {},
   "outputs": [
    {
     "data": {
      "text/plain": [
       "complex"
      ]
     },
     "execution_count": 29,
     "metadata": {},
     "output_type": "execute_result"
    }
   ],
   "source": [
    "type(c)"
   ]
  },
  {
   "cell_type": "markdown",
   "id": "ea73e9d3-221b-40f2-99a0-11d4f4d8a775",
   "metadata": {},
   "source": [
    "- 잘 쓰지 않음 "
   ]
  },
  {
   "cell_type": "markdown",
   "id": "c18ba053-a95a-4048-9a44-52ae51be1068",
   "metadata": {},
   "source": [
    "### 0차원 자료형의 변환 "
   ]
  },
  {
   "cell_type": "markdown",
   "id": "cca714d5-7ad4-48f5-bae9-597ce085e805",
   "metadata": {},
   "source": [
    "`-` float $\\to$ int "
   ]
  },
  {
   "cell_type": "code",
   "execution_count": 33,
   "id": "d09b09b4-41b7-46fd-8d8e-eb9c247cbe49",
   "metadata": {},
   "outputs": [
    {
     "data": {
      "text/plain": [
       "3.14122222"
      ]
     },
     "execution_count": 33,
     "metadata": {},
     "output_type": "execute_result"
    }
   ],
   "source": [
    "a=3.14122222\n",
    "a"
   ]
  },
  {
   "cell_type": "code",
   "execution_count": 34,
   "id": "d73f7b50-c406-4ccf-8623-e2ee2ab04086",
   "metadata": {},
   "outputs": [
    {
     "data": {
      "text/plain": [
       "3"
      ]
     },
     "execution_count": 34,
     "metadata": {},
     "output_type": "execute_result"
    }
   ],
   "source": [
    "b=int(a)\n",
    "b"
   ]
  },
  {
   "cell_type": "markdown",
   "id": "914ddab5-d25b-49cc-84fb-a0747a1f9350",
   "metadata": {},
   "source": [
    "`-` int $\\to$ float "
   ]
  },
  {
   "cell_type": "code",
   "execution_count": 36,
   "id": "5fd81a5e-8ac4-49e2-a5ef-4937f0715022",
   "metadata": {},
   "outputs": [
    {
     "data": {
      "text/plain": [
       "int"
      ]
     },
     "execution_count": 36,
     "metadata": {},
     "output_type": "execute_result"
    }
   ],
   "source": [
    "a=3 \n",
    "type(a)"
   ]
  },
  {
   "cell_type": "code",
   "execution_count": 38,
   "id": "66882db1-343e-4fdb-91e6-8f3d62423001",
   "metadata": {},
   "outputs": [
    {
     "data": {
      "text/plain": [
       "float"
      ]
     },
     "execution_count": 38,
     "metadata": {},
     "output_type": "execute_result"
    }
   ],
   "source": [
    "b=float(a)\n",
    "type(b)"
   ]
  },
  {
   "cell_type": "markdown",
   "id": "7a083dd0-e864-41fb-8744-7a79598d20de",
   "metadata": {},
   "source": [
    "`-` bool $\\to$ int, bool $\\to$ float (이게 가능하지 않을것 같지만 사실 가능함)"
   ]
  },
  {
   "cell_type": "code",
   "execution_count": 42,
   "id": "5f05e13d-f17a-481d-961d-581d9446adfa",
   "metadata": {},
   "outputs": [
    {
     "data": {
      "text/plain": [
       "1"
      ]
     },
     "execution_count": 42,
     "metadata": {},
     "output_type": "execute_result"
    }
   ],
   "source": [
    "a=True\n",
    "int(a)"
   ]
  },
  {
   "cell_type": "code",
   "execution_count": 43,
   "id": "a085a93f-0b4f-470c-a2dc-2351213c3587",
   "metadata": {},
   "outputs": [
    {
     "data": {
      "text/plain": [
       "1.0"
      ]
     },
     "execution_count": 43,
     "metadata": {},
     "output_type": "execute_result"
    }
   ],
   "source": [
    "float(a)"
   ]
  },
  {
   "cell_type": "code",
   "execution_count": 44,
   "id": "519f8990-5aee-4201-832c-1a21332b1684",
   "metadata": {},
   "outputs": [
    {
     "data": {
      "text/plain": [
       "0"
      ]
     },
     "execution_count": 44,
     "metadata": {},
     "output_type": "execute_result"
    }
   ],
   "source": [
    "b=False\n",
    "int(b)"
   ]
  },
  {
   "cell_type": "code",
   "execution_count": 45,
   "id": "f3f0ddd7-4cf1-4c54-81b9-63b696a6929c",
   "metadata": {},
   "outputs": [
    {
     "data": {
      "text/plain": [
       "0.0"
      ]
     },
     "execution_count": 45,
     "metadata": {},
     "output_type": "execute_result"
    }
   ],
   "source": [
    "float(b)"
   ]
  },
  {
   "cell_type": "markdown",
   "id": "f1f541e9-722f-48ed-9daf-eaeca2189c08",
   "metadata": {},
   "source": [
    "`-` \"이런건 변환 못하겠지?\" 싶은것도 바꿔줌 "
   ]
  },
  {
   "cell_type": "code",
   "execution_count": 46,
   "id": "9fcc46b9-b25f-4916-a4f3-adad81cad00a",
   "metadata": {},
   "outputs": [
    {
     "data": {
      "text/plain": [
       "True"
      ]
     },
     "execution_count": 46,
     "metadata": {},
     "output_type": "execute_result"
    }
   ],
   "source": [
    "bool(-3.14)"
   ]
  },
  {
   "cell_type": "markdown",
   "id": "378ed339-d3cc-4394-b75c-86bb797851e7",
   "metadata": {},
   "source": [
    "- 저는 이런걸 쓰지 않아요.. "
   ]
  },
  {
   "cell_type": "markdown",
   "id": "ad5a9de0-a40e-4f0d-ab4c-cccb65219326",
   "metadata": {},
   "source": [
    "`-` 형변환이 항상 성공하는것은 아님 (규칙은 잘 모르겠음) "
   ]
  },
  {
   "cell_type": "code",
   "execution_count": 48,
   "id": "eb61c3a2-cc74-427a-9b53-6c62d47d7d73",
   "metadata": {},
   "outputs": [
    {
     "ename": "TypeError",
     "evalue": "can't convert complex to float",
     "output_type": "error",
     "traceback": [
      "\u001b[0;31m---------------------------------------------------------------------------\u001b[0m",
      "\u001b[0;31mTypeError\u001b[0m                                 Traceback (most recent call last)",
      "\u001b[0;32m<ipython-input-48-804a051fe87a>\u001b[0m in \u001b[0;36m<module>\u001b[0;34m\u001b[0m\n\u001b[0;32m----> 1\u001b[0;31m \u001b[0mfloat\u001b[0m\u001b[0;34m(\u001b[0m\u001b[0;36m3\u001b[0m\u001b[0;34m+\u001b[0m\u001b[0;36m0j\u001b[0m\u001b[0;34m)\u001b[0m\u001b[0;34m\u001b[0m\u001b[0;34m\u001b[0m\u001b[0m\n\u001b[0m",
      "\u001b[0;31mTypeError\u001b[0m: can't convert complex to float"
     ]
    }
   ],
   "source": [
    "float(3+0j)"
   ]
  },
  {
   "cell_type": "markdown",
   "id": "70ab22e2-c8ff-4701-81ca-b1ea52c6254a",
   "metadata": {},
   "source": [
    "`-` 묵시적 형변환 (약간 눈치주는 느낌) \n",
    "- explicit: 온풍기를 좀 키자.. \n",
    "- implicit: 날이 좀 춥지 않어..? (온풍기좀 틀자는 이야기) "
   ]
  },
  {
   "cell_type": "code",
   "execution_count": 50,
   "id": "4db7b50f-12c5-4c9c-82fa-5f0175fb6331",
   "metadata": {},
   "outputs": [
    {
     "data": {
      "text/plain": [
       "1"
      ]
     },
     "execution_count": 50,
     "metadata": {},
     "output_type": "execute_result"
    }
   ],
   "source": [
    "True*1 "
   ]
  },
  {
   "cell_type": "markdown",
   "id": "90781be2-fba3-4da8-92c4-54ef3040aefb",
   "metadata": {},
   "source": [
    "- 1을 곱해야하는데..? 너 계속 bool형태로 있을거야?? "
   ]
  },
  {
   "cell_type": "code",
   "execution_count": 51,
   "id": "1626041b-db86-4ae5-8b7a-96826bbea54f",
   "metadata": {},
   "outputs": [
    {
     "data": {
      "text/plain": [
       "1.0"
      ]
     },
     "execution_count": 51,
     "metadata": {},
     "output_type": "execute_result"
    }
   ],
   "source": [
    "1*1.0 "
   ]
  },
  {
   "cell_type": "markdown",
   "id": "1d6ef843-e832-486c-b38f-48c9e7f14553",
   "metadata": {},
   "source": [
    "- 1.0을 곱할건데..? 너 계속 int형으로 있을거야?? "
   ]
  },
  {
   "cell_type": "markdown",
   "id": "e1414888-b57b-4735-a950-c05e699bfdcd",
   "metadata": {},
   "source": [
    "### 1차원 자료형의 소개 "
   ]
  },
  {
   "cell_type": "markdown",
   "id": "ce44c039-7c19-4e33-a6e7-2db8c259bb8d",
   "metadata": {},
   "source": [
    "`-` 기본적인 1차원 자료형은 리스트와 튜플이 있다. "
   ]
  },
  {
   "cell_type": "code",
   "execution_count": 70,
   "id": "03cc1fb1-502e-4b05-88cf-7c4f9dc237d7",
   "metadata": {},
   "outputs": [
    {
     "data": {
      "text/plain": [
       "[1, 2, 3]"
      ]
     },
     "execution_count": 70,
     "metadata": {},
     "output_type": "execute_result"
    }
   ],
   "source": [
    "a=[1,2,3] ## 리스트 \n",
    "a"
   ]
  },
  {
   "cell_type": "code",
   "execution_count": 71,
   "id": "703ea3ab-05de-4e20-b507-7655e12c38b6",
   "metadata": {},
   "outputs": [
    {
     "data": {
      "text/plain": [
       "list"
      ]
     },
     "execution_count": 71,
     "metadata": {},
     "output_type": "execute_result"
    }
   ],
   "source": [
    "type(a)"
   ]
  },
  {
   "cell_type": "code",
   "execution_count": 72,
   "id": "262bed2c-ef6e-4af0-93b0-5e9c252ab772",
   "metadata": {},
   "outputs": [
    {
     "data": {
      "text/plain": [
       "(1, 2, 3)"
      ]
     },
     "execution_count": 72,
     "metadata": {},
     "output_type": "execute_result"
    }
   ],
   "source": [
    "b=(1,2,3) ## 튜플 \n",
    "b"
   ]
  },
  {
   "cell_type": "code",
   "execution_count": 73,
   "id": "e22568d9-97e3-4ed6-926d-b6a8fbcd286a",
   "metadata": {},
   "outputs": [
    {
     "data": {
      "text/plain": [
       "tuple"
      ]
     },
     "execution_count": 73,
     "metadata": {},
     "output_type": "execute_result"
    }
   ],
   "source": [
    "type(b)"
   ]
  },
  {
   "cell_type": "markdown",
   "id": "6e681ea0-b726-4ec4-a6b3-b2f647b22d32",
   "metadata": {},
   "source": [
    "`-` 리스트와 튜플 모두 원소에 접근하기 위해서 `[]`를 사용한다. (R과 동일) "
   ]
  },
  {
   "cell_type": "code",
   "execution_count": 55,
   "id": "4a8d6821-e2f4-4ffa-91b4-afd6bc5b84a2",
   "metadata": {},
   "outputs": [
    {
     "data": {
      "text/plain": [
       "1"
      ]
     },
     "execution_count": 55,
     "metadata": {},
     "output_type": "execute_result"
    }
   ],
   "source": [
    "a[0]"
   ]
  },
  {
   "cell_type": "code",
   "execution_count": 56,
   "id": "4e8fc654-129c-4413-9565-43ce686ead53",
   "metadata": {},
   "outputs": [
    {
     "data": {
      "text/plain": [
       "2"
      ]
     },
     "execution_count": 56,
     "metadata": {},
     "output_type": "execute_result"
    }
   ],
   "source": [
    "a[1]"
   ]
  },
  {
   "cell_type": "code",
   "execution_count": 57,
   "id": "f7cf2f63-27e5-4f3c-a329-9bc92a3d1d81",
   "metadata": {},
   "outputs": [
    {
     "data": {
      "text/plain": [
       "3"
      ]
     },
     "execution_count": 57,
     "metadata": {},
     "output_type": "execute_result"
    }
   ],
   "source": [
    "a[2]"
   ]
  },
  {
   "cell_type": "code",
   "execution_count": 58,
   "id": "4f490b4d-c3ed-48cf-a927-cb9aeddf53b7",
   "metadata": {},
   "outputs": [
    {
     "data": {
      "text/plain": [
       "1"
      ]
     },
     "execution_count": 58,
     "metadata": {},
     "output_type": "execute_result"
    }
   ],
   "source": [
    "b[0]"
   ]
  },
  {
   "cell_type": "code",
   "execution_count": 59,
   "id": "da66f355-c91b-4f93-b02c-b9485cace4b5",
   "metadata": {},
   "outputs": [
    {
     "data": {
      "text/plain": [
       "2"
      ]
     },
     "execution_count": 59,
     "metadata": {},
     "output_type": "execute_result"
    }
   ],
   "source": [
    "b[1]"
   ]
  },
  {
   "cell_type": "code",
   "execution_count": 60,
   "id": "e7ebd004-bc7c-4740-b38b-87301c2d85b8",
   "metadata": {},
   "outputs": [
    {
     "data": {
      "text/plain": [
       "3"
      ]
     },
     "execution_count": 60,
     "metadata": {},
     "output_type": "execute_result"
    }
   ],
   "source": [
    "b[2]"
   ]
  },
  {
   "cell_type": "markdown",
   "id": "158b72d6-1c5b-474b-9334-183ccc79c398",
   "metadata": {},
   "source": [
    "`-` 리스트는 원소의 값을 바꿀 수 있지만 튜플은 바꿀 수 없다. "
   ]
  },
  {
   "cell_type": "code",
   "execution_count": 61,
   "id": "8230bd50-7fbb-4730-b7e6-1545c7ad15e4",
   "metadata": {},
   "outputs": [
    {
     "data": {
      "text/plain": [
       "[1, 2, 3]"
      ]
     },
     "execution_count": 61,
     "metadata": {},
     "output_type": "execute_result"
    }
   ],
   "source": [
    "a"
   ]
  },
  {
   "cell_type": "code",
   "execution_count": 63,
   "id": "2074b70e-5686-4066-901c-544cf238afa4",
   "metadata": {},
   "outputs": [],
   "source": [
    "a[0]=100"
   ]
  },
  {
   "cell_type": "code",
   "execution_count": 64,
   "id": "2d4e15be-643a-4fd9-be81-4b2dbbf7e44d",
   "metadata": {},
   "outputs": [
    {
     "data": {
      "text/plain": [
       "[100, 2, 3]"
      ]
     },
     "execution_count": 64,
     "metadata": {},
     "output_type": "execute_result"
    }
   ],
   "source": [
    "a"
   ]
  },
  {
   "cell_type": "code",
   "execution_count": 65,
   "id": "587ec50c-c929-47b6-a8a7-e554c737d516",
   "metadata": {},
   "outputs": [
    {
     "data": {
      "text/plain": [
       "(1, 2, 3)"
      ]
     },
     "execution_count": 65,
     "metadata": {},
     "output_type": "execute_result"
    }
   ],
   "source": [
    "b"
   ]
  },
  {
   "cell_type": "code",
   "execution_count": 67,
   "id": "55218bbd-0dce-40a4-b6c9-f163bd484808",
   "metadata": {},
   "outputs": [
    {
     "ename": "TypeError",
     "evalue": "'tuple' object does not support item assignment",
     "output_type": "error",
     "traceback": [
      "\u001b[0;31m---------------------------------------------------------------------------\u001b[0m",
      "\u001b[0;31mTypeError\u001b[0m                                 Traceback (most recent call last)",
      "\u001b[0;32m<ipython-input-67-2a3fb166f233>\u001b[0m in \u001b[0;36m<module>\u001b[0;34m\u001b[0m\n\u001b[0;32m----> 1\u001b[0;31m \u001b[0mb\u001b[0m\u001b[0;34m[\u001b[0m\u001b[0;36m0\u001b[0m\u001b[0;34m]\u001b[0m\u001b[0;34m=\u001b[0m\u001b[0;36m100\u001b[0m\u001b[0;34m\u001b[0m\u001b[0;34m\u001b[0m\u001b[0m\n\u001b[0m",
      "\u001b[0;31mTypeError\u001b[0m: 'tuple' object does not support item assignment"
     ]
    }
   ],
   "source": [
    "b[0]=100"
   ]
  },
  {
   "cell_type": "markdown",
   "id": "47cfb318-9c57-47b9-9bbe-4dac2d9663d1",
   "metadata": {},
   "source": [
    "`-` 문자열도 1차원자료형으로 생각한다. (조금 의외임)"
   ]
  },
  {
   "cell_type": "code",
   "execution_count": 79,
   "id": "db1d25e8-d537-4e92-8bbb-9667da370686",
   "metadata": {},
   "outputs": [],
   "source": [
    "a='guebin' "
   ]
  },
  {
   "cell_type": "code",
   "execution_count": 80,
   "id": "c1543873-6ace-4070-b4bd-4d3949611640",
   "metadata": {},
   "outputs": [
    {
     "data": {
      "text/plain": [
       "str"
      ]
     },
     "execution_count": 80,
     "metadata": {},
     "output_type": "execute_result"
    }
   ],
   "source": [
    "type(a)"
   ]
  },
  {
   "cell_type": "code",
   "execution_count": 81,
   "id": "2227c55b-c6dc-4af2-a702-686f9e6e9e4c",
   "metadata": {},
   "outputs": [
    {
     "data": {
      "text/plain": [
       "'g'"
      ]
     },
     "execution_count": 81,
     "metadata": {},
     "output_type": "execute_result"
    }
   ],
   "source": [
    "a[0]"
   ]
  },
  {
   "cell_type": "code",
   "execution_count": 82,
   "id": "f14de04c-12f6-4932-acc6-bc5c4412f83d",
   "metadata": {},
   "outputs": [
    {
     "data": {
      "text/plain": [
       "'u'"
      ]
     },
     "execution_count": 82,
     "metadata": {},
     "output_type": "execute_result"
    }
   ],
   "source": [
    "a[1]"
   ]
  },
  {
   "cell_type": "markdown",
   "id": "7718bc82-7ecd-487f-946a-84a078b3ef38",
   "metadata": {},
   "source": [
    "`-` 그밖에 집합, 딕셔너리와 같은 1차원 자료형도 있다. (여기서는 자세히 다루지 않음) "
   ]
  },
  {
   "cell_type": "code",
   "execution_count": 86,
   "id": "89fe69b5-ee3a-4350-99f7-1e4f227376da",
   "metadata": {},
   "outputs": [],
   "source": [
    "s={1,2,3,4,4}"
   ]
  },
  {
   "cell_type": "code",
   "execution_count": 88,
   "id": "ae8393ee-0616-4013-bb10-308e6b64567b",
   "metadata": {},
   "outputs": [
    {
     "data": {
      "text/plain": [
       "{1, 2, 3, 4}"
      ]
     },
     "execution_count": 88,
     "metadata": {},
     "output_type": "execute_result"
    }
   ],
   "source": [
    "s"
   ]
  },
  {
   "cell_type": "code",
   "execution_count": 85,
   "id": "83044792-83b9-4b43-9f71-349fd7359fef",
   "metadata": {},
   "outputs": [
    {
     "data": {
      "text/plain": [
       "set"
      ]
     },
     "execution_count": 85,
     "metadata": {},
     "output_type": "execute_result"
    }
   ],
   "source": [
    "type(s)"
   ]
  },
  {
   "cell_type": "code",
   "execution_count": 90,
   "id": "0ae0c967-a845-4072-958e-99acc4421aae",
   "metadata": {},
   "outputs": [
    {
     "data": {
      "text/plain": [
       "{'a': 123, 'b': 234, 'c': 233}"
      ]
     },
     "execution_count": 90,
     "metadata": {},
     "output_type": "execute_result"
    }
   ],
   "source": [
    "d={'a':123,'b':234 ,'c':233}\n",
    "d"
   ]
  },
  {
   "cell_type": "code",
   "execution_count": 91,
   "id": "3c8bb6dc-f309-4f0c-8d2a-46b6b82e2f48",
   "metadata": {},
   "outputs": [
    {
     "data": {
      "text/plain": [
       "dict"
      ]
     },
     "execution_count": 91,
     "metadata": {},
     "output_type": "execute_result"
    }
   ],
   "source": [
    "type(d)"
   ]
  },
  {
   "cell_type": "code",
   "execution_count": 92,
   "id": "9d537728-1625-4342-b7d5-66a016fd4a4b",
   "metadata": {},
   "outputs": [
    {
     "data": {
      "text/plain": [
       "123"
      ]
     },
     "execution_count": 92,
     "metadata": {},
     "output_type": "execute_result"
    }
   ],
   "source": [
    "d['a']"
   ]
  },
  {
   "cell_type": "code",
   "execution_count": 93,
   "id": "67aaed65-85e9-44c8-a943-d195baa90fd2",
   "metadata": {},
   "outputs": [
    {
     "ename": "KeyError",
     "evalue": "0",
     "output_type": "error",
     "traceback": [
      "\u001b[0;31m---------------------------------------------------------------------------\u001b[0m",
      "\u001b[0;31mKeyError\u001b[0m                                  Traceback (most recent call last)",
      "\u001b[0;32m<ipython-input-93-123a9cc6df61>\u001b[0m in \u001b[0;36m<module>\u001b[0;34m\u001b[0m\n\u001b[0;32m----> 1\u001b[0;31m \u001b[0md\u001b[0m\u001b[0;34m[\u001b[0m\u001b[0;36m0\u001b[0m\u001b[0;34m]\u001b[0m\u001b[0;34m\u001b[0m\u001b[0;34m\u001b[0m\u001b[0m\n\u001b[0m",
      "\u001b[0;31mKeyError\u001b[0m: 0"
     ]
    }
   ],
   "source": [
    "d[0]"
   ]
  },
  {
   "cell_type": "markdown",
   "id": "765fb70c-35b8-499c-9de7-dce0cf22ac12",
   "metadata": {},
   "source": [
    "`-` 원소에 접근할 수 있는 자료형인지 없는 자료형인지 파악하는 방법? \n",
    "- dir()을 사용했을 경우 __getitem__ 가 보이면 원소에 접근할 수 있는 자료형임. "
   ]
  },
  {
   "cell_type": "code",
   "execution_count": 104,
   "id": "6b3c0517-5ec5-4a2b-a6b4-c825935b76e6",
   "metadata": {},
   "outputs": [
    {
     "data": {
      "text/plain": [
       "\u001b[0;31mDocstring:\u001b[0m x.__getitem__(y) <==> x[y]\n",
       "\u001b[0;31mType:\u001b[0m      builtin_function_or_method\n"
      ]
     },
     "metadata": {},
     "output_type": "display_data"
    }
   ],
   "source": [
    "a=[1,2,3]\n",
    "a.__getitem__?"
   ]
  },
  {
   "cell_type": "code",
   "execution_count": 105,
   "id": "916207a4-7255-4a0f-880c-8acd301666bd",
   "metadata": {},
   "outputs": [
    {
     "data": {
      "text/plain": [
       "2"
      ]
     },
     "execution_count": 105,
     "metadata": {},
     "output_type": "execute_result"
    }
   ],
   "source": [
    "a.__getitem__(1) ## a[1]"
   ]
  },
  {
   "cell_type": "code",
   "execution_count": null,
   "id": "a295c194-1636-4ec2-a757-bc804f5a0b7c",
   "metadata": {},
   "outputs": [],
   "source": []
  }
 ],
 "metadata": {
  "kernelspec": {
   "display_name": "Python 3",
   "language": "python",
   "name": "python3"
  },
  "language_info": {
   "codemirror_mode": {
    "name": "ipython",
    "version": 3
   },
   "file_extension": ".py",
   "mimetype": "text/x-python",
   "name": "python",
   "nbconvert_exporter": "python",
   "pygments_lexer": "ipython3",
   "version": "3.9.7"
  },
  "widgets": {
   "application/vnd.jupyter.widget-state+json": {
    "state": {},
    "version_major": 2,
    "version_minor": 0
   }
  }
 },
 "nbformat": 4,
 "nbformat_minor": 5
}
