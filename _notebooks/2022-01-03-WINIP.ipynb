{
 "cells": [
  {
   "cell_type": "markdown",
   "id": "de9ee1eb-1bc0-472a-bbf8-6a9dd54946b6",
   "metadata": {},
   "source": [
    "# 파이썬입문 겨울방학 특강 "
   ]
  },
  {
   "cell_type": "markdown",
   "id": "a9e72a5b-e275-4b84-9b60-eccddeebbe08",
   "metadata": {},
   "source": [
    "`-` 오늘오전: 자료형, 오브젝트 .. \n",
    "\n",
    "`-` 오늘오후: 참조, 얕은복사, 깊은복사 \n",
    "\n",
    "`-` 내일오전: 뷰와 카피 \n",
    "\n",
    "`-` 내일오후: 개발환경 비교 "
   ]
  },
  {
   "cell_type": "code",
   "execution_count": 8,
   "id": "2be37688-e663-4451-b53c-fcc87421e19f",
   "metadata": {},
   "outputs": [],
   "source": [
    "a=[1,2,3]"
   ]
  },
  {
   "cell_type": "code",
   "execution_count": 9,
   "id": "9f4e9bdc-d1e5-4d5e-94ff-5341b971d96f",
   "metadata": {},
   "outputs": [
    {
     "data": {
      "text/plain": [
       "[1, 2, 3]"
      ]
     },
     "execution_count": 9,
     "metadata": {},
     "output_type": "execute_result"
    }
   ],
   "source": [
    "a"
   ]
  },
  {
   "cell_type": "code",
   "execution_count": 10,
   "id": "0ed4e88b-a0e6-4dae-be60-c97772bb76db",
   "metadata": {},
   "outputs": [],
   "source": [
    "b=a"
   ]
  },
  {
   "cell_type": "code",
   "execution_count": 11,
   "id": "97fb648b-7a9a-4f26-bcf5-c95deac145b4",
   "metadata": {},
   "outputs": [
    {
     "data": {
      "text/plain": [
       "[1, 2, 3]"
      ]
     },
     "execution_count": 11,
     "metadata": {},
     "output_type": "execute_result"
    }
   ],
   "source": [
    "b"
   ]
  },
  {
   "cell_type": "code",
   "execution_count": 12,
   "id": "e19f6866-68a7-4418-9915-5fbe96eafa30",
   "metadata": {},
   "outputs": [],
   "source": [
    "a.append(4) "
   ]
  },
  {
   "cell_type": "code",
   "execution_count": 13,
   "id": "5b7f4917-a6c4-4e13-978c-fdd8233c0558",
   "metadata": {},
   "outputs": [
    {
     "data": {
      "text/plain": [
       "[1, 2, 3, 4]"
      ]
     },
     "execution_count": 13,
     "metadata": {},
     "output_type": "execute_result"
    }
   ],
   "source": [
    "a"
   ]
  },
  {
   "cell_type": "code",
   "execution_count": 14,
   "id": "f54bad07-50d2-4530-ad0f-06d9c22bcc68",
   "metadata": {},
   "outputs": [
    {
     "data": {
      "text/plain": [
       "[1, 2, 3, 4]"
      ]
     },
     "execution_count": 14,
     "metadata": {},
     "output_type": "execute_result"
    }
   ],
   "source": [
    "b"
   ]
  },
  {
   "cell_type": "markdown",
   "id": "ce9b8eef-94a3-4d25-86a1-c0bf564e89db",
   "metadata": {},
   "source": [
    "### 0차원 자료형의 소개 "
   ]
  },
  {
   "cell_type": "markdown",
   "id": "e4be4053-33d5-42de-9ed5-7b861ecc4627",
   "metadata": {},
   "source": [
    "`-` 0차원 자료형: 하나의 값을 저장할 수 있는 자료형 "
   ]
  },
  {
   "cell_type": "markdown",
   "id": "ff633104-19bc-440e-843c-9ca730b479fd",
   "metadata": {},
   "source": [
    "`-` int, bool, float "
   ]
  },
  {
   "cell_type": "code",
   "execution_count": 15,
   "id": "2697c12d-f206-46c1-93d3-0b1ac1246506",
   "metadata": {},
   "outputs": [],
   "source": [
    "a=100"
   ]
  },
  {
   "cell_type": "code",
   "execution_count": 17,
   "id": "c62164ba-7900-4795-abb4-118fa9040eac",
   "metadata": {},
   "outputs": [
    {
     "data": {
      "text/plain": [
       "int"
      ]
     },
     "execution_count": 17,
     "metadata": {},
     "output_type": "execute_result"
    }
   ],
   "source": [
    "type(a)"
   ]
  },
  {
   "cell_type": "code",
   "execution_count": 18,
   "id": "458081ed-4469-4c80-9370-6c258bd44610",
   "metadata": {},
   "outputs": [
    {
     "data": {
      "text/plain": [
       "3.5999999999999996"
      ]
     },
     "execution_count": 18,
     "metadata": {},
     "output_type": "execute_result"
    }
   ],
   "source": [
    "a=1.2*3 \n",
    "a"
   ]
  },
  {
   "cell_type": "code",
   "execution_count": 19,
   "id": "787fc09e-5e63-4ec0-a2b6-f1a3e861ed19",
   "metadata": {},
   "outputs": [
    {
     "data": {
      "text/plain": [
       "float"
      ]
     },
     "execution_count": 19,
     "metadata": {},
     "output_type": "execute_result"
    }
   ],
   "source": [
    "type(a)"
   ]
  },
  {
   "cell_type": "code",
   "execution_count": 20,
   "id": "d4918e88-3b61-4b01-9e9c-a934dec4a562",
   "metadata": {},
   "outputs": [],
   "source": [
    "a=True \n",
    "b=False "
   ]
  },
  {
   "cell_type": "code",
   "execution_count": 23,
   "id": "43032e6e-a46c-4799-8ad0-58e3e531afaa",
   "metadata": {},
   "outputs": [
    {
     "data": {
      "text/plain": [
       "bool"
      ]
     },
     "execution_count": 23,
     "metadata": {},
     "output_type": "execute_result"
    }
   ],
   "source": [
    "type(a)"
   ]
  },
  {
   "cell_type": "code",
   "execution_count": null,
   "id": "023654b5-62d3-4fb7-adf5-159df2d45c3c",
   "metadata": {},
   "outputs": [],
   "source": []
  }
 ],
 "metadata": {
  "kernelspec": {
   "display_name": "Python 3",
   "language": "python",
   "name": "python3"
  },
  "language_info": {
   "codemirror_mode": {
    "name": "ipython",
    "version": 3
   },
   "file_extension": ".py",
   "mimetype": "text/x-python",
   "name": "python",
   "nbconvert_exporter": "python",
   "pygments_lexer": "ipython3",
   "version": "3.9.7"
  },
  "widgets": {
   "application/vnd.jupyter.widget-state+json": {
    "state": {},
    "version_major": 2,
    "version_minor": 0
   }
  }
 },
 "nbformat": 4,
 "nbformat_minor": 5
}
