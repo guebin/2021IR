{
 "cells": [
  {
   "cell_type": "markdown",
   "id": "b96a4aad-6b36-469f-9367-4169ee148004",
   "metadata": {
    "tags": []
   },
   "source": [
    "# (3주차) 9월28일 \n",
    "> for문, 2007(나) 6월/평가원 14(고3), 2004(인)/수능(홀) 19(고3), 2010(나)/수능(홀) 30(고3), if문 \n",
    "\n",
    "- toc:true\n",
    "- branch: master\n",
    "- badges: true\n",
    "- comments: true\n",
    "- author: 최규빈"
   ]
  },
  {
   "cell_type": "code",
   "execution_count": 2,
   "id": "da138063-d237-4ae8-8b12-f89bfea6b662",
   "metadata": {},
   "outputs": [],
   "source": [
    "#hide\n",
    "options(jupyter.plot_scale=3)\n",
    "options(jupyter.display_mimetypes=c(\"text/html\"))\n",
    "options(jupyter.rich_display=FALSE)\n",
    "options(repr.plot.width=6,repr.plot.height=6,repr.plot.res=300)\n",
    "options(max.print=1000)"
   ]
  },
  {
   "cell_type": "markdown",
   "id": "b70648b3-fdd3-482c-845e-8d641d459d7d",
   "metadata": {},
   "source": [
    "### 강의영상 "
   ]
  },
  {
   "cell_type": "markdown",
   "id": "00e948c7-c7c2-409f-be0b-d6ddbe3df109",
   "metadata": {},
   "source": [
    "> youtube: https://youtube.com/playlist?list=PLQqh36zP38-xynq-HEAlsKUAPQqel7vkg"
   ]
  },
  {
   "cell_type": "markdown",
   "id": "3a774d68-7fad-4603-b199-c2cc389aea28",
   "metadata": {},
   "source": [
    "`-` (1/2) for문, 2007(나) 6월 평가원 14 (고3) \n",
    "\n",
    "`-` (2/2) 2007(나) 6월 평가원 14 (고3), 2004(인)/수능(홀) 19(고3), 2010(나)/수능(홀) 30(고3), if문"
   ]
  },
  {
   "cell_type": "markdown",
   "id": "d1378ad7-6b6a-4a50-bd74-e58377454281",
   "metadata": {},
   "source": [
    "### for문 "
   ]
  },
  {
   "cell_type": "markdown",
   "id": "6386fccc-cbb3-4606-96e4-7cb6c6e39688",
   "metadata": {},
   "source": [
    "`-` 문제: 1~4까지 모두 더하면? "
   ]
  },
  {
   "cell_type": "code",
   "execution_count": 7,
   "id": "6b89174b-013e-4e95-afaa-2540a1af1dd3",
   "metadata": {},
   "outputs": [
    {
     "data": {
      "text/plain": [
       "[1] 10"
      ]
     },
     "metadata": {},
     "output_type": "display_data"
    }
   ],
   "source": [
    "s=0 \n",
    "for(i in c(1,2,3,4)){ ## i=1,2,3,4에 대하여 아래를 반복하라.\n",
    "    s=s+i ## 반복할 내용\n",
    "}\n",
    "s"
   ]
  },
  {
   "cell_type": "markdown",
   "id": "7212de9c-476f-45b6-92cf-092e9eac9216",
   "metadata": {},
   "source": [
    "`-` 위의 코드는 아래와 동일하다. "
   ]
  },
  {
   "cell_type": "code",
   "execution_count": 5,
   "id": "01824f16-d0ed-41f2-8998-5159610ee3cc",
   "metadata": {},
   "outputs": [
    {
     "data": {
      "text/plain": [
       "[1] 10"
      ]
     },
     "metadata": {},
     "output_type": "display_data"
    }
   ],
   "source": [
    "s=0\n",
    "\n",
    "i=1 \n",
    "s=s+i\n",
    "i=2\n",
    "s=s+i\n",
    "i=3\n",
    "s=s+i\n",
    "i=4\n",
    "s=s+i\n",
    "\n",
    "s"
   ]
  },
  {
   "cell_type": "markdown",
   "id": "6d18a79d-5155-42f4-befc-4e3b37a13761",
   "metadata": {},
   "source": [
    "### 2007(나) 6월/평가원 14(고3) "
   ]
  },
  {
   "cell_type": "markdown",
   "id": "25774711-8a92-47ae-b7c5-889972a7e586",
   "metadata": {},
   "source": [
    "다음은 어느 회사의 연봉에 대한 규정이다. "
   ]
  },
  {
   "cell_type": "markdown",
   "id": "d115a08a-cd60-4f03-8731-7b349e0f9ce9",
   "metadata": {},
   "source": [
    "(가) 입사 첫째 해 연봉은 $a$원이고, 입사 19년째 해까지의 연봉은 해마다 직전 연봉에서 8%씩 인상된다. "
   ]
  },
  {
   "cell_type": "markdown",
   "id": "d6afa774-a0d8-47a4-a5c2-6ef863b2b377",
   "metadata": {},
   "source": [
    "(나) 입사 20년째 해부터의 연봉은 입사 19년째 해 연봉의 2/3로 한다. "
   ]
  },
  {
   "cell_type": "markdown",
   "id": "49fc2c70-880c-4aff-853a-4818057c8d34",
   "metadata": {},
   "source": [
    "이 회사에 입사한 사람이 28년동안 근무하여 받는 연봉의 총합은? (단, $1.08^{18}=4$로 계산한다) "
   ]
  },
  {
   "cell_type": "markdown",
   "id": "3228a05d-62c9-4fb7-b7f6-34f7db306104",
   "metadata": {},
   "source": [
    "(1) $\\frac{101}{2}a$\n",
    "\n",
    "(2) $\\frac{111}{2}a$\n",
    "\n",
    "(3) $\\frac{121}{2}a$\n",
    "\n",
    "(4) $\\frac{131}{2}a$\n",
    "\n",
    "(5) $\\frac{141}{2}a$"
   ]
  },
  {
   "cell_type": "markdown",
   "id": "0b092c2e-b8f9-4d99-806b-7ec8722d7766",
   "metadata": {},
   "source": [
    "(풀이) "
   ]
  },
  {
   "cell_type": "code",
   "execution_count": 10,
   "id": "81b33272-8619-41c1-86e1-797fdab17320",
   "metadata": {},
   "outputs": [],
   "source": [
    "sal<-c()\n",
    "sal[1]<- 1 ## 첫해의 연봉은 1로 하자. "
   ]
  },
  {
   "cell_type": "code",
   "execution_count": 15,
   "id": "319cb79e-7f0f-419e-885f-76112a0d9f16",
   "metadata": {},
   "outputs": [],
   "source": [
    "for(i in 2:19){\n",
    "    sal[i] = sal[i-1] * 1.08\n",
    "}"
   ]
  },
  {
   "cell_type": "code",
   "execution_count": 14,
   "id": "d2c99f96-5db0-46db-a4ea-3a5a45631b2b",
   "metadata": {},
   "outputs": [
    {
     "data": {
      "text/plain": [
       " [1] 1.000000 1.080000 1.166400 1.259712 1.360489 1.469328 1.586874 1.713824\n",
       " [9] 1.850930 1.999005 2.158925 2.331639 2.518170 2.719624 2.937194 3.172169\n",
       "[17] 3.425943 3.700018 3.996019"
      ]
     },
     "metadata": {},
     "output_type": "display_data"
    }
   ],
   "source": [
    "sal"
   ]
  },
  {
   "cell_type": "code",
   "execution_count": 17,
   "id": "e64de042-d5c4-4334-8c83-c76023f92735",
   "metadata": {},
   "outputs": [],
   "source": [
    "for(i in 20:28){\n",
    "    sal[i] = sal[19]*2/3\n",
    "}"
   ]
  },
  {
   "cell_type": "code",
   "execution_count": 18,
   "id": "3eac8800-9dd8-4ce7-9d7d-2f26123b8cc8",
   "metadata": {},
   "outputs": [
    {
     "data": {
      "text/plain": [
       " [1] 1.000000 1.080000 1.166400 1.259712 1.360489 1.469328 1.586874 1.713824\n",
       " [9] 1.850930 1.999005 2.158925 2.331639 2.518170 2.719624 2.937194 3.172169\n",
       "[17] 3.425943 3.700018 3.996019 2.664013 2.664013 2.664013 2.664013 2.664013\n",
       "[25] 2.664013 2.664013 2.664013 2.664013"
      ]
     },
     "metadata": {},
     "output_type": "display_data"
    }
   ],
   "source": [
    "sal"
   ]
  },
  {
   "cell_type": "code",
   "execution_count": 19,
   "id": "4be7696e-993c-460b-b62e-d9b142680313",
   "metadata": {},
   "outputs": [
    {
     "data": {
      "text/plain": [
       "[1] 65.42238"
      ]
     },
     "metadata": {},
     "output_type": "display_data"
    }
   ],
   "source": [
    "sum(sal)"
   ]
  },
  {
   "cell_type": "code",
   "execution_count": 20,
   "id": "cb1ac240-fed1-4720-8580-b916ecd23159",
   "metadata": {},
   "outputs": [
    {
     "data": {
      "text/plain": [
       "[1] 50.5 55.5 60.5 65.5 70.5"
      ]
     },
     "metadata": {},
     "output_type": "display_data"
    }
   ],
   "source": [
    "c(101/2,111/2,121/2,131/2,141/2)"
   ]
  },
  {
   "cell_type": "markdown",
   "id": "7a605fe7-d094-4ff0-8429-70bab0a78137",
   "metadata": {},
   "source": [
    "답은4번이다. "
   ]
  },
  {
   "cell_type": "markdown",
   "id": "35bb4287-0c1e-4e0d-b32e-ab5b59857854",
   "metadata": {},
   "source": [
    "### 2004(인)/수능(홀) 19(고3)"
   ]
  },
  {
   "cell_type": "markdown",
   "id": "0ba7f37a-7247-4c6d-8881-e99f09ccf5b2",
   "metadata": {},
   "source": [
    "자료 $x_1,x_2,\\dots, x_{100}$에 대하여 다음 과정을 순서대로 시행하였다."
   ]
  },
  {
   "cell_type": "markdown",
   "id": "d93fbe20-2762-423c-b847-40817fe88284",
   "metadata": {},
   "source": [
    "(가) 처음 두 수 $x_1$과 $x_2$의 평균을 구한다. \n",
    "\n",
    "(나) $x_3$을 추가하여 $x_1, x_2, x_3$의 평균을 구한다. \n",
    "\n",
    "(다) $x_4$을 추가하여 $x_1, x_2, x_3, x_4$의 평균을 구한다. \n",
    "\n",
    "...\n",
    "\n",
    "$x_{100}$을 추가하여 $x_1, x_2, x_3 ,\\dots , x_{100}$의 평균을 구한다. "
   ]
  },
  {
   "cell_type": "markdown",
   "id": "9fbb4cf5-9357-40c1-b7d7-7f076ad6b00c",
   "metadata": {},
   "source": [
    "위의 과정을 시행할 결과, $x_1$과 $x_2$의 평균이 5이고, 자료 하나가 추가될때 마다 평균이 1씩 증가하였다. 이때 $x_{100}$의 값은? "
   ]
  },
  {
   "cell_type": "markdown",
   "id": "aa4421e7-cc7d-4b26-9d7c-26604a1abe47",
   "metadata": {},
   "source": [
    "(1) 194\n",
    "\n",
    "(2) 196\n",
    "\n",
    "(3) 198\n",
    "\n",
    "(4) 200\n",
    "\n",
    "(5) 202 "
   ]
  },
  {
   "cell_type": "markdown",
   "id": "fa27d05f-8d70-409f-bf71-a86b81e86823",
   "metadata": {},
   "source": [
    "(풀이) "
   ]
  },
  {
   "cell_type": "code",
   "execution_count": 49,
   "id": "4a1d6a00-d39e-4472-9b31-46313676c6f0",
   "metadata": {},
   "outputs": [],
   "source": [
    "x<-c() \n",
    "x[1]=5 \n",
    "x[2]=5"
   ]
  },
  {
   "cell_type": "code",
   "execution_count": 50,
   "id": "279aff44-0f1a-430f-bc7f-31e189fc08e4",
   "metadata": {},
   "outputs": [],
   "source": [
    "for(n in 3:100){\n",
    "    temp_ = mean(x[1:(n-1)])+1 ## temp_ : 1~n까지의 평균 \n",
    "    sum_ = temp_ * n # 1~n까지의 합 \n",
    "    x[n] = sum_ - sum(x[1:(n-1)])\n",
    "}"
   ]
  },
  {
   "cell_type": "code",
   "execution_count": 51,
   "id": "c3c5ae4d-74f3-446d-a265-1a5d23acbfde",
   "metadata": {},
   "outputs": [
    {
     "data": {
      "text/plain": [
       "  [1]   5   5   8  10  12  14  16  18  20  22  24  26  28  30  32  34  36  38\n",
       " [19]  40  42  44  46  48  50  52  54  56  58  60  62  64  66  68  70  72  74\n",
       " [37]  76  78  80  82  84  86  88  90  92  94  96  98 100 102 104 106 108 110\n",
       " [55] 112 114 116 118 120 122 124 126 128 130 132 134 136 138 140 142 144 146\n",
       " [73] 148 150 152 154 156 158 160 162 164 166 168 170 172 174 176 178 180 182\n",
       " [91] 184 186 188 190 192 194 196 198 200 202"
      ]
     },
     "metadata": {},
     "output_type": "display_data"
    }
   ],
   "source": [
    "x"
   ]
  },
  {
   "cell_type": "markdown",
   "id": "cf6a66ad-c277-474f-a11f-43474d84c13a",
   "metadata": {},
   "source": [
    "따라서 답은 5번"
   ]
  },
  {
   "cell_type": "markdown",
   "id": "d570994a-4b11-419b-b087-b2335b9c2b42",
   "metadata": {},
   "source": [
    "### 2010(나)/수능(홀) 30(고3) "
   ]
  },
  {
   "cell_type": "markdown",
   "id": "cab5538e-f2ab-4939-9ae9-dbb29cdcb2ec",
   "metadata": {},
   "source": [
    "수열 $\\{a_n\\}$에 대하여 첫째항부터 제 $n$항까지의 합을 $S_n$이라고 하자. 수열 $\\{S_{2n-1}\\}$은 공차가 -3인 등차수열이고, 수열 $\\{S_{2n}\\}$은 공차가 2인 등차수열이다. $a_2=1$일 때, $a_8$의 값을 구하시오. "
   ]
  },
  {
   "cell_type": "markdown",
   "id": "84218a97-c8aa-42d9-8d33-45500a8b6094",
   "metadata": {},
   "source": [
    "(풀이) "
   ]
  },
  {
   "cell_type": "code",
   "execution_count": 67,
   "id": "94678984-e45c-4963-be1c-118f1022cb14",
   "metadata": {},
   "outputs": [],
   "source": [
    "a<-c()\n",
    "a[1]=222 # 첫째항은 222이라고 하자. \n",
    "a[2]=1 # 문제에서 a2=1이라고 하였음 "
   ]
  },
  {
   "cell_type": "markdown",
   "id": "5ac3900b-0438-4815-b0c4-315fc45e3d2a",
   "metadata": {},
   "source": [
    "`-` $S_n$은 $n$이 짝수이냐, 홀수이냐에 따라서 정의가 달라짐"
   ]
  },
  {
   "cell_type": "markdown",
   "id": "57f4bc13-86cc-4230-8ef5-2e3588558d05",
   "metadata": {},
   "source": [
    "$S_3=S_1-3$ \n",
    "\n",
    "$S_5=S_3-3$ \n",
    "\n",
    "... \n",
    "\n",
    "\n",
    "$S_4=S_2+2$\n",
    "\n",
    "$S_6=S_4+2$ \n",
    "\n",
    "..."
   ]
  },
  {
   "cell_type": "code",
   "execution_count": 68,
   "id": "29faf4b0-b7be-4cc5-8790-31ec2e866e3e",
   "metadata": {},
   "outputs": [],
   "source": [
    "S<-c()\n",
    "S[1]=a[1]\n",
    "S[2]=a[1]+a[2]"
   ]
  },
  {
   "cell_type": "code",
   "execution_count": 69,
   "id": "8a7647e5-da8d-44be-850e-814d188a5191",
   "metadata": {},
   "outputs": [
    {
     "data": {
      "text/plain": [
       "[1] 1 2 0 1 2"
      ]
     },
     "metadata": {},
     "output_type": "display_data"
    }
   ],
   "source": [
    "(1:5) %% 3 "
   ]
  },
  {
   "cell_type": "code",
   "execution_count": 70,
   "id": "109f10ee-d928-431b-95b3-cc36043ebd03",
   "metadata": {},
   "outputs": [
    {
     "data": {
      "text/plain": [
       "[1] 0"
      ]
     },
     "metadata": {},
     "output_type": "display_data"
    }
   ],
   "source": [
    "n %% 2 "
   ]
  },
  {
   "cell_type": "code",
   "execution_count": 71,
   "id": "faa5d417-7ca9-4817-836b-793281920339",
   "metadata": {},
   "outputs": [],
   "source": [
    "for(n in 3:100){\n",
    "    ### n이 홀수라면?? (n %% 2)==1\n",
    "    if(n%%2 ==1){\n",
    "        S[n]=S[n-2]-3\n",
    "    }else{ ### n이 짝수라면?? (n%%2) == 0 \n",
    "        S[n]=S[n-2]+2\n",
    "    }\n",
    "}"
   ]
  },
  {
   "cell_type": "code",
   "execution_count": 72,
   "id": "56a975a0-c99b-4c16-ab39-5345319055e5",
   "metadata": {},
   "outputs": [
    {
     "data": {
      "text/plain": [
       "  [1] 222 223 219 225 216 227 213 229 210 231 207 233 204 235 201 237 198 239\n",
       " [19] 195 241 192 243 189 245 186 247 183 249 180 251 177 253 174 255 171 257\n",
       " [37] 168 259 165 261 162 263 159 265 156 267 153 269 150 271 147 273 144 275\n",
       " [55] 141 277 138 279 135 281 132 283 129 285 126 287 123 289 120 291 117 293\n",
       " [73] 114 295 111 297 108 299 105 301 102 303  99 305  96 307  93 309  90 311\n",
       " [91]  87 313  84 315  81 317  78 319  75 321"
      ]
     },
     "metadata": {},
     "output_type": "display_data"
    }
   ],
   "source": [
    "S"
   ]
  },
  {
   "cell_type": "code",
   "execution_count": 73,
   "id": "9a69af18-3dd5-493c-87fe-270a37ab0ecd",
   "metadata": {},
   "outputs": [
    {
     "data": {
      "text/plain": [
       "[1] 16"
      ]
     },
     "metadata": {},
     "output_type": "display_data"
    }
   ],
   "source": [
    "S[8]-S[7]"
   ]
  },
  {
   "cell_type": "markdown",
   "id": "8df5d334-df75-436a-a659-0bbb28f0e808",
   "metadata": {
    "tags": []
   },
   "source": [
    "### [숙제](https://ieilms.jbnu.ac.kr/)"
   ]
  },
  {
   "cell_type": "markdown",
   "id": "b72b47c2-f1d0-452c-8dc7-f822eaaff2a5",
   "metadata": {},
   "source": [
    "`-` 2010(나)/수능(홀) 30(고3)의 문제풀이에서 a[1]의 값을 0, 222 이외의 값으로 설정하고 $a_8$을 구하라."
   ]
  }
 ],
 "metadata": {
  "kernelspec": {
   "display_name": "R",
   "language": "R",
   "name": "ir"
  },
  "language_info": {
   "codemirror_mode": "r",
   "file_extension": ".r",
   "mimetype": "text/x-r-source",
   "name": "R",
   "pygments_lexer": "r",
   "version": "4.0.5"
  }
 },
 "nbformat": 4,
 "nbformat_minor": 5
}
