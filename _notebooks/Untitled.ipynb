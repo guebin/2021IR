{
 "cells": [
  {
   "cell_type": "markdown",
   "id": "cd0b452a-d6b0-4bb5-945a-f88ef93a7f89",
   "metadata": {
    "tags": []
   },
   "source": [
    "# 2021년 1학기 R입문 기말고사 예상문제 \n",
    "\n",
    "- toc:false\n",
    "- branch: master\n",
    "- badges: true\n",
    "- comments: true\n",
    "- author: 최규빈"
   ]
  },
  {
   "cell_type": "markdown",
   "id": "21a0f600-e9bc-4909-b9e8-ca4c2900b20f",
   "metadata": {},
   "source": [
    "## `1`. 다음을 잘 읽고 물음에 답하라. "
   ]
  },
  {
   "cell_type": "markdown",
   "id": "317e056c-4165-4222-a637-0c6ac78ee201",
   "metadata": {},
   "source": [
    "아래와 같은 수식을 고려하자. \n",
    "\n",
    "$$y_i= 1.5+ 2\\cos(t_i) -0.5\\cos(2 t_i)+\\epsilon_i, \\quad i=1,2,\\dots, 1000$$\n",
    "\n",
    "여기에서 $t_i=\\frac{2\\pi i}{1000}$ 이다. 그리고 $\\epsilon_i \\sim i.i.d~ N(0,1)$, 즉 서로 독립인 표준정규분포에서 추출된 샘플이다. "
   ]
  },
  {
   "cell_type": "markdown",
   "id": "620fd982-09c7-49ee-8faf-926bd5a09dd2",
   "metadata": {},
   "source": [
    "#### `(1)` `rnorm()`을 이용하여 $\\{\\epsilon_i \\}_{i=1}^{1000}$ 을 만들고 이를 벡터로 만들어라. 즉 아래와 같은 벡터를 생성하라. \n",
    "\n",
    "- $\\boldsymbol{\\epsilon}=(\\epsilon_1,\\dots,\\epsilon_{1000})$"
   ]
  },
  {
   "cell_type": "markdown",
   "id": "dd52f507-e2b6-4f65-a06c-2ee05620db5a",
   "metadata": {},
   "source": [
    "#### `(2)` $\\big\\{\\cos(t_i) \\big\\}_{i=1}^{1000}$와 $\\big\\{\\cos(2t_i) \\big\\}_{i=1}^{1000}$를 각각 생성하고 이를 ${\\bf x}_1$와 ${\\bf x}_2$에 저장하라. 즉 아래와 같은 2개의 벡터를 생성하라. \n",
    "- ${\\bf x}_1=(\\frac{2\\pi}{1000},\\frac{4\\pi}{1000},\\dots,2\\pi)$\n",
    "- ${\\bf x}_2=(\\frac{4\\pi}{1000},\\frac{4\\pi}{1000},\\dots,2\\pi)$"
   ]
  },
  {
   "cell_type": "markdown",
   "id": "a04cf768-c251-49b2-b75c-227703917abc",
   "metadata": {},
   "source": [
    "#### `(3)` "
   ]
  },
  {
   "cell_type": "markdown",
   "id": "2fc777f9-6f32-4de0-81fe-6ca4218b624f",
   "metadata": {},
   "source": [
    "## 2. "
   ]
  },
  {
   "cell_type": "code",
   "execution_count": null,
   "id": "692e7330-375a-44c6-a634-739383160da1",
   "metadata": {},
   "outputs": [],
   "source": [
    "b"
   ]
  },
  {
   "cell_type": "markdown",
   "id": "743acaff-fba8-4bdd-83a0-9bff1bd4805c",
   "metadata": {},
   "source": [
    "## 3. "
   ]
  },
  {
   "cell_type": "code",
   "execution_count": null,
   "id": "f7d6595a-f921-4097-92e3-b3782f5ae77d",
   "metadata": {},
   "outputs": [],
   "source": []
  }
 ],
 "metadata": {
  "kernelspec": {
   "display_name": "R",
   "language": "R",
   "name": "ir"
  },
  "language_info": {
   "codemirror_mode": "r",
   "file_extension": ".r",
   "mimetype": "text/x-r-source",
   "name": "R",
   "pygments_lexer": "r",
   "version": "4.1.1"
  },
  "widgets": {
   "application/vnd.jupyter.widget-state+json": {
    "state": {},
    "version_major": 2,
    "version_minor": 0
   }
  }
 },
 "nbformat": 4,
 "nbformat_minor": 5
}
