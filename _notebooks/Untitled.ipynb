{
 "cells": [
  {
   "cell_type": "code",
   "execution_count": 7,
   "id": "09b3a857-7218-4e49-9b0b-edc94b2f4981",
   "metadata": {},
   "outputs": [
    {
     "name": "stdout",
     "output_type": "stream",
     "text": [
      "[1] 0\n"
     ]
    }
   ],
   "source": [
    "ARR = c('N1','N2','N3','N4','N5','N6','N7','N8','A','N9')\n",
    "SURV = 10\n",
    "PLAYER = ARR[SURV]\n",
    "STAGE = 0\n",
    "\n",
    "simulate = function(){\n",
    "for (i in 1:20){\n",
    "PROB = 0.5+(PLAYER=='A')*0.45\n",
    "toss = rbinom(n=1,size=1,prob=PROB)\n",
    "if (toss==0) SURV <<- SURV-1 ## << 를 이용해야 함수밖의 변수가 변경됨 \n",
    "STAGE <<- STAGE + 1 ## << 를 이용해야 함수밖의 변수가 변경됨\n",
    "if (SURV == 0) break\n",
    "}\n",
    "}\n",
    "record = function(){\n",
    "list(SURV=SURV, STAGE=STAGE)\n",
    "}\n",
    "\n",
    "surv8 = 0\n",
    "\n",
    "for (i in 1:100000) {\n",
    "simulate()\n",
    "if (record()$SURV > 7 & record()$STAGE==20) surv8 <<- surv8 + 1\n",
    "}\n",
    "\n",
    "print(surv8) #:: 0이 나옵니다!\n",
    "\n"
   ]
  },
  {
   "cell_type": "code",
   "execution_count": 8,
   "id": "b3f66c88-1cb9-42fe-b726-160d7cfc45ad",
   "metadata": {},
   "outputs": [],
   "source": [
    "i=1"
   ]
  },
  {
   "cell_type": "code",
   "execution_count": 9,
   "id": "3dfd2f99-4aee-41ec-96ca-39d1362fc882",
   "metadata": {},
   "outputs": [],
   "source": [
    "simulate()"
   ]
  },
  {
   "cell_type": "code",
   "execution_count": 10,
   "id": "b52e04db-4eba-4d91-9b54-9af38dda0756",
   "metadata": {},
   "outputs": [
    {
     "data": {
      "text/html": [
       "-999967"
      ],
      "text/latex": [
       "-999967"
      ],
      "text/markdown": [
       "-999967"
      ],
      "text/plain": [
       "[1] -999967"
      ]
     },
     "metadata": {},
     "output_type": "display_data"
    }
   ],
   "source": [
    "record()$SURV"
   ]
  },
  {
   "cell_type": "code",
   "execution_count": 11,
   "id": "aa23e675-1198-4d35-8a42-e34a6c58b5a5",
   "metadata": {},
   "outputs": [
    {
     "data": {
      "text/plain": [
       "NULL"
      ]
     },
     "metadata": {},
     "output_type": "display_data"
    }
   ],
   "source": [
    "record()$STATE"
   ]
  },
  {
   "cell_type": "markdown",
   "id": "21fb393d-2e0a-4651-a69a-83d79da64eb5",
   "metadata": {},
   "source": [
    "- reset을 시켜주는 함수가 없어서 이전결과가 누적됨  "
   ]
  },
  {
   "cell_type": "code",
   "execution_count": null,
   "id": "f34c8eb0-1674-4f61-9abe-428a95498f11",
   "metadata": {},
   "outputs": [],
   "source": []
  }
 ],
 "metadata": {
  "kernelspec": {
   "display_name": "R",
   "language": "R",
   "name": "ir"
  },
  "language_info": {
   "codemirror_mode": "r",
   "file_extension": ".r",
   "mimetype": "text/x-r-source",
   "name": "R",
   "pygments_lexer": "r",
   "version": "4.0.5"
  },
  "widgets": {
   "application/vnd.jupyter.widget-state+json": {
    "state": {},
    "version_major": 2,
    "version_minor": 0
   }
  }
 },
 "nbformat": 4,
 "nbformat_minor": 5
}
