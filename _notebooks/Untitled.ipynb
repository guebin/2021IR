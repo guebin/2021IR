{
 "cells": [
  {
   "cell_type": "markdown",
   "id": "16b61d43-791c-46f7-956f-f9203d57e9ea",
   "metadata": {},
   "source": [
    "$\\frac{{\\bf y} \\cdot {\\bf 1}}{{\\bf 1} \\cdot {\\bf 1}}$, $\\frac{{\\bf y} \\cdot {\\bf x}_1}{{\\bf x}_1 \\cdot {\\bf x}_1}$, 그리고 $\\frac{{\\bf y} \\cdot {\\bf x}_2}{{\\bf x}_2 \\cdot {\\bf x}_2}$"
   ]
  },
  {
   "cell_type": "code",
   "execution_count": null,
   "id": "0009dd89-e851-4aaa-b7a8-918ac4d44cc8",
   "metadata": {},
   "outputs": [],
   "source": []
  }
 ],
 "metadata": {
  "kernelspec": {
   "display_name": "Python 3",
   "language": "python",
   "name": "python3"
  },
  "language_info": {
   "codemirror_mode": {
    "name": "ipython",
    "version": 3
   },
   "file_extension": ".py",
   "mimetype": "text/x-python",
   "name": "python",
   "nbconvert_exporter": "python",
   "pygments_lexer": "ipython3",
   "version": "3.9.7"
  },
  "widgets": {
   "application/vnd.jupyter.widget-state+json": {
    "state": {},
    "version_major": 2,
    "version_minor": 0
   }
  }
 },
 "nbformat": 4,
 "nbformat_minor": 5
}
