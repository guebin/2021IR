{
 "cells": [
  {
   "cell_type": "markdown",
   "id": "16b61d43-791c-46f7-956f-f9203d57e9ea",
   "metadata": {},
   "source": [
    "$\\frac{{\\bf y} \\cdot {\\bf 1}}{{\\bf 1} \\cdot {\\bf 1}}$"
   ]
  },
  {
   "cell_type": "code",
   "execution_count": null,
   "id": "2a316ac7-30a3-4fbd-b985-e457e795b216",
   "metadata": {},
   "outputs": [],
   "source": []
  }
 ],
 "metadata": {
  "kernelspec": {
   "display_name": "R",
   "language": "R",
   "name": "ir"
  },
  "language_info": {
   "codemirror_mode": "r",
   "file_extension": ".r",
   "mimetype": "text/x-r-source",
   "name": "R",
   "pygments_lexer": "r",
   "version": "4.1.1"
  },
  "widgets": {
   "application/vnd.jupyter.widget-state+json": {
    "state": {},
    "version_major": 2,
    "version_minor": 0
   }
  }
 },
 "nbformat": 4,
 "nbformat_minor": 5
}
