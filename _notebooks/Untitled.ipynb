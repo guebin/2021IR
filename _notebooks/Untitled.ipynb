{
 "cells": [
  {
   "cell_type": "markdown",
   "id": "66093a5c-1075-4ccf-bdf2-86ea83a48080",
   "metadata": {},
   "source": [
    "### 징검다리3 "
   ]
  },
  {
   "cell_type": "markdown",
   "id": "ad1bbaf1-ecb5-4780-88a1-0f9d0b1a9283",
   "metadata": {},
   "source": [
    "#### 장인이 맨앞에 있는 경우 "
   ]
  },
  {
   "cell_type": "markdown",
   "id": "122288b6-803b-4279-b508-162ae7fa27d1",
   "metadata": {},
   "source": [
    "(풀이1) 이론적풀이 "
   ]
  },
  {
   "cell_type": "markdown",
   "id": "df351bdf-2e98-49d7-b935-19af0920c26b",
   "metadata": {},
   "source": [
    "`-` 10명이 살아남을 확률? $0.8^5$ "
   ]
  },
  {
   "cell_type": "markdown",
   "id": "04b18247-7227-4bb0-8ed3-aecd41c625d2",
   "metadata": {},
   "source": [
    "`-` 9명이 살아남을 확률? \n",
    "\n",
    "- 장인이 1번째 탈락 = $0.8^0 \\times 0.2 \\times 0.5^4$\n",
    "- 장인이 2번째 탈락 = $0.8^1 \\times 0.2 \\times 0.5^3$\n",
    "- 장인이 3번째 탈락 = $0.8^2 \\times 0.2 \\times 0.5^2$\n",
    "- 장인이 4번째 탈락 = $0.8^3 \\times 0.2 \\times 0.5^1$\n",
    "- 장인이 5번째 탈락 = $0.8^4 \\times 0.2 \\times 0.5^0$"
   ]
  },
  {
   "cell_type": "markdown",
   "id": "ef35f7ca-e150-4a0b-9548-7bb2766485c8",
   "metadata": {},
   "source": [
    "`-` 8명이 살아남을 확률? \n",
    "\n",
    "- 장인이 1번째 탈락 = $choose(4,1)\\times 0.8^0 \\times 0.2 \\times 0.5^4$\n",
    "    - 일반인이 2번째 탈락 = $0.8^0 \\times 0.2 \\times 0.5^4$\n",
    "    - 일반인이 3번째 탈락 = $0.8^0 \\times 0.2 \\times 0.5^4$\n",
    "    - 일반인이 4번째 탈락 = $0.8^0 \\times 0.2 \\times 0.5^4$\n",
    "    - 일반인이 5번째 탈락 = $0.8^0 \\times 0.2 \\times 0.5^4$\n",
    "- 장인이 2번째 탈락 = $choose(3,1)\\times 0.8^1 \\times 0.2 \\times 0.5^3$\n",
    "    - 일반인이 3번째 탈락 = $0.8^1 \\times 0.2 \\times 0.5^3$\n",
    "    - 일반인이 4번째 탈락 = $0.8^2 \\times 0.2 \\times 0.5^3$\n",
    "    - 일반인이 5번째 탈락 = $0.8^2 \\times 0.2 \\times 0.5^3$\n",
    "- 장인이 3번째 탈락 = $choose(2,1)\\times 0.8^2 \\times 0.2 \\times 0.5^2$\n",
    "    - 일반인이 4번째 탈락 = $0.8^2 \\times 0.2 \\times 0.5^2$\n",
    "    - 일반인이 5번째 탈락 = $0.8^2 \\times 0.2 \\times 0.5^2$\n",
    "- 장인이 4번째 탈락 = $choose(1,1) \\times 0.8^3 \\times 0.2 \\times 0.5^1$\n",
    "    - 일반인이 5번째 탈락 = $0.8^3 \\times 0.2 \\times 0.5^1$"
   ]
  },
  {
   "cell_type": "markdown",
   "id": "50311239-3899-4bfa-ae8c-64240a2a7dd6",
   "metadata": {},
   "source": [
    "`-` 7명이 살아남을 확률? \n",
    "\n",
    "- 장인이 1번째 탈락 = $choose(4,2)\\times 0.8^0 \\times 0.2 \\times 0.5^4$\n",
    "    - 일반인이 2,3번째 탈락 = $0.8^0 \\times 0.2 \\times 0.5^4$\n",
    "    - 일반인이 2,4번째 탈락 = $0.8^0 \\times 0.2 \\times 0.5^4$\n",
    "    - 일반인이 2,5번째 탈락 = $0.8^0 \\times 0.2 \\times 0.5^4$\n",
    "    - 일반인이 3,4번째 탈락 = $0.8^0 \\times 0.2 \\times 0.5^4$\n",
    "    - 일반인이 3,5번째 탈락 = $0.8^0 \\times 0.2 \\times 0.5^4$\n",
    "    - 일반인이 4,5번째 탈락 = $0.8^0 \\times 0.2 \\times 0.5^4$\n",
    "- 장인이 2번째 탈락 = $choose(3,2)\\times 0.8^1 \\times 0.2 \\times 0.5^3$\n",
    "    - 일반인이 3,4번째 탈락 = $0.8^1 \\times 0.2 \\times 0.5^3$\n",
    "    - 일반인이 3,5번째 탈락 = $0.8^2 \\times 0.2 \\times 0.5^3$\n",
    "    - 일반인이 4,5번째 탈락 = $0.8^2 \\times 0.2 \\times 0.5^3$\n",
    "- 장인이 3번째 탈락 = $choose(2,2)\\times 0.8^2 \\times 0.2 \\times 0.5^2$\n",
    "    - 일반인이 4,5번째 탈락 = $0.8^2 \\times 0.2 \\times 0.5^2$"
   ]
  },
  {
   "cell_type": "markdown",
   "id": "3e02a7ec-58b5-422c-9e5d-3be13c9368b0",
   "metadata": {},
   "source": [
    "`-` 6명이 살아남을 확률? \n",
    "\n",
    "- 장인이 1번째 탈락 = $choose(4,3)\\times 0.8^0 \\times 0.2 \\times 0.5^4$\n",
    "    - 일반인이 2,3,4번째 탈락 = $0.8^0 \\times 0.2 \\times 0.5^4$\n",
    "    - 일반인이 2,3,5번째 탈락 = $0.8^0 \\times 0.2 \\times 0.5^4$\n",
    "    - 일반인이 2,4,5번째 탈락 = $0.8^0 \\times 0.2 \\times 0.5^4$\n",
    "    - 일반인이 3,4,5번째 탈락 = $0.8^0 \\times 0.2 \\times 0.5^4$\n",
    "- 장인이 2번째 탈락 = $1\\times 0.8^1 \\times 0.2 \\times 0.5^3$\n",
    "    - 일반인이 3,4,5번째 탈락 = $0.8^1 \\times 0.2 \\times 0.5^3$"
   ]
  },
  {
   "cell_type": "markdown",
   "id": "e493740c-1689-44b2-ad06-e328004cde1c",
   "metadata": {},
   "source": [
    "`-` 5명이 살아남을 확률? $0.2 \\times 0.5^4$\n",
    "- 장인 + 일반인4명 연속탈락 "
   ]
  },
  {
   "cell_type": "markdown",
   "id": "17065914-1020-43ce-b236-18c6c6b493e8",
   "metadata": {},
   "source": [
    "`-` 계산기를 이용하여 확률을 계산하자. "
   ]
  },
  {
   "cell_type": "code",
   "execution_count": 5,
   "id": "8c19aaba-0c63-4ce9-b4aa-f223506d92f5",
   "metadata": {},
   "outputs": [
    {
     "data": {
      "text/html": [
       "0.32768"
      ],
      "text/latex": [
       "0.32768"
      ],
      "text/markdown": [
       "0.32768"
      ],
      "text/plain": [
       "[1] 0.32768"
      ]
     },
     "metadata": {},
     "output_type": "display_data"
    }
   ],
   "source": [
    "## 10명 \n",
    "0.8^5"
   ]
  },
  {
   "cell_type": "code",
   "execution_count": 12,
   "id": "f9f3827e-6d03-4e88-ae52-5c80386860e8",
   "metadata": {},
   "outputs": [],
   "source": [
    "## 9명\n",
    "surv9_prob = c()\n",
    "for (i in 0:4) surv9_prob[i+1]= 0.8^i *0.2 *0.5^(4-i)"
   ]
  },
  {
   "cell_type": "code",
   "execution_count": 13,
   "id": "319faee9-3ea7-433c-bf7c-1c424eae077c",
   "metadata": {},
   "outputs": [
    {
     "data": {
      "text/html": [
       "<style>\n",
       ".list-inline {list-style: none; margin:0; padding: 0}\n",
       ".list-inline>li {display: inline-block}\n",
       ".list-inline>li:not(:last-child)::after {content: \"\\00b7\"; padding: 0 .5ex}\n",
       "</style>\n",
       "<ol class=list-inline><li>0.0125</li><li>0.02</li><li>0.032</li><li>0.0512</li><li>0.08192</li></ol>\n"
      ],
      "text/latex": [
       "\\begin{enumerate*}\n",
       "\\item 0.0125\n",
       "\\item 0.02\n",
       "\\item 0.032\n",
       "\\item 0.0512\n",
       "\\item 0.08192\n",
       "\\end{enumerate*}\n"
      ],
      "text/markdown": [
       "1. 0.0125\n",
       "2. 0.02\n",
       "3. 0.032\n",
       "4. 0.0512\n",
       "5. 0.08192\n",
       "\n",
       "\n"
      ],
      "text/plain": [
       "[1] 0.01250 0.02000 0.03200 0.05120 0.08192"
      ]
     },
     "metadata": {},
     "output_type": "display_data"
    }
   ],
   "source": [
    "surv9_prob"
   ]
  },
  {
   "cell_type": "code",
   "execution_count": 14,
   "id": "7ed2583e-d2c2-483c-978b-9f96641e56b9",
   "metadata": {},
   "outputs": [
    {
     "data": {
      "text/html": [
       "0.19762"
      ],
      "text/latex": [
       "0.19762"
      ],
      "text/markdown": [
       "0.19762"
      ],
      "text/plain": [
       "[1] 0.19762"
      ]
     },
     "metadata": {},
     "output_type": "display_data"
    }
   ],
   "source": [
    "surv9_prob %>% sum"
   ]
  },
  {
   "cell_type": "code",
   "execution_count": 17,
   "id": "feab7cb4-9022-4ae9-83e3-83728ef0d89e",
   "metadata": {},
   "outputs": [],
   "source": [
    "## 8명\n",
    "surv8_prob = c()\n",
    "for (i in 0:3) surv8_prob[i+1]= choose(4-i,1)*0.8^i *0.2 *0.5^(4-i)\n",
    "## 7명\n",
    "surv7_prob = c()\n",
    "for (i in 0:2) surv7_prob[i+1]= choose(4-i,2)*0.8^i *0.2 *0.5^(4-i)\n",
    "## 6명 \n",
    "surv6_prob = c()\n",
    "for (i in 0:1) surv6_prob[i+1]= choose(4-i,3)*0.8^i *0.2 *0.5^(4-i)\n",
    "## 5명 \n",
    "surv5_prob = c()\n",
    "for (i in 0:0) surv5_prob[i+1]= choose(4-i,4)*0.8^i *0.2 *0.5^(4-i)"
   ]
  },
  {
   "cell_type": "markdown",
   "id": "04d83dfa-8ebe-43e1-9638-ba2290a5264c",
   "metadata": {},
   "source": [
    "`-` 확률의 총합"
   ]
  },
  {
   "cell_type": "code",
   "execution_count": 19,
   "id": "ae6ed2d6-7312-46a9-b1b1-ec5cf49d2844",
   "metadata": {},
   "outputs": [
    {
     "data": {
      "text/html": [
       "1"
      ],
      "text/latex": [
       "1"
      ],
      "text/markdown": [
       "1"
      ],
      "text/plain": [
       "[1] 1"
      ]
     },
     "metadata": {},
     "output_type": "display_data"
    }
   ],
   "source": [
    "0.8^5 + sum(surv9_prob) + sum(surv8_prob) + sum(surv7_prob) + sum(surv6_prob) +sum(surv5_prob)"
   ]
  },
  {
   "cell_type": "markdown",
   "id": "389c9961-58f5-4992-9cd7-5cb6c5e6f140",
   "metadata": {},
   "source": [
    "- 잘 구해진것 같다. "
   ]
  },
  {
   "cell_type": "markdown",
   "id": "07e6cc0a-5505-456d-9392-823413b58f99",
   "metadata": {},
   "source": [
    "`-` 평균 "
   ]
  },
  {
   "cell_type": "code",
   "execution_count": 20,
   "id": "37caf473-1f4c-45b2-8614-861a53e7a2d9",
   "metadata": {},
   "outputs": [
    {
     "data": {
      "text/html": [
       "8.50848"
      ],
      "text/latex": [
       "8.50848"
      ],
      "text/markdown": [
       "8.50848"
      ],
      "text/plain": [
       "[1] 8.50848"
      ]
     },
     "metadata": {},
     "output_type": "display_data"
    }
   ],
   "source": [
    "0.8^5*10 + \n",
    "sum(surv9_prob)*9 + \n",
    "sum(surv8_prob)*8 + \n",
    "sum(surv7_prob)*7 + \n",
    "sum(surv6_prob)*6 +\n",
    "sum(surv5_prob)*5"
   ]
  },
  {
   "cell_type": "code",
   "execution_count": null,
   "id": "f600f56d-2b4a-4759-90e7-581b46242f8b",
   "metadata": {},
   "outputs": [],
   "source": []
  }
 ],
 "metadata": {
  "kernelspec": {
   "display_name": "R",
   "language": "R",
   "name": "ir"
  },
  "language_info": {
   "codemirror_mode": "r",
   "file_extension": ".r",
   "mimetype": "text/x-r-source",
   "name": "R",
   "pygments_lexer": "r",
   "version": "4.0.5"
  }
 },
 "nbformat": 4,
 "nbformat_minor": 5
}
