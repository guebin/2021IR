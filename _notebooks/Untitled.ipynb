{
 "cells": [
  {
   "cell_type": "code",
   "execution_count": 11,
   "id": "10aa6b43-c9fc-4413-bb3f-418827ebbc16",
   "metadata": {},
   "outputs": [],
   "source": [
    "#hide\n",
    "options(jupyter.rich_display=FALSE)"
   ]
  },
  {
   "cell_type": "markdown",
   "id": "bd86018b-42fb-4b6a-b51b-de1bc5422e99",
   "metadata": {
    "tags": []
   },
   "source": [
    "# (8주차) 10월28일\n",
    "> 볼링공문제풀이 \n",
    "\n",
    "- toc:true\n",
    "- branch: master\n",
    "- badges: true\n",
    "- comments: true\n",
    "- author: 최규빈"
   ]
  },
  {
   "cell_type": "markdown",
   "id": "02a927ea-8ab7-4318-8051-257356a2c206",
   "metadata": {},
   "source": [
    "> youtube: https://youtube.com/playlist?list=PLQqh36zP38-ybQhoFJmfVxU8zYJh8KZM2"
   ]
  },
  {
   "cell_type": "markdown",
   "id": "e478ef87-642d-42e2-8cd6-e4590ac7ce3f",
   "metadata": {
    "tags": []
   },
   "source": [
    "### 볼링공문제 (2019 SW마에스트로 입학 테스트) "
   ]
  },
  {
   "cell_type": "markdown",
   "id": "9d5f7477-2e30-4259-94f2-a3a870ce7196",
   "metadata": {},
   "source": [
    "A,B 두 사람이 볼링을 치고 있습니다. 두 사람은 서로 무게가 다른 볼링공을 고르려고 합니다. 볼링공은 총 N개가 있으며 각 볼링공마다 무게가 적혀 있고, 공의 번호는 1번부터 순서대로 부여됩니다. 또한 같은 무게의 공이 여러개 있을 수 있지만, 서로 다른 공으로 간주합니다. 볼링공의 무게는 1부터 M까지의 자연수 형태로 존재합니다. \n",
    "\n",
    "예를들어 N이 5이고, M이 3이며 각각의 무게가 차례대로 1,3,2,3,2일 때 각 공의 번호가 차례대로 1번부터 5번까지 부여됩니다. 이때 두 사람이 고를 수 있는 볼링공 번호의 조합을 구하면 다음과 같습니다. \n",
    "\n",
    "(1번,2번), (1번,3번), (1번,4번), (1번,5번), (2번,3번), (2번,5번), (3번,4번), (4번,5번)\n",
    "\n",
    "결과적으로 두 사람이 공을 고르는 경우의 수는 8가지입니다. N개의 공의 무게가 각각 주어질 때, 두 사람이 볼링공을 고르는 경우의 수를 구하는 프로그램을 작성하세요. "
   ]
  },
  {
   "cell_type": "markdown",
   "id": "c1640e0e-f703-484e-97b3-bf9fe927871b",
   "metadata": {},
   "source": [
    "- 입력예시"
   ]
  },
  {
   "cell_type": "markdown",
   "id": "ddc82ad0-530e-4166-824b-ec091b2cf9f6",
   "metadata": {},
   "source": [
    "```\n",
    "입력\n",
    "5 3 \n",
    "1 3 2 3 2 \n",
    "출력\n",
    "8\n",
    "``` "
   ]
  },
  {
   "cell_type": "markdown",
   "id": "42317ef8-396c-40ed-a452-4ab235384d11",
   "metadata": {},
   "source": [
    "#### 문제의 수학적표현 "
   ]
  },
  {
   "cell_type": "markdown",
   "id": "7c199d17-c0f7-4fb8-8004-3dbe22d5cf5e",
   "metadata": {},
   "source": [
    "> $N$개의 볼링공의 무게를 각각 $x_1,\\dots,x_N$ 이라고 하자. (단, $x_1,\\dots, x_N$은 $\\{1,\\dots, M\\}$사의 자연수의 값을 가지며 서로 같은 값을 가질 수 있다) "
   ]
  },
  {
   "cell_type": "markdown",
   "id": "e4ba0a94-27e4-4f1a-ae46-0bfc4639c9b5",
   "metadata": {},
   "source": [
    "> 예시 $(a_1,\\dots, a_5)=(1,3,2,3,2)$ 일 경우 가능한 조합의 집합은 아래와 같다. \n",
    "$(a_1,a_2), (a_1,a_3), (a_1,a_4), (a_1,a_5), (a_2,a_3), (a_2,a_5), (a_3,a_4), (a_4,a_5)$"
   ]
  },
  {
   "cell_type": "markdown",
   "id": "6fef17b0-0735-4f4e-ac44-bcfc25322ffb",
   "metadata": {
    "tags": []
   },
   "source": [
    "### 풀이7 "
   ]
  },
  {
   "cell_type": "code",
   "execution_count": 1,
   "id": "0a48c7d4-c75f-4731-aec4-11e2b12ad099",
   "metadata": {},
   "outputs": [],
   "source": [
    "a<-c(1,3,2,3,2)"
   ]
  },
  {
   "cell_type": "code",
   "execution_count": 3,
   "id": "53957a76-527b-4aaf-a3be-d5cc601ff0fb",
   "metadata": {},
   "outputs": [],
   "source": [
    "a1<-a\n",
    "a2<-a"
   ]
  },
  {
   "cell_type": "code",
   "execution_count": 12,
   "id": "1856a8dd-9533-4409-bb89-eb7d0e79ca1e",
   "metadata": {},
   "outputs": [],
   "source": [
    "dim(a1)<-c(5,1) \n",
    "dim(a2)<-c(1,5) "
   ]
  },
  {
   "cell_type": "code",
   "execution_count": 15,
   "id": "ad2a70cc-e607-4a01-b2a3-da91d269d289",
   "metadata": {},
   "outputs": [
    {
     "data": {
      "text/plain": [
       "     [,1]\n",
       "[1,] 1   \n",
       "[2,] 3   \n",
       "[3,] 2   \n",
       "[4,] 3   \n",
       "[5,] 2   "
      ]
     },
     "metadata": {},
     "output_type": "display_data"
    }
   ],
   "source": [
    "a1"
   ]
  },
  {
   "cell_type": "code",
   "execution_count": 16,
   "id": "d7e0a6cb-9939-4987-ae6a-f276546c5790",
   "metadata": {},
   "outputs": [
    {
     "data": {
      "text/plain": [
       "     [,1] [,2] [,3] [,4] [,5]\n",
       "[1,] 1    3    2    3    2   "
      ]
     },
     "metadata": {},
     "output_type": "display_data"
    }
   ],
   "source": [
    "a2"
   ]
  },
  {
   "cell_type": "code",
   "execution_count": 17,
   "id": "a1980acd-a8a7-46d4-89cb-dcead79e1e7c",
   "metadata": {},
   "outputs": [
    {
     "data": {
      "text/plain": [
       "     [,1] [,2] [,3] [,4] [,5]\n",
       "[1,] 1    3    2    3    2   \n",
       "[2,] 3    9    6    9    6   \n",
       "[3,] 2    6    4    6    4   \n",
       "[4,] 3    9    6    9    6   \n",
       "[5,] 2    6    4    6    4   "
      ]
     },
     "metadata": {},
     "output_type": "display_data"
    }
   ],
   "source": [
    "a1 %*% a2 "
   ]
  },
  {
   "cell_type": "markdown",
   "id": "c3b15db1-7534-4f45-ab1c-bd3aa757a83d",
   "metadata": {},
   "source": [
    "- %*% 연산자: 매트릭스의 곱셈을 가능하게 해준다. (중요함)"
   ]
  },
  {
   "cell_type": "code",
   "execution_count": 18,
   "id": "0eddc4e3-5eca-430e-8c16-3d4ef0fc881b",
   "metadata": {},
   "outputs": [],
   "source": [
    "A = a1 %*% a2 "
   ]
  },
  {
   "cell_type": "code",
   "execution_count": 19,
   "id": "d1065071-2edc-4b9e-8657-22bd1118ee41",
   "metadata": {},
   "outputs": [
    {
     "data": {
      "text/plain": [
       "     [,1] [,2] [,3] [,4] [,5]\n",
       "[1,] 1    3    2    3    2   \n",
       "[2,] 3    9    6    9    6   \n",
       "[3,] 2    6    4    6    4   \n",
       "[4,] 3    9    6    9    6   \n",
       "[5,] 2    6    4    6    4   "
      ]
     },
     "metadata": {},
     "output_type": "display_data"
    }
   ],
   "source": [
    "A"
   ]
  },
  {
   "cell_type": "code",
   "execution_count": 30,
   "id": "0a5c89b7-b9fe-4e35-be0a-9fd91ecc70d8",
   "metadata": {},
   "outputs": [
    {
     "data": {
      "text/plain": [
       "     [,1]  [,2]  [,3]  [,4]  [,5] \n",
       "[1,] FALSE  TRUE  TRUE  TRUE  TRUE\n",
       "[2,] FALSE FALSE  TRUE  TRUE  TRUE\n",
       "[3,] FALSE FALSE FALSE  TRUE  TRUE\n",
       "[4,] FALSE FALSE FALSE FALSE  TRUE\n",
       "[5,] FALSE FALSE FALSE FALSE FALSE"
      ]
     },
     "metadata": {},
     "output_type": "display_data"
    }
   ],
   "source": [
    "upper.tri(A)"
   ]
  },
  {
   "cell_type": "markdown",
   "id": "6ed6be37-e50c-4df1-af20-73bcfb402b72",
   "metadata": {},
   "source": [
    "- upper.tri(): 그렇게 중요하진 않음 "
   ]
  },
  {
   "cell_type": "code",
   "execution_count": 32,
   "id": "bb996422-c976-4ec6-a8ac-1f1251b2d8da",
   "metadata": {},
   "outputs": [
    {
     "data": {
      "text/plain": [
       " [1] 3 2 6 3 9 6 2 6 4 6"
      ]
     },
     "metadata": {},
     "output_type": "display_data"
    }
   ],
   "source": [
    "A[upper.tri(A)]"
   ]
  },
  {
   "cell_type": "markdown",
   "id": "5477cbea-5035-470f-b571-5035f2ffe0a1",
   "metadata": {},
   "source": [
    "- 매트릭스 인덱싱: 중요함"
   ]
  },
  {
   "cell_type": "code",
   "execution_count": 31,
   "id": "8490390c-223b-42ae-a1d9-85e052b49746",
   "metadata": {},
   "outputs": [
    {
     "data": {
      "text/plain": [
       " [1] FALSE FALSE FALSE FALSE  TRUE FALSE FALSE FALSE  TRUE FALSE"
      ]
     },
     "metadata": {},
     "output_type": "display_data"
    }
   ],
   "source": [
    "A[upper.tri(A)] %in% c(4,9)"
   ]
  },
  {
   "cell_type": "markdown",
   "id": "5a29a0ac-0d92-4908-89fd-53eead81a358",
   "metadata": {},
   "source": [
    "- %in%연산자: 중요함 "
   ]
  },
  {
   "cell_type": "code",
   "execution_count": 29,
   "id": "f8d6e3ae-1c10-451f-9ba4-557d6d10d0ca",
   "metadata": {},
   "outputs": [
    {
     "data": {
      "text/plain": [
       "[1] 8"
      ]
     },
     "metadata": {},
     "output_type": "display_data"
    }
   ],
   "source": [
    "sum(!(A[upper.tri(A)] %in% c(4,9)))"
   ]
  },
  {
   "cell_type": "markdown",
   "id": "df3296db-fa6c-438c-b3b7-cd7eb71bbfce",
   "metadata": {},
   "source": [
    "-- "
   ]
  },
  {
   "cell_type": "markdown",
   "id": "c63b1e1c-a301-4c08-ad8e-55d0d2f43eef",
   "metadata": {},
   "source": [
    "보총학습 %in% 연산자"
   ]
  },
  {
   "cell_type": "code",
   "execution_count": 27,
   "id": "d98d2ba1-07dd-4174-a30f-18aab810aea7",
   "metadata": {},
   "outputs": [
    {
     "data": {
      "text/plain": [
       " [1] FALSE FALSE FALSE  TRUE  TRUE  TRUE  TRUE FALSE FALSE FALSE  TRUE  TRUE\n",
       "[13]  TRUE"
      ]
     },
     "metadata": {},
     "output_type": "display_data"
    }
   ],
   "source": [
    "a_ = c(1,2,3,4,4,4,5,6,7,8,9,9,9)\n",
    "a_ %in% c(4,5,9) # _a의 모든원소를 조사하여, 그 원소가 4 혹은 9 이면 True, 아니면 False"
   ]
  },
  {
   "cell_type": "markdown",
   "id": "6e6d3e93-044b-4ecf-9cb3-17a8a7b0ee2a",
   "metadata": {},
   "source": [
    "### 풀이8 "
   ]
  },
  {
   "cell_type": "code",
   "execution_count": 33,
   "id": "d24ccc01-e164-4411-87cd-d43bbddd06f0",
   "metadata": {},
   "outputs": [],
   "source": [
    "a<-c(1,3,2,3,2)"
   ]
  },
  {
   "cell_type": "code",
   "execution_count": 38,
   "id": "d7761d04-cab3-4167-99fe-1b7d709cd31d",
   "metadata": {},
   "outputs": [
    {
     "data": {
      "text/plain": [
       "     [,1] [,2] [,3] [,4] [,5]\n",
       "[1,] 1    3    2    3    2   \n",
       "[2,] 3    9    6    9    6   \n",
       "[3,] 2    6    4    6    4   \n",
       "[4,] 3    9    6    9    6   \n",
       "[5,] 2    6    4    6    4   "
      ]
     },
     "metadata": {},
     "output_type": "display_data"
    }
   ],
   "source": [
    "A=outer(a,a)\n",
    "A"
   ]
  },
  {
   "cell_type": "code",
   "execution_count": 44,
   "id": "2830d45d-051c-41c5-a654-9007776dd819",
   "metadata": {},
   "outputs": [
    {
     "data": {
      "text/plain": [
       "[1] 8"
      ]
     },
     "metadata": {},
     "output_type": "display_data"
    }
   ],
   "source": [
    "sum(!(A[upper.tri(A)] %in% c(4,9) ))"
   ]
  },
  {
   "cell_type": "markdown",
   "id": "066377bd-70ca-4efb-b198-a20e6f0d7b04",
   "metadata": {},
   "source": [
    "### 풀이 6,7,8 "
   ]
  },
  {
   "cell_type": "code",
   "execution_count": null,
   "id": "c021fc39-d986-4b71-9e25-48fb0962b513",
   "metadata": {},
   "outputs": [],
   "source": []
  }
 ],
 "metadata": {
  "kernelspec": {
   "display_name": "R",
   "language": "R",
   "name": "ir"
  },
  "language_info": {
   "codemirror_mode": "r",
   "file_extension": ".r",
   "mimetype": "text/x-r-source",
   "name": "R",
   "pygments_lexer": "r",
   "version": "4.0.5"
  }
 },
 "nbformat": 4,
 "nbformat_minor": 5
}
