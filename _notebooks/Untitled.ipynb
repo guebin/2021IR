{
 "cells": [
  {
   "cell_type": "code",
   "execution_count": 11,
   "id": "10aa6b43-c9fc-4413-bb3f-418827ebbc16",
   "metadata": {},
   "outputs": [],
   "source": [
    "#hide\n",
    "options(jupyter.rich_display=FALSE)"
   ]
  },
  {
   "cell_type": "markdown",
   "id": "bd86018b-42fb-4b6a-b51b-de1bc5422e99",
   "metadata": {
    "tags": []
   },
   "source": [
    "# (8주차) 10월28일\n",
    "> 볼링공문제풀이 \n",
    "\n",
    "- toc:true\n",
    "- branch: master\n",
    "- badges: true\n",
    "- comments: true\n",
    "- author: 최규빈"
   ]
  },
  {
   "cell_type": "markdown",
   "id": "02a927ea-8ab7-4318-8051-257356a2c206",
   "metadata": {},
   "source": [
    "> youtube: https://youtube.com/playlist?list=PLQqh36zP38-ybQhoFJmfVxU8zYJh8KZM2"
   ]
  },
  {
   "cell_type": "markdown",
   "id": "e478ef87-642d-42e2-8cd6-e4590ac7ce3f",
   "metadata": {
    "tags": []
   },
   "source": [
    "### 볼링공문제 (2019 SW마에스트로 입학 테스트) "
   ]
  },
  {
   "cell_type": "markdown",
   "id": "9d5f7477-2e30-4259-94f2-a3a870ce7196",
   "metadata": {},
   "source": [
    "A,B 두 사람이 볼링을 치고 있습니다. 두 사람은 서로 무게가 다른 볼링공을 고르려고 합니다. 볼링공은 총 N개가 있으며 각 볼링공마다 무게가 적혀 있고, 공의 번호는 1번부터 순서대로 부여됩니다. 또한 같은 무게의 공이 여러개 있을 수 있지만, 서로 다른 공으로 간주합니다. 볼링공의 무게는 1부터 M까지의 자연수 형태로 존재합니다. \n",
    "\n",
    "예를들어 N이 5이고, M이 3이며 각각의 무게가 차례대로 1,3,2,3,2일 때 각 공의 번호가 차례대로 1번부터 5번까지 부여됩니다. 이때 두 사람이 고를 수 있는 볼링공 번호의 조합을 구하면 다음과 같습니다. \n",
    "\n",
    "(1번,2번), (1번,3번), (1번,4번), (1번,5번), (2번,3번), (2번,5번), (3번,4번), (4번,5번)\n",
    "\n",
    "결과적으로 두 사람이 공을 고르는 경우의 수는 8가지입니다. N개의 공의 무게가 각각 주어질 때, 두 사람이 볼링공을 고르는 경우의 수를 구하는 프로그램을 작성하세요. "
   ]
  },
  {
   "cell_type": "markdown",
   "id": "c1640e0e-f703-484e-97b3-bf9fe927871b",
   "metadata": {},
   "source": [
    "- 입력예시"
   ]
  },
  {
   "cell_type": "markdown",
   "id": "ddc82ad0-530e-4166-824b-ec091b2cf9f6",
   "metadata": {},
   "source": [
    "```\n",
    "입력\n",
    "5 3 \n",
    "1 3 2 3 2 \n",
    "출력\n",
    "8\n",
    "``` "
   ]
  },
  {
   "cell_type": "markdown",
   "id": "42317ef8-396c-40ed-a452-4ab235384d11",
   "metadata": {},
   "source": [
    "#### 문제의 수학적표현 "
   ]
  },
  {
   "cell_type": "markdown",
   "id": "7c199d17-c0f7-4fb8-8004-3dbe22d5cf5e",
   "metadata": {},
   "source": [
    "> $N$개의 볼링공의 무게를 각각 $x_1,\\dots,x_N$ 이라고 하자. (단, $x_1,\\dots, x_N$은 $\\{1,\\dots, M\\}$사의 자연수의 값을 가지며 서로 같은 값을 가질 수 있다) "
   ]
  },
  {
   "cell_type": "markdown",
   "id": "e4ba0a94-27e4-4f1a-ae46-0bfc4639c9b5",
   "metadata": {},
   "source": [
    "> 예시 $(a_1,\\dots, a_5)=(1,3,2,3,2)$ 일 경우 가능한 조합의 집합은 아래와 같다. \n",
    "$(a_1,a_2), (a_1,a_3), (a_1,a_4), (a_1,a_5), (a_2,a_3), (a_2,a_5), (a_3,a_4), (a_4,a_5)$"
   ]
  },
  {
   "cell_type": "markdown",
   "id": "6fef17b0-0735-4f4e-ac44-bcfc25322ffb",
   "metadata": {
    "tags": []
   },
   "source": [
    "### 풀이7 "
   ]
  },
  {
   "cell_type": "code",
   "execution_count": 1,
   "id": "0a48c7d4-c75f-4731-aec4-11e2b12ad099",
   "metadata": {},
   "outputs": [],
   "source": [
    "a<-c(1,3,2,3,2)"
   ]
  },
  {
   "cell_type": "code",
   "execution_count": 3,
   "id": "53957a76-527b-4aaf-a3be-d5cc601ff0fb",
   "metadata": {},
   "outputs": [],
   "source": [
    "a1<-a\n",
    "a2<-a"
   ]
  },
  {
   "cell_type": "code",
   "execution_count": 12,
   "id": "1856a8dd-9533-4409-bb89-eb7d0e79ca1e",
   "metadata": {},
   "outputs": [],
   "source": [
    "dim(a1)<-c(5,1) \n",
    "dim(a2)<-c(1,5) "
   ]
  },
  {
   "cell_type": "code",
   "execution_count": 15,
   "id": "ad2a70cc-e607-4a01-b2a3-da91d269d289",
   "metadata": {},
   "outputs": [
    {
     "data": {
      "text/plain": [
       "     [,1]\n",
       "[1,] 1   \n",
       "[2,] 3   \n",
       "[3,] 2   \n",
       "[4,] 3   \n",
       "[5,] 2   "
      ]
     },
     "metadata": {},
     "output_type": "display_data"
    }
   ],
   "source": [
    "a1"
   ]
  },
  {
   "cell_type": "code",
   "execution_count": 16,
   "id": "d7e0a6cb-9939-4987-ae6a-f276546c5790",
   "metadata": {},
   "outputs": [
    {
     "data": {
      "text/plain": [
       "     [,1] [,2] [,3] [,4] [,5]\n",
       "[1,] 1    3    2    3    2   "
      ]
     },
     "metadata": {},
     "output_type": "display_data"
    }
   ],
   "source": [
    "a2"
   ]
  },
  {
   "cell_type": "code",
   "execution_count": 17,
   "id": "a1980acd-a8a7-46d4-89cb-dcead79e1e7c",
   "metadata": {},
   "outputs": [
    {
     "data": {
      "text/plain": [
       "     [,1] [,2] [,3] [,4] [,5]\n",
       "[1,] 1    3    2    3    2   \n",
       "[2,] 3    9    6    9    6   \n",
       "[3,] 2    6    4    6    4   \n",
       "[4,] 3    9    6    9    6   \n",
       "[5,] 2    6    4    6    4   "
      ]
     },
     "metadata": {},
     "output_type": "display_data"
    }
   ],
   "source": [
    "a1 %*% a2 "
   ]
  },
  {
   "cell_type": "markdown",
   "id": "c3b15db1-7534-4f45-ab1c-bd3aa757a83d",
   "metadata": {},
   "source": [
    "- %*% 연산자: 매트릭스의 곱셈을 가능하게 해준다. (중요함)"
   ]
  },
  {
   "cell_type": "code",
   "execution_count": 18,
   "id": "0eddc4e3-5eca-430e-8c16-3d4ef0fc881b",
   "metadata": {},
   "outputs": [],
   "source": [
    "A = a1 %*% a2 "
   ]
  },
  {
   "cell_type": "code",
   "execution_count": 19,
   "id": "d1065071-2edc-4b9e-8657-22bd1118ee41",
   "metadata": {},
   "outputs": [
    {
     "data": {
      "text/plain": [
       "     [,1] [,2] [,3] [,4] [,5]\n",
       "[1,] 1    3    2    3    2   \n",
       "[2,] 3    9    6    9    6   \n",
       "[3,] 2    6    4    6    4   \n",
       "[4,] 3    9    6    9    6   \n",
       "[5,] 2    6    4    6    4   "
      ]
     },
     "metadata": {},
     "output_type": "display_data"
    }
   ],
   "source": [
    "A"
   ]
  },
  {
   "cell_type": "code",
   "execution_count": 30,
   "id": "0a5c89b7-b9fe-4e35-be0a-9fd91ecc70d8",
   "metadata": {},
   "outputs": [
    {
     "data": {
      "text/plain": [
       "     [,1]  [,2]  [,3]  [,4]  [,5] \n",
       "[1,] FALSE  TRUE  TRUE  TRUE  TRUE\n",
       "[2,] FALSE FALSE  TRUE  TRUE  TRUE\n",
       "[3,] FALSE FALSE FALSE  TRUE  TRUE\n",
       "[4,] FALSE FALSE FALSE FALSE  TRUE\n",
       "[5,] FALSE FALSE FALSE FALSE FALSE"
      ]
     },
     "metadata": {},
     "output_type": "display_data"
    }
   ],
   "source": [
    "upper.tri(A)"
   ]
  },
  {
   "cell_type": "markdown",
   "id": "6ed6be37-e50c-4df1-af20-73bcfb402b72",
   "metadata": {},
   "source": [
    "- upper.tri(): 그렇게 중요하진 않음 "
   ]
  },
  {
   "cell_type": "code",
   "execution_count": 32,
   "id": "bb996422-c976-4ec6-a8ac-1f1251b2d8da",
   "metadata": {},
   "outputs": [
    {
     "data": {
      "text/plain": [
       " [1] 3 2 6 3 9 6 2 6 4 6"
      ]
     },
     "metadata": {},
     "output_type": "display_data"
    }
   ],
   "source": [
    "A[upper.tri(A)]"
   ]
  },
  {
   "cell_type": "markdown",
   "id": "5477cbea-5035-470f-b571-5035f2ffe0a1",
   "metadata": {},
   "source": [
    "- 매트릭스 인덱싱: 중요함"
   ]
  },
  {
   "cell_type": "code",
   "execution_count": 31,
   "id": "8490390c-223b-42ae-a1d9-85e052b49746",
   "metadata": {},
   "outputs": [
    {
     "data": {
      "text/plain": [
       " [1] FALSE FALSE FALSE FALSE  TRUE FALSE FALSE FALSE  TRUE FALSE"
      ]
     },
     "metadata": {},
     "output_type": "display_data"
    }
   ],
   "source": [
    "A[upper.tri(A)] %in% c(4,9)"
   ]
  },
  {
   "cell_type": "markdown",
   "id": "5a29a0ac-0d92-4908-89fd-53eead81a358",
   "metadata": {},
   "source": [
    "- %in%연산자: 중요함 "
   ]
  },
  {
   "cell_type": "code",
   "execution_count": 29,
   "id": "f8d6e3ae-1c10-451f-9ba4-557d6d10d0ca",
   "metadata": {},
   "outputs": [
    {
     "data": {
      "text/plain": [
       "[1] 8"
      ]
     },
     "metadata": {},
     "output_type": "display_data"
    }
   ],
   "source": [
    "sum(!(A[upper.tri(A)] %in% c(4,9)))"
   ]
  },
  {
   "cell_type": "markdown",
   "id": "df3296db-fa6c-438c-b3b7-cd7eb71bbfce",
   "metadata": {},
   "source": [
    "-- "
   ]
  },
  {
   "cell_type": "markdown",
   "id": "c63b1e1c-a301-4c08-ad8e-55d0d2f43eef",
   "metadata": {},
   "source": [
    "보총학습 %in% 연산자"
   ]
  },
  {
   "cell_type": "code",
   "execution_count": 27,
   "id": "d98d2ba1-07dd-4174-a30f-18aab810aea7",
   "metadata": {},
   "outputs": [
    {
     "data": {
      "text/plain": [
       " [1] FALSE FALSE FALSE  TRUE  TRUE  TRUE  TRUE FALSE FALSE FALSE  TRUE  TRUE\n",
       "[13]  TRUE"
      ]
     },
     "metadata": {},
     "output_type": "display_data"
    }
   ],
   "source": [
    "a_ = c(1,2,3,4,4,4,5,6,7,8,9,9,9)\n",
    "a_ %in% c(4,5,9) # _a의 모든원소를 조사하여, 그 원소가 4 혹은 9 이면 True, 아니면 False"
   ]
  },
  {
   "cell_type": "markdown",
   "id": "6e6d3e93-044b-4ecf-9cb3-17a8a7b0ee2a",
   "metadata": {},
   "source": [
    "### 풀이8 "
   ]
  },
  {
   "cell_type": "code",
   "execution_count": 56,
   "id": "d24ccc01-e164-4411-87cd-d43bbddd06f0",
   "metadata": {},
   "outputs": [],
   "source": [
    "a<-c(1,3,2,3,2)"
   ]
  },
  {
   "cell_type": "code",
   "execution_count": 38,
   "id": "d7761d04-cab3-4167-99fe-1b7d709cd31d",
   "metadata": {},
   "outputs": [
    {
     "data": {
      "text/plain": [
       "     [,1] [,2] [,3] [,4] [,5]\n",
       "[1,] 1    3    2    3    2   \n",
       "[2,] 3    9    6    9    6   \n",
       "[3,] 2    6    4    6    4   \n",
       "[4,] 3    9    6    9    6   \n",
       "[5,] 2    6    4    6    4   "
      ]
     },
     "metadata": {},
     "output_type": "display_data"
    }
   ],
   "source": [
    "A=outer(a,a)\n",
    "A"
   ]
  },
  {
   "cell_type": "code",
   "execution_count": 58,
   "id": "2830d45d-051c-41c5-a654-9007776dd819",
   "metadata": {},
   "outputs": [
    {
     "data": {
      "text/plain": [
       "[1] 8"
      ]
     },
     "metadata": {},
     "output_type": "display_data"
    }
   ],
   "source": [
    "sum(!(A[upper.tri(A)] %in% c(4,9) ))"
   ]
  },
  {
   "cell_type": "code",
   "execution_count": 52,
   "id": "819adc90-9240-48f1-b8b3-f13164995da7",
   "metadata": {},
   "outputs": [
    {
     "data": {
      "text/plain": [
       "[1] 32"
      ]
     },
     "metadata": {},
     "output_type": "display_data"
    }
   ],
   "source": [
    "sum(!(outer(a,a)[upper.tri(outer(a,a))] %in% a**2 ))"
   ]
  },
  {
   "cell_type": "markdown",
   "id": "066377bd-70ca-4efb-b198-a20e6f0d7b04",
   "metadata": {},
   "source": [
    "### 풀이 6,7,8 "
   ]
  },
  {
   "cell_type": "markdown",
   "id": "98fb8cf3-ca5b-4672-baeb-18dcabaa3793",
   "metadata": {},
   "source": [
    "`-` 풀이6: 데이터프레임 활용 $\\to$ 사용하기 쉽고 확장성이 좋음 \n",
    "\n",
    "`-` 풀이7,8: 코드가 간결함 / 에러가 발생할 수 있음 "
   ]
  },
  {
   "cell_type": "markdown",
   "id": "c1eb38a0-c5a9-40cf-840f-c864608b4e62",
   "metadata": {},
   "source": [
    "### 데이터형 "
   ]
  },
  {
   "cell_type": "markdown",
   "id": "61a994de-77e4-4a5e-ae37-676bee710bd5",
   "metadata": {},
   "source": [
    "`-` R에서 데이터를 구성하는 세가지 기본형 "
   ]
  },
  {
   "cell_type": "markdown",
   "id": "a5e637f8-f658-4316-be5f-7d06692f12ac",
   "metadata": {},
   "source": [
    "`-` 수치형(numeric): 정수, 실수, 지수등을 나타내며 실수가 기본형 "
   ]
  },
  {
   "cell_type": "code",
   "execution_count": 64,
   "id": "d0d947d7-8557-4a71-b5fb-ad27e8d00169",
   "metadata": {},
   "outputs": [
    {
     "data": {
      "text/plain": [
       "[1] \"numeric\""
      ]
     },
     "metadata": {},
     "output_type": "display_data"
    }
   ],
   "source": [
    "a=345\n",
    "mode(a)"
   ]
  },
  {
   "cell_type": "code",
   "execution_count": 65,
   "id": "a84a5753-0287-4cb6-b2e6-5a6d55e2e12a",
   "metadata": {},
   "outputs": [
    {
     "data": {
      "text/plain": [
       "[1] \"numeric\""
      ]
     },
     "metadata": {},
     "output_type": "display_data"
    }
   ],
   "source": [
    "a=34.4455\n",
    "mode(a)"
   ]
  },
  {
   "cell_type": "markdown",
   "id": "cc35e763-5a3c-4f41-9d48-166f8b40f8c8",
   "metadata": {},
   "source": [
    "`-` 논리형(logical): 논리적 참과 거짓을 나타낸다. "
   ]
  },
  {
   "cell_type": "code",
   "execution_count": 68,
   "id": "041c7b7e-6bf6-41b5-8329-2cea8017c0fd",
   "metadata": {},
   "outputs": [
    {
     "data": {
      "text/plain": [
       "[1] \"logical\""
      ]
     },
     "metadata": {},
     "output_type": "display_data"
    }
   ],
   "source": [
    "a=T\n",
    "mode(a)"
   ]
  },
  {
   "cell_type": "code",
   "execution_count": 69,
   "id": "1bbaab33-31a9-43c6-95db-3fc2f9f759d1",
   "metadata": {},
   "outputs": [
    {
     "data": {
      "text/plain": [
       "[1] \"logical\""
      ]
     },
     "metadata": {},
     "output_type": "display_data"
    }
   ],
   "source": [
    "a=TRUE\n",
    "mode(a)"
   ]
  },
  {
   "cell_type": "code",
   "execution_count": 72,
   "id": "d99e5224-7152-4c60-97a3-9580b531a0ef",
   "metadata": {},
   "outputs": [
    {
     "data": {
      "text/plain": [
       "[1] \"logical\""
      ]
     },
     "metadata": {},
     "output_type": "display_data"
    }
   ],
   "source": [
    "a=F\n",
    "mode(a)"
   ]
  },
  {
   "cell_type": "code",
   "execution_count": 73,
   "id": "49d80c05-708a-4665-9285-807a1a06705f",
   "metadata": {},
   "outputs": [
    {
     "data": {
      "text/plain": [
       "[1] \"logical\""
      ]
     },
     "metadata": {},
     "output_type": "display_data"
    }
   ],
   "source": [
    "a=FALSE\n",
    "mode(a)"
   ]
  },
  {
   "cell_type": "markdown",
   "id": "2f38445a-97f9-42d6-a5c7-0b8bf9db044f",
   "metadata": {},
   "source": [
    "`-` 문자형 "
   ]
  },
  {
   "cell_type": "code",
   "execution_count": 76,
   "id": "dd4298b6-1d70-4fcc-9d20-e9fc22e1a720",
   "metadata": {},
   "outputs": [
    {
     "data": {
      "text/plain": [
       "[1] \"character\""
      ]
     },
     "metadata": {},
     "output_type": "display_data"
    }
   ],
   "source": [
    "a='asdf'\n",
    "mode(a)"
   ]
  },
  {
   "cell_type": "code",
   "execution_count": 78,
   "id": "ff181ffb-2b7f-4962-8acb-80bfe11c11f4",
   "metadata": {},
   "outputs": [
    {
     "data": {
      "text/plain": [
       "[1] \"character\""
      ]
     },
     "metadata": {},
     "output_type": "display_data"
    }
   ],
   "source": [
    "a='TRUE'\n",
    "mode(a)"
   ]
  },
  {
   "cell_type": "code",
   "execution_count": 79,
   "id": "f2f6556f-f588-4552-be0d-d39920fa1c54",
   "metadata": {},
   "outputs": [
    {
     "data": {
      "text/plain": [
       "[1] \"character\""
      ]
     },
     "metadata": {},
     "output_type": "display_data"
    }
   ],
   "source": [
    "a='1'\n",
    "mode(a)"
   ]
  },
  {
   "cell_type": "markdown",
   "id": "5f2663b2-1851-41bd-8206-9dd2eb2af3e7",
   "metadata": {},
   "source": [
    "`-` 참고: storgae.mode()"
   ]
  },
  {
   "cell_type": "code",
   "execution_count": 93,
   "id": "49ccebda-e60e-4d96-8bd0-aea08c44381c",
   "metadata": {},
   "outputs": [
    {
     "data": {
      "text/plain": [
       "[1] 3.141593"
      ]
     },
     "metadata": {},
     "output_type": "display_data"
    }
   ],
   "source": [
    "a=pi\n",
    "a"
   ]
  },
  {
   "cell_type": "code",
   "execution_count": 97,
   "id": "71eb4d92-ff7e-46ce-8f99-7cd8cf318c87",
   "metadata": {},
   "outputs": [
    {
     "data": {
      "text/plain": [
       "[1] \"numeric\""
      ]
     },
     "metadata": {},
     "output_type": "display_data"
    }
   ],
   "source": [
    "mode(a)"
   ]
  },
  {
   "cell_type": "code",
   "execution_count": 98,
   "id": "27c57ff4-3b52-4596-8d2e-474c9c5d8c84",
   "metadata": {},
   "outputs": [
    {
     "data": {
      "text/plain": [
       "[1] \"double\""
      ]
     },
     "metadata": {},
     "output_type": "display_data"
    }
   ],
   "source": [
    "storage.mode(a)"
   ]
  },
  {
   "cell_type": "code",
   "execution_count": 107,
   "id": "c6649946-5caa-492e-8ffd-c287c62be654",
   "metadata": {},
   "outputs": [
    {
     "data": {
      "text/plain": [
       "[1] 1 2"
      ]
     },
     "metadata": {},
     "output_type": "display_data"
    }
   ],
   "source": [
    "a=1:2\n",
    "a"
   ]
  },
  {
   "cell_type": "code",
   "execution_count": 108,
   "id": "16d0ba7a-838e-4519-8e0e-c7b33d81cc8c",
   "metadata": {},
   "outputs": [
    {
     "data": {
      "text/plain": [
       "[1] \"integer\""
      ]
     },
     "metadata": {},
     "output_type": "display_data"
    }
   ],
   "source": [
    "storage.mode(a)"
   ]
  },
  {
   "cell_type": "markdown",
   "id": "f941487c-898c-47b3-a547-37d57c46dc2f",
   "metadata": {},
   "source": [
    "#### 형 변환 "
   ]
  },
  {
   "cell_type": "markdown",
   "id": "db993655-ce1c-4c21-a869-23bf7a7acd60",
   "metadata": {},
   "source": [
    "#### 방법1"
   ]
  },
  {
   "cell_type": "code",
   "execution_count": 131,
   "id": "c2982d98-02c1-41ab-9a3e-1716621f8aaf",
   "metadata": {},
   "outputs": [
    {
     "data": {
      "text/plain": [
       "[1] \"character\""
      ]
     },
     "metadata": {},
     "output_type": "display_data"
    }
   ],
   "source": [
    "a=\"331\"\n",
    "mode(a)"
   ]
  },
  {
   "cell_type": "markdown",
   "id": "53a633cd-46f9-4dcc-bd5c-b4c522cf27a1",
   "metadata": {},
   "source": [
    "`-` 이것을 수치형으로 바꾸고 싶다. "
   ]
  },
  {
   "cell_type": "code",
   "execution_count": 132,
   "id": "5173daf3-0c58-4677-9b5d-33269aa7caa4",
   "metadata": {},
   "outputs": [
    {
     "data": {
      "text/plain": [
       "[1] \"character\""
      ]
     },
     "metadata": {},
     "output_type": "display_data"
    }
   ],
   "source": [
    "mode(a)"
   ]
  },
  {
   "cell_type": "markdown",
   "id": "09703f72-eea2-4e8a-8db7-8ecdd3408262",
   "metadata": {},
   "source": [
    "결과가 \"character\"이 아니라 \"numeric\"으로 나오면 좋겠다. "
   ]
  },
  {
   "cell_type": "code",
   "execution_count": 133,
   "id": "be8c2a81-eae4-40a2-aef3-5dbe20d2993e",
   "metadata": {},
   "outputs": [],
   "source": [
    "mode(a)<-\"numeric\""
   ]
  },
  {
   "cell_type": "code",
   "execution_count": 134,
   "id": "30e4e972-2510-43fb-b0c0-45564afa87dd",
   "metadata": {},
   "outputs": [
    {
     "data": {
      "text/plain": [
       "[1] \"numeric\""
      ]
     },
     "metadata": {},
     "output_type": "display_data"
    }
   ],
   "source": [
    "mode(a)"
   ]
  },
  {
   "cell_type": "code",
   "execution_count": 135,
   "id": "8d177753-50f8-42f3-a2c4-b3992225b99a",
   "metadata": {},
   "outputs": [
    {
     "data": {
      "text/plain": [
       "[1] 331"
      ]
     },
     "metadata": {},
     "output_type": "display_data"
    }
   ],
   "source": [
    "a"
   ]
  },
  {
   "cell_type": "markdown",
   "id": "159d1174-8dbb-43cb-8238-97f3fe2ef586",
   "metadata": {},
   "source": [
    "#### 방법2"
   ]
  },
  {
   "cell_type": "code",
   "execution_count": 136,
   "id": "9a565a9a-9c8b-44f0-ae08-003b2462fc50",
   "metadata": {},
   "outputs": [
    {
     "data": {
      "text/plain": [
       "[1] \"character\""
      ]
     },
     "metadata": {},
     "output_type": "display_data"
    }
   ],
   "source": [
    "a=\"331\"\n",
    "mode(a)"
   ]
  },
  {
   "cell_type": "code",
   "execution_count": 143,
   "id": "75c21613-0817-4ff6-bb35-21a2d957df42",
   "metadata": {},
   "outputs": [
    {
     "data": {
      "text/plain": [
       "[1] 331"
      ]
     },
     "metadata": {},
     "output_type": "display_data"
    }
   ],
   "source": [
    "a"
   ]
  },
  {
   "cell_type": "code",
   "execution_count": 138,
   "id": "c42c5dca-3d95-42a1-95e0-ee8bc232347d",
   "metadata": {},
   "outputs": [
    {
     "data": {
      "text/plain": [
       "[1] 331"
      ]
     },
     "metadata": {},
     "output_type": "display_data"
    }
   ],
   "source": [
    "as.numeric(a)"
   ]
  },
  {
   "cell_type": "code",
   "execution_count": 142,
   "id": "2da982cd-3942-4c06-8782-cc4a46095398",
   "metadata": {},
   "outputs": [
    {
     "data": {
      "text/plain": [
       "[1] 331"
      ]
     },
     "metadata": {},
     "output_type": "display_data"
    }
   ],
   "source": [
    "a=as.numeric(a)\n",
    "a"
   ]
  },
  {
   "cell_type": "markdown",
   "id": "6f36c2c1-49bd-4d94-8647-807eced11caf",
   "metadata": {},
   "source": [
    "#### 예제1: logical -> numeric "
   ]
  },
  {
   "cell_type": "code",
   "execution_count": 148,
   "id": "792207a9-68df-4601-bff4-d9729fff9559",
   "metadata": {},
   "outputs": [],
   "source": [
    "a=F"
   ]
  },
  {
   "cell_type": "code",
   "execution_count": 149,
   "id": "05c7a8dd-5acb-447e-a2be-a2055843e07f",
   "metadata": {},
   "outputs": [
    {
     "data": {
      "text/plain": [
       "[1] 0"
      ]
     },
     "metadata": {},
     "output_type": "display_data"
    }
   ],
   "source": [
    "as.numeric(a)"
   ]
  },
  {
   "cell_type": "markdown",
   "id": "5fa4396e-59c8-49cc-ad63-8a089f55565c",
   "metadata": {},
   "source": [
    "#### 예제2: numeric -> logical "
   ]
  },
  {
   "cell_type": "code",
   "execution_count": 150,
   "id": "3fb9e015-12b0-4720-9796-8e65bae14b62",
   "metadata": {},
   "outputs": [
    {
     "data": {
      "text/plain": [
       "[1] TRUE"
      ]
     },
     "metadata": {},
     "output_type": "display_data"
    }
   ],
   "source": [
    "a=1\n",
    "as.logical(a)"
   ]
  },
  {
   "cell_type": "code",
   "execution_count": 151,
   "id": "5240b948-2890-4514-ab65-340aaea9d24e",
   "metadata": {},
   "outputs": [
    {
     "data": {
      "text/plain": [
       "[1] FALSE"
      ]
     },
     "metadata": {},
     "output_type": "display_data"
    }
   ],
   "source": [
    "a=0\n",
    "as.logical(a)"
   ]
  },
  {
   "cell_type": "markdown",
   "id": "b5eebc02-20db-4b19-94d7-d30668a2e64f",
   "metadata": {},
   "source": [
    "`-` 그런데 0,1 이외의 숫자를 바꾸면 어떻게 되는가? "
   ]
  },
  {
   "cell_type": "code",
   "execution_count": 152,
   "id": "d388c410-7e7e-4eda-a37a-40c326a0a541",
   "metadata": {},
   "outputs": [
    {
     "data": {
      "text/plain": [
       "[1] TRUE"
      ]
     },
     "metadata": {},
     "output_type": "display_data"
    }
   ],
   "source": [
    "a= -1\n",
    "as.logical(a)"
   ]
  },
  {
   "cell_type": "code",
   "execution_count": 153,
   "id": "9fc367af-17f5-4b31-9945-38b63ab7bf84",
   "metadata": {},
   "outputs": [
    {
     "data": {
      "text/plain": [
       "[1] TRUE"
      ]
     },
     "metadata": {},
     "output_type": "display_data"
    }
   ],
   "source": [
    "a= 2\n",
    "as.logical(a)"
   ]
  },
  {
   "cell_type": "code",
   "execution_count": 154,
   "id": "c2bf0bba-d041-4d8f-a038-c87d3d47b444",
   "metadata": {},
   "outputs": [
    {
     "data": {
      "text/plain": [
       "[1] TRUE"
      ]
     },
     "metadata": {},
     "output_type": "display_data"
    }
   ],
   "source": [
    "a= 2.222\n",
    "as.logical(a)"
   ]
  },
  {
   "cell_type": "markdown",
   "id": "931e5aa5-069a-42bd-8a8a-efe148b396f2",
   "metadata": {},
   "source": [
    "#### 예제3"
   ]
  },
  {
   "cell_type": "code",
   "execution_count": 177,
   "id": "0073f7af-b748-4173-9dc3-69120d3263d2",
   "metadata": {},
   "outputs": [
    {
     "name": "stderr",
     "output_type": "stream",
     "text": [
      "Warning message in eval(expr, envir, enclos):\n",
      "“NAs introduced by coercion”\n"
     ]
    }
   ],
   "source": [
    "a='asdfasdfasdf'\n",
    "a=as.numeric(a)"
   ]
  },
  {
   "cell_type": "code",
   "execution_count": 179,
   "id": "15b6be37-1a99-47c4-90f3-fc31239d8dfe",
   "metadata": {},
   "outputs": [
    {
     "data": {
      "text/plain": [
       "[1] \"numeric\""
      ]
     },
     "metadata": {},
     "output_type": "display_data"
    }
   ],
   "source": [
    "mode(a)"
   ]
  },
  {
   "cell_type": "code",
   "execution_count": 183,
   "id": "9a48db2e-ea9f-410b-8e65-587a6bb97f6c",
   "metadata": {},
   "outputs": [],
   "source": [
    "a='asdfasdfasdf'\n",
    "a=as.logical(a)"
   ]
  },
  {
   "cell_type": "code",
   "execution_count": 185,
   "id": "cf5e9680-8a6e-4591-982b-e6c1eb7331a9",
   "metadata": {},
   "outputs": [
    {
     "data": {
      "text/plain": [
       "[1] \"logical\""
      ]
     },
     "metadata": {},
     "output_type": "display_data"
    }
   ],
   "source": [
    "mode(a)"
   ]
  },
  {
   "cell_type": "code",
   "execution_count": 180,
   "id": "3ae741d8-9531-428c-912f-17bd52d29cbb",
   "metadata": {},
   "outputs": [],
   "source": [
    "a=T\n",
    "mode(a)<-\"character\" "
   ]
  },
  {
   "cell_type": "code",
   "execution_count": null,
   "id": "1c0bf38c-7326-4c84-a487-08f3b8152191",
   "metadata": {},
   "outputs": [],
   "source": []
  },
  {
   "cell_type": "code",
   "execution_count": null,
   "id": "b286c998-e88a-4711-9594-d83824aa8efd",
   "metadata": {},
   "outputs": [],
   "source": []
  }
 ],
 "metadata": {
  "kernelspec": {
   "display_name": "R",
   "language": "R",
   "name": "ir"
  },
  "language_info": {
   "codemirror_mode": "r",
   "file_extension": ".r",
   "mimetype": "text/x-r-source",
   "name": "R",
   "pygments_lexer": "r",
   "version": "4.0.5"
  }
 },
 "nbformat": 4,
 "nbformat_minor": 5
}
