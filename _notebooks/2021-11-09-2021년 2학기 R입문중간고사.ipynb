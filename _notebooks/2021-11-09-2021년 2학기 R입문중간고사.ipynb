{
 "cells": [
  {
   "cell_type": "markdown",
   "id": "48816013-be84-4882-93ca-838f8f1827d8",
   "metadata": {
    "tags": []
   },
   "source": [
    "# 2021년 2학기 R입문 중간고사\n",
    "\n",
    "- toc: false\n",
    "- branch: master\n",
    "- badges: true\n",
    "- comments: true\n",
    "- author: 최규빈"
   ]
  },
  {
   "cell_type": "markdown",
   "id": "585845c2-75f0-44cb-a6ee-068b6ee04aeb",
   "metadata": {},
   "source": [
    "### `1`. R을 이용하여 다음을 계산하여라. (3점)"
   ]
  },
  {
   "cell_type": "markdown",
   "id": "4a36de37-c4c4-437d-937f-7136544cbbb1",
   "metadata": {},
   "source": [
    "#### (a) $2^{-5}+2^{3}$"
   ]
  },
  {
   "cell_type": "markdown",
   "id": "82e74af3-870c-4344-b4f5-a5b6f1257a32",
   "metadata": {},
   "source": [
    "#### (b) $\\sqrt{33}$"
   ]
  },
  {
   "cell_type": "markdown",
   "id": "566005bd-8605-4187-94c2-2a2c097a969c",
   "metadata": {},
   "source": [
    "#### (c) $\\sum_{k=1}^{100} \\frac{1}{k^2+2k+1}$"
   ]
  },
  {
   "cell_type": "markdown",
   "id": "ad51a2c9-b520-45cd-9591-b6da037d2f5c",
   "metadata": {},
   "source": [
    "### `2`. 다음을 잘 읽고 물음에 답하라. (2점)"
   ]
  },
  {
   "cell_type": "markdown",
   "id": "9da839fb-8318-49d8-91bd-cda9e382e96f",
   "metadata": {},
   "source": [
    "#### (a) 아래와 같은 수열을 생성하라. \n",
    "$$x=(-10,-9.5,-9.0,...,9.0,9.5,10)$$\n",
    "\n",
    "#### (b) 생성된 수열에 대하여 아래를 만족하는 $y$를 계산하라. \n",
    "$$y=\\begin{cases} \n",
    "x & |x|>5 \\\\ \n",
    "0 & |x| \\leq 2  \\\\\n",
    "5 & o.w.\n",
    "\\end{cases}$$\n",
    "\n"
   ]
  },
  {
   "cell_type": "markdown",
   "id": "4876411e-3764-451f-b370-90171f4c9086",
   "metadata": {},
   "source": [
    "### `3`. $x=(-10,-9,-8,\\dots,8,9,10)$에 대하여 $h(g(f(x)))$의 계산결과를 구하는 코드를 작성하라. (10점)"
   ]
  },
  {
   "cell_type": "markdown",
   "id": "d0940719-77a7-45d1-bd24-6e7be7880335",
   "metadata": {},
   "source": [
    "단, $f(x)$,$g(x)$, $h(x)$의 정의는 각각 아래와 같다. \n",
    "- $f(x)=2x+3 $\n",
    "- $g(x)=\\frac{e^x}{1+e^x}$\n",
    "- $h(x)=max(x,0)$\n"
   ]
  },
  {
   "cell_type": "markdown",
   "id": "e66204e0-7dc6-4d72-a49a-bec0c5ada4b1",
   "metadata": {},
   "source": [
    "### `4`. 아래중 옳은것은? (O / X 로 답안지를 쓰고 답의 근거가 되는 코드를 작성할것) (10점)"
   ]
  },
  {
   "cell_type": "markdown",
   "id": "cf350534-0d6e-4c29-9bf6-6fadd4687ff0",
   "metadata": {},
   "source": [
    "#### (a) $1= \\frac{1}{2}+\\frac{1}{4} +\\frac{1}{8} \\dots $\n",
    "\n"
   ]
  },
  {
   "cell_type": "markdown",
   "id": "d84e1a60-3a09-4b72-be69-0b5bda42c4e7",
   "metadata": {},
   "source": [
    "#### (b) $e^x= 1+x+x^2+x^3+\\dots $"
   ]
  },
  {
   "cell_type": "markdown",
   "id": "26ffda99-c8dd-43bb-be30-4e5ff7171cab",
   "metadata": {
    "tags": []
   },
   "source": [
    "### `5`. 다음을 읽고 물음에 답하라. (10점)"
   ]
  },
  {
   "cell_type": "markdown",
   "id": "1b928b77-f725-4c5e-b6b3-fb94362aecde",
   "metadata": {},
   "source": [
    "다음은 어느 회사의 연봉에 대한 규정이다. "
   ]
  },
  {
   "cell_type": "markdown",
   "id": "464ebe8c-9685-4109-ad3e-ef97c1af2b96",
   "metadata": {},
   "source": [
    "(가) 입사 첫째 해 연봉은 $a$원이고, 입사 19년째 해까지의 연봉은 해마다 직전 연봉에서 8%씩 인상된다. "
   ]
  },
  {
   "cell_type": "markdown",
   "id": "4d2dcc5e-a40c-4b5a-8f97-a819a7fda388",
   "metadata": {},
   "source": [
    "(나) 입사 20년째 해부터의 연봉은 입사 19년째 해 연봉의 75%로 한다. "
   ]
  },
  {
   "cell_type": "markdown",
   "id": "e843838c-2175-4a83-bbaf-1add822cf13a",
   "metadata": {},
   "source": [
    "이 회사에 입사한 사람이 28년동안 근무하여 받는 연봉의 총합은? "
   ]
  },
  {
   "cell_type": "markdown",
   "id": "be09d190-9f1b-47ea-b0c7-b150a866d926",
   "metadata": {},
   "source": [
    "### `6`. 다음 문장을 읽고 참거짓을 판단하시오. (10점)"
   ]
  },
  {
   "cell_type": "markdown",
   "id": "58fbe583-f36f-4c17-9d17-984202cbcf6e",
   "metadata": {},
   "source": [
    "#### (a) `_a`는 변수이름으로 가능하다. "
   ]
  },
  {
   "cell_type": "markdown",
   "id": "41a6bc7a-3267-402c-870b-cc0f36cbd64e",
   "metadata": {},
   "source": [
    "#### (b) 벡터의 원소는 수치형(numeric)만 가능하다. "
   ]
  },
  {
   "cell_type": "markdown",
   "id": "f097e1ed-4466-4cde-aacf-505ece2f5d9d",
   "metadata": {},
   "source": [
    "#### (c) 논리형(logical)변수는 수치형 변수로 변환할 수 없다. "
   ]
  },
  {
   "cell_type": "markdown",
   "id": "5870e7b5-c722-4856-91b0-413f85a2b7ee",
   "metadata": {},
   "source": [
    "#### (d) R에서 {}는 ()로 바꿀 수 있다. "
   ]
  },
  {
   "cell_type": "markdown",
   "id": "a29a05e6-b85e-4d71-92e7-1f4848e9dc5a",
   "metadata": {},
   "source": [
    "### `7`. 100개의 라커 (15점) "
   ]
  },
  {
   "cell_type": "markdown",
   "id": "76ba2b1f-7e14-463d-a175-740d274dbeec",
   "metadata": {},
   "source": [
    "\n",
    "복도에 100개의 라커가 있다. 복도를 어떤 남자가 100개의 라커 문을 전부 연다. 그리고 나서 짝수 번호의 라커를 전부 닫는다. 그 다음에는 번호가 3의 배수인 라커를 순서대로 찾아다니며 열려 있으면 닫고, 닫혀 있으면 연다. 그 다음에는 번호가 4의 배수인 라커를 순서대로 찾아다니며 열려있으면 닫고, 닫혀있으면 연다. 이후에 5의 배수, 6의 배수 .. 인 라커를 순서대로 찾아다니며 행동을 반복한다. 이런식으로 복도를 100번 지나가면 열린 라커의 문은 몇개가 되겠는가? "
   ]
  },
  {
   "cell_type": "markdown",
   "id": "34fe8974-ccd5-4622-b248-a5c8d4a8f43a",
   "metadata": {},
   "source": [
    "### `8`. 무궁화 꽃이 피었습니다. (25점)"
   ]
  },
  {
   "cell_type": "markdown",
   "id": "940f74f9-5943-4027-81da-ebfa3179f08a",
   "metadata": {},
   "source": [
    "총 456명의 참가자가 '무궁화 꽃이 피었습니다' 게임에 참가한다. 기본적인 게임의 규칙은 아래와 같다. \n",
    "\n",
    "- 술래는 총 10회간 벽을 보고 '무궁화 꽃이 피었습니다' 를 외친다. \n",
    "\n",
    "- 참가자는 술래가 있는 곳 까지 이동해야 살 수 있다. \n",
    "\n",
    "- 술래는 벽을 보고 '무궁화 꽃이 피었습니다'를 외치다가 구호가 끝남과 동시에 뒤를 돌아본다. 이때 움직이는 사람은 **죽는다**\n",
    "\n",
    "따라서 참가자는 술래가 벽을 보고 '무궁화 꽃이 피었습니다'를 외치는 동안만 이동할 수 있다. 욕심을 부려 더 이동하고자 하면 죽을 수 있다. 반대로 죽는 것을 지나치게 두려워한 나머지 매턴마다 조금씩만 이동한다면 10회의 제한횟수 내에 술래에게 도달하지 못하여 죽는다. \n",
    "\n",
    "게임환경과 관련된 세부적인 설정은 아래와 같다. \n",
    "\n",
    "- 술래와 참가자의 거리는 35이다. \n",
    "\n",
    "- 술래는 처음 벽을 보고 $x$초간 무궁화 꽃이 피었습니다를 외친다. \n",
    "\n",
    "- 모든 참가자는 1초에 거리1이상 움직일 수 없다고 가정한다. (예를들어 2.4초 동안은 최대 2.4의 거리를 이동할 수 있다. 반면 이동을 원치않으면 0의 거리만큼 움직이므로 0~2.4사이의 거리를 움직일 수 있다) \n",
    "\n",
    "술래와 참가자에 대한 설정값은 아래와 같다. \n",
    "\n",
    "***술래에 대한 설정값***\n",
    "\n",
    "- 처음에는 술래가 10초간 무궁화 꽃이 피었습니다를 외친다. \n",
    "\n",
    "- 그 다음에는 술래가 9.5초간 무궁화 꽃이 피었습니다를 외친다. \n",
    "\n",
    "- 그 다음에도 0.5초씩 구호를 외치는 시간을 줄인다. 이것을 10회 반복한다. \n",
    "\n",
    "***참가자에 대한 설정값*** \n",
    "\n",
    "- 처음에는 참가자가 \"본인의번호/100\"을 계산하여 나온 숫자만큼 움직인다. 즉 10번 참가자는 0.1의 거리를 움직이고 456번 참가자는 4.56의 거리를 움직인다. \n",
    "\n",
    "- 그 다음은 처음에 본인이 이동했던 거리에 1씩 더하여 움직인다. 즉 10번 참가자는 1.1의 거리를 움직이고 456번 참가자는 5.56의 거리를 움직인다. \n"
   ]
  },
  {
   "cell_type": "markdown",
   "id": "669b9135-c107-4c82-b89a-cffb29cf868a",
   "metadata": {},
   "source": [
    "`-` 예시2"
   ]
  },
  {
   "cell_type": "markdown",
   "id": "4a7f1fc4-fc6c-4fc1-b03f-1c595c965739",
   "metadata": {},
   "source": [
    "300번 참가자의 경우 아래와 같이 이동하므로 \n",
    "\n",
    "| |1회 |2회 |3회 | 4회 | 5회 | 6회 |\n",
    "|:-:|:-:|:-:|:-:| :-:|:-:|:-:|\n",
    "|술래의 외침시간  | 10  | 9.5 | 9.0 | 8.5 | 8.0 | 7.5 |\n",
    "|참가자의 이동폭  | 3 | 4 | 5 | 6 | 7 | 7.5 |\n",
    "|참가자의 총 이동거리 | 3 | 7 | 12 | 18 | 25 | 32.5  |\n",
    "\n",
    "생존할 수 없다. (6회에서 32.5까지 이동후 사망)"
   ]
  },
  {
   "cell_type": "markdown",
   "id": "d8985c65-59db-4845-8364-77443cd524c9",
   "metadata": {},
   "source": [
    "`-` 예시2"
   ]
  },
  {
   "cell_type": "markdown",
   "id": "08f200aa-1f42-4d0d-8a52-de448e1617d9",
   "metadata": {},
   "source": [
    "350번 참가자의 경우 아래와 같이 이동하므로 \n",
    "\n",
    "| |1회 |2회 |3회 | 4회 | 5회 | 6회 |\n",
    "|:-:|:-:|:-:|:-:| :-:|:-:|:-:|\n",
    "|술래의 외침시간  | 10  | 9.5 | 9.0 | 8.5 | 8.0 | 7.5 |\n",
    "|참가자의 이동폭  | 3.5 | 4.5 | 5.5 | 6.5 | 7.5 | 7.5 |\n",
    "|참가자의 총 이동거리 | 3.5 | 8 | 13.5 | 20 | 27.5 | 35  |"
   ]
  },
  {
   "cell_type": "markdown",
   "id": "416db196-6b97-49d2-9bce-1b323252a0a3",
   "metadata": {},
   "source": [
    "생존 할 수 있다. (6회에서 정확하게 7.5초간 이동하고 살아남는다)"
   ]
  },
  {
   "cell_type": "markdown",
   "id": "cad3d72e-d1c4-4094-9a5d-3439d6e76bf2",
   "metadata": {},
   "source": [
    "`-` 예시3"
   ]
  },
  {
   "cell_type": "markdown",
   "id": "06f054c1-e0a9-4f38-a5a9-ca127e9ff75f",
   "metadata": {},
   "source": [
    "400번 참가자의 경우 아래와 같이 이동하므로 \n",
    "\n",
    "| |1회 |2회 |3회 | 4회 | 5회 | 6회 |\n",
    "|:-:|:-:|:-:|:-:| :-:|:-:|:-:|\n",
    "|술래의 외침시간  | 10  | 9.5 | 9.0 | 8.5 | 8.0 | 7.5 |\n",
    "|참가자의 이동폭  | 4 | 5 | 6 | 7 | 8 | 5 |\n",
    "|참가자의 총 이동거리 | 4 | 9 | 15 | 22 | 30 | 35|"
   ]
  },
  {
   "cell_type": "markdown",
   "id": "812cbab8-52bf-4375-838b-f04b2cfae1f2",
   "metadata": {},
   "source": [
    "생존 할 수 있다. (6회에서 5초간만 이동하면 35만큼 이동하므로 살아남는다)"
   ]
  },
  {
   "cell_type": "markdown",
   "id": "b5b5f612-dc23-4a7c-be8d-b971fac403ca",
   "metadata": {
    "tags": []
   },
   "source": [
    "#### (a) 1번, 67번, 218번, 456번 참가자의 생존여부를 확인하는 함수를 작성하라. "
   ]
  },
  {
   "cell_type": "markdown",
   "id": "bf3f324d-7d86-4508-9491-f45bf72828d5",
   "metadata": {},
   "source": [
    "#### (b) 전체 생존자중 몇명이 살아남는지 계산하라. "
   ]
  },
  {
   "cell_type": "markdown",
   "id": "66d44080-37f9-4f85-850f-ac1a2e299475",
   "metadata": {},
   "source": [
    "### `9`. 다음을 잘 읽고 시각화 하라. (15점)"
   ]
  },
  {
   "cell_type": "markdown",
   "id": "d5ad8bf3-1e74-47bd-8c51-1364d8b4c3c5",
   "metadata": {},
   "source": [
    "다음은 인터넷에서 어떠한 자료를 다운받아 매트릭스로 저장하는 코드이다. \n",
    "```R\n",
    "df=read.csv(\"https://raw.githubusercontent.com/guebin/2021IR/master/_notebooks/round2.csv\")\n",
    "mat=as.matrix(df)\n",
    "```\n",
    "매트릭스는 `mat`이라는 변수에 저장되어 있다. "
   ]
  },
  {
   "cell_type": "markdown",
   "id": "999da42a-94e6-422b-91e0-d67fb711dfb9",
   "metadata": {},
   "source": [
    "#### (a) mat의 첫번째 열을 $x$, 두번째열을 $y$로 생각하고 plot함수를 통하여 아래와 같은 산점도를 그려라. "
   ]
  },
  {
   "cell_type": "markdown",
   "id": "86844ffa-aaa7-4844-8e68-17ec288634df",
   "metadata": {},
   "source": [
    "![](https://github.com/guebin/IR2021/blob/master/_notebooks/fig1.png?raw=true)"
   ]
  },
  {
   "cell_type": "markdown",
   "id": "151e7140-4578-415a-8998-7e356e91aa6e",
   "metadata": {},
   "source": [
    "#### (b) 매트릭스의 첫번째 행(first row)를 출력하는 코드를 작성하라.\n",
    "\n",
    "`-` 힌트: 출력결과는 (12,313)이 나와야 한다. "
   ]
  },
  {
   "cell_type": "markdown",
   "id": "5826c5df-69d7-4223-8a12-170cd5785afb",
   "metadata": {
    "tags": []
   },
   "source": [
    "#### (c) (b)의 결과에 아래의 연산을 수행하는 코드를 작성하라. "
   ]
  },
  {
   "cell_type": "markdown",
   "id": "b533a8e5-9eb4-4a80-b1a8-a0a403f67d4d",
   "metadata": {},
   "source": [
    "$$\n",
    "\\begin{bmatrix}\n",
    "0 & -1 \\\\\n",
    "-1 & 0 \n",
    "\\end{bmatrix} \\begin{bmatrix}\n",
    "12 \\\\\n",
    "313\n",
    "\\end{bmatrix} \n",
    "$$"
   ]
  },
  {
   "cell_type": "markdown",
   "id": "9de011d6-ec00-4e3f-b337-f3b1bab0b12b",
   "metadata": {
    "tags": []
   },
   "source": [
    "#### (d) (b)-(c) 과정을 mat의 모든행에 반복하여 새로운 매트릭스를 만들어라. \n",
    "\n",
    "`-` 힌트: 아래의 과정을 따른다.  \n",
    "- (i) mat와 동일한 dim을 가진 mat2를 만든다. \n",
    "- (ii) mat의 첫번째 행에 (b)-(c)의 과정을 적용하여 길이가 2인 벡터를 얻는다. \n",
    "- (iii) (ii)의 과정에서 얻은 벡터를 새로운 매트릭스의 첫번째 행에 넣는다. \n",
    "- (iv) mat의 두번째 행에 대하여 (ii)-(iii)의 과정을 반복한다. 이후 세번째, 네번째 행에 대하여 (ii)-(iii)의 과정을 반복한다. "
   ]
  },
  {
   "cell_type": "markdown",
   "id": "798d8edc-fc3c-478f-a9bd-ac3295e0ab1c",
   "metadata": {},
   "source": [
    "#### (e) (d)의 결과로 생성되 매트릭스의 첫번째 열을 x, 두번째 열을 y로 하고 산점도를 그려라. (점의 색은 붉은색으로 하라)\n",
    "\n",
    "`-` 힌트: 아래와 같은 그림이 나와야 한다. "
   ]
  },
  {
   "cell_type": "markdown",
   "id": "dae29d88-b2ac-4ec2-9c47-0a49e2745ae6",
   "metadata": {},
   "source": [
    "![](https://github.com/guebin/2021IR/blob/master/_notebooks/fig2.png?raw=true)"
   ]
  }
 ],
 "metadata": {
  "kernelspec": {
   "display_name": "R",
   "language": "R",
   "name": "ir"
  },
  "language_info": {
   "codemirror_mode": "r",
   "file_extension": ".r",
   "mimetype": "text/x-r-source",
   "name": "R",
   "pygments_lexer": "r",
   "version": "4.0.5"
  },
  "widgets": {
   "application/vnd.jupyter.widget-state+json": {
    "state": {},
    "version_major": 2,
    "version_minor": 0
   }
  }
 },
 "nbformat": 4,
 "nbformat_minor": 5
}
