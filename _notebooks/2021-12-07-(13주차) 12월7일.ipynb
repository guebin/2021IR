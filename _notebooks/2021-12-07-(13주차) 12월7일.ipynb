{
 "cells": [
  {
   "cell_type": "code",
   "execution_count": 21,
   "id": "c9c0b092-25da-47fb-b0a7-9a497a2f6a99",
   "metadata": {},
   "outputs": [],
   "source": [
    "#hide\n",
    "options(jupyter.plot_scale=3)\n",
    "options(jupyter.display_mimetypes=c(\"text/html\"))\n",
    "options(jupyter.rich_display=FALSE)\n",
    "options(repr.plot.width=6,repr.plot.height=6,repr.plot.res=300)\n",
    "options(max.print=200)"
   ]
  },
  {
   "cell_type": "markdown",
   "id": "34c12c91-a93a-4795-afe7-b901e8f1f6ae",
   "metadata": {
    "tags": []
   },
   "source": [
    "# (13주차) 12월7일 \n",
    "> 징검다리3 문제풀이 \n",
    "\n",
    "- toc:true\n",
    "- branch: master\n",
    "- badges: true\n",
    "- comments: true\n",
    "- author: 최규빈"
   ]
  },
  {
   "cell_type": "markdown",
   "id": "155ee125-afb7-4e57-9108-29c0d81ee541",
   "metadata": {},
   "source": [
    "### 강의영상 "
   ]
  },
  {
   "cell_type": "markdown",
   "id": "254c4990-03a5-4bb0-b0d5-fe3ddf9209ac",
   "metadata": {},
   "source": [
    "> youtube: https://youtube.com/playlist?list=PLQqh36zP38-w9GLOzp3kYz5bdu0SxtiIz"
   ]
  },
  {
   "cell_type": "markdown",
   "id": "9f19bbd5-6e0f-4280-8849-75c0d3440b86",
   "metadata": {},
   "source": [
    "`-` (1/2) 징검다리문제 III 해석적풀이 (1) \n",
    "\n",
    "`-` (2/2) 징검다리문제 III 해석적풀이 (1) "
   ]
  },
  {
   "cell_type": "markdown",
   "id": "66093a5c-1075-4ccf-bdf2-86ea83a48080",
   "metadata": {
    "tags": []
   },
   "source": [
    "### 징검다리 문제 III."
   ]
  },
  {
   "cell_type": "markdown",
   "id": "3f10270b-a0f5-49e1-8b7d-94f4f0f1a74c",
   "metadata": {},
   "source": [
    "강화유리와 유리를 구분할 수 있는 유리 장인이 있다. \n",
    "\n",
    "이 유리장인은 80퍼센트의 확률로 강화유리를 고른다. \n",
    "\n",
    "총 10명의 참가자가 있고 이 참가자들은 (유리,강화유리)의 조합으로 이루어진 징검다리를 5번연속으로 건너야 한다. \n",
    "\n",
    "아래의 경우에 참가자들은 평균적으로 몇명이 살아남겠는가? "
   ]
  },
  {
   "cell_type": "markdown",
   "id": "4bb73105-6db0-443b-965a-97754489ed5f",
   "metadata": {},
   "source": [
    "(1) 일반인1 - 일반인2 - .... - 일반인9 - 유리장인 || (강화유리, 유리) "
   ]
  },
  {
   "cell_type": "markdown",
   "id": "cd1cef8d-d91f-4152-8910-c9e66519ec67",
   "metadata": {},
   "source": [
    "(2) 유리장인 - 일반인1 - 일반인2 - ... - 일반인9 || (강화유리, 유리) "
   ]
  },
  {
   "cell_type": "markdown",
   "id": "e6a63a2c-e100-4774-96ef-81d9d0e2cfaf",
   "metadata": {},
   "source": [
    "1000번 시뮬레이션을 하여 결과를 추정하라. "
   ]
  },
  {
   "cell_type": "markdown",
   "id": "d41548bf-0335-4440-bd4e-98f93fdb59d0",
   "metadata": {},
   "source": [
    "***(단, 일반인은 50%의 확률로 강화유리를 고를수 있다고 하자)*** "
   ]
  },
  {
   "cell_type": "markdown",
   "id": "1057e101-dec3-4d8c-8240-a84d2edc15b9",
   "metadata": {},
   "source": [
    "---"
   ]
  },
  {
   "cell_type": "markdown",
   "id": "8a2aadf8-bf37-4a10-803e-8a9a0cf1dd28",
   "metadata": {},
   "source": [
    "**[예시]** (1)의 시뮬레이션 결과가 아래와 같다고 하자. "
   ]
  },
  {
   "cell_type": "markdown",
   "id": "bb70799d-5288-419a-b252-daf77294cb56",
   "metadata": {},
   "source": [
    "- 첫번째 징검다리: 유리장인이 강화유리 선택 \n",
    "- 두번째 징검다리: 유리장인이 강화유리 선택 \n",
    "- 세번째 징검다리: 유리장인이 일반유리 선택 $\\to$ 유리장인 탈락 & 일반인9는 당연히 강화유리를 선택 \n",
    "- 네번째 징검다리: 일반인9가 일반유리 선택 $\\to$ 일반인9 탈락 & 일반인8은 당연히 강화유리 선택 \n",
    "- 다섯번째 징검다리: 일반인8이 강화유리 선택 "
   ]
  },
  {
   "cell_type": "markdown",
   "id": "2892a22e-ad69-4bb9-9fcc-162bf1ae39e9",
   "metadata": {},
   "source": [
    "이 경우는 일반인8,일반인7, $\\dots$, 일반인1이 살아남으므로 8명이 살아남는다. "
   ]
  },
  {
   "cell_type": "markdown",
   "id": "38e44cbc-964a-46ed-a0b4-1957f0476805",
   "metadata": {},
   "source": [
    "**[예시]** (2)의 시뮬레이션 결과가 아래와 같다고 하자. "
   ]
  },
  {
   "cell_type": "markdown",
   "id": "f40091c7-53c9-4e75-82d5-a29235c1f3ee",
   "metadata": {},
   "source": [
    "- 첫번째 징검다리: 일반인9 일반유리 선택 $\\to$ 일반인9 탈락 & 일반인8은 강화유리 선택 \n",
    "- 두번째 징검다리: 일반인8 일반유리 선택 $\\to$ 일반인8 탈락 & 일반인7은 강화유리 선택 \n",
    "- 세번째 징검다리: 일반인7 일반유리 선택 $\\to$ 일반인7 탈락 & 일반인6은 강화유리 선택 \n",
    "- 네번째 징검다리: 일반인6 일반유리 선택 $\\to$ 일반인6 탈락 & 일반인5는 강화유리 선택 \n",
    "- 다섯번째 징검다리: 일반인5 일반유리 선택 $\\to$ 일반인5 탈락 & 일반인4는 강화유리 선택 "
   ]
  },
  {
   "cell_type": "markdown",
   "id": "59a7dfee-658f-40d4-8ea6-4c5d79cf0df0",
   "metadata": {},
   "source": [
    "이 경우는 일반인4,일반인3,일반인2,일반인1,유리장인 이 살아남는다. (따라서 5명)"
   ]
  },
  {
   "cell_type": "markdown",
   "id": "11a64b36-f59d-4b47-ae2d-28691e81c9bc",
   "metadata": {},
   "source": [
    "`-` 즉 살아남을수 있는 최대인원수는 10명이며 최소인원수는 5명이다. "
   ]
  },
  {
   "cell_type": "markdown",
   "id": "6e4b39b3-7889-4218-81cf-170f6f6cc51d",
   "metadata": {},
   "source": [
    "`-` 유리장인이 100%의 확률로 강화유리를 구분한다면 (1)의 경우 항상 10명이 살아남는다. (즉 평균도 10명) "
   ]
  },
  {
   "cell_type": "markdown",
   "id": "ad1bbaf1-ecb5-4780-88a1-0f9d0b1a9283",
   "metadata": {},
   "source": [
    "### 해석적 풀이 (=이론적 풀이) "
   ]
  },
  {
   "cell_type": "markdown",
   "id": "909e5be9-1571-4b31-94e0-502b8b73fbba",
   "metadata": {},
   "source": [
    "`-` 장인이 맨 앞에 있는 경우에 한정한 해석적 풀이 (=이론적 풀이) "
   ]
  },
  {
   "cell_type": "markdown",
   "id": "df351bdf-2e98-49d7-b935-19af0920c26b",
   "metadata": {},
   "source": [
    "`-` 10명이 살아남을 확률? $0.8^5$ "
   ]
  },
  {
   "cell_type": "markdown",
   "id": "04b18247-7227-4bb0-8ed3-aecd41c625d2",
   "metadata": {},
   "source": [
    "`-` 9명이 살아남을 확률? \n",
    "\n",
    "- 장인이 1번째 탈락 = $0.8^0 \\times 0.2 \\times 0.5^4$\n",
    "- 장인이 2번째 탈락 = $0.8^1 \\times 0.2 \\times 0.5^3$\n",
    "- 장인이 3번째 탈락 = $0.8^2 \\times 0.2 \\times 0.5^2$\n",
    "- 장인이 4번째 탈락 = $0.8^3 \\times 0.2 \\times 0.5^1$\n",
    "- 장인이 5번째 탈락 = $0.8^4 \\times 0.2 \\times 0.5^0$"
   ]
  },
  {
   "cell_type": "markdown",
   "id": "ef35f7ca-e150-4a0b-9548-7bb2766485c8",
   "metadata": {},
   "source": [
    "`-` 8명이 살아남을 확률? \n",
    "\n",
    "- 장인이 1번째 탈락 = $choose(4,1)\\times 0.8^0 \\times 0.2 \\times 0.5^4$\n",
    "    - 일반인이 2번째 탈락 = $0.8^0 \\times 0.2 \\times 0.5^4$\n",
    "    - 일반인이 3번째 탈락 = $0.8^0 \\times 0.2 \\times 0.5^4$\n",
    "    - 일반인이 4번째 탈락 = $0.8^0 \\times 0.2 \\times 0.5^4$\n",
    "    - 일반인이 5번째 탈락 = $0.8^0 \\times 0.2 \\times 0.5^4$\n",
    "- 장인이 2번째 탈락 = $choose(3,1)\\times 0.8^1 \\times 0.2 \\times 0.5^3$\n",
    "    - 일반인이 3번째 탈락 = $0.8^1 \\times 0.2 \\times 0.5^3$\n",
    "    - 일반인이 4번째 탈락 = $0.8^2 \\times 0.2 \\times 0.5^3$\n",
    "    - 일반인이 5번째 탈락 = $0.8^2 \\times 0.2 \\times 0.5^3$\n",
    "- 장인이 3번째 탈락 = $choose(2,1)\\times 0.8^2 \\times 0.2 \\times 0.5^2$\n",
    "    - 일반인이 4번째 탈락 = $0.8^2 \\times 0.2 \\times 0.5^2$\n",
    "    - 일반인이 5번째 탈락 = $0.8^2 \\times 0.2 \\times 0.5^2$\n",
    "- 장인이 4번째 탈락 = $choose(1,1) \\times 0.8^3 \\times 0.2 \\times 0.5^1$\n",
    "    - 일반인이 5번째 탈락 = $0.8^3 \\times 0.2 \\times 0.5^1$"
   ]
  },
  {
   "cell_type": "markdown",
   "id": "50311239-3899-4bfa-ae8c-64240a2a7dd6",
   "metadata": {},
   "source": [
    "`-` 7명이 살아남을 확률? \n",
    "\n",
    "- 장인이 1번째 탈락 = $choose(4,2)\\times 0.8^0 \\times 0.2 \\times 0.5^4$\n",
    "    - 일반인이 2,3번째 탈락 = $0.8^0 \\times 0.2 \\times 0.5^4$\n",
    "    - 일반인이 2,4번째 탈락 = $0.8^0 \\times 0.2 \\times 0.5^4$\n",
    "    - 일반인이 2,5번째 탈락 = $0.8^0 \\times 0.2 \\times 0.5^4$\n",
    "    - 일반인이 3,4번째 탈락 = $0.8^0 \\times 0.2 \\times 0.5^4$\n",
    "    - 일반인이 3,5번째 탈락 = $0.8^0 \\times 0.2 \\times 0.5^4$\n",
    "    - 일반인이 4,5번째 탈락 = $0.8^0 \\times 0.2 \\times 0.5^4$\n",
    "- 장인이 2번째 탈락 = $choose(3,2)\\times 0.8^1 \\times 0.2 \\times 0.5^3$\n",
    "    - 일반인이 3,4번째 탈락 = $0.8^1 \\times 0.2 \\times 0.5^3$\n",
    "    - 일반인이 3,5번째 탈락 = $0.8^2 \\times 0.2 \\times 0.5^3$\n",
    "    - 일반인이 4,5번째 탈락 = $0.8^2 \\times 0.2 \\times 0.5^3$\n",
    "- 장인이 3번째 탈락 = $choose(2,2)\\times 0.8^2 \\times 0.2 \\times 0.5^2$\n",
    "    - 일반인이 4,5번째 탈락 = $0.8^2 \\times 0.2 \\times 0.5^2$"
   ]
  },
  {
   "cell_type": "markdown",
   "id": "3e02a7ec-58b5-422c-9e5d-3be13c9368b0",
   "metadata": {},
   "source": [
    "`-` 6명이 살아남을 확률? \n",
    "\n",
    "- 장인이 1번째 탈락 = $choose(4,3)\\times 0.8^0 \\times 0.2 \\times 0.5^4$\n",
    "    - 일반인이 2,3,4번째 탈락 = $0.8^0 \\times 0.2 \\times 0.5^4$\n",
    "    - 일반인이 2,3,5번째 탈락 = $0.8^0 \\times 0.2 \\times 0.5^4$\n",
    "    - 일반인이 2,4,5번째 탈락 = $0.8^0 \\times 0.2 \\times 0.5^4$\n",
    "    - 일반인이 3,4,5번째 탈락 = $0.8^0 \\times 0.2 \\times 0.5^4$\n",
    "- 장인이 2번째 탈락 = $1\\times 0.8^1 \\times 0.2 \\times 0.5^3$\n",
    "    - 일반인이 3,4,5번째 탈락 = $0.8^1 \\times 0.2 \\times 0.5^3$"
   ]
  },
  {
   "cell_type": "markdown",
   "id": "e493740c-1689-44b2-ad06-e328004cde1c",
   "metadata": {},
   "source": [
    "`-` 5명이 살아남을 확률? $0.2 \\times 0.5^4$\n",
    "- 장인 + 일반인4명 연속탈락 "
   ]
  },
  {
   "cell_type": "markdown",
   "id": "17065914-1020-43ce-b236-18c6c6b493e8",
   "metadata": {},
   "source": [
    "`-` 계산기를 이용하여 확률을 계산하자. "
   ]
  },
  {
   "cell_type": "code",
   "execution_count": 22,
   "id": "8c19aaba-0c63-4ce9-b4aa-f223506d92f5",
   "metadata": {},
   "outputs": [
    {
     "data": {
      "text/plain": [
       "[1] 0.32768"
      ]
     },
     "metadata": {},
     "output_type": "display_data"
    }
   ],
   "source": [
    "## 10명 \n",
    "0.8^5"
   ]
  },
  {
   "cell_type": "code",
   "execution_count": 23,
   "id": "f9f3827e-6d03-4e88-ae52-5c80386860e8",
   "metadata": {},
   "outputs": [],
   "source": [
    "## 9명\n",
    "surv9_prob = c()\n",
    "for (i in 0:4) surv9_prob[i+1]= 0.8^i *0.2 *0.5^(4-i)"
   ]
  },
  {
   "cell_type": "code",
   "execution_count": 24,
   "id": "319faee9-3ea7-433c-bf7c-1c424eae077c",
   "metadata": {},
   "outputs": [
    {
     "data": {
      "text/plain": [
       "[1] 0.01250 0.02000 0.03200 0.05120 0.08192"
      ]
     },
     "metadata": {},
     "output_type": "display_data"
    }
   ],
   "source": [
    "surv9_prob"
   ]
  },
  {
   "cell_type": "code",
   "execution_count": 25,
   "id": "7ed2583e-d2c2-483c-978b-9f96641e56b9",
   "metadata": {},
   "outputs": [
    {
     "data": {
      "text/plain": [
       "[1] 0.19762"
      ]
     },
     "metadata": {},
     "output_type": "display_data"
    }
   ],
   "source": [
    "surv9_prob %>% sum"
   ]
  },
  {
   "cell_type": "code",
   "execution_count": 26,
   "id": "feab7cb4-9022-4ae9-83e3-83728ef0d89e",
   "metadata": {},
   "outputs": [],
   "source": [
    "## 8명\n",
    "surv8_prob = c()\n",
    "for (i in 0:3) surv8_prob[i+1]= choose(4-i,1)*0.8^i *0.2 *0.5^(4-i)\n",
    "## 7명\n",
    "surv7_prob = c()\n",
    "for (i in 0:2) surv7_prob[i+1]= choose(4-i,2)*0.8^i *0.2 *0.5^(4-i)\n",
    "## 6명 \n",
    "surv6_prob = c()\n",
    "for (i in 0:1) surv6_prob[i+1]= choose(4-i,3)*0.8^i *0.2 *0.5^(4-i)\n",
    "## 5명 \n",
    "surv5_prob = c()\n",
    "for (i in 0:0) surv5_prob[i+1]= choose(4-i,4)*0.8^i *0.2 *0.5^(4-i)"
   ]
  },
  {
   "cell_type": "markdown",
   "id": "04d83dfa-8ebe-43e1-9638-ba2290a5264c",
   "metadata": {},
   "source": [
    "`-` 확률의 총합"
   ]
  },
  {
   "cell_type": "code",
   "execution_count": 27,
   "id": "ae6ed2d6-7312-46a9-b1b1-ec5cf49d2844",
   "metadata": {},
   "outputs": [
    {
     "data": {
      "text/plain": [
       "[1] 1"
      ]
     },
     "metadata": {},
     "output_type": "display_data"
    }
   ],
   "source": [
    "0.8^5 + sum(surv9_prob) + sum(surv8_prob) + sum(surv7_prob) + sum(surv6_prob) +sum(surv5_prob)"
   ]
  },
  {
   "cell_type": "markdown",
   "id": "389c9961-58f5-4992-9cd7-5cb6c5e6f140",
   "metadata": {},
   "source": [
    "- 잘 구해진것 같다. "
   ]
  },
  {
   "cell_type": "markdown",
   "id": "07e6cc0a-5505-456d-9392-823413b58f99",
   "metadata": {},
   "source": [
    "`-` 평균 "
   ]
  },
  {
   "cell_type": "code",
   "execution_count": 28,
   "id": "37caf473-1f4c-45b2-8614-861a53e7a2d9",
   "metadata": {},
   "outputs": [
    {
     "data": {
      "text/plain": [
       "[1] 8.50848"
      ]
     },
     "metadata": {},
     "output_type": "display_data"
    }
   ],
   "source": [
    "0.8^5*10 + \n",
    "sum(surv9_prob)*9 + \n",
    "sum(surv8_prob)*8 + \n",
    "sum(surv7_prob)*7 + \n",
    "sum(surv6_prob)*6 +\n",
    "sum(surv5_prob)*5"
   ]
  }
 ],
 "metadata": {
  "kernelspec": {
   "display_name": "R",
   "language": "R",
   "name": "ir"
  },
  "language_info": {
   "codemirror_mode": "r",
   "file_extension": ".r",
   "mimetype": "text/x-r-source",
   "name": "R",
   "pygments_lexer": "r",
   "version": "4.0.5"
  }
 },
 "nbformat": 4,
 "nbformat_minor": 5
}
