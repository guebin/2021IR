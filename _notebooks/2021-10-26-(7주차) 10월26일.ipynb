{
 "cells": [
  {
   "cell_type": "code",
   "execution_count": 167,
   "id": "be0d2a73-b275-4beb-8b5e-8f18cc884122",
   "metadata": {},
   "outputs": [],
   "source": [
    "#hide\n",
    "options(jupyter.plot_scale=3)\n",
    "options(jupyter.rich_display=FALSE)\n",
    "options(repr.plot.width=6,repr.plot.height=6,repr.plot.res=300)\n",
    "options(max.print=1000)"
   ]
  },
  {
   "cell_type": "markdown",
   "id": "11d1814d-bcb9-444a-a060-26019ebacf21",
   "metadata": {
    "tags": []
   },
   "source": [
    "# (7주차) 10월26일\n",
    "> 볼링공문제, 벡터만 사용한 풀이, 매트릭스를 이용한 풀이, 데이터프레임을 활용한 풀이 \n",
    "\n",
    "- toc:true\n",
    "- branch: master\n",
    "- badges: true\n",
    "- comments: true\n",
    "- author: 최규빈"
   ]
  },
  {
   "cell_type": "markdown",
   "id": "2f1911f0-be01-4bfa-9f3d-633ae62aca85",
   "metadata": {},
   "source": [
    "> youtube: https://youtube.com/playlist?list=PLQqh36zP38-ybQhoFJmfVxU8zYJh8KZM2"
   ]
  },
  {
   "cell_type": "markdown",
   "id": "4b897b19-9c2d-4064-b527-3260927e76fc",
   "metadata": {},
   "source": [
    "`-` (1/5) 볼링공 문제풀이 (1) \n",
    "\n",
    "`-` (2/5) 볼링공 문제풀이 (2) \n",
    "\n",
    "`-` (3/5) 볼링공 문제풀이 (3) \n",
    "\n",
    "`-` (4/5) 볼링공 문제풀이 (4) \n",
    "\n",
    "`-` (5/5) 과제설명 "
   ]
  },
  {
   "cell_type": "markdown",
   "id": "de9fe124-9ad5-4334-8214-904cfefa0012",
   "metadata": {
    "tags": []
   },
   "source": [
    "### 볼링공문제 (2019 SW마에스트로 입학 테스트) "
   ]
  },
  {
   "cell_type": "markdown",
   "id": "1110ec10-48fb-4686-b548-6d424bf1c331",
   "metadata": {},
   "source": [
    "A,B 두 사람이 볼링을 치고 있습니다. 두 사람은 서로 무게가 다른 볼링공을 고르려고 합니다. 볼링공은 총 N개가 있으며 각 볼링공마다 무게가 적혀 있고, 공의 번호는 1번부터 순서대로 부여됩니다. 또한 같은 무게의 공이 여러개 있을 수 있지만, 서로 다른 공으로 간주합니다. 볼링공의 무게는 1부터 M까지의 자연수 형태로 존재합니다. \n",
    "\n",
    "예를들어 N이 5이고, M이 3이며 각각의 무게가 차례대로 1,3,2,3,2일 때 각 공의 번호가 차례대로 1번부터 5번까지 부여됩니다. 이때 두 사람이 고를 수 있는 볼링공 번호의 조합을 구하면 다음과 같습니다. \n",
    "\n",
    "(1번,2번), (1번,3번), (1번,4번), (1번,5번), (2번,3번), (2번,5번), (3번,4번), (4번,5번)\n",
    "\n",
    "결과적으로 두 사람이 공을 고르는 경우의 수는 8가지입니다. N개의 공의 무게가 각각 주어질 때, 두 사람이 볼링공을 고르는 경우의 수를 구하는 프로그램을 작성하세요. "
   ]
  },
  {
   "cell_type": "markdown",
   "id": "eed9c8a5-c678-465f-b796-a2e5688a9cb4",
   "metadata": {},
   "source": [
    "- 입력예시"
   ]
  },
  {
   "cell_type": "markdown",
   "id": "6ee62054-2e44-4c5c-b1f8-e8c8a1d3140e",
   "metadata": {},
   "source": [
    "```\n",
    "입력\n",
    "5 3 \n",
    "1 3 2 3 2 \n",
    "출력\n",
    "8\n",
    "``` "
   ]
  },
  {
   "cell_type": "markdown",
   "id": "c0589991-d7ed-43f1-b569-45c90ac440a8",
   "metadata": {},
   "source": [
    "#### 문제의 수학적표현 "
   ]
  },
  {
   "cell_type": "markdown",
   "id": "99d58894-1cfc-40b3-be27-4f1468bc1598",
   "metadata": {},
   "source": [
    "> $N$개의 볼링공의 무게를 각각 $x_1,\\dots,x_N$ 이라고 하자. (단, $x_1,\\dots, x_N$은 $\\{1,\\dots, M\\}$사의 자연수의 값을 가지며 서로 같은 값을 가질 수 있다) "
   ]
  },
  {
   "cell_type": "markdown",
   "id": "878583c8-3c30-4e40-89e8-e2cc2a1468ec",
   "metadata": {},
   "source": [
    "> 예시 $(a_1,\\dots, a_5)=(1,3,2,3,2)$ 일 경우 가능한 조합의 집합은 아래와 같다. \n",
    "$(a_1,a_2), (a_1,a_3), (a_1,a_4), (a_1,a_5), (a_2,a_3), (a_2,a_5), (a_3,a_4), (a_4,a_5)$"
   ]
  },
  {
   "cell_type": "markdown",
   "id": "ad88bf65-48f3-4b2b-b491-a8a98012472d",
   "metadata": {},
   "source": [
    "### 풀이1 "
   ]
  },
  {
   "cell_type": "code",
   "execution_count": 169,
   "id": "ca14eca8-db34-4f03-b9d9-4cc9fba35aa8",
   "metadata": {},
   "outputs": [],
   "source": [
    "a=c(1,3,2,3,2) "
   ]
  },
  {
   "cell_type": "code",
   "execution_count": 170,
   "id": "2c9c2062-8f78-4c45-a2c6-a097e7b2d2cb",
   "metadata": {},
   "outputs": [
    {
     "data": {
      "text/plain": [
       "[1] 1 3 2 3 2"
      ]
     },
     "metadata": {},
     "output_type": "display_data"
    }
   ],
   "source": [
    "a"
   ]
  },
  {
   "cell_type": "code",
   "execution_count": 173,
   "id": "da5dd37a-0012-41b3-b056-9c3040987b57",
   "metadata": {},
   "outputs": [
    {
     "data": {
      "text/plain": [
       "[1] 16"
      ]
     },
     "metadata": {},
     "output_type": "display_data"
    }
   ],
   "source": [
    "count=0 \n",
    "for (i in 1:5){\n",
    "    for (j in 1:5){\n",
    "        if(a[i]!=a[j]) count=count+1 \n",
    "    }\n",
    "}\n",
    "count"
   ]
  },
  {
   "cell_type": "markdown",
   "id": "b28aefe0-fbc8-4812-b7df-791e2c35a086",
   "metadata": {},
   "source": [
    "- 중복이 계산이 되어서 16이라는 값이 나왔다. (원래는 8이 나와야 한다.) "
   ]
  },
  {
   "cell_type": "markdown",
   "id": "17a4395b-9168-49e1-8e10-c24d32025188",
   "metadata": {},
   "source": [
    "`-` 아래와 같이 수정하면 된다."
   ]
  },
  {
   "cell_type": "code",
   "execution_count": 22,
   "id": "88ae30ec-6652-4bd8-a1ab-4c0d3d79db6c",
   "metadata": {},
   "outputs": [
    {
     "data": {
      "text/plain": [
       "[1] 8"
      ]
     },
     "metadata": {},
     "output_type": "display_data"
    }
   ],
   "source": [
    "count=0 \n",
    "for (i in 1:5){\n",
    "    for (j in 1:5){\n",
    "        if ((a[i]!=a[j]) & (j>i)) count=count+1 \n",
    "    }\n",
    "}\n",
    "count"
   ]
  },
  {
   "cell_type": "markdown",
   "id": "2f4a0bdc-b7a8-47c6-afd4-5e3c01bcaf07",
   "metadata": {},
   "source": [
    "### 풀이2 "
   ]
  },
  {
   "cell_type": "markdown",
   "id": "9c6530a5-ff92-44bc-ac45-9e51a99ce836",
   "metadata": {},
   "source": [
    "`-` ((a[i]!=a[j]) & (j>i)) 에서 (j>i) 는 for문 선언부에서 처리할 수 있다. "
   ]
  },
  {
   "cell_type": "code",
   "execution_count": 23,
   "id": "d2b17253-3d6e-404f-9008-53a2fd260700",
   "metadata": {},
   "outputs": [
    {
     "data": {
      "text/plain": [
       "[1] 8"
      ]
     },
     "metadata": {},
     "output_type": "display_data"
    }
   ],
   "source": [
    "count=0 \n",
    "for (i in 1:5){\n",
    "    for (j in i:5){\n",
    "        if (a[i]!=a[j]) count=count+1 \n",
    "    }\n",
    "}\n",
    "count"
   ]
  },
  {
   "cell_type": "markdown",
   "id": "4542859e-cd18-4925-8089-6e86136c17cc",
   "metadata": {},
   "source": [
    "### 풀이3"
   ]
  },
  {
   "cell_type": "code",
   "execution_count": 24,
   "id": "a99cb88a-5226-4815-bb21-d9747d0dfab0",
   "metadata": {},
   "outputs": [
    {
     "data": {
      "text/plain": [
       "      [,1] [,2]\n",
       " [1,] 0    0   \n",
       " [2,] 0    0   \n",
       " [3,] 0    0   \n",
       " [4,] 0    0   \n",
       " [5,] 0    0   \n",
       " [6,] 0    0   \n",
       " [7,] 0    0   \n",
       " [8,] 0    0   \n",
       " [9,] 0    0   \n",
       "[10,] 0    0   \n",
       "[11,] 0    0   \n",
       "[12,] 0    0   \n",
       "[13,] 0    0   \n",
       "[14,] 0    0   \n",
       "[15,] 0    0   \n",
       "[16,] 0    0   \n",
       "[17,] 0    0   \n",
       "[18,] 0    0   \n",
       "[19,] 0    0   \n",
       "[20,] 0    0   \n",
       "[21,] 0    0   \n",
       "[22,] 0    0   \n",
       "[23,] 0    0   \n",
       "[24,] 0    0   \n",
       "[25,] 0    0   "
      ]
     },
     "metadata": {},
     "output_type": "display_data"
    }
   ],
   "source": [
    "a=c(1,3,2,3,2) \n",
    "A=rep(0,25*2) \n",
    "dim(A)=c(25,2)\n",
    "A"
   ]
  },
  {
   "cell_type": "code",
   "execution_count": 25,
   "id": "f069a06d-3eb4-4535-bbf6-e2b9e42395a1",
   "metadata": {},
   "outputs": [],
   "source": [
    "k=1\n",
    "for (i in 1:5){\n",
    "    for (j in 1:5){\n",
    "        A[k,]<- c(a[i],a[j])\n",
    "        k=k+1\n",
    "    }\n",
    "}"
   ]
  },
  {
   "cell_type": "code",
   "execution_count": 26,
   "id": "463e9e58-bbfc-490f-9e91-ef79e263c7e5",
   "metadata": {},
   "outputs": [
    {
     "data": {
      "text/plain": [
       "      [,1] [,2]\n",
       " [1,] 1    1   \n",
       " [2,] 1    3   \n",
       " [3,] 1    2   \n",
       " [4,] 1    3   \n",
       " [5,] 1    2   \n",
       " [6,] 3    1   \n",
       " [7,] 3    3   \n",
       " [8,] 3    2   \n",
       " [9,] 3    3   \n",
       "[10,] 3    2   \n",
       "[11,] 2    1   \n",
       "[12,] 2    3   \n",
       "[13,] 2    2   \n",
       "[14,] 2    3   \n",
       "[15,] 2    2   \n",
       "[16,] 3    1   \n",
       "[17,] 3    3   \n",
       "[18,] 3    2   \n",
       "[19,] 3    3   \n",
       "[20,] 3    2   \n",
       "[21,] 2    1   \n",
       "[22,] 2    3   \n",
       "[23,] 2    2   \n",
       "[24,] 2    3   \n",
       "[25,] 2    2   "
      ]
     },
     "metadata": {},
     "output_type": "display_data"
    }
   ],
   "source": [
    "A"
   ]
  },
  {
   "cell_type": "markdown",
   "id": "9057b901-9df1-4231-939f-1808ebe52f44",
   "metadata": {},
   "source": [
    "`-` (1) 무게가 같은 것을 뽑지 않고 (2) 중복되는 경우를 제외 \n",
    "- 중복되는 경우를 제외한다는 말은 1번공-2번공 뽑는 경우와 2번공-1번공을 뽑는경우중 하나만 고려한다는 것을 의미"
   ]
  },
  {
   "cell_type": "code",
   "execution_count": 164,
   "id": "f4facb0e-322d-4014-bece-11ad6de322fe",
   "metadata": {},
   "outputs": [],
   "source": [
    "vec1<-c()\n",
    "vec2<-c()\n",
    "for(i in 1:25){\n",
    "    vec1[i] <- A[i,1] != A[i,2] \n",
    "    vec2[i] <- A[i,1] > A[i,2]\n",
    "}"
   ]
  },
  {
   "cell_type": "code",
   "execution_count": 28,
   "id": "4c5b956f-cb83-4c13-a8ce-28830fc3e758",
   "metadata": {},
   "outputs": [
    {
     "data": {
      "text/plain": [
       " [1] FALSE  TRUE  TRUE  TRUE  TRUE  TRUE FALSE  TRUE FALSE  TRUE  TRUE  TRUE\n",
       "[13] FALSE  TRUE FALSE  TRUE FALSE  TRUE FALSE  TRUE  TRUE  TRUE FALSE  TRUE\n",
       "[25] FALSE"
      ]
     },
     "metadata": {},
     "output_type": "display_data"
    }
   ],
   "source": [
    "vec1"
   ]
  },
  {
   "cell_type": "code",
   "execution_count": 29,
   "id": "2fa4c30b-dad0-45c5-bc37-c2d28501a6d0",
   "metadata": {},
   "outputs": [
    {
     "data": {
      "text/plain": [
       " [1] FALSE FALSE FALSE FALSE FALSE  TRUE FALSE  TRUE FALSE  TRUE  TRUE FALSE\n",
       "[13] FALSE FALSE FALSE  TRUE FALSE  TRUE FALSE  TRUE  TRUE FALSE FALSE FALSE\n",
       "[25] FALSE"
      ]
     },
     "metadata": {},
     "output_type": "display_data"
    }
   ],
   "source": [
    "vec2"
   ]
  },
  {
   "cell_type": "code",
   "execution_count": 30,
   "id": "595cb795-8380-49ff-a070-8679891aae03",
   "metadata": {},
   "outputs": [
    {
     "data": {
      "text/plain": [
       "[1] 8"
      ]
     },
     "metadata": {},
     "output_type": "display_data"
    }
   ],
   "source": [
    "sum(vec1 & vec2)"
   ]
  },
  {
   "cell_type": "markdown",
   "id": "07b7305b-02f0-4564-82ca-f8848636a7d1",
   "metadata": {},
   "source": [
    "### 풀이4"
   ]
  },
  {
   "cell_type": "markdown",
   "id": "1e89891e-8cc7-42a7-8fca-c7afba6ee30f",
   "metadata": {},
   "source": [
    "`-` vec1, vec2를 굳이 for문으로 구할필요가 없을것 같다. "
   ]
  },
  {
   "cell_type": "code",
   "execution_count": 31,
   "id": "7bcf40e7-6dd6-4c7a-85a9-5775f0e7ea19",
   "metadata": {},
   "outputs": [],
   "source": [
    "a=c(1,3,2,3,2) \n",
    "A=rep(0,25*2) \n",
    "dim(A)=c(25,2)\n",
    "k=1\n",
    "for (i in 1:5){\n",
    "    for (j in 1:5){\n",
    "        A[k,]<- c(a[i],a[j])\n",
    "        k=k+1\n",
    "    }\n",
    "}"
   ]
  },
  {
   "cell_type": "code",
   "execution_count": 32,
   "id": "6f142dc2-bd27-4c1b-9c5a-ff6fe2c9be1c",
   "metadata": {},
   "outputs": [
    {
     "data": {
      "text/plain": [
       "      [,1] [,2]\n",
       " [1,] 1    1   \n",
       " [2,] 1    3   \n",
       " [3,] 1    2   \n",
       " [4,] 1    3   \n",
       " [5,] 1    2   \n",
       " [6,] 3    1   \n",
       " [7,] 3    3   \n",
       " [8,] 3    2   \n",
       " [9,] 3    3   \n",
       "[10,] 3    2   \n",
       "[11,] 2    1   \n",
       "[12,] 2    3   \n",
       "[13,] 2    2   \n",
       "[14,] 2    3   \n",
       "[15,] 2    2   \n",
       "[16,] 3    1   \n",
       "[17,] 3    3   \n",
       "[18,] 3    2   \n",
       "[19,] 3    3   \n",
       "[20,] 3    2   \n",
       "[21,] 2    1   \n",
       "[22,] 2    3   \n",
       "[23,] 2    2   \n",
       "[24,] 2    3   \n",
       "[25,] 2    2   "
      ]
     },
     "metadata": {},
     "output_type": "display_data"
    }
   ],
   "source": [
    "A"
   ]
  },
  {
   "cell_type": "code",
   "execution_count": 33,
   "id": "5c597f78-21fd-4d49-90e8-650851f27915",
   "metadata": {},
   "outputs": [],
   "source": [
    "vec1<- A[,1]!=A[,2]"
   ]
  },
  {
   "cell_type": "code",
   "execution_count": 34,
   "id": "e3e68f41-2466-407f-a59d-725d1dfb9456",
   "metadata": {},
   "outputs": [],
   "source": [
    "vec2<- A[,1]>A[,2]"
   ]
  },
  {
   "cell_type": "code",
   "execution_count": 35,
   "id": "efd19687-9885-42e0-a4cb-0a077b94ed0a",
   "metadata": {},
   "outputs": [
    {
     "data": {
      "text/plain": [
       "[1] 8"
      ]
     },
     "metadata": {},
     "output_type": "display_data"
    }
   ],
   "source": [
    "sum(vec1&vec2)"
   ]
  },
  {
   "cell_type": "markdown",
   "id": "51b430d9-dba5-4a3e-82dd-213ea576b5f6",
   "metadata": {},
   "source": [
    "### 풀이5"
   ]
  },
  {
   "cell_type": "markdown",
   "id": "d6f91882-d232-4c28-b77b-4e03d5d0e81c",
   "metadata": {},
   "source": [
    "`-` 생각해보니까 단순히 첫번째 열이 두번쨰 열보다 큰지만 체크해도 된다. "
   ]
  },
  {
   "cell_type": "code",
   "execution_count": 37,
   "id": "21181fe8-ffc3-4a91-9228-5dcc6f38e912",
   "metadata": {},
   "outputs": [],
   "source": [
    "a=c(1,3,2,3,2) \n",
    "A=rep(0,25*2) \n",
    "dim(A)=c(25,2)\n",
    "k=1\n",
    "for (i in 1:5){\n",
    "    for (j in 1:5){\n",
    "        A[k,]<- c(a[i],a[j])\n",
    "        k=k+1\n",
    "    }\n",
    "}"
   ]
  },
  {
   "cell_type": "code",
   "execution_count": 38,
   "id": "d5dc0128-f7f3-4cc1-bbf8-caf650ed0db6",
   "metadata": {},
   "outputs": [
    {
     "data": {
      "text/plain": [
       "[1] 8"
      ]
     },
     "metadata": {},
     "output_type": "display_data"
    }
   ],
   "source": [
    "sum(A[,1]>A[,2])"
   ]
  },
  {
   "cell_type": "markdown",
   "id": "697900e8-313c-4435-a2da-5dfaa3837829",
   "metadata": {},
   "source": [
    "### 현재까지의 풀이정리 "
   ]
  },
  {
   "cell_type": "markdown",
   "id": "71f19004-02a1-4b8a-bbdc-b52a24eebbaa",
   "metadata": {},
   "source": [
    "`-` 풀이1-2: 매트릭스를 사용하지 않음. \n",
    "\n",
    "`-` 풀이3-5: 매트릭스를 사용함. \n",
    "\n",
    "`-` 현재까지는 풀이2가 가장 간결하고 루프도 적게돌아간다. 하지만 가장 중요한 일은 틀리지 않는 것인데 풀이2는 틀리기 쉬움 \n",
    "\n",
    "`-` 하지만 풀이2와 같은 접근법은 디버깅이 어렵다. $\\to$ 예외사항을 처리하기 어려움. \n",
    "\n",
    "`-` 특히 삼성에서 실시하는 코딩테스트 문제의 경우 예외사항을 잘 처리해야 하는 문제가 주로 출제된다고 한다. "
   ]
  },
  {
   "cell_type": "markdown",
   "id": "63b0a5e7-2902-4bf0-83d7-58261acb1ffd",
   "metadata": {},
   "source": [
    "### 풀이6 "
   ]
  },
  {
   "cell_type": "markdown",
   "id": "70a21c99-6df0-48f5-9649-fa4b82d7a342",
   "metadata": {},
   "source": [
    "`-` 사실 A를 구해주는 함수가 R에 존재함. "
   ]
  },
  {
   "cell_type": "code",
   "execution_count": 39,
   "id": "cdb35518-498f-41c2-8c24-e6f8c227202d",
   "metadata": {},
   "outputs": [
    {
     "data": {
      "text/plain": [
       "   Var1 Var2\n",
       "1  1    1   \n",
       "2  3    1   \n",
       "3  2    1   \n",
       "4  3    1   \n",
       "5  2    1   \n",
       "6  1    3   \n",
       "7  3    3   \n",
       "8  2    3   \n",
       "9  3    3   \n",
       "10 2    3   \n",
       "11 1    2   \n",
       "12 3    2   \n",
       "13 2    2   \n",
       "14 3    2   \n",
       "15 2    2   \n",
       "16 1    3   \n",
       "17 3    3   \n",
       "18 2    3   \n",
       "19 3    3   \n",
       "20 2    3   \n",
       "21 1    2   \n",
       "22 3    2   \n",
       "23 2    2   \n",
       "24 3    2   \n",
       "25 2    2   "
      ]
     },
     "metadata": {},
     "output_type": "display_data"
    }
   ],
   "source": [
    "a=c(1,3,2,3,2)\n",
    "A=expand.grid(a,a)\n",
    "A"
   ]
  },
  {
   "cell_type": "markdown",
   "id": "6c6b1c12-14ab-47ac-994b-70a216577153",
   "metadata": {},
   "source": [
    "- expand.grid(): 벡터를 입렵으로 받아서 그 벡터의 원소가 만들어내는 순서쌍 조합을 데이터프레임 형태로 리턴함\n",
    "- 데이터프레임 "
   ]
  },
  {
   "cell_type": "code",
   "execution_count": 40,
   "id": "9ff1a3da-276b-4467-ab5c-0168d349ebea",
   "metadata": {},
   "outputs": [
    {
     "name": "stderr",
     "output_type": "stream",
     "text": [
      "── \u001b[1mAttaching packages\u001b[22m ─────────────────────────────────────────────────────────────────────────────────────────────────────────────────────────────────── tidyverse 1.3.1 ──\n",
      "\n",
      "\u001b[32m✔\u001b[39m \u001b[34mggplot2\u001b[39m 3.3.5     \u001b[32m✔\u001b[39m \u001b[34mpurrr  \u001b[39m 0.3.4\n",
      "\u001b[32m✔\u001b[39m \u001b[34mtibble \u001b[39m 3.1.5     \u001b[32m✔\u001b[39m \u001b[34mdplyr  \u001b[39m 1.0.7\n",
      "\u001b[32m✔\u001b[39m \u001b[34mtidyr  \u001b[39m 1.1.4     \u001b[32m✔\u001b[39m \u001b[34mstringr\u001b[39m 1.4.0\n",
      "\u001b[32m✔\u001b[39m \u001b[34mreadr  \u001b[39m 2.0.2     \u001b[32m✔\u001b[39m \u001b[34mforcats\u001b[39m 0.5.1\n",
      "\n",
      "── \u001b[1mConflicts\u001b[22m ────────────────────────────────────────────────────────────────────────────────────────────────────────────────────────────────────── tidyverse_conflicts() ──\n",
      "\u001b[31m✖\u001b[39m \u001b[34mdplyr\u001b[39m::\u001b[32mfilter()\u001b[39m masks \u001b[34mstats\u001b[39m::filter()\n",
      "\u001b[31m✖\u001b[39m \u001b[34mdplyr\u001b[39m::\u001b[32mlag()\u001b[39m    masks \u001b[34mstats\u001b[39m::lag()\n",
      "\n"
     ]
    }
   ],
   "source": [
    "library(tidyverse)"
   ]
  },
  {
   "cell_type": "code",
   "execution_count": 41,
   "id": "99061ac2-97e2-4231-bb2a-e4b4742bb24d",
   "metadata": {},
   "outputs": [
    {
     "data": {
      "text/plain": [
       "   Var1 Var2 C    \n",
       "1  1    1    FALSE\n",
       "2  3    1     TRUE\n",
       "3  2    1     TRUE\n",
       "4  3    1     TRUE\n",
       "5  2    1     TRUE\n",
       "6  1    3    FALSE\n",
       "7  3    3    FALSE\n",
       "8  2    3    FALSE\n",
       "9  3    3    FALSE\n",
       "10 2    3    FALSE\n",
       "11 1    2    FALSE\n",
       "12 3    2     TRUE\n",
       "13 2    2    FALSE\n",
       "14 3    2     TRUE\n",
       "15 2    2    FALSE\n",
       "16 1    3    FALSE\n",
       "17 3    3    FALSE\n",
       "18 2    3    FALSE\n",
       "19 3    3    FALSE\n",
       "20 2    3    FALSE\n",
       "21 1    2    FALSE\n",
       "22 3    2     TRUE\n",
       "23 2    2    FALSE\n",
       "24 3    2     TRUE\n",
       "25 2    2    FALSE"
      ]
     },
     "metadata": {},
     "output_type": "display_data"
    }
   ],
   "source": [
    "A %>% mutate(C= Var1> Var2)"
   ]
  },
  {
   "cell_type": "markdown",
   "id": "8a48c087-e26d-47e1-99f5-dd22109b46c0",
   "metadata": {},
   "source": [
    "- mutate(): 데이터프레임에서 새로운 column을 추가하는 기능 (기존의 컬럼을 활용하여 새로운 파생되는 칼럼을 쉽게 만들 수 있다) "
   ]
  },
  {
   "cell_type": "code",
   "execution_count": 42,
   "id": "7d067934-3546-4722-8074-7007f0f76d55",
   "metadata": {},
   "outputs": [
    {
     "data": {
      "text/plain": [
       "  Var1 Var2 C   \n",
       "1 3    1    TRUE\n",
       "2 2    1    TRUE\n",
       "3 3    1    TRUE\n",
       "4 2    1    TRUE\n",
       "5 3    2    TRUE\n",
       "6 3    2    TRUE\n",
       "7 3    2    TRUE\n",
       "8 3    2    TRUE"
      ]
     },
     "metadata": {},
     "output_type": "display_data"
    }
   ],
   "source": [
    "A %>% mutate(C= Var1> Var2) %>% filter(C == TRUE)"
   ]
  },
  {
   "cell_type": "markdown",
   "id": "792cfc09-3490-48f9-a35e-7a5827164718",
   "metadata": {},
   "source": [
    "- filter(): 데이터프레임에서 특정조건을 만족하는 행을 필터링 하는 기능 "
   ]
  },
  {
   "cell_type": "code",
   "execution_count": 43,
   "id": "4c43a892-5bf5-4fa6-b97a-9535a491281a",
   "metadata": {},
   "outputs": [
    {
     "data": {
      "text/plain": [
       "  n\n",
       "1 8"
      ]
     },
     "metadata": {},
     "output_type": "display_data"
    }
   ],
   "source": [
    "A %>% mutate(C= Var1> Var2) %>% filter(C == TRUE) %>% count"
   ]
  },
  {
   "cell_type": "markdown",
   "id": "2490d6ed-dde8-44d7-a0ef-d6258d8d40a2",
   "metadata": {},
   "source": [
    "- count(): 데이터프레임의 행의 숫자를 세어주는 기능 "
   ]
  },
  {
   "cell_type": "markdown",
   "id": "872fb22d-fe91-4c5f-9d24-e90ce76def0e",
   "metadata": {},
   "source": [
    "`-` 결과가 데이터프레임으로 나옴 $\\to$ 숫자가 하나인데 굳이 데이터프레임이 자료형일 이유는 없음 (다루기 불편)"
   ]
  },
  {
   "cell_type": "code",
   "execution_count": 44,
   "id": "5abdb0d5-cc23-411e-9bf3-2b639fb51521",
   "metadata": {},
   "outputs": [],
   "source": [
    "A %>% mutate(C= Var1> Var2) %>% filter(C == TRUE) %>% count -> rslt"
   ]
  },
  {
   "cell_type": "code",
   "execution_count": 45,
   "id": "bf292740-402b-48b0-950b-249cb4e2588d",
   "metadata": {},
   "outputs": [
    {
     "data": {
      "text/plain": [
       "  n \n",
       "1 28"
      ]
     },
     "metadata": {},
     "output_type": "display_data"
    }
   ],
   "source": [
    "rslt+20"
   ]
  },
  {
   "cell_type": "code",
   "execution_count": 46,
   "id": "95809a8d-9543-4d51-8368-66e4fb5267f2",
   "metadata": {},
   "outputs": [
    {
     "data": {
      "text/plain": [
       "[1] 1 2 3 4 5 6 7 8"
      ]
     },
     "metadata": {},
     "output_type": "display_data"
    }
   ],
   "source": [
    "1:8"
   ]
  },
  {
   "cell_type": "code",
   "execution_count": 47,
   "id": "c5638fa6-f09c-4e8b-9bfa-ad5aacc33de3",
   "metadata": {},
   "outputs": [
    {
     "ename": "ERROR",
     "evalue": "Error in 1:rslt: NA/NaN argument\n",
     "output_type": "error",
     "traceback": [
      "Error in 1:rslt: NA/NaN argument\nTraceback:\n"
     ]
    }
   ],
   "source": [
    "1:rslt"
   ]
  },
  {
   "cell_type": "markdown",
   "id": "46e762fd-7660-4412-a7a8-6592e4b85cbb",
   "metadata": {},
   "source": [
    "`-` 숫자로 만들기 위해서 as.numeric() 함수를 사용하면 된다. "
   ]
  },
  {
   "cell_type": "code",
   "execution_count": 48,
   "id": "8fd9d88b-e006-4207-b45a-902be52671e9",
   "metadata": {},
   "outputs": [
    {
     "data": {
      "text/plain": [
       "[1] 8"
      ]
     },
     "metadata": {},
     "output_type": "display_data"
    }
   ],
   "source": [
    "as.numeric(rslt)"
   ]
  },
  {
   "cell_type": "code",
   "execution_count": 49,
   "id": "ca403403-bf30-4903-aa0b-836354fb5b31",
   "metadata": {},
   "outputs": [
    {
     "data": {
      "text/plain": [
       "[1] 8"
      ]
     },
     "metadata": {},
     "output_type": "display_data"
    }
   ],
   "source": [
    "A %>% mutate(C= Var1> Var2) %>% filter(C == TRUE) %>% count %>% as.numeric"
   ]
  },
  {
   "cell_type": "markdown",
   "id": "cefcb919-df48-44a4-80f0-89440d7a90e4",
   "metadata": {},
   "source": [
    "### 숙제"
   ]
  },
  {
   "cell_type": "code",
   "execution_count": 50,
   "id": "6bf920ef-eff8-4412-9958-cebd0873133c",
   "metadata": {},
   "outputs": [
    {
     "data": {
      "text/plain": [
       "   Var1 Var2 C \n",
       "1  1    1     0\n",
       "2  3    1     2\n",
       "3  2    1     1\n",
       "4  3    1     2\n",
       "5  2    1     1\n",
       "6  1    3    -2\n",
       "7  3    3     0\n",
       "8  2    3    -1\n",
       "9  3    3     0\n",
       "10 2    3    -1\n",
       "11 1    2    -1\n",
       "12 3    2     1\n",
       "13 2    2     0\n",
       "14 3    2     1\n",
       "15 2    2     0\n",
       "16 1    3    -2\n",
       "17 3    3     0\n",
       "18 2    3    -1\n",
       "19 3    3     0\n",
       "20 2    3    -1\n",
       "21 1    2    -1\n",
       "22 3    2     1\n",
       "23 2    2     0\n",
       "24 3    2     1\n",
       "25 2    2     0"
      ]
     },
     "metadata": {},
     "output_type": "display_data"
    }
   ],
   "source": [
    "A %>% mutate(C= Var1 -Var2)"
   ]
  }
 ],
 "metadata": {
  "kernelspec": {
   "display_name": "R",
   "language": "R",
   "name": "ir"
  },
  "language_info": {
   "codemirror_mode": "r",
   "file_extension": ".r",
   "mimetype": "text/x-r-source",
   "name": "R",
   "pygments_lexer": "r",
   "version": "4.0.5"
  }
 },
 "nbformat": 4,
 "nbformat_minor": 5
}
