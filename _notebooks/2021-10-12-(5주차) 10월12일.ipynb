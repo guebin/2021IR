{
 "cells": [
  {
   "cell_type": "code",
   "execution_count": 2,
   "id": "047d9bfa-b5e2-4956-95d0-1ff7720d3a2b",
   "metadata": {},
   "outputs": [],
   "source": [
    "#hide\n",
    "options(jupyter.plot_scale=3)\n",
    "options(jupyter.display_mimetypes=c(\"text/html\"))\n",
    "options(jupyter.rich_display=FALSE)\n",
    "options(repr.plot.width=6,repr.plot.height=6,repr.plot.res=300)\n",
    "options(max.print=1000)"
   ]
  },
  {
   "cell_type": "markdown",
   "id": "2dbaa46a-7f5a-4b00-91e6-0483016132f1",
   "metadata": {
    "tags": []
   },
   "source": [
    "# (5주차) 10월12일\n",
    "> 기타연산자 \n",
    "\n",
    "- toc:true\n",
    "- branch: master\n",
    "- badges: true\n",
    "- comments: true\n",
    "- author: 최규빈"
   ]
  },
  {
   "cell_type": "markdown",
   "id": "f12609cf-c8f2-4a04-9ed4-6723de62449c",
   "metadata": {},
   "source": [
    "> youtube: https://youtube.com/playlist?list=PLQqh36zP38-ysaiWqUZafZ6vfB1EZ3yAL"
   ]
  },
  {
   "cell_type": "markdown",
   "id": "084e4615-7f51-4a09-ad29-ed74c31cdd0c",
   "metadata": {},
   "source": [
    "`-` (1/4) 기타연산자 (1)\n",
    "\n",
    "`-` (1/4) 기타연산자 (2)\n",
    "\n",
    "`-` (3/4) 기타연산자 (3) \n",
    "\n",
    "`-` (4/4) 숙제해설"
   ]
  },
  {
   "cell_type": "markdown",
   "id": "4df0b30d-8e6e-4d33-ae94-4217f7864091",
   "metadata": {},
   "source": [
    "### 할당연산자"
   ]
  },
  {
   "cell_type": "markdown",
   "id": "1ac3a20c-0eee-4aa7-b730-f416f99fb389",
   "metadata": {},
   "source": [
    "`-` 예제1"
   ]
  },
  {
   "cell_type": "code",
   "execution_count": 4,
   "id": "678986f5-00d1-49fd-baa0-0674a50ac796",
   "metadata": {},
   "outputs": [],
   "source": [
    "a<-1  "
   ]
  },
  {
   "cell_type": "code",
   "execution_count": 5,
   "id": "3d305814-2018-4bf7-ac14-2171ef3d9504",
   "metadata": {},
   "outputs": [
    {
     "data": {
      "text/plain": [
       "[1] 1"
      ]
     },
     "metadata": {},
     "output_type": "display_data"
    }
   ],
   "source": [
    "a"
   ]
  },
  {
   "cell_type": "code",
   "execution_count": 8,
   "id": "e6bd1d05-ff04-4eca-aab8-5a80644f168d",
   "metadata": {},
   "outputs": [],
   "source": [
    "a=10"
   ]
  },
  {
   "cell_type": "code",
   "execution_count": 9,
   "id": "5d446910-130d-4e51-851c-17f27b2a7503",
   "metadata": {},
   "outputs": [
    {
     "data": {
      "text/plain": [
       "[1] 10"
      ]
     },
     "metadata": {},
     "output_type": "display_data"
    }
   ],
   "source": [
    "a"
   ]
  },
  {
   "cell_type": "markdown",
   "id": "2bde8031-360f-4590-b5fe-bf45efbe4a15",
   "metadata": {},
   "source": [
    "`-` 예제2"
   ]
  },
  {
   "cell_type": "code",
   "execution_count": 10,
   "id": "a2c14a81-dd3d-463d-92ac-7419bb6c796f",
   "metadata": {},
   "outputs": [],
   "source": [
    "2 -> a "
   ]
  },
  {
   "cell_type": "code",
   "execution_count": 11,
   "id": "2f435ccf-ae6f-450c-ae49-08f26ae6e1f1",
   "metadata": {},
   "outputs": [
    {
     "data": {
      "text/plain": [
       "[1] 2"
      ]
     },
     "metadata": {},
     "output_type": "display_data"
    }
   ],
   "source": [
    "a"
   ]
  },
  {
   "cell_type": "markdown",
   "id": "fb68f896-fcea-4f91-8478-469ffbfd1f0b",
   "metadata": {},
   "source": [
    "`-` 잘못된사용"
   ]
  },
  {
   "cell_type": "code",
   "execution_count": 12,
   "id": "fd8c0b39-894e-46ee-a28d-4369e3fe3db7",
   "metadata": {},
   "outputs": [
    {
     "ename": "ERROR",
     "evalue": "Error in 2 = a: invalid (do_set) left-hand side to assignment\n",
     "output_type": "error",
     "traceback": [
      "Error in 2 = a: invalid (do_set) left-hand side to assignment\nTraceback:\n"
     ]
    }
   ],
   "source": [
    "2 = a"
   ]
  },
  {
   "cell_type": "markdown",
   "id": "31fcc0b2-8d83-4334-8ff7-41e9e948e17d",
   "metadata": {},
   "source": [
    "`-` 예제3"
   ]
  },
  {
   "cell_type": "code",
   "execution_count": 13,
   "id": "1f5c19f2-a407-448e-a673-60a22d64ce6f",
   "metadata": {},
   "outputs": [],
   "source": [
    "a<-b<-3 "
   ]
  },
  {
   "cell_type": "code",
   "execution_count": 14,
   "id": "27da06d8-a4a4-498c-9e5b-37ad8be038c2",
   "metadata": {},
   "outputs": [
    {
     "data": {
      "text/plain": [
       "[1] 3 3"
      ]
     },
     "metadata": {},
     "output_type": "display_data"
    }
   ],
   "source": [
    "c(a,b)"
   ]
  },
  {
   "cell_type": "code",
   "execution_count": 16,
   "id": "aa0d4d65-dcfa-4fb5-b167-da05535c4022",
   "metadata": {},
   "outputs": [],
   "source": [
    "a=b=4"
   ]
  },
  {
   "cell_type": "code",
   "execution_count": 17,
   "id": "44284f8b-b650-4289-af74-d40c0d052a44",
   "metadata": {},
   "outputs": [
    {
     "data": {
      "text/plain": [
       "[1] 4 4"
      ]
     },
     "metadata": {},
     "output_type": "display_data"
    }
   ],
   "source": [
    "c(a,b) "
   ]
  },
  {
   "cell_type": "markdown",
   "id": "166bed84-aafc-47aa-9701-53e56e384541",
   "metadata": {},
   "source": [
    "`-` 잘못된사용 "
   ]
  },
  {
   "cell_type": "code",
   "execution_count": 18,
   "id": "146d17bc-507c-4153-8d41-c016aa943c10",
   "metadata": {},
   "outputs": [
    {
     "ename": "ERROR",
     "evalue": "Error in 3 <- b: invalid (do_set) left-hand side to assignment\n",
     "output_type": "error",
     "traceback": [
      "Error in 3 <- b: invalid (do_set) left-hand side to assignment\nTraceback:\n"
     ]
    }
   ],
   "source": [
    "a<-3<-b "
   ]
  },
  {
   "cell_type": "code",
   "execution_count": 19,
   "id": "e7df9291-7a23-4686-9a71-6bd0b07924ab",
   "metadata": {},
   "outputs": [
    {
     "ename": "ERROR",
     "evalue": "Error in 3 <- b: invalid (do_set) left-hand side to assignment\n",
     "output_type": "error",
     "traceback": [
      "Error in 3 <- b: invalid (do_set) left-hand side to assignment\nTraceback:\n"
     ]
    }
   ],
   "source": [
    "3<-b"
   ]
  },
  {
   "cell_type": "markdown",
   "id": "7d813abf-7038-4981-98d1-386053960b5b",
   "metadata": {},
   "source": [
    "`-` 잘못된사용 "
   ]
  },
  {
   "cell_type": "code",
   "execution_count": 21,
   "id": "b0c880eb-a216-40aa-be7f-e3d2d1a027ca",
   "metadata": {},
   "outputs": [
    {
     "ename": "ERROR",
     "evalue": "Error in 3 = b: invalid (do_set) left-hand side to assignment\n",
     "output_type": "error",
     "traceback": [
      "Error in 3 = b: invalid (do_set) left-hand side to assignment\nTraceback:\n"
     ]
    }
   ],
   "source": [
    "a=3=b "
   ]
  },
  {
   "cell_type": "markdown",
   "id": "a8a9e427-686d-4c8d-96a2-7530687e25e2",
   "metadata": {},
   "source": [
    "`-` 예제4"
   ]
  },
  {
   "cell_type": "code",
   "execution_count": 22,
   "id": "6776b032-f2ca-405a-aa75-320438d91994",
   "metadata": {},
   "outputs": [],
   "source": [
    "a<- 5 -> b "
   ]
  },
  {
   "cell_type": "code",
   "execution_count": 23,
   "id": "9f55d2c3-f753-4599-8a72-61773d52fb2a",
   "metadata": {},
   "outputs": [
    {
     "data": {
      "text/plain": [
       "[1] 5 5"
      ]
     },
     "metadata": {},
     "output_type": "display_data"
    }
   ],
   "source": [
    "c(a,b)"
   ]
  },
  {
   "cell_type": "markdown",
   "id": "b8ad1549-8f2e-4c36-8de0-5e2cf878bab7",
   "metadata": {},
   "source": [
    "`-` 예제5"
   ]
  },
  {
   "cell_type": "code",
   "execution_count": 24,
   "id": "de8b5c26-4abb-44dc-940a-f59a2bcb9b52",
   "metadata": {},
   "outputs": [],
   "source": [
    "f <- function(x) x**2 "
   ]
  },
  {
   "cell_type": "code",
   "execution_count": 26,
   "id": "0812379d-be86-47ec-bfea-8351bc0fdcb4",
   "metadata": {},
   "outputs": [
    {
     "data": {
      "text/plain": [
       "[1] 10000"
      ]
     },
     "metadata": {},
     "output_type": "display_data"
    }
   ],
   "source": [
    "f(100)"
   ]
  },
  {
   "cell_type": "code",
   "execution_count": 27,
   "id": "82a2dd22-06df-4c5f-94f3-2b29ea66387e",
   "metadata": {},
   "outputs": [],
   "source": [
    "f = function(x) x**2 "
   ]
  },
  {
   "cell_type": "code",
   "execution_count": 29,
   "id": "99899150-b25e-4a6e-b3e6-6bce6c696c79",
   "metadata": {},
   "outputs": [
    {
     "data": {
      "text/plain": [
       "[1] 64"
      ]
     },
     "metadata": {},
     "output_type": "display_data"
    }
   ],
   "source": [
    "f(8)"
   ]
  },
  {
   "cell_type": "markdown",
   "id": "742fe43a-7cbc-4497-bdf3-9f23d58fb545",
   "metadata": {},
   "source": [
    "`-` 개인적으로는 <- 를 없애고 = 할당만 있는것도 좋을것 같다. 왜냐하면 "
   ]
  },
  {
   "cell_type": "code",
   "execution_count": 35,
   "id": "95dcfd20-f2c0-460b-92dc-413bbe123225",
   "metadata": {},
   "outputs": [],
   "source": [
    "a=-2  "
   ]
  },
  {
   "cell_type": "code",
   "execution_count": 36,
   "id": "920e815e-c63d-4e33-85ef-5a5fedc5c231",
   "metadata": {},
   "outputs": [
    {
     "data": {
      "text/plain": [
       "[1] FALSE"
      ]
     },
     "metadata": {},
     "output_type": "display_data"
    }
   ],
   "source": [
    "a< -3"
   ]
  },
  {
   "cell_type": "code",
   "execution_count": 37,
   "id": "fd13f54a-9135-473d-a3f1-4b76813ae65c",
   "metadata": {},
   "outputs": [],
   "source": [
    "a<-3  "
   ]
  },
  {
   "cell_type": "code",
   "execution_count": 38,
   "id": "fbe70ec0-38a7-4653-af76-c9b05448d33a",
   "metadata": {},
   "outputs": [
    {
     "data": {
      "text/plain": [
       "[1] 3"
      ]
     },
     "metadata": {},
     "output_type": "display_data"
    }
   ],
   "source": [
    "a"
   ]
  },
  {
   "cell_type": "markdown",
   "id": "c63b33d5-c49e-49db-bf19-0092636d8f1c",
   "metadata": {},
   "source": [
    "와 같이 헷갈리는 상황이 종종 발생하기 때문 "
   ]
  },
  {
   "cell_type": "markdown",
   "id": "5cd0cdb0-42d4-4ebf-a25b-f4edb12b1540",
   "metadata": {},
   "source": [
    "### `:`연산자 "
   ]
  },
  {
   "cell_type": "markdown",
   "id": "70bc971f-54f1-4ef6-b2a0-18bf0cd46b2b",
   "metadata": {},
   "source": [
    "`-` 예제1"
   ]
  },
  {
   "cell_type": "code",
   "execution_count": 39,
   "id": "e3e0bc82-37fc-4edd-aa0b-edfff3822686",
   "metadata": {},
   "outputs": [
    {
     "data": {
      "text/plain": [
       "[1] 4 5 6"
      ]
     },
     "metadata": {},
     "output_type": "display_data"
    }
   ],
   "source": [
    "4:6 "
   ]
  },
  {
   "cell_type": "code",
   "execution_count": 40,
   "id": "118b56ed-b131-4baf-97bb-a91e39e86a60",
   "metadata": {},
   "outputs": [
    {
     "data": {
      "text/plain": [
       "[1] 6 5 4"
      ]
     },
     "metadata": {},
     "output_type": "display_data"
    }
   ],
   "source": [
    "6:4"
   ]
  },
  {
   "cell_type": "markdown",
   "id": "780136a5-17bb-4752-8c99-ffc96c9df6d3",
   "metadata": {},
   "source": [
    "### `()`연산자 "
   ]
  },
  {
   "cell_type": "markdown",
   "id": "6e58a530-b222-40e8-acba-b82104c6b0ee",
   "metadata": {},
   "source": [
    "`-` 예제1"
   ]
  },
  {
   "cell_type": "code",
   "execution_count": 42,
   "id": "d9a7872f-46de-4849-8cb1-5a5daccc084e",
   "metadata": {},
   "outputs": [
    {
     "data": {
      "text/plain": [
       "[1] 15"
      ]
     },
     "metadata": {},
     "output_type": "display_data"
    }
   ],
   "source": [
    "3+4*3"
   ]
  },
  {
   "cell_type": "code",
   "execution_count": 43,
   "id": "55733936-dc8e-42ac-b2cf-5a75ca79f80d",
   "metadata": {},
   "outputs": [
    {
     "data": {
      "text/plain": [
       "[1] 21"
      ]
     },
     "metadata": {},
     "output_type": "display_data"
    }
   ],
   "source": [
    "(3+4)*3"
   ]
  },
  {
   "cell_type": "markdown",
   "id": "00495d1d-5e0e-474e-a4ec-50a83f73b3fe",
   "metadata": {},
   "source": [
    "`-` 예제2: 표현식을 만들때 연산자 우선순위에 대한 자신이 없는 경우 사용 "
   ]
  },
  {
   "cell_type": "code",
   "execution_count": 44,
   "id": "1e19d63d-b554-4bca-a2c2-25bcb9a07015",
   "metadata": {},
   "outputs": [
    {
     "data": {
      "text/plain": [
       "[1] 2 4 6"
      ]
     },
     "metadata": {},
     "output_type": "display_data"
    }
   ],
   "source": [
    "1:3*2 "
   ]
  },
  {
   "cell_type": "code",
   "execution_count": 45,
   "id": "13aa1f49-202c-4c4b-af04-4d575f91238e",
   "metadata": {},
   "outputs": [
    {
     "data": {
      "text/plain": [
       "[1] 2 4 6"
      ]
     },
     "metadata": {},
     "output_type": "display_data"
    }
   ],
   "source": [
    "(1:3)*2"
   ]
  },
  {
   "cell_type": "code",
   "execution_count": 46,
   "id": "60566131-911a-4978-b8ac-b0b47f7aaa98",
   "metadata": {},
   "outputs": [
    {
     "data": {
      "text/plain": [
       "[1] 1 2 3 4 5 6"
      ]
     },
     "metadata": {},
     "output_type": "display_data"
    }
   ],
   "source": [
    "1:(3*2) "
   ]
  },
  {
   "cell_type": "markdown",
   "id": "4229ac9c-d908-4457-ab7c-70255b339465",
   "metadata": {},
   "source": [
    "### `{}`연산자: 여러개의 표현식을 하나의 표현식처럼!"
   ]
  },
  {
   "cell_type": "markdown",
   "id": "cace06a5-fe33-49d2-bf8c-0a6a6b19201f",
   "metadata": {},
   "source": [
    "`-` 주로 if, for, function과 함께 사용된다. "
   ]
  },
  {
   "cell_type": "markdown",
   "id": "3cafba92-5d6e-4bdf-b19d-04aae81df3be",
   "metadata": {},
   "source": [
    "`-` 예제1"
   ]
  },
  {
   "cell_type": "code",
   "execution_count": 48,
   "id": "7fbdec00-1387-4071-bf8e-fd2523ff4f3e",
   "metadata": {},
   "outputs": [],
   "source": [
    "x<-6\n",
    "if(x>5){\n",
    "    x<-10\n",
    "    y<-20\n",
    "}"
   ]
  },
  {
   "cell_type": "code",
   "execution_count": 49,
   "id": "171cd5ba-7233-46e4-a332-58cf23b4432f",
   "metadata": {},
   "outputs": [
    {
     "data": {
      "text/plain": [
       "[1] 10 20"
      ]
     },
     "metadata": {},
     "output_type": "display_data"
    }
   ],
   "source": [
    "c(x,y)"
   ]
  },
  {
   "cell_type": "markdown",
   "id": "fae504db-e016-497e-8cdc-5ccb9615c8eb",
   "metadata": {},
   "source": [
    "### `[]`연산자: 원소참조 연산자"
   ]
  },
  {
   "cell_type": "markdown",
   "id": "358a58a3-a76d-4ff3-9d04-19adadbea321",
   "metadata": {},
   "source": [
    "`-` 예제1"
   ]
  },
  {
   "cell_type": "code",
   "execution_count": 51,
   "id": "a2ff7d87-96bd-41cf-99e7-eed409198955",
   "metadata": {},
   "outputs": [
    {
     "data": {
      "text/plain": [
       "[1]  6  5  4  3  2  1  0 -1 -2"
      ]
     },
     "metadata": {},
     "output_type": "display_data"
    }
   ],
   "source": [
    "a<- 6:-2\n",
    "a"
   ]
  },
  {
   "cell_type": "code",
   "execution_count": 52,
   "id": "d2327423-14a3-494b-862b-482a056b7fd2",
   "metadata": {},
   "outputs": [
    {
     "data": {
      "text/plain": [
       "[1] 5"
      ]
     },
     "metadata": {},
     "output_type": "display_data"
    }
   ],
   "source": [
    "a[2]"
   ]
  },
  {
   "cell_type": "markdown",
   "id": "2b9638bf-c127-4e6d-8e5a-43fa9992a04a",
   "metadata": {},
   "source": [
    "`-` 예제2"
   ]
  },
  {
   "cell_type": "code",
   "execution_count": 55,
   "id": "c1b8585d-0883-4384-ab81-ba4530b51ccb",
   "metadata": {},
   "outputs": [
    {
     "data": {
      "text/plain": [
       "[1] 6 5 4 3"
      ]
     },
     "metadata": {},
     "output_type": "display_data"
    }
   ],
   "source": [
    "a[a>2]"
   ]
  },
  {
   "cell_type": "markdown",
   "id": "1d889bd3-de32-4a44-9145-210e3c786f1a",
   "metadata": {},
   "source": [
    "`-` 예제3"
   ]
  },
  {
   "cell_type": "code",
   "execution_count": 56,
   "id": "aa0f126d-2285-4040-9e35-7c323bc91a10",
   "metadata": {},
   "outputs": [
    {
     "data": {
      "text/plain": [
       "[1] 6 5"
      ]
     },
     "metadata": {},
     "output_type": "display_data"
    }
   ],
   "source": [
    "a[c(1,2)]"
   ]
  },
  {
   "cell_type": "markdown",
   "id": "ef5d272d-403c-420d-9a8f-d248469f3c70",
   "metadata": {},
   "source": [
    "`-` 예제4"
   ]
  },
  {
   "cell_type": "code",
   "execution_count": 60,
   "id": "2f836f9b-7579-47e4-82ee-3aac9e6ca713",
   "metadata": {},
   "outputs": [
    {
     "data": {
      "text/plain": [
       "[1]  4  3  2  1  0 -1 -2"
      ]
     },
     "metadata": {},
     "output_type": "display_data"
    }
   ],
   "source": [
    "a[-c(1,2)]"
   ]
  },
  {
   "cell_type": "code",
   "execution_count": 61,
   "id": "88e8dfc5-37fe-41a4-838f-6d283d87ba2b",
   "metadata": {},
   "outputs": [
    {
     "data": {
      "text/plain": [
       "[1] -1 -2"
      ]
     },
     "metadata": {},
     "output_type": "display_data"
    }
   ],
   "source": [
    "-c(1,2)"
   ]
  },
  {
   "cell_type": "markdown",
   "id": "0d17c83b-7055-447b-b7fe-3c1e6fc7095d",
   "metadata": {},
   "source": [
    "`-` 아래와 같이 사용할수는 없다. "
   ]
  },
  {
   "cell_type": "code",
   "execution_count": 62,
   "id": "bb3c5b5a-3c03-4904-ac12-67fb86be483a",
   "metadata": {},
   "outputs": [
    {
     "ename": "ERROR",
     "evalue": "Error in a[c(-1, 2)]: only 0's may be mixed with negative subscripts\n",
     "output_type": "error",
     "traceback": [
      "Error in a[c(-1, 2)]: only 0's may be mixed with negative subscripts\nTraceback:\n"
     ]
    }
   ],
   "source": [
    "a[c(-1,2)] "
   ]
  },
  {
   "cell_type": "markdown",
   "id": "ce428f3f-4c5a-4873-b056-dbf8b27b7375",
   "metadata": {},
   "source": [
    "### `#`연산자: 주석연산자"
   ]
  },
  {
   "cell_type": "code",
   "execution_count": 63,
   "id": "07e8d52b-0600-4769-bbe4-0b0b17c2ab99",
   "metadata": {},
   "outputs": [],
   "source": [
    "# a=2=b "
   ]
  },
  {
   "cell_type": "markdown",
   "id": "75dd754e-b9d5-4034-a57f-2d8a98ce3dd4",
   "metadata": {},
   "source": [
    "- 틀린코드이지만 어차피 아무것도 실행되지 않아서 에러가 나지는 않음 "
   ]
  },
  {
   "cell_type": "markdown",
   "id": "3b37c29a-f1ae-498a-9e77-f61f66fbb7e4",
   "metadata": {},
   "source": [
    "`-` 블락단위로 주석을 만드는 방법 \n",
    "- 주피터: 컨트롤 + / \n",
    "- Rstudio: 컨트롤 + 쉬프트 + c "
   ]
  },
  {
   "cell_type": "code",
   "execution_count": null,
   "id": "14620757-621f-4d0a-a0db-8df28a89859c",
   "metadata": {},
   "outputs": [],
   "source": [
    "# asdfasdf\n",
    "# asdfasdfasdf\n",
    "# asdfasdfasdfasdf\n",
    "# sdfasdfasdf"
   ]
  },
  {
   "cell_type": "markdown",
   "id": "d1e88099-a3df-40ac-87b5-70c9ade833fb",
   "metadata": {},
   "source": [
    "### `?`연산자: 도움말 연산자 "
   ]
  },
  {
   "cell_type": "markdown",
   "id": "343453b2-70a6-44ba-a9f4-e3753b85250b",
   "metadata": {},
   "source": [
    "### `;`연산자: 연결연산자 "
   ]
  },
  {
   "cell_type": "markdown",
   "id": "0b7693ca-5933-4f8c-ab5e-825c48ebaf01",
   "metadata": {},
   "source": [
    "`-` 예제1: 두개의 표현식은 원래 한줄에 쓸 수 없다. 그런데 ; 를 사용하면 쓸 수 있다. "
   ]
  },
  {
   "cell_type": "code",
   "execution_count": 65,
   "id": "4df6c05c-dec7-4c25-a185-e9a284a8fb9d",
   "metadata": {},
   "outputs": [
    {
     "ename": "ERROR",
     "evalue": "Error in parse(text = x, srcfile = src): <text>:1:4: unexpected ','\n1: a=1,\n       ^\n",
     "output_type": "error",
     "traceback": [
      "Error in parse(text = x, srcfile = src): <text>:1:4: unexpected ','\n1: a=1,\n       ^\nTraceback:\n"
     ]
    }
   ],
   "source": [
    "a=1, b=2"
   ]
  },
  {
   "cell_type": "code",
   "execution_count": 66,
   "id": "fda15d0c-7a53-4871-85d7-f4289e38d4cc",
   "metadata": {},
   "outputs": [],
   "source": [
    "a=1;b=2"
   ]
  },
  {
   "cell_type": "code",
   "execution_count": 67,
   "id": "8151ebfa-0ac7-4e0c-8a77-8d1ef43b25a4",
   "metadata": {},
   "outputs": [
    {
     "data": {
      "text/plain": [
       "[1] 1 2"
      ]
     },
     "metadata": {},
     "output_type": "display_data"
    }
   ],
   "source": [
    "c(a,b)"
   ]
  },
  {
   "cell_type": "markdown",
   "id": "e21fa353-d9c2-40ba-85bc-c3c9ae7b0f51",
   "metadata": {},
   "source": [
    "`-` 아래와 같이 표현식의 마지막이 세미콜론으로 끝나도 괜찮음 "
   ]
  },
  {
   "cell_type": "code",
   "execution_count": 69,
   "id": "087ebf25-1f27-4fed-b76a-c98a67610107",
   "metadata": {},
   "outputs": [],
   "source": [
    "a=3;b=4;"
   ]
  },
  {
   "cell_type": "code",
   "execution_count": 70,
   "id": "01f7e48a-a4b2-46ec-bf9c-b8370162d88d",
   "metadata": {},
   "outputs": [
    {
     "data": {
      "text/plain": [
       "[1] 3 4"
      ]
     },
     "metadata": {},
     "output_type": "display_data"
    }
   ],
   "source": [
    "c(a,b)"
   ]
  },
  {
   "cell_type": "markdown",
   "id": "2a19728c-0e97-4844-a9c6-09ab42c69a0c",
   "metadata": {},
   "source": [
    "### 연산자 우선순위 "
   ]
  },
  {
   "cell_type": "markdown",
   "id": "8af469f8-4126-4848-a97a-cbc451abe97f",
   "metadata": {},
   "source": [
    "`-` 예제1"
   ]
  },
  {
   "cell_type": "code",
   "execution_count": 73,
   "id": "207370bc-20a8-4c4b-9dad-0a54bbc72657",
   "metadata": {},
   "outputs": [
    {
     "data": {
      "text/plain": [
       "[1] 1 2 3 4 5 6 7 8 9"
      ]
     },
     "metadata": {},
     "output_type": "display_data"
    }
   ],
   "source": [
    "1:3**2 "
   ]
  },
  {
   "cell_type": "markdown",
   "id": "af0e8845-2073-4ba0-9fc1-386495a84d22",
   "metadata": {},
   "source": [
    "`-` 좀 더 명확하게 아래와 같이 쓰자. "
   ]
  },
  {
   "cell_type": "code",
   "execution_count": 74,
   "id": "f0c43d7f-bcfd-4301-b38f-3f939fd55a3e",
   "metadata": {},
   "outputs": [
    {
     "data": {
      "text/plain": [
       "[1] 1 2 3 4 5 6 7 8 9"
      ]
     },
     "metadata": {},
     "output_type": "display_data"
    }
   ],
   "source": [
    "1:(3**2)"
   ]
  },
  {
   "cell_type": "code",
   "execution_count": 75,
   "id": "ee9dee0a-1ab6-4211-8560-79d585c9af87",
   "metadata": {},
   "outputs": [
    {
     "data": {
      "text/plain": [
       "[1] 1 4 9"
      ]
     },
     "metadata": {},
     "output_type": "display_data"
    }
   ],
   "source": [
    "(1:3)**2"
   ]
  },
  {
   "cell_type": "markdown",
   "id": "344422e8-fe2d-4b56-88cb-d4357f169209",
   "metadata": {},
   "source": [
    "`-` 예제2"
   ]
  },
  {
   "cell_type": "code",
   "execution_count": 84,
   "id": "28c86267-58b0-401b-81b3-444c899253fe",
   "metadata": {},
   "outputs": [
    {
     "data": {
      "text/plain": [
       "[1]  4  3  2  1  0 -1"
      ]
     },
     "metadata": {},
     "output_type": "display_data"
    }
   ],
   "source": [
    "2^2:-1"
   ]
  },
  {
   "cell_type": "markdown",
   "id": "c749b8f5-c7e2-4024-a0cd-c1eba813aad0",
   "metadata": {},
   "source": [
    "`-` 명확하게"
   ]
  },
  {
   "cell_type": "code",
   "execution_count": 85,
   "id": "c034ed11-5663-42a2-8b7d-796d71be6a8c",
   "metadata": {},
   "outputs": [
    {
     "data": {
      "text/plain": [
       "[1]  4  3  2  1  0 -1"
      ]
     },
     "metadata": {},
     "output_type": "display_data"
    }
   ],
   "source": [
    "(2^2):-1"
   ]
  },
  {
   "cell_type": "code",
   "execution_count": 86,
   "id": "4cfe8eda-f3ce-448f-bc3b-2087a59a5137",
   "metadata": {},
   "outputs": [
    {
     "data": {
      "text/plain": [
       "[1] 4.0 2.0 1.0 0.5"
      ]
     },
     "metadata": {},
     "output_type": "display_data"
    }
   ],
   "source": [
    "2^(2:-1)"
   ]
  }
 ],
 "metadata": {
  "kernelspec": {
   "display_name": "R",
   "language": "R",
   "name": "ir"
  },
  "language_info": {
   "codemirror_mode": "r",
   "file_extension": ".r",
   "mimetype": "text/x-r-source",
   "name": "R",
   "pygments_lexer": "r",
   "version": "4.0.5"
  }
 },
 "nbformat": 4,
 "nbformat_minor": 5
}
