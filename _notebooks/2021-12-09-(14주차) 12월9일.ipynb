{
 "cells": [
  {
   "cell_type": "code",
   "execution_count": 1,
   "id": "c319aa0e-5eb0-4833-a4a8-27abc0030640",
   "metadata": {},
   "outputs": [],
   "source": [
    "#hide\n",
    "options(jupyter.plot_scale=3)\n",
    "options(jupyter.display_mimetypes=c(\"text/html\"))\n",
    "options(jupyter.rich_display=FALSE)\n",
    "options(repr.plot.width=6,repr.plot.height=6,repr.plot.res=300)\n",
    "options(max.print=200)"
   ]
  },
  {
   "cell_type": "markdown",
   "id": "adf7a455-4642-426f-b4f4-3f1718014668",
   "metadata": {
    "tags": []
   },
   "source": [
    "# (14주차) 12월9일 \n",
    "> 징검다리3 문제풀이 (풀이2,3)\n",
    "\n",
    "- toc:true\n",
    "- branch: master\n",
    "- badges: true\n",
    "- comments: true\n",
    "- author: 최규빈"
   ]
  },
  {
   "cell_type": "markdown",
   "id": "8de32594-8c73-4670-b4a9-c709727ffab4",
   "metadata": {},
   "source": [
    "### 강의영상 "
   ]
  },
  {
   "cell_type": "markdown",
   "id": "7414f6af-40ca-4e28-9df2-dfeefece9e0b",
   "metadata": {},
   "source": [
    "> youtube: https://youtube.com/playlist?list=PLQqh36zP38-xPawXfrWKpYh-KqYoT9ZBf"
   ]
  },
  {
   "cell_type": "markdown",
   "id": "a82fb1e0-a23c-4059-adaa-3f06052058d0",
   "metadata": {},
   "source": [
    "`-` (1/5) 징검다리 문제 III 두번째 풀이 (1) \n",
    "\n",
    "`-` (2/5) 징검다리 문제 III 두번째 풀이 (2) \n",
    "\n",
    "`-` (3/5) 징검다리 문제 III 세번째 풀이 (1) \n",
    "\n",
    "`-` (4/5) 징검다리 문제 III 세번째 풀이 (2) \n",
    "\n",
    "`-` (5/5) 징검다리 문제 III 세번째 풀이 (3) \n"
   ]
  },
  {
   "cell_type": "markdown",
   "id": "99fab883-65eb-4dd4-859d-c6271373ded3",
   "metadata": {
    "tags": []
   },
   "source": [
    "### 징검다리 문제 III."
   ]
  },
  {
   "cell_type": "markdown",
   "id": "c4aab45e-27f8-4d86-b522-93d9bce09dcd",
   "metadata": {},
   "source": [
    "강화유리와 유리를 구분할 수 있는 유리 장인이 있다. \n",
    "\n",
    "이 유리장인은 80퍼센트의 확률로 강화유리를 고른다. \n",
    "\n",
    "총 10명의 참가자가 있고 이 참가자들은 (유리,강화유리)의 조합으로 이루어진 징검다리를 5번연속으로 건너야 한다. \n",
    "\n",
    "아래의 경우에 참가자들은 평균적으로 몇명이 살아남겠는가? "
   ]
  },
  {
   "cell_type": "markdown",
   "id": "1ee4110e-90b7-40c9-94f7-40fe4e9dcb23",
   "metadata": {},
   "source": [
    "(1) 일반인1 - 일반인2 - .... - 일반인9 - 유리장인 || (강화유리, 유리) "
   ]
  },
  {
   "cell_type": "markdown",
   "id": "6d615989-43ee-4cf6-b100-93662f64a05c",
   "metadata": {},
   "source": [
    "(2) 유리장인 - 일반인1 - 일반인2 - ... - 일반인9 || (강화유리, 유리) "
   ]
  },
  {
   "cell_type": "markdown",
   "id": "8bcac17a-f380-481e-b5ed-b73a144399eb",
   "metadata": {},
   "source": [
    "1000번 시뮬레이션을 하여 결과를 추정하라. "
   ]
  },
  {
   "cell_type": "markdown",
   "id": "6bd6e103-f8a4-4b1a-80c8-197a1a25ac71",
   "metadata": {},
   "source": [
    "***(단, 일반인은 50%의 확률로 강화유리를 고를수 있다고 하자)*** "
   ]
  },
  {
   "cell_type": "markdown",
   "id": "14f18b0b-d6df-41b8-b665-8089d305877e",
   "metadata": {},
   "source": [
    "---"
   ]
  },
  {
   "cell_type": "markdown",
   "id": "d45f8281-45bc-4b81-9653-a2b6426a543b",
   "metadata": {},
   "source": [
    "**[예시]** (1)의 시뮬레이션 결과가 아래와 같다고 하자. "
   ]
  },
  {
   "cell_type": "markdown",
   "id": "3b0f82d7-883b-4b5e-9d53-d7ba6a4a595a",
   "metadata": {},
   "source": [
    "- 첫번째 징검다리: 유리장인이 강화유리 선택 \n",
    "- 두번째 징검다리: 유리장인이 강화유리 선택 \n",
    "- 세번째 징검다리: 유리장인이 일반유리 선택 $\\to$ 유리장인 탈락 & 일반인9는 당연히 강화유리를 선택 \n",
    "- 네번째 징검다리: 일반인9가 일반유리 선택 $\\to$ 일반인9 탈락 & 일반인8은 당연히 강화유리 선택 \n",
    "- 다섯번째 징검다리: 일반인8이 강화유리 선택 "
   ]
  },
  {
   "cell_type": "markdown",
   "id": "beab676a-fc2c-4e81-b686-3c371f459f42",
   "metadata": {},
   "source": [
    "이 경우는 일반인8,일반인7, $\\dots$, 일반인1이 살아남으므로 8명이 살아남는다. "
   ]
  },
  {
   "cell_type": "markdown",
   "id": "ec435364-5346-446f-8e80-11b9ae6503b7",
   "metadata": {},
   "source": [
    "**[예시]** (2)의 시뮬레이션 결과가 아래와 같다고 하자. "
   ]
  },
  {
   "cell_type": "markdown",
   "id": "d83aa7e9-89d2-42b6-ae66-c47afda56f4b",
   "metadata": {},
   "source": [
    "- 첫번째 징검다리: 일반인9 일반유리 선택 $\\to$ 일반인9 탈락 & 일반인8은 강화유리 선택 \n",
    "- 두번째 징검다리: 일반인8 일반유리 선택 $\\to$ 일반인8 탈락 & 일반인7은 강화유리 선택 \n",
    "- 세번째 징검다리: 일반인7 일반유리 선택 $\\to$ 일반인7 탈락 & 일반인6은 강화유리 선택 \n",
    "- 네번째 징검다리: 일반인6 일반유리 선택 $\\to$ 일반인6 탈락 & 일반인5는 강화유리 선택 \n",
    "- 다섯번째 징검다리: 일반인5 일반유리 선택 $\\to$ 일반인5 탈락 & 일반인4는 강화유리 선택 "
   ]
  },
  {
   "cell_type": "markdown",
   "id": "91e9e44f-062f-42ae-b569-60bb5a8e210c",
   "metadata": {},
   "source": [
    "이 경우는 일반인4,일반인3,일반인2,일반인1,유리장인 이 살아남는다. (따라서 5명)"
   ]
  },
  {
   "cell_type": "markdown",
   "id": "d69e8c7f-9af6-46ce-a9fa-ee0807619276",
   "metadata": {},
   "source": [
    "`-` 즉 살아남을수 있는 최대인원수는 10명이며 최소인원수는 5명이다. "
   ]
  },
  {
   "cell_type": "markdown",
   "id": "713d381e-1ce1-4dae-9fbe-b98f3d85ca4f",
   "metadata": {},
   "source": [
    "`-` 유리장인이 100%의 확률로 강화유리를 구분한다면 (1)의 경우 항상 10명이 살아남는다. (즉 평균도 10명) "
   ]
  },
  {
   "cell_type": "markdown",
   "id": "e75f174f-2bc1-438e-adbd-ce04fecd4021",
   "metadata": {},
   "source": [
    "### 풀이2 "
   ]
  },
  {
   "cell_type": "markdown",
   "id": "0c1898d7-641e-496a-aab9-c76083d14b37",
   "metadata": {},
   "source": [
    "`-` 아래와 같은 수식을 세울 수 있다. \n",
    "\n",
    "`총 살아남은 사람의 수 = 5 + 장인의 성공횟수 + (5-장인의성공횟수-1)의 기회중에서 일반인의 성공횟수`\n",
    "\n",
    "- 단 (5-장인의성공횟수-1)=<0 이면 마지막항은 0으로 계산한다. "
   ]
  },
  {
   "cell_type": "markdown",
   "id": "eceaaef4-4913-4eb1-bbce-d4aeb1e4f746",
   "metadata": {},
   "source": [
    "`-` 장인의 성공횟수를 $x$, 일반인의 성공횟수를 $y$라고 하자. 그러면 구하는것은 $5+x+y$이다. "
   ]
  },
  {
   "cell_type": "markdown",
   "id": "a9b543cd-7607-49b9-b03f-6a42d1b10c73",
   "metadata": {},
   "source": [
    "`-` 장인의 성공횟수 "
   ]
  },
  {
   "cell_type": "code",
   "execution_count": null,
   "id": "5326c5dc-eb7c-46ec-9254-efa466f42b99",
   "metadata": {},
   "outputs": [],
   "source": [
    "x_ = rbinom(5,size=1,0.8)\n",
    "x_"
   ]
  },
  {
   "cell_type": "code",
   "execution_count": null,
   "id": "fe914bd5-d688-496e-8f07-7771b09dc072",
   "metadata": {},
   "outputs": [],
   "source": [
    "cumprod(x_)"
   ]
  },
  {
   "cell_type": "code",
   "execution_count": null,
   "id": "dc1988c5-76aa-4ed2-93a5-08e23abdfad5",
   "metadata": {},
   "outputs": [],
   "source": [
    "x=sum(cumprod(x_))\n",
    "x"
   ]
  },
  {
   "cell_type": "markdown",
   "id": "653ffc7a-98c0-4845-a9ec-f905daf33080",
   "metadata": {},
   "source": [
    "`-` 일반인의 성공횟수 "
   ]
  },
  {
   "cell_type": "code",
   "execution_count": null,
   "id": "f6cadc8f-fc66-4b45-aacb-56c2a09103fa",
   "metadata": {},
   "outputs": [],
   "source": [
    "xx_ = 5-x-1 "
   ]
  },
  {
   "cell_type": "code",
   "execution_count": null,
   "id": "4c9cf06e-d27f-4b8b-abd0-311c9cc0e96b",
   "metadata": {},
   "outputs": [],
   "source": [
    "xx_"
   ]
  },
  {
   "cell_type": "code",
   "execution_count": null,
   "id": "651bb5e6-c61c-497c-a17d-c632cb104170",
   "metadata": {},
   "outputs": [],
   "source": [
    "y = rbinom(1, size=xx_, 0.5)\n",
    "y"
   ]
  },
  {
   "cell_type": "markdown",
   "id": "9b1997e7-bfcf-422f-bb32-3f3cd220e25a",
   "metadata": {},
   "source": [
    "`-` 살아남은 사람수는? "
   ]
  },
  {
   "cell_type": "code",
   "execution_count": null,
   "id": "6191e5c2-6f23-4583-9c05-02ca5e678466",
   "metadata": {},
   "outputs": [],
   "source": [
    "5+x+y"
   ]
  },
  {
   "cell_type": "markdown",
   "id": "7939259c-c1c5-485d-a5d3-573f39c2e511",
   "metadata": {},
   "source": [
    "`-` 정리하면 "
   ]
  },
  {
   "cell_type": "code",
   "execution_count": null,
   "id": "27250916-aa2d-41b6-99d8-eed9be8a34a0",
   "metadata": {},
   "outputs": [],
   "source": [
    "rslt <- c()\n",
    "for (i in 1:10000){\n",
    "    x=sum(cumprod(rbinom(5,size=1,0.8)))\n",
    "    xx_=5-x-1 \n",
    "    if (xx_>0) y = rbinom(1, size=xx_, 0.5) else y=0 \n",
    "    rslt[i]=5+x+y\n",
    "}"
   ]
  },
  {
   "cell_type": "code",
   "execution_count": null,
   "id": "7d3f618f-939e-49ab-9365-b546273c4587",
   "metadata": {},
   "outputs": [],
   "source": [
    "mean(rslt)"
   ]
  },
  {
   "cell_type": "markdown",
   "id": "1be2a5e0-f094-43d0-b83a-30a022beef27",
   "metadata": {},
   "source": [
    "### 풀이3"
   ]
  },
  {
   "cell_type": "code",
   "execution_count": null,
   "id": "aa4736fa-ef7c-42f4-90de-ab3d3d82342a",
   "metadata": {},
   "outputs": [],
   "source": [
    "ARR = c('N1','N2','N3','N4','N5','N6','N7','N8','N9','A')\n",
    "ARR "
   ]
  },
  {
   "cell_type": "code",
   "execution_count": null,
   "id": "fc8461cf-1909-467b-bca5-3239e1c02a9e",
   "metadata": {},
   "outputs": [],
   "source": [
    "SURV = 10 "
   ]
  },
  {
   "cell_type": "code",
   "execution_count": null,
   "id": "2828ad47-ac0b-436e-afef-41a31077da64",
   "metadata": {},
   "outputs": [],
   "source": [
    "PLAYER = ARR[SURV] \n",
    "PLAYER"
   ]
  },
  {
   "cell_type": "code",
   "execution_count": null,
   "id": "e6261ad0-9bb1-4e63-a84f-4640a0a9e14a",
   "metadata": {},
   "outputs": [],
   "source": [
    "STAGE = 0 "
   ]
  },
  {
   "cell_type": "markdown",
   "id": "b1bef22e-c24f-4637-9420-b95b334af749",
   "metadata": {},
   "source": [
    "`-` 첫시도 "
   ]
  },
  {
   "cell_type": "code",
   "execution_count": null,
   "id": "ccaa0822-7181-419a-97a1-3a524c182554",
   "metadata": {},
   "outputs": [],
   "source": [
    "library(tidyverse)"
   ]
  },
  {
   "cell_type": "code",
   "execution_count": null,
   "id": "45062354-694c-4265-9b4d-a44275a63594",
   "metadata": {},
   "outputs": [],
   "source": [
    "toss = function(p) rbinom(n=1,size=1,prob=p) %>% as.logical"
   ]
  },
  {
   "cell_type": "code",
   "execution_count": null,
   "id": "beb28dac-f00f-4c0a-9738-ea700b3a823c",
   "metadata": {},
   "outputs": [],
   "source": [
    "PROB = 0.8 \n",
    "TOSSRSLT = toss(PROB) \n",
    "if (TOSSRSLT==TRUE){\n",
    "    SURV = SURV \n",
    "    STAGE = STAGE + 1 \n",
    "    PLAYER = ARR[SURV]\n",
    "}else{\n",
    "    SURV = SURV - 1 \n",
    "    STAGE = STAGE + 1 \n",
    "    PLAYER = ARR[SURV]\n",
    "}"
   ]
  },
  {
   "cell_type": "code",
   "execution_count": null,
   "id": "92e06d54-310a-4dd5-8582-b7fb8329685b",
   "metadata": {},
   "outputs": [],
   "source": [
    "print(TOSSRSLT)\n",
    "print(SURV)\n",
    "print(STAGE)\n",
    "print(PLAYER)"
   ]
  },
  {
   "cell_type": "markdown",
   "id": "6e7c775a-64c5-44fe-85f8-d44ed47637ad",
   "metadata": {},
   "source": [
    "`-` 코드를 간단히 수정하자. "
   ]
  },
  {
   "cell_type": "code",
   "execution_count": null,
   "id": "43ef11cc-9b70-4b58-83a7-882417da600d",
   "metadata": {},
   "outputs": [],
   "source": [
    "PROB = 0.8 \n",
    "TOSSRSLT = toss(PROB) \n",
    "if (TOSSRSLT==FALSE) SURV = SURV - 1 \n",
    "STAGE = STAGE + 1 \n",
    "PLAYER = ARR[SURV]"
   ]
  },
  {
   "cell_type": "code",
   "execution_count": null,
   "id": "7790ecdf-1429-49e2-a590-c51f1d1998f6",
   "metadata": {},
   "outputs": [],
   "source": [
    "print(TOSSRSLT)\n",
    "print(SURV)\n",
    "print(STAGE)\n",
    "print(PLAYER)"
   ]
  },
  {
   "cell_type": "markdown",
   "id": "09c7b81d-1caf-4826-a0b9-928a1be0f6e0",
   "metadata": {},
   "source": [
    "`-` 다시 처음부터 보고싶다면? "
   ]
  },
  {
   "cell_type": "code",
   "execution_count": null,
   "id": "85e5265a-208e-4f51-bf33-6163febf288f",
   "metadata": {},
   "outputs": [],
   "source": [
    "SURV = 10 \n",
    "STAGE = 0 \n",
    "PLAYER = ARR[SURV]"
   ]
  },
  {
   "cell_type": "code",
   "execution_count": null,
   "id": "18b33e1d-1041-4da0-9988-22f69437ef9a",
   "metadata": {},
   "outputs": [],
   "source": [
    "PROB = 0.8 \n",
    "TOSSRSLT = toss(PROB) \n",
    "if (TOSSRSLT==FALSE) SURV = SURV - 1 \n",
    "STAGE = STAGE + 1 \n",
    "PLAYER = ARR[SURV]"
   ]
  },
  {
   "cell_type": "code",
   "execution_count": null,
   "id": "f23df979-69f6-4fe0-a31f-e6ea1be42cc5",
   "metadata": {},
   "outputs": [],
   "source": [
    "print(TOSSRSLT)\n",
    "print(SURV)\n",
    "print(STAGE)\n",
    "print(PLAYER)"
   ]
  },
  {
   "cell_type": "markdown",
   "id": "63686576-c379-4259-b89d-0c889b7864cd",
   "metadata": {},
   "source": [
    "`-` reset을 하는 함수를 만들자."
   ]
  },
  {
   "cell_type": "code",
   "execution_count": null,
   "id": "f5a35dd1-6ef2-41a8-a65f-b429334bff07",
   "metadata": {},
   "outputs": [],
   "source": [
    "reset = function(){\n",
    "    SURV = 10\n",
    "    STAGE = 0 \n",
    "    PLAYER = ARR[SURV]\n",
    "}"
   ]
  },
  {
   "cell_type": "markdown",
   "id": "c2837385-8971-4175-9cec-a28ba7adf1f1",
   "metadata": {},
   "source": [
    "- 제대로 동작하지 않음 $\\to$ `=`를 `<<-`로 수정해보자. "
   ]
  },
  {
   "cell_type": "code",
   "execution_count": null,
   "id": "697b9e16-9358-43a4-b917-6433261529d2",
   "metadata": {},
   "outputs": [],
   "source": [
    "reset = function(){\n",
    "    SURV <<- 10\n",
    "    STAGE <<- 0 \n",
    "    PLAYER <<- ARR[SURV]\n",
    "}"
   ]
  },
  {
   "cell_type": "code",
   "execution_count": null,
   "id": "7386aed2-1c28-4398-92ca-ffb7ccafd445",
   "metadata": {},
   "outputs": [],
   "source": [
    "reset()"
   ]
  },
  {
   "cell_type": "code",
   "execution_count": null,
   "id": "8194daf0-11e1-4d30-87f2-76106e89ab1f",
   "metadata": {},
   "outputs": [],
   "source": [
    "print(TOSSRSLT)\n",
    "print(SURV)\n",
    "print(STAGE)\n",
    "print(PLAYER)"
   ]
  },
  {
   "cell_type": "markdown",
   "id": "7a0dd365-7cae-4c94-94ca-12e59b611bed",
   "metadata": {},
   "source": [
    "`-` 출력함수의 기능을 묶어보자. $\\to$ 출력(display)와 저장기능을 통합하여 record 함수 만듬 "
   ]
  },
  {
   "cell_type": "code",
   "execution_count": null,
   "id": "1d18e9f0-1851-4d0d-b73e-6234b60a4bcb",
   "metadata": {},
   "outputs": [],
   "source": [
    "record = function() list(TOSSRSLT=TOSSRSLT, SURV=SURV, STAGE=STAGE, PLAYER=PLAYER) "
   ]
  },
  {
   "cell_type": "code",
   "execution_count": null,
   "id": "563ab1d6-ab00-4005-91af-a3ad6038decf",
   "metadata": {},
   "outputs": [],
   "source": [
    "record()$SURV"
   ]
  },
  {
   "cell_type": "markdown",
   "id": "14acf5a6-0784-453b-86d9-8da197b57aae",
   "metadata": {},
   "source": [
    "`-` reset + record 를 사용하고 결과를 살펴보면 "
   ]
  },
  {
   "cell_type": "code",
   "execution_count": null,
   "id": "c4ced2ec-206f-4cce-86d6-3e4409f66f1f",
   "metadata": {},
   "outputs": [],
   "source": [
    "reset()\n",
    "record()"
   ]
  },
  {
   "cell_type": "markdown",
   "id": "7f88bfd4-9ea6-492e-8e9a-cba29b7893d3",
   "metadata": {},
   "source": [
    "- TOSSRSLT의 의미가 헷갈릴수 있으니 약간 수정하자. "
   ]
  },
  {
   "cell_type": "code",
   "execution_count": null,
   "id": "3fed3ac5-1df1-44c5-9a36-9865c6ad81a6",
   "metadata": {},
   "outputs": [],
   "source": [
    "record = function() list(PRE_TOSSRSLT=TOSSRSLT, SURV=SURV, STAGE=STAGE, PLAYER=PLAYER) "
   ]
  },
  {
   "cell_type": "code",
   "execution_count": null,
   "id": "8cfa122f-d21e-4345-bfff-358fa8e7643b",
   "metadata": {},
   "outputs": [],
   "source": [
    "reset = function(){\n",
    "    TOSSRSLT <<- NA\n",
    "    SURV <<- 10\n",
    "    STAGE <<- 0 \n",
    "    PLAYER <<- ARR[SURV]\n",
    "}"
   ]
  },
  {
   "cell_type": "code",
   "execution_count": null,
   "id": "649142d5-bea5-4a2a-a3d6-d7492c5fcace",
   "metadata": {},
   "outputs": [],
   "source": [
    "reset()\n",
    "record()"
   ]
  },
  {
   "cell_type": "markdown",
   "id": "da8d827c-8809-467e-a31b-a614285105dd",
   "metadata": {},
   "source": [
    "`-` 지금까지 코드의 중간정리 "
   ]
  },
  {
   "cell_type": "code",
   "execution_count": null,
   "id": "323a1222-af9d-4735-babf-f722161772db",
   "metadata": {},
   "outputs": [],
   "source": [
    "ARR = c('N1','N2','N3','N4','N5','N6','N7','N8','N9','A')\n",
    "SURV = 10 \n",
    "PLAYER = ARR[SURV] \n",
    "STAGE = 0 \n",
    "PROB = 0.8 \n",
    "TOSSRSLT = NA\n",
    "### 변수들의 모음 "
   ]
  },
  {
   "cell_type": "code",
   "execution_count": null,
   "id": "213a6765-dd89-421b-b2b0-c0c4ecc66339",
   "metadata": {},
   "outputs": [],
   "source": [
    "toss = function(p) rbinom(n=1,size=1,prob=p) %>% as.logical\n",
    "reset = function(){\n",
    "    TOSSRSLT <<- NA\n",
    "    SURV <<- 10\n",
    "    STAGE <<- 0 \n",
    "    PLAYER <<- ARR[SURV]\n",
    "}\n",
    "record = function(){\n",
    "    list(PRE_TOSSRSLT=TOSSRSLT, SURV=SURV, STAGE=STAGE, PLAYER=PLAYER) \n",
    "}\n",
    "### 함수들의 모음 "
   ]
  },
  {
   "cell_type": "code",
   "execution_count": null,
   "id": "c5b93c76-1068-423a-a371-233e8541d37a",
   "metadata": {},
   "outputs": [],
   "source": [
    "PROB = 0.8 \n",
    "TOSSRSLT = toss(PROB) \n",
    "if (TOSSRSLT==FALSE) SURV = SURV - 1 \n",
    "STAGE = STAGE + 1 \n",
    "PLAYER = ARR[SURV]\n",
    "### body"
   ]
  },
  {
   "cell_type": "markdown",
   "id": "183a32d2-d746-4cf0-baf4-49a86f6fb029",
   "metadata": {},
   "source": [
    "`-` PROB 가 항상 0.8인것은 아니며 사실 PLAYER=='A' 일 경우에만 0.8 이고 그외의 경우는 0.5 이다. "
   ]
  },
  {
   "cell_type": "code",
   "execution_count": null,
   "id": "566e5461-a582-47e2-86a3-6f7f57e54d9f",
   "metadata": {},
   "outputs": [],
   "source": [
    "ARR = c('N1','N2','N3','N4','N5','N6','N7','N8','N9','A')\n",
    "SURV = 10 \n",
    "PLAYER = ARR[SURV] \n",
    "STAGE = 0 \n",
    "PROB = 0.8 \n",
    "TOSSRSLT = NA\n",
    "### 변수들의 모음 "
   ]
  },
  {
   "cell_type": "code",
   "execution_count": null,
   "id": "413c388f-86c4-4b2e-86f5-e201f7b612fa",
   "metadata": {},
   "outputs": [],
   "source": [
    "toss = function(p) rbinom(n=1,size=1,prob=p) %>% as.logical\n",
    "reset = function(){\n",
    "    TOSSRSLT <<- NA\n",
    "    SURV <<- 10\n",
    "    STAGE <<- 0 \n",
    "    PLAYER <<- ARR[SURV]\n",
    "}\n",
    "record = function(){\n",
    "    list(PRE_TOSSRSLT=TOSSRSLT, SURV=SURV, STAGE=STAGE, PLAYER=PLAYER) \n",
    "}\n",
    "### 함수들의 모음 "
   ]
  },
  {
   "cell_type": "code",
   "execution_count": null,
   "id": "237df703-9126-4abb-bd1b-7b5faa9c0af9",
   "metadata": {},
   "outputs": [],
   "source": [
    "PROB = 0.5+ (PLAYER=='A')*0.3 #### 이부분을 수정했음 \n",
    "TOSSRSLT = toss(PROB) \n",
    "if (TOSSRSLT==FALSE) SURV = SURV - 1 \n",
    "STAGE = STAGE + 1 \n",
    "PLAYER = ARR[SURV]\n",
    "### body"
   ]
  },
  {
   "cell_type": "markdown",
   "id": "997925bf-6f93-4ccd-b02d-1e40fea4f667",
   "metadata": {},
   "source": [
    "`-` Test 해보자. "
   ]
  },
  {
   "cell_type": "code",
   "execution_count": null,
   "id": "6c2b8b68-d82f-40f7-af29-a6d8de50926e",
   "metadata": {},
   "outputs": [],
   "source": [
    "reset() \n",
    "record()"
   ]
  },
  {
   "cell_type": "code",
   "execution_count": null,
   "id": "26ee5389-8072-4fe3-9c5e-4fc56a4c1e72",
   "metadata": {},
   "outputs": [],
   "source": [
    "PROB = 0.5+ (PLAYER=='A')*0.3 #### 이부분을 수정했음 \n",
    "TOSSRSLT = toss(PROB) \n",
    "if (TOSSRSLT==FALSE) SURV = SURV - 1 \n",
    "STAGE = STAGE + 1 \n",
    "PLAYER = ARR[SURV]\n",
    "record()"
   ]
  },
  {
   "cell_type": "markdown",
   "id": "ec886657-5691-451a-a67c-23cd57090160",
   "metadata": {},
   "source": [
    "`-` 스테이지를 진행하는 부분을 묶어서 함수로 처리하자. "
   ]
  },
  {
   "cell_type": "code",
   "execution_count": null,
   "id": "18d95e16-ecaf-459c-8383-9a87f867a070",
   "metadata": {},
   "outputs": [],
   "source": [
    "ARR = c('N1','N2','N3','N4','N5','N6','N7','N8','N9','A')\n",
    "SURV = 10 \n",
    "PLAYER = ARR[SURV] \n",
    "STAGE = 0 \n",
    "PROB = 0.8 \n",
    "TOSSRSLT = NA\n",
    "### 변수들의 모음 "
   ]
  },
  {
   "cell_type": "code",
   "execution_count": null,
   "id": "54d128bf-5383-453c-bbfb-da665b909623",
   "metadata": {},
   "outputs": [],
   "source": [
    "toss = function(p) rbinom(n=1,size=1,prob=p) %>% as.logical\n",
    "reset = function(){\n",
    "    TOSSRSLT <<- NA\n",
    "    SURV <<- 10\n",
    "    STAGE <<- 0 \n",
    "    PLAYER <<- ARR[SURV]\n",
    "}\n",
    "record = function(){\n",
    "    list(PRE_TOSSRSLT=TOSSRSLT, SURV=SURV, STAGE=STAGE, PLAYER=PLAYER) \n",
    "}\n",
    "go = function(){\n",
    "    PROB <<- 0.5+ (PLAYER=='A')*0.3\n",
    "    TOSSRSLT <<- toss(PROB) \n",
    "    if (TOSSRSLT==FALSE) SURV <<- SURV - 1 \n",
    "    STAGE <<- STAGE + 1 \n",
    "    PLAYER <<- ARR[SURV]    \n",
    "}    \n",
    "### 함수들의 모음 "
   ]
  },
  {
   "cell_type": "code",
   "execution_count": null,
   "id": "e9cac703-50e5-4143-8e02-6c2a045fef27",
   "metadata": {},
   "outputs": [],
   "source": [
    "# ?\n",
    "### body"
   ]
  },
  {
   "cell_type": "markdown",
   "id": "40739779-7d77-4dc1-8a60-0b397afd8bc8",
   "metadata": {},
   "source": [
    "`-` test "
   ]
  },
  {
   "cell_type": "code",
   "execution_count": null,
   "id": "9365e79c-bb62-4eec-98e2-9d38e8bc2089",
   "metadata": {},
   "outputs": [],
   "source": [
    "reset()\n",
    "record()"
   ]
  },
  {
   "cell_type": "code",
   "execution_count": null,
   "id": "d4698b32-ce8e-4899-8fec-54a1eabc07a8",
   "metadata": {},
   "outputs": [],
   "source": [
    "go()\n",
    "record()"
   ]
  },
  {
   "cell_type": "markdown",
   "id": "e8e2e728-5e63-4b78-b56c-f2d62df0a43c",
   "metadata": {},
   "source": [
    "`-` 어차피 5번 시행을 하므로 go이외에 gogo함수를 따로 만들자. "
   ]
  },
  {
   "cell_type": "code",
   "execution_count": null,
   "id": "bd24fe4f-e197-43eb-840c-ddd28b0101ef",
   "metadata": {},
   "outputs": [],
   "source": [
    "ARR = c('N1','N2','N3','N4','N5','N6','N7','N8','N9','A')\n",
    "SURV = 10 \n",
    "PLAYER = ARR[SURV] \n",
    "STAGE = 0 \n",
    "PROB = 0.8 \n",
    "TOSSRSLT = NA\n",
    "### 변수들의 모음 "
   ]
  },
  {
   "cell_type": "code",
   "execution_count": null,
   "id": "9f1f377b-39b3-42dd-acf4-f91c62c1f779",
   "metadata": {},
   "outputs": [],
   "source": [
    "toss = function(p) rbinom(n=1,size=1,prob=p) %>% as.logical\n",
    "reset = function(){\n",
    "    TOSSRSLT <<- NA\n",
    "    SURV <<- 10\n",
    "    STAGE <<- 0 \n",
    "    PLAYER <<- ARR[SURV]\n",
    "}\n",
    "record = function(){\n",
    "    list(PRE_TOSSRSLT=TOSSRSLT, SURV=SURV, STAGE=STAGE, PLAYER=PLAYER) \n",
    "}\n",
    "go = function(){\n",
    "    PROB <<- 0.5+ (PLAYER=='A')*0.3\n",
    "    TOSSRSLT <<- toss(PROB) \n",
    "    if (TOSSRSLT==FALSE) SURV <<- SURV - 1 \n",
    "    STAGE <<- STAGE + 1 \n",
    "    PLAYER <<- ARR[SURV]    \n",
    "}\n",
    "gogo = function() for(i in 1:5) go()\n",
    "### 함수들의 모음 "
   ]
  },
  {
   "cell_type": "markdown",
   "id": "41030040-8af2-4562-85de-995881619693",
   "metadata": {},
   "source": [
    "`-` test "
   ]
  },
  {
   "cell_type": "code",
   "execution_count": null,
   "id": "1cadeb94-3901-4d1b-946e-f9e3a41f66aa",
   "metadata": {},
   "outputs": [],
   "source": [
    "reset()\n",
    "record()"
   ]
  },
  {
   "cell_type": "code",
   "execution_count": null,
   "id": "ad01cb47-3f76-491b-9120-981e7d142708",
   "metadata": {},
   "outputs": [],
   "source": [
    "gogo()\n",
    "record()"
   ]
  },
  {
   "cell_type": "markdown",
   "id": "7802dd39-0ec0-4066-927e-dd6b38f7bafc",
   "metadata": {},
   "source": [
    "`-` 히스토리를 볼 수 있는 gogo함수를 만들어보자.  "
   ]
  },
  {
   "cell_type": "code",
   "execution_count": null,
   "id": "83be9bd9-2ed9-4a08-8229-e264cb2e6d60",
   "metadata": {},
   "outputs": [],
   "source": [
    "gogo_history = function(){\n",
    "    rslt_ = as_tibble(record()) ## go를 시작하기전의 결과가 티블로 만들어짐 \n",
    "    for(i in 1:5){\n",
    "        go()\n",
    "        rslt_ = rbind(rslt_, as_tibble(record())) \n",
    "    }\n",
    "    print(rslt_)\n",
    "}"
   ]
  },
  {
   "cell_type": "code",
   "execution_count": null,
   "id": "13f3a3a7-1c92-45ff-8cc5-f65f2df226e5",
   "metadata": {},
   "outputs": [],
   "source": [
    "reset()\n",
    "record()"
   ]
  },
  {
   "cell_type": "code",
   "execution_count": null,
   "id": "2721d5e6-6aac-4aa9-a362-f4f32b1308b9",
   "metadata": {},
   "outputs": [],
   "source": [
    "gogo_history()"
   ]
  },
  {
   "cell_type": "markdown",
   "id": "b823f002-7c05-40e6-9432-75d135b5b912",
   "metadata": {},
   "source": [
    "`-` 이제 simulate_once 라는 함수를 만들어서 시뮬레이션 결과를 저장하자. "
   ]
  },
  {
   "cell_type": "code",
   "execution_count": null,
   "id": "c0a3ce20-09b0-48ba-ab50-a356a4175829",
   "metadata": {},
   "outputs": [],
   "source": [
    "simulate_once = function(){\n",
    "    reset()\n",
    "    gogo()\n",
    "    return(record()$SURV )\n",
    "}"
   ]
  },
  {
   "cell_type": "code",
   "execution_count": null,
   "id": "14b115a5-ce74-4a00-ac44-7ef1bd85126b",
   "metadata": {},
   "outputs": [],
   "source": [
    "simulate_once()"
   ]
  },
  {
   "cell_type": "markdown",
   "id": "da11227f-0a1a-4f03-b956-0985a1bc8826",
   "metadata": {},
   "source": [
    "`-` 따라서 답은 "
   ]
  },
  {
   "cell_type": "code",
   "execution_count": null,
   "id": "deaeb6ae-beea-4021-abbe-efc35892ff2a",
   "metadata": {},
   "outputs": [],
   "source": [
    "simrslt = c() \n",
    "for (i in 1:100000) simrslt[i] = simulate_once() \n",
    "mean(simrslt)"
   ]
  },
  {
   "cell_type": "markdown",
   "id": "b53bc995-6b0d-4aa8-bb2e-0d6fe6910aae",
   "metadata": {},
   "source": [
    "`-` 코드를 최종적으로 정리하면 "
   ]
  },
  {
   "cell_type": "code",
   "execution_count": null,
   "id": "ff211863-5ad4-46cf-b70e-f8a55bc6a943",
   "metadata": {},
   "outputs": [],
   "source": [
    "library(tidyverse)"
   ]
  },
  {
   "cell_type": "code",
   "execution_count": null,
   "id": "4a05ae7b-4033-4f79-80e9-c17abc96d647",
   "metadata": {},
   "outputs": [],
   "source": [
    "ARR = c('N1','N2','N3','N4','N5','N6','N7','N8','N9','A')\n",
    "SURV = 10 \n",
    "PLAYER = ARR[SURV] \n",
    "STAGE = 0 \n",
    "PROB = 0.8 \n",
    "TOSSRSLT = NA\n",
    "### 변수들의 모음 "
   ]
  },
  {
   "cell_type": "code",
   "execution_count": null,
   "id": "8b150a15-673a-4e34-95d0-63358219674c",
   "metadata": {},
   "outputs": [],
   "source": [
    "toss = function(p) rbinom(n=1,size=1,prob=p) %>% as.logical\n",
    "reset = function(){\n",
    "    TOSSRSLT <<- NA\n",
    "    SURV <<- 10\n",
    "    STAGE <<- 0 \n",
    "    PLAYER <<- ARR[SURV]\n",
    "}\n",
    "record = function(){\n",
    "    list(PRE_TOSSRSLT=TOSSRSLT, SURV=SURV, STAGE=STAGE, PLAYER=PLAYER) \n",
    "}\n",
    "go = function(){\n",
    "    PROB <<- 0.5+ (PLAYER=='A')*0.3\n",
    "    TOSSRSLT <<- toss(PROB) \n",
    "    if (TOSSRSLT==FALSE) SURV <<- SURV - 1 \n",
    "    STAGE <<- STAGE + 1 \n",
    "    PLAYER <<- ARR[SURV]    \n",
    "}\n",
    "gogo = function() for(i in 1:5) go()\n",
    "\n",
    "gogo_history = function(){\n",
    "    rslt_ = as_tibble(record()) ## go를 시작하기전의 결과가 티블로 만들어짐 \n",
    "    for(i in 1:5){\n",
    "        go()\n",
    "        rslt_ = rbind(rslt_, as_tibble(record())) \n",
    "    }\n",
    "    print(rslt_)\n",
    "}\n",
    "\n",
    "simulate_once = function(){\n",
    "    reset()\n",
    "    gogo()\n",
    "    return(record()$SURV )\n",
    "}\n",
    "### 함수들의 모음 "
   ]
  },
  {
   "cell_type": "code",
   "execution_count": null,
   "id": "22a58ebf-d5b9-4a2b-ac6a-f5f3103d1c22",
   "metadata": {},
   "outputs": [],
   "source": [
    "simrslt = c() \n",
    "for (i in 1:100000) simrslt[i] = simulate_once() \n",
    "mean(simrslt)\n",
    "### body "
   ]
  },
  {
   "cell_type": "markdown",
   "id": "8aeaaa73-2a39-45c8-8d41-91db8c3f656e",
   "metadata": {},
   "source": [
    "### 이러한 방식의 코딩스타일 "
   ]
  },
  {
   "cell_type": "markdown",
   "id": "976afd25-87a0-4916-9319-68ec8da72613",
   "metadata": {},
   "source": [
    "`-` 장점: 함수의 입력/출력을 상당부분 생략가능, 함수의 출력을 어딘가에 저장하는 번거로운 과정도 스킵가능, 구현이 쉬움 \n",
    "\n",
    "`-` 단점: 지정한 변수들과 함수의 목록을 한번에 파악하기 힘듬. 하나의 노트북에서 다른 풀이도 함께하다보면 변수이름들이 매우 헷갈릴수 있음. "
   ]
  },
  {
   "cell_type": "markdown",
   "id": "7455d3a8-537d-4981-8aa3-66c56daec7ce",
   "metadata": {},
   "source": [
    "`-` 단점을 극복하기 위한 대안 (1) 하나의 노트북을 사용한다. (2) 변수나 함수들을 모두 초기화한다. (커널초기화) (3) 이 모든것을 하나의 함수로 묶는다. "
   ]
  },
  {
   "cell_type": "markdown",
   "id": "d2dc70dc-9239-47d2-9d3c-07926363eefc",
   "metadata": {},
   "source": [
    "`-` (2) 변수나 함수들을 모두 초기화하는 방법"
   ]
  },
  {
   "cell_type": "code",
   "execution_count": null,
   "id": "10255bbc-ecb5-453c-90c5-b1dd094085df",
   "metadata": {},
   "outputs": [],
   "source": [
    "ls()"
   ]
  },
  {
   "cell_type": "code",
   "execution_count": null,
   "id": "05876b55-f00f-4f28-ae4d-3f15071af443",
   "metadata": {},
   "outputs": [],
   "source": [
    "rm(list=ls()) # 현재 R환경에 있는 함수+변수를 삭제 "
   ]
  },
  {
   "cell_type": "code",
   "execution_count": null,
   "id": "4cd20c51-a81f-43dd-8895-c514c02b6fe8",
   "metadata": {},
   "outputs": [],
   "source": [
    "ls()"
   ]
  },
  {
   "cell_type": "markdown",
   "id": "9fbfca8e-5496-4f87-8d3e-cd17de790398",
   "metadata": {},
   "source": [
    "- 이제 R에는 더이상 함수나 변수가 없다. "
   ]
  },
  {
   "cell_type": "markdown",
   "id": "66b017b0-b68a-4cb4-988b-a15074d7fdf8",
   "metadata": {},
   "source": [
    "`-` (3) 이 모든것을 하나의 함수로 묶는방법 "
   ]
  },
  {
   "cell_type": "code",
   "execution_count": null,
   "id": "c974c6ca-8632-4620-a11b-5a988a214147",
   "metadata": {},
   "outputs": [],
   "source": [
    "rm(list=ls())"
   ]
  },
  {
   "cell_type": "code",
   "execution_count": null,
   "id": "08a9ae6d-6fe6-4a01-a07f-c4619a1cdd46",
   "metadata": {},
   "outputs": [],
   "source": [
    "ls()"
   ]
  },
  {
   "cell_type": "code",
   "execution_count": null,
   "id": "874c8225-0a77-47fd-a6e0-f008000e52fb",
   "metadata": {},
   "outputs": [],
   "source": [
    "SIMULATE = function(){\n",
    "### 변수들의 모음\n",
    "ARR = c('N1','N2','N3','N4','N5','N6','N7','N8','N9','A')\n",
    "SURV = 10 \n",
    "PLAYER = ARR[SURV] \n",
    "STAGE = 0 \n",
    "PROB = 0.8 \n",
    "TOSSRSLT = NA\n",
    "\n",
    "### Subfunction들의 모음 \n",
    "toss = function(p) rbinom(n=1,size=1,prob=p) %>% as.logical\n",
    "reset = function(){\n",
    "    TOSSRSLT <<- NA\n",
    "    SURV <<- 10\n",
    "    STAGE <<- 0 \n",
    "    PLAYER <<- ARR[SURV]\n",
    "}\n",
    "record = function(){\n",
    "    list(PRE_TOSSRSLT=TOSSRSLT, SURV=SURV, STAGE=STAGE, PLAYER=PLAYER) \n",
    "}\n",
    "go = function(){\n",
    "    PROB <<- 0.5+ (PLAYER=='A')*0.3\n",
    "    TOSSRSLT <<- toss(PROB) \n",
    "    if (TOSSRSLT==FALSE) SURV <<- SURV - 1 \n",
    "    STAGE <<- STAGE + 1 \n",
    "    PLAYER <<- ARR[SURV]    \n",
    "}\n",
    "gogo = function() for(i in 1:5) go()\n",
    "\n",
    "gogo_history = function(){\n",
    "    rslt_ = as_tibble(record()) ## go를 시작하기전의 결과가 티블로 만들어짐 \n",
    "    for(i in 1:5){\n",
    "        go()\n",
    "        rslt_ = rbind(rslt_, as_tibble(record())) \n",
    "    }\n",
    "    print(rslt_)\n",
    "}\n",
    "\n",
    "simulate_once = function(){\n",
    "    reset()\n",
    "    gogo()\n",
    "    return(record()$SURV )\n",
    "}\n",
    "\n",
    "### BODY\n",
    "simrslt = c() \n",
    "for (i in 1:100000) simrslt[i] = simulate_once() \n",
    "mean(simrslt)\n",
    "}"
   ]
  },
  {
   "cell_type": "code",
   "execution_count": null,
   "id": "b0f5e177-2c0b-4e71-ac03-26d7252fcace",
   "metadata": {},
   "outputs": [],
   "source": [
    "ls()"
   ]
  },
  {
   "cell_type": "code",
   "execution_count": null,
   "id": "a14dcad1-ea09-4475-b2c9-f700365c071f",
   "metadata": {},
   "outputs": [],
   "source": [
    "SIMULATE()"
   ]
  },
  {
   "cell_type": "code",
   "execution_count": null,
   "id": "97e18c07-fe42-4125-92a4-0eed45d04839",
   "metadata": {},
   "outputs": [],
   "source": [
    "ls()"
   ]
  }
 ],
 "metadata": {
  "kernelspec": {
   "display_name": "R",
   "language": "R",
   "name": "ir"
  },
  "language_info": {
   "codemirror_mode": "r",
   "file_extension": ".r",
   "mimetype": "text/x-r-source",
   "name": "R",
   "pygments_lexer": "r",
   "version": "4.1.1"
  },
  "widgets": {
   "application/vnd.jupyter.widget-state+json": {
    "state": {},
    "version_major": 2,
    "version_minor": 0
   }
  }
 },
 "nbformat": 4,
 "nbformat_minor": 5
}
