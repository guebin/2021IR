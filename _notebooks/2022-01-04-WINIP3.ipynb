{
 "cells": [
  {
   "cell_type": "markdown",
   "id": "adc89ed1-d3a8-44e3-bea5-11554f9a049e",
   "metadata": {},
   "source": [
    "# 파이썬입문 겨울방학 특강 (3)"
   ]
  },
  {
   "cell_type": "markdown",
   "id": "b1227dee-8a7c-4f50-a83a-451f941bd16b",
   "metadata": {},
   "source": [
    "### import "
   ]
  },
  {
   "cell_type": "code",
   "execution_count": 1,
   "id": "e6de1270-87c7-4c1a-a054-671cbf77d53f",
   "metadata": {},
   "outputs": [],
   "source": [
    "import numpy as np"
   ]
  },
  {
   "cell_type": "markdown",
   "id": "b1d58b88-2ee7-4a56-a1da-2af309f8e376",
   "metadata": {},
   "source": [
    "### numpy공부 1단계(복습)"
   ]
  },
  {
   "cell_type": "markdown",
   "id": "f24484ae-4a8d-4d13-b260-c3d3f6d6dd73",
   "metadata": {},
   "source": [
    "`-` 넘파이의 위력 "
   ]
  },
  {
   "cell_type": "code",
   "execution_count": 2,
   "id": "019395af-63ca-4f62-a00e-c26330c8046c",
   "metadata": {},
   "outputs": [],
   "source": [
    "l=[1,2,3]\n",
    "a=np.array(l) ## list()"
   ]
  },
  {
   "cell_type": "markdown",
   "id": "23a2e9df-b81e-4554-893e-9f1f206916fa",
   "metadata": {},
   "source": [
    "`-` 사칙연산 브로드캐스팅 "
   ]
  },
  {
   "cell_type": "code",
   "execution_count": 8,
   "id": "c9cd6f63-147e-4a90-9979-40aa291159b0",
   "metadata": {},
   "outputs": [
    {
     "data": {
      "text/plain": [
       "array([2, 3, 4])"
      ]
     },
     "execution_count": 8,
     "metadata": {},
     "output_type": "execute_result"
    }
   ],
   "source": [
    "a+1"
   ]
  },
  {
   "cell_type": "code",
   "execution_count": 9,
   "id": "cf4e5282-8fa6-4588-9aa3-7dd4cfc5fcc9",
   "metadata": {},
   "outputs": [
    {
     "ename": "TypeError",
     "evalue": "can only concatenate list (not \"int\") to list",
     "output_type": "error",
     "traceback": [
      "\u001b[0;31m---------------------------------------------------------------------------\u001b[0m",
      "\u001b[0;31mTypeError\u001b[0m                                 Traceback (most recent call last)",
      "\u001b[0;32m<ipython-input-9-558f50c77660>\u001b[0m in \u001b[0;36m<module>\u001b[0;34m\u001b[0m\n\u001b[0;32m----> 1\u001b[0;31m \u001b[0ml\u001b[0m\u001b[0;34m+\u001b[0m\u001b[0;36m1\u001b[0m\u001b[0;34m\u001b[0m\u001b[0;34m\u001b[0m\u001b[0m\n\u001b[0m",
      "\u001b[0;31mTypeError\u001b[0m: can only concatenate list (not \"int\") to list"
     ]
    }
   ],
   "source": [
    "l+1"
   ]
  },
  {
   "cell_type": "code",
   "execution_count": 10,
   "id": "92bb3367-4187-44e6-b64e-f7c0628b2ef2",
   "metadata": {},
   "outputs": [
    {
     "data": {
      "text/plain": [
       "array([2, 4, 6])"
      ]
     },
     "execution_count": 10,
     "metadata": {},
     "output_type": "execute_result"
    }
   ],
   "source": [
    "a*2"
   ]
  },
  {
   "cell_type": "code",
   "execution_count": 11,
   "id": "f3a7d64d-38c1-4d93-805c-6e0597ff596f",
   "metadata": {},
   "outputs": [
    {
     "data": {
      "text/plain": [
       "[1, 2, 3, 1, 2, 3]"
      ]
     },
     "execution_count": 11,
     "metadata": {},
     "output_type": "execute_result"
    }
   ],
   "source": [
    "l*2"
   ]
  },
  {
   "cell_type": "code",
   "execution_count": 12,
   "id": "9dad43bd-77d2-4271-8da3-c72aa6ca1006",
   "metadata": {},
   "outputs": [
    {
     "data": {
      "text/plain": [
       "array([-1,  0,  1])"
      ]
     },
     "execution_count": 12,
     "metadata": {},
     "output_type": "execute_result"
    }
   ],
   "source": [
    "a-2"
   ]
  },
  {
   "cell_type": "code",
   "execution_count": 13,
   "id": "2b2a0bbb-137e-4ef7-b67b-8e9e18d831ac",
   "metadata": {},
   "outputs": [
    {
     "ename": "TypeError",
     "evalue": "unsupported operand type(s) for -: 'list' and 'int'",
     "output_type": "error",
     "traceback": [
      "\u001b[0;31m---------------------------------------------------------------------------\u001b[0m",
      "\u001b[0;31mTypeError\u001b[0m                                 Traceback (most recent call last)",
      "\u001b[0;32m<ipython-input-13-a7ce880f546b>\u001b[0m in \u001b[0;36m<module>\u001b[0;34m\u001b[0m\n\u001b[0;32m----> 1\u001b[0;31m \u001b[0ml\u001b[0m\u001b[0;34m-\u001b[0m\u001b[0;36m2\u001b[0m\u001b[0;34m\u001b[0m\u001b[0;34m\u001b[0m\u001b[0m\n\u001b[0m",
      "\u001b[0;31mTypeError\u001b[0m: unsupported operand type(s) for -: 'list' and 'int'"
     ]
    }
   ],
   "source": [
    "l-2"
   ]
  },
  {
   "cell_type": "code",
   "execution_count": 14,
   "id": "a40bfe97-20ad-4c75-bce1-9966e2e4c735",
   "metadata": {},
   "outputs": [
    {
     "data": {
      "text/plain": [
       "array([0.5, 1. , 1.5])"
      ]
     },
     "execution_count": 14,
     "metadata": {},
     "output_type": "execute_result"
    }
   ],
   "source": [
    "a/2"
   ]
  },
  {
   "cell_type": "code",
   "execution_count": 15,
   "id": "41fa1e80-cd5d-4694-900e-32f8203ec2ea",
   "metadata": {},
   "outputs": [
    {
     "ename": "TypeError",
     "evalue": "unsupported operand type(s) for /: 'list' and 'int'",
     "output_type": "error",
     "traceback": [
      "\u001b[0;31m---------------------------------------------------------------------------\u001b[0m",
      "\u001b[0;31mTypeError\u001b[0m                                 Traceback (most recent call last)",
      "\u001b[0;32m<ipython-input-15-156c9f11ad90>\u001b[0m in \u001b[0;36m<module>\u001b[0;34m\u001b[0m\n\u001b[0;32m----> 1\u001b[0;31m \u001b[0ml\u001b[0m\u001b[0;34m/\u001b[0m\u001b[0;36m2\u001b[0m\u001b[0;34m\u001b[0m\u001b[0;34m\u001b[0m\u001b[0m\n\u001b[0m",
      "\u001b[0;31mTypeError\u001b[0m: unsupported operand type(s) for /: 'list' and 'int'"
     ]
    }
   ],
   "source": [
    "l/2"
   ]
  },
  {
   "cell_type": "markdown",
   "id": "795971aa-8c32-4eea-952a-44de4bafa285",
   "metadata": {},
   "source": [
    "`-` 기타수학연산가능 "
   ]
  },
  {
   "cell_type": "code",
   "execution_count": 18,
   "id": "df401f89-bc8b-4f0f-9d82-b5fa1347e483",
   "metadata": {},
   "outputs": [
    {
     "data": {
      "text/plain": [
       "(array([1.        , 1.41421356, 1.73205081]),\n",
       " array([1.        , 1.41421356, 1.73205081]))"
      ]
     },
     "execution_count": 18,
     "metadata": {},
     "output_type": "execute_result"
    }
   ],
   "source": [
    "np.sqrt(a), np.sqrt(l)"
   ]
  },
  {
   "cell_type": "code",
   "execution_count": 19,
   "id": "0bb82719-5efb-42ee-a899-f58c1fbccd95",
   "metadata": {},
   "outputs": [
    {
     "data": {
      "text/plain": [
       "(array([0.        , 0.69314718, 1.09861229]),\n",
       " array([0.        , 0.69314718, 1.09861229]))"
      ]
     },
     "execution_count": 19,
     "metadata": {},
     "output_type": "execute_result"
    }
   ],
   "source": [
    "np.log(a), np.log(l)"
   ]
  },
  {
   "cell_type": "markdown",
   "id": "97048171-2071-4e8b-a628-80a88af181e5",
   "metadata": {},
   "source": [
    "### numpy공부 2단계 "
   ]
  },
  {
   "cell_type": "markdown",
   "id": "03b1b8bf-71a9-4828-9bd1-5fab2e1e23f7",
   "metadata": {},
   "source": [
    "#### 연립1차방정식의 풀이 "
   ]
  },
  {
   "cell_type": "markdown",
   "id": "13668317-f43a-49d0-94b6-f1856a6dfa1b",
   "metadata": {},
   "source": [
    "`-` 아래의 연립방정식 고려 "
   ]
  },
  {
   "cell_type": "markdown",
   "id": "efd1bf34-f4b8-4bf3-96a5-884ad0dd2439",
   "metadata": {},
   "source": [
    "$\\begin{cases}\n",
    "x + y = 2 \\\\\n",
    "y + z = 2 \\\\ \n",
    "x + z = 2 \n",
    "\\end{cases}$"
   ]
  },
  {
   "cell_type": "markdown",
   "id": "ea04f828-ed02-4525-9049-e3dd2c2842b6",
   "metadata": {},
   "source": [
    "`-` 행렬표현은? "
   ]
  },
  {
   "cell_type": "markdown",
   "id": "077db1b1-2a7b-48ef-bf8b-54ae6ab5b2bb",
   "metadata": {},
   "source": [
    "$\\begin{bmatrix}\n",
    "1 &1& 0 \\\\ \n",
    "0 & 1 & 1 \\\\\n",
    "1 & 0 & 1 \n",
    "\\end{bmatrix} \n",
    "\\begin{bmatrix}\n",
    "x \\\\\n",
    "y \\\\\n",
    "z\n",
    "\\end{bmatrix}\n",
    "=\\begin{bmatrix}\n",
    "2 \\\\\n",
    "2 \\\\\n",
    "2 \n",
    "\\end{bmatrix}\n",
    "$"
   ]
  },
  {
   "cell_type": "code",
   "execution_count": 20,
   "id": "cd3b0470-0e03-4409-8129-91a7b3c2026c",
   "metadata": {},
   "outputs": [
    {
     "data": {
      "text/plain": [
       "[[1, 1, 0], [0, 1, 1], [1, 0, 1]]"
      ]
     },
     "execution_count": 20,
     "metadata": {},
     "output_type": "execute_result"
    }
   ],
   "source": [
    "A = [[1,1,0],[0,1,1],[1,0,1]] \n",
    "A"
   ]
  },
  {
   "cell_type": "code",
   "execution_count": 22,
   "id": "b75cbafb-0310-4be2-a6bb-4697c2a8ab66",
   "metadata": {},
   "outputs": [
    {
     "data": {
      "text/plain": [
       "array([[1, 1, 0],\n",
       "       [0, 1, 1],\n",
       "       [1, 0, 1]])"
      ]
     },
     "execution_count": 22,
     "metadata": {},
     "output_type": "execute_result"
    }
   ],
   "source": [
    "A2=np.array(A)\n",
    "A2"
   ]
  },
  {
   "cell_type": "markdown",
   "id": "ae9d041c-de67-489a-aaa4-5d6ff25440ee",
   "metadata": {},
   "source": [
    "`-` A의 원소인덱싱 "
   ]
  },
  {
   "cell_type": "code",
   "execution_count": 23,
   "id": "7c3be0c5-1ae3-4792-b66c-c699fb320268",
   "metadata": {},
   "outputs": [
    {
     "data": {
      "text/plain": [
       "(1, 1, 0)"
      ]
     },
     "execution_count": 23,
     "metadata": {},
     "output_type": "execute_result"
    }
   ],
   "source": [
    "A[0][0], A[0][1], A[0][2]"
   ]
  },
  {
   "cell_type": "code",
   "execution_count": 24,
   "id": "d12268a2-3933-4b96-9a68-b55963ac1ae3",
   "metadata": {},
   "outputs": [
    {
     "data": {
      "text/plain": [
       "(0, 1, 1)"
      ]
     },
     "execution_count": 24,
     "metadata": {},
     "output_type": "execute_result"
    }
   ],
   "source": [
    "A[1][0], A[1][1], A[1][2]"
   ]
  },
  {
   "cell_type": "code",
   "execution_count": 25,
   "id": "8cce425d-7d33-46e2-b680-02820f278a4e",
   "metadata": {},
   "outputs": [
    {
     "data": {
      "text/plain": [
       "(1, 0, 1)"
      ]
     },
     "execution_count": 25,
     "metadata": {},
     "output_type": "execute_result"
    }
   ],
   "source": [
    "A[2][0], A[2][1], A[2][2]"
   ]
  },
  {
   "cell_type": "markdown",
   "id": "7b784012-aaf7-470d-bad1-878aa84a2943",
   "metadata": {},
   "source": [
    "`-` A2에서의 원소인덱싱 "
   ]
  },
  {
   "cell_type": "code",
   "execution_count": 28,
   "id": "084142b5-4c9c-49ef-ac53-726ba213766f",
   "metadata": {},
   "outputs": [
    {
     "data": {
      "text/plain": [
       "(1, 1, 0)"
      ]
     },
     "execution_count": 28,
     "metadata": {},
     "output_type": "execute_result"
    }
   ],
   "source": [
    "A2[0][0], A2[0][1], A2[0][2]"
   ]
  },
  {
   "cell_type": "code",
   "execution_count": 29,
   "id": "5b29272f-8bf4-4a29-b061-e3afbe8634ce",
   "metadata": {},
   "outputs": [
    {
     "data": {
      "text/plain": [
       "(0, 1, 1)"
      ]
     },
     "execution_count": 29,
     "metadata": {},
     "output_type": "execute_result"
    }
   ],
   "source": [
    "A2[1][0], A2[1][1], A2[1][2]"
   ]
  },
  {
   "cell_type": "code",
   "execution_count": 30,
   "id": "8d00cca6-d484-4f52-b0eb-e28fc121aa3c",
   "metadata": {},
   "outputs": [
    {
     "data": {
      "text/plain": [
       "(1, 0, 1)"
      ]
     },
     "execution_count": 30,
     "metadata": {},
     "output_type": "execute_result"
    }
   ],
   "source": [
    "A2[2][0], A2[2][1], A2[2][2]"
   ]
  },
  {
   "cell_type": "markdown",
   "id": "c2951457-ea47-4baf-80e7-a24e97909bae",
   "metadata": {},
   "source": [
    "`-` A2에서의 원소에 접근하는 또다른 방법 (numpy 신기술)"
   ]
  },
  {
   "cell_type": "code",
   "execution_count": 33,
   "id": "cef47325-c63e-4a2f-b491-b78f0982ca74",
   "metadata": {},
   "outputs": [
    {
     "data": {
      "text/plain": [
       "(1, 1, 0)"
      ]
     },
     "execution_count": 33,
     "metadata": {},
     "output_type": "execute_result"
    }
   ],
   "source": [
    "A2[0,0], A2[0,1], A2[0,2]"
   ]
  },
  {
   "cell_type": "code",
   "execution_count": 34,
   "id": "baf2f5c6-6378-4e8d-a218-b355373d44c5",
   "metadata": {},
   "outputs": [
    {
     "data": {
      "text/plain": [
       "(0, 1, 1)"
      ]
     },
     "execution_count": 34,
     "metadata": {},
     "output_type": "execute_result"
    }
   ],
   "source": [
    "A2[1,0], A2[1,1], A2[1,2]"
   ]
  },
  {
   "cell_type": "code",
   "execution_count": 35,
   "id": "4dbd81a6-c542-4533-9708-38af955b1b42",
   "metadata": {},
   "outputs": [
    {
     "data": {
      "text/plain": [
       "(1, 0, 1)"
      ]
     },
     "execution_count": 35,
     "metadata": {},
     "output_type": "execute_result"
    }
   ],
   "source": [
    "A2[2,0], A2[2,1], A2[2,2]"
   ]
  },
  {
   "cell_type": "markdown",
   "id": "4f25f0bf-7091-4dc7-ad1b-531bb311d3b1",
   "metadata": {},
   "source": [
    "`-` 슬라이싱!"
   ]
  },
  {
   "cell_type": "code",
   "execution_count": 37,
   "id": "39ec9565-f615-42b1-810e-80eb30863a6c",
   "metadata": {},
   "outputs": [
    {
     "data": {
      "text/plain": [
       "array([1, 1, 0])"
      ]
     },
     "execution_count": 37,
     "metadata": {},
     "output_type": "execute_result"
    }
   ],
   "source": [
    "A2[0,:] ## R의 경우라면 A2[0,]"
   ]
  },
  {
   "cell_type": "code",
   "execution_count": 38,
   "id": "ffa1a9c9-799e-41f9-a834-018c7b4b3235",
   "metadata": {},
   "outputs": [
    {
     "data": {
      "text/plain": [
       "array([0, 1, 1])"
      ]
     },
     "execution_count": 38,
     "metadata": {},
     "output_type": "execute_result"
    }
   ],
   "source": [
    "A2[1,:] "
   ]
  },
  {
   "cell_type": "code",
   "execution_count": 39,
   "id": "82bdcd50-47a7-4ba0-95b1-516f68fe9811",
   "metadata": {},
   "outputs": [
    {
     "data": {
      "text/plain": [
       "array([1, 0, 1])"
      ]
     },
     "execution_count": 39,
     "metadata": {},
     "output_type": "execute_result"
    }
   ],
   "source": [
    "A2[2,:] "
   ]
  },
  {
   "cell_type": "markdown",
   "id": "a75904cb-aa27-4da8-9e41-283be868456f",
   "metadata": {},
   "source": [
    "`-` 연립방정식 문제를 다시 풀어보자. "
   ]
  },
  {
   "cell_type": "markdown",
   "id": "1c82c47c-8c1e-48dd-94d3-288e0bf584fe",
   "metadata": {},
   "source": [
    "$\\begin{bmatrix}\n",
    "1 & 1 & 0 \\\\ \n",
    "0 & 1 & 1 \\\\\n",
    "1 & 0 & 1 \n",
    "\\end{bmatrix} \n",
    "\\begin{bmatrix}\n",
    "x_1 \\\\\n",
    "x_2 \\\\\n",
    "x_3\n",
    "\\end{bmatrix}\n",
    "=\\begin{bmatrix}\n",
    "2 \\\\\n",
    "2 \\\\\n",
    "2 \n",
    "\\end{bmatrix}\n",
    "\\quad \\Longleftrightarrow \\quad {\\bf A} {\\bf x} = {\\bf b}\n",
    "$"
   ]
  },
  {
   "cell_type": "code",
   "execution_count": 41,
   "id": "32d77809-6b7f-4e58-aa56-bfea51552110",
   "metadata": {},
   "outputs": [],
   "source": [
    "b=np.array([2,2,2])"
   ]
  },
  {
   "cell_type": "code",
   "execution_count": 46,
   "id": "29ff861b-3540-42e3-b50b-729b8a208e56",
   "metadata": {},
   "outputs": [
    {
     "data": {
      "text/plain": [
       "array([1., 1., 1.])"
      ]
     },
     "execution_count": 46,
     "metadata": {},
     "output_type": "execute_result"
    }
   ],
   "source": [
    "np.linalg.inv(A2) @ b ## R로 치면 solve(A2) %*% b "
   ]
  },
  {
   "cell_type": "markdown",
   "id": "3e325fc9-bddc-4a8e-bd83-af0a6602e50b",
   "metadata": {},
   "source": [
    "#### 인덱싱 "
   ]
  },
  {
   "cell_type": "markdown",
   "id": "0ba57dcd-7fe5-42f1-bd29-a426f257b66b",
   "metadata": {},
   "source": [
    "`-` 선언 "
   ]
  },
  {
   "cell_type": "code",
   "execution_count": 48,
   "id": "ffff0bdc-88a4-4d57-934f-770b69fc06e9",
   "metadata": {},
   "outputs": [
    {
     "data": {
      "text/plain": [
       "array([11, 22, 33, 44, 55, 66])"
      ]
     },
     "execution_count": 48,
     "metadata": {},
     "output_type": "execute_result"
    }
   ],
   "source": [
    "l=[11,22,33,44,55,66] \n",
    "a=np.array(l)\n",
    "a"
   ]
  },
  {
   "cell_type": "markdown",
   "id": "de40a25c-09a7-4c8b-a58b-0d8c2f94397d",
   "metadata": {},
   "source": [
    "`-` 인덱스로 접근 "
   ]
  },
  {
   "cell_type": "code",
   "execution_count": 51,
   "id": "7c4ef528-f9a9-4fff-8c2f-cd30603f207f",
   "metadata": {},
   "outputs": [
    {
     "data": {
      "text/plain": [
       "(11, 22, 33, 44, 55, 66)"
      ]
     },
     "execution_count": 51,
     "metadata": {},
     "output_type": "execute_result"
    }
   ],
   "source": [
    "l[0],l[1],l[2],l[3],l[4],l[5]"
   ]
  },
  {
   "cell_type": "code",
   "execution_count": 52,
   "id": "6925e45f-7a4b-42a8-882d-f31ab40ddadc",
   "metadata": {},
   "outputs": [
    {
     "data": {
      "text/plain": [
       "(11, 22, 33, 44, 55, 66)"
      ]
     },
     "execution_count": 52,
     "metadata": {},
     "output_type": "execute_result"
    }
   ],
   "source": [
    "a[0],a[1],a[2],a[3],a[4],a[5]"
   ]
  },
  {
   "cell_type": "markdown",
   "id": "558a0ad4-f12e-49f0-a9cb-fd228c840540",
   "metadata": {},
   "source": [
    "`-` `:` 이용 (슬라이싱) "
   ]
  },
  {
   "cell_type": "code",
   "execution_count": 54,
   "id": "92d10fa0-4bce-44e0-bc2e-b8721c15d958",
   "metadata": {},
   "outputs": [
    {
     "data": {
      "text/plain": [
       "[33, 44]"
      ]
     },
     "execution_count": 54,
     "metadata": {},
     "output_type": "execute_result"
    }
   ],
   "source": [
    "l[2:4] # index=2, index=3 (4는 포함되지 않음) "
   ]
  },
  {
   "cell_type": "code",
   "execution_count": 55,
   "id": "0b477b52-3b3c-4b51-8e1a-1d23ce2b4ad9",
   "metadata": {},
   "outputs": [
    {
     "data": {
      "text/plain": [
       "array([33, 44])"
      ]
     },
     "execution_count": 55,
     "metadata": {},
     "output_type": "execute_result"
    }
   ],
   "source": [
    "a[2:4]"
   ]
  },
  {
   "cell_type": "markdown",
   "id": "806086bc-fb44-4a8d-a817-fd08729c5e89",
   "metadata": {},
   "source": [
    "너무 헷갈림.. 특히 마지막 원소를 포함해야할때!"
   ]
  },
  {
   "cell_type": "code",
   "execution_count": 59,
   "id": "8572ba5c-7879-4b1a-9839-c6c64d4e98e0",
   "metadata": {},
   "outputs": [
    {
     "data": {
      "text/plain": [
       "[33, 44, 55, 66]"
      ]
     },
     "execution_count": 59,
     "metadata": {},
     "output_type": "execute_result"
    }
   ],
   "source": [
    "l[2:6]"
   ]
  },
  {
   "cell_type": "code",
   "execution_count": 60,
   "id": "18fbc683-20fb-443e-b883-f5ed52caf9aa",
   "metadata": {},
   "outputs": [
    {
     "data": {
      "text/plain": [
       "array([33, 44, 55, 66])"
      ]
     },
     "execution_count": 60,
     "metadata": {},
     "output_type": "execute_result"
    }
   ],
   "source": [
    "a[2:6]"
   ]
  },
  {
   "cell_type": "markdown",
   "id": "6ba21c7e-f859-4e75-8721-f98a99a84bbf",
   "metadata": {},
   "source": [
    "다행스럽게도 마지막의 6은 생략가능하다. 따라서 보통 아래와 같이 쓴다. "
   ]
  },
  {
   "cell_type": "code",
   "execution_count": 61,
   "id": "575998ce-03d8-4107-a3f8-db5675908a1d",
   "metadata": {},
   "outputs": [
    {
     "data": {
      "text/plain": [
       "[33, 44, 55, 66]"
      ]
     },
     "execution_count": 61,
     "metadata": {},
     "output_type": "execute_result"
    }
   ],
   "source": [
    "l[2:]"
   ]
  },
  {
   "cell_type": "code",
   "execution_count": 62,
   "id": "8695727c-56ed-4c1c-bf03-10cc20ac5a91",
   "metadata": {},
   "outputs": [
    {
     "data": {
      "text/plain": [
       "array([33, 44, 55, 66])"
      ]
     },
     "execution_count": 62,
     "metadata": {},
     "output_type": "execute_result"
    }
   ],
   "source": [
    "a[2:]"
   ]
  },
  {
   "cell_type": "markdown",
   "id": "20f5d0a5-12fb-41ec-8211-09777ca5b468",
   "metadata": {},
   "source": [
    "동일한 논리로 처음 인덱스도 생략가능하다. "
   ]
  },
  {
   "cell_type": "code",
   "execution_count": 64,
   "id": "b7526679-c858-44e7-a296-15c3f0753750",
   "metadata": {},
   "outputs": [
    {
     "data": {
      "text/plain": [
       "(array([11, 22, 33]), array([11, 22, 33]))"
      ]
     },
     "execution_count": 64,
     "metadata": {},
     "output_type": "execute_result"
    }
   ],
   "source": [
    "a[0:3], a[:3]"
   ]
  },
  {
   "cell_type": "markdown",
   "id": "51d114dd-7707-4f5c-94f0-b09bcedd422e",
   "metadata": {},
   "source": [
    "처음과 마지막을 둘다 생략한다면? "
   ]
  },
  {
   "cell_type": "code",
   "execution_count": 65,
   "id": "19ed36e3-d87d-4a65-8f38-125814d20e84",
   "metadata": {},
   "outputs": [
    {
     "data": {
      "text/plain": [
       "array([11, 22, 33, 44, 55, 66])"
      ]
     },
     "execution_count": 65,
     "metadata": {},
     "output_type": "execute_result"
    }
   ],
   "source": [
    "a[:]"
   ]
  },
  {
   "cell_type": "markdown",
   "id": "e23946df-f677-4ba0-9790-dcfdf5035025",
   "metadata": {},
   "source": [
    "`-` 부울값을 이용한 인덱싱 "
   ]
  },
  {
   "cell_type": "code",
   "execution_count": 66,
   "id": "a2f68d84-aba8-48d4-9bd8-571fe95869f2",
   "metadata": {},
   "outputs": [
    {
     "data": {
      "text/plain": [
       "array([11, 22, 33, 44, 55, 66])"
      ]
     },
     "execution_count": 66,
     "metadata": {},
     "output_type": "execute_result"
    }
   ],
   "source": [
    "l=[11,22,33,44,55,66] \n",
    "a=np.array(l)\n",
    "a"
   ]
  },
  {
   "cell_type": "code",
   "execution_count": 68,
   "id": "bde67d49-0afb-4019-a277-582d8b64615e",
   "metadata": {},
   "outputs": [
    {
     "data": {
      "text/plain": [
       "array([22, 44, 66])"
      ]
     },
     "execution_count": 68,
     "metadata": {},
     "output_type": "execute_result"
    }
   ],
   "source": [
    "a[ [False, True, False, True, False, True] ]"
   ]
  },
  {
   "cell_type": "code",
   "execution_count": 69,
   "id": "f151ab04-7f57-4468-9da6-c58a7d7591d6",
   "metadata": {},
   "outputs": [
    {
     "data": {
      "text/plain": [
       "array([ True,  True, False, False, False, False])"
      ]
     },
     "execution_count": 69,
     "metadata": {},
     "output_type": "execute_result"
    }
   ],
   "source": [
    "a<33"
   ]
  },
  {
   "cell_type": "code",
   "execution_count": 70,
   "id": "fa4b2313-2c60-42fd-8db7-6f2d01366325",
   "metadata": {},
   "outputs": [
    {
     "data": {
      "text/plain": [
       "array([11, 22])"
      ]
     },
     "execution_count": 70,
     "metadata": {},
     "output_type": "execute_result"
    }
   ],
   "source": [
    "a[a<33]"
   ]
  },
  {
   "cell_type": "markdown",
   "id": "58dc007b-9422-4ff1-a399-a7cd28184ae8",
   "metadata": {},
   "source": [
    "리스트는 안된다. "
   ]
  },
  {
   "cell_type": "code",
   "execution_count": 74,
   "id": "92d9545b-3438-4ec4-8d6f-489194855ad5",
   "metadata": {},
   "outputs": [
    {
     "ename": "TypeError",
     "evalue": "'<' not supported between instances of 'list' and 'int'",
     "output_type": "error",
     "traceback": [
      "\u001b[0;31m---------------------------------------------------------------------------\u001b[0m",
      "\u001b[0;31mTypeError\u001b[0m                                 Traceback (most recent call last)",
      "\u001b[0;32m<ipython-input-74-0617af835ebc>\u001b[0m in \u001b[0;36m<module>\u001b[0;34m\u001b[0m\n\u001b[0;32m----> 1\u001b[0;31m \u001b[0ml\u001b[0m\u001b[0;34m<\u001b[0m\u001b[0;36m33\u001b[0m \u001b[0;31m## 일단 여기서 막힘\u001b[0m\u001b[0;34m\u001b[0m\u001b[0;34m\u001b[0m\u001b[0m\n\u001b[0m",
      "\u001b[0;31mTypeError\u001b[0m: '<' not supported between instances of 'list' and 'int'"
     ]
    }
   ],
   "source": [
    "l<33 ## 일단 여기서 막힘 "
   ]
  },
  {
   "cell_type": "markdown",
   "id": "c122f199-bdaa-481f-9c46-bfef957a457d",
   "metadata": {},
   "source": [
    "#### reshape "
   ]
  },
  {
   "cell_type": "markdown",
   "id": "ead74d98-e1ac-4a21-8164-1aae0b79423f",
   "metadata": {},
   "source": [
    "`-` reshape "
   ]
  },
  {
   "cell_type": "code",
   "execution_count": 75,
   "id": "35266bb7-d6ed-4c48-ae18-56f3b9452823",
   "metadata": {},
   "outputs": [
    {
     "data": {
      "text/plain": [
       "array([11, 22, 33, 44, 55, 66])"
      ]
     },
     "execution_count": 75,
     "metadata": {},
     "output_type": "execute_result"
    }
   ],
   "source": [
    "l = [11,22,33,44,55,66]\n",
    "a = np.array(l)\n",
    "a"
   ]
  },
  {
   "cell_type": "code",
   "execution_count": 76,
   "id": "61e3c173-bce4-4634-a2c2-dca8307c4c5f",
   "metadata": {},
   "outputs": [
    {
     "data": {
      "text/plain": [
       "array([[11, 22, 33],\n",
       "       [44, 55, 66]])"
      ]
     },
     "execution_count": 76,
     "metadata": {},
     "output_type": "execute_result"
    }
   ],
   "source": [
    "a.reshape(2,3)"
   ]
  },
  {
   "cell_type": "code",
   "execution_count": 78,
   "id": "1bf01e8d-959a-4da6-a92c-761819503839",
   "metadata": {},
   "outputs": [
    {
     "data": {
      "text/plain": [
       "array([11, 22, 33, 44, 55, 66])"
      ]
     },
     "execution_count": 78,
     "metadata": {},
     "output_type": "execute_result"
    }
   ],
   "source": [
    "a ## reshape은 a자체가 변화하지 않음 "
   ]
  },
  {
   "cell_type": "code",
   "execution_count": 79,
   "id": "93b72bb0-2584-4d95-a0ee-1eef887a9638",
   "metadata": {},
   "outputs": [
    {
     "data": {
      "text/plain": [
       "array([[11, 22, 33],\n",
       "       [44, 55, 66]])"
      ]
     },
     "execution_count": 79,
     "metadata": {},
     "output_type": "execute_result"
    }
   ],
   "source": [
    "b = a.reshape(2,3)\n",
    "b"
   ]
  },
  {
   "cell_type": "markdown",
   "id": "b8d74a00-07ea-4387-b263-8c8dfab6e8ee",
   "metadata": {},
   "source": [
    "`-` b를 다시 a처럼 바꾸고 싶다면? "
   ]
  },
  {
   "cell_type": "code",
   "execution_count": 80,
   "id": "2fa9550e-7f26-4503-8231-70f535f40364",
   "metadata": {},
   "outputs": [
    {
     "data": {
      "text/plain": [
       "array([11, 22, 33, 44, 55, 66])"
      ]
     },
     "execution_count": 80,
     "metadata": {},
     "output_type": "execute_result"
    }
   ],
   "source": [
    "b.reshape(6)"
   ]
  },
  {
   "cell_type": "code",
   "execution_count": 81,
   "id": "1d305517-97b1-4303-bb63-7588b71e0d11",
   "metadata": {},
   "outputs": [
    {
     "data": {
      "text/plain": [
       "array([11, 22, 33, 44, 55, 66])"
      ]
     },
     "execution_count": 81,
     "metadata": {},
     "output_type": "execute_result"
    }
   ],
   "source": [
    "b.flatten()"
   ]
  },
  {
   "cell_type": "code",
   "execution_count": 85,
   "id": "30c37c4f-9e36-4789-b533-28c9786a2c8d",
   "metadata": {},
   "outputs": [
    {
     "data": {
      "text/plain": [
       "array([11, 22, 33, 44, 55, 66])"
      ]
     },
     "execution_count": 85,
     "metadata": {},
     "output_type": "execute_result"
    }
   ],
   "source": [
    "b.ravel()"
   ]
  },
  {
   "cell_type": "code",
   "execution_count": 84,
   "id": "85e9ed20-d290-4e3f-8f82-6670f935eec1",
   "metadata": {},
   "outputs": [
    {
     "data": {
      "text/plain": [
       "array([11, 22, 33, 44, 55, 66])"
      ]
     },
     "execution_count": 84,
     "metadata": {},
     "output_type": "execute_result"
    }
   ],
   "source": [
    "b.reshape(-1)"
   ]
  }
 ],
 "metadata": {
  "kernelspec": {
   "display_name": "Python 3",
   "language": "python",
   "name": "python3"
  },
  "language_info": {
   "codemirror_mode": {
    "name": "ipython",
    "version": 3
   },
   "file_extension": ".py",
   "mimetype": "text/x-python",
   "name": "python",
   "nbconvert_exporter": "python",
   "pygments_lexer": "ipython3",
   "version": "3.9.7"
  },
  "widgets": {
   "application/vnd.jupyter.widget-state+json": {
    "state": {},
    "version_major": 2,
    "version_minor": 0
   }
  }
 },
 "nbformat": 4,
 "nbformat_minor": 5
}
