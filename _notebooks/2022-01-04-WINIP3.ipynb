{
 "cells": [
  {
   "cell_type": "markdown",
   "id": "adc89ed1-d3a8-44e3-bea5-11554f9a049e",
   "metadata": {},
   "source": [
    "# 파이썬입문 겨울방학 특강 (3)"
   ]
  },
  {
   "cell_type": "markdown",
   "id": "b1227dee-8a7c-4f50-a83a-451f941bd16b",
   "metadata": {},
   "source": [
    "### import "
   ]
  },
  {
   "cell_type": "code",
   "execution_count": 1,
   "id": "e6de1270-87c7-4c1a-a054-671cbf77d53f",
   "metadata": {},
   "outputs": [],
   "source": [
    "import numpy as np"
   ]
  },
  {
   "cell_type": "markdown",
   "id": "b1d58b88-2ee7-4a56-a1da-2af309f8e376",
   "metadata": {},
   "source": [
    "### numpy공부 1단계(복습)"
   ]
  },
  {
   "cell_type": "markdown",
   "id": "f24484ae-4a8d-4d13-b260-c3d3f6d6dd73",
   "metadata": {},
   "source": [
    "`-` 넘파이의 위력 "
   ]
  },
  {
   "cell_type": "code",
   "execution_count": 2,
   "id": "019395af-63ca-4f62-a00e-c26330c8046c",
   "metadata": {},
   "outputs": [],
   "source": [
    "l=[1,2,3]\n",
    "a=np.array(l) ## list()"
   ]
  },
  {
   "cell_type": "markdown",
   "id": "23a2e9df-b81e-4554-893e-9f1f206916fa",
   "metadata": {},
   "source": [
    "`-` 사칙연산 브로드캐스팅 "
   ]
  },
  {
   "cell_type": "code",
   "execution_count": 8,
   "id": "c9cd6f63-147e-4a90-9979-40aa291159b0",
   "metadata": {},
   "outputs": [
    {
     "data": {
      "text/plain": [
       "array([2, 3, 4])"
      ]
     },
     "execution_count": 8,
     "metadata": {},
     "output_type": "execute_result"
    }
   ],
   "source": [
    "a+1"
   ]
  },
  {
   "cell_type": "code",
   "execution_count": 9,
   "id": "cf4e5282-8fa6-4588-9aa3-7dd4cfc5fcc9",
   "metadata": {},
   "outputs": [
    {
     "ename": "TypeError",
     "evalue": "can only concatenate list (not \"int\") to list",
     "output_type": "error",
     "traceback": [
      "\u001b[0;31m---------------------------------------------------------------------------\u001b[0m",
      "\u001b[0;31mTypeError\u001b[0m                                 Traceback (most recent call last)",
      "\u001b[0;32m<ipython-input-9-558f50c77660>\u001b[0m in \u001b[0;36m<module>\u001b[0;34m\u001b[0m\n\u001b[0;32m----> 1\u001b[0;31m \u001b[0ml\u001b[0m\u001b[0;34m+\u001b[0m\u001b[0;36m1\u001b[0m\u001b[0;34m\u001b[0m\u001b[0;34m\u001b[0m\u001b[0m\n\u001b[0m",
      "\u001b[0;31mTypeError\u001b[0m: can only concatenate list (not \"int\") to list"
     ]
    }
   ],
   "source": [
    "l+1"
   ]
  },
  {
   "cell_type": "code",
   "execution_count": 10,
   "id": "92bb3367-4187-44e6-b64e-f7c0628b2ef2",
   "metadata": {},
   "outputs": [
    {
     "data": {
      "text/plain": [
       "array([2, 4, 6])"
      ]
     },
     "execution_count": 10,
     "metadata": {},
     "output_type": "execute_result"
    }
   ],
   "source": [
    "a*2"
   ]
  },
  {
   "cell_type": "code",
   "execution_count": 11,
   "id": "f3a7d64d-38c1-4d93-805c-6e0597ff596f",
   "metadata": {},
   "outputs": [
    {
     "data": {
      "text/plain": [
       "[1, 2, 3, 1, 2, 3]"
      ]
     },
     "execution_count": 11,
     "metadata": {},
     "output_type": "execute_result"
    }
   ],
   "source": [
    "l*2"
   ]
  },
  {
   "cell_type": "code",
   "execution_count": 12,
   "id": "9dad43bd-77d2-4271-8da3-c72aa6ca1006",
   "metadata": {},
   "outputs": [
    {
     "data": {
      "text/plain": [
       "array([-1,  0,  1])"
      ]
     },
     "execution_count": 12,
     "metadata": {},
     "output_type": "execute_result"
    }
   ],
   "source": [
    "a-2"
   ]
  },
  {
   "cell_type": "code",
   "execution_count": 13,
   "id": "2b2a0bbb-137e-4ef7-b67b-8e9e18d831ac",
   "metadata": {},
   "outputs": [
    {
     "ename": "TypeError",
     "evalue": "unsupported operand type(s) for -: 'list' and 'int'",
     "output_type": "error",
     "traceback": [
      "\u001b[0;31m---------------------------------------------------------------------------\u001b[0m",
      "\u001b[0;31mTypeError\u001b[0m                                 Traceback (most recent call last)",
      "\u001b[0;32m<ipython-input-13-a7ce880f546b>\u001b[0m in \u001b[0;36m<module>\u001b[0;34m\u001b[0m\n\u001b[0;32m----> 1\u001b[0;31m \u001b[0ml\u001b[0m\u001b[0;34m-\u001b[0m\u001b[0;36m2\u001b[0m\u001b[0;34m\u001b[0m\u001b[0;34m\u001b[0m\u001b[0m\n\u001b[0m",
      "\u001b[0;31mTypeError\u001b[0m: unsupported operand type(s) for -: 'list' and 'int'"
     ]
    }
   ],
   "source": [
    "l-2"
   ]
  },
  {
   "cell_type": "code",
   "execution_count": 14,
   "id": "a40bfe97-20ad-4c75-bce1-9966e2e4c735",
   "metadata": {},
   "outputs": [
    {
     "data": {
      "text/plain": [
       "array([0.5, 1. , 1.5])"
      ]
     },
     "execution_count": 14,
     "metadata": {},
     "output_type": "execute_result"
    }
   ],
   "source": [
    "a/2"
   ]
  },
  {
   "cell_type": "code",
   "execution_count": 15,
   "id": "41fa1e80-cd5d-4694-900e-32f8203ec2ea",
   "metadata": {},
   "outputs": [
    {
     "ename": "TypeError",
     "evalue": "unsupported operand type(s) for /: 'list' and 'int'",
     "output_type": "error",
     "traceback": [
      "\u001b[0;31m---------------------------------------------------------------------------\u001b[0m",
      "\u001b[0;31mTypeError\u001b[0m                                 Traceback (most recent call last)",
      "\u001b[0;32m<ipython-input-15-156c9f11ad90>\u001b[0m in \u001b[0;36m<module>\u001b[0;34m\u001b[0m\n\u001b[0;32m----> 1\u001b[0;31m \u001b[0ml\u001b[0m\u001b[0;34m/\u001b[0m\u001b[0;36m2\u001b[0m\u001b[0;34m\u001b[0m\u001b[0;34m\u001b[0m\u001b[0m\n\u001b[0m",
      "\u001b[0;31mTypeError\u001b[0m: unsupported operand type(s) for /: 'list' and 'int'"
     ]
    }
   ],
   "source": [
    "l/2"
   ]
  },
  {
   "cell_type": "markdown",
   "id": "795971aa-8c32-4eea-952a-44de4bafa285",
   "metadata": {},
   "source": [
    "`-` 기타수학연산가능 "
   ]
  },
  {
   "cell_type": "code",
   "execution_count": 18,
   "id": "df401f89-bc8b-4f0f-9d82-b5fa1347e483",
   "metadata": {},
   "outputs": [
    {
     "data": {
      "text/plain": [
       "(array([1.        , 1.41421356, 1.73205081]),\n",
       " array([1.        , 1.41421356, 1.73205081]))"
      ]
     },
     "execution_count": 18,
     "metadata": {},
     "output_type": "execute_result"
    }
   ],
   "source": [
    "np.sqrt(a), np.sqrt(l)"
   ]
  },
  {
   "cell_type": "code",
   "execution_count": 19,
   "id": "0bb82719-5efb-42ee-a899-f58c1fbccd95",
   "metadata": {},
   "outputs": [
    {
     "data": {
      "text/plain": [
       "(array([0.        , 0.69314718, 1.09861229]),\n",
       " array([0.        , 0.69314718, 1.09861229]))"
      ]
     },
     "execution_count": 19,
     "metadata": {},
     "output_type": "execute_result"
    }
   ],
   "source": [
    "np.log(a), np.log(l)"
   ]
  },
  {
   "cell_type": "markdown",
   "id": "97048171-2071-4e8b-a628-80a88af181e5",
   "metadata": {},
   "source": [
    "### numpy공부 2단계 "
   ]
  },
  {
   "cell_type": "markdown",
   "id": "13668317-f43a-49d0-94b6-f1856a6dfa1b",
   "metadata": {},
   "source": [
    "`-` 아래의 연립방정식 고려 "
   ]
  },
  {
   "cell_type": "markdown",
   "id": "efd1bf34-f4b8-4bf3-96a5-884ad0dd2439",
   "metadata": {},
   "source": [
    "$\\begin{cases}\n",
    "x + y = 2 \\\\\n",
    "y + z = 2 \\\\ \n",
    "x + z = 2 \n",
    "\\end{cases}$"
   ]
  },
  {
   "cell_type": "markdown",
   "id": "ea04f828-ed02-4525-9049-e3dd2c2842b6",
   "metadata": {},
   "source": [
    "`-` 행렬표현은? "
   ]
  },
  {
   "cell_type": "markdown",
   "id": "077db1b1-2a7b-48ef-bf8b-54ae6ab5b2bb",
   "metadata": {},
   "source": [
    "$\\begin{bmatrix}\n",
    "1 &1& 0 \\\\ \n",
    "0 & 1 & 1 \\\\\n",
    "1 & 0 & 1 \n",
    "\\end{bmatrix} \n",
    "\\begin{bmatrix}\n",
    "x \\\\\n",
    "y \\\\\n",
    "z \n",
    "\\end{bmatrix}\n",
    "=\n",
    "\\begin{bmatrix}\n",
    "2 \\\\\n",
    "2 \\\\\n",
    "2 \n",
    "\\end{bmatrix}\n",
    "$"
   ]
  },
  {
   "cell_type": "code",
   "execution_count": 20,
   "id": "cd3b0470-0e03-4409-8129-91a7b3c2026c",
   "metadata": {},
   "outputs": [
    {
     "data": {
      "text/plain": [
       "[[1, 1, 0], [0, 1, 1], [1, 0, 1]]"
      ]
     },
     "execution_count": 20,
     "metadata": {},
     "output_type": "execute_result"
    }
   ],
   "source": [
    "A = [[1,1,0],[0,1,1],[1,0,1]] \n",
    "A"
   ]
  },
  {
   "cell_type": "code",
   "execution_count": 22,
   "id": "b75cbafb-0310-4be2-a6bb-4697c2a8ab66",
   "metadata": {},
   "outputs": [
    {
     "data": {
      "text/plain": [
       "array([[1, 1, 0],\n",
       "       [0, 1, 1],\n",
       "       [1, 0, 1]])"
      ]
     },
     "execution_count": 22,
     "metadata": {},
     "output_type": "execute_result"
    }
   ],
   "source": [
    "A2=np.array(A)\n",
    "A2"
   ]
  },
  {
   "cell_type": "markdown",
   "id": "ae9d041c-de67-489a-aaa4-5d6ff25440ee",
   "metadata": {},
   "source": [
    "`-` "
   ]
  },
  {
   "cell_type": "code",
   "execution_count": null,
   "id": "7c3be0c5-1ae3-4792-b66c-c699fb320268",
   "metadata": {},
   "outputs": [],
   "source": []
  }
 ],
 "metadata": {
  "kernelspec": {
   "display_name": "Python 3",
   "language": "python",
   "name": "python3"
  },
  "language_info": {
   "codemirror_mode": {
    "name": "ipython",
    "version": 3
   },
   "file_extension": ".py",
   "mimetype": "text/x-python",
   "name": "python",
   "nbconvert_exporter": "python",
   "pygments_lexer": "ipython3",
   "version": "3.9.7"
  },
  "widgets": {
   "application/vnd.jupyter.widget-state+json": {
    "state": {},
    "version_major": 2,
    "version_minor": 0
   }
  }
 },
 "nbformat": 4,
 "nbformat_minor": 5
}
